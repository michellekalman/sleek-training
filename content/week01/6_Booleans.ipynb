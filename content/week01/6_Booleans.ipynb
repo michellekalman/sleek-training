{
  "cells": [
    {
      "cell_type": "markdown",
      "metadata": {
        "id": "bpHDKwvHSrA_"
      },
      "source": [
        "<img src=\"https://github.com/PythonFreeCourse/Notebooks/blob/main/content/week01/images/logo.jpg?raw=1\" style=\"display: block; margin-left: auto; margin-right: auto;\" alt=\"לוגו של מיזם לימוד הפייתון. נחש מצויר בצבעי צהוב וכחול, הנע בין האותיות של שם הקורס: לומדים פייתון. הסלוגן המופיע מעל לשם הקורס הוא מיזם חינמי ללימוד תכנות בעברית.\">"
      ]
    },
    {
      "cell_type": "markdown",
      "metadata": {
        "id": "YWIDfVd7SrBE"
      },
      "source": [
        "# <p style=\"align: right; direction: rtl; float: right;\">ביטויים בוליאניים</p>"
      ]
    },
    {
      "cell_type": "markdown",
      "metadata": {
        "id": "nHqG4McKSrBF"
      },
      "source": [
        "<div class=\"align-center\" style=\"display: flex; text-align: right; direction: rtl;\">\n",
        "    <div style=\"display: flex; width: 10%; float: right; \">\n",
        "        <img src=\"https://github.com/PythonFreeCourse/Notebooks/blob/main/content/week01/images/tip.png?raw=1\" style=\"height: 50px !important;\" alt=\"טיפ!\">\n",
        "    </div>\n",
        "    <div style=\"width: 90%\">\n",
        "        <p style=\"text-align: right; direction: rtl;\">\n",
        "            החומר במחברת זו הוא מעט תיאורטי. אין סיבה להיות עצובים, במחברות הבאה נעשה בו שימוש רחב.<br>\n",
        "            ודאו שאתם מבינים היטב את החומר במחברת זו כדי לבסס את הידע שלכם כראוי.\n",
        "        </p>\n",
        "    </div>\n",
        "</div>"
      ]
    },
    {
      "cell_type": "markdown",
      "metadata": {
        "id": "viJ-Uz8ESrBG"
      },
      "source": [
        "## <p style=\"align: right; direction: rtl; float: right;\">הגדרה</p>"
      ]
    },
    {
      "cell_type": "markdown",
      "metadata": {
        "id": "Go1TpwFxSrBH"
      },
      "source": [
        "<p style=\"text-align: right; direction: rtl; float: right;\">\n",
        "ווהו! רק פתחנו מחברת וכבר זרקו עלינו מילים מפוצצות. מה בוליאניים עכשיו?<br>\n",
        "בכל הנוגע לתחום שלנו, זה הרבה יותר פשוט ממה שזה נשמע.<br>\n",
        "בתכנות, ביטוי נחשב <dfn>ביטוי בוליאני</dfn> אם תוצאתו היא <em>אמת</em> או <em>שקר</em>.\n",
        "</p>"
      ]
    },
    {
      "cell_type": "markdown",
      "metadata": {
        "id": "utYDm32bSrBH"
      },
      "source": [
        "### <p style=\"align: right; direction: rtl; float: right;\">דוגמאות</p>"
      ]
    },
    {
      "cell_type": "markdown",
      "metadata": {
        "id": "VH-t4G4ISrBH"
      },
      "source": [
        "<ul style=\"text-align: right; direction: rtl; float: right; white-space: nowrap;\">\n",
        "<li>האם 2 גדול מ־3?</li>\n",
        "<li>האם האור בחדר שלי דולק?</li>\n",
        "<li>האם טמפרטורת המים הזורמים כעת במקלחת היא מתחת ל־60 מעלות?</li>\n",
        "<li>האם אכלתי היום קלמנטינה?</li>\n",
        "<li>האם השם שלי הוא \"אקורדינכס בן נהריה השלישי\"?</li>\n",
        "<li>האם המשתמש \"moshe15\" באפליקציית \"קרמבולנד\" הזמין עגבניה?</li>\n",
        "<li>האם המשתמש הזין קלט לא תקין (נניח: \"משה\" בשדה גיל, או סיסמה שגויה לכספומט)?</li>\n",
        "</ul>"
      ]
    },
    {
      "cell_type": "markdown",
      "metadata": {
        "id": "r7hyp8lXSrBI"
      },
      "source": [
        "## <p style=\"align: right; direction: rtl; float: right;\">אופרטורי השוואה</p>"
      ]
    },
    {
      "cell_type": "markdown",
      "metadata": {
        "id": "ZOwzHnchSrBI"
      },
      "source": [
        "<p style=\"text-align: right; direction: rtl; float: right;\">\n",
        "לא הספקתם להתאושש מהבוליאניים האלו וכבר אני מוריד עליכם עוד מכה. קורס חסר רחמים.<br>\n",
        "אבל גם הפעם זה ממש פשוט: אופרטור הוא בסך הכול סימן שמייצג פעולה כלשהי, כמו שווה או ועוד. אתם אולי אפילו זוכרים את <em>אופרטור ההשמה</em> מהשיעור על מה הם משתנים.<br>\n",
        "אז מהם <dfn>אופרטורי השוואה</dfn>? ובכן, אלו סימנים שעוזרים לנו לבצע השוואות בין איברים שונים, שלהם אנחנו קוראים <dfn>אופרנדים</dfn>.\n",
        "</p>"
      ]
    },
    {
      "cell_type": "markdown",
      "metadata": {
        "id": "7dQ8gaiASrBI"
      },
      "source": [
        "<p style=\"text-align: right; direction: rtl; float: right;\">\n",
        "בואו נכיר את אופרטור ההשוואה הראשון שלנו: <code>==</code>.<br>\n",
        "הריצו את הביטויים הבוליאניים הבאים, ונסו לנחש מה הוא עושה.\n",
        "</p>"
      ]
    },
    {
      "cell_type": "code",
      "execution_count": 1,
      "metadata": {
        "id": "z392LwVwSrBI",
        "outputId": "dd63abbb-996a-4f72-dd01-74bf815d2868",
        "colab": {
          "base_uri": "https://localhost:8080/"
        }
      },
      "outputs": [
        {
          "output_type": "execute_result",
          "data": {
            "text/plain": [
              "True"
            ]
          },
          "metadata": {},
          "execution_count": 1
        }
      ],
      "source": [
        "5 == 5"
      ]
    },
    {
      "cell_type": "code",
      "execution_count": 2,
      "metadata": {
        "id": "uWWtaJnDSrBJ",
        "outputId": "69fd9d72-9e80-46dc-9805-df9781a197f7",
        "colab": {
          "base_uri": "https://localhost:8080/"
        }
      },
      "outputs": [
        {
          "output_type": "execute_result",
          "data": {
            "text/plain": [
              "False"
            ]
          },
          "metadata": {},
          "execution_count": 2
        }
      ],
      "source": [
        "5 == 4"
      ]
    },
    {
      "cell_type": "code",
      "execution_count": 3,
      "metadata": {
        "id": "H9J200yBSrBJ",
        "outputId": "28210587-3f5a-464d-fb88-e25ad831fbe1",
        "colab": {
          "base_uri": "https://localhost:8080/"
        }
      },
      "outputs": [
        {
          "output_type": "execute_result",
          "data": {
            "text/plain": [
              "True"
            ]
          },
          "metadata": {},
          "execution_count": 3
        }
      ],
      "source": [
        "1 == 1.0"
      ]
    },
    {
      "cell_type": "code",
      "execution_count": 4,
      "metadata": {
        "id": "AhhKESlJSrBJ",
        "outputId": "3ae844bd-8188-49b5-91dd-05d8a118b656",
        "colab": {
          "base_uri": "https://localhost:8080/"
        }
      },
      "outputs": [
        {
          "output_type": "execute_result",
          "data": {
            "text/plain": [
              "False"
            ]
          },
          "metadata": {},
          "execution_count": 4
        }
      ],
      "source": [
        "5 == '5'"
      ]
    },
    {
      "cell_type": "code",
      "execution_count": 5,
      "metadata": {
        "id": "pcrInHKtSrBK",
        "outputId": "29296e4f-3901-4204-d892-d52afe22b4ed",
        "colab": {
          "base_uri": "https://localhost:8080/"
        }
      },
      "outputs": [
        {
          "output_type": "execute_result",
          "data": {
            "text/plain": [
              "True"
            ]
          },
          "metadata": {},
          "execution_count": 5
        }
      ],
      "source": [
        "2 + 1 == 3"
      ]
    },
    {
      "cell_type": "code",
      "execution_count": 6,
      "metadata": {
        "id": "EMXd5BQiSrBK",
        "outputId": "84835280-0d00-4f1d-f30c-31c9d9c976c4",
        "colab": {
          "base_uri": "https://localhost:8080/"
        }
      },
      "outputs": [
        {
          "output_type": "execute_result",
          "data": {
            "text/plain": [
              "True"
            ]
          },
          "metadata": {},
          "execution_count": 6
        }
      ],
      "source": [
        "2 ** 3 - 1 == 8 - 1"
      ]
    },
    {
      "cell_type": "code",
      "execution_count": 7,
      "metadata": {
        "id": "SEjCwg-pSrBK",
        "outputId": "a561016e-8510-4cfb-d1fb-a23e3997d8a2",
        "colab": {
          "base_uri": "https://localhost:8080/"
        }
      },
      "outputs": [
        {
          "output_type": "execute_result",
          "data": {
            "text/plain": [
              "True"
            ]
          },
          "metadata": {},
          "execution_count": 7
        }
      ],
      "source": [
        "'a' == 'a'"
      ]
    },
    {
      "cell_type": "code",
      "execution_count": 8,
      "metadata": {
        "id": "UixUhFELSrBK",
        "outputId": "1d7d6642-a21d-4ea6-9794-269515fff6d4",
        "colab": {
          "base_uri": "https://localhost:8080/"
        }
      },
      "outputs": [
        {
          "output_type": "execute_result",
          "data": {
            "text/plain": [
              "True"
            ]
          },
          "metadata": {},
          "execution_count": 8
        }
      ],
      "source": [
        "'Hello Buya' == \"Hello Buya\""
      ]
    },
    {
      "cell_type": "code",
      "execution_count": 9,
      "metadata": {
        "id": "nQgzgUUiSrBK",
        "outputId": "e0534ef1-ca6a-492f-8b86-8f5adf01b64c",
        "colab": {
          "base_uri": "https://localhost:8080/"
        }
      },
      "outputs": [
        {
          "output_type": "execute_result",
          "data": {
            "text/plain": [
              "False"
            ]
          },
          "metadata": {},
          "execution_count": 9
        }
      ],
      "source": [
        "'hello buya' == 'Hello Buya'"
      ]
    },
    {
      "cell_type": "markdown",
      "metadata": {
        "id": "0oX1jm-XSrBK"
      },
      "source": [
        "<p style=\"text-align: right; direction: rtl; float: right;\">\n",
        "הדוגמה הזו מלמדת אותנו 3 דברים מגניבים:\n",
        "</p>"
      ]
    },
    {
      "cell_type": "markdown",
      "metadata": {
        "id": "CblgriIlSrBK"
      },
      "source": [
        "<ol style=\"text-align: right; direction: rtl; float: right; white-space: nowrap; display: inline-block;\">\n",
        "<li style=\"white-space: nowrap;\">פייתון יודעת לענות בעזרת ערכים בוליאניים מיוחדים, שיכולים להיות <code>True</code> או <code>False</code>.</li>\n",
        "<li style=\"white-space: nowrap;\">יש אופרטור מגניב שנקרא אופרטור ההשוואה, צורתו היא <code>==</code> והוא משווה בין 2 ערכים בפייתון.</li>\n",
        "<li style=\"white-space: nowrap;\">יש סוגים שהשוואה ביניהם תעבוד (<code>float</code> עם <code>int</code>), ויש כאלו שלא (<code>float</code> עם <code>str</code> או <code>int</code> עם <code>str</code>).</li>\n",
        "</ol>"
      ]
    },
    {
      "cell_type": "markdown",
      "metadata": {
        "id": "QhlYRtdISrBK"
      },
      "source": [
        "### <p style=\"align: right; direction: rtl; float: right;\">טיפוס בוליאני</p>"
      ]
    },
    {
      "cell_type": "markdown",
      "metadata": {
        "id": "TseH8da4SrBL"
      },
      "source": [
        "<p style=\"text-align: right; direction: rtl; float: right;\">\n",
        "בתרגיל שלמעלה קיבלנו כתוצאה ערך חדש, שמעולם לא שמענו עליו. בואו נבדוק מאיזה סוג הוא!\n",
        "</p>"
      ]
    },
    {
      "cell_type": "code",
      "execution_count": 10,
      "metadata": {
        "id": "DRUS2ntNSrBL",
        "outputId": "ebec850b-761f-466f-8d39-d327aa6df74f",
        "colab": {
          "base_uri": "https://localhost:8080/"
        }
      },
      "outputs": [
        {
          "output_type": "execute_result",
          "data": {
            "text/plain": [
              "bool"
            ]
          },
          "metadata": {},
          "execution_count": 10
        }
      ],
      "source": [
        "type(True)"
      ]
    },
    {
      "cell_type": "code",
      "execution_count": 11,
      "metadata": {
        "id": "-rJPUxI2SrBL",
        "outputId": "921db0e4-5e9a-42f8-8688-79d2903a56c7",
        "colab": {
          "base_uri": "https://localhost:8080/"
        }
      },
      "outputs": [
        {
          "output_type": "execute_result",
          "data": {
            "text/plain": [
              "bool"
            ]
          },
          "metadata": {},
          "execution_count": 11
        }
      ],
      "source": [
        "type(False)"
      ]
    },
    {
      "cell_type": "markdown",
      "metadata": {
        "id": "xBJXmGjHSrBL"
      },
      "source": [
        "<p style=\"text-align: right; direction: rtl; float: right;\">\n",
        "ווהו! אז אם התרגלנו עד עכשיו שיש 3 טיפוסים שאנחנו מכירים: <code>str</code>, <code>int</code> ו־<code>float</code>, הכירו את הבחור החדש בשכונה!<br>\n",
        "<code>bool</code> הוא טיפוס חביב ופשוט שמייצג רק 2 ערכים אפשריים: <code>True</code> או <code>False</code>.<br>\n",
        "כל אופרטור השוואה שנחיל על שני ערכים, יחזיר <strong>תמיד</strong> ערך מסוג <code>bool</code> (חוץ מכשפייתון תתריע על שגיאה).\n",
        "</p>"
      ]
    },
    {
      "cell_type": "markdown",
      "metadata": {
        "id": "2d2Rlnm7SrBL"
      },
      "source": [
        "<div class=\"align-center\" style=\"display: flex; text-align: right; direction: rtl;\">\n",
        "    <div style=\"display: flex; width: 10%; float: right; \">\n",
        "        <img src=\"https://github.com/PythonFreeCourse/Notebooks/blob/main/content/week01/images/warning.png?raw=1\" style=\"height: 50px !important;\" alt=\"אזהרה!\">\n",
        "    </div>\n",
        "    <div style=\"width: 90%\">\n",
        "        <p style=\"text-align: right; direction: rtl;\">\n",
        "            טעות נפוצה בעת שימוש בערכים בוליאניים היא לא להתחשב ברגישות לאותיות גדולות/קטנות.<br>\n",
        "            לדוגמה: <code>True</code> יהיה תקין בעוד ש־<code>true</code> יקפיץ שגיאה.\n",
        "        </p>\n",
        "    </div>\n",
        "</div>"
      ]
    },
    {
      "cell_type": "markdown",
      "metadata": {
        "id": "hHt96yHPSrBL"
      },
      "source": [
        "### <p style=\"align: right; direction: rtl; float: right;\">אופרטורי השוואה נוספים</p>"
      ]
    },
    {
      "cell_type": "markdown",
      "metadata": {
        "id": "zmXaeR8jSrBL"
      },
      "source": [
        "| תוצאה לדוגמה | דוגמה |    משמעות בעברית             | אופרטור השוואה  |\n",
        "|:----------|:----------|:--------|------:|\n",
        "| True    | 4 == 4   | האם צד שמאל שווה לצד ימין        |  ==            |\n",
        "| False   | 4 != 4  | האם צד שמאל שונה מצד ימין       |  !=            |\n",
        "| True    | 5 > 4    | האם צד שמאל גדול יותר מצד ימין    |  >             |\n",
        "| False   | 5 < 4   | האם צד שמאל קטן יותר מצד ימין    | <              |\n",
        "| False    | 2 >= 4   | האם צד שמאל גדול או שווה לצד ימין | >=             |\n",
        "| True   | 4 <= 5  | האם צד שמאל קטן או שווה לצד ימין | <=             |\n",
        "| True   | 'hell' in 'hello'  | האם צד שמאל נמצא ברצף בצד ימין | in             |"
      ]
    },
    {
      "cell_type": "markdown",
      "metadata": {
        "id": "53p4Q9HNSrBM"
      },
      "source": [
        "### <p style=\"align: right; direction: rtl; float: right;\">מונחים</p>"
      ]
    },
    {
      "cell_type": "markdown",
      "metadata": {
        "id": "cDHor6J6SrBM"
      },
      "source": [
        "<dl style=\"text-align: right; direction: rtl; float: right; white-space: nowrap;\">\n",
        "<dt>ביטוי בוליאני</dt><dd>ביטוי שתוצאתו היא <em>אמת</em> (<code>True</code>) או <em>שקר</em> (<code>False</code>).</dd>\n",
        "<dt>אופרטור השוואה</dt><dd>סימן שמגדיר את סוג השוויון (או \"את השאלה\") שנרצה לבדוק בנוגע לערכים מסויימים.</dd>\n",
        "<dt>אופרנד</dt><dd>ברבים: אופרנדים. הערכים שבנוגע אליהם אנחנו רוצים לבדוק את השוויון, ושעליהם נפעיל את אופרטור ההשוואה.</dd>\n",
        "</dl>"
      ]
    },
    {
      "cell_type": "markdown",
      "metadata": {
        "id": "HsL3ciMPSrBM"
      },
      "source": [
        "## <p style=\"align: right; direction: rtl; float: right;\">תרגול</p>"
      ]
    },
    {
      "cell_type": "markdown",
      "metadata": {
        "id": "XsdELTXySrBN"
      },
      "source": [
        "### <p style=\"align: right; direction: rtl; float: right;\">שווה את זה?</p>"
      ]
    },
    {
      "cell_type": "markdown",
      "metadata": {
        "id": "7glrytxoSrBO"
      },
      "source": [
        "<p style=\"text-align: right; direction: rtl; float: right;\">\n",
        "רשמו בצד את התוצאות של כל אחת מהשורות הבאות.<br>\n",
        "רק לאחר מכן הריצו ובדקו האם צדקתם בתשובתכם.<br>\n",
        "בחלק מהסעיפים (בייחוד באלו שקשורים ב־<code>in</code>) דרושה קצת אינטואיציה.\n",
        "</p>"
      ]
    },
    {
      "cell_type": "code",
      "execution_count": 12,
      "metadata": {
        "id": "18SqlkHESrBO",
        "outputId": "057c6fcd-4970-407c-f3c0-a7f3c7d94c8d",
        "colab": {
          "base_uri": "https://localhost:8080/"
        }
      },
      "outputs": [
        {
          "output_type": "execute_result",
          "data": {
            "text/plain": [
              "False"
            ]
          },
          "metadata": {},
          "execution_count": 12
        }
      ],
      "source": [
        "5 == 3 # false"
      ]
    },
    {
      "cell_type": "code",
      "execution_count": 13,
      "metadata": {
        "id": "uXk7sfBwSrBO",
        "outputId": "1f93963b-86f0-4bc0-d994-cbc062d3d869",
        "colab": {
          "base_uri": "https://localhost:8080/"
        }
      },
      "outputs": [
        {
          "output_type": "execute_result",
          "data": {
            "text/plain": [
              "False"
            ]
          },
          "metadata": {},
          "execution_count": 13
        }
      ],
      "source": [
        "1 != 1 # false"
      ]
    },
    {
      "cell_type": "code",
      "execution_count": 14,
      "metadata": {
        "id": "QATzdW52SrBO",
        "outputId": "e14cde0e-a9a4-422d-bd42-64f960c6cc10",
        "colab": {
          "base_uri": "https://localhost:8080/"
        }
      },
      "outputs": [
        {
          "output_type": "execute_result",
          "data": {
            "text/plain": [
              "True"
            ]
          },
          "metadata": {},
          "execution_count": 14
        }
      ],
      "source": [
        "5 > 3 # true"
      ]
    },
    {
      "cell_type": "code",
      "execution_count": 15,
      "metadata": {
        "id": "717TBJFwSrBQ",
        "outputId": "997263b3-aa93-4b20-a17a-67cad53c794e",
        "colab": {
          "base_uri": "https://localhost:8080/"
        }
      },
      "outputs": [
        {
          "output_type": "execute_result",
          "data": {
            "text/plain": [
              "False"
            ]
          },
          "metadata": {},
          "execution_count": 15
        }
      ],
      "source": [
        "5 < 3 # false"
      ]
    },
    {
      "cell_type": "code",
      "execution_count": 16,
      "metadata": {
        "id": "xmaIC_LISrBR",
        "outputId": "d39302ec-8e9f-42bd-e40d-b226d346a995",
        "colab": {
          "base_uri": "https://localhost:8080/"
        }
      },
      "outputs": [
        {
          "output_type": "execute_result",
          "data": {
            "text/plain": [
              "False"
            ]
          },
          "metadata": {},
          "execution_count": 16
        }
      ],
      "source": [
        "'hello' == 'Hello' # false"
      ]
    },
    {
      "cell_type": "code",
      "execution_count": 17,
      "metadata": {
        "id": "MajQg4RbSrBR",
        "outputId": "02b6da12-7d18-4d11-e2e3-1c73b02a1ab0",
        "colab": {
          "base_uri": "https://localhost:8080/"
        }
      },
      "outputs": [
        {
          "output_type": "execute_result",
          "data": {
            "text/plain": [
              "False"
            ]
          },
          "metadata": {},
          "execution_count": 17
        }
      ],
      "source": [
        "'MARIO' == 'MARIO ' # false"
      ]
    },
    {
      "cell_type": "code",
      "execution_count": 18,
      "metadata": {
        "id": "-2YXZDF0SrBR",
        "outputId": "7b4e46ab-86b8-4107-a571-12fc540b091f",
        "colab": {
          "base_uri": "https://localhost:8080/"
        }
      },
      "outputs": [
        {
          "output_type": "execute_result",
          "data": {
            "text/plain": [
              "False"
            ]
          },
          "metadata": {},
          "execution_count": 18
        }
      ],
      "source": [
        "1.5 == 1 # false"
      ]
    },
    {
      "cell_type": "code",
      "execution_count": 19,
      "metadata": {
        "id": "tiJBkGE-SrBR",
        "outputId": "edfe8db8-0f0b-4797-98cb-2f98eeaa75bb",
        "colab": {
          "base_uri": "https://localhost:8080/"
        }
      },
      "outputs": [
        {
          "output_type": "execute_result",
          "data": {
            "text/plain": [
              "True"
            ]
          },
          "metadata": {},
          "execution_count": 19
        }
      ],
      "source": [
        "1.0 == 1 # true"
      ]
    },
    {
      "cell_type": "code",
      "execution_count": 20,
      "metadata": {
        "id": "YwKWO0kVSrBR",
        "outputId": "d4b19fc0-3b3a-448a-8c63-a1382b582b09",
        "colab": {
          "base_uri": "https://localhost:8080/"
        }
      },
      "outputs": [
        {
          "output_type": "execute_result",
          "data": {
            "text/plain": [
              "True"
            ]
          },
          "metadata": {},
          "execution_count": 20
        }
      ],
      "source": [
        "1 == 1.0 # true"
      ]
    },
    {
      "cell_type": "code",
      "execution_count": 21,
      "metadata": {
        "id": "rVTroBFESrBR",
        "outputId": "ef649336-12ea-4c87-bba1-9096c8c2aa18",
        "colab": {
          "base_uri": "https://localhost:8080/"
        }
      },
      "outputs": [
        {
          "output_type": "execute_result",
          "data": {
            "text/plain": [
              "False"
            ]
          },
          "metadata": {},
          "execution_count": 21
        }
      ],
      "source": [
        "5 != 7 - 2 # false"
      ]
    },
    {
      "cell_type": "code",
      "execution_count": 22,
      "metadata": {
        "id": "Ul7lQmprSrBS",
        "outputId": "7ff021db-5329-4b38-f0f2-be5c2d272a43",
        "colab": {
          "base_uri": "https://localhost:8080/"
        }
      },
      "outputs": [
        {
          "output_type": "execute_result",
          "data": {
            "text/plain": [
              "True"
            ]
          },
          "metadata": {},
          "execution_count": 22
        }
      ],
      "source": [
        "5 >= 5.0 # true"
      ]
    },
    {
      "cell_type": "code",
      "execution_count": 23,
      "metadata": {
        "id": "m4m1Q8j9SrBS",
        "outputId": "5f3463fc-e723-4475-8aa1-127bf56eadae",
        "colab": {
          "base_uri": "https://localhost:8080/"
        }
      },
      "outputs": [
        {
          "output_type": "execute_result",
          "data": {
            "text/plain": [
              "True"
            ]
          },
          "metadata": {},
          "execution_count": 23
        }
      ],
      "source": [
        "'5' > '24'  # ראו אזהרה למטה"
      ]
    },
    {
      "cell_type": "code",
      "execution_count": 24,
      "metadata": {
        "id": "V1sMSARdSrBS",
        "outputId": "bd5f55bd-e821-4243-a21b-eafe693d8620",
        "colab": {
          "base_uri": "https://localhost:8080/"
        }
      },
      "outputs": [
        {
          "output_type": "execute_result",
          "data": {
            "text/plain": [
              "True"
            ]
          },
          "metadata": {},
          "execution_count": 24
        }
      ],
      "source": [
        "'Hell' in 'Hello' # true"
      ]
    },
    {
      "cell_type": "code",
      "execution_count": 25,
      "metadata": {
        "id": "G2zWVKy8SrBS",
        "outputId": "bb69d6f5-0c9f-49bc-cbe4-38c7c893209f",
        "colab": {
          "base_uri": "https://localhost:8080/"
        }
      },
      "outputs": [
        {
          "output_type": "execute_result",
          "data": {
            "text/plain": [
              "False"
            ]
          },
          "metadata": {},
          "execution_count": 25
        }
      ],
      "source": [
        "'hell' in 'Hello' # false"
      ]
    },
    {
      "cell_type": "code",
      "execution_count": 26,
      "metadata": {
        "id": "T5wi0D9cSrBS",
        "outputId": "93ba2230-8737-468d-9dbe-b884d036eef4",
        "colab": {
          "base_uri": "https://localhost:8080/"
        }
      },
      "outputs": [
        {
          "output_type": "execute_result",
          "data": {
            "text/plain": [
              "False"
            ]
          },
          "metadata": {},
          "execution_count": 26
        }
      ],
      "source": [
        "'tom' in 'to master' # false"
      ]
    },
    {
      "cell_type": "code",
      "execution_count": 27,
      "metadata": {
        "id": "gW53MXEMSrBS",
        "outputId": "1d5aec3b-75eb-4cfe-a7d2-4623bab578fc",
        "colab": {
          "base_uri": "https://localhost:8080/"
        }
      },
      "outputs": [
        {
          "output_type": "execute_result",
          "data": {
            "text/plain": [
              "True"
            ]
          },
          "metadata": {},
          "execution_count": 27
        }
      ],
      "source": [
        "'2' in '20' # true"
      ]
    },
    {
      "cell_type": "code",
      "execution_count": 28,
      "metadata": {
        "id": "Q3sFtcYbSrBS",
        "outputId": "cd915d4e-9dd2-4875-8f60-dcb3b6cdb23e",
        "colab": {
          "base_uri": "https://localhost:8080/",
          "height": 141
        }
      },
      "outputs": [
        {
          "output_type": "error",
          "ename": "TypeError",
          "evalue": "'in <string>' requires string as left operand, not int",
          "traceback": [
            "\u001b[0;31m---------------------------------------------------------------------------\u001b[0m",
            "\u001b[0;31mTypeError\u001b[0m                                 Traceback (most recent call last)",
            "\u001b[0;32m<ipython-input-28-34b41667d40b>\u001b[0m in \u001b[0;36m<cell line: 1>\u001b[0;34m()\u001b[0m\n\u001b[0;32m----> 1\u001b[0;31m \u001b[0;36m2\u001b[0m \u001b[0;32min\u001b[0m \u001b[0;34m'20'\u001b[0m  \u001b[0;31m# פייתון תתריע על שגיאה. למה?\u001b[0m\u001b[0;34m\u001b[0m\u001b[0;34m\u001b[0m\u001b[0m\n\u001b[0m",
            "\u001b[0;31mTypeError\u001b[0m: 'in <string>' requires string as left operand, not int"
          ]
        }
      ],
      "source": [
        "2 in '20'  # פייתון תתריע על שגיאה. למה? # because in 'str' requires the left opernad to be of type str as well."
      ]
    },
    {
      "cell_type": "markdown",
      "metadata": {
        "id": "VbqUoKTWSrBS"
      },
      "source": [
        "<div class=\"align-center\" style=\"display: flex; text-align: right; direction: rtl;\">\n",
        "    <div style=\"display: flex; width: 10%; float: right; \">\n",
        "        <img src=\"https://github.com/PythonFreeCourse/Notebooks/blob/main/content/week01/images/warning.png?raw=1\" style=\"height: 50px !important;\" alt=\"אזהרה!\">\n",
        "    </div>\n",
        "    <div style=\"width: 90%\">\n",
        "        <p style=\"text-align: right; direction: rtl;\">\n",
        "            טעות נפוצה בקרב מתחילים היא לשכוח שבהשוואה בין נתונים מספריים יש להמיר קלט מהמשתמש ל־<code>int</code>, ורק אז לבצע השוואה.<br>\n",
        "            פייתון לא מתריעה על טעות זו, אבל השוואה שכזו לא תיתן לכם את התוצאה שאליה התכוונתם (ראו דוגמה למעלה).\n",
        "        </p>\n",
        "    </div>\n",
        "</div>"
      ]
    },
    {
      "cell_type": "markdown",
      "metadata": {
        "id": "uhAv_GrISrBS"
      },
      "source": [
        "### <p style=\"align: right; direction: rtl; float: right;\">מעורב ירושלמי</p>"
      ]
    },
    {
      "cell_type": "markdown",
      "metadata": {
        "id": "HS2esxf9SrBS"
      },
      "source": [
        "<p style=\"text-align: right; direction: rtl; float: right;\">\n",
        "אנחנו הולכים להגדיר פה כמה משתנים מעניינים:\n",
        "</p>"
      ]
    },
    {
      "cell_type": "code",
      "execution_count": 30,
      "metadata": {
        "id": "LaxzlODPSrBT"
      },
      "outputs": [],
      "source": [
        "price_of_pizza = 100  # NIS\n",
        "slices_in_pizza = 8\n",
        "favorite_topping = 'pineapple'  # Don't judge!\n",
        "delivery_time = 30  # In minutes"
      ]
    },
    {
      "cell_type": "markdown",
      "metadata": {
        "id": "S0AhXKBuSrBT"
      },
      "source": [
        "<p style=\"text-align: right; direction: rtl; float: right;\">\n",
        "הריצו את התא שנמצא למעלה: סמנו אותו ולחצו <kbd>CTRL</kbd> + <kbd>ENTER</kbd>.<br>\n",
        "מה יהיו התוצאות של הביטויים הבאים? כתבו אותן בצד, ואז הריצו ובדקו האם תשובתכם הייתה נכונה.\n",
        "</p>"
      ]
    },
    {
      "cell_type": "code",
      "execution_count": 31,
      "metadata": {
        "id": "dvXx7ihvSrBT",
        "outputId": "ca6bb88b-2076-407f-bfbd-857547d0f845",
        "colab": {
          "base_uri": "https://localhost:8080/"
        }
      },
      "outputs": [
        {
          "output_type": "execute_result",
          "data": {
            "text/plain": [
              "True"
            ]
          },
          "metadata": {},
          "execution_count": 31
        }
      ],
      "source": [
        "price_of_pizza >= 50 #T"
      ]
    },
    {
      "cell_type": "code",
      "execution_count": 32,
      "metadata": {
        "id": "bL9Ke_sySrBT",
        "outputId": "5e779bcb-9aef-4baf-e133-f3e324ec22f7",
        "colab": {
          "base_uri": "https://localhost:8080/"
        }
      },
      "outputs": [
        {
          "output_type": "execute_result",
          "data": {
            "text/plain": [
              "False"
            ]
          },
          "metadata": {},
          "execution_count": 32
        }
      ],
      "source": [
        "slices_in_pizza == 6 #F"
      ]
    },
    {
      "cell_type": "code",
      "execution_count": 33,
      "metadata": {
        "id": "RvMHuSpwSrBT",
        "outputId": "05241842-079c-4ddc-ddbc-a8d656d73f28",
        "colab": {
          "base_uri": "https://localhost:8080/"
        }
      },
      "outputs": [
        {
          "output_type": "execute_result",
          "data": {
            "text/plain": [
              "True"
            ]
          },
          "metadata": {},
          "execution_count": 33
        }
      ],
      "source": [
        "favorite_topping != 'olives'  #T"
      ]
    },
    {
      "cell_type": "code",
      "execution_count": 34,
      "metadata": {
        "id": "E0Gwtvy5SrBT",
        "outputId": "bb134082-57f4-4c49-95fb-60238c190afc",
        "colab": {
          "base_uri": "https://localhost:8080/"
        }
      },
      "outputs": [
        {
          "output_type": "execute_result",
          "data": {
            "text/plain": [
              "True"
            ]
          },
          "metadata": {},
          "execution_count": 34
        }
      ],
      "source": [
        "price_of_pizza / slices_in_pizza > 10  #T"
      ]
    },
    {
      "cell_type": "code",
      "execution_count": 35,
      "metadata": {
        "id": "pHA81wkVSrBT",
        "outputId": "df06e671-f77b-4877-8dde-171e16880b7c",
        "colab": {
          "base_uri": "https://localhost:8080/"
        }
      },
      "outputs": [
        {
          "output_type": "execute_result",
          "data": {
            "text/plain": [
              "True"
            ]
          },
          "metadata": {},
          "execution_count": 35
        }
      ],
      "source": [
        "delivery_time <= 30  # I'm hungry!  #T"
      ]
    },
    {
      "cell_type": "code",
      "execution_count": 36,
      "metadata": {
        "id": "gbFD3fJRSrBT"
      },
      "outputs": [],
      "source": [
        "favorite_topping = 'olives'  #  יש פה מלכודת. נסו להבין מה קורה פה.  מדובר בהשמה שלא תחזיר דבר"
      ]
    },
    {
      "cell_type": "code",
      "execution_count": 37,
      "metadata": {
        "id": "g-To35yMSrBT",
        "outputId": "6b4e4afb-fec7-4413-c7b2-450add59f7b4",
        "colab": {
          "base_uri": "https://localhost:8080/"
        }
      },
      "outputs": [
        {
          "output_type": "execute_result",
          "data": {
            "text/plain": [
              "False"
            ]
          },
          "metadata": {},
          "execution_count": 37
        }
      ],
      "source": [
        "favorite_topping == 'pineapple'  # מה זה יחזיר אחרי הרצת השורה הקודמת? מה זה יחזיר אילו לא הייתה רצה?  # after the change it will return false because pineapple and olives are not the same. if the line wasn't executed it would have returned true."
      ]
    },
    {
      "cell_type": "markdown",
      "metadata": {
        "id": "DxMaRNXISrBT"
      },
      "source": [
        "<div class=\"align-center\" style=\"display: flex; text-align: right; direction: rtl;\">\n",
        "    <div style=\"display: flex; width: 10%; float: right; \">\n",
        "        <img src=\"https://github.com/PythonFreeCourse/Notebooks/blob/main/content/week01/images/warning.png?raw=1\" style=\"height: 50px !important;\" alt=\"אזהרה!\">\n",
        "    </div>\n",
        "    <div style=\"width: 90%\">\n",
        "        <p style=\"text-align: right; direction: rtl;\">\n",
        "            טעות נפוצה היא להתבלבל בין הסימנים <code>=</code> ו־<code>==</code>.<br>\n",
        "            זכרו: סימן שיוויון אחד (<code>=</code>) מבצע פעולה של הכנסת הערך מימין למשתנה ששמו מופיע משמאל.<br>\n",
        "            סימן שיוויון כפול (<code>==</code>) היא פעולה אחרת לחלוטין, שבודקת האם הערך מימין זהה לערך משמאל.<br>\n",
        "        </p>\n",
        "    </div>\n",
        "</div>"
      ]
    },
    {
      "cell_type": "markdown",
      "metadata": {
        "id": "CcS_ONTnSrBU"
      },
      "source": [
        "### <p style=\"align: right; direction: rtl; float: right;\">בולילנד</p>"
      ]
    },
    {
      "cell_type": "markdown",
      "metadata": {
        "id": "QG6ahnheSrBU"
      },
      "source": [
        "<p style=\"text-align: right; direction: rtl; float: right;\">\n",
        "במחוז בולילנד השערורייתי, מותר לאכול פיצה רק מגיל 25 ומעלה.<br>\n",
        "קבלו כקלט את גילו של המשתמש. הדפיסו לו <samp>True</samp> אם הוא יכול לאכול פיצה בבולילנד, או <samp>False</samp> אם הוא לא יכול.<br>\n",
        "<em>לדוגמה:</em> אם דוד הזין שגילו הוא 23, עליכם להציג לו <samp>False</samp>.\n",
        "</p>"
      ]
    },
    {
      "cell_type": "markdown",
      "metadata": {
        "id": "lUisa29aSrBU"
      },
      "source": [
        "<div class=\"align-center\" style=\"display: flex; text-align: right; direction: rtl;\">\n",
        "    <div style=\"display: flex; width: 10%; float: right; \">\n",
        "        <img src=\"https://github.com/PythonFreeCourse/Notebooks/blob/main/content/week01/images/tip.png?raw=1\" style=\"height: 50px !important;\" alt=\"טיפ!\">\n",
        "    </div>\n",
        "    <div style=\"width: 90%\">\n",
        "        <p style=\"text-align: right; direction: rtl;\">\n",
        "            השורה <code style=\"direction: ltr;\" dir=\"ltr\">print(1 == 1)</code> תדפיס למשתמש <samp>True</samp>.\n",
        "        </p>\n",
        "    </div>\n",
        "</div>"
      ]
    },
    {
      "cell_type": "code",
      "execution_count": 40,
      "metadata": {
        "id": "bBdWV28RSrBU",
        "outputId": "f22eb2e4-40c0-4c2c-8308-7a787e14a273",
        "colab": {
          "base_uri": "https://localhost:8080/"
        }
      },
      "outputs": [
        {
          "output_type": "stream",
          "name": "stdout",
          "text": [
            "Please enter your age:24\n",
            "False\n"
          ]
        }
      ],
      "source": [
        "age = input(\"Please enter your age:\")\n",
        "print(int(age) >= 25)"
      ]
    }
  ],
  "metadata": {
    "kernelspec": {
      "display_name": "Python 3",
      "language": "python",
      "name": "python3"
    },
    "language_info": {
      "codemirror_mode": {
        "name": "ipython",
        "version": 3
      },
      "file_extension": ".py",
      "mimetype": "text/x-python",
      "name": "python",
      "nbconvert_exporter": "python",
      "pygments_lexer": "ipython3",
      "version": "3.7.6"
    },
    "colab": {
      "provenance": []
    }
  },
  "nbformat": 4,
  "nbformat_minor": 0
}