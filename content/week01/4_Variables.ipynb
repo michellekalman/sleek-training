{
  "cells": [
    {
      "cell_type": "markdown",
      "metadata": {
        "id": "PlA4oXJt9xXE"
      },
      "source": [
        "<img src=\"https://github.com/PythonFreeCourse/Notebooks/blob/main/content/week01/images/logo.jpg?raw=1\" style=\"display: block; margin-left: auto; margin-right: auto;\" alt=\"לוגו של מיזם לימוד הפייתון. נחש מצויר בצבעי צהוב וכחול, הנע בין האותיות של שם הקורס: לומדים פייתון. הסלוגן המופיע מעל לשם הקורס הוא מיזם חינמי ללימוד תכנות בעברית.\">"
      ]
    },
    {
      "cell_type": "markdown",
      "metadata": {
        "id": "n-uQcyBT9xXH"
      },
      "source": [
        "# <p style=\"align: right; direction: rtl; float: right;\">משתנים</p>"
      ]
    },
    {
      "cell_type": "markdown",
      "metadata": {
        "id": "BNQUEb8v9xXH"
      },
      "source": [
        "<p style=\"text-align: right; direction: rtl; float: right;\">\n",
        "בואו נחשב את נפח הפיצה שלנו לפי אורך המשולש ועוביו.<br>\n",
        "הנוסחה לחישוב נפח פיצה היא:\n",
        "    <span style=\"display: inline-flex; direction: ltr;\">$pi \\times z \\times z \\times a$</span>,\n",
        "כאשר <span style=\"display: inline-flex; direction: ltr;\">$z$</span> הוא אורך המשולש ו־<span style=\"display: inline-flex; direction: ltr;\">$a$</span> הוא עובי המשולש.<br>\n",
        "    pi, או <span style=\"display: inline-flex; direction: ltr;\">$\\pi$</span>, הוא מספר קבוע שנקרא בעברית <dfn>פאי</dfn>, וערכו קרוב ל־3.141592653589793. בפועל יש לו אין־סוף ספרות אחרי הנקודה העשרונית, אבל אנחנו נסתפק באלו.<br>\n",
        "נניח שאורכו של המשולש הוא 5 מטרים, ועוביו הוא 2 מטרים (זו למעשה עוגת פיצה. אנחנו אוהבים!)<br>\n",
        "נחשב:\n",
        "</p>"
      ]
    },
    {
      "cell_type": "code",
      "execution_count": 1,
      "metadata": {
        "id": "F363E8Ul9xXI",
        "outputId": "771c2e37-9198-4ea2-c121-a4067e5a3e21",
        "colab": {
          "base_uri": "https://localhost:8080/"
        }
      },
      "outputs": [
        {
          "output_type": "stream",
          "name": "stdout",
          "text": [
            "157.079632679\n"
          ]
        }
      ],
      "source": [
        "print(3.14159265358 * 5 * 5 * 2)"
      ]
    },
    {
      "cell_type": "markdown",
      "metadata": {
        "id": "v5JbA8Zm9xXJ"
      },
      "source": [
        "<img src=\"https://github.com/PythonFreeCourse/Notebooks/blob/main/content/week01/images/pizza_cake.jpg?raw=1\" style=\"display: block; margin-left: auto; margin-right: auto;\" alt=\"פיצה עבה מאוד, עם הרבה גבינה ותוספות של עגבנייה, זיתים וגמבה.\" width=\"40%\">"
      ]
    },
    {
      "cell_type": "markdown",
      "metadata": {
        "id": "07mdTHBX9xXK"
      },
      "source": [
        "<p style=\"text-align: right; direction: rtl; float: right;\">\n",
        "אך <strong>אבוי</strong>!<br>\n",
        "מתכנת אחר שיקרא את הקוד שלכם, עלול להתבלבל מכמות המספרים הלא מובנים בעליל שכתובים שם, וקרוב לוודאי שהוא לא יבין מה הם אומרים.<br>\n",
        "יותר מזה, אם תרצו לחשב את גודלן של פיצות רבות נוספות, תצטרכו לכתוב את פאי המסורבל (סליחה פאי) פעמים רבות בקוד.\n",
        "</p>"
      ]
    },
    {
      "cell_type": "markdown",
      "metadata": {
        "id": "H9H4TIdU9xXK"
      },
      "source": [
        "## <p style=\"align: right; direction: rtl; float: right;\">השמה</p>"
      ]
    },
    {
      "cell_type": "markdown",
      "metadata": {
        "id": "8n53uUwC9xXK"
      },
      "source": [
        "<p style=\"text-align: right; direction: rtl; float: right;\">\n",
        "למזלנו, בפייתון יש דרך לתת לערכים שם, ממש כמו תווית שכזו. ערכים עם שם נקראים <dfn>משתנים</dfn>, ויש להם יתרונות רבים נוספים שנגלה בהמשך.<br>\n",
        "כעת נדגים כיצד אנחנו נותנים לערך \"פאי\" שם, ואיך מייד לאחר מכן אנחנו משתמשים בו.\n",
        "</p>"
      ]
    },
    {
      "cell_type": "code",
      "execution_count": null,
      "metadata": {
        "id": "AviB7LT99xXL"
      },
      "outputs": [],
      "source": [
        "pi = 3.14159265358\n",
        "print(pi * 5 * 5 * 2)"
      ]
    },
    {
      "cell_type": "markdown",
      "metadata": {
        "id": "MIL_gP7C9xXL"
      },
      "source": [
        "<p style=\"text-align: right; direction: rtl; float: right;\">\n",
        "תחילה נשים לב לכך שאף שהשתמשנו בסימן <code>=</code>, השורה הראשונה היא לא שוויון מהסוג שאנחנו רגילים אליו.<br>\n",
        "משמעות הסימן בתכנות שונה לחלוטין, והעיקרון שאותו הוא מממש נקרא <dfn>השמה</dfn>.<br>\n",
        "<mark>בהשמה אנחנו שמים את הערך שנמצא בצד ימין של השווה, בתוך משתנה ששמו נכתב בצד שמאל של השווה.</mark><br>\n",
        "אחרי שביצענו את הפעולה הזו, בכל פעם שנכתוב את שמו של המשתנה, פייתון תבין את מה שכתוב שם <em>כאילו</em> רשמנו את הערך שנמצא בתוכו.\n",
        "</p>"
      ]
    },
    {
      "cell_type": "markdown",
      "metadata": {
        "id": "aZU5Xi9_9xXM"
      },
      "source": [
        "<p style=\"text-align: right; direction: rtl; float: right;\">\n",
        "ניצור משתנים גם עבור שאר הערכים:\n",
        "</p>"
      ]
    },
    {
      "cell_type": "code",
      "execution_count": 2,
      "metadata": {
        "id": "Jb-6yIbP9xXM",
        "outputId": "10ee072a-c28a-4976-c65c-b0b9ea8753b0",
        "colab": {
          "base_uri": "https://localhost:8080/"
        }
      },
      "outputs": [
        {
          "output_type": "stream",
          "name": "stdout",
          "text": [
            "157.079632679\n"
          ]
        }
      ],
      "source": [
        "pi = 3.14159265358\n",
        "z = 5\n",
        "a = 2\n",
        "print(pi * z * z * a)"
      ]
    },
    {
      "cell_type": "markdown",
      "metadata": {
        "id": "DL3_Boh59xXN"
      },
      "source": [
        "<p style=\"text-align: right; direction: rtl; float: right;\">\n",
        "או אם בא לנו להיות אפילו מובנים יותר, ניתן למשתנים שמות ברורים:\n",
        "</p>"
      ]
    },
    {
      "cell_type": "code",
      "execution_count": 3,
      "metadata": {
        "id": "CixrwzqS9xXN",
        "outputId": "4dbe3966-5107-40c9-8ddb-1190ba9731ac",
        "colab": {
          "base_uri": "https://localhost:8080/"
        }
      },
      "outputs": [
        {
          "output_type": "stream",
          "name": "stdout",
          "text": [
            "157.079632679\n"
          ]
        }
      ],
      "source": [
        "pi = 3.14159265358\n",
        "length = 5  # אורך\n",
        "thickness = 2  # עובי\n",
        "pizza_volume = pi * length * length * thickness  # נפח הפיצה\n",
        "print(pizza_volume)"
      ]
    },
    {
      "cell_type": "markdown",
      "metadata": {
        "id": "LvCPcKsW9xXO"
      },
      "source": [
        "<p style=\"text-align: right; direction: rtl; float: right;\">\n",
        "אם נרצה לתאר את הקוד שלנו במילים, נוכל להגיד שיצרנו שלושה משתנים שאליהם השמנו את הנתונים הדרושים לנו לחישוב נפח הפיצה.<br>\n",
        "בסוף, חישבנו את נפח הפיצה, ואת התוצאה השמנו למשתנה נוסף בשם <var>pizza_volume</var>.<br>\n",
        "את הערך הנמצא במשתנה הזה הדפסנו למסך.\n",
        "</p>"
      ]
    },
    {
      "cell_type": "markdown",
      "metadata": {
        "id": "Frb5Uzx79xXO"
      },
      "source": [
        "### <p style=\"align: right; direction: rtl; float: right;\">מונחים</p>"
      ]
    },
    {
      "cell_type": "markdown",
      "metadata": {
        "id": "GdUx6C__9xXP"
      },
      "source": [
        "<dl style=\"text-align: right; direction: rtl; float: right; white-space: nowrap;\">\n",
        "<dt>אופרטור ההשמה</dt><dd>סתם שם מפחיד שמתאר את הסימן <code>=</code> כשרוצים לבצע השמה.</dd>\n",
        "<dt>שם המשתנה</dt><dd>מופיע משמאל לאופרטור ההשמה.</dd>\n",
        "<dt>ערך המשתנה</dt><dd>התוכן (הערך) של המשתנה שבסופו של דבר המחשב יזכור. מופיע מימין לאופרטור ההשמה.</dd>\n",
        "</dl>"
      ]
    },
    {
      "cell_type": "markdown",
      "metadata": {
        "id": "HOs-4X5F9xXQ"
      },
      "source": [
        "## <p style=\"align: right; direction: rtl; float: right;\">איך משתנים עובדים?</p>"
      ]
    },
    {
      "cell_type": "markdown",
      "metadata": {
        "id": "gcwo0G0g9xXQ"
      },
      "source": [
        "<p style=\"text-align: right; direction: rtl; float: right;\">\n",
        "אפשר לדמיין משתנים כמצביע לייזר קטן.<br>\n",
        "כשאתם מבצעים <em>השמה</em>, אתם מבקשים מפייתון ליצור לייזר בשם שבחרתם, ולהצביע בעזרתו על ערך מסוים.<br>\n",
        "נניח, במקרה שבו <code dir=\"ltr\" style=\"direction: ltr;\">pi = 3.14</code>, אנחנו מבקשים מפייתון ליצור לייזר בשם <var>pi</var> שיצביע על הערך <samp>3.14</samp>.<br>\n",
        "בכל פעם שתציינו בהמשך הקוד את שם הלייזר, פייתון תבדוק להיכן הוא מצביע, ותיקח את הערך שנמצא שם.<br>\n",
        "אם כך, לצורך האנלוגיה הזו, הלייזר הוא <em>שם המשתנה</em>, שמצביע על <em>ערך המשתנה</em>.\n",
        "</p>"
      ]
    },
    {
      "cell_type": "markdown",
      "metadata": {
        "id": "KXljYwuN9xXR"
      },
      "source": [
        "<figure>\n",
        "    <img src=\"https://github.com/PythonFreeCourse/Notebooks/blob/main/content/week01/images/laser_variables.svg?raw=1\" style=\"display: block; margin-left: auto; margin-right: auto;\" width=\"200px\" alt=\"איור להמחשה של שלושה לייזרים שעליהם מודבקות התוויות pi, length ו־thick. מכל אחד מהלייזרים יוצאת קרן לייזר אדומה, שמצביעה (בהתאמה) על המספרים 3.14, 5 ו־2.\">\n",
        "    <figcaption style=\"text-align: center; direction: rtl;\">המחשה של שלושה לייזרים שמצביעים על משתנים.</figcaption>\n",
        "</figure>"
      ]
    },
    {
      "cell_type": "markdown",
      "metadata": {
        "id": "Hf21z6R59xXR"
      },
      "source": [
        "## <p style=\"align: right; direction: rtl; float: right;\">חוקים לשמות משתנים</p>"
      ]
    },
    {
      "cell_type": "markdown",
      "metadata": {
        "id": "laRUYHxw9xXR"
      },
      "source": [
        "<ol style=\"text-align: right; direction: rtl; float: right; white-space: nowrap;\">\n",
        "<li style=\"white-space: nowrap;\"><strong>חוק 1:</strong> שם משתנה יכול לכלול רק ספרות (<code>0–9</code>), אותיות לטיניות גדולות (<code>A-Z</code>) או קטנות (<code>a-z</code>) וקו תחתון (<code>_</code>).</li>\n",
        "<li style=\"white-space: nowrap;\"><strong>חוק 2:</strong> שם משתנה לא יכול להתחיל בספרה.</li>\n",
        "<li style=\"white-space: nowrap;\"><strong>מוסכמה 1:</strong> נהוג ששם משתנה יהיה באותיות קטנות, ומילים יופרדו בקווים תחתונים.</li>\n",
        "<li style=\"white-space: nowrap;\"><strong>מוסכמה 2:</strong> נהוג לתת למשתנה שם שמתאר היטב את תפקידו בקוד.</li>\n",
        "</ol>\n",
        "\n",
        "<p style=\"text-align: right; direction: rtl; float: right;\">\n",
        "המוסכמה הראשונה נכונה ברוב המקרים, אך לא בכולם. בעתיד ניכנס לעובי הקורה בכל הנוגע לכתיבת קוד בהתאם למוסכמות בעולם התכנות.\n",
        "</p>"
      ]
    },
    {
      "cell_type": "markdown",
      "metadata": {
        "id": "j4fi7nYr9xXS"
      },
      "source": [
        "### <p style=\"align: right; direction: rtl; float: right;\">תרגול שמות משתנים</p>"
      ]
    },
    {
      "cell_type": "markdown",
      "metadata": {
        "id": "GkAE6RW09xXS"
      },
      "source": [
        "#### <p style=\"align: right; direction: rtl; float: right;\">בדקו האם שם המשתנה עומד בחוקים ובמוסכמות</p>"
      ]
    },
    {
      "cell_type": "markdown",
      "metadata": {
        "id": "e2U1YC2x9xXS"
      },
      "source": [
        "<div class=\"align-center\" style=\"display: flex; text-align: right; direction: rtl; clear: both;\">\n",
        "    <div style=\"display: flex; width: 10%; float: right; clear: both;\">\n",
        "        <img src=\"https://github.com/PythonFreeCourse/Notebooks/blob/main/content/week01/images/exercise.svg?raw=1\" style=\"height: 50px !important;\" alt=\"תרגול\">\n",
        "    </div>\n",
        "    <div style=\"width: 70%\">\n",
        "        <p style=\"text-align: right; direction: rtl; float: right; clear: both;\">\n",
        "            עבור כל אחד משמות המשתנים שלפניכם, רשמו במחברת או בהערה האם שם המשתנה עומד בחוקים ובמוסכמות.<br>\n",
        "            אחרי שרשמתם בצד, תקנו את שמות המשתנים הבעיתיים, וודאו שהרצת התא לא תגרום לשגיאה.\n",
        "        </p>\n",
        "    </div>\n",
        "</div>"
      ]
    },
    {
      "cell_type": "code",
      "execution_count": 6,
      "metadata": {
        "id": "4zRqHu4D9xXS"
      },
      "outputs": [],
      "source": [
        "a = 5 #ok\n",
        "my_birthday = '12/07/1995' #not ok\n",
        "my_birthday = '12/07/1995' #not ok\n",
        "pizza_radius = 5.3 #ok\n",
        "pizza = 3 #ok\n",
        "pizza_radius = 2.7 #not ok\n",
        "pizza_price = 2 #not ok\n",
        "five_pizzas_price = 30 # not ok\n",
        "my_name = \"Yam Mesicka\" #ok\n",
        "your_name = '4Tomer Gavish' #ok"
      ]
    },
    {
      "cell_type": "markdown",
      "metadata": {
        "id": "rcEQgfsz9xXT"
      },
      "source": [
        "#### <span style=\"align: right; direction: rtl; float: right; clear: both\">תנו שם למשתנים הבאים:</span>"
      ]
    },
    {
      "cell_type": "markdown",
      "metadata": {
        "id": "-L0NdIh89xXT"
      },
      "source": [
        "<ol style=\"text-align: right; direction: rtl; float: right; white-space: nowrap;\">\n",
        "<li>השם של כותב הספר.</li>\n",
        "<li>הגיל של המשתמש בתוכנית.</li>\n",
        "<li>המלל במחברת הזו.</li>\n",
        "<li>מספר הקילומטרים מתל אביב לניו יורק.</li>\n",
        "</ol>"
      ]
    },
    {
      "cell_type": "markdown",
      "source": [
        "1- author_name\n",
        "2- user_age\n",
        "3- notebook_text\n",
        "4- tel_aviv_to_new_york_kilometers_amount"
      ],
      "metadata": {
        "id": "ExteYofqCati"
      }
    },
    {
      "cell_type": "markdown",
      "metadata": {
        "id": "pIrQeFtM9xXT"
      },
      "source": [
        "## <p style=\"align: right; direction: rtl; float: right;\">עריכת ערכי משתנים</p>"
      ]
    },
    {
      "cell_type": "markdown",
      "metadata": {
        "id": "FxlNr45w9xXT"
      },
      "source": [
        "<p style=\"text-align: right; direction: rtl; float: right;\">\n",
        "בתחילת המחברת ביצענו כמה השמות למשתנים. לעיתים קרובות, נרצה <em>לערוך</em> את התוכן של המשתנה.<br>\n",
        "בואו נראה דוגמה:\n",
        "</p>"
      ]
    },
    {
      "cell_type": "code",
      "execution_count": 7,
      "metadata": {
        "id": "7xHVAreq9xXT",
        "outputId": "cea76076-5daf-4e23-e70c-40afbc7ba5c6",
        "colab": {
          "base_uri": "https://localhost:8080/"
        }
      },
      "outputs": [
        {
          "output_type": "stream",
          "name": "stdout",
          "text": [
            "25\n"
          ]
        }
      ],
      "source": [
        "my_age = 24\n",
        "my_age = my_age + 1\n",
        "print(my_age)"
      ]
    },
    {
      "cell_type": "markdown",
      "metadata": {
        "id": "U0ZzBRei9xXU"
      },
      "source": [
        "<p style=\"text-align: right; direction: rtl; float: right; clear: both;\">\n",
        "מה קרה כאן?<br>\n",
        "בשורה 1 עשינו השמה פשוטה, כפי שלמדנו קודם. עד כאן הכול מוכר.<br>\n",
        "בשורה 2 הרעיון זהה. כל מה שאתם צריכים לזכור הוא שפייתון תחשב קודם את צד ימין (הערך) ורק אז תכניס אותו לתוך צד שמאל (שם המשתנה).\n",
        "</p>\n",
        "<p style=\"text-align: right; direction: rtl; float: right; clear: both;\">\n",
        "בואו נעקוב אחרי דרך המחשבה של פייתון כשהיא קוראת את השורה השנייה:\n",
        "</p>\n",
        "<div style=\"clear: both;\">\n",
        "<ol style=\"text-align: right; direction: rtl; float: right; clear: both; white-space: nowrap;\">\n",
        "<li>הסתכל על צד ימין של ההשמה.</li>\n",
        "<li>בדוק על איזה ערך מצביע הלייזר שנקרא <code>my_age</code>.</li>\n",
        "<li>הערך הוא <samp>24</samp>. חשב את <code>1 + 24</code>.</li>\n",
        "<li>התוצאה היא <samp>25</samp>; צד ימין \"פתור\".</li>\n",
        "<li style=\"text-align: right; direction: rtl; float: right; white-space: nowrap;\">הכנס את הערך <samp>25</samp> לתוך הצד השמאלי של ההשמה, <code>my_age</code>.</li>\n",
        "</ol>"
      ]
    },
    {
      "cell_type": "markdown",
      "metadata": {
        "id": "6CZDWagh9xXU"
      },
      "source": [
        "## <p style=\"align: right; direction: rtl; float: right;\">תרגול</p>"
      ]
    },
    {
      "cell_type": "markdown",
      "metadata": {
        "id": "LO7NBfqu9xXU"
      },
      "source": [
        "### <p style=\"align: right; direction: rtl; float: right;\">ארגז קרמבו</p>"
      ]
    },
    {
      "cell_type": "markdown",
      "metadata": {
        "id": "UjoHMfO99xXV"
      },
      "source": [
        "<p style=\"text-align: right; direction: rtl; float: right;\">\n",
        "קניתי 5 ארגזים גדולים של קרמבו. בארגז יש 10 יחידות קרמבו בכל שורה, ו־4 יחידות קרמבו בכל עמודה.<br>\n",
        "נסו לשים כל אחד מהנתונים שמצאתם בשאלה במשתנה, ולהדפיס כמה קרמבו יש לי.\n",
        "</p>"
      ]
    },
    {
      "cell_type": "code",
      "execution_count": 9,
      "metadata": {
        "id": "GOkL4uIk9xXV",
        "outputId": "3c329f04-63fd-4042-d3b5-1f3967bcef5d",
        "colab": {
          "base_uri": "https://localhost:8080/"
        }
      },
      "outputs": [
        {
          "output_type": "stream",
          "name": "stdout",
          "text": [
            "200\n"
          ]
        }
      ],
      "source": [
        "boxes_amount = 5\n",
        "box_row_size = 10\n",
        "box_column_size = 4\n",
        "crembos_amount = boxes_amount * box_row_size * box_column_size\n",
        "print(crembos_amount)"
      ]
    },
    {
      "cell_type": "markdown",
      "metadata": {
        "id": "j2JnmVtw9xXV"
      },
      "source": [
        "### <p style=\"align: right; direction: rtl; float: right;\">מבריחים מהבריכה</p>"
      ]
    },
    {
      "cell_type": "markdown",
      "metadata": {
        "id": "rvLar3An9xXV"
      },
      "source": [
        "<p style=\"text-align: right; direction: rtl; float: right;\">\n",
        "אורך הבריכה הפרטית שהייתי מת שתהיה לי הוא 50 מטר, ורוחבה 25 מטר.<br>\n",
        "כדי להיתקע בכמה שיותר אנשים בדרך, אני מתכנן לשחות באלכסון, מהפינה האחת של הבריכה לפינה הנגדית לה.<br>\n",
        "אני נמצא בפינה שממנה אני מתכנן לצאת. תוכלו לעזור לי להבין מה המרחק שאצטרך לשחות כדי להגיע לפינה הנגדית?<br>\n",
        "נסו לעשות שימוש ב־3 משתנים כדי לפתור את השאלה.<br>\n",
        "<strong>טיפ:</strong> סיפרו לי שנוסחת אלכסון היא <span style=\"display: inline-flex;\">$(l^2 + w^2)^{0.5}$</span>, כאשר\n",
        "    <span style=\"display: inline-flex;\">${l}$</span>\n",
        "    מציין את אורך הבריכה ו־\n",
        "        <span style=\"display: inline-flex;\">${w}$</span>\n",
        "    את רוחבה.\n",
        "</p>"
      ]
    },
    {
      "cell_type": "code",
      "execution_count": 10,
      "metadata": {
        "id": "UVfA21TE9xXV",
        "outputId": "9796ffbc-3bf9-4c3c-9252-fa4529c5624b",
        "colab": {
          "base_uri": "https://localhost:8080/"
        }
      },
      "outputs": [
        {
          "output_type": "stream",
          "name": "stdout",
          "text": [
            "55.90169943749474\n"
          ]
        }
      ],
      "source": [
        "length = 50\n",
        "width = 25\n",
        "slant = (length ** 2 + width ** 2) ** 0.5\n",
        "print(slant)"
      ]
    },
    {
      "cell_type": "markdown",
      "metadata": {
        "id": "F_Dr7PTO9xXW"
      },
      "source": [
        "<p style=\"text-align: right; direction: rtl; float: right;\">\n",
        "לאחר שיפוץ של הבריכה הפרטית שהייתי מת שתהיה לי, אורכה גדל פי 2.<br>\n",
        "כחלק מהשיפוצים גם הוסיפו לבריכה מסלולים, כך שהרוחב שלה גדל בגודל השווה לאורך החדש של הבריכה.<br>\n",
        "הדפיסו את הגודל החדש של הבריכה. אל תשנו את הקוד למעלה; פשוט המשיכו אותו בתא הבא, והשתמשו בהשמה כדי להתאים את המשתנים למציאות החדשה.\n",
        "</p>"
      ]
    },
    {
      "cell_type": "code",
      "source": [
        "length *= 2\n",
        "width += length\n",
        "new_size = length * width\n",
        "print(new_size)"
      ],
      "metadata": {
        "id": "UmPso8NQEqYd",
        "outputId": "6a8fafd5-58fc-4782-810c-547b1f4db20f",
        "colab": {
          "base_uri": "https://localhost:8080/"
        }
      },
      "execution_count": 11,
      "outputs": [
        {
          "output_type": "stream",
          "name": "stdout",
          "text": [
            "12500\n"
          ]
        }
      ]
    },
    {
      "cell_type": "markdown",
      "metadata": {
        "id": "00mLJPpb9xXW"
      },
      "source": [
        "<div class=\"align-center\" style=\"display: flex; text-align: right; direction: rtl;\">\n",
        "    <div style=\"display: flex; width: 10%; float: right; \">\n",
        "        <img src=\"https://github.com/PythonFreeCourse/Notebooks/blob/main/content/week01/images/tip.png?raw=1\" style=\"height: 50px !important;\" alt=\"טיפ!\">\n",
        "    </div>\n",
        "    <div style=\"width: 90%\">\n",
        "        <p style=\"text-align: right; direction: rtl;\">\n",
        "            ניתן להתייחס גם למשתנים שהוגדרו בתאים אחרים במחברת.<br>\n",
        "            לדוגמה, אם הרצנו תא שבו הוגדר משתנה בשם <var>w</var>, מאותו רגע כל תא אחר במחברת יוכל להשתמש במשתנה <var>w</var>.<br>\n",
        "            ערכו של משתנה מסויים בזמן נתון הוא הערך שהוגדר עבורו בתא האחרון שהורץ במחברת.\n",
        "        </p>\n",
        "    </div>\n",
        "<div>"
      ]
    },
    {
      "cell_type": "code",
      "execution_count": null,
      "metadata": {
        "id": "n8L9pgEr9xXW"
      },
      "outputs": [],
      "source": []
    },
    {
      "cell_type": "markdown",
      "metadata": {
        "id": "hV50UwmG9xXW"
      },
      "source": [
        "### <p style=\"align: right; direction: rtl; float: right;\">ברכות</p>"
      ]
    },
    {
      "cell_type": "markdown",
      "metadata": {
        "id": "U7lTrKNS9xXW"
      },
      "source": [
        "<ol style=\"text-align: right; direction: rtl; float: right; white-space: nowrap;\">\n",
        "    <li>הגדירו משתנה שערכו הוא השם שלכם.</li>\n",
        "    <li>הגדירו משתנה שערכו הוא ברכה חגיגית: \"מזל טוב\", \"חג שמח\" או סתם \"יא מגניב אחד\".</li>\n",
        "    <li>חברו את שניהם למשפט.</li>\n",
        "</ol>"
      ]
    },
    {
      "cell_type": "code",
      "source": [
        "name = \"Michelle\"\n",
        "festive_greeting = \"Happy holiday!\"\n",
        "sentence = f'{name} {festive_greeting}'\n",
        "print(sentence)"
      ],
      "metadata": {
        "id": "U8KmHhxwKQMd",
        "outputId": "49c7c899-c1ef-4ef1-8b30-34916c5daa35",
        "colab": {
          "base_uri": "https://localhost:8080/"
        }
      },
      "execution_count": 16,
      "outputs": [
        {
          "output_type": "stream",
          "name": "stdout",
          "text": [
            "Michelle Happy holiday!\n"
          ]
        }
      ]
    },
    {
      "cell_type": "markdown",
      "metadata": {
        "id": "f92F3nu99xXX"
      },
      "source": [
        "<p style=\"text-align: right; direction: rtl; float: right;\">\n",
        "לדוגמה: אם השם שלי הוא David והברכה שהוכנסה היא You are cool, המשפט שיצא הוא <samp>David You are cool</samp>.\n",
        "</p>"
      ]
    }
  ],
  "metadata": {
    "kernelspec": {
      "display_name": "Python 3",
      "language": "python",
      "name": "python3"
    },
    "language_info": {
      "codemirror_mode": {
        "name": "ipython",
        "version": 3
      },
      "file_extension": ".py",
      "mimetype": "text/x-python",
      "name": "python",
      "nbconvert_exporter": "python",
      "pygments_lexer": "ipython3",
      "version": "3.7.6"
    },
    "colab": {
      "provenance": []
    }
  },
  "nbformat": 4,
  "nbformat_minor": 0
}