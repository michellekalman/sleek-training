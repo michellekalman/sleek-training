{
  "cells": [
    {
      "cell_type": "markdown",
      "metadata": {
        "id": "YRqcotkA273b"
      },
      "source": [
        "<img src=\"https://github.com/PythonFreeCourse/Notebooks/blob/main/content/week01/images/logo.jpg?raw=1\" style=\"display: block; margin-left: auto; margin-right: auto;\" alt=\"לוגו של מיזם לימוד הפייתון. נחש מצויר בצבעי צהוב וכחול, הנע בין האותיות של שם הקורס: לומדים פייתון. הסלוגן המופיע מעל לשם הקורס הוא מיזם חינמי ללימוד תכנות בעברית.\">"
      ]
    },
    {
      "cell_type": "markdown",
      "metadata": {
        "id": "on98Jr7A273g"
      },
      "source": [
        "# <p style=\"align: right; direction: rtl; float: right;\">ברוכים הבאים למחברת הפייתון הראשונה שלכם!</p>"
      ]
    },
    {
      "cell_type": "markdown",
      "metadata": {
        "id": "cAX9rA0s273h"
      },
      "source": [
        "<p style=\"text-align: right; direction: rtl; float: right;\">\n",
        "ממש בקרוב נצלול לעולם התכנות, שבו תוכלו להריץ דוגמאות קוד מעניינות.<br>\n",
        "המחברת שלפניכם היא מחברת אינטראקטיבית שמאפשרת לנו להריץ קוד ולראות את התוצאות שלו בקלות.\n",
        "</p>"
      ]
    },
    {
      "cell_type": "markdown",
      "metadata": {
        "id": "lAqU7Kzn273i"
      },
      "source": [
        "<p style=\"text-align: right; direction: rtl; float: right;\">כדי להריץ את התוכן של תא מסוים, לחצו עליו כך שתופיע סביבו מסגרת, והקישו בו־זמנית על המקשים <kbd>CTRL</kbd> + <kbd>ENTER</kbd> במקלדת.<br>\n",
        "לאחר שתעשו זאת, פייתון תעבד את הביטוי המופיע במשבצת ותציג לכם תשובה בהתאם.<br>\n",
        "נסו את זה על המשבצת הבאה!</p>"
      ]
    },
    {
      "cell_type": "code",
      "execution_count": 1,
      "metadata": {
        "id": "TiJ2wPBM273j",
        "outputId": "08b11d11-58ad-43cf-fa5f-5eea0039ab56",
        "colab": {
          "base_uri": "https://localhost:8080/"
        }
      },
      "outputs": [
        {
          "output_type": "stream",
          "name": "stdout",
          "text": [
            "Hello World\n"
          ]
        }
      ],
      "source": [
        "print(\"Hello World\")"
      ]
    },
    {
      "cell_type": "markdown",
      "metadata": {
        "id": "c7xcKeM8273l"
      },
      "source": [
        "<p style=\"text-align: right; direction: rtl; float: right;\">אפשר לזהות בקלות תא שמיועד להרצה, באמצעות צבע הרקע האפור שלו שנמתח על גבי כל השורה.</p>"
      ]
    },
    {
      "cell_type": "markdown",
      "metadata": {
        "id": "ngB3C5wC273m"
      },
      "source": [
        "<div class=\"align-center\" style=\"display: flex; text-align: right; direction: rtl;\">\n",
        "    <div style=\"display: flex; width: 10%; float: right; \">\n",
        "        <img src=\"https://github.com/PythonFreeCourse/Notebooks/blob/main/content/week01/images/tip.png?raw=1\" style=\"height: 50px !important;\" alt=\"טיפ!\">\n",
        "    </div>\n",
        "    <div style=\"width: 90%\">\n",
        "        <p style=\"text-align: right; direction: rtl;\">\n",
        "            תוכלו להמנע משימוש בעכבר ולעבוד מהר יותר רק עם המקלדת. עברו בין התאים בעזרת המקשים <kbd>↓</kbd> או <kbd>↑</kbd> במקלדת שלכם.\n",
        "        </p>\n",
        "    </div>\n",
        "</div>"
      ]
    },
    {
      "cell_type": "markdown",
      "metadata": {
        "id": "lu11eh24273n"
      },
      "source": [
        "## <p style=\"align: right; direction: rtl; float: right;\">הדפסה</p>"
      ]
    },
    {
      "cell_type": "markdown",
      "metadata": {
        "id": "Ebl3WnYx273n"
      },
      "source": [
        "<p style=\"align: right; direction: rtl; float: right; clear: both;\">\n",
        "<q>אבל רגע</q>, יגידו הסקרנים ביניכם, <q>מה הרצתי שם למעלה?</q><br>\n",
        "</p>\n"
      ]
    },
    {
      "cell_type": "markdown",
      "metadata": {
        "id": "qFaJ1Ojn273o"
      },
      "source": [
        "<p style=\"align: right; direction: rtl; float: right; clear: both;\">\n",
        "כמו שוודאי ניחשתם, הקוד שהרצתם מדפיס \"שלום עולם\". הוא מורכב משני חלקים יחסית פשוטים: <em>מחרוזת</em> ו<em>פקודת הדפסה</em>.\n",
        "</p>"
      ]
    },
    {
      "cell_type": "markdown",
      "metadata": {
        "id": "xElqUUvV273o"
      },
      "source": [
        "### <p style=\"align: right; direction: rtl; float: right;\">print</p>"
      ]
    },
    {
      "cell_type": "markdown",
      "metadata": {
        "id": "TbM_dViV273p"
      },
      "source": [
        "<p style=\"text-align: right; direction: rtl; float: right;\">\n",
        "אחד הדברים שנעשה לא מעט בשבועות הקרובים זה להדפיס למסך.<br>\n",
        "כדי לעשות את זה, נצטרך פשוט לכתוב <code>print</code>, לפתוח סוגריים, לכתוב <em>ביטוי חוקי כלשהו</em> ולסגור את הסוגריים.<br>\n",
        "בואו נסתכל על כמה דוגמאות:\n",
        "</p>"
      ]
    },
    {
      "cell_type": "code",
      "execution_count": 2,
      "metadata": {
        "id": "to_xXPJD273p",
        "outputId": "8e845459-3e8d-455a-ed6a-826e5f103568",
        "colab": {
          "base_uri": "https://localhost:8080/"
        }
      },
      "outputs": [
        {
          "output_type": "stream",
          "name": "stdout",
          "text": [
            "1\n"
          ]
        }
      ],
      "source": [
        "print(1)"
      ]
    },
    {
      "cell_type": "code",
      "execution_count": 3,
      "metadata": {
        "id": "wtacjare273p",
        "outputId": "99230b6d-5786-44d7-aec3-08b8ea725f7e",
        "colab": {
          "base_uri": "https://localhost:8080/"
        }
      },
      "outputs": [
        {
          "output_type": "stream",
          "name": "stdout",
          "text": [
            "Hello\n"
          ]
        }
      ],
      "source": [
        "print(\"Hello\")"
      ]
    },
    {
      "cell_type": "code",
      "execution_count": 4,
      "metadata": {
        "id": "3V_XsWzs273p",
        "outputId": "f77e23e6-cfca-4236-cc0a-deb35f8772ea",
        "colab": {
          "base_uri": "https://localhost:8080/"
        }
      },
      "outputs": [
        {
          "output_type": "stream",
          "name": "stdout",
          "text": [
            "Hello World\n"
          ]
        }
      ],
      "source": [
        "print(\"Hello World\")"
      ]
    },
    {
      "cell_type": "code",
      "execution_count": 5,
      "metadata": {
        "id": "fh6-evAJ273p",
        "outputId": "23dd8743-12a2-4bd6-f691-28cd502c0984",
        "colab": {
          "base_uri": "https://localhost:8080/"
        }
      },
      "outputs": [
        {
          "output_type": "stream",
          "name": "stdout",
          "text": [
            "6\n"
          ]
        }
      ],
      "source": [
        "print(1 + 5)"
      ]
    },
    {
      "cell_type": "markdown",
      "metadata": {
        "id": "7ZUMC7ke273q"
      },
      "source": [
        "<div class=\"align-center\" style=\"display: flex; text-align: right; direction: rtl; clear: both;\">\n",
        "    <div style=\"display: flex; width: 10%; float: right; \">\n",
        "        <img src=\"https://github.com/PythonFreeCourse/Notebooks/blob/main/content/week01/images/warning.png?raw=1\" style=\"height: 50px !important;\" alt=\"אזהרה!\">\n",
        "    </div>\n",
        "    <div style=\"width: 90%\">\n",
        "        <p style=\"text-align: right; direction: rtl;\">\n",
        "            נהוג לרשום את הסוגריים סמוך למילה <code>print</code>, בלי רווחים לפני או אחרי הסוגריים.<br>\n",
        "            אם תשכחו סוגריים, או אם תפתחו סוגריים ותשכחו לסגור אותם, פייתון תתריע על <dfn>שגיאה</dfn>.<br>\n",
        "            זה לא באמת מפחיד אותנו, אבל כדאי לזכור שזו אחת הסיבות שאתם עלולים להיתקל בהודעות שגיאה.\n",
        "    </p>\n",
        "</div>\n"
      ]
    },
    {
      "cell_type": "markdown",
      "metadata": {
        "id": "CttwGl1U273q"
      },
      "source": [
        "### <span style=\"text-align: right; direction: rtl; float: right; clear: both;\">מחרוזת</span>"
      ]
    },
    {
      "cell_type": "markdown",
      "metadata": {
        "id": "rshUzLSu273q"
      },
      "source": [
        "<p style=\"text-align: right; direction: rtl; float: right; clear: both;\">\n",
        "למרות השם הרשמי, מחרוזת היא בסך הכול רצף של תווים. מחרוזת יכולה להיות \"שלום עולם\", התוכן של הספר הארי פוטר ואפילו האות \"ש\" לבדה.<br>\n",
        "במקרה שלנו, המחרוזת היא <code>\"Hello World\"</code>.<br>\n",
        "כדי שפייתון תזהה שמדובר במחרוזת, נהיה חייבים להקיף את המחרוזת בגרש (צ'וקו) או בגרשיים (צ'וקיים).<br>\n",
        "פייתון נחמדה אלינו ולא באמת אכפת לה במה תשתמשו, כל עוד תתחילו בגרש ותסיימו בגרש, או תתחילו בגרשיים ותסיימו בגרשיים.<br>\n",
        "בואו נסתכל על כמה דוגמאות:\n",
        "</p>"
      ]
    },
    {
      "cell_type": "code",
      "execution_count": 6,
      "metadata": {
        "id": "fwn6Z4Wn273q",
        "outputId": "6e31890f-9f8d-4db8-9e8c-e9bb82a9c8f3",
        "colab": {
          "base_uri": "https://localhost:8080/"
        }
      },
      "outputs": [
        {
          "output_type": "stream",
          "name": "stdout",
          "text": [
            "Hello World\n"
          ]
        }
      ],
      "source": [
        "print(\"Hello World\")"
      ]
    },
    {
      "cell_type": "code",
      "execution_count": 7,
      "metadata": {
        "id": "GI0MiHE_273q",
        "outputId": "a8779c00-e21d-41e0-ed77-a13d9a554c7f",
        "colab": {
          "base_uri": "https://localhost:8080/"
        }
      },
      "outputs": [
        {
          "output_type": "stream",
          "name": "stdout",
          "text": [
            "Hello World\n"
          ]
        }
      ],
      "source": [
        "print('Hello World')"
      ]
    },
    {
      "cell_type": "code",
      "execution_count": 8,
      "metadata": {
        "id": "eD5qCLoM273q",
        "outputId": "9142f5ef-31d9-4a1a-ba4e-95172e376661",
        "colab": {
          "base_uri": "https://localhost:8080/"
        }
      },
      "outputs": [
        {
          "output_type": "stream",
          "name": "stdout",
          "text": [
            "\"Why were you lurking under our window?\" \"Yes - yes, good point, Petunia! What were you doing under our windows, boy?\" \"Listening to the news,\" said Harry in a resigned voice. His aunt and uncle exchanged looks of outrage. \"Listening to the news! Again?\" \"Well, it changes every day, you see,\" said Harry.\n"
          ]
        }
      ],
      "source": [
        "print('\"Why were you lurking under our window?\" \"Yes - yes, good point, Petunia! What were you doing under our windows, boy?\" \"Listening to the news,\" said Harry in a resigned voice. His aunt and uncle exchanged looks of outrage. \"Listening to the news! Again?\" \"Well, it changes every day, you see,\" said Harry.')"
      ]
    },
    {
      "cell_type": "code",
      "execution_count": 9,
      "metadata": {
        "id": "-L_lU2rS273q",
        "outputId": "3da9f36c-26de-414a-c7be-fdeb0918dfd3",
        "colab": {
          "base_uri": "https://localhost:8080/"
        }
      },
      "outputs": [
        {
          "output_type": "stream",
          "name": "stdout",
          "text": [
            "x\n"
          ]
        }
      ],
      "source": [
        "print(\"x\")"
      ]
    },
    {
      "cell_type": "markdown",
      "metadata": {
        "id": "fOHwhh27273q"
      },
      "source": [
        "<div class=\"align-center\" style=\"display: flex; text-align: right; direction: rtl; clear: both;\">\n",
        "    <div style=\"display: flex; width: 10%; float: right; \">\n",
        "        <img src=\"https://github.com/PythonFreeCourse/Notebooks/blob/main/content/week01/images/warning.png?raw=1\" style=\"height: 50px !important;\" alt=\"אזהרה!\">\n",
        "    </div>\n",
        "    <div style=\"width: 90%\">\n",
        "        <p style=\"text-align: right; direction: rtl;\">\n",
        "            טעות נפוצה בקרב אנשים שמצטרפים לעולם התכנות, היא לשכוח את הגרש או את הגרשיים בסיום ו/או בתחילת המחרוזת.<br>\n",
        "            אם תשכחו אותם, פייתון עלולה להתריע על שגיאה. זה לא באמת מפחיד אותנו, אבל כדאי לזכור שזו אחת הסיבות שאתם עלולים להיתקל בהודעות שגיאה.\n",
        "        </p>\n",
        "    </div>\n",
        "</div>"
      ]
    },
    {
      "cell_type": "markdown",
      "metadata": {
        "id": "Bb5RbDZK273q"
      },
      "source": [
        "<span style=\"text-align: right; direction: rtl; float: right; clear: both;\">הנה דוגמה לטעות שכזו, שתגרום לפייתון להתריע על שגיאה:</span>"
      ]
    },
    {
      "cell_type": "code",
      "execution_count": 10,
      "metadata": {
        "id": "cZTReKZG273r",
        "outputId": "721c35b1-b030-47af-a7c1-0d66919ebda0",
        "colab": {
          "base_uri": "https://localhost:8080/",
          "height": 106
        }
      },
      "outputs": [
        {
          "output_type": "error",
          "ename": "SyntaxError",
          "evalue": "invalid syntax. Perhaps you forgot a comma? (<ipython-input-10-10cb182148e3>, line 1)",
          "traceback": [
            "\u001b[0;36m  File \u001b[0;32m\"<ipython-input-10-10cb182148e3>\"\u001b[0;36m, line \u001b[0;32m1\u001b[0m\n\u001b[0;31m    print(Hello World)\u001b[0m\n\u001b[0m          ^\u001b[0m\n\u001b[0;31mSyntaxError\u001b[0m\u001b[0;31m:\u001b[0m invalid syntax. Perhaps you forgot a comma?\n"
          ]
        }
      ],
      "source": [
        "print(Hello World)"
      ]
    },
    {
      "cell_type": "markdown",
      "metadata": {
        "id": "_4mgwV_L273r"
      },
      "source": [
        "## <span style=\"align: right; direction: rtl; float: right;\">תרגול</span>"
      ]
    },
    {
      "cell_type": "markdown",
      "metadata": {
        "id": "snV6kvHA273r"
      },
      "source": [
        "### <p style=\"align: right; direction: rtl; float: right;\">מה מחרוזת ומה לא?</p>"
      ]
    },
    {
      "cell_type": "markdown",
      "metadata": {
        "id": "eDlYUtUw273r"
      },
      "source": [
        "<p style=\"text-align: right; direction: rtl; float: right;\">\n",
        "לפניכם כמה ביטויים בפייתון. מה לדעתכם מחרוזת תקינה ומה לא?<br>\n",
        "רשמו בצד את התשובות שלכם, ורק אז עברו לתא שאחרי התרגיל כדי לבדוק אם עניתם נכונה על השאלות.<br>\n",
        "זהירות! הטמנו שם כמה מוקשים ;)\n",
        "</p>"
      ]
    },
    {
      "cell_type": "markdown",
      "metadata": {
        "id": "UvrTN_bn273r"
      },
      "source": [
        "<ol style=\"font-size: 1.25em; direction: ltr\">\n",
        "<li><code>\"Hello World\"</code></li>\n",
        "<li><code>'Hello World'</code></li>\n",
        "<li><code>1234</code></li>\n",
        "<li><code>\"1234\"</code></li>\n",
        "<li><code>print(\"Hello World\")</code></li>\n",
        "<li><code>print</code></li>\n",
        "<li><code>'Israel'</code></li>\n",
        "<li><code>Moshe</code></li>\n",
        "<li><code>\".\"</code></li>\n",
        "<li><code>\"_)(*&^%\"</code></li>\n",
        "<li><code>\"_)('*&^%\"</code></li>\n",
        "    <li><code>\"_)(\"*&^%\"</code></li>\n",
        "</ol>"
      ]
    },
    {
      "cell_type": "markdown",
      "metadata": {
        "id": "qvgqySjJ273r"
      },
      "source": [
        "<p style=\"text-align: right; direction: rtl; float: right;\">\n",
        "    סמנו בעזרת העכבר את הריבוע השחור (<span style=\"direction: rtl; background: #000; text: #000\">המחרוזות התקינות הן: 1, 2, 4, 7, 9, 10, 11</span>) כדי לראות אילו מן הסעיפים הוא מחרוזת תקינה.\n",
        "</p>\n",
        "<br>\n",
        "<p >\n",
        "    \n",
        "</p>"
      ]
    },
    {
      "cell_type": "markdown",
      "metadata": {
        "id": "yczD35A0273r"
      },
      "source": [
        "### <p style=\"align: right; direction: rtl; float: right;\">חוברים למחברת</p>"
      ]
    },
    {
      "cell_type": "markdown",
      "metadata": {
        "id": "YvFDLou3273r"
      },
      "source": [
        "<p style=\"text-align: right; direction: rtl; float: right;\">\n",
        "הוסיפו למחברת תא שבו ניתן לכתוב קוד.<br>\n",
        "ניתן לעשות זאת בלחיצה על המשבצת הזו, ואז בלחיצה על <kbd>b</kbd> במקלדת.<br>\n",
        "הלחיצה על <kbd>b</kbd> משמעה \"הוסף אזור קוד <em>מתחת (<strong>b</strong>elow)</em> למשבצת שסימנתי\".<br>\n",
        "כתבו במשבצת קוד לבחירתכם. ודאו שהתא שמכיל את הקוד מסומן, ואז לחצו <kbd>CTRL</kbd> יחד עם <kbd>ENTER</kbd> כדי להריץ אותו.<br>\n",
        "</p>"
      ]
    },
    {
      "cell_type": "code",
      "source": [
        "print(\"a\")"
      ],
      "metadata": {
        "id": "o1Ld5feZ4ARs",
        "outputId": "0c6dba3f-c5de-4d79-a6c0-8c8ee92fe916",
        "colab": {
          "base_uri": "https://localhost:8080/"
        }
      },
      "execution_count": 11,
      "outputs": [
        {
          "output_type": "stream",
          "name": "stdout",
          "text": [
            "a\n"
          ]
        }
      ]
    },
    {
      "cell_type": "markdown",
      "metadata": {
        "id": "Ahj5J1DA273r"
      },
      "source": [
        "### <p style=\"align: right; direction: rtl; float: right;\">שרה שרה שיר שמח</p>"
      ]
    },
    {
      "cell_type": "markdown",
      "metadata": {
        "id": "Rn7Ynnqt273s"
      },
      "source": [
        "<p style=\"text-align: right; direction: rtl; float: right;\">\n",
        "הדפיסו את הפזמון מהשיר האהוב עליכם!<br>\n",
        "אם צריך, היעזרו בדוגמת ההדפסה שמופיעה בתחילת המחברת.<br>\n",
        "שימו לב שניתן להדפיס יותר משורה אחת על ידי חזרה על <code>print</code> בכמה שורות נפרדות.<br>\n",
        "הוסיפו אזור קוד שבו תוכלו לכתוב את פתרון התרגיל.\n",
        "</p>"
      ]
    },
    {
      "cell_type": "code",
      "source": [
        "print(\"Lately, I've been, I've been losin' sleep\")\n",
        "print(\"Dreamin' about the things that we could be\")\n",
        "print(\"But baby, I've been, I've been prayin' hard\")\n",
        "print(\"Said, No more countin' dollars, we'll be countin' stars\")\n"
      ],
      "metadata": {
        "id": "-kzBz8Hl4QmC",
        "outputId": "1814a99a-1cee-428a-d074-4c98f0a16a1c",
        "colab": {
          "base_uri": "https://localhost:8080/"
        }
      },
      "execution_count": 12,
      "outputs": [
        {
          "output_type": "stream",
          "name": "stdout",
          "text": [
            "Lately, I've been, I've been losin' sleep\n",
            "Dreamin' about the things that we could be\n",
            "But baby, I've been, I've been prayin' hard\n",
            "Said, No more countin' dollars, we'll be countin' stars\n"
          ]
        }
      ]
    },
    {
      "cell_type": "markdown",
      "metadata": {
        "id": "-1OLhksp273s"
      },
      "source": [
        "### <p style=\"align: right; direction: rtl; float: right;\">נגמר הדיו</p>"
      ]
    },
    {
      "cell_type": "markdown",
      "metadata": {
        "id": "onAWLS1b273s"
      },
      "source": [
        "<p style=\"text-align: right; direction: rtl; float: right;\">\n",
        "    בהרצה של קטע הקוד הבא, פייתון תתריע על שגיאה:<br>\n",
        "</p>"
      ]
    },
    {
      "cell_type": "code",
      "execution_count": 14,
      "metadata": {
        "id": "R87Hw5Q7273s",
        "outputId": "895b957b-8d7c-4129-fc83-0ff949ac5976",
        "colab": {
          "base_uri": "https://localhost:8080/"
        }
      },
      "outputs": [
        {
          "output_type": "stream",
          "name": "stdout",
          "text": [
            "My name is Arnio\n",
            "Success!\n",
            "Or is it?\n",
            "40\n"
          ]
        }
      ],
      "source": [
        "print(\"My name is Arnio\")\n",
        "print(\"Success!\")\n",
        "print(\"Or is it?\")\n",
        "print(40)"
      ]
    },
    {
      "cell_type": "markdown",
      "metadata": {
        "id": "4GQA4o_2273s"
      },
      "source": [
        "<p style=\"text-align: right; direction: rtl; float: right;\">\n",
        "הריצו את הקוד, צפו בשגיאה ותקנו את הקוד בהתאם.<br>\n",
        "חזרו על הפעולה עד שהקוד ירוץ במלואו.\n",
        "</p>"
      ]
    }
  ],
  "metadata": {
    "kernelspec": {
      "display_name": "Python 3",
      "language": "python",
      "name": "python3"
    },
    "language_info": {
      "codemirror_mode": {
        "name": "ipython",
        "version": 3
      },
      "file_extension": ".py",
      "mimetype": "text/x-python",
      "name": "python",
      "nbconvert_exporter": "python",
      "pygments_lexer": "ipython3",
      "version": "3.7.4"
    },
    "colab": {
      "provenance": []
    }
  },
  "nbformat": 4,
  "nbformat_minor": 0
}