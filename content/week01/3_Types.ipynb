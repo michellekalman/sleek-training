{
  "cells": [
    {
      "cell_type": "markdown",
      "metadata": {
        "id": "pbnmry3y8ZoZ"
      },
      "source": [
        "<img src=\"https://github.com/PythonFreeCourse/Notebooks/blob/main/content/week01/images/logo.jpg?raw=1\" style=\"display: block; margin-left: auto; margin-right: auto;\" alt=\"לוגו של מיזם לימוד הפייתון. נחש מצויר בצבעי צהוב וכחול, הנע בין האותיות של שם הקורס: לומדים פייתון. הסלוגן המופיע מעל לשם הקורס הוא מיזם חינמי ללימוד תכנות בעברית.\">"
      ]
    },
    {
      "cell_type": "markdown",
      "metadata": {
        "id": "nn6SdvY38Zoa"
      },
      "source": [
        "# <span style=\"align: right; direction: rtl; float: right;\">סוגי ערכים (טיפוסים, או types)</span>"
      ]
    },
    {
      "cell_type": "markdown",
      "metadata": {
        "id": "ZlATw-FH8Zoa"
      },
      "source": [
        "<p style=\"text-align: right; direction: rtl; float: right;\">כל ערך שאנחנו כותבים בפייתון הוא מ<strong>סוג</strong> מסוים. עד כה למדנו על שלושה סוגי ערכים שקיימים בפייתון (איזה זריזים אנחנו!):</p>"
      ]
    },
    {
      "cell_type": "markdown",
      "metadata": {
        "id": "FyE9zpJo8Zob"
      },
      "source": [
        "<ul style=\"text-align: right; direction: rtl; float: right;\">\n",
        "<li><abbr title=\"str\">מחרוזת</abbr></li>\n",
        "<li><abbr title=\"int\">מספר שלם</abbr></li>\n",
        "<li style=\"white-space: nowrap;\"><abbr title=\"float\" style=\"display: inline\">מספר עשרוני</abbr> (\"שבר\")</li>\n",
        "</ul>"
      ]
    },
    {
      "cell_type": "markdown",
      "metadata": {
        "id": "-hcD_wU28Zob"
      },
      "source": [
        "<p style=\"text-align: right; direction: rtl; float: right;\">היעזרו בסוגי הערכים המוצגים למעלה ונסו לקבוע מה סוג הנתונים בכל אחת מהשורות הבאות:</p>"
      ]
    },
    {
      "cell_type": "markdown",
      "metadata": {
        "id": "EGnRZ_Mo8Zob"
      },
      "source": [
        "<ol style=\"font-size: 1.25em;  list-style-type: i\">\n",
        "<li><code>\"Hello World\"</code></li>\n",
        "<li><code>3</code></li>\n",
        "<li><code>9.5</code></li>\n",
        "<li><code>\"3\"</code></li>\n",
        "<li><code>'3'</code></li>\n",
        "<li><code>'9.5'</code></li>\n",
        "<li><code>'a'</code></li>\n",
        "</ol>"
      ]
    },
    {
      "cell_type": "markdown",
      "metadata": {
        "id": "UIm7q-3t8Zob"
      },
      "source": [
        "<p style=\"text-align: right; direction: rtl; float: right;\">המינוח המקצועי ל\"<dfn>סוג</dfn>\" הוא \"<dfn>טיפוס</dfn>\", או באנגלית: <em>type</em>.</p>"
      ]
    },
    {
      "cell_type": "markdown",
      "metadata": {
        "id": "B0DeFvcL8Zob"
      },
      "source": [
        "<p style=\"text-align: right; direction: rtl; float: right;\">\n",
        "טיפוסי נתונים מזכירים מצבי צבירה: כפי שניתן למצוא בטבע מים בצורות שונות (כנוזל – לשתייה, וכמוצק – קוביות קרח),<br>\n",
        "כך בפייתון ניתן להשתמש בערך מסוים בכמה צורות.<br>\n",
        "נניח, בערך 9.5 ניתן להשתמש גם כמספר (<code>9.5</code>) וגם כמחרוזת (<code>'9.5'</code>). השימוש בכל אחד מהם הוא למטרה אחרת.\n",
        "</p>"
      ]
    },
    {
      "cell_type": "markdown",
      "metadata": {
        "id": "qyD42Z4d8Zoc"
      },
      "source": [
        "<div class=\"align-center\" style=\"display: flex; text-align: right; direction: rtl;\">\n",
        "    <div style=\"display: flex; width: 10%; float: right; \">\n",
        "        <img src=\"https://github.com/PythonFreeCourse/Notebooks/blob/main/content/week01/images/tip.png?raw=1\" style=\"height: 50px !important;\" alt=\"טיפ!\">\n",
        "    </div>\n",
        "    <div style=\"width: 90%\">\n",
        "        <p style=\"text-align: right; direction: rtl;\">\n",
        "            בניסוח רשמי או אקדמי משתמשים במינוח \"טיפוס\" או במינוח \"טיפוס נתונים\" כדי לסווג ערכים לקבוצות שונות.<br>\n",
        "            בתעשייה וביום־יום משתמשים במינוח \"סוג\". לדוגמה: <q>מוישה, מאיזה סוג המשתנה <var>age</var> שהגדרת פה?</q><br>\n",
        "        </p>\n",
        "    </div>\n",
        "</div>"
      ]
    },
    {
      "cell_type": "markdown",
      "metadata": {
        "id": "5ehWWHUD8Zoc"
      },
      "source": [
        "## <p style=\"align: right; direction: rtl; float: right;\">type</p>"
      ]
    },
    {
      "cell_type": "markdown",
      "metadata": {
        "id": "OKs_gGVW8Zoc"
      },
      "source": [
        "<p style=\"text-align: right; direction: rtl; float: right;\">כיוון שסוגי ערכים הם עניין מרכזי כל כך בפייתון, קיימת דרך לבדוק מה הוא הסוג של ערך מסוים.<br>\n",
        "לפני שנציג לכם איך לגלות את הסוג של כל ערך (אף על פי שחשוב שתדעו לעשות את זה בעצמכם), אנחנו רוצים להציג לפניכם איך פייתון מכנה כל סוג נתונים:</p>\n",
        "\n",
        "<div style=\"clear: both;\"></div>\n",
        "\n",
        "| שם בפייתון | שם באנגלית | שם בעברית |\n",
        "|:----------|:--------|------:|\n",
        "| str | **str**ing | מחרוזת |\n",
        "| int | **int**eger | מספר שלם |\n",
        "| float | float | מספר עשרוני |"
      ]
    },
    {
      "cell_type": "markdown",
      "metadata": {
        "id": "TlMpdAy28Zod"
      },
      "source": [
        "<span style=\"text-align: right; direction: rtl; float: right; clear: both;\">\n",
        "    כדי לראות את <em>הסוג</em> של ערך נתון, נשתמש ב־<code style=\"direction: ltr;\" dir=\"ltr\">type(VALUE)</code>, כאשר במקום <code>VALUE</code> יופיע הערך אותו נרצה לבדוק.\n",
        "</span>"
      ]
    },
    {
      "cell_type": "markdown",
      "metadata": {
        "id": "uqTwJbAQ8Zod"
      },
      "source": [
        "<div class=\"align-center\" style=\"display: flex; text-align: right; direction: rtl; clear: both;\">\n",
        "    <div style=\"display: flex; width: 10%; float: right; clear: both;\">\n",
        "        <img src=\"https://github.com/PythonFreeCourse/Notebooks/blob/main/content/week01/images/exercise.svg?raw=1\" style=\"height: 50px !important;\" alt=\"תרגול\">\n",
        "    </div>\n",
        "    <div style=\"width: 70%\">\n",
        "        <p style=\"text-align: right; direction: rtl; float: right; clear: both;\">\n",
        "            לפניכם דוגמאות אחדות של שימוש ב־<code>type</code>.<br>\n",
        "            קבעו מה תהיה התוצאה של כל אחת מהדוגמאות, ורק לאחר מכן הריצו ובדקו אם צדקתם.<br>\n",
        "            אם טעיתם – לא נורא, ממילא מדובר פה בהימורים מושכלים.\n",
        "        </p>\n",
        "    </div>\n",
        "</div>"
      ]
    },
    {
      "cell_type": "code",
      "execution_count": 1,
      "metadata": {
        "id": "bOylwDnD8Zod",
        "outputId": "cc3037d4-b767-452a-8386-e769507095e9",
        "colab": {
          "base_uri": "https://localhost:8080/"
        }
      },
      "outputs": [
        {
          "output_type": "execute_result",
          "data": {
            "text/plain": [
              "int"
            ]
          },
          "metadata": {},
          "execution_count": 1
        }
      ],
      "source": [
        "type(1)"
      ]
    },
    {
      "cell_type": "code",
      "execution_count": 2,
      "metadata": {
        "id": "j7LEARHi8Zod",
        "outputId": "2bb53f29-acce-412b-a785-8535135bfb60",
        "colab": {
          "base_uri": "https://localhost:8080/"
        }
      },
      "outputs": [
        {
          "output_type": "execute_result",
          "data": {
            "text/plain": [
              "int"
            ]
          },
          "metadata": {},
          "execution_count": 2
        }
      ],
      "source": [
        "type(-1)"
      ]
    },
    {
      "cell_type": "code",
      "execution_count": 3,
      "metadata": {
        "id": "Tl5vbbRw8Zod",
        "outputId": "c86cc593-d393-4094-e403-b88cc1567e78",
        "colab": {
          "base_uri": "https://localhost:8080/"
        }
      },
      "outputs": [
        {
          "output_type": "execute_result",
          "data": {
            "text/plain": [
              "int"
            ]
          },
          "metadata": {},
          "execution_count": 3
        }
      ],
      "source": [
        "type(0)"
      ]
    },
    {
      "cell_type": "code",
      "execution_count": 4,
      "metadata": {
        "id": "Igjyl95E8Zoe",
        "outputId": "dd024b05-180b-4b04-ee88-01540b08c9fd",
        "colab": {
          "base_uri": "https://localhost:8080/"
        }
      },
      "outputs": [
        {
          "output_type": "execute_result",
          "data": {
            "text/plain": [
              "float"
            ]
          },
          "metadata": {},
          "execution_count": 4
        }
      ],
      "source": [
        "type(1.9)"
      ]
    },
    {
      "cell_type": "code",
      "execution_count": 5,
      "metadata": {
        "id": "ZcMWI5Kf8Zoe",
        "outputId": "9b20e458-8497-4e83-a63d-a87a2774147c",
        "colab": {
          "base_uri": "https://localhost:8080/"
        }
      },
      "outputs": [
        {
          "output_type": "execute_result",
          "data": {
            "text/plain": [
              "float"
            ]
          },
          "metadata": {},
          "execution_count": 5
        }
      ],
      "source": [
        "type(1.0)"
      ]
    },
    {
      "cell_type": "code",
      "execution_count": 6,
      "metadata": {
        "id": "p-e0sQil8Zoe",
        "outputId": "856bd828-af1c-4f5d-a0bb-4444e0750c11",
        "colab": {
          "base_uri": "https://localhost:8080/"
        }
      },
      "outputs": [
        {
          "output_type": "execute_result",
          "data": {
            "text/plain": [
              "str"
            ]
          },
          "metadata": {},
          "execution_count": 6
        }
      ],
      "source": [
        "type('a')"
      ]
    },
    {
      "cell_type": "code",
      "execution_count": 7,
      "metadata": {
        "id": "fVXzEQv-8Zoe",
        "outputId": "3c403890-2db6-4e6d-dfc1-cfb2b21c0f33",
        "colab": {
          "base_uri": "https://localhost:8080/"
        }
      },
      "outputs": [
        {
          "output_type": "execute_result",
          "data": {
            "text/plain": [
              "str"
            ]
          },
          "metadata": {},
          "execution_count": 7
        }
      ],
      "source": [
        "type('buya!')"
      ]
    },
    {
      "cell_type": "code",
      "execution_count": 8,
      "metadata": {
        "id": "3ykqW6H-8Zoe",
        "outputId": "589b8d61-b6a2-48f1-8591-de554dedf6e7",
        "colab": {
          "base_uri": "https://localhost:8080/"
        }
      },
      "outputs": [
        {
          "output_type": "execute_result",
          "data": {
            "text/plain": [
              "str"
            ]
          },
          "metadata": {},
          "execution_count": 8
        }
      ],
      "source": [
        "type('9')"
      ]
    },
    {
      "cell_type": "markdown",
      "metadata": {
        "id": "Hq2xYbht8Zoe"
      },
      "source": [
        "## <span style=\"align: right; direction: rtl; float: right;\">תרגול</span>"
      ]
    },
    {
      "cell_type": "markdown",
      "metadata": {
        "id": "prethvyu8Zoe"
      },
      "source": [
        "<p style=\"text-align: right; direction: rtl; float: right;\">\n",
        "בדקו מה הסוג של הערכים והביטויים הבאים:\n",
        "</p>"
      ]
    },
    {
      "cell_type": "markdown",
      "metadata": {
        "id": "1CY9yvFE8Zoe"
      },
      "source": [
        "<ol style=\"font-size: 1.25em;  list-style-type: i\">\n",
        "<li><code>'david'</code></li>\n",
        "<li><code>\"david\"</code></li>\n",
        "<li><code>-900.00</code></li>\n",
        "<li><code>\"-900.00\"</code></li>\n",
        "<li><code>3 ** 5</code></li>\n",
        "<li><code>5.0 ** 2</code></li>\n",
        "<li><code>5 / 2</code></li>\n",
        "<li><code>5 // 2</code></li>\n",
        "<li><code>'5.0 ** 2'</code></li>\n",
        "</ol>"
      ]
    },
    {
      "cell_type": "code",
      "execution_count": 9,
      "metadata": {
        "id": "lR_tXTkb8Zoe",
        "outputId": "693c3416-fc17-4875-ec39-7416e464cefb",
        "colab": {
          "base_uri": "https://localhost:8080/"
        }
      },
      "outputs": [
        {
          "output_type": "execute_result",
          "data": {
            "text/plain": [
              "str"
            ]
          },
          "metadata": {},
          "execution_count": 9
        }
      ],
      "source": [
        "type('david')"
      ]
    },
    {
      "cell_type": "code",
      "source": [
        "type(\"david\")"
      ],
      "metadata": {
        "id": "bA2X1I2S9JCP",
        "outputId": "a25fe5b1-5ae4-42e9-c617-10f08e671a03",
        "colab": {
          "base_uri": "https://localhost:8080/"
        }
      },
      "execution_count": 10,
      "outputs": [
        {
          "output_type": "execute_result",
          "data": {
            "text/plain": [
              "str"
            ]
          },
          "metadata": {},
          "execution_count": 10
        }
      ]
    },
    {
      "cell_type": "code",
      "source": [
        "type(-900.00)"
      ],
      "metadata": {
        "id": "YHxHkKTt9JMk",
        "outputId": "10938f72-462b-41a4-e278-87fe634e7d76",
        "colab": {
          "base_uri": "https://localhost:8080/"
        }
      },
      "execution_count": 11,
      "outputs": [
        {
          "output_type": "execute_result",
          "data": {
            "text/plain": [
              "float"
            ]
          },
          "metadata": {},
          "execution_count": 11
        }
      ]
    },
    {
      "cell_type": "code",
      "source": [
        "type(\"-900.00\")"
      ],
      "metadata": {
        "id": "eHNeBFFJ9JVw",
        "outputId": "28542a0a-c66f-4d60-b473-e789fd98db54",
        "colab": {
          "base_uri": "https://localhost:8080/"
        }
      },
      "execution_count": 12,
      "outputs": [
        {
          "output_type": "execute_result",
          "data": {
            "text/plain": [
              "str"
            ]
          },
          "metadata": {},
          "execution_count": 12
        }
      ]
    },
    {
      "cell_type": "code",
      "source": [
        "type(3 ** 5)"
      ],
      "metadata": {
        "id": "ukKIqM-d9Jd3",
        "outputId": "21659ab0-3f0b-4278-f8bb-435c2922a6a5",
        "colab": {
          "base_uri": "https://localhost:8080/"
        }
      },
      "execution_count": 13,
      "outputs": [
        {
          "output_type": "execute_result",
          "data": {
            "text/plain": [
              "int"
            ]
          },
          "metadata": {},
          "execution_count": 13
        }
      ]
    },
    {
      "cell_type": "code",
      "source": [
        "type(5.0 ** 2)"
      ],
      "metadata": {
        "id": "WIXauiEN9KUT",
        "outputId": "557b8b45-7a44-48f6-a597-f1a8956f1be6",
        "colab": {
          "base_uri": "https://localhost:8080/"
        }
      },
      "execution_count": 14,
      "outputs": [
        {
          "output_type": "execute_result",
          "data": {
            "text/plain": [
              "float"
            ]
          },
          "metadata": {},
          "execution_count": 14
        }
      ]
    },
    {
      "cell_type": "code",
      "source": [
        "type(5 / 2)"
      ],
      "metadata": {
        "id": "V3mvat6P9Kb1",
        "outputId": "98c25455-e0e8-47e8-b741-9c6f4c1b90fa",
        "colab": {
          "base_uri": "https://localhost:8080/"
        }
      },
      "execution_count": 15,
      "outputs": [
        {
          "output_type": "execute_result",
          "data": {
            "text/plain": [
              "float"
            ]
          },
          "metadata": {},
          "execution_count": 15
        }
      ]
    },
    {
      "cell_type": "code",
      "source": [
        "type(5 // 2)"
      ],
      "metadata": {
        "id": "VYNmpmi89KjX",
        "outputId": "b9db2cd7-91ba-4d97-e543-fed02b12f86d",
        "colab": {
          "base_uri": "https://localhost:8080/"
        }
      },
      "execution_count": 16,
      "outputs": [
        {
          "output_type": "execute_result",
          "data": {
            "text/plain": [
              "int"
            ]
          },
          "metadata": {},
          "execution_count": 16
        }
      ]
    },
    {
      "cell_type": "code",
      "source": [
        "type('5.0 ** 2')"
      ],
      "metadata": {
        "id": "PwvH4urZ9KrR",
        "outputId": "fe60b1b3-eec6-4b87-8af5-509d71871991",
        "colab": {
          "base_uri": "https://localhost:8080/"
        }
      },
      "execution_count": 17,
      "outputs": [
        {
          "output_type": "execute_result",
          "data": {
            "text/plain": [
              "str"
            ]
          },
          "metadata": {},
          "execution_count": 17
        }
      ]
    },
    {
      "cell_type": "markdown",
      "metadata": {
        "id": "7r8UPOxI8Zoe"
      },
      "source": [
        "## <p style=\"align: right; direction: rtl; float: right;\">שוני בין סוגי ערכים</p>"
      ]
    },
    {
      "cell_type": "markdown",
      "metadata": {
        "id": "vfZ1CGHl8Zof"
      },
      "source": [
        "<p style=\"text-align: right; direction: rtl; float: right;\">\n",
        "סוג הערכים ישפיע על התנהגותם בפועל. הריצו את שלושת קטעי הקוד הבאים ונסו לעמוד על ההבדלים ביניהם:\n",
        "</p>"
      ]
    },
    {
      "cell_type": "code",
      "execution_count": 18,
      "metadata": {
        "id": "xBLly41d8Zof",
        "outputId": "8c77d262-e13b-4d14-e0de-f8342ed52ebd",
        "colab": {
          "base_uri": "https://localhost:8080/"
        }
      },
      "outputs": [
        {
          "output_type": "execute_result",
          "data": {
            "text/plain": [
              "2"
            ]
          },
          "metadata": {},
          "execution_count": 18
        }
      ],
      "source": [
        "1 + 1"
      ]
    },
    {
      "cell_type": "code",
      "execution_count": 19,
      "metadata": {
        "id": "-KE5pu6I8Zof",
        "outputId": "902a5c18-0905-4eaf-b294-9d61d07468f3",
        "colab": {
          "base_uri": "https://localhost:8080/"
        }
      },
      "outputs": [
        {
          "output_type": "execute_result",
          "data": {
            "text/plain": [
              "2.0"
            ]
          },
          "metadata": {},
          "execution_count": 19
        }
      ],
      "source": [
        "1.0 + 1.0"
      ]
    },
    {
      "cell_type": "code",
      "execution_count": 20,
      "metadata": {
        "id": "LORH15yz8Zof",
        "outputId": "84b6a7eb-f499-4eb6-e724-b6afe4ac8645",
        "colab": {
          "base_uri": "https://localhost:8080/",
          "height": 36
        }
      },
      "outputs": [
        {
          "output_type": "execute_result",
          "data": {
            "text/plain": [
              "'11'"
            ],
            "application/vnd.google.colaboratory.intrinsic+json": {
              "type": "string"
            }
          },
          "metadata": {},
          "execution_count": 20
        }
      ],
      "source": [
        "\"1\" + \"1\""
      ]
    },
    {
      "cell_type": "markdown",
      "metadata": {
        "id": "a6x1tmOo8Zof"
      },
      "source": [
        "<div class=\"align-center\" style=\"display: flex; text-align: right; direction: rtl;\">\n",
        "    <div style=\"display: flex; width: 10%; float: right; \">\n",
        "        <img src=\"https://github.com/PythonFreeCourse/Notebooks/blob/main/content/week01/images/warning.png?raw=1\" style=\"height: 50px !important;\" alt=\"אזהרה!\">\n",
        "    </div>\n",
        "    <div style=\"width: 90%\">\n",
        "        <p style=\"text-align: right; direction: rtl;\">\n",
        "            פעולות המערבות סוגי ערכים שונים לא תמיד עובדות.<br>\n",
        "            לדוגמה, כשננסה לחבר מספר שלם ומספר עשרוני, נקבל מספר עשרוני. לעומת זאת, כשננסה לחבר מספר שלם למחרוזת, פייתון תתריע לפנינו על שגיאה.<br>\n",
        "            נמשיל לקערת קוביות קרח: נוכל לספור כמה קוביות קרח יש בה גם אם נוסיף מספר קוביות, אבל יהיה קשה לנו לתאר את תוכן הקערה אם נשפוך אליה כוס מים.<br>\n",
        "        </p>\n",
        "    </div>\n",
        "</div>"
      ]
    },
    {
      "cell_type": "markdown",
      "metadata": {
        "id": "KJzlr3fw8Zof"
      },
      "source": [
        "<p style=\"text-align: right; direction: rtl; float: right;\">\n",
        "דוגמה לערכים מסוגים שונים שפעולת החיבור ביניהם עובדת:\n",
        "</p>"
      ]
    },
    {
      "cell_type": "code",
      "execution_count": 21,
      "metadata": {
        "id": "nu_XY44C8Zog",
        "outputId": "b522f973-7581-4662-9c69-89373261d9d1",
        "colab": {
          "base_uri": "https://localhost:8080/"
        }
      },
      "outputs": [
        {
          "output_type": "execute_result",
          "data": {
            "text/plain": [
              "2.5"
            ]
          },
          "metadata": {},
          "execution_count": 21
        }
      ],
      "source": [
        "1 + 1.5"
      ]
    },
    {
      "cell_type": "markdown",
      "metadata": {
        "id": "qTprkQ0N8Zoh"
      },
      "source": [
        "<p style=\"text-align: right; direction: rtl; float: right;\">\n",
        "דוגמה לערכים מסוגים שונים שפעולת החיבור ביניהם גורמת לפייתון להתריע על שגיאה:\n",
        "</p>"
      ]
    },
    {
      "cell_type": "code",
      "execution_count": 22,
      "metadata": {
        "id": "55dsnlPm8Zoh",
        "outputId": "9e6fc566-9f67-4323-8a57-ee8ad84610c8",
        "colab": {
          "base_uri": "https://localhost:8080/",
          "height": 141
        }
      },
      "outputs": [
        {
          "output_type": "error",
          "ename": "TypeError",
          "evalue": "can only concatenate str (not \"int\") to str",
          "traceback": [
            "\u001b[0;31m---------------------------------------------------------------------------\u001b[0m",
            "\u001b[0;31mTypeError\u001b[0m                                 Traceback (most recent call last)",
            "\u001b[0;32m<ipython-input-22-42900e6a255b>\u001b[0m in \u001b[0;36m<cell line: 1>\u001b[0;34m()\u001b[0m\n\u001b[0;32m----> 1\u001b[0;31m \u001b[0;34m\"1\"\u001b[0m \u001b[0;34m+\u001b[0m \u001b[0;36m2\u001b[0m\u001b[0;34m\u001b[0m\u001b[0;34m\u001b[0m\u001b[0m\n\u001b[0m",
            "\u001b[0;31mTypeError\u001b[0m: can only concatenate str (not \"int\") to str"
          ]
        }
      ],
      "source": [
        "\"1\" + 2"
      ]
    }
  ],
  "metadata": {
    "kernelspec": {
      "display_name": "Python 3",
      "language": "python",
      "name": "python3"
    },
    "language_info": {
      "codemirror_mode": {
        "name": "ipython",
        "version": 3
      },
      "file_extension": ".py",
      "mimetype": "text/x-python",
      "name": "python",
      "nbconvert_exporter": "python",
      "pygments_lexer": "ipython3",
      "version": "3.7.4"
    },
    "colab": {
      "provenance": []
    }
  },
  "nbformat": 4,
  "nbformat_minor": 0
}