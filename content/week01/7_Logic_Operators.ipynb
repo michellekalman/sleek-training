{
  "cells": [
    {
      "cell_type": "markdown",
      "metadata": {
        "id": "v-5x8ga1V6Nu"
      },
      "source": [
        "<img src=\"https://github.com/PythonFreeCourse/Notebooks/blob/main/content/week01/images/logo.jpg?raw=1\" style=\"display: block; margin-left: auto; margin-right: auto;\" alt=\"לוגו של מיזם לימוד הפייתון. נחש מצויר בצבעי צהוב וכחול, הנע בין האותיות של שם הקורס: לומדים פייתון. הסלוגן המופיע מעל לשם הקורס הוא מיזם חינמי ללימוד תכנות בעברית.\">"
      ]
    },
    {
      "cell_type": "markdown",
      "metadata": {
        "id": "Bla409hFV6Nw"
      },
      "source": [
        "# <p style=\"align: right; direction: rtl; float: right;\">אופרטורים לוגיים</p>"
      ]
    },
    {
      "cell_type": "markdown",
      "metadata": {
        "id": "GnofLk3hV6Nw"
      },
      "source": [
        "<div class=\"align-center\" style=\"display: flex; text-align: right; direction: rtl;\">\n",
        "    <div style=\"display: flex; width: 10%; float: right; \">\n",
        "        <img src=\"https://github.com/PythonFreeCourse/Notebooks/blob/main/content/week01/images/tip.png?raw=1\" style=\"height: 50px !important;\" alt=\"טיפ!\">\n",
        "    </div>\n",
        "    <div style=\"width: 90%\">\n",
        "        <p style=\"text-align: right; direction: rtl;\">\n",
        "            החומר במחברת זו הוא מעט תיאורטי. אין סיבה להיות עצובים, במחברת הבאה נעשה בו שימוש רחב.<br>\n",
        "            ודאו שאתם מבינים היטב את החומר במחברת זו כדי לבסס את הידע שלכם כראוי.\n",
        "        </p>\n",
        "    </div>\n",
        "</div>"
      ]
    },
    {
      "cell_type": "markdown",
      "metadata": {
        "id": "H7bOsBJRV6Nx"
      },
      "source": [
        "## <p style=\"align: right; direction: rtl; float: right;\">מבוא</p>"
      ]
    },
    {
      "cell_type": "markdown",
      "metadata": {
        "id": "7Iy0kX4NV6Nx"
      },
      "source": [
        "<p style=\"text-align: right; direction: rtl; float: right;\">\n",
        "בשיעור הקודם למדנו קצת על <em>ביטויים בוליאניים</em> – ביטויים שתוצאתם היא בהכרח אמת או שקר.<br>\n",
        "ראינו איך מנסחים ביטויים כאלו, ולמדנו על <em>אופרטורי השוואה</em> כמו <code>==</code> או <code>in</code>, שבעזרתם אנחנו מחליטים באיזו צורה אנחנו רוצים להשוות בין ביטויים.<br>\n",
        "למדנו שביטויים כאלו יכולים לעזור לנו לשאול שאלות מעניינות, כמו אם למשתמש יש יותר מ־1000 ש\"ח בבנק, או אם לבת שלו קוראים \"שמחה\".\n",
        "</p>"
      ]
    },
    {
      "cell_type": "markdown",
      "metadata": {
        "id": "XNMnxqnDV6Nx"
      },
      "source": [
        "<p style=\"text-align: right; direction: rtl; float: right;\">\n",
        "אבל מה יקרה כשנרצה לשאול שאלות מורכבות יותר?<br>\n",
        "לדוגמה, אם התנאים להרשמה לבנק שלנו הם <em>גם</em> שיהיו לך יותר מ־1,000 ש\"ח, ו<em>גם</em> שתלמד בפקולטה נחשבת?<br>\n",
        "למרבה הצער, בכלים שיש ברשותנו כרגע לא נוכל לנסח שאלות מורכבות שכאלו.<br>\n",
        "במחברת זו זה נלמד על כלים חדשים, אופרטורים לוגיים, שיאפשרו לנו לנסח שאלות מורכבות יותר.\n",
        "</p>"
      ]
    },
    {
      "cell_type": "markdown",
      "metadata": {
        "id": "vYeXRPFXV6Ny"
      },
      "source": [
        "## <p style=\"align: right; direction: rtl; float: right;\">הגדרה</p>"
      ]
    },
    {
      "cell_type": "markdown",
      "metadata": {
        "id": "Vhf4kx6HV6Ny"
      },
      "source": [
        "<p style=\"text-align: right; direction: rtl; float: right;\">\n",
        "כאמור, לעזרתנו מתגייסים \"<dfn>אופרטורים לוגיים</dfn>\", שמטרתם לאפשר לנו לשאול שאלות בנוגע לקשרים בין ביטויים בוליאניים.<br>\n",
        "ישנם שלושה אופרטורים לוגיים: <code>and</code> (\"וגם\"), <code>or</code> (\"או\") ו־<code>not</code> (\"לא\").<br>\n",
        "</p>"
      ]
    },
    {
      "cell_type": "markdown",
      "metadata": {
        "id": "U6i1HWHaV6Ny"
      },
      "source": [
        "### <p style=\"align: right; direction: rtl; float: right;\">דוגמאות</p>"
      ]
    },
    {
      "cell_type": "markdown",
      "metadata": {
        "id": "CY7hW7coV6Ny"
      },
      "source": [
        "<ul style=\"text-align: right; direction: rtl; float: right; white-space: nowrap;\">\n",
        "<li>האם 2 גדול מ־1, <mark>וגם</mark> קטן מ־3?</li>\n",
        "<li>האם הלקוח הזמין בירה, <mark>וגם</mark> גיל הלקוח נמוך מ־18?</li>\n",
        "<li>האם הפיצה תגיע בחצי שעה הקרובה, <mark>או</mark> האם יש אוכל במקרר?</li>\n",
        "<li>האם נתקע לי אוכל בין השיניים, <mark>וגם</mark> על השולחן <mark>לא</mark> נמצאים קיסמים?</li>\n",
        "<li>האם המזגן בביתי פועל, <mark>וגם</mark> אני <mark>לא</mark> נמצא בביתי?</li>\n",
        "<li>האם המשתמש הקיש בכספומט קוד סודי לא נכון, <mark>או</mark> ניסה למשוך מספר מזומנים גדול מהסכום שיש לו?</li>\n",
        "</ul>"
      ]
    },
    {
      "cell_type": "markdown",
      "metadata": {
        "id": "iMoGvt2UV6Nz"
      },
      "source": [
        "<p style=\"text-align: right; direction: rtl; float: right;\">\n",
        "מהדוגמאות נוכל לשים לב לדפוס חוזר – האופרטורים הלוגיים \"וגם\" ו\"או\" מקבלים משני צידיהם ביטויים בוליאניים, ומחזירים ביטוי בוליאני אחד.<br>\n",
        "האופרטור הלוגי \"לא\" מקבל רק ביטוי בוליאני אחד, והופך אותו.<br>\n",
        "לדוגמה: בשאלה האם 2 גדול מ־1 (כן) וגם 2 קטן מ־3 (כן), האופרטור הלוגי \"וגם\" מקבל \"כן\" משני צידיו, ומחזיר את התשובה הסופית כן.\n",
        "</p>"
      ]
    },
    {
      "cell_type": "markdown",
      "metadata": {
        "id": "FwUNKZghV6Nz"
      },
      "source": [
        "<img src=\"https://github.com/PythonFreeCourse/Notebooks/blob/main/content/week01/images/true_and_true.svg?raw=1\" style=\"max-width:100%; margin-right: auto; margin-left: auto; text-align: center;\" alt=\"הבדיקה האם 2 גדול מ־1 מחזירה True, שמסומן ב־V ירוק. לידו, הבדיקה האם 2 קטן מ־3 מחזירה True, שמסומן ב־V ירוק. משתי הבדיקות יורד חץ לתוך צורה שבה כתוב 'וגם' בין שני V ירוקים, ומתוכה יוצא חץ שמצביע על V ירוק.\"/>"
      ]
    },
    {
      "cell_type": "markdown",
      "metadata": {
        "id": "rq9CkiyUV6Nz"
      },
      "source": [
        "## <p style=\"align: right; direction: rtl; float: right;\">אופרטורים לוגיים</p>"
      ]
    },
    {
      "cell_type": "markdown",
      "metadata": {
        "id": "6GpO3SzxV6Nz"
      },
      "source": [
        "### <p style=\"align: right; direction: rtl; float: right;\">and / וגם</p>"
      ]
    },
    {
      "cell_type": "markdown",
      "metadata": {
        "id": "QwiNxVLfV6N0"
      },
      "source": [
        "<p style=\"text-align: right; direction: rtl; float: right;\">\n",
        "האופרטור הלוגי <dfn>and</dfn> פועל על שני ביטויים בוליאניים, אחד מימינו ואחד משמאלו, ומחזיר לנו ביטוי בוליאני אחד:<br>\n",
        "<samp>True</samp> אם הביטויים בשני צידיו היו <code>True</code>, או <samp>False</samp> בכל מקרה אחר.<br>\n",
        "מבחינת מינוחים, <code>and</code> נחשב \"<dfn>האופרטור</dfn>\" (operator), והביטויים שנמצאים מצידיו נקראים \"<dfn>האופרנדים</dfn>\".\n",
        "</p>"
      ]
    },
    {
      "cell_type": "code",
      "execution_count": 1,
      "metadata": {
        "id": "QQEojjCFV6N0",
        "outputId": "8f45bcb2-c535-4c81-cb7b-b12e015487cb",
        "colab": {
          "base_uri": "https://localhost:8080/"
        }
      },
      "outputs": [
        {
          "output_type": "stream",
          "name": "stdout",
          "text": [
            "True and True => True\n",
            "False and True => False\n",
            "True and False => False\n",
            "False and False => False\n"
          ]
        }
      ],
      "source": [
        "print(\"True and True => \" + str(True and True))\n",
        "print(\"False and True => \" + str(False and True))\n",
        "print(\"True and False => \" + str(True and False))\n",
        "print(\"False and False => \" + str(False and False))"
      ]
    },
    {
      "cell_type": "markdown",
      "metadata": {
        "id": "DWXeuLwHV6N1"
      },
      "source": [
        "<p style=\"text-align: right; direction: rtl; float: right;\">\n",
        "נבדוק, בעזרת פייתון, אם 2 גדול מ־1 וקטן מ־3:\n",
        "</p>"
      ]
    },
    {
      "cell_type": "code",
      "execution_count": 2,
      "metadata": {
        "id": "xExs4YOdV6N1",
        "outputId": "2ec1a3aa-cb7d-406f-b9a6-954b25eae460",
        "colab": {
          "base_uri": "https://localhost:8080/"
        }
      },
      "outputs": [
        {
          "output_type": "stream",
          "name": "stdout",
          "text": [
            "True\n"
          ]
        }
      ],
      "source": [
        "two_is_greater_than_one = 2 > 1\n",
        "two_is_smaller_than_three = 2 < 3\n",
        "two_is_between_one_and_three = two_is_greater_than_one and two_is_smaller_than_three\n",
        "print(two_is_between_one_and_three)"
      ]
    },
    {
      "cell_type": "markdown",
      "metadata": {
        "id": "WcAOiLEMV6N1"
      },
      "source": [
        "<p style=\"text-align: right; direction: rtl; float: right;\">\n",
        "או בקיצור:\n",
        "</p>"
      ]
    },
    {
      "cell_type": "code",
      "execution_count": 3,
      "metadata": {
        "id": "dTEbyWAZV6N1",
        "outputId": "b609843e-adf4-43c0-9e04-d07826f75c76",
        "colab": {
          "base_uri": "https://localhost:8080/"
        }
      },
      "outputs": [
        {
          "output_type": "stream",
          "name": "stdout",
          "text": [
            "True\n"
          ]
        }
      ],
      "source": [
        "print(2 > 1 and 2 < 3)"
      ]
    },
    {
      "cell_type": "markdown",
      "metadata": {
        "id": "78VydbpRV6N2"
      },
      "source": [
        "### <p style=\"align: right; direction: rtl; float: right;\">or / או</p>"
      ]
    },
    {
      "cell_type": "markdown",
      "metadata": {
        "id": "N9caZPHuV6N2"
      },
      "source": [
        "<p style=\"text-align: right; direction: rtl; float: right;\">\n",
        "האופרטור הלוגי <dfn>or</dfn> פועל על שני ביטויים בוליאניים, אחד מימינו ואחד משמאלו, ומחזיר לנו ביטוי בוליאני אחד:<br>\n",
        "<samp>True</samp> אם <em>לפחות</em> אחד מהביטויים, מימינו או משמאלו, הם <code>True</code>.<br>\n",
        "הוא יחזיר <samp>False</samp> רק אם הביטויים בשני הצדדים שלו הם <code>False</code>.<br>\n",
        "מבחינת מינוחים, <code>or</code> נחשב \"<dfn>האופרטור</dfn>\" (operator), והביטויים שנמצאים מצידיו נקראים \"<dfn>האופרנדים</dfn>\" (operands).\n",
        "</p>"
      ]
    },
    {
      "cell_type": "code",
      "execution_count": 4,
      "metadata": {
        "id": "AnTTHViHV6N2",
        "outputId": "2fee34d0-2bea-4622-d06c-66699259eb0b",
        "colab": {
          "base_uri": "https://localhost:8080/"
        }
      },
      "outputs": [
        {
          "output_type": "stream",
          "name": "stdout",
          "text": [
            "True or True => True\n",
            "False or True => True\n",
            "True or False => True\n",
            "False or False => False\n"
          ]
        }
      ],
      "source": [
        "print(\"True or True => \" + str(True or True))\n",
        "print(\"False or True => \" + str(False or True))\n",
        "print(\"True or False => \" + str(True or False))\n",
        "print(\"False or False => \" + str(False or False))"
      ]
    },
    {
      "cell_type": "markdown",
      "metadata": {
        "id": "q8TjI3jEV6N2"
      },
      "source": [
        "<p style=\"text-align: right; direction: rtl; float: right;\">\n",
        "נבדוק בעזרת פייתון אם אחת האותיות, a או x, נמצאות במילה \"barvaz\".<br>\n",
        "</p>"
      ]
    },
    {
      "cell_type": "code",
      "execution_count": 5,
      "metadata": {
        "id": "Hx0XFA_WV6N2",
        "outputId": "abeee4f8-da20-4731-948f-5605c5146eb8",
        "colab": {
          "base_uri": "https://localhost:8080/"
        }
      },
      "outputs": [
        {
          "output_type": "stream",
          "name": "stdout",
          "text": [
            "True\n"
          ]
        }
      ],
      "source": [
        "a_in_barvaz = 'a' in 'barvaz'\n",
        "x_in_barvaz = 'x' in 'barvaz'\n",
        "a_or_x_in_barvaz = a_in_barvaz or x_in_barvaz\n",
        "print(a_or_x_in_barvaz)"
      ]
    },
    {
      "cell_type": "markdown",
      "metadata": {
        "id": "gSHCmC5uV6N2"
      },
      "source": [
        "<p style=\"text-align: right; direction: rtl; float: right;\">\n",
        "או בקיצור:\n",
        "</p>"
      ]
    },
    {
      "cell_type": "code",
      "execution_count": 6,
      "metadata": {
        "id": "jZWvwdgzV6N3",
        "outputId": "57a9f1b2-0260-4b47-8b42-754fcf0537eb",
        "colab": {
          "base_uri": "https://localhost:8080/"
        }
      },
      "outputs": [
        {
          "output_type": "stream",
          "name": "stdout",
          "text": [
            "True\n"
          ]
        }
      ],
      "source": [
        "print('a' in 'barvaz' or 'x' in 'barvaz')"
      ]
    },
    {
      "cell_type": "markdown",
      "metadata": {
        "id": "Xl-XUHwaV6N3"
      },
      "source": [
        "### <p style=\"align: right; direction: rtl; float: right;\">not / לא</p>"
      ]
    },
    {
      "cell_type": "markdown",
      "metadata": {
        "id": "Yhn3q1z3V6N3"
      },
      "source": [
        "<p style=\"text-align: right; direction: rtl; float: right;\">\n",
        "האופרטור הלוגי <dfn>not</dfn> פועל על ביטוי בוליאני אחד שבא אחריו, ומחזיר לנו את הביטוי הבוליאני ההפוך לו. רוצה לומר:<br>\n",
        "<samp>True</samp> אם הביטוי הבוליאני שאחריו הוא <code>False</code>.<br>\n",
        "<samp>False</samp> אם הביטוי הבוליאני שאחריו הוא <code>True</code>.<br>\n",
        "מבחינת מינוחים, <code>not</code> נחשב \"<dfn>האופרטור</dfn>\" (operator), והביטוי שנמצא אחריו נקרא \"<dfn>האופרנד</dfn>\" (operand).\n",
        "</p>"
      ]
    },
    {
      "cell_type": "code",
      "execution_count": 7,
      "metadata": {
        "id": "xJCVrOQIV6N3",
        "outputId": "67c1dbb0-cff5-495b-e7b0-5811b09feaac",
        "colab": {
          "base_uri": "https://localhost:8080/"
        }
      },
      "outputs": [
        {
          "output_type": "stream",
          "name": "stdout",
          "text": [
            "not True => False\n",
            "not False => True\n"
          ]
        }
      ],
      "source": [
        "print(\"not True => \" + str(not True))\n",
        "print(\"not False => \" + str(not False))"
      ]
    },
    {
      "cell_type": "markdown",
      "metadata": {
        "id": "Zm1mi6AAV6N4"
      },
      "source": [
        "<p style=\"text-align: right; direction: rtl; float: right;\">\n",
        "נבדוק בעזרת פייתון האם המילה \"barvaz\" לא כוללת בתוכה את האות \"q\":\n",
        "</p>"
      ]
    },
    {
      "cell_type": "code",
      "execution_count": 8,
      "metadata": {
        "id": "sLR661FhV6N4",
        "outputId": "961e0680-19b7-44e9-ba98-326e5e9b325d",
        "colab": {
          "base_uri": "https://localhost:8080/"
        }
      },
      "outputs": [
        {
          "output_type": "stream",
          "name": "stdout",
          "text": [
            "True\n"
          ]
        }
      ],
      "source": [
        "is_q_in_barvaz = 'q' in 'barvaz'\n",
        "is_q_not_in_baraz = not is_q_in_barvaz\n",
        "print(is_q_not_in_baraz)"
      ]
    },
    {
      "cell_type": "markdown",
      "metadata": {
        "id": "9_FXfjP6V6N5"
      },
      "source": [
        "<p style=\"text-align: right; direction: rtl; float: right;\">\n",
        "או בקיצור:\n",
        "</p>"
      ]
    },
    {
      "cell_type": "code",
      "execution_count": 9,
      "metadata": {
        "id": "_Pudv1mvV6N6",
        "outputId": "aa7bcd20-c957-40ae-d22a-9783fa6b998a",
        "colab": {
          "base_uri": "https://localhost:8080/"
        }
      },
      "outputs": [
        {
          "output_type": "stream",
          "name": "stdout",
          "text": [
            "True\n"
          ]
        }
      ],
      "source": [
        "print(not 'q' in 'barvaz')"
      ]
    },
    {
      "cell_type": "markdown",
      "metadata": {
        "id": "8GvSqewQV6N7"
      },
      "source": [
        "<p style=\"text-align: right; direction: rtl; float: right;\">\n",
        "טריק מגניב כתוספת: פייתון מאפשרת לנו לכתוב את זה אפילו בצורה קריאה יותר, בעזרת האופרטור <code>not in</code>:\n",
        "</p>"
      ]
    },
    {
      "cell_type": "code",
      "execution_count": 10,
      "metadata": {
        "id": "7lP_HlCNV6N8",
        "outputId": "1bf41495-b8f7-4993-e6ea-22ea691af774",
        "colab": {
          "base_uri": "https://localhost:8080/"
        }
      },
      "outputs": [
        {
          "output_type": "stream",
          "name": "stdout",
          "text": [
            "True\n"
          ]
        }
      ],
      "source": [
        "print('q' not in 'barvaz')"
      ]
    },
    {
      "cell_type": "markdown",
      "metadata": {
        "id": "Ah2GGZb6V6N8"
      },
      "source": [
        "## <p style=\"align: right; direction: rtl; float: right;\">דוגמה</p>"
      ]
    },
    {
      "cell_type": "markdown",
      "metadata": {
        "id": "FZLJegSkV6N9"
      },
      "source": [
        "<p style=\"text-align: right; direction: rtl; float: right;\">\n",
        "לצורך המשך השיעור, נניח שיש לנו את המשתנים הבאים.<br>\n",
        "הריצו את התא ומלאו ערכים. נשתמש במשתנים האלו בהמשך.\n",
        "</p>"
      ]
    },
    {
      "cell_type": "code",
      "execution_count": 11,
      "metadata": {
        "id": "loEQzcaMV6N9",
        "outputId": "b57090fc-ce83-42b0-d973-498deca5d591",
        "colab": {
          "base_uri": "https://localhost:8080/"
        }
      },
      "outputs": [
        {
          "name": "stdout",
          "output_type": "stream",
          "text": [
            "How many people in your party?: 50\n",
            "How many pizzas did you order?: 20\n"
          ]
        }
      ],
      "source": [
        "people_in_party = int(input('How many people in your party?: '))\n",
        "whole_pizzas = int(input('How many pizzas did you order?: '))\n",
        "slices_of_pizza = 8 * whole_pizzas"
      ]
    },
    {
      "cell_type": "markdown",
      "metadata": {
        "id": "vzNo3IswV6N-"
      },
      "source": [
        "<p style=\"text-align: right; direction: rtl; float: right;\">\n",
        "מסיבה שמחה היא מסיבה שיש בה לפחות 20 משתתפים, וגם יותר מ־100 משולשי פיצה.<br>\n",
        "עד עכשיו, היינו יכולים לבדוק האם מסיבה היא שמחה רק בצורה הזו, שמדפיסה לנו 2 תשובות:\n",
        "</p>"
      ]
    },
    {
      "cell_type": "code",
      "execution_count": null,
      "metadata": {
        "id": "obJv72NYV6N-"
      },
      "outputs": [],
      "source": [
        "print(people_in_party >= 20)\n",
        "print(slices_of_pizza > 100)"
      ]
    },
    {
      "cell_type": "markdown",
      "metadata": {
        "id": "a4yZ4n0WV6N-"
      },
      "source": [
        "<p style=\"text-align: right; direction: rtl; float: right;\">\n",
        "אפשר להגיד כאן שרק במקרה ש<strong>גם</strong> בשורה הראשונה הודפס <samp>True</samp> ו<strong>גם</strong> בשורה השנייה הודפס <samp>True</samp>, המסיבה היא מסיבה שמחה.<br>\n",
        "הסיטואציה הזו, כך נראה, מתאימה לאופרטור הלוגי הראשון שדיברנו עליו – <code>and</code>, ובשמו העברי <em>\"וגם\"</em>.<br>\n",
        "השאלה ששאלנו היא \"האם מספר האנשים במסיבה הוא לפחות 20, <strong>וגם</strong> מספר משולשי הפיצה במסיבה הוא מעל 100\".<br>\n",
        "ננסח בקוד:\n",
        "</p>"
      ]
    },
    {
      "cell_type": "code",
      "execution_count": 12,
      "metadata": {
        "id": "iP1iK3bMV6N-",
        "outputId": "c0e3aefc-b89c-4a70-a337-d2317bbb6acb",
        "colab": {
          "base_uri": "https://localhost:8080/"
        }
      },
      "outputs": [
        {
          "output_type": "stream",
          "name": "stdout",
          "text": [
            "Is it a happy party?\n",
            "True\n"
          ]
        }
      ],
      "source": [
        "print(\"Is it a happy party?\")\n",
        "print(people_in_party >= 20 and slices_of_pizza > 100)"
      ]
    },
    {
      "cell_type": "markdown",
      "metadata": {
        "id": "kNGC9zpKV6N-"
      },
      "source": [
        "<p style=\"text-align: right; direction: rtl; float: right;\">\n",
        "\"מסיבה עצובה\" היא מסיבה שיש בה עד 5 משתתפים, או שבה אין משולש פיצה לכל משתתף.<br>\n",
        "עד עכשיו, היינו יכולים לעשות את זה רק בצורה הזו, שמדפיסה לנו 2 תשובות:\n",
        "</p>"
      ]
    },
    {
      "cell_type": "code",
      "execution_count": 13,
      "metadata": {
        "id": "eUnAxEtkV6N-",
        "outputId": "43a097ac-7507-4d5d-8d8d-93a7143ad204",
        "colab": {
          "base_uri": "https://localhost:8080/"
        }
      },
      "outputs": [
        {
          "output_type": "stream",
          "name": "stdout",
          "text": [
            "False\n",
            "False\n"
          ]
        }
      ],
      "source": [
        "print(people_in_party <= 5)\n",
        "print(slices_of_pizza < people_in_party)"
      ]
    },
    {
      "cell_type": "markdown",
      "metadata": {
        "id": "oAWTf0JPV6N-"
      },
      "source": [
        "<p style=\"text-align: right; direction: rtl; float: right;\">\n",
        "אפשר להגיד כאן שבמקרה שתוצאת השורה הראשונה היא <samp>True</samp> <strong>או</strong> שתוצאת השורה השנייה היא <samp>True</samp>, המסיבה היא מסיבה עצובה.<br>\n",
        "הסיטואציה הזו, כך נראה, מתאימה לאופרטור הלוגי השני שדיברנו עליו – <code>or</code>, ובשמו העברי <em>\"או\"</em>.<br>\n",
        "השאלה ששאלנו היא \"האם מספר האנשים במסיבה קטן או שווה ל־5, <strong>או</strong> מספר משולשי הפיצה קטן ממספר האנשים במסיבה\".<br>\n",
        "ננסח בקוד:\n",
        "</p>"
      ]
    },
    {
      "cell_type": "code",
      "execution_count": 14,
      "metadata": {
        "id": "O7yQ81THV6N_",
        "outputId": "a9c21328-bed2-4e4a-dd30-4c895394537c",
        "colab": {
          "base_uri": "https://localhost:8080/"
        }
      },
      "outputs": [
        {
          "output_type": "stream",
          "name": "stdout",
          "text": [
            "Is it a sad party?\n",
            "False\n"
          ]
        }
      ],
      "source": [
        "print(\"Is it a sad party?\")\n",
        "print(people_in_party <= 5 or slices_of_pizza < people_in_party)"
      ]
    },
    {
      "cell_type": "markdown",
      "metadata": {
        "id": "cYYdrEuXV6N_"
      },
      "source": [
        "## <p style=\"align: right; direction: rtl; float: right;\">טבלאות אמת</p>"
      ]
    },
    {
      "cell_type": "markdown",
      "metadata": {
        "id": "bk7DNn49V6N_"
      },
      "source": [
        "<p style=\"text-align: right; direction: rtl; float: right;\">\n",
        "<dfn>טבלאות אמת</dfn> זו דרך ישנה נושנה לתאר את התוצאה של אופרטורים לוגיים בכל אחד מהמקרים האפשריים.<br>\n",
        "נצייר טבלאות כאלו עבור <code>and</code>, <code>or</code> ו־<code>not</code>.<br>\n",
        "אנחנו ממליצים שלא ללמוד אותן בעל פה, אלא להבין את ההיגיון שבהן.\n",
        "</p>"
      ]
    },
    {
      "cell_type": "markdown",
      "metadata": {
        "id": "yUYlzFXUV6N_"
      },
      "source": [
        "| תוצאה | אופרנד שני |    אופרטור             | אופרנד ראשון  |\n",
        "|:----------|:----------|:--------|------:|\n",
        "| True    |  True  | and        |  True            |\n",
        "| False   | False  | and |  True            |\n",
        "| False    | True    | and    |  False             |\n",
        "| False   | False   | and    | False |\n",
        "\n",
        "| תוצאה | אופרנד שני |    אופרטור             | אופרנד ראשון  |\n",
        "|:----------|:----------|:--------|------:|\n",
        "| True    |  True  | or        |  True            |\n",
        "| True   | False  | or |  True            |\n",
        "| True    | True    | or    |  False             |\n",
        "| False   | False   | or    | False |\n",
        "\n",
        "| תוצאה | אופרנד ראשון |    אופרטור  |\n",
        "|:----------|:----------|:--------:|\n",
        "| False    |  True        |  not     |\n",
        "| True   |  False |  not            |"
      ]
    },
    {
      "cell_type": "markdown",
      "metadata": {
        "id": "t22bgodeV6N_"
      },
      "source": [
        "### <p style=\"align: right; direction: rtl; float: right;\">מונחים</p>"
      ]
    },
    {
      "cell_type": "markdown",
      "metadata": {
        "id": "xBiCnqfIV6N_"
      },
      "source": [
        "<dl style=\"text-align: right; direction: rtl; float: right; white-space: nowrap;\">\n",
        "<dt>אופרטור לוגי</dt><dd>מילה שמבצעת פעולה בין שני ערכים בוליאניים. לפעמים נקרא גם \"<dfn>שער לוגי</dfn>\".</dd>\n",
        "<dt>אופרנד</dt><dd>ברבים: אופרנדים. הערכים שעליהם מפעילים את הפעולה. במקרה שלנו, שעליהם אנחנו רוצים להחיל את האופרטור הלוגי.</dd>\n",
        "</dl>"
      ]
    },
    {
      "cell_type": "markdown",
      "metadata": {
        "id": "goEjq6GLV6N_"
      },
      "source": [
        "## <p style=\"align: right; direction: rtl; float: right;\">תרגול</p>"
      ]
    },
    {
      "cell_type": "markdown",
      "metadata": {
        "id": "6lBtx1dnV6N_"
      },
      "source": [
        "### <p style=\"align: right; direction: rtl; float: right;\">לא או או או וגם וגם?</p>"
      ]
    },
    {
      "cell_type": "markdown",
      "metadata": {
        "id": "onVkpkSqV6N_"
      },
      "source": [
        "<p style=\"text-align: right; direction: rtl; float: right;\">\n",
        "בהנתן ההשמות שהתבצעו בשורה הבאה, רשמו בצד את התוצאות של כל אחת מהשורות הבאות.<br>\n",
        "רק לאחר מכן הריצו, ובדקו האם צדקתם בתשובתכם.<br></p>"
      ]
    },
    {
      "cell_type": "code",
      "execution_count": 25,
      "metadata": {
        "id": "w5CllMKhV6OA"
      },
      "outputs": [],
      "source": [
        "# הריצו את השורות הבאות\n",
        "age = 18\n",
        "balaganist = False\n",
        "have_chartreuse = True\n",
        "have_fernet = True\n",
        "have_lime = True\n",
        "have_sugar = True\n",
        "degrees_of_cup_in_celsius = 0\n",
        "is_closed = False"
      ]
    },
    {
      "cell_type": "code",
      "execution_count": 26,
      "metadata": {
        "id": "307k-yhpV6OA",
        "outputId": "7562112b-ecd2-4b69-923b-7e20041fc0de",
        "colab": {
          "base_uri": "https://localhost:8080/"
        }
      },
      "outputs": [
        {
          "output_type": "stream",
          "name": "stdout",
          "text": [
            "False\n"
          ]
        }
      ],
      "source": [
        "is_problematic = age < 18 or balaganist\n",
        "print(is_problematic) #T"
      ]
    },
    {
      "cell_type": "code",
      "execution_count": 27,
      "metadata": {
        "id": "1kw2Ij4eV6OA",
        "outputId": "be5a744d-0eb2-4f71-f0eb-1ff7c3a101ee",
        "colab": {
          "base_uri": "https://localhost:8080/"
        }
      },
      "outputs": [
        {
          "output_type": "stream",
          "name": "stdout",
          "text": [
            "True\n"
          ]
        }
      ],
      "source": [
        "have_ingredients = have_chartreuse and have_fernet and have_lime and have_sugar\n",
        "print(have_ingredients) #T"
      ]
    },
    {
      "cell_type": "code",
      "execution_count": 28,
      "metadata": {
        "id": "gRJoMROdV6OA",
        "outputId": "e67cddbd-2a1d-48ec-9174-fdfd750da16f",
        "colab": {
          "base_uri": "https://localhost:8080/"
        }
      },
      "outputs": [
        {
          "output_type": "stream",
          "name": "stdout",
          "text": [
            "True\n"
          ]
        }
      ],
      "source": [
        "cup_is_fine = -273.15 < degrees_of_cup_in_celsius and degrees_of_cup_in_celsius < 4\n",
        "# טריק! אפשר גם לרשום:\n",
        "# cup_is_fine = -273.15 < degrees_of_cup_in_celsius < 4\n",
        "print(cup_is_fine) #T"
      ]
    },
    {
      "cell_type": "code",
      "execution_count": 29,
      "metadata": {
        "id": "0yXrnNEIV6OA",
        "outputId": "44feef48-2047-4c43-a9af-b48710ee94aa",
        "colab": {
          "base_uri": "https://localhost:8080/"
        }
      },
      "outputs": [
        {
          "output_type": "stream",
          "name": "stdout",
          "text": [
            "True\n"
          ]
        }
      ],
      "source": [
        "can_drink_industry_sour_cocktail = (not is_problematic) and have_ingredients and cup_is_fine and not is_closed\n",
        "print(can_drink_industry_sour_cocktail) #F"
      ]
    },
    {
      "cell_type": "markdown",
      "metadata": {
        "id": "Lm0aJHjfV6OA"
      },
      "source": [
        "<div class=\"align-center\" style=\"display: flex; text-align: right; direction: rtl; clear: both;\">\n",
        "    <div style=\"display: flex; width: 10%; float: right; clear: both;\">\n",
        "        <img src=\"https://github.com/PythonFreeCourse/Notebooks/blob/main/content/week01/images/exercise.svg?raw=1\" style=\"height: 50px !important;\" alt=\"תרגול\">\n",
        "    </div>\n",
        "    <div style=\"width: 70%\">\n",
        "        <p style=\"text-align: right; direction: rtl; float: right; clear: both;\">\n",
        "            מה קיבלתם?<br>\n",
        "            שנו עד 2 משתנים למעלה כדי לקבל תוצאה אחרת.<br>\n",
        "            מצאו 2 תשובות אפשריות.\n",
        "        </p>\n",
        "    </div>\n",
        "</div>"
      ]
    },
    {
      "cell_type": "markdown",
      "metadata": {
        "id": "TY1YMjKtV6OA"
      },
      "source": [
        "<p style=\"text-align: right; direction: rtl; float: right;\">\n",
        "בואו נמשיך:\n",
        "</p>"
      ]
    },
    {
      "cell_type": "code",
      "execution_count": 30,
      "metadata": {
        "id": "9Kgcobg3V6OA"
      },
      "outputs": [],
      "source": [
        "parent_name = 'David'\n",
        "parent_age = 52\n",
        "\n",
        "child_name = 'Havatzelet'\n",
        "child_age = 25\n",
        "\n",
        "average_max_lifespan_in_israel = 82.4"
      ]
    },
    {
      "cell_type": "code",
      "execution_count": 31,
      "metadata": {
        "id": "Dr6h6G3KV6OA",
        "outputId": "344bd2e9-aec0-4aaa-cd82-a52ca26c02a6",
        "colab": {
          "base_uri": "https://localhost:8080/"
        }
      },
      "outputs": [
        {
          "output_type": "execute_result",
          "data": {
            "text/plain": [
              "False"
            ]
          },
          "metadata": {},
          "execution_count": 31
        }
      ],
      "source": [
        "parent_name == \"David\" and parent_age > 52 #F"
      ]
    },
    {
      "cell_type": "code",
      "execution_count": 32,
      "metadata": {
        "id": "QjpJgTlBV6OA",
        "outputId": "59b1e13d-fbfb-480e-b86a-d8e65575d526",
        "colab": {
          "base_uri": "https://localhost:8080/"
        }
      },
      "outputs": [
        {
          "output_type": "execute_result",
          "data": {
            "text/plain": [
              "False"
            ]
          },
          "metadata": {},
          "execution_count": 32
        }
      ],
      "source": [
        "'a' == 'b' and 'c' == 'c' #F"
      ]
    },
    {
      "cell_type": "code",
      "execution_count": 33,
      "metadata": {
        "id": "4bRLVwpnV6OB",
        "outputId": "94e4c492-a666-43bb-ffec-5c04d5c1e44e",
        "colab": {
          "base_uri": "https://localhost:8080/"
        }
      },
      "outputs": [
        {
          "output_type": "execute_result",
          "data": {
            "text/plain": [
              "False"
            ]
          },
          "metadata": {},
          "execution_count": 33
        }
      ],
      "source": [
        "parent_name == 'David' and parent_name == 'david' #F"
      ]
    },
    {
      "cell_type": "code",
      "execution_count": 34,
      "metadata": {
        "id": "4e-wAmw1V6OB",
        "outputId": "a0c7f1af-3395-4bc4-ce06-ceff1c87885b",
        "colab": {
          "base_uri": "https://localhost:8080/"
        }
      },
      "outputs": [
        {
          "output_type": "execute_result",
          "data": {
            "text/plain": [
              "True"
            ]
          },
          "metadata": {},
          "execution_count": 34
        }
      ],
      "source": [
        "parent_name == 'David' or parent_age > 53 #T"
      ]
    },
    {
      "cell_type": "code",
      "execution_count": null,
      "metadata": {
        "id": "Hdt_pEnrV6OB"
      },
      "outputs": [],
      "source": [
        "'d' in str(parent_age) or 'd' in parent_name"
      ]
    },
    {
      "cell_type": "code",
      "execution_count": 35,
      "metadata": {
        "id": "IVUWSxTvV6OB",
        "outputId": "c409727e-9afa-4aa6-ef70-9a178c2c24df",
        "colab": {
          "base_uri": "https://localhost:8080/"
        }
      },
      "outputs": [
        {
          "output_type": "execute_result",
          "data": {
            "text/plain": [
              "False"
            ]
          },
          "metadata": {},
          "execution_count": 35
        }
      ],
      "source": [
        "child_age * 2 > parent_age or child_name in parent_name #F"
      ]
    },
    {
      "cell_type": "code",
      "execution_count": 37,
      "metadata": {
        "id": "iD-QZItoV6OB",
        "outputId": "3af26c73-34d8-4a1e-eecd-a0c2b52bb16b",
        "colab": {
          "base_uri": "https://localhost:8080/"
        }
      },
      "outputs": [
        {
          "output_type": "execute_result",
          "data": {
            "text/plain": [
              "True"
            ]
          },
          "metadata": {},
          "execution_count": 37
        }
      ],
      "source": [
        "not (child_name == parent_name) or 2 ** 5 == 1 #T"
      ]
    },
    {
      "cell_type": "code",
      "execution_count": 38,
      "metadata": {
        "id": "F-XOcJ2MV6OB",
        "outputId": "951709c6-1cd7-4eb3-a8eb-fc2954050595",
        "colab": {
          "base_uri": "https://localhost:8080/"
        }
      },
      "outputs": [
        {
          "output_type": "execute_result",
          "data": {
            "text/plain": [
              "True"
            ]
          },
          "metadata": {},
          "execution_count": 38
        }
      ],
      "source": [
        "child_age >= 0 and average_max_lifespan_in_israel > child_age * 2 #T"
      ]
    },
    {
      "cell_type": "code",
      "execution_count": 39,
      "metadata": {
        "id": "sTSO2lH9V6OB",
        "outputId": "487f45e7-92ed-4315-9a10-d32f61d9bca1",
        "colab": {
          "base_uri": "https://localhost:8080/"
        }
      },
      "outputs": [
        {
          "output_type": "execute_result",
          "data": {
            "text/plain": [
              "True"
            ]
          },
          "metadata": {},
          "execution_count": 39
        }
      ],
      "source": [
        "not ('y' not in parent_name and 'y' not in child_name) or child_age > parent_age or child_age < 0 or parent_age / 1 == parent_age * 1 #T"
      ]
    },
    {
      "cell_type": "markdown",
      "metadata": {
        "id": "bPfEVedoV6OB"
      },
      "source": [
        "### <p style=\"align: right; direction: rtl; float: right;\">קיפיק הצב</p>"
      ]
    },
    {
      "cell_type": "markdown",
      "metadata": {
        "id": "2batztCKV6OB"
      },
      "source": [
        "<p style=\"text-align: right; direction: rtl; float: right;\">\n",
        "קיפיק הצב הוא הלקוח היחיד שאוכל כמה כדורי גלידה, שאחד מהם בטעם כוכבי־על (<em>superstars</em>).<br>\n",
        "לגלידרייה שלכם נכנס לקוח, שמעוניין לקנות גלידה ממגוון הטעמים שיש במרכולתכם.<br>\n",
        "קבלו את הטעמים שהוא רוצה להזמין כקלט. אם הלקוח ירצה יותר מטעם אחד, הוא יפריד את הטעמים בפסיק.<br>\n",
        "בדקו האם מדובר בקיפיק הצב.\n",
        "</p>\n",
        "<p style=\"text-align: right; direction: rtl; float: right;\">\n",
        "<strong>לדוגמה</strong>, אם הלקוח יזין שהוא מעוניין להזמין <em>superstars</em>, לא מדובר בקיפיק הצב מכיוון שההזמנה כוללת כדור אחד בלבד.<br>\n",
        "אם הלקוח יזין שהוא מעוניין להזמין <em>pineapple, nettles</em>, לא מדובר בקיפיק הצב מכיוון שההזמנה לא כוללת כדור בטעם המועדף על קיפיק.<br>\n",
        "אם הלקוח יזין שהוא מעוניין להזמין <em>superstars, creme-brulee, pineapple</em>, נוכל להסיק שמדובר בקיפיק הצב.<br>\n",
        "</p>"
      ]
    },
    {
      "cell_type": "code",
      "source": [
        "ice_cream_types = input(\"Please enter the ice cream types tou want:\")\n",
        "print(\"superstars\" in ice_cream_types and \",\" in ice_cream_types)"
      ],
      "metadata": {
        "id": "WyVhnpoDYT8w",
        "outputId": "6ee2daea-74af-47e5-9d8f-7724e6706aa3",
        "colab": {
          "base_uri": "https://localhost:8080/"
        }
      },
      "execution_count": 43,
      "outputs": [
        {
          "output_type": "stream",
          "name": "stdout",
          "text": [
            "Please enter the ice cream types tou want:superstars, banana\n",
            "True\n"
          ]
        }
      ]
    }
  ],
  "metadata": {
    "kernelspec": {
      "display_name": "Python 3",
      "language": "python",
      "name": "python3"
    },
    "language_info": {
      "codemirror_mode": {
        "name": "ipython",
        "version": 3
      },
      "file_extension": ".py",
      "mimetype": "text/x-python",
      "name": "python",
      "nbconvert_exporter": "python",
      "pygments_lexer": "ipython3",
      "version": "3.7.4"
    },
    "colab": {
      "provenance": []
    }
  },
  "nbformat": 4,
  "nbformat_minor": 0
}