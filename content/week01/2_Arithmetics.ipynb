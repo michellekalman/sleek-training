{
  "cells": [
    {
      "cell_type": "markdown",
      "metadata": {
        "id": "17RWfTtz6UH9"
      },
      "source": [
        "<img src=\"https://github.com/PythonFreeCourse/Notebooks/blob/main/content/week01/images/logo.jpg?raw=1\" style=\"display: block; margin-left: auto; margin-right: auto;\" alt=\"לוגו של מיזם לימוד הפייתון. נחש מצויר בצבעי צהוב וכחול, הנע בין האותיות של שם הקורס: לומדים פייתון. הסלוגן המופיע מעל לשם הקורס הוא מיזם חינמי ללימוד תכנות בעברית.\">"
      ]
    },
    {
      "cell_type": "markdown",
      "metadata": {
        "id": "B3i9LrjM6UH_"
      },
      "source": [
        "## <span style=\"text-align: right; direction: rtl; float: right; clear: both;\">הערות</span>"
      ]
    },
    {
      "cell_type": "markdown",
      "metadata": {
        "id": "RZDQzziv6UH_"
      },
      "source": [
        "<p style=\"text-align: right; direction: rtl; float: right; clear: both;\">\n",
        "לפעמים נרצה לצרף דברי הסבר לקוד שכתבנו.<br>\n",
        "כדי להוסיף הסברים לצד הקוד נשתמש בתו סולמית, ומייד אחריה נכתוב את ההסברים שרצינו לצרף.<br>\n",
        "החלקים האלו בקוד נקראים <dfn>הערות</dfn>, ופייתון מתעלמת מקיומם כשהיא מריצה את הקוד.\n",
        "</p>"
      ]
    },
    {
      "cell_type": "markdown",
      "metadata": {
        "id": "skl6k6lI6UH_"
      },
      "source": [
        "<p style=\"text-align: right; direction: rtl; float: right; clear: both;\">\n",
        "לדוגמה:\n",
        "</p>"
      ]
    },
    {
      "cell_type": "code",
      "execution_count": 1,
      "metadata": {
        "id": "bL89QcWk6UIA",
        "outputId": "a45d2e1c-5f33-4659-e8df-1e30fd14fcf1",
        "colab": {
          "base_uri": "https://localhost:8080/"
        }
      },
      "outputs": [
        {
          "output_type": "stream",
          "name": "stdout",
          "text": [
            "Hello World\n"
          ]
        }
      ],
      "source": [
        "# This will print \"Hello World\"\n",
        "print(\"Hello World\")"
      ]
    },
    {
      "cell_type": "markdown",
      "metadata": {
        "id": "LtTNPtnh6UIA"
      },
      "source": [
        "<p style=\"text-align: right; direction: rtl; float: right; clear: both;\">או אפילו באותה שורה:</p>"
      ]
    },
    {
      "cell_type": "code",
      "execution_count": 2,
      "metadata": {
        "id": "l54Htn6D6UIB",
        "outputId": "938a7242-6b0f-44e2-c781-8e6202684b08",
        "colab": {
          "base_uri": "https://localhost:8080/"
        }
      },
      "outputs": [
        {
          "output_type": "stream",
          "name": "stdout",
          "text": [
            "Hello World\n"
          ]
        }
      ],
      "source": [
        "print(\"Hello World\")  # This will print \"Hello World\""
      ]
    },
    {
      "cell_type": "markdown",
      "metadata": {
        "id": "j88FJ1Sj6UIB"
      },
      "source": [
        "<p style=\"text-align: right; direction: rtl; float: right;\">\n",
        "    הערות נועדו להסביר את הקוד שלכם למתכנתים אחרים שיקראו אותו בעתיד.<br>\n",
        "    בינתיים, אנחנו נשתמש בהערות כדי להבהיר ולהדגיש דוגמאות במחברת הקורס.<br>\n",
        "    נהוג לכתוב הערות באנגלית, אבל רק לצורך הקורס שלנו, שמתקיים בעברית, נכופף קצת את החוקים.\n",
        "</p>"
      ]
    },
    {
      "cell_type": "markdown",
      "metadata": {
        "id": "JlyUDNln6UIB"
      },
      "source": [
        "# <span style=\"text-align: right; direction: rtl; float: right; clear: both;\">אריתמטיקה</span>"
      ]
    },
    {
      "cell_type": "markdown",
      "metadata": {
        "id": "ldtRdRVN6UIB"
      },
      "source": [
        "<p style=\"text-align: right; direction: rtl; float: right;\">\n",
        "    אין צורך לפחד מהמונח המאיים, מדובר פשוט בפעולות חשבון בסיסיות. בואו נראה מה פייתון יודעת לעשות.<br>\n",
        "    חשבו מה תהיה התוצאה בכל אחד מהתאים הבאים. לאחר שכתבתם בצד את התוצאה שעליה חשבתם, הריצו את התאים ובדקו אם צדקתם.\n",
        "</p>"
      ]
    },
    {
      "cell_type": "code",
      "execution_count": 3,
      "metadata": {
        "id": "g1DgS4i66UIC",
        "outputId": "cc4a357f-f334-4c84-a3c3-9ed6316ef4e6",
        "colab": {
          "base_uri": "https://localhost:8080/"
        }
      },
      "outputs": [
        {
          "output_type": "stream",
          "name": "stdout",
          "text": [
            "6\n"
          ]
        }
      ],
      "source": [
        "print(5 + 1)"
      ]
    },
    {
      "cell_type": "code",
      "execution_count": 4,
      "metadata": {
        "id": "2FCgYvx-6UIC",
        "outputId": "8f8bf839-8b0e-4189-ea5e-e03b95675c7d",
        "colab": {
          "base_uri": "https://localhost:8080/"
        }
      },
      "outputs": [
        {
          "output_type": "stream",
          "name": "stdout",
          "text": [
            "4\n"
          ]
        }
      ],
      "source": [
        "print(5 - 1)"
      ]
    },
    {
      "cell_type": "code",
      "execution_count": 5,
      "metadata": {
        "id": "S-2DvHw26UIC",
        "outputId": "10492697-e54b-412b-b3f7-17fe71ecab7c",
        "colab": {
          "base_uri": "https://localhost:8080/"
        }
      },
      "outputs": [
        {
          "output_type": "stream",
          "name": "stdout",
          "text": [
            "-4\n"
          ]
        }
      ],
      "source": [
        "print(1 - 5)  # פייתון מכיר בשליליים"
      ]
    },
    {
      "cell_type": "code",
      "execution_count": 6,
      "metadata": {
        "id": "U6SvPfwM6UIC",
        "outputId": "f60a1d6f-9fa1-456f-eff2-cbfa7789a675",
        "colab": {
          "base_uri": "https://localhost:8080/"
        }
      },
      "outputs": [
        {
          "output_type": "stream",
          "name": "stdout",
          "text": [
            "4.5\n"
          ]
        }
      ],
      "source": [
        "print(5 - 1 / 2)  # סדר פעולות חשבון?"
      ]
    },
    {
      "cell_type": "code",
      "execution_count": 7,
      "metadata": {
        "id": "_T4puhaT6UIC",
        "outputId": "0d60f567-3297-49d8-9b0b-b15d833a67d4",
        "colab": {
          "base_uri": "https://localhost:8080/"
        }
      },
      "outputs": [
        {
          "output_type": "stream",
          "name": "stdout",
          "text": [
            "4.2\n"
          ]
        }
      ],
      "source": [
        "print(5.5 - 1.3)"
      ]
    },
    {
      "cell_type": "code",
      "execution_count": 8,
      "metadata": {
        "id": "qXkqVixL6UIC",
        "outputId": "71c75b09-ef6f-45c7-9d48-6a04dc2a54e3",
        "colab": {
          "base_uri": "https://localhost:8080/"
        }
      },
      "outputs": [
        {
          "output_type": "stream",
          "name": "stdout",
          "text": [
            "4.2\n"
          ]
        }
      ],
      "source": [
        "print(1.2 + 3)"
      ]
    },
    {
      "cell_type": "code",
      "execution_count": 9,
      "metadata": {
        "id": "kEF1YVUQ6UIC",
        "outputId": "89b1b52e-6424-4376-b765-a6d5b095a7d3",
        "colab": {
          "base_uri": "https://localhost:8080/"
        }
      },
      "outputs": [
        {
          "output_type": "stream",
          "name": "stdout",
          "text": [
            "10\n"
          ]
        }
      ],
      "source": [
        "print(2 * 5)"
      ]
    },
    {
      "cell_type": "code",
      "execution_count": 10,
      "metadata": {
        "id": "OxkIopDe6UID",
        "outputId": "3a63cfc7-ba48-4abe-ff1e-464273691f48",
        "colab": {
          "base_uri": "https://localhost:8080/"
        }
      },
      "outputs": [
        {
          "output_type": "stream",
          "name": "stdout",
          "text": [
            "10\n"
          ]
        }
      ],
      "source": [
        "print(5 * 2)"
      ]
    },
    {
      "cell_type": "code",
      "execution_count": 11,
      "metadata": {
        "id": "p-wMFJg16UID",
        "outputId": "780be865-b1e0-483b-960a-6ad9f6edf354",
        "colab": {
          "base_uri": "https://localhost:8080/"
        }
      },
      "outputs": [
        {
          "output_type": "stream",
          "name": "stdout",
          "text": [
            "3\n"
          ]
        }
      ],
      "source": [
        "print(5 - 2)"
      ]
    },
    {
      "cell_type": "code",
      "execution_count": 12,
      "metadata": {
        "id": "gGj3puR66UID",
        "outputId": "13839026-9313-4a77-935a-729a8f5c71a2",
        "colab": {
          "base_uri": "https://localhost:8080/"
        }
      },
      "outputs": [
        {
          "output_type": "stream",
          "name": "stdout",
          "text": [
            "9\n"
          ]
        }
      ],
      "source": [
        "print(3 ** 2)  # כדאי לזכור שכפול פעמיים מסמל חזקה"
      ]
    },
    {
      "cell_type": "code",
      "execution_count": 13,
      "metadata": {
        "id": "rW6C1s6s6UID",
        "outputId": "1344e10e-d314-4b20-c931-0cd1c1add696",
        "colab": {
          "base_uri": "https://localhost:8080/"
        }
      },
      "outputs": [
        {
          "output_type": "stream",
          "name": "stdout",
          "text": [
            "8\n"
          ]
        }
      ],
      "source": [
        "print(2 ** 3)"
      ]
    },
    {
      "cell_type": "code",
      "execution_count": 14,
      "metadata": {
        "id": "-nVNis2K6UID",
        "outputId": "76ecab61-5dc3-494e-85fc-0f9a7106dd8d",
        "colab": {
          "base_uri": "https://localhost:8080/"
        }
      },
      "outputs": [
        {
          "output_type": "stream",
          "name": "stdout",
          "text": [
            "2\n"
          ]
        }
      ],
      "source": [
        "print(5 // 2)  # חילוק שלמים (נסו לנחש, מוסבר בהרחבה למטה)"
      ]
    },
    {
      "cell_type": "code",
      "execution_count": 15,
      "metadata": {
        "id": "8w8z6UnV6UID",
        "outputId": "db30d3b7-e073-4c6d-f07f-997dd9a5a4b4",
        "colab": {
          "base_uri": "https://localhost:8080/"
        }
      },
      "outputs": [
        {
          "output_type": "stream",
          "name": "stdout",
          "text": [
            "1\n"
          ]
        }
      ],
      "source": [
        "print(5 % 2)  # השארית מחלוקת השלמים"
      ]
    },
    {
      "cell_type": "code",
      "execution_count": 16,
      "metadata": {
        "id": "6Hz3iZXp6UIE",
        "outputId": "f658b320-921d-49c7-c483-abdada4fefe4",
        "colab": {
          "base_uri": "https://localhost:8080/"
        }
      },
      "outputs": [
        {
          "output_type": "stream",
          "name": "stdout",
          "text": [
            "3.0\n"
          ]
        }
      ],
      "source": [
        "print(5 * (6 / (2 * 5)))  # אפשר גם סוגריים, אם צריך"
      ]
    },
    {
      "cell_type": "markdown",
      "metadata": {
        "id": "nzXGGfXG6UIE"
      },
      "source": [
        "## <span style=\"text-align: right; direction: rtl; float: right; clear: both;\">חלוקת שלמים ושארית</span>"
      ]
    },
    {
      "cell_type": "markdown",
      "metadata": {
        "id": "KdBsWygm6UIE"
      },
      "source": [
        "### <span style=\"text-align: right; direction: rtl; float: right; clear: both;\">חלוקת שלמים</span>\n",
        "<p style=\"text-align: right; direction: rtl; float: right;\"><dfn>חלוקת שלמים</dfn> היא פעולה שתוצאתה תמיד מספר שלם, בניגוד לפעולת החילוק שאנחנו רגילים אליה (<code>/</code>).</p>\n",
        "\n",
        "<p style=\"text-align: right; direction: rtl; float: right;\">כאשר אנחנו עושים חלוקת שלמים מהצורה <code>A // B</code>, אנחנו למעשה מתכוונים לשאול:</p>\n",
        "\n",
        "<blockquote style=\"text-align: left; direction: ltr; float: right; border-left: 0; border-right: 5px solid #eeeeee;\"><p style=\"text-align: right; direction: rtl; float: left;\">אם יש לי A משולשי פיצה, וחילקתי את כל משולשי הפיצה באופן שווה ל־B ילדים (תזהרו מלחתוך לי את המשולשים!), כמה משולשי פיצה יקבל כל ילד?</p></blockquote>\n",
        "\n",
        "<p style=\"text-align: right; direction: rtl; float: right;\">לדוגמה: הביטוי <code>4 // 9</code>, אומר שיש לנו 9 משולשי פיצה ו־4 ילדים רעבים.<br>אם נחלק את משולשי הפיצה בין הילדים, נגלה שכל ילד יקבל 2 משולשים, ושנשאר משולש אחד שלא ניתן לחלק.</p>"
      ]
    },
    {
      "cell_type": "code",
      "execution_count": 17,
      "metadata": {
        "id": "cfnBcW_t6UIE",
        "outputId": "ff7c9966-cb41-4ba4-ea06-bb18c9a752a3",
        "colab": {
          "base_uri": "https://localhost:8080/"
        }
      },
      "outputs": [
        {
          "output_type": "stream",
          "name": "stdout",
          "text": [
            "2\n"
          ]
        }
      ],
      "source": [
        "print(9 // 4)"
      ]
    },
    {
      "cell_type": "markdown",
      "metadata": {
        "id": "QhlCAv0y6UIE"
      },
      "source": [
        "### <div style=\"text-align: right; direction: rtl; float: right;\">שארית</div>\n",
        "<p style=\"text-align: right; direction: rtl; float: right;\">למשולשי הפיצה שלא הצלחנו לחלק לילדים אנחנו קוראים <dfn>שארית</dfn>, וזו התוצאה שנקבל כשנכתוב את הסימן <code>%</code> במקום <code>//</code>.<br>לדוגמה, אם היינו כותבים <code>4 % 9</code>, היינו מקבלים <code>1</code>, הרי הוא משולש הפיצה שנשאר מהדוגמה שלמעלה.</p>"
      ]
    },
    {
      "cell_type": "code",
      "execution_count": 18,
      "metadata": {
        "id": "gykM_zwO6UIE",
        "outputId": "869bd6c3-ff39-46c1-8d91-486474c57947",
        "colab": {
          "base_uri": "https://localhost:8080/"
        }
      },
      "outputs": [
        {
          "output_type": "stream",
          "name": "stdout",
          "text": [
            "1\n"
          ]
        }
      ],
      "source": [
        "print(9 % 4)"
      ]
    },
    {
      "cell_type": "markdown",
      "metadata": {
        "id": "MASRyEiC6UIE"
      },
      "source": [
        "<div class=\"align-center\" style=\"display: flex; text-align: right; direction: rtl;\">\n",
        "    <div style=\"display: flex; width: 10%; float: right; \">\n",
        "        <img src=\"https://github.com/PythonFreeCourse/Notebooks/blob/main/content/week01/images/tip.png?raw=1\" style=\"height: 50px !important;\" alt=\"טיפ!\">\n",
        "    </div>\n",
        "    <div style=\"width: 90%;\">\n",
        "            עבור מספרים חיוביים, תוכלו להמיר את החלוקה ה\"רגילה\" מהצורה\n",
        "            <div style=\"display: inline-flex; direction: ltr;\">$\\normalsize{\\frac{9}{4}}$</div>\n",
        "            לשבר מעורב מהצורה\n",
        "            <div style=\"display: inline-flex; direction: ltr;\">$\\normalsize{2\\frac{1}{4}}$</div>.\n",
        "        <br>\n",
        "            המספר השלם שהתקבל\n",
        "            <div style=\"display: inline-flex; direction: ltr;\">($\\normalsize{2}$)</div>\n",
        "            הוא תוצאת חילוק השלמים, בעוד שהמספר במונה\n",
        "            <div style=\"display: inline-flex; direction: ltr;\">($\\normalsize{1}$)</div>\n",
        "            הוא השארית.\n",
        "    </div>\n",
        "</div>"
      ]
    },
    {
      "cell_type": "markdown",
      "metadata": {
        "id": "oGMVCM3B6UIF"
      },
      "source": [
        "## <span style=\"align: right; direction: rtl; float: right;\">תרגול: תה אמריקה</span>"
      ]
    },
    {
      "cell_type": "markdown",
      "metadata": {
        "id": "VoRFQ3li6UIF"
      },
      "source": [
        "<p style=\"text-align: right; direction: rtl; float: right;\">\n",
        "חובבי תה רציניים ידעו להגיד לכם, שחליטת התה שלכם צריכה להיעשות בטמפרטורה מסוימת מאוד, שתלויה בסוג התה שבידכם.<br>\n",
        "כפלצן תה גדול, אני מזמין לעיתים קרובות תה ממחוזות מוזרים בעולם, שבהם מציגים את הטמפרטורה המושלמת לחליטת התה במעלות פרנהייט במקום בצלזיוס.<br>\n",
        "לאחרונה קיבלתי תה יסמין שהיה צריך לחלוט ב־176 מעלות פרנהייט.<br>\n",
        "הדלקתי קומקום ועקבתי אחרי הטמפרטורה של המים. עזרו לי, והדפיסו את הטמפרטורה שאליה המים צריכים להגיע, במעלות <em>צלזיוס</em>.\n",
        "</p>\n",
        "\n",
        "<p style=\"text-align: right; direction: rtl; float: right;\">\n",
        "הנוסחה להמרה מפרנהייט לצלזיוס היא <code>(5 חלקי 9) כפול (מעלות בפרנהייט פחות 32)</code>.<br>\n",
        "או, אם אתם מעדיפים כתיב מתמטי: <span style=\"display: inline-flex; direction: ltr;\">$\\normalsize{C = \\frac{5}{9}\\times(F - 32)}$</span><br>\n",
        "לדוגמה, אם הייתי צריך לחלוט את התה שלי ב־212 מעלות פרנהייט, הייתי מצפה שתציגו לי <samp>100</samp>, כיוון ש: <span style=\"display: inline-flex; direction: ltr;\">$\\normalsize{C = \\frac{5}{9}\\times(212 - 32)} = 100$</span>\n",
        "</p>"
      ]
    },
    {
      "cell_type": "code",
      "execution_count": 21,
      "metadata": {
        "id": "xsZP9v386UIF",
        "outputId": "3d8ce68e-4d68-477d-af20-5fc3b16e3034",
        "colab": {
          "base_uri": "https://localhost:8080/"
        }
      },
      "outputs": [
        {
          "output_type": "stream",
          "name": "stdout",
          "text": [
            "80.0\n"
          ]
        }
      ],
      "source": [
        "# הקלידו את הקוד שלכם כאן!\n",
        "print(5/9 * (176 - 32))"
      ]
    }
  ],
  "metadata": {
    "kernelspec": {
      "display_name": "Python 3",
      "language": "python",
      "name": "python3"
    },
    "language_info": {
      "codemirror_mode": {
        "name": "ipython",
        "version": 3
      },
      "file_extension": ".py",
      "mimetype": "text/x-python",
      "name": "python",
      "nbconvert_exporter": "python",
      "pygments_lexer": "ipython3",
      "version": "3.7.6"
    },
    "colab": {
      "provenance": []
    }
  },
  "nbformat": 4,
  "nbformat_minor": 0
}