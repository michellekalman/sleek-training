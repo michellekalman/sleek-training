{
  "cells": [
    {
      "cell_type": "markdown",
      "metadata": {
        "id": "BbJWgPJlWY_L"
      },
      "source": [
        "<img src=\"https://github.com/PythonFreeCourse/Notebooks/blob/main/content/week04/images/logo.jpg?raw=1\" style=\"display: block; margin-left: auto; margin-right: auto;\" alt=\"לוגו של מיזם לימוד הפייתון. נחש מצויר בצבעי צהוב וכחול, הנע בין האותיות של שם הקורס: לומדים פייתון. הסלוגן המופיע מעל לשם הקורס הוא מיזם חינמי ללימוד תכנות בעברית.\">"
      ]
    },
    {
      "cell_type": "markdown",
      "metadata": {
        "id": "f9u69SilWY_P"
      },
      "source": [
        "# <span style=\"text-align: right; direction: rtl; float: right;\">מילונים</span>"
      ]
    },
    {
      "cell_type": "markdown",
      "metadata": {
        "id": "KMpyJBf9WY_P"
      },
      "source": [
        "## <span style=\"text-align: right; direction: rtl; float: right; clear: both;\">הקדמה</span>"
      ]
    },
    {
      "cell_type": "markdown",
      "metadata": {
        "id": "_alLASTbWY_R"
      },
      "source": [
        "<p style=\"text-align: right; direction: rtl; float: right; clear: both;\">\n",
        "    ברשימה הבאה, כל תבליט מייצג אוסף של נתונים:\n",
        "</p>"
      ]
    },
    {
      "cell_type": "markdown",
      "metadata": {
        "id": "PMl6-y4QWY_S"
      },
      "source": [
        "<ul style=\"text-align: right; direction: rtl; float: right; clear: both;\">\n",
        "    <li>בחנות של האדון קשטן יש 2 בננות, 3 תפוחים ו־4 גזרים.</li>\n",
        "    <li>מספר הזהות של ג'ני הוא 086753092, של קווין 133713370, של איינשטיין 071091797 ושל מנחם 111111118.</li>\n",
        "    <li>לקווין מהסעיף הקודם יש צוללות בצבע אדום וכחול. הצוללות של ג'ני מהסעיף הקודם בצבע שחור וירוק. הצוללת שלי צהובה.</li>\n",
        "    <li>המחיר של פאי בחנות של קשטן הוא 3.141 ש\"ח. המחיר של אווז מחמד בחנות של קשטן הוא 9.0053 ש\"ח.</li>\n",
        "</ul>"
      ]
    },
    {
      "cell_type": "markdown",
      "metadata": {
        "id": "hhh2fMo9WY_U"
      },
      "source": [
        "<div class=\"align-center\" style=\"display: flex; text-align: right; direction: rtl; clear: both;\">\n",
        "    <div style=\"display: flex; width: 10%; float: right; clear: both;\">\n",
        "        <img src=\"https://github.com/PythonFreeCourse/Notebooks/blob/main/content/week04/images/exercise.svg?raw=1\" style=\"height: 50px !important;\" alt=\"תרגול\">\n",
        "    </div>\n",
        "    <div style=\"width: 70%\">\n",
        "        <p style=\"text-align: right; direction: rtl; float: right; clear: both;\">\n",
        "            נסו למצוא מאפיינים משותפים לאוספים שהופיעו מעלה.\n",
        "        </p>\n",
        "    </div>\n",
        "    <div style=\"display: flex; width: 20%; border-right: 0.1rem solid #A5A5A5; padding: 1rem 2rem;\">\n",
        "        <p style=\"text-align: center; direction: rtl; justify-content: center; align-items: center; clear: both;\">\n",
        "            <strong>חשוב!</strong><br>\n",
        "            פתרו לפני שתמשיכו!\n",
        "        </p>\n",
        "    </div>\n",
        "</div>"
      ]
    },
    {
      "cell_type": "markdown",
      "metadata": {
        "id": "_mMKkIahWY_V"
      },
      "source": [
        "<p style=\"text-align: right; direction: rtl; float: right; clear: both;\">\n",
        "    אפשר לחלק כל אחד מהאוספים שכתבנו למעלה ל־2 קבוצות ערכים.<br>\n",
        "    הראשונה – הנושאים של האוסף. עבור החנות של קשטן, לדוגמה, הפריט שאנחנו מחזיקים בחנות.<br>\n",
        "    השנייה – הפריטים שהם <em>נתון כלשהו</em> בנוגע לפריט הראשון: המלאי של אותו פריט, לדוגמה.<br>\n",
        "</p>"
      ]
    },
    {
      "cell_type": "markdown",
      "metadata": {
        "id": "nTXrguf5WY_W"
      },
      "source": [
        "<figure>\n",
        "    <img src=\"https://github.com/PythonFreeCourse/Notebooks/blob/main/content/week04/images/dictionary_groups.svg?n=5&raw=1\" style=\"max-width:100%; margin-right: auto; margin-left: auto; text-align: center;\" alt=\"בתמונה מופיעים 4 עיגולים בימין ו־4 עיגולים בשמאל. העיגולים בימין, בעלי הכותרת 'נושא', מצביעים על העיגולים בשמאל שכותרתם 'נתון לגבי הנושא'. כל עיגול בימין מצביע לעיגול בשמאל. 'פריט בחנות' מצביע ל'מלאי של הפריט', 'מספר תעודת זהות' מצביע ל'השם שמשויך למספר', 'בן אדם' מצביע ל'צבעי הצוללות שבבעלותו' ו'פריט בחנות' (עיגול נוסף באותו שם כמו העיגול הראשון) מצביע ל'מחיר הפריט'.\"/>\n",
        "    <figcaption style=\"text-align: center; direction: rtl;\">חלוקת האוספים ל־2 קבוצות של ערכים.</figcaption>\n",
        "</figure>"
      ]
    },
    {
      "cell_type": "markdown",
      "metadata": {
        "id": "Y8R3SlveWY_X"
      },
      "source": [
        "<p style=\"text-align: right; direction: rtl; float: right; clear: both;\">\n",
        "    פריטים מהקבוצה הראשונה לעולם לא יחזרו על עצמם – אין היגיון בכך ש\"תפוח ירוק\" יופיע פעמיים ברשימת המלאי בחנות, ולא ייתכן מצב של שני מספרי זהות זהים.<br>\n",
        "    הפריטים מהקבוצה השנייה, לעומת זאת, יכולים לחזור על עצמם – הגיוני שתהיה אותה כמות של בננות ותפוחים בחנות, או שיהיו אנשים בעלי מספרי זהות שונים שנקראים \"משה כהן\".\n",
        "</p>"
      ]
    },
    {
      "cell_type": "markdown",
      "metadata": {
        "id": "kwkGO56cWY_Y"
      },
      "source": [
        "<p style=\"text-align: right; direction: rtl; float: right; clear: both;\">\n",
        "    נבחן לעומק את המאפיינים המשותפים בדוגמאות שלעיל.\n",
        "</p>"
      ]
    },
    {
      "cell_type": "markdown",
      "metadata": {
        "id": "IZAJCVK6WY_Y"
      },
      "source": [
        "<table style=\"text-align: right; direction: rtl; clear: both; font-size: 1.3rem\">\n",
        "    <caption style=\"text-align: center; direction: rtl; clear: both; font-size: 2rem; padding-bottom: 2rem;\">המשותף לאוספים</caption>\n",
        "    <thead>\n",
        "        <tr>\n",
        "            <th>אוסף</th>\n",
        "            <th>הערך הקושר (קבוצה ראשונה)</th>\n",
        "            <th>הערך המתאים לו (קבוצה שנייה)</th>\n",
        "            <th>הסבר</th>\n",
        "        </tr>\n",
        "    </thead>\n",
        "    <tbody>\n",
        "        <tr>\n",
        "            <td>מוצרים והמלאי שלהם בחנות</td>\n",
        "            <td>המוצר שנמכר בחנות</td>\n",
        "            <td>המלאי מאותו מוצר</td>\n",
        "            <td>יכולים להיות בחנות 5 תפוזים ו־5 תפוחים, אבל אין משמעות לחנות שיש בה 5 תפוחים וגם 3 תפוחים.</td>\n",
        "        </tr>\n",
        "        <tr>\n",
        "            <td>מספרי הזהות של אזרחים</td>\n",
        "            <td>תעודת הזהות</td>\n",
        "            <td>השם של בעל מספר הזהות</td>\n",
        "            <td>יכולים להיות הרבה אזרחים העונים לשם משה לוי, ולכל אחד מהם יהיה מספר זהות שונה. לא ייתכן שמספר זהות מסוים ישויך ליותר מאדם אחד.</td>\n",
        "        </tr>\n",
        "        <tr>\n",
        "            <td>בעלות על צוללות צבעוניות</td>\n",
        "            <td>בעל הצוללות</td>\n",
        "            <td>צבע הצוללות</td>\n",
        "            <td>יכול להיות שגם לקווין וגם לג'ני יש צוללות בצבעים זהים. ג'ני, קווין ואני הם אנשים ספציפיים, שאין יותר מ־1 מהם בעולם (עד שנמציא דרך לשבט אנשים).</td>\n",
        "        </tr>\n",
        "        <tr>\n",
        "            <td>מוצרים ומחיריהם</td>\n",
        "            <td>שם המוצר</td>\n",
        "            <td>מחיר המוצר</td>\n",
        "            <td>לכל מוצר מחיר נקוב. עבור שני מוצרים שונים בחנות יכול להיות מחיר זהה.</td>\n",
        "        </tr>\n",
        "    </tbody>\n",
        "</table>"
      ]
    },
    {
      "cell_type": "markdown",
      "metadata": {
        "id": "ySv0HKOBWY_Z"
      },
      "source": [
        "### <span style=\"text-align: right; direction: rtl; float: right; clear: both;\">מיפוי ערכים</span>"
      ]
    },
    {
      "cell_type": "markdown",
      "metadata": {
        "id": "3z6cbrLRWY_Z"
      },
      "source": [
        "<p style=\"text-align: right; direction: rtl; float: right; clear: both;\">\n",
        "    כמו שראינו בדוגמאות, מצב נפוץ במיוחד הוא הצורך לאחסן <em>מיפוי בין ערכים</em>.<br>\n",
        "    נחשוב על המיפוי בחנות של קשטן, שבה הוא סופר את המלאי עבור כל מוצר.<br>\n",
        "    נוכל לייצג את מלאי המוצרים בחנות של קשטן באמצעות הידע שכבר יש לנו. נשתמש בקוד הבא:\n",
        "</p>"
      ]
    },
    {
      "cell_type": "code",
      "execution_count": null,
      "metadata": {
        "id": "H8xnn_LcWY_Z"
      },
      "outputs": [],
      "source": [
        "items = ['banana', 'apple', 'carrot']\n",
        "stock = [2, 3, 4]"
      ]
    },
    {
      "cell_type": "markdown",
      "metadata": {
        "id": "twIyxzcZWY_b"
      },
      "source": [
        "<p style=\"text-align: right; direction: rtl; float: right; clear: both;\">\n",
        "    עבור כל תא ברשימת <var>items</var>, שמרנו במקום התואם ברשימת <var>stock</var> את הכמות שנמצאת ממנו בחנות.<br>\n",
        "    יש 4 גזרים, 3 תפוחים ו־2 בננות על המדף בחנות של אדון קשטן.<br>\n",
        "    שליפה של כמות המלאי עבור מוצר כלשהו בחנות תתבצע בצורה הבאה:\n",
        "</p>"
      ]
    },
    {
      "cell_type": "code",
      "execution_count": null,
      "metadata": {
        "id": "ex3r7mrWWY_b"
      },
      "outputs": [],
      "source": [
        "def get_stock(item_name, items, stock):\n",
        "    item_index = items.index(item_name)\n",
        "    how_many = stock[item_index]\n",
        "    return how_many"
      ]
    },
    {
      "cell_type": "markdown",
      "metadata": {
        "id": "HcRrpyFOWY_b"
      },
      "source": [
        "<p style=\"text-align: right; direction: rtl; float: right; clear: both;\">\n",
        "    בשורה הראשונה בגוף הפונקציה מצאנו את מיקום המוצר שאנחנו מחפשים במלאי. נניח, \"תפוח\" מוחזק במקום 1 ברשימה.<br>\n",
        "    בשורה השנייה פנינו לרשימה השנייה, זו שמאחסנת את המלאי עבור כל מוצר, ומצאנו את המלאי שנמצא באותו מיקום.<br>\n",
        "    כמות היחידות של מוצר מאוחסנת במספר תא מסוים, התואם למספר התא ברשימה של שמות המוצרים. זו הסיבה לכך שהרעיון עובד.<br>\n",
        "</p>"
      ]
    },
    {
      "cell_type": "code",
      "execution_count": null,
      "metadata": {
        "id": "iPUapepuWY_c"
      },
      "outputs": [],
      "source": [
        "print(get_stock('apple', items, stock))"
      ]
    },
    {
      "cell_type": "markdown",
      "metadata": {
        "id": "GO1ds4IiWY_c"
      },
      "source": [
        "<p style=\"text-align: right; direction: rtl; float: right; clear: both;\">\n",
        "    צורה נוספת למימוש אותו רעיון תהיה שמירה של זוגות סדורים בתוך רשימה של tuple־ים:\n",
        "</p>"
      ]
    },
    {
      "cell_type": "code",
      "execution_count": null,
      "metadata": {
        "id": "x1oU5UCFWY_c"
      },
      "outputs": [],
      "source": [
        "items = [('banana', 2), ('apple', 3), ('carrot', 4)]"
      ]
    },
    {
      "cell_type": "markdown",
      "metadata": {
        "id": "UlL-ZzfSWY_c"
      },
      "source": [
        "<p style=\"text-align: right; direction: rtl; float: right; clear: both;\">\n",
        "    ברשימה הזו הרעיון נראה מובן יותר. בואו נממש דרך לחלץ איבר מסוים מתוך הרשימה:\n",
        "</p>"
      ]
    },
    {
      "cell_type": "code",
      "execution_count": null,
      "metadata": {
        "id": "FoYzA-zwWY_c"
      },
      "outputs": [],
      "source": [
        "def get_stock(item_name_to_find, items_with_stock):\n",
        "    for item_to_stock in items_with_stock:\n",
        "        item_name = item_to_stock[0]\n",
        "        stock = item_to_stock[1]\n",
        "        if item_name == item_name_to_find:\n",
        "            return stock"
      ]
    },
    {
      "cell_type": "markdown",
      "metadata": {
        "id": "1W3799cRWY_c"
      },
      "source": [
        "<p style=\"text-align: right; direction: rtl; float: right; clear: both;\">\n",
        "    עבור כל tuple ברשימה, בדקנו אם שם הפריט שהוא מכיל תואם לשם הפריט שחיפשנו.<br>\n",
        "    אם כן, החזרנו את הכמות של אותו פריט במלאי.<br>\n",
        "    שימוש בפונקציה הזו נראה כך:\n",
        "</p>"
      ]
    },
    {
      "cell_type": "code",
      "execution_count": null,
      "metadata": {
        "id": "ZJVM5qtsWY_d"
      },
      "outputs": [],
      "source": [
        "get_stock('apple', items)"
      ]
    },
    {
      "cell_type": "markdown",
      "metadata": {
        "id": "NxnAy1jQWY_d"
      },
      "source": [
        "<div class=\"align-center\" style=\"display: flex; text-align: right; direction: rtl; clear: both;\">\n",
        "    <div style=\"display: flex; width: 10%; float: right; clear: both;\">\n",
        "        <img src=\"https://github.com/PythonFreeCourse/Notebooks/blob/main/content/week04/images/exercise.svg?raw=1\" style=\"height: 50px !important;\" alt=\"תרגול\">\n",
        "    </div>\n",
        "    <div style=\"width: 70%\">\n",
        "        <p style=\"text-align: right; direction: rtl; float: right; clear: both;\">\n",
        "            השתמשו ב־unpacking שלמדנו במחברת הקודמת כדי לפשט את לולאת ה־<code>for</code> בקוד של <code>get_stock</code>.\n",
        "        </p>\n",
        "    </div>\n",
        "    <div style=\"display: flex; width: 20%; border-right: 0.1rem solid #A5A5A5; padding: 1rem 2rem;\">\n",
        "        <p style=\"text-align: center; direction: rtl; justify-content: center; align-items: center; clear: both;\">\n",
        "            <strong>חשוב!</strong><br>\n",
        "            פתרו לפני שתמשיכו!\n",
        "        </p>\n",
        "    </div>\n",
        "</div>"
      ]
    },
    {
      "cell_type": "markdown",
      "metadata": {
        "id": "y2V849TYWY_d"
      },
      "source": [
        "<div class=\"align-center\" style=\"display: flex; text-align: right; direction: rtl; clear: both;\">\n",
        "    <div style=\"display: flex; width: 10%; float: right; clear: both;\">\n",
        "        <img src=\"https://github.com/PythonFreeCourse/Notebooks/blob/main/content/week04/images/exercise.svg?raw=1\" style=\"height: 50px !important;\" alt=\"תרגול\">\n",
        "    </div>\n",
        "    <div style=\"width: 70%\">\n",
        "        <p style=\"text-align: right; direction: rtl; float: right; clear: both;\">\n",
        "            שני קטעי הקוד שנתנו כדוגמה פישטו את המצב יתר על המידה, והם אינם מתייחסים למצב שבו הפריט חסר במלאי.<br>\n",
        "            הרחיבו את הפונקציות <code>get_stock</code> כך שיחזירו 0 אם הפריט חסר במלאי.\n",
        "        </p>\n",
        "    </div>\n",
        "    <div style=\"display: flex; width: 20%; border-right: 0.1rem solid #A5A5A5; padding: 1rem 2rem;\">\n",
        "        <p style=\"text-align: center; direction: rtl; justify-content: center; align-items: center; clear: both;\">\n",
        "            <strong>חשוב!</strong><br>\n",
        "            פתרו לפני שתמשיכו!\n",
        "        </p>\n",
        "    </div>\n",
        "</div>"
      ]
    },
    {
      "cell_type": "markdown",
      "metadata": {
        "id": "gsdp15JhWY_d"
      },
      "source": [
        "## <span style=\"text-align: right; direction: rtl; float: right; clear: both;\">הגדרה</span>"
      ]
    },
    {
      "cell_type": "markdown",
      "metadata": {
        "id": "oNOSVKDuWY_e"
      },
      "source": [
        "### <span style=\"text-align: right; direction: rtl; float: right; clear: both;\">מה זה מילון?</span>"
      ]
    },
    {
      "cell_type": "markdown",
      "metadata": {
        "id": "7o7p-aeJWY_e"
      },
      "source": [
        "<p style=\"text-align: right; direction: rtl; float: right; clear: both;\">\n",
        "מילון הוא סוג ערך בפייתון.<br>\n",
        "תכליתו היא ליצור קשר בין סדרה של נתונים שנקראת <dfn>מפתחות</dfn>, לבין סדרה אחרת של נתונים שנקראת <dfn>ערכים</dfn>.<br>\n",
        "לכל מפתח יש ערך שעליו הוא מצביע.<br>\n",
        "</p>"
      ]
    },
    {
      "cell_type": "markdown",
      "metadata": {
        "id": "zDtAyjj8WY_e"
      },
      "source": [
        "<p style=\"text-align: right; direction: rtl; float: right; clear: both;\">\n",
        "    ישנן דוגמאות אפשריות רבות לקשרים כאלו:\n",
        "</p>\n",
        "<ol style=\"text-align: right; direction: rtl; float: right; clear: both;\">\n",
        "    <li>קשר בין ערים בעולם לבין מספר האנשים שחיים בהן.</li>\n",
        "    <li>קשר בין ברקוד של מוצרים בחנות לבין מספר הפריטים במלאי מכל מוצר.</li>\n",
        "    <li>קשר בין מילים לבין רשימת הפירושים שלהן במילון אבן־שושן.</li>\n",
        "</ol>"
      ]
    },
    {
      "cell_type": "markdown",
      "metadata": {
        "id": "Zj8NzMZUWY_e"
      },
      "source": [
        "<p style=\"text-align: right; direction: rtl; float: right; clear: both;\">\n",
        "לערך המצביע נקרא <dfn>מפתח</dfn> (<dfn>key</dfn>). זה האיבר מבין זוג האיברים שעל פיו נשמע הגיוני יותר לעשות חיפוש:<br>\n",
        "</p>\n",
        "<ol style=\"text-align: right; direction: rtl; float: right; clear: both;\">\n",
        "    <li>העיר שאנחנו רוצים לדעת את מספר התושבים בה.</li>\n",
        "    <li>הברקוד שאנחנו רוצים לדעת כמה פריטים ממנו קיימים במלאי.</li>\n",
        "    <li>המילה שאת הפירושים שלה אנחנו רוצים למצוא.</li>\n",
        "</ol>"
      ]
    },
    {
      "cell_type": "markdown",
      "metadata": {
        "id": "vubfCzNDWY_f"
      },
      "source": [
        "<p style=\"text-align: right; direction: rtl; float: right; clear: both;\">\n",
        "לערך השני מבין שני הערכים בזוג, נקרא... ובכן, <dfn>ערך</dfn> (<dfn>value</dfn>). זה הנתון שנרצה למצוא לפי המפתח:<br>\n",
        "</p>\n",
        "<ol style=\"text-align: right; direction: rtl; float: right; clear: both;\">\n",
        "    <li>מספר התושבים בעיר.</li>\n",
        "    <li>מספר הפריטים הקיימים במלאי עבור ברקוד מסוים.</li>\n",
        "    <li>הפירושים של המילה במילון.</li>\n",
        "</ol>"
      ]
    },
    {
      "cell_type": "markdown",
      "metadata": {
        "id": "cvbUm5kQWY_f"
      },
      "source": [
        "<p style=\"text-align: right; direction: rtl; float: right; clear: both;\">\n",
        "אם כך, מילון הוא בסך הכול אוסף של זוגות שכאלו: מפתחות וערכים.</p>"
      ]
    },
    {
      "cell_type": "markdown",
      "metadata": {
        "id": "VmdG-m9VWY_g"
      },
      "source": [
        "## <span style=\"text-align: right; direction: rtl; float: right; clear: both;\">הבסיס</span>"
      ]
    },
    {
      "cell_type": "markdown",
      "metadata": {
        "id": "meRFnGdQWY_g"
      },
      "source": [
        "### <span style=\"text-align: right; direction: rtl; float: right; clear: both;\">יצירת מילון</span>"
      ]
    },
    {
      "cell_type": "markdown",
      "metadata": {
        "id": "GD9ZR2cqWY_h"
      },
      "source": [
        "<p style=\"text-align: right; direction: rtl; float: right; clear: both;\">\n",
        "ניצור מילון חדש:</p>"
      ]
    },
    {
      "cell_type": "code",
      "execution_count": null,
      "metadata": {
        "id": "C4gc94xSWY_h"
      },
      "outputs": [],
      "source": [
        "ages = {'Yam': 27, 'Methuselah': 969, 'Baby Groot': 3}"
      ]
    },
    {
      "cell_type": "markdown",
      "metadata": {
        "id": "sT39QMNEWY_i"
      },
      "source": [
        "<p style=\"text-align: right; direction: rtl; float: right; clear: both;\">\n",
        "במילון הזה ישנם שלושה ערכים: הגיל של ים, של מתושלח ושל בייבי־גרוט.<br>\n",
        "המפתחות במילון הזה הם <em>Yam</em> (הערך הקשור למפתח הזה הוא 27), <em>Methuselah</em> (עם הערך 969) ו־<em>Baby Groot</em> (אליו הוצמד הערך 3).\n",
        "</p>"
      ]
    },
    {
      "cell_type": "markdown",
      "metadata": {
        "id": "espSDgPJWY_i"
      },
      "source": [
        "<p style=\"text-align: right; direction: rtl; float: right; clear: both;\">\n",
        "יצרנו את המילון כך:\n",
        "</p>"
      ]
    },
    {
      "cell_type": "markdown",
      "metadata": {
        "id": "kVFyqtHjWY_j"
      },
      "source": [
        "<ol style=\"text-align: right; direction: rtl; float: right; clear: both;\">\n",
        "    <li>פתחנו סוגריים מסולסלים.</li>\n",
        "    <li>יצרנו זוגות של מפתחות וערכים, מופרדים בפסיק:\n",
        "        <ol>\n",
        "            <li>המפתח.</li>\n",
        "            <li>הפרדה בנקודתיים.</li>\n",
        "            <li>הערך.</li>\n",
        "        </ol>\n",
        "    </li>\n",
        "    <li>סגרנו סוגריים מסולסלים.</li>\n",
        "</ol>"
      ]
    },
    {
      "cell_type": "markdown",
      "metadata": {
        "id": "EIn1m9TgWY_k"
      },
      "source": [
        "<figure>\n",
        "    <img src=\"https://github.com/PythonFreeCourse/Notebooks/blob/main/content/week04/images/dictionary.svg?v=2&raw=1\" style=\"max-width:100%; margin-right: auto; margin-left: auto; text-align: center;\" alt=\"בתמונה מופיעים 3 ריבועים בימין ו־3 ריבועים בשמאל. הריבועים בימין, שמתויגים כ'מפתח', מצביעים על הריבועים בשמאל שמתויגים כ'ערך'. כל ריבוע בימין מצביע לריבוע בשמאל. בריבוע הימני העליון כתוב Yam, והוא מצביע על ריבוע בו כתוב 27. כך גם עבור ריבוע שבו כתוב Methuselah ומצביע לריבוע בו כתוב 969, וריבוע בו כתוב Baby Groot ומצביע לריבוע בו כתוב 3.\"/>\n",
        "    <figcaption style=\"text-align: center; direction: rtl;\">המחשה למילון שבו 3 מפתחות ו־3 ערכים.</figcaption>\n",
        "</figure>"
      ]
    },
    {
      "cell_type": "markdown",
      "metadata": {
        "id": "3wPoFaPgWY_k"
      },
      "source": [
        "<p style=\"text-align: right; direction: rtl; float: right; clear: both;\">\n",
        "אפשר ליצור מילון ריק בעזרת פתיחה וסגירה של סוגריים מסולסלים:</p>"
      ]
    },
    {
      "cell_type": "code",
      "execution_count": null,
      "metadata": {
        "id": "1hyJW_NSWY_l"
      },
      "outputs": [],
      "source": [
        "age_of_my_elephants = {}"
      ]
    },
    {
      "cell_type": "markdown",
      "metadata": {
        "id": "eLvT_nKVWY_l"
      },
      "source": [
        "<div class=\"align-center\" style=\"display: flex; text-align: right; direction: rtl; clear: both;\">\n",
        "    <div style=\"display: flex; width: 10%; float: right; clear: both;\">\n",
        "        <img src=\"https://github.com/PythonFreeCourse/Notebooks/blob/main/content/week04/images/exercise.svg?raw=1\" style=\"height: 50px !important;\" alt=\"תרגול\">\n",
        "    </div>\n",
        "    <div style=\"width: 70%\">\n",
        "        <p style=\"text-align: right; direction: rtl; float: right; clear: both;\">\n",
        "            צרו מילון עבור המלאי בחנות של אדון קשטן.\n",
        "        </p>\n",
        "    </div>\n",
        "    <div style=\"display: flex; width: 20%; border-right: 0.1rem solid #A5A5A5; padding: 1rem 2rem;\">\n",
        "        <p style=\"text-align: center; direction: rtl; justify-content: center; align-items: center; clear: both;\">\n",
        "            <strong>חשוב!</strong><br>\n",
        "            פתרו לפני שתמשיכו!\n",
        "        </p>\n",
        "    </div>\n",
        "</div>"
      ]
    },
    {
      "cell_type": "markdown",
      "metadata": {
        "id": "D9-8VIQaWY_m"
      },
      "source": [
        "### <span style=\"text-align: right; direction: rtl; float: right; clear: both;\">אחזור ערך</span>"
      ]
    },
    {
      "cell_type": "markdown",
      "metadata": {
        "id": "hr8MNd_5WY_m"
      },
      "source": [
        "<p style=\"text-align: right; direction: rtl; float: right; clear: both;\">\n",
        "ניזכר כיצד מאחזרים ערך מתוך רשימה:\n",
        "</p>"
      ]
    },
    {
      "cell_type": "code",
      "execution_count": null,
      "metadata": {
        "id": "CqxdRrJvWY_m"
      },
      "outputs": [],
      "source": [
        "names = ['Yam', 'Mathuselah', 'Baby Groot']"
      ]
    },
    {
      "cell_type": "markdown",
      "metadata": {
        "id": "ZS9JRZOwWY_m"
      },
      "source": [
        "<p style=\"text-align: right; direction: rtl; float: right; clear: both;\">\n",
        "כדי לחלץ את הערך שנמצא <em>במקום 2</em> ברשימה <var>names</var>, נכתוב:\n",
        "</p>"
      ]
    },
    {
      "cell_type": "code",
      "execution_count": null,
      "metadata": {
        "id": "9m7hoMVDWY_m"
      },
      "outputs": [],
      "source": [
        "names[2]"
      ]
    },
    {
      "cell_type": "markdown",
      "metadata": {
        "id": "hOt_R5z4WY_n"
      },
      "source": [
        "<p style=\"text-align: right; direction: rtl; float: right; clear: both;\">\n",
        "עד כאן הכול מוכר.<br>\n",
        "ניקח את המילון שמייצג את המלאי בחנות של אדון קשטן:\n",
        "</p>"
      ]
    },
    {
      "cell_type": "code",
      "execution_count": null,
      "metadata": {
        "id": "DuHOhfMjWY_n"
      },
      "outputs": [],
      "source": [
        "items = {'banana': 2, 'apple': 3, 'carrot': 4}"
      ]
    },
    {
      "cell_type": "markdown",
      "metadata": {
        "id": "d2iDVpUmWY_n"
      },
      "source": [
        "<p style=\"text-align: right; direction: rtl; float: right; clear: both;\">\n",
        "כדי לחלץ את ערך המלאי שנמצא <em>במקום שבו המפתח הוא 'banana'</em>, נרשום את הביטוי הבא:\n",
        "</p>"
      ]
    },
    {
      "cell_type": "code",
      "execution_count": null,
      "metadata": {
        "id": "d_TThgYYWY_n"
      },
      "outputs": [],
      "source": [
        "items['banana']"
      ]
    },
    {
      "cell_type": "markdown",
      "metadata": {
        "id": "5IUo_4fdWY_n"
      },
      "source": [
        "<p style=\"text-align: right; direction: rtl; float: right; clear: both;\">\n",
        "כיוון שבמילון המפתח הוא זה שמצביע על הערך ולא להפך, אפשר לאחזר ערך לפי מפתח, אבל אי־אפשר לאחזר מפתח לפי ערך.</p>"
      ]
    },
    {
      "cell_type": "markdown",
      "metadata": {
        "id": "vbbcu-UrWY_o"
      },
      "source": [
        "<div class=\"align-center\" style=\"display: flex; text-align: right; direction: rtl;\">\n",
        "    <div style=\"display: flex; width: 10%; \">\n",
        "        <img src=\"https://github.com/PythonFreeCourse/Notebooks/blob/main/content/week04/images/tip.png?raw=1\" style=\"height: 50px !important;\" alt=\"אזהרה!\">\n",
        "    </div>\n",
        "    <div style=\"width: 90%\">\n",
        "        <p style=\"text-align: right; direction: rtl;\">\n",
        "            ביום־יום, השתמשו במילה \"בְּמָקוֹם\" (b'e-ma-qom) כתחליף למילים סוגריים מרובעים.<br>\n",
        "            לדוגמה: עבור שורת הקוד האחרונה, אימרו <em><q>items במקום banana</q></em>.\n",
        "        </p>\n",
        "    </div>\n",
        "</div>"
      ]
    },
    {
      "cell_type": "markdown",
      "metadata": {
        "id": "lTxcmUYLWY_o"
      },
      "source": [
        "### <span style=\"text-align: right; direction: rtl; float: right; clear: both;\">הוספה ועדכון</span>"
      ]
    },
    {
      "cell_type": "markdown",
      "metadata": {
        "id": "YqQMgeR5WY_o"
      },
      "source": [
        "<p style=\"text-align: right; direction: rtl; float: right; clear: both;\">\n",
        "אפשר להוסיף מפתח וערך למילון, באמצעות השמת הערך אל המילון במקום של המפתח.<br>\n",
        "ניקח כדוגמה מקרה שבו יש לנו במלאי מלון אחד.<br>\n",
        "המפתח הוא <em>melon</em> והערך הוא <em>1</em>, ולכן נשתמש בהשמה הבאה:\n",
        "</p>"
      ]
    },
    {
      "cell_type": "code",
      "execution_count": null,
      "metadata": {
        "id": "ch3QlazsWY_o"
      },
      "outputs": [],
      "source": [
        "items['melon'] = 1"
      ]
    },
    {
      "cell_type": "markdown",
      "metadata": {
        "id": "3LxgLPO5WY_o"
      },
      "source": [
        "<p style=\"text-align: right; direction: rtl; float: right; clear: both;\">\n",
        "אם הגיעו עוד 4 מלונים לחנות של אדון קשטן, נוכל לעדכן את מלאי המלונים באמצעות השמה למקום הנכון במילון:\n",
        "</p>"
      ]
    },
    {
      "cell_type": "code",
      "execution_count": null,
      "metadata": {
        "id": "TJz8YbNKWY_o"
      },
      "outputs": [],
      "source": [
        "items['melon'] = items['melon'] + 4"
      ]
    },
    {
      "cell_type": "markdown",
      "metadata": {
        "id": "e5hQr6-gWY_p"
      },
      "source": [
        "### <span style=\"text-align: right; direction: rtl; float: right; clear: both;\">כללי המשחק</span>"
      ]
    },
    {
      "cell_type": "markdown",
      "metadata": {
        "id": "oQg_oIbvWY_p"
      },
      "source": [
        "<ul style=\"text-align: right; direction: rtl; float: right; clear: both;\">\n",
        "    <li>לא יכולים להיות 2 מפתחות זהים במילון.</li>\n",
        "    <li>המפתחות במילון חייבים להיות immutables.</li>\n",
        "    <li>אנחנו נתייחס למילון כאל מבנה ללא סדר מסוים (אין \"איבר ראשון\" או \"איבר אחרון\").</li>\n",
        "</ul>"
      ]
    },
    {
      "cell_type": "markdown",
      "metadata": {
        "id": "sbV_KyQUWY_p"
      },
      "source": [
        "<div class=\"align-center\" style=\"display: flex; text-align: right; direction: rtl;\">\n",
        "    <div style=\"display: flex; width: 10%; \">\n",
        "        <img src=\"https://github.com/PythonFreeCourse/Notebooks/blob/main/content/week04/images/deeper.svg?a=1&raw=1\" style=\"height: 50px !important;\" alt=\"העמקה\">\n",
        "    </div>\n",
        "    <div style=\"width: 90%\">\n",
        "        <p style=\"text-align: right; direction: rtl;\">\n",
        "            בגרסאות האחרונות של פייתון הפך מילון להיות מבנה סדור, שבו סדר האיברים הוא סדר ההכנסה שלהם למילון.<br>\n",
        "            למרות זאת, רק במצבים נדירים נצטרך להתייחס לסדר שבו האיברים מסודרים במילון, ובשלב זה נעדיף שלא להתייחס לתכונה הזו.\n",
        "        </p>\n",
        "    </div>\n",
        "</div>"
      ]
    },
    {
      "cell_type": "markdown",
      "metadata": {
        "id": "K4je1zndWY_p"
      },
      "source": [
        "### <span style=\"text-align: right; direction: rtl; float: right; clear: both;\">סיכום ביניים</span>"
      ]
    },
    {
      "cell_type": "markdown",
      "metadata": {
        "id": "Sw_PVYj_WY_p"
      },
      "source": [
        "<ul style=\"text-align: right; direction: rtl; float: right; clear: both;\">\n",
        "    <li>מילון הוא מבנה שבנוי זוגות־זוגות: יש ערכים ומפתחות, ולכל מפתח יש ערך אחד שעליו הוא מצביע.</li>\n",
        "    <li>נתייחס למילון כאל מבנה ללא סדר מסוים. אין \"איבר ראשון\" או \"איבר אחרון\".</li>\n",
        "    <li>בניגוד לרשימה, כאן ה\"מקום\" שאליו אנחנו פונים כדי לאחזר ערך הוא המפתח, ולא מספר שמייצג את המקום הסידורי של התא.</li>\n",
        "    <li>בעזרת מפתח אפשר להגיע לערך המוצמד אליו, אבל לא להפך.</li>\n",
        "</ul>"
      ]
    },
    {
      "cell_type": "markdown",
      "metadata": {
        "id": "PwEu9TWxWY_p"
      },
      "source": [
        "<div class=\"align-center\" style=\"display: flex; text-align: right; direction: rtl;\">\n",
        "    <div style=\"display: flex; width: 10%; \">\n",
        "        <img src=\"https://github.com/PythonFreeCourse/Notebooks/blob/main/content/week04/images/tip.png?raw=1\" style=\"height: 50px !important;\" alt=\"אזהרה!\">\n",
        "    </div>\n",
        "    <div style=\"width: 90%\">\n",
        "        <p style=\"text-align: right; direction: rtl;\">\n",
        "            חדי העין שמו לב שאנחנו מצליחים להוסיף ערכים למילון, ולשנות בו ערכים קיימים.<br>\n",
        "            מהתכונה הזו אנחנו למדים שמילון הוא mutable.\n",
        "        </p>\n",
        "    </div>\n",
        "</div>"
      ]
    },
    {
      "cell_type": "markdown",
      "metadata": {
        "id": "fEvtX8rWWY_p"
      },
      "source": [
        "## <span style=\"text-align: right; direction: rtl; float: right; clear: both;\">מעבר על מילון</span>"
      ]
    },
    {
      "cell_type": "markdown",
      "metadata": {
        "id": "GpHxnvn5WY_q"
      },
      "source": [
        "### <span style=\"text-align: right; direction: rtl; float: right; clear: both;\">לולאת for</span>"
      ]
    },
    {
      "cell_type": "markdown",
      "metadata": {
        "id": "HatG6_uDWY_q"
      },
      "source": [
        "<p style=\"text-align: right; direction: rtl; float: right; clear: both;\">\n",
        "כיוון שמילון הוא iterable, דרך מקובלת לעבור עליו היא באמצעות לולאת <code>for</code>.<br>\n",
        "ננסה להשתמש בלולאת <code>for</code> על מילון, ונראה מה התוצאות:\n",
        "</p>"
      ]
    },
    {
      "cell_type": "code",
      "execution_count": null,
      "metadata": {
        "id": "6NLuEl2DWY_q"
      },
      "outputs": [],
      "source": [
        "favorite_animals = {'Alice': 'Cat', 'Mad hatter': 'Hare', 'Achiles': 'Tortoise'}\n",
        "for something in favorite_animals:\n",
        "    print(something)"
      ]
    },
    {
      "cell_type": "markdown",
      "metadata": {
        "id": "SD-Qs_2dWY_q"
      },
      "source": [
        "<p style=\"text-align: right; direction: rtl; float: right; clear: both;\">\n",
        "    נראה שקיבלנו רק את המפתחות, בלי הערכים.<br>\n",
        "    נסיק מכאן שמילון הוא אמנם iterable, אך בכל איטרציה הוא מחזיר לנו רק את המפתח, בלי הערך.\n",
        "</p>"
      ]
    },
    {
      "cell_type": "markdown",
      "metadata": {
        "id": "Yni2DjusWY_q"
      },
      "source": [
        "<p style=\"text-align: right; direction: rtl; float: right; clear: both;\">\n",
        "    אנחנו כבר יודעים איך מחלצים את הערך של מפתח מסוים.<br>\n",
        "    נוכל להשתמש בידע הזה כדי לקבל בכל חזרור גם את המפתח, וגם את הערך:\n",
        "</p>"
      ]
    },
    {
      "cell_type": "code",
      "execution_count": 2,
      "metadata": {
        "id": "URX77XPqWY_q",
        "outputId": "d7e5b057-c7d1-4f7b-f841-70a28b753e53",
        "colab": {
          "base_uri": "https://localhost:8080/"
        }
      },
      "outputs": [
        {
          "output_type": "stream",
          "name": "stdout",
          "text": [
            "favorite_animals items:\n",
            "Alice      -----> Cat.\n",
            "Mad hatter -----> Hare.\n",
            "Achiles    -----> Tortoise.\n"
          ]
        }
      ],
      "source": [
        "favorite_animals = {'Alice': 'Cat', 'Mad hatter': 'Hare', 'Achiles': 'Tortoise'}\n",
        "print('favorite_animals items:')\n",
        "for key in favorite_animals:\n",
        "    value = favorite_animals[key]\n",
        "    print(f\"{key:10} -----> {value}.\")  # תרגיל קטן: זהו את הטריק שגורם לזה להיראות טוב כל כך בהדפסה"
      ]
    },
    {
      "cell_type": "markdown",
      "metadata": {
        "id": "s8qj04pmWY_q"
      },
      "source": [
        "<p style=\"text-align: right; direction: rtl; float: right; clear: both;\">\n",
        "אבל הפתרון הזה לא נראה אלגנטי במיוחד, ונראה שנוכל למצוא אחד טוב יותר.\n",
        "</p>"
      ]
    },
    {
      "cell_type": "markdown",
      "metadata": {
        "id": "RzH89k5AWY_q"
      },
      "source": [
        "<p style=\"text-align: right; direction: rtl; float: right; clear: both;\">\n",
        "לעזרתנו נחלצת הפעולה <code>items</code>, השייכת לערכים מסוג מילון.<br>\n",
        "הפעולה הזו מחזירה זוגות איברים, כאשר בכל זוג האיבר הראשון הוא המפתח והאיבר השני הוא הערך.\n",
        "</p>"
      ]
    },
    {
      "cell_type": "code",
      "execution_count": 3,
      "metadata": {
        "id": "7uqeRxhjWY_r",
        "outputId": "7a8201f9-4429-4c85-87e2-84a3b4479b8b",
        "colab": {
          "base_uri": "https://localhost:8080/"
        }
      },
      "outputs": [
        {
          "output_type": "stream",
          "name": "stdout",
          "text": [
            "[('Alice', 'Cat'), ('Mad hatter', 'Hare'), ('Achiles', 'Tortoise')]\n"
          ]
        }
      ],
      "source": [
        "print(list(favorite_animals.items()))"
      ]
    },
    {
      "cell_type": "markdown",
      "metadata": {
        "id": "OdmH3dtBWY_r"
      },
      "source": [
        "<p style=\"text-align: right; direction: rtl; float: right; clear: both;\">\n",
        "מאחר שמדובר באיברים שבאים בזוגות, נוכל להשתמש בפירוק איברים כפי שלמדנו בשיעור על לולאות <code>for</code>:\n",
        "</p>"
      ]
    },
    {
      "cell_type": "code",
      "execution_count": null,
      "metadata": {
        "id": "NdApK26-WY_r"
      },
      "outputs": [],
      "source": [
        "print('favorite_animals items:')\n",
        "for key, value in favorite_animals.items():\n",
        "    print(f\"{key:10} -----> {value}.\")"
      ]
    },
    {
      "cell_type": "markdown",
      "metadata": {
        "id": "GEoTro7kWY_r"
      },
      "source": [
        "<p style=\"text-align: right; direction: rtl; float: right; clear: both;\">\n",
        "בלולאה שמופיעה למעלה ניצלנו את העובדה שהפעולה <code>items</code> מחזירה לנו איברים בזוגות: מפתח וערך.<br>\n",
        "בכל חזרור, אנחנו מכניסים למשתנה <var>key</var> את האיבר הראשון בזוג, ולמשתנה <var>value</var> את האיבר השני בזוג.<br>\n",
        "נוכל להיות אפילו אלגנטיים יותר ולתת למשתנים הללו שמות ראויים:\n",
        "</p>"
      ]
    },
    {
      "cell_type": "code",
      "execution_count": null,
      "metadata": {
        "id": "x_hXRB_KWY_r"
      },
      "outputs": [],
      "source": [
        "print('favorite_animals items:')\n",
        "for character, animal in favorite_animals.items():\n",
        "    print(f\"{character:10} -----> {animal}.\")"
      ]
    },
    {
      "cell_type": "markdown",
      "metadata": {
        "id": "oxQNakxiWY_r"
      },
      "source": [
        "<div class=\"align-center\" style=\"display: flex; text-align: right; direction: rtl; clear: both;\">\n",
        "    <div style=\"display: flex; width: 10%; float: right; clear: both;\">\n",
        "        <img src=\"https://github.com/PythonFreeCourse/Notebooks/blob/main/content/week04/images/exercise.svg?raw=1\" style=\"height: 50px !important;\" alt=\"תרגול\">\n",
        "    </div>\n",
        "    <div style=\"width: 70%\">\n",
        "        <p style=\"text-align: right; direction: rtl; float: right; clear: both;\">\n",
        "            כתבו פונקציה שמקבלת מילון ומדפיסה עבור כל מפתח את האורך של הערך המוצמד אליו.\n",
        "        </p>\n",
        "    </div>\n",
        "</div>"
      ]
    },
    {
      "cell_type": "markdown",
      "metadata": {
        "id": "YUwl0dqgWY_r"
      },
      "source": [
        "## <span style=\"text-align: right; direction: rtl; float: right; clear: both;\">מפתחות שלא קיימים</span>"
      ]
    },
    {
      "cell_type": "markdown",
      "metadata": {
        "id": "2sQMC8EfWY_r"
      },
      "source": [
        "### <span style=\"text-align: right; direction: rtl; float: right; clear: both;\">הבעיה</span>"
      ]
    },
    {
      "cell_type": "markdown",
      "metadata": {
        "id": "wQ-P06AyWY_s"
      },
      "source": [
        "<p style=\"text-align: right; direction: rtl; float: right; clear: both;\">\n",
        "מילונים הם טיפוסים קצת רגישים. הם לא אוהבים כשמזכירים להם מה אין בהם.<br>\n",
        "אם ננסה לפנות למילון ולבקש ממנו מפתח שאין לו, נקבל הודעת שגיאה.<br>\n",
        "בפעמים הראשונות שתתעסקו עם מילונים, יש סיכוי לא מבוטל שתקבלו <code>KeyError</code> שנראה כך:<br>\n",
        "</p>"
      ]
    },
    {
      "cell_type": "code",
      "execution_count": 4,
      "metadata": {
        "id": "CBcbVBycWY_s",
        "outputId": "3e7dfbc5-51d5-457b-dc4a-9d4a2a7b9c91",
        "colab": {
          "base_uri": "https://localhost:8080/",
          "height": 158
        }
      },
      "outputs": [
        {
          "output_type": "error",
          "ename": "KeyError",
          "evalue": "'DannyDin'",
          "traceback": [
            "\u001b[0;31m---------------------------------------------------------------------------\u001b[0m",
            "\u001b[0;31mKeyError\u001b[0m                                  Traceback (most recent call last)",
            "\u001b[0;32m<ipython-input-4-52cf6c32496a>\u001b[0m in \u001b[0;36m<cell line: 2>\u001b[0;34m()\u001b[0m\n\u001b[1;32m      1\u001b[0m \u001b[0mempty_dict\u001b[0m \u001b[0;34m=\u001b[0m \u001b[0;34m{\u001b[0m\u001b[0;34m}\u001b[0m\u001b[0;34m\u001b[0m\u001b[0;34m\u001b[0m\u001b[0m\n\u001b[0;32m----> 2\u001b[0;31m \u001b[0mempty_dict\u001b[0m\u001b[0;34m[\u001b[0m\u001b[0;34m'DannyDin'\u001b[0m\u001b[0;34m]\u001b[0m\u001b[0;34m\u001b[0m\u001b[0;34m\u001b[0m\u001b[0m\n\u001b[0m",
            "\u001b[0;31mKeyError\u001b[0m: 'DannyDin'"
          ]
        }
      ],
      "source": [
        "empty_dict = {}\n",
        "empty_dict['DannyDin']"
      ]
    },
    {
      "cell_type": "markdown",
      "metadata": {
        "id": "7Sh0gKY4WY_s"
      },
      "source": [
        "### <span style=\"text-align: right; direction: rtl; float: right; clear: both;\"><code>in</code> במילונים</span>"
      ]
    },
    {
      "cell_type": "markdown",
      "metadata": {
        "id": "29wrnCQHWY_s"
      },
      "source": [
        "<p style=\"text-align: right; direction: rtl; float: right; clear: both;\">\n",
        "יש כמה דרכים לפתור בעיה זו.<br>\n",
        "דרך אפשרית אחת היא לבדוק שהמפתח קיים לפני שאנחנו ניגשים אליו:</p>"
      ]
    },
    {
      "cell_type": "code",
      "execution_count": 5,
      "metadata": {
        "id": "rq5IIp7WWY_s",
        "outputId": "e9d0000c-3eaa-450a-b658-df6b304635cd",
        "colab": {
          "base_uri": "https://localhost:8080/"
        }
      },
      "outputs": [
        {
          "output_type": "stream",
          "name": "stdout",
          "text": [
            "True\n"
          ]
        }
      ],
      "source": [
        "loved_animals = {'Alice': 'Cat', 'Mad hatter': 'Hare', 'Achiles': 'Tortoise'}\n",
        "print('Achiles' in loved_animals)"
      ]
    },
    {
      "cell_type": "markdown",
      "metadata": {
        "id": "cq0bRSVlWY_s"
      },
      "source": [
        "<p style=\"text-align: right; direction: rtl; float: right; clear: both;\">\n",
        "כאן השתמשנו באופרטור <code>in</code> כדי לבדוק אם מפתח מסוים נמצא במילון.<br>\n",
        "נוכל גם לבקש את הערך לאחר שבדקנו שהוא קיים:\n",
        "</p>"
      ]
    },
    {
      "cell_type": "code",
      "execution_count": 6,
      "metadata": {
        "id": "XRZIPIWxWY_s",
        "outputId": "5bea68fe-a47a-4acf-b91b-c2f3cab7a343",
        "colab": {
          "base_uri": "https://localhost:8080/"
        }
      },
      "outputs": [
        {
          "output_type": "stream",
          "name": "stdout",
          "text": [
            "Tortoise\n"
          ]
        }
      ],
      "source": [
        "loved_animals = {'Alice': 'Cat', 'Mad hatter': 'Hare', 'Achiles': 'Tortoise'}\n",
        "\n",
        "if 'Achiles' in loved_animals:\n",
        "    value = loved_animals['Achiles']\n",
        "else:\n",
        "    value = 'Pony'\n",
        "\n",
        "print(value)"
      ]
    },
    {
      "cell_type": "markdown",
      "metadata": {
        "id": "jfPh-m53WY_s"
      },
      "source": [
        "<p style=\"text-align: right; direction: rtl; float: right; clear: both;\">\n",
        "בקוד שלמעלה, השתמשנו באופרטור ההשוואה <code>in</code> כדי לבדוק אם מפתח מסוים (\"אכילס\") קיים בתוך המילון שיצרנו בשורה הראשונה.<br>\n",
        "אם הוא נמצא שם, חילצנו את הערך שמוצמד לאותו מפתח (ל\"אכילס\"). אם לא, המצאנו ערך משלנו – \"פוני\".<br>\n",
        "</p>"
      ]
    },
    {
      "cell_type": "markdown",
      "metadata": {
        "id": "beJNSlLXWY_t"
      },
      "source": [
        "<div class=\"align-center\" style=\"display: flex; text-align: right; direction: rtl;\">\n",
        "    <div style=\"display: flex; width: 10%; float: right; \">\n",
        "        <img src=\"https://github.com/PythonFreeCourse/Notebooks/blob/main/content/week04/images/warning.png?raw=1\" style=\"height: 50px !important;\" alt=\"אזהרה!\">\n",
        "    </div>\n",
        "    <div style=\"width: 90%\">\n",
        "        <p style=\"text-align: right; direction: rtl;\">\n",
        "            מעבר על מילון יחזיר בכל חזרור מפתח מהמילון, ללא הערך הקשור אליו.<br>\n",
        "            מסיבה זו, אופרטור ההשוואה <code>in</code> יבדוק רק אם קיים <em>מפתח</em> מסוים במילון, ולא יבדוק אם ערך שכזה קיים.\n",
        "        </p>\n",
        "    </div>\n",
        "</div>"
      ]
    },
    {
      "cell_type": "markdown",
      "metadata": {
        "id": "d5rKhc7yWY_t"
      },
      "source": [
        "<div class=\"align-center\" style=\"display: flex; text-align: right; direction: rtl; clear: both;\">\n",
        "    <div style=\"display: flex; width: 10%; float: right; clear: both;\">\n",
        "        <img src=\"https://github.com/PythonFreeCourse/Notebooks/blob/main/content/week04/images/exercise.svg?raw=1\" style=\"height: 50px !important;\" alt=\"תרגול\">\n",
        "    </div>\n",
        "    <div style=\"width: 70%\">\n",
        "        <p style=\"text-align: right; direction: rtl; float: right; clear: both;\">\n",
        "            כתבו פונקציה שמקבלת שלושה פרמטרים: מילון, מפתח וערך ברירת מחדל.<br>\n",
        "            הפונקציה תחפש את המפתח במילון, ואם הוא קיים תחזיר את הערך שלו.<br>\n",
        "            אם המפתח לא קיים במילון, הפונקציה תחזיר את ערך ברירת המחדל.\n",
        "        </p>\n",
        "    </div>\n",
        "    <div style=\"display: flex; width: 20%; border-right: 0.1rem solid #A5A5A5; padding: 1rem 2rem;\">\n",
        "        <p style=\"text-align: center; direction: rtl; justify-content: center; align-items: center; clear: both;\">\n",
        "            <strong>חשוב!</strong><br>\n",
        "            פתרו לפני שתמשיכו!\n",
        "        </p>\n",
        "    </div>\n",
        "</div>"
      ]
    },
    {
      "cell_type": "markdown",
      "metadata": {
        "id": "vAKkSEhRWY_t"
      },
      "source": [
        "<p style=\"text-align: right; direction: rtl; float: right; clear: both;\">\n",
        "ננסה לכתוב את הרעיון בקוד שלמעלה כפונקציה כללית:\n",
        "</p>"
      ]
    },
    {
      "cell_type": "code",
      "execution_count": 7,
      "metadata": {
        "id": "9I7CkFOiWY_t"
      },
      "outputs": [],
      "source": [
        "def get_value(dictionary, key, default_value):\n",
        "    if key in dictionary:\n",
        "        return dictionary[key]\n",
        "    else:\n",
        "        return default_value"
      ]
    },
    {
      "cell_type": "markdown",
      "metadata": {
        "id": "DwE7QYZOWY_t"
      },
      "source": [
        "<p style=\"text-align: right; direction: rtl; float: right; clear: both;\">\n",
        "הפונקציה שלמעלה מקבלת מילון, מפתח וערך ברירת מחדל.<br>\n",
        "אם היא מוצאת את המפתח במילון, היא מחזירה את הערך של אותו מפתח.<br>\n",
        "אם היא לא מוצאת את המפתח במילון, היא מחזירה את ערך ברירת המחדל שנקבע.\n",
        "</p>"
      ]
    },
    {
      "cell_type": "markdown",
      "metadata": {
        "id": "EmbIgCdZWY_t"
      },
      "source": [
        "<p style=\"text-align: right; direction: rtl; float: right; clear: both;\">\n",
        "נבדוק שהפונקציה עובדת:\n",
        "</p>"
      ]
    },
    {
      "cell_type": "code",
      "execution_count": 8,
      "metadata": {
        "id": "mO9-cpB7WY_t",
        "outputId": "3a995f1c-31ae-4461-8d83-311cd5632a53",
        "colab": {
          "base_uri": "https://localhost:8080/"
        }
      },
      "outputs": [
        {
          "output_type": "stream",
          "name": "stdout",
          "text": [
            "Mad hatter: Hare\n",
            "Queen of hearts: Pony\n"
          ]
        }
      ],
      "source": [
        "loved_animals = {'Alice': 'Cat', 'Mad hatter': 'Hare', 'Achiles': 'Tortoise'}\n",
        "print(\"Mad hatter: \" + get_value(loved_animals, 'Mad hatter', 'Pony'))\n",
        "print(\"Queen of hearts: \" + get_value(loved_animals, 'Queen of hearts', 'Pony'))"
      ]
    },
    {
      "cell_type": "markdown",
      "metadata": {
        "id": "VR2BT8srWY_t"
      },
      "source": [
        "<p style=\"text-align: right; direction: rtl; float: right; clear: both;\">\n",
        "ובכן, זו פונקציה כייפית. כמה נוח היה לו היא הייתה פעולה של מילון.</p>"
      ]
    },
    {
      "cell_type": "markdown",
      "metadata": {
        "id": "AZbsQXbQWY_t"
      },
      "source": [
        "### <span style=\"text-align: right; direction: rtl; float: right; clear: both;\">הפעולה <code>get</code> במילונים</span>"
      ]
    },
    {
      "cell_type": "markdown",
      "metadata": {
        "id": "qnwRi9f5WY_t"
      },
      "source": [
        "<p style=\"text-align: right; direction: rtl; float: right; clear: both;\">\n",
        "מי היה מאמין, יש פעולה כזו במילונים! ננסה להפעיל אותה על המילון שלנו.<br>\n",
        "שימו לב לצורת הקריאה לפעולה, ששונה מהקריאה לפונקציה שכתבנו למעלה – שם המשתנה של המילון בא לפני שם הפעולה. מדובר בפעולה, ולא בפונקציה:\n",
        "</p>"
      ]
    },
    {
      "cell_type": "code",
      "execution_count": 9,
      "metadata": {
        "id": "NAQbgSkIWY_u",
        "outputId": "cfe48cd2-4fd3-413a-91a4-cb272cdcfe65",
        "colab": {
          "base_uri": "https://localhost:8080/"
        }
      },
      "outputs": [
        {
          "output_type": "stream",
          "name": "stdout",
          "text": [
            "Mad hatter: Hare\n",
            "Queen of hearts: Pony\n"
          ]
        }
      ],
      "source": [
        "loved_animals = {'Alice': 'Cat', 'Mad hatter': 'Hare', 'Achiles': 'Tortoise'}\n",
        "print(\"Mad hatter: \" + loved_animals.get('Mad hatter', 'Pony'))\n",
        "print(\"Queen of hearts: \" + loved_animals.get('Queen of hearts', 'Pony'))"
      ]
    },
    {
      "cell_type": "markdown",
      "metadata": {
        "id": "6HtxwbP4WY_u"
      },
      "source": [
        "<p style=\"text-align: right; direction: rtl; float: right; clear: both;\">\n",
        "טריק קסום אחרון שנראה הוא שהפעולה <code>get</code> סלחנית ממש, ומתפקדת גם אם לא נותנים לה ערך ברירת מחדל.<br>\n",
        "אם תספקו רק את שם המפתח שממנו תרצו לאחזר ערך, היא תחפש אותו ותחזיר את הערך שלו, אם הוא קיים.<br>\n",
        "אם המפתח לא קיים ולא סופק ערך ברירת מחדל, היא תחזיר את הערך <code>None</code>:\n",
        "</p>"
      ]
    },
    {
      "cell_type": "code",
      "execution_count": null,
      "metadata": {
        "id": "Jwl-sPG1WY_u"
      },
      "outputs": [],
      "source": [
        "loved_animals = {'Alice': 'Cat', 'Mad hatter': 'Hare', 'Achiles': 'Tortoise'}\n",
        "print(loved_animals.get('Mad hatter'))\n",
        "print(loved_animals.get('Queen of hearts'))"
      ]
    },
    {
      "cell_type": "markdown",
      "metadata": {
        "id": "ErDthg6pWY_u"
      },
      "source": [
        "<div class=\"align-center\" style=\"display: flex; text-align: right; direction: rtl;\">\n",
        "    <div style=\"display: flex; width: 10%; float: right; \">\n",
        "        <img src=\"https://github.com/PythonFreeCourse/Notebooks/blob/main/content/week04/images/recall.svg?raw=1\" style=\"height: 50px !important;\" alt=\"תזכורת\">\n",
        "    </div>\n",
        "    <div style=\"width: 90%\">\n",
        "        <p style=\"text-align: right; direction: rtl;\">\n",
        "            הערך המיוחד <code>None</code> הוא דרך פייתונית להגיד \"כלום\".<br>\n",
        "            אפשר לדמיין אותו כמו רִיק (וָקוּם). לא הערך המספרי אפס, לא <code>False</code>. פשוט כלום.\n",
        "        </p>\n",
        "    </div>\n",
        "</div>"
      ]
    },
    {
      "cell_type": "markdown",
      "metadata": {
        "id": "fQS7QcvBWY_u"
      },
      "source": [
        "## <span style=\"align: right; direction: rtl; float: right; clear: both;\">מונחים</span>"
      ]
    },
    {
      "cell_type": "markdown",
      "metadata": {
        "id": "UrD1bS0gWY_u"
      },
      "source": [
        "<dl style=\"text-align: right; direction: rtl; float: right; clear: both;\">\n",
        "<dt>מילון</dt><dd>טיפוס פייתוני שמאפשר לנו לשמור זוגות סדורים של מפתחות וערכים, שבהם כל מפתח מצביע על ערך.</dd>\n",
        "<dt>מפתח</dt><dd>הנתון שלפיו נחפש את הערך הרצוי במילון, ויופיע כאיבר הראשון בזיווג שבין מפתח לערך.</dd>\n",
        "<dt>ערך</dt><dd>הנתון שעליו מצביע המפתח במילון, יתקבל כאשר נחפש במילון לפי אותו מפתח. יופיע כאיבר השני בזיווג שבין מפתח לערך.<dd>\n",
        "<dt>זוג סדור</dt><dd>זוג של שני איברים הקשורים זה לזה. במקרה של מילון, מפתח וערך.</dd>\n",
        "</dl>"
      ]
    },
    {
      "cell_type": "markdown",
      "metadata": {
        "id": "iUSY6ITSWY_u"
      },
      "source": [
        "## <span style=\"align: right; direction: rtl; float: right; clear: both;\">תרגילים</span>"
      ]
    },
    {
      "cell_type": "markdown",
      "metadata": {
        "id": "0xdrWOIiWY_u"
      },
      "source": [
        "### <span style=\"align: right; direction: rtl; float: right; clear: both;\">מסר של יום טוב</span>"
      ]
    },
    {
      "cell_type": "markdown",
      "metadata": {
        "id": "Y2OFXtkmWY_u"
      },
      "source": [
        "<p style=\"text-align: right; direction: rtl; float: right; clear: both;\">\n",
        "יוגב נבו קיבל מסר מוצפן מאדון יום טוב, והצליח לשים את ידו על שיטה לפענוח המסר.<br>\n",
        "כדי לפענח את המסר, החליפו כל אות במסר הסודי באות התואמת לה, לפי המילון המופיע למטה.<br>\n",
        "לדוגמה, דאגו שכל המופעים של האות O במסר <var>SONG</var> יוחלפו באות A.\n",
        "</p>"
      ]
    },
    {
      "cell_type": "code",
      "execution_count": null,
      "metadata": {
        "id": "R9yY3dC7WY_u"
      },
      "outputs": [],
      "source": [
        "decryption_key = {\n",
        "    'O': 'A', 'D': 'B', 'F': 'C', 'I': 'D', 'H': 'E',\n",
        "    'G': 'F', 'L': 'G', 'C': 'H', 'K': 'I', 'Q': 'J',\n",
        "    'B': 'K', 'J': 'L', 'Z': 'M', 'V': 'N', 'S': 'O',\n",
        "    'R': 'P', 'M': 'Q', 'X': 'R', 'E': 'S', 'P': 'T',\n",
        "    'A': 'U', 'Y': 'V', 'W': 'W', 'T': 'X', 'U': 'Y',\n",
        "    'N': 'Z',\n",
        "}\n",
        "\n",
        "SONG = \"\"\"\n",
        "sc, kg pchxh'e svh pckvl k covl svps\n",
        "pcop lhpe zh pcxsalc pch vklcp\n",
        "k okv'p lsvvo is wcop k isv'p wovp ps\n",
        "k'z lsvvo jkyh zu jkgh\n",
        "eckvkvl jkbh o ikozsvi, xsjjkvl wkpc pch ikfh\n",
        "epovikvl sv pch jhilh, k ecsw pch wkvi csw ps gju\n",
        "wchv pch wsxji lhpe kv zu gofh\n",
        "k eou, coyh o vkfh iou\n",
        "coyh o vkfh iou\n",
        "\"\"\""
      ]
    },
    {
      "cell_type": "markdown",
      "metadata": {
        "id": "hJfCPzObWY_u"
      },
      "source": [
        "### <span style=\"align: right; direction: rtl; float: right; clear: both;\">מראה מראה שעל הקיר</span>"
      ]
    },
    {
      "cell_type": "markdown",
      "metadata": {
        "id": "bu-DPDRKWY_v"
      },
      "source": [
        "<p style=\"text-align: right; direction: rtl; float: right; clear: both;\">\n",
        "חברו של יום טוב, חיים, שלח ליום טוב מסר מוצפן.<br>\n",
        "למרבה הצער יוגב שם את ידיו רק על מפת ההצפנה, ולא על מפת הפענוח.<br>\n",
        "צרו ממילון ההצפנה מילון פענוח, שבו:<br>\n",
        "</p>\n",
        "<ul style=\"text-align: right; direction: rtl; float: right; clear: both;\">\n",
        "    <li>הערכים במילון הפענוח שתיצרו הם המפתחות ממילון ההצפנה.</li>\n",
        "    <li>המפתחות במילון הפענוח שתיצרו הם הערכים ממילון ההצפנה.</li>\n",
        "</ul>\n",
        "<p style=\"text-align: right; direction: rtl; float: right; clear: both;\">\n",
        "לדוגמה, המילון <code dir=\"ltr\" style=\"direction: ltr;\">{'a': '1', 'b': 2}</code> יהפוך למילון <code dir=\"ltr\" style=\"direction: ltr;\">{'1': 'a', '2': 'b'}</code>.<br>\n",
        "השתמשו במילון הפענוח שיצרתם כדי לפענח את המסר שנשלח.\n",
        "</p>"
      ]
    },
    {
      "cell_type": "code",
      "execution_count": null,
      "metadata": {
        "id": "iMB60G3qWY_v"
      },
      "outputs": [],
      "source": [
        "encryption_key = {\n",
        "    'T': '1', 'F': '6', 'W': 'c', 'Y': 'h', 'B': 'k',\n",
        "    'P': '~', 'H': 'q', 'S': 's', 'E': 'w', 'Q': '@',\n",
        "    'U': '$', 'M': 'i', 'I': 'l', 'N': 'o', 'J': 'y',\n",
        "    'Z': 'z', 'G': '!', 'L': '#', 'A': '&', 'O': '+',\n",
        "    'D': ',', 'R': '-', 'C': ':', 'V': '?', 'X': '^',\n",
        "    'K': '|',\n",
        "}\n",
        "\n",
        "SONG = \"\"\"\n",
        "l1's ih #l6w\n",
        "l1's o+c +- ow?w-\n",
        "l &lo'1 !+oo& #l?w 6+-w?w-\n",
        "l y$s1 c&o1 1+ #l?w cql#w l'i &#l?w\n",
        "(l1's ih #l6w)\n",
        "ih qw&-1 ls #l|w &o +~wo ql!qc&h\n",
        "#l|w 6-&o|lw s&l,\n",
        "l ,l, l1 ih c&h\n",
        "l y$s1 c&o1 1+ #l?w cql#w l'i &#l?w\n",
        "l1's ih #l6w\n",
        "\"\"\""
      ]
    },
    {
      "cell_type": "markdown",
      "metadata": {
        "id": "ySHxhqSRWY_v"
      },
      "source": [
        "### <span style=\"align: right; direction: rtl; float: right; clear: both;\">פטנט, או ברונו הפיל?</span>"
      ]
    },
    {
      "cell_type": "markdown",
      "metadata": {
        "id": "lfa9MahUWY_v"
      },
      "source": [
        "<p style=\"text-align: right; direction: rtl; float: right; clear: both;\">\n",
        "בספרו המפורסם של טולסטוי \"מלחמה ושלום\" העלילה מתרחשת בתקופת הפלישה של נפוליאון לרוסיה.<br>\n",
        "אלכנדרוס הראשן התערב עם ברונו הפיל שהוא המציא פטנט, שבעזרתו הוא יכול למצוא את המספר שהופיע הכי הרבה פעמים בכל ספר שהוא.<br>\n",
        "השתמשו בקובץ המצורף war-and-peace.txt שנמצא בתיקיית resources, ועזרו לברונו הפיל למצוא את השנה שמוזכרת הכי הרבה פעמים בספר.\n",
        "</p>"
      ]
    }
  ],
  "metadata": {
    "kernelspec": {
      "display_name": "Python 3",
      "language": "python",
      "name": "python3"
    },
    "language_info": {
      "codemirror_mode": {
        "name": "ipython",
        "version": 3
      },
      "file_extension": ".py",
      "mimetype": "text/x-python",
      "name": "python",
      "nbconvert_exporter": "python",
      "pygments_lexer": "ipython3",
      "version": "3.7.6"
    },
    "colab": {
      "provenance": []
    }
  },
  "nbformat": 4,
  "nbformat_minor": 0
}