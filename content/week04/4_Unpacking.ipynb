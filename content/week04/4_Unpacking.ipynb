{
  "cells": [
    {
      "cell_type": "markdown",
      "metadata": {
        "id": "H117Dw1wjtae"
      },
      "source": [
        "<img src=\"https://github.com/PythonFreeCourse/Notebooks/blob/main/content/week04/images/logo.jpg?raw=1\" style=\"display: block; margin-left: auto; margin-right: auto;\" alt=\"לוגו של מיזם לימוד הפייתון. נחש מצויר בצבעי צהוב וכחול, הנע בין האותיות של שם הקורס: לומדים פייתון. הסלוגן המופיע מעל לשם הקורס הוא מיזם חינמי ללימוד תכנות בעברית.\">"
      ]
    },
    {
      "cell_type": "markdown",
      "metadata": {
        "id": "ZML7Nu22jtag"
      },
      "source": [
        "# <span style=\"text-align: right; direction: rtl; float: right;\">Unpacking</span>"
      ]
    },
    {
      "cell_type": "markdown",
      "metadata": {
        "id": "s6Py54Iajtah"
      },
      "source": [
        "## <span style=\"text-align: right; direction: rtl; float: right; clear: both;\">הקדמה</span>"
      ]
    },
    {
      "cell_type": "markdown",
      "metadata": {
        "id": "wKHNwcg0jtah"
      },
      "source": [
        "<p style=\"text-align: right; direction: rtl; float: right; clear: both;\">\n",
        "    הנה שורה שתיראה לנו קצת שונה תחבירית מכל מה שהכרנו עד עכשיו:\n",
        "</p>"
      ]
    },
    {
      "cell_type": "code",
      "execution_count": null,
      "metadata": {
        "id": "6gY3_HZqjtah"
      },
      "outputs": [],
      "source": [
        "country, population = ('Israel', 8712000)"
      ]
    },
    {
      "cell_type": "markdown",
      "metadata": {
        "id": "YqAw-f6qjtai"
      },
      "source": [
        "<p style=\"text-align: right; direction: rtl; float: right; clear: both;\">\n",
        "    בצד ימין יש tuple שמכיל שני איברים, ואנחנו מבצעים השמה לשני משתנים ששמותיהם <var>country</var> ו־<var>population</var>.<br>\n",
        "    אומנם לא הייתי מעניק לפיסת הקוד הזו את תואר פיסת הקוד הנאה בעולם, אבל נראה שפייתון יודעת להריץ אותה:<br>\n",
        "</p>"
      ]
    },
    {
      "cell_type": "code",
      "execution_count": null,
      "metadata": {
        "id": "vMvQAMeDjtaj"
      },
      "outputs": [],
      "source": [
        "print(f\"There are {population} people living in {country}.\")"
      ]
    },
    {
      "cell_type": "markdown",
      "metadata": {
        "id": "2M4LR-2tjtaj"
      },
      "source": [
        "<p style=\"text-align: right; direction: rtl; float: right; clear: both;\">\n",
        "    חזינו כאן במעין השמה כפולה שפייתון מאפשרת לנו לבצע:<br>\n",
        "    את האיבר הראשון בצד ימין היא הכניסה לאיבר הראשון בצד שמאל, ואת האיבר השני בצד ימין היא הכניסה לאיבר השני בצד שמאל.<br>\n",
        "</p>"
      ]
    },
    {
      "cell_type": "markdown",
      "metadata": {
        "id": "Ag-pz-jHjtaj"
      },
      "source": [
        "<img src=\"https://github.com/PythonFreeCourse/Notebooks/blob/main/content/week04/images/unpacking.svg?v=3&raw=1\" style=\"display: block; margin-left: auto; margin-right: auto;\" alt=\"ארבע ריבועים, שניים בימין בצבע אפור ושניים בשמאל בצבע כתום. בין הריבועים האפורים לכתומים מפריד סימן שווה. בתוך הריבוע השמאלי ביותר כתוב country, ואליו יוצא חץ מהריבוע האפור, השלישי משמאל, שבו כתוב Israel. אל הריבוע הכתום השני, שממוקם כריבוע השני משמאל ובו כתוב population, יוצא חץ מהריבוע האפור, הממוקם כרביעי משמאל, שבו כתוב 8712000. בין הריבועים האפורים יש פסיק, וכך גם בין הריבועים הכתומים.\">"
      ]
    },
    {
      "cell_type": "markdown",
      "metadata": {
        "id": "qv2pnc99jtaj"
      },
      "source": [
        "<p style=\"text-align: right; direction: rtl; float: right; clear: both;\">\n",
        "    התחביר שמאפשר לפייתון לפרק מבנה ולבצע השמה של האיברים שבו לכמה שמות משתנים בו־זמנית, קיבל את השם <dfn>unpacking</dfn>.\n",
        "</p>"
      ]
    },
    {
      "cell_type": "markdown",
      "metadata": {
        "id": "z1HvEDT-jtak"
      },
      "source": [
        "## <span style=\"text-align: right; direction: rtl; float: right; clear: both;\">Unpacking לתוך משתנים</span>"
      ]
    },
    {
      "cell_type": "markdown",
      "metadata": {
        "id": "hGbn18ltjtak"
      },
      "source": [
        "### <span style=\"text-align: right; direction: rtl; float: right; clear: both;\">המקרה הקלאסי</span>"
      ]
    },
    {
      "cell_type": "markdown",
      "metadata": {
        "id": "Q6y26bLljtak"
      },
      "source": [
        "<p style=\"text-align: right; direction: rtl; float: right; clear: both;\">\n",
        "    מתכנתים רבים מנצלים את הנוחות שב־unpacking, ולכן תמצאו שהוא מופיע פעמים רבות בקוד \"בעולם האמיתי\".<br>\n",
        "    אפשר לבצע השמה לכמה משתנים שנרצה בו־זמנית:\n",
        "</p>"
      ]
    },
    {
      "cell_type": "code",
      "execution_count": null,
      "metadata": {
        "id": "S9fg4kAAjtak"
      },
      "outputs": [],
      "source": [
        "a, b, c, d, e = (1, 2, 3, 4, 5)"
      ]
    },
    {
      "cell_type": "markdown",
      "metadata": {
        "id": "TXOMpxDMjtak"
      },
      "source": [
        "<p style=\"text-align: right; direction: rtl; float: right; clear: both;\">\n",
        "    הטכניקה הזו עובדת גם עבור טיפוסים אחרים שמוגדרים כ־iterable:\n",
        "</p>"
      ]
    },
    {
      "cell_type": "code",
      "execution_count": null,
      "metadata": {
        "id": "lqWSei1Zjtal"
      },
      "outputs": [],
      "source": [
        "a, b = [1, 2]"
      ]
    },
    {
      "cell_type": "markdown",
      "metadata": {
        "id": "4FiScy67jtal"
      },
      "source": [
        "<p style=\"text-align: right; direction: rtl; float: right; clear: both;\">\n",
        "    ואפילו בלי סוגריים (זה לא קסם – בצד ימין נוצר בפועל tuple):\n",
        "</p>"
      ]
    },
    {
      "cell_type": "code",
      "execution_count": null,
      "metadata": {
        "id": "MBhw6DKVjtal"
      },
      "outputs": [],
      "source": [
        "a, b = 1, 2"
      ]
    },
    {
      "cell_type": "markdown",
      "metadata": {
        "id": "HvR-VCy7jtal"
      },
      "source": [
        "<p style=\"text-align: right; direction: rtl; float: right; clear: both;\">\n",
        "    או כ\"חילוץ איברים\" מתוך משתנה קיים לתוך כמה משתנים נפרדים:\n",
        "</p>"
      ]
    },
    {
      "cell_type": "code",
      "execution_count": null,
      "metadata": {
        "id": "kn0caQa0jtal"
      },
      "outputs": [],
      "source": [
        "point_on_map = (36.672011, 65.807761)\n",
        "x, y = point_on_map\n",
        "print(f\"The treasure should be in ({x}, {y}).\")"
      ]
    },
    {
      "cell_type": "markdown",
      "metadata": {
        "id": "z2HBWpMVjtal"
      },
      "source": [
        "<p style=\"text-align: right; direction: rtl; float: right; clear: both;\">\n",
        "    בדוגמה האחרונה יצרנו בשורה הראשונה משתנה שמצביע ל־tuple. ב־tuple ישנם שני מספרים מסוג float.<br>\n",
        "    בשורה השנייה פירקנו את ה־tuple – הערך הראשון שלו הוכנס לתוך המשתנה <var>x</var> והערך השני שלו הוכנס לתוך המשתנה <var>y</var>.\n",
        "</p>"
      ]
    },
    {
      "cell_type": "markdown",
      "metadata": {
        "id": "Up6-jDDwjtal"
      },
      "source": [
        "### <span style=\"text-align: right; direction: rtl; float: right; clear: both;\">unpacking בלולאות for</span>"
      ]
    },
    {
      "cell_type": "markdown",
      "metadata": {
        "id": "xn5iv6pcjtal"
      },
      "source": [
        "<p style=\"text-align: right; direction: rtl; float: right; clear: both;\">\n",
        "    שימוש מקובל מאוד ל־unpacking, שאותו כבר הספקתם לראות בעבר, מתרחש בלולאות for.<br>\n",
        "    ניצור רשימה של tuple־ים, שבה כל tuple ייצג מדינה ואת מספר האנשים החיים בה:\n",
        "</p>"
      ]
    },
    {
      "cell_type": "code",
      "execution_count": null,
      "metadata": {
        "id": "Nfzv9m1Pjtam"
      },
      "outputs": [],
      "source": [
        "countries_with_population = [\n",
        "    ('Cyprus', 1198575),\n",
        "    ('Eswatini', 1148130),\n",
        "    ('Djibouti', 973560),\n",
        "    ('Fiji', 889953),\n",
        "]"
      ]
    },
    {
      "cell_type": "markdown",
      "metadata": {
        "id": "JTlfbGZHjtam"
      },
      "source": [
        "<p style=\"text-align: right; direction: rtl; float: right; clear: both;\">\n",
        "בעולם ללא unpacking, היינו צריכים לכתוב כך:\n",
        "</p>"
      ]
    },
    {
      "cell_type": "code",
      "execution_count": null,
      "metadata": {
        "id": "UQgEvMqFjtam"
      },
      "outputs": [],
      "source": [
        "for item in countries_with_population:\n",
        "    country = item[0]\n",
        "    population = item[1]\n",
        "    print(f\"There are {population:9,} people in {country}.\")"
      ]
    },
    {
      "cell_type": "markdown",
      "metadata": {
        "id": "QWHXgPv8jtam"
      },
      "source": [
        "<p style=\"text-align: right; direction: rtl; float: right; clear: both;\">\n",
        "    אבל כיוון שאנחנו חיים בעולם טוב יותר, פייתון מאפשרת לנו לעשות את הטריק הבא:\n",
        "</p>"
      ]
    },
    {
      "cell_type": "code",
      "execution_count": null,
      "metadata": {
        "id": "xjmJWl-ojtam"
      },
      "outputs": [],
      "source": [
        "for country, population in countries_with_population:\n",
        "    print(f\"There are {population:9,} people in {country}.\")"
      ]
    },
    {
      "cell_type": "markdown",
      "metadata": {
        "id": "GexLDDrSjtam"
      },
      "source": [
        "<table style=\"font-size: 1.5rem; border: 0px solid black; border-spacing: 0px;\">\n",
        "    <caption style=\"direction: rtl; text-align: center;\">תצוגה של המשתנה <var>countries_with_population</var> ושל צורת הפירוק שלו</caption>\n",
        "    <tr>\n",
        "        <td style=\"padding-left: 4px; padding-top: 2px; padding-bottom: 3px; font-size: 1.3rem; color: #777;  text-align: left; border-bottom: 1px solid;\">0</td>\n",
        "        <td style=\"padding-left: 4px; padding-top: 2px; padding-bottom: 3px; font-size: 1.3rem; color: #777;  text-align: left; border-left: 1px solid #555555; border-bottom: 1px solid;\">1</td>\n",
        "        <td style=\"padding-left: 4px; padding-top: 2px; padding-bottom: 3px; font-size: 1.3rem; color: #777;  text-align: left; border-left: 1px solid #555555; border-bottom: 1px solid;\">2</td>\n",
        "        <td style=\"padding-left: 4px; padding-top: 2px; padding-bottom: 3px; font-size: 1.3rem; color: #777;  text-align: left; border-left: 1px solid #555555; border-bottom: 1px solid;\">3</td>\n",
        "    </tr>\n",
        "    <tbody>\n",
        "        <tr>\n",
        "            <td style=\"padding-top: 8px; padding-bottom: 8px; padding-left: 10px; padding-right: 10px; vertical-align: bottom; border: 2px solid;\">\n",
        "<table style=\"font-size: 1.5rem; border: 0px solid black; border-spacing: 0px;\">\n",
        "    <tr>\n",
        "        <td style=\"padding-left: 4px; padding-top: 2px; padding-bottom: 3px; font-size: 1.3rem; color: #777;  text-align: left; border-bottom: 1px solid;\">0</td>\n",
        "        <td style=\"padding-left: 4px; padding-top: 2px; padding-bottom: 3px; font-size: 1.3rem; color: #777;  text-align: left; border-left: 1px solid #555555; border-bottom: 1px solid;\">1</td>\n",
        "    </tr>\n",
        "    <tbody>\n",
        "        <tr>\n",
        "            <td style=\"padding-top: 8px; padding-bottom: 8px; padding-left: 10px; padding-right: 10px; vertical-align: bottom; border: 2px solid; background-color: #FF8578;\">\"Cyprus\"</td>\n",
        "            <td style=\"padding-top: 8px; padding-bottom: 8px; padding-left: 10px; padding-right: 10px; vertical-align: bottom; border: 2px solid; background-color: #98FB98;\">1198575</td>\n",
        "        </tr>\n",
        "        <tr style=\"background: #f5f5f5;\">\n",
        "            <td style=\"padding-left: 4px; padding-top: 2px; padding-bottom: 3px; font-size: 1.3rem; color: #777; text-align: right;\">-2</td>\n",
        "            <td style=\"padding-left: 4px; padding-top: 2px; padding-bottom: 3px; font-size: 1.3rem; color: #777; text-align: right; border-left: 1px solid #555555;\">-1</td>\n",
        "        </tr>\n",
        "    </tbody>\n",
        "</table>\n",
        "            </td>\n",
        "            <td style=\"padding-top: 8px; padding-bottom: 8px; padding-left: 10px; padding-right: 10px; vertical-align: bottom; border: 2px solid;\">\n",
        "<table style=\"font-size: 1.5rem; border: 0px solid black; border-spacing: 0px;\">\n",
        "    <tr>\n",
        "        <td style=\"padding-left: 4px; padding-top: 2px; padding-bottom: 3px; font-size: 1.3rem; color: #777;  text-align: left; border-bottom: 1px solid;\">0</td>\n",
        "        <td style=\"padding-left: 4px; padding-top: 2px; padding-bottom: 3px; font-size: 1.3rem; color: #777;  text-align: left; border-left: 1px solid #555555; border-bottom: 1px solid;\">1</td>\n",
        "    </tr>\n",
        "    <tbody>\n",
        "        <tr>\n",
        "            <td style=\"padding-top: 8px; padding-bottom: 8px; padding-left: 10px; padding-right: 10px; vertical-align: bottom; border: 2px solid; background-color: #FF8578;\">\"Eswatini\"</td>\n",
        "            <td style=\"padding-top: 8px; padding-bottom: 8px; padding-left: 10px; padding-right: 10px; vertical-align: bottom; border: 2px solid; background-color: #98FB98;\">1148130</td>\n",
        "        </tr>\n",
        "        <tr style=\"background: #f5f5f5;\">\n",
        "            <td style=\"padding-left: 4px; padding-top: 2px; padding-bottom: 3px; font-size: 1.3rem; color: #777; text-align: right;\">-2</td>\n",
        "            <td style=\"padding-left: 4px; padding-top: 2px; padding-bottom: 3px; font-size: 1.3rem; color: #777; text-align: right; border-left: 1px solid #555555;\">-1</td>\n",
        "        </tr>\n",
        "    </tbody>\n",
        "</table>            \n",
        "            </td>\n",
        "            <td style=\"padding-top: 8px; padding-bottom: 8px; padding-left: 10px; padding-right: 10px; vertical-align: bottom; border: 2px solid;\">\n",
        "<table style=\"font-size: 1.5rem; border: 0px solid black; border-spacing: 0px;\">\n",
        "    <tr>\n",
        "        <td style=\"padding-left: 4px; padding-top: 2px; padding-bottom: 3px; font-size: 1.3rem; color: #777;  text-align: left; border-bottom: 1px solid;\">0</td>\n",
        "        <td style=\"padding-left: 4px; padding-top: 2px; padding-bottom: 3px; font-size: 1.3rem; color: #777;  text-align: left; border-left: 1px solid #555555; border-bottom: 1px solid;\">1</td>\n",
        "    </tr>\n",
        "    <tbody>\n",
        "        <tr>\n",
        "            <td style=\"padding-top: 8px; padding-bottom: 8px; padding-left: 10px; padding-right: 10px; vertical-align: bottom; border: 2px solid; background-color: #FF8578;\">\"Djibouti\"</td>\n",
        "            <td style=\"padding-top: 8px; padding-bottom: 8px; padding-left: 10px; padding-right: 10px; vertical-align: bottom; border: 2px solid; background-color: #98FB98;\">973560</td>\n",
        "        </tr>\n",
        "        <tr style=\"background: #f5f5f5;\">\n",
        "            <td style=\"padding-left: 4px; padding-top: 2px; padding-bottom: 3px; font-size: 1.3rem; color: #777; text-align: right;\">-2</td>\n",
        "            <td style=\"padding-left: 4px; padding-top: 2px; padding-bottom: 3px; font-size: 1.3rem; color: #777; text-align: right; border-left: 1px solid #555555;\">-1</td>\n",
        "        </tr>\n",
        "    </tbody>\n",
        "</table>\n",
        "            </td>\n",
        "            <td style=\"padding-top: 8px; padding-bottom: 8px; padding-left: 10px; padding-right: 10px; vertical-align: bottom; border: 2px solid;\">\n",
        "<table style=\"font-size: 1.5rem; border: 0px solid black; border-spacing: 0px;\">\n",
        "    <tr>\n",
        "        <td style=\"padding-left: 4px; padding-top: 2px; padding-bottom: 3px; font-size: 1.3rem; color: #777;  text-align: left; border-bottom: 1px solid;\">0</td>\n",
        "        <td style=\"padding-left: 4px; padding-top: 2px; padding-bottom: 3px; font-size: 1.3rem; color: #777;  text-align: left; border-left: 1px solid #555555; border-bottom: 1px solid;\">1</td>\n",
        "    </tr>\n",
        "    <tbody>\n",
        "        <tr>\n",
        "            <td style=\"padding-top: 8px; padding-bottom: 8px; padding-left: 10px; padding-right: 10px; vertical-align: bottom; border: 2px solid; background-color: #FF8578;\">\"Fiji\"</td>\n",
        "            <td style=\"padding-top: 8px; padding-bottom: 8px; padding-left: 10px; padding-right: 10px; vertical-align: bottom; border: 2px solid; background-color: #98FB98;\">889953</td>\n",
        "        </tr>\n",
        "        <tr style=\"background: #f5f5f5;\">\n",
        "            <td style=\"padding-left: 4px; padding-top: 2px; padding-bottom: 3px; font-size: 1.3rem; color: #777; text-align: right;\">-2</td>\n",
        "            <td style=\"padding-left: 4px; padding-top: 2px; padding-bottom: 3px; font-size: 1.3rem; color: #777; text-align: right; border-left: 1px solid #555555;\">-1</td>\n",
        "        </tr>\n",
        "    </tbody>\n",
        "</table>\n",
        "            </td>\n",
        "        </tr>\n",
        "        <tr style=\"background: #f5f5f5;\">\n",
        "            <td style=\"padding-left: 4px; padding-top: 2px; padding-bottom: 3px; font-size: 1.3rem; color: #777; text-align: right;\">-4</td>\n",
        "            <td style=\"padding-left: 4px; padding-top: 2px; padding-bottom: 3px; font-size: 1.3rem; color: #777; text-align: right; border-left: 1px solid #555555;\">-3</td>\n",
        "            <td style=\"padding-left: 4px; padding-top: 2px; padding-bottom: 3px; font-size: 1.3rem; color: #777; text-align: right; border-left: 1px solid #555555;\">-2</td>\n",
        "            <td style=\"padding-left: 4px; padding-top: 2px; padding-bottom: 3px; font-size: 1.3rem; color: #777; text-align: right; border-left: 1px solid #555555;\">-1</td>\n",
        "        </tr>\n",
        "    </tbody>\n",
        "</table>"
      ]
    },
    {
      "cell_type": "markdown",
      "metadata": {
        "id": "pqmBePE_jtan"
      },
      "source": [
        "<p style=\"text-align: right; direction: rtl; float: right; clear: both;\">\n",
        "    באיור למעלה, התאים האדומים מפורקים לתוך המשתנה <var>country</var> והתאים הירוקים לתוך המשתנה <var>population</var>.<br>\n",
        "    כל איטרציה של הלולאה תגרום לפירוק של צמד אחד מתוך הרשימה, ולהשמתו בהתאמה לתוך צמד המשתנים שבראש לולאת ה־for.\n",
        "</p>"
      ]
    },
    {
      "cell_type": "markdown",
      "metadata": {
        "id": "HxvlSftDjtan"
      },
      "source": [
        "#### <span style=\"text-align: right; direction: rtl; float: right; clear: both;\">במילונים</span>"
      ]
    },
    {
      "cell_type": "markdown",
      "metadata": {
        "id": "HoVH_Uvhjtan"
      },
      "source": [
        "<p style=\"text-align: right; direction: rtl; float: right; clear: both;\">\n",
        "    הרעיון של unpacking נעשה שימושי מאוד כשאנחנו רוצים לעבור בו־זמנית על המפתח ועל הערך של מילון.<br>\n",
        "    כל שנצטרך לעשות כדי לקבל את המפתח לצד הערך בכל איטרציה, זה להשתמש בפעולה <code>items</code> על המילון:\n",
        "</p>"
      ]
    },
    {
      "cell_type": "code",
      "execution_count": 1,
      "metadata": {
        "id": "fL582UTpjtao"
      },
      "outputs": [],
      "source": [
        "countries_with_population = {\n",
        "    'Cyprus': 1198575,\n",
        "    'Eswatini': 1148130,\n",
        "    'Djibouti': 973560,\n",
        "    'Fiji': 889953,\n",
        "}"
      ]
    },
    {
      "cell_type": "code",
      "execution_count": 2,
      "metadata": {
        "id": "3mHLMDDGjtas",
        "outputId": "4144fd71-9866-4ac3-9231-60e499be24cd",
        "colab": {
          "base_uri": "https://localhost:8080/"
        }
      },
      "outputs": [
        {
          "output_type": "stream",
          "name": "stdout",
          "text": [
            "There are 1,198,575 people in Cyprus.\n",
            "There are 1,148,130 people in Eswatini.\n",
            "There are   973,560 people in Djibouti.\n",
            "There are   889,953 people in Fiji.\n"
          ]
        }
      ],
      "source": [
        "for country, population in countries_with_population.items():\n",
        "    print(f\"There are {population:9,} people in {country}.\")"
      ]
    },
    {
      "cell_type": "markdown",
      "metadata": {
        "id": "NwRvI_hNjtat"
      },
      "source": [
        "### <span style=\"text-align: right; direction: rtl; float: right; clear: both;\">unpacking לערכי חזרה מפונקציה</span>"
      ]
    },
    {
      "cell_type": "markdown",
      "metadata": {
        "id": "C0a-x68zjtat"
      },
      "source": [
        "<p style=\"text-align: right; direction: rtl; float: right; clear: both;\">\n",
        "    המקרה הזה לא שונה מהמקרים הקודמים שראינו, אבל חשבתי שיהיה נחמד לראות אותו מפורשות.<br>\n",
        "    הפעם ניקח פונקציה שמחזירה tuple, ונשתמש ב־unpacking כדי לפרק את הערכים שהיא מחזירה למשתנים.<br>\n",
        "</p>"
      ]
    },
    {
      "cell_type": "code",
      "execution_count": 3,
      "metadata": {
        "id": "PEriRBYfjtat"
      },
      "outputs": [],
      "source": [
        "def division_and_modulo(number, divisor):\n",
        "    division = number // divisor\n",
        "    modulo = number % divisor\n",
        "    return (division, modulo)  # אפשר גם בלי הסוגריים"
      ]
    },
    {
      "cell_type": "markdown",
      "metadata": {
        "id": "LlYHM_-Kjtau"
      },
      "source": [
        "<p style=\"text-align: right; direction: rtl; float: right; clear: both;\">\n",
        "    נשתמש בפונקציה:\n",
        "</p>"
      ]
    },
    {
      "cell_type": "code",
      "execution_count": 4,
      "metadata": {
        "id": "d-ckVVNWjtau",
        "outputId": "9903b5f9-ec47-4e1e-b7b1-314fec4a8ca3",
        "colab": {
          "base_uri": "https://localhost:8080/"
        }
      },
      "outputs": [
        {
          "output_type": "execute_result",
          "data": {
            "text/plain": [
              "(2, 1)"
            ]
          },
          "metadata": {},
          "execution_count": 4
        }
      ],
      "source": [
        "division_and_modulo(5, 2)"
      ]
    },
    {
      "cell_type": "markdown",
      "metadata": {
        "id": "Qt5yJV2djtav"
      },
      "source": [
        "<p style=\"text-align: right; direction: rtl; float: right; clear: both;\">\n",
        "    והרי שאם מוחזר לנו tuple, אפשר לעשות לו unpacking:\n",
        "</p>"
      ]
    },
    {
      "cell_type": "code",
      "execution_count": 5,
      "metadata": {
        "id": "VSVD5tfpjtaw",
        "outputId": "edefe422-6707-4f08-9dcd-69115ddfc6cb",
        "colab": {
          "base_uri": "https://localhost:8080/"
        }
      },
      "outputs": [
        {
          "output_type": "stream",
          "name": "stdout",
          "text": [
            "division: 2, modulo: 1\n"
          ]
        }
      ],
      "source": [
        "div, mod = division_and_modulo(5, 2)\n",
        "print(f\"division: {div}, modulo: {mod}\")"
      ]
    },
    {
      "cell_type": "markdown",
      "metadata": {
        "id": "GI3R7yGgjtaw"
      },
      "source": [
        "## <span style=\"text-align: right; direction: rtl; float: right; clear: both;\">Unpacking לארגומנטים</span>"
      ]
    },
    {
      "cell_type": "markdown",
      "metadata": {
        "id": "uvORFHOQjtaw"
      },
      "source": [
        "<p style=\"text-align: right; direction: rtl; float: right; clear: both;\">\n",
        "    נבחן את הקוד הפשוט הבא:<br>\n",
        "</p>"
      ]
    },
    {
      "cell_type": "code",
      "execution_count": null,
      "metadata": {
        "id": "B7IbuqrJjtaw"
      },
      "outputs": [],
      "source": [
        "def print_treasure_location(x, y):\n",
        "    print(f\"{x}°N, {y}°E\")\n",
        "\n",
        "treasure_location = (36.671111, 65.808056)\n",
        "print_treasure_location(treasure_location[0], treasure_location[1])"
      ]
    },
    {
      "cell_type": "markdown",
      "metadata": {
        "id": "J9Vm2-5xjtaw"
      },
      "source": [
        "<p style=\"text-align: right; direction: rtl; float: right; clear: both;\">\n",
        "    הגדרנו פונקציה שמדפיסה לנו יפה מיקומים לפי x ו־y שהיא מקבלת.<br>\n",
        "    המימוש הגיוני, אבל אוי א בראך! השימוש לא מאוד נוח!<br>\n",
        "    בכל פעם אנחנו צריכים לפרק את ה־tuple שמכיל את המיקום ל־2 איברים, ולשלוח כל אחד מהם בנפרד.\n",
        "</p>"
      ]
    },
    {
      "cell_type": "markdown",
      "metadata": {
        "id": "m6b2qoGZjtax"
      },
      "source": [
        "### <span style=\"text-align: right; direction: rtl; float: right; clear: both;\">unpacking לארגומנטים לפי מיקום</span>"
      ]
    },
    {
      "cell_type": "markdown",
      "metadata": {
        "id": "YNb1AkTejtax"
      },
      "source": [
        "<p style=\"text-align: right; direction: rtl; float: right; clear: both;\">\n",
        "    כפתרון למצב, פייתון מאפשרת לנו לעשות את הקסם הנפלא הבא:\n",
        "</p>"
      ]
    },
    {
      "cell_type": "code",
      "execution_count": null,
      "metadata": {
        "id": "-53FHBuIjtax"
      },
      "outputs": [],
      "source": [
        "def print_treasure_location(x, y):\n",
        "    print(f\"{x}°N, {y}°E\")\n",
        "\n",
        "treasure_location = (36.671111, 65.808056)\n",
        "print_treasure_location(*treasure_location)"
      ]
    },
    {
      "cell_type": "markdown",
      "metadata": {
        "id": "Pz_jqyU6jtax"
      },
      "source": [
        "<p style=\"text-align: right; direction: rtl; float: right; clear: both;\">\n",
        "    נראה מוזר? זו לא טעות, זהו באמת תחביר שעדיין לא ראינו!<br>\n",
        "    הכוכבית מפרקת את ה־tuple שהגדרנו, <var>treasure_location</var>, ושולחת לארגומנט <var>x</var> את הערך הראשון ולארגומנט <var>y</var> את הערך השני.\n",
        "</p>"
      ]
    },
    {
      "cell_type": "markdown",
      "metadata": {
        "id": "d2slsMRojtax"
      },
      "source": [
        "<p style=\"text-align: right; direction: rtl; float: right; clear: both;\">\n",
        "    אם היו לנו ערכים רבים, היינו יכולים להשתמש באותו טריק בלולאה:\n",
        "</p>"
      ]
    },
    {
      "cell_type": "code",
      "execution_count": null,
      "metadata": {
        "id": "iOh9egtYjtax"
      },
      "outputs": [],
      "source": [
        "treasure_locations = [\n",
        "    (36.671111, 65.808056),\n",
        "    (53.759748, -2.648121),\n",
        "    (52.333333, 1.183333),\n",
        "    (52.655278, -1.906667),\n",
        "]"
      ]
    },
    {
      "cell_type": "code",
      "execution_count": null,
      "metadata": {
        "id": "LGxVvpy9jtax"
      },
      "outputs": [],
      "source": [
        "def print_treasure_location(x, y):\n",
        "    print(f\"{x}°N, {y}°E\")\n",
        "\n",
        "for treasure_location in treasure_locations:\n",
        "    print_treasure_location(*treasure_location)"
      ]
    },
    {
      "cell_type": "markdown",
      "metadata": {
        "id": "6d9_s-Rujtax"
      },
      "source": [
        "<p style=\"text-align: right; direction: rtl; float: right; clear: both;\">\n",
        "    אבל נזכור שאנחנו יכולים להשתמש גם בתעלול שלמדנו על unpacking בתוך for:\n",
        "</p>"
      ]
    },
    {
      "cell_type": "code",
      "execution_count": null,
      "metadata": {
        "id": "VbZmMWXpjtax"
      },
      "outputs": [],
      "source": [
        "def print_treasure_location(x, y):\n",
        "    print(f\"{x}°N, {y}°E\")\n",
        "\n",
        "for treasure_x, treasure_y in treasure_locations:\n",
        "    print_treasure_location(treasure_x, treasure_y)"
      ]
    },
    {
      "cell_type": "markdown",
      "metadata": {
        "id": "0WRGgElGjtay"
      },
      "source": [
        "### <span style=\"text-align: right; direction: rtl; float: right; clear: both;\">unpacking לארגומנטים לפי שם הארגומנט</span>"
      ]
    },
    {
      "cell_type": "markdown",
      "metadata": {
        "id": "aVSOHQrcjtay"
      },
      "source": [
        "<p style=\"text-align: right; direction: rtl; float: right; clear: both;\">\n",
        "    מצוידים בפונקציה להדפסת המיקום, אנחנו מקבלים את רשימת המילונים הבאה:\n",
        "</p>"
      ]
    },
    {
      "cell_type": "code",
      "execution_count": null,
      "metadata": {
        "id": "BETGSMgJjtay"
      },
      "outputs": [],
      "source": [
        "treasure_maps = [\n",
        "    {'x': 36.671111, 'y': 65.808056},\n",
        "    {'x': 53.759748, 'y': -2.648121},\n",
        "    {'x': 52.333333, 'y': 1.183333},\n",
        "    {'x': 52.655278, 'y': -1.906667}\n",
        "]"
      ]
    },
    {
      "cell_type": "markdown",
      "metadata": {
        "id": "j2jVE_cKjtay"
      },
      "source": [
        "<p style=\"text-align: right; direction: rtl; float: right; clear: both;\">\n",
        "    אין מנוס, דנו אותנו לחיי עבדות של פירוק מילונים ולשליחת ערכיהם לפונקציות! 😢\n",
        "</p>"
      ]
    },
    {
      "cell_type": "code",
      "execution_count": null,
      "metadata": {
        "id": "6kfaoARYjtay"
      },
      "outputs": [],
      "source": [
        "def print_treasure_location(x, y):\n",
        "    print(f\"{x}°N, {y}°E\")\n",
        "\n",
        "for location in treasure_maps:\n",
        "    print_treasure_location(location.get('x'), location.get('y'))"
      ]
    },
    {
      "cell_type": "markdown",
      "metadata": {
        "id": "Cz5oecQ1jtay"
      },
      "source": [
        "<p style=\"text-align: right; direction: rtl; float: right; clear: both;\">\n",
        "    או שאולי לא?\n",
        "</p>"
      ]
    },
    {
      "cell_type": "markdown",
      "metadata": {
        "id": "-ES2m4Mzjtay"
      },
      "source": [
        "<p style=\"text-align: right; direction: rtl; float: right; clear: both;\">\n",
        "    במקרה המיוחד מאוד של מילון, אפשר לשלוח לפונקציה את הפרמטרים בעזרת unpacking עם שתי כוכביות.<br>\n",
        "    המפתחות של המילון צריכים לציין את שם הפרמטרים של הפונקציה, והערכים במילון יהיו הערך שיועבר לאותם פרמטרים:\n",
        "</p>"
      ]
    },
    {
      "cell_type": "code",
      "execution_count": null,
      "metadata": {
        "id": "TkeLZ3Lojtaz"
      },
      "outputs": [],
      "source": [
        "treasure_maps = [\n",
        "    {'x': 36.671111, 'y': 65.808056},\n",
        "    {'x': 53.759748, 'y': -2.648121},\n",
        "    {'x': 52.333333, 'y': 1.183333},\n",
        "    {'x': 52.655278, 'y': -1.906667}\n",
        "]\n",
        "\n",
        "def print_treasure_location(x, y):\n",
        "    print(f\"{x}°N, {y}°E\")\n",
        "\n",
        "for location in treasure_maps:\n",
        "    print_treasure_location(**location)"
      ]
    },
    {
      "cell_type": "markdown",
      "metadata": {
        "id": "y0s33Rtejtaz"
      },
      "source": [
        "<p style=\"text-align: right; direction: rtl; float: right; clear: both;\">\n",
        "    מה קרה פה?<br>\n",
        "    באיטרציה הראשונה <var>location</var> היה <code>{'x': 36.671111, 'y': 65.808056}</code>.<br>\n",
        "    הפונקציה <code>print_treasure_locations</code> מחכה שיעבירו לה ערך לפרמטר <var>x</var> ולפרמטר <var>y</var>.<br>\n",
        "    ה־unpacking שעשינו בעזרת שתי הכוכביות העביר את הערך של המפתח <code>'x'</code> במילון לפרמטר <var>x</var>, ואת הערך של המפתח <code>'y'</code> במילון לפרמטר <var>y</var>.\n",
        "</p>"
      ]
    },
    {
      "cell_type": "markdown",
      "metadata": {
        "id": "WpVl8jGFjtaz"
      },
      "source": [
        "<p style=\"text-align: right; direction: rtl; float: right; clear: both;\">\n",
        "    נראה דוגמה נוספת לפונקציה שמקבלת שנה, חודש ויום ומחזירה לנו תאריך כמחרוזת:\n",
        "</p>"
      ]
    },
    {
      "cell_type": "code",
      "execution_count": null,
      "metadata": {
        "id": "OaQY6k5ljtaz"
      },
      "outputs": [],
      "source": [
        "def stringify_date(year, month, day):\n",
        "    return f'{year}-{month}-{day}'\n",
        "\n",
        "date = {'year': 1815, 'month': 12, 'day': 10}\n",
        "print(stringify_date(**date))"
      ]
    },
    {
      "cell_type": "markdown",
      "metadata": {
        "id": "2vR4CvChjtaz"
      },
      "source": [
        "## <span style=\"text-align: right; direction: rtl; float: right; clear: both;\">שגיאות</span>"
      ]
    },
    {
      "cell_type": "markdown",
      "metadata": {
        "id": "QwmP9oGqjtaz"
      },
      "source": [
        "<p style=\"text-align: right; direction: rtl; float: right; clear: both;\">\n",
        "    אנחנו רגילים שפייתון די סובלנית, אבל על unpacking תקין היא לא מוותרת.<br>\n",
        "    בדוגמה הבאה אנחנו מנסים לחלץ שני איברים לתוך שלושה משתנים, וזה לא נגמר טוב:\n",
        "</p>"
      ]
    },
    {
      "cell_type": "code",
      "execution_count": null,
      "metadata": {
        "id": "2QldtNpSjtaz"
      },
      "outputs": [],
      "source": [
        "a, b, c = (1, 2)"
      ]
    },
    {
      "cell_type": "markdown",
      "metadata": {
        "id": "ukvkRGB3jta0"
      },
      "source": [
        "<p style=\"text-align: right; direction: rtl; float: right; clear: both;\">\n",
        "    נקבל שגיאה דומה, אך שונה, כשננסה לחלץ מספר לא נכון של ארגומנטים לתוך פונקציה:\n",
        "</p>"
      ]
    },
    {
      "cell_type": "code",
      "execution_count": null,
      "metadata": {
        "id": "cKXeX9mHjta0"
      },
      "outputs": [],
      "source": [
        "def print_treasure_location(x, y):\n",
        "    print(f\"{x}°N, {y}°E\")\n",
        "\n",
        "location_3d = (36.671111, 65.808056, 63.124592)\n",
        "print_treasure_location(*location_3d)"
      ]
    },
    {
      "cell_type": "markdown",
      "metadata": {
        "id": "OhTIf-hHjta0"
      },
      "source": [
        "<p style=\"text-align: right; direction: rtl; float: right; clear: both;\">\n",
        "    אם ננסה לעשות unpacking לאיבר שאינו iterable, תתקבל השגיאה הבאה:\n",
        "</p>"
      ]
    },
    {
      "cell_type": "code",
      "execution_count": null,
      "metadata": {
        "id": "QfkVQSavjta0"
      },
      "outputs": [],
      "source": [
        "a, b = 5"
      ]
    },
    {
      "cell_type": "markdown",
      "metadata": {
        "id": "xFhcG_gvjta0"
      },
      "source": [
        "## <span style=\"text-align: right; direction: rtl; float: right; clear: both;\">קוד לדוגמה</span>"
      ]
    },
    {
      "cell_type": "markdown",
      "metadata": {
        "id": "odKmN15tjta0"
      },
      "source": [
        "<p style=\"text-align: right; direction: rtl; float: right; clear: both;\">\n",
        "סדרת פיבונאצ'י היא סדרה שמתחילה באיברים 1 ו־1, וכל איבר בה הוא סכום שני האיברים הקודמים לו.<br>\n",
        "האיברים הראשונים בסדרה, הם (מימין לשמאל) 1, 1, 2, 3, 5, 8, וכך הסדרה ממשיכה.<br>\n",
        "במימוש פונקציה שמקבלת מספר ומחזירה את סכום כל איברי הסדרה עד אותו מספר, נוכל להשתמש ב־unpacking כדי לשפר את הקריאות של הפונקציה:\n",
        "</p>"
      ]
    },
    {
      "cell_type": "markdown",
      "metadata": {
        "id": "UU2r9U_rjta0"
      },
      "source": [
        "<p style=\"text-align: right; direction: rtl; float: right; clear: both;\">\n",
        "הפונקציה בלי unpacking:\n",
        "</p>"
      ]
    },
    {
      "cell_type": "code",
      "execution_count": null,
      "metadata": {
        "id": "xKw-DKs8jta0"
      },
      "outputs": [],
      "source": [
        "def fibonacci_no_unpacking(number):\n",
        "    a = 1\n",
        "    b = 1\n",
        "    total = 0\n",
        "    while a <= number:\n",
        "        total = total + a\n",
        "        temp = a\n",
        "        a = b\n",
        "        b = temp + b\n",
        "    return total"
      ]
    },
    {
      "cell_type": "markdown",
      "metadata": {
        "id": "1EJ1EdWbjta1"
      },
      "source": [
        "<p style=\"text-align: right; direction: rtl; float: right; clear: both;\">\n",
        "הפונקציה עם unpacking:\n",
        "</p>"
      ]
    },
    {
      "cell_type": "code",
      "execution_count": null,
      "metadata": {
        "id": "RCQMYEikjta1"
      },
      "outputs": [],
      "source": [
        "def fibonacci_sum(number):\n",
        "    a, b = 1, 1\n",
        "    total = 0\n",
        "    while a <= number:\n",
        "        total = total + a\n",
        "        a, b = b, a + b\n",
        "    return total\n",
        "\n",
        "fibonacci_sum(8)"
      ]
    },
    {
      "cell_type": "markdown",
      "metadata": {
        "id": "tc0J7GyKjta1"
      },
      "source": [
        "## <span style=\"text-align: right; direction: rtl; float: right; clear: both;\">תרגילים</span>"
      ]
    },
    {
      "cell_type": "markdown",
      "metadata": {
        "id": "7FjYEwHBjta1"
      },
      "source": [
        "### <span style=\"text-align: right; direction: rtl; float: right; clear: both;\">אליבי לרוצחים</span>"
      ]
    },
    {
      "cell_type": "markdown",
      "metadata": {
        "id": "4ImpVCW1jta1"
      },
      "source": [
        "<p style=\"text-align: right; direction: rtl; float: right; clear: both;\">\n",
        "    לפניכם tuple המכיל כמה מילונים, כאשר כל מילון מייצג דמות חשודה ברצח.<br>\n",
        "    בתוך כל אחד מהמילונים, תחת המפתח <em>evidences</em>, ישנו tuple שבו שני איברים.<br>\n",
        "    האיבר הראשון הוא הנשק שתפסה המשטרה, והאיבר השני הוא המיקום המרכזי שבו הייתה הדמות באותו היום.<br>\n",
        "    בהינתן שהרוצח השתמש באקדח דרינגר (derringer) ב־Petersen House, הדפיסו רק את שמות האנשים שעדיין חשודים ברצח.<br>\n",
        "    השתדלו להשתמש ב־unpacking לפחות פעמיים.\n",
        "</p>"
      ]
    },
    {
      "cell_type": "code",
      "execution_count": 6,
      "metadata": {
        "id": "IsohvYhqjta1"
      },
      "outputs": [],
      "source": [
        "suspects = (\n",
        "  {'name': 'Anne', 'evidences': ('derringer', 'Caesarea')},\n",
        "  {'name': 'Taotao', 'evidences': ('derringer', 'Petersen House')},\n",
        "  {'name': 'Pilpelet', 'evidences': ('Master Sword', 'Hyrule')},\n",
        ")"
      ]
    },
    {
      "cell_type": "markdown",
      "metadata": {
        "id": "p3k5Znfajta1"
      },
      "source": [
        "<p style=\"text-align: right; direction: rtl; float: right; clear: both;\">\n",
        "    לנוחיותכם, הנה פונקציה שמקבלת כלי נשק ומיקום, ובודקת אם הראיות תואמות:\n",
        "</p>"
      ]
    },
    {
      "cell_type": "code",
      "execution_count": 7,
      "metadata": {
        "id": "b9iZoqk3jta1"
      },
      "outputs": [],
      "source": [
        "def check_evidences(weapon, location):\n",
        "    return weapon.lower() == 'derringer' and location.lower() == 'petersen house'"
      ]
    },
    {
      "cell_type": "code",
      "source": [
        "for suspect in suspects:\n",
        "  if check_evidences(*suspect[\"evidences\"]):\n",
        "    print(suspect[\"name\"])"
      ],
      "metadata": {
        "id": "eK-rUaK5mBhC",
        "outputId": "721506a5-194c-4c5b-cea9-1308b93dfd5e",
        "colab": {
          "base_uri": "https://localhost:8080/"
        }
      },
      "execution_count": 14,
      "outputs": [
        {
          "output_type": "stream",
          "name": "stdout",
          "text": [
            "Taotao\n"
          ]
        }
      ]
    }
  ],
  "metadata": {
    "kernelspec": {
      "display_name": "Python 3",
      "language": "python",
      "name": "python3"
    },
    "language_info": {
      "codemirror_mode": {
        "name": "ipython",
        "version": 3
      },
      "file_extension": ".py",
      "mimetype": "text/x-python",
      "name": "python",
      "nbconvert_exporter": "python",
      "pygments_lexer": "ipython3",
      "version": "3.8.5"
    },
    "colab": {
      "provenance": []
    }
  },
  "nbformat": 4,
  "nbformat_minor": 0
}