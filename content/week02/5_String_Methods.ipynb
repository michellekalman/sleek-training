{
  "cells": [
    {
      "cell_type": "markdown",
      "metadata": {
        "id": "bHcSReuRjTjg"
      },
      "source": [
        "<img src=\"https://github.com/PythonFreeCourse/Notebooks/blob/main/content/week02/images/logo.jpg?raw=1\" style=\"display: block; margin-left: auto; margin-right: auto;\" alt=\"לוגו של מיזם לימוד הפייתון. נחש מצויר בצבעי צהוב וכחול, הנע בין האותיות של שם הקורס: לומדים פייתון. הסלוגן המופיע מעל לשם הקורס הוא מיזם חינמי ללימוד תכנות בעברית.\">"
      ]
    },
    {
      "cell_type": "markdown",
      "metadata": {
        "id": "GMaem72CjTjk"
      },
      "source": [
        "# <p style=\"text-align: right; direction: rtl; float: right;\">מחרוזות – חלק 2</p>"
      ]
    },
    {
      "cell_type": "markdown",
      "metadata": {
        "id": "lL5TLr-HjTjl"
      },
      "source": [
        "## <p style=\"text-align: right; direction: rtl; float: right; clear: both;\">הברחת מחרוזות</p>"
      ]
    },
    {
      "cell_type": "markdown",
      "metadata": {
        "id": "Zp2IKK9OjTjm"
      },
      "source": [
        "<p style=\"text-align: right; direction: rtl; float: right; clear: both;\">\n",
        "לפעמים נרצה שהמחרוזת שלנו תעשה \"דברים מיוחדים\" – כמו לרדת שורה באמצע המחרוזת או לעשות ריווח גדול באמצעות <kbd dir=\"ltr\" style=\"direction: ltr\">↹ TAB</kbd> (לצורך טבלאות, לדוגמה).<br>\n",
        "המחשב מתייחס להזחה ולשורה חדשה כתווים של ממש, ועבור כל \"תו מיוחד\" שכזה יצרו רצף של תווים שמייצג אותו.<br>\n",
        "לדוגמה, כשנדע מהו רצף התווים שמייצג שורה חדשה, נוכל לכתוב אותו כחלק מהמחרוזת, וכאשר נדפיס אותה נראה ירידת שורה במקום רצף התווים.\n",
        "</p>"
      ]
    },
    {
      "cell_type": "markdown",
      "metadata": {
        "id": "V-nCO6MTjTjn"
      },
      "source": [
        "<p style=\"text-align: right; direction: rtl; float: right; clear: both;\">\n",
        "נלמד את שני התווים המיוחדים שדיברנו עליהם – <code dir=\"ltr\" style=\"direction: ltr;\">\\n</code> הוא תו שמסמן ירידת שורה, ו־<code dir=\"ltr\" style=\"direction: ltr;\">\\t</code> מסמן ריווח גדול.<br>\n",
        "איך נכניס אותם בקוד? פשוט נשלב אותם כחלק מהמחרוזת במקומות שבהם בא לנו שיופיעו:\n",
        "</p>"
      ]
    },
    {
      "cell_type": "code",
      "execution_count": 1,
      "metadata": {
        "id": "FxtRgEAqjTjo",
        "outputId": "a42a6ae2-30a7-4cfc-9bc2-8b5c8f933b78",
        "colab": {
          "base_uri": "https://localhost:8080/"
        }
      },
      "outputs": [
        {
          "output_type": "stream",
          "name": "stdout",
          "text": [
            "Let's print a newline\n",
            "Very good. Now let us create a newline\n",
            "\twith a nested text!\n"
          ]
        }
      ],
      "source": [
        "print(\"Let's print a newline\\nVery good. Now let us create a newline\\n\\twith a nested text!\")"
      ]
    },
    {
      "cell_type": "markdown",
      "metadata": {
        "id": "viPsmkB2jTjt"
      },
      "source": [
        "<p style=\"text-align: right; direction: rtl; float: right; clear: both;\">\n",
        "רצפי התווים האלו משתמשים בסימן <kbd>\\</kbd> (\"Backslash\", לוכסן שמאלי) כדי לסמן תו מיוחד, והם נפוצים גם בשפות אחרות שאינן פייתון.</p>"
      ]
    },
    {
      "cell_type": "markdown",
      "metadata": {
        "id": "CAcQinPcjTjt"
      },
      "source": [
        "<p style=\"text-align: right; direction: rtl; float: right; clear: both;\">\n",
        "נשתמש ב־<code dir=\"ltr\" style=\"direction: ltr;\">\\'</code> במחרוזת שבה הסימן שמתחיל ומסיים את המחרוזת הוא <code dir=\"ltr\" style=\"direction: ltr;\">'</code>. שימוש דומה נעשה עבור <code dir=\"ltr\" style=\"direction: ltr;\">\\\"</code>:<br>\n",
        "</p>"
      ]
    },
    {
      "cell_type": "code",
      "execution_count": 2,
      "metadata": {
        "id": "444wdPU8jTju",
        "outputId": "26121438-b632-48fb-ca15-429ec4697be2",
        "colab": {
          "base_uri": "https://localhost:8080/"
        }
      },
      "outputs": [
        {
          "output_type": "stream",
          "name": "stdout",
          "text": [
            "It's Friday, Friday\n",
            "Gotta get down on Friday\n"
          ]
        }
      ],
      "source": [
        "print('It\\'s Friday, Friday\\nGotta get down on Friday')"
      ]
    },
    {
      "cell_type": "code",
      "execution_count": 3,
      "metadata": {
        "id": "jFvqb489jTju",
        "outputId": "9cd81bfb-6f3d-48c3-9d2b-14ba6afe8c0f",
        "colab": {
          "base_uri": "https://localhost:8080/"
        }
      },
      "outputs": [
        {
          "output_type": "stream",
          "name": "stdout",
          "text": [
            "Oscar Wild once said: \"Be yourself; everyone else is already taken.\"\n"
          ]
        }
      ],
      "source": [
        "print(\"Oscar Wild once said: \\\"Be yourself; everyone else is already taken.\\\"\")"
      ]
    },
    {
      "cell_type": "markdown",
      "metadata": {
        "id": "iOifoFMkjTjv"
      },
      "source": [
        "<p style=\"text-align: right; direction: rtl; float: right; clear: both;\">\n",
        "לפעמים גם נרצה פשוט לרשום את התו <em>\\</em>. לצורך כך, נשתמש פעמיים בתו הזה.<br>\n",
        "השוו את שתי המחרוזות הבאות, לדוגמה:\n",
        "</p>"
      ]
    },
    {
      "cell_type": "code",
      "execution_count": 4,
      "metadata": {
        "id": "xAGS79Q7jTjv",
        "outputId": "fcdd2096-a7fd-4fda-d72e-119e590e769a",
        "colab": {
          "base_uri": "https://localhost:8080/"
        }
      },
      "outputs": [
        {
          "output_type": "stream",
          "name": "stdout",
          "text": [
            "The path of the document is C:\n",
            "adia\tofes161\u0007dvanced_homework.docx\n"
          ]
        }
      ],
      "source": [
        "print(\"The path of the document is C:\\nadia\\tofes161\\advanced_homework.docx\")"
      ]
    },
    {
      "cell_type": "code",
      "execution_count": 5,
      "metadata": {
        "id": "44Ceevb9jTjw",
        "outputId": "e4215f94-2f27-488e-e0bc-c014ef623559",
        "colab": {
          "base_uri": "https://localhost:8080/"
        }
      },
      "outputs": [
        {
          "output_type": "stream",
          "name": "stdout",
          "text": [
            "The path of the document is C:\\nadia\\tofes161\\advanced_homework.docx\n"
          ]
        }
      ],
      "source": [
        "print(\"The path of the document is C:\\\\nadia\\\\tofes161\\\\advanced_homework.docx\")"
      ]
    },
    {
      "cell_type": "markdown",
      "metadata": {
        "id": "-41Cw9hXjTjw"
      },
      "source": [
        "<p style=\"text-align: right; direction: rtl; float: right; clear: both;\">\n",
        "נוכל גם להבריח את המחרוזת כולה באמצעות התו <code>r</code> <strong>לפני</strong> המחרוזת, במקרה שאנחנו לא רוצים להשתמש בתווים מיוחדים:\n",
        "</p>"
      ]
    },
    {
      "cell_type": "code",
      "execution_count": 6,
      "metadata": {
        "id": "Og8QmcDKjTjw",
        "outputId": "9d70bc62-734c-4ab6-deae-ed2c33e2adc9",
        "colab": {
          "base_uri": "https://localhost:8080/"
        }
      },
      "outputs": [
        {
          "output_type": "stream",
          "name": "stdout",
          "text": [
            "The path of the document is C:\\nadia\\tofes161\\advanced_homework.docx\n"
          ]
        }
      ],
      "source": [
        "print(r\"The path of the document is C:\\nadia\\tofes161\\advanced_homework.docx\")"
      ]
    },
    {
      "cell_type": "markdown",
      "metadata": {
        "id": "1GEG88rqjTjw"
      },
      "source": [
        "<div class=\"align-center\" style=\"display: flex; text-align: right; direction: rtl;\">\n",
        "    <div style=\"display: flex; width: 10%; float: right; \">\n",
        "        <img src=\"https://github.com/PythonFreeCourse/Notebooks/blob/main/content/week02/images/tip.png?raw=1\" style=\"height: 50px !important;\" alt=\"טיפ!\">\n",
        "    </div>\n",
        "    <div style=\"width: 90%\">\n",
        "        <p style=\"text-align: right; direction: rtl;\">\n",
        "            פייתון, בניגוד לבני אדם, מסתכלת על תווים מיוחדים כמו <code dir=\"ltr\" style=\"direction: ltr;\">\\n</code> ו־<code dir=\"ltr\" style=\"direction: ltr;\">\\t</code> כתו אחד.<br>\n",
        "            נסו לבדוק מה ה־<code>len</code> שלהם כדי להיווכח בעצמכם.\n",
        "        </p>\n",
        "    </div>\n",
        "</div>"
      ]
    },
    {
      "cell_type": "markdown",
      "metadata": {
        "id": "yEVriz2ejTjx"
      },
      "source": [
        "<div class=\"align-center\" style=\"display: flex; text-align: right; direction: rtl; clear: both;\">\n",
        "    <div style=\"display: flex; width: 10%; float: right; clear: both;\">\n",
        "        <img src=\"https://github.com/PythonFreeCourse/Notebooks/blob/main/content/week02/images/warning.png?raw=1\" style=\"height: 50px !important;\" alt=\"אזהרה!\">\n",
        "    </div>\n",
        "    <div style=\"width: 90%\">\n",
        "        <p style=\"text-align: right; direction: rtl; clear: both;\">\n",
        "            פייתון לא מתמודדת טוב עם התו <em>\\</em> בסוף המחרוזת.<br>\n",
        "            אם הגעתם למצב שבו זה קורה, פשוט הבריחו את ה־\\ עם \\ נוסף.\n",
        "        </p>\n",
        "    </div>\n",
        "</div>"
      ]
    },
    {
      "cell_type": "markdown",
      "metadata": {
        "id": "bSB9YYE4jTjx"
      },
      "source": [
        "<div class=\"align-center\" style=\"display: flex; text-align: right; direction: rtl; clear: both;\">\n",
        "    <div style=\"display: flex; width: 10%; float: right; clear: both;\">\n",
        "        <img src=\"https://github.com/PythonFreeCourse/Notebooks/blob/main/content/week02/images/exercise.svg?raw=1\" style=\"height: 50px !important;\" alt=\"תרגול\">\n",
        "    </div>\n",
        "    <div style=\"width: 90%\">\n",
        "        <p style=\"text-align: right; direction: rtl; float: right; clear: both;\">\n",
        "        <strong>תרגול</strong>:\n",
        "            במשבצת שמתחתיי מצוטט חלק מהנאום המפורסם של מרטין לותר קינג, \"<cite>I Have A Dream</cite>\".<br>\n",
        "            הדפיסו אותו בעזרת משפט <code>print</code> בודד.\n",
        "        </p>\n",
        "    </div>\n",
        "</div>"
      ]
    },
    {
      "cell_type": "markdown",
      "metadata": {
        "id": "Xm_QHlkBjTjx"
      },
      "source": [
        "<blockquote>\n",
        "With this faith we will be able to work together, to pray together, to struggle together, to go to jail together, to stand up for freedom together, knowing that we will be free one day.\n",
        "\n",
        "This will be the day when all of God's children will be able to sing with new meaning, \"My country 'tis of thee, sweet land of liberty, of thee I sing. Land where my fathers died, land of the Pilgrims' pride, from every mountainside, let freedom ring.\"\n",
        "</blockquote>"
      ]
    },
    {
      "cell_type": "code",
      "source": [
        "print(\"With this faith we will be able to work together, to pray together, to struggle together, to go to jail together, to stand up for freedom together, knowing that we will be free one day.\\nThis will be the day when all of God's children will be able to sing with new meaning, \\\"My country 'tis of thee, sweet land of liberty, of thee I sing. Land where my fathers died, land of the Pilgrims' pride, from every mountainside, let freedom ring.\\\"\")"
      ],
      "metadata": {
        "id": "95mBCVLlkKn6",
        "outputId": "8de04f6f-81c2-47c3-bc0f-d767f46344fb",
        "colab": {
          "base_uri": "https://localhost:8080/"
        }
      },
      "execution_count": 7,
      "outputs": [
        {
          "output_type": "stream",
          "name": "stdout",
          "text": [
            "With this faith we will be able to work together, to pray together, to struggle together, to go to jail together, to stand up for freedom together, knowing that we will be free one day.\n",
            "This will be the day when all of God's children will be able to sing with new meaning, \"My country 'tis of thee, sweet land of liberty, of thee I sing. Land where my fathers died, land of the Pilgrims' pride, from every mountainside, let freedom ring.\"\n"
          ]
        }
      ]
    },
    {
      "cell_type": "markdown",
      "metadata": {
        "id": "AnneyTTtjTjx"
      },
      "source": [
        "## <p style=\"text-align: right; direction: rtl; float: right; clear: both;\">מחרוזת קשוחה</p>"
      ]
    },
    {
      "cell_type": "markdown",
      "metadata": {
        "id": "Q4jJRpgljTjx"
      },
      "source": [
        "<p style=\"text-align: right; direction: rtl; float: right; clear: both;\">\n",
        "לפעמים אנחנו פשוט רוצים שפייתון תתמודד עם גוש מלל שהדבקנו.<br>\n",
        "לפייתון יש פתרון נהדר: היא עובדת גם אם המלל מפוצל לכמה שורות (היא תכניס תווי <code dir=\"ltr\" style=\"direction: ltr;\">\\n</code> ותפצל לשורות בעצמה), וגם במקרים בהם יש תווים כמו <code>'</code> או <code>\"</code>.<br>\n",
        "פתרון זה נקרא \"מחרוזת קשוחה\" (אוקיי, למען האמת, אף אחד לא קורא לה ככה חוץ ממני), וכדי להשתמש בה יש להקליד 3 פעמים את התו <code>\"</code> או את התו <code>'</code> משני צידי המחרוזת.<br>\n",
        "</p>"
      ]
    },
    {
      "cell_type": "markdown",
      "metadata": {
        "id": "25vGULgjjTjy"
      },
      "source": [
        "<p style=\"text-align: right; direction: rtl; float: right; clear: both;\">\n",
        "נראה דוגמה:</p>"
      ]
    },
    {
      "cell_type": "code",
      "execution_count": 8,
      "metadata": {
        "id": "gJV5Xc0ejTjy",
        "outputId": "d90a5ff0-93e3-428a-cf6e-bff75b8448ad",
        "colab": {
          "base_uri": "https://localhost:8080/"
        }
      },
      "outputs": [
        {
          "output_type": "stream",
          "name": "stdout",
          "text": [
            "\n",
            "It's Friday, Friday\n",
            "Gotta get down on Friday\n",
            "Everybody's lookin' forward to the weekend, weekend\n",
            "Friday, Friday\n",
            "Gettin' down on Friday\n",
            "Everybody's lookin' forward to the weekend\n",
            "\n",
            "Partyin', partyin' (Yeah)\n",
            "Partyin', partyin' (Yeah)\n",
            "Fun, fun, fun, fun\n",
            "Lookin' forward to the weekend\n",
            "\n",
            "It's Friday, Friday\n",
            "Gotta get down on Friday\n",
            "Everybody's lookin' forward to the weekend, weekend\n",
            "Friday, Friday\n",
            "Gettin' down on Friday\n",
            "Everybody's lookin' forward to the weekend\n",
            "\n"
          ]
        }
      ],
      "source": [
        "friday_song = \"\"\"\n",
        "It's Friday, Friday\n",
        "Gotta get down on Friday\n",
        "Everybody's lookin' forward to the weekend, weekend\n",
        "Friday, Friday\n",
        "Gettin' down on Friday\n",
        "Everybody's lookin' forward to the weekend\n",
        "\n",
        "Partyin', partyin' (Yeah)\n",
        "Partyin', partyin' (Yeah)\n",
        "Fun, fun, fun, fun\n",
        "Lookin' forward to the weekend\n",
        "\n",
        "It's Friday, Friday\n",
        "Gotta get down on Friday\n",
        "Everybody's lookin' forward to the weekend, weekend\n",
        "Friday, Friday\n",
        "Gettin' down on Friday\n",
        "Everybody's lookin' forward to the weekend\n",
        "\"\"\"\n",
        "print(friday_song)"
      ]
    },
    {
      "cell_type": "markdown",
      "metadata": {
        "id": "Iphj6btrjTjy"
      },
      "source": [
        "<div class=\"align-center\" style=\"display: flex; text-align: right; direction: rtl; clear: both;\">\n",
        "    <div style=\"display: flex; width: 10%; float: right; clear: both;\">\n",
        "        <img src=\"https://github.com/PythonFreeCourse/Notebooks/blob/main/content/week02/images/exercise.svg?raw=1\" style=\"height: 50px !important;\" alt=\"תרגול\">\n",
        "    </div>\n",
        "    <div style=\"width: 90%\">\n",
        "        <p style=\"text-align: right; direction: rtl; float: right; clear: both;\">\n",
        "        <strong>תרגול</strong>:\n",
        "            בשנת 1963 נשא ג'ון קנדי את נאומו \"אני ברלינאי\". הטקסט המלא שלו מופיע <a href=\"https://en.wikisource.org/wiki/Ich_bin_ein_Berliner\">כאן</a>.<br>\n",
        "            השתמשו בפקודת <code>print</code> בודדת כדי להדפיס את הנאום כולו.\n",
        "        </p>\n",
        "    </div>\n",
        "</div>"
      ]
    },
    {
      "cell_type": "markdown",
      "metadata": {
        "id": "GZaV3EK5jTjy"
      },
      "source": [
        "## <p style=\"text-align: right; direction: rtl; float: right; clear: both;\">מחרוזות מעוצבות</p>"
      ]
    },
    {
      "cell_type": "markdown",
      "metadata": {
        "id": "xO0AwosajTjy"
      },
      "source": [
        "<p style=\"text-align: right; direction: rtl; float: right; clear: both;\">\n",
        "עד כה שרשרנו מחרוזות בזהירות בעזרת סימן השרשור <code>+</code>.<br>\n",
        "דרך נוספת לעשות זאת היא בעזרת <dfn>fstring</dfn>, או בשמן המלא, <dfn>formatted strings</dfn>.<br>\n",
        "נראה דוגמה:\n",
        "</p>"
      ]
    },
    {
      "cell_type": "code",
      "execution_count": 9,
      "metadata": {
        "id": "b90Z4FR1jTjy"
      },
      "outputs": [],
      "source": [
        "age = 18\n",
        "name = 'Yam'"
      ]
    },
    {
      "cell_type": "markdown",
      "metadata": {
        "id": "mHG4EGTUjTjz"
      },
      "source": [
        "<p style=\"text-align: right; direction: rtl; float: right; clear: both;\">\n",
        "שרשור כמו שאנחנו מכירים עד כה:\n",
        "</p>"
      ]
    },
    {
      "cell_type": "code",
      "execution_count": 10,
      "metadata": {
        "id": "q9AskFZCjTjz",
        "outputId": "a668ea0e-62de-495e-a9d1-8ad553b48f2b",
        "colab": {
          "base_uri": "https://localhost:8080/"
        }
      },
      "outputs": [
        {
          "output_type": "stream",
          "name": "stdout",
          "text": [
            "My age is 18 and my name is Yam.\n"
          ]
        }
      ],
      "source": [
        "print(\"My age is \" + str(age) + \" and my name is \" + name + \".\")"
      ]
    },
    {
      "cell_type": "markdown",
      "metadata": {
        "id": "duRmU66JjTjz"
      },
      "source": [
        "<p style=\"text-align: right; direction: rtl; float: right; clear: both;\">\n",
        "שימוש ב־<em>fstrings</em>:\n",
        "</p>"
      ]
    },
    {
      "cell_type": "code",
      "execution_count": 11,
      "metadata": {
        "id": "HLVZzrm3jTjz",
        "outputId": "c85e7a0a-3d78-4492-86cf-df7a549dd7ec",
        "colab": {
          "base_uri": "https://localhost:8080/"
        }
      },
      "outputs": [
        {
          "output_type": "stream",
          "name": "stdout",
          "text": [
            "My age is 18 and my name is Yam.\n"
          ]
        }
      ],
      "source": [
        "print(f\"My age is {age} and my name is {name}.\")"
      ]
    },
    {
      "cell_type": "markdown",
      "metadata": {
        "id": "gOG1c4j1jTj0"
      },
      "source": [
        "<p style=\"text-align: right; direction: rtl; float: right; clear: both;\">\n",
        "כדאי לשים לב לנקודות הבאות:\n",
        "</p>"
      ]
    },
    {
      "cell_type": "markdown",
      "metadata": {
        "id": "oS1A-8NBjTj2"
      },
      "source": [
        "<ul style=\"text-align: right; direction: rtl; float: right; clear: both;\">\n",
        "    <li>כדי להשתמש ב־fstrings, הוספנו את התו f לפני המחרוזת.</li>\n",
        "    <li>כדי לציין שם של משתנה שאנחנו רוצים להדפיס, השתמשנו בסוגריים מסולסלים סביב שם המשתנה.</li>\n",
        "    <li>בשימוש ב־fstrings, לא היינו צריכים לבצע המרה לפני שהשתמשנו במשתנה מסוג שלם.</li>\n",
        "    <li>מן הסתם, ניתן להשתמש ב־fstrings גם למטרות נוספות מלבד הדפסה.</li>\n",
        "</ul>"
      ]
    },
    {
      "cell_type": "markdown",
      "metadata": {
        "id": "4f2sI6YcjTj2"
      },
      "source": [
        "## <p style=\"text-align: right; direction: rtl; float: right; clear: both;\">פעולות על מחרוזות</p>"
      ]
    },
    {
      "cell_type": "markdown",
      "metadata": {
        "id": "z33NtISzjTj2"
      },
      "source": [
        "### <p style=\"text-align: right; direction: rtl; float: right;\">הגדרה</p>"
      ]
    },
    {
      "cell_type": "markdown",
      "metadata": {
        "id": "Ptip0Y2RjTj2"
      },
      "source": [
        "<p style=\"text-align: right; direction: rtl; float: right; clear: both;\">\n",
        "עד כה למדנו פונקציות שעובדות על סוגים שונים של נתונים. אנחנו קוראים להן בשמן, ואז מעבירים להן את הנתון שעליו רוצים לפעול.<br>\n",
        "<code>type</code>, לדוגמה, יודעת לעבוד על כל נתון שנעביר לה ולהחזיר לנו את הסוג שלו.<br>\n",
        "רעיון דומה בתכנות נקרא \"<dfn>פעולה</dfn>\", או <dfn>method</dfn> (מתודה).<br>\n",
        "בניגוד לפונקציות, שם הפעולה משויך לסוג הנתון שעליו אנחנו הולכים להפעיל את הפעולה.<br>\n",
        "</p>"
      ]
    },
    {
      "cell_type": "markdown",
      "metadata": {
        "id": "OT0Zo9iDjTj3"
      },
      "source": [
        "<p style=\"text-align: right; direction: rtl; float: right; clear: both;\">\n",
        "בעתיד נלמד לעומק יותר על ההבדלים בין פונקציה לפעולה, והם יישמעו לנו מופשטים פחות. עד אז אתם פטורים מלדעת את הטריוויה הזו.<br>\n",
        "דבר שכדאי לדעת הוא שהפעולות שנראה עכשיו עובדות <em>רק</em> על מחרוזות, ולא על טיפוסים אחרים.<br>\n",
        "</p>"
      ]
    },
    {
      "cell_type": "markdown",
      "metadata": {
        "id": "2Jo2FwP8jTj3"
      },
      "source": [
        "<p style=\"text-align: right; direction: rtl; float: right; clear: both;\">\n",
        "    בשורות הבאות, נשחק עם דוגמאות של פעולות ונראה מה הן עושות בתאים שיבואו לאחר מכן.<br>\n",
        "    אם נבחין בתא שיש צורך להסביר מה קרה בו – יצורף הסבר מעל התא.\n",
        "</p>"
      ]
    },
    {
      "cell_type": "markdown",
      "metadata": {
        "id": "Bk8J-_2GjTj3"
      },
      "source": [
        "### <p style=\"text-align: right; direction: rtl; float: right;\">לנקות רעשים מסביב</p>"
      ]
    },
    {
      "cell_type": "markdown",
      "metadata": {
        "id": "ikzkpY9yjTj4"
      },
      "source": [
        "<p style=\"text-align: right; direction: rtl; float: right; clear: both;\">\n",
        "    פעמים רבות, בין אם בקבלת קלט מהמשתמש ובין אם במחרוזות שקיבלנו ממקור חיצוני כלשהו, נתקל בתווים מיותרים שמקיפים את המחרוזת שלנו.<br>\n",
        "    הפעולה <dfn>strip</dfn> עוזרת לנו להסיר אותם.\n",
        "</p>"
      ]
    },
    {
      "cell_type": "markdown",
      "metadata": {
        "id": "UAe1S3-pjTj5"
      },
      "source": [
        "<p style=\"text-align: right; direction: rtl; float: right; clear: both;\">\n",
        "    בצורתה הפשוטה, כשלא מעבירים לה ארגומנטים, היא תסיר את כל הרווחים, האנטרים והטאבים שנמצאים סביב המחרוזת:\n",
        "</p>"
      ]
    },
    {
      "cell_type": "code",
      "execution_count": 13,
      "metadata": {
        "id": "8xhvlR2ijTj5",
        "outputId": "79ca585e-0cd6-4d1f-82c2-a043e2331864",
        "colab": {
          "base_uri": "https://localhost:8080/"
        }
      },
      "outputs": [
        {
          "output_type": "stream",
          "name": "stdout",
          "text": [
            "Please enter your user:                 mich     \n",
            "This string is: mich.\n"
          ]
        }
      ],
      "source": [
        "# נסו להכניס הרבה רווחים אחרי או לפני שם המשתמש\n",
        "username = input(\"Please enter your user: \")\n",
        "username = username.strip()\n",
        "print(f\"This string is: {username}.\")"
      ]
    },
    {
      "cell_type": "markdown",
      "metadata": {
        "id": "1vI8R_epjTj5"
      },
      "source": [
        "<p style=\"text-align: right; direction: rtl; float: right; clear: both;\">\n",
        "     כאשר מעבירים לה מחרוזת כארגומנט, היא תבצע את האלגוריתם הבא:\n",
        "</p>"
      ]
    },
    {
      "cell_type": "markdown",
      "metadata": {
        "id": "lzmCgQ9ajTj6"
      },
      "source": [
        "<ol style=\"text-align: right; direction: rtl; float: right; clear: both;\">\n",
        "    <li>עבור על כל תו מתחילת המחרוזת:\n",
        "        <ul>\n",
        "            <li>כל עוד התו נמצא בארגומנט – מחק אותו והמשך</li>\n",
        "        </ul>\n",
        "    </li>\n",
        "    <li>עבור על כל תו מסוף המחרוזת:\n",
        "        <ul>\n",
        "            <li>כל עוד התו נמצא בארגומנט – מחק אותו והמשך</li>\n",
        "        </ul>\n",
        "    </li>\n",
        "</ol>"
      ]
    },
    {
      "cell_type": "code",
      "execution_count": 14,
      "metadata": {
        "id": "aWvPOIH-jTj6",
        "outputId": "679c8da4-d121-4983-c271-499fd3f5fa09",
        "colab": {
          "base_uri": "https://localhost:8080/"
        }
      },
      "outputs": [
        {
          "output_type": "stream",
          "name": "stdout",
          "text": [
            "This! Is! Sparta\n"
          ]
        }
      ],
      "source": [
        "strange_string = '!@#$%!!!^&This! Is! Sparta!!!!!!!!!&^%$!!!#@!'\n",
        "print(strange_string.strip('~!@#$%^&*'))"
      ]
    },
    {
      "cell_type": "markdown",
      "metadata": {
        "id": "yqsein9fjTj6"
      },
      "source": [
        "### <p style=\"text-align: right; direction: rtl; float: right;\">מְצִיאוֹת וּמְצִיאוֹת</p>"
      ]
    },
    {
      "cell_type": "code",
      "execution_count": 15,
      "metadata": {
        "id": "xD14V3_6jTj6"
      },
      "outputs": [],
      "source": [
        "strange = \"This is a very long string which contains strange words, like ululation and lollygag.\""
      ]
    },
    {
      "cell_type": "markdown",
      "metadata": {
        "id": "hjopPfzVjTj6"
      },
      "source": [
        "<p style=\"text-align: right; direction: rtl; float: right; clear: both;\">\n",
        "    נמצא את המקומות שבהם נמצאות המילים המוזרות.<br>\n",
        "    הפעולות <em>find</em> ו־<em>index</em> יחזירו לנו את המיקום (האינדקס) של תת־מחרוזת בתוך מחרוזת אחרת:\n",
        "</p>"
      ]
    },
    {
      "cell_type": "code",
      "execution_count": 16,
      "metadata": {
        "id": "U4CVsL0cjTj6",
        "outputId": "890ceaae-42cb-4ed3-d137-53fcb68d40c9",
        "colab": {
          "base_uri": "https://localhost:8080/"
        }
      },
      "outputs": [
        {
          "output_type": "execute_result",
          "data": {
            "text/plain": [
              "62"
            ]
          },
          "metadata": {},
          "execution_count": 16
        }
      ],
      "source": [
        "strange.find(\"ululation\")"
      ]
    },
    {
      "cell_type": "code",
      "execution_count": 17,
      "metadata": {
        "id": "8cG0_JT7jTj7",
        "outputId": "9b6b4e70-8bcc-48be-f654-876137308457",
        "colab": {
          "base_uri": "https://localhost:8080/"
        }
      },
      "outputs": [
        {
          "output_type": "execute_result",
          "data": {
            "text/plain": [
              "76"
            ]
          },
          "metadata": {},
          "execution_count": 17
        }
      ],
      "source": [
        "strange.find(\"lollygag\")"
      ]
    },
    {
      "cell_type": "code",
      "execution_count": 18,
      "metadata": {
        "id": "wuAuk3RGjTj7",
        "outputId": "47746e8d-cd0f-4652-de64-37be9a66d2d4",
        "colab": {
          "base_uri": "https://localhost:8080/"
        }
      },
      "outputs": [
        {
          "output_type": "execute_result",
          "data": {
            "text/plain": [
              "76"
            ]
          },
          "metadata": {},
          "execution_count": 18
        }
      ],
      "source": [
        "strange.index(\"lollygag\")"
      ]
    },
    {
      "cell_type": "markdown",
      "metadata": {
        "id": "GRYk5jF2jTj7"
      },
      "source": [
        "<p style=\"text-align: right; direction: rtl; float: right; clear: both;\">\n",
        "אז רגע, למה צריך 2 מתודות אם הן עושות אותו דבר?<br>\n",
        "    אם המחרוזת לא נמצאה, <em dir=\"ltr\" style=\"direction: ltr\">find</em> תחזיר לנו <samp dir=\"ltr\" style=\"direction: ltr\">-1</samp>, בעוד ש־<em dir=\"ltr\" style=\"direction: ltr\">index</em> תחזיר לנו שגיאה.\n",
        "</p>"
      ]
    },
    {
      "cell_type": "code",
      "execution_count": 19,
      "metadata": {
        "id": "kE3-oQJajTj7",
        "outputId": "420f9710-44a6-47e8-85f0-08c47699ca8d",
        "colab": {
          "base_uri": "https://localhost:8080/"
        }
      },
      "outputs": [
        {
          "output_type": "execute_result",
          "data": {
            "text/plain": [
              "-1"
            ]
          },
          "metadata": {},
          "execution_count": 19
        }
      ],
      "source": [
        "strange.find('luculent')"
      ]
    },
    {
      "cell_type": "code",
      "execution_count": 20,
      "metadata": {
        "id": "Nlce_mFzjTj7",
        "outputId": "934df744-795b-4fe5-98e7-8e9811834d77",
        "colab": {
          "base_uri": "https://localhost:8080/",
          "height": 141
        }
      },
      "outputs": [
        {
          "output_type": "error",
          "ename": "ValueError",
          "evalue": "substring not found",
          "traceback": [
            "\u001b[0;31m---------------------------------------------------------------------------\u001b[0m",
            "\u001b[0;31mValueError\u001b[0m                                Traceback (most recent call last)",
            "\u001b[0;32m<ipython-input-20-0345bf67faec>\u001b[0m in \u001b[0;36m<cell line: 1>\u001b[0;34m()\u001b[0m\n\u001b[0;32m----> 1\u001b[0;31m \u001b[0mstrange\u001b[0m\u001b[0;34m.\u001b[0m\u001b[0mindex\u001b[0m\u001b[0;34m(\u001b[0m\u001b[0;34m'luculent'\u001b[0m\u001b[0;34m)\u001b[0m\u001b[0;34m\u001b[0m\u001b[0;34m\u001b[0m\u001b[0m\n\u001b[0m",
            "\u001b[0;31mValueError\u001b[0m: substring not found"
          ]
        }
      ],
      "source": [
        "strange.index('luculent')"
      ]
    },
    {
      "cell_type": "markdown",
      "metadata": {
        "id": "ddNjw3BAjTj7"
      },
      "source": [
        "<div class=\"align-center\" style=\"display: flex; text-align: right; direction: rtl; clear: both;\">\n",
        "    <div style=\"display: flex; width: 10%; float: right; clear: both;\">\n",
        "        <img src=\"https://github.com/PythonFreeCourse/Notebooks/blob/main/content/week02/images/warning.png?raw=1\" style=\"height: 50px !important;\" alt=\"אזהרה!\">\n",
        "    </div>\n",
        "    <div style=\"width: 90%\">\n",
        "        <p style=\"text-align: right; direction: rtl; clear: both;\">\n",
        "            הפעולות הללו יחזירו רק את התוצאה הראשונה.\n",
        "        </p>\n",
        "    </div>\n",
        "</div>"
      ]
    },
    {
      "cell_type": "markdown",
      "metadata": {
        "id": "mLdt9swyjTj7"
      },
      "source": [
        "<div class=\"align-center\" style=\"display: flex; text-align: right; direction: rtl; clear: both;\">\n",
        "    <div style=\"display: flex; width: 10%; float: right; clear: both;\">\n",
        "        <img src=\"https://github.com/PythonFreeCourse/Notebooks/blob/main/content/week02/images/warning.png?raw=1\" style=\"height: 50px !important;\" alt=\"אזהרה!\">\n",
        "    </div>\n",
        "    <div style=\"width: 90%\">\n",
        "        <p style=\"text-align: right; direction: rtl; clear: both;\">\n",
        "            אינטואיטיבית, נראה שנכון תמיד להשתמש בפעולה <em dir=\"ltr\" style=\"direction: ltr;\">find</em>, אך אליה וקוץ בה.<br>\n",
        "            כשאנחנו בטוחים שאמורה לחזור תוצאה, עדיף להשתמש ב־<em dir=\"ltr\" style=\"direction: ltr;\">index</em> כדי לדעת מאיפה מגיעה השגיאה בתוכנית שלנו ולטפל בה במהירות.\n",
        "        </p>\n",
        "    </div>\n",
        "</div>"
      ]
    },
    {
      "cell_type": "markdown",
      "metadata": {
        "id": "3JbhOGSqjTj8"
      },
      "source": [
        "<div class=\"align-center\" style=\"display: flex; text-align: right; direction: rtl; clear: both;\">\n",
        "    <div style=\"display: flex; width: 10%; float: right; clear: both;\">\n",
        "        <img src=\"https://github.com/PythonFreeCourse/Notebooks/blob/main/content/week02/images/exercise.svg?raw=1\" style=\"height: 50px !important;\" alt=\"תרגול\">\n",
        "    </div>\n",
        "    <div style=\"width: 90%\">\n",
        "        <p style=\"text-align: right; direction: rtl; float: right; clear: both;\">\n",
        "        <strong>תרגול</strong>:\n",
        "            קבלו מהמשתמש שתי מחרוזות.<br>\n",
        "            אם המחרוזת השנייה נמצאת לפני אמצע המחרוזת הראשונה, הדפיסו \"<span dir=\"ltr\">Yes!</span>\"<br>\n",
        "            אם המחרוזת השנייה לא נמצאת לפני אמצע המחרוזת הראשונה, הדפיסו \"<span dir=\"ltr\">No!</span>\"<br>\n",
        "            בונוס לגיבורים ולגיבורות: נסו להשתמש בשתי הפעולות, <em>index</em> ו־<em>find</em>.\n",
        "        </p>\n",
        "    </div>\n",
        "</div>"
      ]
    },
    {
      "cell_type": "code",
      "source": [
        "str1 = input(\"Enter the first string:\")\n",
        "str2 = input(\"Enter the second string:\")\n",
        "if str1[:len(str1)//2].find(str2) != -1:\n",
        "  print(\"Yes!\")\n",
        "else:\n",
        "  print(\"No!\")"
      ],
      "metadata": {
        "id": "yoVTRCLSmKpw",
        "outputId": "96a0b86e-8ef5-4bf1-adad-5d2d18f06612",
        "colab": {
          "base_uri": "https://localhost:8080/"
        }
      },
      "execution_count": 23,
      "outputs": [
        {
          "output_type": "stream",
          "name": "stdout",
          "text": [
            "Enter the first string:aabb\n",
            "Enter the second string:aa\n",
            "Yes!\n"
          ]
        }
      ]
    },
    {
      "cell_type": "markdown",
      "metadata": {
        "id": "cEYYAKZVjTj8"
      },
      "source": [
        "### <p style=\"text-align: right; direction: rtl; float: right;\">משחקים עם גודלי אותיות</p>"
      ]
    },
    {
      "cell_type": "code",
      "execution_count": 24,
      "metadata": {
        "id": "ZoOeKNSfjTj8"
      },
      "outputs": [],
      "source": [
        "test1 = \"HeLlO WoRlD 123!\""
      ]
    },
    {
      "cell_type": "code",
      "execution_count": 25,
      "metadata": {
        "id": "S32DO7VejTj8",
        "outputId": "ae93cf72-7c14-47aa-e0f5-952c6c077366",
        "colab": {
          "base_uri": "https://localhost:8080/",
          "height": 36
        }
      },
      "outputs": [
        {
          "output_type": "execute_result",
          "data": {
            "text/plain": [
              "'HeLlO WoRlD 123!'"
            ],
            "application/vnd.google.colaboratory.intrinsic+json": {
              "type": "string"
            }
          },
          "metadata": {},
          "execution_count": 25
        }
      ],
      "source": [
        "test1"
      ]
    },
    {
      "cell_type": "code",
      "execution_count": 26,
      "metadata": {
        "id": "aLUZI2S2jTj8",
        "outputId": "e9e6b948-5158-410b-b610-810119c27e6c",
        "colab": {
          "base_uri": "https://localhost:8080/",
          "height": 36
        }
      },
      "outputs": [
        {
          "output_type": "execute_result",
          "data": {
            "text/plain": [
              "'HELLO WORLD 123!'"
            ],
            "application/vnd.google.colaboratory.intrinsic+json": {
              "type": "string"
            }
          },
          "metadata": {},
          "execution_count": 26
        }
      ],
      "source": [
        "test1.upper()"
      ]
    },
    {
      "cell_type": "code",
      "execution_count": 27,
      "metadata": {
        "id": "DLRFOexNjTj8",
        "outputId": "0f1e5b03-09dc-46d8-8e38-b8f4b3e08f67",
        "colab": {
          "base_uri": "https://localhost:8080/",
          "height": 36
        }
      },
      "outputs": [
        {
          "output_type": "execute_result",
          "data": {
            "text/plain": [
              "'hello world 123!'"
            ],
            "application/vnd.google.colaboratory.intrinsic+json": {
              "type": "string"
            }
          },
          "metadata": {},
          "execution_count": 27
        }
      ],
      "source": [
        "test1.lower()"
      ]
    },
    {
      "cell_type": "code",
      "execution_count": 28,
      "metadata": {
        "id": "bSD3PX5JjTj8",
        "outputId": "209d671a-5770-489d-efac-c77cf90d62a5",
        "colab": {
          "base_uri": "https://localhost:8080/",
          "height": 36
        }
      },
      "outputs": [
        {
          "output_type": "execute_result",
          "data": {
            "text/plain": [
              "'Hello world 123!'"
            ],
            "application/vnd.google.colaboratory.intrinsic+json": {
              "type": "string"
            }
          },
          "metadata": {},
          "execution_count": 28
        }
      ],
      "source": [
        "test1.capitalize()  # רק האות הראשונה תהיה גדולה"
      ]
    },
    {
      "cell_type": "code",
      "execution_count": 29,
      "metadata": {
        "id": "1Cnk_2tujTj8",
        "outputId": "b1bec852-cdd8-4742-c3a4-3dd46b674b66",
        "colab": {
          "base_uri": "https://localhost:8080/",
          "height": 36
        }
      },
      "outputs": [
        {
          "output_type": "execute_result",
          "data": {
            "text/plain": [
              "'Hello World 123!'"
            ],
            "application/vnd.google.colaboratory.intrinsic+json": {
              "type": "string"
            }
          },
          "metadata": {},
          "execution_count": 29
        }
      ],
      "source": [
        "test1.title()  # מגדיל את האות הראשונה בכל מילה"
      ]
    },
    {
      "cell_type": "markdown",
      "metadata": {
        "id": "-yHg3MynjTj8"
      },
      "source": [
        "<p style=\"text-align: right; direction: rtl; float: right; clear: both;\">\n",
        "חשוב לזכור שהפעולות לא משנות את המשתנה.<br>\n",
        "אם רוצים לשנות אותו, יש להשתמש בהשמה.\n",
        "</p>"
      ]
    },
    {
      "cell_type": "code",
      "execution_count": 30,
      "metadata": {
        "id": "Lhp5JbAvjTj8",
        "outputId": "b98d14e6-a3c9-4f20-e4bc-f6c43ccdd05b",
        "colab": {
          "base_uri": "https://localhost:8080/",
          "height": 36
        }
      },
      "outputs": [
        {
          "output_type": "execute_result",
          "data": {
            "text/plain": [
              "'HeLlO WoRlD 123!'"
            ],
            "application/vnd.google.colaboratory.intrinsic+json": {
              "type": "string"
            }
          },
          "metadata": {},
          "execution_count": 30
        }
      ],
      "source": [
        "test1"
      ]
    },
    {
      "cell_type": "markdown",
      "metadata": {
        "id": "lHjxAWbJjTj9"
      },
      "source": [
        "### <p style=\"text-align: right; direction: rtl; float: right;\">סופרים סתם</p>"
      ]
    },
    {
      "cell_type": "markdown",
      "metadata": {
        "id": "n1l3mewfjTj9"
      },
      "source": [
        "<p style=\"text-align: right; direction: rtl; float: right; clear: both;\">\n",
        "אם נרצה לבדוק כמה פעמים תת־מחרוזת נמצאת בתוך המחרוזת שלנו, נשתמש בפעולה <dfn>count</dfn>.<br>\n",
        "ננסה להבין כמה פעמים מילים מעניינות הופיעו בנאום גטיסברג המפורסם:\n",
        "</p>"
      ]
    },
    {
      "cell_type": "code",
      "execution_count": 31,
      "metadata": {
        "id": "Yhh7aB1HjTj9"
      },
      "outputs": [],
      "source": [
        "gettysburg_address = \"\"\"\n",
        "Four score and seven years ago our fathers brought forth, on this continent, a new nation, conceived in Liberty, and dedicated to the proposition that all men are created equal.\n",
        "Now we are engaged in a great civil war, testing whether that nation, or any nation so conceived and so dedicated, can long endure. We are met on a great battle-field of that war. We have come to dedicate a portion of that field, as a final resting place for those who here gave their lives that that nation might live. It is altogether fitting and proper that we should do this.\n",
        "But, in a larger sense, we cannot dedicate—we cannot consecrate—we cannot hallow—this ground. The brave men, living and dead, who struggled here, have consecrated it, far above our poor power to add or detract. The world will little note, nor long remember what we say here, but it can never forget what they did here. It is for us the living, rather, to be dedicated here to the unfinished work which they who fought here have thus far so nobly advanced. It is rather for us to be here dedicated to the great task remaining before us—that from these honored dead we take increased devotion to that cause for which they here gave the last full measure of devotion—that we here highly resolve that these dead shall not have died in vain—that this nation, under God, shall have a new birth of freedom—and that government of the people, by the people, for the people, shall not perish from the earth.\n",
        "\"\"\""
      ]
    },
    {
      "cell_type": "markdown",
      "metadata": {
        "id": "VAFzKfIGjTj9"
      },
      "source": [
        "<p style=\"text-align: right; direction: rtl; float: right; clear: both;\">\n",
        "ראשית, נעשה טריק מוכר. נשתמש בפעולה <em dir=\"ltr\" style=\"direction: ltr\">lower</em> כדי להעיף את האותיות הגדולות.<br>\n",
        "בצורה הזו, <em>count</em> תספור לנו גם את המילים שנכתבו באותיות רישיות:\n",
        "</p>"
      ]
    },
    {
      "cell_type": "code",
      "execution_count": 32,
      "metadata": {
        "id": "NKr67fHsjTj9"
      },
      "outputs": [],
      "source": [
        "gettysburg_address = gettysburg_address.lower()"
      ]
    },
    {
      "cell_type": "markdown",
      "metadata": {
        "id": "c_xlsj--jTj9"
      },
      "source": [
        "<p style=\"text-align: right; direction: rtl; float: right; clear: both;\">\n",
        "עכשיו נבדוק כמה פעמים השתמש לינקולן בכל אחת מהמילים: we, nation ו־dedicated.</p>"
      ]
    },
    {
      "cell_type": "code",
      "execution_count": 33,
      "metadata": {
        "id": "lYx29o7ijTj9",
        "outputId": "14ab1314-da26-4b41-e3f8-6708b9e78a9e",
        "colab": {
          "base_uri": "https://localhost:8080/"
        }
      },
      "outputs": [
        {
          "output_type": "execute_result",
          "data": {
            "text/plain": [
              "11"
            ]
          },
          "metadata": {},
          "execution_count": 33
        }
      ],
      "source": [
        "gettysburg_address.count('we')"
      ]
    },
    {
      "cell_type": "code",
      "execution_count": 34,
      "metadata": {
        "id": "7BX5r4VSjTj9",
        "outputId": "8035ef16-dd5a-4573-d50b-3b80da721ac3",
        "colab": {
          "base_uri": "https://localhost:8080/"
        }
      },
      "outputs": [
        {
          "output_type": "execute_result",
          "data": {
            "text/plain": [
              "4"
            ]
          },
          "metadata": {},
          "execution_count": 34
        }
      ],
      "source": [
        "gettysburg_address.count('dedicated')"
      ]
    },
    {
      "cell_type": "code",
      "execution_count": 35,
      "metadata": {
        "id": "CK4p8YnvjTj9",
        "outputId": "337248b9-180a-4242-ce3a-025bd0ce2506",
        "colab": {
          "base_uri": "https://localhost:8080/"
        }
      },
      "outputs": [
        {
          "output_type": "execute_result",
          "data": {
            "text/plain": [
              "5"
            ]
          },
          "metadata": {},
          "execution_count": 35
        }
      ],
      "source": [
        "gettysburg_address.count('nation')"
      ]
    },
    {
      "cell_type": "markdown",
      "metadata": {
        "id": "ujXIg06rjTj9"
      },
      "source": [
        "### <p style=\"text-align: right; direction: rtl; float: right;\">החלפה</p>"
      ]
    },
    {
      "cell_type": "markdown",
      "metadata": {
        "id": "q25brQRqjTj-"
      },
      "source": [
        "<p style=\"text-align: right; direction: rtl; float: right; clear: both;\">\n",
        "פעולה מאוד נפוצה היא <dfn>replace</dfn>, שעוזרת לנו להחליף את כל המופעים של תת־מחרוזת אחת באחרת.<br>\n",
        "לדוגמה, ניקח את הברידג' השני בשיר הנפלא של הביטלס, <cite>Hey Jude</cite>, ונחליף את כל המופעים של <em>Jude</em> ב־<em>Dude</em>:\n",
        "</p>"
      ]
    },
    {
      "cell_type": "code",
      "execution_count": 36,
      "metadata": {
        "id": "x8I5cYx7jTj-"
      },
      "outputs": [],
      "source": [
        "lyrics = \"\"\"So let it out and let it in, hey Jude, begin\n",
        "You're waiting for someone to perform with\n",
        "And don't you know that it's just you, hey Jude, you'll do\n",
        "The movement you need is on your shoulder\n",
        "Na na na na na na na na na yeah\"\"\""
      ]
    },
    {
      "cell_type": "code",
      "execution_count": 37,
      "metadata": {
        "id": "osArusuUjTj-",
        "outputId": "ea3452bd-15ac-4502-9633-849913b8f6d1",
        "colab": {
          "base_uri": "https://localhost:8080/",
          "height": 53
        }
      },
      "outputs": [
        {
          "output_type": "execute_result",
          "data": {
            "text/plain": [
              "\"So let it out and let it in, hey Dude, begin\\nYou're waiting for someone to perform with\\nAnd don't you know that it's just you, hey Dude, you'll do\\nThe movement you need is on your shoulder\\nNa na na na na na na na na yeah\""
            ],
            "application/vnd.google.colaboratory.intrinsic+json": {
              "type": "string"
            }
          },
          "metadata": {},
          "execution_count": 37
        }
      ],
      "source": [
        "lyrics.replace('Jude', 'Dude')"
      ]
    },
    {
      "cell_type": "markdown",
      "metadata": {
        "id": "cSPLbQKVjTj-"
      },
      "source": [
        "<p style=\"text-align: right; direction: rtl; float: right; clear: both;\">\n",
        "שימו לב לתווים המוזרים באמצע. אלו ירידות השורה שעליהן למדנו בשיעור. אל דאגה – הן לא יופיעו כשנדפיס את המחרוזת.\n",
        "</p>"
      ]
    },
    {
      "cell_type": "code",
      "execution_count": 38,
      "metadata": {
        "id": "_3rNeq92jTj-",
        "outputId": "e24526f4-2922-493b-bc9a-dfb7790187c4",
        "colab": {
          "base_uri": "https://localhost:8080/"
        }
      },
      "outputs": [
        {
          "output_type": "stream",
          "name": "stdout",
          "text": [
            "So let it out and let it in, hey Dude, begin\n",
            "You're waiting for someone to perform with\n",
            "And don't you know that it's just you, hey Dude, you'll do\n",
            "The movement you need is on your shoulder\n",
            "Na na na na na na na na na yeah\n"
          ]
        }
      ],
      "source": [
        "print(lyrics.replace('Jude', 'Dude'))"
      ]
    },
    {
      "cell_type": "markdown",
      "metadata": {
        "id": "fflAxy4njTj-"
      },
      "source": [
        "<p style=\"text-align: right; direction: rtl; float: right; clear: both;\">\n",
        "רק נזכיר שהפעולה לא משנה את המחרוזת עצמה, וכדי לשנות אותה נצטרך לבצע השמה.\n",
        "</p>"
      ]
    },
    {
      "cell_type": "code",
      "execution_count": 39,
      "metadata": {
        "scrolled": true,
        "id": "X51mfYtEjTj-",
        "outputId": "44927027-2761-4094-e301-3714fc7b8a18",
        "colab": {
          "base_uri": "https://localhost:8080/"
        }
      },
      "outputs": [
        {
          "output_type": "stream",
          "name": "stdout",
          "text": [
            "Before: \n",
            "So let it out and let it in, hey Jude, begin\n",
            "You're waiting for someone to perform with\n",
            "And don't you know that it's just you, hey Jude, you'll do\n",
            "The movement you need is on your shoulder\n",
            "Na na na na na na na na na yeah\n",
            "--------------------------------------------------\n",
            "After: \n",
            "So let it out and let it in, hey Dude, begin\n",
            "You're waiting for someone to perform with\n",
            "And don't you know that it's just you, hey Dude, you'll do\n",
            "The movement you need is on your shoulder\n",
            "Na na na na na na na na na yeah\n"
          ]
        }
      ],
      "source": [
        "lyrics = \"\"\"So let it out and let it in, hey Jude, begin\n",
        "You're waiting for someone to perform with\n",
        "And don't you know that it's just you, hey Jude, you'll do\n",
        "The movement you need is on your shoulder\n",
        "Na na na na na na na na na yeah\"\"\"\n",
        "\n",
        "print(\"Before: \")\n",
        "lyrics.replace('Jude', 'Dude')\n",
        "print(lyrics)\n",
        "\n",
        "lyrics = lyrics.replace('Jude', 'Dude')\n",
        "print('-' * 50)\n",
        "print(\"After: \")\n",
        "print(lyrics)"
      ]
    },
    {
      "cell_type": "markdown",
      "metadata": {
        "id": "sesfj9jMjTj-"
      },
      "source": [
        "### <p style=\"text-align: right; direction: rtl; float: right;\">הפרד ומשול</p>"
      ]
    },
    {
      "cell_type": "markdown",
      "metadata": {
        "id": "oTxIj45EjTj-"
      },
      "source": [
        "<p style=\"text-align: right; direction: rtl; float: right; clear: both;\">\n",
        "לעיתים קרובות נרצה להפריד את הטקסט שלנו לחלקים.<br>\n",
        "הפעולה <dfn>split</dfn> מאפשרת לנו לעשות את זה, ולקבל רשימה של האיברים המופרדים:\n",
        "</p>"
      ]
    },
    {
      "cell_type": "code",
      "execution_count": 40,
      "metadata": {
        "id": "6hiu8-a3jTj-"
      },
      "outputs": [],
      "source": [
        "i_like_to_eat = 'chocolate, fudge, cream, cookies, banana, hummus'"
      ]
    },
    {
      "cell_type": "code",
      "execution_count": 41,
      "metadata": {
        "id": "qwMWCCV7jTj_",
        "outputId": "2b68e8a1-741c-446f-b61d-cf95d908ba82",
        "colab": {
          "base_uri": "https://localhost:8080/"
        }
      },
      "outputs": [
        {
          "output_type": "execute_result",
          "data": {
            "text/plain": [
              "['chocolate', 'fudge', 'cream', 'cookies', 'banana', 'hummus']"
            ]
          },
          "metadata": {},
          "execution_count": 41
        }
      ],
      "source": [
        "i_like_to_eat.split(', ')"
      ]
    },
    {
      "cell_type": "markdown",
      "metadata": {
        "id": "lrYK5BqSjTj_"
      },
      "source": [
        "<p style=\"text-align: right; direction: rtl; float: right; clear: both;\">\n",
        "בסוגריים כתבנו מה אנחנו רוצים שיהיה התו, או סדרת התווים, שתהיה אחראית להפרדה בין האיברים.<br>\n",
        "שימו לב שקיבלנו רשימה לכל דבר:\n",
        "</p>"
      ]
    },
    {
      "cell_type": "code",
      "execution_count": 42,
      "metadata": {
        "id": "Rd4mUto6jTj_",
        "outputId": "369ce058-6462-48be-9c97-0ac2292e1186",
        "colab": {
          "base_uri": "https://localhost:8080/"
        }
      },
      "outputs": [
        {
          "output_type": "execute_result",
          "data": {
            "text/plain": [
              "list"
            ]
          },
          "metadata": {},
          "execution_count": 42
        }
      ],
      "source": [
        "type(i_like_to_eat.split(', '))"
      ]
    },
    {
      "cell_type": "code",
      "execution_count": 43,
      "metadata": {
        "id": "nAnHHvEfjTj_",
        "outputId": "ec9d2850-3812-44ff-a615-7602d7e5484b",
        "colab": {
          "base_uri": "https://localhost:8080/",
          "height": 36
        }
      },
      "outputs": [
        {
          "output_type": "execute_result",
          "data": {
            "text/plain": [
              "'chocolate'"
            ],
            "application/vnd.google.colaboratory.intrinsic+json": {
              "type": "string"
            }
          },
          "metadata": {},
          "execution_count": 43
        }
      ],
      "source": [
        "i_like_to_eat.split(', ')[0]"
      ]
    },
    {
      "cell_type": "markdown",
      "metadata": {
        "id": "lZM_AGEtjTj_"
      },
      "source": [
        "<p style=\"text-align: right; direction: rtl; float: right; clear: both;\">\n",
        "דרך נוספת להשתמש ב־<em>split</em> היא לא להעביר לה כלום ברשימת הארגומנטים.<br>\n",
        "במקרה כזה, <i>split</i> תפצל לנו את המחרוזת לפי רווחים, שורות חדשות וטאבים.\n",
        "</p>"
      ]
    },
    {
      "cell_type": "code",
      "execution_count": 44,
      "metadata": {
        "id": "8WirktqPjTj_"
      },
      "outputs": [],
      "source": [
        "some_paragraph = \"\"\"\n",
        "Gadsby is a 1939 novel by Ernest Vincent Wright written as a lipogram, which does not include words that contain the letter E. The plot revolves around the dying fictional city of Branton Hills, which is revitalized as a result of the efforts of protagonist John Gadsby and a youth group he organizes.\n",
        "Though vanity published and little noticed in its time, the book is a favourite of fans of constrained writing and is a sought-after rarity among some book collectors. Later editions of the book have sometimes carried the alternative subtitle 50,000 Word Novel Without the Letter \"E\".\n",
        "Despite Wright's claim, published versions of the book may contain a handful of uses of the letter \"e\". The version on Project Gutenberg, for example, contains \"the\" three times and \"officers\" once.\n",
        "\"\"\""
      ]
    },
    {
      "cell_type": "code",
      "execution_count": 45,
      "metadata": {
        "id": "yI8kT4yCjTj_",
        "outputId": "1bed3d67-d38f-4b4f-d77e-27ef98739e5d",
        "colab": {
          "base_uri": "https://localhost:8080/"
        }
      },
      "outputs": [
        {
          "output_type": "execute_result",
          "data": {
            "text/plain": [
              "['Gadsby',\n",
              " 'is',\n",
              " 'a',\n",
              " '1939',\n",
              " 'novel',\n",
              " 'by',\n",
              " 'Ernest',\n",
              " 'Vincent',\n",
              " 'Wright',\n",
              " 'written',\n",
              " 'as',\n",
              " 'a',\n",
              " 'lipogram,',\n",
              " 'which',\n",
              " 'does',\n",
              " 'not',\n",
              " 'include',\n",
              " 'words',\n",
              " 'that',\n",
              " 'contain',\n",
              " 'the',\n",
              " 'letter',\n",
              " 'E.',\n",
              " 'The',\n",
              " 'plot',\n",
              " 'revolves',\n",
              " 'around',\n",
              " 'the',\n",
              " 'dying',\n",
              " 'fictional',\n",
              " 'city',\n",
              " 'of',\n",
              " 'Branton',\n",
              " 'Hills,',\n",
              " 'which',\n",
              " 'is',\n",
              " 'revitalized',\n",
              " 'as',\n",
              " 'a',\n",
              " 'result',\n",
              " 'of',\n",
              " 'the',\n",
              " 'efforts',\n",
              " 'of',\n",
              " 'protagonist',\n",
              " 'John',\n",
              " 'Gadsby',\n",
              " 'and',\n",
              " 'a',\n",
              " 'youth',\n",
              " 'group',\n",
              " 'he',\n",
              " 'organizes.',\n",
              " 'Though',\n",
              " 'vanity',\n",
              " 'published',\n",
              " 'and',\n",
              " 'little',\n",
              " 'noticed',\n",
              " 'in',\n",
              " 'its',\n",
              " 'time,',\n",
              " 'the',\n",
              " 'book',\n",
              " 'is',\n",
              " 'a',\n",
              " 'favourite',\n",
              " 'of',\n",
              " 'fans',\n",
              " 'of',\n",
              " 'constrained',\n",
              " 'writing',\n",
              " 'and',\n",
              " 'is',\n",
              " 'a',\n",
              " 'sought-after',\n",
              " 'rarity',\n",
              " 'among',\n",
              " 'some',\n",
              " 'book',\n",
              " 'collectors.',\n",
              " 'Later',\n",
              " 'editions',\n",
              " 'of',\n",
              " 'the',\n",
              " 'book',\n",
              " 'have',\n",
              " 'sometimes',\n",
              " 'carried',\n",
              " 'the',\n",
              " 'alternative',\n",
              " 'subtitle',\n",
              " '50,000',\n",
              " 'Word',\n",
              " 'Novel',\n",
              " 'Without',\n",
              " 'the',\n",
              " 'Letter',\n",
              " '\"E\".',\n",
              " 'Despite',\n",
              " \"Wright's\",\n",
              " 'claim,',\n",
              " 'published',\n",
              " 'versions',\n",
              " 'of',\n",
              " 'the',\n",
              " 'book',\n",
              " 'may',\n",
              " 'contain',\n",
              " 'a',\n",
              " 'handful',\n",
              " 'of',\n",
              " 'uses',\n",
              " 'of',\n",
              " 'the',\n",
              " 'letter',\n",
              " '\"e\".',\n",
              " 'The',\n",
              " 'version',\n",
              " 'on',\n",
              " 'Project',\n",
              " 'Gutenberg,',\n",
              " 'for',\n",
              " 'example,',\n",
              " 'contains',\n",
              " '\"the\"',\n",
              " 'three',\n",
              " 'times',\n",
              " 'and',\n",
              " '\"officers\"',\n",
              " 'once.']"
            ]
          },
          "metadata": {},
          "execution_count": 45
        }
      ],
      "source": [
        "some_paragraph.split()"
      ]
    },
    {
      "cell_type": "markdown",
      "metadata": {
        "id": "LWxrvNqijTj_"
      },
      "source": [
        "<p style=\"text-align: right; direction: rtl; float: right; clear: both;\">\n",
        "הפעולה הזו שימושית בטירוף ונראה אותה עוד הרבה.<br>\n",
        "היא מאפשרת לנו לקבל מידע רב על כמות גדולה של מלל.\n",
        "</p>"
      ]
    },
    {
      "cell_type": "markdown",
      "metadata": {
        "id": "7fAb6MtGjTj_"
      },
      "source": [
        "### <p style=\"text-align: right; direction: rtl; float: right;\">חבר ומשול</p>"
      ]
    },
    {
      "cell_type": "markdown",
      "metadata": {
        "id": "ee1PYucRjTj_"
      },
      "source": [
        "<p style=\"text-align: right; direction: rtl; float: right; clear: both;\">\n",
        "לפעמים אנחנו רוצים לעשות את הפעולה ההפוכה מפיצול – איחוד!<br>\n",
        "הפעולה <dfn>join</dfn> מקבלת כארגומנט רשימה, ופועלת על המחרוזת שתחבר בין איבר לאיבר.<br>\n",
        "נראה דוגמה:\n",
        "</p>"
      ]
    },
    {
      "cell_type": "code",
      "execution_count": 46,
      "metadata": {
        "id": "lZXvb34BjTj_",
        "outputId": "349af9e5-67a6-4da4-bf76-20fafdc72fb6",
        "colab": {
          "base_uri": "https://localhost:8080/",
          "height": 36
        }
      },
      "outputs": [
        {
          "output_type": "execute_result",
          "data": {
            "text/plain": [
              "'chocolate, fudge, cream, cookies, banana, hummus'"
            ],
            "application/vnd.google.colaboratory.intrinsic+json": {
              "type": "string"
            }
          },
          "metadata": {},
          "execution_count": 46
        }
      ],
      "source": [
        "i_love_to_eat = ['chocolate', 'fudge', 'cream', 'cookies', 'banana', 'hummus']\n",
        "thing_to_join_by = \", \"\n",
        "thing_to_join_by.join(i_love_to_eat)"
      ]
    },
    {
      "cell_type": "markdown",
      "metadata": {
        "id": "7LeWdUXPjTkA"
      },
      "source": [
        "<p style=\"text-align: right; direction: rtl; float: right; clear: both;\">\n",
        "ואם אנחנו כבר שם, קצת כבוד לספר הישראלי, הכבש השישה־עשר:\n",
        "</p>"
      ]
    },
    {
      "cell_type": "code",
      "execution_count": 47,
      "metadata": {
        "id": "ry4HY4ByjTkA",
        "outputId": "607b958d-d967-47b3-da30-48c9ed2603e6",
        "colab": {
          "base_uri": "https://localhost:8080/"
        }
      },
      "outputs": [
        {
          "output_type": "stream",
          "name": "stdout",
          "text": [
            "אני אוהב שוקולד ועוגות גבינה וארטיק וסוכריות ותות גינה\n"
          ]
        }
      ],
      "source": [
        "what_i_love = [\"שוקולד\", \"עוגות גבינה\", \"ארטיק\", \"סוכריות\", \"תות גינה\"]\n",
        "vav_ha_hibur = ' ו'\n",
        "song = \"אני אוהב \" + vav_ha_hibur.join(what_i_love)\n",
        "print(song)"
      ]
    },
    {
      "cell_type": "markdown",
      "metadata": {
        "id": "GS_GX-XsjTkA"
      },
      "source": [
        "### <p style=\"text-align: right; direction: rtl; float: right;\">אני, בוליאני</p>"
      ]
    },
    {
      "cell_type": "markdown",
      "metadata": {
        "id": "EmT4XthcjTkA"
      },
      "source": [
        "<p style=\"text-align: right; direction: rtl; float: right; clear: both;\">\n",
        "אחד הטריקים השימושיים הוא לבדוק אם המחרוזת שלנו מתחילה או מסתיימת בתת־מחרוזת אחרת.\n",
        "</p>"
      ]
    },
    {
      "cell_type": "code",
      "execution_count": 48,
      "metadata": {
        "id": "HUbTFpvmjTkA"
      },
      "outputs": [],
      "source": [
        "some_test = \"Hello, my name is Inigo Montoya, you killed my father, prepare to die!\""
      ]
    },
    {
      "cell_type": "code",
      "execution_count": 49,
      "metadata": {
        "id": "WupLKO09jTkA",
        "outputId": "68dd9eba-144c-493e-ce9b-fb1c83f5ac6e",
        "colab": {
          "base_uri": "https://localhost:8080/"
        }
      },
      "outputs": [
        {
          "output_type": "stream",
          "name": "stdout",
          "text": [
            "True\n"
          ]
        }
      ],
      "source": [
        "is_welcoming = some_test.startswith('Hello,')\n",
        "print(is_welcoming)"
      ]
    },
    {
      "cell_type": "code",
      "execution_count": 50,
      "metadata": {
        "id": "JK_9yCkhjTkA",
        "outputId": "25bb1d1d-0e41-4a48-8b8e-712ef289978f",
        "colab": {
          "base_uri": "https://localhost:8080/"
        }
      },
      "outputs": [
        {
          "output_type": "stream",
          "name": "stdout",
          "text": [
            "True\n"
          ]
        }
      ],
      "source": [
        "is_shouting = some_test.endswith('!')\n",
        "print(is_shouting)"
      ]
    },
    {
      "cell_type": "code",
      "execution_count": 51,
      "metadata": {
        "id": "SFmn4y1UjTkA",
        "outputId": "22e35b5a-2d48-449f-f362-ffe7c9df53ef",
        "colab": {
          "base_uri": "https://localhost:8080/"
        }
      },
      "outputs": [
        {
          "output_type": "stream",
          "name": "stdout",
          "text": [
            "False\n"
          ]
        }
      ],
      "source": [
        "is_goodbye = some_test.endswith(\"Goodbye, my kind sir.\")\n",
        "print(is_goodbye)"
      ]
    },
    {
      "cell_type": "code",
      "execution_count": 52,
      "metadata": {
        "id": "IeymsKnnjTkA",
        "outputId": "1f310488-e235-461d-94d0-75ccd4c0a673",
        "colab": {
          "base_uri": "https://localhost:8080/"
        }
      },
      "outputs": [
        {
          "output_type": "stream",
          "name": "stdout",
          "text": [
            "Does the user live in Python Street?... True\n",
            "Does the user live in Scotland?... False\n"
          ]
        }
      ],
      "source": [
        "address = \"Python Street 5, Hadera, Israel\"\n",
        "print(\"Does the user live in Python Street?... \" + str(address.startswith('Python Street')))\n",
        "print(\"Does the user live in Scotland?... \" + str(address.endswith('Scotland')))"
      ]
    },
    {
      "cell_type": "markdown",
      "metadata": {
        "id": "uFM5MyL2jTkA"
      },
      "source": [
        "<div class=\"align-center\" style=\"display: flex; text-align: right; direction: rtl; clear: both;\">\n",
        "    <div style=\"display: flex; width: 10%; float: right; clear: both;\">\n",
        "        <img src=\"https://github.com/PythonFreeCourse/Notebooks/blob/main/content/week02/images/exercise.svg?raw=1\" style=\"height: 50px !important;\" alt=\"תרגול\">\n",
        "    </div>\n",
        "    <div style=\"width: 90%\">\n",
        "        <p style=\"text-align: right; direction: rtl; float: right; clear: both;\">\n",
        "        <strong>תרגול</strong>:\n",
        "            קבלו מהמשתמש נתיב לקובץ מסוים שנמצא על המחשב שלו, ובדקו האם הסיומת שלו היא <i style=\"direction: ltr\" dir=\"ltr\">.docx</i><br>\n",
        "            הדפיסו לו הודעה מתאימה.<br>\n",
        "            דוגמה לנתיב תקין: <i>C:\\My Documents\\Resume.docx</i>.\n",
        "        </p>\n",
        "    </div>\n",
        "</div>"
      ]
    },
    {
      "cell_type": "code",
      "source": [
        "path = input(\"Enter the path:\")\n",
        "if path.endswith(\".docx\"):\n",
        "  print(\"The path ends with .docx\")\n",
        "else:\n",
        "  print(\"The path doesn't end with .docx\")"
      ],
      "metadata": {
        "id": "WOEvYs_Dn2gg",
        "outputId": "e3fd420b-5a2b-4a0f-a8e2-b0cb47e695d6",
        "colab": {
          "base_uri": "https://localhost:8080/"
        }
      },
      "execution_count": 54,
      "outputs": [
        {
          "output_type": "stream",
          "name": "stdout",
          "text": [
            "Enter the path:sss\n",
            "The path doesn't end with .docx\n"
          ]
        }
      ]
    },
    {
      "cell_type": "markdown",
      "metadata": {
        "id": "Z0-2mn8hjTkB"
      },
      "source": [
        "<div class=\"align-center\" style=\"display: flex; text-align: right; direction: rtl; clear: both;\">\n",
        "    <div style=\"display: flex; width: 10%; float: right; clear: both;\">\n",
        "        <img src=\"https://github.com/PythonFreeCourse/Notebooks/blob/main/content/week02/images/warning.png?raw=1\" style=\"height: 50px !important;\" alt=\"אזהרה!\">\n",
        "    </div>\n",
        "    <div style=\"width: 90%\">\n",
        "        <p style=\"text-align: right; direction: rtl; clear: both;\">\n",
        "            יש נטייה לשכוח את ה־<em>s</em> אחרי ה־<em>end</em> או ה־<em>start</em> ב־<em>end<strong>s</strong>with</em> וב־<em>start<strong>s</strong>with</em>.\n",
        "        </p>\n",
        "    </div>\n",
        "</div>"
      ]
    },
    {
      "cell_type": "markdown",
      "metadata": {
        "id": "M8DIMSmZjTkB"
      },
      "source": [
        "<p style=\"text-align: right; direction: rtl; float: right; clear: both;\">\n",
        "נוכל גם לבדוק אם המחרוזת שלנו היא מסוג מסוים:\n",
        "</p>"
      ]
    },
    {
      "cell_type": "code",
      "execution_count": 55,
      "metadata": {
        "id": "tF0s30nXjTkB",
        "outputId": "942d4ac9-d960-4f6f-9cd0-182a9db07d40",
        "colab": {
          "base_uri": "https://localhost:8080/"
        }
      },
      "outputs": [
        {
          "output_type": "stream",
          "name": "stdout",
          "text": [
            "test2.isalnum(): False\n",
            "test2.isalpha(): False\n",
            "test2.isdecimal(): False\n"
          ]
        }
      ],
      "source": [
        "test2 = \"HELLO WORLD\"\n",
        "print(\"test2.isalnum(): \" + str(test2.isalnum()))\n",
        "print(\"test2.isalpha(): \" + str(test2.isalpha()))\n",
        "print(\"test2.isdecimal(): \" + str(test2.isdecimal()))"
      ]
    },
    {
      "cell_type": "code",
      "execution_count": 56,
      "metadata": {
        "id": "Bsq25tKajTkB",
        "outputId": "e9abbfb1-5636-45d4-99d4-62a8f76e6004",
        "colab": {
          "base_uri": "https://localhost:8080/"
        }
      },
      "outputs": [
        {
          "output_type": "stream",
          "name": "stdout",
          "text": [
            "test3.isalnum(): True\n",
            "test3.isalpha(): False\n",
            "test3.isdecimal(): True\n"
          ]
        }
      ],
      "source": [
        "test3 = \"12345\"\n",
        "print(\"test3.isalnum(): \" + str(test3.isalnum()))\n",
        "print(\"test3.isalpha(): \" + str(test3.isalpha()))\n",
        "print(\"test3.isdecimal(): \" + str(test3.isdecimal()))"
      ]
    },
    {
      "cell_type": "code",
      "execution_count": 57,
      "metadata": {
        "id": "sGaw9G56jTkB",
        "outputId": "bfe98e9c-998d-423e-dcf1-e191c4d7d96e",
        "colab": {
          "base_uri": "https://localhost:8080/"
        }
      },
      "outputs": [
        {
          "output_type": "stream",
          "name": "stdout",
          "text": [
            "test4.isalnum(): True\n",
            "test4.isalpha(): True\n",
            "test4.isdecimal(): False\n"
          ]
        }
      ],
      "source": [
        "test4 = \"HELLOWORLD\"\n",
        "print(\"test4.isalnum(): \" + str(test4.isalnum()))\n",
        "print(\"test4.isalpha(): \" + str(test4.isalpha()))\n",
        "print(\"test4.isdecimal(): \" + str(test4.isdecimal()))"
      ]
    },
    {
      "cell_type": "code",
      "execution_count": 58,
      "metadata": {
        "id": "MwwgUaWHjTkB",
        "outputId": "b51ea0e7-6e13-41fa-ab38-dc4d39d1e4a0",
        "colab": {
          "base_uri": "https://localhost:8080/"
        }
      },
      "outputs": [
        {
          "output_type": "stream",
          "name": "stdout",
          "text": [
            "test5.isalnum(): True\n",
            "test5.isalpha(): False\n",
            "test5.isdecimal(): False\n"
          ]
        }
      ],
      "source": [
        "test5 = \"ABC123\"\n",
        "print(\"test5.isalnum(): \" + str(test5.isalnum()))\n",
        "print(\"test5.isalpha(): \" + str(test5.isalpha()))\n",
        "print(\"test5.isdecimal(): \" + str(test5.isdecimal()))"
      ]
    },
    {
      "cell_type": "markdown",
      "metadata": {
        "id": "gPUKhAnujTkB"
      },
      "source": [
        "## <p style=\"align: right; direction: rtl; float: right; clear: both;\">תרגול</p>"
      ]
    },
    {
      "cell_type": "markdown",
      "metadata": {
        "id": "8ikG6Z8tjTkC"
      },
      "source": [
        "### <p style=\"align: right; direction: rtl; float: right; clear: both;\">נאום גטיסברג</p>"
      ]
    },
    {
      "cell_type": "markdown",
      "metadata": {
        "id": "2hk3GH3zjTkC"
      },
      "source": [
        "<p style=\"text-align: right; direction: rtl; float: right; clear: both;\">\n",
        "השתמשו בטקסט של נאום גטיסברג ובדקו כמה מילים יש בו.<br>\n",
        "בדקו כמה פעמים הופיעו המילים we, here, great, nation ו־dedicated, וחשבו מה שיעורן באחוזים בטקסט כולו.\n",
        "</p>"
      ]
    },
    {
      "cell_type": "code",
      "execution_count": 60,
      "metadata": {
        "id": "fkQ9seVzjTkC"
      },
      "outputs": [],
      "source": [
        "gettysburg_address = \"\"\"\n",
        "Four score and seven years ago our fathers brought forth, on this continent, a new nation, conceived in Liberty, and dedicated to the proposition that all men are created equal.\n",
        "Now we are engaged in a great civil war, testing whether that nation, or any nation so conceived and so dedicated, can long endure. We are met on a great battle-field of that war. We have come to dedicate a portion of that field, as a final resting place for those who here gave their lives that that nation might live. It is altogether fitting and proper that we should do this.\n",
        "But, in a larger sense, we cannot dedicate—we cannot consecrate—we cannot hallow—this ground. The brave men, living and dead, who struggled here, have consecrated it, far above our poor power to add or detract. The world will little note, nor long remember what we say here, but it can never forget what they did here. It is for us the living, rather, to be dedicated here to the unfinished work which they who fought here have thus far so nobly advanced. It is rather for us to be here dedicated to the great task remaining before us—that from these honored dead we take increased devotion to that cause for which they here gave the last full measure of devotion—that we here highly resolve that these dead shall not have died in vain—that this nation, under God, shall have a new birth of freedom—and that government of the people, by the people, for the people, shall not perish from the earth.\n",
        "\"\"\""
      ]
    },
    {
      "cell_type": "markdown",
      "metadata": {
        "id": "Gj7YboWsjTkC"
      },
      "source": [
        "<p style=\"text-align: right; direction: rtl; float: right; clear: both;\">\n",
        "כדי לחשב את שיעורן באחוזים: סִכְמוּ את מספר הפעמים שכל מילה מופיעה בטקסט. הכפילו מספר זה במאה וחלקו בסך המילים בטקסט.\n",
        "</p>"
      ]
    },
    {
      "cell_type": "code",
      "source": [
        "word_list = gettysburg_address.split()\n",
        "num_words = len(word_list)\n",
        "we_percentage = gettysburg_address.count(\"we\") * 100 / num_words\n",
        "here_percentage = gettysburg_address.count(\"here\") * 100 / num_words\n",
        "great_percentage = gettysburg_address.count(\"great\") * 100 / num_words\n",
        "nation_percentage = gettysburg_address.count(\"nation\") * 100 / num_words\n",
        "dedicated_percentage = gettysburg_address.count(\"dedicated\") * 100 / num_words\n",
        "print(we_percentage, here_percentage, great_percentage, nation_percentage, dedicated_percentage)"
      ],
      "metadata": {
        "id": "1mwkTwrXoXDT",
        "outputId": "1b9c23a9-c5ae-479d-8222-da56af30666c",
        "colab": {
          "base_uri": "https://localhost:8080/"
        }
      },
      "execution_count": 64,
      "outputs": [
        {
          "output_type": "stream",
          "name": "stdout",
          "text": [
            "3.435114503816794 3.435114503816794 1.1450381679389312 1.9083969465648856 1.5267175572519085\n"
          ]
        }
      ]
    },
    {
      "cell_type": "markdown",
      "metadata": {
        "id": "HqUbGWJcjTkC"
      },
      "source": [
        "### <p style=\"align: right; direction: rtl; float: right; clear: both;\">חצי חיים</p>"
      ]
    },
    {
      "cell_type": "markdown",
      "metadata": {
        "id": "YqNVxL_PjTkC"
      },
      "source": [
        "<p style=\"text-align: right; direction: rtl; float: right; clear: both;\">\n",
        "קבלו מהמשתמש מילה מסוימת ומשפט.<br>\n",
        "בדקו שתחילת המילה מופיעה לפני החצי של המשפט.<br>\n",
        "היעזרו בדוגמאות כדי לבדוק את עצמכם.\n",
        "</p>"
      ]
    },
    {
      "cell_type": "markdown",
      "metadata": {
        "id": "SwVLW-BJjTkC"
      },
      "source": [
        "<ul style=\"text-align: right; direction: rtl; float: right; clear: both;\">\n",
        "    <li>המילה Love במשפט I Love Chocolate תחזיר <samp>True</samp>, כיוון שהמילה Love מתחילה במקום 2, ואורך חצי המשפט הוא 8.</li>\n",
        "    <li>המילה salad במשפט This is the best salad in town תחזיר <samp>False</samp>, כיוון שהמילה salad מתחילה במקום 17, ואורך חצי המשפט הוא 15.</li>\n",
        "    <li>המילה Meow במשפט \"All you need is Love\" תחזיר <samp>False</samp>, כיוון שהמילה Meow לא נמצאת בשירים של הביטלס (וחבל שכך).</li>\n",
        "</ul>"
      ]
    },
    {
      "cell_type": "code",
      "source": [
        "word = input(\"Enter a word:\")\n",
        "sentence = input(\"Enter a sentence:\")\n",
        "index = sentence.find(word)\n",
        "print(index <= len(sentence)/2 and index != -1)"
      ],
      "metadata": {
        "id": "ME3smg6o4s7s",
        "outputId": "e81c8859-ca89-42b4-d281-ccfbde06c003",
        "colab": {
          "base_uri": "https://localhost:8080/"
        }
      },
      "execution_count": 69,
      "outputs": [
        {
          "output_type": "stream",
          "name": "stdout",
          "text": [
            "Enter a word:Meow\n",
            "Enter a sentence:All you need is Love\n",
            "False\n"
          ]
        }
      ]
    },
    {
      "cell_type": "markdown",
      "metadata": {
        "id": "AXaPAOPGjTkC"
      },
      "source": [
        "### <p style=\"align: right; direction: rtl; float: right; clear: both;\">שיחדש</p>"
      ]
    },
    {
      "cell_type": "markdown",
      "metadata": {
        "id": "0oisQLzxjTkC"
      },
      "source": [
        "<p style=\"text-align: right; direction: rtl; float: right; clear: both;\">\n",
        "בספר המרתק של ג'ורג' אורוול, 1984, הסלוגן של מפלגת השלטון הוא <q>מלחמה היא שלום, חירות היא עבדות, בורות היא כוח</q>.<br>\n",
        "קבלו טקסט מהמשתמש, והחליפו את המילים לפי המילון הבא:\n",
        "</p>"
      ]
    },
    {
      "cell_type": "markdown",
      "metadata": {
        "id": "oDB2d9jkjTkD"
      },
      "source": [
        "<ul style=\"text-align: right; direction: rtl; float: right; clear: both;\">\n",
        "    <li>war תוחלף ל־peace</li>\n",
        "    <li>freedom תוחלף ל־slavery</li>\n",
        "    <li>ignorance תוחלף ל־strength</li>\n",
        "</ul>"
      ]
    },
    {
      "cell_type": "markdown",
      "metadata": {
        "id": "aZiapiLYjTkD"
      },
      "source": [
        "<p style=\"text-align: right; direction: rtl; float: right; clear: both;\">\n",
        "לצורך התרגיל, הניחו שהקלט שהזין המשתמש הוא באותיות קטנות בלבד.\n",
        "</p>"
      ]
    },
    {
      "cell_type": "code",
      "source": [
        "sentence = input(\"Enter a sentence:\")\n",
        "sentence = sentence.replace(\"war\", \"peace\")\n",
        "sentence = sentence.replace(\"freedom\", \"slavery\")\n",
        "sentence = sentence.replace(\"ignorance\", \"strength\")\n",
        "print(sentence)"
      ],
      "metadata": {
        "id": "v_LhNrAz5uLC",
        "outputId": "db827be1-dad0-4582-8708-b71a228d6d60",
        "colab": {
          "base_uri": "https://localhost:8080/"
        }
      },
      "execution_count": 70,
      "outputs": [
        {
          "output_type": "stream",
          "name": "stdout",
          "text": [
            "Enter a sentence:war freedom ignorance\n",
            "peace slavery strength\n"
          ]
        }
      ]
    }
  ],
  "metadata": {
    "kernelspec": {
      "display_name": "Python 3",
      "language": "python",
      "name": "python3"
    },
    "language_info": {
      "codemirror_mode": {
        "name": "ipython",
        "version": 3
      },
      "file_extension": ".py",
      "mimetype": "text/x-python",
      "name": "python",
      "nbconvert_exporter": "python",
      "pygments_lexer": "ipython3",
      "version": "3.9.0"
    },
    "colab": {
      "provenance": []
    }
  },
  "nbformat": 4,
  "nbformat_minor": 0
}