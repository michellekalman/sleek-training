{
  "cells": [
    {
      "cell_type": "markdown",
      "metadata": {
        "id": "5tLerdz_BSOY"
      },
      "source": [
        "<img src=\"https://github.com/PythonFreeCourse/Notebooks/blob/main/content/week02/images/logo.jpg?raw=1\" style=\"display: block; margin-left: auto; margin-right: auto;\" alt=\"לוגו של מיזם לימוד הפייתון. נחש מצויר בצבעי צהוב וכחול, הנע בין האותיות של שם הקורס: לומדים פייתון. הסלוגן המופיע מעל לשם הקורס הוא מיזם חינמי ללימוד תכנות בעברית.\">"
      ]
    },
    {
      "cell_type": "markdown",
      "metadata": {
        "id": "UPryiu9lBSOb"
      },
      "source": [
        "# <p style=\"text-align:right;direction:rtl\">תרגילים</p>"
      ]
    },
    {
      "cell_type": "markdown",
      "metadata": {
        "id": "hwU4HZ1oBSOc"
      },
      "source": [
        "## <p style=\"text-align:right;direction:rtl;\">מערכת בנק</p>"
      ]
    },
    {
      "cell_type": "markdown",
      "metadata": {
        "id": "1JWt0uzSBSOc"
      },
      "source": [
        "<p style=\"text-align:right; direction:rtl;\">\n",
        "בתרגיל הזה נכתוב מערכת מעט חכמה יותר לבנק.<br>\n",
        "    נבנה אותה בשלבים באמצעות חלוקה לפונקציות.<br>\n",
        "בשלב הראשון נבנה פונקציה למחולל סיסמאות, שמקבלת שם משתמש ומחזירה סיסמה.<br>\n",
        "הסיסמה תורכב כך עבור שם משתמש נתון:<br>\n",
        "\n",
        "<ul style=\"text-align:right; direction:rtl;\"><li>שם המשתמש באותיות קטנות ומייד אחריו שם המשתמש באותיות גדולות.\n",
        "    </li><li>הוספת האות <em>\"X\"</em> מימין לשם המשתמש, כמספר התווים בשם המשתמש.</li></ul>\n",
        "</p>\n",
        "<p style=\"text-align:right;direction:rtl;\">שימו לב כי שם המשתמש יכול לכלול ספרות וסימנים, נוסף על אותיות.<br>\n",
        "    כמו כן, לא נאפשר שם משתמש שהוא מחרוזת ריקה. במקרה זה החזירו מחרוזת ריקה.<br>\n",
        "    <br> לדוגמה, עבור שם המשתמש <em>'stam'</em> המחולל יחזיר את הסיסמה: <samp>'stamSTAMXXXX'</samp><br>הריצו את הפונקציה על 4 דוגמאות נוספות לפחות, באורכים שונים, ובדקו שקיבלתם פלט כמצופה.</p>"
      ]
    },
    {
      "cell_type": "code",
      "execution_count": 6,
      "metadata": {
        "id": "SddUDYrIBSOe"
      },
      "outputs": [],
      "source": [
        "def password_generator(username):\n",
        "  if not username:\n",
        "    return \"\"\n",
        "  return username.lower() + username.upper() + \"X\" * len(username)\n"
      ]
    },
    {
      "cell_type": "code",
      "source": [
        "password_generator('')"
      ],
      "metadata": {
        "id": "CzjB9uDRFllf",
        "outputId": "8d5749f7-d52e-40c4-f5e2-15945252596d",
        "colab": {
          "base_uri": "https://localhost:8080/",
          "height": 36
        }
      },
      "execution_count": 8,
      "outputs": [
        {
          "output_type": "execute_result",
          "data": {
            "text/plain": [
              "''"
            ],
            "application/vnd.google.colaboratory.intrinsic+json": {
              "type": "string"
            }
          },
          "metadata": {},
          "execution_count": 8
        }
      ]
    },
    {
      "cell_type": "markdown",
      "metadata": {
        "id": "9HlFo9DzBSOf"
      },
      "source": [
        "<p style=\"text-align:right;direction:rtl;\">הריצו את הפונקציה כך: <code>password_generator('stam')</code>"
      ]
    },
    {
      "cell_type": "markdown",
      "metadata": {
        "id": "7FKDywWMBSOg"
      },
      "source": [
        "<p style=\"text-align:right;direction:rtl;\">כעת נקבל שם משתמש וסיסמה, ונבדוק אם השילוב הוא נכון. בדקו באמצעות מחולל הסיסמאות מהסעיף הקודם אם הסיסמה של המשתמש תואמת את הסיסמה שיוצר המחולל. הדפיסו \"ברוך הבא\" אם הסיסמה נכונה, אחרת הדפיסו \"סיסמה שגויה\".</p>\n",
        "<code>login('stam', 'stamSTAMXXXX')</code><br><samp>Welcome stam!</samp><br><br><code>login('stam', 'mats')</code><br><samp>Wrong Password!</samp>"
      ]
    },
    {
      "cell_type": "code",
      "execution_count": 9,
      "metadata": {
        "id": "dvPc_p_ABSOg"
      },
      "outputs": [],
      "source": [
        "def login(username, password):\n",
        "  if password_generator(username) == password:\n",
        "    print(f\"Welcome {username}!\")\n",
        "  else:\n",
        "    print(\"Wrong Password!\")"
      ]
    },
    {
      "cell_type": "code",
      "source": [
        "login('stam', 'stamSTAMXXXX')"
      ],
      "metadata": {
        "id": "wmBxq0NOGtqt",
        "outputId": "b6419152-1035-4b6a-fe1a-58b9e425495f",
        "colab": {
          "base_uri": "https://localhost:8080/"
        }
      },
      "execution_count": 10,
      "outputs": [
        {
          "output_type": "stream",
          "name": "stdout",
          "text": [
            "Welcome stam!\n"
          ]
        }
      ]
    },
    {
      "cell_type": "code",
      "source": [
        "login('stam', 'mats')"
      ],
      "metadata": {
        "id": "63kLBfmOGx5V",
        "outputId": "25d05823-8303-4779-d19a-4963e3e9e723",
        "colab": {
          "base_uri": "https://localhost:8080/"
        }
      },
      "execution_count": 11,
      "outputs": [
        {
          "output_type": "stream",
          "name": "stdout",
          "text": [
            "Wrong Password!\n"
          ]
        }
      ]
    },
    {
      "cell_type": "markdown",
      "metadata": {
        "id": "5sPqhAEYBSOh"
      },
      "source": [
        "<p style=\"text-align:right;direction:rtl;\">כתבו פונקציה שמחזירה <code>True</code>\n",
        "    אם בוצע חיבור מוצלח, אחרת החזירו <code>False</code>.<br>\n",
        "פונקציה זו דומה מאוד לפונקציה הקודמת שכתבתם, רק שהיא אינה מדפיסה דבר.<br> במקום ההדפסה יוחזר ערך בוליאני מתאים.<br>לדוגמה:<br></p><br><code>login('stam', 'stamSTAMXXXX')</code><br><samp>True</samp><br><code>login('stam', 'mats')</code><br><samp>False</samp><br>"
      ]
    },
    {
      "cell_type": "code",
      "execution_count": 15,
      "metadata": {
        "id": "V3RhbcPeBSOh"
      },
      "outputs": [],
      "source": [
        "def login2(username, password):\n",
        "  if password_generator(username) == password:\n",
        "    return True\n",
        "  else:\n",
        "    return False"
      ]
    },
    {
      "cell_type": "code",
      "source": [
        "login2('stam', 'stamSTAMXXXX')"
      ],
      "metadata": {
        "id": "dqHQWoxQHCVa",
        "outputId": "0976ec52-d544-4875-9eb7-0af7d60f842b",
        "colab": {
          "base_uri": "https://localhost:8080/"
        }
      },
      "execution_count": 16,
      "outputs": [
        {
          "output_type": "execute_result",
          "data": {
            "text/plain": [
              "True"
            ]
          },
          "metadata": {},
          "execution_count": 16
        }
      ]
    },
    {
      "cell_type": "code",
      "source": [
        "login2('stam', 'mats')"
      ],
      "metadata": {
        "id": "QCMzmyVNHDl3",
        "outputId": "f0b2d6f7-53a4-4163-a2f7-6180c7875fb3",
        "colab": {
          "base_uri": "https://localhost:8080/"
        }
      },
      "execution_count": 17,
      "outputs": [
        {
          "output_type": "execute_result",
          "data": {
            "text/plain": [
              "False"
            ]
          },
          "metadata": {},
          "execution_count": 17
        }
      ]
    },
    {
      "cell_type": "markdown",
      "metadata": {
        "id": "vuYQ5_nqBSOh"
      },
      "source": [
        "<p style=\"text-align:right;direction:rtl;\">\n",
        " כעת ענו על השאלה הקודמת באמצעות הפונקציה שכתבתם בסעיף זה, כלומר כתבו פונקציה שמשתמשת בפונקציה המחזירה ערך בוליאני ומדפיסה בהתאם להוראת מהסעיף הקודם.<br>רמז: <span style=\"direction: rtl; background: #000; color: #000\">השתמשו בערך ההחזרה של הפונקציה מהסעיף הקודם, בתוך if.</span></p>\n"
      ]
    },
    {
      "cell_type": "code",
      "execution_count": 20,
      "metadata": {
        "id": "i1l61EA-BSOi"
      },
      "outputs": [],
      "source": [
        "def login(username, password):\n",
        "  if login2(username, password):\n",
        "    print(f\"Welcome {username}!\")\n",
        "  else:\n",
        "    print(\"Wrong Password!\")"
      ]
    },
    {
      "cell_type": "code",
      "source": [
        "login('stam', 'stamSTAMXXXX')"
      ],
      "metadata": {
        "id": "DU6U8KwXHv-u",
        "outputId": "8f0d47a4-c44b-4f26-e2f2-5475254d331e",
        "colab": {
          "base_uri": "https://localhost:8080/"
        }
      },
      "execution_count": 21,
      "outputs": [
        {
          "output_type": "stream",
          "name": "stdout",
          "text": [
            "Welcome stam!\n"
          ]
        }
      ]
    },
    {
      "cell_type": "code",
      "source": [
        "login('stam', 'mats')"
      ],
      "metadata": {
        "id": "I05Z-nzxH5fA",
        "outputId": "70ee0597-eb47-4354-fae2-1bed4eddddde",
        "colab": {
          "base_uri": "https://localhost:8080/"
        }
      },
      "execution_count": 22,
      "outputs": [
        {
          "output_type": "stream",
          "name": "stdout",
          "text": [
            "Wrong Password!\n"
          ]
        }
      ]
    },
    {
      "cell_type": "markdown",
      "metadata": {
        "id": "s4x3tkXIBSOi"
      },
      "source": [
        "<p style=\"text-align:right;direction:rtl;\">כעת נרחיב את מערכת הבנק שלנו.<br>\n",
        "    נניח כי לכל לקוח יש בחשבון הבנק 500 ש\"ח.<br>\n",
        "    באמצעות הפוקנציות הקודמות שכתבנו נממש את התוכנית הבאה:<br>\n",
        "<ul style=\"text-align:right; direction:rtl;\">\n",
        "    <li>נבקש מהמשתמש שם משתמש וסיסמה.</li>\n",
        "    <li>נאמת את שם המשתמש והסיסמה בעזרת מחולל הסיסמאות. אם האימות הצליח נדפיס:\n",
        "        <samp> ?Login succeeded. How much you'd like to withdraw </samp><br>\n",
        "        אחרת נדפיס: <samp>.Login failed</samp></li>\n",
        "    <li>כיון שלמשתמש יש 500 ש\"ח בחשבון, עלינו לוודא שסכום המשיכה אינו גבוה מ־500 ש\"ח. אם הסכום אכן גבוה מ־500 ש\"ח נדפיס:\n",
        "        <samp>.Withdrawal denied</samp></li>\n",
        "    <li>כמו כן, עלינו לוודא כי הסכום אינו שלילי או 0. במקרה זה נדפיס:\n",
        "        <samp>.Invalid amount</samp></li>\n",
        "    <li>אם הסכום חוקי, נדפיס:\n",
        "        <samp>.(Please take your money (amount asked). Your balance is: (amount left in balance</samp></li>\n",
        "</ul>\n",
        "</p>"
      ]
    },
    {
      "cell_type": "markdown",
      "metadata": {
        "id": "d-99IXixBSOj"
      },
      "source": [
        "<p style=\"text-align:right;direction:rtl\">ציירו תחילה על דף תרשים זרימה של הקוד – תרשים מעויינים ללא קוד.\n",
        "זה יעזור לכם במימוש.</p"
      ]
    },
    {
      "cell_type": "markdown",
      "metadata": {
        "id": "SF29qbqKBSOj"
      },
      "source": [
        "### <p style=\"text-align: right; direction: rtl; float: right; clear: both;\">דוגמאות:</p>"
      ]
    },
    {
      "cell_type": "markdown",
      "metadata": {
        "id": "ajyULk2SBSOj"
      },
      "source": [
        "<p style=\"text-align: left; direction: ltr; float: left; clear: both;\">\n",
        "    Insert username: <samp>stam</samp><br>\n",
        "    Insert password: <samp>stamSTAMXXXX</samp><br>\n",
        "    Login succeeded. How much you'd like to withdraw? <samp>200</samp><br>\n",
        "    Please take your money (200NIS). Your balance is: 300NIS.\n",
        "</p>"
      ]
    },
    {
      "cell_type": "markdown",
      "metadata": {
        "id": "NH9v6-QxBSOk"
      },
      "source": [
        "<p style=\"text-align: right; direction: rtl; float: right; clear: both;\">\n",
        "    דוגמה לסיסמה שגויה:\n",
        "</p>\n",
        "<p style=\"text-align: left; direction: ltr; float: left; clear: both;\">\n",
        "    Insert username: <samp>stam</samp><br>\n",
        "    Insert password: <samp>mats</samp><br>\n",
        "    Login failed.\n",
        "</p>"
      ]
    },
    {
      "cell_type": "markdown",
      "metadata": {
        "id": "srTFntI3BSOk"
      },
      "source": [
        "<p style=\"text-align: right; direction: rtl; float: right; clear: both;\">\n",
        "    דוגמה למשיכה לא חוקית:\n",
        "</p>\n",
        "\n",
        "<p style=\"text-align: left; direction: ltr; float: left; clear: both;\">\n",
        "    Insert username: <samp>stam</samp><br>\n",
        "    Insert password: <samp>stamSTAMXXXX</samp><br>\n",
        "    Login succeeded. How much you'd like to withdraw? <samp>600</samp><br>\n",
        "    Withdrawal denied.\n",
        "</p>"
      ]
    },
    {
      "cell_type": "markdown",
      "metadata": {
        "id": "whMSmANuBSOk"
      },
      "source": [
        "<p style=\"text-align:right;direction:rtl;\">דוגמה למשיכה של 0 ש\"ח:</p>\n",
        "\n",
        "<p style=\"text-align: left; direction: ltr; float: left; clear: both;\">\n",
        "    Insert username: <samp>stam</samp><br>\n",
        "    Insert password: <samp>stamSTAMXXXX</samp><br>\n",
        "    Login succeeded. How much you'd like to withdraw? <samp>0</samp><br>\n",
        "    Invalid amount.\n",
        "</p>"
      ]
    },
    {
      "cell_type": "code",
      "execution_count": 25,
      "metadata": {
        "id": "z0Diwc2VBSOl"
      },
      "outputs": [],
      "source": [
        "def withdraw():\n",
        "  username = input(\"Insert username:\")\n",
        "  password = input(\"Insert password:\")\n",
        "  if not login2(username, password):\n",
        "    print(\"Login failed.\")\n",
        "  else:\n",
        "    withdrawl_amount = int(input(\"Login succeeded. How much you'd like to withdraw?\"))\n",
        "    if withdrawl_amount > 500:\n",
        "      print(\"Withdrawal denied.\")\n",
        "    elif withdrawl_amount == 0:\n",
        "      print(\"Invalid amount.\")\n",
        "    else:\n",
        "      print(f\"Please take your money ({withdrawl_amount}NIS). Your balance is: {500 - withdrawl_amount}NIS.\")\n",
        "\n"
      ]
    },
    {
      "cell_type": "code",
      "source": [
        "withdraw()"
      ],
      "metadata": {
        "id": "F_9NKzWbJhWR",
        "outputId": "bfe56caf-77c9-4d0d-9269-4f14ec7f4d67",
        "colab": {
          "base_uri": "https://localhost:8080/"
        }
      },
      "execution_count": 26,
      "outputs": [
        {
          "output_type": "stream",
          "name": "stdout",
          "text": [
            "Insert username:stam\n",
            "Insert password:stamSTAMXXXX\n",
            "Login succeeded. How much you'd like to withdraw?200\n",
            "Please take your money (200NIS). Your balance is: 300NIS.\n"
          ]
        }
      ]
    },
    {
      "cell_type": "markdown",
      "metadata": {
        "id": "KXATlr4qBSOl"
      },
      "source": [
        "<p style=\"text-align: right; direction: rtl; float: right; clear: both;\">\n",
        "    לאחרונה עלתה דרישה לשכלל את הבנק שלנו, כך שרק מספר מצומצם של לקוחות יוכלו לגשת לבנק.<br>\n",
        "    הגדירו רשימה של שמות של לקוחות שעבורם יתאפשר החיבור.<br>\n",
        "    עבור לקוחות שאינם ברשימה יכתוב הבנק <samp>You are not a customer of the bank</samp>.\n",
        "</p>"
      ]
    },
    {
      "cell_type": "code",
      "execution_count": 27,
      "metadata": {
        "id": "me56NvCqBSOl"
      },
      "outputs": [],
      "source": [
        "valid_customers = ['a', 'b', 'c']\n",
        "def is_valid_customer(username):\n",
        "  if username not in valid_customers:\n",
        "    print(\"You are not a customer of the bank.\")\n",
        "    return False\n",
        "  return True"
      ]
    },
    {
      "cell_type": "code",
      "source": [
        "is_valid_customer('a')"
      ],
      "metadata": {
        "id": "bmydt8xZKgNI",
        "outputId": "889dc300-ea51-4a99-cbe2-631740125d00",
        "colab": {
          "base_uri": "https://localhost:8080/"
        }
      },
      "execution_count": 28,
      "outputs": [
        {
          "output_type": "execute_result",
          "data": {
            "text/plain": [
              "True"
            ]
          },
          "metadata": {},
          "execution_count": 28
        }
      ]
    },
    {
      "cell_type": "code",
      "source": [
        "is_valid_customer('d')"
      ],
      "metadata": {
        "id": "5macrRY4KihU",
        "outputId": "189de8a6-01ca-40c6-ad73-ba1792b921ba",
        "colab": {
          "base_uri": "https://localhost:8080/"
        }
      },
      "execution_count": 29,
      "outputs": [
        {
          "output_type": "stream",
          "name": "stdout",
          "text": [
            "You are not a customer of the bank.\n"
          ]
        },
        {
          "output_type": "execute_result",
          "data": {
            "text/plain": [
              "False"
            ]
          },
          "metadata": {},
          "execution_count": 29
        }
      ]
    },
    {
      "cell_type": "markdown",
      "metadata": {
        "id": "7j9cBUgXBSOl"
      },
      "source": [
        "## <p style=\"text-align:right;direction:rtl;\">מתודות של מחרוזות</p>"
      ]
    },
    {
      "cell_type": "markdown",
      "metadata": {
        "id": "r6dWhGAmBSOm"
      },
      "source": [
        "<p style=\"text-align:right;direction:rtl;\"> ניזכר בכמה פעולות של מחרוזות:<br>לכל אחד מהתרגילים הבאים הריצו את הדוגמה וכתבו בעצמכם 3 דוגמאות נוספות. הסבירו לעצמכם מה עושה כל מתודה למחרוזת שהיא מקבלת.<br>\n",
        "אם תרצו להיזכר מה עושה מתודה מסוימת תוכלו להריץ אותה כך:<br></p>\n",
        "<code>str.method-name?</code>\n",
        "<p style=\"text-align:right;direction:rtl;\"> לדוגמה:<br></p>\n",
        "<code>str.split?</code><br>\n",
        "<p style=\"text-align:right;direction:rtl;\"> הריצו את התא הבא לקבלת מידע על המתודה <em>split</em>:<br></p>\n"
      ]
    },
    {
      "cell_type": "code",
      "execution_count": 30,
      "metadata": {
        "id": "JsgohsJPBSOm"
      },
      "outputs": [],
      "source": [
        "str.split?"
      ]
    },
    {
      "cell_type": "code",
      "execution_count": 31,
      "metadata": {
        "id": "AIwYVIBmBSOm",
        "outputId": "8363f274-5084-4129-8387-45372a17ce60",
        "colab": {
          "base_uri": "https://localhost:8080/"
        }
      },
      "outputs": [
        {
          "output_type": "execute_result",
          "data": {
            "text/plain": [
              "['abcdef', 'ghijk', 'xyz']"
            ]
          },
          "metadata": {},
          "execution_count": 31
        }
      ],
      "source": [
        "\"abcdef:ghijk:xyz\".split(\":\")"
      ]
    },
    {
      "cell_type": "code",
      "execution_count": 32,
      "metadata": {
        "id": "DG0iTsqoBSOm",
        "outputId": "71266c64-f58d-4275-ce36-739098c973a7",
        "colab": {
          "base_uri": "https://localhost:8080/"
        }
      },
      "outputs": [
        {
          "output_type": "execute_result",
          "data": {
            "text/plain": [
              "['a', ' b', ' c', ' d']"
            ]
          },
          "metadata": {},
          "execution_count": 32
        }
      ],
      "source": [
        "\"a, b, c, d\".split(\",\")"
      ]
    },
    {
      "cell_type": "code",
      "execution_count": null,
      "metadata": {
        "id": "MmtnnokQBSOn"
      },
      "outputs": [],
      "source": [
        "# כתבו דוגמה למתודה זו"
      ]
    },
    {
      "cell_type": "code",
      "execution_count": null,
      "metadata": {
        "id": "QN3qEPcVBSOn"
      },
      "outputs": [],
      "source": [
        "# כתבו דוגמה למתודה זו"
      ]
    },
    {
      "cell_type": "code",
      "execution_count": 33,
      "metadata": {
        "id": "8a9lRpqwBSOo",
        "outputId": "fbcf2200-ab91-4353-b8ed-546550cea23e",
        "colab": {
          "base_uri": "https://localhost:8080/",
          "height": 36
        }
      },
      "outputs": [
        {
          "output_type": "execute_result",
          "data": {
            "text/plain": [
              "'0543'"
            ],
            "application/vnd.google.colaboratory.intrinsic+json": {
              "type": "string"
            }
          },
          "metadata": {},
          "execution_count": 33
        }
      ],
      "source": [
        "\"543\".zfill(4)"
      ]
    },
    {
      "cell_type": "code",
      "execution_count": 34,
      "metadata": {
        "id": "ZfnK9dP8BSOo",
        "outputId": "214944a4-a95a-4048-e206-1c291caff7cb",
        "colab": {
          "base_uri": "https://localhost:8080/",
          "height": 36
        }
      },
      "outputs": [
        {
          "output_type": "execute_result",
          "data": {
            "text/plain": [
              "'00000056'"
            ],
            "application/vnd.google.colaboratory.intrinsic+json": {
              "type": "string"
            }
          },
          "metadata": {},
          "execution_count": 34
        }
      ],
      "source": [
        "\"56\".zfill(8)"
      ]
    },
    {
      "cell_type": "code",
      "execution_count": null,
      "metadata": {
        "id": "etPI7OcLBSOp"
      },
      "outputs": [],
      "source": [
        "# כתבו דוגמה למתודה זו"
      ]
    },
    {
      "cell_type": "code",
      "execution_count": null,
      "metadata": {
        "id": "xEotI1CWBSOq"
      },
      "outputs": [],
      "source": [
        "# כתבו דוגמה למתודה זו"
      ]
    },
    {
      "cell_type": "code",
      "execution_count": 35,
      "metadata": {
        "id": "83to9reVBSOr",
        "outputId": "c86163df-1845-4c83-f5e0-efb2175acc65",
        "colab": {
          "base_uri": "https://localhost:8080/",
          "height": 36
        }
      },
      "outputs": [
        {
          "output_type": "execute_result",
          "data": {
            "text/plain": [
              "'NOW I AM A LOWERCASE STRING, ONE DAY I WILL BE UPPER'"
            ],
            "application/vnd.google.colaboratory.intrinsic+json": {
              "type": "string"
            }
          },
          "metadata": {},
          "execution_count": 35
        }
      ],
      "source": [
        "\"now i am a lowercase string, one day i will be upper\".upper()"
      ]
    },
    {
      "cell_type": "code",
      "execution_count": null,
      "metadata": {
        "id": "SMYUDZtTBSOr"
      },
      "outputs": [],
      "source": [
        "# כתבו דוגמה למתודה זו"
      ]
    },
    {
      "cell_type": "code",
      "execution_count": null,
      "metadata": {
        "id": "sJqbb-I0BSOs"
      },
      "outputs": [],
      "source": [
        "# כתבו דוגמה למתודה זו"
      ]
    },
    {
      "cell_type": "code",
      "execution_count": null,
      "metadata": {
        "id": "L3jXM-eMBSOs"
      },
      "outputs": [],
      "source": [
        "# כתבו דוגמה למתודה זו"
      ]
    },
    {
      "cell_type": "code",
      "execution_count": 36,
      "metadata": {
        "id": "BqNkta0OBSOs",
        "outputId": "146a971b-db7a-425e-c293-cbad89be90f5",
        "colab": {
          "base_uri": "https://localhost:8080/",
          "height": 36
        }
      },
      "outputs": [
        {
          "output_type": "execute_result",
          "data": {
            "text/plain": [
              "'i am an uppercase string. i am afraid to be lowered!'"
            ],
            "application/vnd.google.colaboratory.intrinsic+json": {
              "type": "string"
            }
          },
          "metadata": {},
          "execution_count": 36
        }
      ],
      "source": [
        "\"I AM AN UPPERCASE STRING. I AM AFRAID TO BE LOWERED!\".lower()"
      ]
    },
    {
      "cell_type": "code",
      "execution_count": null,
      "metadata": {
        "id": "S_XerakXBSOt"
      },
      "outputs": [],
      "source": [
        "# כתבו דוגמה למתודה זו"
      ]
    },
    {
      "cell_type": "code",
      "execution_count": null,
      "metadata": {
        "id": "dJtezgZlBSOt"
      },
      "outputs": [],
      "source": [
        "# כתבו דוגמה למתודה זו"
      ]
    },
    {
      "cell_type": "code",
      "execution_count": null,
      "metadata": {
        "id": "OU-2fXyoBSOu"
      },
      "outputs": [],
      "source": [
        "# כתבו דוגמה למתודה זו"
      ]
    },
    {
      "cell_type": "code",
      "execution_count": 37,
      "metadata": {
        "id": "iL_GFBWsBSOu",
        "outputId": "416aab20-4566-4d0f-c514-0d44d6ae2299",
        "colab": {
          "base_uri": "https://localhost:8080/",
          "height": 36
        }
      },
      "outputs": [
        {
          "output_type": "execute_result",
          "data": {
            "text/plain": [
              "'wow! I am using underscore as space!'"
            ],
            "application/vnd.google.colaboratory.intrinsic+json": {
              "type": "string"
            }
          },
          "metadata": {},
          "execution_count": 37
        }
      ],
      "source": [
        "\"wow!_I_am_using_underscore_as_space!\".replace(\"_\", \" \")"
      ]
    },
    {
      "cell_type": "code",
      "execution_count": null,
      "metadata": {
        "id": "y8uf5mbYBSOu"
      },
      "outputs": [],
      "source": [
        "# כתבו דוגמה למתודה זו"
      ]
    },
    {
      "cell_type": "code",
      "execution_count": null,
      "metadata": {
        "id": "oonSWjrYBSOu"
      },
      "outputs": [],
      "source": [
        "# כתבו דוגמה למתודה זו"
      ]
    },
    {
      "cell_type": "code",
      "execution_count": null,
      "metadata": {
        "id": "CLVRwyICBSOu"
      },
      "outputs": [],
      "source": [
        "# כתבו דוגמה למתודה זו"
      ]
    },
    {
      "cell_type": "code",
      "execution_count": 38,
      "metadata": {
        "id": "PTYLnbbLBSOu",
        "outputId": "79f42313-4472-41c2-c60e-b21f50c443b2",
        "colab": {
          "base_uri": "https://localhost:8080/",
          "height": 36
        }
      },
      "outputs": [
        {
          "output_type": "execute_result",
          "data": {
            "text/plain": [
              "'i need some spaceeeeeeee'"
            ],
            "application/vnd.google.colaboratory.intrinsic+json": {
              "type": "string"
            }
          },
          "metadata": {},
          "execution_count": 38
        }
      ],
      "source": [
        "\"                    i need some spaceeeeeeee                            \".strip()"
      ]
    },
    {
      "cell_type": "code",
      "execution_count": null,
      "metadata": {
        "id": "P4BXNaHdBSOv"
      },
      "outputs": [],
      "source": [
        "# כתבו דוגמה למתודה זו"
      ]
    },
    {
      "cell_type": "code",
      "execution_count": null,
      "metadata": {
        "id": "kzdTbNFGBSOv"
      },
      "outputs": [],
      "source": [
        "# כתבו דוגמה למתודה זו"
      ]
    },
    {
      "cell_type": "code",
      "execution_count": 41,
      "metadata": {
        "id": "eGG0Zt3PBSOv"
      },
      "outputs": [],
      "source": [
        "str.isalnum?"
      ]
    },
    {
      "cell_type": "code",
      "execution_count": 39,
      "metadata": {
        "id": "GX2q9-UpBSOv",
        "outputId": "0e4a0f6e-0b66-4ce2-ebae-e1b16b47421a",
        "colab": {
          "base_uri": "https://localhost:8080/"
        }
      },
      "outputs": [
        {
          "output_type": "execute_result",
          "data": {
            "text/plain": [
              "False"
            ]
          },
          "metadata": {},
          "execution_count": 39
        }
      ],
      "source": [
        "\"i^wonder&if@all##characters$in%%%this string are alpha-numeric???\".isalnum()"
      ]
    },
    {
      "cell_type": "code",
      "execution_count": 40,
      "metadata": {
        "id": "HNO8PJFJBSOv",
        "outputId": "0fdbc546-29ae-466c-f7f0-d8d02415bdc9",
        "colab": {
          "base_uri": "https://localhost:8080/"
        }
      },
      "outputs": [
        {
          "output_type": "execute_result",
          "data": {
            "text/plain": [
              "True"
            ]
          },
          "metadata": {},
          "execution_count": 40
        }
      ],
      "source": [
        "\"onlylettersandnumbers2342343\".isalnum()"
      ]
    },
    {
      "cell_type": "code",
      "execution_count": null,
      "metadata": {
        "id": "EwqvfFlmBSOw"
      },
      "outputs": [],
      "source": [
        "# כתבו דוגמה למתודה זו"
      ]
    },
    {
      "cell_type": "code",
      "execution_count": null,
      "metadata": {
        "id": "QXab2KW4BSOw"
      },
      "outputs": [],
      "source": [
        "# כתבו דוגמה למתודה זו"
      ]
    },
    {
      "cell_type": "code",
      "execution_count": null,
      "metadata": {
        "id": "2JBKx9PkBSOw"
      },
      "outputs": [],
      "source": [
        "# כתבו דוגמה למתודה זו"
      ]
    },
    {
      "cell_type": "code",
      "execution_count": 42,
      "metadata": {
        "id": "eex-h-lfBSOw",
        "outputId": "ff70fcd2-891f-4dc2-90a1-82bf3b5c7004",
        "colab": {
          "base_uri": "https://localhost:8080/"
        }
      },
      "outputs": [
        {
          "output_type": "execute_result",
          "data": {
            "text/plain": [
              "True"
            ]
          },
          "metadata": {},
          "execution_count": 42
        }
      ],
      "source": [
        "\"lettersonly\".isalpha()"
      ]
    },
    {
      "cell_type": "code",
      "execution_count": null,
      "metadata": {
        "id": "c-tIe1ztBSOw"
      },
      "outputs": [],
      "source": [
        "# כתבו דוגמה למתודה זו"
      ]
    },
    {
      "cell_type": "code",
      "execution_count": null,
      "metadata": {
        "id": "2kFf_7NXBSOx"
      },
      "outputs": [],
      "source": [
        "# כתבו דוגמה למתודה זו"
      ]
    },
    {
      "cell_type": "code",
      "execution_count": null,
      "metadata": {
        "id": "0I8eJv1ZBSOx"
      },
      "outputs": [],
      "source": [
        "# כתבו דוגמה למתודה זו"
      ]
    },
    {
      "cell_type": "code",
      "execution_count": 43,
      "metadata": {
        "id": "yR8JN0YLBSOx",
        "outputId": "d6d23bd3-6f2e-4fdd-caea-e2c9448418f0",
        "colab": {
          "base_uri": "https://localhost:8080/"
        }
      },
      "outputs": [
        {
          "output_type": "execute_result",
          "data": {
            "text/plain": [
              "True"
            ]
          },
          "metadata": {},
          "execution_count": 43
        }
      ],
      "source": [
        "\"4535354353\".isdecimal()"
      ]
    },
    {
      "cell_type": "code",
      "execution_count": null,
      "metadata": {
        "id": "epKGestJBSOx"
      },
      "outputs": [],
      "source": [
        "# כתבו דוגמה למתודה זו"
      ]
    },
    {
      "cell_type": "code",
      "execution_count": null,
      "metadata": {
        "id": "xXRRapDPBSOx"
      },
      "outputs": [],
      "source": [
        "# כתבו דוגמה למתודה זו"
      ]
    },
    {
      "cell_type": "code",
      "execution_count": null,
      "metadata": {
        "id": "6vHmwHE-BSOx"
      },
      "outputs": [],
      "source": [
        "# כתבו דוגמה למתודה זו"
      ]
    },
    {
      "cell_type": "markdown",
      "metadata": {
        "id": "SJbcJ6iyBSOy"
      },
      "source": [
        "## <p style=\"text-align:right;direction:rtl;\">שעון עולמי</p>"
      ]
    },
    {
      "cell_type": "markdown",
      "metadata": {
        "id": "GW6sUsl-BSOy"
      },
      "source": [
        "<p style=\"text-align:right;direction:rtl;\">בשאלה זו נכתוב גרסה של שעון עולמי התומך ב־4 אזורי זמן:<br>\n",
        "\n",
        "<ul style=\"text-align: right; direction: rtl; float: right; clear: both;\">\n",
        "    <li>תל אביב – TLV</li>\n",
        "    <li>לונדון – LDN</li>\n",
        "    <li>ניו יורק – NYC</li>\n",
        "    <li>טוקיו – TYO</li>\n",
        "</ul>\n",
        "\n",
        "<p style=\"text-align: right; direction: rtl; float: right; clear: both;\">\n",
        "אם נקבל תל אביב, נחזיר את השעה בתוספת 3 שעות.<br>\n",
        "אם נקבל ניו יורק נחזיר את השעה פחות 4.<br>\n",
        "אם נקבל טוקיו נחזיר את השעה ועוד 9.<br>\n",
        "בכל מקרה אחר נחזיר את השעה כמו שקיבלנו אותה.\n",
        "</p>\n"
      ]
    },
    {
      "cell_type": "markdown",
      "metadata": {
        "id": "NGORz4eDBSOz"
      },
      "source": [
        "<p style=\"text-align:right;direction:rtl;\">השעון שלנו בתרגיל זה הוא שעון 24 שעות בפורמט HH:MM.</p>\n",
        "<p style=\"text-align:right;direction:rtl;\">תחילה, כתבו פונקציה המקבלת את השעה בפורמט HH:MM, ומקבלת את מספר השעות שיש להוסיף או להוריד מהשעה הנתונה, ומחזירה את השעה המעודכנת.</p><br>\n",
        "<code>time_shift(\"08:44\", 1)</code><br>\n",
        "<samp style=\"text-align:left;direction:ltr;\">\"09:44\"</samp><br>\n",
        "<code>time_shift(\"07:31\", -2)</code><br>\n",
        "<samp>\"05:31\"</samp>\n",
        "<p style=\"text-align:right;direction:rtl;\">כמו כן עליכם לוודא שמוכנסת שעה חוקית, ולהדפיס שגיאה אם לא:</p><br>\n",
        "<code>time_shift(\"32:12\", 4)</code><br>\n",
        "<samp>\"Invalid time inserted\"</samp>\n",
        "<p style=\"text-align:right;direction:rtl;\">נוסף לכך, עליכם לתמוך במעברים בין יממות. כלומר עליכם לבצע נכון פעולות מסוג זה:</p><br>\n",
        "<code>time_shift(\"23:30\", 2)</code><br>\n",
        "<samp>\"01:30\"</samp><br>\n",
        "<code>time_shift(\"04:13\", -5)</code><br>\n",
        "<samp>\"23:13\"</samp>"
      ]
    },
    {
      "cell_type": "code",
      "execution_count": 53,
      "metadata": {
        "id": "Ss-ZU4riBSOz"
      },
      "outputs": [],
      "source": [
        "def time_shift(time, shift):\n",
        "  splitted_time = time.split(\":\")\n",
        "  hour = int(splitted_time[0])\n",
        "  minute = int(splitted_time[1])\n",
        "\n",
        "  if not check_valid_hour(hour) or not check_valid_minute(minute):\n",
        "    print(\"Invalid time inserted\")\n",
        "    return\n",
        "\n",
        "  hour = (hour + shift) % 24\n",
        "\n",
        "  return \":\".join([str.zfill(str(hour), 2), str(minute)])\n",
        "\n",
        "\n",
        "\n",
        "def check_valid_hour(hour):\n",
        "  return 0 <= hour <= 23\n",
        "\n",
        "def check_valid_minute(minute):\n",
        "  return 0 <= minute <= 59"
      ]
    },
    {
      "cell_type": "code",
      "source": [
        "time_shift(\"04:13\", -5)"
      ],
      "metadata": {
        "id": "JPvCT8VaXkIy",
        "outputId": "d4f6c422-27e8-4336-bfc3-bbf9eeae2ba8",
        "colab": {
          "base_uri": "https://localhost:8080/",
          "height": 36
        }
      },
      "execution_count": 59,
      "outputs": [
        {
          "output_type": "execute_result",
          "data": {
            "text/plain": [
              "'23:13'"
            ],
            "application/vnd.google.colaboratory.intrinsic+json": {
              "type": "string"
            }
          },
          "metadata": {},
          "execution_count": 59
        }
      ]
    },
    {
      "cell_type": "markdown",
      "metadata": {
        "id": "r3R7XBX4BSOz"
      },
      "source": [
        "## <p style=\"text-align:right;direction:right;\">רמזים</p>"
      ]
    },
    {
      "cell_type": "markdown",
      "metadata": {
        "id": "qoxS7aeUBSOz"
      },
      "source": [
        "<p style=\"text-align:right;direction:rtl;\">פונקציות שימושיות:\n",
        "    <span style=\"direction: rtl; background: #000; color: #000\"><br><em>split</em> – מתודה של <em>string</em>.<br>\n",
        "        האופרטור % (מודולו) – חשבו עם איזה מספר צריך לעשות מודולו.<br>\n",
        "        <em>zfill</em> – השתמשו בה במקרה שהשעה חד־ספרתית (לדוגמה 1:05 תהפוך ל־01:05) </span>\n",
        "   \n",
        "<p style=\"text-align:right;direction:rtl;\">רמזים נוספים:<br>\n",
        "    <span style=\"direction: rtl; background: #000; color: #000\">מומלץ להמיר את השעה מ־<em>string</em> ל־<em>int</em> ואז לבצע את פעולות החשבון, ולבסוף להמיר חזרה ל־<em>string</em>\n",
        "    </span>\n",
        "</p>"
      ]
    },
    {
      "cell_type": "markdown",
      "metadata": {
        "id": "6P5bJIfdBSOz"
      },
      "source": [
        "<p style=\"text-align:right;direction:rtl;\"> כעת כתבו פונקציה המקבלת שני פרמטרים – שעה ואזור זמן ובאמצעות הפונקציה מהתרגיל הקודם מחזירה את השעה באזור הזמן המבוקש.\n",
        "<br>\n",
        "    לדוגמה:\n",
        "</p>\n",
        "<p style=\"text-align:left;direction:ltr;\">\n",
        "    <code>convert_to_timezone(\"10:34\", \"TLV\")</code>\n",
        "    <br>\n",
        "    <samp>\"13:34\"</samp>\n",
        "</p>"
      ]
    },
    {
      "cell_type": "code",
      "execution_count": 60,
      "metadata": {
        "id": "GHzFNtL3BSO0"
      },
      "outputs": [],
      "source": [
        "time_zone_shifts = {\"TLV\":3, \"NYC\":-4, \"TYO\":9}\n",
        "def convert_to_timezone(time, time_zone):\n",
        "  if time_zone in time_zone_shifts:\n",
        "    return time_shift(time, time_zone_shifts[time_zone])\n",
        "  else:\n",
        "    return time\n",
        ""
      ]
    },
    {
      "cell_type": "code",
      "source": [
        "convert_to_timezone(\"10:34\", \"TLV\")"
      ],
      "metadata": {
        "id": "ocQsgcjOb4ea",
        "outputId": "c7b86eab-664a-48ed-8b28-96667bc867a6",
        "colab": {
          "base_uri": "https://localhost:8080/",
          "height": 36
        }
      },
      "execution_count": 61,
      "outputs": [
        {
          "output_type": "execute_result",
          "data": {
            "text/plain": [
              "'13:34'"
            ],
            "application/vnd.google.colaboratory.intrinsic+json": {
              "type": "string"
            }
          },
          "metadata": {},
          "execution_count": 61
        }
      ]
    },
    {
      "cell_type": "markdown",
      "metadata": {
        "id": "t55CoxoMBSO0"
      },
      "source": [
        "## <span style=\"text-align: right; direction:rtl; float: right; clear: both;\">אורכי רשימות</span>"
      ]
    },
    {
      "cell_type": "markdown",
      "metadata": {
        "id": "zkF5wHZWBSO0"
      },
      "source": [
        "<p style=\"text-align: right; direction: rtl; float: right; clear: both;\">\n",
        "    כתבו תוכנית שמקבלת 2 רשימות שונות, ומדפיסה:\n",
        "</p>\n",
        "\n",
        "<ul style=\"text-align: right; direction: rtl; float: right; clear: both;\">\n",
        " <li>\"<samp>Same length</samp>\" אם הן באותו אורך.</li>\n",
        " <li>\"<samp>Not same length</samp>\" אם הן באורך שונה.</li>\n",
        " <li>\"<samp>Got empty list</samp>\" אם רשימה שקיבלנו היא באורך 0.</li>\n",
        "</ul>\n",
        "\n",
        "<p style=\"text-align: right; direction: rtl; float: right; clear: both;\">\n",
        "    לדוגמה – אם קיבלנו 2 רשימות ריקות, נדפיס:<br>\n",
        "    <samp style=\"text-align: left; direction: ltr; float: left; clear: both;\">\n",
        "        \"Got empty list\"\n",
        "        \"Got empty list\"\n",
        "        \"Same length\"\n",
        "    </samp>\n",
        "</p>"
      ]
    },
    {
      "cell_type": "code",
      "execution_count": 62,
      "metadata": {
        "id": "GHrdamo5BSO0"
      },
      "outputs": [],
      "source": [
        "def check_length(l1, l2):\n",
        "  l1_len = len(l1)\n",
        "  l2_len = len(l2)\n",
        "  if not l1:\n",
        "    print(\"Got empty list\")\n",
        "  if not l2:\n",
        "    print(\"Got empty list\")\n",
        "  if l1_len == l2_len:\n",
        "    print(\"Same length\")\n",
        "  else:\n",
        "    print(\"Not same length\")"
      ]
    },
    {
      "cell_type": "code",
      "source": [
        "check_length([], [])"
      ],
      "metadata": {
        "id": "Brv7amUhcpA2",
        "outputId": "541fde35-2852-4596-d931-89b7a22eef82",
        "colab": {
          "base_uri": "https://localhost:8080/"
        }
      },
      "execution_count": 63,
      "outputs": [
        {
          "output_type": "stream",
          "name": "stdout",
          "text": [
            "Got empty list\n",
            "Got empty list\n",
            "Same length\n"
          ]
        }
      ]
    },
    {
      "cell_type": "code",
      "source": [
        "check_length([1], [1, 2])"
      ],
      "metadata": {
        "id": "Nx15SGCZcsNN",
        "outputId": "197cebe4-707b-4231-9075-93e906082ce7",
        "colab": {
          "base_uri": "https://localhost:8080/"
        }
      },
      "execution_count": 64,
      "outputs": [
        {
          "output_type": "stream",
          "name": "stdout",
          "text": [
            "Not same length\n"
          ]
        }
      ]
    },
    {
      "cell_type": "code",
      "source": [
        "check_length([1, 6], [1, 2])"
      ],
      "metadata": {
        "id": "MEJimCt2cvPs",
        "outputId": "d9746532-9469-4ce8-a09d-fd3477631f87",
        "colab": {
          "base_uri": "https://localhost:8080/"
        }
      },
      "execution_count": 65,
      "outputs": [
        {
          "output_type": "stream",
          "name": "stdout",
          "text": [
            "Same length\n"
          ]
        }
      ]
    },
    {
      "cell_type": "markdown",
      "metadata": {
        "id": "yA0D05rRBSO1"
      },
      "source": [
        "## <span style=\"text-align: right; direction:rtl; float: right; clear: both;\">מיקומים</span>"
      ]
    },
    {
      "cell_type": "markdown",
      "metadata": {
        "id": "wQATaWNEBSO1"
      },
      "source": [
        "<p style=\"text-align: right; direction: rtl; float: right; clear: both;\">\n",
        "כתבו פונקציה שמקבלת רשימה של רשימות.<br>\n",
        "אם הרשימה החיצונית לא באורך 6, הפונקציה תדפיס <samp>Only lists of length 6 are allowed</samp>.<br>\n",
        "הפונקציה תדפיס \"<samp dir=\"ltr\">Yes!</samp>\" אם אחד מהבאים מתקיים:\n",
        "</p>\n",
        "\n",
        "<ul style=\"text-align: right; direction: rtl; float: right; clear: both;\">\n",
        "    <li>אורך הרשימה במקום ה־0 שווה לאורך הרשימה במקום ה־4</li>\n",
        "    <li>אורך הרשימה במקום ה־3 שווה לאורך הרשימה במקום ה־2 וה־1</li>\n",
        "    <li>אורך הרשימה במקום ה־5 שווה לאורך הרשימה במקום ה־3</li>\n",
        "</ul>\n",
        "   \n",
        "<p style=\"text-align: right; direction: rtl; float: right; clear: both;\">\n",
        "הפונקציה תדפיס \"<samp dir=\"ltr\">Yes!</samp>\" עבור כל תנאי שמתקיים, גם אם קיים יותר מאחד כזה.<br>\n",
        "לדוגמה, עבור:<br>\n",
        "<code dir=\"ltr\" style=\"direction: ltr;\">multi = [[0], [1], [2], [3], [4], [5]]</code><br>\n",
        "כל התנאים מתקיימים, ולכן נדפיס \"<samp dir=\"ltr\">Yes!</samp>\" 3 פעמים.\n",
        "</p>\n",
        "\n",
        "<p style=\"text-align: right; direction: rtl; float: right; clear: both;\">\n",
        "כתבו לפחות 3 דוגמאות שונות שמדגימות:\n",
        "</p>\n",
        "\n",
        "<ul style=\"text-align: right; direction: rtl; float: right; clear: both;\">\n",
        "    <li>אפס הדפסות</li>\n",
        "    <li>הדפסה אחת</li>\n",
        "    <li>שתי הדפסות</li>\n",
        "    <li>שלוש הדפסות</li>\n",
        "</ul>"
      ]
    },
    {
      "cell_type": "code",
      "execution_count": 66,
      "metadata": {
        "id": "of4ima9TBSO1"
      },
      "outputs": [],
      "source": [
        "def lists_check(l):\n",
        "  if not len(l) == 6:\n",
        "    print(\"Only lists of length 6 are allowed.\")\n",
        "    return\n",
        "  if len(l[0]) == len(l[4]):\n",
        "    print(\"Yes!\")\n",
        "  if len(l[3]) == len(l[2]) == len(l[1]):\n",
        "    print(\"Yes!\")\n",
        "  if len(l[5]) == len(l[3]):\n",
        "    print(\"Yes!\")"
      ]
    },
    {
      "cell_type": "code",
      "source": [
        "lists_check([[0], [1], [2], [3], [4], [5]])"
      ],
      "metadata": {
        "id": "yFDvcOX5dpqk",
        "outputId": "9ccba578-1248-41e9-f6c7-c1d6ec8e82a1",
        "colab": {
          "base_uri": "https://localhost:8080/"
        }
      },
      "execution_count": 67,
      "outputs": [
        {
          "output_type": "stream",
          "name": "stdout",
          "text": [
            "Yes!\n",
            "Yes!\n",
            "Yes!\n"
          ]
        }
      ]
    },
    {
      "cell_type": "code",
      "source": [
        "lists_check([[0, 2], [1], [2], [3], [4], [5]])"
      ],
      "metadata": {
        "id": "zdpG9Bfqdpyi",
        "outputId": "1e024108-16fd-4933-c511-0509770fc054",
        "colab": {
          "base_uri": "https://localhost:8080/"
        }
      },
      "execution_count": 68,
      "outputs": [
        {
          "output_type": "stream",
          "name": "stdout",
          "text": [
            "Yes!\n",
            "Yes!\n"
          ]
        }
      ]
    },
    {
      "cell_type": "code",
      "source": [
        "lists_check([[0, 2], [1], [2], [3], [4], [5, 8]])"
      ],
      "metadata": {
        "id": "gXVUJHVkdp63",
        "outputId": "4422b3cb-5624-4a8c-9c77-922f265e2a5a",
        "colab": {
          "base_uri": "https://localhost:8080/"
        }
      },
      "execution_count": 69,
      "outputs": [
        {
          "output_type": "stream",
          "name": "stdout",
          "text": [
            "Yes!\n"
          ]
        }
      ]
    },
    {
      "cell_type": "code",
      "source": [
        "lists_check([[0, 2], [1, 8], [2], [3], [4], [5, 8]])"
      ],
      "metadata": {
        "id": "XVdBDjTxd69f"
      },
      "execution_count": 70,
      "outputs": []
    }
  ],
  "metadata": {
    "kernelspec": {
      "display_name": "Python 3",
      "language": "python",
      "name": "python3"
    },
    "language_info": {
      "codemirror_mode": {
        "name": "ipython",
        "version": 3
      },
      "file_extension": ".py",
      "mimetype": "text/x-python",
      "name": "python",
      "nbconvert_exporter": "python",
      "pygments_lexer": "ipython3",
      "version": "3.7.6"
    },
    "colab": {
      "provenance": []
    }
  },
  "nbformat": 4,
  "nbformat_minor": 0
}