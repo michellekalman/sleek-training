{
  "cells": [
    {
      "cell_type": "markdown",
      "metadata": {
        "id": "Pt1tgTfqZ7Sc"
      },
      "source": [
        "<img src=\"https://github.com/PythonFreeCourse/Notebooks/blob/main/content/week02/images/logo.jpg?raw=1\" style=\"display: block; margin-left: auto; margin-right: auto;\" alt=\"לוגו של מיזם לימוד הפייתון. נחש מצויר בצבעי צהוב וכחול, הנע בין האותיות של שם הקורס: לומדים פייתון. הסלוגן המופיע מעל לשם הקורס הוא מיזם חינמי ללימוד תכנות בעברית.\">"
      ]
    },
    {
      "cell_type": "markdown",
      "metadata": {
        "id": "c5X_e-KIZ7Sj"
      },
      "source": [
        "# <p style=\"align: right; direction: rtl; float: right;\">תנאים</p>"
      ]
    },
    {
      "cell_type": "markdown",
      "metadata": {
        "id": "ujNufrKgZ7Sj"
      },
      "source": [
        "<p style=\"text-align: right; direction: rtl; float: right;\">\n",
        "ברוכים הבאים לשבוע השני של הקורס!<br>\n",
        "אנחנו פותחים את השבוע בנושא מעניין; הראשון שיאפשר לנו ליצור תוכניות מורכבות שמקבלות החלטות.<br>\n",
        "</p>"
      ]
    },
    {
      "cell_type": "markdown",
      "metadata": {
        "id": "IhXfQBuvZ7Sk"
      },
      "source": [
        "## <p style=\"align: right; direction: rtl; float: right;\">ביטויים בוליאניים</p>"
      ]
    },
    {
      "cell_type": "markdown",
      "metadata": {
        "id": "njM9BEZsZ7Sl"
      },
      "source": [
        "<p style=\"text-align: right; direction: rtl; float: right;\">\n",
        "נתחיל בתזכורת בנוגע לביטויים בוליאניים, שאותם הכרנו בשבוע שעבר:\n",
        "</p>"
      ]
    },
    {
      "cell_type": "code",
      "execution_count": 1,
      "metadata": {
        "id": "Rki9p3AeZ7Sm",
        "outputId": "da5c87cd-0157-4516-9193-b07eff83d6b7",
        "colab": {
          "base_uri": "https://localhost:8080/"
        }
      },
      "outputs": [
        {
          "output_type": "stream",
          "name": "stdout",
          "text": [
            "False\n"
          ]
        }
      ],
      "source": [
        "print(\"hello\" == \"Hello\")"
      ]
    },
    {
      "cell_type": "code",
      "execution_count": 2,
      "metadata": {
        "id": "E0e6a4rUZ7Sn",
        "outputId": "1cfbd234-ff29-439b-a3b9-e4a196166559",
        "colab": {
          "base_uri": "https://localhost:8080/"
        }
      },
      "outputs": [
        {
          "output_type": "stream",
          "name": "stdout",
          "text": [
            "False\n"
          ]
        }
      ],
      "source": [
        "print(1 > 2)"
      ]
    },
    {
      "cell_type": "code",
      "execution_count": 3,
      "metadata": {
        "id": "J6wnxfVlZ7Sn",
        "outputId": "9332f079-76be-49eb-d4de-ade59174b915",
        "colab": {
          "base_uri": "https://localhost:8080/"
        }
      },
      "outputs": [
        {
          "output_type": "stream",
          "name": "stdout",
          "text": [
            "True\n"
          ]
        }
      ],
      "source": [
        "print(2 * 3 == 1 or 1 + 1 == 2)"
      ]
    },
    {
      "cell_type": "code",
      "execution_count": 4,
      "metadata": {
        "id": "szCfqLgnZ7So",
        "outputId": "4423eda3-6eb0-4c08-9ca0-bc4121a2f1c6",
        "colab": {
          "base_uri": "https://localhost:8080/"
        }
      },
      "outputs": [
        {
          "output_type": "stream",
          "name": "stdout",
          "text": [
            "False\n"
          ]
        }
      ],
      "source": [
        "print('a' + 'b' == 'ab' and not 1 + 2 == 3)"
      ]
    },
    {
      "cell_type": "markdown",
      "metadata": {
        "id": "c-0URyYVZ7Sp"
      },
      "source": [
        "<p style=\"text-align: right; direction: rtl; float: right;\">\n",
        "אם כן, ביטויים בוליאניים הם ביטויים שתוצאתם היא <code>True</code> או <code>False</code>.<br>\n",
        "לעיתים קרובות ביטויים אלו יכללו אופרטורים לוגיים, כמו <code>and</code>, <code>or</code> ו־<code>not</code>.\n",
        "</p>"
      ]
    },
    {
      "cell_type": "markdown",
      "metadata": {
        "id": "cJF1nP1pZ7Sp"
      },
      "source": [
        "## <p style=\"align: right; direction: rtl; float: right;\">בתנאי ש...</p>"
      ]
    },
    {
      "cell_type": "markdown",
      "metadata": {
        "id": "ZapRS1XdZ7Sq"
      },
      "source": [
        "<blockquote>Two roads diverged in a yellow wood,<br>\n",
        "And sorry I could not travel both</blockquote>\n",
        "- <cite>Robert Frost, The Road Not Taken</cite>"
      ]
    },
    {
      "cell_type": "markdown",
      "metadata": {
        "id": "-MLyagIFZ7Sq"
      },
      "source": [
        "<p style=\"text-align: right; direction: rtl; float: right;\">נקפוץ למים ללא הקדמה. הנה קוד מעניין:</p>"
      ]
    },
    {
      "cell_type": "code",
      "execution_count": 5,
      "metadata": {
        "id": "VFOqK1_QZ7Sr",
        "outputId": "2eb80c2c-3663-4976-aa3c-7d952289cd88",
        "colab": {
          "base_uri": "https://localhost:8080/"
        }
      },
      "outputs": [
        {
          "output_type": "stream",
          "name": "stdout",
          "text": [
            "Please enter your age: 17\n",
            "You are not allowed to enter :(\n",
            "This is the end of the program.\n"
          ]
        }
      ],
      "source": [
        "user_age = int(input(\"Please enter your age: \"))\n",
        "if user_age < 18:\n",
        "    print(\"You are not allowed to enter :(\")\n",
        "print(\"This is the end of the program.\")"
      ]
    },
    {
      "cell_type": "markdown",
      "metadata": {
        "id": "gCL8EDEDZ7Sr"
      },
      "source": [
        "<p style=\"text-align: right; direction: rtl; float: right; clear: both;\">\n",
        "מה קטע הקוד הזה יעשה?<br>\n",
        "את השורה הראשונה אנחנו כבר יודעים לקרוא: קלטנו את גיל המשתמש, המרנו אותו למספר שלם, ועכשיו המשתנה <code>user_age</code> מצביע עליו.<br>\n",
        "בשורה השנייה הרוב כבר מוכר: נבדוק האם הגיל קטן מ־18. אבל מה זה ה־<code>if</code> הזה?\n",
        "</p>"
      ]
    },
    {
      "cell_type": "markdown",
      "metadata": {
        "id": "x5EhnK_AZ7Ss"
      },
      "source": [
        "<p style=\"text-align: right; direction: rtl; clear: both;\">\n",
        "כשאנחנו מעוניינים להגיד לפייתון לבצע רצף של שורות רק <em>בתנאי</em> שיקרה משהו מסוים, נשתמש במילת המפתח <code>if</code>.<br>\n",
        "נחלק את המבנה של תנאי בפייתון ל־2 חלקים:<br>\n",
        "</p>\n",
        "<ol style=\"text-align: right; direction: rtl; white-space: nowrap; clear: both;\">\n",
        "    <li>הביטוי הבוליאני, שיבוא מייד אחרי מילת המפתח <code>if</code>.</li>\n",
        "    <li>הפקודות שיש לבצע, שיבואו בשורות שאחריו.</li>\n",
        "</ol>"
      ]
    },
    {
      "cell_type": "markdown",
      "metadata": {
        "id": "JP6Pjf1AZ7Ss"
      },
      "source": [
        "### <div style=\"text-align: right; direction: rtl;\">דוגמאות לתנאים</div>\n",
        "\n",
        "<p style=\"text-align: right; direction: rtl; clear: both;\">\n",
        "בדוגמאות הבאות, <em style='background-color: #3C6478; color: white;'>התנאי מופיע כך</em>, ו<em style='background-color: #F58B4C; color: white;'>הפעולות שיקרו בעקבותיו מופיעות כך</em>.\n",
        "</p>\n",
        "\n",
        "<ol style=\"text-align: right; direction: rtl; float: right; clear: both;\">\n",
        "<li><em style='background-color: #F58B4C; color: white;'>השמע את המוזיקה של השעון המעורר</em> רק כש<em style='background-color: #3C6478; color: white;'>השעה היא 20:00</em>.</li>\n",
        "<li>אם <em style='background-color: #3C6478; color: white;'>הלחץ במטוס לא תקין</em>, <em style='background-color: #F58B4C; color: white;'>הורד לנוסעים את מסכות החמצן ולאחר מכן גם היכנס למצב חירום</em>.</li>\n",
        "<li>אם <em style='background-color: #3C6478; color: white;'>המשתמש סימן קובץ אחד או יותר והמקש שנלחץ היה <kbd style='color: white; border-width: 1px'>DEL</kbd></em>, <em style='background-color: #F58B4C; color: white;'>מחק את הקבצים המסומנים</em>.</li>\n",
        "<li>רק אם <em style='background-color: #3C6478; color: white;'>עגלת הקניות שלו מכילה מוצרים בשווי 100 ש\"ח לפחות</em>, <em style='background-color: #F58B4C; color: white;'>אפשר למשתמש לבצע הזמנה עם משלוח</em>.</li>\n",
        "<li>כספומט, <em style='background-color: #F58B4C; color: white;'>הוצא למשתמש כסף, הדפס קבלה וצא מהממשק</em> אם <em style='background-color: #3C6478; color: white;'>המשתמש הזין סכום שמתחלק ב־50, הוא הזין את הקוד הסודי הנכון והסכום הזה קיים בחשבון הבנק שלו.</em></li>\n",
        "</ol>"
      ]
    },
    {
      "cell_type": "markdown",
      "metadata": {
        "id": "MPDCd1AnZ7St"
      },
      "source": [
        "### <div style=\"text-align: right; direction: rtl;\">זרימת התוכנית: ציור לדוגמה</div>"
      ]
    },
    {
      "cell_type": "markdown",
      "metadata": {
        "id": "3mWRxxsrZ7St"
      },
      "source": [
        "<figure>\n",
        "    <img src=\"https://github.com/PythonFreeCourse/Notebooks/blob/main/content/week02/images/if-flow.svg?raw=1\" style=\"display: block; margin-left: auto; margin-right: auto;\" alt=\"איור (גרף) להמחשה של זרימת התוכנה. מתחילים בלקבל קלט, עוברים לתנאי. אם הוא לא מתקיים, מדפיסים הודעת שגיאה ועוברים לשלב הבא. אם הוא כן מתקיים, מגיעים ישירות לשלב הבא. מדפיסים שהתוכנית נגמרה.\">\n",
        "    <figcaption style=\"text-align: center; direction: rtl;\"></figcaption>\n",
        "</figure>"
      ]
    },
    {
      "cell_type": "markdown",
      "metadata": {
        "id": "45HEjCJEZ7St"
      },
      "source": [
        "### <div style=\"text-align: right; direction: rtl; clear: both;\">כותבים תנאי</div>\n",
        "\n",
        "<p style=\"text-align: right; direction: rtl; clear: both;\">\n",
        "ניסוח של תנאי אמור להיראות ככה:\n",
        "</p>\n",
        "\n",
        "<code><span style='background-color: #3C6478; color: white;'>if</span> <span style='background-color: #B5C689; color: white; font-family: Arial;'>התנאי שלכם, ביטוי בוליאני</span><span style='background-color: #F58B4C'>:</span><br><span style='background-color: #CD594A; color: white;'>&nbsp;&nbsp;&nbsp;&nbsp;</span><span dir=\"rtl\" style='direction: rtl; background-color: #43ABC9; color: white; font-family: Arial'>מה שאתם רוצים לעשות (גוף התנאי)</span>\n",
        "</code>\n",
        "\n",
        "<p style=\"text-align: right; direction: rtl; clear: both;\">\n",
        "נסביר:\n",
        "</p>\n",
        "\n",
        "<ol style=\"text-align: right; direction: rtl; float: right; clear: both;\">\n",
        "<li>התנאי מתחיל במילת המפתח <code><span style='background-color: #3C6478; color: white;'>if</span></code>. אין פה מה לשנות.</li>\n",
        "<li>אחרי מילת המפתח <code>if</code>, יבוא <span style='background-color: #B5C689; color: white; font-family: Arial;'>ביטוי בוליאני</span>. אם תוצאתו תהיה <samp>True</samp>, מה שנמצא בגוף התנאי יתבצע. אם <samp>False</samp>, פייתון תתעלם לגמרי מגוף התנאי.</li>\n",
        "<li>מייד אחרי הביטוי הבוליאני תבואנה <span style='background-color: #F58B4C; color: white;'>נקודתיים</span>, שמסמנות שכאן נגמרת השאלה (הביטוי הבוליאני), ומתחיל החלק הביצועי – גוף התנאי.</li>\n",
        "<li>לפני שנבקש מפייתון לבצע משהו <em>בעקבות</em> קיום התנאי שהיה ב־<code>if</code>, נצטרך להוסיף לפניו <span style='background-color: #CD594A; color: white'>הזחה</span>.<br>\n",
        "    הזחה היא תזוזה של השורה לימין, והיא נועדה לסמן מבניות מסוימת בקוד – נניח שהשורה הזו מתייחסת ל־<code>if</code> שנמצא לפניה.<br>\n",
        "    אנחנו רוצים שהקוד שנכתוב אחרי ההזחה ירוץ <em>רק אם</em> התנאי שלפני ההזחה התקיים.<br>\n",
        "    בפייתון הזחה מוגדרת כארבעה רווחים, אבל אפשר פשוט ללחוץ <kbd dir=\"ltr\">Tab ↹</kbd> במקלדת והמחברת תחליף לכם את הטאב ברווחים בעצמה.\n",
        "</li>\n",
        "<li>וסוף סוף הגענו למטרה: אחרי ההזחה, כתבו את <span dir=\"rtl\" style='direction: rtl; background-color: #43ABC9; color: white; font-family: Arial'>מה שאתם רוצים לעשות</span> – כל פעולת פייתון שעולה על דעתכם תתאים כאן.<br>\n",
        "תוכלו להוסיף כמה שורות שתרצו אחרי ה־<code>if</code>. הקוד בשורה ירוץ כחלק מהתנאי כל עוד היא מוזחת ונמצאת ישירות אחרי ה־<code>if</code>, או אחרי שורות מוזחות אחרות ישירות מתחת ל־<code>if</code>.\n",
        "</li>\n",
        "</ol>"
      ]
    },
    {
      "cell_type": "markdown",
      "metadata": {
        "id": "MJR_FC0wZ7St"
      },
      "source": [
        "### <div style=\"text-align: right; direction: rtl;\">דוגמאות קוד נוספות</div>"
      ]
    },
    {
      "cell_type": "code",
      "execution_count": 6,
      "metadata": {
        "id": "frQlfeuZZ7Su",
        "outputId": "71d34a27-6dfb-433a-a245-3d79a2a3bd3b",
        "colab": {
          "base_uri": "https://localhost:8080/"
        }
      },
      "outputs": [
        {
          "output_type": "stream",
          "name": "stdout",
          "text": [
            "Please enter your full name: Mich Cohen\n",
            "You may enter the temple!\n",
            "\n",
            "Thank you, Mich Cohen.\n",
            "Is the temple open?: True\n"
          ]
        }
      ],
      "source": [
        "user_fullname = input('Please enter your full name: ')\n",
        "is_temple_open = False\n",
        "\n",
        "if 'Cohen' in user_fullname:\n",
        "    print('You may enter the temple!')\n",
        "    is_temple_open = True\n",
        "\n",
        "print('')\n",
        "print('Thank you, ' + user_fullname + '.')\n",
        "print('Is the temple open?: ' + str(is_temple_open))"
      ]
    },
    {
      "cell_type": "markdown",
      "metadata": {
        "id": "0tAQTmFsZ7Su"
      },
      "source": [
        "<div class=\"align-center\" style=\"display: flex; text-align: right; direction: rtl; clear: both;\">\n",
        "    <div style=\"display: flex; width: 10%; float: right; clear: both;\">\n",
        "        <img src=\"https://github.com/PythonFreeCourse/Notebooks/blob/main/content/week02/images/exercise.svg?raw=1\" style=\"height: 50px !important;\" alt=\"תרגול\">\n",
        "    </div>\n",
        "    <div style=\"width: 70%\">\n",
        "        <p style=\"text-align: right; direction: rtl; float: right; clear: both;\">\n",
        "            נסו להבין מה הקוד למעלה אומר. הריצו ובדקו שעניתם נכונה לפני שתתקדמו הלאה.\n",
        "        </p>\n",
        "    </div>\n",
        "    <div style=\"display: flex; width: 20%; border-right: 0.1rem solid #A5A5A5; padding: 1rem 2rem;\">\n",
        "        <p style=\"text-align: center; direction: rtl; justify-content: center; align-items: center; clear: both;\">\n",
        "            <strong>חשוב!</strong><br>\n",
        "            פתרו לפני שתמשיכו!\n",
        "        </p>\n",
        "    </div>\n",
        "</div>"
      ]
    },
    {
      "cell_type": "markdown",
      "metadata": {
        "id": "fikdEiO_Z7Su"
      },
      "source": [
        "<p style=\"text-align: right; direction: rtl;\">\n",
        "דוגמה אחרת:\n",
        "</p>"
      ]
    },
    {
      "cell_type": "code",
      "execution_count": 8,
      "metadata": {
        "id": "mFvjHS1XZ7Sv",
        "outputId": "0b9345e9-fb99-4814-dff0-7456d2666982",
        "colab": {
          "base_uri": "https://localhost:8080/"
        }
      },
      "outputs": [
        {
          "output_type": "stream",
          "name": "stdout",
          "text": [
            "Please enter your age: 17\n",
            "Please wait until midnight before answering the following question:\n",
            "Is it your birthday today? [yes/no]: yes\n",
            "Happy birthday! You are 18 now.\n",
            "Welcome!\n"
          ]
        }
      ],
      "source": [
        "age = int(input('Please enter your age: '))\n",
        "allowed_to_enter = False\n",
        "\n",
        "if age >= 18:\n",
        "    allowed_to_enter = True\n",
        "\n",
        "if age < 18:\n",
        "    print('Please wait until midnight before answering the following question:')\n",
        "    answer_for_birthday_is_today = input('Is it your birthday today? [yes/no]: ')\n",
        "    if age == 17 and answer_for_birthday_is_today == 'yes':\n",
        "        print('Happy birthday! You are 18 now.')\n",
        "        age = age + 1\n",
        "        allowed_to_enter = True\n",
        "\n",
        "if allowed_to_enter:\n",
        "    print('Welcome!')\n",
        "if not allowed_to_enter:\n",
        "    print('Sorry... Byebye')"
      ]
    },
    {
      "cell_type": "markdown",
      "metadata": {
        "id": "g-ZylTw6Z7Sv"
      },
      "source": [
        "#### <span style=\"text-align: right; direction: rtl; float: right; clear: both;\">מה התרחש בקוד הזה?</span>\n",
        "<p style=\"text-align: right; direction: rtl; clear: both;\">\n",
        "בשורה הראשונה, ביקשנו את הגיל של המשתמש וגרמנו למשתנה <var>age</var> להצביע אליו.<br>\n",
        "בשורה השנייה, ביקשנו ש־<var>allowed_to_enter</var> יהיה <code>False</code>. זה קצת מרושע ומיזנטרופי, אבל אנחנו מעדיפים כברירת מחדל לא להכניס אף אחד למסיבה שלנו.\n",
        "</p>\n",
        "<p style=\"text-align: right; direction: rtl; float: right; clear: both;\">\n",
        "בשלב הבא בדקנו האם <var>age</var> (גיל המשתמש שלנו) הוא לפחות 18, ואם כן הגדרנו שיוכל להכנס למסיבה. עד כאן זה קל.\n",
        "</p>\n",
        "<p style=\"text-align: right; direction: rtl; float: right; clear: both;\">\n",
        "עכשיו נתאר מה תהיה ההתרחשות אם הגיל נמוך מ־18.<br>\n",
        "אנחנו מחכים לחצות, ומבקשים לדעת אם יום ההולדת של המשתמש הוא היום.<br>\n",
        "</p>\n",
        "<p style=\"text-align: right; direction: rtl; float: right; clear: both;\">\n",
        "מכאן אנחנו פותחים תנאי נוסף, בתוך התנאי הקודם. זה אומר שרק אם <var>age</var> אכן קטן מ־18 הבדיקה הבאה תקרה (בגלל שאנחנו עדיין בתוך התנאי <code>age &lt; 18</code>, ראו את ההזחה):<br>\n",
        "אם המשתמש הכניס שהיום יום ההולדת שלו, והגיל שלו היה עד עכשיו 17, אז עכשיו הוא טכנית בן 18 ויכול להיכנס למסיבה שלנו. נגדיל את הגיל שלו ונרשה לו להיכנס.<br>\n",
        "</p>\n",
        "\n",
        "<p style=\"text-align: right; direction: rtl; float: right; clear: both;\">\n",
        "עכשיו נשאר רק להתייחס למשתנה <var>allowed_to_enter</var> שהגדרנו למעלה, לבדוק האם למשתמש מותר להכנס או לא, ולהדפיס הודעה מתאימה. יופי!\n",
        "</p>"
      ]
    },
    {
      "cell_type": "markdown",
      "metadata": {
        "id": "MPqDFHp1Z7Sw"
      },
      "source": [
        "<div class=\"align-center\" style=\"display: flex; text-align: right; direction: rtl;\">\n",
        "    <div style=\"display: flex; width: 10%; float: right; \">\n",
        "        <img src=\"https://github.com/PythonFreeCourse/Notebooks/blob/main/content/week02/images/exercise.svg?raw=1\" style=\"height: 50px !important;\" alt=\"תרגול\">\n",
        "    </div>\n",
        "    <div style=\"width: 90%\">\n",
        "        <p style=\"text-align: right; direction: rtl; float: right;\">\n",
        "        <strong>תרגול</strong>:\n",
        "            נסו לערוך את הקוד שלמעלה, כך שישאל אם זהו יום ההולדת של המשתמש רק אם הוא בן 17.<br>\n",
        "            בדקו שהקוד עדיין עובד כמצופה.\n",
        "        </p>\n",
        "    </div>\n",
        "</div>"
      ]
    },
    {
      "cell_type": "markdown",
      "metadata": {
        "id": "8hSe-PZXZ7Sw"
      },
      "source": [
        "<div class=\"align-center\" style=\"display: flex; text-align: right; direction: rtl;\">\n",
        "    <div style=\"display: flex; width: 10%; float: right; \">\n",
        "        <img src=\"https://github.com/PythonFreeCourse/Notebooks/blob/main/content/week02/images/warning.png?raw=1\" style=\"height: 50px !important;\" alt=\"אזהרה!\">\n",
        "    </div>\n",
        "    <div style=\"width: 90%\">\n",
        "        <p style=\"text-align: right; direction: rtl;\">\n",
        "            טעות נפוצה היא לשכוח את הנקודתיים אחרי ה־<code>if</code>.<br>\n",
        "            אתם בטח אומרים לעצמכם שלא תעשו את זה, אבל אתם תעשו את זה, סמכו עליי.<br>\n",
        "            פייתון זורקת הודעות שגיאה מעצבנות ולא אינדיקטיביות כשזה קורה. נסו להיזכר באזהרה הזו 😊<br>\n",
        "        </p>\n",
        "    </div>\n",
        "</div>"
      ]
    },
    {
      "cell_type": "markdown",
      "metadata": {
        "id": "61NzaH-DZ7Sw"
      },
      "source": [
        "## <span style=\"align: right; direction: rtl; float: right; clear: both;\">תרגול</span>"
      ]
    },
    {
      "cell_type": "markdown",
      "metadata": {
        "id": "ZzaaqI29Z7Sx"
      },
      "source": [
        "### <span style=\"align: right; direction: rtl; float: right; clear: both;\">כניסה לבנק, שלב 1</span>"
      ]
    },
    {
      "cell_type": "markdown",
      "metadata": {
        "id": "glIhKN1PZ7Sx"
      },
      "source": [
        "<p style=\"text-align: right; direction: rtl; float: right; clear: both;\">\n",
        "    שם המשתמש שלי לבנק הוא <em>wrong</em>, והסיסמה שלי היא <em>ads sports</em>.<br>\n",
        "    קבלו מהמשתמש שם משתמש וסיסמה, והדפיסו לו הודעה יפה אם הצליח להתחבר.\n",
        "</p>"
      ]
    },
    {
      "cell_type": "code",
      "source": [
        "username = input(\"Enter username:\")\n",
        "password = input(\"Enter password:\")\n",
        "if username == \"wrong\" and password == \"ads sports\":\n",
        "  print(\"Welcome to the bank!\")"
      ],
      "metadata": {
        "id": "acglpvK_fyd-",
        "outputId": "452ccc37-4d1e-4c2a-9c17-f0acd7185c19",
        "colab": {
          "base_uri": "https://localhost:8080/"
        }
      },
      "execution_count": 9,
      "outputs": [
        {
          "output_type": "stream",
          "name": "stdout",
          "text": [
            "Enter username:wrong\n",
            "Enter password:ads sports\n",
            "Welcome to the bank!\n"
          ]
        }
      ]
    },
    {
      "cell_type": "markdown",
      "metadata": {
        "id": "Xeg685qxZ7Sy"
      },
      "source": [
        "### <span style=\"align: right; direction: rtl; float: right; clear: both;\">אם גם טעיתי</span>"
      ]
    },
    {
      "cell_type": "markdown",
      "metadata": {
        "id": "4gtKTM7QZ7Sz"
      },
      "source": [
        "<p style=\"text-align: right; direction: rtl; float: right;\">\n",
        "תקנו את הקוד הבא כך שירוץ בהצלחה.<br>\n",
        "כתבו לעצמכם את התיקונים שביצעתם כדי להימנע מטעויות דומות אצלכם בעתיד!\n",
        "</p>"
      ]
    },
    {
      "cell_type": "code",
      "execution_count": 10,
      "metadata": {
        "id": "69aERxTmZ7Sz",
        "outputId": "2ffb9d26-99d6-4c88-a90d-472730837024",
        "colab": {
          "base_uri": "https://localhost:8080/"
        }
      },
      "outputs": [
        {
          "output_type": "stream",
          "name": "stdout",
          "text": [
            "This line should run for 3, 4, 5 but not for 4, 5, 6\n",
            "This line should run anyway\n"
          ]
        }
      ],
      "source": [
        "a = 3\n",
        "b = 4\n",
        "c = 5\n",
        "\n",
        "if a ** 2 + b ** 2 == c ** 2:\n",
        "  print(\"This line should run for 3, 4, 5 but not for 4, 5, 6\")\n",
        "\n",
        "print(\"This line should run anyway\")"
      ]
    }
  ],
  "metadata": {
    "kernelspec": {
      "display_name": "Python 3",
      "language": "python",
      "name": "python3"
    },
    "language_info": {
      "codemirror_mode": {
        "name": "ipython",
        "version": 3
      },
      "file_extension": ".py",
      "mimetype": "text/x-python",
      "name": "python",
      "nbconvert_exporter": "python",
      "pygments_lexer": "ipython3",
      "version": "3.7.6"
    },
    "colab": {
      "provenance": []
    }
  },
  "nbformat": 4,
  "nbformat_minor": 0
}