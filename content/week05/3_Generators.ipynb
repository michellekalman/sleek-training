{
  "cells": [
    {
      "cell_type": "markdown",
      "metadata": {
        "id": "jEAQrx4rvDJm"
      },
      "source": [
        "<img src=\"https://github.com/PythonFreeCourse/Notebooks/blob/main/content/week05/images/logo.jpg?raw=1\" style=\"display: block; margin-left: auto; margin-right: auto;\" alt=\"לוגו של מיזם לימוד הפייתון. נחש מצויר בצבעי צהוב וכחול, הנע בין האותיות של שם הקורס: לומדים פייתון. הסלוגן המופיע מעל לשם הקורס הוא מיזם חינמי ללימוד תכנות בעברית.\">"
      ]
    },
    {
      "cell_type": "markdown",
      "metadata": {
        "id": "gboUtcQ3vDJp"
      },
      "source": [
        "# <span style=\"text-align: right; direction: rtl; float: right;\">Generators</span>"
      ]
    },
    {
      "cell_type": "markdown",
      "metadata": {
        "id": "Bcfixr-FvDJp"
      },
      "source": [
        "## <span style=\"text-align: right; direction: rtl; float: right; clear: both;\">הקדמה</span>"
      ]
    },
    {
      "cell_type": "markdown",
      "metadata": {
        "id": "TdqlOygFvDJq"
      },
      "source": [
        "<p style=\"text-align: right; direction: rtl; float: right; clear: both;\">\n",
        "    הפונקציות שיצרנו עד כה נבנו כך שיחזירו ערך אחד בכל קריאה.<br>\n",
        "    הערך הזה יכול היה להיות מכל טיפוס שהוא: בוליאני, מחרוזת, tuple וכדומה.<br>\n",
        "    אם נרצה להחזיר כמה ערכים יחד, תמיד נוכל להחזיר אותם כרשימה או כ־tuple.<br>\n",
        "    אבל מה קורה כשאנחנו רוצים להחזיר סדרת ערכים גדולה מאוד או אפילו אין־סופית?\n",
        "</p>"
      ]
    },
    {
      "cell_type": "markdown",
      "metadata": {
        "id": "Ui6djTPfvDJr"
      },
      "source": [
        "<p style=\"text-align: right; direction: rtl; float: right; clear: both;\">\n",
        "    למשל:\n",
        "</p>\n",
        "\n",
        "<ul style=\"text-align: right; direction: rtl; float: right; clear: both;\">\n",
        "    <li>הכתובות של כל הדפים הקיימים באינטרנט.</li>\n",
        "    <li>מילות כל השירים שראו אור מאז שנת 1400 לספירה.</li>\n",
        "    <li>כל המספרים השלמים הגדולים מ־0.</li>\n",
        "</ul>"
      ]
    },
    {
      "cell_type": "markdown",
      "metadata": {
        "id": "WZLw50RYvDJr"
      },
      "source": [
        "<p style=\"text-align: right; direction: rtl; float: right; clear: both;\">\n",
        "    בכלים שיש בידינו כרגע, נמצא שיש בעיה ליצור רשימות כאלו.<br>\n",
        "    עבור רשימות גדולות מאוד – לא יהיה למחשב די זיכרון ולבסוף הוא ייכשל בשמירת ערכים חדשים.<br>\n",
        "    ומה בנוגע לרשימות אין־סופיות? הן... ובכן... אין־סופיות, ולכן מלכתחילה לא נוכל ליצור אותן.\n",
        "</p>"
      ]
    },
    {
      "cell_type": "markdown",
      "metadata": {
        "id": "wpbgxcFIvDJs"
      },
      "source": [
        "## <span style=\"text-align: right; direction: rtl; float: right; clear: both;\">הגדרה</span>"
      ]
    },
    {
      "cell_type": "markdown",
      "metadata": {
        "id": "YW-ogp1yvDJu"
      },
      "source": [
        "<p style=\"text-align: right; direction: rtl; float: right; clear: both;\">\n",
        "    פתרון שמעניין לחשוב עליו הוא \"פונקציה עצלנית\".<br>\n",
        "    אם אנחנו בשום שלב לא יכולים להחזיק בזיכרון המחשב את כל האיברים (כי יש יותר מדי מהם, או כי זו סדרה אין־סופית),<br>\n",
        "    אולי נוכל לשלוח תחילה את הערך הראשון – ואת הערכים שבאים אחריו נשלח רק כשיבקשו אותם מאיתנו.\n",
        "</p>"
      ]
    },
    {
      "cell_type": "markdown",
      "metadata": {
        "id": "9JqiTwITvDJu"
      },
      "source": [
        "<p style=\"text-align: right; direction: rtl; float: right; clear: both;\">\n",
        "    פונקציה עצלנית שכזו נקראת <dfn>generator</dfn>, ובכל פעם שנבקש ממנה, היא תחזיר לנו איבר יחיד מתוך סדרת ערכים.<br>\n",
        "    תחילה – היא תחזיר רק את הערך הראשון, בלי לחשב את שאר האיברים. אחר כך, באותו אופן, רק את השני, אחר כך רק את השלישי וכן הלאה.<br>\n",
        "    ההבדל העיקרי בין generator לבין פונקציה רגילה, הוא שב־generator נבחר להחזיר את הערכים אחד־אחד ולא תחת מבנה מאוגד.\n",
        "</p>"
      ]
    },
    {
      "cell_type": "markdown",
      "metadata": {
        "id": "03cun_REvDJv"
      },
      "source": [
        "<p style=\"text-align: right; direction: rtl; float: right; clear: both;\">\n",
        "    נסכם: generator היא פונקציה שיוצרת עבורנו בכל פעם ערך אחד, מחזירה אותו, ומחכה עד שנבקש את האיבר הבא.\n",
        "</p>"
      ]
    },
    {
      "cell_type": "markdown",
      "metadata": {
        "id": "AJeIDvUSvDJw"
      },
      "source": [
        "## <span style=\"text-align: right; direction: rtl; float: right; clear: both;\">שימוש</span>"
      ]
    },
    {
      "cell_type": "markdown",
      "metadata": {
        "id": "8WQii-HNvDJw"
      },
      "source": [
        "### <span style=\"text-align: right; direction: rtl; float: right; clear: both;\">יצירת generator בסיסי</span>"
      ]
    },
    {
      "cell_type": "markdown",
      "metadata": {
        "id": "W2O0CWpWvDJw"
      },
      "source": [
        "<p style=\"text-align: right; direction: rtl; float: right; clear: both;\">\n",
        "    נתחיל בהגדרת generator מטופש למדי:\n",
        "</p>"
      ]
    },
    {
      "cell_type": "code",
      "execution_count": 1,
      "metadata": {
        "id": "1wkOtGDVvDJy"
      },
      "outputs": [],
      "source": [
        "def silly_generator():\n",
        "    a = 1\n",
        "    yield a\n",
        "    b = a + 1\n",
        "    yield b\n",
        "    c = [1, 2, 3]\n",
        "    yield c"
      ]
    },
    {
      "cell_type": "markdown",
      "metadata": {
        "id": "abT2nVLYvDJz"
      },
      "source": [
        "<p style=\"text-align: right; direction: rtl; float: right; clear: both;\">\n",
        "    מעניין! זה נראה ממש כמו פונקציה. נקרא למבנה הזה שיצרנו \"<dfn>פונקציית ה־generator</dfn>\".<br>\n",
        "    אבל מהו ה־<code>yield</code> המוזר הזה שנמצא שם?\n",
        "</p>"
      ]
    },
    {
      "cell_type": "markdown",
      "metadata": {
        "id": "oneyKNkjvDJz"
      },
      "source": [
        "<p style=\"text-align: right; direction: rtl; float: right; clear: both;\">\n",
        "    לפני שנתהה על קנקנו, בואו ננסה לקרוא לפונקציה ונראה מה היא מחזירה:\n",
        "</p>"
      ]
    },
    {
      "cell_type": "code",
      "execution_count": 2,
      "metadata": {
        "id": "Ek0VYfirvDJz",
        "outputId": "ccfb84f8-179d-48a5-d708-91de3a153beb",
        "colab": {
          "base_uri": "https://localhost:8080/"
        }
      },
      "outputs": [
        {
          "output_type": "stream",
          "name": "stdout",
          "text": [
            "<generator object silly_generator at 0x7d24780187b0>\n"
          ]
        }
      ],
      "source": [
        "print(silly_generator())"
      ]
    },
    {
      "cell_type": "markdown",
      "metadata": {
        "id": "eJ9eHRuXvDJ0"
      },
      "source": [
        "<p style=\"text-align: right; direction: rtl; float: right; clear: both;\">\n",
        "    אומנם למדנו שלא אומרים איכס על פונקציות, אבל מה קורה פה?\n",
        "</p>"
      ]
    },
    {
      "cell_type": "markdown",
      "metadata": {
        "id": "qtH20-_avDJ0"
      },
      "source": [
        "<p style=\"text-align: right; direction: rtl; float: right; clear: both;\">\n",
        "    בניגוד לפונקציות רגילות, קריאה ל־generator לא מחזירה ערך מייד.<br>\n",
        "    במקום ערך היא מחזירה מעין סמן, כמו בקובץ, שאפשר לדמיין כחץ שמצביע על השורה הראשונה של הפונקציה.<br>\n",
        "    נשמור את הסמן על משתנה:\n",
        "</p>"
      ]
    },
    {
      "cell_type": "code",
      "execution_count": 3,
      "metadata": {
        "id": "InK-jVl3vDJ0"
      },
      "outputs": [],
      "source": [
        "our_generator = silly_generator()"
      ]
    },
    {
      "cell_type": "markdown",
      "metadata": {
        "id": "ZNTLT8SNvDJ0"
      },
      "source": [
        "<p style=\"text-align: right; direction: rtl; float: right; clear: both;\">\n",
        "    בעקבות הקריאה ל־<code>silly_generator</code> נוצר לנו סמן שמצביע כרגע על השורה <code>a = 1</code>.<br>\n",
        "    המינוח המקצועי לסמן הזה הוא <dfn>generator iterator</dfn>.\n",
        "</p>"
      ]
    },
    {
      "cell_type": "markdown",
      "metadata": {
        "id": "e-XpcltFvDJ0"
      },
      "source": [
        "<img src=\"https://github.com/PythonFreeCourse/Notebooks/blob/main/content/week05/images/silly_generator1.png?v=1&raw=1\" width=\"300px\" style=\"display: block; margin-left: auto; margin-right: auto;\" alt=\"תוכן הפונקציה silly_generator, כאשר חץ מצביע לשורה הראשונה שלה – a = 1\">"
      ]
    },
    {
      "cell_type": "markdown",
      "metadata": {
        "id": "G1mZwGTxvDJ0"
      },
      "source": [
        "<p style=\"text-align: right; direction: rtl; float: right; clear: both;\">\n",
        "    אחרי שהרצנו את השורה <code dir=\"ltr\">our_generator = silly_generator()</code>, הסמן המדובר נשמר במשתנה בשם <var>our_generator</var>.<br>\n",
        "    זה זמן מצוין לבקש מה־generator להחזיר ערך.<br>\n",
        "    נעשה זאת בעזרת הפונקציה הפייתונית <code>next</code>:\n",
        "</p>"
      ]
    },
    {
      "cell_type": "code",
      "execution_count": 4,
      "metadata": {
        "id": "RTKhm_G2vDJ0",
        "outputId": "8b714fdc-b77e-4421-f098-75a353632a30",
        "colab": {
          "base_uri": "https://localhost:8080/"
        }
      },
      "outputs": [
        {
          "output_type": "stream",
          "name": "stdout",
          "text": [
            "1\n"
          ]
        }
      ],
      "source": [
        "next_value = next(our_generator)\n",
        "print(next_value)"
      ]
    },
    {
      "cell_type": "markdown",
      "metadata": {
        "id": "6xCC90Z2vDJ0"
      },
      "source": [
        "<p style=\"text-align: right; direction: rtl; float: right; clear: both;\">\n",
        "    כדי להבין מה התרחש נצטרך להבין שני דברים חשובים שקשורים ל־generators:<br>\n",
        "</p>\n",
        "<ol style=\"text-align: right; direction: rtl; float: right; clear: both;\">\n",
        "    <li>קריאה ל־<code>next</code> היא כמו לחיצה על \"נגן\" (Play) – היא גורמת לסמן לרוץ עד שהוא מגיע לשורה של החזרת ערך.</li>\n",
        "    <li>מילת המפתח <code>yield</code> דומה למילת המפתח <code>return</code> – היא מפסיקה את ריצת הסמן, ומחזירה את הערך שמופיע אחריה.</li>\n",
        "</ol>"
      ]
    },
    {
      "cell_type": "markdown",
      "metadata": {
        "id": "STBLK-1PvDJ1"
      },
      "source": [
        "<p style=\"text-align: right; direction: rtl; float: right; clear: both;\">\n",
        "    אז היה לנו סמן שהצביע על השורה הראשונה. לחצנו Play, והוא הריץ את הקוד עד שהוא הגיע לנקודה שבה מחזירים ערך.<br>\n",
        "    ההבדל בין פונקציה לבין generator, הוא ש<mark>כשאנחנו מחזירים ערך בעזרת <code>yield</code> אנחנו \"מקפיאים\" את המצב שבו\n",
        "    יצאנו מהפונקציה.</mark><br>\n",
        "    ממש כמו ללחוץ על \"Pause\".<br>\n",
        "    כשנקרא ל־<code>next</code> בפעם הבאה – הפונקציה תמשיך לרוץ מאותו המקום שבו השארנו את הסמן, עם אותם ערכי משתנים.<br>\n",
        "    עכשיו הסמן מצביע על השורה <code>b = a + 1</code>, ומחכה שמישהו יקרא שוב ל־<code>next</code> כדי שהפונקציה תוכל להמשיך לרוץ:\n",
        "</p>"
      ]
    },
    {
      "cell_type": "code",
      "execution_count": 5,
      "metadata": {
        "id": "o9-lmPAGvDJ1",
        "outputId": "c7763552-4fc6-411a-f868-57b7c0b57ef1",
        "colab": {
          "base_uri": "https://localhost:8080/"
        }
      },
      "outputs": [
        {
          "output_type": "stream",
          "name": "stdout",
          "text": [
            "2\n"
          ]
        }
      ],
      "source": [
        "print(next(our_generator))"
      ]
    },
    {
      "cell_type": "markdown",
      "metadata": {
        "id": "xPFqUWjtvDJ1"
      },
      "source": [
        "<p style=\"text-align: right; direction: rtl; float: right; clear: both;\">\n",
        "    נסכם מה קרה עד עכשיו:\n",
        "</p>\n",
        "\n",
        "<ol style=\"text-align: right; direction: rtl; float: right; clear: both;\">\n",
        "    <li>הגדרנו פונקציה בשם <var>silly_generator</var>, שאמורה להחזיר את הערכים <samp>1</samp>, <samp>2</samp> ו־<samp dir=\"ltr\">[1, 2, 3]</samp>. קראנו לה \"<em>פונקציית הגנרטור</em>\".</li>\n",
        "    <li>בעזרת קריאה לפונקציית הגנרטור, יצרנו \"סמן\" (generator iterator) שנקרא <var>our_generator</var> ומצביע לשורה הראשונה בפונקציה.</li>\n",
        "    <li>בעזרת קריאה ל־<code>next</code> על ה־generator iterator, הרצנו את הסמן עד שה־generator החזיר ערך.</li>\n",
        "    <li>למדנו ש־generator־ים מחזירים ערכים בעיקר בעזרת yield – שמחזיר ערך ושומר את המצב שבו הפונקציה עצרה.</li>\n",
        "    <li>קראנו שוב ל־<code>next</code> על ה־generator iterator, וראינו שהוא ממשיך מהמקום שבו ה־generator הפסיק לרוץ פעם קודמת.</li>\n",
        "</ol>"
      ]
    },
    {
      "cell_type": "markdown",
      "metadata": {
        "id": "2jZHNWidvDJ1"
      },
      "source": [
        "<div class=\"align-center\" style=\"display: flex; text-align: right; direction: rtl; clear: both;\">\n",
        "    <div style=\"display: flex; width: 10%; float: right; clear: both;\">\n",
        "        <img src=\"https://github.com/PythonFreeCourse/Notebooks/blob/main/content/week05/images/exercise.svg?raw=1\" style=\"height: 50px !important;\" alt=\"תרגול\">\n",
        "    </div>\n",
        "    <div style=\"width: 70%\">\n",
        "        <p style=\"text-align: right; direction: rtl; float: right; clear: both;\">\n",
        "            תוכלו לחזות מה יקרה אם נקרא שוב ל־<code>next(our_generator)</code>?\n",
        "        </p>\n",
        "    </div>\n",
        "    <div style=\"display: flex; width: 20%; border-right: 0.1rem solid #A5A5A5; padding: 1rem 2rem;\">\n",
        "        <p style=\"text-align: center; direction: rtl; justify-content: center; align-items: center; clear: both;\">\n",
        "            <strong>חשוב!</strong><br>\n",
        "            פתרו לפני שתמשיכו!\n",
        "        </p>\n",
        "    </div>\n",
        "</div>"
      ]
    },
    {
      "cell_type": "markdown",
      "metadata": {
        "id": "eZMJB1K4vDJ1"
      },
      "source": [
        "<p style=\"text-align: right; direction: rtl; float: right; clear: both;\">\n",
        "    ננסה:\n",
        "</p>"
      ]
    },
    {
      "cell_type": "code",
      "execution_count": 6,
      "metadata": {
        "id": "kCrSNcFqvDJ1",
        "outputId": "6c14e6e5-a78b-40c9-93f3-72408fbd307f",
        "colab": {
          "base_uri": "https://localhost:8080/"
        }
      },
      "outputs": [
        {
          "output_type": "stream",
          "name": "stdout",
          "text": [
            "[1, 2, 3]\n"
          ]
        }
      ],
      "source": [
        "print(next(our_generator))"
      ]
    },
    {
      "cell_type": "markdown",
      "metadata": {
        "id": "Fdn7JDgAvDJ1"
      },
      "source": [
        "<p style=\"text-align: right; direction: rtl; float: right; clear: both;\">\n",
        "    יופי! הכל הלך כמצופה.<br>\n",
        "    אבל מה צופן לנו העתיד?<br>\n",
        "    בפעם הבאה שנבקש ערך מהפונקציה, הסמן שלנו ירוץ הלאה ולא ייתקל ב־<code>yield</code>.<br>\n",
        "    במקרה כזה, נקבל שגיאת <var>StopIteration</var>, שמבשרת לנו ש־<code>next</code> לא הצליח לחלץ מה־generator את הערך הבא.\n",
        "</p>"
      ]
    },
    {
      "cell_type": "code",
      "execution_count": 7,
      "metadata": {
        "id": "qlsVZmhNvDJ2",
        "outputId": "52183bc2-961b-45a0-9bb7-090792fa0bff",
        "colab": {
          "base_uri": "https://localhost:8080/",
          "height": 141
        }
      },
      "outputs": [
        {
          "output_type": "error",
          "ename": "StopIteration",
          "evalue": "",
          "traceback": [
            "\u001b[0;31m---------------------------------------------------------------------------\u001b[0m",
            "\u001b[0;31mStopIteration\u001b[0m                             Traceback (most recent call last)",
            "\u001b[0;32m<ipython-input-7-53f126310cb8>\u001b[0m in \u001b[0;36m<cell line: 1>\u001b[0;34m()\u001b[0m\n\u001b[0;32m----> 1\u001b[0;31m \u001b[0mprint\u001b[0m\u001b[0;34m(\u001b[0m\u001b[0mnext\u001b[0m\u001b[0;34m(\u001b[0m\u001b[0mour_generator\u001b[0m\u001b[0;34m)\u001b[0m\u001b[0;34m)\u001b[0m\u001b[0;34m\u001b[0m\u001b[0;34m\u001b[0m\u001b[0m\n\u001b[0m",
            "\u001b[0;31mStopIteration\u001b[0m: "
          ]
        }
      ],
      "source": [
        "print(next(our_generator))"
      ]
    },
    {
      "cell_type": "markdown",
      "metadata": {
        "id": "p53LyZZKvDJ2"
      },
      "source": [
        "<p style=\"text-align: right; direction: rtl; float: right; clear: both;\">\n",
        "    מובן שאין סיבה להילחץ.<br>\n",
        "    במקרה הזה אפילו לא מדובר במשהו רע – פשוט כילינו את כל הערכים מה־generator iterator שלנו.<br>\n",
        "    פונקציית ה־generator עדיין קיימת!<br>\n",
        "    אפשר ליצור עוד generator iterator אם נרצה, ולקבל את כל הערכים שנמצאים בו באותה צורה:\n",
        "</p>"
      ]
    },
    {
      "cell_type": "code",
      "execution_count": 8,
      "metadata": {
        "id": "6RATTzwfvDJ2",
        "outputId": "d658a646-35ab-435c-c215-f698c1b46bd5",
        "colab": {
          "base_uri": "https://localhost:8080/"
        }
      },
      "outputs": [
        {
          "output_type": "stream",
          "name": "stdout",
          "text": [
            "1\n",
            "2\n",
            "[1, 2, 3]\n"
          ]
        }
      ],
      "source": [
        "our_generator = silly_generator()\n",
        "print(next(our_generator))\n",
        "print(next(our_generator))\n",
        "print(next(our_generator))"
      ]
    },
    {
      "cell_type": "markdown",
      "metadata": {
        "id": "b4dCZGo0vDJ2"
      },
      "source": [
        "<p style=\"text-align: right; direction: rtl; float: right; clear: both;\">\n",
        "    אבל כשחושבים על זה, זה קצת מגוחך.<br>\n",
        "    בכל פעם שנרצה להשיג את הערך הבא נצטרך לרשום <code>next</code>?<br>\n",
        "    חייבת להיות דרך טובה יותר!\n",
        "</p>"
      ]
    },
    {
      "cell_type": "markdown",
      "metadata": {
        "id": "eaFDYbNTvDJ3"
      },
      "source": [
        "### <span style=\"text-align: right; direction: rtl; float: right; clear: both;\">כל generator הוא גם iterable</span>"
      ]
    },
    {
      "cell_type": "markdown",
      "metadata": {
        "id": "I0NJkE59vDJ3"
      },
      "source": [
        "#### <span style=\"text-align: right; direction: rtl; float: right; clear: both;\">for</span>"
      ]
    },
    {
      "cell_type": "markdown",
      "metadata": {
        "id": "35sfTOVKvDJ3"
      },
      "source": [
        "<p style=\"text-align: right; direction: rtl; float: right; clear: both;\">\n",
        "    אז למעשה, יש יותר מדרך טובה אחת להשיג את כל הערכים שיוצאים מ־generator מסוים.<br>\n",
        "    כהקדמה, נניח פה עובדה שלא תשאיר אתכם אדישים: ה־generator iterator הוא... iterable! הפתעת השנה, אני יודע!<br>\n",
        "    אמנם אי אפשר לפנות לאיברים שלו לפי מיקום, אך בהחלט אפשר לעבור עליהם בעזרת לולאת <code>for</code>, לדוגמה:\n",
        "</p>"
      ]
    },
    {
      "cell_type": "code",
      "execution_count": 9,
      "metadata": {
        "id": "m0hJFxysvDJ3",
        "outputId": "5b806246-d16e-444e-ebfd-3f181d78ce6a",
        "colab": {
          "base_uri": "https://localhost:8080/"
        }
      },
      "outputs": [
        {
          "output_type": "stream",
          "name": "stdout",
          "text": [
            "1\n",
            "2\n",
            "[1, 2, 3]\n"
          ]
        }
      ],
      "source": [
        "our_generator = silly_generator()\n",
        "for item in our_generator:\n",
        "    print(item)"
      ]
    },
    {
      "cell_type": "markdown",
      "metadata": {
        "id": "2Ae6EWSpvDJ3"
      },
      "source": [
        "<p style=\"text-align: right; direction: rtl; float: right; clear: both;\">\n",
        "    מה מתרחש כאן?<br>\n",
        "    אנחנו מבקשים מלולאת ה־<code>for</code> לעבור על ה־generator iterator שלנו.<br>\n",
        "    ה־<code>for</code> עושה עבורנו את העבודה אוטומטית:\n",
        "</p>\n",
        "\n",
        "<ol style=\"text-align: right; direction: rtl; float: right; clear: both;\">\n",
        "    <li>הוא מבקש את האיבר הבא מה־generator iterator באמצעות <code>next</code>.</li>\n",
        "    <li>הוא מכניס את האיבר שהוא קיבל מה־generator ל־<var>item</var>.</li>\n",
        "    <li>הוא מבצע את גוף הלולאה פעם אחת עבור האיבר שנמצא ב־<var>item</var>.</li>\n",
        "    <li>הוא חוזר לראש הלולאה שוב, ומנסה לקבל את האיבר הבא באמצעות <code>next</code>. כך עד שייגמרו האיברים ב־generator iterator.</li>\n",
        "</ol>"
      ]
    },
    {
      "cell_type": "markdown",
      "metadata": {
        "id": "57ZjLppNvDJ4"
      },
      "source": [
        "<p style=\"text-align: right; direction: rtl; float: right; clear: both;\">\n",
        "    שימו לב שהעובדות שלמדנו בנוגע לאותו \"סמן\" יבואו לידי ביטוי גם כאן.<br>\n",
        "    הרצה נוספת של הלולאה על אותו סמן לא תדפיס יותר איברים, כיוון שהסמן מצביע כעת על סוף פונקציית ה־generator:\n",
        "</p>"
      ]
    },
    {
      "cell_type": "code",
      "execution_count": 10,
      "metadata": {
        "id": "WuP9zvHovDJ4"
      },
      "outputs": [],
      "source": [
        "for item in our_generator:\n",
        "    print(item)"
      ]
    },
    {
      "cell_type": "markdown",
      "metadata": {
        "id": "vFHOeLjCvDJ4"
      },
      "source": [
        "<p style=\"text-align: right; direction: rtl; float: right; clear: both;\">\n",
        "    למזלנו, לולאות <code>for</code> יודעות לטפל בעצמן בשגיאת <code>StopIteration</code>, ולכן שגיאה שכזו לא תקפוץ לנו במקרה הזה.\n",
        "</p>"
      ]
    },
    {
      "cell_type": "markdown",
      "metadata": {
        "id": "GzW6PNtTvDJ4"
      },
      "source": [
        "#### <span style=\"text-align: right; direction: rtl; float: right; clear: both;\">המרת טיפוסים</span>"
      ]
    },
    {
      "cell_type": "markdown",
      "metadata": {
        "id": "AVSeQvsIvDJ4"
      },
      "source": [
        "<p style=\"text-align: right; direction: rtl; float: right; clear: both;\">\n",
        "    דרך אחרת, לדוגמה, היא לבקש להמיר את ה־generator iterator לסוג משתנה אחר שהוא גם iterable:\n",
        "</p>"
      ]
    },
    {
      "cell_type": "code",
      "execution_count": 11,
      "metadata": {
        "id": "WnxJaUa2vDJ4",
        "outputId": "3a6bf550-48be-407b-e627-f614d75a0ddc",
        "colab": {
          "base_uri": "https://localhost:8080/"
        }
      },
      "outputs": [
        {
          "output_type": "stream",
          "name": "stdout",
          "text": [
            "[1, 2, [1, 2, 3]]\n"
          ]
        }
      ],
      "source": [
        "our_generator = silly_generator()\n",
        "items = list(our_generator)\n",
        "print(items)"
      ]
    },
    {
      "cell_type": "markdown",
      "metadata": {
        "id": "WM_PsPDLvDJ4"
      },
      "source": [
        "<p style=\"text-align: right; direction: rtl; float: right; clear: both;\">\n",
        "    בקוד שלמעלה, השתמשנו בפונקציה <code>list</code> שיודעת להמיר ערכים iterable־ים לרשימות.<br>\n",
        "    שימו לב שמה שלמדנו בנוגע ל\"סמן\" יבוא לידי ביטוי גם בהמרות:\n",
        "</p>"
      ]
    },
    {
      "cell_type": "code",
      "execution_count": 12,
      "metadata": {
        "id": "tfoETf-JvDJ5",
        "outputId": "a91ed9cd-4956-443b-cdc3-efe05e53ab9d",
        "colab": {
          "base_uri": "https://localhost:8080/"
        }
      },
      "outputs": [
        {
          "output_type": "stream",
          "name": "stdout",
          "text": [
            "[]\n"
          ]
        }
      ],
      "source": [
        "print(list(our_generator))"
      ]
    },
    {
      "cell_type": "markdown",
      "metadata": {
        "id": "CxRdj0rXvDJ5"
      },
      "source": [
        "### <span style=\"text-align: right; direction: rtl; float: right; clear: both;\">שימושים פרקטיים</span>"
      ]
    },
    {
      "cell_type": "markdown",
      "metadata": {
        "id": "iN_IEQgfvDJ5"
      },
      "source": [
        "#### <span style=\"text-align: right; direction: rtl; float: right; clear: both;\">חיסכון בזיכרון</span>"
      ]
    },
    {
      "cell_type": "markdown",
      "metadata": {
        "id": "yawM8wRYvDJ5"
      },
      "source": [
        "<p style=\"text-align: right; direction: rtl; float: right; clear: both;\">\n",
        "נכתוב פונקציה רגילה שמקבלת מספר שלם, ומחזירה רשימה של כל המספרים השלמים מ־0 ועד אותו מספר (נשמע לכם מוכר?):\n",
        "</p>"
      ]
    },
    {
      "cell_type": "code",
      "execution_count": null,
      "metadata": {
        "id": "HXUtC4qSvDJ5"
      },
      "outputs": [],
      "source": [
        "def my_range(upper_limit):\n",
        "    numbers = []\n",
        "    current_number = 0\n",
        "    while current_number < upper_limit:\n",
        "        numbers.append(current_number)\n",
        "        current_number = current_number + 1\n",
        "    return numbers\n",
        "\n",
        "\n",
        "for number in my_range(1000):\n",
        "    print(number)"
      ]
    },
    {
      "cell_type": "markdown",
      "metadata": {
        "id": "KliAKZZCvDJ5"
      },
      "source": [
        "<p style=\"text-align: right; direction: rtl; float: right; clear: both;\">\n",
        "    בפונקציה הזו אנחנו יוצרים רשימת מספרים חדשה, המכילה את כל המספרים בין 0 לבין המספר שהועבר לפרמטר <var>upper_limit</var>.<br>\n",
        "    אך ישנה בעיה חמורה – הפעלת הפונקציה גורמת לניצול משאבים רבים!<br>\n",
        "    אם נכניס כארגומנט 1,000 – נצטרך להחזיק רשימה המכילה 1,000 איברים שונים, ואם נכניס מספר גדול מדי – עלול להיגמר לנו הזיכרון.\n",
        "</p>"
      ]
    },
    {
      "cell_type": "markdown",
      "metadata": {
        "id": "Oqh4nX_kvDJ5"
      },
      "source": [
        "<p style=\"text-align: right; direction: rtl; float: right; clear: both;\">\n",
        "    אבל איזו סיבה יש לנו להחזיק בזיכרון את רשימת כל המספרים?<br>\n",
        "    אם לא עולה צורך מובהק שכזה, ייתכן שעדיף להחזיק בזיכרון מספר אחד בלבד בכל פעם, ולהחזירו מייד בעזרת generator:\n",
        "</p>"
      ]
    },
    {
      "cell_type": "code",
      "execution_count": 13,
      "metadata": {
        "collapsed": true,
        "id": "ZbH-nbcEvDJ5",
        "outputId": "3079a571-56b2-429c-9eac-ad448afe73b3",
        "colab": {
          "base_uri": "https://localhost:8080/"
        }
      },
      "outputs": [
        {
          "output_type": "stream",
          "name": "stdout",
          "text": [
            "0\n",
            "1\n",
            "2\n",
            "3\n",
            "4\n",
            "5\n",
            "6\n",
            "7\n",
            "8\n",
            "9\n",
            "10\n",
            "11\n",
            "12\n",
            "13\n",
            "14\n",
            "15\n",
            "16\n",
            "17\n",
            "18\n",
            "19\n",
            "20\n",
            "21\n",
            "22\n",
            "23\n",
            "24\n",
            "25\n",
            "26\n",
            "27\n",
            "28\n",
            "29\n",
            "30\n",
            "31\n",
            "32\n",
            "33\n",
            "34\n",
            "35\n",
            "36\n",
            "37\n",
            "38\n",
            "39\n",
            "40\n",
            "41\n",
            "42\n",
            "43\n",
            "44\n",
            "45\n",
            "46\n",
            "47\n",
            "48\n",
            "49\n",
            "50\n",
            "51\n",
            "52\n",
            "53\n",
            "54\n",
            "55\n",
            "56\n",
            "57\n",
            "58\n",
            "59\n",
            "60\n",
            "61\n",
            "62\n",
            "63\n",
            "64\n",
            "65\n",
            "66\n",
            "67\n",
            "68\n",
            "69\n",
            "70\n",
            "71\n",
            "72\n",
            "73\n",
            "74\n",
            "75\n",
            "76\n",
            "77\n",
            "78\n",
            "79\n",
            "80\n",
            "81\n",
            "82\n",
            "83\n",
            "84\n",
            "85\n",
            "86\n",
            "87\n",
            "88\n",
            "89\n",
            "90\n",
            "91\n",
            "92\n",
            "93\n",
            "94\n",
            "95\n",
            "96\n",
            "97\n",
            "98\n",
            "99\n",
            "100\n",
            "101\n",
            "102\n",
            "103\n",
            "104\n",
            "105\n",
            "106\n",
            "107\n",
            "108\n",
            "109\n",
            "110\n",
            "111\n",
            "112\n",
            "113\n",
            "114\n",
            "115\n",
            "116\n",
            "117\n",
            "118\n",
            "119\n",
            "120\n",
            "121\n",
            "122\n",
            "123\n",
            "124\n",
            "125\n",
            "126\n",
            "127\n",
            "128\n",
            "129\n",
            "130\n",
            "131\n",
            "132\n",
            "133\n",
            "134\n",
            "135\n",
            "136\n",
            "137\n",
            "138\n",
            "139\n",
            "140\n",
            "141\n",
            "142\n",
            "143\n",
            "144\n",
            "145\n",
            "146\n",
            "147\n",
            "148\n",
            "149\n",
            "150\n",
            "151\n",
            "152\n",
            "153\n",
            "154\n",
            "155\n",
            "156\n",
            "157\n",
            "158\n",
            "159\n",
            "160\n",
            "161\n",
            "162\n",
            "163\n",
            "164\n",
            "165\n",
            "166\n",
            "167\n",
            "168\n",
            "169\n",
            "170\n",
            "171\n",
            "172\n",
            "173\n",
            "174\n",
            "175\n",
            "176\n",
            "177\n",
            "178\n",
            "179\n",
            "180\n",
            "181\n",
            "182\n",
            "183\n",
            "184\n",
            "185\n",
            "186\n",
            "187\n",
            "188\n",
            "189\n",
            "190\n",
            "191\n",
            "192\n",
            "193\n",
            "194\n",
            "195\n",
            "196\n",
            "197\n",
            "198\n",
            "199\n",
            "200\n",
            "201\n",
            "202\n",
            "203\n",
            "204\n",
            "205\n",
            "206\n",
            "207\n",
            "208\n",
            "209\n",
            "210\n",
            "211\n",
            "212\n",
            "213\n",
            "214\n",
            "215\n",
            "216\n",
            "217\n",
            "218\n",
            "219\n",
            "220\n",
            "221\n",
            "222\n",
            "223\n",
            "224\n",
            "225\n",
            "226\n",
            "227\n",
            "228\n",
            "229\n",
            "230\n",
            "231\n",
            "232\n",
            "233\n",
            "234\n",
            "235\n",
            "236\n",
            "237\n",
            "238\n",
            "239\n",
            "240\n",
            "241\n",
            "242\n",
            "243\n",
            "244\n",
            "245\n",
            "246\n",
            "247\n",
            "248\n",
            "249\n",
            "250\n",
            "251\n",
            "252\n",
            "253\n",
            "254\n",
            "255\n",
            "256\n",
            "257\n",
            "258\n",
            "259\n",
            "260\n",
            "261\n",
            "262\n",
            "263\n",
            "264\n",
            "265\n",
            "266\n",
            "267\n",
            "268\n",
            "269\n",
            "270\n",
            "271\n",
            "272\n",
            "273\n",
            "274\n",
            "275\n",
            "276\n",
            "277\n",
            "278\n",
            "279\n",
            "280\n",
            "281\n",
            "282\n",
            "283\n",
            "284\n",
            "285\n",
            "286\n",
            "287\n",
            "288\n",
            "289\n",
            "290\n",
            "291\n",
            "292\n",
            "293\n",
            "294\n",
            "295\n",
            "296\n",
            "297\n",
            "298\n",
            "299\n",
            "300\n",
            "301\n",
            "302\n",
            "303\n",
            "304\n",
            "305\n",
            "306\n",
            "307\n",
            "308\n",
            "309\n",
            "310\n",
            "311\n",
            "312\n",
            "313\n",
            "314\n",
            "315\n",
            "316\n",
            "317\n",
            "318\n",
            "319\n",
            "320\n",
            "321\n",
            "322\n",
            "323\n",
            "324\n",
            "325\n",
            "326\n",
            "327\n",
            "328\n",
            "329\n",
            "330\n",
            "331\n",
            "332\n",
            "333\n",
            "334\n",
            "335\n",
            "336\n",
            "337\n",
            "338\n",
            "339\n",
            "340\n",
            "341\n",
            "342\n",
            "343\n",
            "344\n",
            "345\n",
            "346\n",
            "347\n",
            "348\n",
            "349\n",
            "350\n",
            "351\n",
            "352\n",
            "353\n",
            "354\n",
            "355\n",
            "356\n",
            "357\n",
            "358\n",
            "359\n",
            "360\n",
            "361\n",
            "362\n",
            "363\n",
            "364\n",
            "365\n",
            "366\n",
            "367\n",
            "368\n",
            "369\n",
            "370\n",
            "371\n",
            "372\n",
            "373\n",
            "374\n",
            "375\n",
            "376\n",
            "377\n",
            "378\n",
            "379\n",
            "380\n",
            "381\n",
            "382\n",
            "383\n",
            "384\n",
            "385\n",
            "386\n",
            "387\n",
            "388\n",
            "389\n",
            "390\n",
            "391\n",
            "392\n",
            "393\n",
            "394\n",
            "395\n",
            "396\n",
            "397\n",
            "398\n",
            "399\n",
            "400\n",
            "401\n",
            "402\n",
            "403\n",
            "404\n",
            "405\n",
            "406\n",
            "407\n",
            "408\n",
            "409\n",
            "410\n",
            "411\n",
            "412\n",
            "413\n",
            "414\n",
            "415\n",
            "416\n",
            "417\n",
            "418\n",
            "419\n",
            "420\n",
            "421\n",
            "422\n",
            "423\n",
            "424\n",
            "425\n",
            "426\n",
            "427\n",
            "428\n",
            "429\n",
            "430\n",
            "431\n",
            "432\n",
            "433\n",
            "434\n",
            "435\n",
            "436\n",
            "437\n",
            "438\n",
            "439\n",
            "440\n",
            "441\n",
            "442\n",
            "443\n",
            "444\n",
            "445\n",
            "446\n",
            "447\n",
            "448\n",
            "449\n",
            "450\n",
            "451\n",
            "452\n",
            "453\n",
            "454\n",
            "455\n",
            "456\n",
            "457\n",
            "458\n",
            "459\n",
            "460\n",
            "461\n",
            "462\n",
            "463\n",
            "464\n",
            "465\n",
            "466\n",
            "467\n",
            "468\n",
            "469\n",
            "470\n",
            "471\n",
            "472\n",
            "473\n",
            "474\n",
            "475\n",
            "476\n",
            "477\n",
            "478\n",
            "479\n",
            "480\n",
            "481\n",
            "482\n",
            "483\n",
            "484\n",
            "485\n",
            "486\n",
            "487\n",
            "488\n",
            "489\n",
            "490\n",
            "491\n",
            "492\n",
            "493\n",
            "494\n",
            "495\n",
            "496\n",
            "497\n",
            "498\n",
            "499\n",
            "500\n",
            "501\n",
            "502\n",
            "503\n",
            "504\n",
            "505\n",
            "506\n",
            "507\n",
            "508\n",
            "509\n",
            "510\n",
            "511\n",
            "512\n",
            "513\n",
            "514\n",
            "515\n",
            "516\n",
            "517\n",
            "518\n",
            "519\n",
            "520\n",
            "521\n",
            "522\n",
            "523\n",
            "524\n",
            "525\n",
            "526\n",
            "527\n",
            "528\n",
            "529\n",
            "530\n",
            "531\n",
            "532\n",
            "533\n",
            "534\n",
            "535\n",
            "536\n",
            "537\n",
            "538\n",
            "539\n",
            "540\n",
            "541\n",
            "542\n",
            "543\n",
            "544\n",
            "545\n",
            "546\n",
            "547\n",
            "548\n",
            "549\n",
            "550\n",
            "551\n",
            "552\n",
            "553\n",
            "554\n",
            "555\n",
            "556\n",
            "557\n",
            "558\n",
            "559\n",
            "560\n",
            "561\n",
            "562\n",
            "563\n",
            "564\n",
            "565\n",
            "566\n",
            "567\n",
            "568\n",
            "569\n",
            "570\n",
            "571\n",
            "572\n",
            "573\n",
            "574\n",
            "575\n",
            "576\n",
            "577\n",
            "578\n",
            "579\n",
            "580\n",
            "581\n",
            "582\n",
            "583\n",
            "584\n",
            "585\n",
            "586\n",
            "587\n",
            "588\n",
            "589\n",
            "590\n",
            "591\n",
            "592\n",
            "593\n",
            "594\n",
            "595\n",
            "596\n",
            "597\n",
            "598\n",
            "599\n",
            "600\n",
            "601\n",
            "602\n",
            "603\n",
            "604\n",
            "605\n",
            "606\n",
            "607\n",
            "608\n",
            "609\n",
            "610\n",
            "611\n",
            "612\n",
            "613\n",
            "614\n",
            "615\n",
            "616\n",
            "617\n",
            "618\n",
            "619\n",
            "620\n",
            "621\n",
            "622\n",
            "623\n",
            "624\n",
            "625\n",
            "626\n",
            "627\n",
            "628\n",
            "629\n",
            "630\n",
            "631\n",
            "632\n",
            "633\n",
            "634\n",
            "635\n",
            "636\n",
            "637\n",
            "638\n",
            "639\n",
            "640\n",
            "641\n",
            "642\n",
            "643\n",
            "644\n",
            "645\n",
            "646\n",
            "647\n",
            "648\n",
            "649\n",
            "650\n",
            "651\n",
            "652\n",
            "653\n",
            "654\n",
            "655\n",
            "656\n",
            "657\n",
            "658\n",
            "659\n",
            "660\n",
            "661\n",
            "662\n",
            "663\n",
            "664\n",
            "665\n",
            "666\n",
            "667\n",
            "668\n",
            "669\n",
            "670\n",
            "671\n",
            "672\n",
            "673\n",
            "674\n",
            "675\n",
            "676\n",
            "677\n",
            "678\n",
            "679\n",
            "680\n",
            "681\n",
            "682\n",
            "683\n",
            "684\n",
            "685\n",
            "686\n",
            "687\n",
            "688\n",
            "689\n",
            "690\n",
            "691\n",
            "692\n",
            "693\n",
            "694\n",
            "695\n",
            "696\n",
            "697\n",
            "698\n",
            "699\n",
            "700\n",
            "701\n",
            "702\n",
            "703\n",
            "704\n",
            "705\n",
            "706\n",
            "707\n",
            "708\n",
            "709\n",
            "710\n",
            "711\n",
            "712\n",
            "713\n",
            "714\n",
            "715\n",
            "716\n",
            "717\n",
            "718\n",
            "719\n",
            "720\n",
            "721\n",
            "722\n",
            "723\n",
            "724\n",
            "725\n",
            "726\n",
            "727\n",
            "728\n",
            "729\n",
            "730\n",
            "731\n",
            "732\n",
            "733\n",
            "734\n",
            "735\n",
            "736\n",
            "737\n",
            "738\n",
            "739\n",
            "740\n",
            "741\n",
            "742\n",
            "743\n",
            "744\n",
            "745\n",
            "746\n",
            "747\n",
            "748\n",
            "749\n",
            "750\n",
            "751\n",
            "752\n",
            "753\n",
            "754\n",
            "755\n",
            "756\n",
            "757\n",
            "758\n",
            "759\n",
            "760\n",
            "761\n",
            "762\n",
            "763\n",
            "764\n",
            "765\n",
            "766\n",
            "767\n",
            "768\n",
            "769\n",
            "770\n",
            "771\n",
            "772\n",
            "773\n",
            "774\n",
            "775\n",
            "776\n",
            "777\n",
            "778\n",
            "779\n",
            "780\n",
            "781\n",
            "782\n",
            "783\n",
            "784\n",
            "785\n",
            "786\n",
            "787\n",
            "788\n",
            "789\n",
            "790\n",
            "791\n",
            "792\n",
            "793\n",
            "794\n",
            "795\n",
            "796\n",
            "797\n",
            "798\n",
            "799\n",
            "800\n",
            "801\n",
            "802\n",
            "803\n",
            "804\n",
            "805\n",
            "806\n",
            "807\n",
            "808\n",
            "809\n",
            "810\n",
            "811\n",
            "812\n",
            "813\n",
            "814\n",
            "815\n",
            "816\n",
            "817\n",
            "818\n",
            "819\n",
            "820\n",
            "821\n",
            "822\n",
            "823\n",
            "824\n",
            "825\n",
            "826\n",
            "827\n",
            "828\n",
            "829\n",
            "830\n",
            "831\n",
            "832\n",
            "833\n",
            "834\n",
            "835\n",
            "836\n",
            "837\n",
            "838\n",
            "839\n",
            "840\n",
            "841\n",
            "842\n",
            "843\n",
            "844\n",
            "845\n",
            "846\n",
            "847\n",
            "848\n",
            "849\n",
            "850\n",
            "851\n",
            "852\n",
            "853\n",
            "854\n",
            "855\n",
            "856\n",
            "857\n",
            "858\n",
            "859\n",
            "860\n",
            "861\n",
            "862\n",
            "863\n",
            "864\n",
            "865\n",
            "866\n",
            "867\n",
            "868\n",
            "869\n",
            "870\n",
            "871\n",
            "872\n",
            "873\n",
            "874\n",
            "875\n",
            "876\n",
            "877\n",
            "878\n",
            "879\n",
            "880\n",
            "881\n",
            "882\n",
            "883\n",
            "884\n",
            "885\n",
            "886\n",
            "887\n",
            "888\n",
            "889\n",
            "890\n",
            "891\n",
            "892\n",
            "893\n",
            "894\n",
            "895\n",
            "896\n",
            "897\n",
            "898\n",
            "899\n",
            "900\n",
            "901\n",
            "902\n",
            "903\n",
            "904\n",
            "905\n",
            "906\n",
            "907\n",
            "908\n",
            "909\n",
            "910\n",
            "911\n",
            "912\n",
            "913\n",
            "914\n",
            "915\n",
            "916\n",
            "917\n",
            "918\n",
            "919\n",
            "920\n",
            "921\n",
            "922\n",
            "923\n",
            "924\n",
            "925\n",
            "926\n",
            "927\n",
            "928\n",
            "929\n",
            "930\n",
            "931\n",
            "932\n",
            "933\n",
            "934\n",
            "935\n",
            "936\n",
            "937\n",
            "938\n",
            "939\n",
            "940\n",
            "941\n",
            "942\n",
            "943\n",
            "944\n",
            "945\n",
            "946\n",
            "947\n",
            "948\n",
            "949\n",
            "950\n",
            "951\n",
            "952\n",
            "953\n",
            "954\n",
            "955\n",
            "956\n",
            "957\n",
            "958\n",
            "959\n",
            "960\n",
            "961\n",
            "962\n",
            "963\n",
            "964\n",
            "965\n",
            "966\n",
            "967\n",
            "968\n",
            "969\n",
            "970\n",
            "971\n",
            "972\n",
            "973\n",
            "974\n",
            "975\n",
            "976\n",
            "977\n",
            "978\n",
            "979\n",
            "980\n",
            "981\n",
            "982\n",
            "983\n",
            "984\n",
            "985\n",
            "986\n",
            "987\n",
            "988\n",
            "989\n",
            "990\n",
            "991\n",
            "992\n",
            "993\n",
            "994\n",
            "995\n",
            "996\n",
            "997\n",
            "998\n",
            "999\n"
          ]
        }
      ],
      "source": [
        "def my_range(upper_limit):\n",
        "    current_number = 0\n",
        "    while current_number < upper_limit:\n",
        "        yield current_number\n",
        "        current_number = current_number + 1\n",
        "\n",
        "\n",
        "our_generator = my_range(1000)\n",
        "for number in our_generator:\n",
        "    print(number)"
      ]
    },
    {
      "cell_type": "markdown",
      "metadata": {
        "id": "wfPzBv1gvDJ5"
      },
      "source": [
        "<p style=\"text-align: right; direction: rtl; float: right; clear: both;\">\n",
        "    שימו לב כמה הגרסה הזו אלגנטית יותר!<br>\n",
        "    בכל פעם אנחנו פשוט שולחים את ערכו של מספר אחד (<var>current_number</var>) החוצה.<br>\n",
        "    כשמבקשים את הערך הבא מה־generator iterator, פונקציית ה־generator חוזרת לעבוד מהנקודה שבה היא עצרה:<br>\n",
        "    היא מעלה את ערכו של המספר הנוכחי, בודקת אם הוא נמוך מ־<var>upper_limit</var>, ושולחת גם אותו החוצה.<br>\n",
        "    בשיטה הזו, <code>my_range(numbers)</code> לא מחזירה לנו רשימה של התוצאות – אלא generator iterator שמחזיר ערך אחד בכל פעם.<br>\n",
        "    כך אנחנו לעולם לא מחזיקים בזיכרון 1,000 מספרים בו־זמנית.\n",
        "</p>"
      ]
    },
    {
      "cell_type": "markdown",
      "metadata": {
        "id": "mXVIHK_NvDJ6"
      },
      "source": [
        "<div class=\"align-center\" style=\"display: flex; text-align: right; direction: rtl; clear: both;\">\n",
        "    <div style=\"display: flex; width: 10%; float: right; clear: both;\">\n",
        "        <img src=\"https://github.com/PythonFreeCourse/Notebooks/blob/main/content/week05/images/exercise.svg?raw=1\" style=\"height: 50px !important;\" alt=\"תרגול\">\n",
        "    </div>\n",
        "    <div style=\"width: 70%\">\n",
        "        <p style=\"text-align: right; direction: rtl; float: right; clear: both;\">\n",
        "            לפניכם פונקציה שמקבלת רשימה, ומחזירה עבור כל מספר ברשימה את ערכו בריבוע.<br>\n",
        "            זוהי גרסה מעט בזבזנית שמשתמשת בהרבה זיכרון. תוכלו להמיר אותה להיות generator?\n",
        "        </p>\n",
        "    </div>\n",
        "    <div style=\"display: flex; width: 20%; border-right: 0.1rem solid #A5A5A5; padding: 1rem 2rem;\">\n",
        "        <p style=\"text-align: center; direction: rtl; justify-content: center; align-items: center; clear: both;\">\n",
        "            <strong>חשוב!</strong><br>\n",
        "            פתרו לפני שתמשיכו!\n",
        "        </p>\n",
        "    </div>\n",
        "</div>"
      ]
    },
    {
      "cell_type": "code",
      "execution_count": null,
      "metadata": {
        "id": "hNzIhF9bvDJ6"
      },
      "outputs": [],
      "source": [
        "def square_numbers(numbers):\n",
        "    squared_numbers = []\n",
        "    for number in numbers:\n",
        "        squared_numbers.append(number ** 2)\n",
        "    return squared_numbers\n",
        "\n",
        "\n",
        "for number in square_numbers(my_range(1000)):\n",
        "    print(number)"
      ]
    },
    {
      "cell_type": "code",
      "source": [
        "def square_numbers(numbers):\n",
        "  for number in numbers:\n",
        "     yield number ** 2\n",
        "\n",
        "\n",
        "\n",
        "our_generator = square_numbers(my_range(1000))\n",
        "for number in our_generator:\n",
        "    print(number)"
      ],
      "metadata": {
        "id": "7qZTRL6_wvY7",
        "outputId": "af8d4bfe-c5de-48d8-e253-67ad198e7f18",
        "colab": {
          "base_uri": "https://localhost:8080/"
        }
      },
      "execution_count": 18,
      "outputs": [
        {
          "output_type": "stream",
          "name": "stdout",
          "text": [
            "0\n",
            "1\n",
            "4\n",
            "9\n",
            "16\n",
            "25\n",
            "36\n",
            "49\n",
            "64\n",
            "81\n",
            "100\n",
            "121\n",
            "144\n",
            "169\n",
            "196\n",
            "225\n",
            "256\n",
            "289\n",
            "324\n",
            "361\n",
            "400\n",
            "441\n",
            "484\n",
            "529\n",
            "576\n",
            "625\n",
            "676\n",
            "729\n",
            "784\n",
            "841\n",
            "900\n",
            "961\n",
            "1024\n",
            "1089\n",
            "1156\n",
            "1225\n",
            "1296\n",
            "1369\n",
            "1444\n",
            "1521\n",
            "1600\n",
            "1681\n",
            "1764\n",
            "1849\n",
            "1936\n",
            "2025\n",
            "2116\n",
            "2209\n",
            "2304\n",
            "2401\n",
            "2500\n",
            "2601\n",
            "2704\n",
            "2809\n",
            "2916\n",
            "3025\n",
            "3136\n",
            "3249\n",
            "3364\n",
            "3481\n",
            "3600\n",
            "3721\n",
            "3844\n",
            "3969\n",
            "4096\n",
            "4225\n",
            "4356\n",
            "4489\n",
            "4624\n",
            "4761\n",
            "4900\n",
            "5041\n",
            "5184\n",
            "5329\n",
            "5476\n",
            "5625\n",
            "5776\n",
            "5929\n",
            "6084\n",
            "6241\n",
            "6400\n",
            "6561\n",
            "6724\n",
            "6889\n",
            "7056\n",
            "7225\n",
            "7396\n",
            "7569\n",
            "7744\n",
            "7921\n",
            "8100\n",
            "8281\n",
            "8464\n",
            "8649\n",
            "8836\n",
            "9025\n",
            "9216\n",
            "9409\n",
            "9604\n",
            "9801\n",
            "10000\n",
            "10201\n",
            "10404\n",
            "10609\n",
            "10816\n",
            "11025\n",
            "11236\n",
            "11449\n",
            "11664\n",
            "11881\n",
            "12100\n",
            "12321\n",
            "12544\n",
            "12769\n",
            "12996\n",
            "13225\n",
            "13456\n",
            "13689\n",
            "13924\n",
            "14161\n",
            "14400\n",
            "14641\n",
            "14884\n",
            "15129\n",
            "15376\n",
            "15625\n",
            "15876\n",
            "16129\n",
            "16384\n",
            "16641\n",
            "16900\n",
            "17161\n",
            "17424\n",
            "17689\n",
            "17956\n",
            "18225\n",
            "18496\n",
            "18769\n",
            "19044\n",
            "19321\n",
            "19600\n",
            "19881\n",
            "20164\n",
            "20449\n",
            "20736\n",
            "21025\n",
            "21316\n",
            "21609\n",
            "21904\n",
            "22201\n",
            "22500\n",
            "22801\n",
            "23104\n",
            "23409\n",
            "23716\n",
            "24025\n",
            "24336\n",
            "24649\n",
            "24964\n",
            "25281\n",
            "25600\n",
            "25921\n",
            "26244\n",
            "26569\n",
            "26896\n",
            "27225\n",
            "27556\n",
            "27889\n",
            "28224\n",
            "28561\n",
            "28900\n",
            "29241\n",
            "29584\n",
            "29929\n",
            "30276\n",
            "30625\n",
            "30976\n",
            "31329\n",
            "31684\n",
            "32041\n",
            "32400\n",
            "32761\n",
            "33124\n",
            "33489\n",
            "33856\n",
            "34225\n",
            "34596\n",
            "34969\n",
            "35344\n",
            "35721\n",
            "36100\n",
            "36481\n",
            "36864\n",
            "37249\n",
            "37636\n",
            "38025\n",
            "38416\n",
            "38809\n",
            "39204\n",
            "39601\n",
            "40000\n",
            "40401\n",
            "40804\n",
            "41209\n",
            "41616\n",
            "42025\n",
            "42436\n",
            "42849\n",
            "43264\n",
            "43681\n",
            "44100\n",
            "44521\n",
            "44944\n",
            "45369\n",
            "45796\n",
            "46225\n",
            "46656\n",
            "47089\n",
            "47524\n",
            "47961\n",
            "48400\n",
            "48841\n",
            "49284\n",
            "49729\n",
            "50176\n",
            "50625\n",
            "51076\n",
            "51529\n",
            "51984\n",
            "52441\n",
            "52900\n",
            "53361\n",
            "53824\n",
            "54289\n",
            "54756\n",
            "55225\n",
            "55696\n",
            "56169\n",
            "56644\n",
            "57121\n",
            "57600\n",
            "58081\n",
            "58564\n",
            "59049\n",
            "59536\n",
            "60025\n",
            "60516\n",
            "61009\n",
            "61504\n",
            "62001\n",
            "62500\n",
            "63001\n",
            "63504\n",
            "64009\n",
            "64516\n",
            "65025\n",
            "65536\n",
            "66049\n",
            "66564\n",
            "67081\n",
            "67600\n",
            "68121\n",
            "68644\n",
            "69169\n",
            "69696\n",
            "70225\n",
            "70756\n",
            "71289\n",
            "71824\n",
            "72361\n",
            "72900\n",
            "73441\n",
            "73984\n",
            "74529\n",
            "75076\n",
            "75625\n",
            "76176\n",
            "76729\n",
            "77284\n",
            "77841\n",
            "78400\n",
            "78961\n",
            "79524\n",
            "80089\n",
            "80656\n",
            "81225\n",
            "81796\n",
            "82369\n",
            "82944\n",
            "83521\n",
            "84100\n",
            "84681\n",
            "85264\n",
            "85849\n",
            "86436\n",
            "87025\n",
            "87616\n",
            "88209\n",
            "88804\n",
            "89401\n",
            "90000\n",
            "90601\n",
            "91204\n",
            "91809\n",
            "92416\n",
            "93025\n",
            "93636\n",
            "94249\n",
            "94864\n",
            "95481\n",
            "96100\n",
            "96721\n",
            "97344\n",
            "97969\n",
            "98596\n",
            "99225\n",
            "99856\n",
            "100489\n",
            "101124\n",
            "101761\n",
            "102400\n",
            "103041\n",
            "103684\n",
            "104329\n",
            "104976\n",
            "105625\n",
            "106276\n",
            "106929\n",
            "107584\n",
            "108241\n",
            "108900\n",
            "109561\n",
            "110224\n",
            "110889\n",
            "111556\n",
            "112225\n",
            "112896\n",
            "113569\n",
            "114244\n",
            "114921\n",
            "115600\n",
            "116281\n",
            "116964\n",
            "117649\n",
            "118336\n",
            "119025\n",
            "119716\n",
            "120409\n",
            "121104\n",
            "121801\n",
            "122500\n",
            "123201\n",
            "123904\n",
            "124609\n",
            "125316\n",
            "126025\n",
            "126736\n",
            "127449\n",
            "128164\n",
            "128881\n",
            "129600\n",
            "130321\n",
            "131044\n",
            "131769\n",
            "132496\n",
            "133225\n",
            "133956\n",
            "134689\n",
            "135424\n",
            "136161\n",
            "136900\n",
            "137641\n",
            "138384\n",
            "139129\n",
            "139876\n",
            "140625\n",
            "141376\n",
            "142129\n",
            "142884\n",
            "143641\n",
            "144400\n",
            "145161\n",
            "145924\n",
            "146689\n",
            "147456\n",
            "148225\n",
            "148996\n",
            "149769\n",
            "150544\n",
            "151321\n",
            "152100\n",
            "152881\n",
            "153664\n",
            "154449\n",
            "155236\n",
            "156025\n",
            "156816\n",
            "157609\n",
            "158404\n",
            "159201\n",
            "160000\n",
            "160801\n",
            "161604\n",
            "162409\n",
            "163216\n",
            "164025\n",
            "164836\n",
            "165649\n",
            "166464\n",
            "167281\n",
            "168100\n",
            "168921\n",
            "169744\n",
            "170569\n",
            "171396\n",
            "172225\n",
            "173056\n",
            "173889\n",
            "174724\n",
            "175561\n",
            "176400\n",
            "177241\n",
            "178084\n",
            "178929\n",
            "179776\n",
            "180625\n",
            "181476\n",
            "182329\n",
            "183184\n",
            "184041\n",
            "184900\n",
            "185761\n",
            "186624\n",
            "187489\n",
            "188356\n",
            "189225\n",
            "190096\n",
            "190969\n",
            "191844\n",
            "192721\n",
            "193600\n",
            "194481\n",
            "195364\n",
            "196249\n",
            "197136\n",
            "198025\n",
            "198916\n",
            "199809\n",
            "200704\n",
            "201601\n",
            "202500\n",
            "203401\n",
            "204304\n",
            "205209\n",
            "206116\n",
            "207025\n",
            "207936\n",
            "208849\n",
            "209764\n",
            "210681\n",
            "211600\n",
            "212521\n",
            "213444\n",
            "214369\n",
            "215296\n",
            "216225\n",
            "217156\n",
            "218089\n",
            "219024\n",
            "219961\n",
            "220900\n",
            "221841\n",
            "222784\n",
            "223729\n",
            "224676\n",
            "225625\n",
            "226576\n",
            "227529\n",
            "228484\n",
            "229441\n",
            "230400\n",
            "231361\n",
            "232324\n",
            "233289\n",
            "234256\n",
            "235225\n",
            "236196\n",
            "237169\n",
            "238144\n",
            "239121\n",
            "240100\n",
            "241081\n",
            "242064\n",
            "243049\n",
            "244036\n",
            "245025\n",
            "246016\n",
            "247009\n",
            "248004\n",
            "249001\n",
            "250000\n",
            "251001\n",
            "252004\n",
            "253009\n",
            "254016\n",
            "255025\n",
            "256036\n",
            "257049\n",
            "258064\n",
            "259081\n",
            "260100\n",
            "261121\n",
            "262144\n",
            "263169\n",
            "264196\n",
            "265225\n",
            "266256\n",
            "267289\n",
            "268324\n",
            "269361\n",
            "270400\n",
            "271441\n",
            "272484\n",
            "273529\n",
            "274576\n",
            "275625\n",
            "276676\n",
            "277729\n",
            "278784\n",
            "279841\n",
            "280900\n",
            "281961\n",
            "283024\n",
            "284089\n",
            "285156\n",
            "286225\n",
            "287296\n",
            "288369\n",
            "289444\n",
            "290521\n",
            "291600\n",
            "292681\n",
            "293764\n",
            "294849\n",
            "295936\n",
            "297025\n",
            "298116\n",
            "299209\n",
            "300304\n",
            "301401\n",
            "302500\n",
            "303601\n",
            "304704\n",
            "305809\n",
            "306916\n",
            "308025\n",
            "309136\n",
            "310249\n",
            "311364\n",
            "312481\n",
            "313600\n",
            "314721\n",
            "315844\n",
            "316969\n",
            "318096\n",
            "319225\n",
            "320356\n",
            "321489\n",
            "322624\n",
            "323761\n",
            "324900\n",
            "326041\n",
            "327184\n",
            "328329\n",
            "329476\n",
            "330625\n",
            "331776\n",
            "332929\n",
            "334084\n",
            "335241\n",
            "336400\n",
            "337561\n",
            "338724\n",
            "339889\n",
            "341056\n",
            "342225\n",
            "343396\n",
            "344569\n",
            "345744\n",
            "346921\n",
            "348100\n",
            "349281\n",
            "350464\n",
            "351649\n",
            "352836\n",
            "354025\n",
            "355216\n",
            "356409\n",
            "357604\n",
            "358801\n",
            "360000\n",
            "361201\n",
            "362404\n",
            "363609\n",
            "364816\n",
            "366025\n",
            "367236\n",
            "368449\n",
            "369664\n",
            "370881\n",
            "372100\n",
            "373321\n",
            "374544\n",
            "375769\n",
            "376996\n",
            "378225\n",
            "379456\n",
            "380689\n",
            "381924\n",
            "383161\n",
            "384400\n",
            "385641\n",
            "386884\n",
            "388129\n",
            "389376\n",
            "390625\n",
            "391876\n",
            "393129\n",
            "394384\n",
            "395641\n",
            "396900\n",
            "398161\n",
            "399424\n",
            "400689\n",
            "401956\n",
            "403225\n",
            "404496\n",
            "405769\n",
            "407044\n",
            "408321\n",
            "409600\n",
            "410881\n",
            "412164\n",
            "413449\n",
            "414736\n",
            "416025\n",
            "417316\n",
            "418609\n",
            "419904\n",
            "421201\n",
            "422500\n",
            "423801\n",
            "425104\n",
            "426409\n",
            "427716\n",
            "429025\n",
            "430336\n",
            "431649\n",
            "432964\n",
            "434281\n",
            "435600\n",
            "436921\n",
            "438244\n",
            "439569\n",
            "440896\n",
            "442225\n",
            "443556\n",
            "444889\n",
            "446224\n",
            "447561\n",
            "448900\n",
            "450241\n",
            "451584\n",
            "452929\n",
            "454276\n",
            "455625\n",
            "456976\n",
            "458329\n",
            "459684\n",
            "461041\n",
            "462400\n",
            "463761\n",
            "465124\n",
            "466489\n",
            "467856\n",
            "469225\n",
            "470596\n",
            "471969\n",
            "473344\n",
            "474721\n",
            "476100\n",
            "477481\n",
            "478864\n",
            "480249\n",
            "481636\n",
            "483025\n",
            "484416\n",
            "485809\n",
            "487204\n",
            "488601\n",
            "490000\n",
            "491401\n",
            "492804\n",
            "494209\n",
            "495616\n",
            "497025\n",
            "498436\n",
            "499849\n",
            "501264\n",
            "502681\n",
            "504100\n",
            "505521\n",
            "506944\n",
            "508369\n",
            "509796\n",
            "511225\n",
            "512656\n",
            "514089\n",
            "515524\n",
            "516961\n",
            "518400\n",
            "519841\n",
            "521284\n",
            "522729\n",
            "524176\n",
            "525625\n",
            "527076\n",
            "528529\n",
            "529984\n",
            "531441\n",
            "532900\n",
            "534361\n",
            "535824\n",
            "537289\n",
            "538756\n",
            "540225\n",
            "541696\n",
            "543169\n",
            "544644\n",
            "546121\n",
            "547600\n",
            "549081\n",
            "550564\n",
            "552049\n",
            "553536\n",
            "555025\n",
            "556516\n",
            "558009\n",
            "559504\n",
            "561001\n",
            "562500\n",
            "564001\n",
            "565504\n",
            "567009\n",
            "568516\n",
            "570025\n",
            "571536\n",
            "573049\n",
            "574564\n",
            "576081\n",
            "577600\n",
            "579121\n",
            "580644\n",
            "582169\n",
            "583696\n",
            "585225\n",
            "586756\n",
            "588289\n",
            "589824\n",
            "591361\n",
            "592900\n",
            "594441\n",
            "595984\n",
            "597529\n",
            "599076\n",
            "600625\n",
            "602176\n",
            "603729\n",
            "605284\n",
            "606841\n",
            "608400\n",
            "609961\n",
            "611524\n",
            "613089\n",
            "614656\n",
            "616225\n",
            "617796\n",
            "619369\n",
            "620944\n",
            "622521\n",
            "624100\n",
            "625681\n",
            "627264\n",
            "628849\n",
            "630436\n",
            "632025\n",
            "633616\n",
            "635209\n",
            "636804\n",
            "638401\n",
            "640000\n",
            "641601\n",
            "643204\n",
            "644809\n",
            "646416\n",
            "648025\n",
            "649636\n",
            "651249\n",
            "652864\n",
            "654481\n",
            "656100\n",
            "657721\n",
            "659344\n",
            "660969\n",
            "662596\n",
            "664225\n",
            "665856\n",
            "667489\n",
            "669124\n",
            "670761\n",
            "672400\n",
            "674041\n",
            "675684\n",
            "677329\n",
            "678976\n",
            "680625\n",
            "682276\n",
            "683929\n",
            "685584\n",
            "687241\n",
            "688900\n",
            "690561\n",
            "692224\n",
            "693889\n",
            "695556\n",
            "697225\n",
            "698896\n",
            "700569\n",
            "702244\n",
            "703921\n",
            "705600\n",
            "707281\n",
            "708964\n",
            "710649\n",
            "712336\n",
            "714025\n",
            "715716\n",
            "717409\n",
            "719104\n",
            "720801\n",
            "722500\n",
            "724201\n",
            "725904\n",
            "727609\n",
            "729316\n",
            "731025\n",
            "732736\n",
            "734449\n",
            "736164\n",
            "737881\n",
            "739600\n",
            "741321\n",
            "743044\n",
            "744769\n",
            "746496\n",
            "748225\n",
            "749956\n",
            "751689\n",
            "753424\n",
            "755161\n",
            "756900\n",
            "758641\n",
            "760384\n",
            "762129\n",
            "763876\n",
            "765625\n",
            "767376\n",
            "769129\n",
            "770884\n",
            "772641\n",
            "774400\n",
            "776161\n",
            "777924\n",
            "779689\n",
            "781456\n",
            "783225\n",
            "784996\n",
            "786769\n",
            "788544\n",
            "790321\n",
            "792100\n",
            "793881\n",
            "795664\n",
            "797449\n",
            "799236\n",
            "801025\n",
            "802816\n",
            "804609\n",
            "806404\n",
            "808201\n",
            "810000\n",
            "811801\n",
            "813604\n",
            "815409\n",
            "817216\n",
            "819025\n",
            "820836\n",
            "822649\n",
            "824464\n",
            "826281\n",
            "828100\n",
            "829921\n",
            "831744\n",
            "833569\n",
            "835396\n",
            "837225\n",
            "839056\n",
            "840889\n",
            "842724\n",
            "844561\n",
            "846400\n",
            "848241\n",
            "850084\n",
            "851929\n",
            "853776\n",
            "855625\n",
            "857476\n",
            "859329\n",
            "861184\n",
            "863041\n",
            "864900\n",
            "866761\n",
            "868624\n",
            "870489\n",
            "872356\n",
            "874225\n",
            "876096\n",
            "877969\n",
            "879844\n",
            "881721\n",
            "883600\n",
            "885481\n",
            "887364\n",
            "889249\n",
            "891136\n",
            "893025\n",
            "894916\n",
            "896809\n",
            "898704\n",
            "900601\n",
            "902500\n",
            "904401\n",
            "906304\n",
            "908209\n",
            "910116\n",
            "912025\n",
            "913936\n",
            "915849\n",
            "917764\n",
            "919681\n",
            "921600\n",
            "923521\n",
            "925444\n",
            "927369\n",
            "929296\n",
            "931225\n",
            "933156\n",
            "935089\n",
            "937024\n",
            "938961\n",
            "940900\n",
            "942841\n",
            "944784\n",
            "946729\n",
            "948676\n",
            "950625\n",
            "952576\n",
            "954529\n",
            "956484\n",
            "958441\n",
            "960400\n",
            "962361\n",
            "964324\n",
            "966289\n",
            "968256\n",
            "970225\n",
            "972196\n",
            "974169\n",
            "976144\n",
            "978121\n",
            "980100\n",
            "982081\n",
            "984064\n",
            "986049\n",
            "988036\n",
            "990025\n",
            "992016\n",
            "994009\n",
            "996004\n",
            "998001\n"
          ]
        }
      ]
    },
    {
      "cell_type": "markdown",
      "metadata": {
        "id": "UbzBLr4kvDJ6"
      },
      "source": [
        "#### <span style=\"text-align: right; direction: rtl; float: right; clear: both;\">תשובות חלקיות</span>"
      ]
    },
    {
      "cell_type": "markdown",
      "metadata": {
        "id": "Sr1iM3LpvDJ6"
      },
      "source": [
        "<p style=\"text-align: right; direction: rtl; float: right; clear: both;\">\n",
        "    לעיתים ניאלץ לבצע חישוב ארוך, שהשלמתו תימשך זמן רב מאוד.<br>\n",
        "    במקרה כזה, נוכל להשתמש ב־generator כדי לקבל חלק מהתוצאה בזמן אמת,<br>\n",
        "    בזמן שבפונקציה \"רגילה\" נצטרך להמתין עד סיום החישוב כולו.\n",
        "</p>"
      ]
    },
    {
      "cell_type": "markdown",
      "metadata": {
        "id": "aP5hSxObvDJ6"
      },
      "source": [
        "<p style=\"text-align: right; direction: rtl; float: right; clear: both;\">\n",
        "    שלשה פיתגורית, לדוגמה, היא שלישיית מספרים שלמים וחיוביים, $a$, $b$ ו־$c$, שעונים על הדרישה $a^2 + b^2 = c^2$.<br>\n",
        "    אם כך, כדי ששלושה מספרים שאנחנו בוחרים ייחשבו שלשה פיתגורית,<br>\n",
        "    הסכום של ריבוע המספר הראשון וריבוע המספר השני, אמור להיות שווה לערכו של המספר השלישי בריבוע.\n",
        "</p>"
      ]
    },
    {
      "cell_type": "markdown",
      "metadata": {
        "id": "VNJtOwJlvDJ6"
      },
      "source": [
        "<p style=\"text-align: right; direction: rtl; float: right; clear: both;\">\n",
        "    אלו דוגמאות לשלשות פיתגוריות:\n",
        "</p>\n",
        "\n",
        "<ul style=\"text-align: right; direction: rtl; float: right; clear: both;\">\n",
        "    <li>$(3, 4, 5)$, כיוון ש־$9 + 16 = 25$.<br>\n",
        "        9 הוא 3 בריבוע, 16 הוא 4 בריבוע ו־25 הוא 5 בריבוע.\n",
        "    </li>\n",
        "    <li>$(5, 12, 13)$, כיוון ש־$25 + 144 = 169$.</li>\n",
        "    <li>$(8, 15, 17)$, כיוון ש־$64 + 225 = 289$.</li>\n",
        "</ul>"
      ]
    },
    {
      "cell_type": "markdown",
      "metadata": {
        "id": "w4RC5AA9vDJ6"
      },
      "source": [
        "<p style=\"text-align: right; direction: rtl; float: right; clear: both;\">\n",
        "    ננסה למצוא את כל השלשות הפיתגוריות מתחת ל־10,000 בעזרת קוד שרץ על כל השלשות האפשריות:\n",
        "</p>"
      ]
    },
    {
      "cell_type": "code",
      "execution_count": 19,
      "metadata": {
        "id": "U5cfqFW_vDJ6",
        "outputId": "93f325c4-e643-428e-db13-2b9b4c092d2e",
        "colab": {
          "base_uri": "https://localhost:8080/",
          "height": 315
        }
      },
      "outputs": [
        {
          "output_type": "error",
          "ename": "KeyboardInterrupt",
          "evalue": "",
          "traceback": [
            "\u001b[0;31m---------------------------------------------------------------------------\u001b[0m",
            "\u001b[0;31mKeyboardInterrupt\u001b[0m                         Traceback (most recent call last)",
            "\u001b[0;32m<ipython-input-19-c90a8b611b57>\u001b[0m in \u001b[0;36m<cell line: 11>\u001b[0;34m()\u001b[0m\n\u001b[1;32m      9\u001b[0m \u001b[0;34m\u001b[0m\u001b[0m\n\u001b[1;32m     10\u001b[0m \u001b[0;34m\u001b[0m\u001b[0m\n\u001b[0;32m---> 11\u001b[0;31m \u001b[0;32mfor\u001b[0m \u001b[0mtriple\u001b[0m \u001b[0;32min\u001b[0m \u001b[0mfind_pythagorean_triples\u001b[0m\u001b[0;34m(\u001b[0m\u001b[0;34m)\u001b[0m\u001b[0;34m:\u001b[0m\u001b[0;34m\u001b[0m\u001b[0;34m\u001b[0m\u001b[0m\n\u001b[0m\u001b[1;32m     12\u001b[0m     \u001b[0mprint\u001b[0m\u001b[0;34m(\u001b[0m\u001b[0mtriple\u001b[0m\u001b[0;34m)\u001b[0m\u001b[0;34m\u001b[0m\u001b[0;34m\u001b[0m\u001b[0m\n",
            "\u001b[0;32m<ipython-input-19-c90a8b611b57>\u001b[0m in \u001b[0;36mfind_pythagorean_triples\u001b[0;34m(upper_bound)\u001b[0m\n\u001b[1;32m      4\u001b[0m         \u001b[0;32mfor\u001b[0m \u001b[0mb\u001b[0m \u001b[0;32min\u001b[0m \u001b[0mrange\u001b[0m\u001b[0;34m(\u001b[0m\u001b[0;36m2\u001b[0m\u001b[0;34m,\u001b[0m \u001b[0mc\u001b[0m\u001b[0;34m)\u001b[0m\u001b[0;34m:\u001b[0m\u001b[0;34m\u001b[0m\u001b[0;34m\u001b[0m\u001b[0m\n\u001b[1;32m      5\u001b[0m             \u001b[0;32mfor\u001b[0m \u001b[0ma\u001b[0m \u001b[0;32min\u001b[0m \u001b[0mrange\u001b[0m\u001b[0;34m(\u001b[0m\u001b[0;36m1\u001b[0m\u001b[0;34m,\u001b[0m \u001b[0mb\u001b[0m\u001b[0;34m)\u001b[0m\u001b[0;34m:\u001b[0m\u001b[0;34m\u001b[0m\u001b[0;34m\u001b[0m\u001b[0m\n\u001b[0;32m----> 6\u001b[0;31m                 \u001b[0;32mif\u001b[0m \u001b[0ma\u001b[0m \u001b[0;34m**\u001b[0m \u001b[0;36m2\u001b[0m \u001b[0;34m+\u001b[0m \u001b[0mb\u001b[0m \u001b[0;34m**\u001b[0m\u001b[0;36m2\u001b[0m \u001b[0;34m==\u001b[0m \u001b[0mc\u001b[0m \u001b[0;34m**\u001b[0m \u001b[0;36m2\u001b[0m\u001b[0;34m:\u001b[0m\u001b[0;34m\u001b[0m\u001b[0;34m\u001b[0m\u001b[0m\n\u001b[0m\u001b[1;32m      7\u001b[0m                     \u001b[0mpythagorean_triples\u001b[0m\u001b[0;34m.\u001b[0m\u001b[0mappend\u001b[0m\u001b[0;34m(\u001b[0m\u001b[0;34m(\u001b[0m\u001b[0ma\u001b[0m\u001b[0;34m,\u001b[0m \u001b[0mb\u001b[0m\u001b[0;34m,\u001b[0m \u001b[0mc\u001b[0m\u001b[0;34m)\u001b[0m\u001b[0;34m)\u001b[0m\u001b[0;34m\u001b[0m\u001b[0;34m\u001b[0m\u001b[0m\n\u001b[1;32m      8\u001b[0m     \u001b[0;32mreturn\u001b[0m \u001b[0mpythagorean_triples\u001b[0m\u001b[0;34m\u001b[0m\u001b[0;34m\u001b[0m\u001b[0m\n",
            "\u001b[0;31mKeyboardInterrupt\u001b[0m: "
          ]
        }
      ],
      "source": [
        "def find_pythagorean_triples(upper_bound=10_000):\n",
        "    pythagorean_triples = []\n",
        "    for c in range(3, upper_bound):\n",
        "        for b in range(2, c):\n",
        "            for a in range(1, b):\n",
        "                if a ** 2 + b **2 == c ** 2:\n",
        "                    pythagorean_triples.append((a, b, c))\n",
        "    return pythagorean_triples\n",
        "\n",
        "\n",
        "for triple in find_pythagorean_triples():\n",
        "    print(triple)"
      ]
    },
    {
      "cell_type": "markdown",
      "metadata": {
        "id": "a7XsHMSavDJ6"
      },
      "source": [
        "<div class=\"align-center\" style=\"display: flex; text-align: right; direction: rtl;\">\n",
        "    <div style=\"display: flex; width: 10%; float: right; \">\n",
        "        <img src=\"https://github.com/PythonFreeCourse/Notebooks/blob/main/content/week05/images/warning.png?raw=1\" style=\"height: 50px !important;\" alt=\"אזהרה!\">\n",
        "    </div>\n",
        "    <div style=\"width: 90%\">\n",
        "        <p style=\"text-align: right; direction: rtl;\">\n",
        "            הרצת התא הקודם תתקע את המחברת (חישוב התוצאה יימשך זמן רב).<br>\n",
        "            כדי להיות מסוגלים להריץ את התאים הבאים, לחצו <samp>00</samp> לאחר הרצת התא, ובחרו <em>Restart</em>.<br>\n",
        "            אל דאגה – האתחול יתבצע אך ורק עבור המחברת, ולא עבור מחשב.\n",
        "        </p>\n",
        "    </div>\n",
        "</div>"
      ]
    },
    {
      "cell_type": "markdown",
      "metadata": {
        "id": "ZxSJefsXvDJ6"
      },
      "source": [
        "<p style=\"text-align: right; direction: rtl; float: right; clear: both;\">\n",
        "    יו, כמה זמן נמשכת הרצת הקוד הזה... 😴<br>\n",
        "    הלוואי שעד שהקוד הזה היה מסיים היינו מקבלים לפחות <em>חלק</em> מהתוצאות!<br>\n",
        "    נפנה ל־generator־ים לעזרה:\n",
        "</p>"
      ]
    },
    {
      "cell_type": "code",
      "execution_count": 20,
      "metadata": {
        "id": "qJJjaQH4vDJ7",
        "outputId": "d584e85e-7720-447f-8e17-40e07ed9b71e",
        "colab": {
          "base_uri": "https://localhost:8080/",
          "height": 1000
        }
      },
      "outputs": [
        {
          "output_type": "stream",
          "name": "stdout",
          "text": [
            "(3, 4, 5)\n",
            "(6, 8, 10)\n",
            "(5, 12, 13)\n",
            "(9, 12, 15)\n",
            "(8, 15, 17)\n",
            "(12, 16, 20)\n",
            "(15, 20, 25)\n",
            "(7, 24, 25)\n",
            "(10, 24, 26)\n",
            "(20, 21, 29)\n",
            "(18, 24, 30)\n",
            "(16, 30, 34)\n",
            "(21, 28, 35)\n",
            "(12, 35, 37)\n",
            "(15, 36, 39)\n",
            "(24, 32, 40)\n",
            "(9, 40, 41)\n",
            "(27, 36, 45)\n",
            "(30, 40, 50)\n",
            "(14, 48, 50)\n",
            "(24, 45, 51)\n",
            "(20, 48, 52)\n",
            "(28, 45, 53)\n",
            "(33, 44, 55)\n",
            "(40, 42, 58)\n",
            "(36, 48, 60)\n",
            "(11, 60, 61)\n",
            "(39, 52, 65)\n",
            "(33, 56, 65)\n",
            "(25, 60, 65)\n",
            "(16, 63, 65)\n",
            "(32, 60, 68)\n",
            "(42, 56, 70)\n",
            "(48, 55, 73)\n",
            "(24, 70, 74)\n",
            "(45, 60, 75)\n",
            "(21, 72, 75)\n",
            "(30, 72, 78)\n",
            "(48, 64, 80)\n",
            "(18, 80, 82)\n",
            "(51, 68, 85)\n",
            "(40, 75, 85)\n",
            "(36, 77, 85)\n",
            "(13, 84, 85)\n",
            "(60, 63, 87)\n",
            "(39, 80, 89)\n",
            "(54, 72, 90)\n",
            "(35, 84, 91)\n",
            "(57, 76, 95)\n",
            "(65, 72, 97)\n",
            "(60, 80, 100)\n",
            "(28, 96, 100)\n",
            "(20, 99, 101)\n",
            "(48, 90, 102)\n",
            "(40, 96, 104)\n",
            "(63, 84, 105)\n",
            "(56, 90, 106)\n",
            "(60, 91, 109)\n",
            "(66, 88, 110)\n",
            "(36, 105, 111)\n",
            "(15, 112, 113)\n",
            "(69, 92, 115)\n",
            "(80, 84, 116)\n",
            "(45, 108, 117)\n",
            "(56, 105, 119)\n",
            "(72, 96, 120)\n",
            "(22, 120, 122)\n",
            "(27, 120, 123)\n",
            "(75, 100, 125)\n",
            "(44, 117, 125)\n",
            "(35, 120, 125)\n",
            "(78, 104, 130)\n",
            "(66, 112, 130)\n",
            "(50, 120, 130)\n",
            "(32, 126, 130)\n",
            "(81, 108, 135)\n",
            "(64, 120, 136)\n",
            "(88, 105, 137)\n",
            "(84, 112, 140)\n",
            "(55, 132, 143)\n",
            "(100, 105, 145)\n",
            "(87, 116, 145)\n",
            "(24, 143, 145)\n",
            "(17, 144, 145)\n",
            "(96, 110, 146)\n",
            "(48, 140, 148)\n",
            "(51, 140, 149)\n",
            "(90, 120, 150)\n",
            "(42, 144, 150)\n",
            "(72, 135, 153)\n",
            "(93, 124, 155)\n",
            "(60, 144, 156)\n",
            "(85, 132, 157)\n",
            "(84, 135, 159)\n",
            "(96, 128, 160)\n",
            "(36, 160, 164)\n",
            "(99, 132, 165)\n",
            "(119, 120, 169)\n",
            "(65, 156, 169)\n",
            "(102, 136, 170)\n",
            "(80, 150, 170)\n",
            "(72, 154, 170)\n",
            "(26, 168, 170)\n",
            "(52, 165, 173)\n",
            "(120, 126, 174)\n",
            "(105, 140, 175)\n",
            "(49, 168, 175)\n",
            "(78, 160, 178)\n",
            "(108, 144, 180)\n",
            "(19, 180, 181)\n",
            "(70, 168, 182)\n",
            "(33, 180, 183)\n",
            "(111, 148, 185)\n",
            "(104, 153, 185)\n",
            "(60, 175, 185)\n",
            "(57, 176, 185)\n",
            "(88, 165, 187)\n",
            "(114, 152, 190)\n",
            "(95, 168, 193)\n",
            "(130, 144, 194)\n",
            "(117, 156, 195)\n",
            "(99, 168, 195)\n",
            "(75, 180, 195)\n",
            "(48, 189, 195)\n",
            "(28, 195, 197)\n",
            "(120, 160, 200)\n",
            "(56, 192, 200)\n",
            "(40, 198, 202)\n",
            "(140, 147, 203)\n",
            "(96, 180, 204)\n",
            "(133, 156, 205)\n",
            "(123, 164, 205)\n",
            "(84, 187, 205)\n",
            "(45, 200, 205)\n",
            "(80, 192, 208)\n",
            "(126, 168, 210)\n",
            "(112, 180, 212)\n",
            "(129, 172, 215)\n",
            "(120, 182, 218)\n",
            "(144, 165, 219)\n",
            "(132, 176, 220)\n",
            "(140, 171, 221)\n",
            "(104, 195, 221)\n",
            "(85, 204, 221)\n",
            "(21, 220, 221)\n",
            "(72, 210, 222)\n",
            "(135, 180, 225)\n",
            "(63, 216, 225)\n",
            "(30, 224, 226)\n",
            "(60, 221, 229)\n",
            "(138, 184, 230)\n",
            "(160, 168, 232)\n",
            "(105, 208, 233)\n",
            "(90, 216, 234)\n",
            "(141, 188, 235)\n",
            "(112, 210, 238)\n",
            "(144, 192, 240)\n",
            "(120, 209, 241)\n",
            "(44, 240, 244)\n",
            "(147, 196, 245)\n",
            "(54, 240, 246)\n",
            "(95, 228, 247)\n",
            "(150, 200, 250)\n",
            "(88, 234, 250)\n",
            "(70, 240, 250)\n",
            "(153, 204, 255)\n",
            "(120, 225, 255)\n",
            "(108, 231, 255)\n",
            "(39, 252, 255)\n",
            "(32, 255, 257)\n",
            "(84, 245, 259)\n",
            "(156, 208, 260)\n",
            "(132, 224, 260)\n",
            "(100, 240, 260)\n",
            "(64, 252, 260)\n",
            "(180, 189, 261)\n",
            "(159, 212, 265)\n",
            "(140, 225, 265)\n",
            "(96, 247, 265)\n",
            "(23, 264, 265)\n",
            "(117, 240, 267)\n",
            "(69, 260, 269)\n",
            "(162, 216, 270)\n",
            "(128, 240, 272)\n",
            "(105, 252, 273)\n",
            "(176, 210, 274)\n",
            "(165, 220, 275)\n",
            "(77, 264, 275)\n",
            "(115, 252, 277)\n",
            "(168, 224, 280)\n",
            "(160, 231, 281)\n",
            "(171, 228, 285)\n",
            "(110, 264, 286)\n",
            "(63, 280, 287)\n",
            "(161, 240, 289)\n",
            "(136, 255, 289)\n",
            "(200, 210, 290)\n",
            "(174, 232, 290)\n",
            "(48, 286, 290)\n",
            "(34, 288, 290)\n",
            "(195, 216, 291)\n",
            "(192, 220, 292)\n",
            "(68, 285, 293)\n",
            "(177, 236, 295)\n",
            "(96, 280, 296)\n",
            "(102, 280, 298)\n",
            "(115, 276, 299)\n",
            "(180, 240, 300)\n",
            "(84, 288, 300)\n",
            "(60, 297, 303)\n",
            "(207, 224, 305)\n",
            "(183, 244, 305)\n",
            "(136, 273, 305)\n",
            "(55, 300, 305)\n",
            "(144, 270, 306)\n"
          ]
        },
        {
          "output_type": "error",
          "ename": "KeyboardInterrupt",
          "evalue": "",
          "traceback": [
            "\u001b[0;31m---------------------------------------------------------------------------\u001b[0m",
            "\u001b[0;31mKeyboardInterrupt\u001b[0m                         Traceback (most recent call last)",
            "\u001b[0;32m<ipython-input-20-c41b18fae506>\u001b[0m in \u001b[0;36m<cell line: 9>\u001b[0;34m()\u001b[0m\n\u001b[1;32m      7\u001b[0m \u001b[0;34m\u001b[0m\u001b[0m\n\u001b[1;32m      8\u001b[0m \u001b[0;34m\u001b[0m\u001b[0m\n\u001b[0;32m----> 9\u001b[0;31m \u001b[0;32mfor\u001b[0m \u001b[0mtriple\u001b[0m \u001b[0;32min\u001b[0m \u001b[0mfind_pythagorean_triples\u001b[0m\u001b[0;34m(\u001b[0m\u001b[0;34m)\u001b[0m\u001b[0;34m:\u001b[0m\u001b[0;34m\u001b[0m\u001b[0;34m\u001b[0m\u001b[0m\n\u001b[0m\u001b[1;32m     10\u001b[0m     \u001b[0mprint\u001b[0m\u001b[0;34m(\u001b[0m\u001b[0mtriple\u001b[0m\u001b[0;34m)\u001b[0m\u001b[0;34m\u001b[0m\u001b[0;34m\u001b[0m\u001b[0m\n",
            "\u001b[0;32m<ipython-input-20-c41b18fae506>\u001b[0m in \u001b[0;36mfind_pythagorean_triples\u001b[0;34m(upper_bound)\u001b[0m\n\u001b[1;32m      3\u001b[0m         \u001b[0;32mfor\u001b[0m \u001b[0mb\u001b[0m \u001b[0;32min\u001b[0m \u001b[0mrange\u001b[0m\u001b[0;34m(\u001b[0m\u001b[0;36m2\u001b[0m\u001b[0;34m,\u001b[0m \u001b[0mc\u001b[0m\u001b[0;34m)\u001b[0m\u001b[0;34m:\u001b[0m\u001b[0;34m\u001b[0m\u001b[0;34m\u001b[0m\u001b[0m\n\u001b[1;32m      4\u001b[0m             \u001b[0;32mfor\u001b[0m \u001b[0ma\u001b[0m \u001b[0;32min\u001b[0m \u001b[0mrange\u001b[0m\u001b[0;34m(\u001b[0m\u001b[0;36m1\u001b[0m\u001b[0;34m,\u001b[0m \u001b[0mb\u001b[0m\u001b[0;34m)\u001b[0m\u001b[0;34m:\u001b[0m\u001b[0;34m\u001b[0m\u001b[0;34m\u001b[0m\u001b[0m\n\u001b[0;32m----> 5\u001b[0;31m                 \u001b[0;32mif\u001b[0m \u001b[0ma\u001b[0m \u001b[0;34m**\u001b[0m \u001b[0;36m2\u001b[0m \u001b[0;34m+\u001b[0m \u001b[0mb\u001b[0m \u001b[0;34m**\u001b[0m\u001b[0;36m2\u001b[0m \u001b[0;34m==\u001b[0m \u001b[0mc\u001b[0m \u001b[0;34m**\u001b[0m \u001b[0;36m2\u001b[0m\u001b[0;34m:\u001b[0m\u001b[0;34m\u001b[0m\u001b[0;34m\u001b[0m\u001b[0m\n\u001b[0m\u001b[1;32m      6\u001b[0m                     \u001b[0;32myield\u001b[0m \u001b[0ma\u001b[0m\u001b[0;34m,\u001b[0m \u001b[0mb\u001b[0m\u001b[0;34m,\u001b[0m \u001b[0mc\u001b[0m\u001b[0;34m\u001b[0m\u001b[0;34m\u001b[0m\u001b[0m\n\u001b[1;32m      7\u001b[0m \u001b[0;34m\u001b[0m\u001b[0m\n",
            "\u001b[0;31mKeyboardInterrupt\u001b[0m: "
          ]
        }
      ],
      "source": [
        "def find_pythagorean_triples(upper_bound=10_000):\n",
        "    for c in range(3, upper_bound):\n",
        "        for b in range(2, c):\n",
        "            for a in range(1, b):\n",
        "                if a ** 2 + b **2 == c ** 2:\n",
        "                    yield a, b, c\n",
        "\n",
        "\n",
        "for triple in find_pythagorean_triples():\n",
        "    print(triple)"
      ]
    },
    {
      "cell_type": "markdown",
      "metadata": {
        "id": "dcL1bCdmvDJ7"
      },
      "source": [
        "<p style=\"text-align: right; direction: rtl; float: right; clear: both;\">\n",
        "    איך זה קרה? קיבלנו את התשובה בתוך שבריר שנייה!<br>\n",
        "    ובכן, זה לא מדויק – קיבלנו חלק מהתשובות. שימו לב שהקוד ממשיך להדפיס :)<br>\n",
        "</p>"
      ]
    },
    {
      "cell_type": "markdown",
      "metadata": {
        "id": "44JvDu7vvDJ7"
      },
      "source": [
        "<p style=\"text-align: right; direction: rtl; float: right; clear: both;\">\n",
        "    להזכירכם, ה־generator שולח את התוצאה החוצה מייד כשהוא מוצא שלשה אחת,<br>\n",
        "    וה־for מקבל מה־generator iterable כל שלשה ברגע שהיא נמצאה.<br>\n",
        "    ברגע שה־for מקבל שלשה, הוא מבצע את גוף הלולאה עבור אותה שלשה, ורק אז מבקש מ־generator את האיבר הבא.<br>\n",
        "    בגלל האופי של generators, הקוד בתא האחרון מדפיס לנו כל שלשה ברגע שהוא מצא אותה, ולא מחכה עד שיימצאו כל השלשות.\n",
        "</p>"
      ]
    },
    {
      "cell_type": "markdown",
      "metadata": {
        "id": "LBK0pFNTvDJ7"
      },
      "source": [
        "#### <span style=\"text-align: right; direction: rtl; float: right; clear: both;\">תרגול ביניים: מספרים פראיים</span>"
      ]
    },
    {
      "cell_type": "markdown",
      "metadata": {
        "id": "zplJG6VevDJ7"
      },
      "source": [
        "<p style=\"text-align: right; direction: rtl; float: right; clear: both;\">\n",
        "    \"פירוק לגורמים של מספר שלם\" היא בעיה שחישוב פתרונה נמשך זמן רב במחשבים מודרניים.\n",
        "</p>"
      ]
    },
    {
      "cell_type": "markdown",
      "metadata": {
        "id": "B45ZZbYYvDJ8"
      },
      "source": [
        "<p style=\"text-align: right; direction: rtl; float: right; clear: both;\">\n",
        "    עליכם לכתוב פונקציה שמקבלת מספר חיובי שלם $n$, ומחזירה קבוצת מספרים שמכפלתם (תוצאת הכפל ביניהם) היא $n$.<br>\n",
        "    לדוגמה, המספר 1,386 בנוי מהמכפלה של קבוצת המספרים $2 \\cdot 3 \\cdot 3 \\cdot 7 \\cdot 11$.<br>\n",
        "    כל מספר בקבוצת המספרים הזו חייב להיות ראשוני.<br>\n",
        "    להזכירכם: מספר ראשוני הוא מספר שאין לו מחלקים חוץ מעצמו ומ־1.\n",
        "</p>"
      ]
    },
    {
      "cell_type": "markdown",
      "metadata": {
        "id": "aMeUlFRbvDJ8"
      },
      "source": [
        "<p style=\"text-align: right; direction: rtl; float: right; clear: both;\">\n",
        "    הניחו שהמספר שהתקבל אינו ראשוני.<br>\n",
        "    מה היתרון של generator על פני פונקציה רגילה שעושה אותו דבר?\n",
        "</p>"
      ]
    },
    {
      "cell_type": "markdown",
      "metadata": {
        "id": "b5pHtaC5vDJ8"
      },
      "source": [
        "<p style=\"text-align: right; direction: rtl; float: right; clear: both;\">    \n",
        "    רמז: <span style=\"background: black; color: black;\">אם תנסו לחלק את המספר ב־2, ואז ב־3 (וכן הלאה), בסופו של דבר תגיעו למחלק ראשוני של המספר.</span><br>\n",
        "    רמז עבה: <span style=\"background: black; color: black;\">בכל פעם שמצאתם מחלק אחד למספר, חלקו את המספר במחלק, והתחילו את החיפוש מחדש. מתי עליכם לעצור?</span>\n",
        "</p>"
      ]
    },
    {
      "cell_type": "code",
      "source": [
        "def decompose_to_primary(num):\n",
        "  while num > 1:\n",
        "    i = 2\n",
        "    found_primary = False\n",
        "    while not found_primary:\n",
        "      if (num / i).is_integer():\n",
        "        num /= i\n",
        "        found_primary = True\n",
        "        yield i\n",
        "\n",
        "      i += 1\n",
        "\n",
        ""
      ],
      "metadata": {
        "id": "VP5rJOTazIYA"
      },
      "execution_count": 43,
      "outputs": []
    },
    {
      "cell_type": "code",
      "source": [
        "for prime in decompose_to_primary(1386):\n",
        "    print(prime)\n"
      ],
      "metadata": {
        "id": "Ztjq3DmT1yTz",
        "outputId": "0eff1ed0-fb94-4eef-e30b-6b7c5fe5c1c4",
        "colab": {
          "base_uri": "https://localhost:8080/"
        }
      },
      "execution_count": 44,
      "outputs": [
        {
          "output_type": "stream",
          "name": "stdout",
          "text": [
            "2\n",
            "3\n",
            "3\n",
            "7\n",
            "11\n"
          ]
        }
      ]
    },
    {
      "cell_type": "markdown",
      "metadata": {
        "id": "Lu_UzYV1vDJ8"
      },
      "source": [
        "#### <span style=\"text-align: right; direction: rtl; float: right; clear: both;\">אוספים אין־סופיים</span>"
      ]
    },
    {
      "cell_type": "markdown",
      "metadata": {
        "id": "o-qLG4-nvDJ9"
      },
      "source": [
        "<p style=\"text-align: right; direction: rtl; float: right; clear: both;\">\n",
        "    עבור בעיות מסוימות, נרצה להיות מסוגלים להחזיר אין־סוף תוצאות.<br>\n",
        "    ניקח כדוגמה לסדרה אין־סופית את סדרת פיבונאצ'י, שבה כל איבר הוא סכום זוג האיברים הקודמים לו:<br>\n",
        "    $1, 1, 2, 3, 5, 8, \\ldots$\n",
        "</p>"
      ]
    },
    {
      "cell_type": "markdown",
      "metadata": {
        "id": "EHYCmw_4vDJ-"
      },
      "source": [
        "<p style=\"text-align: right; direction: rtl; float: right; clear: both;\">\n",
        "    נממש פונקציה שמחזירה לנו את סדרת פיבונאצ'י.<br>\n",
        "    בפונקציה רגילה אין לנו אפשרות להחזיר מספר אין־סופי של איברים, ולכן נצטרך להחליט על מספר האיברים המרבי שנרצה להחזיר:\n",
        "</p>"
      ]
    },
    {
      "cell_type": "code",
      "execution_count": null,
      "metadata": {
        "id": "UJrq2j9NvDJ-"
      },
      "outputs": [],
      "source": [
        "def fibonacci(max_items):\n",
        "    a = 1\n",
        "    b = 1\n",
        "    numbers = [1, 1]\n",
        "    while len(numbers) < max_items:\n",
        "        a, b = b, a + b  # Unpacking\n",
        "        numbers.append(b)\n",
        "    return numbers\n",
        "\n",
        "\n",
        "for number in fibonacci(10):\n",
        "    print(number)"
      ]
    },
    {
      "cell_type": "markdown",
      "metadata": {
        "id": "DOgzMauGvDJ_"
      },
      "source": [
        "<p style=\"text-align: right; direction: rtl; float: right; clear: both;\">\n",
        "    לעומת זאת, ל־generators לא חייב להיות סוף מוגדר.<br>\n",
        "    נשתמש ב־<code>while True</code> שתמיד מתקיים, כדי שבסופו של דבר – תמיד נגיע ל־<code>yield</code>:\n",
        "</p>"
      ]
    },
    {
      "cell_type": "code",
      "execution_count": 45,
      "metadata": {
        "id": "pBuk2a70vDJ_",
        "outputId": "3f68ffbb-32c0-477b-e55c-419027dbd264",
        "colab": {
          "base_uri": "https://localhost:8080/"
        }
      },
      "outputs": [
        {
          "output_type": "stream",
          "name": "stdout",
          "text": [
            "1\n",
            "1\n",
            "2\n",
            "3\n",
            "5\n",
            "8\n",
            "13\n",
            "21\n",
            "34\n",
            "55\n",
            "89\n",
            "144\n",
            "233\n",
            "377\n",
            "610\n",
            "987\n",
            "1597\n",
            "2584\n",
            "4181\n",
            "6765\n"
          ]
        }
      ],
      "source": [
        "def fibonacci():\n",
        "    a = 1\n",
        "    b = 1\n",
        "    numbers = [1, 1]\n",
        "    while True:  # תמיד מתקיים\n",
        "        yield a\n",
        "        a, b = b, a + b\n",
        "\n",
        "\n",
        "generator_iterator = fibonacci()\n",
        "for number in range(10):\n",
        "    print(next(generator_iterator))\n",
        "\n",
        "# אני יכול לבקש בקלות רבה את 10 האיברים הבאים בסדרה\n",
        "for number in range(10):\n",
        "    print(next(generator_iterator))"
      ]
    },
    {
      "cell_type": "markdown",
      "metadata": {
        "id": "AS14hHKvvDKA"
      },
      "source": [
        "<div class=\"align-center\" style=\"display: flex; text-align: right; direction: rtl;\">\n",
        "    <div style=\"display: flex; width: 10%; float: right; \">\n",
        "        <img src=\"https://github.com/PythonFreeCourse/Notebooks/blob/main/content/week05/images/warning.png?raw=1\" style=\"height: 50px !important;\" alt=\"אזהרה!\">\n",
        "    </div>\n",
        "    <div style=\"width: 90%\">\n",
        "        <p style=\"text-align: right; direction: rtl;\">\n",
        "            generators אין־סופיים יכולים לגרום בקלות ללולאות אין־סופיות, גם בלולאות <code>for</code>.<br>\n",
        "            שימו לב לצורת ההתעסקות העדינה בדוגמאות למעלה.<br>\n",
        "            הרצת לולאת <code>for</code> ישירות על ה־generator iterator הייתה מכניסה אותנו ללולאה אין־סופית.\n",
        "        </p>\n",
        "    </div>\n",
        "</div>"
      ]
    },
    {
      "cell_type": "markdown",
      "metadata": {
        "id": "oQS_7uTLvDKA"
      },
      "source": [
        "<div class=\"align-center\" style=\"display: flex; text-align: right; direction: rtl; clear: both;\">\n",
        "    <div style=\"display: flex; width: 10%; float: right; clear: both;\">\n",
        "        <img src=\"https://github.com/PythonFreeCourse/Notebooks/blob/main/content/week05/images/exercise.svg?raw=1\" style=\"height: 50px !important;\" alt=\"תרגול\">\n",
        "    </div>\n",
        "    <div style=\"width: 70%\">\n",
        "        <p style=\"text-align: right; direction: rtl; float: right; clear: both;\">\n",
        "            כתבו generator שמחזיר את כל המספרים השלמים הגדולים מ־0.\n",
        "        </p>\n",
        "    </div>\n",
        "    <div style=\"display: flex; width: 20%; border-right: 0.1rem solid #A5A5A5; padding: 1rem 2rem;\">\n",
        "        <p style=\"text-align: center; direction: rtl; justify-content: center; align-items: center; clear: both;\">\n",
        "            <strong>חשוב!</strong><br>\n",
        "            פתרו לפני שתמשיכו!\n",
        "        </p>\n",
        "    </div>\n",
        "</div>"
      ]
    },
    {
      "cell_type": "code",
      "source": [
        "def naturals_generator():\n",
        "  i = 0\n",
        "  while True:\n",
        "    i += 1\n",
        "    yield i\n",
        ""
      ],
      "metadata": {
        "id": "lMXYg8354T5c"
      },
      "execution_count": 52,
      "outputs": []
    },
    {
      "cell_type": "code",
      "source": [
        "g = naturals_generator()\n",
        "for _ in range(10):\n",
        "  print(next(g))"
      ],
      "metadata": {
        "id": "j226NkcV4iSv",
        "outputId": "ac35d89b-9872-4b20-a520-7be09baf1248",
        "colab": {
          "base_uri": "https://localhost:8080/"
        }
      },
      "execution_count": 53,
      "outputs": [
        {
          "output_type": "stream",
          "name": "stdout",
          "text": [
            "1\n",
            "2\n",
            "3\n",
            "4\n",
            "5\n",
            "6\n",
            "7\n",
            "8\n",
            "9\n",
            "10\n"
          ]
        }
      ]
    },
    {
      "cell_type": "markdown",
      "metadata": {
        "id": "z2cM_-cqvDKA"
      },
      "source": [
        "### <span style=\"text-align: right; direction: rtl; float: right; clear: both;\">ריבוי generator iterators</span>"
      ]
    },
    {
      "cell_type": "markdown",
      "metadata": {
        "id": "tjg4mmXFvDKB"
      },
      "source": [
        "<p style=\"text-align: right; direction: rtl; float: right; clear: both;\">\n",
        "    נגדיר generator פשוט שמחזיר את האיברים <samp>1</samp>, <samp>2</samp> ו־<samp>3</samp>:\n",
        "</p>"
      ]
    },
    {
      "cell_type": "code",
      "execution_count": 54,
      "metadata": {
        "id": "ZnSmbd4evDKB"
      },
      "outputs": [],
      "source": [
        "def simple_generator():\n",
        "    yield 1\n",
        "    yield 2\n",
        "    yield 3"
      ]
    },
    {
      "cell_type": "markdown",
      "metadata": {
        "id": "lFjVbkE2vDKB"
      },
      "source": [
        "<p style=\"text-align: right; direction: rtl; float: right; clear: both;\">\n",
        "    ניצור שני generator iterators (\"סמנים\") שונים שמצביעים לשורה הראשונה של ה־generator שמופיע למעלה:\n",
        "</p>"
      ]
    },
    {
      "cell_type": "code",
      "execution_count": 55,
      "metadata": {
        "id": "n4eM6DRjvDKC"
      },
      "outputs": [],
      "source": [
        "first_gen = simple_generator()\n",
        "second_gen = simple_generator()"
      ]
    },
    {
      "cell_type": "markdown",
      "metadata": {
        "id": "6l-DVeOOvDKC"
      },
      "source": [
        "<p style=\"text-align: right; direction: rtl; float: right; clear: both;\">\n",
        "    בעניין זה, חשוב להבין שכל אחד מה־generator iterators הוא \"חץ\" נפרד שמצביע לשורה הראשונה ב־<var>simple_generator</var>.<br>\n",
        "    אם נבקש מכל אחד מהם להחזיר ערך, נקבל משניהם את 1, ואותו חץ דמיוני יעבור בשני ה־generator iterators להמתין בשורה השנייה:\n",
        "</p>"
      ]
    },
    {
      "cell_type": "code",
      "execution_count": 56,
      "metadata": {
        "id": "nYvBsOECvDKC",
        "outputId": "8a9346e7-7e6b-4d00-d900-c063d0f4e89d",
        "colab": {
          "base_uri": "https://localhost:8080/"
        }
      },
      "outputs": [
        {
          "output_type": "stream",
          "name": "stdout",
          "text": [
            "1\n",
            "1\n"
          ]
        }
      ],
      "source": [
        "print(next(first_gen))\n",
        "print(next(second_gen))"
      ]
    },
    {
      "cell_type": "markdown",
      "metadata": {
        "id": "42BXGY9ivDKG"
      },
      "source": [
        "<p style=\"text-align: right; direction: rtl; float: right; clear: both;\">\n",
        "    נוכל לקדם את <var>first_gen</var>, לדוגמה, לסוף הפונקציה:\n",
        "</p>"
      ]
    },
    {
      "cell_type": "code",
      "execution_count": 57,
      "metadata": {
        "id": "E29i6WL2vDKG",
        "outputId": "d3aa1910-9d3e-454d-b397-3001ad498943",
        "colab": {
          "base_uri": "https://localhost:8080/"
        }
      },
      "outputs": [
        {
          "output_type": "stream",
          "name": "stdout",
          "text": [
            "2\n",
            "3\n"
          ]
        }
      ],
      "source": [
        "print(next(first_gen))\n",
        "print(next(first_gen))"
      ]
    },
    {
      "cell_type": "markdown",
      "metadata": {
        "id": "7ag0yoSKvDKG"
      },
      "source": [
        "<p style=\"text-align: right; direction: rtl; float: right; clear: both;\">\n",
        "    אבל <var>second_gen</var> הוא חץ נפרד, שעדיין מצביע לשורה השנייה של פונקציית ה־generator.<br>\n",
        "    אם נבקש ממנו את הערך הבא, הוא ימשיך את המסע מהערך <samp>2</samp>:<br>\n",
        "</p>"
      ]
    },
    {
      "cell_type": "code",
      "execution_count": 58,
      "metadata": {
        "id": "vMCKJYrcvDKG",
        "outputId": "3ef36698-4bb1-4b70-d09e-138e78eeacd7",
        "colab": {
          "base_uri": "https://localhost:8080/"
        }
      },
      "outputs": [
        {
          "output_type": "stream",
          "name": "stdout",
          "text": [
            "2\n"
          ]
        }
      ],
      "source": [
        "print(next(second_gen))"
      ]
    },
    {
      "cell_type": "markdown",
      "metadata": {
        "id": "rpl1AV0rvDKG"
      },
      "source": [
        "<p style=\"text-align: right; direction: rtl; float: right; clear: both;\">\n",
        "    ממצב זה נוכל להסיק שאפשר ליצור יותר מ־generator iterator אחד עבור כל פונקציית generator.<br>\n",
        "    כל אחד מה־generator iterators יחזיק תמונת מצב עצמאית של המקום שבו עצר הסמן ושל ערכי המשתנים.<br>\n",
        "    ההתנהלות של כל generator iterator תקרה בנפרד, ולא תושפע בשום צורה מה־generator iterators האחרים.<br>\n",
        "</p>"
      ]
    },
    {
      "cell_type": "markdown",
      "metadata": {
        "id": "0-NNEVCavDKH"
      },
      "source": [
        "### <span style=\"text-align: right; direction: rtl; float: right; clear: both;\">הבדלי מינוח</span>"
      ]
    },
    {
      "cell_type": "markdown",
      "metadata": {
        "id": "AJe_dpNwvDKH"
      },
      "source": [
        "<p style=\"text-align: right; direction: rtl; float: right; clear: both;\">\n",
        "    בשלב זה יש לנו הרבה מבנים שאפשר לרוץ עליהם, וכל המינוח סביב עניין האיטרביליות נעשה מעט מבלבל.<br>\n",
        "    ננסה לעשות סדר בדברים:\n",
        "</p>"
      ]
    },
    {
      "cell_type": "markdown",
      "metadata": {
        "id": "KPguj5uyvDKH"
      },
      "source": [
        "<dl style=\"text-align: right; direction: rtl; float: right; clear: both;\">\n",
        "<dt>Iterable</dt><dd>\n",
        "    אם ערך מסוים הוא iterable, אפשר לפרק אותו ליחידות קטנות יותר, ולהתייחס לכל יחידה בנפרד.\n",
        "</dd>\n",
        "<dt>Iteration, חִזְרוּר</dt><dd>ביצוע יחיד של גוף הלולאה עבור ערך מסוים.</dd>\n",
        "<dt>Iterator</dt><dd>\n",
        "    ערך שמייצג זרם של מידע, ומתוכו מאחזרים ערכים אחרים. אפשר לאחזר ממנו ערך אחד בכל פעם, לפי סדר מסוים, בעזרת <code dir=\"ltr\">next()</code>.<br>\n",
        "    iterator הוא בהכרח iterable, אך לא כל iterable הוא iterator.\n",
        "</dd>\n",
        "<dt>Sequence</dt>\n",
        "    <dd>\n",
        "        כל iterable שאפשר לחלץ ממנו איברים באמצעות פנייה למיקום שלהם (<code>iterable[0]</code>), כמו מחרוזות, רשימות ו־tuple־ים.<br>\n",
        "        sequence הוא בהכרח iterable, אך לא כל iterable הוא sequence.\n",
        "    </dd>\n",
        "<dt>פונקציית ה־generator</dt><dd>פונקציה המכילה <code>yield</code> ומגדירה אילו ערכים יוחזרו מה־generator.</dd>\n",
        "<dt>Generator iterator</dt>\n",
        "    <dd>\n",
        "        iterator שנוצר מתוך פונקציית ה־generator.\n",
        "    </dd>\n",
        "<dt>Generator</dt><dd>לרוב מתייחס לפונקציית ה־generator, אך יש פעמים שמשתמשים במינוח כדי להתייחס ל־generator iterator.</dd>\n",
        "</dl>"
      ]
    },
    {
      "cell_type": "markdown",
      "metadata": {
        "id": "PszP1H4BvDKH"
      },
      "source": [
        "## <span style=\"text-align: right; direction: rtl; float: right; clear: both;\">סיכום</span>"
      ]
    },
    {
      "cell_type": "markdown",
      "metadata": {
        "id": "N9TWudufvDKH"
      },
      "source": [
        "<p style=\"text-align: right; direction: rtl; float: right; clear: both;\">\n",
        "    Generators הם פונקציות שמאפשרות לנו להחזיר סדרות ערכים באופן מדורג.<br>\n",
        "    כשנקרא לפונקציית generator, היא תחזיר לנו generator iterator שישמש מעין \"סמן\".<br>\n",
        "    הסמן ישמור \"מצב\" שמתאר את המקום שבו אנחנו שוהים בתוך הפונקציה, ואת הערכים שחושבו במהלך ריצתה עד כה.<br>\n",
        "    בכל שלב, נוכל לבקש את הערך הבא ב־generator בעזרת קריאה לפונקציה <code>next</code> על ה־generator iterator.<br>\n",
        "    נוכל גם להשתמש במבנים שיזיזו עבורנו את הסמן, כמו <code>for</code> או המרה לסוג נתונים אחר שגם הוא iterable.\n",
        "</p>"
      ]
    },
    {
      "cell_type": "markdown",
      "metadata": {
        "id": "alxhKb5GvDKH"
      },
      "source": [
        "<p style=\"text-align: right; direction: rtl; float: right; clear: both;\">\n",
        "    ל־generators יתרונות רבים:\n",
        "</p>\n",
        "\n",
        "<ul style=\"text-align: right; direction: rtl; float: right; clear: both;\">\n",
        "    <li>אפשר ליצור בעזרתם פונקציות שמחזירות מספר אין־סופי של נתונים.</li>\n",
        "    <li>במקרים מסוימים, נוכל להיעזר בהם כדי לקבל רק חלק מהתוצאות בכל זמן נתון.</li>\n",
        "    <li>שימוש נכון בהם יכול להיות מפתח לחיסכון משמעותי במשאבי התוכנית.</li>\n",
        "</ul>"
      ]
    },
    {
      "cell_type": "markdown",
      "metadata": {
        "id": "v5Ukvtn_vDKI"
      },
      "source": [
        "## <span style=\"text-align: right; direction: rtl; float: right; clear: both;\">תרגילים</span>"
      ]
    },
    {
      "cell_type": "markdown",
      "metadata": {
        "id": "Kr6rN1sBvDKI"
      },
      "source": [
        "### <span style=\"text-align: right; direction: rtl; float: right; clear: both;\">פיצוץ אוכלוסין</span>"
      ]
    },
    {
      "cell_type": "markdown",
      "metadata": {
        "id": "YS6Edm8wvDKI"
      },
      "source": [
        "<p style=\"text-align: right; direction: rtl; float: right; clear: both;\">\n",
        "    קראו בוויקיפדיה על דרך החישוב של <a href=\"https://he.wikipedia.org/wiki/%D7%A1%D7%A4%D7%A8%D7%AA_%D7%91%D7%99%D7%A7%D7%95%D7%A8%D7%AA#%D7%A1%D7%A4%D7%A8%D7%AA_%D7%91%D7%99%D7%A7%D7%95%D7%A8%D7%AA_%D7%91%D7%9E%D7%A1%D7%A4%D7%A8_%D7%94%D7%96%D7%94%D7%95%D7%AA_%D7%91%D7%99%D7%A9%D7%A8%D7%90%D7%9C\">ספרת הביקורת</a> במספרי הזהות בישראל.\n",
        "</p>"
      ]
    },
    {
      "cell_type": "markdown",
      "metadata": {
        "id": "avzyImn6vDKI"
      },
      "source": [
        "<ol style=\"text-align: right; direction: rtl; float: right; clear: both;\">\n",
        "    <li>ממשו פונקציה שמקבלת מספר זהות ללא ספרת ביקורת, ומחזירה את ספרת הביקורת.</li>\n",
        "    <li>ממשו תוכנית המדפיסה את כל מספרי הזהות האפשריים במדינת ישראל. השתמשו בקוד שכתבתם בסעיף הראשון.</li>\n",
        "</ol>"
      ]
    },
    {
      "cell_type": "markdown",
      "metadata": {
        "id": "qgxrdfONvDKI"
      },
      "source": [
        "### <span style=\"text-align: right; direction: rtl; float: right; clear: both;\">מנה מושלמת לחלוקה</span>"
      ]
    },
    {
      "cell_type": "markdown",
      "metadata": {
        "id": "K6USP-4cvDKI"
      },
      "source": [
        "<p style=\"text-align: right; direction: rtl; float: right; clear: both;\">\n",
        "    אפשר לחלק רול סושי של 6 יחידות לאדם אחד, ל־2 אנשים, ל־3 אנשים ול־6 אנשים.<br>\n",
        "    נתעלם ממצבים שבהם כל אדם מקבל רק חתיכת סושי אחת. זה נשמע לי עצוב.<br>\n",
        "    נגדיר \"מנה מושלמת לחלוקה\" כמנה שאם נסכום את כל הצורות לחלק אותה, נקבל את גודל המנה עצמה.\n",
        "</p>"
      ]
    },
    {
      "cell_type": "markdown",
      "metadata": {
        "id": "SqfCDOspvDKI"
      },
      "source": [
        "<p style=\"text-align: right; direction: rtl; float: right; clear: both;\">\n",
        "    לדוגמה:\n",
        "</p>\n",
        "\n",
        "<ul style=\"text-align: right; direction: rtl; float: right; clear: both;\">\n",
        "    <li>רול סושי בעל 6 יחידות הוא מנה מושלמת לחלוקה, כיוון שאפשר לחלק אותו לאדם 1, ל־2 אנשים או ל־3 אנשים. $1+2+3=6$.</li>\n",
        "    <li>רול סושי בעל 8 יחידות הוא לא מנה מושלמת לחלוקה, כי אפשר לחלק אותו לאדם 1, ל־2 אנשים או ל־4 אנשים. $1+2+4 \\neq 8$.</li>\n",
        "    <li>רול בעל 12 יחידות גם הוא לא מנה מושלמת לחלוקה – $1 + 2 + 3 + 4 + 6 \\neq 12$.</li>\n",
        "    <li>רול בעל 28 יחידות הוא בהחלט מנה מושלמת לחלוקה – $1 + 2 + 4 + 7 + 14 = 28$.</li>\n",
        "</ul>"
      ]
    },
    {
      "cell_type": "markdown",
      "metadata": {
        "id": "iXwVojTGvDKI"
      },
      "source": [
        "<p style=\"text-align: right; direction: rtl; float: right; clear: both;\">\n",
        "    כתבו תוכנית שמדפיסה באופן אין־סופי את כל גודלי המנות שנחשבים מושלמים לחלוקה.\n",
        "</p>"
      ]
    },
    {
      "cell_type": "code",
      "source": [
        "def perfect_sharing_portion_generator():\n",
        "  curr_portion = 2\n",
        "\n",
        "  while True:\n",
        "    i = curr_portion\n",
        "    sum = 0\n",
        "\n",
        "    while i > 1:\n",
        "      if (curr_portion / i).is_integer():\n",
        "        sum += curr_portion / i\n",
        "      i -= 1\n",
        "\n",
        "    if sum == curr_portion:\n",
        "      yield curr_portion\n",
        "\n",
        "    curr_portion += 1\n",
        "\n",
        "\n"
      ],
      "metadata": {
        "id": "H7IBXTtZ5j8N"
      },
      "execution_count": 61,
      "outputs": []
    },
    {
      "cell_type": "code",
      "source": [
        "g = perfect_sharing_portion_generator()\n",
        "for _ in range(10):\n",
        "  print(next(g))"
      ],
      "metadata": {
        "id": "6S8reNdaOmeX",
        "outputId": "a05c677f-8b29-419f-887a-9026436cf977",
        "colab": {
          "base_uri": "https://localhost:8080/",
          "height": 367
        }
      },
      "execution_count": 62,
      "outputs": [
        {
          "output_type": "stream",
          "name": "stdout",
          "text": [
            "6\n",
            "28\n",
            "496\n",
            "8128\n"
          ]
        },
        {
          "output_type": "error",
          "ename": "KeyboardInterrupt",
          "evalue": "",
          "traceback": [
            "\u001b[0;31m---------------------------------------------------------------------------\u001b[0m",
            "\u001b[0;31mKeyboardInterrupt\u001b[0m                         Traceback (most recent call last)",
            "\u001b[0;32m<ipython-input-62-82431fefb557>\u001b[0m in \u001b[0;36m<cell line: 2>\u001b[0;34m()\u001b[0m\n\u001b[1;32m      1\u001b[0m \u001b[0mg\u001b[0m \u001b[0;34m=\u001b[0m \u001b[0mperfect_sharing_portion_generator\u001b[0m\u001b[0;34m(\u001b[0m\u001b[0;34m)\u001b[0m\u001b[0;34m\u001b[0m\u001b[0;34m\u001b[0m\u001b[0m\n\u001b[1;32m      2\u001b[0m \u001b[0;32mfor\u001b[0m \u001b[0m_\u001b[0m \u001b[0;32min\u001b[0m \u001b[0mrange\u001b[0m\u001b[0;34m(\u001b[0m\u001b[0;36m10\u001b[0m\u001b[0;34m)\u001b[0m\u001b[0;34m:\u001b[0m\u001b[0;34m\u001b[0m\u001b[0;34m\u001b[0m\u001b[0m\n\u001b[0;32m----> 3\u001b[0;31m   \u001b[0mprint\u001b[0m\u001b[0;34m(\u001b[0m\u001b[0mnext\u001b[0m\u001b[0;34m(\u001b[0m\u001b[0mg\u001b[0m\u001b[0;34m)\u001b[0m\u001b[0;34m)\u001b[0m\u001b[0;34m\u001b[0m\u001b[0;34m\u001b[0m\u001b[0m\n\u001b[0m",
            "\u001b[0;32m<ipython-input-61-1f5af9d8ef38>\u001b[0m in \u001b[0;36mperfect_sharing_portion_generator\u001b[0;34m()\u001b[0m\n\u001b[1;32m      6\u001b[0m     \u001b[0msum\u001b[0m \u001b[0;34m=\u001b[0m \u001b[0;36m0\u001b[0m\u001b[0;34m\u001b[0m\u001b[0;34m\u001b[0m\u001b[0m\n\u001b[1;32m      7\u001b[0m \u001b[0;34m\u001b[0m\u001b[0m\n\u001b[0;32m----> 8\u001b[0;31m     \u001b[0;32mwhile\u001b[0m \u001b[0mi\u001b[0m \u001b[0;34m>\u001b[0m \u001b[0;36m1\u001b[0m\u001b[0;34m:\u001b[0m\u001b[0;34m\u001b[0m\u001b[0;34m\u001b[0m\u001b[0m\n\u001b[0m\u001b[1;32m      9\u001b[0m       \u001b[0;32mif\u001b[0m \u001b[0;34m(\u001b[0m\u001b[0mcurr_portion\u001b[0m \u001b[0;34m/\u001b[0m \u001b[0mi\u001b[0m\u001b[0;34m)\u001b[0m\u001b[0;34m.\u001b[0m\u001b[0mis_integer\u001b[0m\u001b[0;34m(\u001b[0m\u001b[0;34m)\u001b[0m\u001b[0;34m:\u001b[0m\u001b[0;34m\u001b[0m\u001b[0;34m\u001b[0m\u001b[0m\n\u001b[1;32m     10\u001b[0m         \u001b[0msum\u001b[0m \u001b[0;34m+=\u001b[0m \u001b[0mcurr_portion\u001b[0m \u001b[0;34m/\u001b[0m \u001b[0mi\u001b[0m\u001b[0;34m\u001b[0m\u001b[0;34m\u001b[0m\u001b[0m\n",
            "\u001b[0;31mKeyboardInterrupt\u001b[0m: "
          ]
        }
      ]
    },
    {
      "cell_type": "markdown",
      "metadata": {
        "id": "To1OdCK1vDKI"
      },
      "source": [
        "### <span style=\"text-align: right; direction: rtl; float: right; clear: both;\">לחששנית</span>"
      ]
    },
    {
      "cell_type": "markdown",
      "metadata": {
        "id": "YjvyNnNGvDKI"
      },
      "source": [
        "<p style=\"text-align: right; direction: rtl; float: right; clear: both;\">\n",
        "    בקובץ resources/logo.jpg מופיע לוגו הקורס, ובתוכו מוכמנים מסרים סודיים אחדים.<br>\n",
        "    המסרים הם מחרוזות באורך 5 אותיות לפחות, כתובים באותיות אנגליות קטנות בלבד ומסתיימים בסימן קריאה.\n",
        "</p>\n",
        "\n",
        "<p style=\"text-align: right; direction: rtl; float: right; clear: both;\">\n",
        "    פתחו את הלוגו לקריאה בתצורה בינארית, וחלצו ממנו את המסרים הסודיים.<br>\n",
        "    זכרו שהקובץ עלול להיות גדול מאוד, ועדיף שלא לקרוא את כולו במכה אחת.<br>\n",
        "    מצאו באינטרנט עזרה בנוגע לפתיחת קבצים בצורה בינארית ולקריאה מדורגת של הקובץ.<br>\n",
        "    הקפידו שלא להשתמש בטכניקות שלא למדנו (או להוסיף אותן רק בנוסף לפתרון שכזה).\n",
        "</p>"
      ]
    }
  ],
  "metadata": {
    "kernelspec": {
      "display_name": "Python 3",
      "language": "python",
      "name": "python3"
    },
    "language_info": {
      "codemirror_mode": {
        "name": "ipython",
        "version": 3
      },
      "file_extension": ".py",
      "mimetype": "text/x-python",
      "name": "python",
      "nbconvert_exporter": "python",
      "pygments_lexer": "ipython3",
      "version": "3.7.6"
    },
    "colab": {
      "provenance": []
    }
  },
  "nbformat": 4,
  "nbformat_minor": 0
}