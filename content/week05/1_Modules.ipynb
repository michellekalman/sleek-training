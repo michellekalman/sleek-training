{
  "cells": [
    {
      "cell_type": "markdown",
      "metadata": {
        "id": "DfMYu6aUFU9p"
      },
      "source": [
        "<img src=\"https://github.com/PythonFreeCourse/Notebooks/blob/main/content/week05/images/logo.jpg?raw=1\" style=\"display: block; margin-left: auto; margin-right: auto;\" alt=\"לוגו של מיזם לימוד הפייתון. נחש מצויר בצבעי צהוב וכחול, הנע בין האותיות של שם הקורס: לומדים פייתון. הסלוגן המופיע מעל לשם הקורס הוא מיזם חינמי ללימוד תכנות בעברית.\">"
      ]
    },
    {
      "cell_type": "markdown",
      "metadata": {
        "id": "FtiQcd6VFU9u"
      },
      "source": [
        "# <span style=\"text-align: right; direction: rtl; float: right;\">מודולים</span>"
      ]
    },
    {
      "cell_type": "markdown",
      "metadata": {
        "id": "jirq9-ZOFU9v"
      },
      "source": [
        "## <span style=\"text-align: right; direction: rtl; float: right; clear: both;\">הקדמה</span>"
      ]
    },
    {
      "cell_type": "markdown",
      "metadata": {
        "id": "Qk9SzPU7FU9v"
      },
      "source": [
        "<p style=\"text-align: right; direction: rtl; float: right; clear: both;\">\n",
        "    מתכנתים העוסקים בקביעות במלאכתם, יזכו לעיתים תכופות להיתקל באתגרים בתחומים שונים.<br>\n",
        "</p>"
      ]
    },
    {
      "cell_type": "markdown",
      "metadata": {
        "id": "IvVul-wEFU9w"
      },
      "source": [
        "<p style=\"text-align: right; direction: rtl; float: right; clear: both;\">\n",
        "    דוגמה טובה לאתגר נפוץ שכזה היא יצירת מידע אקראי:\n",
        "</p>"
      ]
    },
    {
      "cell_type": "markdown",
      "metadata": {
        "id": "eRb7CsUNFU9w"
      },
      "source": [
        "<ul style=\"text-align: right; direction: rtl; float: right; clear: both;\">\n",
        "    <li>מתכנת שיוצר משחק קלפים יצטרך לכתוב קוד לשליפת קלף אקראי מחפיסת הקלפים.</li>\n",
        "    <li>מתכנת שמתקשה להחליט אם הוא רוצה להיות בפריז, ברומא או בקוטב הצפוני, יכתוב תוכנית שתבחר עבורו את היעד באקראיות.</li>\n",
        "    <li>מתכנת שרוצה לבנות סימולציות למצבים מהחיים האמיתיים, יצטרך פעמים רבות להשתמש במידע אקראי.</li>\n",
        "</ul>"
      ]
    },
    {
      "cell_type": "markdown",
      "metadata": {
        "id": "9XH2LHadFU9w"
      },
      "source": [
        "<p style=\"text-align: right; direction: rtl; float: right; clear: both;\">\n",
        "    דוגמה טובה נוספת היא עבודה עם תאריכים:\n",
        "</p>"
      ]
    },
    {
      "cell_type": "markdown",
      "metadata": {
        "id": "w4JJEnc7FU9w"
      },
      "source": [
        "<ul style=\"text-align: right; direction: rtl; float: right; clear: both;\">\n",
        "    <li>מתכנת שרוצה לדעת בעוד כמה זמן מגיע תאריך מסוים (יום הולדת, לדוגמה).</li>\n",
        "    <li>מתכנת שרוצה לבדוק מה יהיה התאריך בעוד 100,000,000 שניות.</li>\n",
        "    <li>מתכנת שקיבל מסמך עם תאריכי הלידה של כל אוכלוסיית ישראל, ורוצה לדעת מהו החודש שבו נולדים הכי הרבה תינוקות בישראל.</li>\n",
        "</ul>"
      ]
    },
    {
      "cell_type": "markdown",
      "metadata": {
        "id": "3no5m052FU9x"
      },
      "source": [
        "<p style=\"text-align: right; direction: rtl; float: right; clear: both;\">\n",
        "    פתירת האתגרים הללו עשויה להיות משימה מורכבת, ולטמון בחובה בעיות ומקרי קצה רבים.<br>\n",
        "    תארו לעצמכם כמה זמן היה נחסך לו היה מישהו פותר את הבעיות הנפוצות הללו עבור כל המתכנתים!<br>\n",
        "</p>"
      ]
    },
    {
      "cell_type": "markdown",
      "metadata": {
        "id": "aUVJyCmcFU9x"
      },
      "source": [
        "## <span style=\"text-align: right; direction: rtl; float: right; clear: both;\">הגדרה</span>"
      ]
    },
    {
      "cell_type": "markdown",
      "metadata": {
        "id": "kT5IKt7-FU9x"
      },
      "source": [
        "<p style=\"text-align: right; direction: rtl; float: right; clear: both;\">\n",
        "    כרעיון, <dfn>מודול</dfn> הוא פיסת תוכנה עצמאית המשרתת מטרה מוגדרת.<br>\n",
        "    המטרה יכולה להיות, לדוגמה, טיפול בתאריכים, יצירת נתונים אקראיים או תקשורת עם אתרי אינטרנט.<br>\n",
        "    בפייתון, מודול הוא קובץ המאגד הגדרות ופקודות, שיחדיו יוצרות אוסף כלים בתחום מסוים.<br>\n",
        "</p>"
      ]
    },
    {
      "cell_type": "markdown",
      "metadata": {
        "id": "vY8XARwMFU9x"
      },
      "source": [
        "## <span style=\"text-align: right; direction: rtl; float: right; clear: both;\">שימוש</span>"
      ]
    },
    {
      "cell_type": "markdown",
      "metadata": {
        "id": "LyXYteBbFU9x"
      },
      "source": [
        "### <span style=\"text-align: right; direction: rtl; float: right; clear: both;\">יבוא<span>"
      ]
    },
    {
      "cell_type": "markdown",
      "metadata": {
        "id": "xXLpfQ5eFU9y"
      },
      "source": [
        "<p style=\"text-align: right; direction: rtl; float: right; clear: both;\">\n",
        "    ניקח כדוגמה את המודול <code>random</code>, שמטרתו לעזור לנו ליצור מידע אקראי.<br>\n",
        "    לפני שנוכל להשתמש ביכולותיו של המודול, נצטרך לבקש מפייתון לטעון אותו בעזרת מילת המפתח <code>import</code>:\n",
        "</p>"
      ]
    },
    {
      "cell_type": "code",
      "execution_count": 1,
      "metadata": {
        "id": "Mv4eOo1cFU9y"
      },
      "outputs": [],
      "source": [
        "import random"
      ]
    },
    {
      "cell_type": "markdown",
      "metadata": {
        "id": "4LomTplBFU9z"
      },
      "source": [
        "<p style=\"text-align: right; direction: rtl; float: right; clear: both;\">\n",
        "    פעולה זו טוענת את המודול ומאפשרת לנו להשתמש בו בהמשך הקוד. נהוג להגיד ש<dfn>ייבאנו</dfn> את המודול <code>random</code>.<br>\n",
        "    עכשיו, כשהמודול יובא, אפשר להשתמש בו בקוד התוכנית שלנו באופן שיענה על הצורך ליצירת דברים אקראיים.<br>\n",
        "    כדי להבין איך להשתמש במודול ומהן יכולותיו, נוכל לקרוא מידע נוסף על אודותיו במגוון דרכים:\n",
        "</p>"
      ]
    },
    {
      "cell_type": "markdown",
      "metadata": {
        "id": "s67raRc0FU9z"
      },
      "source": [
        "<ol style=\"text-align: right; direction: rtl; float: right; clear: both;\">\n",
        "    <li>בעזרת התיעוד ב<a href=\"https://docs.python.org/3/library/random.html\">אתר פייתון</a>, שאליו אפשר להגיע אם כותבים <q>python documentation random</q> במנועי חיפוש.</li>\n",
        "    <li>בעזרת הפונקציה <var>dir</var> – נוכל לכתוב <code dir=\"ltr\">dir(random)</code>.</li>\n",
        "    <li>בג'ופיטר, אם נכתוב בתא קוד <code dir=\"ltr\">random.</code> ונלחץ <kbd dir=\"ltr\">Tab ↹</kbd>.</li>\n",
        "</ol>"
      ]
    },
    {
      "cell_type": "markdown",
      "metadata": {
        "id": "PozM4sEUFU9z"
      },
      "source": [
        "### <span style=\"text-align: right; direction: rtl; float: right; clear: both;\">דוגמאות לשימוש<span>"
      ]
    },
    {
      "cell_type": "markdown",
      "metadata": {
        "id": "uwqFf67SFU9z"
      },
      "source": [
        "<p style=\"text-align: right; direction: rtl; float: right; clear: both;\">\n",
        "    במשחק הפוקימון \"פוקימון אדום\" אפשר לבחור בתור הפוקימון ההתחלתי את בלבזאור, את סקווירטל או את צ'רמנדר.<br>\n",
        "    על הפוקימון הטוב ביותר לבחירה <a href=\"https://www.google.com/search?q=starter+pokemon+red%2Fblue\">ניטשים ויכוחים רבים</a> עוד מאז שחרורו של המשחק ב־1996.<br>\n",
        "    כדי לא להיקלע לעין הסערה, נבנה תוכנה שתבחר את הפוקימון עבורנו באופן אקראי.\n",
        "</p>"
      ]
    },
    {
      "cell_type": "markdown",
      "metadata": {
        "id": "mCcCvo5UFU9z"
      },
      "source": [
        "<p style=\"text-align: right; direction: rtl; float: right; clear: both;\">\n",
        "    <a href=\"https://docs.python.org/3/library/random.html\">התיעוד</a> של המודול <code>random</code>, כולל פונקציה בשם <var>choice</var>, שבאמצעותה נוכל לבחור איבר אקראי מתוך iterable.<br>\n",
        "    השימוש בתיעוד מומלץ במיוחד בהקשרי מודולים, שכן ההסברים שם בהירים, ופעמים רבות מובאות שם דוגמאות לשימוש בפונקציות של המודול.<br>\n",
        "    נייבא את <code>random</code> ואז נשתמש ב־<var>choice</var>:\n",
        "</p>"
      ]
    },
    {
      "cell_type": "code",
      "execution_count": 2,
      "metadata": {
        "id": "UYGb099xFU9z",
        "outputId": "c77ac8f1-8401-4dff-c8bb-e06947646d5c",
        "colab": {
          "base_uri": "https://localhost:8080/"
        }
      },
      "outputs": [
        {
          "output_type": "stream",
          "name": "stdout",
          "text": [
            "Squirtle\n"
          ]
        }
      ],
      "source": [
        "import random\n",
        "\n",
        "pokemons = ['Bulbasaur', 'Squirtle', 'Charmander']\n",
        "starter_pokemon = random.choice(pokemons)\n",
        "print(starter_pokemon)"
      ]
    },
    {
      "cell_type": "markdown",
      "metadata": {
        "id": "bfMkAAd_FU9z"
      },
      "source": [
        "<div class=\"align-center\" style=\"display: flex; text-align: right; direction: rtl;\">\n",
        "    <div style=\"display: flex; width: 10%; float: right; \">\n",
        "        <img src=\"https://github.com/PythonFreeCourse/Notebooks/blob/main/content/week05/images/warning.png?raw=1\" style=\"height: 50px !important;\" alt=\"אזהרה!\">\n",
        "    </div>\n",
        "    <div style=\"width: 90%\">\n",
        "        <p style=\"text-align: right; direction: rtl;\">\n",
        "            לא היינו יכולים להשתמש ב־<code>random.choice</code> לולא היינו מייבאים את <code>random</code>.<br>\n",
        "            מרגע שייבאנו את המודול – נוכל להשתמש בו לאורך כל הקוד.\n",
        "        </p>\n",
        "    </div>\n",
        "</div>"
      ]
    },
    {
      "cell_type": "markdown",
      "metadata": {
        "id": "JufWcdXxFU9z"
      },
      "source": [
        "<div class=\"align-center\" style=\"display: flex; text-align: right; direction: rtl; clear: both;\">\n",
        "    <div style=\"display: flex; width: 10%; float: right; clear: both;\">\n",
        "        <img src=\"https://github.com/PythonFreeCourse/Notebooks/blob/main/content/week05/images/exercise.svg?raw=1\" style=\"height: 50px !important;\" alt=\"תרגול\">\n",
        "    </div>\n",
        "    <div style=\"width: 70%\">\n",
        "        <p style=\"text-align: right; direction: rtl; float: right; clear: both;\">\n",
        "            השתמשו בפונקציה הנמצאת במודול <code>random</code> כדי לדמות הטלת קובייה בעלת 20 פאות (<a href=\"https://en.wikipedia.org/wiki/D20_System\">D20</a>).<br>\n",
        "            הגרילו מספר בין 1 ל־20, הפעם בעזרת פונקציה שהיא לא <code>choice</code>.<br>\n",
        "            השתמשו במקורות המידע שצוינו כדי למצוא את הפונקציה המתאימה למשימה.\n",
        "        </p>\n",
        "    </div>\n",
        "    <div style=\"display: flex; width: 20%; border-right: 0.1rem solid #A5A5A5; padding: 1rem 2rem;\">\n",
        "        <p style=\"text-align: center; direction: rtl; justify-content: center; align-items: center; clear: both;\">\n",
        "            <strong>חשוב!</strong><br>\n",
        "            פתרו לפני שתמשיכו!\n",
        "        </p>\n",
        "    </div>\n",
        "</div>"
      ]
    },
    {
      "cell_type": "markdown",
      "metadata": {
        "id": "lDCAuaLVFU90"
      },
      "source": [
        "### <span style=\"text-align: right; direction: rtl; float: right; clear: both;\">יתרונות<span>"
      ]
    },
    {
      "cell_type": "markdown",
      "metadata": {
        "id": "7nBE6AZTFU90"
      },
      "source": [
        "<p style=\"text-align: right; direction: rtl; float: right; clear: both;\">\n",
        "    אלו, בין היתר, היתרונות של שימוש במודולים הקיימים בפייתון:\n",
        "</p>"
      ]
    },
    {
      "cell_type": "markdown",
      "metadata": {
        "id": "QHCEFqEIFU90"
      },
      "source": [
        "<ol style=\"text-align: right; direction: rtl; float: right; clear: both;\">\n",
        "    <li>\n",
        "        <strong>פישוט</strong>: מודול לרוב יפתור לנו בעיה אחת, קטנה ומוגדרת היטב.\n",
        "    </li>\n",
        "    <li>\n",
        "        <strong>הפרדה</strong>: המודול מופרד מהקוד שלנו, ישאיר את הקוד שלנו נקי ויעזור לנו להתמקד בבעיה שאנחנו מעוניינים לפתור.\n",
        "    </li>\n",
        "    <li>\n",
        "        <strong>מִחזוּר</strong>: מודול מאפשר לנו להשתמש בקוד שכתבנו בפרויקטים רבים, מבלי לכתוב את הקוד מחדש בכל פרויקט.\n",
        "    </li>\n",
        "    <li>\n",
        "        <strong>רמת גימור</strong>: המודולים הרשמיים של פייתון מתוחזקים ברמה גבוהה, יש בהם מעט באגים והם מכסים מקרי קצה רבים.\n",
        "    </li>\n",
        "</ol>"
      ]
    },
    {
      "cell_type": "markdown",
      "metadata": {
        "id": "6JDR_doZFU90"
      },
      "source": [
        "<p style=\"text-align: right; direction: rtl; float: right; clear: both;\">\n",
        "    רוב התוכנות שבהן אתם משתמשים נעזרות במספר לא מועט של מודולים.<br>\n",
        "    כרגע נתמקד בשימוש במודולים שמגיעים עם פייתון, אך בעתיד נשתמש במודולים שיצרו מתכנתים אחרים, ואף ניצור מודולים בעצמנו.\n",
        "</p>"
      ]
    },
    {
      "cell_type": "markdown",
      "metadata": {
        "id": "NdE4roR3FU93"
      },
      "source": [
        "### <span style=\"text-align: right; direction: rtl; float: right; clear: both;\">תרגיל ביניים: יצירת סיסמה<span>"
      ]
    },
    {
      "cell_type": "markdown",
      "metadata": {
        "id": "pOg2A-nlFU93"
      },
      "source": [
        "<p style=\"text-align: right; direction: rtl; float: right; clear: both;\">\n",
        "    איש דג החרב מגדיר \"מחולל סיסמאות חזקות\" כך:\n",
        "</p>"
      ]
    },
    {
      "cell_type": "markdown",
      "metadata": {
        "id": "GGKLJC-iFU94"
      },
      "source": [
        "<ol style=\"text-align: right; direction: rtl; float: right; clear: both;\">\n",
        "    <li>בקריאה לפונקציית המחולל, המחולל יחזיר סיסמה חזקה.</li>\n",
        "    <li>אורכה של סיסמה חזקה הוא בין 12 ל־20 תווים.</li>\n",
        "    <li>לפחות בחלק מהסיסמאות שמייצר המחולל יהיו גם אותיות גדולות, גם אותיות קטנות וגם מספרים.</li>\n",
        "</ol>"
      ]
    },
    {
      "cell_type": "code",
      "source": [
        "import string\n",
        "\n",
        "characters = string.ascii_letters + string.digits\n",
        "length = random.randint(12, 21)\n",
        "password = ''.join(random.choice(characters) for i in range(length))\n",
        "print(\"Random password is:\", password)"
      ],
      "metadata": {
        "id": "CzrUtCkwNeGw",
        "outputId": "8383f3f7-d199-4dda-f283-81ecf51744d7",
        "colab": {
          "base_uri": "https://localhost:8080/"
        }
      },
      "execution_count": 4,
      "outputs": [
        {
          "output_type": "stream",
          "name": "stdout",
          "text": [
            "Random password is: NaEuB998rOD7yvq\n"
          ]
        }
      ]
    },
    {
      "cell_type": "markdown",
      "metadata": {
        "id": "wNfs63GjFU94"
      },
      "source": [
        "<p style=\"text-align: right; direction: rtl; float: right; clear: both;\">\n",
        "    כתבו מחולל סיסמאות חזקות.\n",
        "</p>"
      ]
    },
    {
      "cell_type": "markdown",
      "metadata": {
        "id": "PqHAKgLqFU94"
      },
      "source": [
        "<div class=\"align-center\" style=\"display: flex; text-align: right; direction: rtl;\">\n",
        "    <div style=\"display: flex; width: 10%; float: right; \">\n",
        "        <img src=\"https://github.com/PythonFreeCourse/Notebooks/blob/main/content/week05/images/warning.png?raw=1\" style=\"height: 50px !important;\" alt=\"אזהרה!\">\n",
        "    </div>\n",
        "    <div style=\"width: 90%\">\n",
        "        <p style=\"text-align: right; direction: rtl;\">\n",
        "            על אף שזהו תרגיל נחמד, לעולם לא נשתמש ב־<code>random</code> לצורכי אבטחת מידע.<br>\n",
        "            להרחבה, קראו על יתרונותיו של המודול <code><a href=\"https://docs.python.org/3/library/secrets.html#module-secrets\">secrets</a></code>.\n",
        "        </p>\n",
        "    </div>\n",
        "</div>"
      ]
    },
    {
      "cell_type": "markdown",
      "metadata": {
        "id": "fJ52NUpgFU94"
      },
      "source": [
        "### <span style=\"text-align: right; direction: rtl; float: right; clear: both;\">יבוא מתוך מודול<span>"
      ]
    },
    {
      "cell_type": "markdown",
      "metadata": {
        "id": "IubPMH40FU94"
      },
      "source": [
        "<p style=\"text-align: right; direction: rtl; float: right; clear: both;\">\n",
        "    עצרת של המספר $n$ (המסומנת כ־$n!$) היא מכפלת כל המספרים השלמים החיוביים עד $n$, כולל.<br>\n",
        "    נחשב את העצרת של 6 באמצעות המודול <code>math</code>:\n",
        "</p>"
      ]
    },
    {
      "cell_type": "code",
      "execution_count": 5,
      "metadata": {
        "id": "W1DF91yGFU94",
        "outputId": "b8a5b606-78d9-4724-adea-ec8409b3bbd5",
        "colab": {
          "base_uri": "https://localhost:8080/"
        }
      },
      "outputs": [
        {
          "output_type": "stream",
          "name": "stdout",
          "text": [
            "720\n"
          ]
        }
      ],
      "source": [
        "import math\n",
        "print(math.factorial(6))  # 1 * 2 * 3 * 4 * 5 * 6"
      ]
    },
    {
      "cell_type": "markdown",
      "metadata": {
        "id": "fcmOJs7NFU94"
      },
      "source": [
        "<p style=\"text-align: right; direction: rtl; float: right; clear: both;\">\n",
        "    במקרה שהצגנו, אין לנו באמת צורך בכל הפונקציות הנמצאות במודול <code>math</code>, אלא רק בפונקציה <var>factorial</var>.<br>\n",
        "    תעלול נחמד שאפשר לעשות הוא לייבא רק את factorial באמצעות מילת המפתח <code>from</code>:<br>\n",
        "</p>"
      ]
    },
    {
      "cell_type": "code",
      "execution_count": 6,
      "metadata": {
        "id": "s_XiE43rFU94",
        "outputId": "6bd74511-09ce-40e3-d399-54747d006f48",
        "colab": {
          "base_uri": "https://localhost:8080/"
        }
      },
      "outputs": [
        {
          "output_type": "stream",
          "name": "stdout",
          "text": [
            "720\n"
          ]
        }
      ],
      "source": [
        "from math import factorial\n",
        "print(factorial(6))"
      ]
    },
    {
      "cell_type": "markdown",
      "metadata": {
        "id": "5RQrVVuuFU94"
      },
      "source": [
        "<p style=\"text-align: right; direction: rtl; float: right; clear: both;\">\n",
        "    כדאי לשים לב שלאחר שייבאנו בעזרת <code>from</code> נשתמש ישירות ב־factorial, מבלי להזכיר את השייכות שלה למודול <code>math</code>.<br>\n",
        "    אפשר גם לייבא יותר משם אחד מאותו מודול, במכה אחת:\n",
        "</p>"
      ]
    },
    {
      "cell_type": "code",
      "execution_count": null,
      "metadata": {
        "id": "5Cu1o8SPFU94"
      },
      "outputs": [],
      "source": [
        "from math import cos, pi\n",
        "print(cos(pi))"
      ]
    },
    {
      "cell_type": "markdown",
      "metadata": {
        "id": "X-faxAuIFU9_"
      },
      "source": [
        "<p style=\"text-align: right; direction: rtl; float: right; clear: both;\">\n",
        "    באופן כללי, העדיפו לייבא את המודול כולו ולא חלקים מתוכו.<br>\n",
        "    זה יעזור לכם להימנע מיצירת מקרים מבלבלים כמו זה:<br>\n",
        "</p>"
      ]
    },
    {
      "cell_type": "code",
      "execution_count": 7,
      "metadata": {
        "id": "xjrvFBBkFU9_",
        "outputId": "267e871d-f08a-4587-e399-0e717280309a",
        "colab": {
          "base_uri": "https://localhost:8080/"
        }
      },
      "outputs": [
        {
          "output_type": "stream",
          "name": "stdout",
          "text": [
            "2.718281828459045\n"
          ]
        }
      ],
      "source": [
        "from math import e\n",
        "\n",
        "# (דמיינו הרבה קוד כאן)\n",
        "print(e)  # ?לרוב הוא שם משתנה שתוכנו שגיאה, האם זה המקרה גם פה e ?מאיפה זה הגיע"
      ]
    },
    {
      "cell_type": "markdown",
      "metadata": {
        "id": "r74k4PivFU9_"
      },
      "source": [
        "<p style=\"text-align: right; direction: rtl; float: right; clear: both;\">\n",
        "    אם ממשיכים בכיוון, פייתון מאפשרת לנו לעשות את הדבר המזעזע הבא:\n",
        "</p>"
      ]
    },
    {
      "cell_type": "code",
      "execution_count": null,
      "metadata": {
        "id": "gf4PhUlxFU9_"
      },
      "outputs": [],
      "source": [
        "from math import *"
      ]
    },
    {
      "cell_type": "markdown",
      "metadata": {
        "id": "O5-9RBTTFU9_"
      },
      "source": [
        "<p style=\"text-align: right; direction: rtl; float: right; clear: both;\">\n",
        "    יבוא בעזרת כוכבית יגרום לכך שכל מה שמוגדר במודול \"יישפך\" לתוך התוכנית שלנו.<br>\n",
        "    זה יאפשר לנו להשתמש בכל התוכן של <code>math</code> בלי להזכיר את שם המודול:\n",
        "</p>"
      ]
    },
    {
      "cell_type": "code",
      "execution_count": null,
      "metadata": {
        "id": "lofB4cUQFU9_"
      },
      "outputs": [],
      "source": [
        "print(f\"floor(5.5) --> {floor(5.5)}\")\n",
        "print(f\"ceil(5.5)  --> {ceil(5.5)}\")\n",
        "print(f\"pow(9, 2)  --> {pow(9, 2)}\")\n",
        "print(f\"e          --> {e}\")"
      ]
    },
    {
      "cell_type": "markdown",
      "metadata": {
        "id": "D9oSptRDFU-A"
      },
      "source": [
        "<p style=\"text-align: right; direction: rtl; float: right; clear: both;\">\n",
        "    פרקטיקה זו נחשבת מאוד לא מנומסת, ואתם מתבקשים לא להשתמש בה, אלא אם כן אלו ההוראות הכתובות בתיעוד של המודול.<br>\n",
        "    ישנן לא מעט סיבות הגיוניות מאחורי איסור זה:\n",
        "</p>"
      ]
    },
    {
      "cell_type": "markdown",
      "metadata": {
        "id": "S1S76zmRFU-A"
      },
      "source": [
        "<ul style=\"text-align: right; direction: rtl; float: right; clear: both;\">\n",
        "    <li>זה מקשה על מתכנת שקורא את הקוד להבין איפה הוגדרו <var>ceil</var>, <var>floor</var>, <var>e</var> ו־<var>pow</var>.</li>\n",
        "    <li>אנחנו \"מזהמים\" את הסביבה שלנו בהגדרות רבות שלעולם לא נשתמש בהן.</li>\n",
        "    <li>חלק מהכלים שבהם תשתמשו בעתיד לא ידעו לזהות את השמות הללו, כיוון שלא ייבאתם אותם מפורשות.</li>\n",
        "</ul>"
      ]
    },
    {
      "cell_type": "markdown",
      "metadata": {
        "id": "gdPncKwOFU-A"
      },
      "source": [
        "### <span style=\"text-align: right; direction: rtl; float: right; clear: both;\">שינוי שם ביבוא<span>"
      ]
    },
    {
      "cell_type": "markdown",
      "metadata": {
        "id": "Hhzlkf3mFU-A"
      },
      "source": [
        "<p style=\"text-align: right; direction: rtl; float: right; clear: both;\">\n",
        "    המודול <code>turtle</code> הוא דרך פופולרית ללמד ילדים תכנות באמצעים גרפיים.<br>\n",
        "    תכנות ב־turtle הוא מעין משחק: ישנו צב שהולך במרחב, ומשאיר צבע בכל מקום שאליו הוא מגיע.<br>\n",
        "    אפשר להורות לצב בכמה מעלות להסתובב לכל כיוון, ולאיזה מרחק ללכת בכיוון שאליו הוא מופנה.<br>\n",
        "    כך, בסוף מסלול הטיול של הצב, מתקבל ציור מלא חן.<br>\n",
        "    הרעיון נוצר כחלק משפת התכנות <em>Logo</em> בשנת 1967.\n",
        "</p>"
      ]
    },
    {
      "cell_type": "markdown",
      "metadata": {
        "id": "7TdWFG6CFU-A"
      },
      "source": [
        "<p style=\"text-align: right; direction: rtl; float: right; clear: both;\">\n",
        "    נראה דוגמה לתוצר של ריצת תוכנית שכזו, שבה אנחנו משרטטים 100 ריבועים בהיסט של מעלה אחת בכל פעם.<br>\n",
        "    אנחנו ממליצים לשחק עם המודול קצת (זה כיף!) ולראות אם אתם מצליחים לצייר כוכב, לדוגמה :)\n",
        "</p>"
      ]
    },
    {
      "cell_type": "code",
      "execution_count": 8,
      "metadata": {
        "scrolled": true,
        "id": "SXGxCQhdFU-A",
        "outputId": "3903fe15-8bfd-4a08-8f14-f54b195c5c9c",
        "colab": {
          "base_uri": "https://localhost:8080/",
          "height": 356
        }
      },
      "outputs": [
        {
          "output_type": "error",
          "ename": "TclError",
          "evalue": "no display name and no $DISPLAY environment variable",
          "traceback": [
            "\u001b[0;31m---------------------------------------------------------------------------\u001b[0m",
            "\u001b[0;31mTclError\u001b[0m                                  Traceback (most recent call last)",
            "\u001b[0;32m<ipython-input-8-67291fe7d5ec>\u001b[0m in \u001b[0;36m<cell line: 3>\u001b[0;34m()\u001b[0m\n\u001b[1;32m      1\u001b[0m \u001b[0;32mimport\u001b[0m \u001b[0mturtle\u001b[0m\u001b[0;34m\u001b[0m\u001b[0;34m\u001b[0m\u001b[0m\n\u001b[1;32m      2\u001b[0m \u001b[0;34m\u001b[0m\u001b[0m\n\u001b[0;32m----> 3\u001b[0;31m \u001b[0mturtle\u001b[0m\u001b[0;34m.\u001b[0m\u001b[0mspeed\u001b[0m\u001b[0;34m(\u001b[0m\u001b[0;36m10\u001b[0m\u001b[0;34m)\u001b[0m\u001b[0;34m\u001b[0m\u001b[0;34m\u001b[0m\u001b[0m\n\u001b[0m\u001b[1;32m      4\u001b[0m \u001b[0;34m\u001b[0m\u001b[0m\n\u001b[1;32m      5\u001b[0m \u001b[0;32mfor\u001b[0m \u001b[0mi\u001b[0m \u001b[0;32min\u001b[0m \u001b[0mrange\u001b[0m\u001b[0;34m(\u001b[0m\u001b[0;36m400\u001b[0m\u001b[0;34m)\u001b[0m\u001b[0;34m:\u001b[0m\u001b[0;34m\u001b[0m\u001b[0;34m\u001b[0m\u001b[0m\n",
            "\u001b[0;32m/usr/lib/python3.10/turtle.py\u001b[0m in \u001b[0;36mspeed\u001b[0;34m(speed)\u001b[0m\n",
            "\u001b[0;32m/usr/lib/python3.10/turtle.py\u001b[0m in \u001b[0;36m__init__\u001b[0;34m(self, shape, undobuffersize, visible)\u001b[0m\n\u001b[1;32m   3812\u001b[0m                  visible=_CFG[\"visible\"]):\n\u001b[1;32m   3813\u001b[0m         \u001b[0;32mif\u001b[0m \u001b[0mTurtle\u001b[0m\u001b[0;34m.\u001b[0m\u001b[0m_screen\u001b[0m \u001b[0;32mis\u001b[0m \u001b[0;32mNone\u001b[0m\u001b[0;34m:\u001b[0m\u001b[0;34m\u001b[0m\u001b[0;34m\u001b[0m\u001b[0m\n\u001b[0;32m-> 3814\u001b[0;31m             \u001b[0mTurtle\u001b[0m\u001b[0;34m.\u001b[0m\u001b[0m_screen\u001b[0m \u001b[0;34m=\u001b[0m \u001b[0mScreen\u001b[0m\u001b[0;34m(\u001b[0m\u001b[0;34m)\u001b[0m\u001b[0;34m\u001b[0m\u001b[0;34m\u001b[0m\u001b[0m\n\u001b[0m\u001b[1;32m   3815\u001b[0m         RawTurtle.__init__(self, Turtle._screen,\n\u001b[1;32m   3816\u001b[0m                            \u001b[0mshape\u001b[0m\u001b[0;34m=\u001b[0m\u001b[0mshape\u001b[0m\u001b[0;34m,\u001b[0m\u001b[0;34m\u001b[0m\u001b[0;34m\u001b[0m\u001b[0m\n",
            "\u001b[0;32m/usr/lib/python3.10/turtle.py\u001b[0m in \u001b[0;36mScreen\u001b[0;34m()\u001b[0m\n\u001b[1;32m   3662\u001b[0m     else return the existing one.\"\"\"\n\u001b[1;32m   3663\u001b[0m     \u001b[0;32mif\u001b[0m \u001b[0mTurtle\u001b[0m\u001b[0;34m.\u001b[0m\u001b[0m_screen\u001b[0m \u001b[0;32mis\u001b[0m \u001b[0;32mNone\u001b[0m\u001b[0;34m:\u001b[0m\u001b[0;34m\u001b[0m\u001b[0;34m\u001b[0m\u001b[0m\n\u001b[0;32m-> 3664\u001b[0;31m         \u001b[0mTurtle\u001b[0m\u001b[0;34m.\u001b[0m\u001b[0m_screen\u001b[0m \u001b[0;34m=\u001b[0m \u001b[0m_Screen\u001b[0m\u001b[0;34m(\u001b[0m\u001b[0;34m)\u001b[0m\u001b[0;34m\u001b[0m\u001b[0;34m\u001b[0m\u001b[0m\n\u001b[0m\u001b[1;32m   3665\u001b[0m     \u001b[0;32mreturn\u001b[0m \u001b[0mTurtle\u001b[0m\u001b[0;34m.\u001b[0m\u001b[0m_screen\u001b[0m\u001b[0;34m\u001b[0m\u001b[0;34m\u001b[0m\u001b[0m\n\u001b[1;32m   3666\u001b[0m \u001b[0;34m\u001b[0m\u001b[0m\n",
            "\u001b[0;32m/usr/lib/python3.10/turtle.py\u001b[0m in \u001b[0;36m__init__\u001b[0;34m(self)\u001b[0m\n\u001b[1;32m   3678\u001b[0m         \u001b[0;31m# preserved (perhaps by passing it as an optional parameter)\u001b[0m\u001b[0;34m\u001b[0m\u001b[0;34m\u001b[0m\u001b[0m\n\u001b[1;32m   3679\u001b[0m         \u001b[0;32mif\u001b[0m \u001b[0m_Screen\u001b[0m\u001b[0;34m.\u001b[0m\u001b[0m_root\u001b[0m \u001b[0;32mis\u001b[0m \u001b[0;32mNone\u001b[0m\u001b[0;34m:\u001b[0m\u001b[0;34m\u001b[0m\u001b[0;34m\u001b[0m\u001b[0m\n\u001b[0;32m-> 3680\u001b[0;31m             \u001b[0m_Screen\u001b[0m\u001b[0;34m.\u001b[0m\u001b[0m_root\u001b[0m \u001b[0;34m=\u001b[0m \u001b[0mself\u001b[0m\u001b[0;34m.\u001b[0m\u001b[0m_root\u001b[0m \u001b[0;34m=\u001b[0m \u001b[0m_Root\u001b[0m\u001b[0;34m(\u001b[0m\u001b[0;34m)\u001b[0m\u001b[0;34m\u001b[0m\u001b[0;34m\u001b[0m\u001b[0m\n\u001b[0m\u001b[1;32m   3681\u001b[0m             \u001b[0mself\u001b[0m\u001b[0;34m.\u001b[0m\u001b[0m_root\u001b[0m\u001b[0;34m.\u001b[0m\u001b[0mtitle\u001b[0m\u001b[0;34m(\u001b[0m\u001b[0m_Screen\u001b[0m\u001b[0;34m.\u001b[0m\u001b[0m_title\u001b[0m\u001b[0;34m)\u001b[0m\u001b[0;34m\u001b[0m\u001b[0;34m\u001b[0m\u001b[0m\n\u001b[1;32m   3682\u001b[0m             \u001b[0mself\u001b[0m\u001b[0;34m.\u001b[0m\u001b[0m_root\u001b[0m\u001b[0;34m.\u001b[0m\u001b[0mondestroy\u001b[0m\u001b[0;34m(\u001b[0m\u001b[0mself\u001b[0m\u001b[0;34m.\u001b[0m\u001b[0m_destroy\u001b[0m\u001b[0;34m)\u001b[0m\u001b[0;34m\u001b[0m\u001b[0;34m\u001b[0m\u001b[0m\n",
            "\u001b[0;32m/usr/lib/python3.10/turtle.py\u001b[0m in \u001b[0;36m__init__\u001b[0;34m(self)\u001b[0m\n\u001b[1;32m    433\u001b[0m     \u001b[0;34m\"\"\"Root class for Screen based on Tkinter.\"\"\"\u001b[0m\u001b[0;34m\u001b[0m\u001b[0;34m\u001b[0m\u001b[0m\n\u001b[1;32m    434\u001b[0m     \u001b[0;32mdef\u001b[0m \u001b[0m__init__\u001b[0m\u001b[0;34m(\u001b[0m\u001b[0mself\u001b[0m\u001b[0;34m)\u001b[0m\u001b[0;34m:\u001b[0m\u001b[0;34m\u001b[0m\u001b[0;34m\u001b[0m\u001b[0m\n\u001b[0;32m--> 435\u001b[0;31m         \u001b[0mTK\u001b[0m\u001b[0;34m.\u001b[0m\u001b[0mTk\u001b[0m\u001b[0;34m.\u001b[0m\u001b[0m__init__\u001b[0m\u001b[0;34m(\u001b[0m\u001b[0mself\u001b[0m\u001b[0;34m)\u001b[0m\u001b[0;34m\u001b[0m\u001b[0;34m\u001b[0m\u001b[0m\n\u001b[0m\u001b[1;32m    436\u001b[0m \u001b[0;34m\u001b[0m\u001b[0m\n\u001b[1;32m    437\u001b[0m     \u001b[0;32mdef\u001b[0m \u001b[0msetupcanvas\u001b[0m\u001b[0;34m(\u001b[0m\u001b[0mself\u001b[0m\u001b[0;34m,\u001b[0m \u001b[0mwidth\u001b[0m\u001b[0;34m,\u001b[0m \u001b[0mheight\u001b[0m\u001b[0;34m,\u001b[0m \u001b[0mcwidth\u001b[0m\u001b[0;34m,\u001b[0m \u001b[0mcheight\u001b[0m\u001b[0;34m)\u001b[0m\u001b[0;34m:\u001b[0m\u001b[0;34m\u001b[0m\u001b[0;34m\u001b[0m\u001b[0m\n",
            "\u001b[0;32m/usr/lib/python3.10/tkinter/__init__.py\u001b[0m in \u001b[0;36m__init__\u001b[0;34m(self, screenName, baseName, className, useTk, sync, use)\u001b[0m\n\u001b[1;32m   2297\u001b[0m                 \u001b[0mbaseName\u001b[0m \u001b[0;34m=\u001b[0m \u001b[0mbaseName\u001b[0m \u001b[0;34m+\u001b[0m \u001b[0mext\u001b[0m\u001b[0;34m\u001b[0m\u001b[0;34m\u001b[0m\u001b[0m\n\u001b[1;32m   2298\u001b[0m         \u001b[0minteractive\u001b[0m \u001b[0;34m=\u001b[0m \u001b[0;32mFalse\u001b[0m\u001b[0;34m\u001b[0m\u001b[0;34m\u001b[0m\u001b[0m\n\u001b[0;32m-> 2299\u001b[0;31m         \u001b[0mself\u001b[0m\u001b[0;34m.\u001b[0m\u001b[0mtk\u001b[0m \u001b[0;34m=\u001b[0m \u001b[0m_tkinter\u001b[0m\u001b[0;34m.\u001b[0m\u001b[0mcreate\u001b[0m\u001b[0;34m(\u001b[0m\u001b[0mscreenName\u001b[0m\u001b[0;34m,\u001b[0m \u001b[0mbaseName\u001b[0m\u001b[0;34m,\u001b[0m \u001b[0mclassName\u001b[0m\u001b[0;34m,\u001b[0m \u001b[0minteractive\u001b[0m\u001b[0;34m,\u001b[0m \u001b[0mwantobjects\u001b[0m\u001b[0;34m,\u001b[0m \u001b[0museTk\u001b[0m\u001b[0;34m,\u001b[0m \u001b[0msync\u001b[0m\u001b[0;34m,\u001b[0m \u001b[0muse\u001b[0m\u001b[0;34m)\u001b[0m\u001b[0;34m\u001b[0m\u001b[0;34m\u001b[0m\u001b[0m\n\u001b[0m\u001b[1;32m   2300\u001b[0m         \u001b[0;32mif\u001b[0m \u001b[0museTk\u001b[0m\u001b[0;34m:\u001b[0m\u001b[0;34m\u001b[0m\u001b[0;34m\u001b[0m\u001b[0m\n\u001b[1;32m   2301\u001b[0m             \u001b[0mself\u001b[0m\u001b[0;34m.\u001b[0m\u001b[0m_loadtk\u001b[0m\u001b[0;34m(\u001b[0m\u001b[0;34m)\u001b[0m\u001b[0;34m\u001b[0m\u001b[0;34m\u001b[0m\u001b[0m\n",
            "\u001b[0;31mTclError\u001b[0m: no display name and no $DISPLAY environment variable"
          ]
        }
      ],
      "source": [
        "import turtle\n",
        "\n",
        "turtle.speed(10)\n",
        "\n",
        "for i in range(400):\n",
        "    turtle.forward(50 + i)\n",
        "    turtle.right(91)\n",
        "\n",
        "turtle.done()"
      ]
    },
    {
      "cell_type": "markdown",
      "metadata": {
        "id": "bEr-EVEkFU-B"
      },
      "source": [
        "<div class=\"align-center\" style=\"display: flex; text-align: right; direction: rtl;\">\n",
        "    <div style=\"display: flex; width: 10%; float: right; \">\n",
        "        <img src=\"https://github.com/PythonFreeCourse/Notebooks/blob/main/content/week05/images/warning.png?raw=1\" style=\"height: 50px !important;\" alt=\"אזהרה!\">\n",
        "    </div>\n",
        "    <div style=\"width: 90%\">\n",
        "        <p style=\"text-align: right; direction: rtl;\">\n",
        "            הרצת קוד של <code>turtle</code> תפתח לכם חלון חדש בו יצויר פלט התוכנית.<br>\n",
        "            כדי להמשיך להריץ את התאים במחברת, סגרו את החלון.\n",
        "        </p>\n",
        "    </div>\n",
        "</div>"
      ]
    },
    {
      "cell_type": "markdown",
      "metadata": {
        "id": "qC8z0JCWFU-B"
      },
      "source": [
        "<p style=\"text-align: right; direction: rtl; float: right; clear: both;\">\n",
        "    כדי לשנות את השם שבו אנחנו מתייחסים למודול, ניעזר במילת המפתח <code>as</code>.<br>\n",
        "    לדוגמה:\n",
        "</p>"
      ]
    },
    {
      "cell_type": "code",
      "execution_count": null,
      "metadata": {
        "scrolled": true,
        "id": "0lAaIU9iFU-B"
      },
      "outputs": [],
      "source": [
        "import turtle as kipik\n",
        "\n",
        "kipik.speed(100)  # קיפיק מהיר הרבה יותר מצב רגיל\n",
        "\n",
        "for i in range(400):\n",
        "    kipik.forward(50 + i)\n",
        "    kipik.right(91)\n",
        "\n",
        "kipik.done()"
      ]
    },
    {
      "cell_type": "markdown",
      "metadata": {
        "id": "pbdOLwI-FU-B"
      },
      "source": [
        "<p style=\"text-align: right; direction: rtl; float: right; clear: both;\">\n",
        "    כך אפשר לקצר את שם המודול שאנחנו מייבאים, ולהימנע מסרבול מיותר.<br>\n",
        "    למרות זאת, יבוא מודול תחת שם אחר נחשב פרקטיקה לא מנומסת, שעלולה לבלבל קוראים שבקיאים בשמות המודולים הקיימים.\n",
        "</p>"
      ]
    },
    {
      "cell_type": "markdown",
      "metadata": {
        "id": "RLo-lqS8FU-B"
      },
      "source": [
        "<p style=\"text-align: right; direction: rtl; float: right; clear: both;\">\n",
        "    ישנם שני מקרים יוצאי דופן, שבהם השימוש ב־<code>as</code> נחשב רצוי:\n",
        "</p>\n",
        "\n",
        "<ol style=\"text-align: right; direction: rtl; float: right; clear: both;\">\n",
        "    <li>כאשר מבקשים מאיתנו להשתמש ב־<code>as</code> במסמכי התיעוד של המודול.</li>\n",
        "    <li>כאשר אנחנו רוצים להתנסות בדברים ולחסוך זמן, נקצר את השמות של המודולים, הפונקציות או הקבועים שאותם אנחנו מייבאים.</li>\n",
        "</ol>"
      ]
    },
    {
      "cell_type": "markdown",
      "metadata": {
        "id": "PvahjrjhFU-B"
      },
      "source": [
        "### <span style=\"text-align: right; direction: rtl; float: right; clear: both;\">נימוסים והליכות<span>"
      ]
    },
    {
      "cell_type": "markdown",
      "metadata": {
        "id": "7b_JhxpYFU-B"
      },
      "source": [
        "<p style=\"text-align: right; direction: rtl; float: right; clear: both;\">\n",
        "    לשימוש במודולים יש כללי סגנון שמוסכמים על רוב המתכנתים.<br>\n",
        "    הם מופיעים במסמך בשם <a href=\"https://www.python.org/dev/peps/pep-0008/#imports\">PEP8</a>, שמטרתו להגדיר איך נראה קוד פייתון המסוגנן כראוי.<br>\n",
        "    הנה כמה כללים שראוי שתעקבו אחריהם:\n",
        "</p>"
      ]
    },
    {
      "cell_type": "markdown",
      "metadata": {
        "id": "gJ_BCUi9FU-B"
      },
      "source": [
        "<ul style=\"text-align: right; direction: rtl; float: right; clear: both;\">\n",
        "    <li>יבוא המודולים תמיד יתבצע בראש הקוד, לפני כל דבר אחר.</li>\n",
        "    <li>כאשר מייבאים יותר ממודול אחד, סדר היבוא צריך להיות מילוני – לפי שם המודול שיובא.</li>\n",
        "    <li>טכנית, אפשר לייבא יותר ממודול אחד בשורה, אם נפריד את שמות המודולים בפסיק. מעשית זה לא מנומס.</li>\n",
        "    <li>כאשר משתמשים ב־<code>from</code> ליבוא של יותר משם אחד – השמות צריכים להיות מסודרים בסדר מילוני.</li>\n",
        "    <li>יש להימנע משימוש ביבוא בעזרת כוכבית.</li>\n",
        "</ul>"
      ]
    },
    {
      "cell_type": "markdown",
      "metadata": {
        "id": "hcaEE2bWFU-C"
      },
      "source": [
        "### <span style=\"text-align: right; direction: rtl; float: right; clear: both;\">דוגמאות נוספות<span>"
      ]
    },
    {
      "cell_type": "markdown",
      "metadata": {
        "id": "qMC4uZPtFU-C"
      },
      "source": [
        "<p style=\"text-align: right; direction: rtl; float: right; clear: both;\">\n",
        "    מה התאריך היום?\n",
        "</p>"
      ]
    },
    {
      "cell_type": "code",
      "execution_count": 9,
      "metadata": {
        "id": "kUnkx-MrFU-C",
        "outputId": "872fbb2e-e8bb-464d-a7ba-74c4ec8a7cd2",
        "colab": {
          "base_uri": "https://localhost:8080/"
        }
      },
      "outputs": [
        {
          "output_type": "stream",
          "name": "stdout",
          "text": [
            "What is the time now?\n",
            "2024-09-19 07:44:16.281902\n"
          ]
        }
      ],
      "source": [
        "import datetime\n",
        "print(\"What is the time now?\")\n",
        "print(datetime.datetime.now())"
      ]
    },
    {
      "cell_type": "markdown",
      "metadata": {
        "id": "L1pOsH6tFU-C"
      },
      "source": [
        "<p style=\"text-align: right; direction: rtl; float: right; clear: both;\">\n",
        "    נשתמש במודול <code>calendar</code> כדי להדפיס את לוח השנה של החודש הנוכחי:\n",
        "</p>"
      ]
    },
    {
      "cell_type": "code",
      "execution_count": 10,
      "metadata": {
        "id": "L8WALwrqFU-C",
        "outputId": "b341be9e-2044-429b-f25b-e08a5e71a2f0",
        "colab": {
          "base_uri": "https://localhost:8080/"
        }
      },
      "outputs": [
        {
          "output_type": "stream",
          "name": "stdout",
          "text": [
            "   September 2024\n",
            "Mo Tu We Th Fr Sa Su\n",
            "                   1\n",
            " 2  3  4  5  6  7  8\n",
            " 9 10 11 12 13 14 15\n",
            "16 17 18 19 20 21 22\n",
            "23 24 25 26 27 28 29\n",
            "30\n"
          ]
        }
      ],
      "source": [
        "from calendar import prmonth as print_calendar  # לא מנומס, אבל דוגמה טובה\n",
        "import datetime\n",
        "\n",
        "current_date = datetime.datetime.now()\n",
        "print_calendar(current_date.year, current_date.month)"
      ]
    },
    {
      "cell_type": "markdown",
      "metadata": {
        "id": "jOsodxG3FU-C"
      },
      "source": [
        "## <span style=\"align: right; direction: rtl; float: right; clear: both;\">סיכום</span>"
      ]
    },
    {
      "cell_type": "markdown",
      "metadata": {
        "id": "dzGuoyRXFU-C"
      },
      "source": [
        "<ul style=\"text-align: right; direction: rtl; float: right; clear: both;\">\n",
        "    <li>מודולים הם חלקי תוכנה שמטרתם לפתור בעיה מעולם תוכן מסוים.</li>\n",
        "    <li>אפשר לייבא מודולים ולהשתמש במה שהם מציעים כדי להשיג את מטרותינו במהירות ובקלות.</li>\n",
        "    <li>המודולים שמגיעים עם פייתון מתוחזקים היטב, ויחסכו לנו באגים והתעסקות עם מקרי קצה.</li>\n",
        "    <li>לפני שניגש לפתור בעיה מורכבת, ננסה למצוא בתיעוד של פייתון פתרון בדמות מודול קיים.</li>\n",
        "</ul>"
      ]
    },
    {
      "cell_type": "markdown",
      "metadata": {
        "id": "NmeQaz2pFU-C"
      },
      "source": [
        "## <span style=\"align: right; direction: rtl; float: right; clear: both;\">מונחים</span>"
      ]
    },
    {
      "cell_type": "markdown",
      "metadata": {
        "id": "It9rvH7FFU-C"
      },
      "source": [
        "<dl style=\"text-align: right; direction: rtl; float: right; clear: both;\">\n",
        "<dt>מודול</dt><dd>יחידה עצמאית של קוד המיועדת לטיפול במטרה מסוימת, ושקוד חיצוני יכול להשתמש בה.<br>בשפות תכנות אחרות מוכר גם כ<dfn>ספרייה</dfn>.</dd>\n",
        "<dt>יבוא</dt><dd>הצהרה בעזרת <code>import</code> על כך שאנחנו הולכים להשתמש במודול מסוים בקוד שלנו.</dd>\n",
        "<dt>PEP8</dt><dd>מסמך תקינה המתאר לפרטים מהי הדרך הנכונה לסגנן קוד פייתון.</dd>\n",
        "</dl>"
      ]
    },
    {
      "cell_type": "markdown",
      "metadata": {
        "id": "ZQTBR-I1FU-C"
      },
      "source": [
        "## <span style=\"text-align: right; direction: rtl; float: right; clear: both;\">תרגילים<span>"
      ]
    },
    {
      "cell_type": "markdown",
      "metadata": {
        "id": "WUNgEGICFU-C"
      },
      "source": [
        "<p style=\"text-align: right; direction: rtl; float: right; clear: both;\">\n",
        "    בתרגילים הבאים השתמשו באינטרנט כדי למצוא מודולים ופונקציות שיסייעו לכם לפתור את התרגיל.<br>\n",
        "    נסו להימנע מחיפוש ומקריאה של פתרונות לתרגיל המסוים המופיע במחברת (כמו חיפושים הכוללים \"חפיסת קלפים\").\n",
        "</p>"
      ]
    },
    {
      "cell_type": "markdown",
      "metadata": {
        "id": "7SmoSHrNFU-D"
      },
      "source": [
        "### <span style=\"text-align: right; direction: rtl; float: right; clear: both;\">זו הדרך<span>"
      ]
    },
    {
      "cell_type": "markdown",
      "metadata": {
        "id": "q4R7CJ8PFU-D"
      },
      "source": [
        "<p style=\"text-align: right; direction: rtl; float: right; clear: both;\">\n",
        "    כתבו פונקציה שמקבלת נתיב לתיקייה, ומחזירה את רשימת כל הקבצים שמתחילים ברצף האותיות \"<i>deep</i>\" באותה תיקייה.<br>\n",
        "    בדקו שהפעלת הפונקציה על התיקייה <i>images</i> מחזירה שני קבצים.\n",
        "</p>"
      ]
    },
    {
      "cell_type": "markdown",
      "metadata": {
        "id": "eYoLL5JiFU-D"
      },
      "source": [
        "### <span style=\"text-align: right; direction: rtl; float: right; clear: both;\">משחק קלפים משונה<span>"
      ]
    },
    {
      "cell_type": "markdown",
      "metadata": {
        "id": "gARXNCdXFU-D"
      },
      "source": [
        "<p style=\"text-align: right; direction: rtl; float: right; clear: both;\">\n",
        "    בחפיסת קלפים רגילה, שבה 52 קלפים, יש לכל קלף שתי תכונות:\n",
        "</p>"
      ]
    },
    {
      "cell_type": "markdown",
      "metadata": {
        "id": "zhiw55hdFU-D"
      },
      "source": [
        "<ol style=\"text-align: right; direction: rtl; float: right; clear: both;\">\n",
        "    <li>\n",
        "        <strong>ערך</strong>: מספר שבין 1 ל־13.\n",
        "    </li>\n",
        "    <li>\n",
        "        <strong>צורה</strong>: תלתן (Club), יהלום (Diamond), לב (Heart) או עלה (Spade).\n",
        "    </li>\n",
        "</ol>"
      ]
    },
    {
      "cell_type": "markdown",
      "metadata": {
        "id": "aV32RmQUFU-D"
      },
      "source": [
        "<p style=\"text-align: right; direction: rtl; float: right; clear: both;\">\n",
        "    כל צירוף של ערך וצורה מופיע בחפיסה בדיוק פעם אחת.\n",
        "</p>"
      ]
    },
    {
      "cell_type": "markdown",
      "metadata": {
        "id": "yrix6S0GFU-D"
      },
      "source": [
        "<ol style=\"text-align: right; direction: rtl; float: right; clear: both;\">\n",
        "    <li>צרו חפיסת קלפים מלאה.</li>\n",
        "    <li>טרפו את הקלפים.</li>\n",
        "    <li>חלקו אותם בין 4 שחקנים.</li>\n",
        "    <li>הדפיסו לאיזה שחקן סכום הקלפים הגבוה ביותר.</li>\n",
        "</ol>"
      ]
    },
    {
      "cell_type": "markdown",
      "metadata": {
        "id": "vzhg7vAMFU-D"
      },
      "source": [
        "### <span style=\"text-align: right; direction: ltr; float: right; clear: both;\">It's the final?<span>"
      ]
    },
    {
      "cell_type": "markdown",
      "metadata": {
        "id": "zb4S9qm9FU-D"
      },
      "source": [
        "<p style=\"text-align: right; direction: rtl; float: right; clear: both;\">\n",
        "    כתבו פונקציה שמקבלת תאריך עתידי בתצורה YYYY-MM-DD, ומדפיסה את מספר הימים שנשארו עד שנגיע לתאריך המיוחל.<br>\n",
        "    לדוגמה, אם התאריך היום הוא 2020-05-04 וקיבלנו כקלט 2020-05-25, הפונקציה תחזיר <samp>21</samp>.\n",
        "</p>"
      ]
    },
    {
      "cell_type": "markdown",
      "metadata": {
        "id": "bEjlHmG6FU-D"
      },
      "source": [
        "### <span style=\"text-align: right; direction: rtl; float: right; clear: both;\">אין לי וִנִגְרֶט<span>"
      ]
    },
    {
      "cell_type": "markdown",
      "metadata": {
        "id": "YYh6WMm3FU-D"
      },
      "source": [
        "<p style=\"text-align: right; direction: rtl; float: right; clear: both;\">\n",
        "    כתבו תוכנה שמקבלת כקלט מהמשתמש שני תאריכים בתצורה: YYYY-MM-DD.<br>\n",
        "    התוכנה תגריל תאריך חדש שנמצא בין שני התאריכים שהמשתמש הזין כקלט.<br>\n",
        "    לדוגמה, עבור הקלטים 1912-06-23 ו־1954-06-07, פלט אפשרי הוא <samp>1939-09-03</samp>.<br>\n",
        "    כיוון שאני הולך למכולת רק בימי שני ואני צרכן כבד של רוטב ויניגרט, אם התאריך נופל על יום שני, הדפיסו: \"אין לי ויניגרט!\"<br>\n",
        "    רמז: <span style=\"background: black; color: black;\">קראו על EPOCH</span>.\n",
        "</p>"
      ]
    },
    {
      "cell_type": "code",
      "source": [
        "from datetime import datetime\n",
        "import pandas as pd\n",
        "\n",
        "dates = input(\"Enter two dates in this form: YYYY-MM-DD seperated by one space\").split(\" \")\n",
        "\n",
        "date_format = '%Y-%m-%d'\n",
        "\n",
        "start_date, end_date = datetime.strptime(dates[0], date_format), datetime.strptime(dates[1], date_format)\n",
        "\n",
        "D = 'D'\n",
        "\n",
        "date_list = pd.date_range(start_date, end_date, freq=D)\n",
        "\n",
        "random_date = random.choice(date_list)\n",
        "print(random_date)\n",
        "\n",
        "day = random_date.isoweekday()\n",
        "if day == 1:\n",
        "  print(\"אין לי ויניגרט!\")\n"
      ],
      "metadata": {
        "id": "6McTeGQmP_Vr",
        "outputId": "b20e8415-5900-46e2-d9fd-cbf74295d1bd",
        "colab": {
          "base_uri": "https://localhost:8080/"
        }
      },
      "execution_count": 35,
      "outputs": [
        {
          "output_type": "stream",
          "name": "stdout",
          "text": [
            "Enter two dates in this form: YYYY-MM-DD seperated by one space2014-12-22 2014-12-23\n",
            "2014-12-22 00:00:00\n",
            "אין לי ויניגרט!\n"
          ]
        }
      ]
    }
  ],
  "metadata": {
    "kernelspec": {
      "display_name": "Python 3",
      "language": "python",
      "name": "python3"
    },
    "language_info": {
      "codemirror_mode": {
        "name": "ipython",
        "version": 3
      },
      "file_extension": ".py",
      "mimetype": "text/x-python",
      "name": "python",
      "nbconvert_exporter": "python",
      "pygments_lexer": "ipython3",
      "version": "3.7.6"
    },
    "colab": {
      "provenance": []
    }
  },
  "nbformat": 4,
  "nbformat_minor": 0
}