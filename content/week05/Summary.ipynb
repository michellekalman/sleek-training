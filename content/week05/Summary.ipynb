{
  "cells": [
    {
      "cell_type": "markdown",
      "metadata": {
        "id": "MEbHbyKFVuLe"
      },
      "source": [
        "<img src=\"https://github.com/PythonFreeCourse/Notebooks/blob/main/content/week05/images/logo.jpg?raw=1\" style=\"display: block; margin-left: auto; margin-right: auto;\" alt=\"לוגו של מיזם לימוד הפייתון. נחש מצויר בצבעי צהוב וכחול, הנע בין האותיות של שם הקורס: לומדים פייתון. הסלוגן המופיע מעל לשם הקורס הוא מיזם חינמי ללימוד תכנות בעברית.\">"
      ]
    },
    {
      "cell_type": "markdown",
      "metadata": {
        "id": "10Q-UJkCVuLg"
      },
      "source": [
        "# <p style=\"text-align:right;direction:rtl;\"> תרגילים </p>"
      ]
    },
    {
      "cell_type": "markdown",
      "metadata": {
        "id": "ae4n0K9tVuLg"
      },
      "source": [
        "## <span style=\"text-align: right; direction: rtl; float: right; clear: both;\">הקדמה</span>"
      ]
    },
    {
      "cell_type": "markdown",
      "metadata": {
        "id": "YkuOz7dLVuLg"
      },
      "source": [
        "<p style=\"text-align: right; direction: rtl; float: right; clear: both;\">\n",
        "    התרגול השבוע כרוך בהשקעת מאמץ ניכר, ומטרתו לחזור ולחזק את היסודות שנלמדו בשבועות קודמים.<br>\n",
        "    השבוע ניצב בפניכם אתגר חדש: חזקו את יכולות החיפוש שלכם באינטרנט ובתיעוד של פייתון, ונסו למצוא מודולים שיסייעו לכם בפתרון הבעיות.<br>\n",
        "    זוהי יכולת חשובה מאוד עבור מתכנתים, וזהו בהחלט חלק נכבד מהאתגר בתרגילים שמופיעים לפניכם במחברת הזו.\n",
        "</p>"
      ]
    },
    {
      "cell_type": "markdown",
      "metadata": {
        "id": "WU6CNjGQVuLh"
      },
      "source": [
        "## <span style=\"text-align: right; direction: rtl; float: right; clear: both;\">מלחמה וזהו?</span>"
      ]
    },
    {
      "cell_type": "markdown",
      "metadata": {
        "id": "Gv2EF_a2VuLj"
      },
      "source": [
        "<p style=\"text-align: right; direction: rtl; float: right; clear: both;\">\n",
        "    פתרו את התרגיל \"מלחמה וזהו\" משבוע 4, הפעם עם הידע החדש שרכשתם.\n",
        "</p>"
      ]
    },
    {
      "cell_type": "markdown",
      "metadata": {
        "id": "_q-jpGb9VuLk"
      },
      "source": [
        "## <span style=\"text-align: right; direction: rtl; float: right; clear: both;\">כלים שלובים</span>"
      ]
    },
    {
      "cell_type": "markdown",
      "metadata": {
        "id": "TwqSwVa_VuLl"
      },
      "source": [
        "<p style=\"text-align: right; direction: rtl; float: right; clear: both;\">\n",
        "    כתבו פונקציה בשם <code>interleave</code> שמקבלת פרמטר iterable אחד או יותר, ומחזירה רשימה של האיברים שזורים זה בזה.\n",
        "</p>"
      ]
    },
    {
      "cell_type": "markdown",
      "metadata": {
        "id": "OHZPWw3WVuLl"
      },
      "source": [
        "<p style=\"text-align: right; direction: rtl; float: right; clear: both;\">\n",
        "לדוגמה, עבור הקריאה <code dir=\"ltr\" style=\"direction: ltr; text-align: left;\">interleave('abc', [1, 2, 3], ('!', '@', '#'))</code> יוחזר הערך: <samp dir=\"ltr\" style=\"direction: ltr; text-align: left;\">['a', 1, '!', 'b', 2, '@', 'c', 3, '#']</samp>.\n",
        "</p>"
      ]
    },
    {
      "cell_type": "code",
      "source": [
        "def interleave(*iterables):\n",
        "  res = []\n",
        "  zipped = zip(*iterables)\n",
        "\n",
        "  for z in zipped:\n",
        "    res.extend(z)\n",
        "\n",
        "  return res"
      ],
      "metadata": {
        "id": "gPEsTWk9VyIw"
      },
      "execution_count": 5,
      "outputs": []
    },
    {
      "cell_type": "code",
      "source": [
        "interleave('abc', [1, 2, 3], ('!', '@', '#'))"
      ],
      "metadata": {
        "id": "wqlJlSSDWIQH",
        "outputId": "212514af-f308-4d06-96b0-ed5d25327e8f",
        "colab": {
          "base_uri": "https://localhost:8080/"
        }
      },
      "execution_count": 6,
      "outputs": [
        {
          "output_type": "execute_result",
          "data": {
            "text/plain": [
              "['a', 1, '!', 'b', 2, '@', 'c', 3, '#']"
            ]
          },
          "metadata": {},
          "execution_count": 6
        }
      ]
    },
    {
      "cell_type": "code",
      "source": [
        "interleave('abc', [1, 2], ('!', '@', '#'))"
      ],
      "metadata": {
        "id": "jkojTBtgW4jA",
        "outputId": "4970addb-aa67-4211-a981-08bb0f770ad5",
        "colab": {
          "base_uri": "https://localhost:8080/"
        }
      },
      "execution_count": 7,
      "outputs": [
        {
          "output_type": "execute_result",
          "data": {
            "text/plain": [
              "['a', 1, '!', 'b', 2, '@']"
            ]
          },
          "metadata": {},
          "execution_count": 7
        }
      ]
    },
    {
      "cell_type": "markdown",
      "metadata": {
        "id": "eMsKZiyuVuLm"
      },
      "source": [
        "<p style=\"text-align: right; direction: rtl; float: right; clear: both;\">\n",
        "    ממשו גרסה של generator ל־interleave.\n",
        "</p>"
      ]
    },
    {
      "cell_type": "markdown",
      "metadata": {
        "id": "Hajy7K8OVuLm"
      },
      "source": [
        "## <span style=\"text-align: right; direction: rtl; float: right; clear: both;\">שובו של קשטן</span>"
      ]
    },
    {
      "cell_type": "markdown",
      "metadata": {
        "id": "bHYnfLldVuLn"
      },
      "source": [
        "<p style=\"text-align: right; direction: rtl; float: right; clear: both;\">\n",
        "    בחנות של אדון קשטן ישנו מילון המכיל את כל המוצרים בחנות, ואת המלאי של כל מוצר.<br>\n",
        "    רשמו פונקציה שמקבלת את המוצרים שהתקבלו במשלוח האחרון, ומעדכנת את המלאי של אדון קשטן בהתאם לכך.\n",
        "</p>"
      ]
    },
    {
      "cell_type": "markdown",
      "metadata": {
        "id": "G10AAfr6VuLn"
      },
      "source": [
        "<p style=\"text-align: right; direction: rtl; float: right; clear: both;\">\n",
        "לדוגמה:\n",
        "</p>"
      ]
    },
    {
      "cell_type": "markdown",
      "metadata": {
        "id": "omts9_ifVuLn"
      },
      "source": [
        "<ul style=\"text-align: right; direction: rtl; float: right; clear: both;\">\n",
        "    <li>עבור הקריאה <code dir=\"ltr\" style=\"direction: ltr; text-align: left;\">add_inventory({'cheese': 2, 'milk': 1}, cheese=3, chocolate=5)</code><br>\n",
        "        יוחזר המלאי: <samp dir=\"ltr\" style=\"direction: ltr; text-align: left;\">{'cheese': 5, 'chocolate': 5, 'milk': 1}</samp>\n",
        "    </li>\n",
        "    <li>עבור הקריאה <code dir=\"ltr\" style=\"direction: ltr; text-align: left;\">add_inventory({'refrigerator': 7, 'goat': 1}, honey=2)</code><br>\n",
        "    יוחזר המלאי: <samp dir=\"ltr\" style=\"direction: ltr; text-align: left;\">{'honey': 2, 'refrigerator': 7, 'goat': 1}</samp>\n",
        "    </li>\n",
        "</ul>"
      ]
    },
    {
      "cell_type": "code",
      "source": [
        "def add_inventory(inventory, **items):\n",
        "  for name, amount in items.items():\n",
        "    if inventory.get(name):\n",
        "      inventory[name] += amount\n",
        "    else:\n",
        "      inventory[name] = amount\n",
        "  print(inventory)"
      ],
      "metadata": {
        "id": "3rwn4SJaXGv2"
      },
      "execution_count": 15,
      "outputs": []
    },
    {
      "cell_type": "code",
      "source": [
        "add_inventory({'cheese': 2, 'milk': 1}, cheese=3, chocolate=5)"
      ],
      "metadata": {
        "id": "qKy3VPmPX3Gn",
        "outputId": "b581831a-8232-4856-8aa6-776f70a7573a",
        "colab": {
          "base_uri": "https://localhost:8080/"
        }
      },
      "execution_count": 16,
      "outputs": [
        {
          "output_type": "stream",
          "name": "stdout",
          "text": [
            "{'cheese': 5, 'milk': 1, 'chocolate': 5}\n"
          ]
        }
      ]
    },
    {
      "cell_type": "code",
      "source": [
        "add_inventory({'refrigerator': 7, 'goat': 1}, honey=2)"
      ],
      "metadata": {
        "id": "ZXwZnLM5YdVY",
        "outputId": "f848bbb8-5416-44d1-9024-55face872ce9",
        "colab": {
          "base_uri": "https://localhost:8080/"
        }
      },
      "execution_count": 17,
      "outputs": [
        {
          "output_type": "stream",
          "name": "stdout",
          "text": [
            "{'refrigerator': 7, 'goat': 1, 'honey': 2}\n"
          ]
        }
      ]
    },
    {
      "cell_type": "markdown",
      "metadata": {
        "id": "95amDECYVuLn"
      },
      "source": [
        "## <span style=\"text-align: right; direction: rtl; float: right; clear: both;\">הארי רציונלי אבל לא נורא</span>"
      ]
    },
    {
      "cell_type": "markdown",
      "metadata": {
        "id": "JHYf9KnTVuLn"
      },
      "source": [
        "<p style=\"text-align: right; direction: rtl; float: right; clear: both;\">\n",
        "    הספרן שהיה בדרכו להביא לי את העותק הנחשק של \"<a href=\"https://rationality.co.il/\">הארי פוטר והשיטה הרציונלית</a>\" מעד.<br>\n",
        "    הספרים התעופפו ופרקי הספרים התפזרו לכל עבר.<br>\n",
        "    בתיקייה resources מצורף קובץ מכווץ ובו כל פרקי הסיפור, אך למרבה הצער שם הקבצים אינו תואם לתוכן שלהם.<br>\n",
        "    שנו את שמו של כל קובץ כך ששמו החדש יהיה מספר תלתַ־ספרתי שמתאר את מספר הפרק, ואחריו את שם הפרק.<br>\n",
        "    לדוגמה: עבור הפרק הראשון, שם הקובץ צריך להיות <samp dir=\"ltr\" style=\"direction: ltr; font-style: italic;\">001 A Day of Very Low Probability</samp>.<br>\n",
        "    במהלך התרגיל ייתכן שתצטרכו לשלב עבודה עם כמה ספריות, ובהן כאלו שלא למדנו.\n",
        "</p>"
      ]
    },
    {
      "cell_type": "markdown",
      "metadata": {
        "id": "kDLO2IS_VuLo"
      },
      "source": [
        "<ul style=\"text-align: right; direction: rtl; float: right; clear: both;\">\n",
        "    <li>פתחו את קובץ ה־zip ידנית לפני תחילת העבודה, וחלצו ממנו את כל הפרקים של הספר.</li>\n",
        "    <li>כדי לדמות תרגיל מהעולם האמיתי, הושתלו כמה בעיות שבהן תתקלו לאחר שתריצו את התוכנה שלכם. פתרו אותן בעזרת תכנות.</li>\n",
        "</ul>"
      ]
    },
    {
      "cell_type": "markdown",
      "metadata": {
        "id": "N7uXUsBAVuLo"
      },
      "source": [
        "<p style=\"text-align: right; direction: rtl; float: right; clear: both;\">\n",
        "    טיפ: גבו את הקבצים לפני שתתחילו לעבוד עליהם.<br>\n",
        "    רמז: <span style=\"background: black; color: black;\">אפשר לפתוח קובצי html ידנית, כקובצי טקסט.</span><br>\n",
        "    רמז 2: <span style=\"background: black; color: black;\">כיצד משנים שמות של קבצים באמצעות פייתון?</span>\n",
        "</p>"
      ]
    },
    {
      "cell_type": "markdown",
      "metadata": {
        "id": "IBlVn0W_VuLo"
      },
      "source": [
        "## <span style=\"text-align: right; direction: rtl; float: right; clear: both;\">פרדוקס יום ההולדת</span>"
      ]
    },
    {
      "cell_type": "markdown",
      "metadata": {
        "id": "mSeYu_b8VuLo"
      },
      "source": [
        "<p style=\"text-align: right; direction: rtl; float: right; clear: both;\">\n",
        "    מוצגת להלן אחת מהגרסאות של <a href=\"https://he.wikipedia.org/wiki/%D7%A4%D7%A8%D7%93%D7%95%D7%A7%D7%A1_%D7%99%D7%95%D7%9D_%D7%94%D7%94%D7%95%D7%9C%D7%93%D7%AA\">פרדוקס יום ההולדת</a>:\n",
        "</p>"
      ]
    },
    {
      "cell_type": "markdown",
      "metadata": {
        "id": "0gtxa01LVuLp"
      },
      "source": [
        "<blockquote style=\"border-left:none !important; position: relative; padding-left: 0.5em; padding: 1.5em; border-right: 3px solid #a93226; background-color: #fbe7e6; direction: rtl; text-align: right; clear: both;\">\n",
        "    מה הסיכוי שבכיתה שבה 23 תלמידים (חחחחח) יציינו שני תלמידים יום הולדת באותו תאריך?<br>\n",
        "</blockquote>"
      ]
    },
    {
      "cell_type": "markdown",
      "metadata": {
        "id": "8BZQOL88VuLp"
      },
      "source": [
        "<p style=\"text-align: right; direction: rtl; float: right; clear: both;\">\n",
        "הנחות המוצא שלנו בפתירת הבעיה הן כדלהלן:\n",
        "</p>"
      ]
    },
    {
      "cell_type": "markdown",
      "metadata": {
        "id": "yA3CXKQ5VuLp"
      },
      "source": [
        "<ul style=\"text-align: right; direction: rtl; float: right; clear: both;\">\n",
        "    <li>הילודה מפוזרת באופן שווה לאורך השנה (<a href=\"https://en.wikipedia.org/wiki/Birthday#Frequency\">היא לא</a>, אבל נדמיין שכן).</li>\n",
        "    <li>כשאנחנו אומרים \"תאריך\" אנחנו מתכוונים לצירוף של החודש והיום, ללא התייחסות לשנה.<br>\n",
        "        מי שנולד ב־1 במאי 1992 הוא בעל תאריך יום הולדת זהה למי שנולד ב־1 במאי 1995.</li>\n",
        "</ul>"
      ]
    },
    {
      "cell_type": "markdown",
      "metadata": {
        "id": "xtR4RagnVuLp"
      },
      "source": [
        "<p style=\"text-align: right; direction: rtl; float: right; clear: both;\">\n",
        "    הפתרון של ה\"פרדוקס\" מפתיע את רוב האנשים ששומעים עליו לראשונה.\n",
        "</p>"
      ]
    },
    {
      "cell_type": "markdown",
      "metadata": {
        "id": "-7jWXx1XVuLp"
      },
      "source": [
        "<p style=\"text-align: right; direction: rtl; float: right; clear: both;\">\n",
        "    כתבו תוכנה שמגרילה תאריכי יום הולדת עבור 10,000 כיתות, שבכל אחת מהן לומדים 23 תלמידים.<br>\n",
        "    מהו אחוז הכיתות שבהן ציינו 2 ימי הולדת באותו תאריך? השוו עם הפתרון המוצג בוויקיפדיה.<br>\n",
        "    דאגו שהפתרון שלכם יתחשב בכך שקיימות שנים מעוברות.<br>\n",
        "</p>"
      ]
    },
    {
      "cell_type": "code",
      "source": [
        "import random\n",
        "from datetime import datetime, timedelta\n",
        "\n",
        "dups = 0\n",
        "min_year = 1900\n",
        "max_year = datetime.now().year\n",
        "\n",
        "start = datetime(min_year, 1, 1, 00, 00, 00)\n",
        "years = max_year - min_year+1\n",
        "end = start + timedelta(days=365 * years)\n",
        "\n",
        "x = start + (end - start) * random.random()\n",
        "\n",
        "for i in range(10000):\n",
        "  dates = set()\n",
        "  for i in range(23):\n",
        "    random_date = start + (end - start) * random.random()\n",
        "    dates.add((random_date.month, random_date.day))\n",
        "  if len(dates) < 23:\n",
        "    dups += 1\n",
        "\n",
        "print(dups * 100 / 10000)"
      ],
      "metadata": {
        "id": "Tx9NiG2jZ3DA",
        "outputId": "e1acfa48-d7d1-4315-d56e-64dcc56b6c96",
        "colab": {
          "base_uri": "https://localhost:8080/"
        }
      },
      "execution_count": 27,
      "outputs": [
        {
          "output_type": "stream",
          "name": "stdout",
          "text": [
            "50.52\n"
          ]
        }
      ]
    },
    {
      "cell_type": "markdown",
      "metadata": {
        "id": "EWD0kN7aVuLq"
      },
      "source": [
        "<p style=\"text-align: right; direction: rtl; float: right; clear: both;\">\n",
        "    השתמשו בתוכנה שכתבתם כדי לחשב את הסיכויים עבור כיתות שבהן תלמיד אחד, ועד כיתות ישראליות ממוצעות שבהן 366 תלמידים.\n",
        "</p>"
      ]
    }
  ],
  "metadata": {
    "kernelspec": {
      "display_name": "Python 3",
      "language": "python",
      "name": "python3"
    },
    "language_info": {
      "codemirror_mode": {
        "name": "ipython",
        "version": 3
      },
      "file_extension": ".py",
      "mimetype": "text/x-python",
      "name": "python",
      "nbconvert_exporter": "python",
      "pygments_lexer": "ipython3",
      "version": "3.7.6"
    },
    "colab": {
      "provenance": []
    }
  },
  "nbformat": 4,
  "nbformat_minor": 0
}