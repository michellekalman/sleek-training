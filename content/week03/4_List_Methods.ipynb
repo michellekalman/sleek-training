{
  "cells": [
    {
      "cell_type": "markdown",
      "metadata": {
        "id": "h9-KMRUYQTOu"
      },
      "source": [
        "<img src=\"https://github.com/PythonFreeCourse/Notebooks/blob/main/content/week03/images/logo.jpg?raw=1\" style=\"display: block; margin-left: auto; margin-right: auto;\" alt=\"לוגו של מיזם לימוד הפייתון. נחש מצויר בצבעי צהוב וכחול, הנע בין האותיות של שם הקורס: לומדים פייתון. הסלוגן המופיע מעל לשם הקורס הוא מיזם חינמי ללימוד תכנות בעברית.\">"
      ]
    },
    {
      "cell_type": "markdown",
      "metadata": {
        "id": "oJvwSQU2QTOw"
      },
      "source": [
        "# <span style=\"text-align: right; direction: rtl; float: right;\">פעולות על רשימות</span>"
      ]
    },
    {
      "cell_type": "markdown",
      "metadata": {
        "id": "AZaR9MxwQTOw"
      },
      "source": [
        "## <span style=\"text-align: right; direction: rtl; float: right; clear: both;\">הקדמה</span>"
      ]
    },
    {
      "cell_type": "markdown",
      "metadata": {
        "id": "LiDRWgIHQTOx"
      },
      "source": [
        "<p style=\"text-align: right; direction: rtl; float: right; clear: both;\">\n",
        "    עד כה למדנו שישנם שני אופרטורים חשבוניים שעובדים על רשימות: חיבור וכפל.<br>\n",
        "    חיבור משרשר רשימה אחת לאחרת, וכפל משרשר רשימה לעצמה כמה פעמים.<br>\n",
        "    ניזכר בדוגמאות:\n",
        "</p>"
      ]
    },
    {
      "cell_type": "code",
      "execution_count": 1,
      "metadata": {
        "id": "WWAWxxZ4QTOx"
      },
      "outputs": [],
      "source": [
        "numbers = [1, 2]"
      ]
    },
    {
      "cell_type": "code",
      "execution_count": 2,
      "metadata": {
        "id": "5rVHuw2GQTOy",
        "outputId": "f2397121-2fa5-49c4-8d98-3ad0a4053c7e",
        "colab": {
          "base_uri": "https://localhost:8080/"
        }
      },
      "outputs": [
        {
          "output_type": "stream",
          "name": "stdout",
          "text": [
            "[1, 2, 3, 4]\n"
          ]
        }
      ],
      "source": [
        "numbers = numbers + [3, 4]\n",
        "print(numbers)"
      ]
    },
    {
      "cell_type": "code",
      "execution_count": 3,
      "metadata": {
        "id": "AdHsDX8MQTOz",
        "outputId": "83c3ca4d-4b0b-49bc-94ce-052ba9b4c239",
        "colab": {
          "base_uri": "https://localhost:8080/"
        }
      },
      "outputs": [
        {
          "output_type": "stream",
          "name": "stdout",
          "text": [
            "[1, 2, 3, 4, 1, 2, 3, 4]\n"
          ]
        }
      ],
      "source": [
        "numbers = numbers * 2\n",
        "print(numbers)"
      ]
    },
    {
      "cell_type": "markdown",
      "metadata": {
        "id": "cmQd73MEQTOz"
      },
      "source": [
        "<p style=\"text-align: right; direction: rtl; float: right; clear: both;\">\n",
        "    למדנו גם שאפשר להשוות בין רשימות בעזרת אופרטורי השוואה, שעליהם למדנו בשיעור על ביטויים בוליאניים.\n",
        "</p>"
      ]
    },
    {
      "cell_type": "code",
      "execution_count": 4,
      "metadata": {
        "id": "wWUuC0grQTOz",
        "outputId": "0ab6337c-dce8-43f8-88b9-62ed09e5cdcd",
        "colab": {
          "base_uri": "https://localhost:8080/"
        }
      },
      "outputs": [
        {
          "output_type": "execute_result",
          "data": {
            "text/plain": [
              "False"
            ]
          },
          "metadata": {},
          "execution_count": 4
        }
      ],
      "source": [
        "numbers == [1, 2, 3, 4]"
      ]
    },
    {
      "cell_type": "code",
      "execution_count": 5,
      "metadata": {
        "id": "yabvBIhGQTO0",
        "outputId": "f7b9f572-3cc6-4893-dd5b-d40ada142923",
        "colab": {
          "base_uri": "https://localhost:8080/"
        }
      },
      "outputs": [
        {
          "output_type": "execute_result",
          "data": {
            "text/plain": [
              "True"
            ]
          },
          "metadata": {},
          "execution_count": 5
        }
      ],
      "source": [
        "1 in numbers"
      ]
    },
    {
      "cell_type": "code",
      "execution_count": 6,
      "metadata": {
        "id": "bD9ezSwnQTO0",
        "outputId": "69456937-fd58-47de-d1f1-68fe0bb38415",
        "colab": {
          "base_uri": "https://localhost:8080/"
        }
      },
      "outputs": [
        {
          "output_type": "execute_result",
          "data": {
            "text/plain": [
              "False"
            ]
          },
          "metadata": {},
          "execution_count": 6
        }
      ],
      "source": [
        "[1, 2] in numbers"
      ]
    },
    {
      "cell_type": "markdown",
      "metadata": {
        "id": "_Iwvdl6dQTO0"
      },
      "source": [
        "<p style=\"text-align: right; direction: rtl; float: right; clear: both;\">\n",
        "    השבוע כבר הספקנו ללמוד על חיתוכים (Slicing), כך שיש לנו כבר ידע רב באשר לשימוש ברשימות.\n",
        "</p>"
      ]
    },
    {
      "cell_type": "code",
      "execution_count": 7,
      "metadata": {
        "id": "A9dAI1BrQTO0",
        "outputId": "fb23413b-21a3-49b5-a3fe-efd708293203",
        "colab": {
          "base_uri": "https://localhost:8080/"
        }
      },
      "outputs": [
        {
          "output_type": "stream",
          "name": "stdout",
          "text": [
            "[1, 2, 3, 4, 1, 2, 3, 4]\n",
            "Flip the order: [4, 3, 2, 1, 4, 3, 2, 1]\n",
            "Only first 4 items: [1, 2, 3, 4]\n",
            "Only first 4 items, in reversed order:: [4, 3, 2, 1]\n"
          ]
        }
      ],
      "source": [
        "print(numbers)\n",
        "print(\"Flip the order: \" + str(numbers[::-1]))\n",
        "print(\"Only first 4 items: \" + str(numbers[:4]))\n",
        "print(\"Only first 4 items, in reversed order:: \" + str(numbers[3::-1]))"
      ]
    },
    {
      "cell_type": "markdown",
      "metadata": {
        "id": "xWMCr_H6QTO1"
      },
      "source": [
        "<p style=\"text-align: right; direction: rtl; float: right; clear: both;\">\n",
        "    למרות כל הידע המועיל שצברנו עד כה, טרם נגענו בפעולות השייכות לנתונים מסוג רשימה.<br>\n",
        "    הפעולות האלו יתווספו לארגז הכלים שלנו, יקלו על כתיבת הקוד ויעשו אותו קריא יותר.\n",
        "</p>"
      ]
    },
    {
      "cell_type": "markdown",
      "metadata": {
        "id": "1eJYOlZZQTO1"
      },
      "source": [
        "## <span style=\"text-align: right; direction: rtl; float: right; clear: both;\">פעולות על רשימה</span>"
      ]
    },
    {
      "cell_type": "markdown",
      "metadata": {
        "id": "jdqESb_uQTO1"
      },
      "source": [
        "<p style=\"text-align: right; direction: rtl; float: right; clear: both;\">\n",
        "נגדיר רשימה שתשמש אותנו לדוגמאות:\n",
        "</p>"
      ]
    },
    {
      "cell_type": "code",
      "execution_count": 8,
      "metadata": {
        "id": "w9DFVw6CQTO1"
      },
      "outputs": [],
      "source": [
        "animals = ['pig', 'shark', 'lion']"
      ]
    },
    {
      "cell_type": "markdown",
      "metadata": {
        "id": "82TnEaakQTO1"
      },
      "source": [
        "<p style=\"text-align: right; direction: rtl; float: right; clear: both;\">\n",
        "במהלך הרצת הדוגמאות נשים לב ש<mark>פעולות על הרשימה משפיעות ישירות על הרשימה עצמה</mark>.<br>\n",
        "זה אומר שלא נצטרך להשתמש בהשמה כדי לערוך את הרשימה שעליה אנחנו עובדים.\n",
        "</p>"
      ]
    },
    {
      "cell_type": "markdown",
      "metadata": {
        "id": "naLNm3--QTO1"
      },
      "source": [
        "### <span style=\"text-align: right; direction: rtl; float: right; clear: both;\">הוספת איבר</span>"
      ]
    },
    {
      "cell_type": "markdown",
      "metadata": {
        "id": "2jXz1BMbQTO1"
      },
      "source": [
        "<p style=\"text-align: right; direction: rtl; float: right; clear: both;\">\n",
        "רשימה היא סוג נתונים נוח לשימוש, בין היתר כיוון שניתן להוסיף לה כמה איברים שנרצה.<br>\n",
        "נוכל להוסיף איבר לסוף הרשימה באמצעות הפעולה <code>append</code>:\n",
        "</p>"
      ]
    },
    {
      "cell_type": "code",
      "execution_count": 9,
      "metadata": {
        "id": "2h3TvFk7QTO1",
        "outputId": "c955f0cf-454c-4c37-8f5a-4caba46026c1",
        "colab": {
          "base_uri": "https://localhost:8080/"
        }
      },
      "outputs": [
        {
          "output_type": "stream",
          "name": "stdout",
          "text": [
            "['pig', 'shark', 'lion', 'duck']\n"
          ]
        }
      ],
      "source": [
        "animals.append('duck')\n",
        "print(animals)"
      ]
    },
    {
      "cell_type": "markdown",
      "metadata": {
        "id": "oUZg4la5QTO2"
      },
      "source": [
        "<p style=\"text-align: right; direction: rtl; float: right; clear: both;\">\n",
        "הפעולה הזו תשיג תוצאה דומה לקוד שכתבנו עד היום בדרך טיפה פחות אלגנטית:\n",
        "</p>"
      ]
    },
    {
      "cell_type": "code",
      "execution_count": 10,
      "metadata": {
        "id": "MkCFRRItQTO2",
        "outputId": "5937ea85-eca6-46d0-8d64-bea21d095c92",
        "colab": {
          "base_uri": "https://localhost:8080/"
        }
      },
      "outputs": [
        {
          "output_type": "stream",
          "name": "stdout",
          "text": [
            "['pig', 'shark', 'lion', 'duck', 'duck']\n"
          ]
        }
      ],
      "source": [
        "animals = animals + ['duck']\n",
        "print(animals)"
      ]
    },
    {
      "cell_type": "markdown",
      "metadata": {
        "id": "lq_HI_R-QTO2"
      },
      "source": [
        "<p style=\"text-align: right; direction: rtl; float: right; clear: both;\">\n",
        "שימו לב שבניגוד לשורה שמופיעה למעלה, <code>append</code> מאפשרת להוסיף בכל פעם איבר אחד בלבד.<br>\n",
        "ניסיון להעביר לפעולה <code>append</code> רשימה, נניח, יוסיף את הרשימה המשנית כולה כאיבר אחד בסוף הרשימה הראשית:\n",
        "</p>"
      ]
    },
    {
      "cell_type": "code",
      "execution_count": 11,
      "metadata": {
        "id": "n9DQ6xfkQTO2",
        "outputId": "c0dd3248-9332-412c-ef02-65ac8089c66e",
        "colab": {
          "base_uri": "https://localhost:8080/"
        }
      },
      "outputs": [
        {
          "output_type": "stream",
          "name": "stdout",
          "text": [
            "['pig', 'shark', 'lion', 'duck', 'duck', ['duck', 'zebra']]\n"
          ]
        }
      ],
      "source": [
        "animals.append(['duck', 'zebra'])\n",
        "print(animals)"
      ]
    },
    {
      "cell_type": "markdown",
      "metadata": {
        "id": "7DxXHBlZQTO2"
      },
      "source": [
        "<div class=\"align-center\" style=\"display: flex; text-align: right; direction: rtl; clear: both;\">\n",
        "    <div style=\"display: flex; width: 10%; float: right; clear: both;\">\n",
        "        <img src=\"https://github.com/PythonFreeCourse/Notebooks/blob/main/content/week03/images/exercise.svg?raw=1\" style=\"height: 50px !important;\" alt=\"תרגול\">\n",
        "    </div>\n",
        "    <div style=\"width: 90%\">\n",
        "        <p style=\"text-align: right; direction: rtl; float: right; clear: both;\">\n",
        "            כתבו פונקציה שמקבלת מספר, ומחזירה רשימה של כל המספרים החיוביים הזוגיים עד אותו מספר.\n",
        "        </p>\n",
        "    </div>\n",
        "</div>"
      ]
    },
    {
      "cell_type": "markdown",
      "metadata": {
        "id": "4cfR59MJQTO2"
      },
      "source": [
        "### <span style=\"text-align: right; direction: rtl; float: right; clear: both;\">הסרת איבר</span>"
      ]
    },
    {
      "cell_type": "markdown",
      "metadata": {
        "id": "IXVQPkfRQTO2"
      },
      "source": [
        "<p style=\"text-align: right; direction: rtl; float: right; clear: both;\">\n",
        "נוכל להסיר איבר <em>מסוף הרשימה</em> באמצעות קריאה לפעולה <code>pop</code>:\n",
        "</p>"
      ]
    },
    {
      "cell_type": "code",
      "execution_count": 12,
      "metadata": {
        "id": "dvWruuBgQTO2",
        "outputId": "1e15a249-b1a2-4dab-8e66-3b8125c5f03d",
        "colab": {
          "base_uri": "https://localhost:8080/"
        }
      },
      "outputs": [
        {
          "output_type": "stream",
          "name": "stdout",
          "text": [
            "['pig', 'shark', 'lion', 'duck', 'duck']\n"
          ]
        }
      ],
      "source": [
        "animals.pop()\n",
        "print(animals)"
      ]
    },
    {
      "cell_type": "markdown",
      "metadata": {
        "id": "OS9Ox8UKQTO2"
      },
      "source": [
        "<p style=\"text-align: right; direction: rtl; float: right; clear: both;\">\n",
        "הפעולה הזו תשיג תוצאה דומה לקוד שכתבנו עד היום בצורה המסורבלת הבאה:\n",
        "</p>"
      ]
    },
    {
      "cell_type": "code",
      "execution_count": 13,
      "metadata": {
        "id": "MYTynj4IQTO2",
        "outputId": "2a10a86d-dd2a-40b6-f948-adc3067cb186",
        "colab": {
          "base_uri": "https://localhost:8080/"
        }
      },
      "outputs": [
        {
          "output_type": "stream",
          "name": "stdout",
          "text": [
            "['pig', 'shark', 'lion', 'duck']\n"
          ]
        }
      ],
      "source": [
        "animals = animals[:-1]\n",
        "print(animals)"
      ]
    },
    {
      "cell_type": "markdown",
      "metadata": {
        "id": "z4Rw96_iQTO3"
      },
      "source": [
        "<p style=\"text-align: right; direction: rtl; float: right; clear: both;\">\n",
        "הפעולה <code>pop</code> מחזירה את הערך שהוציאה, כך שניתן לשמור אותו בצד:\n",
        "</p>"
      ]
    },
    {
      "cell_type": "code",
      "execution_count": 14,
      "metadata": {
        "id": "eG4eUKokQTO3",
        "outputId": "53b43e97-c854-4173-dc17-fa9ee99303ba",
        "colab": {
          "base_uri": "https://localhost:8080/"
        }
      },
      "outputs": [
        {
          "output_type": "stream",
          "name": "stdout",
          "text": [
            "duck\n",
            "['pig', 'shark', 'lion']\n"
          ]
        }
      ],
      "source": [
        "last_animal = animals.pop()\n",
        "print(last_animal)\n",
        "print(animals)"
      ]
    },
    {
      "cell_type": "markdown",
      "metadata": {
        "id": "UfLUrjw2QTO4"
      },
      "source": [
        "<p style=\"text-align: right; direction: rtl; float: right; clear: both;\">\n",
        "הפעולה גם מאפשרת לנו לבחור את המקום שממנו אנחנו מעוניינים להוציא את הערך.<br>\n",
        "נעשה זאת בעזרת העברת ארגומנט עם מיקום הערך שאנחנו רוצים להוציא מהרשימה:\n",
        "</p>"
      ]
    },
    {
      "cell_type": "code",
      "execution_count": 15,
      "metadata": {
        "id": "GJXoIyFAQTO4",
        "outputId": "4b20b8ab-7b64-494e-bba9-de8749c13473",
        "colab": {
          "base_uri": "https://localhost:8080/"
        }
      },
      "outputs": [
        {
          "output_type": "stream",
          "name": "stdout",
          "text": [
            "pig\n",
            "['shark', 'lion']\n"
          ]
        }
      ],
      "source": [
        "first_animal = animals.pop(0)\n",
        "print(first_animal)\n",
        "print(animals)"
      ]
    },
    {
      "cell_type": "markdown",
      "metadata": {
        "id": "0mX795yOQTO4"
      },
      "source": [
        "<p style=\"text-align: right; direction: rtl; float: right; clear: both;\">\n",
        "כדי להסיר יותר מאיבר אחד, ייתכן שעדיין תעדיפו להשתמש בחיתוך רשימות.\n",
        "</p>"
      ]
    },
    {
      "cell_type": "markdown",
      "metadata": {
        "id": "coADrf1WQTO5"
      },
      "source": [
        "<div class=\"align-center\" style=\"display: flex; text-align: right; direction: rtl; clear: both;\">\n",
        "    <div style=\"display: flex; width: 10%; float: right; clear: both;\">\n",
        "        <img src=\"https://github.com/PythonFreeCourse/Notebooks/blob/main/content/week03/images/exercise.svg?raw=1\" style=\"height: 50px !important;\" alt=\"תרגול\">\n",
        "    </div>\n",
        "    <div style=\"width: 90%\">\n",
        "        <p style=\"text-align: right; direction: rtl; float: right; clear: both;\">\n",
        "            כתבו פונקציה שמקבלת רשימה, ומחזירה רשימה בסדר איברים הפוך.<br>\n",
        "            השתמשו בפעולה <code>pop</code>.<br>\n",
        "            לדוגמה: אם תועבר לפונקציה הרשימה <code dir=\"ltr\" style=\"direction: ltr\">[3, 2, 1]</code>, הפונקציה תחזיר <code dir=\"ltr\" style=\"direction: ltr\">[1, 2, 3]</code>.\n",
        "        </p>\n",
        "    </div>\n",
        "</div>"
      ]
    },
    {
      "cell_type": "code",
      "source": [
        "def f(l):\n",
        "  new_l = []\n",
        "  for _ in range(len(l)):\n",
        "    new_l.append(l.pop())\n",
        "  return new_l"
      ],
      "metadata": {
        "id": "v6Xgb-Y-Q1LM"
      },
      "execution_count": 21,
      "outputs": []
    },
    {
      "cell_type": "code",
      "source": [
        "f([1, 2, 3, 5])"
      ],
      "metadata": {
        "id": "MAsbKlNTQ_nS",
        "outputId": "7505957f-3524-416b-85fb-79bf9961f588",
        "colab": {
          "base_uri": "https://localhost:8080/"
        }
      },
      "execution_count": 22,
      "outputs": [
        {
          "output_type": "execute_result",
          "data": {
            "text/plain": [
              "[5, 3, 2, 1]"
            ]
          },
          "metadata": {},
          "execution_count": 22
        }
      ]
    },
    {
      "cell_type": "markdown",
      "metadata": {
        "id": "SdFt0LDWQTO5"
      },
      "source": [
        "### <span style=\"text-align: right; direction: rtl; float: right; clear: both;\">הוספה של כמה איברים</span>"
      ]
    },
    {
      "cell_type": "markdown",
      "metadata": {
        "id": "RxY9jcEVQTO5"
      },
      "source": [
        "<p style=\"text-align: right; direction: rtl; float: right; clear: both;\">\n",
        "נוכל להוסיף יותר מאיבר אחד בשימוש יחיד בפעולה <code>extend</code>:\n",
        "</p>"
      ]
    },
    {
      "cell_type": "code",
      "execution_count": 23,
      "metadata": {
        "id": "sfCV8IMSQTO7",
        "outputId": "9b31cd1d-e83f-4b07-bd76-a4ff7681d110",
        "colab": {
          "base_uri": "https://localhost:8080/"
        }
      },
      "outputs": [
        {
          "output_type": "stream",
          "name": "stdout",
          "text": [
            "['shark', 'lion', 'duck', 'pig', 'zebra']\n"
          ]
        }
      ],
      "source": [
        "animals_to_add = ['duck', 'pig', 'zebra']\n",
        "animals.extend(animals_to_add)\n",
        "print(animals)"
      ]
    },
    {
      "cell_type": "markdown",
      "metadata": {
        "id": "NkJsEBA7QTO7"
      },
      "source": [
        "<p style=\"text-align: right; direction: rtl; float: right; clear: both;\">\n",
        "במבט ראשון, הפעולה תשיג תוצאה דומה לשרשור רשימות:\n",
        "</p>"
      ]
    },
    {
      "cell_type": "code",
      "execution_count": 24,
      "metadata": {
        "id": "IVHODtoHQTO7",
        "outputId": "aba074b7-a7b8-4223-c3f3-673a0a560ed4",
        "colab": {
          "base_uri": "https://localhost:8080/"
        }
      },
      "outputs": [
        {
          "output_type": "stream",
          "name": "stdout",
          "text": [
            "['shark', 'lion', 'duck', 'pig', 'zebra', 'duck', 'pig', 'zebra']\n"
          ]
        }
      ],
      "source": [
        "animals_to_add = ['duck', 'pig', 'zebra']\n",
        "animals = animals + animals_to_add\n",
        "print(animals)"
      ]
    },
    {
      "cell_type": "markdown",
      "metadata": {
        "id": "TDOFLp1gQTO8"
      },
      "source": [
        "<p style=\"text-align: right; direction: rtl; float: right; clear: both;\">\n",
        "אבל אחד היתרונות המובהקים של <code>extend</code> הוא שניתן להעביר לה כארגומנט כל iterable שהוא.<br>\n",
        "הפעולה <code>extend</code> תפרק את ה־iterable ותוסיף כל איבר בנפרד לרשימה המקורית:\n",
        "</p>"
      ]
    },
    {
      "cell_type": "code",
      "execution_count": 25,
      "metadata": {
        "id": "P4tf4JmNQTO8",
        "outputId": "0381eed9-105d-4e89-dbd8-832795bce358",
        "colab": {
          "base_uri": "https://localhost:8080/"
        }
      },
      "outputs": [
        {
          "output_type": "stream",
          "name": "stdout",
          "text": [
            "['1', '2', '3', '4', '5', '6', '7', '8', '9', '10', '11']\n"
          ]
        }
      ],
      "source": [
        "string_numbers = ['1', '2', '3', '4', '5']\n",
        "string_numbers.extend('6789')  # string as argument\n",
        "string_numbers.extend(['10', '11'])  # list as argument\n",
        "print(string_numbers)"
      ]
    },
    {
      "cell_type": "markdown",
      "metadata": {
        "id": "pqYEc4XIQTO8"
      },
      "source": [
        "<div class=\"align-center\" style=\"display: flex; text-align: right; direction: rtl; clear: both;\">\n",
        "    <div style=\"display: flex; width: 10%; float: right; clear: both;\">\n",
        "        <img src=\"https://github.com/PythonFreeCourse/Notebooks/blob/main/content/week03/images/exercise.svg?raw=1\" style=\"height: 50px !important;\" alt=\"תרגול\">\n",
        "    </div>\n",
        "    <div style=\"width: 90%\">\n",
        "        <p style=\"text-align: right; direction: rtl; float: right; clear: both;\">\n",
        "            כתבו פונקציה שמקבלת רשימה, ומחזירה רשימה המכילה את הרשימה המקורית, ומייד אחריה את אותה רשימה בסדר הפוך.<br>\n",
        "            לדוגמה: עבור הרשימה <code dir=\"ltr\" style=\"direction: ltr\">[1, 2, 3]</code> תוחזר הרשימה: <code dir=\"ltr\" style=\"direction: ltr\">[1, 2, 3, 3, 2, 1]</code>\n",
        "        </p>\n",
        "    </div>\n",
        "</div>"
      ]
    },
    {
      "cell_type": "code",
      "source": [
        "def f2(l):\n",
        "  new_l = []\n",
        "  new_l.extend(l)\n",
        "  new_l.extend(f(l))\n",
        "  return new_l"
      ],
      "metadata": {
        "id": "ulJDiGJARsIC"
      },
      "execution_count": 28,
      "outputs": []
    },
    {
      "cell_type": "code",
      "source": [
        "f2([1, 2, 3])"
      ],
      "metadata": {
        "id": "1Z9oNeIHR61H",
        "outputId": "2acc6cfa-1de3-429a-ec64-eb715353bc51",
        "colab": {
          "base_uri": "https://localhost:8080/"
        }
      },
      "execution_count": 29,
      "outputs": [
        {
          "output_type": "execute_result",
          "data": {
            "text/plain": [
              "[1, 2, 3, 3, 2, 1]"
            ]
          },
          "metadata": {},
          "execution_count": 29
        }
      ]
    },
    {
      "cell_type": "markdown",
      "metadata": {
        "id": "ptHiQLubQTO8"
      },
      "source": [
        "### <span style=\"text-align: right; direction: rtl; float: right; clear: both;\">ספירת איברים</span>"
      ]
    },
    {
      "cell_type": "markdown",
      "metadata": {
        "id": "kerH-xhLQTO8"
      },
      "source": [
        "<p style=\"text-align: right; direction: rtl; float: right; clear: both;\">\n",
        "כאן לא תמצאו הפתעות מיוחדות. הפעולה <code>count</code> מחזירה את מספר האיברים ברשימה, שזהים לאיבר שהעברתם לה כארגומנט.<br>\n",
        "נשמע לכם מוכר? נכון! למחרוזות יש פעולה עם שם זהה שעושה בדיוק אותו דבר.\n",
        "</p>"
      ]
    },
    {
      "cell_type": "code",
      "execution_count": 30,
      "metadata": {
        "id": "FpFQtjJjQTO8",
        "outputId": "c045a915-8ca8-4835-c00b-4bea1af3e615",
        "colab": {
          "base_uri": "https://localhost:8080/"
        }
      },
      "outputs": [
        {
          "output_type": "stream",
          "name": "stdout",
          "text": [
            "['shark', 'lion', 'duck', 'pig', 'zebra', 'duck', 'pig', 'zebra']\n",
            "I've found 2 zebras in your zoo!\n"
          ]
        }
      ],
      "source": [
        "print(animals)\n",
        "zebra_counter = animals.count('zebra')\n",
        "print(f\"I've found {zebra_counter} zebras in your zoo!\")"
      ]
    },
    {
      "cell_type": "markdown",
      "metadata": {
        "id": "6_q-ZZQgQTO8"
      },
      "source": [
        "### <span style=\"text-align: right; direction: rtl; float: right; clear: both;\">מציאת איבר</span>"
      ]
    },
    {
      "cell_type": "markdown",
      "metadata": {
        "id": "8mvUwh-IQTO8"
      },
      "source": [
        "<p style=\"text-align: right; direction: rtl; float: right; clear: both;\">\n",
        "גם הפעולה הזו אמורה להישמע לכם מוכרת.<br>\n",
        "הפעולה <code>index</code> מוצאת את המופע הראשון של האיבר שהעברתם לה כארגומנט.<br>\n",
        "כן, גם הפעם למחרוזות יש פעולה באותו שם, שעושה בדיוק אותו דבר.\n",
        "</p>"
      ]
    },
    {
      "cell_type": "code",
      "execution_count": 31,
      "metadata": {
        "id": "5HUsTq7FQTO8",
        "outputId": "9850bcda-78cb-4845-f441-d70d82ff3d05",
        "colab": {
          "base_uri": "https://localhost:8080/"
        }
      },
      "outputs": [
        {
          "output_type": "stream",
          "name": "stdout",
          "text": [
            "['shark', 'lion', 'duck', 'pig', 'zebra', 'duck', 'pig', 'zebra']\n",
            "The first zebra in your zoo hides in park number 4\n"
          ]
        }
      ],
      "source": [
        "print(animals)\n",
        "zebra_finder = animals.index('zebra')\n",
        "print(f\"The first zebra in your zoo hides in park number {zebra_finder}\")"
      ]
    },
    {
      "cell_type": "markdown",
      "metadata": {
        "id": "8k1rkPRNQTO8"
      },
      "source": [
        "<div class=\"align-center\" style=\"display: flex; text-align: right; direction: rtl;\">\n",
        "    <div style=\"display: flex; width: 10%; float: right; \">\n",
        "        <img src=\"https://github.com/PythonFreeCourse/Notebooks/blob/main/content/week03/images/warning.png?raw=1\" style=\"height: 50px !important;\" alt=\"אזהרה!\">\n",
        "    </div>\n",
        "    <div style=\"width: 90%\">\n",
        "        <p style=\"text-align: right; direction: rtl;\">\n",
        "            כמו בפעולת <code>index</code> על מחרוזות, גם כאן הפעולה תזרוק שגיאה אם הערך לא נמצא.\n",
        "        </p>\n",
        "    </div>\n",
        "</div>"
      ]
    },
    {
      "cell_type": "markdown",
      "metadata": {
        "id": "HTMzpvVPQTO8"
      },
      "source": [
        "<div class=\"align-center\" style=\"display: flex; text-align: right; direction: rtl; clear: both;\">\n",
        "    <div style=\"display: flex; width: 10%; float: right; clear: both;\">\n",
        "        <img src=\"https://github.com/PythonFreeCourse/Notebooks/blob/main/content/week03/images/exercise.svg?raw=1\" style=\"height: 50px !important;\" alt=\"תרגול\">\n",
        "    </div>\n",
        "    <div style=\"width: 90%\">\n",
        "        <p style=\"text-align: right; direction: rtl; float: right; clear: both;\">\n",
        "            כתבו פונקציה שמקבלת רשימה, ומחזירה את מיקום המופע <em>האחרון</em> של האיבר הראשון ברשימה.<br>\n",
        "            לדוגמה, עבור הרשימה <code dir=\"ltr\" style=\"direction: ltr\">[1, 2, 3, 5, 1, 2]</code> החזירו 4, כיוון ש־1 מופיע פעם אחרונה במקום 4 ברשימה.\n",
        "        </p>\n",
        "    </div>\n",
        "</div>"
      ]
    },
    {
      "cell_type": "markdown",
      "metadata": {
        "id": "8bdGGjdLQTO9"
      },
      "source": [
        "### <span style=\"text-align: right; direction: rtl; float: right; clear: both;\">מחיקת איבר (שוב?)</span>"
      ]
    },
    {
      "cell_type": "markdown",
      "metadata": {
        "id": "2bjLpwb9QTO9"
      },
      "source": [
        "<p style=\"text-align: right; direction: rtl; float: right; clear: both;\">\n",
        "הפעם נשתמש בפעולה <code>remove</code>, שבניגוד לפעולה <code>pop</code> מוחקת איבר לפי הערך שלו ולא לפי המיקום שלו.<br>\n",
        "נשים לב שהפעולה תמחק את האיבר הראשון השווה לערך שהועבר כארגומנט, ולא את כל המופעים של אותו ערך.\n",
        "</p>"
      ]
    },
    {
      "cell_type": "code",
      "execution_count": 32,
      "metadata": {
        "id": "0vpCjXNOQTO9",
        "outputId": "ffbcee33-f141-489c-d948-80490355b52e",
        "colab": {
          "base_uri": "https://localhost:8080/"
        }
      },
      "outputs": [
        {
          "output_type": "stream",
          "name": "stdout",
          "text": [
            "Animals: ['shark', 'lion', 'duck', 'pig', 'zebra', 'duck', 'pig', 'zebra']\n",
            "Kosher Zoo: ['shark', 'lion', 'duck', 'zebra', 'duck', 'zebra']\n"
          ]
        }
      ],
      "source": [
        "print(f\"Animals: {animals}\")\n",
        "while 'pig' in animals:\n",
        "    animals.remove('pig')\n",
        "print(f\"Kosher Zoo: {animals}\")"
      ]
    },
    {
      "cell_type": "markdown",
      "metadata": {
        "id": "JPk4hIu0QTO9"
      },
      "source": [
        "<div class=\"align-center\" style=\"display: flex; text-align: right; direction: rtl; clear: both;\">\n",
        "    <div style=\"display: flex; width: 10%; float: right; clear: both;\">\n",
        "        <img src=\"https://github.com/PythonFreeCourse/Notebooks/blob/main/content/week03/images/exercise.svg?raw=1\" style=\"height: 50px !important;\" alt=\"תרגול\">\n",
        "    </div>\n",
        "    <div style=\"width: 90%\">\n",
        "        <p style=\"text-align: right; direction: rtl; float: right; clear: both;\">\n",
        "            קבלו פונקציה שמקבלת רשימה של חיות, ומחזירה רשימה שבה אין מופעים של החיות camel, rabbit ו־pig.<br>\n",
        "            לדוגמה, עבור הרשימה: <code dir=\"ltr\" style=\"direction: ltr\">['camel', 'camel', 'dove', 'pig', 'camel']</code> תוחזר הרשימה: <code dir=\"ltr\" style=\"direction: ltr\">['dove']</code>\n",
        "        </p>\n",
        "    </div>\n",
        "</div>"
      ]
    },
    {
      "cell_type": "markdown",
      "metadata": {
        "id": "cKWZWRc6QTO9"
      },
      "source": [
        "### <span style=\"text-align: right; direction: rtl; float: right; clear: both;\">סידור רשימה</span>"
      ]
    },
    {
      "cell_type": "markdown",
      "metadata": {
        "id": "-_sObis1QTO9"
      },
      "source": [
        "<p style=\"text-align: right; direction: rtl; float: right; clear: both;\">\n",
        "אחת הפעולות הנוחות ביותר שאפשר לבצע על רשימה היא <code>sort</code>, שמסדרת לנו את האיברים ברשימה.<br>\n",
        "אם האיברים הם מחרוזות, הרשימה תסודר בסדר לקסיקוגרפי (אלפביתי).<br>\n",
        "אם האיברים ברשימה הם מספרים (שלמים, עשרוניים או גם וגם), הרשימה תסודר מתמטית מהקטן לגדול.<br>\n",
        "אם הרשימה מורכבת מסוגים שונים של איברים שאין ביניהם הגדרת שוויון ברורה (כמו מספרים ומחרוזות), פעולת הסידור תיכשל ותזרוק שגיאה.\n",
        "</p>"
      ]
    },
    {
      "cell_type": "code",
      "execution_count": 33,
      "metadata": {
        "id": "ji5aUO2gQTO9",
        "outputId": "9692224d-9dcb-46b3-d3f9-0f2d8d1e393f",
        "colab": {
          "base_uri": "https://localhost:8080/"
        }
      },
      "outputs": [
        {
          "output_type": "stream",
          "name": "stdout",
          "text": [
            "['shark', 'lion', 'duck', 'zebra', 'duck', 'zebra']\n",
            "['duck', 'duck', 'lion', 'shark', 'zebra', 'zebra']\n"
          ]
        }
      ],
      "source": [
        "print(animals)\n",
        "animals.sort()\n",
        "print(animals)"
      ]
    },
    {
      "cell_type": "code",
      "execution_count": 34,
      "metadata": {
        "id": "wz8n0tacQTO9",
        "outputId": "2c89f331-9eaf-48d2-fee9-0ab06c426a39",
        "colab": {
          "base_uri": "https://localhost:8080/",
          "height": 158
        }
      },
      "outputs": [
        {
          "output_type": "error",
          "ename": "TypeError",
          "evalue": "'<' not supported between instances of 'str' and 'int'",
          "traceback": [
            "\u001b[0;31m---------------------------------------------------------------------------\u001b[0m",
            "\u001b[0;31mTypeError\u001b[0m                                 Traceback (most recent call last)",
            "\u001b[0;32m<ipython-input-34-bc1979a21c53>\u001b[0m in \u001b[0;36m<cell line: 2>\u001b[0;34m()\u001b[0m\n\u001b[1;32m      1\u001b[0m \u001b[0mstrange_list\u001b[0m \u001b[0;34m=\u001b[0m \u001b[0;34m[\u001b[0m\u001b[0;36m1\u001b[0m\u001b[0;34m,\u001b[0m \u001b[0;36m2\u001b[0m\u001b[0;34m,\u001b[0m \u001b[0;36m3\u001b[0m\u001b[0;34m,\u001b[0m \u001b[0;34m'dag maluah'\u001b[0m\u001b[0;34m]\u001b[0m\u001b[0;34m\u001b[0m\u001b[0;34m\u001b[0m\u001b[0m\n\u001b[0;32m----> 2\u001b[0;31m \u001b[0mstrange_list\u001b[0m\u001b[0;34m.\u001b[0m\u001b[0msort\u001b[0m\u001b[0;34m(\u001b[0m\u001b[0;34m)\u001b[0m\u001b[0;34m\u001b[0m\u001b[0;34m\u001b[0m\u001b[0m\n\u001b[0m",
            "\u001b[0;31mTypeError\u001b[0m: '<' not supported between instances of 'str' and 'int'"
          ]
        }
      ],
      "source": [
        "strange_list = [1, 2, 3, 'dag maluah']\n",
        "strange_list.sort()"
      ]
    },
    {
      "cell_type": "markdown",
      "metadata": {
        "id": "s3BfOBqcQTO9"
      },
      "source": [
        "<div class=\"align-center\" style=\"display: flex; text-align: right; direction: rtl;\">\n",
        "    <div style=\"display: flex; width: 10%; float: right; \">\n",
        "        <img src=\"https://github.com/PythonFreeCourse/Notebooks/blob/main/content/week03/images/warning.png?raw=1\" style=\"height: 50px !important;\" alt=\"אזהרה!\">\n",
        "    </div>\n",
        "    <div style=\"width: 90%\">\n",
        "        <p style=\"text-align: right; direction: rtl;\">\n",
        "            טעות נפוצה היא השמת התוצאה של <code>sort</code> חזרה למשתנה.<br>\n",
        "            כיוון שהפעולה <code>sort</code> משנה את מיקום האיברים בתוך הרשימה ולא מחזירה ערך, השמה חזרה למשתנה תמחק את ערכו.\n",
        "        </p>\n",
        "    </div>\n",
        "</div>"
      ]
    },
    {
      "cell_type": "markdown",
      "metadata": {
        "id": "etC2NhcCQTO-"
      },
      "source": [
        "<div class=\"align-center\" style=\"display: flex; text-align: right; direction: rtl; clear: both;\">\n",
        "    <div style=\"display: flex; width: 10%; float: right; clear: both;\">\n",
        "        <img src=\"https://github.com/PythonFreeCourse/Notebooks/blob/main/content/week03/images/exercise.svg?raw=1\" style=\"height: 50px !important;\" alt=\"תרגול\">\n",
        "    </div>\n",
        "    <div style=\"width: 90%\">\n",
        "        <p style=\"text-align: right; direction: rtl; float: right; clear: both;\">\n",
        "        <strong>תרגול</strong>:\n",
        "            קבלו מהמשתמש 10 מספרים. מצאו את הערך השלישי הגדול ביותר.<br>\n",
        "            לדוגמה, עבור הקלט הבא: <code dir=\"ltr\" style=\"direction: ltr;\">5, 1, 6, 2, 3, 4, 8, 7, 10, 9</code>, החזירו 8.\n",
        "        </p>\n",
        "    </div>\n",
        "</div>"
      ]
    },
    {
      "cell_type": "markdown",
      "metadata": {
        "id": "vD-JtgseQTO-"
      },
      "source": [
        "### <span style=\"text-align: right; direction: rtl; float: right; clear: both;\">הוספת איבר במקום מסוים</span>"
      ]
    },
    {
      "cell_type": "markdown",
      "metadata": {
        "id": "tAoXco64QTO-"
      },
      "source": [
        "<div class=\"align-center\" style=\"display: flex; text-align: right; direction: rtl; clear: both;\">\n",
        "    <div style=\"display: flex; width: 10%; float: right; clear: both;\">\n",
        "        <img src=\"https://github.com/PythonFreeCourse/Notebooks/blob/main/content/week03/images/exercise.svg?raw=1\" style=\"height: 50px !important;\" alt=\"תרגול\">\n",
        "    </div>\n",
        "    <div style=\"width: 90%\">\n",
        "        <p style=\"text-align: right; direction: rtl; float: right; clear: both;\">\n",
        "        <strong>תרגול</strong>:\n",
        "            קראו בתיעוד של פייתון על הפעולה <code>insert</code> השייכת לערכים מסוג רשימה.<br>\n",
        "            הוסיפו דג מימין לכריש (shark) שברשימת <var>animals</var>.\n",
        "        </p>\n",
        "    </div>\n",
        "</div>"
      ]
    },
    {
      "cell_type": "code",
      "source": [
        "animals.insert(4, \"fish\")\n",
        "animals"
      ],
      "metadata": {
        "id": "ub6A4-LXY5du",
        "outputId": "59fff2c5-90ff-4394-90d5-78c45b64e56e",
        "colab": {
          "base_uri": "https://localhost:8080/"
        }
      },
      "execution_count": 38,
      "outputs": [
        {
          "output_type": "execute_result",
          "data": {
            "text/plain": [
              "['duck', 'duck', 'lion', 'shark', 'fish', 'fish', 'zebra', 'zebra']"
            ]
          },
          "metadata": {},
          "execution_count": 38
        }
      ]
    },
    {
      "cell_type": "markdown",
      "metadata": {
        "id": "m49J9QPrQTO-"
      },
      "source": [
        "## <span style=\"text-align: right; direction: rtl; float: right;\">תרגילים נוספים</span>"
      ]
    },
    {
      "cell_type": "markdown",
      "metadata": {
        "id": "SdWQYdF_QTO-"
      },
      "source": [
        "### <span style=\"text-align: right; direction: rtl; float: right; clear: both;\">חוטש</span>"
      ]
    },
    {
      "cell_type": "markdown",
      "metadata": {
        "id": "XcVWT1iXQTO-"
      },
      "source": [
        "<p style=\"text-align: right; direction: rtl; float: right; clear: both;\">\n",
        "    כתבו פונקציה שמקבלת רשימה של רשימות, ומחזירה רשימה שטוחה והפוכה של כל האיברים.<br>\n",
        "    לדוגמה: עבור הרשימה <code dir=\"ltr\" style=\"direction: ltr\">[[1, 2, 3], [4, 5, 6]]</code> החזירו <code dir=\"ltr\" style=\"direction: ltr\">[6, 5, 4, 3, 2, 1]</code>.\n",
        "</p>"
      ]
    },
    {
      "cell_type": "code",
      "source": [],
      "metadata": {
        "id": "dXMKoLEsZUig"
      },
      "execution_count": null,
      "outputs": []
    },
    {
      "cell_type": "markdown",
      "metadata": {
        "id": "JdY-y2mJQTO-"
      },
      "source": [
        "### <span style=\"text-align: right; direction: rtl; float: right; clear: both;\">רשימת תיקונים</span>"
      ]
    },
    {
      "cell_type": "markdown",
      "metadata": {
        "id": "vx6zzevYQTO-"
      },
      "source": [
        "<p style=\"text-align: right; direction: rtl; float: right; clear: both;\">\n",
        "    לפניכם קוד שמטרתו היא מציאת המספר הקטן ביותר שהמשתמש הזין.<br>\n",
        "    הכמנו בקוד 3 טעויות. מצאו אותן ותקנו אותן כך שהקוד יפעל.\n",
        "</p>"
      ]
    },
    {
      "cell_type": "code",
      "execution_count": 41,
      "metadata": {
        "id": "Zg2jQvX6QTO-",
        "outputId": "5616a63d-1616-4297-f48f-419648f0349e",
        "colab": {
          "base_uri": "https://localhost:8080/"
        }
      },
      "outputs": [
        {
          "output_type": "stream",
          "name": "stdout",
          "text": [
            "The minimum number is 8\n"
          ]
        }
      ],
      "source": [
        "def get_minimum(numbers):\n",
        "    numbers.sort()\n",
        "    return numbers[0]\n",
        "\n",
        "numbers = '8, 9, 10, 11, 12'.split(', ')\n",
        "numbers = [int(item) for item in numbers]\n",
        "minimum_number = get_minimum(numbers)\n",
        "print(f\"The minimum number is {minimum_number}\")"
      ]
    }
  ],
  "metadata": {
    "kernelspec": {
      "display_name": "Python 3",
      "language": "python",
      "name": "python3"
    },
    "language_info": {
      "codemirror_mode": {
        "name": "ipython",
        "version": 3
      },
      "file_extension": ".py",
      "mimetype": "text/x-python",
      "name": "python",
      "nbconvert_exporter": "python",
      "pygments_lexer": "ipython3",
      "version": "3.7.6"
    },
    "colab": {
      "provenance": []
    }
  },
  "nbformat": 4,
  "nbformat_minor": 0
}