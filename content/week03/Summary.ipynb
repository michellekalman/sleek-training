{
  "cells": [
    {
      "cell_type": "markdown",
      "metadata": {
        "id": "y6SbOgZxmIwP"
      },
      "source": [
        "<img src=\"https://github.com/PythonFreeCourse/Notebooks/blob/main/content/week03/images/logo.jpg?raw=1\" style=\"display: block; margin-left: auto; margin-right: auto;\" alt=\"לוגו של מיזם לימוד הפייתון. נחש מצויר בצבעי צהוב וכחול, הנע בין האותיות של שם הקורס: לומדים פייתון. הסלוגן המופיע מעל לשם הקורס הוא מיזם חינמי ללימוד תכנות בעברית.\">"
      ]
    },
    {
      "cell_type": "markdown",
      "metadata": {
        "id": "jbjqMxGomIwV"
      },
      "source": [
        "# <span style=\"text-align: right; direction: rtl; float: right; clear: both;\">תרגילים</span>"
      ]
    },
    {
      "cell_type": "markdown",
      "metadata": {
        "id": "K9fGCOghmIwY"
      },
      "source": [
        "## <span style=\"text-align: right; direction: rtl; float: right; clear: both;\">הגדרה</span>"
      ]
    },
    {
      "cell_type": "markdown",
      "metadata": {
        "id": "Fmher7OimIwa"
      },
      "source": [
        "<p style=\"text-align: right; direction: rtl; float: right; clear: both;\">\n",
        "    פונקציית גיבוב היא פונקציה המקבלת קלט כלשהו ומחזירה ערך באורך קבוע.<br>\n",
        "    קיימות פונקציות גיבוב רבות, ולהן שימושים מגוונים.\n",
        "</p>\n",
        "\n",
        "<p style=\"text-align: right; direction: rtl; float: right; clear: both;\">\n",
        "    נמנה כמה תכונות נפוצות של פונקציות גיבוב:\n",
        "</p>\n",
        "    \n",
        "<ul style=\"text-align: right; direction: rtl; float: right; clear: both;\">\n",
        "   <li>דטרמיניזם – עבור קלט מסוים, הערך המוחזר יהיה תמיד זהה.</li>\n",
        "   <li>אחידות – כיוון שהערך המוחזר הוא בגודל קבוע, יש קלטים שעבורם הערך המוחזר זהה. פונקציית גיבוב טובה תנסה למזער את כמות הערכים המוחזרים הזהים.</li>\n",
        "   <li>חד־כיווניות – עבור ערך מסוים שהפונקציה החזירה, קשה למצוא מה הקלט שיצר אותו.</li>\n",
        "</ul>\n",
        "\n"
      ]
    },
    {
      "cell_type": "markdown",
      "metadata": {
        "id": "dcJFu1OtmIwb"
      },
      "source": [
        "## <span style=\"text-align: right; direction: rtl; float: right; clear: both;\">מימוש בסיסי</span>"
      ]
    },
    {
      "cell_type": "markdown",
      "metadata": {
        "id": "Z7WvaOsImIwb"
      },
      "source": [
        "<p style=\"text-align: right; direction: rtl; float: right; clear: both;\">\n",
        "    בתרגיל זה נממש גרסה פשוטה של פונקציית גיבוב (hash function).<br>\n",
        "    פונקציית הגיבוב שלנו תקבל מחרוזת ותחזיר תמיד פלט באורך זהה.\n",
        "</p>\n",
        "<p style=\"text-align: right; direction: rtl; float: right; clear: both;\">\n",
        "    תחילה נכיר את הפונקציה <code dir=\"ltr\" style=\"direction: ltr\">ord(תו)</code>.<br>\n",
        "    פונקציה זו מקבלת תו, ומחזירה ערך מספרי המייצג אותו:<br>\n",
        "</p>"
      ]
    },
    {
      "cell_type": "code",
      "execution_count": 1,
      "metadata": {
        "id": "5tmcOfDXmIwc",
        "outputId": "889fc731-4a98-4525-acde-73cfb05c474f",
        "colab": {
          "base_uri": "https://localhost:8080/"
        }
      },
      "outputs": [
        {
          "output_type": "execute_result",
          "data": {
            "text/plain": [
              "97"
            ]
          },
          "metadata": {},
          "execution_count": 1
        }
      ],
      "source": [
        "ord('a')"
      ]
    },
    {
      "cell_type": "markdown",
      "metadata": {
        "id": "w_N9DfaBmIwe"
      },
      "source": [
        "<p style=\"text-align: right; direction: rtl; float: right; clear: both;\">\n",
        "פונקציית הגיבוב שלנו תעבוד כך:<br>\n",
        "</p>\n",
        "<ol style=\"text-align: right; direction: rtl; float: right; clear: both;\">\n",
        "    <li>נאתחל משתנה עזר בשם <var>hash</var> כך שערכו יהיה 1.</li>\n",
        "    <li>עבור כל אות במחרוזת:</li>\n",
        "    <ol>\n",
        "        <li>נחשב את <code dir=\"ltr\" style=\"direction: ltr;\">ord(letter)</code> ונכפיל במשתנה העזר <var>hash</var>.</li>\n",
        "        <li>נכפיל את הערך שקיבלנו במיקום של האות הבאה במחרוזת.\n",
        "        <li>לתוצאה הזו נבצע מודולו 397,643, ונשמור על <var>hash</var>.</li>\n",
        "    </ol>\n",
        "    <li>כדי שהפלט תמיד יהיה באורך זהה, נשתמש במודולו 100,297 על התוצאה (חשבו: איך מודולו גורם לזה לקרות?)</li>\n",
        "</ol>\n",
        "<p style=\"text-align: right; direction: rtl; float: right; clear: both;\">\n",
        "פונקציית הגיבוב שיצרנו מחזירה תמיד ערכים באורך קבוע (בין 0 ל־100,297), כפי שפונקציית גיבוב צריכה להחזיר (לאו דווקא באורך זה, אבל הפלט חייב להיות באורך קבוע).\n",
        "</p>"
      ]
    },
    {
      "cell_type": "markdown",
      "metadata": {
        "id": "5Ya1t1mvmIwe"
      },
      "source": [
        "<p style=\"text-align: right; direction: rtl; float: right; clear: both;\">\n",
        "    דוגמה:<br>\n",
        "</p>\n",
        "\n",
        "<code style=\"text-align: left; direction: ltr; float: left; clear: both;\">myhash('aba')</code><br>\n",
        "<samp style=\"text-align: left; direction: ltr; float: left; clear: both;\">62242</samp><br>\n",
        "\n",
        "<p style=\"text-align: right; direction: rtl; float: right; clear: both;\">\n",
        "    החישוב התבצע כך:<br>\n",
        "</p>\n",
        "\n",
        "<code style=\"text-align: left; direction: ltr; float: left; clear: both;\">temp_hash = 1</code><br>\n",
        "<code style=\"text-align: left; direction: ltr; float: left; clear: both;\">temp_hash = (temp_hash * ord('a') * 1) % 397643</code>\n",
        "<samp style=\"text-align: left; direction: ltr; float: left; clear: both;\"># temp_hash = (1 * 97 * 1) % 397643 = 97</samp><br>\n",
        "\n",
        "<p style=\"text-align: right; direction: rtl; float: right; clear: both;\">\n",
        "    שימו לב שכאן הכפלנו ב־1, כיוון שמיקום האות הוא 0 ואנו מכפילים\n",
        "    <em>באינדקס האות הבאה.</em>\n",
        "</p>\n",
        "\n",
        "<code style=\"text-align: left; direction: ltr; float: left; clear: both;\">temp_hash = (temp_hash * ord('b') * 2) % 397643</code>\n",
        "<samp style=\"text-align: left; direction: ltr; float: left; clear: both;\"># temp_hash = (97 * 98 * 2) % 397643 = 19012</samp>\n",
        "<code style=\"text-align: left; direction: ltr; float: left; clear: both;\">temp_hash = (temp_hash * ord('a') * 3) % 397643</code>\n",
        "<samp style=\"text-align: left; direction: ltr; float: left; clear: both;\"># temp_hash = (19012 * 97 * 3) % 397643 = 363133</samp>\n",
        "<code style=\"text-align: left; direction: ltr; float: left; clear: both;\">return temp_hash % 100297</code>\n",
        "<samp style=\"text-align: left; direction: ltr; float: left; clear: both;\"># temp_hash = 363133 % 100297 = <b>62242</b></samp>"
      ]
    },
    {
      "cell_type": "markdown",
      "metadata": {
        "id": "Y0o7BvpumIwf"
      },
      "source": [
        "<p style=\"text-align: right; direction: rtl; float: right; clear: both;\">\n",
        "    ממשו את פונקציית הגיבוב.<br>\n",
        "    כדי לבדוק את עצמכם ודאו שקיבלתם את הערכים הבאים עבור המחרוזות הבאות:<br>\n",
        "</p>\n",
        "\n",
        "<ul style=\"text-align: left; direction: ltr; float: left; clear: both;\">\n",
        "    <li>\n",
        "        <code>myhash('python course')</code><br>\n",
        "        <samp>75273</samp>\n",
        "    </li>\n",
        "    <li>\n",
        "        <code>myhash('hashing is sababa')</code><br>\n",
        "        <samp>38166</samp>\n",
        "    </li>\n",
        "    <li>\n",
        "        <code>myhash('i calculate hashes for fun')</code><br>\n",
        "        <samp>68720</samp>\n",
        "    </li>\n",
        "</ul>"
      ]
    },
    {
      "cell_type": "markdown",
      "metadata": {
        "id": "N4zlDRcomIwf"
      },
      "source": [
        "<p style=\"text-align: right; direction: rtl; float: right; clear: both;\">\n",
        "    שימו לב שזוהי פונקציית גיבוב מומצאת.<br>\n",
        "    לעולם לא נשתמש בפונקציות גיבוב שהמצאנו בסביבות אמיתיות שאנחנו מתכנתים(!), משום שדבר כזה יסכן בוודאות את המשתמשים במערכת.<br>\n",
        "    זה עולם שלם שנחקר רבות, ואנחנו תמיד נשתמש רק בפונקציות גיבוב שנחקרו במוסדות הרלוונטיים ופורסמו מטעמם.\n",
        "</p>"
      ]
    },
    {
      "cell_type": "code",
      "execution_count": 7,
      "metadata": {
        "id": "UCl13lu7mIwf"
      },
      "outputs": [],
      "source": [
        "def myhash(s):\n",
        "  hash = 1\n",
        "  for i in range(len(s)):\n",
        "    hash = (hash * ord(s[i]) * (i + 1)) % 397643\n",
        "\n",
        "  return hash % 100297\n",
        "\n"
      ]
    },
    {
      "cell_type": "code",
      "source": [
        "myhash('hashing is sababa')"
      ],
      "metadata": {
        "id": "NS8kYITpns-q",
        "outputId": "bab147b5-6c23-44af-9bc7-e274a069da2d",
        "colab": {
          "base_uri": "https://localhost:8080/"
        }
      },
      "execution_count": 8,
      "outputs": [
        {
          "output_type": "execute_result",
          "data": {
            "text/plain": [
              "38166"
            ]
          },
          "metadata": {},
          "execution_count": 8
        }
      ]
    },
    {
      "cell_type": "markdown",
      "metadata": {
        "id": "NBpK-35mmIwf"
      },
      "source": [
        "## <span style=\"text-align: right; direction: rtl; float: right; clear: both;\">איקס־עיגול</span>"
      ]
    },
    {
      "cell_type": "markdown",
      "metadata": {
        "id": "Anlaw-YPmIwf"
      },
      "source": [
        "<p style=\"text-align: right; direction: rtl; float: right; clear: both;\">\n",
        "    נזכיר את החוקים של המשחק המוכר איקס־עיגול:<br>\n",
        "</p>\n",
        "\n",
        "<ul style=\"text-align: right; direction: rtl; float: right; clear: both;\">\n",
        "    <li>המשחק מתרחש על לוח בגודל 3 על 3.</li>\n",
        "    <li>\n",
        "        במשחק משתתפים שני שחקנים: שחקן שמשתמש באות <em>X</em>\n",
        "        ושחקן שמשתמש באות <em>O</em>.\n",
        "    </li>\n",
        "    <li>\n",
        "        השחקן שמשתמש באות <em>O</em> תמיד מתחיל.\n",
        "    </li>\n",
        "    <li>המשחק נמשך כל עוד יש מקום פנוי בלוח, או עד שהוכרז מנצח.</li>\n",
        "    <li>מנצח הוא מי שהציב את האות השייכת לו בכל התאים הנמצאים באלכסון, בשורה או בטור על הלוח.</li>\n",
        "</ul>"
      ]
    },
    {
      "cell_type": "markdown",
      "metadata": {
        "id": "QDja-b5pmIwf"
      },
      "source": [
        "### <span style=\"text-align: right; direction: rtl; float: right; clear: both;\">מימוש המשחק</p>"
      ]
    },
    {
      "cell_type": "markdown",
      "metadata": {
        "id": "tR5VqacnmIwg"
      },
      "source": [
        "#### <span style=\"text-align: right; direction: rtl; float: right; clear: both;\">ייצוג הלוח</span>"
      ]
    },
    {
      "cell_type": "markdown",
      "metadata": {
        "id": "bJABriBzmIwg"
      },
      "source": [
        "<p style=\"text-align: right; direction: rtl; float: right; clear: both;\">\n",
        "    את הלוח נייצג באמצעות רשימה של רשימות.<br>\n",
        "    כל רשימה תייצג שורה בלוח שלנו: הרשימה במיקום 0 תייצג את השורה הראשונה בלוח, הרשימה בשורה 1 את השורה השנייה וכך הלאה.<br>\n",
        "    הרשימות המייצגות את השורות יהיו רשימות של תווים, כאשר בכל תא יהיה אחד מבין התווים האפשריים – '<i>O</i>', '<i>X</i>' או '<i>-</i>'\n",
        "</p>"
      ]
    },
    {
      "cell_type": "markdown",
      "metadata": {
        "id": "GoTensK7mIwg"
      },
      "source": [
        "<p style=\"text-align: right; direction: rtl; float: right; clear: both;\">\n",
        "    לדוגמה, כך נראה לוח ריק:\n",
        "</p>\n",
        "    \n",
        "<samp style=\"float: left; clear: both;\">[['-', '-', '-'], ['-', '-', '-'], ['-', '-', '-']]</samp>\n",
        "    \n",
        "<p style=\"text-align: right; direction: rtl; float: right; clear: both;\">\n",
        "    נוח לדמיין את הרשימה הזו כתובה במאונך:\n",
        "</p>\n",
        "\n",
        "<samp style=\"float: left; clear: both;\">\n",
        "[\n",
        "    ['-', '-', '-'],\n",
        "    ['-', '-', '-'],\n",
        "    ['-', '-', '-']\n",
        "]\n",
        "</samp>\n",
        "    \n",
        "<p style=\"text-align: right; direction: rtl; float: right; clear: both;\">\n",
        "    כעת נראה איך נראה הלוח כאשר יש <samp>'X'</samp>־ים באלכסון:\n",
        "</p>\n",
        "\n",
        "<samp style=\"float: left; clear: both;\">\n",
        "[\n",
        "    ['X', '-', '-'],\n",
        "    ['-', 'X', '-'],\n",
        "    ['-', '-', 'X']\n",
        "]</samp>\n",
        "\n",
        "<p style=\"text-align: right; direction: rtl; float: right; clear: both;\">\n",
        "    וללא ההדפסה לאורך:\n",
        "</p>\n",
        "\n",
        "<samp style=\"float: left; clear: both;\">[['X', '-', '-'], ['-', 'X', '-'], ['-', '-', 'X']]</samp>\n"
      ]
    },
    {
      "cell_type": "markdown",
      "metadata": {
        "id": "jwNE153QmIwg"
      },
      "source": [
        "<p style=\"text-align: right; direction: rtl; float: right; clear: both;\">\n",
        "    תחילה נממש פונקציה המקבלת את הלוח ובודקת אם יש מנצח כלשהו\n",
        "    (<em>X</em> או <em>O</em>),\n",
        "    ומחזירה את האות של המנצח\n",
        "    (<samp>'X'</samp> או <samp>'O'</samp>)\n",
        "    אם יש מנצח, או <samp>''</samp> (מחרוזת ריקה) אחרת.\n",
        "</p>\n",
        "<p style=\"text-align: right; direction: rtl; float: right; clear: both;\">\n",
        "חִשבו אילו בדיקות נידרש לבצע כדי למצוא אם יש בלוח מצב של ניצחון. ממשו את הפונקציה <code>check_board(board)</code> כך שתשתמש בכמה שיותר פונקציות עזר.\n",
        "</p>"
      ]
    },
    {
      "cell_type": "code",
      "execution_count": 36,
      "metadata": {
        "id": "lqMNciC8mIwg"
      },
      "outputs": [],
      "source": [
        "def check_board(board):\n",
        "  board_size = len(board)\n",
        "  # checking if there's a row sequence\n",
        "  for row in board:\n",
        "    victor = row[0]\n",
        "    for i in range(1, board_size):\n",
        "      if row[i] != victor or row[i] == '-':\n",
        "        break\n",
        "      if i == board_size - 1:\n",
        "        return victor\n",
        "\n",
        "\n",
        "  # checking if there's a column sequence\n",
        "  for i in range(board_size):\n",
        "    victor = board[0][i]\n",
        "    for row_ind in range(1, board_size):\n",
        "      if board[row_ind][i] != victor or board[row_ind][i] == '-':\n",
        "        break\n",
        "      if row_ind == board_size - 1:\n",
        "        return victor\n",
        "\n",
        "  # checking if there's a slant sequence\n",
        "  victor = board[0][0]\n",
        "  for i in range(1, board_size):\n",
        "    if board[i][i] != victor or board[i][i] == '-':\n",
        "      break\n",
        "    if i == board_size - 1:\n",
        "      return victor\n",
        "\n",
        "  victor = board[board_size - 1][0]\n",
        "  for i in range(1, board_size):\n",
        "    if board[board_size - 1 - i][i] != victor or board[board_size - 1 - i][i] == '-':\n",
        "      break\n",
        "    if i == board_size - 1:\n",
        "      return victor\n"
      ]
    },
    {
      "cell_type": "markdown",
      "metadata": {
        "id": "utK3imQwmIwg"
      },
      "source": [
        "<p style=\"text-align: right; direction: rtl; float: right; clear: both;\">\n",
        "     לפני שתמשיכו הלאה, חשוב לוודא שהפונקציה שכתבתם עובדת, לכן נכתוב עבורה סדרה של בדיקות.<br>\n",
        "    כתבו בדיקות עבור המקרים הבאים:\n",
        "</p>\n",
        "\n",
        "<ul style=\"text-align: right; direction: rtl; float: right; clear: both;\">\n",
        "    <li>ניצחון באלכסון הראשי (שמאל למעלה–ימין למטה).</li>\n",
        "    <li>ניצחון באלכסון המשני (ימין למעלה–שמאל למטה).</li>\n",
        "    <li>ניצחון בכל אחד מהטורים.</li>\n",
        "    <li>ניצחון בכל אחת מהשורות.</li>\n",
        "    <li>לוח מלא ללא ניצחון.</li>\n",
        "    <li>לוח לא מלא ללא ניצחון (במקומות לא מסומנים יופיע הסימן <samp>'-'</samp>).</li>\n",
        "</ul>\n",
        "\n",
        "<p style=\"text-align: right; direction: rtl; float: right; clear: both;\">\n",
        "    בסך הכול תצטרכו לכתוב 10 בדיקות. בכל בדיקה הפעילו את הפונקציה שלכם <code>check_board(board)</code> על לוח כפי שמתואר ובדקו אם הפלט שמוחזר תואם לפלט שציפיתם לקבל.\n",
        "</p>\n"
      ]
    },
    {
      "cell_type": "code",
      "execution_count": 33,
      "metadata": {
        "id": "VTP0-Ij7mIwg",
        "outputId": "f52812b6-9fa1-4291-ed31-90573c71d0a7",
        "colab": {
          "base_uri": "https://localhost:8080/",
          "height": 36
        }
      },
      "outputs": [
        {
          "output_type": "execute_result",
          "data": {
            "text/plain": [
              "'X'"
            ],
            "application/vnd.google.colaboratory.intrinsic+json": {
              "type": "string"
            }
          },
          "metadata": {},
          "execution_count": 33
        }
      ],
      "source": [
        "# בדיקה עבור אלכסון ראשי\n",
        "check_board([['X', '-', '-'], ['-', 'X', '-'], ['-', '-', 'X']])\n"
      ]
    },
    {
      "cell_type": "code",
      "execution_count": 34,
      "metadata": {
        "id": "P0wv6h43mIwg",
        "outputId": "2359935a-ba61-4541-944d-ebeda96dd843",
        "colab": {
          "base_uri": "https://localhost:8080/",
          "height": 36
        }
      },
      "outputs": [
        {
          "output_type": "execute_result",
          "data": {
            "text/plain": [
              "'X'"
            ],
            "application/vnd.google.colaboratory.intrinsic+json": {
              "type": "string"
            }
          },
          "metadata": {},
          "execution_count": 34
        }
      ],
      "source": [
        "# בדיקה עבור אלכסון משני\n",
        "check_board([['-', '-', 'X'], ['-', 'X', '-'], ['X', '-', '-']])"
      ]
    },
    {
      "cell_type": "code",
      "execution_count": 37,
      "metadata": {
        "id": "v30Df8GqmIwg",
        "outputId": "dbd1af25-77f5-402a-9e78-56b01aff3526",
        "colab": {
          "base_uri": "https://localhost:8080/",
          "height": 36
        }
      },
      "outputs": [
        {
          "output_type": "execute_result",
          "data": {
            "text/plain": [
              "'X'"
            ],
            "application/vnd.google.colaboratory.intrinsic+json": {
              "type": "string"
            }
          },
          "metadata": {},
          "execution_count": 37
        }
      ],
      "source": [
        "# בדיקה עבור טור שמאלי\n",
        "check_board([['X', '-', '-'], ['X', '-', '-'], ['X', '-', '-']])"
      ]
    },
    {
      "cell_type": "code",
      "execution_count": 38,
      "metadata": {
        "id": "n2A5xtNlmIwg",
        "outputId": "e11473a9-566e-4018-ccd9-c3bb5b482403",
        "colab": {
          "base_uri": "https://localhost:8080/",
          "height": 36
        }
      },
      "outputs": [
        {
          "output_type": "execute_result",
          "data": {
            "text/plain": [
              "'X'"
            ],
            "application/vnd.google.colaboratory.intrinsic+json": {
              "type": "string"
            }
          },
          "metadata": {},
          "execution_count": 38
        }
      ],
      "source": [
        "# בדיקה עבור טור אמצעי\n",
        "check_board([['-', 'X', '-'], ['-','X', '-'], [ '-', 'X','-']])"
      ]
    },
    {
      "cell_type": "code",
      "execution_count": 40,
      "metadata": {
        "id": "rkj8gYVPmIwh",
        "outputId": "7597aa87-d46d-4f35-f5d0-3be2ec4a1b60",
        "colab": {
          "base_uri": "https://localhost:8080/",
          "height": 36
        }
      },
      "outputs": [
        {
          "output_type": "execute_result",
          "data": {
            "text/plain": [
              "'X'"
            ],
            "application/vnd.google.colaboratory.intrinsic+json": {
              "type": "string"
            }
          },
          "metadata": {},
          "execution_count": 40
        }
      ],
      "source": [
        "# בדיקה עבור טור ימני\n",
        "check_board([['-',  '-','X',], ['-', '-', 'X'], [ '-', '-', 'X']])"
      ]
    },
    {
      "cell_type": "code",
      "execution_count": 41,
      "metadata": {
        "id": "ULbYKZSRmIwh",
        "outputId": "4aa90af8-4022-45d3-ea46-0fd14d71c250",
        "colab": {
          "base_uri": "https://localhost:8080/",
          "height": 36
        }
      },
      "outputs": [
        {
          "output_type": "execute_result",
          "data": {
            "text/plain": [
              "'X'"
            ],
            "application/vnd.google.colaboratory.intrinsic+json": {
              "type": "string"
            }
          },
          "metadata": {},
          "execution_count": 41
        }
      ],
      "source": [
        "# בדיקה עבור שורה עליונה\n",
        "check_board([['X',  'X','X',], ['-', '-', '-'], [ '-', '-', '-']])"
      ]
    },
    {
      "cell_type": "code",
      "execution_count": 42,
      "metadata": {
        "id": "JHOX8oQ1mIwh",
        "outputId": "8f72649f-19d8-428a-c555-24ae700f0ac1",
        "colab": {
          "base_uri": "https://localhost:8080/",
          "height": 36
        }
      },
      "outputs": [
        {
          "output_type": "execute_result",
          "data": {
            "text/plain": [
              "'X'"
            ],
            "application/vnd.google.colaboratory.intrinsic+json": {
              "type": "string"
            }
          },
          "metadata": {},
          "execution_count": 42
        }
      ],
      "source": [
        "# בדיקה עבור שורה אמצעית\n",
        "check_board([ ['-', '-', '-'], ['X',  'X','X',],[ '-', '-', '-']])"
      ]
    },
    {
      "cell_type": "code",
      "execution_count": 43,
      "metadata": {
        "id": "ovnNERlGmIwh",
        "outputId": "99184988-4762-4dc4-c174-bf5daf687fe2",
        "colab": {
          "base_uri": "https://localhost:8080/",
          "height": 36
        }
      },
      "outputs": [
        {
          "output_type": "execute_result",
          "data": {
            "text/plain": [
              "'X'"
            ],
            "application/vnd.google.colaboratory.intrinsic+json": {
              "type": "string"
            }
          },
          "metadata": {},
          "execution_count": 43
        }
      ],
      "source": [
        "# בדיקה עבור שורה תחתונה\n",
        "check_board([ ['-', '-', '-'], [ '-', '-', '-'],['X',  'X','X']])"
      ]
    },
    {
      "cell_type": "code",
      "execution_count": 44,
      "metadata": {
        "id": "2UtrGZZRmIwh"
      },
      "outputs": [],
      "source": [
        "# בדיקה עבור לוח מלא ללא ניצחון\n",
        "check_board([ ['X', 'O', 'X'], [ 'O', 'X', 'O'],['O',  'X','O']])\n"
      ]
    },
    {
      "cell_type": "code",
      "execution_count": 45,
      "metadata": {
        "id": "E4RKmjzjmIwh"
      },
      "outputs": [],
      "source": [
        "# בדיקה עבור לוח לא מלא ללא ניצחון\n",
        "check_board([ ['-', '-', '-'], [ '-', '-', '-'],['X',  'O','X']])"
      ]
    },
    {
      "cell_type": "markdown",
      "metadata": {
        "id": "2v6Q8Tn0mIwh"
      },
      "source": [
        "#### <span style=\"text-align: right; direction: rtl; float: right; clear: both;\">פונקציות לבדיקת תקינות קלט</p>"
      ]
    },
    {
      "cell_type": "markdown",
      "metadata": {
        "id": "MMMTTlXgmIwi"
      },
      "source": [
        "<p style=\"text-align: right; direction: rtl; float: right; clear: both;\">\n",
        "    במהלך המשחק אנו נקלוט מהשחקנים במשחק (המשתמשים) את המקומות בלוח, שבהם הם ירצו למקם את האות שלהם.<br>\n",
        "    מקומות אלו יהיו שני מספרים בתחום 0–2 המציינים את השורה והעמודה שבה יש למקם את האות.<br>\n",
        "    לדוגמה, עבור:\n",
        "</p>\n",
        "\n",
        "<samp style=\"float: left; clear: both;\">1 2</samp>\n",
        "\n",
        "<p style=\"text-align: right; direction: rtl; float: right; clear: both;\">\n",
        "    נמקם את האות המתאימה לשחקן, נניח <em>X</em>, בשורה 1 ובעמודה 2, כך:\n",
        "</p>\n",
        "\n",
        "<samp style=\"float: left; clear: both;\">[['-', '-', '-'], ['-', '-', 'X'], ['-', '-', '-']]</samp>\n",
        "\n",
        "<p style=\"text-align: right; direction: rtl; float: right; clear: both;\">\n",
        "    זכרו כי הספירה מתחילה מ־0, ולכן מדובר בשורה האמצעית ובעמודה הימנית.\n",
        "</p>"
      ]
    },
    {
      "cell_type": "markdown",
      "metadata": {
        "id": "AJGMSLA-mIwj"
      },
      "source": [
        "<p style=\"text-align: right; direction: rtl; float: right; clear: both;\">\n",
        "    כעת כתבו פונקציה המקבלת את הלוח ואת האות שמייצגת את השחקן (<em>'X'</em> או <em>'O'</em>). כמו כן, הפונקציה תקלוט מהמשתמש שני מספרים.<br>\n",
        "    הפונקציה תבדוק אם התנאים הבאים מתקיימים, ואם הם מתקיימים היא תמקם את האות הנתונה במיקום המבוקש, ותעדכן את הלוח:<br>\n",
        "</p>\n",
        "\n",
        "<ul style=\"text-align: right; direction: rtl; float: right; clear: both;\">\n",
        "    <li>מספר השורה הוא בין 0 ל־2.</li>\n",
        "    <li>מספר העמודה הוא בין 0 ל־2.</li>\n",
        "    <li>המקום המבוקש לא תפוס על ידי אות כלשהי (כלומר יש בו <samp>'-'</samp>).</li>\n",
        "</ul>\n",
        "\n",
        "<p style=\"text-align: right; direction: rtl; float: right; clear: both;\">\n",
        "    שימו לב, <b>עליכם לחייב את המשתמש להכניס ערכים חוקיים</b>. כלומר, המשחק לא ימשיך עד שיתקבל קלט תקין (חשבו על דרך שבה התוכנית תמשיך לבקש מהמשתמש ערכים עד שיוכנסו ערכים חוקיים).<br>\n",
        "    כאשר נגלה בשלב מוקדם יותר שהלוח לא ניתן יותר למילוי – המשחק יסתיים.\n",
        "</p>\n",
        "\n",
        "<p style=\"text-align: right; direction: rtl; float: right; clear: both;\">\n",
        "    רמז: <span style=\"direction: rtl; background: #000;  color: #000\">השתמשו בלולאת while</span>\n",
        "</p>\n"
      ]
    },
    {
      "cell_type": "markdown",
      "metadata": {
        "id": "aW9F2P2pmIwj"
      },
      "source": [
        "<p style=\"text-align: right; direction: rtl; float: right; clear: both;\">\n",
        "לוח לדוגמה:\n",
        "</p>\n",
        "\n",
        "<samp style=\"float: left; clear: both;\">\n",
        "board = [['-', '-', '-'], ['-', 'O', 'X'], ['-', '-', '-']]\n",
        "</samp>\n",
        "\n",
        "<p style=\"text-align: right; direction: rtl; float: right; clear: both;\">\n",
        "    הזנה חוקית:\n",
        "</p>\n",
        "\n",
        "<code style=\"float: left; clear: both;\">make_turn('X', board)</code>\n",
        "\n",
        "<br style=\"clear: both;\">\n",
        "\n",
        "<samp style=\"float: left; clear: both;\">Player 'X' Please choose cell:\n",
        "0 2\n",
        "</samp>\n",
        "<samp style=\"float: left; clear: both;\">[['-', '-', 'X'], ['-', 'O', 'X'], ['-', '-', '-']]</samp>\n",
        "\n",
        "<p style=\"text-align: right; direction: rtl; float: right; clear: both;\">\n",
        "    הזנה לא חוקית:\n",
        "</p>\n",
        "\n",
        "<br style=\"clear: both;\">\n",
        "\n",
        "<samp style=\"float: left; clear: both;\">Player 'X' Please choose cell:\n",
        "5 -2\n",
        "Invalid line chosen (5)\n",
        "Invalid column chosen (-2)\n",
        "[['-', '-', '-'], ['-', 'O', 'X'], ['-', '-', '-']]\n",
        "</samp>\n",
        "\n",
        "<br style=\"clear: both;\">\n",
        "\n",
        "<samp style=\"float: left; clear: both; padding-bottom: 5px;\">Player 'X' Please choose cell:\n",
        "1 2\n",
        "Cell (1,2) is taken, use other.\n",
        "[['-', '-', '-'], ['-', 'O', 'X'], ['-', '-', '-']]\n",
        "</samp>\n",
        "\n",
        "<br style=\"clear: both;\">\n",
        "\n",
        "<samp style=\"float: left; clear: both;\">Player 'X' Please choose cell:\n",
        "2 -2\n",
        "Invalid column chosen (-2)\n",
        "[['-', '-', '-'], ['-', 'O', 'X'], ['-', '-', '-']]\n",
        "</samp>\n",
        "\n",
        "<br style=\"clear: both;\">\n",
        "\n",
        "<samp style=\"float: left; clear: both;\">Player 'X' Please choose cell:\n",
        "1 1\n",
        "Cell (1,1) is taken, use other.\n",
        "[['-', '-', '-'], ['-', 'O', 'X'], ['-', '-', '-']]\n",
        "</samp>\n",
        "\n",
        "<br style=\"clear: both;\">\n",
        "\n",
        "<p style=\"text-align: right; direction: rtl; float: right; clear: both;\">\n",
        "    שימו לב שלאחר כל פעולה אנו מדפיסים את הלוח, בין אם הצליחה ובין אם לאו.\n",
        "</p>"
      ]
    },
    {
      "cell_type": "code",
      "execution_count": 69,
      "metadata": {
        "id": "YXybtNSEmIwk"
      },
      "outputs": [],
      "source": [
        "def make_turn(player_char, board):\n",
        "  board_length = len(board) - 1\n",
        "  input_is_valid = False\n",
        "\n",
        "  while not input_is_valid:\n",
        "    row_is_valid = True\n",
        "    column_is_valid = True\n",
        "    cell_is_not_taken = True\n",
        "\n",
        "    cell = input(f\"Player '{player_char}' Please choose cell:\")\n",
        "    row, column = cell.split(\" \")\n",
        "    row = int(row)\n",
        "    column = int(column)\n",
        "    if not 0 <= row <= board_length:\n",
        "      print(f\"Invalid line chosen ({row})\")\n",
        "      row_is_valid = False\n",
        "\n",
        "    if not 0 <= column <= board_length:\n",
        "      print(f\"Invalid column chosen ({column})\")\n",
        "      column_is_valid = False\n",
        "\n",
        "    if row_is_valid and column_is_valid and board[row][column] != '-':\n",
        "      print(f\"Cell ({row},{column}) is taken, use other.\")\n",
        "      cell_is_not_taken = False\n",
        "\n",
        "    if row_is_valid and column_is_valid and cell_is_not_taken:\n",
        "      input_is_valid = True\n",
        "      board[row][column] = player_char\n",
        "\n",
        "    print_board(board)\n",
        "\n"
      ]
    },
    {
      "cell_type": "code",
      "source": [
        "make_turn('X', [['-', '-', '-'], ['-', 'O', 'X'], ['-', '-', '-']])"
      ],
      "metadata": {
        "id": "KBz4tGTi5yZe",
        "outputId": "5b672a8d-a155-40ab-fbc3-d771d5a2dbe4",
        "colab": {
          "base_uri": "https://localhost:8080/",
          "height": 425
        }
      },
      "execution_count": 70,
      "outputs": [
        {
          "output_type": "stream",
          "name": "stdout",
          "text": [
            "Player 'X' Please choose cell:1 1\n",
            "Cell (1,1) is taken, use other.\n",
            "[\n",
            "['-', '-', '-']\n",
            "['-', 'O', 'X']\n",
            "['-', '-', '-']\n",
            "]\n"
          ]
        },
        {
          "output_type": "error",
          "ename": "KeyboardInterrupt",
          "evalue": "Interrupted by user",
          "traceback": [
            "\u001b[0;31m---------------------------------------------------------------------------\u001b[0m",
            "\u001b[0;31mKeyboardInterrupt\u001b[0m                         Traceback (most recent call last)",
            "\u001b[0;32m<ipython-input-70-fa754ad5e031>\u001b[0m in \u001b[0;36m<cell line: 1>\u001b[0;34m()\u001b[0m\n\u001b[0;32m----> 1\u001b[0;31m \u001b[0mmake_turn\u001b[0m\u001b[0;34m(\u001b[0m\u001b[0;34m'X'\u001b[0m\u001b[0;34m,\u001b[0m \u001b[0;34m[\u001b[0m\u001b[0;34m[\u001b[0m\u001b[0;34m'-'\u001b[0m\u001b[0;34m,\u001b[0m \u001b[0;34m'-'\u001b[0m\u001b[0;34m,\u001b[0m \u001b[0;34m'-'\u001b[0m\u001b[0;34m]\u001b[0m\u001b[0;34m,\u001b[0m \u001b[0;34m[\u001b[0m\u001b[0;34m'-'\u001b[0m\u001b[0;34m,\u001b[0m \u001b[0;34m'O'\u001b[0m\u001b[0;34m,\u001b[0m \u001b[0;34m'X'\u001b[0m\u001b[0;34m]\u001b[0m\u001b[0;34m,\u001b[0m \u001b[0;34m[\u001b[0m\u001b[0;34m'-'\u001b[0m\u001b[0;34m,\u001b[0m \u001b[0;34m'-'\u001b[0m\u001b[0;34m,\u001b[0m \u001b[0;34m'-'\u001b[0m\u001b[0;34m]\u001b[0m\u001b[0;34m]\u001b[0m\u001b[0;34m)\u001b[0m\u001b[0;34m\u001b[0m\u001b[0;34m\u001b[0m\u001b[0m\n\u001b[0m",
            "\u001b[0;32m<ipython-input-69-b6b2afe8948f>\u001b[0m in \u001b[0;36mmake_turn\u001b[0;34m(player_char, board)\u001b[0m\n\u001b[1;32m      8\u001b[0m     \u001b[0mcell_is_not_taken\u001b[0m \u001b[0;34m=\u001b[0m \u001b[0;32mTrue\u001b[0m\u001b[0;34m\u001b[0m\u001b[0;34m\u001b[0m\u001b[0m\n\u001b[1;32m      9\u001b[0m \u001b[0;34m\u001b[0m\u001b[0m\n\u001b[0;32m---> 10\u001b[0;31m     \u001b[0mcell\u001b[0m \u001b[0;34m=\u001b[0m \u001b[0minput\u001b[0m\u001b[0;34m(\u001b[0m\u001b[0;34mf\"Player '{player_char}' Please choose cell:\"\u001b[0m\u001b[0;34m)\u001b[0m\u001b[0;34m\u001b[0m\u001b[0;34m\u001b[0m\u001b[0m\n\u001b[0m\u001b[1;32m     11\u001b[0m     \u001b[0mrow\u001b[0m\u001b[0;34m,\u001b[0m \u001b[0mcolumn\u001b[0m \u001b[0;34m=\u001b[0m \u001b[0mcell\u001b[0m\u001b[0;34m.\u001b[0m\u001b[0msplit\u001b[0m\u001b[0;34m(\u001b[0m\u001b[0;34m\" \"\u001b[0m\u001b[0;34m)\u001b[0m\u001b[0;34m\u001b[0m\u001b[0;34m\u001b[0m\u001b[0m\n\u001b[1;32m     12\u001b[0m     \u001b[0mrow\u001b[0m \u001b[0;34m=\u001b[0m \u001b[0mint\u001b[0m\u001b[0;34m(\u001b[0m\u001b[0mrow\u001b[0m\u001b[0;34m)\u001b[0m\u001b[0;34m\u001b[0m\u001b[0;34m\u001b[0m\u001b[0m\n",
            "\u001b[0;32m/usr/local/lib/python3.10/dist-packages/ipykernel/kernelbase.py\u001b[0m in \u001b[0;36mraw_input\u001b[0;34m(self, prompt)\u001b[0m\n\u001b[1;32m    849\u001b[0m                 \u001b[0;34m\"raw_input was called, but this frontend does not support input requests.\"\u001b[0m\u001b[0;34m\u001b[0m\u001b[0;34m\u001b[0m\u001b[0m\n\u001b[1;32m    850\u001b[0m             )\n\u001b[0;32m--> 851\u001b[0;31m         return self._input_request(str(prompt),\n\u001b[0m\u001b[1;32m    852\u001b[0m             \u001b[0mself\u001b[0m\u001b[0;34m.\u001b[0m\u001b[0m_parent_ident\u001b[0m\u001b[0;34m,\u001b[0m\u001b[0;34m\u001b[0m\u001b[0;34m\u001b[0m\u001b[0m\n\u001b[1;32m    853\u001b[0m             \u001b[0mself\u001b[0m\u001b[0;34m.\u001b[0m\u001b[0m_parent_header\u001b[0m\u001b[0;34m,\u001b[0m\u001b[0;34m\u001b[0m\u001b[0;34m\u001b[0m\u001b[0m\n",
            "\u001b[0;32m/usr/local/lib/python3.10/dist-packages/ipykernel/kernelbase.py\u001b[0m in \u001b[0;36m_input_request\u001b[0;34m(self, prompt, ident, parent, password)\u001b[0m\n\u001b[1;32m    893\u001b[0m             \u001b[0;32mexcept\u001b[0m \u001b[0mKeyboardInterrupt\u001b[0m\u001b[0;34m:\u001b[0m\u001b[0;34m\u001b[0m\u001b[0;34m\u001b[0m\u001b[0m\n\u001b[1;32m    894\u001b[0m                 \u001b[0;31m# re-raise KeyboardInterrupt, to truncate traceback\u001b[0m\u001b[0;34m\u001b[0m\u001b[0;34m\u001b[0m\u001b[0m\n\u001b[0;32m--> 895\u001b[0;31m                 \u001b[0;32mraise\u001b[0m \u001b[0mKeyboardInterrupt\u001b[0m\u001b[0;34m(\u001b[0m\u001b[0;34m\"Interrupted by user\"\u001b[0m\u001b[0;34m)\u001b[0m \u001b[0;32mfrom\u001b[0m \u001b[0;32mNone\u001b[0m\u001b[0;34m\u001b[0m\u001b[0;34m\u001b[0m\u001b[0m\n\u001b[0m\u001b[1;32m    896\u001b[0m             \u001b[0;32mexcept\u001b[0m \u001b[0mException\u001b[0m \u001b[0;32mas\u001b[0m \u001b[0me\u001b[0m\u001b[0;34m:\u001b[0m\u001b[0;34m\u001b[0m\u001b[0;34m\u001b[0m\u001b[0m\n\u001b[1;32m    897\u001b[0m                 \u001b[0mself\u001b[0m\u001b[0;34m.\u001b[0m\u001b[0mlog\u001b[0m\u001b[0;34m.\u001b[0m\u001b[0mwarning\u001b[0m\u001b[0;34m(\u001b[0m\u001b[0;34m\"Invalid Message:\"\u001b[0m\u001b[0;34m,\u001b[0m \u001b[0mexc_info\u001b[0m\u001b[0;34m=\u001b[0m\u001b[0;32mTrue\u001b[0m\u001b[0;34m)\u001b[0m\u001b[0;34m\u001b[0m\u001b[0;34m\u001b[0m\u001b[0m\n",
            "\u001b[0;31mKeyboardInterrupt\u001b[0m: Interrupted by user"
          ]
        }
      ]
    },
    {
      "cell_type": "markdown",
      "metadata": {
        "id": "h25qGaL8mIwk"
      },
      "source": [
        "<p style=\"text-align: right; direction: rtl; float: right; clear: both;\">\n",
        "    <b>בונוס</b>: ממשו פונקציה שמדפיסה את הלוח לאורך.\n",
        "</p>\n",
        "\n",
        "<code style=\"float: left; clear: both;\">print_board(board)</code>\n",
        "\n",
        "<br>\n",
        "\n",
        "<samp style=\"float: left; clear: both;\">\n",
        "[\n",
        "    ['-', '-', '-'],\n",
        "    ['-', '-', '-'],\n",
        "    ['-', '-', '-']\n",
        "]\n",
        "</samp>"
      ]
    },
    {
      "cell_type": "code",
      "source": [
        "def print_board(board):\n",
        "  print('[')\n",
        "  for i in board:\n",
        "    print(i)\n",
        "  print(']')"
      ],
      "metadata": {
        "id": "yF0oO9oJ68U3"
      },
      "execution_count": 67,
      "outputs": []
    },
    {
      "cell_type": "code",
      "source": [
        "print_board([ ['-', '-', '-'], ['-', '-', '-'], ['-', '-', '-'] ]\n",
        ")"
      ],
      "metadata": {
        "id": "204NGBBE7Gme",
        "outputId": "c811c031-d239-4606-b959-ba696ac4358c",
        "colab": {
          "base_uri": "https://localhost:8080/"
        }
      },
      "execution_count": 68,
      "outputs": [
        {
          "output_type": "stream",
          "name": "stdout",
          "text": [
            "[\n",
            "['-', '-', '-']\n",
            "['-', '-', '-']\n",
            "['-', '-', '-']\n",
            "]\n"
          ]
        }
      ]
    },
    {
      "cell_type": "markdown",
      "metadata": {
        "id": "WtKvYHlZmIwk"
      },
      "source": [
        "#### <span style=\"text-align: right; direction: rtl; float: right; clear: both;\">מימוש המשחק</span>"
      ]
    },
    {
      "cell_type": "markdown",
      "metadata": {
        "id": "QY7KpWtymIwl"
      },
      "source": [
        "<p style=\"text-align: right; direction: rtl; float: right; clear: both;\">\n",
        "    כאמור המשחק ממשיך כל עוד אין מנצח ונותר מקום פנוי בלוח.<br>\n",
        "    נשים לב כי מספר המהלכים החוקיים יכול להיות לכל היותר כגודל הלוח.<br>\n",
        "    כלומר – אם לא הוכרז מנצח במהלך המשחק, המשחק ייגמר לאחר 9 מהלכים עבור לוח בגודל $3\\times3$.<br>\n",
        "    נספור כמה מהלכים חוקיים יש במשחק. עבור מספרי מהלך זוגיים (0, 2, 4, ...) ישחק השחקן <em>O</em>, ועבור מספרי מהלך אי־זוגיים ישחק השחקן <em>X</em>.<br>\n",
        "    נתאר את מהלך המשחק בפסאודו־קוד:<br>\n",
        "</p>\n",
        "<ol style=\"text-align: right; direction: rtl; float: right; clear: both;\">\n",
        "    <li>אתחל את מונה המהלכים ל־0.</li>\n",
        "    <li>כל עוד אין מנצח וגם הלוח לא מלא:\n",
        "        <ul>\n",
        "            <li>אם מספר המהלך זוגי – בצע מהלך שחקן <em>O</em>.</li>\n",
        "            <li>אם מספר המהלך אי־זוגי – בצע מהלך שחקן <em>X</em>.</li>\n",
        "        </ul>\n",
        "    </li>\n",
        "    <li>הגדל את מונה המהלכים ב־1. </li>\n",
        "    <li>אם יש ניצחון – הכרז על המנצח, אחרת הכרז תיקו.</li>\n",
        "</ol>\n",
        "<p style=\"text-align: right; direction: rtl; float: right; clear: both;\">\n",
        "    ממשו את המשחק על פי הפונקציות שיצרתם ועל פי תיאור מהלך המשחק.\n",
        "</p>"
      ]
    },
    {
      "cell_type": "code",
      "execution_count": 81,
      "metadata": {
        "id": "5kKc4vNfmIwm"
      },
      "outputs": [],
      "source": [
        "def tic_tac_toe(board_size):\n",
        "  max_turn_num = board_size * board_size\n",
        "  current_turn = 0\n",
        "  board = [['-' for i in range(board_size)] for j in range(board_size)]\n",
        "  game_not_over = True\n",
        "\n",
        "  while game_not_over:\n",
        "    if current_turn % 2 == 0:\n",
        "      player = 'O'\n",
        "    else:\n",
        "      player = 'X'\n",
        "\n",
        "    make_turn(player, board)\n",
        "\n",
        "    victor = check_board(board)\n",
        "    if victor:\n",
        "      print(f\"The victor is {player}!!!\")\n",
        "      game_not_over = False\n",
        "\n",
        "    current_turn += 1\n",
        "    if current_turn >= 9:\n",
        "      game_not_over = False\n",
        "\n",
        "\n"
      ]
    },
    {
      "cell_type": "code",
      "source": [
        "tic_tac_toe(3)"
      ],
      "metadata": {
        "id": "PRgsByh6-l8L",
        "outputId": "a44bc246-ddf1-4229-eabb-a5815bd3d732",
        "colab": {
          "base_uri": "https://localhost:8080/"
        }
      },
      "execution_count": 86,
      "outputs": [
        {
          "output_type": "stream",
          "name": "stdout",
          "text": [
            "Player 'O' Please choose cell:0 0\n",
            "[\n",
            "['O', '-', '-']\n",
            "['-', '-', '-']\n",
            "['-', '-', '-']\n",
            "]\n",
            "Player 'X' Please choose cell:2 1\n",
            "[\n",
            "['O', '-', '-']\n",
            "['-', '-', '-']\n",
            "['-', 'X', '-']\n",
            "]\n",
            "Player 'O' Please choose cell:1 1\n",
            "[\n",
            "['O', '-', '-']\n",
            "['-', 'O', '-']\n",
            "['-', 'X', '-']\n",
            "]\n",
            "Player 'X' Please choose cell:0 2\n",
            "[\n",
            "['O', '-', 'X']\n",
            "['-', 'O', '-']\n",
            "['-', 'X', '-']\n",
            "]\n",
            "Player 'O' Please choose cell:2 2\n",
            "[\n",
            "['O', '-', 'X']\n",
            "['-', 'O', '-']\n",
            "['-', 'X', 'O']\n",
            "]\n",
            "The victor is O!!!\n"
          ]
        }
      ]
    },
    {
      "cell_type": "markdown",
      "metadata": {
        "id": "_uD30ya1mIwn"
      },
      "source": [
        "<p style=\"text-align: right; direction: rtl; float: right; clear: both;\">\n",
        "    כעת שחקו עם בני משפחה וחברים ;)\n",
        "</p>"
      ]
    },
    {
      "cell_type": "markdown",
      "metadata": {
        "id": "wg_zzGtdmIwn"
      },
      "source": [
        "## <span style=\"text-align: right; direction: rtl; float: right; clear: both;\">בנק 2.0</span>"
      ]
    },
    {
      "cell_type": "markdown",
      "metadata": {
        "id": "qYKKs7iimIwn"
      },
      "source": [
        "<p style=\"text-align: right; direction: rtl; float: right; clear: both;\">\n",
        "    מנהלי הבנק היו מרוצים מאוד מהתוכנה הקודמת לניהול בנק שכתבתם וכעת הם מעוניינים לשפר אותה.<br>\n",
        "    תחילה הם הביעו דאגה מחוזק הסיסמאות. מנגנון הסיסמאות הקודם היה חלש ומנהלי הבנק מפחדים שייעשה בו שימוש לרעה.<br>\n",
        "    שמועות מתפשטות מהר מאוד ומנהלי הבנק שמעו שמימשתם גרסה לפונקציית גיבוב. הם מעוניינים להשתמש בה במנגנון הסיסמאות החדש.\n",
        "</p>\n",
        "\n",
        "<p style=\"text-align: right; direction: rtl; float: right; clear: both;\">\n",
        "    מנגנון הסיסמאות ינוהל כך:\n",
        "</p>\n",
        "\n",
        "<ol style=\"text-align: right; direction: rtl; float: right; clear: both;\">\n",
        "    <li>הבנק ינהל קובץ סיסמאות שייקרא bank_passwd.txt.</li>\n",
        "    <li>כאשר משתמש יפתח חשבון בנק, הוא יכניס את הסיסמה שהוא מעוניין שתשמש אותו בהתחברות הבאה.</li>\n",
        "    <li>נחשב את ה־hash של הסיסמה הזו באמצעות פונקציית ה־hash שכתבנו בתחילת מחברת זו.</li>\n",
        "    <li>הבנק ישמור את שם המשתמש ותוצאת ה־hash בקובץ הסיסמאות בצורה קבועה מראש.</li>\n",
        "</ol>\n",
        "\n",
        "<p style=\"text-align: right; direction: rtl; float: right; clear: both;\">\n",
        "    כל סיסמה של משתמש תישמר בקובץ בצורה: <samp>username:62242</samp>,<br>\n",
        "    כאשר <samp>username</samp> הוא שם המשתמש שנרשם בפתיחת החשבון, ו־<samp>62242</samp> הוא תוצאת ה־hash עבור הסיסמה שבחר.\n",
        "</p>"
      ]
    },
    {
      "cell_type": "markdown",
      "metadata": {
        "id": "PvTQOy2SmIwn"
      },
      "source": [
        "### <span style=\"text-align: right; direction: rtl; float: right; clear: both;\">פתיחת חשבון בנק</span>"
      ]
    },
    {
      "cell_type": "markdown",
      "metadata": {
        "id": "fNbAsT1BmIwn"
      },
      "source": [
        "<p style=\"text-align:right;direction:rtl;\">בסעיף זה נממש את פונקציית פתיחת חשבון הבנק.<br>\n",
        "    הפונקציה תקבל שם משתמש וסיסמה, ותיצור רשומה חדשה בקובץ הסיסמאות עבור המשתמש שביקש להצטרף לבנק.<br>\n",
        "    כיוון שהבנק שלנו לא עבר לעבוד עם מספרי חשבון, עלינו לוודא ששם המשתמש שנבחר לא קיים כבר בבנק. אם קיים כזה, נדפיס שגיאה ולא נבצע דבר.<br>\n",
        "    אם לא קיים שם משתמש כזה, נחשב את ה־hash של הסיסמה שהזין, ונוסיף לסוף הקובץ רשומה חדשה בייצוג שצוין בתחילת השאלה.\n",
        "</p>"
      ]
    },
    {
      "cell_type": "code",
      "source": [
        "import os.path"
      ],
      "metadata": {
        "id": "bxQQnlMHCnjE"
      },
      "execution_count": 91,
      "outputs": []
    },
    {
      "cell_type": "code",
      "source": [
        "FILE_PATH = '/content/bank_passwd.txt'\n",
        "def register_to_bank(username, passwd):\n",
        "\n",
        "  with open(FILE_PATH, \"a+\") as f:\n",
        "    f.seek(0)\n",
        "    users = [line.rstrip('\\n') for line in f]\n",
        "\n",
        "    users = [user.split(\":\") for user in users]\n",
        "    for user in users:\n",
        "      if username == user[0]:\n",
        "        print(f\"An account with name \\\"{username}\\\" already exists.\\nAccount was not created.\")\n",
        "        return\n",
        "    f.write(username + \":\" + str(myhash(passwd)) + \"\\n\")\n",
        "    print(f\"Account with name \\\"{username}\\\" was created and added to the bank.\")\n"
      ],
      "metadata": {
        "id": "HFbJ3KThAslw"
      },
      "execution_count": 176,
      "outputs": []
    },
    {
      "cell_type": "code",
      "source": [],
      "metadata": {
        "id": "KxC3cBc8Pd0y"
      },
      "execution_count": null,
      "outputs": []
    },
    {
      "cell_type": "code",
      "source": [
        "register_to_bank(\"FreddieMercury\", \"56443\")"
      ],
      "metadata": {
        "id": "_qO69rrnCapA",
        "outputId": "8eee4f1f-134d-45ad-dfa4-952bac5c6c2f",
        "colab": {
          "base_uri": "https://localhost:8080/"
        }
      },
      "execution_count": 182,
      "outputs": [
        {
          "output_type": "stream",
          "name": "stdout",
          "text": [
            "Account with name \"FreddieMercury\" was created and added to the bank.\n"
          ]
        }
      ]
    },
    {
      "cell_type": "code",
      "source": [
        "register_to_bank(\"FreddieMercury\", \"56443\")"
      ],
      "metadata": {
        "id": "2LS8rB8iFpJX",
        "outputId": "b2e97b5c-ebba-4a22-d02f-c500282bff6a",
        "colab": {
          "base_uri": "https://localhost:8080/"
        }
      },
      "execution_count": 142,
      "outputs": [
        {
          "output_type": "stream",
          "name": "stdout",
          "text": [
            "An account with name \"FreddieMercury\" already exists.\n",
            "Account was not created.\n"
          ]
        }
      ]
    },
    {
      "cell_type": "markdown",
      "metadata": {
        "id": "pL2ryUPymIwn"
      },
      "source": [
        "#### <span style=\"text-align: right; direction: rtl; float: right; clear: both;\">דוגמאות</span>"
      ]
    },
    {
      "cell_type": "markdown",
      "metadata": {
        "id": "3n1olrpbmIwo"
      },
      "source": [
        "<p style=\"text-align: right; direction: rtl; float: right; clear: both;\">\n",
        "תוכן קובץ הסיסמאות (לצורך הדוגמה):\n",
        "</p>\n",
        "\n",
        "<samp>FreddieMercury:56443</samp><br>\n",
        "<samp>BBKing:33471</samp><br>\n",
        "<samp>DonaldDuck:17743</samp><br><br>\n",
        "<code>register_to_bank('FreddieMercury', 'ILoveQueen')</code><br>\n",
        "<samp>An account with name \"FreddieMercury\" already exists.<br>Account was not created.</samp><br><br>\n",
        "<code>register_to_bank('Simba', 'ILoveNala')</code><br>\n",
        "<samp>Account with name \"Simba\" was created and added to the bank.</samp><br><br>\n",
        "\n",
        "<p style=\"text-align: right; direction: rtl; float: right; clear: both;\">\n",
        "    תוכן קובץ הסיסמאות כעת:\n",
        "</p>\n",
        "\n",
        "<samp>FreddieMercury:56443</samp><br>\n",
        "<samp>BBKing:19463</samp><br>\n",
        "<samp>DonaldDuck:17743</samp><br>\n",
        "<samp>Simba:6362</samp><br>"
      ]
    },
    {
      "cell_type": "markdown",
      "metadata": {
        "id": "Hznn5WPLmIwo"
      },
      "source": [
        "#### <span style=\"text-align: right; direction: rtl; float: right; clear: both;\">תרגיל</span>"
      ]
    },
    {
      "cell_type": "markdown",
      "metadata": {
        "id": "WKEi-AAKmIwo"
      },
      "source": [
        "<p style=\"text-align: right; direction: rtl; float: right; clear: both;\">ממשו את פונקציית הרישום.</p>\n",
        "<p style=\"text-align: right; direction: rtl; float: right; clear: both;\">רמזים:</p>\n",
        "\n",
        "<ul style=\"text-align: right; direction: rtl; float: right; clear: both;\">\n",
        "    <li style=\"direction: rtl; background: #000; color: #000\">קראו את המידע מהקובץ לתוך רשימה, זכרו שכל שורה היא מחרוזת וניתן להפעיל עליה פעולות של מחרוזות כדי לחלץ את שם המשתמש.</li>\n",
        "    <li style=\"direction: rtl; background: #000; color: #000\">כאשר פותחים קובץ במצב הוספה, ניתן להוסיף אליו נתונים מבלי למחוק את הקיימים. קראו על פונקציית open וחפשו כיצד עושים זאת.</li>\n",
        "</ul>"
      ]
    },
    {
      "cell_type": "markdown",
      "metadata": {
        "id": "hPkdcj3WmIwo"
      },
      "source": [
        "### <span style=\"text-align: right; direction: rtl; float: right; clear: both;\">מערכת הזדהות</span>"
      ]
    },
    {
      "cell_type": "markdown",
      "metadata": {
        "id": "owx_nfkFmIwo"
      },
      "source": [
        "<p style=\"text-align: right; direction: rtl; float: right; clear: both;\">\n",
        "    בעקבות השיפור במנגנון חוזק הסיסמאות, הצטרפו לקוחות רבים לבנק.<br>\n",
        "    המנהלים מרוצים וכעת רוצים שתממשו עבורם מערכת הזדהות שעובדת עם קובץ הסיסמאות.\n",
        "</p>\n",
        "\n",
        "<p style=\"text-align: right; direction: rtl; float: right; clear: both;\">\n",
        "    מערכת ההזדהות תעבוד כך:\n",
        "</p>\n",
        "\n",
        "<ul style=\"text-align: right; direction: rtl; float: right; clear: both;\">\n",
        "    <li>הלקוח יזין שם משתמש וסיסמה.\n",
        "        <ul>\n",
        "            <li>אם המשתמש לא קיים, נדפיס <samp>Account not registered</samp>, ונסיים.</li>\n",
        "            <li>אם הלקוח קיים, אך הסיסמה שהזין שגויה – יש ללקוח עוד 2 נסיונות להזין סיסמה נכונה.</li>\n",
        "        </ul>\n",
        "    </li>\n",
        "    <li>למשתמש ינתנו 3 ניסיונות בסך הכול להכניס סיסמה נכונה.\n",
        "        <ul>\n",
        "            <li>אם הזין סיסמה שגויה בשלושתם – הרשומה שלו תימחק מקובץ הסיסמאות, ויהיה עליו להירשם מחדש בעתיד.</li>\n",
        "            <li>אחרת, הזיהוי הצליח.</li>\n",
        "        </ul>\n",
        "    </li>\n",
        "</ul>\n",
        "\n",
        "<p style=\"text-align: right; direction: rtl; float: right; clear: both;\">\n",
        "    מערכת ההזדהות הינה פונקציה המקבלת שם משתמש וסיסמה.<br>\n",
        "    היא מחזירה <samp>True</samp> אם הזיהוי הצליח, ו־<samp>False</samp> אחרת.\n",
        "</p>"
      ]
    },
    {
      "cell_type": "markdown",
      "metadata": {
        "id": "mllHOaN2mIwo"
      },
      "source": [
        "#### <span style=\"text-align: right; direction: rtl; float: right; clear: both;\">דוגמאות</span>"
      ]
    },
    {
      "cell_type": "markdown",
      "metadata": {
        "id": "9INyETxmmIwo"
      },
      "source": [
        "<p style=\"text-align: right; direction: rtl; float: right; clear: both;\">\n",
        "    תוכן קובץ הסיסמאות (לצורך הדוגמה):\n",
        "</p>\n",
        "\n",
        "<br>\n",
        "\n",
        "<samp>FreddieMercury:61875</samp><br>\n",
        "<samp>BBKing:33471</samp><br>\n",
        "<samp>DonaldDuck:17743</samp><br>\n",
        "<samp>Simba:6362</samp><br><br>\n",
        "<code>authenticate('FreddieMercury', 'ILoveQueen')</code><br>\n",
        "<samp>Wrong password (1/3).  # myhash('ILoveQueen') = 99597 != 61875 (in password file)</samp><br><br>\n",
        "<code>authenticate('FreddieMercury', 'LetItBe')</code><br>\n",
        "<samp>Wrong password (2/3).  # myhash('LetItBe') = 58060 != 61875 (in password file)</samp><br><br>\n",
        "<code>authenticate('FreddieMercury', 'HeyJude')</code><br>\n",
        "<samp>Wrong password (3/3). 'FreddieMercury' was removed.  # myhash('HeyJude') = 8309 != 61875 (in password file)</samp><br><br>\n",
        "<code>authenticate('FreddieMercury', 'IHatePasswords!')</code><br>\n",
        "<samp>Account not registered.  # FreddieMercury was removed in the previous example</samp><br><br>\n",
        "\n",
        "<code>authenticate('Simba', 'ILoveNala')</code><br>\n",
        "<samp>Welcome 'Simba'.  # myhash('ILoveNala') = 6362 == 6362 (in password file)</samp><br><br>\n",
        "\n",
        "<p style=\"text-align: right; direction: rtl; float: right; clear: both;\">\n",
        "    תוכן קובץ הסיסמאות כעת:\n",
        "</p>\n",
        "\n",
        "<br>\n",
        "\n",
        "<samp>BBKing:19463</samp><br>\n",
        "<samp>DonaldDuck:17743</samp><br>\n",
        "<samp>Simba:6362</samp><br>"
      ]
    },
    {
      "cell_type": "markdown",
      "metadata": {
        "id": "Y92QgffNmIwp"
      },
      "source": [
        "#### <span style=\"text-align: right; direction: rtl; float: right; clear: both;\">תרגול</span>"
      ]
    },
    {
      "cell_type": "markdown",
      "metadata": {
        "id": "FcAJv8ntmIwp"
      },
      "source": [
        "<p style=\"text-align: right; direction: rtl; float: right; clear: both;\">\n",
        "    ממשו את מערכת ההזדהות.\n",
        "</p>"
      ]
    },
    {
      "cell_type": "code",
      "execution_count": 215,
      "metadata": {
        "id": "xOgnk5XQmIwp"
      },
      "outputs": [],
      "source": [
        "TRIES_AMOUNT = 3\n",
        "USERNAME_TO_TRIES = {}\n",
        "\n",
        "def authenticate(username,password):\n",
        "  to_remove = False\n",
        "  with open(FILE_PATH, \"r\") as f:\n",
        "    f.seek(0)\n",
        "    users = [line.rstrip('\\n') for line in f]\n",
        "\n",
        "    users = [user.split(\":\") for user in users]\n",
        "    users_to_passwords = {user[0]: user[1] for user in users}\n",
        "\n",
        "    if username not in users_to_passwords:\n",
        "      print(\"Account not registered\")\n",
        "\n",
        "    elif int(users_to_passwords[username]) != int(myhash(password)):\n",
        "      if username in USERNAME_TO_TRIES:\n",
        "        USERNAME_TO_TRIES[username] += 1\n",
        "        if USERNAME_TO_TRIES[username] == TRIES_AMOUNT:\n",
        "          print(f\"Wrong password ({TRIES_AMOUNT}/{TRIES_AMOUNT}). \\'{username}\\' was removed.\")\n",
        "          USERNAME_TO_TRIES.pop(username)\n",
        "          to_remove = True\n",
        "\n",
        "      else:\n",
        "        USERNAME_TO_TRIES[username] = 1\n",
        "      if not to_remove:\n",
        "        print(f\"Wrong password ({USERNAME_TO_TRIES[username]}/{TRIES_AMOUNT}).\")\n",
        "\n",
        "    else:\n",
        "      print(f\"Welcome '{username}'.\")\n",
        "\n",
        "  if to_remove:\n",
        "    remove_user(username)\n",
        "\n",
        "def remove_user(username):\n",
        "  with open(FILE_PATH, \"r\") as f:\n",
        "    f.seek(0)\n",
        "    lines = f.readlines()\n",
        "    with open(FILE_PATH, \"w\") as f:\n",
        "      for line in lines:\n",
        "        stripped_line = line.strip(\"\\n\")\n",
        "        line_username = stripped_line.split(\":\")[0]\n",
        "        if line_username != username:\n",
        "            f.write(line)\n",
        "\n"
      ]
    },
    {
      "cell_type": "code",
      "source": [
        "authenticate(\"FreddieMercury\", \"1\")"
      ],
      "metadata": {
        "id": "gyAt9WKhNj-u",
        "outputId": "81f565fd-c9c1-415f-854b-f8c03154a8e5",
        "colab": {
          "base_uri": "https://localhost:8080/"
        }
      },
      "execution_count": 216,
      "outputs": [
        {
          "output_type": "stream",
          "name": "stdout",
          "text": [
            "Account not registered\n"
          ]
        }
      ]
    },
    {
      "cell_type": "code",
      "source": [
        "authenticate(\"FreddieMercury\", \"56443\")"
      ],
      "metadata": {
        "id": "577IGk1DOSmB",
        "outputId": "566f26f2-ef61-41b3-c028-9218827a43b6",
        "colab": {
          "base_uri": "https://localhost:8080/"
        }
      },
      "execution_count": 173,
      "outputs": [
        {
          "output_type": "stream",
          "name": "stdout",
          "text": [
            "Account not registered\n"
          ]
        }
      ]
    }
  ],
  "metadata": {
    "kernelspec": {
      "display_name": "Python 3",
      "language": "python",
      "name": "python3"
    },
    "language_info": {
      "codemirror_mode": {
        "name": "ipython",
        "version": 3
      },
      "file_extension": ".py",
      "mimetype": "text/x-python",
      "name": "python",
      "nbconvert_exporter": "python",
      "pygments_lexer": "ipython3",
      "version": "3.7.1"
    },
    "colab": {
      "provenance": []
    }
  },
  "nbformat": 4,
  "nbformat_minor": 0
}