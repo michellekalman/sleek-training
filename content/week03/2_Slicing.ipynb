{
  "cells": [
    {
      "cell_type": "markdown",
      "metadata": {
        "id": "Ah-R3_4fwW6B"
      },
      "source": [
        "<img src=\"https://github.com/PythonFreeCourse/Notebooks/blob/main/content/week03/images/logo.jpg?raw=1\" style=\"display: block; margin-left: auto; margin-right: auto;\" alt=\"לוגו של מיזם לימוד הפייתון. נחש מצויר בצבעי צהוב וכחול, הנע בין האותיות של שם הקורס: לומדים פייתון. הסלוגן המופיע מעל לשם הקורס הוא מיזם חינמי ללימוד תכנות בעברית.\">"
      ]
    },
    {
      "cell_type": "markdown",
      "metadata": {
        "id": "sq3aoTgcwW6F"
      },
      "source": [
        "# <p style=\"text-align: right; direction: rtl; float: right;\">חיתוך / Slicing</p>"
      ]
    },
    {
      "cell_type": "markdown",
      "metadata": {
        "id": "vbP7_3_DwW6G"
      },
      "source": [
        "## <p style=\"text-align: right; direction: rtl; float: right; clear: both;\">הקדמה</p>"
      ]
    },
    {
      "cell_type": "markdown",
      "metadata": {
        "id": "lsZCk2_dwW6G"
      },
      "source": [
        "<p style=\"text-align: right; direction: rtl; float: right; clear: both;\">\n",
        "    בשבוע שעבר למדנו כיצד לגשת לרשימה או למחרוזת במיקום מסוים:\n",
        "</p>"
      ]
    },
    {
      "cell_type": "code",
      "execution_count": 1,
      "metadata": {
        "id": "Zs_5Ac6uwW6H",
        "outputId": "106af929-d630-48fd-a6d6-d1c6eb82ff3e",
        "colab": {
          "base_uri": "https://localhost:8080/"
        }
      },
      "outputs": [
        {
          "output_type": "stream",
          "name": "stdout",
          "text": [
            "The 1st character is: A\n",
            "The 6th character is: t\n",
            "The last character is: .\n",
            "great_quote_by_words = ['Accept', 'who', 'you', 'are.', 'Unless', \"you're\", 'a', 'serial', 'killer.']\n",
            "The 1st word is: Accept\n"
          ]
        }
      ],
      "source": [
        "great_quote = \"Accept who you are. Unless you're a serial killer.\"\n",
        "print(\"The 1st character is: \" + great_quote[0])\n",
        "print(\"The 6th character is: \" + great_quote[5])\n",
        "print(\"The last character is: \" + great_quote[-1])\n",
        "great_quote_by_words = great_quote.split()\n",
        "print(\"great_quote_by_words = \" + str(great_quote_by_words))\n",
        "print(\"The 1st word is: \" + great_quote_by_words[0])"
      ]
    },
    {
      "cell_type": "markdown",
      "metadata": {
        "id": "pywJS5nuwW6I"
      },
      "source": [
        "<p style=\"text-align: right; direction: rtl; float: right; clear: both;\">\n",
        "    זוהי יכולת שימושית מאוד, אך לעיתים עולה הצורך לקחת <em>כמה איברים</em> מתוך המשתנה שהגדרנו, ולבנות מהם רשימה חדשה או מחרוזת חדשה.<br>\n",
        "    קחו לדוגמה את המקרה הבא, שבו התגנב למחרוזת שלנו מספר מיותר שהיינו שמחים להעלים:\n",
        "</p>"
      ]
    },
    {
      "cell_type": "code",
      "execution_count": 2,
      "metadata": {
        "id": "b0LMG4pvwW6I"
      },
      "outputs": [],
      "source": [
        "word = \"Avoc42ado\""
      ]
    },
    {
      "cell_type": "markdown",
      "metadata": {
        "id": "jj1vIG6TwW6J"
      },
      "source": [
        "<div class=\"align-center\" style=\"display: flex; text-align: right; direction: rtl; clear: both;\">\n",
        "    <div style=\"display: flex; width: 10%; float: right; clear: both;\">\n",
        "        <img src=\"https://github.com/PythonFreeCourse/Notebooks/blob/main/content/week03/images/exercise.svg?raw=1\" style=\"height: 50px !important;\" alt=\"תרגול\">\n",
        "    </div>\n",
        "    <div style=\"width: 90%\">\n",
        "        <p style=\"text-align: right; direction: rtl; float: right; clear: both;\">\n",
        "        ממשו דרך המאפשרת להדפיס את המחרוזת ללא המספר.<br>\n",
        "        חשבו על דרך נוספת לעשות זאת.\n",
        "        </p>\n",
        "    </div>\n",
        "</div>"
      ]
    },
    {
      "cell_type": "markdown",
      "metadata": {
        "id": "BJAKMProwW6J"
      },
      "source": [
        "## <p style=\"text-align: right; direction: rtl; float: right; clear: both;\">הגדרה</p>"
      ]
    },
    {
      "cell_type": "markdown",
      "metadata": {
        "id": "nixBFxpEwW6J"
      },
      "source": [
        "<p style=\"text-align: right; direction: rtl; float: right; clear: both;\">\n",
        "<dfn>חיתוך</dfn> (או <dfn>Slicing</dfn>) היא שיטה שמטרתה להשיג חלק מהאיברים של ערך מסוים.<br>\n",
        "במחרוזת, חיתוך יעזור לנו לקבל תת־מחרוזת מתוך המחרוזת השלמה.<br>\n",
        "ברשימה, חיתוך יעזור לנו לקבל תת־רשימה מתוך הרשימה השלמה.<br>\n",
        "</p>"
      ]
    },
    {
      "cell_type": "markdown",
      "metadata": {
        "id": "UDKxko3_wW6J"
      },
      "source": [
        "## <p style=\"text-align: right; direction: rtl; float: right;\">חיתוך בפייתון</p>"
      ]
    },
    {
      "cell_type": "markdown",
      "metadata": {
        "id": "hr6u20vPwW6J"
      },
      "source": [
        "### <p style=\"text-align: right; direction: rtl; float: right;\">חיתוך לפי טווח</p>"
      ]
    },
    {
      "cell_type": "markdown",
      "metadata": {
        "id": "6XmFO8zfwW6K"
      },
      "source": [
        "<p style=\"text-align: right; direction: rtl; float: right; clear: both;\">\n",
        "נבחן את המחרוזת הבאה:\n",
        "</p>"
      ]
    },
    {
      "cell_type": "code",
      "execution_count": null,
      "metadata": {
        "id": "fOVpHOyVwW6K"
      },
      "outputs": [],
      "source": [
        "word = 'Avoc42ado'"
      ]
    },
    {
      "cell_type": "markdown",
      "metadata": {
        "id": "4WOraIsswW6K"
      },
      "source": [
        "<p style=\"text-align: right; direction: rtl; float: right; clear: both;\">\n",
        "מטרתנו תהיה \"לחלץ\" את החלק הראשון של המחרוזת, זה שנמצא לפני ה־42,  באמצעות חיתוך.<br>\n",
        "לשם כך, נביט על המיקום של כל אות:\n",
        "</p>"
      ]
    },
    {
      "cell_type": "markdown",
      "metadata": {
        "id": "NE_GZ1SowW6K"
      },
      "source": [
        "<table style=\"font-size: 2rem; border: 0px solid black; border-spacing: 0px;\">\n",
        "    <tr>\n",
        "        <td style=\"padding-left: 4px; padding-top: 2px; padding-bottom: 3px; font-size: 1.3rem; color: #777;  text-align: left; border-bottom: 1px solid;\">0</td>\n",
        "        <td style=\"padding-left: 4px; padding-top: 2px; padding-bottom: 3px; font-size: 1.3rem; color: #777;  text-align: left; border-left: 1px solid #555555; border-bottom: 1px solid;\">1</td>\n",
        "        <td style=\"padding-left: 4px; padding-top: 2px; padding-bottom: 3px; font-size: 1.3rem; color: #777;  text-align: left; border-left: 1px solid #555555; border-bottom: 1px solid;\">2</td>\n",
        "        <td style=\"padding-left: 4px; padding-top: 2px; padding-bottom: 3px; font-size: 1.3rem; color: #777;  text-align: left; border-left: 1px solid #555555; border-bottom: 1px solid;\">3</td>\n",
        "        <td style=\"padding-left: 4px; padding-top: 2px; padding-bottom: 3px; font-size: 1.3rem; color: #777;  text-align: left; border-left: 1px solid #555555; border-bottom: 1px solid;\">4</td>\n",
        "        <td style=\"padding-left: 4px; padding-top: 2px; padding-bottom: 3px; font-size: 1.3rem; color: #777;  text-align: left; border-left: 1px solid #555555; border-bottom: 1px solid;\">5</td>\n",
        "        <td style=\"padding-left: 4px; padding-top: 2px; padding-bottom: 3px; font-size: 1.3rem; color: #777;  text-align: left; border-left: 1px solid #555555; border-bottom: 1px solid;\">6</td>\n",
        "        <td style=\"padding-left: 4px; padding-top: 2px; padding-bottom: 3px; font-size: 1.3rem; color: #777;  text-align: left; border-left: 1px solid #555555; border-bottom: 1px solid;\">7</td>\n",
        "        <td style=\"padding-left: 4px; padding-top: 2px; padding-bottom: 3px; font-size: 1.3rem; color: #777;  text-align: left; border-left: 1px solid #555555; border-bottom: 1px solid;\">8</td>\n",
        "    </tr>\n",
        "    <tbody>\n",
        "        <tr>\n",
        "            <td style=\"padding-top: 8px; padding-bottom: 8px; padding-left: 10px; padding-right: 10px; vertical-align: bottom; border: 2px solid;\">\"A\"</td>\n",
        "            <td style=\"padding-top: 8px; padding-bottom: 8px; padding-left: 10px; padding-right: 10px; vertical-align: bottom; border: 2px solid;\">\"v\"</td>\n",
        "            <td style=\"padding-top: 8px; padding-bottom: 8px; padding-left: 10px; padding-right: 10px; vertical-align: bottom; border: 2px solid;\">\"o\"</td>\n",
        "            <td style=\"padding-top: 8px; padding-bottom: 8px; padding-left: 10px; padding-right: 10px; vertical-align: bottom; border: 2px solid;\">\"c\"</td>\n",
        "            <td style=\"padding-top: 8px; padding-bottom: 8px; padding-left: 10px; padding-right: 10px; vertical-align: bottom; border: 2px solid;\">\"4\"</td>\n",
        "            <td style=\"padding-top: 8px; padding-bottom: 8px; padding-left: 10px; padding-right: 10px; vertical-align: bottom; border: 2px solid;\">\"2\"</td>\n",
        "            <td style=\"padding-top: 8px; padding-bottom: 8px; padding-left: 10px; padding-right: 10px; vertical-align: bottom; border: 2px solid;\">\"a\"</td>\n",
        "            <td style=\"padding-top: 8px; padding-bottom: 8px; padding-left: 10px; padding-right: 10px; vertical-align: bottom; border: 2px solid;\">\"d\"</td>\n",
        "            <td style=\"padding-top: 8px; padding-bottom: 8px; padding-left: 10px; padding-right: 10px; vertical-align: bottom; border: 2px solid;\">\"o\"</td>\n",
        "        </tr>\n",
        "        <tr style=\"background: #f5f5f5;\">\n",
        "            <td style=\"padding-left: 4px; padding-top: 2px; padding-bottom: 3px; font-size: 1.3rem; color: #777; text-align: right;\">-9</td>\n",
        "            <td style=\"padding-left: 4px; padding-top: 2px; padding-bottom: 3px; font-size: 1.3rem; color: #777; text-align: right; border-left: 1px solid #555555;\">-8</td>\n",
        "            <td style=\"padding-left: 4px; padding-top: 2px; padding-bottom: 3px; font-size: 1.3rem; color: #777; text-align: right; border-left: 1px solid #555555;\">-7</td>\n",
        "            <td style=\"padding-left: 4px; padding-top: 2px; padding-bottom: 3px; font-size: 1.3rem; color: #777; text-align: right; border-left: 1px solid #555555;\">-6</td>\n",
        "            <td style=\"padding-left: 4px; padding-top: 2px; padding-bottom: 3px; font-size: 1.3rem; color: #777; text-align: right; border-left: 1px solid #555555;\">-5</td>\n",
        "            <td style=\"padding-left: 4px; padding-top: 2px; padding-bottom: 3px; font-size: 1.3rem; color: #777; text-align: right; border-left: 1px solid #555555;\">-4</td>\n",
        "            <td style=\"padding-left: 4px; padding-top: 2px; padding-bottom: 3px; font-size: 1.3rem; color: #777; text-align: right; border-left: 1px solid #555555;\">-3</td>\n",
        "            <td style=\"padding-left: 4px; padding-top: 2px; padding-bottom: 3px; font-size: 1.3rem; color: #777; text-align: right; border-left: 1px solid #555555;\">-2</td>\n",
        "            <td style=\"padding-left: 4px; padding-top: 2px; padding-bottom: 3px; font-size: 1.3rem; color: #777; text-align: right; border-left: 1px solid #555555;\">-1</td>\n",
        "        </tr>\n",
        "    </tbody>\n",
        "</table>"
      ]
    },
    {
      "cell_type": "markdown",
      "metadata": {
        "id": "jWUE5peSwW6K"
      },
      "source": [
        "<p style=\"text-align: right; direction: rtl; float: right; clear: both;\">\n",
        "לפי השרטוט, אנחנו רוצים לחתוך ממיקום 0 ועד מיקום 3.<br>\n",
        "נבקש מפייתון את המיקומים בצורה הבאה:<br>\n",
        "</p>"
      ]
    },
    {
      "cell_type": "markdown",
      "metadata": {
        "id": "1yscITarwW6K"
      },
      "source": [
        "<ol style=\"text-align: right; direction: rtl; float: right; clear: both;\">\n",
        "    <li>נפתח סוגריים מרובעים.</li>\n",
        "    <li>מייד אחריהם, נציין את המיקום שממנו נתחיל לקחת איברים.</li>\n",
        "    <li>נשים נקודתיים.</li>\n",
        "    <li>מייד אחריהן, נציין מיקום <em>הגדול באחד</em> מהמקום שבו נסיים. פייתון לא תתחשב באיבר שבמיקום הזה.</li>\n",
        "    <li>נסגור סוגריים מרובעים.</li>\n",
        "</ol>"
      ]
    },
    {
      "cell_type": "code",
      "execution_count": null,
      "metadata": {
        "id": "IQTd97c_wW6L"
      },
      "outputs": [],
      "source": [
        "#    0 to 4 - Not 0 to 3\n",
        "word[0:4]"
      ]
    },
    {
      "cell_type": "markdown",
      "metadata": {
        "id": "5_sHhu16wW6L"
      },
      "source": [
        "<table style=\"font-size: 2rem; border: 0px solid black;\tborder-collapse: collapse; border-spacing: 0px;\">\n",
        "    <tr>\n",
        "        <td style=\"padding-left: 4px; padding-top: 2px; padding-bottom: 3px; font-size: 1.3rem; color: #777;  text-align: left; border-bottom: 1px solid;\">0</td>\n",
        "        <td style=\"padding-left: 4px; padding-top: 2px; padding-bottom: 3px; font-size: 1.3rem; color: #777;  text-align: left; border-left: 1px solid #555555; border-bottom: 1px solid;\">1</td>\n",
        "        <td style=\"padding-left: 4px; padding-top: 2px; padding-bottom: 3px; font-size: 1.3rem; color: #777;  text-align: left; border-left: 1px solid #555555; border-bottom: 1px solid;\">2</td>\n",
        "        <td style=\"padding-left: 4px; padding-top: 2px; padding-bottom: 3px; font-size: 1.3rem; color: #777;  text-align: left; border-left: 1px solid #555555; border-bottom: 1px solid;\">3</td>\n",
        "        <td style=\"padding-left: 4px; padding-top: 2px; padding-bottom: 3px; font-size: 1.3rem; color: #777;  text-align: left; border-left: 1px solid #555555; border-bottom: 1px solid; background-image: linear-gradient(45deg, orange, orange 7px, transparent 5px, transparent); border-bottom: None;\">4</td>\n",
        "        <td style=\"padding-left: 4px; padding-top: 2px; padding-bottom: 3px; font-size: 1.3rem; color: #777;  text-align: left; border-left: 1px solid #555555; border-bottom: 1px solid;\">5</td>\n",
        "        <td style=\"padding-left: 4px; padding-top: 2px; padding-bottom: 3px; font-size: 1.3rem; color: #777;  text-align: left; border-left: 1px solid #555555; border-bottom: 1px solid;\">6</td>\n",
        "        <td style=\"padding-left: 4px; padding-top: 2px; padding-bottom: 3px; font-size: 1.3rem; color: #777;  text-align: left; border-left: 1px solid #555555; border-bottom: 1px solid;\">7</td>\n",
        "        <td style=\"padding-left: 4px; padding-top: 2px; padding-bottom: 3px; font-size: 1.3rem; color: #777;  text-align: left; border-left: 1px solid #555555; border-bottom: 1px solid;\">8</td>\n",
        "    </tr>\n",
        "    <tbody>\n",
        "        <tr>\n",
        "            <td style=\"padding-top: 8px; padding-bottom: 8px; padding-left: 10px; padding-right: 10px; vertical-align: bottom; border: 2px solid; border-top-color: orange;\">\"A\"</td>\n",
        "            <td style=\"padding-top: 8px; padding-bottom: 8px; padding-left: 10px; padding-right: 10px; vertical-align: bottom; border: 2px solid; border-top-color: orange;\">\"v\"</td>\n",
        "            <td style=\"padding-top: 8px; padding-bottom: 8px; padding-left: 10px; padding-right: 10px; vertical-align: bottom; border: 2px solid; border-top-color: orange;\">\"o\"</td>\n",
        "            <td style=\"padding-top: 8px; padding-bottom: 8px; padding-left: 10px; padding-right: 10px; vertical-align: bottom; border: 2px solid; border-top-color: orange;\">\"c\"</td>\n",
        "            <td style=\"padding-top: 8px; padding-bottom: 8px; padding-left: 10px; padding-right: 10px; vertical-align: bottom; border: 2px solid; background-image: linear-gradient(135deg, orange, orange 7px, transparent 5px, transparent);  border-top: None\">\"4\"</td>\n",
        "            <td style=\"padding-top: 8px; padding-bottom: 8px; padding-left: 10px; padding-right: 10px; vertical-align: bottom; border: 2px solid;\">\"2\"</td>\n",
        "            <td style=\"padding-top: 8px; padding-bottom: 8px; padding-left: 10px; padding-right: 10px; vertical-align: bottom; border: 2px solid;\">\"a\"</td>\n",
        "            <td style=\"padding-top: 8px; padding-bottom: 8px; padding-left: 10px; padding-right: 10px; vertical-align: bottom; border: 2px solid;\">\"d\"</td>\n",
        "            <td style=\"padding-top: 8px; padding-bottom: 8px; padding-left: 10px; padding-right: 10px; vertical-align: bottom; border: 2px solid;\">\"o\"</td>\n",
        "        </tr>\n",
        "        <tr style=\"background: #f5f5f5;\">\n",
        "            <td style=\"padding-left: 4px; padding-top: 2px; padding-bottom: 3px; font-size: 1.3rem; color: #777; text-align: right;\">-9</td>\n",
        "            <td style=\"padding-left: 4px; padding-top: 2px; padding-bottom: 3px; font-size: 1.3rem; color: #777; text-align: right; border-left: 1px solid #555555;\">-8</td>\n",
        "            <td style=\"padding-left: 4px; padding-top: 2px; padding-bottom: 3px; font-size: 1.3rem; color: #777; text-align: right; border-left: 1px solid #555555;\">-7</td>\n",
        "            <td style=\"padding-left: 4px; padding-top: 2px; padding-bottom: 3px; font-size: 1.3rem; color: #777; text-align: right; border-left: 1px solid #555555;\">-6</td>\n",
        "            <td style=\"padding-left: 4px; padding-top: 2px; padding-bottom: 3px; font-size: 1.3rem; color: #777; text-align: right; border-left: 1px solid #555555;\">-5</td>\n",
        "            <td style=\"padding-left: 4px; padding-top: 2px; padding-bottom: 3px; font-size: 1.3rem; color: #777; text-align: right; border-left: 1px solid #555555;\">-4</td>\n",
        "            <td style=\"padding-left: 4px; padding-top: 2px; padding-bottom: 3px; font-size: 1.3rem; color: #777; text-align: right; border-left: 1px solid #555555;\">-3</td>\n",
        "            <td style=\"padding-left: 4px; padding-top: 2px; padding-bottom: 3px; font-size: 1.3rem; color: #777; text-align: right; border-left: 1px solid #555555;\">-2</td>\n",
        "            <td style=\"padding-left: 4px; padding-top: 2px; padding-bottom: 3px; font-size: 1.3rem; color: #777; text-align: right; border-left: 1px solid #555555;\">-1</td>\n",
        "        </tr>\n",
        "    </tbody>\n",
        "</table>"
      ]
    },
    {
      "cell_type": "markdown",
      "metadata": {
        "id": "iC8vk8Z7wW6L"
      },
      "source": [
        "<div class=\"align-center\" style=\"display: flex; text-align: right; direction: rtl; clear: both;\">\n",
        "    <div style=\"display: flex; width: 10%; float: right; clear: both;\">\n",
        "        <img src=\"https://github.com/PythonFreeCourse/Notebooks/blob/main/content/week03/images/tip.png?raw=1\" style=\"height: 50px !important;\" alt=\"טיפ!\">\n",
        "    </div>\n",
        "    <div style=\"width: 90%;\">\n",
        "        <p style=\"text-align: right; direction: rtl; clear: both;\">\n",
        "            קל לזכור שפייתון לא לוקחת את האיבר האחרון:<br>\n",
        "            אם ניקח את המיקום של האיבר האחרון, ונחסר ממנו את המיקום של האיבר הראשון – נקבל את מספר האיברים שחזרו.<br>\n",
        "            במקרה שלנו – 4 פחות 0 יוצא 4, שזה בדיוק מספר האיברים שקיבלנו חזרה.\n",
        "        </p>\n",
        "    </div>\n",
        "</div>"
      ]
    },
    {
      "cell_type": "markdown",
      "metadata": {
        "id": "M8E5HgGywW6L"
      },
      "source": [
        "<div class=\"align-center\" style=\"display: flex; text-align: right; direction: rtl; clear: both;\">\n",
        "    <div style=\"display: flex; width: 10%; float: right; clear: both;\">\n",
        "        <img src=\"https://github.com/PythonFreeCourse/Notebooks/blob/main/content/week03/images/warning.png?raw=1\" style=\"height: 50px !important;\" alt=\"אזהרה!\">\n",
        "    </div>\n",
        "    <div style=\"width: 90%\">\n",
        "        <p style=\"text-align: right; direction: rtl; clear: both;\">\n",
        "            רבים נוטים להתבלבל בין חיתוך לבין קריאה לפונקציה.<br>\n",
        "            טעות זו מתאפיינת בבלבול בין סוגריים עגולים לבין סוגריים מרובעים, או בין פסיק לבין נקודתיים.\n",
        "        </p>\n",
        "    </div>\n",
        "</div>"
      ]
    },
    {
      "cell_type": "markdown",
      "metadata": {
        "id": "ikGZmp33wW6L"
      },
      "source": [
        "<div class=\"align-center\" style=\"display: flex; text-align: right; direction: rtl; clear: both;\">\n",
        "    <div style=\"display: flex; width: 10%; float: right; clear: both;\">\n",
        "        <img src=\"https://github.com/PythonFreeCourse/Notebooks/blob/main/content/week03/images/warning.png?raw=1\" style=\"height: 50px !important;\" alt=\"אזהרה!\">\n",
        "    </div>\n",
        "    <div style=\"width: 90%\">\n",
        "        <p style=\"text-align: right; direction: rtl; clear: both;\">\n",
        "            חיתוכים לא משנים את המחרוזת המקורית, אלא אם נבצע השמה חזרה לתוך המשתנה.\n",
        "        </p>\n",
        "    </div>\n",
        "</div>"
      ]
    },
    {
      "cell_type": "markdown",
      "metadata": {
        "id": "8ImqaJ1ywW6M"
      },
      "source": [
        "<p style=\"text-align: right; direction: rtl; float: right; clear: both;\">\n",
        "אם אנחנו מעוניינים להתחיל את החיתוך מתחילת המחרוזת, נוכל להשמיט את החלק שלפני הנקודתיים:\n",
        "</p>"
      ]
    },
    {
      "cell_type": "code",
      "execution_count": null,
      "metadata": {
        "id": "5EcIrXFJwW6M"
      },
      "outputs": [],
      "source": [
        "# We can use slicing with implicit starting index\n",
        "word[:4]"
      ]
    },
    {
      "cell_type": "markdown",
      "metadata": {
        "id": "dPDxcuGCwW6M"
      },
      "source": [
        "<p style=\"text-align: right; direction: rtl; float: right; clear: both;\">\n",
        "נשתמש בטריק דומה כדי לחלץ את החלק השני של המחרוזת – מתא 6 ועד סוף המחרוזת:\n",
        "</p>"
      ]
    },
    {
      "cell_type": "code",
      "execution_count": null,
      "metadata": {
        "id": "8JxCRPYWwW6M"
      },
      "outputs": [],
      "source": [
        "word[6:]"
      ]
    },
    {
      "cell_type": "markdown",
      "metadata": {
        "id": "LPLheBCxwW6M"
      },
      "source": [
        "<table style=\"font-size: 2rem; border: 0px solid black;\tborder-collapse: collapse; border-spacing: 0px;\">\n",
        "    <tr>\n",
        "        <td style=\"padding-left: 4px; padding-top: 2px; padding-bottom: 3px; font-size: 1.3rem; color: #777;  text-align: left; border-bottom: 1px solid;\">0</td>\n",
        "        <td style=\"padding-left: 4px; padding-top: 2px; padding-bottom: 3px; font-size: 1.3rem; color: #777;  text-align: left; border-left: 1px solid #555555; border-bottom: 1px solid;\">1</td>\n",
        "        <td style=\"padding-left: 4px; padding-top: 2px; padding-bottom: 3px; font-size: 1.3rem; color: #777;  text-align: left; border-left: 1px solid #555555; border-bottom: 1px solid;\">2</td>\n",
        "        <td style=\"padding-left: 4px; padding-top: 2px; padding-bottom: 3px; font-size: 1.3rem; color: #777;  text-align: left; border-left: 1px solid #555555; border-bottom: 1px solid;\">3</td>\n",
        "        <td style=\"padding-left: 4px; padding-top: 2px; padding-bottom: 3px; font-size: 1.3rem; color: #777;  text-align: left; border-left: 1px solid #555555; border-bottom: 1px solid; border-bottom: None;\">4</td>\n",
        "        <td style=\"padding-left: 4px; padding-top: 2px; padding-bottom: 3px; font-size: 1.3rem; color: #777;  text-align: left; border-left: 1px solid #555555; border-bottom: 1px solid;\">5</td>\n",
        "        <td style=\"padding-left: 4px; padding-top: 2px; padding-bottom: 3px; font-size: 1.3rem; color: #777;  text-align: left; border-left: 1px solid #555555; border-bottom: 1px solid;\">6</td>\n",
        "        <td style=\"padding-left: 4px; padding-top: 2px; padding-bottom: 3px; font-size: 1.3rem; color: #777;  text-align: left; border-left: 1px solid #555555; border-bottom: 1px solid;\">7</td>\n",
        "        <td style=\"padding-left: 4px; padding-top: 2px; padding-bottom: 3px; font-size: 1.3rem; color: #777;  text-align: left; border-left: 1px solid #555555; border-bottom: 1px solid;\">8</td>\n",
        "        <td style=\"font-size: 1.3rem; color: #777; text-align: left; border-left: 1px solid #555555; border: None; background-image: linear-gradient(45deg, orange, orange 7px, transparent 5px, transparent);\"></td>\n",
        "    </tr>\n",
        "    <tbody>\n",
        "        <tr>\n",
        "            <td style=\"padding-top: 8px; padding-bottom: 8px; padding-left: 10px; padding-right: 10px; vertical-align: bottom; border: 2px solid;\">\"A\"</td>\n",
        "            <td style=\"padding-top: 8px; padding-bottom: 8px; padding-left: 10px; padding-right: 10px; vertical-align: bottom; border: 2px solid;\">\"v\"</td>\n",
        "            <td style=\"padding-top: 8px; padding-bottom: 8px; padding-left: 10px; padding-right: 10px; vertical-align: bottom; border: 2px solid;\">\"o\"</td>\n",
        "            <td style=\"padding-top: 8px; padding-bottom: 8px; padding-left: 10px; padding-right: 10px; vertical-align: bottom; border: 2px solid;\">\"c\"</td>\n",
        "            <td style=\"padding-top: 8px; padding-bottom: 8px; padding-left: 10px; padding-right: 10px; vertical-align: bottom; border: 2px solid;\">\"4\"</td>\n",
        "            <td style=\"padding-top: 8px; padding-bottom: 8px; padding-left: 10px; padding-right: 10px; vertical-align: bottom; border: 2px solid;\">\"2\"</td>\n",
        "            <td style=\"padding-top: 8px; padding-bottom: 8px; padding-left: 10px; padding-right: 10px; vertical-align: bottom; border: 2px solid; border-top-color: orange;\">\"a\"</td>\n",
        "            <td style=\"padding-top: 8px; padding-bottom: 8px; padding-left: 10px; padding-right: 10px; vertical-align: bottom; border: 2px solid; border-top-color: orange;\">\"d\"</td>\n",
        "            <td style=\"padding-top: 8px; padding-bottom: 8px; padding-left: 10px; padding-right: 10px; vertical-align: bottom; border: 2px solid; border-top-color: orange;\">\"o\"</td>\n",
        "            <td style=\"vertical-align: bottom; border: 2px solid; border-top-color: orange; border: None; background-color: None; background-image: linear-gradient(135deg, orange, orange 7px, transparent 5px, transparent);\"></td>\n",
        "        </tr>\n",
        "        <tr style=\"background: #f5f5f5;\">\n",
        "            <td style=\"padding-left: 4px; padding-top: 2px; padding-bottom: 3px; font-size: 1.3rem; color: #777; text-align: right;\">-9</td>\n",
        "            <td style=\"padding-left: 4px; padding-top: 2px; padding-bottom: 3px; font-size: 1.3rem; color: #777; text-align: right; border-left: 1px solid #555555;\">-8</td>\n",
        "            <td style=\"padding-left: 4px; padding-top: 2px; padding-bottom: 3px; font-size: 1.3rem; color: #777; text-align: right; border-left: 1px solid #555555;\">-7</td>\n",
        "            <td style=\"padding-left: 4px; padding-top: 2px; padding-bottom: 3px; font-size: 1.3rem; color: #777; text-align: right; border-left: 1px solid #555555;\">-6</td>\n",
        "            <td style=\"padding-left: 4px; padding-top: 2px; padding-bottom: 3px; font-size: 1.3rem; color: #777; text-align: right; border-left: 1px solid #555555;\">-5</td>\n",
        "            <td style=\"padding-left: 4px; padding-top: 2px; padding-bottom: 3px; font-size: 1.3rem; color: #777; text-align: right; border-left: 1px solid #555555;\">-4</td>\n",
        "            <td style=\"padding-left: 4px; padding-top: 2px; padding-bottom: 3px; font-size: 1.3rem; color: #777; text-align: right; border-left: 1px solid #555555;\">-3</td>\n",
        "            <td style=\"padding-left: 4px; padding-top: 2px; padding-bottom: 3px; font-size: 1.3rem; color: #777; text-align: right; border-left: 1px solid #555555;\">-2</td>\n",
        "            <td style=\"padding-left: 4px; padding-top: 2px; padding-bottom: 3px; font-size: 1.3rem; color: #777; text-align: right; border-left: 1px solid #555555;\">-1</td>\n",
        "            <td style=\"font-size: 1.3rem; color: #777; text-align: right;\"></td>\n",
        "        </tr>\n",
        "    </tbody>\n",
        "</table>"
      ]
    },
    {
      "cell_type": "markdown",
      "metadata": {
        "id": "-z3v3y8dwW6N"
      },
      "source": [
        "<p style=\"text-align: right; direction: rtl; float: right; clear: both;\">\n",
        "אחרי שחתכנו יפה כל כך את המחרוזת של האבוקדו, הגיע הזמן ליהנות מהפירות:\n",
        "</p>"
      ]
    },
    {
      "cell_type": "code",
      "execution_count": null,
      "metadata": {
        "id": "JKOgVGY1wW6N"
      },
      "outputs": [],
      "source": [
        "word[:4] + word[6:]"
      ]
    },
    {
      "cell_type": "markdown",
      "metadata": {
        "id": "fFlO5rUxwW6N"
      },
      "source": [
        "<div class=\"align-center\" style=\"display: flex; text-align: right; direction: rtl; clear: both;\">\n",
        "    <div style=\"display: flex; width: 10%; float: right; clear: both;\">\n",
        "        <img src=\"https://github.com/PythonFreeCourse/Notebooks/blob/main/content/week03/images/exercise.svg?raw=1\" style=\"height: 50px !important;\" alt=\"תרגול\">\n",
        "    </div>\n",
        "    <div style=\"width: 90%\">\n",
        "        <p style=\"text-align: right; direction: rtl; float: right; clear: both;\">\n",
        "            כתבו שורה שמחלצת רק את תת־המחרוזת \"42\" מתוך המחרוזת.\n",
        "        </p>\n",
        "    </div>\n",
        "</div>"
      ]
    },
    {
      "cell_type": "markdown",
      "metadata": {
        "id": "QNILJNNxwW6N"
      },
      "source": [
        "### <p style=\"text-align: right; direction: rtl; float: right;\">חיתוך בקפיצות</p>"
      ]
    },
    {
      "cell_type": "markdown",
      "metadata": {
        "id": "be2MDAemwW6N"
      },
      "source": [
        "<p style=\"text-align: right; direction: rtl; float: right; clear: both;\">\n",
        "אגף כוח האדם הנהדר של צה\"ל ביקש מכם לחלץ את האותיות A, c, a מתוך המחרוזת שהוצגה למעלה.<br>\n",
        "אם נבדוק היטב, נגלה שהאותיות מופיעות החל מהתא ה־0, בקפיצות של 3 בכל פעם.<br>\n",
        "למזלנו, בפייתון יש דרך פשוטה להפליא לחתוך תוך כדי קפיצות מאות לאות – להוסיף נקודתיים, ואז את מרחק הקפיצה!\n",
        "</p>"
      ]
    },
    {
      "cell_type": "code",
      "execution_count": null,
      "metadata": {
        "id": "rwS3ZoW5wW6O"
      },
      "outputs": [],
      "source": [
        "word[0:6:3]"
      ]
    },
    {
      "cell_type": "markdown",
      "metadata": {
        "id": "mfwC29dTwW6O"
      },
      "source": [
        "<p style=\"text-align: right; direction: rtl; float: right; clear: both;\">\n",
        "למה זה לא הצליח?<br>\n",
        "נזכר שפייתון לא אוהבת לקחת את המקום האחרון:\n",
        "</p>"
      ]
    },
    {
      "cell_type": "markdown",
      "metadata": {
        "id": "Ig8s8oakwW6O"
      },
      "source": [
        "<table style=\"font-size: 2rem; border: 0px solid black;\tborder-collapse: collapse; border-spacing: 0px;\">\n",
        "    <tr>\n",
        "        <td style=\"padding-left: 4px; padding-top: 2px; padding-bottom: 3px; font-size: 1.3rem; color: #777;  text-align: left; border-bottom: 1px solid;\">0</td>\n",
        "        <td style=\"padding-left: 4px; padding-top: 2px; padding-bottom: 3px; font-size: 1.3rem; color: #777;  text-align: left; border-left: 1px solid #555555; border-bottom: 1px solid;\">1</td>\n",
        "        <td style=\"padding-left: 4px; padding-top: 2px; padding-bottom: 3px; font-size: 1.3rem; color: #777;  text-align: left; border-left: 1px solid #555555; border-bottom: 1px solid;\">2</td>\n",
        "        <td style=\"padding-left: 4px; padding-top: 2px; padding-bottom: 3px; font-size: 1.3rem; color: #777;  text-align: left; border-left: 1px solid #555555; border-bottom: 1px solid;\">3</td>\n",
        "        <td style=\"padding-left: 4px; padding-top: 2px; padding-bottom: 3px; font-size: 1.3rem; color: #777;  text-align: left; border-left: 1px solid #555555; border-bottom: 1px solid;\">4</td>\n",
        "        <td style=\"padding-left: 4px; padding-top: 2px; padding-bottom: 3px; font-size: 1.3rem; color: #777;  text-align: left; border-left: 1px solid #555555; border-bottom: 1px solid;\">5</td>\n",
        "        <td style=\"padding-left: 4px; padding-top: 2px; padding-bottom: 3px; font-size: 1.3rem; color: #777;  text-align: left; border-left: 1px solid #555555; border-bottom: 1px solid; border-bottom: None; background-image: linear-gradient(45deg, orange, orange 7px, transparent 5px, transparent);\">6</td>\n",
        "        <td style=\"padding-left: 4px; padding-top: 2px; padding-bottom: 3px; font-size: 1.3rem; color: #777;  text-align: left; border-left: 1px solid #555555; border-bottom: 1px solid;\">7</td>\n",
        "        <td style=\"padding-left: 4px; padding-top: 2px; padding-bottom: 3px; font-size: 1.3rem; color: #777;  text-align: left; border-left: 1px solid #555555; border-bottom: 1px solid;\">8</td>\n",
        "    </tr>\n",
        "    <tbody>\n",
        "        <tr>\n",
        "            <td style=\"padding-top: 8px; padding-bottom: 8px; padding-left: 10px; padding-right: 10px; vertical-align: bottom; border: 2px solid; border-top-color: orange;\">\"A\"</td>\n",
        "            <td style=\"padding-top: 8px; padding-bottom: 8px; padding-left: 10px; padding-right: 10px; vertical-align: bottom; border: 2px solid;\">\"v\"</td>\n",
        "            <td style=\"padding-top: 8px; padding-bottom: 8px; padding-left: 10px; padding-right: 10px; vertical-align: bottom; border: 2px solid;\">\"o\"</td>\n",
        "            <td style=\"padding-top: 8px; padding-bottom: 8px; padding-left: 10px; padding-right: 10px; vertical-align: bottom; border: 2px solid; border-top-color: orange;\">\"c\"</td>\n",
        "            <td style=\"padding-top: 8px; padding-bottom: 8px; padding-left: 10px; padding-right: 10px; vertical-align: bottom; border: 2px solid;\">\"4\"</td>\n",
        "            <td style=\"padding-top: 8px; padding-bottom: 8px; padding-left: 10px; padding-right: 10px; vertical-align: bottom; border: 2px solid;\">\"2\"</td>\n",
        "            <td style=\"padding-top: 8px; padding-bottom: 8px; padding-left: 10px; padding-right: 10px; vertical-align: bottom; border: 2px solid; border-top: None; background-image: linear-gradient(135deg, orange, orange 7px, transparent 5px, transparent);\">\"a\"</td>\n",
        "            <td style=\"padding-top: 8px; padding-bottom: 8px; padding-left: 10px; padding-right: 10px; vertical-align: bottom; border: 2px solid;\">\"d\"</td>\n",
        "            <td style=\"padding-top: 8px; padding-bottom: 8px; padding-left: 10px; padding-right: 10px; vertical-align: bottom; border: 2px solid;\">\"o\"</td>\n",
        "        </tr>\n",
        "        <tr style=\"background: #f5f5f5;\">\n",
        "            <td style=\"padding-left: 4px; padding-top: 2px; padding-bottom: 3px; font-size: 1.3rem; color: #777; text-align: right;\">-9</td>\n",
        "            <td style=\"padding-left: 4px; padding-top: 2px; padding-bottom: 3px; font-size: 1.3rem; color: #777; text-align: right; border-left: 1px solid #555555;\">-8</td>\n",
        "            <td style=\"padding-left: 4px; padding-top: 2px; padding-bottom: 3px; font-size: 1.3rem; color: #777; text-align: right; border-left: 1px solid #555555;\">-7</td>\n",
        "            <td style=\"padding-left: 4px; padding-top: 2px; padding-bottom: 3px; font-size: 1.3rem; color: #777; text-align: right; border-left: 1px solid #555555;\">-6</td>\n",
        "            <td style=\"padding-left: 4px; padding-top: 2px; padding-bottom: 3px; font-size: 1.3rem; color: #777; text-align: right; border-left: 1px solid #555555;\">-5</td>\n",
        "            <td style=\"padding-left: 4px; padding-top: 2px; padding-bottom: 3px; font-size: 1.3rem; color: #777; text-align: right; border-left: 1px solid #555555;\">-4</td>\n",
        "            <td style=\"padding-left: 4px; padding-top: 2px; padding-bottom: 3px; font-size: 1.3rem; color: #777; text-align: right; border-left: 1px solid #555555;\">-3</td>\n",
        "            <td style=\"padding-left: 4px; padding-top: 2px; padding-bottom: 3px; font-size: 1.3rem; color: #777; text-align: right; border-left: 1px solid #555555;\">-2</td>\n",
        "            <td style=\"padding-left: 4px; padding-top: 2px; padding-bottom: 3px; font-size: 1.3rem; color: #777; text-align: right; border-left: 1px solid #555555;\">-1</td>\n",
        "        </tr>\n",
        "    </tbody>\n",
        "</table>"
      ]
    },
    {
      "cell_type": "markdown",
      "metadata": {
        "id": "3SkpGC_mwW6O"
      },
      "source": [
        "<p style=\"text-align: right; direction: rtl; float: right; clear: both;\">\n",
        "    נתקן, ועל הדרך ניזכר שלא באמת צריך את ה־0 שם בהתחלה:\n",
        "</p>"
      ]
    },
    {
      "cell_type": "code",
      "execution_count": null,
      "metadata": {
        "id": "o1rvWT8MwW6O"
      },
      "outputs": [],
      "source": [
        "word[:7:3]"
      ]
    },
    {
      "cell_type": "markdown",
      "metadata": {
        "id": "g9xRSwtCwW6O"
      },
      "source": [
        "<table style=\"font-size: 2rem; border: 0px solid black;\tborder-collapse: collapse; border-spacing: 0px;\">\n",
        "    <tr>\n",
        "        <td style=\"padding-left: 4px; padding-top: 2px; padding-bottom: 3px; font-size: 1.3rem; color: #777;  text-align: left; border-bottom: 1px solid;\">0</td>\n",
        "        <td style=\"padding-left: 4px; padding-top: 2px; padding-bottom: 3px; font-size: 1.3rem; color: #777;  text-align: left; border-left: 1px solid #555555; border-bottom: 1px solid;\">1</td>\n",
        "        <td style=\"padding-left: 4px; padding-top: 2px; padding-bottom: 3px; font-size: 1.3rem; color: #777;  text-align: left; border-left: 1px solid #555555; border-bottom: 1px solid;\">2</td>\n",
        "        <td style=\"padding-left: 4px; padding-top: 2px; padding-bottom: 3px; font-size: 1.3rem; color: #777;  text-align: left; border-left: 1px solid #555555; border-bottom: 1px solid;\">3</td>\n",
        "        <td style=\"padding-left: 4px; padding-top: 2px; padding-bottom: 3px; font-size: 1.3rem; color: #777;  text-align: left; border-left: 1px solid #555555; border-bottom: 1px solid;\">4</td>\n",
        "        <td style=\"padding-left: 4px; padding-top: 2px; padding-bottom: 3px; font-size: 1.3rem; color: #777;  text-align: left; border-left: 1px solid #555555; border-bottom: 1px solid;\">5</td>\n",
        "        <td style=\"padding-left: 4px; padding-top: 2px; padding-bottom: 3px; font-size: 1.3rem; color: #777;  text-align: left; border-left: 1px solid #555555; border-bottom: 1px solid; \">6</td>\n",
        "        <td style=\"padding-left: 4px; padding-top: 2px; padding-bottom: 3px; font-size: 1.3rem; color: #777;  text-align: left; border-left: 1px solid #555555; border-bottom: 1px solid; border-bottom: None; background-image: linear-gradient(45deg, orange, orange 7px, transparent 5px, transparent);\">7</td>\n",
        "        <td style=\"padding-left: 4px; padding-top: 2px; padding-bottom: 3px; font-size: 1.3rem; color: #777;  text-align: left; border-left: 1px solid #555555; border-bottom: 1px solid;\">8</td>\n",
        "    </tr>\n",
        "    <tbody>\n",
        "        <tr>\n",
        "            <td style=\"padding-top: 8px; padding-bottom: 8px; padding-left: 10px; padding-right: 10px; vertical-align: bottom; border: 2px solid; border-top-color: orange;\">\"A\"</td>\n",
        "            <td style=\"padding-top: 8px; padding-bottom: 8px; padding-left: 10px; padding-right: 10px; vertical-align: bottom; border: 2px solid;\">\"v\"</td>\n",
        "            <td style=\"padding-top: 8px; padding-bottom: 8px; padding-left: 10px; padding-right: 10px; vertical-align: bottom; border: 2px solid;\">\"o\"</td>\n",
        "            <td style=\"padding-top: 8px; padding-bottom: 8px; padding-left: 10px; padding-right: 10px; vertical-align: bottom; border: 2px solid; border-top-color: orange;\">\"c\"</td>\n",
        "            <td style=\"padding-top: 8px; padding-bottom: 8px; padding-left: 10px; padding-right: 10px; vertical-align: bottom; border: 2px solid;\">\"4\"</td>\n",
        "            <td style=\"padding-top: 8px; padding-bottom: 8px; padding-left: 10px; padding-right: 10px; vertical-align: bottom; border: 2px solid;\">\"2\"</td>\n",
        "            <td style=\"padding-top: 8px; padding-bottom: 8px; padding-left: 10px; padding-right: 10px; vertical-align: bottom; border: 2px solid; border-top-color: orange;\">\"a\"</td>\n",
        "            <td style=\"padding-top: 8px; padding-bottom: 8px; padding-left: 10px; padding-right: 10px; vertical-align: bottom; border: 2px solid; border-top: None; background-image: linear-gradient(135deg, orange, orange 7px, transparent 5px, transparent);\">\"d\"</td>\n",
        "            <td style=\"padding-top: 8px; padding-bottom: 8px; padding-left: 10px; padding-right: 10px; vertical-align: bottom; border: 2px solid;\">\"o\"</td>\n",
        "        </tr>\n",
        "        <tr style=\"background: #f5f5f5;\">\n",
        "            <td style=\"padding-left: 4px; padding-top: 2px; padding-bottom: 3px; font-size: 1.3rem; color: #777; text-align: right;\">-9</td>\n",
        "            <td style=\"padding-left: 4px; padding-top: 2px; padding-bottom: 3px; font-size: 1.3rem; color: #777; text-align: right; border-left: 1px solid #555555;\">-8</td>\n",
        "            <td style=\"padding-left: 4px; padding-top: 2px; padding-bottom: 3px; font-size: 1.3rem; color: #777; text-align: right; border-left: 1px solid #555555;\">-7</td>\n",
        "            <td style=\"padding-left: 4px; padding-top: 2px; padding-bottom: 3px; font-size: 1.3rem; color: #777; text-align: right; border-left: 1px solid #555555;\">-6</td>\n",
        "            <td style=\"padding-left: 4px; padding-top: 2px; padding-bottom: 3px; font-size: 1.3rem; color: #777; text-align: right; border-left: 1px solid #555555;\">-5</td>\n",
        "            <td style=\"padding-left: 4px; padding-top: 2px; padding-bottom: 3px; font-size: 1.3rem; color: #777; text-align: right; border-left: 1px solid #555555;\">-4</td>\n",
        "            <td style=\"padding-left: 4px; padding-top: 2px; padding-bottom: 3px; font-size: 1.3rem; color: #777; text-align: right; border-left: 1px solid #555555;\">-3</td>\n",
        "            <td style=\"padding-left: 4px; padding-top: 2px; padding-bottom: 3px; font-size: 1.3rem; color: #777; text-align: right; border-left: 1px solid #555555;\">-2</td>\n",
        "            <td style=\"padding-left: 4px; padding-top: 2px; padding-bottom: 3px; font-size: 1.3rem; color: #777; text-align: right; border-left: 1px solid #555555;\">-1</td>\n",
        "        </tr>\n",
        "    </tbody>\n",
        "</table>"
      ]
    },
    {
      "cell_type": "markdown",
      "metadata": {
        "id": "OmQADYWXwW6U"
      },
      "source": [
        "### <p style=\"text-align: right; direction: rtl; float: right;\">חיתוך הפוך</p>"
      ]
    },
    {
      "cell_type": "markdown",
      "metadata": {
        "id": "mdxGd8LwwW6U"
      },
      "source": [
        "<p style=\"text-align: right; direction: rtl; float: right; clear: both;\">\n",
        "    כחובבים גדולים של שירה לירית, הפעם המטרה שלנו תהיה להשיג את המחרוזת \"oda\".<br>\n",
        "</p>"
      ]
    },
    {
      "cell_type": "markdown",
      "metadata": {
        "id": "s34E2o1PwW6V"
      },
      "source": [
        "<p style=\"text-align: right; direction: rtl; float: right; clear: both;\">\n",
        "    נשים לב שמדובר בתאים 6, 7 ו־8 בסדר הפוך.<br>\n",
        "    נוכל לנסות להפוך את הסדר של המספרים:<br>\n",
        "</p>"
      ]
    },
    {
      "cell_type": "code",
      "execution_count": null,
      "metadata": {
        "id": "qqGQYsGewW6V"
      },
      "outputs": [],
      "source": [
        "word[8:5]"
      ]
    },
    {
      "cell_type": "markdown",
      "metadata": {
        "id": "8agioEQXwW6V"
      },
      "source": [
        "<p style=\"text-align: right; direction: rtl; float: right; clear: both;\">\n",
        "    אך מהר מאוד נגלה שישנה בעיה בהתקדמות נגד כיוון החץ –<br>\n",
        "    אי־אפשר להגיע מתא 8 לתא 5 אם אנחנו מתקדמים ימינה.\n",
        "</p>"
      ]
    },
    {
      "cell_type": "markdown",
      "metadata": {
        "id": "AmbHki5hwW6V"
      },
      "source": [
        "<table style=\"font-size: 2rem; border: 0px solid black;\tborder-collapse: collapse; border-spacing: 0px;\">\n",
        "    <tr>\n",
        "        <td style=\"padding-left: 4px; padding-top: 2px; padding-bottom: 3px; font-size: 1.3rem; color: #777;  text-align: left; border-bottom: 1px solid;\">0</td>\n",
        "        <td style=\"padding-left: 4px; padding-top: 2px; padding-bottom: 3px; font-size: 1.3rem; color: #777;  text-align: left; border-left: 1px solid #555555; border-bottom: 1px solid;\">1</td>\n",
        "        <td style=\"padding-left: 4px; padding-top: 2px; padding-bottom: 3px; font-size: 1.3rem; color: #777;  text-align: left; border-left: 1px solid #555555; border-bottom: 1px solid;\">2</td>\n",
        "        <td style=\"padding-left: 4px; padding-top: 2px; padding-bottom: 3px; font-size: 1.3rem; color: #777;  text-align: left; border-left: 1px solid #555555; border-bottom: 1px solid;\">3</td>\n",
        "        <td style=\"padding-left: 4px; padding-top: 2px; padding-bottom: 3px; font-size: 1.3rem; color: #777;  text-align: left; border-left: 1px solid #555555; border-bottom: 1px solid; border-bottom: None;\">4</td>\n",
        "        <td style=\"padding-left: 4px; padding-top: 2px; padding-bottom: 3px; font-size: 1.3rem; color: #777;  text-align: left; border-left: 1px solid #555555; border-bottom: 1px solid;\">5</td>\n",
        "        <td style=\"padding-left: 4px; padding-top: 2px; padding-bottom: 3px; font-size: 1.3rem; color: #777;  text-align: left; border-left: 1px solid #555555; border-bottom: 1px solid;\">6</td>\n",
        "        <td style=\"padding-left: 4px; padding-top: 2px; padding-bottom: 3px; font-size: 1.3rem; color: #777;  text-align: left; border-left: 1px solid #555555; border-bottom: 1px solid;\">7</td>\n",
        "        <td style=\"padding-left: 4px; padding-top: 2px; padding-bottom: 3px; font-size: 1.3rem; color: #777;  text-align: left; border-left: 1px solid #555555; border-bottom: 1px solid;\">8</td>\n",
        "        <td style=\"font-size: 1.3rem; color: #777; text-align: left; border-left: 1px solid #555555; border: None; background-image: linear-gradient(45deg, gray, gray 7px, transparent 5px, transparent);\"></td>\n",
        "    </tr>\n",
        "    <tbody>\n",
        "        <tr>\n",
        "            <td style=\"padding-top: 8px; padding-bottom: 8px; padding-left: 10px; padding-right: 10px; vertical-align: bottom; border: 2px solid;\">\"A\"</td>\n",
        "            <td style=\"padding-top: 8px; padding-bottom: 8px; padding-left: 10px; padding-right: 10px; vertical-align: bottom; border: 2px solid;\">\"v\"</td>\n",
        "            <td style=\"padding-top: 8px; padding-bottom: 8px; padding-left: 10px; padding-right: 10px; vertical-align: bottom; border: 2px solid;\">\"o\"</td>\n",
        "            <td style=\"padding-top: 8px; padding-bottom: 8px; padding-left: 10px; padding-right: 10px; vertical-align: bottom; border: 2px solid;\">\"c\"</td>\n",
        "            <td style=\"padding-top: 8px; padding-bottom: 8px; padding-left: 10px; padding-right: 10px; vertical-align: bottom; border: 2px solid;\">\"4\"</td>\n",
        "            <td style=\"padding-top: 8px; padding-bottom: 8px; padding-left: 10px; padding-right: 10px; vertical-align: bottom; border: 2px solid;\">\"2\"</td>\n",
        "            <td style=\"padding-top: 8px; padding-bottom: 8px; padding-left: 10px; padding-right: 10px; vertical-align: bottom; border: 2px solid; border-top-color: #dcdcdc;\">\"a\"</td>\n",
        "            <td style=\"padding-top: 8px; padding-bottom: 8px; padding-left: 10px; padding-right: 10px; vertical-align: bottom; border: 2px solid; border-top-color: #dcdcdc;\">\"d\"</td>\n",
        "            <td style=\"padding-top: 8px; padding-bottom: 8px; padding-left: 10px; padding-right: 10px; vertical-align: bottom; border: 2px solid; border-top-color: #dcdcdc;\">\"o\"</td>\n",
        "            <td style=\"vertical-align: bottom; border: 2px solid; border-top-color: orange; border: None; background-color: None; background-image: linear-gradient(135deg, gray, gray 7px, transparent 5px, transparent);\"></td>\n",
        "        </tr>\n",
        "        <tr style=\"background: #f5f5f5;\">\n",
        "            <td style=\"padding-left: 4px; padding-top: 2px; padding-bottom: 3px; font-size: 1.3rem; color: #777; text-align: right;\">-9</td>\n",
        "            <td style=\"padding-left: 4px; padding-top: 2px; padding-bottom: 3px; font-size: 1.3rem; color: #777; text-align: right; border-left: 1px solid #555555;\">-8</td>\n",
        "            <td style=\"padding-left: 4px; padding-top: 2px; padding-bottom: 3px; font-size: 1.3rem; color: #777; text-align: right; border-left: 1px solid #555555;\">-7</td>\n",
        "            <td style=\"padding-left: 4px; padding-top: 2px; padding-bottom: 3px; font-size: 1.3rem; color: #777; text-align: right; border-left: 1px solid #555555;\">-6</td>\n",
        "            <td style=\"padding-left: 4px; padding-top: 2px; padding-bottom: 3px; font-size: 1.3rem; color: #777; text-align: right; border-left: 1px solid #555555;\">-5</td>\n",
        "            <td style=\"padding-left: 4px; padding-top: 2px; padding-bottom: 3px; font-size: 1.3rem; color: #777; text-align: right; border-left: 1px solid #555555;\">-4</td>\n",
        "            <td style=\"padding-left: 4px; padding-top: 2px; padding-bottom: 3px; font-size: 1.3rem; color: #777; text-align: right; border-left: 1px solid #555555;\">-3</td>\n",
        "            <td style=\"padding-left: 4px; padding-top: 2px; padding-bottom: 3px; font-size: 1.3rem; color: #777; text-align: right; border-left: 1px solid #555555;\">-2</td>\n",
        "            <td style=\"padding-left: 4px; padding-top: 2px; padding-bottom: 3px; font-size: 1.3rem; color: #777; text-align: right; border-left: 1px solid #555555;\">-1</td>\n",
        "            <td style=\"font-size: 1.3rem; color: #777; text-align: right;\"></td>\n",
        "        </tr>\n",
        "    </tbody>\n",
        "</table>"
      ]
    },
    {
      "cell_type": "markdown",
      "metadata": {
        "id": "Fr76BnVtwW6V"
      },
      "source": [
        "<p style=\"text-align: right; direction: rtl; float: right; clear: both;\">\n",
        "    כל מה שנצטרך זה לבקש לקפוץ בצעדים של <span dir=\"ltr\" style=\"direction: ltr;\">-1</span>.<br>\n",
        "    כשכמות הצעדים (הקפיצות) שלנו היא מספר שלילי, כיוון החץ הופך להיות מימין לשמאל:\n",
        "</p>"
      ]
    },
    {
      "cell_type": "code",
      "execution_count": 4,
      "metadata": {
        "id": "9LCWNikAwW6V",
        "outputId": "fda276f7-126e-4847-dad7-756ab5783881",
        "colab": {
          "base_uri": "https://localhost:8080/",
          "height": 36
        }
      },
      "outputs": [
        {
          "output_type": "execute_result",
          "data": {
            "text/plain": [
              "'oda'"
            ],
            "application/vnd.google.colaboratory.intrinsic+json": {
              "type": "string"
            }
          },
          "metadata": {},
          "execution_count": 4
        }
      ],
      "source": [
        "word[8:5:-1]"
      ]
    },
    {
      "cell_type": "markdown",
      "metadata": {
        "id": "Loco_HGswW6V"
      },
      "source": [
        "<table style=\"font-size: 2rem; border: 0px solid black;\tborder-collapse: collapse; border-spacing: 0px;\">\n",
        "    <tr>\n",
        "        <td style=\"padding-left: 4px; padding-top: 2px; padding-bottom: 3px; font-size: 1.3rem; color: #777;  text-align: left; border-bottom: 1px solid;\">0</td>\n",
        "        <td style=\"padding-left: 4px; padding-top: 2px; padding-bottom: 3px; font-size: 1.3rem; color: #777;  text-align: left; border-left: 1px solid #555555; border-bottom: 1px solid;\">1</td>\n",
        "        <td style=\"padding-left: 4px; padding-top: 2px; padding-bottom: 3px; font-size: 1.3rem; color: #777;  text-align: left; border-left: 1px solid #555555; border-bottom: 1px solid;\">2</td>\n",
        "        <td style=\"padding-left: 4px; padding-top: 2px; padding-bottom: 3px; font-size: 1.3rem; color: #777;  text-align: left; border-left: 1px solid #555555; border-bottom: 1px solid;\">3</td>\n",
        "        <td style=\"padding-left: 4px; padding-top: 2px; padding-bottom: 3px; font-size: 1.3rem; color: #777;  text-align: left; border-left: 1px solid #555555; border-bottom: 1px solid; border-bottom: None;\">4</td>\n",
        "        <td style=\"padding-left: 4px; padding-top: 2px; padding-bottom: 3px; font-size: 1.3rem; color: #777;  text-align: left; border-left: 1px solid #555555; border-bottom: 1px solid; border-bottom: None; background-image: linear-gradient(315deg, orange, orange 7px, transparent 5px, transparent);\">5</td>\n",
        "        <td style=\"padding-left: 4px; padding-top: 2px; padding-bottom: 3px; font-size: 1.3rem; color: #777;  text-align: left; border-left: 1px solid #555555; border-bottom: 1px solid;\">6</td>\n",
        "        <td style=\"padding-left: 4px; padding-top: 2px; padding-bottom: 3px; font-size: 1.3rem; color: #777;  text-align: left; border-left: 1px solid #555555; border-bottom: 1px solid;\">7</td>\n",
        "        <td style=\"padding-left: 4px; padding-top: 2px; padding-bottom: 3px; font-size: 1.3rem; color: #777;  text-align: left; border-left: 1px solid #555555; border-bottom: 1px solid;\">8</td>\n",
        "    </tr>\n",
        "    <tbody>\n",
        "        <tr>\n",
        "            <td style=\"padding-top: 8px; padding-bottom: 8px; padding-left: 10px; padding-right: 10px; vertical-align: bottom; border: 2px solid;\">\"A\"</td>\n",
        "            <td style=\"padding-top: 8px; padding-bottom: 8px; padding-left: 10px; padding-right: 10px; vertical-align: bottom; border: 2px solid;\">\"v\"</td>\n",
        "            <td style=\"padding-top: 8px; padding-bottom: 8px; padding-left: 10px; padding-right: 10px; vertical-align: bottom; border: 2px solid;\">\"o\"</td>\n",
        "            <td style=\"padding-top: 8px; padding-bottom: 8px; padding-left: 10px; padding-right: 10px; vertical-align: bottom; border: 2px solid;\">\"c\"</td>\n",
        "            <td style=\"padding-top: 8px; padding-bottom: 8px; padding-left: 10px; padding-right: 10px; vertical-align: bottom; border: 2px solid;\">\"4\"</td>\n",
        "            <td style=\"padding-top: 8px; padding-bottom: 8px; padding-left: 10px; padding-right: 10px; vertical-align: bottom; border: 2px solid; border-top: None; background-image: linear-gradient(225deg, orange, orange 7px, transparent 5px, transparent);\">\"2\"</td>\n",
        "            <td style=\"padding-top: 8px; padding-bottom: 8px; padding-left: 10px; padding-right: 10px; vertical-align: bottom; border: 2px solid; border-top-color: orange;\">\"a\"</td>\n",
        "            <td style=\"padding-top: 8px; padding-bottom: 8px; padding-left: 10px; padding-right: 10px; vertical-align: bottom; border: 2px solid; border-top-color: orange;\">\"d\"</td>\n",
        "            <td style=\"padding-top: 8px; padding-bottom: 8px; padding-left: 10px; padding-right: 10px; vertical-align: bottom; border: 2px solid; border-top-color: orange;\">\"o\"</td>\n",
        "      </tr>\n",
        "        <tr style=\"background: #f5f5f5;\">\n",
        "            <td style=\"padding-left: 4px; padding-top: 2px; padding-bottom: 3px; font-size: 1.3rem; color: #777; text-align: right;\">-9</td>\n",
        "            <td style=\"padding-left: 4px; padding-top: 2px; padding-bottom: 3px; font-size: 1.3rem; color: #777; text-align: right; border-left: 1px solid #555555;\">-8</td>\n",
        "            <td style=\"padding-left: 4px; padding-top: 2px; padding-bottom: 3px; font-size: 1.3rem; color: #777; text-align: right; border-left: 1px solid #555555;\">-7</td>\n",
        "            <td style=\"padding-left: 4px; padding-top: 2px; padding-bottom: 3px; font-size: 1.3rem; color: #777; text-align: right; border-left: 1px solid #555555;\">-6</td>\n",
        "            <td style=\"padding-left: 4px; padding-top: 2px; padding-bottom: 3px; font-size: 1.3rem; color: #777; text-align: right; border-left: 1px solid #555555;\">-5</td>\n",
        "            <td style=\"padding-left: 4px; padding-top: 2px; padding-bottom: 3px; font-size: 1.3rem; color: #777; text-align: right; border-left: 1px solid #555555;\">-4</td>\n",
        "            <td style=\"padding-left: 4px; padding-top: 2px; padding-bottom: 3px; font-size: 1.3rem; color: #777; text-align: right; border-left: 1px solid #555555;\">-3</td>\n",
        "            <td style=\"padding-left: 4px; padding-top: 2px; padding-bottom: 3px; font-size: 1.3rem; color: #777; text-align: right; border-left: 1px solid #555555;\">-2</td>\n",
        "            <td style=\"padding-left: 4px; padding-top: 2px; padding-bottom: 3px; font-size: 1.3rem; color: #777; text-align: right; border-left: 1px solid #555555;\">-1</td>\n",
        "            </tr>\n",
        "    </tbody>\n",
        "</table>"
      ]
    },
    {
      "cell_type": "markdown",
      "metadata": {
        "id": "z8Phc0S6wW6W"
      },
      "source": [
        "<p style=\"text-align: right; direction: rtl; float: right; clear: both;\">\n",
        "    במקרה כזה, סוף המחרוזת שאנחנו חותכים נחשבת התחלת המחרוזת (כי החיתוך מתחיל מימין):\n",
        "</p>"
      ]
    },
    {
      "cell_type": "code",
      "execution_count": 3,
      "metadata": {
        "id": "CvExBlD_wW6W",
        "outputId": "761bb7ee-5e75-4a64-f6d1-518d1cc3e541",
        "colab": {
          "base_uri": "https://localhost:8080/",
          "height": 36
        }
      },
      "outputs": [
        {
          "output_type": "execute_result",
          "data": {
            "text/plain": [
              "'oda'"
            ],
            "application/vnd.google.colaboratory.intrinsic+json": {
              "type": "string"
            }
          },
          "metadata": {},
          "execution_count": 3
        }
      ],
      "source": [
        "word[:5:-1]"
      ]
    },
    {
      "cell_type": "markdown",
      "metadata": {
        "id": "mJij_MchwW6W"
      },
      "source": [
        "<div class=\"align-center\" style=\"display: flex; text-align: right; direction: rtl; clear: both;\">\n",
        "    <div style=\"display: flex; width: 10%; float: right; clear: both;\">\n",
        "        <img src=\"https://github.com/PythonFreeCourse/Notebooks/blob/main/content/week03/images/exercise.svg?raw=1\" style=\"height: 50px !important;\" alt=\"תרגול\">\n",
        "    </div>\n",
        "    <div style=\"width: 90%\">\n",
        "        <p style=\"text-align: right; direction: rtl; float: right; clear: both;\">\n",
        "            חִתְכוּ מהמחרוזת את תת־המחרוזת \"covA\".<br>\n",
        "            לאחר מכן, הדפיסו את המחרוזת \"oda24covA\" בעזרת חיתוך של <code>word</code>.\n",
        "        </p>\n",
        "    </div>\n",
        "</div>"
      ]
    },
    {
      "cell_type": "code",
      "source": [
        "word[3::-1]\n",
        "word[::-1]"
      ],
      "metadata": {
        "id": "y2h1Hg5mxhW1",
        "outputId": "995e4272-e9ba-4ad2-f5b3-af1ae3eaaf3f",
        "colab": {
          "base_uri": "https://localhost:8080/",
          "height": 36
        }
      },
      "execution_count": 6,
      "outputs": [
        {
          "output_type": "execute_result",
          "data": {
            "text/plain": [
              "'oda24covA'"
            ],
            "application/vnd.google.colaboratory.intrinsic+json": {
              "type": "string"
            }
          },
          "metadata": {},
          "execution_count": 6
        }
      ]
    },
    {
      "cell_type": "markdown",
      "metadata": {
        "id": "vzQ1PV0jwW6W"
      },
      "source": [
        "### <p style=\"text-align: right; direction: rtl; float: right;\">דוגמאות נוספות</p>"
      ]
    },
    {
      "cell_type": "markdown",
      "metadata": {
        "id": "iCgXEES4wW6W"
      },
      "source": [
        "<p style=\"text-align: right; direction: rtl; float: right; clear: both;\">\n",
        "    חיתוך עובד בצורה זהה על רשימה:\n",
        "</p>"
      ]
    },
    {
      "cell_type": "code",
      "execution_count": 7,
      "metadata": {
        "id": "erI1TQYQwW6W"
      },
      "outputs": [],
      "source": [
        "#            0       1      2      3      4       5\n",
        "animals = ['duck', 'pig', 'cow', 'cat', 'dog', 'shark']"
      ]
    },
    {
      "cell_type": "code",
      "execution_count": 8,
      "metadata": {
        "id": "Yu6fk6NVwW6W",
        "outputId": "5369c67e-7d40-44c6-e216-98aad3ecbbfd",
        "colab": {
          "base_uri": "https://localhost:8080/"
        }
      },
      "outputs": [
        {
          "output_type": "execute_result",
          "data": {
            "text/plain": [
              "['cow', 'cat']"
            ]
          },
          "metadata": {},
          "execution_count": 8
        }
      ],
      "source": [
        "animals[2:4]"
      ]
    },
    {
      "cell_type": "code",
      "execution_count": null,
      "metadata": {
        "id": "S_QnWO0lwW6W"
      },
      "outputs": [],
      "source": [
        "animals[1:4]"
      ]
    },
    {
      "cell_type": "code",
      "execution_count": 9,
      "metadata": {
        "id": "f0yb0RzvwW6X",
        "outputId": "d8af5938-cb33-45dc-9f02-6c08c235475f",
        "colab": {
          "base_uri": "https://localhost:8080/"
        }
      },
      "outputs": [
        {
          "output_type": "execute_result",
          "data": {
            "text/plain": [
              "['shark', 'cat']"
            ]
          },
          "metadata": {},
          "execution_count": 9
        }
      ],
      "source": [
        "animals[5:1:-2]"
      ]
    },
    {
      "cell_type": "code",
      "execution_count": null,
      "metadata": {
        "id": "0imSJDXUwW6X"
      },
      "outputs": [],
      "source": [
        "animals[:1:-2]"
      ]
    },
    {
      "cell_type": "code",
      "execution_count": 10,
      "metadata": {
        "id": "H5NreR-8wW6X",
        "outputId": "3d8fd00f-8d51-4103-c052-8c054c31c623",
        "colab": {
          "base_uri": "https://localhost:8080/"
        }
      },
      "outputs": [
        {
          "output_type": "execute_result",
          "data": {
            "text/plain": [
              "['shark', 'cat', 'pig']"
            ]
          },
          "metadata": {},
          "execution_count": 10
        }
      ],
      "source": [
        "animals[5::-2]"
      ]
    },
    {
      "cell_type": "code",
      "execution_count": null,
      "metadata": {
        "id": "9r9kn042wW6X"
      },
      "outputs": [],
      "source": [
        "animals[::-1]"
      ]
    },
    {
      "cell_type": "markdown",
      "metadata": {
        "id": "FkQnAgdPwW6X"
      },
      "source": [
        "<p style=\"text-align: right; direction: rtl; float: right; clear: both;\">\n",
        "אפשר לעבוד גם עם מיקומים שליליים.<br>\n",
        "עבור פייתון זה אותו דבר:\n",
        "</p>"
      ]
    },
    {
      "cell_type": "code",
      "execution_count": null,
      "metadata": {
        "id": "zj0nsTArwW6X"
      },
      "outputs": [],
      "source": [
        "# Index:     0       1      2      3      4       5\n",
        "animals = ['duck', 'pig', 'cow', 'cat', 'dog', 'shark']\n",
        "#           -6      -5     -4     -3     -2      -1"
      ]
    },
    {
      "cell_type": "code",
      "execution_count": 11,
      "metadata": {
        "id": "QU-Li5vdwW6X",
        "outputId": "bb481f13-de96-4095-a641-9ff06d49d6f0",
        "colab": {
          "base_uri": "https://localhost:8080/"
        }
      },
      "outputs": [
        {
          "output_type": "execute_result",
          "data": {
            "text/plain": [
              "['shark', 'cat']"
            ]
          },
          "metadata": {},
          "execution_count": 11
        }
      ],
      "source": [
        "animals[-1:-5:-2]"
      ]
    },
    {
      "cell_type": "markdown",
      "metadata": {
        "id": "Hre0iIp-wW6X"
      },
      "source": [
        "## <p style=\"align: right; direction: rtl; float: right; clear: both;\">תרגילים</p>"
      ]
    },
    {
      "cell_type": "markdown",
      "metadata": {
        "id": "2M90UWtlwW6Y"
      },
      "source": [
        "### <p style=\"align: right; direction: ltr; float: right; clear: both;\">איזה עולם</p>"
      ]
    },
    {
      "cell_type": "code",
      "execution_count": 13,
      "metadata": {
        "id": "6jt_BtiuwW6Y"
      },
      "outputs": [],
      "source": [
        "hello = \"Hello World\""
      ]
    },
    {
      "cell_type": "code",
      "source": [
        "hello[6:] + hello[5:3:-1] + \"f \" + hello[:4]"
      ],
      "metadata": {
        "id": "grjxW--o0zfa",
        "outputId": "00b13a3a-d98b-4330-8271-d03377806588",
        "colab": {
          "base_uri": "https://localhost:8080/",
          "height": 36
        }
      },
      "execution_count": 16,
      "outputs": [
        {
          "output_type": "execute_result",
          "data": {
            "text/plain": [
              "'World of Hell'"
            ],
            "application/vnd.google.colaboratory.intrinsic+json": {
              "type": "string"
            }
          },
          "metadata": {},
          "execution_count": 16
        }
      ]
    },
    {
      "cell_type": "markdown",
      "metadata": {
        "id": "jirKX5UrwW6Y"
      },
      "source": [
        "<p style=\"text-align: right; direction: rtl; float: right; clear: both;\">\n",
        "שרשרו את המחרוזות הבאות יחד, לפי הסדר שבו הן מוצגות בתרגיל.<br>\n",
        "לצורך התרגיל, התייחסו ל־H כתו הראשון במחרוזת. כמו כן, התייחסו לרווח כתו לכל דבר.\n",
        "</p>\n",
        "<ol style=\"text-align: right; direction: rtl; float: right; clear: both;\">\n",
        "    <li>המחרוזת שהוגדרה מהתו השביעי והלאה.</li>\n",
        "    <li>המחרוזת שהוגדרה מהתו השישי ועד התו החמישי, כולל, מימין לשמאל.</li>\n",
        "    <li>המחרוזת <span dir=\"ltr\" style=\"direction: ltr\">\"f \"</span> (התו f ואז רווח).</li>\n",
        "    <li>ארבעת התווים הראשונים במחרוזת שהוגדרה.</li>\n",
        "</ol>"
      ]
    },
    {
      "cell_type": "markdown",
      "metadata": {
        "id": "Ywl1nMJwwW6Y"
      },
      "source": [
        "### <p style=\"align: right; direction: ltr; float: right; clear: both;\">מסר סודי ביותר</p>"
      ]
    },
    {
      "cell_type": "markdown",
      "metadata": {
        "id": "UgSOhPBkwW6Y"
      },
      "source": [
        "<p style=\"text-align: right; direction: rtl; float: right; clear: both;\">\n",
        "ארפכשד העביר לכדרלעומר מסר סודי ומוצפן.<br>\n",
        "במחרוזת הבאה, אם תקפצו בכל פעם מעל מספר מסוים של אותיות, תקבלו מסר חשוב הכולל את סיסמתו של ארפכשד.<br>\n",
        "מצאו על כמה אותיות צריך לדלג בכל פעם כדי להשיג את המסר הסודי שנשלח לארפכשד.\n",
        "</p>"
      ]
    },
    {
      "cell_type": "markdown",
      "metadata": {
        "id": "o-KUsLwSwW6Y"
      },
      "source": [
        "<p style=\"text-align: right; direction: rtl; float: right; clear: both;\">\n",
        "<em>רמז</em>: <span style=\"background: black; color: black;\">המחרוזת כוללת את המילה <q>password</q></span>.\n",
        "</p>"
      ]
    },
    {
      "cell_type": "code",
      "execution_count": 18,
      "metadata": {
        "id": "MvKAcnENwW6Y"
      },
      "outputs": [],
      "source": [
        "secret_message = 'TzH?!xC7zAhSH[n[m$_;e>?6: YiT< 8)4=5Kv\\r>p4/{b2vw>fa}^~HNH}sms<_y{`KuK!s9Nt\\'Ckl]{wlEMsmP&,uoDx\\rW zVvvr%M+RXNzE d/cH#hq;}) BR`eBp|;BirGX\\x0cK%Su,s(\"BX6sMa. 1MZ|*\\x0b\\x0bsvA9~:%=p;y^v#l.\\n\\r)63\\noLz]{,|q|!cxd\\'Eik;VVa.vj\\x0c;>c\\t-dw8Fr0TRUro|<t-SV|Z['"
      ]
    },
    {
      "cell_type": "code",
      "source": [
        "secret_message.index(\"p\")"
      ],
      "metadata": {
        "id": "-vIwEu3w2iR3",
        "outputId": "f3ded77f-a1c5-4e85-80d5-3dc25d01342d",
        "colab": {
          "base_uri": "https://localhost:8080/"
        }
      },
      "execution_count": 19,
      "outputs": [
        {
          "output_type": "execute_result",
          "data": {
            "text/plain": [
              "40"
            ]
          },
          "metadata": {},
          "execution_count": 19
        }
      ]
    },
    {
      "cell_type": "code",
      "source": [
        "secret_message[::10]"
      ],
      "metadata": {
        "id": "aroRlVoo2qIq",
        "outputId": "bc6b4a9f-a863-4a7e-ebf7-03a5e8f621b2",
        "colab": {
          "base_uri": "https://localhost:8080/",
          "height": 36
        }
      },
      "execution_count": 27,
      "outputs": [
        {
          "output_type": "execute_result",
          "data": {
            "text/plain": [
              "'The password is Avocado'"
            ],
            "application/vnd.google.colaboratory.intrinsic+json": {
              "type": "string"
            }
          },
          "metadata": {},
          "execution_count": 27
        }
      ]
    },
    {
      "cell_type": "markdown",
      "metadata": {
        "id": "ibrn4DqpwW6Y"
      },
      "source": [
        "### <p style=\"align: right; direction: ltr; float: right; clear: both;\">(\"The very best\"[-3:]*2)[2:6]</p>"
      ]
    },
    {
      "cell_type": "markdown",
      "metadata": {
        "id": "fjoicbBJwW6Y"
      },
      "source": [
        "<p style=\"text-align: right; direction: rtl; float: right; clear: both;\">\n",
        "לפניכם דוגמה של קובץ טקסט שמסודר בצורה שמזכירה טבלה.<br>\n",
        "הקובץ מכיל את עשרים הפוקימונים הראשונים. העמודות מופרדות זו מזו בפסיקים.<br>\n",
        "החזירו רשימה של רשימות, כאשר כל תת־רשימה מייצגת שורה בטבלה, וכל תא ברשימה הזו מייצג את הערך שנמצא בעמודה באותה רשימה.<br>\n",
        "מחקו מהרשימות את עמודת Generation (שהרי כולם מדור ראשון), ואת עמודת Legendary (אף אחד מהם אינו אגדי).<br>\n",
        "מחקו גם את עמודת Total.\n",
        "</p>"
      ]
    },
    {
      "cell_type": "markdown",
      "metadata": {
        "id": "p-1dgmHgwW6Y"
      },
      "source": [
        "<p style=\"text-align: right; direction: rtl; float: right; clear: both;\">\n",
        "    דוגמה לפלט שאמור להתקבל עבור 3 השורות הראשונות:\n",
        "</p>"
      ]
    },
    {
      "cell_type": "markdown",
      "metadata": {
        "id": "6fPbOApRwW6Z"
      },
      "source": [
        "<samp>\n",
        "[\n",
        " ['#', 'Name', 'Type 1', 'Type 2', 'HP', 'Attack', 'Defense', 'Sp. Atk', 'Sp. Def', 'Speed'],\n",
        " ['1', 'Bulbasaur', 'Grass', 'Poison', '45', '49', '49', '65', '65', '45'],\n",
        " ['2', 'Ivysaur', 'Grass', 'Poison', '60', '62', '63', '80', '80', '60'],\n",
        "]\n",
        "</samp>"
      ]
    },
    {
      "cell_type": "markdown",
      "metadata": {
        "id": "jRWBfCMBwW6Z"
      },
      "source": [
        "<p style=\"text-align: right; direction: rtl; float: right; clear: both;\">\n",
        "<strong>בונוס</strong>: המירו לטיפוס מסוג <em>int</em> את המקומות ברשימה שמכילים מספרים.<br>\n",
        "זהו תרגיל מורכב. הרגישו בנוח לפתוח מחברות משבוע קודם ולהיעזר במדריכים.\n",
        "</p>"
      ]
    },
    {
      "cell_type": "code",
      "execution_count": 28,
      "metadata": {
        "id": "9GgN9nCgwW6Z"
      },
      "outputs": [],
      "source": [
        "pokemons = \"\"\"\n",
        "#,Name,Type 1,Type 2,Total,HP,Attack,Defense,Sp. Atk,Sp. Def,Speed,Generation,Legendary\n",
        "1,Bulbasaur,Grass,Poison,318,45,49,49,65,65,45,1,False\n",
        "2,Ivysaur,Grass,Poison,405,60,62,63,80,80,60,1,False\n",
        "3,Venusaur,Grass,Poison,525,80,82,83,100,100,80,1,False\n",
        "4,Charmander,Fire,,309,39,52,43,60,50,65,1,False\n",
        "5,Charmeleon,Fire,,405,58,64,58,80,65,80,1,False\n",
        "6,Charizard,Fire,Flying,534,78,84,78,109,85,100,1,False\n",
        "7,Squirtle,Water,,314,44,48,65,50,64,43,1,False\n",
        "8,Wartortle,Water,,405,59,63,80,65,80,58,1,False\n",
        "9,Blastoise,Water,,530,79,83,100,85,105,78,1,False\n",
        "10,Caterpie,Bug,,195,45,30,35,20,20,45,1,False\n",
        "11,Metapod,Bug,,205,50,20,55,25,25,30,1,False\n",
        "12,Butterfree,Bug,Flying,395,60,45,50,90,80,70,1,False\n",
        "13,Weedle,Bug,Poison,195,40,35,30,20,20,50,1,False\n",
        "14,Kakuna,Bug,Poison,205,45,25,50,25,25,35,1,False\n",
        "15,Beedrill,Bug,Poison,395,65,90,40,45,80,75,1,False\n",
        "16,Pidgey,Normal,Flying,251,40,45,40,35,35,56,1,False\n",
        "17,Pidgeotto,Normal,Flying,349,63,60,55,50,50,71,1,False\n",
        "18,Pidgeot,Normal,Flying,479,83,80,75,70,70,101,1,False\n",
        "19,Rattata,Normal,,253,30,56,35,25,35,72,1,False\n",
        "20,Raticate,Normal,,413,55,81,60,50,70,97,1,False\n",
        "\"\"\""
      ]
    },
    {
      "cell_type": "code",
      "source": [
        "pokemon_list = [line.split(\",\") for line in pokemons.split(\"\\n\")[1:-1]]\n",
        "pokemon_list = [l[:4] + l[5:11] for l in pokemon_list]\n",
        "print(pokemon_list)\n"
      ],
      "metadata": {
        "id": "5ChU4_Bi5LrC",
        "outputId": "ffc91877-f0a9-44fe-da25-00e0a799ca8c",
        "colab": {
          "base_uri": "https://localhost:8080/"
        }
      },
      "execution_count": 40,
      "outputs": [
        {
          "output_type": "stream",
          "name": "stdout",
          "text": [
            "[['#', 'Name', 'Type 1', 'Type 2', 'HP', 'Attack', 'Defense', 'Sp. Atk', 'Sp. Def', 'Speed'], ['1', 'Bulbasaur', 'Grass', 'Poison', '45', '49', '49', '65', '65', '45'], ['2', 'Ivysaur', 'Grass', 'Poison', '60', '62', '63', '80', '80', '60'], ['3', 'Venusaur', 'Grass', 'Poison', '80', '82', '83', '100', '100', '80'], ['4', 'Charmander', 'Fire', '', '39', '52', '43', '60', '50', '65'], ['5', 'Charmeleon', 'Fire', '', '58', '64', '58', '80', '65', '80'], ['6', 'Charizard', 'Fire', 'Flying', '78', '84', '78', '109', '85', '100'], ['7', 'Squirtle', 'Water', '', '44', '48', '65', '50', '64', '43'], ['8', 'Wartortle', 'Water', '', '59', '63', '80', '65', '80', '58'], ['9', 'Blastoise', 'Water', '', '79', '83', '100', '85', '105', '78'], ['10', 'Caterpie', 'Bug', '', '45', '30', '35', '20', '20', '45'], ['11', 'Metapod', 'Bug', '', '50', '20', '55', '25', '25', '30'], ['12', 'Butterfree', 'Bug', 'Flying', '60', '45', '50', '90', '80', '70'], ['13', 'Weedle', 'Bug', 'Poison', '40', '35', '30', '20', '20', '50'], ['14', 'Kakuna', 'Bug', 'Poison', '45', '25', '50', '25', '25', '35'], ['15', 'Beedrill', 'Bug', 'Poison', '65', '90', '40', '45', '80', '75'], ['16', 'Pidgey', 'Normal', 'Flying', '40', '45', '40', '35', '35', '56'], ['17', 'Pidgeotto', 'Normal', 'Flying', '63', '60', '55', '50', '50', '71'], ['18', 'Pidgeot', 'Normal', 'Flying', '83', '80', '75', '70', '70', '101'], ['19', 'Rattata', 'Normal', '', '30', '56', '35', '25', '35', '72'], ['20', 'Raticate', 'Normal', '', '55', '81', '60', '50', '70', '97']]\n"
          ]
        }
      ]
    }
  ],
  "metadata": {
    "kernelspec": {
      "display_name": "Python 3",
      "language": "python",
      "name": "python3"
    },
    "language_info": {
      "codemirror_mode": {
        "name": "ipython",
        "version": 3
      },
      "file_extension": ".py",
      "mimetype": "text/x-python",
      "name": "python",
      "nbconvert_exporter": "python",
      "pygments_lexer": "ipython3",
      "version": "3.8.5"
    },
    "colab": {
      "provenance": []
    }
  },
  "nbformat": 4,
  "nbformat_minor": 0
}