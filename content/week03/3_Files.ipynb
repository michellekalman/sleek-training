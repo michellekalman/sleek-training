{
  "cells": [
    {
      "cell_type": "markdown",
      "metadata": {
        "id": "m7DrHYbs8np1"
      },
      "source": [
        "<img src=\"https://github.com/PythonFreeCourse/Notebooks/blob/main/content/week03/images/logo.jpg?raw=1\" style=\"display: block; margin-left: auto; margin-right: auto;\" alt=\"לוגו של מיזם לימוד הפייתון. נחש מצויר בצבעי צהוב וכחול, הנע בין האותיות של שם הקורס: לומדים פייתון. הסלוגן המופיע מעל לשם הקורס הוא מיזם חינמי ללימוד תכנות בעברית.\">"
      ]
    },
    {
      "cell_type": "markdown",
      "metadata": {
        "id": "bDfwEpCj8np3"
      },
      "source": [
        "# <span style=\"text-align: right; direction: rtl; float: right;\">קבצים</span>"
      ]
    },
    {
      "cell_type": "markdown",
      "metadata": {
        "id": "kaNV30aq8np3"
      },
      "source": [
        "## <span style=\"text-align: right; direction: rtl; float: right; clear: both;\">הגדרה</span>"
      ]
    },
    {
      "cell_type": "markdown",
      "metadata": {
        "id": "8DAv3zpJ8np3"
      },
      "source": [
        "<p style=\"text-align: right; direction: rtl; float: right; clear: both;\">\n",
        "    <dfn>קובץ</dfn> הוא מבנה שמאגד בתוכו נתונים השמורים במחשב שלכם.<br>\n",
        "    לכל קובץ יש שם וכתובת (<dfn>נתיב</dfn>, או באנגלית <dfn>path</dfn>), והוא מכיל כמות מסוימת של מידע שמשפיעה על גודלו.<br>\n",
        "    תוכן הקובץ הוא מה שמגדיר את סוגו. סוגי קבצים שונים משמשים למטרות שונות, לדוגמה:\n",
        "</p>"
      ]
    },
    {
      "cell_type": "markdown",
      "metadata": {
        "id": "vybLunxM8np4"
      },
      "source": [
        "<table style=\"text-align: right; direction: rtl; clear: both; font-size: 1.3rem\">\n",
        "    <thead>\n",
        "        <tr>\n",
        "            <th>סוג הקובץ</th>\n",
        "            <th>תכלית הקובץ</th>\n",
        "            <th>דוגמאות לסיומות</th>\n",
        "        </tr>\n",
        "    </thead>\n",
        "    <tbody>\n",
        "        <tr>\n",
        "            <td>טקסט</td>\n",
        "            <td>מכיל מלל בלבד, ללא עיצוב כלשהו (הדגשות, גדלים וכדומה)</td>\n",
        "            <td>txt</td>\n",
        "        </tr>\n",
        "        <tr>\n",
        "            <td>תמונה</td>\n",
        "            <td>ייצוג של תמונה דיגיטלית למטרת הצגה חזותית שלה</td>\n",
        "            <td>png, jpg, gif, bmp</td>\n",
        "        </tr>\n",
        "        <tr>\n",
        "            <td>וידיאו</td>\n",
        "            <td>ייצוג של סרט או כל וידיאו אחר</td>\n",
        "            <td>mp4, avi, flv</td>\n",
        "        </tr>\n",
        "        <tr>\n",
        "            <td>פייתון</td>\n",
        "            <td>מכיל קוד שהתוכנה של פייתון יודעת לקרוא ולהפעיל</td>\n",
        "            <td>py, pyc, pyd</td>\n",
        "        </tr>\n",
        "        <tr>\n",
        "            <td>הרצה</td>\n",
        "            <td>מכיל סדרת הוראות המיועדות לקריאה ולהרצה על־ידי המחשב</td>\n",
        "            <td>exe, dmg</td>\n",
        "        </tr>\n",
        "    </tbody>\n",
        "</table>"
      ]
    },
    {
      "cell_type": "markdown",
      "metadata": {
        "id": "SA9Irmif8np4"
      },
      "source": [
        "## <span style=\"text-align: right; direction: rtl; float: right; clear: both;\">הקדמה</span>"
      ]
    },
    {
      "cell_type": "markdown",
      "metadata": {
        "id": "aG16yL8h8np5"
      },
      "source": [
        "### <span style=\"text-align: right; direction: rtl; float: right; clear: both;\">מהברזל ועד הקובץ</span>\n",
        "\n",
        "<p style=\"text-align: right; direction: rtl; float: right; clear: both;\">\n",
        "קבצים הם דרך נהדרת לקבל הצצה חטופה לעומק ולמורכבות של המכונה המדהימה שנקראת מחשב.<br>\n",
        "ננסה לצייר לכם תמונה מלאה – נתחיל מהשכבה הנמוכה ביותר, הכונן הקשיח שלכם, ולבסוף נגיע לקבצים.\n",
        "</p>"
      ]
    },
    {
      "cell_type": "markdown",
      "metadata": {
        "id": "NcmFNuSK8np5"
      },
      "source": [
        "#### <span style=\"text-align: right; direction: rtl; float: right; clear: both;\">הכונן הקשיח</span>\n",
        "\n",
        "<p style=\"text-align: right; direction: rtl; float: right; clear: both;\">\n",
        "<dfn>כונן קשיח</dfn> הוא אחד מהרכיבים הנמצאים בקופסת המחשב שעליו אתם עובדים כרגע.<br>\n",
        "זהו הרכיב שמאחסן לטווח ארוך את המידע במחשב שלכם – קבצים, תוכנות, מערכת הפעלה והגדרות, כמו העדפות השפה שלכם.<br>\n",
        "היתרון המובהק של כוננים קשיחים הוא שהם יודעים לשמור על המידע שלכם לאורך זמן, גם כאשר הם לא מוזנים בחשמל.\n",
        "</p>"
      ]
    },
    {
      "cell_type": "markdown",
      "metadata": {
        "id": "BTB5xM068np5"
      },
      "source": [
        "#### <span style=\"text-align: right; direction: rtl; float: right; clear: both;\">ביט</span>\n",
        "\n",
        "<p style=\"text-align: right; direction: rtl; float: right; clear: both;\">\n",
        "כוננים קשיחים מכילים הרבה יחידות קטנטנות שכל אחת מהן נקראת \"ביט\".<br>\n",
        "<dfn>ביט</dfn> הוא ערך שיכול להיות 0 או 1, כלומר כבוי או דולק.<br>\n",
        "בכל כונן קשיח פשוט שנמכר כיום יש מקום ל<em>מאות מיליארדי</em>(!) ביטים כאלו.<br>\n",
        "כך נשמר כל המידע שדיברנו עליו בפסקה הקודמת.\n",
        "</p>\n",
        "\n",
        "<p style=\"text-align: right; direction: rtl; float: right; clear: both;\">\n",
        "אם נסתכל בעיניים אנושיות על רצפי התאים הקטנטנים, הביטים, שנמצאים בכונן הקשיח, קרוב לוודאי שלא נבין מהם כלום.<br>\n",
        "הנה דוגמה לרצף שכזה: 010000100011001100101111010100110011001000110011.<br>\n",
        "איך יוצקים משמעות לתוך דבר כזה? מה רצף המספרים הזה אומר בכלל?\n",
        "</p>\n",
        "\n",
        "<p style=\"text-align: right; direction: rtl; float: right; clear: both;\">\n",
        "נדמיין לרגע שאנחנו הממציאים של המחשב, ושהמטרה שלנו היא לייצג טקסט בצורה קלה לשמירה ולקריאה לאחר מכן.<br>\n",
        "האם תוכלו לחשוב על דרך לעשות זאת רק באמצעות רצפים של 0 ו־1?\n",
        "</p>\n",
        "\n",
        "<div style=\"clear: both;\"></div>"
      ]
    },
    {
      "cell_type": "markdown",
      "metadata": {
        "id": "Sn6OKg4d8np5"
      },
      "source": [
        "#### <span style=\"text-align: right; direction: rtl; float: right; clear: both;\">ייצוג תווים</span>\n",
        "\n",
        "<p style=\"text-align: right; direction: rtl; float: right; clear: both;\">\n",
        "בעיה דומה של ייצוג טקסט באמצעות אפסים ואחדים בלבד, עלתה אי שם ב־1960.<br>\n",
        "אחסוך לכם הרבה מעשיות בדרך, אבל מפה לשם הוחלט על תקן בשם <dfn id=\"ASCII\"><abbr title=\"American Standard Code for Information Interchange\">ASCII</abbr></dfn>, שקובע שכל סידור אפשרי של 8 ביטים שכאלו, שנקרא \"<dfn>בייט</dfn>\", ייצג תו.<br>\n",
        "האות A קיבלה את הייצוג 01000001, האות Z, למשל, קיבלה את הייצוג 01011010, הספרה 7 את הייצוג 00110111 והתו רווח את הייצוג 00100000.<br>\n",
        "כך אפשר לקרוא מסר ארוך מאוד, ולהמיר כל 8 ביטים רצופים לתו. אם ננסה לקרוא בשיטה הזו 80 ביטים, נקבל 10 תווים קריאים.\n",
        "</p>"
      ]
    },
    {
      "cell_type": "markdown",
      "metadata": {
        "id": "R6tYEMJY8np6"
      },
      "source": [
        "#### <span style=\"text-align: right; direction: rtl; float: right; clear: both;\">ייצוג קבצים אחרים</span>\n",
        "\n",
        "<p style=\"text-align: right; direction: rtl; float: right; clear: both;\">\n",
        "אבל רגע! מה קורה אם אני רוצה לייצג תמונה של חתול? או סרטון של חתול? או סאונד של... ובכן, חתול?<br>\n",
        "כמו שאנשים חכמים חשבו על דרך לייצג ASCII, חכמים אחרים חשבו, עבור כל סוג של קובץ – מתמונה ועד תוכנה שרצה על המחשב, איך מייצגים אותם באמצעות ביטים.<br>\n",
        "גם בימים אלו, אנשים מוכשרים רבים יושבים וחושבים על דרכים טובות יותר לייצג מידע בעזרת ביטים, ויוצרים עבורנו סוגי קבצים חדשים.<br>\n",
        "</p>\n",
        "\n",
        "<p style=\"text-align: right; direction: rtl; float: right; clear: both;\">\n",
        "כשאנחנו רוצים לפתוח תמונה של חתול, למשל, אנחנו מפעילים תוכנה ייעודית שיודעת לקרוא ייצוג של תמונות.<br>\n",
        "מה שקורה באותו רגע מאחורי הקלעים הוא שהתוכנה קוראת רצפים של 0 ו־1 מהדיסק הקשיח, אותם ביטים שדיברנו עליהם.<br>\n",
        "מי שצילם את התמונה השתמש בתוכנה שיודעת להמיר את מה שקרה על מסך המצלמה לביטים שנשמרו על כרטיס הזיכרון שלו.<br>\n",
        "מי שתכנת את התוכנה שמציגה לנו כרגע את החתול ידע להורות לה מה לעשות כדי לתרגם את אותם ביטים לתמונה שמוצגת לכם על המסך.<br>\n",
        "שניהם פעלו לפי תקן מסוים (יש כמה כאלו, אולי אתם מכירים חלק מהם: JPG, PNG, GIF ועוד), שקובע דרך אחידה לייצג תמונה בעזרת ביטים.<br>\n",
        "בסופו של דבר, עבור התוכנה החתול שלכם הוא בסך הכול משבצות קטנטנות בצבעים שונים שמצוירות זו על יד זו.\n",
        "</p>\n",
        "\n",
        "<p style=\"text-align: right; direction: rtl; float: right; clear: both;\">\n",
        "    ייצוג מסוים של קובץ נקרא \"<dfn>פורמט</dfn>\", או בעברית \"<dfn>תַּסְדִיר</dfn>\".\n",
        "</p>"
      ]
    },
    {
      "cell_type": "markdown",
      "metadata": {
        "id": "H-XNL3Yf8np6"
      },
      "source": [
        "### <span style=\"text-align: right; direction: rtl; float: right; clear: both;\">קבצים טקסטואליים וקבצים בינאריים</span>"
      ]
    },
    {
      "cell_type": "markdown",
      "metadata": {
        "id": "AM0z56WJ8np6"
      },
      "source": [
        "<p style=\"text-align: right; direction: rtl; float: right; clear: both;\">\n",
        "חלק מהקבצים, כמו מסמכי טקסט או תוכניות פייתון, יכולים להיות קבצים טקסטואליים.<br>\n",
        "ישנם סוגי קבצים טקסטואליים נוספים, כמו <abbr title=\"Comma Separated Values\">CSV</abbr> שמייצג מידע טבלאי באמצעות טקסט, או <abbr title=\"Hypertext Markup Language\">HTML</abbr> שמייצג קוד שבעזרתו המחשב יודע להציג דף אינטרנט.<br>\n",
        "<mark>המשותף לקבצים האלו הוא שאם ממירים את הביטים שמהם הם מורכבים לתווים, מתקבלת תוצאה שנוח לבני אדם לקרוא, ולא רק למחשב.</mark>\n",
        "</p>"
      ]
    },
    {
      "cell_type": "markdown",
      "metadata": {
        "id": "_YbRXzPX8np6"
      },
      "source": [
        "<figure>\n",
        "    <img src=\"https://github.com/PythonFreeCourse/Notebooks/blob/main/content/week03/images/textual-csv-representation.png?raw=1\" style=\"display: block; text-align: center; margin-left: auto; margin-right: auto;\" width=\"auto\" alt=\"שני חלונות פתוחים זה ליד זה. בחלון הימני יש תוכנת Microsoft Excel פתוחה, בה נראים כ־15 שורות של מידע אודות יין (נראה שיש עוד מידע רב אם נגלול למטה). שורת הכותרת מכילה את שמות העמודות, ביניהן ארץ מוצא, תיאור, ניקוד, מחיר ועוד, ומתחת לשורת הכותרת ישנם שורות רבות כאשר כל שורה מייצגת יין. בחלון השמאלי ניתן לראות תוכנה פשוטה לעריכת טקסט, ובה מופיעה אותה טבלה בטקסט פשוט. כל שורת יין מופרדת אחת מהשנייה באנטר (שורה חדשה), והתאים בכל שורה מופרדים זה מזה בפסיק.\">\n",
        "    <figcaption style=\"text-align: center; direction: rtl;\">מימין ניתן לראות קובץ CSV פתוח באקסל, ומשמאל את הייצוג הטקסטואלי שלו.</figcaption>\n",
        "</figure>"
      ]
    },
    {
      "cell_type": "markdown",
      "metadata": {
        "id": "QKaUchmZ8np6"
      },
      "source": [
        "<p style=\"text-align: right; direction: rtl; float: right; clear: both;\">\n",
        "ישנם גם סוגי קבצים אחרים שלא נועדו לקריאה על־ידי עין אנושית.<br>\n",
        "קבצים כאלו נקראים \"קבצים בינאריים\", ונלמד לטפל בחלק מהם בשלב מתקדם יותר בקורס.<br>\n",
        "</p>"
      ]
    },
    {
      "cell_type": "markdown",
      "metadata": {
        "id": "JKK2vnOm8np6"
      },
      "source": [
        "<p style=\"text-align: right; direction: rtl; float: right; clear: both;\">\n",
        "    לפניכם דוגמה לכמה סוגי קבצים בינאריים:\n",
        "</p>"
      ]
    },
    {
      "cell_type": "markdown",
      "metadata": {
        "id": "h8Bg41eo8np6"
      },
      "source": [
        "<ul style=\"text-align: right; direction: rtl; float: right; clear: both;\">\n",
        "    <li>MP3 – תסדיר המיועד עבור קובצי שמע.</li>\n",
        "    <li>PNG – תסדיר לייצוג תמונות.</li>\n",
        "    <li>PDF – תסדיר המיועד עבור תצוגה מדויקת של מסמכים.</li>\n",
        "    <li>XLSX – תסדיר המיועד לאחסון מידע בגיליונות אלקטרוניים (לדוגמה, בעזרת Excel).</li>\n",
        "    <li>EXE – תסדיר המיועד למערכת ההפעלה חלונות, ומפרט אילו פקודות יש לבצע כדי שתוכנה תרוץ.</li>\n",
        "</ul>"
      ]
    },
    {
      "cell_type": "markdown",
      "metadata": {
        "id": "WnMhq0ZT8np7"
      },
      "source": [
        "<figure>\n",
        "    <img src=\"https://github.com/PythonFreeCourse/Notebooks/blob/main/content/week03/images/binary-png-representation.png?raw=1\" style=\"display: block; text-align: center; margin-left: auto; margin-right: auto;\" width=\"auto\" alt=\"שני חלונות פתוחים זה ליד זה. בחלון הימני יש תמונה צבעונית של לוגו הקורס פתוח. בחלון השמאלי ניתן לראות תוכנה פשוטה לעריכת טקסט, ובה מופיעים תווים בלתי דפיסים שלא ניתן לקרוא בעין אנושית.\">\n",
        "    <figcaption style=\"text-align: center; direction: rtl;\">מימין ניתן לראות קובץ PNG פתוח בתוכנה להצגת תמונות, ומשמאל את הייצוג הבינארי שלו כשמנסים להמיר אותו לטקסט.<br>\n",
        "    קל לראות ש־PNG אינו תסדיר טקסטואלי.</figcaption>\n",
        "</figure>"
      ]
    },
    {
      "cell_type": "markdown",
      "metadata": {
        "id": "9HSeqmWq8np7"
      },
      "source": [
        "<p style=\"text-align: right; direction: rtl; float: right; clear: both;\">\n",
        "    בהמשך החוברת הזו נלמד לטפל בקבצים טקסטואליים.\n",
        "</p>"
      ]
    },
    {
      "cell_type": "markdown",
      "metadata": {
        "id": "gHnZT9jH8np7"
      },
      "source": [
        "## <span style=\"text-align: right; direction: rtl; float: right;\">טיפול בקבצים</span>"
      ]
    },
    {
      "cell_type": "markdown",
      "metadata": {
        "id": "_ZAY_wvh8np7"
      },
      "source": [
        "<p style=\"text-align: right; direction: rtl; float: right; clear: both;\">\n",
        "    אם בעבר השתמשנו בפנקס כדי לשמור מלל, הרי שכיום שימוש בקבצים ממוחשבים עושה הכול לקל ומהיר.<br>\n",
        "    על קבצים ממוחשבים אפשר לבצע חישובים מסובכים בתוך חלקיק שנייה, ויתרון זה מעניק לנו יכולות שלא היו קיימות בעבר.\n",
        "</p>"
      ]
    },
    {
      "cell_type": "markdown",
      "metadata": {
        "id": "6pohHvhR8np7"
      },
      "source": [
        "<p style=\"text-align: right; direction: rtl; float: right; clear: both;\">\n",
        "    קבצים הם מקור מצוין לקלט ולפלט עבור התוכניות שאנחנו כותבים.<br>\n",
        "    כמקור קלט, הם יכולים לכלול שורות רבות או מידע מורכב מהרגיל.<br>\n",
        "    כפלט, הם מאפשרים לנו לשמור מידע בין הרצה להרצה, להעביר את המידע ממקום למקום בקלות ולייצג מידע מורכב בפשטות.\n",
        "</p>"
      ]
    },
    {
      "cell_type": "markdown",
      "metadata": {
        "id": "utQs-dSg8np7"
      },
      "source": [
        "<p style=\"text-align: right; direction: rtl; float: right; clear: both;\">\n",
        "בקובץ <em>passwords.txt</em> שנמצא בתוך תיקיית resources, אספנו לכם את 25 הסיסמאות הנפוצות ביותר בעולם.<br>\n",
        "בתור התחלה, ננסה להציץ במה שכתוב בתוך הקובץ בעזרת פייתון.\n",
        "</p>"
      ]
    },
    {
      "cell_type": "markdown",
      "metadata": {
        "id": "ZAEx1rNr8np7"
      },
      "source": [
        "### <span style=\"text-align: right; direction: rtl; float: right;\">פתיחת קובץ</span>"
      ]
    },
    {
      "cell_type": "markdown",
      "metadata": {
        "id": "YJynWNtz8np7"
      },
      "source": [
        "<p style=\"text-align: right; direction: rtl; float: right; clear: both;\">\n",
        "הפונקציה <code>open</code> מאפשרת לנו לפתוח קובץ בעזרת פייתון, כדי להשתמש בו בהמשך התוכנית.<br>\n",
        "היא מקבלת 2 פרמטרים: הראשון הוא הנתיב לקובץ, והשני הוא צורת הגישה לקובץ, שעליה מייד נסביר.<br>\n",
        "הפונקציה מחזירה ערך שנקרא <dfn>File handler</dfn>, מעין מצביע על הקובץ שעליו נוכל לבצע פעולות.<br>\n",
        "</p>"
      ]
    },
    {
      "cell_type": "markdown",
      "metadata": {
        "id": "sv8_CuU28np7"
      },
      "source": [
        "<p style=\"text-align: right; direction: rtl; float: right; clear: both;\">\n",
        "צורת הגישה לקובץ תיבחר לפי המטרה שלשמה אנחנו פותחים אותו:\n",
        "</p>\n",
        "<ul style=\"text-align: right; direction: rtl; float: right; clear: both;\">\n",
        "    <li>אם אנחנו מעוניינים לקרוא את הקובץ, צורת הגישה שנבחר תהיה <em>'r'</em> – קריאה, read.</li>\n",
        "    <li>אם אנחנו מעוניינים לכתוב אל הקובץ ולדרוס את מה שקיים בו, צורת הגישה שנבחר תהיה <em>'w'</em> – כתיבה, write.</li>\n",
        "    <li>אם אנחנו מעוניינים להוסיף אל הקובץ, צורת הגישה שנבחר תהיה <em>'a'</em> – הוספה, append.</li>\n",
        "</ul>"
      ]
    },
    {
      "cell_type": "markdown",
      "metadata": {
        "id": "mN_Twoq18np8"
      },
      "source": [
        "<div class=\"align-center\" style=\"display: flex; text-align: right; direction: rtl;\">\n",
        "    <div style=\"display: flex; width: 10%; float: right; \">\n",
        "        <img src=\"https://github.com/PythonFreeCourse/Notebooks/blob/main/content/week03/images/warning.png?raw=1\" style=\"height: 50px !important;\" alt=\"אזהרה!\">\n",
        "    </div>\n",
        "    <div style=\"width: 90%\">\n",
        "        <p style=\"text-align: right; direction: rtl;\">\n",
        "            הפרמטר השני, צורת הגישה לקובץ, הוא מחרוזת.<br>\n",
        "            טעות נפוצה היא לשים שם r, w או a בלי גרשיים סביב.\n",
        "        </p>\n",
        "    </div>\n",
        "</div>"
      ]
    },
    {
      "cell_type": "markdown",
      "metadata": {
        "id": "K4bh5tOr8np8"
      },
      "source": [
        "<p style=\"text-align: right; direction: rtl; float: right; clear: both;\">\n",
        "נתחיל בפתיחת הקובץ, ובהשמה של ה־file handler למשתנה:\n",
        "</p>"
      ]
    },
    {
      "cell_type": "code",
      "execution_count": 5,
      "metadata": {
        "id": "5vIZHE558np8"
      },
      "outputs": [],
      "source": [
        "common_passwords_file = open('/resources/passwords.txt', 'r')"
      ]
    },
    {
      "cell_type": "markdown",
      "metadata": {
        "id": "Emgf2b9G8np9"
      },
      "source": [
        "<p style=\"text-align: right; direction: rtl; float: right; clear: both;\">\n",
        "כך נראה הסוג של file handler המצביע לקובץ טקסטואלי:\n",
        "</p>"
      ]
    },
    {
      "cell_type": "code",
      "execution_count": 6,
      "metadata": {
        "id": "MyYZjpaU8np-",
        "outputId": "f265de15-edde-4e03-9df2-87bec81355c1",
        "colab": {
          "base_uri": "https://localhost:8080/"
        }
      },
      "outputs": [
        {
          "output_type": "execute_result",
          "data": {
            "text/plain": [
              "_io.TextIOWrapper"
            ]
          },
          "metadata": {},
          "execution_count": 6
        }
      ],
      "source": [
        "type(common_passwords_file)"
      ]
    },
    {
      "cell_type": "markdown",
      "metadata": {
        "id": "NHa69_pZ8np-"
      },
      "source": [
        "### <span style=\"text-align: right; direction: rtl; float: right;\">קריאת קובץ</span>"
      ]
    },
    {
      "cell_type": "markdown",
      "metadata": {
        "id": "A5_wgOg78np-"
      },
      "source": [
        "<p style=\"text-align: right; direction: rtl; float: right; clear: both;\">\n",
        "עכשיו, כשהקובץ פתוח, נוכל להשתמש בו.<br>\n",
        "נבקש מפייתון לקרוא את תוכן הקובץ באמצעות הפעולה <code>read</code>, ונבצע השמה של התוכן שחזר מהפעולה, למשתנה:\n",
        "</p>"
      ]
    },
    {
      "cell_type": "code",
      "execution_count": 7,
      "metadata": {
        "id": "5cok7uxp8np-",
        "outputId": "97228295-2967-41d1-d498-e2626e38122d",
        "colab": {
          "base_uri": "https://localhost:8080/"
        }
      },
      "outputs": [
        {
          "output_type": "stream",
          "name": "stdout",
          "text": [
            "123456\n",
            "password\n",
            "123456789\n",
            "12345678\n",
            "12345\n",
            "111111\n",
            "1234567\n",
            "sunshine\n",
            "qwerty\n",
            "iloveyou\n",
            "princess\n",
            "admin\n",
            "welcome\n",
            "666666\n",
            "abc123\n",
            "football\n",
            "123123\n",
            "monkey\n",
            "654321\n",
            "!@#$%^&*\n",
            "charlie\n",
            "aa123456\n",
            "donald\n",
            "password1\n",
            "qwerty123\n"
          ]
        }
      ],
      "source": [
        "common_passwords = common_passwords_file.read()\n",
        "print(common_passwords)"
      ]
    },
    {
      "cell_type": "markdown",
      "metadata": {
        "id": "8YOZPlx-8np-"
      },
      "source": [
        "<p style=\"text-align: right; direction: rtl; float: right; clear: both;\">\n",
        "נשים לב שהערך שחזר לנו מפעולת הקריאה הוא מחרוזת לכל דבר:\n",
        "</p>"
      ]
    },
    {
      "cell_type": "code",
      "execution_count": 8,
      "metadata": {
        "id": "reVJQ7-H8np_",
        "outputId": "0e0fbcfa-03f9-4834-8a15-a3c638d5cccf",
        "colab": {
          "base_uri": "https://localhost:8080/"
        }
      },
      "outputs": [
        {
          "output_type": "execute_result",
          "data": {
            "text/plain": [
              "str"
            ]
          },
          "metadata": {},
          "execution_count": 8
        }
      ],
      "source": [
        "type(common_passwords)"
      ]
    },
    {
      "cell_type": "markdown",
      "metadata": {
        "id": "aFikW92N8np_"
      },
      "source": [
        "<p style=\"text-align: right; direction: rtl; float: right; clear: both;\">\n",
        "זיכרו ששורות חדשות מיוצגות על ידי התו <em style=\"direction: ltr\" dir=\"ltr\">\\n</em>, וכך גם ב־common_passwords:\n",
        "</p>"
      ]
    },
    {
      "cell_type": "code",
      "execution_count": 9,
      "metadata": {
        "id": "d5ezLE6y8np_",
        "outputId": "d4fbafd6-cad3-4e8d-95f6-5eabd616bc39",
        "colab": {
          "base_uri": "https://localhost:8080/",
          "height": 70
        }
      },
      "outputs": [
        {
          "output_type": "execute_result",
          "data": {
            "text/plain": [
              "'123456\\npassword\\n123456789\\n12345678\\n12345\\n111111\\n1234567\\nsunshine\\nqwerty\\niloveyou\\nprincess\\nadmin\\nwelcome\\n666666\\nabc123\\nfootball\\n123123\\nmonkey\\n654321\\n!@#$%^&*\\ncharlie\\naa123456\\ndonald\\npassword1\\nqwerty123'"
            ],
            "application/vnd.google.colaboratory.intrinsic+json": {
              "type": "string"
            }
          },
          "metadata": {},
          "execution_count": 9
        }
      ],
      "source": [
        "common_passwords"
      ]
    },
    {
      "cell_type": "markdown",
      "metadata": {
        "id": "bg46LUfz8np_"
      },
      "source": [
        "<div class=\"align-center\" style=\"display: flex; text-align: right; direction: rtl; clear: both;\">\n",
        "    <div style=\"display: flex; width: 10%; float: right; clear: both;\">\n",
        "        <img src=\"https://github.com/PythonFreeCourse/Notebooks/blob/main/content/week03/images/exercise.svg?raw=1\" style=\"height: 50px !important;\" alt=\"תרגול\">\n",
        "    </div>\n",
        "    <div style=\"width: 90%\">\n",
        "        <p style=\"text-align: right; direction: rtl; float: right; clear: both;\">\n",
        "            פתחו את הקובץ וקראו אותו בעצמכם, קבלו מהמשתמש את הסיסמה שלו, והדפיסו אם היא בין 25 הסיסמאות הנפוצות ביותר.<br>\n",
        "            <strong>בונוס</strong>: אם היא בין 25 הסיסמאות הנפוצות, החזירו את המיקום שלה ברשימה.\n",
        "        </p>\n",
        "    </div>\n",
        "</div>"
      ]
    },
    {
      "cell_type": "markdown",
      "metadata": {
        "id": "Cqi91Mac8nqD"
      },
      "source": [
        "### <span style=\"text-align: right; direction: rtl; float: right;\">הסמן</span>"
      ]
    },
    {
      "cell_type": "markdown",
      "metadata": {
        "id": "jdHUf8qI8nqD"
      },
      "source": [
        "<p style=\"text-align: right; direction: rtl; float: right; clear: both;\">\n",
        "אם ננסה לקרוא שוב את הקובץ, נגלה תופעה מוזרה מעט:\n",
        "</p>"
      ]
    },
    {
      "cell_type": "code",
      "execution_count": 10,
      "metadata": {
        "id": "UPissUrM8nqE",
        "outputId": "64c42d6b-0523-4c0a-da55-435436112c01",
        "colab": {
          "base_uri": "https://localhost:8080/"
        }
      },
      "outputs": [
        {
          "output_type": "stream",
          "name": "stdout",
          "text": [
            "\n"
          ]
        }
      ],
      "source": [
        "common_passwords_again = common_passwords_file.read()\n",
        "print(common_passwords_again)"
      ]
    },
    {
      "cell_type": "code",
      "execution_count": 11,
      "metadata": {
        "id": "wR3-xezJ8nqE",
        "outputId": "dd077dcd-3a62-4fab-ff1e-0b6f52413fcf",
        "colab": {
          "base_uri": "https://localhost:8080/"
        }
      },
      "outputs": [
        {
          "output_type": "execute_result",
          "data": {
            "text/plain": [
              "True"
            ]
          },
          "metadata": {},
          "execution_count": 11
        }
      ],
      "source": [
        "# ???\n",
        "common_passwords_again == ''"
      ]
    },
    {
      "cell_type": "markdown",
      "metadata": {
        "id": "RY_huyHA8nqE"
      },
      "source": [
        "<p style=\"text-align: right; direction: rtl; float: right; clear: both;\">\n",
        "קריאה נוספת של הקובץ החזירה לנו הפעם שהוא ריק!<br>\n",
        "ודאי תשמחו לגלות שזו התנהגות צפויה – הכל באשמתו של הסמן.\n",
        "</p>"
      ]
    },
    {
      "cell_type": "markdown",
      "metadata": {
        "id": "bGuHYRpZ8nqE"
      },
      "source": [
        "<p style=\"text-align: right; direction: rtl; float: right; clear: both;\">\n",
        "תופתעו לדעת שאתם כבר מכירים את הרעיון של סמן!<br>\n",
        "דמיינו שאתם פותחים מסמך לעריכה, או אפילו פותרים תרגיל במחברת.<br>\n",
        "נסו להיזכר בקו המהבהב שמסמן לכם את המיקום של התו הבא שתכתבו.\n",
        "</p>"
      ]
    },
    {
      "cell_type": "markdown",
      "metadata": {
        "id": "ja2BYj7S8nqE"
      },
      "source": [
        "<p style=\"text-align: right; direction: rtl; float: right; clear: both;\">\n",
        "כאשר אנחנו פותחים קובץ לקריאה בעזרת פייתון, ה<dfn>סמן</dfn> (באנגלית: <dfn>cursor</dfn>) מצביע לתחילת הקובץ.<br>\n",
        "ברגע שאתם מבקשים מפייתון לקרוא את הקובץ בעזרת הפעולה <code>read</code>, היא קוראת מהמקום שבו נמצא הסמן ועד סוף הקובץ.<br>\n",
        "בזמן הקריאה הסמן יעבור לסוף הקובץ, ולכן כשתנסו לקרוא אותו שוב – תקבלו מחרוזת ריקה.\n",
        "</p>"
      ]
    },
    {
      "cell_type": "markdown",
      "metadata": {
        "id": "F03ttWYm8nqE"
      },
      "source": [
        "#### <span style=\"text-align: right; direction: rtl; float: right;\">seek</span>"
      ]
    },
    {
      "cell_type": "markdown",
      "metadata": {
        "id": "_12c81X68nqE"
      },
      "source": [
        "<p style=\"text-align: right; direction: rtl; float: right; clear: both;\">\n",
        "כדי להחזיר את הסמן לתחילת הקובץ, נשתמש בפעולה <code>seek</code> ונבקש ממנה להחזיר את הסמן כך שיצביע למקום 0 – לפני התו הראשון:\n",
        "</p>"
      ]
    },
    {
      "cell_type": "code",
      "execution_count": 12,
      "metadata": {
        "id": "iV_kOoam8nqE",
        "outputId": "c2b9d1c8-23a2-4a5e-904d-b4756a1c2126",
        "colab": {
          "base_uri": "https://localhost:8080/"
        }
      },
      "outputs": [
        {
          "output_type": "execute_result",
          "data": {
            "text/plain": [
              "0"
            ]
          },
          "metadata": {},
          "execution_count": 12
        }
      ],
      "source": [
        "common_passwords_file.seek(0)"
      ]
    },
    {
      "cell_type": "code",
      "execution_count": 13,
      "metadata": {
        "id": "QKM-rXbw8nqF",
        "outputId": "fbbf1a53-a1a0-41c0-f5c3-652488201043",
        "colab": {
          "base_uri": "https://localhost:8080/"
        }
      },
      "outputs": [
        {
          "output_type": "stream",
          "name": "stdout",
          "text": [
            "123456\n",
            "password\n",
            "123456789\n",
            "12345678\n",
            "12345\n",
            "111111\n",
            "1234567\n",
            "sunshine\n",
            "qwerty\n",
            "iloveyou\n",
            "princess\n",
            "admin\n",
            "welcome\n",
            "666666\n",
            "abc123\n",
            "football\n",
            "123123\n",
            "monkey\n",
            "654321\n",
            "!@#$%^&*\n",
            "charlie\n",
            "aa123456\n",
            "donald\n",
            "password1\n",
            "qwerty123\n"
          ]
        }
      ],
      "source": [
        "print(common_passwords_file.read())"
      ]
    },
    {
      "cell_type": "markdown",
      "metadata": {
        "id": "IIiq-gQ28nqF"
      },
      "source": [
        "#### <span style=\"text-align: right; direction: rtl; float: right;\">tell</span>"
      ]
    },
    {
      "cell_type": "markdown",
      "metadata": {
        "id": "cS_0rrmw8nqF"
      },
      "source": [
        "<p style=\"text-align: right; direction: rtl; float: right; clear: both;\">\n",
        "ניתן לראות איפה הסמן נמצא באמצעות הפעולה <code>tell</code>:\n",
        "</p>"
      ]
    },
    {
      "cell_type": "code",
      "execution_count": 14,
      "metadata": {
        "id": "TYfCDadO8nqF",
        "outputId": "d2cd0132-4646-41b1-f689-a4c38e5f868a",
        "colab": {
          "base_uri": "https://localhost:8080/"
        }
      },
      "outputs": [
        {
          "output_type": "execute_result",
          "data": {
            "text/plain": [
              "200"
            ]
          },
          "metadata": {},
          "execution_count": 14
        }
      ],
      "source": [
        "common_passwords_file.tell()"
      ]
    },
    {
      "cell_type": "code",
      "execution_count": 15,
      "metadata": {
        "id": "c7rnUIVb8nqF",
        "outputId": "bba80972-ef1a-4302-92c9-24de18c90fbf",
        "colab": {
          "base_uri": "https://localhost:8080/",
          "height": 36
        }
      },
      "outputs": [
        {
          "output_type": "execute_result",
          "data": {
            "text/plain": [
              "''"
            ],
            "application/vnd.google.colaboratory.intrinsic+json": {
              "type": "string"
            }
          },
          "metadata": {},
          "execution_count": 15
        }
      ],
      "source": [
        "common_passwords_file.read()"
      ]
    },
    {
      "cell_type": "markdown",
      "metadata": {
        "id": "OezeoOK68nqF"
      },
      "source": [
        "<p style=\"text-align: right; direction: rtl; float: right; clear: both;\">\n",
        "מכאן ניתן להסיק, שאם נעשה <code>seek</code> ונספק כארגומנט את המספר שחזר בתא האחרון, נעביר את הסמן כך שיצביע לסוף הקובץ.\n",
        "</p>"
      ]
    },
    {
      "cell_type": "markdown",
      "metadata": {
        "id": "nVT19kq08nqG"
      },
      "source": [
        "### <span style=\"text-align: right; direction: rtl; float: right;\">קריאה בצורות נוספות</span>"
      ]
    },
    {
      "cell_type": "markdown",
      "metadata": {
        "id": "pfXtrG328nqG"
      },
      "source": [
        "<p style=\"text-align: right; direction: rtl; float: right; clear: both;\">\n",
        "לעיתים, בייחוד כאשר מדובר בקובץ גדול, נעדיף לקרוא בכל פעם רק חלק מהקובץ.<br>\n",
        "נוכל לבחור לקרוא מספר מסוים של תווים באמצעות הפעולה <code>read</code> שאנחנו כבר מכירים,<br>\n",
        "אלא שהפעם נעביר לה ארגומנט שיורה לה כמה תווים לקרוא:\n",
        "</p>"
      ]
    },
    {
      "cell_type": "code",
      "execution_count": null,
      "metadata": {
        "id": "bJoeBKic8nqG"
      },
      "outputs": [],
      "source": [
        "common_passwords_file.seek(0)\n",
        "common_passwords_file.read(10)"
      ]
    },
    {
      "cell_type": "markdown",
      "metadata": {
        "id": "XwW7wsx88nqG"
      },
      "source": [
        "<p style=\"text-align: right; direction: rtl; float: right; clear: both;\">\n",
        "כדאי לזכור שהסמן יצביע עכשיו על מיקום 10, והפעלה נוספת של פעולת הקריאה תמשיך מהמקום הזה:\n",
        "</p>"
      ]
    },
    {
      "cell_type": "code",
      "execution_count": null,
      "metadata": {
        "id": "n67xI5-J8nqG"
      },
      "outputs": [],
      "source": [
        "common_passwords_file.read(5)"
      ]
    },
    {
      "cell_type": "markdown",
      "metadata": {
        "id": "Y18lvQEs8nqG"
      },
      "source": [
        "<p style=\"text-align: right; direction: rtl; float: right; clear: both;\">\n",
        "פייתון גם מאפשרת לנו לקרוא עד סוף השורה הנוכחית, שעליה נמצא הסמן, באמצעות הפעולה <code>readline</code>.<br>\n",
        "שימו לב שהשורה תסתיים בתווים המייצגים שורה חדשה:\n",
        "</p>"
      ]
    },
    {
      "cell_type": "code",
      "execution_count": null,
      "metadata": {
        "id": "mENsYSMX8nqG"
      },
      "outputs": [],
      "source": [
        "common_passwords_file.seek(0)\n",
        "common_passwords_file.readline()"
      ]
    },
    {
      "cell_type": "markdown",
      "metadata": {
        "id": "6JbD8dqk8nqG"
      },
      "source": [
        "<p style=\"text-align: right; direction: rtl; float: right; clear: both;\">\n",
        "לקריאת כל השורות בקובץ, ניתן להשתמש בפעולה <code>readlines</code>, שתחזיר לנו רשימת מחרוזות.<br>\n",
        "כל מחרוזת ברשימה מייצגת שורה אחת בקובץ:\n",
        "</p>"
      ]
    },
    {
      "cell_type": "code",
      "execution_count": null,
      "metadata": {
        "id": "hkRyzZEE8nqG"
      },
      "outputs": [],
      "source": [
        "common_passwords_file.seek(0)\n",
        "passwords = common_passwords_file.readlines()\n",
        "print(\"The passwords variable looks like: \" + str(passwords))\n",
        "print(\"The type of 'passwords' is: \" + str(type(passwords)))\n",
        "# אם נרצה להיפטר מתו השורה החדשה באחת השורות, נוכל להשתמש בפעולה שלמדנו על מחרוזות:\n",
        "# strip\n",
        "print(\"The most common password in the list is: \" + passwords[0].strip())\n",
        "print(\"The least common password in the list is: \" + passwords[-1].strip())"
      ]
    },
    {
      "cell_type": "markdown",
      "metadata": {
        "id": "hwFlRyOK8nqH"
      },
      "source": [
        "<div class=\"align-center\" style=\"display: flex; text-align: right; direction: rtl; clear: both;\">\n",
        "    <div style=\"display: flex; width: 10%; float: right; clear: both;\">\n",
        "        <img src=\"https://github.com/PythonFreeCourse/Notebooks/blob/main/content/week03/images/exercise.svg?raw=1\" style=\"height: 50px !important;\" alt=\"תרגול\">\n",
        "    </div>\n",
        "    <div style=\"width: 90%\">\n",
        "        <p style=\"text-align: right; direction: rtl; float: right; clear: both;\">\n",
        "            כתבו פונקציה שמקבלת נתיב לקובץ, ומחזירה רשימה שבה כל איבר הוא שורה בקובץ.<br>\n",
        "            בניגוד לפעולה <code>readlines</code>, דאגו שהמחרוזות ברשימה לא יסתיימו בתו שמייצג ירידת שורה.\n",
        "        </p>\n",
        "    </div>\n",
        "</div>"
      ]
    },
    {
      "cell_type": "markdown",
      "metadata": {
        "id": "OwKuydsc8nqH"
      },
      "source": [
        "### <span style=\"text-align: right; direction: rtl; float: right;\">סגירת קובץ</span>"
      ]
    },
    {
      "cell_type": "markdown",
      "metadata": {
        "id": "0h1w2P4z8nqH"
      },
      "source": [
        "<p style=\"text-align: right; direction: rtl; float: right; clear: both;\">\n",
        "חשבתם שהשארת דלת פתוחה נחשבת גסות רוח? נראה שעדיין לא שמעתם מה מתכנתים חושבים על קבצים שנשארים פתוחים.<br>\n",
        "כיוון שחשוב לנו להיות מנומסים, אנחנו נסגור קבצים לאחר שסיימנו להשתמש בהם.<br>\n",
        "קובץ פתוח תופס משאבי מערכת (כמו זיכרון), ולעיתים יגרום לכך שתוכנות אחרות לא יוכלו לגשת אליו.<br>\n",
        "השארת קבצים פתוחים היא מנהג מגונה שיגרום להאטה בביצועים ואפילו לקריסות בלתי צפויות, אם יותר מדי file handlers פתוחים.\n",
        "</p>"
      ]
    },
    {
      "cell_type": "markdown",
      "metadata": {
        "id": "9LgcSj6r8nqH"
      },
      "source": [
        "<p style=\"text-align: right; direction: rtl; float: right; clear: both;\">\n",
        "לא מדובר בפעולה מסובכת מדי. כל מה שתצטרכו לעשות הוא להשתמש בפעולה <code>close</code>:\n",
        "</p>"
      ]
    },
    {
      "cell_type": "code",
      "execution_count": null,
      "metadata": {
        "id": "MY9TkXN88nqH"
      },
      "outputs": [],
      "source": [
        "common_passwords_file.close()"
      ]
    },
    {
      "cell_type": "markdown",
      "metadata": {
        "id": "rk0pys6b8nqH"
      },
      "source": [
        "<p style=\"text-align: right; direction: rtl; float: right; clear: both;\">\n",
        "שימו לב שכל ניסיון לעשות שימוש בקובץ אחרי סגירתו, ייכשל:\n",
        "</p>"
      ]
    },
    {
      "cell_type": "code",
      "execution_count": null,
      "metadata": {
        "id": "Fxb7xS2g8nqH"
      },
      "outputs": [],
      "source": [
        "common_passwords_file.read()"
      ]
    },
    {
      "cell_type": "markdown",
      "metadata": {
        "id": "QL4e-9bJ8nqH"
      },
      "source": [
        "### <span style=\"text-align: right; direction: rtl; float: right;\">כתיבה לקובץ</span>"
      ]
    },
    {
      "cell_type": "markdown",
      "metadata": {
        "id": "qkXGDyqq8nqH"
      },
      "source": [
        "<p style=\"text-align: right; direction: rtl; float: right; clear: both;\">\n",
        "נסתכל שוב על המידע שראינו בתרגיל על הפוקימונים:\n",
        "</p>"
      ]
    },
    {
      "cell_type": "code",
      "execution_count": 16,
      "metadata": {
        "id": "ejjDxFaf8nqH"
      },
      "outputs": [],
      "source": [
        "pokemons = \"\"\"\n",
        "#,Name,Type 1,Type 2,Total,HP,Attack,Defense,Sp. Atk,Sp. Def,Speed,Generation,Legendary\n",
        "1,Bulbasaur,Grass,Poison,318,45,49,49,65,65,45,1,False\n",
        "2,Ivysaur,Grass,Poison,405,60,62,63,80,80,60,1,False\n",
        "3,Venusaur,Grass,Poison,525,80,82,83,100,100,80,1,False\n",
        "4,Charmander,Fire,,309,39,52,43,60,50,65,1,False\n",
        "5,Charmeleon,Fire,,405,58,64,58,80,65,80,1,False\n",
        "6,Charizard,Fire,Flying,534,78,84,78,109,85,100,1,False\n",
        "7,Squirtle,Water,,314,44,48,65,50,64,43,1,False\n",
        "8,Wartortle,Water,,405,59,63,80,65,80,58,1,False\n",
        "9,Blastoise,Water,,530,79,83,100,85,105,78,1,False\n",
        "10,Caterpie,Bug,,195,45,30,35,20,20,45,1,False\n",
        "11,Metapod,Bug,,205,50,20,55,25,25,30,1,False\n",
        "12,Butterfree,Bug,Flying,395,60,45,50,90,80,70,1,False\n",
        "13,Weedle,Bug,Poison,195,40,35,30,20,20,50,1,False\n",
        "14,Kakuna,Bug,Poison,205,45,25,50,25,25,35,1,False\n",
        "15,Beedrill,Bug,Poison,395,65,90,40,45,80,75,1,False\n",
        "16,Pidgey,Normal,Flying,251,40,45,40,35,35,56,1,False\n",
        "17,Pidgeotto,Normal,Flying,349,63,60,55,50,50,71,1,False\n",
        "18,Pidgeot,Normal,Flying,479,83,80,75,70,70,101,1,False\n",
        "19,Rattata,Normal,,253,30,56,35,25,35,72,1,False\n",
        "\"\"\""
      ]
    },
    {
      "cell_type": "markdown",
      "metadata": {
        "id": "iQV9-eTO8nqH"
      },
      "source": [
        "<p style=\"text-align: right; direction: rtl; float: right; clear: both;\">\n",
        "הפעם נכתוב אותו לתוך קובץ בתסדיר CSV.<br>\n",
        "כדי לכתוב לקובץ נשתמש בפעולה <code>write</code>, לאחר שנפתח את הקובץ במצב כתיבה (<em>w</em>).\n",
        "</p>"
      ]
    },
    {
      "cell_type": "markdown",
      "metadata": {
        "id": "zN1dztMF8nqI"
      },
      "source": [
        "<div class=\"align-center\" style=\"display: flex; text-align: right; direction: rtl;\">\n",
        "    <div style=\"display: flex; width: 10%; float: right; \">\n",
        "        <img src=\"https://github.com/PythonFreeCourse/Notebooks/blob/main/content/week03/images/warning.png?raw=1\" style=\"height: 50px !important;\" alt=\"אזהרה!\">\n",
        "    </div>\n",
        "    <div style=\"width: 90%\">\n",
        "        <p style=\"text-align: right; direction: rtl;\">\n",
        "            <strong>זהירות!</strong> פתיחת קובץ קיים במצב <em>w</em> תמחק את התוכן שלו מיידית.\n",
        "        </p>\n",
        "    </div>\n",
        "</div>"
      ]
    },
    {
      "cell_type": "markdown",
      "metadata": {
        "id": "m-1sfnFA8nqI"
      },
      "source": [
        "<div class=\"align-center\" style=\"display: flex; text-align: right; direction: rtl;\">\n",
        "    <div style=\"display: flex; width: 10%; float: right; \">\n",
        "        <img src=\"https://github.com/PythonFreeCourse/Notebooks/blob/main/content/week03/images/tip.png?raw=1\" style=\"height: 50px !important;\" alt=\"טיפ\">\n",
        "    </div>\n",
        "    <div style=\"width: 90%\">\n",
        "        <p style=\"text-align: right; direction: rtl;\">\n",
        "            אם פתחנו קובץ לכתיבה והנתיב אליו לא קיים במערכת שלנו, פייתון תבדוק אם התיקייה שמעליו קיימת.<br>\n",
        "            אם כן – פייתון תיצור את הקובץ בשבילנו.\n",
        "        </p>\n",
        "    </div>\n",
        "</div>"
      ]
    },
    {
      "cell_type": "code",
      "execution_count": 17,
      "metadata": {
        "id": "QvwGKmU48nqI"
      },
      "outputs": [],
      "source": [
        "pokemons_file = open('pokemon.csv', 'w')"
      ]
    },
    {
      "cell_type": "code",
      "execution_count": 18,
      "metadata": {
        "id": "B3wrrE0h8nqI",
        "outputId": "3a6612a1-b609-48f5-eb73-379054b9f3ec",
        "colab": {
          "base_uri": "https://localhost:8080/"
        }
      },
      "outputs": [
        {
          "output_type": "execute_result",
          "data": {
            "text/plain": [
              "1072"
            ]
          },
          "metadata": {},
          "execution_count": 18
        }
      ],
      "source": [
        "# נסיר את השורות הריקות והרווחים מהצדדים\n",
        "clear_pokemon = pokemons.strip()\n",
        "# ונכתוב לקובץ\n",
        "pokemons_file.write(clear_pokemon)"
      ]
    },
    {
      "cell_type": "markdown",
      "metadata": {
        "id": "JkF3ufMc8nqI"
      },
      "source": [
        "<p style=\"text-align: right; direction: rtl; float: right; clear: both;\">\n",
        "המספר שפייתון מחזירה הוא כמות התווים שייכתבו לקובץ.\n",
        "</p>"
      ]
    },
    {
      "cell_type": "markdown",
      "metadata": {
        "id": "bKZQNP938nqI"
      },
      "source": [
        "<p style=\"text-align: right; direction: rtl; float: right; clear: both;\">\n",
        "אם תחפשו את הקובץ במחשב ותפתחו אותו, תגלו שפייתון עדיין לא כתבה אליו את הנתונים.<br>\n",
        "פייתון שומרת את הנתונים שביקשתם לכתוב בצד במנגנון זיכרון זמני שנקרא buffer (\"מִכְלָא\" בעברית, תודה ששאלתם), ותכתוב אותם לקובץ כשתסגרו אותו.<br>\n",
        "תוכלו להכריח את פייתון לכתוב לקובץ עוד לפני שסגרתם אותו באמצעות הפעולה <code>flush</code>:\n",
        "</p>"
      ]
    },
    {
      "cell_type": "code",
      "execution_count": 19,
      "metadata": {
        "id": "IcH1QazV8nqI"
      },
      "outputs": [],
      "source": [
        "pokemons_file.flush()"
      ]
    },
    {
      "cell_type": "markdown",
      "metadata": {
        "id": "Hx1gijTY8nqI"
      },
      "source": [
        "<p style=\"text-align: right; direction: rtl; float: right; clear: both;\">\n",
        "לסיום, לא נשכח לסגור את הקובץ כשאנחנו יודעים שכבר לא נשתמש בו:\n",
        "</p>"
      ]
    },
    {
      "cell_type": "code",
      "execution_count": 20,
      "metadata": {
        "id": "dafwXnr48nqI"
      },
      "outputs": [],
      "source": [
        "pokemons_file.close()"
      ]
    },
    {
      "cell_type": "markdown",
      "metadata": {
        "id": "xkRw4jg88nqI"
      },
      "source": [
        "<div class=\"align-center\" style=\"display: flex; text-align: right; direction: rtl;\">\n",
        "    <div style=\"display: flex; width: 10%; float: right; \">\n",
        "        <img src=\"https://github.com/PythonFreeCourse/Notebooks/blob/main/content/week03/images/tip.png?raw=1\" style=\"height: 50px !important;\" alt=\"טיפ\">\n",
        "    </div>\n",
        "    <div style=\"width: 90%\">\n",
        "        <p style=\"text-align: right; direction: rtl;\">\n",
        "            כשאתם בתוך המחברת, ניתן להשתמש בסימן קריאה כדי להריץ פקודות או תוכניות שלא קשורות לפייתון.<br>\n",
        "            לדוגמה, הפקודה: <code dir=\"ltr\" style=\"direction: ltr;\">!pokemon.csv</code> תריץ את הקובץ שכתבנו.<br>\n",
        "            שימו לב שלא תוכלו להריץ שום דבר אחר במחברת עד שתסגרו את הקובץ.\n",
        "        </p>\n",
        "    </div>\n",
        "</div>"
      ]
    },
    {
      "cell_type": "code",
      "execution_count": 21,
      "metadata": {
        "id": "h8r8gzcL8nqJ",
        "outputId": "af845aa7-3dc2-43d2-e858-1a90c02e096b",
        "colab": {
          "base_uri": "https://localhost:8080/"
        }
      },
      "outputs": [
        {
          "output_type": "stream",
          "name": "stdout",
          "text": [
            "/bin/bash: line 1: pokemon.csv: command not found\n"
          ]
        }
      ],
      "source": [
        "!pokemon.csv"
      ]
    },
    {
      "cell_type": "markdown",
      "metadata": {
        "id": "XhBGG4PQ8nqJ"
      },
      "source": [
        "### <span style=\"text-align: right; direction: rtl; float: right;\">הוספה לקובץ</span>"
      ]
    },
    {
      "cell_type": "markdown",
      "metadata": {
        "id": "UkyytvXz8nqJ"
      },
      "source": [
        "<p style=\"text-align: right; direction: rtl; float: right; clear: both;\">\n",
        "ניתן לפתוח קובץ במצב '<em>w</em>' אם נרצה לכתוב לקובץ חדש, או לדרוס קובץ קיים.<br>\n",
        "אם נרצה להוסיף שורות לקובץ קיים, נפתח את הקובץ במצב ההוספה '<em>a</em>', שמסמן <em>append</em>.\n",
        "</p>"
      ]
    },
    {
      "cell_type": "markdown",
      "metadata": {
        "id": "BjEV80UP8nqJ"
      },
      "source": [
        "<p style=\"text-align: right; direction: rtl; float: right; clear: both;\">\n",
        "נוסיף את פוקימון מספר 20, רטיקייט, לקובץ הפוקימונים:\n",
        "</p>"
      ]
    },
    {
      "cell_type": "code",
      "execution_count": 22,
      "metadata": {
        "id": "_amU2twA8nqJ"
      },
      "outputs": [],
      "source": [
        "new_line = \"\\n20,Raticate,Normal,,413,55,81,60,50,70,97,1,False\""
      ]
    },
    {
      "cell_type": "code",
      "execution_count": 23,
      "metadata": {
        "id": "KnS3fVuH8nqJ"
      },
      "outputs": [],
      "source": [
        "pokemons_table = open('pokemon.csv', 'a')"
      ]
    },
    {
      "cell_type": "markdown",
      "metadata": {
        "id": "YJWK3vl-8nqJ"
      },
      "source": [
        "<p style=\"text-align: right; direction: rtl; float: right; clear: both;\">\n",
        "הוספת תוכן לקובץ במצב הוספה תתבצע באמצעות הפעולה <code>write</code>, בדיוק כמו בכתיבת קובץ חדש:\n",
        "</p>"
      ]
    },
    {
      "cell_type": "code",
      "execution_count": 24,
      "metadata": {
        "id": "6Hd_4DBc8nqJ",
        "outputId": "f1ffd690-a84a-4ce3-db7e-f5120e838c90",
        "colab": {
          "base_uri": "https://localhost:8080/"
        }
      },
      "outputs": [
        {
          "output_type": "execute_result",
          "data": {
            "text/plain": [
              "50"
            ]
          },
          "metadata": {},
          "execution_count": 24
        }
      ],
      "source": [
        "pokemons_table.write(new_line)"
      ]
    },
    {
      "cell_type": "code",
      "execution_count": 25,
      "metadata": {
        "id": "5g1wP2cr8nqJ"
      },
      "outputs": [],
      "source": [
        "pokemons_table.close()"
      ]
    },
    {
      "cell_type": "markdown",
      "metadata": {
        "id": "oo5IBg8z8nqJ"
      },
      "source": [
        "## <span style=\"text-align: right; direction: rtl; float: right;\">with</span>"
      ]
    },
    {
      "cell_type": "markdown",
      "metadata": {
        "id": "fYnMixni8nqJ"
      },
      "source": [
        "<p style=\"text-align: right; direction: rtl; float: right; clear: both;\">\n",
        "מילת המפתח <code>with</code> מאפשרת לנו לאגד כמה שורות באותו הקשר.<br>\n",
        "בהקשר של קבצים, היא מאפשרת לנו לאגד תחתיה שורות שמטרתן טיפול בקובץ מסוים.<br>\n",
        "לדוגמה, השורות הבאות:\n",
        "</p>"
      ]
    },
    {
      "cell_type": "code",
      "execution_count": 27,
      "metadata": {
        "id": "_WM9xbjY8nqJ",
        "outputId": "9ef07864-d3a2-4f83-bb39-31d27f5964d9",
        "colab": {
          "base_uri": "https://localhost:8080/"
        }
      },
      "outputs": [
        {
          "output_type": "stream",
          "name": "stdout",
          "text": [
            "123456\n"
          ]
        }
      ],
      "source": [
        "passwords_file = open('/resources/passwords.txt', 'r')\n",
        "most_used_password = passwords_file.readline()\n",
        "other_common_passwords = passwords_file.read()\n",
        "passwords_file.close()\n",
        "\n",
        "print(most_used_password.strip())"
      ]
    },
    {
      "cell_type": "markdown",
      "metadata": {
        "id": "lqufpKgU8nqK"
      },
      "source": [
        "<p style=\"text-align: right; direction: rtl; float: right; clear: both;\">\n",
        "    יכולה להיכתב אחרת בעזרת מילת המפתח <code>with</code>:\n",
        "</p>"
      ]
    },
    {
      "cell_type": "code",
      "execution_count": 28,
      "metadata": {
        "id": "sDbVAVXD8nqK",
        "outputId": "8d9d85a3-a0fa-4500-fc14-6a3b4d426551",
        "colab": {
          "base_uri": "https://localhost:8080/"
        }
      },
      "outputs": [
        {
          "output_type": "stream",
          "name": "stdout",
          "text": [
            "123456\n"
          ]
        }
      ],
      "source": [
        "with open('/resources/passwords.txt', 'r') as passwords_file:\n",
        "    most_used_password = passwords_file.readline()\n",
        "    other_common_passwords = passwords_file.read()\n",
        "\n",
        "print(most_used_password.strip())"
      ]
    },
    {
      "cell_type": "markdown",
      "metadata": {
        "id": "0N2AHUJ98nqK"
      },
      "source": [
        "<p style=\"text-align: right; direction: rtl; float: right; clear: both;\">\n",
        "    שימו לב לצורת השימוש ב־<code>with</code>:\n",
        "</p>"
      ]
    },
    {
      "cell_type": "markdown",
      "metadata": {
        "id": "G7hvNVdB8nqK"
      },
      "source": [
        "<ol style=\"text-align: right; direction: rtl; float: right; clear: both;\">\n",
        "    <li>כתבנו את מילת המפתח <code>with</code>.</li>\n",
        "    <li>מייד לאחר מכן השתמשנו בפונקציה <code>open</code> כדי לפתוח את הקובץ עם הארגומנטים שרצינו.</li>\n",
        "    <li>השתמשנו במילת המפתח <code>as</code>.</li>\n",
        "    <li>הכנסנו את שם המשתנה שרצינו שבו ישמר ה־file handler.</li>\n",
        "    <li>כתבנו נקודתיים כדי לסיים את השורה.</li>\n",
        "    <li>השתמשנו בהזחה, ואז כתבנו את הפעולות שאנחנו רוצים לעשות בהקשר לקובץ.</li>\n",
        "</ol>"
      ]
    },
    {
      "cell_type": "markdown",
      "metadata": {
        "id": "au4ScnwU8nqK"
      },
      "source": [
        "<p style=\"text-align: right; direction: rtl; float: right; clear: both;\">\n",
        "    בתור מתכנתים, אתם בוחרים איך לכתוב את הקוד שלכם.<br>\n",
        "    ובכל זאת, קל לראות את היתרונות של שימוש ב־<code>with</code>: <mark>הקוד נעשה קריא ומסודר יותר, והקובץ נסגר לבד כשמסתיימת ההזחה.</mark>\n",
        "</p>"
      ]
    },
    {
      "cell_type": "markdown",
      "metadata": {
        "id": "wB7TLnb58nqK"
      },
      "source": [
        "<p style=\"text-align: right; direction: rtl; float: right; clear: both;\">\n",
        "    כתיבת קוד עם <code>with</code> היא פשוטה יותר ממה שנראה בהתחלה –<br>\n",
        "    5 הסעיפים הראשונים התייחסו לשורה הראשונה, ששקולה לשורה הראשונה והרביעית בקוד בלי ה־<code>with</code>.\n",
        "</p>"
      ]
    },
    {
      "cell_type": "markdown",
      "metadata": {
        "id": "ZZ8jDBAI8nqK"
      },
      "source": [
        "## <span style=\"align: right; direction: rtl; float: right; clear: both;\">מונחים</span>"
      ]
    },
    {
      "cell_type": "markdown",
      "metadata": {
        "id": "qui6VrB38nqK"
      },
      "source": [
        "<dl style=\"text-align: right; direction: rtl; float: right; clear: both;\">\n",
        "<dt>קובץ טקסטואלי</dt><dd>קובץ שאפשר להמיר את הבייטים שבו לתווים, ומקבלים קובץ שקריא עבור בני אדם.</dd>\n",
        "<dt>קובץ בינארי</dt><dd>קובץ שהתוכן שלו לא נועד לקריאה על־ידי עין אנושית.</dd>\n",
        "<dt>סמן</dt><dd>מצביע על המיקום הנוכחי בקובץ, שממנו יתבצעו הפעולות (קריאה, כתיבה וכדומה).</dd>\n",
        "<dt>ASCII</dt><dd>שיטה מוסכמת לייצוג תווים.</dd>\n",
        "<dt>תסדיר, פורמט</dt><dd>מוסכמה על הדרך שבה ייוצג קובץ מסוים.</dd>\n",
        "<dt>File handler</dt><dd>ערך שבאמצעותו ניתן לבצע פעולות המשפיעות על קובץ שפתחנו.</dd>\n",
        "</dl>"
      ]
    },
    {
      "cell_type": "markdown",
      "metadata": {
        "id": "LUQ6XJ9k8nqK"
      },
      "source": [
        "## <span style=\"text-align: right; direction: rtl; float: right;\">תרגולים</span>"
      ]
    },
    {
      "cell_type": "markdown",
      "metadata": {
        "id": "eWyPqx-Y8nqK"
      },
      "source": [
        "### <span style=\"text-align: right; direction: rtl; float: right; clear: both;\">מי דגנים בריאים?</span>"
      ]
    },
    {
      "cell_type": "markdown",
      "metadata": {
        "id": "OXadn_cW8nqK"
      },
      "source": [
        "<p style=\"text-align: right; direction: rtl; float: right; clear: both;\">\n",
        "    בקובץ <i>cereal.csv</i> שנמצא בתיקיית resources, ישנו מידע תזונתי על מִדְגַּנִּים שונים (יענו, דגני בוקר).<br>\n",
        "    ככל שהמדגנים שמופיעים בשורה מסוימת בריאים יותר, כך המספר שמופיע לידם בעמודה rating גבוה יותר.<br>\n",
        "    מצאו את המדגנים הבריאים ביותר והדפיסו את שמם לצד הציון שקיבלו.<br>\n",
        "    קרדיט: את הקובץ הבאנו <a href=\"https://perso.telecom-paristech.fr/eagan/class/igr204/datasets\">מכאן</a>.\n",
        "</p>"
      ]
    },
    {
      "cell_type": "code",
      "source": [
        "with open('/resources/cereal.csv', 'r') as f:\n",
        "  data = f.readlines()[1:]\n",
        "  rating_to_name = {}\n",
        "  for line in data:\n",
        "    l = line.split(\",\")\n",
        "    rating_to_name[l[-1]] = l[0]\n",
        "\n",
        "  best_ratings = list(rating_to_name.keys())\n",
        "  best_ratings.sort(reverse=True)\n",
        "  best_ratings = best_ratings[:10]\n",
        "  for i in best_ratings:\n",
        "    print(rating_to_name[i], i)\n",
        "\n",
        "\n",
        ""
      ],
      "metadata": {
        "id": "-GMIRoUSDoEq",
        "outputId": "5ab06aed-8650-4019-bb0a-83470456a2c8",
        "colab": {
          "base_uri": "https://localhost:8080/"
        }
      },
      "execution_count": 37,
      "outputs": [
        {
          "output_type": "stream",
          "name": "stdout",
          "text": [
            "All-Bran with Extra Fiber 93.704912\n",
            "\n",
            "Shredded Wheat 'n'Bran 74.472949\n",
            "\n",
            "Shredded Wheat spoon size 72.801787\n",
            "\n",
            "100% Bran 68.402973\n",
            "\n",
            "Shredded Wheat 68.235885\n",
            "\n",
            "Cream of Wheat (Quick) 64.533816\n",
            "\n",
            "Puffed Wheat 63.005645\n",
            "\n",
            "Puffed Rice 60.756112\n",
            "\n",
            "Nutri-grain Wheat 59.642837\n",
            "\n",
            "All-Bran 59.425505\n",
            "\n"
          ]
        }
      ]
    },
    {
      "cell_type": "code",
      "source": [
        "a = {3: 7}\n",
        "list(a.keys())"
      ],
      "metadata": {
        "id": "wWYAGNeZIhI2",
        "outputId": "4cbdcf4b-db39-4859-c5bf-4b61e9003f90",
        "colab": {
          "base_uri": "https://localhost:8080/"
        }
      },
      "execution_count": 33,
      "outputs": [
        {
          "output_type": "execute_result",
          "data": {
            "text/plain": [
              "[3]"
            ]
          },
          "metadata": {},
          "execution_count": 33
        }
      ]
    },
    {
      "cell_type": "markdown",
      "metadata": {
        "id": "TJFB7XAQ8nqK"
      },
      "source": [
        "### <span style=\"text-align: right; direction: rtl; float: right; clear: both;\">תקווה מארחת</span>"
      ]
    },
    {
      "cell_type": "markdown",
      "metadata": {
        "id": "fKHRJqvd8nqL"
      },
      "source": [
        "<p style=\"text-align: right; direction: rtl; float: right; clear: both;\">\n",
        "בקובץ hope.txt שנמצא בתיקיית resources, נמצאת אחת הפואמות המהממות של אמילי דיקנסון, תִּקְוָה הִיא בַּעֲלַת-הַנוֹצָה.<br>\n",
        "אך אבוי! הפואמה התבלגנה, וכעת סדר המילים בכל שורה הוא הפוך.\n",
        "</p>"
      ]
    },
    {
      "cell_type": "markdown",
      "metadata": {
        "id": "Uu-Cp1kI8nqL"
      },
      "source": [
        "<p style=\"text-align: right; direction: rtl; float: right; clear: both;\">\n",
        "במקום:\n",
        "</p>"
      ]
    },
    {
      "cell_type": "markdown",
      "metadata": {
        "id": "94TVo9aF8nqL"
      },
      "source": [
        "<blockquote style=\"border-left:none !important; position: relative; padding-left: 0.5em; padding: 1.5em; line-height: 1.5em;  min-height: 2em; border-right: 3px solid #a93226; background-color: #fbe7e6; font-size: 17px; direction: rtl; text-align: right; clear: both;\">\n",
        "    תִּקְוָה הִיא בַּעֲלַת-הַנוֹצָה<br>\n",
        "    זוּ בַּנְּשָׁמָה תִשְׁכֹּן –\n",
        "</blockquote>"
      ]
    },
    {
      "cell_type": "markdown",
      "metadata": {
        "id": "nhOTeaDj8nqL"
      },
      "source": [
        "<p style=\"text-align: right; direction: rtl; float: right; clear: both;\">\n",
        "מופיע:\n",
        "</p>"
      ]
    },
    {
      "cell_type": "markdown",
      "metadata": {
        "id": "yVxRhUWj8nqL"
      },
      "source": [
        "<blockquote style=\"border-left:none !important; position: relative; padding-left: 0.5em; padding: 1.5em; line-height: 1.5em;  min-height: 2em; border-right: 3px solid #a93226; background-color: #fbe7e6; font-size: 17px; direction: rtl; text-align: right; clear: both;\">\n",
        "    בַּעֲלַת-הַנוֹצָה הִיא תִּקְוָה<br>\n",
        "    – תִשְׁכֹּן בַּנְּשָׁמָה זוּ\n",
        "</blockquote>"
      ]
    },
    {
      "cell_type": "markdown",
      "metadata": {
        "id": "6bYnSsRD8nqL"
      },
      "source": [
        "<p style=\"text-align: right; direction: rtl; float: right; clear: both;\">\n",
        "שמרו גיבוי של הקובץ, וכתבו קוד שמסדר את הפואמה המבולגנת.<br>\n",
        "שמרו את הפואמה המסודרת בקובץ חדש ששמו <i>hope2.txt</i>.\n",
        "</p>"
      ]
    },
    {
      "cell_type": "markdown",
      "metadata": {
        "id": "e1zm1Hsf8nqL"
      },
      "source": [
        "<div class=\"align-center\" style=\"display: flex; text-align: right; direction: rtl;\">\n",
        "    <div style=\"display: flex; width: 10%; float: right; \">\n",
        "        <img src=\"https://github.com/PythonFreeCourse/Notebooks/blob/main/content/week03/images/warning.png?raw=1\" style=\"height: 50px !important;\" alt=\"אזהרה!\">\n",
        "    </div>\n",
        "    <div style=\"width: 90%\">\n",
        "        <p style=\"text-align: right; direction: rtl;\">\n",
        "            <strong>זהירות!</strong> יש פה בעיה שלא למדנו איך לתקן.<br>\n",
        "            התרגיל בודק גם מה הבנתם מהשיעור על משאבים ברשת בשבוע שעבר :)\n",
        "        </p>\n",
        "    </div>\n",
        "</div>"
      ]
    },
    {
      "cell_type": "code",
      "source": [
        "with open('/resources/hope.txt', 'r') as f:\n",
        "  data = f.readlines()\n",
        "  correct_data = []\n",
        "  for l in data:\n",
        "    l = l.strip()\n",
        "    lst = l.split(' ')\n",
        "    l_reversed = lst[::-1]\n",
        "    l = \" \".join(l_reversed)\n",
        "    correct_data.append(l)\n",
        "\n",
        "  with open(\"/resources/hope2.txt\", 'w') as f2:\n",
        "    for l in correct_data:\n",
        "      f2.write(l + \"\\n\")\n",
        "\n",
        ""
      ],
      "metadata": {
        "id": "SC3bdBNoMLOo"
      },
      "execution_count": 53,
      "outputs": []
    },
    {
      "cell_type": "code",
      "source": [
        "a = [1, 2 , 3]\n",
        "a.reverse()\n",
        "a"
      ],
      "metadata": {
        "id": "6M_Acx_mM7D6",
        "outputId": "c2af297a-0683-405f-aca3-8199ebc8242d",
        "colab": {
          "base_uri": "https://localhost:8080/"
        }
      },
      "execution_count": 39,
      "outputs": [
        {
          "output_type": "execute_result",
          "data": {
            "text/plain": [
              "[3, 2, 1]"
            ]
          },
          "metadata": {},
          "execution_count": 39
        }
      ]
    }
  ],
  "metadata": {
    "kernelspec": {
      "display_name": "Python 3",
      "language": "python",
      "name": "python3"
    },
    "language_info": {
      "codemirror_mode": {
        "name": "ipython",
        "version": 3
      },
      "file_extension": ".py",
      "mimetype": "text/x-python",
      "name": "python",
      "nbconvert_exporter": "python",
      "pygments_lexer": "ipython3",
      "version": "3.8.5"
    },
    "colab": {
      "provenance": []
    }
  },
  "nbformat": 4,
  "nbformat_minor": 0
}