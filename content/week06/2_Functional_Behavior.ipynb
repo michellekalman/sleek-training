{
  "cells": [
    {
      "cell_type": "markdown",
      "metadata": {
        "id": "VLg3asF7w1sk"
      },
      "source": [
        "<img src=\"https://github.com/PythonFreeCourse/Notebooks/blob/main/content/week06/images/logo.jpg?raw=1\" style=\"display: block; margin-left: auto; margin-right: auto;\" alt=\"לוגו של מיזם לימוד הפייתון. נחש מצויר בצבעי צהוב וכחול, הנע בין האותיות של שם הקורס: לומדים פייתון. הסלוגן המופיע מעל לשם הקורס הוא מיזם חינמי ללימוד תכנות בעברית.\">"
      ]
    },
    {
      "cell_type": "markdown",
      "metadata": {
        "id": "jU2ED1gVw1sm"
      },
      "source": [
        "# <span style=\"text-align: right; direction: rtl; float: right;\">התנהגות של פונקציות</span>"
      ]
    },
    {
      "cell_type": "markdown",
      "metadata": {
        "id": "I0ENq5hVw1sn"
      },
      "source": [
        "<p style=\"text-align: right; direction: rtl; float: right; clear: both;\">\n",
        "    בפסקאות הקרובות נבחן פונקציות מזווית ראייה מעט שונה מהרגיל.<br>\n",
        "    בואו נקפוץ ישירות למים!\n",
        "</p>"
      ]
    },
    {
      "cell_type": "markdown",
      "metadata": {
        "id": "kVpJ2oTiw1sn"
      },
      "source": [
        "### <span style=\"text-align: right; direction: rtl; float: right; clear: both;\">שם של פונקציה</span>"
      ]
    },
    {
      "cell_type": "markdown",
      "metadata": {
        "id": "ZElHPvPDw1so"
      },
      "source": [
        "<p style=\"text-align: right; direction: rtl; float: right; clear: both;\">\n",
        "    תכונה מעניינת שמתקיימת בפייתון היא שפונקציה היא ערך, בדיוק כמו כל ערך אחר.<br>\n",
        "    נגדיר פונקציה שמעלה מספר בריבוע:\n",
        "</p>"
      ]
    },
    {
      "cell_type": "code",
      "execution_count": 1,
      "metadata": {
        "id": "__qoJGH3w1so"
      },
      "outputs": [],
      "source": [
        "def square(x):\n",
        "    return x ** 2"
      ]
    },
    {
      "cell_type": "markdown",
      "metadata": {
        "id": "U_EXoyMCw1sp"
      },
      "source": [
        "<p style=\"text-align: right; direction: rtl; float: right; clear: both;\">\n",
        "    נוכל לבדוק מאיזה טיפוס הפונקציה (אנחנו לא קוראים לה עם סוגריים אחרי שמה  – רק מציינים את שמה):\n",
        "</p>"
      ]
    },
    {
      "cell_type": "code",
      "execution_count": 2,
      "metadata": {
        "colab": {
          "base_uri": "https://localhost:8080/"
        },
        "id": "Ly6ALu2Fw1sp",
        "outputId": "2af22f02-9694-4078-e58d-61b6bbc1c2e2"
      },
      "outputs": [
        {
          "output_type": "execute_result",
          "data": {
            "text/plain": [
              "function"
            ]
          },
          "metadata": {},
          "execution_count": 2
        }
      ],
      "source": [
        "type(square)"
      ]
    },
    {
      "cell_type": "markdown",
      "metadata": {
        "id": "VuP42m3pw1sp"
      },
      "source": [
        "<p style=\"text-align: right; direction: rtl; float: right; clear: both;\">\n",
        "    ואפילו לבצע השמה שלה למשתנה, כך ששם המשתנה החדש יצביע עליה:\n",
        "</p>"
      ]
    },
    {
      "cell_type": "code",
      "execution_count": 3,
      "metadata": {
        "colab": {
          "base_uri": "https://localhost:8080/"
        },
        "id": "3GuVBGcVw1sp",
        "outputId": "0b9a2872-2db1-4af3-eb59-1a7089486b4f"
      },
      "outputs": [
        {
          "output_type": "stream",
          "name": "stdout",
          "text": [
            "25\n",
            "25\n"
          ]
        }
      ],
      "source": [
        "ribua = square\n",
        "\n",
        "print(square(5))\n",
        "print(ribua(5))"
      ]
    },
    {
      "cell_type": "markdown",
      "metadata": {
        "id": "c0yqqf58w1sq"
      },
      "source": [
        "<p style=\"text-align: right; direction: rtl; float: right; clear: both;\">\n",
        "    מה מתרחש בתא למעלה?<br>\n",
        "    כשהגדרנו את הפונקציה <var>square</var>, יצרנו לייזר עם התווית <var>square</var> שמצביע לפונקציה שמעלה מספר בריבוע.<br>\n",
        "    בהשמה שביצענו בשורה הראשונה בתא שלמעלה, הלייזר שעליו מודבקת התווית <var>ribua</var> כוון אל אותה הפונקציה שעליה מצביע הלייזר <var>square</var>.<br>\n",
        "    כעת <var>square</var> ו־<var>ribua</var> מצביעים לאותה פונקציה. אפשר לבדוק זאת כך:\n",
        "</p>"
      ]
    },
    {
      "cell_type": "code",
      "execution_count": 4,
      "metadata": {
        "colab": {
          "base_uri": "https://localhost:8080/"
        },
        "id": "ZjOLivu3w1sq",
        "outputId": "34c3ee4e-dfd8-489b-e338-609270c9a388"
      },
      "outputs": [
        {
          "output_type": "execute_result",
          "data": {
            "text/plain": [
              "True"
            ]
          },
          "metadata": {},
          "execution_count": 4
        }
      ],
      "source": [
        "ribua is square"
      ]
    },
    {
      "cell_type": "markdown",
      "metadata": {
        "id": "4YryoMoCw1sq"
      },
      "source": [
        "<p style=\"text-align: right; direction: rtl; float: right; clear: both;\">\n",
        "    בשלב הזה אצטרך לבקש מכם לחגור חגורות, כי זה לא הולך להיות טיול רגיל הפעם.\n",
        "</p>"
      ]
    },
    {
      "cell_type": "markdown",
      "metadata": {
        "id": "gAmy2dDrw1sq"
      },
      "source": [
        "### <span style=\"text-align: right; direction: rtl; float: right; clear: both;\">פונקציות במבנים מורכבים</span>"
      ]
    },
    {
      "cell_type": "markdown",
      "metadata": {
        "id": "3bs20qYxw1sq"
      },
      "source": [
        "<p style=\"text-align: right; direction: rtl; float: right; clear: both;\">\n",
        "    אם פונקציה היא בסך הכול ערך, ואם אפשר להתייחס לשם שלה בכל מקום, אין סיבה שלא נוכל ליצור רשימה של פונקציות!<br>\n",
        "    ננסה לממש את הרעיון:\n",
        "</p>"
      ]
    },
    {
      "cell_type": "code",
      "execution_count": 7,
      "metadata": {
        "id": "OTws3jW3w1sq"
      },
      "outputs": [],
      "source": [
        "def add(num1, num2):\n",
        "    return num1 + num2\n",
        "\n",
        "\n",
        "def subtract(num1, num2):\n",
        "    return num1 - num2\n",
        "\n",
        "\n",
        "def multiply(num1, num2):\n",
        "    return num1 * num2\n",
        "\n",
        "\n",
        "def divide(num1, num2):\n",
        "    return num1 / num2\n",
        "\n",
        "\n",
        "functions = [add, subtract, multiply, divide]"
      ]
    },
    {
      "cell_type": "markdown",
      "metadata": {
        "id": "4ZsfmQRAw1sr"
      },
      "source": [
        "<p style=\"text-align: right; direction: rtl; float: right; clear: both;\">\n",
        "    כעת יש לנו רשימה בעלת 4 איברים, שכל אחד מהם מצביע לפונקציה שונה.<br>\n",
        "    אם נרצה לבצע פעולת חיבור, נוכל לקרוא ישירות ל־<var>add</var> או (בשביל התרגול) לנסות לאחזר אותה מהרשימה שיצרנו:\n",
        "</p>"
      ]
    },
    {
      "cell_type": "code",
      "execution_count": 8,
      "metadata": {
        "colab": {
          "base_uri": "https://localhost:8080/"
        },
        "id": "fI1_JqNqw1sr",
        "outputId": "6415cd68-4d61-463b-af39-195ab6df77ff"
      },
      "outputs": [
        {
          "output_type": "stream",
          "name": "stdout",
          "text": [
            "7\n",
            "7\n",
            "7\n"
          ]
        }
      ],
      "source": [
        "# Option 1\n",
        "print(add(5, 2))\n",
        "\n",
        "# Option 2\n",
        "math_function = functions[0]\n",
        "print(math_function(5, 2))\n",
        "\n",
        "# Option 3 (ugly, but works!)\n",
        "print(functions[0](5, 2))"
      ]
    },
    {
      "cell_type": "markdown",
      "metadata": {
        "id": "o_xyJ9BOw1sr"
      },
      "source": [
        "<p style=\"text-align: right; direction: rtl; float: right; clear: both;\">\n",
        "    אם נרצה, נוכל אפילו לעבור על רשימת הפונקציות בעזרת לולאה ולהפעיל את כולן, זו אחר זו:\n",
        "</p>"
      ]
    },
    {
      "cell_type": "code",
      "execution_count": 9,
      "metadata": {
        "colab": {
          "base_uri": "https://localhost:8080/"
        },
        "id": "LKNVZU2iw1sr",
        "outputId": "5bc592f9-352d-4224-9fc3-5cacde57bdb5"
      },
      "outputs": [
        {
          "output_type": "stream",
          "name": "stdout",
          "text": [
            "7\n",
            "3\n",
            "10\n",
            "2.5\n"
          ]
        }
      ],
      "source": [
        "for function in functions:\n",
        "    print(function(5, 2))"
      ]
    },
    {
      "cell_type": "markdown",
      "metadata": {
        "id": "t4ZjixMAw1sr"
      },
      "source": [
        "<p style=\"text-align: right; direction: rtl; float: right; clear: both;\">\n",
        "    בכל איטרציה של לולאת ה־<code>for</code>, המשתנה <var>function</var> עבר להצביע על הפונקציה הבאה מתוך רשימת <var>functions</var>.<br>\n",
        "    בשורה הבאה קראנו לאותה הפונקציה ש־<var>function</var> מצביע עליה, והדפסנו את הערך שהיא החזירה.    \n",
        "</p>"
      ]
    },
    {
      "cell_type": "markdown",
      "metadata": {
        "id": "RySzorOOw1sr"
      },
      "source": [
        "<p style=\"text-align: right; direction: rtl; float: right; clear: both;\">\n",
        "    כיוון שרשימה היא מבנה ששומר על סדר האיברים שבו, התוצאות מודפסות בסדר שבו הפונקציות שמורות ברשימה.<br>\n",
        "    התוצאה הראשונה שאנחנו רואים היא תוצאת פונקציית החיבור, השנייה היא תוצאת פונקציית החיסור וכן הלאה.\n",
        "</p>"
      ]
    },
    {
      "cell_type": "markdown",
      "metadata": {
        "id": "iayMcIMcw1sr"
      },
      "source": [
        "#### <span style=\"text-align: right; direction: rtl; float: right; clear: both;\">תרגיל ביניים: סוגרים חשבון</span>"
      ]
    },
    {
      "cell_type": "markdown",
      "metadata": {
        "id": "HB4Jam8Kw1sr"
      },
      "source": [
        "<p style=\"text-align: right; direction: rtl; float: right; clear: both;\">\n",
        "    כתבו פונקציה בשם <var>calc</var> שמקבלת כפרמטר שני מספרים וסימן של פעולה חשבונית.<br>\n",
        "    הסימן יכול להיות אחד מאלה: <code>+</code>, <code>-</code>, <code>*</code> או <code>/</code>.<br>\n",
        "    מטרת הפונקציה היא להחזיר את תוצאת הביטוי החשבוני שהופעל על שני המספרים.<br>\n",
        "    בפתרונכם, השתמשו בהגדרת הפונקציות מלמעלה ובמילון.\n",
        "</p>"
      ]
    },
    {
      "cell_type": "code",
      "source": [
        "operations = {'+': add, '-':subtract, '*': multiply, '/': divide}\n",
        "def calc(num1, num2, sign):\n",
        "  return operations[sign](num1, num2)"
      ],
      "metadata": {
        "id": "4wtRn7txyCIR"
      },
      "execution_count": 10,
      "outputs": []
    },
    {
      "cell_type": "code",
      "source": [
        "calc(1, 2, '+')"
      ],
      "metadata": {
        "colab": {
          "base_uri": "https://localhost:8080/"
        },
        "id": "3KX1YTazy0CB",
        "outputId": "954f53ec-b23f-42cb-8978-6765cf40966e"
      },
      "execution_count": 11,
      "outputs": [
        {
          "output_type": "execute_result",
          "data": {
            "text/plain": [
              "3"
            ]
          },
          "metadata": {},
          "execution_count": 11
        }
      ]
    },
    {
      "cell_type": "markdown",
      "metadata": {
        "id": "TUoYP_dKw1sr"
      },
      "source": [
        "### <span style=\"text-align: right; direction: rtl; float: right; clear: both;\">העברת פונקציה כפרמטר</span>"
      ]
    },
    {
      "cell_type": "markdown",
      "metadata": {
        "id": "E_AE5MP1w1sr"
      },
      "source": [
        "<p style=\"text-align: right; direction: rtl; float: right; clear: both;\">\n",
        "    נמשיך ללהטט בפונקציות.<br>\n",
        "</p>"
      ]
    },
    {
      "cell_type": "markdown",
      "metadata": {
        "id": "WpimSotFw1sr"
      },
      "source": [
        "<p style=\"text-align: right; direction: rtl; float: right; clear: both;\">\n",
        "    פונקציה נקראת \"<dfn>פונקציה מסדר גבוה</dfn>\" (<dfn>higher order function</dfn>) אם היא מקבלת כפרמטר פונקציה.<br>\n",
        "    ניקח לדוגמה את הפונקציה <var>calculate</var>:\n",
        "</p>"
      ]
    },
    {
      "cell_type": "code",
      "execution_count": 12,
      "metadata": {
        "id": "kTxTGnC1w1sr"
      },
      "outputs": [],
      "source": [
        "def calculate(function, num1, num2):\n",
        "    return function(num1, num2)"
      ]
    },
    {
      "cell_type": "markdown",
      "metadata": {
        "id": "SLbyJrgSw1ss"
      },
      "source": [
        "<p style=\"text-align: right; direction: rtl; float: right; clear: both;\">\n",
        "    בקריאה ל־<var>calculate</var>, נצטרך להעביר פונקציה ושני מספרים.<br>\n",
        "    נעביר לדוגמה את הפונקציה <var>divide</var> שהגדרנו קודם לכן:\n",
        "</p>"
      ]
    },
    {
      "cell_type": "code",
      "execution_count": 13,
      "metadata": {
        "colab": {
          "base_uri": "https://localhost:8080/"
        },
        "id": "Vn66N7Ipw1ss",
        "outputId": "af58d1d0-dac1-46ec-9fe4-8c0dd974e728"
      },
      "outputs": [
        {
          "output_type": "execute_result",
          "data": {
            "text/plain": [
              "2.5"
            ]
          },
          "metadata": {},
          "execution_count": 13
        }
      ],
      "source": [
        "calculate(divide, 5, 2)"
      ]
    },
    {
      "cell_type": "markdown",
      "metadata": {
        "id": "-V5yDpgkw1ss"
      },
      "source": [
        "<p style=\"text-align: right; direction: rtl; float: right; clear: both;\">\n",
        "    מה שמתרחש במקרה הזה הוא שהעברנו את הפונקציה <var>divide</var> כארגומנט ראשון.<br>\n",
        "    הפרמטר <var>function</var> בפונקציה <var>calculate</var> מצביע כעת על פונקציית החילוק שהגדרנו למעלה.<br>\n",
        "    מכאן, שהפונקציה תחזיר את התוצאה של <code>divide(5, 2)</code> – הרי היא 2.5.\n",
        "</p>"
      ]
    },
    {
      "cell_type": "markdown",
      "metadata": {
        "id": "SENrsxgDw1ss"
      },
      "source": [
        "#### <span style=\"text-align: right; direction: rtl; float: right; clear: both;\">תרגיל ביניים: מפה לפה</span>"
      ]
    },
    {
      "cell_type": "markdown",
      "metadata": {
        "id": "3XgzN1UJw1st"
      },
      "source": [
        "<p style=\"text-align: right; direction: rtl; float: right; clear: both;\">\n",
        "    כתבו generator בשם <var>apply</var> שמקבל כפרמטר ראשון פונקציה (<var>func</var>), וכפרמטר שני iterable (<var dir=\"rtl\">iterable</var>).<br>\n",
        "    עבור כל איבר ב־iterable, ה־generator יניב את האיבר אחרי שהופעלה עליו הפונקציה <var>func</var>, דהיינו – <code>func(item)</code>.<br>\n",
        "</p>"
      ]
    },
    {
      "cell_type": "markdown",
      "metadata": {
        "id": "YohOFRyzw1st"
      },
      "source": [
        "<p style=\"text-align: right; direction: rtl; float: right; clear: both;\">\n",
        "    ודאו שהרצת התא הבא מחזירה <code>True</code> עבור הקוד שלכם:\n",
        "</p>"
      ]
    },
    {
      "cell_type": "code",
      "execution_count": 14,
      "metadata": {
        "colab": {
          "base_uri": "https://localhost:8080/"
        },
        "id": "p68w2qOtw1st",
        "outputId": "1753d12c-1f90-4f1f-f4c0-757bcb85d10a"
      },
      "outputs": [
        {
          "output_type": "execute_result",
          "data": {
            "text/plain": [
              "True"
            ]
          },
          "metadata": {},
          "execution_count": 14
        }
      ],
      "source": [
        "def apply(func, iterable):\n",
        "  for item in iterable:\n",
        "    yield func(item)\n",
        "\n",
        "def square(number):\n",
        "    return number ** 2\n",
        "\n",
        "\n",
        "square_check = apply(square, [5, -1, 6, -8, 0])\n",
        "tuple(square_check) == (25, 1, 36, 64, 0)"
      ]
    },
    {
      "cell_type": "markdown",
      "metadata": {
        "id": "sQ1dMFx8w1st"
      },
      "source": [
        "### <span style=\"text-align: right; direction: rtl; float: right; clear: both;\">סיכום ביניים</span>"
      ]
    },
    {
      "cell_type": "markdown",
      "metadata": {
        "id": "lACwc0Cxw1st"
      },
      "source": [
        "<p style=\"text-align: right; direction: rtl; float: right; clear: both;\">\n",
        "    וואו. זה היה די משוגע.\n",
        "</p>"
      ]
    },
    {
      "cell_type": "markdown",
      "metadata": {
        "id": "putR81ocw1st"
      },
      "source": [
        "<p style=\"text-align: right; direction: rtl; float: right; clear: both;\">\n",
        "    אז למעשה, פונקציות בפייתון הן ערך לכל דבר, כמו מחרוזות ומספרים!<br>\n",
        "    אפשר לאחסן אותן במשתנים, לשלוח אותן כארגומנטים ולכלול אותם בתוך מבני נתונים מורכבים יותר.<br>\n",
        "    אנשי התיאוריה של מדעי המחשב נתנו להתנהגות כזו שם: \"<dfn>אזרח ממדרגה ראשונה</dfn>\" (<dfn>first class citizen</dfn>).<br>\n",
        "    אם כך, אפשר להגיד על פונקציות בפייתון שהן אזרחיות ממדרגה ראשונה.\n",
        "</p>"
      ]
    },
    {
      "cell_type": "markdown",
      "metadata": {
        "id": "r3-LOtFow1st"
      },
      "source": [
        "## <span style=\"text-align: right; direction: rtl; float: right; clear: both;\">פונקציות מסדר גבוה בפייתון</span>"
      ]
    },
    {
      "cell_type": "markdown",
      "metadata": {
        "id": "JkduLK-Iw1su"
      },
      "source": [
        "<p style=\"text-align: right; direction: rtl; float: right; clear: both;\">\n",
        "    החדשות הטובות הן שכבר עשינו היכרות קלה עם המונח פונקציות מסדר גבוה.<br>\n",
        "    עכשיו, כשאנחנו יודעים שמדובר בפונקציות שמקבלות פונקציה כפרמטר, נתחיל ללכלך קצת את הידיים.<br>\n",
        "    נציג כמה פונקציות פייתוניות מעניינות שכאלו:\n",
        "</p>"
      ]
    },
    {
      "cell_type": "markdown",
      "metadata": {
        "id": "DH0380K_w1su"
      },
      "source": [
        "### <span style=\"text-align: right; direction: rtl; float: right; clear: both;\">הפונקציה map</span>"
      ]
    },
    {
      "cell_type": "markdown",
      "metadata": {
        "id": "NDjJRGJpw1su"
      },
      "source": [
        "<p style=\"text-align: right; direction: rtl; float: right; clear: both;\">\n",
        "    הפונקציה <var>map</var> מקבלת פונקציה כפרמטר הראשון, ו־iterable כפרמטר השני.<br>\n",
        "    <var>map</var> מפעילה את הפונקציה מהפרמטר הראשון על כל אחד מהאיברים שהועברו ב־iterable.<br>\n",
        "    היא מחזירה iterator שמורכב מהערכים שחזרו מהפעלת הפונקציה.<br>\n",
        "</p>"
      ]
    },
    {
      "cell_type": "markdown",
      "metadata": {
        "id": "T8kQ2Zgww1su"
      },
      "source": [
        "\n",
        "<p style=\"text-align: right; direction: rtl; float: right; clear: both;\">\n",
        "    במילים אחרות, <var>map</var> יוצרת iterable חדש.<br>\n",
        "    ה־iterable כולל את הערך שהוחזר מהפונקציה עבור כל איבר ב־<code>iterable</code> שהועבר.\n",
        "</p>"
      ]
    },
    {
      "cell_type": "markdown",
      "metadata": {
        "id": "ZbJ4ZRVew1su"
      },
      "source": [
        "<p style=\"text-align: right; direction: rtl; float: right; clear: both;\">\n",
        "    לדוגמה:\n",
        "</p>"
      ]
    },
    {
      "cell_type": "code",
      "execution_count": 15,
      "metadata": {
        "colab": {
          "base_uri": "https://localhost:8080/"
        },
        "id": "9JPYatH3w1su",
        "outputId": "41d01ffc-74a8-435d-ed59-1d06d5e0815e"
      },
      "outputs": [
        {
          "output_type": "stream",
          "name": "stdout",
          "text": [
            "(1, 36, 1, 64, 0, 9, 9, 81, 64, 64, 49)\n"
          ]
        }
      ],
      "source": [
        "squared_items = map(square, [1, 6, -1, 8, 0, 3, -3, 9, -8, 8, -7])\n",
        "print(tuple(squared_items))"
      ]
    },
    {
      "cell_type": "markdown",
      "metadata": {
        "id": "8-vXbgyhw1su"
      },
      "source": [
        "<p style=\"text-align: right; direction: rtl; float: right; clear: both;\">\n",
        "    הפונקציה קיבלה כארגומנט ראשון את הפונקציה <var>square</var> שהגדרנו למעלה, שמטרתה העלאת מספר בריבוע.<br>\n",
        "    כארגומנט שני היא קיבלה את רשימת כל המספרים שאנחנו רוצים שהפונקציה תרוץ עליהם.<br>\n",
        "    כשהעברנו ל־<var>map</var> את הארגומנטים הללו, <var>map</var> החזירה לנו ב־iterator (מבנה שאפשר לעבור עליו איבר־איבר) את התוצאה:<br>\n",
        "    הריבוע, קרי החזקה השנייה, של כל אחד מהאיברים ברשימה שהועברה כארגומנט השני.\n",
        "</p>"
      ]
    },
    {
      "cell_type": "markdown",
      "metadata": {
        "id": "mfCCjASSw1su"
      },
      "source": [
        "<p style=\"text-align: right; direction: rtl; float: right; clear: both;\">\n",
        "    למעשה, אפשר להגיד ש־<code>map</code> שקולה לפונקציה הבאה:\n",
        "</p>"
      ]
    },
    {
      "cell_type": "code",
      "execution_count": 16,
      "metadata": {
        "id": "1KcYpt1rw1su"
      },
      "outputs": [],
      "source": [
        "def my_map(function, iterable):\n",
        "    for item in iterable:\n",
        "        yield function(item)"
      ]
    },
    {
      "cell_type": "markdown",
      "metadata": {
        "id": "se_lHkwmw1su"
      },
      "source": [
        "<p style=\"text-align: right; direction: rtl; float: right; clear: both;\">\n",
        "    הנה דוגמה נוספת לשימוש ב־<var>map</var>:\n",
        "</p>"
      ]
    },
    {
      "cell_type": "code",
      "execution_count": 17,
      "metadata": {
        "colab": {
          "base_uri": "https://localhost:8080/"
        },
        "id": "pPy6HmxTw1sv",
        "outputId": "253ade91-b442-4d4a-9f30-a4e1f3a2ec2b"
      },
      "outputs": [
        {
          "output_type": "stream",
          "name": "stdout",
          "text": [
            "(6, 7, 17, 3)\n"
          ]
        }
      ],
      "source": [
        "numbers = [(2, 4), (1, 4, 2), (1, 3, 5, 6, 2), (3, )]\n",
        "sums = map(sum, numbers)\n",
        "print(tuple(sums))"
      ]
    },
    {
      "cell_type": "markdown",
      "metadata": {
        "id": "WDDnpklMw1sv"
      },
      "source": [
        "<p style=\"text-align: right; direction: rtl; float: right; clear: both;\">\n",
        "    במקרה הזה, בכל מעבר, קיבלה הפונקציה <var>sum</var> איבר אחד מתוך הרשימה – tuple.<br>\n",
        "    היא סכמה את האיברים של כל tuple שקיבלה, וכך החזירה לנו את הסכומים של כל ה־tuple־ים – זה אחרי זה.\n",
        "</p>"
      ]
    },
    {
      "cell_type": "markdown",
      "metadata": {
        "id": "tfufwQPew1sv"
      },
      "source": [
        "<p style=\"text-align: right; direction: rtl; float: right; clear: both;\">\n",
        "    ודוגמה אחרונה:\n",
        "</p>"
      ]
    },
    {
      "cell_type": "code",
      "execution_count": 18,
      "metadata": {
        "colab": {
          "base_uri": "https://localhost:8080/"
        },
        "id": "F7bEFcpNw1sv",
        "outputId": "92d38823-a1b0-4fcf-beb6-f61d0fc9d356"
      },
      "outputs": [
        {
          "output_type": "stream",
          "name": "stdout",
          "text": [
            "(2, 3, 4)\n"
          ]
        }
      ],
      "source": [
        "def add_one(number):\n",
        "    return number + 1\n",
        "\n",
        "\n",
        "incremented = map(add_one, (1, 2, 3))\n",
        "print(tuple(incremented))"
      ]
    },
    {
      "cell_type": "markdown",
      "metadata": {
        "id": "apltXzS6w1sv"
      },
      "source": [
        "<p style=\"text-align: right; direction: rtl; float: right; clear: both;\">\n",
        "    בדוגמה הזו יצרנו פונקציה משל עצמנו, ואותה העברנו ל־map.<br>\n",
        "    מטרת דוגמה זו היא להדגיש שאין שוני בין העברת פונקציה שקיימת בפייתון לבין פונקציה שאנחנו יצרנו.\n",
        "</p>"
      ]
    },
    {
      "cell_type": "markdown",
      "metadata": {
        "id": "2Jf9jnx6w1sv"
      },
      "source": [
        "<div class=\"align-center\" style=\"display: flex; text-align: right; direction: rtl; clear: both;\">\n",
        "    <div style=\"display: flex; width: 10%; float: right; clear: both;\">\n",
        "        <img src=\"https://github.com/PythonFreeCourse/Notebooks/blob/main/content/week06/images/exercise.svg?raw=1\" style=\"height: 50px !important;\" alt=\"תרגול\">\n",
        "    </div>\n",
        "    <div style=\"width: 70%\">\n",
        "        <p style=\"text-align: right; direction: rtl; float: right; clear: both;\">\n",
        "            כתבו פונקציה שמקבלת רשימת מחרוזות של שתי מילים: שם פרטי ושם משפחה.<br>\n",
        "            הפונקציה תשתמש ב־map כדי להחזיר מכולן רק את השם הפרטי.\n",
        "        </p>\n",
        "    </div>\n",
        "    <div style=\"display: flex; width: 20%; border-right: 0.1rem solid #A5A5A5; padding: 1rem 2rem;\">\n",
        "        <p style=\"text-align: center; direction: rtl; justify-content: center; align-items: center; clear: both;\">\n",
        "            <strong>חשוב!</strong><br>\n",
        "            פתרו לפני שתמשיכו!\n",
        "        </p>\n",
        "    </div>\n",
        "</div>"
      ]
    },
    {
      "cell_type": "code",
      "source": [
        "def extract_first_name(names):\n",
        "  return tuple(map(lambda s: s.split(\" \")[0], names))"
      ],
      "metadata": {
        "id": "tLm7TcldZnrY"
      },
      "execution_count": 21,
      "outputs": []
    },
    {
      "cell_type": "code",
      "source": [
        "extract_first_name([\"mich k\", \"alon b\"])"
      ],
      "metadata": {
        "id": "ijY8enY9aIo-",
        "outputId": "c1676ccf-da48-42aa-8903-24297a40099f",
        "colab": {
          "base_uri": "https://localhost:8080/"
        }
      },
      "execution_count": 22,
      "outputs": [
        {
          "output_type": "execute_result",
          "data": {
            "text/plain": [
              "('mich', 'alon')"
            ]
          },
          "metadata": {},
          "execution_count": 22
        }
      ]
    },
    {
      "cell_type": "markdown",
      "metadata": {
        "id": "_9JmJf28w1sv"
      },
      "source": [
        "### <span style=\"text-align: right; direction: rtl; float: right; clear: both;\">הפונקציה filter</span>"
      ]
    },
    {
      "cell_type": "markdown",
      "metadata": {
        "id": "lWsV1uAWw1sv"
      },
      "source": [
        "<p style=\"text-align: right; direction: rtl; float: right; clear: both;\">\n",
        "    הפונקציה <var>filter</var> מקבלת פונקציה כפרמטר ראשון, ו־iterable כפרמטר שני.<br>\n",
        "    <var>filter</var> מפעילה על כל אחד מאיברי ה־iterable את הפונקציה, ומחזירה את האיבר אך ורק אם הערך שחזר מהפונקציה שקול ל־<code>True</code>.<br>\n",
        "    אם ערך ההחזרה שקול ל־<code>False</code> – הערך \"יבלע\" ב־<var>filter</var> ולא יחזור ממנה.\n",
        "</p>"
      ]
    },
    {
      "cell_type": "markdown",
      "metadata": {
        "id": "WSk7LkJew1sv"
      },
      "source": [
        "\n",
        "<p style=\"text-align: right; direction: rtl; float: right; clear: both;\">\n",
        "    במילים אחרות, <var>filter</var> יוצרת iterable חדש ומחזירה אותו.<br>\n",
        "    ה־iterable כולל רק את האיברים שעבורם הפונקציה שהועברה החזירה ערך השקול ל־<code>True</code>.\n",
        "</p>"
      ]
    },
    {
      "cell_type": "markdown",
      "metadata": {
        "id": "FDLrsoOXw1sv"
      },
      "source": [
        "<p style=\"text-align: right; direction: rtl; float: right; clear: both;\">\n",
        "    נבנה, לדוגמה, פונקציה שמחזירה אם אדם הוא בגיר.<br>\n",
        "    הפונקציה תקבל כפרמטר גיל, ותחזיר <code>True</code> כאשר הגיל שהועבר לה הוא לפחות 18, ו־<code>False</code> אחרת.\n",
        "</p>"
      ]
    },
    {
      "cell_type": "code",
      "execution_count": 23,
      "metadata": {
        "id": "N50EHHx9w1sw"
      },
      "outputs": [],
      "source": [
        "def is_mature(age):\n",
        "    return age >= 18"
      ]
    },
    {
      "cell_type": "markdown",
      "metadata": {
        "id": "Kpcpm5H6w1sw"
      },
      "source": [
        "<p style=\"text-align: right; direction: rtl; float: right; clear: both;\">\n",
        "    נגדיר רשימת גילים, ונבקש מ־<var>filter</var> לסנן אותם לפי הפונקציה שהגדרנו:\n",
        "</p>"
      ]
    },
    {
      "cell_type": "code",
      "execution_count": 24,
      "metadata": {
        "colab": {
          "base_uri": "https://localhost:8080/"
        },
        "id": "pzthhYL4w1sw",
        "outputId": "727abb5f-3868-410f-99d6-c8bf4a68edc0"
      },
      "outputs": [
        {
          "output_type": "stream",
          "name": "stdout",
          "text": [
            "(20, 35, 56, 84, 120)\n"
          ]
        }
      ],
      "source": [
        "ages = [0, 1, 4, 10, 20, 35, 56, 84, 120]\n",
        "mature_ages = filter(is_mature, ages)\n",
        "print(tuple(mature_ages))"
      ]
    },
    {
      "cell_type": "markdown",
      "metadata": {
        "id": "KEDIIIJrw1sw"
      },
      "source": [
        "<p style=\"text-align: right; direction: rtl; float: right; clear: both;\">\n",
        "    כפי שלמדנו, <var>filter</var> מחזירה לנו רק גילים השווים ל־18 או גדולים ממנו.\n",
        "</p>"
      ]
    },
    {
      "cell_type": "markdown",
      "metadata": {
        "id": "_bgEN1lTw1sw"
      },
      "source": [
        "<p style=\"text-align: right; direction: rtl; float: right; clear: both;\">\n",
        "    נחדד שהפונקציה שאנחנו מעבירים ל־<var>filter</var> לא חייבת להחזיר בהכרח <code>True</code> או <code>False</code>.<br>\n",
        "    הערך 0, לדוגמה, שקול ל־<code>False</code>, ולכן <var>filter</var> תסנן כל ערך שעבורו הפונקציה תחזיר 0:\n",
        "</p>"
      ]
    },
    {
      "cell_type": "code",
      "execution_count": 25,
      "metadata": {
        "colab": {
          "base_uri": "https://localhost:8080/"
        },
        "id": "zTcIPE67w1sw",
        "outputId": "da5157e5-b989-488f-ec42-4a27c7b8fb99"
      },
      "outputs": [
        {
          "output_type": "stream",
          "name": "stdout",
          "text": [
            "((2, 5), (1, 2, 3))\n"
          ]
        }
      ],
      "source": [
        "to_sum = [(1, -1), (2, 5), (5, -3, -2), (1, 2, 3)]\n",
        "sum_is_not_zero = filter(sum, to_sum)\n",
        "print(tuple(sum_is_not_zero))"
      ]
    },
    {
      "cell_type": "markdown",
      "metadata": {
        "id": "a__S0FTdw1sw"
      },
      "source": [
        "<p style=\"text-align: right; direction: rtl; float: right; clear: both;\">\n",
        "    בתא האחרון העברנו ל־<var>filter</var> את sum כפונקציה שאותה אנחנו רוצים להפעיל, ואת <var>to_sum</var> כאיברים שעליהם אנחנו רוצים לפעול.<br>\n",
        "    ה־tuple־ים שסכום איבריהם היה 0 סוננו, וקיבלנו חזרה iterator שהאיברים בו הם אך ורק אלו שסכומם שונה מ־0.\n",
        "</p>"
      ]
    },
    {
      "cell_type": "markdown",
      "metadata": {
        "id": "Aj_1tjrow1sx"
      },
      "source": [
        "<p style=\"text-align: right; direction: rtl; float: right; clear: both;\">\n",
        "    כטריק אחרון, נלמד ש־<var>filter</var> יכולה לקבל גם <code>None</code> בתור הפרמטר הראשון, במקום פונקציה.<br>\n",
        "    זה יגרום ל־<var>filter</var> לא להפעיל פונקציה על האיברים שהועברו, כלומר לסנן אותם כמו שהם.<br>\n",
        "    איברים השקולים ל־<code>True</code> יוחזרו, ואיברים השקולים ל־<code>False</code> לא יוחזרו:\n",
        "</p>"
      ]
    },
    {
      "cell_type": "code",
      "execution_count": 26,
      "metadata": {
        "colab": {
          "base_uri": "https://localhost:8080/"
        },
        "id": "CoTplA2sw1sx",
        "outputId": "482e0908-bc18-448e-eb9e-d1d600d23dfd"
      },
      "outputs": [
        {
          "output_type": "stream",
          "name": "stdout",
          "text": [
            "(True, 'Hello')\n"
          ]
        }
      ],
      "source": [
        "to_sum = [0, \"\", None, 0.0, True, False, \"Hello\"]\n",
        "equivalent_to_true = filter(None, to_sum)\n",
        "print(tuple(equivalent_to_true))"
      ]
    },
    {
      "cell_type": "markdown",
      "metadata": {
        "id": "R-Nvzcwmw1sx"
      },
      "source": [
        "<div class=\"align-center\" style=\"display: flex; text-align: right; direction: rtl; clear: both;\">\n",
        "    <div style=\"display: flex; width: 10%; float: right; clear: both;\">\n",
        "        <img src=\"https://github.com/PythonFreeCourse/Notebooks/blob/main/content/week06/images/exercise.svg?raw=1\" style=\"height: 50px !important;\" alt=\"תרגול\">\n",
        "    </div>\n",
        "    <div style=\"width: 70%\">\n",
        "        <p style=\"text-align: right; direction: rtl; float: right; clear: both;\">\n",
        "            כתבו פונקציה שמקבלת רשימת מחרוזות, ומחזירה רק את המחרוזות הפלינדרומיות שבה.<br>\n",
        "            מחרוזת נחשבת פלינדרום אם קריאתה מימין לשמאל ומשמאל לימין יוצרת אותו ביטוי.<br>\n",
        "            השתמשו ב־<var>filter</var>.\n",
        "        </p>\n",
        "    </div>\n",
        "    <div style=\"display: flex; width: 20%; border-right: 0.1rem solid #A5A5A5; padding: 1rem 2rem;\">\n",
        "        <p style=\"text-align: center; direction: rtl; justify-content: center; align-items: center; clear: both;\">\n",
        "            <strong>חשוב!</strong><br>\n",
        "            פתרו לפני שתמשיכו!\n",
        "        </p>\n",
        "    </div>\n",
        "</div>"
      ]
    },
    {
      "cell_type": "code",
      "source": [
        "def check_palindromity(to_check_palindromity):\n",
        "  return tuple(filter(lambda s: s == s[::-1], to_check_palindromity))\n",
        "\n"
      ],
      "metadata": {
        "id": "9Gy9DJwEbg6Q"
      },
      "execution_count": 27,
      "outputs": []
    },
    {
      "cell_type": "code",
      "source": [
        "to_check_palindromity = [\"a\", \"aaa\", \"abab\", \"ababa\"]\n",
        "\n",
        "print(check_palindromity(to_check_palindromity))"
      ],
      "metadata": {
        "id": "m6rloux6cYn9",
        "outputId": "df931c1d-94ba-4345-866f-81daf8ee6316",
        "colab": {
          "base_uri": "https://localhost:8080/"
        }
      },
      "execution_count": 28,
      "outputs": [
        {
          "output_type": "stream",
          "name": "stdout",
          "text": [
            "('a', 'aaa', 'ababa')\n"
          ]
        }
      ]
    },
    {
      "cell_type": "markdown",
      "metadata": {
        "id": "5MZ2Lnnjw1sy"
      },
      "source": [
        "## <span style=\"text-align: right; direction: rtl; float: right; clear: both;\">פונקציות אנונימיות</span>"
      ]
    },
    {
      "cell_type": "markdown",
      "metadata": {
        "id": "2g94I-w_w1sy"
      },
      "source": [
        "<p style=\"text-align: right; direction: rtl; float: right; clear: both;\">\n",
        "    תעלול נוסף שנוסיף לארגז הכלים שלנו הוא <dfn>פונקציות אנונימיות</dfn> (<dfn>anonymous functions</dfn>).<br>\n",
        "    אל תיבהלו מהשם המאיים – בסך הכול פירושו הוא \"פונקציות שאין להן שם\".<br>\n",
        "</p>"
      ]
    },
    {
      "cell_type": "markdown",
      "metadata": {
        "id": "zHuKQaIUw1sy"
      },
      "source": [
        "<p style=\"text-align: right; direction: rtl; float: right; clear: both;\">\n",
        "    לפני שאתם מרימים גבה ושואלים את עצמכם למה הן שימושיות, בואו נבחן כמה דוגמאות.<br>\n",
        "    ניזכר בהגדרת פונקציית החיבור שיצרנו לא מזמן:\n",
        "</p>"
      ]
    },
    {
      "cell_type": "code",
      "execution_count": 29,
      "metadata": {
        "id": "PDDWZ5Xpw1sy"
      },
      "outputs": [],
      "source": [
        "def add(num1, num2):\n",
        "    return num1 + num2"
      ]
    },
    {
      "cell_type": "markdown",
      "metadata": {
        "id": "igk7H9tSw1sy"
      },
      "source": [
        "<p style=\"text-align: right; direction: rtl; float: right; clear: both;\">\n",
        "    ונגדיר את אותה הפונקציה בדיוק בצורה אנונימית:\n",
        "</p>"
      ]
    },
    {
      "cell_type": "code",
      "execution_count": 30,
      "metadata": {
        "colab": {
          "base_uri": "https://localhost:8080/"
        },
        "id": "c6LG0Qd2w1sz",
        "outputId": "a0d7237f-9a8c-47cd-813a-b75ed1755ab0"
      },
      "outputs": [
        {
          "output_type": "stream",
          "name": "stdout",
          "text": [
            "7\n"
          ]
        }
      ],
      "source": [
        "add = lambda num1, num2: num1 + num2\n",
        "\n",
        "print(add(5, 2))"
      ]
    },
    {
      "cell_type": "markdown",
      "metadata": {
        "id": "T1ivzjJ4w1sz"
      },
      "source": [
        "<p style=\"text-align: right; direction: rtl; float: right; clear: both;\">\n",
        "    לפני שנסביר איפה החלק של ה\"פונקציה בלי שם\" נתמקד בצד ימין של ההשמה.<br>\n",
        "    כיצד מנוסחת הגדרת פונקציה אנונימית?\n",
        "</p>"
      ]
    },
    {
      "cell_type": "markdown",
      "metadata": {
        "id": "aZKlWQ5Yw1sz"
      },
      "source": [
        "<ol style=\"text-align: right; direction: rtl; float: right; clear: both;\">\n",
        "    <li>הצהרנו שברצוננו ליצור פונקציה אנונימית בעזרת מילת המפתח <code>lambda</code>.</li>\n",
        "    <li>מייד אחריה, ציינו את שמות כל הפרמטרים שהפונקציה תקבל, כשהם מופרדים בפסיק זה מזה.</li>\n",
        "    <li>כדי להפריד בין רשימת הפרמטרים לערך ההחזרה של הפונקציה, השתמשנו בנקודתיים.</li>\n",
        "    <li>אחרי הנקודתיים, כתבנו את הביטוי שאנחנו רוצים שהפונקציה תחזיר.</li>\n",
        "</ol>"
      ]
    },
    {
      "cell_type": "markdown",
      "metadata": {
        "id": "Kq3dAMe0w1sz"
      },
      "source": [
        "<figure>\n",
        "    <img src=\"https://github.com/PythonFreeCourse/Notebooks/blob/main/content/week06/images/lambda.png?raw=1\" style=\"max-width: 500px; margin-right: auto; margin-left: auto; text-align: center;\" alt=\"בתמונה מופיעה הגדרת ה־lambda שביצענו קודם לכן. מעל המילה lambda המודגשת בירוק ישנו פס מקווקו, ומעליו רשום 'הצהרה'. מימין למילה lambda כתוב num1 (פסיק) num2, מעליהם קו מקווקו ומעליו המילה 'פרמטרים'. מימין לפרמטרים יש נקודתיים, ואז num1 (הסימן פלוס) num2. מעליהם קו מקווקו, ומעליו המילה 'ערך החזרה'.\"/>\n",
        "    <figcaption style=\"margin-top: 2rem; text-align: center; direction: rtl;\">חלקי ההגדרה של פונקציה אנונימית בעזרת מילת המפתח <code>lambda</code><br><span style=\"color: white;\">A girl has no name</span></figcaption>\n",
        "</figure>"
      ]
    },
    {
      "cell_type": "markdown",
      "metadata": {
        "id": "2HUJOHh3w1s0"
      },
      "source": [
        "<p style=\"text-align: right; direction: rtl; float: right; clear: both;\">\n",
        "    במה שונה ההגדרה של פונקציה זו מההגדרה של פונקציה רגילה?<br>\n",
        "    היא לא באמת שונה.<br>\n",
        "    המטרה היא לאפשר תחביר שיקל על חיינו כשאנחנו רוצים לכתוב פונקציה קצרצרה שאורכה שורה אחת.\n",
        "</p>"
      ]
    },
    {
      "cell_type": "markdown",
      "metadata": {
        "id": "--P1dc66w1s0"
      },
      "source": [
        "<p style=\"text-align: right; direction: rtl; float: right; clear: both;\">\n",
        "    נראה, לדוגמה, שימוש ב־<var>filter</var> כדי לסנן את כל האיברים שאינם חיוביים:\n",
        "</p>"
      ]
    },
    {
      "cell_type": "code",
      "execution_count": 31,
      "metadata": {
        "colab": {
          "base_uri": "https://localhost:8080/"
        },
        "id": "6Bw8UM_Nw1s0",
        "outputId": "634166f4-6aaf-47b0-d5ab-211085cfbbc5"
      },
      "outputs": [
        {
          "output_type": "stream",
          "name": "stdout",
          "text": [
            "(1, 2)\n"
          ]
        }
      ],
      "source": [
        "def is_positive(number):\n",
        "    return number > 0\n",
        "\n",
        "\n",
        "numbers = [-2, -1, 0, 1, 2]\n",
        "positive_numbers = filter(is_positive, numbers)\n",
        "print(tuple(positive_numbers))"
      ]
    },
    {
      "cell_type": "markdown",
      "metadata": {
        "id": "1VFe7Ae4w1s0"
      },
      "source": [
        "<p style=\"text-align: right; direction: rtl; float: right; clear: both;\">\n",
        "    במקום להגדיר פונקציה חדשה שנקראת <var>is_positive</var>, נוכל להשתמש בפונקציה אנונימית:\n",
        "</p>"
      ]
    },
    {
      "cell_type": "code",
      "execution_count": 32,
      "metadata": {
        "colab": {
          "base_uri": "https://localhost:8080/"
        },
        "id": "pCVoSLCjw1s0",
        "outputId": "c9badc3a-63ce-48a1-8b0e-3db5f111dee1"
      },
      "outputs": [
        {
          "output_type": "stream",
          "name": "stdout",
          "text": [
            "(1, 2)\n"
          ]
        }
      ],
      "source": [
        "numbers = [-2, -1, 0, 1, 2]\n",
        "positive_numbers = filter(lambda n: n > 0, numbers)\n",
        "print(tuple(positive_numbers))"
      ]
    },
    {
      "cell_type": "markdown",
      "metadata": {
        "id": "mpQ_wxWAw1s0"
      },
      "source": [
        "<p style=\"text-align: right; direction: rtl; float: right; clear: both;\">\n",
        "    איך זה עובד?<br>\n",
        "    במקום להעביר ל־<var>filter</var> פונקציה שיצרנו מבעוד מועד, השתמשנו ב־<code>lambda</code> כדי ליצור פונקציה ממש באותה השורה.<br>\n",
        "    הפונקציה שהגדרנו מקבלת מספר (<var>n</var>), ומחזירה <code>True</code> אם הוא חיובי, או <code>False</code> אחרת.<br>\n",
        "    שימו לב שבצורה זו באמת לא היינו צריכים לתת שם לפונקציה שהגדרנו.\n",
        "</p>"
      ]
    },
    {
      "cell_type": "markdown",
      "metadata": {
        "id": "GGE197F4w1s1"
      },
      "source": [
        "<p style=\"text-align: right; direction: rtl; float: right; clear: both;\">\n",
        "    השימוש בפונקציות אנונימיות לא מוגבל ל־<var>map</var> ול־<var>filter</var>, כמובן.<br>\n",
        "    מקובל להשתמש ב־<code>lambda</code> גם עבור פונקציות כמו <var>sorted</var>, שמקבלות פונקציה בתור ארגומנט.\n",
        "</p>"
      ]
    },
    {
      "cell_type": "markdown",
      "metadata": {
        "id": "fEBa8sQcw1s1"
      },
      "source": [
        "<div class=\"align-center\" style=\"display: flex; text-align: right; direction: rtl;\">\n",
        "    <div style=\"display: flex; width: 10%; float: right; \">\n",
        "        <img src=\"https://github.com/PythonFreeCourse/Notebooks/blob/main/content/week06/images/recall.svg?raw=1\" style=\"height: 50px !important;\" alt=\"תזכורת\" title=\"תזכורת\">\n",
        "    </div>\n",
        "    <div style=\"width: 90%\">\n",
        "        <p style=\"text-align: right; direction: rtl;\">\n",
        "            הפונקציה <code>sorted</code> מאפשרת לנו לסדר ערכים, ואפילו להגדיר עבורה לפי מה לסדר אותם.<br>\n",
        "            לרענון בנוגע לשימוש בפונקציה גשו למחברת בנושא פונקציות מובנות בשבוע 4.\n",
        "        </p>\n",
        "    </div>\n",
        "</div>"
      ]
    },
    {
      "cell_type": "markdown",
      "metadata": {
        "id": "CtViF1cKw1s1"
      },
      "source": [
        "<p style=\"text-align: right; direction: rtl; float: right; clear: both;\">\n",
        "    נסדר, למשל, את הדמויות ברשימה הבאה, לפי תאריך הולדתן:\n",
        "</p>"
      ]
    },
    {
      "cell_type": "code",
      "execution_count": 33,
      "metadata": {
        "id": "1vT7I8zLw1s2"
      },
      "outputs": [],
      "source": [
        "closet = [\n",
        "    {'name': 'Peter', 'year_of_birth': 1927, 'gender': 'Male'},\n",
        "    {'name': 'Edmund', 'year_of_birth': 1930, 'gender': 'Male'},\n",
        "    {'name': 'Lucy', 'year_of_birth': 1932, 'gender': 'Female'},\n",
        "    {'name': 'Susan', 'year_of_birth': 1928, 'gender': 'Female'},\n",
        "    {'name': 'Jadis', 'year_of_birth': 0, 'gender': 'Female'},\n",
        "]"
      ]
    },
    {
      "cell_type": "markdown",
      "metadata": {
        "id": "r8VO78LPw1s2"
      },
      "source": [
        "<p style=\"text-align: right; direction: rtl; float: right; clear: both;\">\n",
        "    נרצה שסידור הרשימה יתבצע לפי המפתח <var>year_of_birth</var>.<br>\n",
        "    כלומר, בהינתן מילון שמייצג דמות בשם <var>d</var>, יש להשיג את <code dir=\"ltr\">d['year_of_birth']</code>, ולפיו לבצע את סידור הרשימה.<br>\n",
        "    ניגש למלאכה:\n",
        "</p>"
      ]
    },
    {
      "cell_type": "code",
      "execution_count": 34,
      "metadata": {
        "colab": {
          "base_uri": "https://localhost:8080/"
        },
        "id": "SxIovsb6w1s2",
        "outputId": "8735d227-12cc-4865-f8d4-c13587e14bb0"
      },
      "outputs": [
        {
          "output_type": "execute_result",
          "data": {
            "text/plain": [
              "[{'name': 'Jadis', 'year_of_birth': 0, 'gender': 'Female'},\n",
              " {'name': 'Peter', 'year_of_birth': 1927, 'gender': 'Male'},\n",
              " {'name': 'Susan', 'year_of_birth': 1928, 'gender': 'Female'},\n",
              " {'name': 'Edmund', 'year_of_birth': 1930, 'gender': 'Male'},\n",
              " {'name': 'Lucy', 'year_of_birth': 1932, 'gender': 'Female'}]"
            ]
          },
          "metadata": {},
          "execution_count": 34
        }
      ],
      "source": [
        "sorted(closet, key=lambda d: d['year_of_birth'])"
      ]
    },
    {
      "cell_type": "markdown",
      "metadata": {
        "id": "qusYRuchw1s2"
      },
      "source": [
        "<div class=\"align-center\" style=\"display: flex; text-align: right; direction: rtl;\">\n",
        "    <div style=\"display: flex; width: 10%; float: right; \">\n",
        "        <img src=\"https://github.com/PythonFreeCourse/Notebooks/blob/main/content/week06/images/warning.png?raw=1\" style=\"height: 50px !important;\" alt=\"אזהרה!\">\n",
        "    </div>\n",
        "    <div style=\"width: 90%\">\n",
        "        <p style=\"text-align: right; direction: rtl;\">\n",
        "            פונקציות אנונימיות הן יכולת חביבה שאמורה לסייע לכם לכתוב קוד נאה וקריא.<br>\n",
        "            כלל אצבע טוב לחיים הוא להימנע משימוש בהן כאשר הן מסרבלות את הקוד.\n",
        "        </p>\n",
        "    </div>\n",
        "</div>"
      ]
    },
    {
      "cell_type": "markdown",
      "metadata": {
        "id": "yHd7g1w_w1s2"
      },
      "source": [
        "<div class=\"align-center\" style=\"display: flex; text-align: right; direction: rtl; clear: both;\">\n",
        "    <div style=\"display: flex; width: 10%; float: right; clear: both;\">\n",
        "        <img src=\"https://github.com/PythonFreeCourse/Notebooks/blob/main/content/week06/images/exercise.svg?raw=1\" style=\"height: 50px !important;\" alt=\"תרגיל\" title=\"תרגיל\">\n",
        "    </div>\n",
        "    <div style=\"width: 70%\">\n",
        "        <p style=\"text-align: right; direction: rtl; float: right; clear: both;\">\n",
        "            סדרו את הדמויות ב־<var>closet</var> לפי האות האחרונה בשמם.\n",
        "        </p>\n",
        "    </div>\n",
        "</div>"
      ]
    },
    {
      "cell_type": "code",
      "source": [
        "sorted(closet, key=lambda d: d['name'][-1])"
      ],
      "metadata": {
        "id": "jCxV9aGVefot",
        "outputId": "28fa0396-7cb9-42cd-9513-69104295cc3f",
        "colab": {
          "base_uri": "https://localhost:8080/"
        }
      },
      "execution_count": 35,
      "outputs": [
        {
          "output_type": "execute_result",
          "data": {
            "text/plain": [
              "[{'name': 'Edmund', 'year_of_birth': 1930, 'gender': 'Male'},\n",
              " {'name': 'Susan', 'year_of_birth': 1928, 'gender': 'Female'},\n",
              " {'name': 'Peter', 'year_of_birth': 1927, 'gender': 'Male'},\n",
              " {'name': 'Jadis', 'year_of_birth': 0, 'gender': 'Female'},\n",
              " {'name': 'Lucy', 'year_of_birth': 1932, 'gender': 'Female'}]"
            ]
          },
          "metadata": {},
          "execution_count": 35
        }
      ]
    },
    {
      "cell_type": "markdown",
      "metadata": {
        "id": "WqbaPC5lw1s2"
      },
      "source": [
        "## <span style=\"align: right; direction: rtl; float: right; clear: both;\">מונחים</span>"
      ]
    },
    {
      "cell_type": "markdown",
      "metadata": {
        "id": "MWY68O7Gw1s2"
      },
      "source": [
        "<dl style=\"text-align: right; direction: rtl; float: right; clear: both;\">\n",
        "    <dt>פונקציה מסדר גבוה</dt>\n",
        "        <dd>פונקציה שמקבלת פונקציה כאחד הארגומנטים, או שמחזירה פונקציה כערך ההחזרה שלה.</dd>\n",
        "    <dt>אזרח ממדרגה ראשונה</dt>\n",
        "        <dd>ישות תכנותית המתנהגת בשפת התכנות כערך לכל דבר. בפייתון, פונקציות הן אזרחיות ממדרגה ראשונה.<dd>\n",
        "    <dt>פונקציה אנונימית, פונקציית <code>lambda</code></dt>\n",
        "        <dd>פונקציה ללא שם המיועדת להגדרת פונקציה בשורה אחת, לרוב לשימוש חד־פעמי. בעברית: פונקציית למדא.</dd>\n",
        "</dl>"
      ]
    },
    {
      "cell_type": "markdown",
      "metadata": {
        "id": "cxp2IfCpw1s2"
      },
      "source": [
        "## <span style=\"align: right; direction: rtl; float: right; clear: both;\">תרגילים</span>"
      ]
    },
    {
      "cell_type": "markdown",
      "metadata": {
        "id": "Vc_2hluyw1s3"
      },
      "source": [
        "### <span style=\"align: right; direction: rtl; float: right; clear: both;\">פילטר מותאם אישית</span>"
      ]
    },
    {
      "cell_type": "markdown",
      "metadata": {
        "id": "rVYl97U6w1s3"
      },
      "source": [
        "<p style=\"text-align: right; direction: rtl; float: right; clear: both;\">\n",
        "    כתבו פונקציה בשם <var>my_filter</var> שמתנהגת בדיוק כמו הפונקציה <var>filter</var>.<br>\n",
        "    בפתירת התרגיל, המנעו משימוש ב־<var>filter</var> או במודולים.\n",
        "</p>"
      ]
    },
    {
      "cell_type": "markdown",
      "metadata": {
        "id": "nHacQm8Tw1s3"
      },
      "source": [
        "### <span style=\"align: right; direction: rtl; float: right; clear: both;\">נשאר? חיובי</span>"
      ]
    },
    {
      "cell_type": "markdown",
      "metadata": {
        "id": "YN4Ch_dqw1s3"
      },
      "source": [
        "<p style=\"text-align: right; direction: rtl; float: right; clear: both;\">\n",
        "כתבו פונקציה בשם <var>get_positive_numbers</var> שמקבלת מהמשתמש קלט בעזרת <var>input</var>.<br>\n",
        "המשתמש יתבקש להזין סדרה של מספרים המופרדים בפסיק זה מזה.<br>\n",
        "הפונקציה תחזיר את כל המספרים החיוביים שהמשתמש הזין, כרשימה של מספרים מסוג <code>int</code>.<br>\n",
        "אפשר להניח שהקלט מהמשתמש תקין.\n",
        "</p>"
      ]
    },
    {
      "cell_type": "markdown",
      "metadata": {
        "id": "paGxHSNkw1s3"
      },
      "source": [
        "### <span style=\"align: right; direction: rtl; float: right; clear: both;\">ריצת 2,000</span>"
      ]
    },
    {
      "cell_type": "markdown",
      "metadata": {
        "id": "u4ZsYx04w1s3"
      },
      "source": [
        "<p style=\"text-align: right; direction: rtl; float: right; clear: both;\">\n",
        "    כתבו פונקציה בשם <var>timer</var> שמקבלת כפרמטר פונקציה  (נקרא לה <var>f</var>) ופרמטרים נוספים.<br>\n",
        "    הפונקציה <var>timer</var> תמדוד כמה זמן רצה פונקציה <var>f</var> כשמועברים אליה אותם פרמטרים. <br>\n",
        "</p>"
      ]
    },
    {
      "cell_type": "markdown",
      "metadata": {
        "id": "7I14-zEgw1s3"
      },
      "source": [
        "<p style=\"text-align: right; direction: rtl; float: right; clear: both;\">\n",
        "    לדוגמה:\n",
        "</p>"
      ]
    },
    {
      "cell_type": "markdown",
      "metadata": {
        "id": "sGcm1Jckw1s4"
      },
      "source": [
        "<ol style=\"text-align: right; direction: rtl; float: right; clear: both;\">\n",
        "    <li>עבור הקריאה <code dir=\"ltr\">timer(print, \"Hello\")</code>, תחזיר הפונקציה את משך זמן הביצוע של <code dir=\"ltr\">print(\"Hello\")</code>.</li>\n",
        "    <li>עבור הקריאה <code dir=\"ltr\">timer(zip, [1, 2, 3], [4, 5, 6])</code>, תחזיר הפונקציה את משך זמן הביצוע של <code dir=\"ltr\">zip([1, 2, 3], [4, 5, 6])</code>.</li>\n",
        "    <li>עבור הקריאה <code dir=\"ltr\">timer(\"Hi {name}\".format, name=\"Bug\")</code>, תחזיר הפונקציה את משך זמן הביצוע של <code dir=\"ltr\">\"Hi {name}\".format(name=\"Bug\")</code></li>\n",
        "</ol>"
      ]
    }
  ],
  "metadata": {
    "kernelspec": {
      "display_name": "Python 3",
      "language": "python",
      "name": "python3"
    },
    "language_info": {
      "codemirror_mode": {
        "name": "ipython",
        "version": 3
      },
      "file_extension": ".py",
      "mimetype": "text/x-python",
      "name": "python",
      "nbconvert_exporter": "python",
      "pygments_lexer": "ipython3",
      "version": "3.7.6"
    },
    "colab": {
      "provenance": []
    }
  },
  "nbformat": 4,
  "nbformat_minor": 0
}