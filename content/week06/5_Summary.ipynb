{
  "cells": [
    {
      "cell_type": "markdown",
      "metadata": {
        "id": "zusINXBjONEc"
      },
      "source": [
        "# <span style=\"align: right; direction: rtl; float: right; clear: both;\">תרגילים</span>"
      ]
    },
    {
      "cell_type": "markdown",
      "metadata": {
        "id": "ClEDPRjwONEf"
      },
      "source": [
        "### <span style=\"text-align: right; direction: rtl; float: right; clear: both;\">group_by</span>"
      ]
    },
    {
      "cell_type": "markdown",
      "metadata": {
        "id": "ARUhXV7hONEg"
      },
      "source": [
        "<p style=\"text-align: right; direction: rtl; float: right; clear: both;\">\n",
        "    כתבו פונקציה בשם <var>group_by</var> שמקבלת פונקציה כפרמטר ראשון, ו־iterable כפרמטר שני.<br>\n",
        "    הפונקציה תחזיר מילון, שבו:\n",
        "</p>"
      ]
    },
    {
      "cell_type": "markdown",
      "metadata": {
        "id": "TXy6tqMiONEg"
      },
      "source": [
        "<ul style=\"text-align: right; direction: rtl; float: right; clear: both;\">\n",
        "    <li>המפתחות הם הערכים שחזרו מהפונקציה שהועברה כפרמטר הראשון.</li>\n",
        "    <li>הערך התואם למפתח מסוים הוא רשימה של כל האיברים שעבורם חזר הערך המופיע במפתח.</li>\n",
        "</ul>"
      ]
    },
    {
      "cell_type": "markdown",
      "metadata": {
        "id": "pqgjTQKaONEh"
      },
      "source": [
        "<p style=\"text-align: right; direction: rtl; float: right; clear: both;\">\n",
        "לדוגמה, עבור הקריאה <code dir=\"ltr\" style=\"direction: ltr; text-align: left;\">group_by(len, [\"hi\", \"bye\", \"yo\", \"try\"])</code> יוחזר הערך: <samp dir=\"ltr\" style=\"direction: ltr; text-align: left;\">{2: [\"hi\", \"yo\"], 3: [\"bye\", \"try\"]}</samp>.\n",
        "</p>"
      ]
    },
    {
      "cell_type": "code",
      "source": [
        "def group_by(func, iter):\n",
        "  outputs = map(func, iter)\n",
        "  return {output: [item for item in iter if func(item) == output] for output in outputs}\n",
        "\n",
        "group_by(len, [\"hi\", \"bye\", \"yo\", \"try\"])"
      ],
      "metadata": {
        "id": "HjFRKxgieppQ",
        "outputId": "7e5e3ba2-8fc3-4143-94f4-59f48ef42d27",
        "colab": {
          "base_uri": "https://localhost:8080/"
        }
      },
      "execution_count": 1,
      "outputs": [
        {
          "output_type": "execute_result",
          "data": {
            "text/plain": [
              "{2: ['hi', 'yo'], 3: ['bye', 'try']}"
            ]
          },
          "metadata": {},
          "execution_count": 1
        }
      ]
    },
    {
      "cell_type": "markdown",
      "metadata": {
        "id": "cENQT9DWONEh"
      },
      "source": [
        "### <span style=\"text-align: right; direction: rtl; float: right; clear: both;\">zipwith</span>"
      ]
    },
    {
      "cell_type": "markdown",
      "metadata": {
        "id": "5mbg-tpZONEh"
      },
      "source": [
        "<p style=\"text-align: right; direction: rtl; float: right; clear: both;\">\n",
        "    כתבו פונקציה בשם <var>zip_with</var> שמקבלת פונקציה כפרמטר ראשון, ושני iterable־ים או יותר בפרמטרים שאחריו.<br>\n",
        "    הפונקציה תחזיר רשימה, שבה האיבר במקום ה־N־י הוא הערך שחזר מהעברת כל הערכים במקום ה־N־י של כל ה־iterables לפונקציה.\n",
        "</p>"
      ]
    },
    {
      "cell_type": "markdown",
      "metadata": {
        "id": "WjNQNVAAONEi"
      },
      "source": [
        "<p style=\"text-align: right; direction: rtl; float: right; clear: both;\">\n",
        "לדוגמה:\n",
        "</p>"
      ]
    },
    {
      "cell_type": "markdown",
      "metadata": {
        "id": "aAhvF4CeONEi"
      },
      "source": [
        "<ul style=\"text-align: right; direction: rtl; float: right; clear: both;\">\n",
        "    <li>עבור הקריאה <code dir=\"ltr\" style=\"direction: ltr; text-align: left;\">zipwith(add, [1, 2, 3], [4, 5, 6])</code> יוחזר הערך: <samp dir=\"ltr\" style=\"direction: ltr; text-align: left;\">[5, 7, 9]</samp>.</li>\n",
        "    <li>עבור הקריאה <code dir=\"ltr\" style=\"direction: ltr; text-align: left;\">zipwith(max, (5, 4), (2, 5), (6, -6))</code> יוחזר הערך: <samp dir=\"ltr\" style=\"direction: ltr; text-align: left;\">[6, 5]</samp>.</li>\n",
        "</ul>"
      ]
    },
    {
      "cell_type": "markdown",
      "metadata": {
        "id": "aeVSc4YJONEi"
      },
      "source": [
        "<p style=\"text-align: right; direction: rtl; float: right; clear: both;\">\n",
        "    אפשר להניח שה־iterables המועברים לפונקציה זהים באורכם.\n",
        "</p>"
      ]
    },
    {
      "cell_type": "code",
      "source": [
        "def zipwith(func, *iterables):\n",
        "  return list(map(func, list(zip(*iterables))))\n",
        "\n",
        "\n",
        "zipwith(max, [1, 2, 3], [4, 5, 6])\n"
      ],
      "metadata": {
        "id": "vZd5rjUEgFoj",
        "outputId": "ba571ceb-21e8-419a-fbbe-fe12293b0ad8",
        "colab": {
          "base_uri": "https://localhost:8080/"
        }
      },
      "execution_count": 8,
      "outputs": [
        {
          "output_type": "execute_result",
          "data": {
            "text/plain": [
              "[4, 5, 6]"
            ]
          },
          "metadata": {},
          "execution_count": 8
        }
      ]
    },
    {
      "cell_type": "markdown",
      "metadata": {
        "id": "0l-r0d6aONEj"
      },
      "source": [
        "### <span style=\"text-align: right; direction: rtl; float: right; clear: both;\">זכרתם?</span>\n"
      ]
    },
    {
      "cell_type": "markdown",
      "metadata": {
        "id": "fZgnHKitONEj"
      },
      "source": [
        "<p style=\"text-align: right; direction: rtl; float: right; clear: both;\">\n",
        "    כתבו פונקציה שמקבלת מסר להצפנה, ויוצרת ממנו תמונה מוצפנת.<br>\n",
        "    השתמשו בשיטת ההצפנה שהוצגה במחברת הקודמת.\n",
        "</p>"
      ]
    },
    {
      "cell_type": "markdown",
      "metadata": {
        "id": "siXCmEVFONEj"
      },
      "source": [
        "### <span style=\"text-align: right; direction: rtl; float: right; clear: both;\">סט</span>"
      ]
    },
    {
      "cell_type": "markdown",
      "metadata": {
        "id": "rCx_O-35ONEj"
      },
      "source": [
        "<p style=\"text-align: right; direction: rtl; float: right; clear: both;\">\n",
        "    למדו את החוקים של המשחק סט, <a href=\"https://he.wikipedia.org/wiki/%D7%A1%D7%98_(%D7%9E%D7%A9%D7%97%D7%A7_%D7%A7%D7%9C%D7%A4%D7%99%D7%9D)\">מהערך בוויקיפדיה</a> או מ־<a href=\"https://www.youtube.com/watch?v=Kc4WrL7cxeg\">YouTube</a>.\n",
        "</p>"
      ]
    },
    {
      "cell_type": "markdown",
      "metadata": {
        "id": "02afRyjlONEj"
      },
      "source": [
        "<ol style=\"text-align: right; direction: rtl; float: right; clear: both;\">\n",
        "    <li>צרו חפיסת סט.</li>\n",
        "    <li>טרפו אותה היטב, ופתחו 12 קלפים על השולחן. הדפיסו את כל הסטים שמצאתם.</li>\n",
        "    <li>בדקו בכמה אחוזים מהפעמים שבהן פותחים 12 קלפים אקראיים מהחפיסה – אין אף סט על הלוח.</li>\n",
        "</ol>"
      ]
    },
    {
      "cell_type": "markdown",
      "metadata": {
        "id": "Wnq-bjVuONEk"
      },
      "source": [
        "<p style=\"text-align: right; direction: rtl; float: right; clear: both;\">\n",
        "    כדי לחשב את סעיף 3, הריצו את הבדיקה על 10,000 מקרים שבהם פתחתם 12 קלפים מהחפיסה המעורבבת.\n",
        "</p>"
      ]
    },
    {
      "cell_type": "markdown",
      "metadata": {
        "id": "Ahk3GSJIONEk"
      },
      "source": [
        "### <span style=\"text-align: right; direction: rtl; float: right; clear: both;\">100 מעלות</span>"
      ]
    },
    {
      "cell_type": "markdown",
      "metadata": {
        "id": "manhI0pLONEk"
      },
      "source": [
        "<p style=\"text-align: right; direction: rtl; float: right; clear: both;\">\n",
        "    כתבו קוד שמוצא את 100 השירים הפופולריים ביותר לפי מדד <a href=\"https://www.billboard.com/charts/hot-100\">Hot 100</a> של Billboard.<br>\n",
        "    השיגו את המילים של השירים שמצאתם, ושרטטו גרף שמראה כמה פעמים מופיעה כל מילה מ־100 המילים הנפוצות ביותר בכל השירים.\n",
        "</p>"
      ]
    },
    {
      "cell_type": "markdown",
      "metadata": {
        "id": "60XT37f7ONEk"
      },
      "source": [
        "<p style=\"text-align: right; direction: rtl; float: right; clear: both;\">\n",
        "    בונוס: בצעו ניתוח מעניין אחר, כמו מיהם האומנים שמשתמשים בהכי הרבה מילים בשירים שלהם!\n",
        "</p>"
      ]
    }
  ],
  "metadata": {
    "kernelspec": {
      "display_name": "Python 3",
      "language": "python",
      "name": "python3"
    },
    "language_info": {
      "codemirror_mode": {
        "name": "ipython",
        "version": 3
      },
      "file_extension": ".py",
      "mimetype": "text/x-python",
      "name": "python",
      "nbconvert_exporter": "python",
      "pygments_lexer": "ipython3",
      "version": "3.8.6"
    },
    "colab": {
      "provenance": []
    }
  },
  "nbformat": 4,
  "nbformat_minor": 0
}