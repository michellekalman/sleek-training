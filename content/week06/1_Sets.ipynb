{
  "cells": [
    {
      "cell_type": "markdown",
      "metadata": {
        "id": "zcfNGa9-iYnR"
      },
      "source": [
        "<img src=\"https://github.com/PythonFreeCourse/Notebooks/blob/main/content/week06/images/logo.jpg?raw=1\" style=\"display: block; margin-left: auto; margin-right: auto;\" alt=\"לוגו של מיזם לימוד הפייתון. נחש מצויר בצבעי צהוב וכחול, הנע בין האותיות של שם הקורס: לומדים פייתון. הסלוגן המופיע מעל לשם הקורס הוא מיזם חינמי ללימוד תכנות בעברית.\">"
      ]
    },
    {
      "cell_type": "markdown",
      "metadata": {
        "id": "OcxjYqHSiYnT"
      },
      "source": [
        "# <span style=\"text-align: right; direction: rtl; float: right;\">קבוצות</span>"
      ]
    },
    {
      "cell_type": "markdown",
      "metadata": {
        "id": "jYUGC28OiYnT"
      },
      "source": [
        "## <span style=\"text-align: right; direction: rtl; float: right; clear: both;\">הגדרה</span>"
      ]
    },
    {
      "cell_type": "markdown",
      "metadata": {
        "id": "RapJHVnJiYnT"
      },
      "source": [
        "<p style=\"text-align: right; direction: rtl; float: right; clear: both;\">\n",
        "    <dfn>קבוצה</dfn> (או <dfn>set</dfn>) בפייתון היא אוסף של איברים שמתאפיינת בתכונות הבאות:\n",
        "</p>"
      ]
    },
    {
      "cell_type": "markdown",
      "metadata": {
        "id": "NDbCBmqfiYnU"
      },
      "source": [
        "<ul style=\"text-align: right; direction: rtl; float: right; clear: both;\">\n",
        "    <li>לאיברים באוסף אין סדר מוגדר.</li>\n",
        "    <li>ערך לא יכול להופיע יותר מפעם אחת.</li>\n",
        "    <li>כל איבר חייב להיות immutable.</li>\n",
        "</ul>"
      ]
    },
    {
      "cell_type": "markdown",
      "metadata": {
        "id": "O7EqTRPYiYnU"
      },
      "source": [
        "<p style=\"text-align: right; direction: rtl; float: right; clear: both;\">\n",
        "    לדוגמה:\n",
        "</p>\n",
        "\n",
        "<ul style=\"text-align: right; direction: rtl; float: right; clear: both;\">\n",
        "    <li>כתובות הדואר האלקטרוני של כל הזכאים לתעודת סיום בקורס פייתון.</li>\n",
        "    <li>המספרים הראשוניים עד 1,000.</li>\n",
        "    <li>שמות כל הקבצים בתיקייה images.</li>\n",
        "    <li>המילים בספר \"קפקא על החוף\", ללא כפילויות.</li>\n",
        "</ul>"
      ]
    },
    {
      "cell_type": "markdown",
      "metadata": {
        "id": "hvZKFiEsiYnU"
      },
      "source": [
        "## <span style=\"text-align: right; direction: rtl; float: right; clear: both;\">שימוש</span>"
      ]
    },
    {
      "cell_type": "markdown",
      "metadata": {
        "id": "OD4ABtrPiYnU"
      },
      "source": [
        "### <span style=\"text-align: right; direction: rtl; float: right; clear: both;\">הבסיס</span>"
      ]
    },
    {
      "cell_type": "markdown",
      "metadata": {
        "id": "__oGi8lNiYnV"
      },
      "source": [
        "<p style=\"text-align: right; direction: rtl; float: right; clear: both;\">\n",
        "    עד מחברת זו, לו היינו מתבקשים להגדיר מבנה נתונים שיאחסן עבורנו שמות של אומנים איטלקים ידועים, היינו משתמשים ברשימה או ב־tuple־ים:\n",
        "</p>"
      ]
    },
    {
      "cell_type": "code",
      "execution_count": 1,
      "metadata": {
        "id": "5k9MKE4liYnV"
      },
      "outputs": [],
      "source": [
        "# List:\n",
        "italian_artists = ['Donatelo', 'Giotto', 'Leonardo', 'Masaccio', 'Michelangelo', 'Raphael', 'Titian']\n",
        "# Tuple:\n",
        "italian_artists = ('Donatelo', 'Giotto', 'Leonardo', 'Masaccio', 'Michelangelo', 'Raphael', 'Titian')"
      ]
    },
    {
      "cell_type": "markdown",
      "metadata": {
        "id": "7H7Adf67iYnW"
      },
      "source": [
        "<p style=\"text-align: right; direction: rtl; float: right; clear: both;\">\n",
        "    אך כיוון שמדובר באוסף איברים ללא חזרות וללא סדר מוגדר, אפשר לשמור אותם כ־set:\n",
        "</p>"
      ]
    },
    {
      "cell_type": "code",
      "execution_count": 2,
      "metadata": {
        "id": "t5fYN1JsiYnW"
      },
      "outputs": [],
      "source": [
        "italian_artists = {'Donatelo', 'Giotto', 'Leonardo', 'Masaccio', 'Michelangelo', 'Raphael', 'Titian'}"
      ]
    },
    {
      "cell_type": "markdown",
      "metadata": {
        "id": "eMFGdiXjiYnW"
      },
      "source": [
        "<p style=\"text-align: right; direction: rtl; float: right; clear: both;\">\n",
        "    אפשר לראות שההגדרות דומות מאוד במראה שלהן.<br>\n",
        "    כדי להגדיר קבוצה, נפתח סוגריים מסולסלים (כמו במילון), ונציין את איבריה, כשהם מופרדים זה מזה בפסיקים.<br>\n",
        "    אם תרצו, תוכלו לדמיין קבוצה כמילון שבו יש רק מפתחות.\n",
        "</p>"
      ]
    },
    {
      "cell_type": "markdown",
      "metadata": {
        "id": "61o5jbBMiYnW"
      },
      "source": [
        "<p style=\"text-align: right; direction: rtl; float: right; clear: both;\">\n",
        "    נוכל גם להגדיר קבוצה ריקה באמצעות הפונקציה <code>set</code>.<br>\n",
        "    נגדיר, לדוגמה, את קבוצת כל החדי־קרן הוורודות הבלתי נראות:\n",
        "</p>"
      ]
    },
    {
      "cell_type": "code",
      "execution_count": 3,
      "metadata": {
        "id": "MQrcmn4siYnW",
        "outputId": "a8eab1b9-4f59-4666-ce7b-c0d6fc76d986",
        "colab": {
          "base_uri": "https://localhost:8080/"
        }
      },
      "outputs": [
        {
          "output_type": "stream",
          "name": "stdout",
          "text": [
            "set()\n"
          ]
        }
      ],
      "source": [
        "invisible_pink_unicorns = set()\n",
        "print(invisible_pink_unicorns)"
      ]
    },
    {
      "cell_type": "markdown",
      "metadata": {
        "id": "1gjLH9FriYnW"
      },
      "source": [
        "<p style=\"text-align: right; direction: rtl; float: right; clear: both;\">\n",
        "    תעלול נחמד נוסף הוא המרת iterable לקבוצה, באמצעות אותה הפונקציה:\n",
        "</p>"
      ]
    },
    {
      "cell_type": "code",
      "execution_count": 4,
      "metadata": {
        "id": "-Ko7Y4fAiYnW",
        "outputId": "06359f55-1f83-4d2c-9b5e-19a0dc520be3",
        "colab": {
          "base_uri": "https://localhost:8080/"
        }
      },
      "outputs": [
        {
          "output_type": "stream",
          "name": "stdout",
          "text": [
            "{0, 1, 2, 3, 4, 5, 6, 7, 8, 9}\n"
          ]
        }
      ],
      "source": [
        "numbers = range(10)\n",
        "numbers = set(numbers)\n",
        "print(numbers)"
      ]
    },
    {
      "cell_type": "markdown",
      "metadata": {
        "id": "3-6orxDgiYnX"
      },
      "source": [
        "<p style=\"text-align: right; direction: rtl; float: right; clear: both;\">\n",
        "    בהגדרה שבתחילת הפרק ציינו שקבוצה לא תכיל כמה איברים בעלי ערך זהה.<br>\n",
        "    למרות ההגבלה הזו, בהגדרת הקבוצה אפשר לספק ערכים שחוזרים על עצמם.<br>\n",
        "    הקבוצה \"תבלע\" את הכפילויות בערכים, ותשאיר רק איבר אחד מכל ערך:\n",
        "</p>"
      ]
    },
    {
      "cell_type": "code",
      "execution_count": 5,
      "metadata": {
        "id": "zHEC33p4iYnX",
        "outputId": "ce49a575-a5bb-4271-b41c-5e59fdce9823",
        "colab": {
          "base_uri": "https://localhost:8080/"
        }
      },
      "outputs": [
        {
          "output_type": "stream",
          "name": "stdout",
          "text": [
            "{1, 2, 3, 5}\n",
            "{'a', 'b', 'c'}\n"
          ]
        }
      ],
      "source": [
        "print({1, 1, 2, 3, 5})\n",
        "print(set('abccccccccccc'))"
      ]
    },
    {
      "cell_type": "markdown",
      "metadata": {
        "id": "ui1U6nLJiYnX"
      },
      "source": [
        "<div class=\"align-center\" style=\"display: flex; text-align: right; direction: rtl; clear: both;\">\n",
        "    <div style=\"display: flex; width: 10%; float: right; clear: both;\">\n",
        "        <img src=\"https://github.com/PythonFreeCourse/Notebooks/blob/main/content/week06/images/exercise.svg?raw=1\" style=\"height: 50px !important;\" alt=\"תרגול\">\n",
        "    </div>\n",
        "    <div style=\"width: 70%\">\n",
        "        <p style=\"text-align: right; direction: rtl; float: right; clear: both;\">\n",
        "            הגדירו קבוצה שאיבריה הם האותיות הקטנות והגדולות באנגלית.<br>\n",
        "            ישנו פתרון פשוט שלא מצריך מכם לכתוב את כל הא\"ב.\n",
        "        </p>\n",
        "    </div>\n",
        "    <div style=\"display: flex; width: 20%; border-right: 0.1rem solid #A5A5A5; padding: 1rem 2rem;\">\n",
        "        <p style=\"text-align: center; direction: rtl; justify-content: center; align-items: center; clear: both;\">\n",
        "            <strong>חשוב!</strong><br>\n",
        "            פתרו לפני שתמשיכו!\n",
        "        </p>\n",
        "    </div>\n",
        "</div>"
      ]
    },
    {
      "cell_type": "markdown",
      "metadata": {
        "id": "rEkYHutJiYnX"
      },
      "source": [
        "### <span style=\"text-align: right; direction: rtl; float: right; clear: both;\">פעולות בין קבוצות</span>"
      ]
    },
    {
      "cell_type": "markdown",
      "metadata": {
        "id": "-yrlUL0-iYnX"
      },
      "source": [
        "<p style=\"text-align: right; direction: rtl; float: right; clear: both;\">\n",
        "    נגדיר שוב את קבוצת האומנים האיטלקים:\n",
        "</p>"
      ]
    },
    {
      "cell_type": "code",
      "execution_count": 6,
      "metadata": {
        "id": "iBipuNbUiYnX"
      },
      "outputs": [],
      "source": [
        "italian_artists = {'Donatelo', 'Giotto', 'Leonardo', 'Masaccio', 'Michelangelo', 'Raphael', 'Titian'}"
      ]
    },
    {
      "cell_type": "markdown",
      "metadata": {
        "id": "se0Dr-n1iYnX"
      },
      "source": [
        "<p style=\"text-align: right; direction: rtl; float: right; clear: both;\">\n",
        "    אחד מיתרונותיהן רבי־הערך של קבוצות הוא היכולת לבצע ביניהן פעולות בקלות.<br>\n",
        "    נדגים את הרעיון בעזרת הגדרת קבוצה נוספת, הפעם של דמויות מחוברות הקומיקס של צבי הנינג'ה:\n",
        "</p>"
      ]
    },
    {
      "cell_type": "code",
      "execution_count": 7,
      "metadata": {
        "id": "pzLPQ6YfiYnX"
      },
      "outputs": [],
      "source": [
        "ninja_turtles_characters = {'Donatelo', 'Leonardo', 'Michelangelo', 'Raphael', 'Splinter', 'Shredder'}"
      ]
    },
    {
      "cell_type": "markdown",
      "metadata": {
        "id": "-Z0enDvriYnX"
      },
      "source": [
        "<p style=\"text-align: right; direction: rtl; float: right; clear: both;\">\n",
        "    כעת נוכל, לדוגמה, לבחור את כל הדמויות מצבי הנינג'ה שנושאות שם של אומן איטלקי מפורסם.<br>\n",
        "    הקבוצה שנוצרת מהאיברים המשותפים לשתי הקבוצות נקראת <dfn>קבוצת החיתוך</dfn>.\n",
        "</p>"
      ]
    },
    {
      "cell_type": "code",
      "execution_count": 8,
      "metadata": {
        "id": "v412yzEViYnX",
        "outputId": "6c53ed7d-2723-4226-e1e8-cca2f67a9b6a",
        "colab": {
          "base_uri": "https://localhost:8080/"
        }
      },
      "outputs": [
        {
          "output_type": "execute_result",
          "data": {
            "text/plain": [
              "{'Donatelo', 'Leonardo', 'Michelangelo', 'Raphael'}"
            ]
          },
          "metadata": {},
          "execution_count": 8
        }
      ],
      "source": [
        "ninja_turtles_characters.intersection(italian_artists)"
      ]
    },
    {
      "cell_type": "markdown",
      "metadata": {
        "id": "pMIMG6bxiYnX"
      },
      "source": [
        "<p style=\"text-align: right; direction: rtl; float: right; clear: both;\">\n",
        "    ישנן פעולות רבות נוספות שאפשר לבצע בין קבוצות.<br>\n",
        "    דרך קלה להמחיש את היחסים ההדדיים בין הקבוצות הללו היא תרשים שנקרא \"<a href=\"https://he.wikipedia.org/wiki/%D7%93%D7%99%D7%90%D7%92%D7%A8%D7%9E%D7%AA_%D7%95%D7%9F\">דיאגרמת ון</a>\":\n",
        "</p>"
      ]
    },
    {
      "cell_type": "markdown",
      "metadata": {
        "id": "kYAGHS0miYnX"
      },
      "source": [
        "<figure>\n",
        "    <img src=\"https://github.com/PythonFreeCourse/Notebooks/blob/main/content/week06/images/venn.svg?raw=1\" style=\"max-width: 600px; margin-right: auto; margin-left: auto; text-align: center;\" alt=\"בתמונה מופיעים שני עיגולים: ורוד בימין, מעליו מופיע הכיתוב 'דמויות מצבי הנינג'ה', וטורקיז בשמאל, מעליו מופיע הכיתוב 'אומנים איטלקים'. בין העיגולים ישנה חפיפה קלה בצבע חום. בעיגול הוורוד שבימין יש את האיברים Splinter ו־Shredder, ובעיגול הטורקיז השמאלי את Giotto, Masacccio ו־Titian. בשטח החום שבחפיפה נמצאים האיברים Donatelo, Leonardo, Michelangelo ו־Raphael.\"/>\n",
        "    <figcaption style=\"margin-top: 2rem; text-align: center; direction: rtl;\">דיאגרמת ון של שתי קבוצות: דמויות מצבי הנינג'ה ואומנים איטלקים.<br>\n",
        "    אפשר לראות בשטח החפיפה שבין שני העיגולים את האיברים המשותפים לשתי הקבוצות.</figcaption>\n",
        "</figure>"
      ]
    },
    {
      "cell_type": "markdown",
      "metadata": {
        "id": "gW8u7XSfiYnY"
      },
      "source": [
        "<p style=\"text-align: right; direction: rtl; float: right; clear: both;\">\n",
        "    נוכל גם לבקש, לדוגמה, את שמות האומנים האיטלקים שאינם דמויות מצבי הנינג'ה.<br>\n",
        "    נקבל בחזרה את השמות שמופיעים בתרשים בעיגול הטורקיז, אך לא בחיתוך בין שני העיגולים:\n",
        "</p>"
      ]
    },
    {
      "cell_type": "code",
      "execution_count": 9,
      "metadata": {
        "id": "lft9aM1IiYnY",
        "outputId": "a3456ab7-ef3b-4989-9b23-25b58a02d8ab",
        "colab": {
          "base_uri": "https://localhost:8080/"
        }
      },
      "outputs": [
        {
          "output_type": "execute_result",
          "data": {
            "text/plain": [
              "{'Giotto', 'Masaccio', 'Titian'}"
            ]
          },
          "metadata": {},
          "execution_count": 9
        }
      ],
      "source": [
        "italian_artists.difference(ninja_turtles_characters)"
      ]
    },
    {
      "cell_type": "markdown",
      "metadata": {
        "id": "yUv0L-x8iYnY"
      },
      "source": [
        "<p style=\"text-align: right; direction: rtl; float: right; clear: both;\">\n",
        "    באותה צורה נוכל לבקש את שמות כל הדמויות מצבי הנינג'ה שאינם אומנים איטלקים.<br>\n",
        "    אלו השמות שמופיעים אך ורק בעיגול הורוד, ולא בחיתוך בין שני העיגולים:\n",
        "</p>"
      ]
    },
    {
      "cell_type": "code",
      "execution_count": 10,
      "metadata": {
        "id": "a9XKp0AwiYnZ",
        "outputId": "e204b8ea-29fb-4783-ceca-39d487c4542c",
        "colab": {
          "base_uri": "https://localhost:8080/"
        }
      },
      "outputs": [
        {
          "output_type": "execute_result",
          "data": {
            "text/plain": [
              "{'Shredder', 'Splinter'}"
            ]
          },
          "metadata": {},
          "execution_count": 10
        }
      ],
      "source": [
        "ninja_turtles_characters.difference(italian_artists)"
      ]
    },
    {
      "cell_type": "markdown",
      "metadata": {
        "id": "uJYGKQSGiYnZ"
      },
      "source": [
        "<p style=\"text-align: right; direction: rtl; float: right; clear: both;\">\n",
        "    אפשר לבקש גם את <dfn>קבוצת האיחוד</dfn>, שמורכבת מכל הדמויות שקיימות בשתי הקבוצות.<br>\n",
        "    אלו כל הדמויות שמופיעות בשרטוט:\n",
        "</p>"
      ]
    },
    {
      "cell_type": "code",
      "execution_count": 11,
      "metadata": {
        "id": "6NFmM2GliYnZ",
        "outputId": "a942ef32-19a3-4c30-fa26-9c00ca791f54",
        "colab": {
          "base_uri": "https://localhost:8080/"
        }
      },
      "outputs": [
        {
          "output_type": "execute_result",
          "data": {
            "text/plain": [
              "{'Donatelo',\n",
              " 'Giotto',\n",
              " 'Leonardo',\n",
              " 'Masaccio',\n",
              " 'Michelangelo',\n",
              " 'Raphael',\n",
              " 'Shredder',\n",
              " 'Splinter',\n",
              " 'Titian'}"
            ]
          },
          "metadata": {},
          "execution_count": 11
        }
      ],
      "source": [
        "ninja_turtles_characters.union(italian_artists)"
      ]
    },
    {
      "cell_type": "markdown",
      "metadata": {
        "id": "mQik-rQeiYnZ"
      },
      "source": [
        "<p style=\"text-align: right; direction: rtl; float: right; clear: both;\">\n",
        "    או את כל הדמויות שלא משותפות לשתי הקבוצות.<br>\n",
        "    אלו כל הדמויות שמופיעות מחוץ לחיתוך של שני העיגולים:\n",
        "</p>"
      ]
    },
    {
      "cell_type": "code",
      "execution_count": 12,
      "metadata": {
        "id": "_pEErLcYiYnZ",
        "outputId": "4718a40e-d0d4-4e1e-ac9d-935821125cf4",
        "colab": {
          "base_uri": "https://localhost:8080/"
        }
      },
      "outputs": [
        {
          "output_type": "execute_result",
          "data": {
            "text/plain": [
              "{'Giotto', 'Masaccio', 'Shredder', 'Splinter', 'Titian'}"
            ]
          },
          "metadata": {},
          "execution_count": 12
        }
      ],
      "source": [
        "ninja_turtles_characters.symmetric_difference(italian_artists)"
      ]
    },
    {
      "cell_type": "markdown",
      "metadata": {
        "id": "XA0SaeLDiYnZ"
      },
      "source": [
        "<div class=\"align-center\" style=\"display: flex; text-align: right; direction: rtl; clear: both;\">\n",
        "    <div style=\"display: flex; width: 10%; float: right; clear: both;\">\n",
        "        <img src=\"https://github.com/PythonFreeCourse/Notebooks/blob/main/content/week06/images/exercise.svg?raw=1\" style=\"height: 50px !important;\" alt=\"תרגול\">\n",
        "    </div>\n",
        "    <div style=\"width: 70%\">\n",
        "        <p style=\"text-align: right; direction: rtl; float: right; clear: both;\">\n",
        "            צרו קבוצה שאיבריה הם 10 <a href=\"https://he.wikipedia.org/wiki/%D7%A1%D7%93%D7%A8%D7%AA_%D7%A4%D7%99%D7%91%D7%95%D7%A0%D7%90%D7%A6%27%D7%99\">מספרי פיבונאצ'י</a> הראשונים, וקבוצה נוספת שאיבריה הם המספרים הזוגיים בין 1 ל־15.<br>\n",
        "            שרטטו דיאגרמת ון של שתי הקבוצות, ובדקו שהשרטוט נאמן למציאות בעזרת הפעולות שלמדתם למעלה.\n",
        "        </p>\n",
        "    </div>\n",
        "</div>"
      ]
    },
    {
      "cell_type": "markdown",
      "metadata": {
        "id": "3-kMKMvviYnZ"
      },
      "source": [
        "### <span style=\"text-align: right; direction: rtl; float: right; clear: both;\">תרגיל ביניים: נענועי חנית כנגד קוף</span>"
      ]
    },
    {
      "cell_type": "markdown",
      "metadata": {
        "id": "_maT_elTiYna"
      },
      "source": [
        "<p style=\"text-align: right; direction: rtl; float: right; clear: both;\">\n",
        "    בתיקיית resources נמצאים הקבצים hamlet.txt ו־the-monkeys-paw.txt.<br>\n",
        "    כמה מילים משותפות לשני החיבורים? כמה שונות?<br>\n",
        "    כמה מהמילים מופיעות רק בכפת הקוף, וכמה רק בהמלט?\n",
        "</p>"
      ]
    },
    {
      "cell_type": "code",
      "source": [
        "with open(\"/content/hamlet.txt\") as hamlet:\n",
        "  hamlet_words = set(hamlet.read().split())\n",
        "  with open(\"/content/the-monkeys-paw.txt\") as monkey:\n",
        "    monkey_words = set(monkey.read().split())\n",
        "    print(f\"The intersection is: {hamlet_words.intersection(monkey_words)}\")\n",
        "    print(f\"The words that are in hamlet and not in monkey are: {hamlet_words.difference(monkey_words)}\")\n",
        "    print(f\"The words that are in monkey and not in hamlet are: {monkey_words.difference(hamlet_words)}\")\n",
        "    print(f\"The different words are: {hamlet_words.symmetric_difference(monkey_words)}\")\n"
      ],
      "metadata": {
        "id": "F4Jje02Jmoh-",
        "outputId": "cf4c4590-86c5-4221-e7d8-a726dcb28f13",
        "colab": {
          "base_uri": "https://localhost:8080/"
        }
      },
      "execution_count": 16,
      "outputs": [
        {
          "output_type": "stream",
          "name": "stdout",
          "text": [
            "The intersection is: {'put', 'could,', 'forgot', 'Her', 'who', 'having', 'free', 'sometimes', 'keep', 'after', 'than', 'Besides,', 'were', 'Go', 'himself,', 'ere', 'between', 'struck', 'with', 'for?', 'now', 'got', 'like', 'came', 'into', 'famous', 'them,', 'else,', 'Where', 'following', 'The', 'stranger', 'At', 'post', 'heavy', 'fire.', 'asked', 'ill', 'hardly', 'man,', 'before.', 'few', 'though', 'him,', 'started', 'dry', 'down.', 'hand.', 'I.', 'I', 'place', 'holy', 'head.', 'perfect', 'face.', 'cried', 'loud', 'knees', 'foot', 'fine', 'we', 'convey', 'Let', 'small', 'article', 'containing', 'could', 'old,', 'him', 'saw', 'hands,', 'far', 'catch', 'before', 'down,', 'much', 'night.', 'while', 'then;', 'again', 'seat', 'beg', 'from', 'present', 'hands', 'brow', 'sleep.', 'years', 'fire,', 'that,', 'II.', 'table', 'break', 'also', 'her.', 'lady.', 'What', 'should', 'possession', 'light', 'go', 'to', 'win', \"God's\", 'news,', 'throwing', 'escape', 'eye', 'there', 'one', 'do', 'stiffly', 'are', 'so', 'God,', 'down', 'head', 'rich,', 'sound', 'but', 'he,', 'ears.', 'it?', 'state', 'fancy,', 'same', 'know', 'table.', 'day', 'three', 'forty', 'reserved', 'then', 'tale', 'eager', 'low', 'one,', 'buried', 'fire', 'firm', 'night', 'demanded', 'settled', 'strike', 'But', 'strange', 'bad', 'distant', 'eyes,', 'times', 'gave', 'you,', 'soldier,', 'fate', 'smiling', \"husband's\", 'at', 'dare', 'lips', 'without', 'made', \"that's\", 'fashion,', 'brought', 'ruled', 'fear', 'happy', 'if', 'lay', 'our', 'unwholesome', 'them', 'board', 'comment', 'retire', 'that', 'comes', 'out', 'when', 'stood', 'hearers', \"you'll\", 'has', 'rest,', 'begin', 'its', 'sum', 'sure,', 'stairs', 'wore', 'White', 'friend,', 'enough', 'assurance', 'piece', 'as', 'it.', 'round', \"That's\", 'his', 'through', 'child', 'off', 'eyes', 'blame', 'shortly', 'carried', 'afraid', 'show', 'wont', 'away.', 'in.', 'men', 'things', 'nothing', 'a', 'woman,', 'cry', 'find', \"I'm\", 'taken', 'other,', 'opposite', 'worst.', 'object', 'laid', 'more', 'action.', 'prevent', 'own', 'such', 'somewhat', 'reply.', 'mother,', 'him.', 'these', 'open', 'grey', 'all', 'sun', 'There', 'sudden', 'great', 'throw', 'days', 'dead,', 'breath', 'hurt', \"What's\", \"son's\", 'breath,', 'those', 'of', 'money', 'what', 'hat', 'place,', 'A', 'alone.', 'now,', 'jump', 'it', 'shadow', 'age', 'youth', 'death.', \"I'll\", 'in,', 'crash', 'lady', 'want', 'had', 'mouse', 'thing', 'merely', 'they', 'just', 'talk', 'son', 'right', 'set', 'word,', 'quiet', 'nor', 'bed', 'hand', 'bed.', 'is', 'quickly', 'other', 'habits', 'mind', 'supper.', 'senseless', 'lips,', 'Why', 'fell', 'some', 'silence.', 'solemn', 'still', 'too', 'By', 'special', 'be', 'wildly', 'Neither', 'see', 'else', 'fears', 'good', \"I've\", 'front', 'it,', 'admit', 'air', 'second', 'friend', 'bed,', 'ease,', 'last,', 'broad', 'think', 'an', 'alone', 'violence;', 'behind', 'he', 'toward', 'any', 'top', 'look', 'the', 'another.', 'out,', 'fairy', 'Then', 'thinking', 'will.', 'empty', 'feet,', 'in', 'something', 'knowing', 'unnatural', 'way', 'this', 'moment', 'door', 'get', 'seeing', 'cold,', 'grave', 'said,', 'will', 'or', 'night,', 'hundred', 'wife', 'business,', 'wish', 'drop', 'host', 'middle', 'hush', 'next', 'call', 'And', 'understand', \"woman's\", 'looked', 'words', 'about', 'might', 'fashion', 'forward', 'Even', 'make', 'then,', 'huge', 'come', 'man.', 'not', 'belief', 'time', 'swear', 'white', 'husband', 'for,', 'relief', 'hand,', 'coming,', 'give', 'tell', 'thumb,', 'wife.', 'have', 'lost', 'wife,', 'old', 'over', 'each', 'alarm', 'who,', 'no', \"it's\", 'knocking', 'How', 'shall', 'sharp', 'rose', 'strong', 'living', 'hands.', 'late,', 'went', 'called', 'which', 'placed', 'bade', 'wall', 'His', 'caught', 'turned', 'They', 'house,', 'mind,', 'God', 'where', 'done,', 'room', 'off.', 'more.', 'heard', 'beard.', 'guilty', 'loudly', 'let', 'must', 'last', 'live', 'again.', 'larger', 'two', 'seen', 'below', 'try', 'how', 'kettle', 'strings', 'himself', 'answer.', 'shook', 'match', 'run', 'shaking', 'with;', 'new', 'left', 'little', 'sense', 'raised', 'She', 'sensible', 'If', 'mean,', 'only', 'hid', 'why', 'on', 'seems', 'against', 'hearts', 'up', 'horrible', 'even', 'arm,', 'armed', 'because', 'slight', 'people', 'bring', 'laugh,', 'changed', 'house.', 'figure', 'length', 'father,', 'higher', 'took', 'she', 'resolution', 'cried,', 'couple', 'water', 'desirous', 'scarcely', 'her', 'woman', 'door.', 'there,', 'take', 'would', 'sat', 'He', 'apparel', 'manner', 'her,', 'son,', 'soldiers', 'business', 'foolish', 'well', 'go.', 'bet', 'wind', 'burning', 'king', 'away', 'turn', 'been', 'said', 'son.', 'thank', 'died', 'houses', 'kissed', \"there's\", 'it;', 'voice', 'boy,', 'III.', 'up.', 'regard', 'never', 'faces', 'knock', 'voice,', 'dying', 'me', 'thought', 'weeping', 'my', 'am', 'very', 'their', 'held', 'found', 'house', 'man', 'room.', 'quite', 'back', 'for', 'It', 'wild', 'In', 'face,', 'Without,', 'long', 'certain', 'picked', 'face', 'going', 'did', 'about,', 'cold', 'you', 'burst', 'ten', 'wishes', 'seized', 'All', 'another', 'spoke', 'places', 'along', 'say', 'mother', 'glass', 'silence', 'servant', 'Now', 'and', 'by', 'was', 'window,', 'dead', 'morning', 'suddenly', 'four', 'upon', 'all,', 'already.', 'words,', 'struggling', 'pay', 'thin', 'first', 'third', 'your'}\n",
            "The words that are in hamlet and not in monkey are: {'roof', 'eyases,', 'history,', 'eastward', 'loan', 'lord,', 'nature,', 'something-settled', 'conquest', 'beautified', 'forth', 'nation,', 'perhaps,', 'brave', 'hath', 'allowance', 'cousin', 'pause:', 'avoid', 'thus:', 'thee!', 'miching', 'illume', 'been,', 'men,', 'coward,', 'great,', 'Holding', 'peace,', 'spirit!', 'waves', 'moving', 'ungracious', \"'not\", 'willing,', 'revenge!', 'satisfied', 'Tears', 'trappings', 'prolongs', 'Ophelia!', 'peak,', 'shoot.', \"damn'd\", 'seem,', 'trick', 'Divided', 'prologue,', 'within,', 'upon.', 'ripe', 'converse,', 'beteem', 'effects:', 'I,', 'rhapsody', 'thrice', 'lo,', \"fiends!'\", \"Popp'd\", 'virtues', 'speaks', 'Priest', 'heart?', 'avoid,', 'impious', 'brains', 'toe', \"c.'\", 'England.', 'guards!', 'spite,', 'proposer', 'wretched,', 'hair,', 'paint', \"follow'd\", 'stamp', 'life-rendering', 'revenge', 'suspiration', 'sing?', 'harsh', 'unimproved', 'capital', 'praised', 'tongue?', 'foul,', 'outface', 'farm', 'man:', 'skin', 'thicker', 'unbated,', 'exploit,', 'deep', \"unmaster'd\", \"revenge.'\", 'cast', 'cheer', 'lief', 'Gentlemen,--', 'Cries', 'lights', 'sirrah?', 'dry--', \"'But\", 'griefs', 'appal', 'judgment:', 'requiem', 'currents', 'yield', 'mouths', 'scholars', 'When', 'occurrents,', 'bulk', 'thus,', 'such;', 'judgments', 'lights,', 'mystery;', 'tried,', \"so,'\", 'sledded', 'shreds', 'mew', 'memory,', 'satyr;', 'Buz,', 'insert', 'postscript', 'consequence,', 'quake', 'breaking', 'place.', 'way,', 'controversy:', 'throat;', 'inexplicable', 'digs', \"drown'd?\", 'honour,--', 'itself', 'lines.', 'vows:', 'forget', 'That,', 'gallows-maker;', 'snow?', 'ready?', \"unwatch'd\", 'organ.', 'one?', 'Hear', 'dares', 'penetrable', 'rash', 'slain', 'favour,', 'deed;', 'cannot,', 'abhorred', 'jester.', 'waxes,', 'himself:', 'doubts', 'calf-skins', 'Behind', \"HAMLET's\", 'dews', 'winking,', 'Denmark?', 'afternoon,', 'history.', 'Laertes:', 'spirit', 'Rightly', 'quite,', 'harmony;', 'nephew', 'divinity', 'inky', 'greatly', 'time--as', 'crafty', \"yeoman's\", 'weedy', 'exercise', 'bound', 'guts', \"'Choose\", 'weapon;', 'lord:', 'them.', 'actor.', 'illusion!', 'favours.', 'slightly,', 'grow:', 'she--', 'brothers.', 'hellish', 'knave.', \"Saviour's\", 'mallecho;', 'rant', \"king:'\", 'list,', 'English', 'end,--', 'imminent.', \"ta'en\", 'read', 'means,', 'a-piece', 'thanks', 'ducat,', 'dig', 'scrimers', 'daggers,', 'enactures', 'core,', 'vows;', 'Would,', 'same.', 'shake', 'determine', 'word', 'crew', 'ranker', 'quoted', \"thou'rt\", 'dwelling', 'Youth', 'entrance', 'months', 'liege,', 'volume', 'lank', 'patiently.', 'day?', 'sallets', 'nothing!', 'yaw', 'thus', 'used', 'me;', 'Alas,', 'restore', 'solicited.', 'shoe?', 'shine:', 'cloud', 'grapple', 'stick', 'thee;', \"point!--envenom'd\", 'fearing', 'runs', 'falling-off', 'straw', 'former', 'Before', 'vice', 'sponge,', 'howsoever', 'Pity', 'bodkin?', 'heart:', 'imagine--', \"'mobled\", 'up;', 'out;', 'gaffs', 'stir,', 'is.', 'expel', 'say.', 'might,', 'definement', 'congregation', 'Priam,', 'And,', 'guiltless', 'author', 'drive', 'sequent', 'out.', 'tanner', 'maid,', 'contrary', 'excrements,', 'Upon', 'More', \"foul'd,\", 'blazes,', 'confined', 'Taint', 'creature', 'Carve', 'galls', 'weak', 'person,', 'Pyrrhus,', 'Gertrude:', \"but'\", 'rain', 'mincing', 'haste', 'gone?', \"return'd.\", 'speechless', 'shocks', 'crook', 'prithee,', 'mark.', 'threaten', 'thanks?', 'affectation;', 'tender,', \"'There\", 'presence', \"bark'd\", 'bleed', 'devil!', 'therein', 'tragical-historical,', 'Shards,', 'spirit:', 'Baked', 'cicatrice', 'painting', 'deed!', 'rear', 'tatters,', 'anon', 'assume', 'buy,', 'cataplasm', 'there.', 'another:', 'feel', \"Worm's;\", 'souls.', 'bravery', 'toil?', 'marriage.', 'counsellor', 'sucked', 'story', 'Indeed,', 'thoughts', 'woe', 'me!', 'distrust', \"unschool'd:\", 'eisel?', 'confess', 'shirt;', \"to't;\", 'straight', 'On', 'blanket,', \"offer'd\", 'livery,', 'haunt,', 'desert.', 'arm', 'lost:', 'finding', \"'Swounds,\", 'resolutes,', 'compare', 'LORD', 'madness:', 'goodness,', 'potently', 'keeps', 'calf', 'procession;', 'altogether.', 'hies', 'drink', 'westward', 'question', 'better', 'strew', 'earnest', 'question;', 'pray.', 'husbands.', 'convocation', 'friend.', \"nature's\", 'Rosencrantz:', 'Exceedingly,', 'likeness:', 'cock', 'shame,', 'waits', 'heartily;', 'temperance', \"strew'd\", 'madam;', 'thee', 'jangled,', 'sorts', 'prodigal', 'function', 'green,', 'God-a-mercy.', 'barefaced', 'rareness,', 'entreaty.', 'humbly', 'fitting', 'Prithee,', 'OPHELIA', \"'Tis\", 'swear.', 'clay,', 'court', 'quality;', 'considered:', 'Sailors,', 'Brutus', 'lived!', 'treason!', 'warrant', 'sin', 'showers.', 'awhile', 'carters.', 'presently.', 'wheaten', 'Exposing', 'wounded', 'sets', 'Infects', 'Such', \"Here's\", 'folly', 'live;', 'Horatio!', 'MARCELLUS', 'flashes', 'madness.', 'them?', 'beaver', 'bloat', 'conceit?', 'dominions', 'draw', 'distemper?', 'employment', 'Alexander', 'marrow', \"women's\", 'budge;', 'bad,', 'pace:', 'pitied.', 'gibes', 'drains', 'you--', 'unyoke.', 'knocked', 'placed,', 'Stop', \"o'er\", 'access', 'remiss,', 'sliver', 'frost', 'breathe,', 'touching', 'suppliance', 'windy', 'Why?', 'recoveries:', 'Words', 'licence,', 'virtue,', 'aid:', 'revengeful,', 'nonny,', 'Mercury', \"do;'\", 'Vienna:', 'drink,', 'sulphurous', 'judge', 'grandsire', \"garrison'd.\", 'rare,', 'Fear', 'Speak;', 'affair', 'pride,', 'well.', 'matters?', 'OSRIC', 'addition;', 'Blasting', \"upon't,\", 'hoped', 'waving', 'dear,', 'foolery;', 'Nay,', 'sepulchre,', 'proved--that', 'complexion,', \"queen'\", 'lying:', 'throne;', 'hangers,', 'chorus,', 'dumb-show', 'enterprises', 'Letters,', 'peevish', 'certain.', 'pile', 'doublet', 'crowing', 'together:', 'fiction,', 'exit.', 'court?', 'gain', 'thing,', 'prison-house,', 'when,', 'goes', 'bout', 'occulted', 'wisely', 'must:', 'make--', 'safe', 'acting', 'palm', 'Normandy:--', \"fang'd,\", 'tongue:', 'wonderful', 'shipwright,', 'Israel,', 'Ears', 'non', 'life:', 'free,', 'odds', \"beggar'd,\", 'whisper', 'Brief', 'times;', 'side', 'fall,', 'impotent', 'begun', 'draughts', 'daintier', 'unprofitable,', 'exclaim', 'ear:', 'brooch', 'removed', 'whet', 'lifted', 'peculiar', 'promised', 'traduced', 'hobby-horse', 'sent', \"apoplex'd;\", 'dream:', 'made.', 'Nymph,', 'reasons', 'purging', 'countrymen.--', 'wisdom,', 'custom?', 'Hamlet,--', \"'gentleman.'\", 'hear?', 'Long', 'Very', 'fee,', 'asunder.', 'post-haste', 'matter:', 'conscience!', 'morrow,', 'Unpeg', 'after,', 'hebenon', 'debate', 'rend', 'truly:', 'lap?', 'good,', 'owl', 'corruption', \"'t.\", 'journeymen', 'Thanks,', 'greenly,', 'lender', 'debatement', 'chap-fallen?', 'teeth', 'pray,', 'inhibition', 'devices', 'wonderful!', 'go:', 'halt', 'imminent', \"pardon't,\", 'different', 'Affront', 'salvation?', 'aptly', 'venom,', 'honest.', 'Cudgel', 'guard', 'casual', 'drift;', 'hearing', 'parle,', 'spring,', 'pastoral-comical,', 'benefit', 'patch', 'handsome', \"look'd\", 'steep', 'cold.', 'absurd:', 'dealt', 'pansies.', 'historical-pastoral,', 'infected,', 'Free', \"hallow'd\", 'peace!', 'copied', 'Rhenish', 'portentous', 'remain', 'obedience,', 'arms:', \"gods.'\", \"'To\", 'sanctified', 'weigh', 'asleep,', 'spoken', 'scorn', 'then.', \"steep'd,\", 'king:', 'poll:', 'brief,', 'joint-labourer', 'lines,', 'praises', 'sense:', 'crown', 'married.', 'sate', 'infants', 'delated', 'grieve', 'strikes', \"e'en\", 'recks', 'signify', 'funeral.', 'chalice', 'profession.', 'nose', 'best', 'say,', 'overcame', 'flat', 'distrust,', 'theatre', 'Fortinbras', 'bank', 'Mad', 'nine;', \"soe'er\", 'thanks;', 'flights', 'fretful', 'quarrel', \"'Thou\", 'sigh', 'pit', 'plot', 'Whips', 'amble,', \"thrall'd\", 'maimed', 'Make', 'angle', 'now;', 'plum-tree', 'tend,', 'stop', 'May', \"'While\", 'search.', 'pleasing', 'Horatio?', 'Soft!', \"for't.\", 'coming.', 'gain-giving,', 'here.', 'discourse?', 'true-love', 'fawning.', 'consequence;', 'residence,', 'triumph', 'closet,', 'mercy:', 'slain!', 'swore,', 'wear', 'Rosencrantz', 'Poland.', 'prison', 'cautel', 'lack.', 'a-down', 'fly,', 'dreams', \"walk'd\", 'untimely', 'chief', 'Prologue', 'brains.', 'beshrew', 'unfledged', 'left.', 'pooh!', 'imagination.', 'smiling,', 'mixture', 'welcome,', 'lo!', 'wax', 'sultry', 'Italian:', 'Must', 'say!', 'distract:', 'steel,', 'foils', 'was.', 'pat,', 'requite', 'heed', 'combined', 'Try', 'noble', \"drown'd.\", 'withers', 'Stand', 'Words,', 'ears,', 'mount', 'deny', 'weep,', 'coted', 'dies.', 'stealing', 'Pray', 'ears', 'hither,', \"'If\", 'confusion,', 'dreams.', 'Termagant;', 'forgery', 'flints', 'be,', 'main', 'burial.', \"dispatch'd:\", 'worse.', 'beasts:', 'either', 'Life.', 'once.', 'Itself', 'milch', 'Eats', 'Giving', \"anchor's\", 'envenom', 'shown,', 'canonized', 'shipwrights,', 'Too', 'mood', 'keep,', 'to-night.', 'darkest', 'determination', \"mother's\", 'Acts', 'duties', 'spring!', 'Rankly', 'still;', 'drab,', 'hideous;', 'body?', 'whereon', 'England:', 'whale.', \"Unmix'd\", 'translate', 'off,', 'chiefly', 'changes', 'No,', 'another?', 'amber', 'hides', 'covenant,', 'forestalled', 'rusty?', 'ways', 'due', 'influence', 'these,', 'be;', 'loud,', 'disjoint', \"Unhousel'd,\", 'Away,', \"queen--'\", 'earth?', 'hell,', 'weal', 'watchman', 'Anon,', 'business.', \"so.'\", 'shadow.', 'closet.', 'alas!', 'helps', 'life', 'Sir,', 'shape:', 'observance.', 'easy', 'aught--', \"To't.\", 'sovereign', 'implorators', 'employment;', 'deal', 'told', 'bended', 'Deprived', 'gape', 'blister', 'duty,', 'queen.', 'see!', 'while;', 'withal.', 'Was', 'convoy', 'leave.', 'sweep', 'Niobe,', 'Clowns,', 'praise', 'mighty', 'thee:', 'Anon', 'this,', 'fares', 'Gis', 'black', 'news?', 'leaves', 'threatening', 'nothing,', 'appears', 'mother!', 'win.', 'beget', 'nettles,', 'blue', 'play', 'tenantless', 'performance,', 'hours.', 'bouts', 'cruel,', 'term', 'less', 'all:', 'night!', 'grieved,', 'warning,', 'hypocrites;', \"Ophelia,'--\", 'answerest', 'Charity,', 'faults', 'jaw;', 'struck.', \"bless'd,\", 'Received', 'feast.', 'Lest', 'clouds:', 'short:', 'except', 'one,--', 'Friend,', 'sables', 'watch', 'ducats', 'Abuses', 'villany!', 'naught:', 'invisible', 'full', 'north-north-west:', 'temple', 'unworthiest', 'custom', 'command;', \"time--I'd\", 'modesties', 'levied', 'nature;', 'sweat', 'hard', 'born,', 'remorse', 'pronounced:', 'public', 'jest;', 'imports', 'Repugnant', 'sick', 'mourn', 'fashion.', 'extremity.', 'poisons', 'thyself;', 'murder!', \"thou'lt\", 'forty,', \"Vulcan's\", 'Admit', 'greeted,', 'O', 'moist', 'angry', \"say'st\", 'advancement.', 'pledge.', 'you!', \"lion's\", \"o'erhear\", 'trespass,', 'pendent', 'there:', \"o'erwhelm\", 'tremble', 'safety,--', 'cry!', 'unseen,', 'minister.', 'Marcellus,', 'thine,', \"o'erweigh\", 'accepts', 'beasts,', 'march', 'ice,', 'globe.', 'compulsive', 'brain!', 'unsatisfied.', 'liar;', 'Each', 'tributary,', 'commission:', 'they,', 'oft', 'courtier;', 'stung', 'grows', 'chance,', 'view', 'lies', 'Which', 'treble', \"digged:'\", 'mantle', \"Revisit'st\", 'prepared', \"o'er-leavens\", 'assure', 'compost', 'right,', 'pair', \"'And\", 'prettiness.', 'pluck', 'And--would', \"timber'd\", 'bird,', 'Your', 'promise-crammed:', 'look?', 'hole', 'marble', 'coped', 'pleased', 'Player', 'voice:', 'theme?', 'heel,', 'savageness', 'him;', 'fall.', 'Hercules:', 'Since', 'ways.', 'forestall', 'justly', 'quit', 'suit;', 'profane', \"kill'd,\", 'inform', 'Masters,', 'foot.', 'Pelion,', 'fools', 'breaks', 'watch.', 'Lords,', 'stones,', 'personal', 'blow,', 'twentieth', 'table:', 'pardon,', 'Drabbing:', 'looks;', 'withdraw', 'rebels,', 'carriages;', 'axe,', 'point', 'wrath', 'pour', 'erring', 'coronation,', 'broken', 'milk,', 'appliance', \"thus--you'll\", 'Hail', \"murder'?\", 'feeling,', 'blaze,', 'grief:', 'apt,', 'helps,', 'bid', 'acquire', 'lofty', 'boy!', 'breed.', 'offence,', 'part,', 'stages--so', 'mainly', 'curiously,', 'quietly', 'quest', \"'This\", 'too,', 'Yea,', \"oppressor's\", \"was,'--\", 'Polonius?', 'fardels', 'couch', 'Truly', 'rivals', 'quickness:', 'look,', 'appetite', 'thou!', 'and,', 'remembrance.', 'winds', 'sir,--', \"bestow'd,\", 'fill.', 'Keeps', 'defect,', 'vanquisher;', 'primrose', 'bearers', \"honour's\", 'kill', 'Hamlet;', 'desire:', 'myself,', 'Excitements', 'sees', \"beggars'\", 'cabin,', 'passeth', 'lapsed', 'length;', 'mazzard', 'marching', 'attribute.', 'carouses', 'ease', 'property', 'judicious', 'stomach', 'sword;', 'write', 'enters', 'weeps', \"do't:\", 'unsmirched', 'precepts', 'so.', \"possess'd\", 'eale', 'Sailors', 'hid,', 'offal:', 'fine,', 'do?', 'very--pajock.', \"Offence's\", 'hope!', 'strokes:', 'tent', 'souls,', 'sere;', 'bawd', 'Caps,', 'fellow:', \"I'\", 'branches:', 'dust,', 'lend', 'which,', 'Laertes!', 'SCENE', \"'twixt\", 'ambitious', \"see't.\", 'ceremony', 'Gentlemen,', 'sleep:', 'Among', 'pocket!', 'loath', 'mercy,', 'where?', \"o'erhanging\", 'Yorick!', 'knavery!--an', 'Ophelia;', 'wide', 'please', 'canst', 'purse', 'knows,', 'Say', 'home:', 'revels,', 'grass', 'Or--not', 'play?', 'scope!', 'herb-grace', 'strewments', 'doom,', 'Pretty', 'jelly', 'thing.', 'late', 'abate', 'Dido;', 'Bears', 'mine--', 'Therefore,', 'commandment', \"Queen's\", 'there;', 'unreclaimed', 'skyish', 'ladies;', 'Another', 'pomp,', 'Hamlet?', 'children?', 'instance', 'stole', 'aught,', \"better'd,\", 'chaste', 'fire:', 'exact', 'wary', 'doors', 'lover', 'dram', \"carpenter?'\", 'confess,', 'ever-preserved', 'thus?', 'bowl', 'rivet', 'loved:', 'England!', \"Yorick's\", 'work;', 'depends', 'milky', 'Heavens', 'fair:', 'robe,', 'aught:', 'Poisoner', 'calendar', 'kingdom', 'way;', 'follows:', 'Over', 'son,--', 'soul:', 'good.', \"Doom'd\", 'breathe', 'theme', \"o'\", 'discretion.', 'closes', 'loss', 'eternity.', 'Mourners', 'craft', 'sister,', \"'Doubt\", 'wills', 'heaven.', 'commutual', 'defy', 'Osric;', 'gone', 'takes,', 'salary,', 'reaches', 'drink!', 'reputation', 'even,', \"'t?\", 'secure', 'bestow', 'bites', 'straight:', 'prosperously', 'Lives', 'Unless', 'cool', 'leisure,', 'uphoarded', 'done', \"sale,'\", 'cut', 'particular:', 'operant', 'capons', 'mason,', 'change', 'preparation', 'tears', 'means', 'ventages', 'dream', 'censure', 'drooping.', 'moon', 'behavior', 'Touching', 'come?', 'abatements', 'Clambering', 'Must,', 'mows', 'motive,', 'gentry', 'breeding,', 'goes.', 'arm?', 'backed', 'carry', 'show,', 'shows', 'wife:', 'mighty,', 'away,', 'shriving-time', 'neither.', 'quick;', 'QUEEN', 'mischance', 'hadst', 'test,', 'baser', 'Should', 'seals', 'appointment', 'upon--', 'baby;', 'by.', \"barr'd\", 'wife;', 'ecstasy', 'book;', 'affliction,', 'rather,', 'wherefore', 'kisses,', 'sea', 'feels', \"answer'd?\", \"'Fore\", 'Once', 'pleasures,', 'obey', 'dropping', 'order', \"Bear't\", 'quarry', 'lawyer?', 'nunnery,', 'dungeons,', 'reform', 'we:', 'tongues,', 'pioner!', 'Against', 'detecting,', 'you:--why', 'dreadfully', 'longer', 'whipped', 'liberal-conceited', 'farewell:', 'moult', 'Stay;', 'purgation', 'Wherein,', \"lock'd:\", 'Hamlet', 'replies', 'honest,', 'defeated', 'amiss:', 'buz!', 'interpret', 'chances', \"'s\", 'wonder-wounded', 'emulate', 'Rich', 'bent', 'home,', 'awake,', \"sin's\", 'stern', 'which--', 'patience.', 'stay,', 'perceived', 'confine:', 'Sweet', 'Nothing', 'Lifts', 'Hold,', \"talk'd\", 'behaved,', 'on--only', 'burns,', 'country', 'back?', 'quicksilver', 'Roman', 'countenance', 'naked', 'Falls', 'sword:', 'myself', 'liegemen', \"queen?'\", 'person', 'collection,', 'coronet', 'pray;', 'indued', 'blench,', 'tinct.', 'mirth', 'stock', 'fit', 'reformed', \"encumber'd\", 'matter,', 'earth', 'ancle;', 'ends,', 'wager,', 'little.', 'charge,', 'nephews', 'said.', 'see--', 'stubbornness;', 'wise', 'harrows', 'Nothing.', 'servants,', 'assay', 'health.', 'felicity', 'sinners?', \"fail'd\", 'share.', 'brainish', 'liquid', 'incest.', 'tells', 'Everlasting', \"unsinew'd,\", 'beard', 'orderly', 'Bow,', 'there!', 'deeply', 'noise?', 'meant', 'day.', \"'take\", 'blackest', 'Shows', 'element:', 'vision', 'doomsday.', 'unseal', 'wonder.', 'rapiers', 'crab', 'Guildenstern?', 'touch,', 'Half', 'ho!', 'whoreson', 'arrest--O,', 'returns;', 'matter,--', 'head,', 'recognizances,', 'mess:', 'partisan?', 'fellow,', 'aright', 'primal', 'obscure', 'Thrift,', 'note;', 'moons', 'trust', 'pate', 'fetch', 'countenance,', 'life,', 'use', 'excellence', 'will,', 'unused.', 'begun.', 'steward,', 'Directly', 'furnish', 'purposed', 'ground?', 'us?', 'rouse,', 'vicious', 'tax', 'Collected', 'propose,', 'assays', 'grant', 'past,', 'swords,', 'leaves,', 'I;', 'wilt', 'Prison,', 'audit', 'aside:', 'happily,', 'food', 'seem', 'clown', 'conscience,', 'to-night,', 'petty', 'safety,', 'shapes', 'Ay,', 'builds', 'water;', 'wretch', 'colour;', 'mend', 'hill', 'here,', \"pardon'd\", 'service', 'cell,', 'church:', 'lists', 'marriage,', 'ho,', 'Young', 'uneffectual', 'his,', 'rub;', 'scuffling,', 'increase', 'seeming-virtuous', 'did.', 'them:', 'purer', 'suits,', 'lack', \"life's\", \"wit's\", 'Within', 'Haste', 'proof,', 'wrong', 'nobility', 'thews', 'stake.', 'means.', 'looks,', 'lordship.', 'concluded', 'Passing', 'breaks,', 'despised', 'mean', 'drink,--O', 'free-footed.', 'hate', 'break.', 'mute', 'augury:', 'chamber.', 'beauty,', 'primy', 'innocent', 'incontinency;', 'harping', 'church.', 'thou', 'you;', 'others,', 'troubles,', 'inmost', 'clear', 'churches,', 'on--you', 'dost', 'Saint', 'beauty.', \"uncle's\", 'too!', 'wouldst', 'attended.', 'gentleman?', 'heathen?', 'Priest,', 'scene', 'makes', \"in't;\", 'stealers.', 'Attends', \"dicers'\", 'incensed.', 'would,', 'nighted', 'joys,', 'wounds', 'gambols?', 'thou.', 'fate,', 'toward,', 'fall:', 'very,', 'gets', 'deserved', 'now.', 'service,', 'precurse', 'attractive.', 'to.', 'courtesy', 'Ophelia,--', 'own.', 'travel?', 'youth,', 'encounter:', 'frowningly?', 'sail,', 'no,', 'me,', 'animals!', \"neighbour'd\", 'deer', \"damn'd,\", 'too.', 'sound,', 'hopes,', 'fit.', 'ending,', 'fast,', 'pressures', 'Where,', 'sworn,', 'heavens', 'assigns,', 'proof.', 'flourishes,', 'enough;', 'says', 'scholar;', 'practise', 'wants', 'bethought:', 'cuffs', 'figure?', 'nill', 'vow', 'artless', 'hits:', 'death:', 'attended', 'airs', 'rites?', 'fell,', 'commandment:', 'allegiance!', 'nobler', 'fantastic', 'potent', 'thrown', 'article;', 'flush', \"By'r\", 'horses', 'loves,', 'mad!', 'vows,', 'howling.', \"O'ermaster\", 'wit,', \"Stew'd\", 'remember,', 'bodies,', 'Adieu,', 'day,', 'dog,', 'He.', 'adulterate', 'earthly', \"harlot's\", 'served;', 'scourge', 'ducats,', 'begin.', 'love:', \"Cyclops'\", 'fare', 'methought', 'HORATIO', \"do't.\", 'Our', \"brass'd\", 'wine', 'puzzles', 'Discomfort', 'littlest', 'stithy.', \"Ungarter'd,\", 'away?', 'health', \"ha't.\", 'affection,', 'dowry:', 'month,', 'suffered', 'scant', 'sith', 'giving', 'argues', 'shape,', 'born;', 'come.', \"an't\", 'careless', 'down?', 'reigns', 'lordship!', 'Come,', 'blessing:', 'father!--methinks', 'pranks', 'knavish', 'he--and', 'whether', 'truth', \"was't?\", 'honesty', \"Valentine's\", 'Happy,', 'provide:', \"Hecate's\", 'Thus:', 'majesty.', 'grew', 'delve', 'forgot:', 'affrighted!', \"another's\", \"utter'd:\", 'et', 'counterfeit', 'reach,', 'ignorance.', 'devise', 'power', 'indiscretion', 'mutine', 'acquaint', 'hypocrite,', \"'imponed,'\", 'dangerous', 'what?', 'rest', 'rot?', \"'gentleman,'\", 'her;', \"fear'd\", 'will:', 'acres', 'garb,', 'dead;', 'honoured', 'perdy.', 'anoint', 'push.', 'horses:', 'finds', 'levies;', 'Lord,', 'sides:', 'immortal', 'hurt.', 'part', 'violet', 'unholy', 'them;', 'heavy-headed', 'state.', 'Dost', 'tears:--why', 'agreeing;', 'once;', 'to-day,', 'Mother,', 'commendable', 'estate.', 'funeral--', 'simple', 'worse', 'dumbshows', 'weep?', 'fingers', 'right!', \"Priam's\", 'distraction.', 'umbrage,', 'REYNALDO', 'ye;', 'Thyself', 'gold,', 'indentures?', 'bitter', 'flies;', 'edge.', 'fault:', 'kills', \"Polonius'\", 'fines,', 'card', 'so:--it', 'comma', 'comes!', \"king's\", 'true,', 'medicine', 'Corpse', 'dumb;', 'adoption', 'gentle', 'accounted', \"ha'\", 'loosed', 'V.', 'Do', 'slightly', 'pah!', 'mobled', 'remembrances', \"'As\", 'V', 'like:', 'sickness', 'entreat', 'wed.', 'sacred', 'unprevailing', 'successive', 'defeat', 'obsequies', 'sables.', 'above;', 'showing:', 'Nor', 'air;', 'playing,', 'Ambassador', 'consider', 'posset', 'jest,', 'suits', 'something:', 'Elsinore?', 'tell,', 'ugly', 'opinions', 'Bernardo,', 'Lamond.', 'courteous', 'articles', 'stoops', 'Repast', 'mistress', \"Shark'd\", \"compell'd,\", 'bounty.', 'begin,', 'dull,', 'bloody', 'heart-ache', 'soles', 'husband;', 'cause:', 'platform,', 'barefoot', 'beating;', 'fools!', 'thyself?', 'once,', 'aery', 'suffers', 'witch', 'pickers', 'trail', 'battlements', 'Fall', 'Pinch', 'majestical,', 'daggers', 'coil,', 'trip', 'conclusions,', 'done,--must', 'bloodily', 'fitness', 'noise:', 'circumvent', \"thing's\", 'Antiquity', 'crowns', 'Hoist', 'spendthrift', \"o'ertop\", \"truncheon's\", \"upon't!\", 'ravel', 'otherwise?', 'Beggar', 'spade.', 'melodious', 'joy.', 'gracious', 'betimes?', 'thick', 'question.', 'soon.', 'seduce!--won', 'compulsatory,', 'dismay.', 'whale?', 'murdering-piece,', 'faithful.', 'cases,', 'quarrel,', 'plays', 'awhile.', \"hold'st\", 'kings;', 'neck:', 'applaud', \"watch'd.\", 'dug,', 'delight', 'instrument', 'fretted', 'toe?', 'abuse,', 'liberal', 'circumstance.', 'first.', 'Horatio.', 'tribute', 'Wormwood,', \"turn'd,\", 'natures.', 'conscience;', 'springe,', 'coagulate', 'desperation', 'sends', 'strutted', 'ownself', 'la,', 'soul;', 'sweet', \"link'd,\", 'bears', 'does--what', 'six', 'dust:', 'comest', 'Horatio', 'Christian.', 'Didst', 'horridly', 'Captain', 'fool,', 'closet', 'not;', 'edified', 'habit', 'sings', 'pause', 'daughter.--My', 'shame', 'death,', 'greatness', 'shuffling,', 'lady,', 'fit,', 'happiness', 'breast:', 'wretched', 'wart!', \"labour'd\", \"Was't\", 'ignorance', 'partial,', 'annual', 'deaths', 'Happily', 'fame,', \"so:'\", 'peace', 'unshaken,', 'Cornelius,', 'uncle!', 'killed', 'neighbour', 'differences,', 'mass', 'scorns', 'scope', \"inurn'd,\", 'satirical', 'part:', 'smote', 'readiness', 'boisterous', 'vengeance!', 'rue', 'cries,', \"ghost's\", \"new-hatch'd,\", \"crowner's\", 'didst', 'burial', 'king?', 'flats', 'hair', 'Sirs,', 'yielding', 'goodman', 'wind,', 'events,', 'fair', 'witching', 'jealousy', 'remembrance', 'relative', 'uncurrent', 'Requite', 'eye!', 'peal', 'becomes', 'List,', 'recorders', 'Dead,', 'perturbed', 'whatsoever', 'pregnant', 'Here', 'pale', 'counsel.', 'sit', 'Methought', 'pulse,', 'king,', 'prisoner.', \"stirr'd\", 'rede.', 'hit,', 'collected,', 'entreatments', 'Moreover', 'knife', 'mole!', 'argument,', 'spark', 'start', 'bore', 'Denmark,', 'Fortinbras,--', 'gods', 'practise:', 'heard,', 'them--that', 'she,', 'scent', 'pocky', 'hearsed', 'Seems,', 'players', 'befitted', \"trick'd\", 'O,', 'mistook', 'nick-name', 'golden', 'end', 'difference.', 'twenty', 'rheum;', 'implements', 'ambassadors;', 'takes', 'heavens,', 'supper!', \"lady's\", 'or,', 'instances', \"wrong'd;\", 'stay', \"return'd\", 'woman.', 'folk', 'end--', 'comes:', 'Goes', 'jaws,', 'brief', 'pass', 'Rome,', 'lisp,', \"England's\", 'fortune?', 'expend', 'portal!', 'humourous', 'seeks', 'nerve.', \"'tis\", 'jig', 'break,', 'serpent', 'tear:--', 'Retiring', 'already;', 'met', 'go,', 'battalions.', 'repent?', 'sicklied', 'infallibly', 'Between', 'crow-flowers,', 'till', 'faults,', 'compact,', 'sending.', 'follow,', 'dismantled', 'corner', 'war', 'turn.', 'Pyrrhus:--', 'contracted', 'gifts:', 'Polonius', 'good:', 'Ambassadors,', 'pastime?', 'Second', 'Call', 'birth:', 'drowned', 'build', \"world's\", 'trumpets', 'accent', 'honour.', 'laugh', 'sitting', 'gaming;', 'though,', 'unmanly', 'self-slaughter!', 'goodly', 'roar', 'thou,', 'list', 'yourself', 'play.', 'bestowed?', 'hear', 'mould', 'cup.', 'Exit', 'rest;', 'gain,', 'stick:', 'treads,', 'skill.', 'beckons', 'will,--', 'thunders', 'knave', 'wantonness', 'hoodman-blind?', 'lie,', 'apprehension', 'shovel,', 'Refrain', 'king;', 'seeming', 'cock.', 'passages', \"might,'\", 'Guildenstern;', 'vouchsafe', 'manners,', 'foils,', 'gently;', 'circumstance', 'clout', 'wharf,', 'end:', 'girdle,', 'blossoms', 'remedy.', 'moderate', 'whirling', 'HAMLET,', 'father?', 'Tis', 'gilded', 'gait', 'speeches', \"mind's\", 'beg,', \"beast,'--\", 'rewards,', 'fay,', 'giant-like?', 'wreck', 'castle.', 'matter.', 'not--lost', 'blow', 'thing?', 'Niggard', 'works:', 'purpose,--to', 'favours?', 'fool.', 'meed', 'shatter', 'lug', 'horrible!', 'pleasure.', 'awe', 'star,--', 'Tell', 'Marcellus.', 'madness?', 'short,', 'dip', 'dream.', 'guarded,', 'Danish', 'step', 'double', 'crescent,', 'distance', 'without.', 'dust;', 'Disasters', 'trifle,', 'intent', 'strumpet.', \"'should'\", 'turn?', 'egg-shell.', 'sighs,', 'revenged.', 'draws', 'trumpet', 'themselves,', 'advise', 'strange;', 'canon', 'hundred.', 'Beware', 'bodiless', 'chamber,', 'hurts', 'Poland,', \"drown'd,\", 'Caesar,', 'continent', 'seal;', 'Scripture', 'matter;', 'honour', \"puff'd\", 'souls', 'wicked', 'unkennel', 'suffer', 'dispatch', 'together.', 'repose', 'Plautus', 'months,', 'politician,', 'quintessence', 'satisfaction;', 'methinks', 'spades,', 'High', 'such-like', \"'I\", 'Excellent', 'longer--married', 'Answer,', 'likelihood', 'world:', 'dearth', 'Lady', 'About', 'a-cursing,', \"claw'd\", 'desperate', 'prepare', 'nights', 'brazen', 'gone;', 'snuff', \"smear'd\", 'behind,', 'rapier,', 'fancy:', 'Retires', 'prophesy', 'sickly', 'cunnings:', 'fly', 'Heaven', 'mothers,', 'fellies', 'heartily', 'foot;', 'knows', 'say,--', 'simples', 'Pyrrhus', 'lord', 'command,', 'oped', 'without,', 'Norway;', 'dew!', 'ache', 'bold,', 'him?', 'foils;', 'Madam,', 'fortune:', 'busy', 'Grows', 'elder', 'near.', 'murderer;', 'answer', 'now-a-days,', 'smart', 'thoughts,', 'freely', 'daisies,', 'wanton,', 'Through', 'Cut', 'unrighteous', \"perform'd,\", 'farewell', 'Sunday', 'rapier', 'trumpets,', 'report', 'One', 'drunkards,', 'wittingly,', 'extinct', 'stately', 'lost,', 'Laertes', 'woe,', 'tricks', 'leave,', 'madness,', 'cleft', 'doubt', 'loses', 'blessing', 'No', 'apparition', 'tarre', 'Fell', 'Monday', \"heaven's\", 'parley.', 'argument', \"envenom'd:\", 'graces', 'conjunctive', 'grinning?', 'one.', 'account', 'stale,', 'crown,', 'second,', 'be-netted', 'frankly', 'treachery.', \"'no'?\", 'wait', 'fellowship,', 'pause,', 'trophies', 'that;', 'past;', 'heavily', 'bourn', 'mine', 'school', \"borrow'd\", 'pleasure', 'Bestial', 'Barbary', 'word;', 'ay,', 'flushing', \"weigh'd,\", 'use;', 'overlooked', 'law', 'deed,', 'water,', 'proceeding', 'forth,', 'marriage', 'gentry,', 'poured', 'camel?', 'pronouncing', 'undertakings', 'Thick', 'dust', 'blazon', 'slain;', 'lungs', 'red', \"seem'd\", 'breath.', 'congruing', 'Contagious', 'distempered.', 'die--as', 'precisely', 'whine?', 'discovers', \"is't:\", 'Had', 'reckon', 'conceit.', 'process', 'steel', 'well;', 'important', 'Lethe', 'music,', 'forgot,', 'target;', 'loves', 'admiration.', 'choose', 'Will', \"maids'\", 'more,', 'emphasis?', 'antic', \"She's\", 'marvel', 'proverb', 'ears;', 'gorge', 'springes', 'dexterity', 'Come:', 'law,', 'diction', 'enviously', 'freely,', 'ministering', 'Craves', 'soft', 'act', 'overthrown;', 'imaginations', 'baby', 'Marcellus', 'pangs', 'Belike', 'longer.', 'forbear', 'secrecy', 'grinding', 'patches,--', 'such.', 'here?', 'promise,', 'beautied', 'fast', 'these?', 'mineral', 'ranker.', 'reverted', 'There,', 'opinions;', 'hot.', 'letters', 'walk', 'visit', 'remember--', 'Leave', 'hath,', 'rabble', 'exceed', 'responsive', 'adventurous', 'particular', 'tricks?', 'so:', 'yours.', 'best,', 'fed', 'wheel,', 'givers', 'range.', 'speaks:', 'wings,', 'on:', 'honourable.', 'yet', 'motion', 'stage;', 'calumnious', 'withdraw,', 'Laertes?', 'circumscribed', \"unmatch'd\", 'herself', 'who?', 'Switzers?', 'This?', 'pretty', 'blood,', 'May;', 'lordship', \"on't;\", 'physic', 'undo', \"'Twere\", 'joint:', 'validity;', 'pestilent', 'forthwith', 'gall', 'withal,', 'whose', 'Mutes,', 'perchance,', 'outward', 'Paris;', 'lordship,', 'romage', 'LAERTES', 'POLONIUS', 'utter', 'revenge,', 'prince:', \"deliver'd,\", 'rises.', 'fruitful', 'passing', 'pastime.', 'honours.', 'hour,', 'fie', 'witness', 'soil', 'crowner', 'Horatio:', 'saws', 'beetles', 'methought,', 'prize', \"silver'd.\", 'up-spring', 'aim', 'cease', \"for's\", 'common', 'converted,', 'begin:', 'quietus', 'preaching', 'command?', 'passion', 'fool', 'sexton', 'usurp', 'clouds', 'compass:', 'alone;', 'name;', \"duke's\", 'action', 'unfortified,', 'morn,', 'tenable', 'suffering', 'violets,', 'such,', \"embark'd:\", 'actions', 'newly', 'conjectures', 'act.', 'words.', 'beggars', 'fordoes', 'rogue', 'wings', 'general', 'changeling', 'here', 'plague', 'time;', 'unfold.', 'Fie!', 'Norman.', 'foreign', 'headshake,', 'overpeering', 'all;', 'dark', 'yourself.', \"know,'\", 'twain!', 'purpose.', 'outstretched', \"'Twill,\", 'Rosencrantz!', 'diadem', 'axe', 'speak', 'roar?', 'distinguish,', \"'O\", 'ills', 'neck', 'envy', 'over-happy;', 'fee;', 'questionable', 'Out', 'show;', 'Arm', 'inclined.', 'nightly', 'us,', 'less,', 'forth.', 'duller', 'tender', 'destroy:', 'observant', 'serves', 'Show', 'affairs', 'abroad;', 'wits.', 'like.', 'Himself', 'deliver,', 'follows', 'mart', 'demands,', 'stopping', 'trace', 'wag.', 'chariest', 'before,', \"'friend,'\", 'knaves,', 'sea-fight;', 'mining', 'hold', 'havior,', 'oaths:', 'rich:', 'cross', 'knavery.', 'amazement', 'danger:', 'apart,', 'perchance', 'fust', 'birth,', 'fairly', 'much:', 'Herod:', 'Making', 'me.', \"brother's\", 'not.', 'hover', 'dead:', 'leans', 'Ghost', 'time:', 'uncle-father', 'fighting,', \"conceal'd\", 'roars', 'fail,', 'sight;', 'general:', 'FORTINBRAS', 'GERTRUDE', 'seed;', 'instant', 'murderous,', \"they'll\", 'stooping', 'stuff', 'image,', 'hast,', 'strength', \"fall'n\", 'lest', 'conjure', \"'Horatio,\", 'To', 'Till', '[Within]', 'walks', 'come!', 'troubles', 'holds', 'blurs', 'Thy', 'creep,', 'invulnerable,', 'then?', 'pass,', 'souls?', 'main;', \"where's\", 'rouse', 'brain:', 'above,', 'safety', 'favourite', 'sold', 'estate', 'Alexander,', 'sits:', 'curd,', \"courtier's,\", 'creatures,', 'kick', 'arms', 'ceremony:', 'Whilst', 'sins', 'princes', 'paradox,', 'loose', 're-deliver', 'life.', 'Julius', 'Having', 'faith:', 'secret?', 'France,', 'empire', 'secrecy,', 'airy', \"o'ertook\", 'fires,', \"Howe'er\", \"devotion's\", 'strongest', 'frontier?', 'pick-axe,', 'matter?', 'respect', 'singeth', 'ground,', 'you.', 'escoted?', 'mine--an', \"o'errule\", 'help', 'schoolfellows,', \"on't:\", 'tears:', 'half', 'Season', 'bonds', 'defective', 're-word;', 'matter', 'beam.', \"Tellus'\", 'greet', 'methinks.', 'beard,', 'POLONIUS]', 'rest!', 'thither', 'marry,', 'imperial', 'buzzers', 'fear:', \"screen'd\", 'uses', \"ne'er\", 'salt,', 'twelve,', 'Cousin', 'spills', 'France', \"Hyperion's\", 'Therefore', 'ungored.', 'capable.', 'diligence', 'statists', 'dishonour', 'rock', 'sullies', 'ye.', 'amaze', 'pales', 'rat?', 'unequal', 'hang,', 'thee.', 'spirits,', 'peace;', 'east', 'Slanders,', 'ready;', 'Re-speaking', 'desperation,', 'sugar', 'perdition', 'especially,', 'wager', 'rank,', 'Horatio;', 'Pours', 'Two', 'to-night?', 'Farewell.', 'Caesar:', 'religious', 'tenders', 'arms;', 'found,', 'prologue', 'message,', 'reconcilement,', 'convenience', 'brave,', 'this.--', 'burthen!', 'offence', 'bugs', 'incorrect', 'asking', 'he.', \"'He\", 'doubt,', 'arm;', 'sheets!', 'once!', 'noted', 'image', 'breadth', 'story.', 'straw:', 'Aside', 'well,', 'beaten', 'resolve', 'Noise', 'strife,', 'fruits', 'repulsed--a', 'mope.', 'comrade.', 'garlands', 'Do,', 'whole', 'sorrow', 'visitation?', 'thyself--', 'paddock,', 'Like', 'gifts,--', 'villanies,--', 'nunnery:', 'her?', 'point:', 'kept', 'demands', 'Receives', 'off;', 'command', 'peasant', 'sandal', 'weapons:', 'Hic', 'graveness.', 'so;', 'Polacks', 'Norway,', 'was--as', 'little,', 'kneels,', 'whips', 'throne', 'investments', 'in:', 'Think', 'Eyes', 'Grappling', 'grave-maker:', 'then:', 'liest.', 'ungalled', 'think.', 'douts', 'coming:', \"aim'd\", 'lawless', 'carrion,--Have', 'sift', 'engaged!', 'Jephthah,', 'carries', \"'Anon\", 'hot', 'meats', 'eleven', 'sorry', 'aught', 'soft,', '[Drawing]', 'spots', 'above', 'worm.', 'hart', 'quaintly', 'prophetic', 'twice', 'line', 'jocund', 'frock', 'sing', \"Aeneas'\", 'apt;', 'choice', 'clay', 'make,', 'depend', 'himself;', 'mistress!', 'can', 'deject', 'machine', 'father', 'lie', 'maintains', 'opposed', 'reveal', 'fantasy,', \"match'd,\", 'appear.', \"'A\", 'soaks', 'cannons', 'children,', 'several', 'addition', 'robustious', 'horse,', 'contraction', 'leperous', 'Truly,', 'weakness', 'conscience.', 'sleep;', 'follow;', 'books,', 'friends.', 'better:', 'lust,', 'thing--', 'imposthume', 'waxes', 'arrow', \"'would'\", 'bawdy', 'galled', 'ignorance;', 'thirty', 'feed?', 'gardeners,', 'discord', 'sultry,--as', 'Laertes;', 'heaven;', 'distemper.', 'annexment,', 'of!', 'belike,', 'impartment', 'grave-maker?', 'liberty.', 'pain,', 'Sleep', 'fine.', 'inward', 'ladyship', 'foul', 'Whiles,', 'Stood', 'sleep,', 'visage', 'natural', 'music.', 'ha,', 'card,', 'own:', 'lust', 'brains,', 'did,', 'OPHELIA,', 'proclaims', 'assault.', 'rhymed.', 'word.', 'need', 'kind:', 'behove,', 'sized,', 'died:', 'steals', \"'twere,--I\", 'hope,', 'policy', 'seat;', \"Woo't\", \"know't,\", 'droppings', 'of,', 'Denmark.', 'turbulent', 'admirable!', 'quiddities', 'relieved,', 'purposed,', 'lose', 'Much', 'loves.', 'murder,', 'coach!', 'buried,', \"by'r\", 'noise', 'Lights,', 'person:', 'death', 'bear,', 'Read', 'Quoth', 'streets,', 'conjuration', 'KING', 'are!', 'brain', 'obey,', 'false', 'Affection!', 'Swear.', 'margent', 'forms', 'swinish', 'officers', 'beauteous', 'morning;', 'fellows', 'gentlewoman,', \"'Naked!\", 'dallying.', 'frighted', 'fifty,', 'breathes', 'Does', \"tax'd\", 'dire', 'strict', 'crown.', 'Ho,', 'Sailor', 'charitable,', 'strangely,', 'jot;', 'bleeding', 'alarm,', 'flaming', 'obeys;', 'lunacy.', 'Lying', 'city?', 'together', 'retain', 'further.', \"thou.'\", 'slain:', 'bastard,', 'VII.', \"to't,\", 'there?', 'skirts', 'watch,', 'Thrown', 'falsely', 'Were', 'Patrick,', 'locks', 'cheek,', 'utterance', 'slips', 'known,', 'closet:', 'Whereto', 'fame', 'tormenting', 'Something', 'clearly', 'back:', 'hold,', 'napkin,', 'goblins', 'Seeming', 'unbraced;', 'Hymen', 'shoon.', 'purpose;', 'oblivion,', 'stand,', 'convert', 'denote', 'repel', 'how?', 'enseamed', 'hobby-horse,', 'recover', 'clothe', 'remainder', 'yard', 'many', 'station', 'varnish', \"lord's\", \"Who's\", 'envious', 'picture', 'you:', 'method,', \"lock'd,\", 'liquor', 'instrumental', 'vapours.', 'enact', 'mandate;', 'incorporal', 'box;', 'kind', 'throat,', 'bounds.', 'carriages?', 'hits.', 'wisdoms,', 'captain,', 'fortune,', 'presently', 'FRANCISCO', 'think,', 'Unsifted', 'was:', 'New-lighted', 'Guildenstern', 'preparations,', 'music', 'greeting', 'yonder', 'Help,', 'bruit', 'Yet', 'offend', 'remember', 'reckless', 'action;', 'sheeted', 'ask', 'Peace!', 'stowed.', \"'tis,\", 'motive', 'method', 'wherefore?', 'pierce', 'they?', 'BERNARDO', 'whence', 'cup:', 'masters,', 'Into', 'end.', 'Gertrude;', 'sleeping', 'Enter', 'duty?', 'purchases,', 'anger.', 'thus.', 'mine.', 'note,', 'hectic', 'ominous', 'players,', 'seen.', 'of:', 'tardy', 'conference.', 'follow', 'jealousy!', 'oppression', 'tend.', 'Addicted', 'Than', 'Leaps', 'See', 'eyes;', 'murderer', 'eat', \"prick'd\", 'action.--Soft', 'carriage', \"he'll\", 'infinite', 'birds', 'Rapier', 'pleasure:', 'wittingly.', 'state,', 'phrase;', 'resort,', 'oft.', 'violence,', 'intil', \"o'ergrowth\", 'waste', 'kingdom.', 'fear,', 'didest', \"topp'd\", 'cockle', 'quantity;', 'used;', 'beneath.', 'region,', 'provided', 'Christian,', 'hour', 'vows', 'steal', 'speed,', 'week;', 'it:', 'villanous,', 'extent', 'glassy', 'moon,', 'platform', 'mutes', 'majesty', 'younger', 'clad,', 'minute;', 'woodcock', 'comes;', 'gib,', 'Exchange', 'You,', 'forced', 'Look', 'uncharge', 'Hark', 'quick:', 'reason', 'evidence.', 'charm,', 'worser', 'university,', 'to-night:', 'thanks:', 'honour,', 'winnowed', 'Which,', 'combated;', 'orbed', 'god-like', 'mark,', 'See,', 'Though', 'Some', 'artery', 'collateral', 'contend', 'unfellowed.', 'service.', 'hangers.', 'parts', 'bought', 'out:', 'corse', 'right.', 'last:', 'watch;', 'riband', 'meaning:', 'letter', 'shepherds', 'father!', 'yet?', 'invites', 'countries', 'taste', 'flaxen', 'approve', 'lets', 'directions', 'knotted', 'Meet', 'sipping,', 'ruled;', 'coinage', 'Gracious,', 'notes,', 'was,', 'outrageous', 'capable', 'obsequious', 'bodies;', 'King,', 'Their', 'hast', 'fie!', 'news', 'reechy', 'tenders,', 'judges,', 'drinks', 'yon', 'honest;', 'observers,', 'c.', 'Bid', 'revenge:', 'unwilling', 'subject', 'assistant,', 'coward?', 'return.', \"night's\", 'pit!', 'death;', 'wrong,', 'think?', 'gyves', 'discourse', 'whereat', 'fit;', 'meet.', 'severally;', 'sparrow.', 'sleep', 'Turk', 'for.', 'hill:', 'blast', 'Conceit', 'dejected', 'mischief.', 'truth.', 'loser?', \"E'en\", 'arras', 'gentleman,', \"on't?\", 'Well,', 'tame', 'unction', 'eternal', 'me--with', '&', 'conscience', \"knew'st\", \"father's\", \"esteem'd\", 'wormwood.', 'beds,', 'c', 'shot', 'unto', 'Old', 'importuned', 'reading.', 'rub', 'sense,', 'LAERTES,', 'observed', 'speak;', 'dumb', 'since?', 'dirge', 'swift', 'highly,', 'sixteen', 'passion,', 'cock,', 'Marry,', 'murder', 'borrowing', 'This', 'besmirch', 'apiece', 'ardour', 'exactly,', 'shrunk', 'ruin.', 'source', 'him!', 'flesh;', 'task', 'blanks', 'sent;', \"LAERTES'\", 'attend', 'unseen', 'act,', 'as,', \"'For,\", 'garbage.', 'arms!', 'feather.', 'acquaintance', 'nipping', 'Armed', 'wed', 'angels', 'bones', 'gone,', 'actors', 'contents,', 'dead?', 'wager?', \"have't.\", 'seest', \"inventors'\", 'since,', \"sir,'\", \"sister's\", 'Ah,', 'toys', 'dearly;', 'Ha,', 'purples', 'admiration?', 'unsanctified', 'melancholy', 'dish:', 'bat,', 'commands', 'You', \"'gins\", 'cure', 'did;', 'bounded', 'chance', 'answer,', 'easily', 'kindless', 'eruption', 'whiff', \"'Run\", 'peep', 'Last', 'drum', 'heads:', 'five', 'speech;', 'west', 'breathing', 'swounds', '[Aside', 'this.', 'dogs!', 'armed;', 'queen,', 'none.', 'Sense,', 'Mars,', 'done:', 'learning,', 'engineer', 'losing', 'fellow-student;', 'Mouse-trap.', 'beware', 'plausive', 'good;', 'HAMLET', 'bands.', 'scullion!', 'cracks', 'OSRIC,', 'bed;', 'married', 'soul,', \"temper'd\", 'are.', 'recount', 'Wittenberg?', 'mouthed,', 'sight?', \"cozenage--is't\", 'disposition.', 'hour.', 'defend', 'intent;', 'phrase:', 'enact?', 'flaw!', 'lingers', 'mass,', 'ship;', 'dagger.', 'squeak', 'Tender', \"murder'd,\", 'case,', 'Ho!', 'battery?', 'diseased:', 'caution,', 'players.', \"King's\", 'reckoning', 'market', 'sorrows', 'fancy;', 'Hazard', 'Taken', 'proved', 'late--but', 'Follow', 'muddy', 'serve', 'poisoning?', 'legs.', 'offence.', 'kneels', 'day:', 'Peace,', 'Scattering', 'afterwards,', 'owner', 'whit,', 'spend', 'mouth,', 'themselves', 'Pursued', 'Poisoner,', 'Hamlet.', 'serious', 'enter', 'glares!', 'offer', 'Hath', 'stirring.', 'aloof;', 'on;', 'hilts,', 'remember:', 'incorpsed', 'metals', 'pith', 'glow-worm', 'awe,', 'Thereto', 'sir;', 'can;', \"allow'd.\", 'Gertrude?', \"Pyrrhus'\", 'Cock', 'crust,', 'Purpose', 'allow.', 'fiery', 'vulgar.', 'but,', \"wot,'\", 'incapable', 'gives', 'enterprise,', 'ignorant,', 'fellow.', 'true:', 'done.', \"'Good\", 'way:', 'graves', 'wake', \"assay'd:\", 'gibber', 'hours', 'content.', 'matin', 'secret', 'often', 'sight,', \"seal'd?\", 'unnatural:', 'Next,', 'falls,', 'withal:', 'intents', \"befall'n?\", 'Fortinbras;', 'moves', 'nay,', 'beats', 'Robin', \"'Who\", 'sun;', 'fetters', 'height,', 'leisure.', 'accuse', 'swearing,', 'mad?', 'affections', 'livest;', \"o'ersways\", 'succession?', 'Seneca', 'clowns', 'deprive', 'Honest,', 'ladies', 'swoopstake,', 'perceive?', 'thought,', 'filial', 'equivocation', 'haps,', 'Up', 'heraldry,', 'bawds,', 'harrow', 'send', 'Say,', 'pernicious', 'auspicious', 'Unite', \"restrain'd\", 'cannoneer', 'Players,', 'daughter.', 'cowards', 'relish', 'ourselves.', 'quarrelling,', 'prenominate', 'mother.', 'keen,', 'me--what', 'variable', 'especial', 'offended.', 'We', 'bark', 'betime,', 'Get', 'wearing', 'dove!', 'meant?', 'naught,', 'borne', 'name', 'fates', 'yours:', 'Burn', 'gifts,', 'myself--', 'view;', 'swallowed:', 'time.', 'lose.', 'brands', 'curls;', 'desk', 'Rebellious', 'march?', 'Grief', 'rapiers,', 'dare,', 'extremity', 'craft.', 'easing.', 'wrote', \"me.'\", 'functions', 'law?', 'rebuke', \"pigeon-liver'd\", 'reading', 'helpful', 'hereafter', 'Impart.', 'hue', \"'Adam\", \"'One.'\", 'lungs?', \"seal'd\", 'merry?', 'Longer,', 'ready.', 'warms', 'foe,', 'damned', 'daily', 'from.', 'ground:', 'Fare', 'Queen', 'Reynaldo,', 'essentially', 'excuse.', 'world,', 'follow?', 'glow:', 'tenures,', 'unnatural.', 'neglected', 'hung', 'heaven?', 'actor', 'blood.', 'shall;', 'dreadful', 'Dane,', 'Why,', 'solicitings,', 'omen', 'bounteous:', 'outlive', 'meet', 'us.', 'ours,', 'compelled', 'direct', 'shalt', 'authorities.', 'split', 'kettle-drum', 'turneth', 'country.', 'clutch,', 'both', 'rude', 'into,', 'pious', 'Pointing', 'made,', 'count', 'gem', 'soul', 'truly,', 'baseness', 'limed', \"Finger'd\", 'scanter', 'fathoms', 'hey', 'heaven,', 'ROSENCRANTZ', \"think't.\", 'Good.', 'leisure', 'directly', 'mountain', 'fencing,', 'unripe,', 'swaggering', 'receive', 'us', 'believed', 'shameful', 'favour', 'delicate', 'laying', \"'scapes\", 'gestures', 'sits', 'joys', 'Being', 'return,', \"in't,\", 'rewards', 'weighing', 'happen.', 'tragedians', 'French,', 'Roughly', 'Comes', 'grieve;', 'Sleeps', 'secrets', 'damnable', 'see;', 'honest', 'Soldiers,', 'rose,', \"nephew's\", 'trivial', 'jaw-bone,', 'expense;', 'Valentine.', '[Reads]', 'muddied,', 'effect', 'season', 'superfluous', \"poison'd\", 'law.', 'seeming.', 'Whereof', 'presentment', 'up:', 'Doth', 'woe.', 'impression,', 'father:', 'pursuest', 'hears', 'columbines:', 'motion,', 'Convert', 'thieves', 'blows', 'First', 'walk.', 'cleave', 'youth:', 'Perchance', 'Richer', 'wise,', 'cold;', 'Lucianus,', 'theft.', 'choice,', 'come,', 'encompassment', 'aspect,', 'contriving,', 'decline', 'lewdness', 'heaves:', 'prayer', 'corse,', 'true;', 'corruption,', 'abstinence:', 'sans', 'familiar,', 'loam,', 'God?', 'profoundest', 'affair:', 'gaged', 'Seek', 'brute', 'Under', 'Was,', 'nothing.', 'outlives', 'narrow', 'lads,', 'crimeful', 'bias,', 'arrows', 'traitorous', 'fox,', 'field,', 'evermore', \"open'd,\", 'haste.', 'herald', 'trial.', 'Custom', 'perilous', 'crows', 'enough,', 'eclipse:', 'altitude', 'divulging,', 'herein', 'meeting:', 'Away!', 'wars,', 'madam,', 'spirit.', 'conveyances', 'cannot.', 'indict', 'planets', 'shame!', 'foil,', 'calm', 'delay,', 'cheerfully', 'ring?', 'wit', 'vouch', 'lids', \"'man\", 'Aroused', 'acts,', 'darest', \"to't.\", 'King', 'raw', 'earth,', 'tongue.', 'wealth', 'ulcer:--', 'ban', 'Horatio,--or', \"'beautified'\", 'ambition', 'Out,', 'Ere', 'mere', 'Stand,', 'feature,', 'slender', 'batten', 'assay!', 'eloquent', \"all's\", 'rage,', 'phrase,', \"Stay'd\", 'England;', 'bosom,', \"fulfill'd,\", 'reason.', 'sirs.', 'juice', 'ocean,', 'dirt.', 'hedge', 'thousand', 'praying;', 'checking', 'Consent', 'desire.', 'highness:', 'Cannot', 'inquire', 'love', 'commingled,', 'clepe', 'admiration', 'poniards,', 'stars,', 'cup', 'woman!', 'name,', 'keen.', 'unproportioned', 'carnal,', 'dangerous,', 'ROSENCRANTZ:', 'fathers,', 'fall', 'gleaned,', 'peace.', 'too:', 'juggled', 'CLAUDIUS', 'touches', 'near:', 'fought', 'disposition', 'harbingers', 'disclose', 'weed', 'may.', 'havoc.', 'one;', 'stalk', 'GHOST', 'seeing;', 'mad', 'Yes,', 'spilt.', 'Still', 'unknown,', 'wrung', 'delights', 'observe', 'speak.', 'whensoever,', 'messengers,', 'twain.', 'Trumpets', 'young', 'both:', 'Stick', 'weakness,', 'wash', 'Inquire', 'wipe', \"suck'd\", 'tame,', 'Propose', 'Hast', 'gracious;', 'hall', 'tables,--meet', 'queen', 'spring', 'alleys', 'lot,', \"is't\", \"appear'd\", 'air,', 'must,', 'Begin,', 'Forgive', '[Sings]', 'light!', 'combat;', 'twenty,', 'spur', 'necessaries', 'far.', 'nave', 'Dear', 'Or', 'writ', 'perfections:', 'property,', 'precedent', 'grained', 'assistant', 'revenge.', 'lick', 'scruple', 'breath?', 'thanks.', 'Conscience', 'known', 'sir.', 'contract,', 'bleed.', 'quick', 'guest', 'consent!', 'stronger', 'Wittenberg.', 'standing', 'delights.', 'together;', \"Gonzago's\", 'sty,--', 'kisses', 'goblin', 'fortune', \"Pull'd\", 'snow,--', 'slaughters,', 'Ossa', 'Sport', 'well-took', 'with,', 'repentance', 'true', \"lord?'\", 'paper', 'first;', 'garments,', 'act:', 'Larded', 'thereunto,', 'hope', 'worm', 'that.', 'sun:', 'flourish,', \"rat!'\", 'liege:', 'Guildenstern!', 'play:', 'myself.', 'commission;', 'groundlings,', 'grief', 'shall,', 'daughter,', 'pelican,', 'servants', 'profanely,', 'body', 'For,', 'reverend', 'eyes.', 'tragedy,', 'mad,', 'subject:', 'proceeded', 'livery', 'dishes,', 'eaten:', 'drift', 'wisely,', 'VI.', 'Polack;', 'supervise,', 'buttons', 'wiseness', 'statutes,', 'prisoner', 'grass-green', \"pray'st\", \"wi'\", 'contagion,', \"matron's\", \"scarf'd\", 'render', 'why;', 'thereof', 'pity', 'mark', 'why,', \"Phoebus'\", 'is:', 'splenitive', 'heaven-kissing', 'a-down-a.', 'judgment,', 'light:', 'come;', 'noyance;', 'while,', 'tediousness', 'waist,', 'concernancy,', 'Bear', 'Spurns', 'plastering', 'high', 'wrote?', 'ghost!', 'day;', 'speech.', 'metal', 'duty', 'length?', 'crack', 'end,', 'Murder', 'long:', 'capability', 'revel', 'again?', 'beguile.', \"o'er-reaches;\", 'rise', 'judgments,', 'twelve', 'accurst!', 'beguile', 'dizzy', 'trade,', 'unnerved', 'Delay', 'royal', 'thrift,', 'Can', 'hither?', 'while.', 'maggots:', 'lasting,', 'madness', 'porches', \"'Thus\", 'declines', 'brow;', 'chough;', 'treason', 'deliver.', 'credent', 'CORNELIUS', 'friends!', 'whored', 'sometime', 'weary', 'Sure,', 'nasty', 'moral', \"OPHELIA's\", 'gentleman;', 'uncle,', 'Gonzago?', 'Attendants', 'idle', 'Lost', 'crants,', 'ground.', 'bewept', 'may,', 'gum', 'birth--wherein', 'progress', 'Hecuba!', 'is;', 'Would', 'odd', 'leads', 'need,', 'Give', 'few,', 'faith.', 'vial,', 'reason!', 'below:', 'friends,', 'flatter;', 'brother,', 'jig-maker.', 'immediately.', 'warlike', 'labour', \"'scape\", 'following;', \"on't--Frailty,\", 'mean?', 'Looking', 'Confess', 'enemy', 'done!', \"would,'\", 'painted', 'ponderous', 'shroud', 'conveniently.', 'bold', 'ditchers,', 'female', 'dressy', 'prove', 'clamour', 'Confederate', 'heat,', \"is't,\", 'fortune;', 'messenger', 'drugs', 'recorders!', 'patient:', 'vile', 'a-down,', \"i'\", 'Ophelia', 'nut', \"for't:\", 'sons,', 'surmise.', \"Neptune's\", 'better,', 'cart', \"call't\", 'nation', 'mirror;', \"say'st:\", 'Importing', 'coming', 'mourning', 'collection;', 'healthful', 'praise,', 'melt', 'substance', 'That', 'ended.', 'sun.', 'jowls', 'nose?', 'gods,', 'Baptista:', 'pagan,', 'greetings', 'easiness', 'motion;', 'Confound', 'sadly', 'knowest', 'retrograde', 'necessity,', 'plain', 'Players', 'god!', 'pebbles', 'camel,', 'hell', 'divide', 'common;', 'twelve;', 'again:', \"o'er-raught\", 'windlasses', 'idle:', 'reply:', 'qualifies', 'ship', \"o'er,\", 'quiet.', 'lapwing', 'aloof,', 'itself,', 'gambol', 'love,', 'majesties', 'stone,', 'sword,', \"Fortune's\", 'divine', 'endure', 'Farewell,', 'earth!', 'Gertrude.', 'petard:', 'appurtenance', 'wars.', 'Provincial', \"kill'd:\", 'such-a-one,', 'Stay,', 'a-making,', 'vigour', 'hoar', 'denies', 'rendezvous.', 'compound', 'Break', 'try,', 'Calls', 'tree;', 'virtue', 'imperfections', 'gentleman.', 'hire', 'beggar', \"mourn'd\", 'privates', 'once:', 'wisest', 'confront', \"Mars's\", 'heel', 'privy', 'yes,', \"usurp'st\", 'curse', 'lines', 'poet', 'late?', \"Honour'd,\", 'ye', 'usual', 'smelt', 'election', 'arraign', 'truly', 'brook.', 'extant,', 'man;', 'man!', 'venom', 'wife!', 'Judgment.', 'prick', 'overdone,', 'change;', 'organ;', 'bless', 'hide', 'quality', 'near,', 'Writing', 'permanent,', 'easiness.', 'undertake,', 'hell?', 'on,', 'sore', 'loathsome', \"HAMLET.'\", 'seated', 'marriages:', 'Voltimand,', 'cap', 'grounds', 'Extorted', 'daughters,', 'embracing', 'law:', 'boys', 'poem', 'love;', 'monsters', 'sort', 'perform:', 'wax,', 'ignorant', 'pure', 'cousin,', ']', 'friends', 'violence', 'Neither,', 'Bernardo!', 'unpregnant', 'move;', 'players--as', 'eye.', 'armour', 'Hadst', 'pursue', \"wrong'd\", 'Appears', \"grows,'--the\", 'rage!', 'ice.', 'cuckold', 'mount,', 'Reynaldo.', 'strangely?', 'dismal;', 'gentlemen', '[Advancing]', 'distress,', 'Tush,', \"in't?\", 'rise,', 'commune', 'vantage', 'portraiture', 'poison', 'unpack', 'lord;', 'French', 'lights!', 'saying', 'Gentleman', 'blush', 'chanted', 'modesty', 'exception', 'hide?', 'regards', 'us:', 'ubique?', 'spokes', 'amazed', 'half.', 'cloak,', 'spirits', 'born', 'enmity', 'he?', 'foh!', 'gone!', 'temperately', 'kings', 'Is', 'ghost', 'Yet,', 'rascal,', 'gone:', 'bird', 'Hamlet:', 'intruding', 'ass', 'yet,', 'to-night;', 'whirlwind', 'shut', 'beating', 'Pole', 'undertake', 'Carrying,', 'lawful', 'couplets', 'Stoops', 'According', 'lodged', 'to,', 'Osric.', \"o'er-crows\", \"me'?\", 'certainty', 'recoveries,', 'Osric,', 'guilty,', 'flame', 'Shall', 'bent.', \"Fix'd\", 'recovery', \"'friend\", 'womb', 'served', 'slave,', 'scale', 'neither,', 'jig,', 'seven', 'so?', 'indirections', 'whereof,', 'dirty', 'true!', 'ministers', 'request.', 'bray', \"forgot.'\", 'content', 'home', 'radiant', 'neither', 'ourself', 'spade,', 'truth:', 'thousand.', 'welcome;', 'easier', 'profound', 'fishmonger.', 'dust?', 'Thaw', 'pictures,', 'fire!', 'heels', 'players;', 'guilt', 'origin', 'traveller', 'inheritor', 'read,', 'behind.', 'sport', 'signet', 'nations:', 'speed', 'crocodile?', 'god', 'confession', 'Tweaks', 'wring', 'Mark', 'dozen', 'embrace', 'debt:', 'bevy', 'Whom', 'tongue', \"O'erbears\", 'him:', 'lecherous,', 'associates', \"barber's,\", 'sweet,', 'likely.', \"scholar's,\", 'seeing,', 'Hamlet!', 'this,--', 'lobby.', 'Sprinkle', 'stops;', 'large', \"allow'd\", 'CLAUDIUS,', 'sir:', 'bloody,', 'remains', 'judgment.', 'charitable', 'woman!--', 'stars', 'clouds,', \"cozen'd\", 'passage?', 'tokens.', 'paddling', 'rages,', 'astonish', 'vouchers', 'joy,', 'insolence', 'Forth', 'basket', 'spirit,', 'received', 'Who', 'generous', 'groan.', 'see.', 'liest', 'how,', 'appears:', \"soil'd\", 'grace', 'understanding,', 'villain;', 'sleeping,', 'Reynaldo?', 'lean', 'Polack', 'treasure', 'path', 'wild;', 'chronicles', 'stays:', 'harshly', 'flames', 'know.', 'player', 'LUCIANUS', 'pure;', 'patience', 'brother', 'carbuncles,', 'Clown', 'centre.', 'To-morrow', 'grave-makers:', 'rite', 'skill', 'desire,', 'dove,', 'ignorant--', 'opposites.', 'concernings', 'forgotten', 'vast', \"'twas\", 'pearl', 'purpose,', 'bearing', 'ambassadors', 'jointly', 'unsure', 'lordship?', 'tanned', 'ply', 'homage', 'aye,', 'impress', 'peep;', '[Pointing', 'worth,', 'nearer', 'truant.', \"'a\", 'Capitol;', 'judgment', 'Did', 'weeds,', 'proclaim', 'Those', 'farewell.', \"He's\", 'march.', 'weasel.', 'forgone', 'sable', 'conceit', 'bride-bed', 'that?', 'stir', 'blastments', 'itself?', 'whipping?', 'shadows.', \"To't\", 'epitaph', 'clothes', 'cracked', 'zone,', 'loneliness.', 'merriment,', 'same,', 'visage,', 'yourself,', 'aunt-mother', 'Set', 'night;', 'Thou', 'intend', 'not?', 'hems,', 'mole', 'inclination', 'least', 'is--', 'melancholy,', 'None,', 'deed', 'better--their', 'assail', 'freeze', 'play;', \"master's\", \"turn'st\", 'stole,', 'please.', 'fantasy?', 'Running', 'mountebank,', 'sterling.', \"'It\", 'stuck,', 'behoves', 'may', 'beloved;', 'garden', 'lord.', 'Francisco.', 'course.', 'sense.', 'carpenter?', 'circumstances', \"o'erdoing\", 'imitated', 'shoes,', \"'t\", \"t'\", 'counsel;', 'protests', 'tush,', 'fast?', \"'tween\", 'hatchment', 'ancient', 'lead', 'individable,', 'buyer', 'loggats', 'poor', 'heavenly', 'Claudio;', 'Ophelia,', 'say?', 'faculties', 'roasted', 'faded', 'As,', \"'Lord\", 'apart', 'vain', 'fatted', 'hammers', 'beyond', 'age,', \"woo't\", 'welcome', 'consonancy', 'see:', 'beast:', 'brokers,', 'Horatio,', 'eldest', 'cerements;', 'summit', 'POLONIUS,', 'knew', 'fitted.', 'proceed?', 'kibe.', 'ordnance', 'Here,', \"o'erstep\", 'There;', 'drown', 'Soil', 'With', 'Christians', 'brought,', 'gentlemen,', 'Rest,', 'so,', 'shipped', 'Who,', 'stand', 'tether', 'discourse,', 'monument:', 'Marcellus?', 'absolute', 'afoot,', 'wheel', 'this;', 'crib', 'circumstance,', 'define', 'rotten', 'mercy', 'complete', 'save', 'am.', 'madam!', 'sheen', 'repair', 'calamity', '[', 'close,', 'it!', 'pursy', 'lands', 'bodykins,', 'honourable', 'live,', 'Ecstasy!', 'positively', 'dies', 'fault', 'weapon?', 'wit:', 'dunks', 'throw,', 'Roscius', 'opposition', 'Videlicet,', 'kingdom,', 'sight', '[Aside]', 'pole', 'Colleagued', 'spies', 'Well;', 'nation.', 'After', 'sending', 'Led', 'Good', 'heedful', 'marry', \"'twill\", 'lays', 'comical-historical-pastoral,', 'again,', 'needs', 'So', 'boarded', 'yawn', 'select', 'Prompted', \"was't\", 'slaughter:', 'woo', 'lowest', 'vulgar', 'Couch', 'uncle:', 'tyrannically', 'Together', 'Safely', 'driven', 'neglect.', 'Ilium,', 'None', 'earth;', 'confess.', 'row', 'death!', 'Starts', 'finger', 'IV', 'figure;', 'Believe', 'able', 'infect', 'sea-gown', 'commend', 'consent', 'Hide', 'rims', 'customary', 'sheepskins?', 'Pays', 'Lay', 'Awake', 'conversation', 'accidental', 'Contagion', 'Lends', 'really.', 'cost', 'order,', 'Both', \"he's\", 'weary,', 'scenes,', 'ecstasy:', 'fire;', 'pay,', 'Fie', 'Am', \"soldier's,\", 'feeling', \"'HAMLET.'\", 'consent:', 'eats,', 'Frenchman', 'yesty', 'wandering', 'dislike', 'enterprise', 'Observe', \"remember'd.\", 'enlarged', 'smiles', 'trophy,', 'diet,', 'earth:', \"'se\", 'ourself;', 'toils', 'shrewdly;', 'baked', 'down;', 'girl,', 'unknowing', 'churchyard.', \"find'st\", 'play--I', \"'alone.'\", 'luxury', 'brood;', 'I?', 'to-morrow.', 'murder:', 'possible,', 'loved', 'Wilt', 'So,', 'lord--', 'ever.', \"'twould\", 'sinews', 'crafts', \"passion's\", 'sustain,', 'highest', 'While', 'plots', 'being:', 'affair.', 'afflicts', 'forbid', 'remove,', 'closely', 'character.', 'believe', 'doctor;', 'brains!', 'encounter;', 're-deliver;', 'Farewell:', 'coldly', 'shift', 'heaven', 'wassail,', 'we,', 'ones', 'rule,', 'quills', 'hugger-mugger', \"o'er-teemed\", 'churchyards', 'Makes', 'avouch', 'hall:', 'masterly', 'strange.', 'passage,', 'bonny', 'stops.', 'entertainment', \"season'd\", 'me?', 'unkind.', 'These', 'Speak,', 'Soldiers', 'head:', 'advice,', 'Hecuba.', 'fatness', 'gore,', 'forts', 'other--', 'season,', 'proportions,', 'indifferently', 'trumpet:', 'tenants.', 'sides;', 'figure,', 'fear;', 'hourly', 'terms', 'Thence', 'Rome,--', 'understanding', 'grieves,', 'whilst', 'brows;', 'accident,', 'combination', 'Perhaps', 'Breathing', 'Oft', 'hasty', 'knowledge', 'haply', 'Most', 'merely.', 'Christian', 'Or,', 'honey', 'under', 'king.', 'falls.', 'Form', 'brief:', 'bier;', 'longed', 'trains', 'lodge,', 'yourself:', 'eye,', 'argument?', 'comply', 'sticks', 'remember?', 'delays', 'smile,', \"on't.\", 'Whether', 'beast', 'lazar-like,', 'ashamed', 'justice,', 'oath,', 'fearful', 'stubborn', 'two-fold', \"chameleon's\", \"frown'd\", 'truster', 'sponge!', 'sooner', 'sorry.', 'murder.', 'GUILDENSTERN:', 'rebellion', 'pastors', 'dawning', 'achievements,', 'treacherous', 'ambiguous', 'society', 'tread', 'instructs', 'return', 'breeder', 'grosser', 'like,', 'withdrew', 'posy', \"o'erthrown!\", 'worthy', \"baker's\", 'star;', 'lasting', 'realm', 'lock', 'For', 'composed', \"man's\", \"play'd\", 'probation.', 'advancement', 'royally:', 'wrap', 'harlot', 'father.', 'leaping', 'remains,', 'tend;', 'purged', 'tyrannous', 'No.', 'sinews,', 'Time', 'you?', 'stand.', 'model', 'unhappily.', 'mad.', 'challenger', 'trial,', 'mortal', 'scandal', 'garden,', \"Hamlet.'\", 'dragging', 'tear', 'minds', 'grossly,', 'commerce', 'fortified', 'Holds', 'gather,', 'tumbled', 'me:', 'loins,', 'foils.', 'us!', 'die:', 'world', 'raves,', 'merry,', 'flowers', 'thirties', 'firmament,', 'work.', 'union', 'assured,', 'songs,', 'negligence,', 'friend!', \"adjoin'd;\", 'Polack:', 'sober,', 'fish', 'every', 'chamber-door;', 'actively', 'rests?', 'looks', 'thunder.', 'hearer:', 'frame,', 'lovingly;', 'Danish.', 'ear,', 'Exeunt,', \"be:'\", \"lack'd\", 'begins', 'brevity', 'space,', 'packet,', 'Hunts', 'Madness', \"undiscover'd\", 'angel', 'head;', 'drowns', 'bung-hole?', 'bedded', \"is't;\", 'sergeant,', 'berattle', \"Where's\", 'Compounded', 'funeral', 'courses', 'Wherefore', 'ready,', \"name's\", 'conveyance', 'lady?', 'towering', 'hard;', 'right;', 'Fordo', 'circumstance?', 'loose!', 'panders', 'March', 'safely,', 'further?', 'blood:', 'red?', 'richer', 'ambassador', 'decayer', 'graces;', 'mightiest', 'fool;', 'majesty,', 'Dared', 'least,', 'feats,', 'up,', 'punish', 'eye;', 'lament;', 'arms.', 'Be', 'afar', 'Adieu.', 'pardon', 'smooth', 'gender', 'yesternight.', 'can:', 'light.', 'ingenious', 'again;', 'Indeed?', 'is!', 'pirate', 'welcome:', \"she's\", 'none;', \"'faith\", 'plurisy,', 'doing', 'trippingly', 'solidity', 'hoops', 'Speak', \"do't,\", 'attent', 'working,', 'chiefest', 'thoroughly', 'nature:', 'stone.', 'always', 'cutpurse', 'sanctuarize;', 'bonnet', 'companies', 'Winner', 'amen!', \"consider'd\", 'wholesome', \"if't\", 'goose-quills', 'flourish.', 'plunge', 'court,', 'paintings', 'FORTINBRAS,', 'dipping', 'Come.', 'breath;', 'beer-barrel?', 'cups;', 'breach', 'us;', 'amities,', 'fair?', 'goes,--mark', 'sleeps:', 'evil', 'dignity', 'razed', \"'ild\", 'loving', 'event,', 'appear', 'him--', 'cue', 'widow,', 'immediate', 'love?', 'custom,', 'mightier:', 'grief;', 'charge', 'Millions', 'impotence', 'lunacies.', 'this:', 'marriage-vows', 'falconers,', 'thorns', 'complexion', 'laid,', 'time,', 'shape;', 'carefully', \"'the\", 'Hamlets', \"call'd.\", \"'As'es\", 'dearest', 'raven', 'villain,', 'forgetting', 'staff,', 'awhile,', \"flatter'd?\", 'sorrow:', 'pipe', 'faction', 'Possess', \"Hamlet's\", \"wish'd.\", 'Love!', 'book', 'forms,', 'Witness', 'ha!', 'hitherto', 'foe', 'flesh', 'heart,', 'town-crier', 'thoughts.', 'Black', 'making', 'palpable', 'Last,', 'With,', 'bated,', 'nine', 'lain', 'queen?', \"'We\", 'periwig-pated', 'Come', 'smoothness.', 'opinion,', 'sea,', 'Farewell!', \"punish'd\", 'loam;', 'rather', 'flowers:', 'unseen.', 'a-work;', 'lord,--', 'reasons;', 'May!', 'GUILDENSTERN', 'gallant', 'Nemean', 'Wouldst', 'sir,', 'hang', 'Danes', 'most', 'state!', 'am,', 'Hillo,', \"'twere,\", 'ever:', 'yours,', 'objects', 'bar', 'that--', 'treacherous,', 'diseases', 'torrent,', 'dalliance', \"well.'\", 'Laertes,', 'spheres,', 'translate:', 'hams:', 'hit.', 'worth!', '[Beneath]', 'equal', 'villain!', 'brother.', 'pronounce.', 'reserve', 'Swear', \"There's\", 'words?', 'fain', 'Else', 'No!', 'powerfully', 'sheep', 'religion', 'Virtue', 'flood,', 'roughly.', 'way.', 'sworn.', 'savoury,', \"dragg'd\", 'God.', 'opposing', \"tennis:'\", 'counsel', 'Hecuba', 'star', 'abominably.', 'live.', 'kin,', 'limbs', 'edge,', 'stockings', 'sickness,', 'turf,', 'extravagant', 'taints', 'anticipation', \"POLONIUS'\", 'glean,', 'dull', 'Priam', \"ha't\", 'faithful', 'blasts', \"perform'd\", 'lash', 'help,', 'known.', 'body.', 'kingly', 'thou--', 'straws;', 'wedding.', 'month--', 'feed,', 'liberty,', 'newborn', 'inventorially', 'soul!', 'voyage,', 'men.', \"stay'd\", 'indeed.', 'therefore', 'thoughts;', \"'Now\", 'well?', 'hither', 'form', 'nay', 'wherein', 'prayers,', 'I:', 'sum.', 'Grating', 'cliff', 'meditation', 'Lady,', 'remembrance;', 'grief,', 'violets', \"to't\", 'blown', \"a'\", 'foresaid', 'grand', 'speedy', 'force,', 'skull,', 'gentlemen.', 'joy,--', \"Drown'd!\", 'study', 'fond', \"we'll\", 'feet', 'travel', 'hear,', 'commission,', 'ambitious,', 'friend;', 'down-gyved', 'know;', 'words:', 'Norway', 'farewell,', 'dew', 'so!--you', 'aboard;', 'sword.', 'project', 'horseback:', 'blush?', 'heir', 'fat,', 'valiant', 'comes.', 'ah,', 'seal,', 'eyes:', 'turns', 'constantly.', 'nothing;', 'thine:', \"nothing's\", 'sovereignty', 'faith;', 'brain,', 'easy;', 'Thought', 'dumb,', \"unanel'd,\", 'brothel,', 'hit;', 'shoulder]', 'address', 'unskilful', 'faith,', 'whereto', 'ass,--', 'holds,', 'devil,', 'fennel', 'incestuous,', 'hap', 'corses', 'shoes', 'sewing', 'nonce,', 'Well', 'memory', 'commencement', 'unlimited:', 'Mine', 'Buys', 'France;', 'moods,', 'pale.', 'marshal', 'goes,', 'Gonzago', 'II', 'antique', 'outward,', 'audience.', 'dear', 'wondrous', \"slave's\", 'sleeps', 'endeavour', 'destroy!', 'props', 'fantasy', 'summons.', 'monster,', 'gentleman', 'rack', 'Ophelia:', 'kites', 'Nero', 'hardy', 'beards,', 'sphere,', 'springs', 'built', 'necessary', 'estimation', 'do,', 'Things', 'river', 'marry;', 'rosemary,', 'beseech', 'knight', 'fighting', 'work:', 'close;', 'Flourish', 'innovation.', 'digested', 'strong.', 'bell', 'pox,', 'snatches', 'dole,--', 'arithmetic', 'button.', 'others', 'err,', 'help!', 'teach', \"'Forgive\", 'bodes', 'state--', 'stricken', 'fits', 'offence?', 'Costly', 'confound', 'morn', 'majestical', 'foreknowing', 'couched', \"'\", \"'Laertes\", 'blest', 'afeard', \"'seems.'\", 'arrant', 'heraldry', 'total', 'whom', 'bare', 'effect,', 'Could', 'thine;', 'document', 'groans:', 'still,', 'precious', 'monarchs', 'bodies:', 'Bernardo?', 'ostentation--', 'returneth', 'thick,', 'incensed', 'clemency,', 'base,', 'buffets', 'eat,', 'bespeak:', 'speak,', 'mortised', 'pale:', 'feed', 'throat', 'invite', 'Unbated', 'dearly', 'night:', 'philosophy', 'revenue', 'hawk', 'orchard,', 'home!', 'skill,', 'crew.', 'Nay', 'Yaughan:', 'officers.', \"Cain's\", 'rash,', 'Might', 'fellowship', 'speedier,', 'lecture', 'will!', 'none:', \"offender's\", 'Hyrcanian', 'goodness', 'lives', 'valenced', 'Given', 'martial', 'Tropically.', 'lost;', 'pace', 'working', 'question,', 'rage', \"country's\", 'stiff', 'impatient,', 'Methinks', 'brow,', 'MARCELLUS,', 'marvellous', 'Hecuba,', 'GUILDENSTERN]', 'Deliberate', 'music:', \"scann'd:\", 'hent:', 'stoup', 'die', 'weight,', 'cherub', 'overcome', 'dead!', 'What?', 'demonstrated', 'unshaped', 'likely,', 'expostulate', 'wits,', 'parchment', 'doubtful;', 'Jove', 'more!', 'ape,', 'still.', 'calumny.', 'with:', 'CORNELIUS,', 'leave', 'Hamlet,', 'voice;', 'heart', 'became', 'Bestow', 'betoken', 'work', \"here's\", \"Is't\", 'wonder,', 'contrive', 'rouse;', 'Angels', 'instantly', 'demand', 'Look,', 'prey', 'Walks', 'choler.', 'rate', 'mind.', 'lightest', 'eyelids', 'lunacy?', 'chase.', 'outbreak', 'supply', 'true.', 'damn', 'against,', 'fee.', 'bones,', 'importunate,', 'slander', 'Mine,', 'colour:', 'form,', 'sight.', 'conqueror:', \"soldiers'\", 'withered', 'tetter', 'dispatch,', 'candied', 'Grapple', 'conceive.', 'departed', 'bend', 'tune', 'Fortinbras,', 'roots', 'dead.', 'cunning', 'ore', 'malefactions;', 'minutes', 'judge,', 'in--he', 'Indeed', 'offences', 'Strengthen', 'puppets', 'promontory,', 'dotes', 'evil?', 'arrows,', 'down!', 'observation', 'since', 'delivered', 'seek', 'companions', 'Jephthah?', 'worlds', 'blood', \"king!'\", 'neutral', 'service:', 'art,', 'formal', 'enemy.', 'liberty', 'wed;', 'rate,', \"rain'd\", 'pleasures', 'hearing,', 'lesson', 'England,', 'Without', 'peace-parted', 'tempest,', 'distilment;', 'sweaty', 'shown', \"Drown'd,\", 'five,', 'odds.', 'whispers,', 'preceding', 'prison.', 'violent', 'sun,', 'side.', 'danger', 'slay', 'Murder!', 'wears', 'speaks,', 'two:', 'Horatio,--', 'Not', 'miraculous', 'down:', 'Stay!', 'eight', 'maids', 'Rashly,', 'ourselves,', 'providence', 'follows,', \"'Thine\", 'adders', 'stuff,', 'impasted', 'hasten', 'stalks', 'mutines', 'play,', 'array', 'cursed', 'visitation', 'forgeries', 'burn', 'wince,', 'aught.', 'If,', 'rites', 'late.', 'Looks', 'provoke', 'willow', 'hideous', 'expectancy', 'mountains,', 'thyself:', 'yea,', 'across?', 'that:', 'synod', \"on't,\", 'prating', 'Takes', 'What,', 'I!', \"'Gainst\", 'moor?', 'magic', 'delver,--', 'soldiers,', 'wood', 'ACT', 'Sith', 'Wittenberg,', 'again!', \"heart's\", 'Use', 'points', 'winter', 'resemble', 'Sings', \"'High\", 'guard,', 'valour,', 'mock', 'merit', 'years.', 'persons', 'mouth', 'writers', \"poison'd:\", 'limbs,', 'carriages,', 'beggar.', 'this--he', 'ground', 'disappointed,', 'possible?', 'Sundays:', 'daughter--have', 'gulf,', 'Devised', 'Greeks;', 'gratis;', 'From', 'all.', 'occasion', 'Folded', \"'One\", 'supposal', 'wringing', 'VOLTIMAND,', 'followed?', 'soever', 'brothers', 'addition,', 'pronounced', 'declining', 'adieu!', \"pin's\", 'speak!', 'imponed,', 'persuade', 'flash', 'Seem', 'Bernardo', 'behold!', 'unmask', 'fruit', 'frame', 'devil', 'regard,', 'Puts', 'edge', 'shrill-sounding', 'conception', 'gules;', 'blame.', 'advantage,', 'slings', 'constant', 'sole', 'nonny;', 'volley.', 'dread', 'cheek;', \"know'st\", 'excellence;', 'entreaty,', 'orb', 'weakest', 'trains,', 'spoken,', 'scandal.', 'tickled', 'uncle', 'disclosed,', 'sequel', 'ring.', 'inoculate', 'father;', 'aboard,', 'soft!', 'falsehood', 'Remember', 'purpose', 'deceived.', 'angel!', 'strumpet,', 'Cry', 'ghost,', 'indeed,', 'audience', 'die,', 'cat', 'gather', 'tedious', 'bodies', 'suiting', 'Then,', 'crimes', 'air.', 'about:', 'hearers?', 'likewise', 'sorry,', 'name.', 'to-morrow', \"on't!\", 'inter', 'weaker', 'smells', 'fret', \"'Well,\", 'interim', 'being', 'pipe?', 'played', 'disease,', 'Plucks', 'Lord', 'warrantise:', 'tithe', 'land.', 'thence', 'accidents;', 'grace,', 'affliction', \"oppress'd\", 'masters;', 'continual', 'to-night!', 'God!', 'Wherein', 'halfpenny.', 'puts', 'twelve.', \"deck'd,\", 'grizzled--no?', 'Fortune!', 'unweeded', 'short', 'his:', 'powers,', 'Finding', 'force', 'distracted;', 'thrift', 'First,', 'Art', 'comedy,', 'corrupted', 'see,', 'duty.', 'colour', 'us--thou', 'heart.', 'table!', 'demi-natured', 'sterile', 'shent,', 'salvation', 'mines,', 'devil:', 'pester', 'we.', '[Behind]', 'willingly', 'Devoutly', 'censure,', \"scratch'd\", 'bread;', 'friending', 'distraction', 'work,', 'Forward,', 'surely,', 'husband.', 'cellarage--', 'come:', 'pity;', 'lament', 'Doubt', 'company,', 'gifts', 'out-herods', 'exterior', 'table-book,', 'cap-a-pe,', 'Until', 'rank', 'quantity', 'defence', 'complexion.', 'other;', 'imputation', 'mountains', 'year,', 'thereon,', 'Fortinbras.', 'Unhand', 'wag', 'now?', \"o'er-sized\", 'Hautboys', 'seas', 'stage', 'Sprung', 'jade', 'hill;', 'nature', 'myself;', 'hands:', 'arrests', 'letters;', \"'havior\", 'upshot,', 'word:', 'death-bed:', 'Singeing', \"offendendo;'\", 'faculty!', 'drink.', 'blank', 'thine', 'stream;', 'nods,', 'mellow', 'Worse', 'indeed', 'base', 'ever', 'be.', 'Throws', 'love--', 'Servant', 'Excellent,', 'proper', 'deeds', 'defence?', \"let's\", 'ratifiers', 'Yours,', 'steel;', 'meeting', 'weeds', 'paid', 'water-fly?', 'extolment,', 'Laertes.', 'guard?', 'was?', 'natural,', 'wick', 'grave,', \"poison'd.\", \"sleeper's\", \"design'd,\", 'truly;', 'sir!', 'mad:', 'cunning.', 'Stabs', 'craven', 'gates', 'king!', 'heart;', 'practises', 'pressure.', 'gentlemen!', 'feathers--', 'jointress', 'answer;', 'fear-surprised', \"proclaim'd\", 'climatures', 'doth', 'dignity:', \"conjoin'd,\", 'woodcocks.', 'done?', \"fix'd\", 'Put', 'earth.', 'sail.', 'grave?', 'piteous', 'Hyperion', 'mine!', 'grow', 'philosophy.', 'ratified', 'proof', 'too;', 'offer,', 'not:', 'mermaid-like,', 'you.--If', 'politic', 'enemies.', 'rood,', 'Part', 'Occasion', 'fellow', 'wrist', 'yourselves', 'power;', 'growing', 'Up,', 'Weigh', 'pastoral,', 'truant', 'tongues', 'leave:', 'first,', 'rogue!', '[To', 'died,', 'bosom', 'clapped', 'Pleasant', 'Assume', \"e'er\", 'shape', 'wanton', 'pardon.', 'away!', 'much,', 'inheritance', 'Becomes', 'moiety', 'hit', 'numbers', 'accident.', 'lightness,', 'already', 'Damon', 'wilfully', 'spread', 'worms', 'courtier,', 'chapless,', 'Striking', 'trifling', 'creatures', 'this?', 'impetuous', 'revenged,', 'sir?', 'scarce', 'Dangerous', 'fair,', 'distemper', 'many.', \"seal'd:\", 'spake,', 'Full', \"she'll\", 'As', 'Now,', 'Never', \"return'd,\", 'dreamt', 'Dies', 'process;', 'priest,', 'Danskers', 'passion.', \"such-a-one's\", 'not,', 'witchcraft', 'drives;', 'friends;', 'northerly.', 'Go,', 'list!', 'Revenge', 'ambition,', 'caviare', 'private', 'else?', 'struck?', 'needful', \"wann'd,\", 'sigh,', 'asking?', 'Bring', 'obligation', 'purposes', 'year:', 'riotous', \"grave's\", 'Pluck', 'wards', 'ill-breeding', 'churlish', 'Remorseless,', 'full,', 'Sleeping', 'advice;', 'husbandry.', 'ear.', 'sworn', 'level', 'flourish', 'Gonzago:', 'Hamlet--', 'matters', 'semblable', 'joyfully', 'friends:', 'horrid', 'Calmly,', 'world;', \"mildew'd\", 'songs?', 'city.', 'noblest', 'ope', 'emperor', 'Norman', \"beseech'd\", 'smelling', 'possible', 'minds.', 'beauties', \"fortune's\", 'Treachery!', 'seen,', 'bulk,', 'distilled', 'incestuous', 'herein;', 'surrender', 'Question', 'maiden', 'suit', 'III', 'trade', 'bawdry,', 'muddy-mettled', 'both,', 'unwrung.', 'Alack,', 'disposition,', \"in's\", 'Denmark:', 'dulls', 'powers', 'Dead.', 'profit', 'ourselves', 'consummation', \"fellow's\", 'unless', 'child.', 'remove:', 'breed', 'is,', 'single', 'sure', 'hence', 'comfort', 'purse,', 'Whose', 'calves', \"saw't.\", 'Play', 'bear', 'well:', 'lived,', 'sin,', 'boughs', 'birth', 'tricks,', 'lord!', 'perusal', 'news.', 'kissing', 'tongue,', 'Resembles', 'proceed', 'palmy', 'John-a-dreams,', \"swear't.\", 'lacks', 'himself.', 'say;', 'desire', 'affection', 'celebrated,', 'croaking', 'life;', 'fertile:', 'both?', 'horrors,--he', 'plentiful', 'mother:', 'thee,', \"law's\", 'madam.', 'queen:', 'phrase', 'commission', 'ordinant.', \"express'd\", 'Came', 'chide,', 'pours', 'heartily.', 'faces,', 'herself;', 'discretion', 'spurns', 'Perpend.', 'sadness,', 'shrouding', 'tutor:', 'GUILDENSTERN,', 'truepenny?', 'post.', 'confine', 'cause', 'lenten', 'clothes,', 'arms?', 'flagon', 'Hey', 'amiss.', 'assured', 'malicious', 'worn.', 'cries', 'picture,', 'thought-sick', 'according', 'storm,', 'course', 'CLAUDIUS]', 'harsh;', 'aslant', 'shuffled', 'Absent', \"honour'd\", 'prate', 'seasons', 'freely;', 'children', 'excellent', 'admittance', 'dally;', 'idol,', \"'gainst\", 'transformation;', 'porpentine:', 'vacancy', 'bells', 'believe,', 'feature', 'almost', 'none', 'Might,', 'trouble', 'commended', 'Sit', 'desert,', 'Have', 'song?', 'cause,', 'unworthy', 'past.', 'third,', 'army', 'Nature', 'streets:', 'platform.', 'mayst', 'disclaiming', 'Fortinbras:', 'thither.', 'wildness:', 'fear?', 'maid', 'Gives', 'likes', 'backward.', 'doubtful', 'month:', 'already,', 'straight.', 'thorny', 'thy', 'salt', 'million;', 'know,', 'note', 'threats', 'wagered', 'bosom:', 'grave.', 'roses', 'mine;', 'would;', 'fishmonger:', 'mattering', 'near', 'son?', 'carp', 'jot', 'spade:', 'packing:', \"consequence,'\", \"'closes\", 'Faith,', 'desires.', 'borrower', 'profit,', 'top.', 'modesty,', 'see?', 'sounded,', 'along.', 'Holla!', 'chopine.', 'state;', 'vailed', 'labour:', 'govern', 'farewell!', 'index?', 'Reads', 'virgin', 'hollow', \"touch'd,\", 'Whereon', 'patient', 'doomsday', 'drinking,', 'nunnery.', 'perhaps', 'art.', 'Save', 'whore,', 'offends', 'babe!', 'sword', 'ear', 'declension,', 'within', 'fierce', 'swaddling-clouts.', 'squeezing', 'solid', 'suppress', 'rawer', 'counter,', 'trick;', 'orisons', 'wing--', 'purport', 'shortens', 'knees;', 'Saw?', 'employ', 'hey-day', 'yond', 'thunder', 'Meantime', 'vouchers,', 'barren', 'winks,', 'relieved', 'crawling', 'tomb', 'grown', 'proud,', 'more;', 'strange!', 'yesterday,', 'Guildenstern.', 'bound,', 'Olympus.', 'pestilence', 'hear.', 'slain,', 'how.', 'vantage.', \"'In\", 'pray', 'beast,', 'love.', 'humble,', 'strike,', 'next,', 'One.', 'Treason!', 'monstrous', 'sconce', 'sweet:', 'moved,', 'Visit', 'thee?', 'now!', 'rags,', 'prince,', 'wonted', 'cannon', 'Unto', 'advanced', 'to-night', 'none,', \"'Adieu,\", 'land,', 'Mass,', 'work?', 'Gertrude,', 'laboursome', 'entreated', 'transform', 'verity', 'gallows', 'condolement', 'kind.', 'knee', 'Rough-hew', \"quarter'd,\", 'creation', 'what,', 'life?', 'speech,', 'voyage;', 'arrived', 'given', 'further', 'Exeunt', 'Subscribed', 'honesty?', \"Let's\", 'mote', 'inclining?', 'dye', 'late:', 'succession', 'broke.', 'prevent,', 'audience,', 'About,', 'lord?', 'queen!', 'sorrow,', 'forest', 'liquor.', 'paragon', 'bisson', 'villain', 'body,', 'party', 'bait', 'parching', 'drunk', 'vengeance', 'year', 'reels;', 'Groped', 'heroes', 'petition,', 'hatch', 'bubbles', 'else--be', 'spent.', 'abstract', 'blown,', 'impart', 'please;', 'give,', 'sleep?', 'kin.', 'rights', 'mettle', 'Laertes--', 'overdone', 'Almost', 'region', 'ends', 'Thoughts', 'Haply', 'after.', 'chapel.', '[Rising]', 'spacious', 'massy', 'sister', 'curb', 'heavy,', 'forehead', 'grave-making?', \"'Sblood,\", 'England', 'potency.', 'art', \"'Faith,\", 'defeats', 'here!', 'respects', 'records,', 'ulcerous', 'Blasted', 'adheres.', 'mirror', 'effects', 'honeying', 'moon:', 'handsaw.', 'returns,', 'Welcome,', 'Hold', 'tunes;', 'groaning', 'have,', 'spectators', 'IV.', 'unpolluted', \"do't\", 'wrinkled,', 'blunted', 'Elsinore.', 'world.', 'England?', 'humanity', 'afflict', 'cannon,', 'captains', 'HAMLET;', 'further,', 'despite', 'musty.', 'wooes', 'burnt', 'heat', 'forget:', 'sirs,', 'Conjures', 'Take', 'sides.', 'sanity', 'But,', 'fat', 'botch', 'potion.', \"encounter'd.\", 'glimpses', 'Repent', 'deserve,', 'anon;', 'nomination', 'sheet:', \"in't\", 'move', 'says;', 'office', 'once', 'softly', 'unfold', 'issue', 'survivor', 'said;', 'music!', 'key', 'proud', \"turn'd\", 'calls', 'shelf', 'bringing', 'bitter,', 'falls', 'mockery.', 'numbers;', 'wide;', 'of.', 'dreaded', 'never,', 'Been', 'No;', 'distracted', 'rugged', 'virtue;', \"in't.\", 'does', 'passes', 'revenged', 'plucks', 'courtiers:', 'foil', 'argal,', 'GERTRUDE,', 'days.', 'villain?', 'absurd', 'plague,', 'obstinate', 'thereabout', 'Captain,', 'HORATIO,', 'shell', 'hinges', 'fight', 'Wretched', 'command:', \"Adam's\", 'reason,', 'discovery,', 'hand?', 'perfume', 'Are', 'unmannerly.', 'PRINCE', 'indeed;', \"shadow's\", 'common.', 'gross', \"sexton's\", 'bilboes.', 'are,', \"Fall'n\", 'Friends', 'express', 'sting', 'ago,', 'replication', 'angels!', 'Dane:', \"speak,'\", 'follow.', 'eyes?', 'An', 'imagination', 'protestation', 'Thus', 'moan:', 'ha?', 'falling', 'otherwise?--', 'face?', 'tyrant,', 'Nothing,', 'Examples', 'close', 'confines,', 'presence;', \"Arm'd,\", 'bow', 'Of', 'russet', 'persever', 'canker', 'Know', 'bellowed', 'Imperious', 'brings', 'film', 'forged', 'daughter', 'This,', 'Has', 'majesty;', 'arms,', 'Sweets', \"venom'd\", 'slain?', 'mouse;', 'gaudy;', 'stands', 'depart.', 'on.', \"kill'd\", 'commanded.', 'libertine,', 'touch', 'daughter?', 'go;', \"'The\", 'Priam.', 'have.', 'apprehension,', 'black,', 'reads:', 'importunity.', 'ROSENCRANTZ,', 'unforced', 'occasions', 'awry,', 'wisdom', \"think'st\", 'joy', 'diet:', 'Sweet,', \"dupp'd\", 'toy', 'midnight', 'long.', 'brook,', 'passionate', 'stood,', 'welcome.', 'war;', 'indifferent', 'year.', \"maid's\", 'exercises;', 'wrong;', 'behavior.', 'tis', 'no?', 'shoulder', 'acted;', 'fingers,', 'pitiful', 'awhile;', 'hits', 'guilt,', 'terms,', 'otherwise:', 'chanson', 'cannot', 'wits', 'purposes.', 'wholesome;', \"men's\", 'more:', 'insinuation', \"seeks.'\", 'device,', 'forcing', 'beck', 'multitude,', 'quillets,', 'forfeit,', 'levies,', \"gave't\", 'daughter:', 'southerly', 'pound.', 'celestial', 'blasted,', 'rashness', 'beauty', 'desires', 'contumely,', 'heaven!', 'glad', 'friendship,', 'do:', 'verse', 'this!', 'abridgement', 'food,', 'else.', 'teeth,', 'garland', 'load', \"Denmark's\", 'steps,', 'feast', 'tell.', 'mirth,', 'feelingly', 'snow,', \"vanish'd\", 'german', 'claim', 'espials,', 'away:', 'weep', 'Feeds', 'Ha!', 'retirement', 'fortunes', 'others.', 'slave', 'soldier:', \"'twere\", 'tragical-', 'Norway?', 'damnation.', 'journeys', 'heavens!', 'no;', 'denied', 'ah', 'slow', 'Ay', 'tables.', 'VOLTIMAND', 'dog', 'green', 'join', 'tempt', 'native', 'hangers', 'exchange,', 'undergo--', 'rat,', 'exhort', 'gaming,', 'bulwark', 'maggots', 'unvalued', 'long?', \"soul's\", 'for;', 'Sits', 'lesser', 'Dane.', 'line:', 'begun,', 'canopy,', 'peruse', 'eterne', 'pall:', 'prove,', 'abused:', 'inch', 'dirt?', 'bed-rid,', 'broke;', 'siege.', 'known;', 'infusion', 'Denmark', 'hence:', 'accord', 'danger.', 'competent', 'skull', 'Scripture?', 'of?', 'speech', 'occasion.', 'errors,', 'fight?', \"what's\", 'Pale', 'Messenger', 'shouldst', \"donn'd\", 'shove', 'bellow', \"O'er\", 'encounter', 'tristful', 'ability', 'grunt', 'origin--', 'repent:', 'revolution,', \"stain'd,\", 'forgiveness', 'hear:', \"house's\", 'thee.--Something', 'Drink', 'world!', 'honest?', 'nothing:', 'Re-enter', \"o'erhasty\", 'My', \"We'll\", 'daisy:', 'Hum!', 'own;', 'Hercules', 'Sir?', 'leave?', \"'em?\", 'have?'}\n",
            "The words that are in monkey and not in hamlet are: {'quietly.', 'wintry', 'threw', 'Arabian', 'gazing', '\"I\\'m', 'you?\"', '\"would', 'burn,\"', 'upstairs.', 'although', 'though;', 'unnecessary', 'landing,', 'liability', 'drew', 'sympathy', 'suppose', 'appeared', 'frantically', '\"What\\'s', 'Produced', 'henpecked.\"', 'wet,', 'are,\"', 'separate', 'reverberated', 'slower-witted', 'curiously.', 'footsteps', '\"We', '\"Thank', 'happen', 'unspeakable', 'listening', 'possessed', 'White.', 'anxiously.', 'dirty,', '\"To', 'it?\"', 'pursued', 'expect,', 'gate', 'compensation.\"', 'paw.', 'provoked', 'ill-gotten', 'tumblers', 'shiver', 'money,\"', 'deeds;', '\"Monkey\\'s', 'what?\"', 'wish--Oh,', 'circle', 'hurriedly', 'Herbert;', 'Father', 'grasped', 'walls,', 'mysterious', 'latter,', 'replied', 'looking', \"Meggins'\", 'whitened.', \"tailor's\", 'oppressive,', 'shadows', 'started.', 'catching', 'loss,\"', 'crept', 'snatched', 'fakir,\"', 'beer;', 'nonsense!', \"it'll\", 'patiently', 'nearly', 'wildly.', 'cry,', 'garden.', 'know.\"', 'box', 'walked', 'sergeant-major,', 'inaudible;', '\"Two', 'outside,', 'haste,', 'courting-days', 'did,\"', 'movements', 'glancing', 'beneath', 'shriek,', 'sky,\"', '\"Good', 'Widger', 'disclaim', 'weariness.', 'consideration', 'hearing.\"', 'grin', 'brightness', \"won't\", 'at,\"', '\"that', 'slushy,', '\"Leastways', 'condoled', 'lasted', 'wiped', 'unspoken', 'referring', 'fourth', 'coat', 'happens.', 'eyed', 'nursed?\"', '\"We\\'ve', 'is,\"', 'shook.', 'worst', 'wardrobe', 'downstairs.', 'echoes', 'Herbert!\"', 'hurried', 'consequences.\"', 'stair', 'talisman,', 'swiftly', 'dropped', 'replied,', 'trifle,\"', 'suspended', 'back,', 'socket.', 'passed,', 'road;', 'sensible.\"', 'betokened', 'credulity,', 'sightless', 'surveying', 'banging', 'bit', 'wholesomeness', 'preoccupied', 'laughed,', 'that!', 'teeth.', 'one.\"', 'have,\"', 'tightly.', 'David', 'clothing.', 'proffered', 'sergeant-majors', 'path.', 'shamefacedly', 'bawled', 'courage,', 'stumbling', 'contentedly', 'quaking', 'politely.', 'them?\"', 'trembling.', 'wishes,', 'rat.', 'bibulous', 'leaned', 'fumbling', 'disgust', '\"I--was', 'panted;', 'expectant,', 'paw.\"', 'want.\"', 'big', 'offhandedly.', 'suppose,\"', '\"yes.\"', 'sincere', 'cotton', 'began', 'colder', 'remarks,', \"postman's\", 'warehouse.', 'eyeing', 'Yes,\"', 'sighing', 'just----', 'matter?\"', 'Sometimes', 'repeated.', 'unusual', 'darkness,', '\"Might', 'hopeless', '--something', \"soldier's\", 'stairs.\"', 'load,', 'permit,', 'excitement.', 'china', 'you.\"', 'sorrow.', 'enter.', 'followed', 'knock,', 'recognize', 'knocks', 'suddenly,', '\"Nothing,\"', 'shock', 'marred', 'sweat,', 'street', 'Herbert.', 'laughed', 'hysterically.', 'window.', 'fakirs', 'streamed', 'appealingly', 'ceased', 'moved,\"', '\"Sergeant-Major', '\"a', 'good-night,', 'Wish', '\"Don\\'t', 'PAW,', 'starting', 'over,', '\"You\\'ve', 'Thank--\"', 'game', '\"It', '\"it\\'s', 'bending', 'groping', 'in,\"', 'bracket,\"', 'ceiling', 'panting.', 'greeted', 'fitfully,', 'afterward.\"', '\"Sit', 'aghast.', 'piano', 'granted?\"', 'apathetically', 'Outside,', 'three,', 'persisted', '\"If', 'flicker', 'cushion', 'paw!\"', \"he'd\", 'aloud,\"', 'enough?\"', 'chairs,', 'chair', 'horror.', 'sorry--\"', 'again.\"', 'rubicund', '\"Likely,\"', 'perhaps,\"', 'dangling', 'regarding', 'chords.', 'expense', 'credulity.', 'other.', 'wished', '\"I\\'d', 'us,\"', 'me?\"', 'groped', 'horror', 'dazed', 'bear.', 'funny', 'blinds', 'wished?\"', 'pulsating', 'broke', 'wishes.', '\"Get', 'tapped', 'sir;\"', \"we're\", 'conclusions.', 'candle-end,', 'spilled', 'noisily', 'whiskey', 'wall.', 'trying', 'quickly,', 'furtively,', 'darkness', 'much?\"', 'scurrying', 'impressive', '\"Why,', 'guest,', 'listening,\"', 'garment', 'Meggins.\\'\"', 'asked,', 'amiably', \"sha'nt\", 'floor', \"you'd\", 'usually', '\"Well,', 'lives,', 'closed', 'India', 'inquired', 'candle.', '\"That\\'s', 'repeated', 'pocket,', 'listened', 'peoples.', 'warm,', 'slip', 'breakfast', 'visage.', 'stranger,', 'hand;', 'buy.', '\"You', 'board.', 'minute', 'it,\"', \"can't\", 'happy.', '\"There,', 'out-of-the-way', 'undecided', 'avaricious', 'beside', 'quivering', 'wanted', '\"Mate,\"', 'faltered.', \"didn't\", 'road', 'trousers.', 'chair.', \"other's\", 'out,\"', 'paw', 'hoarsely.', 'dear,\"', 'week', 'parts,', 'stretched', 'alive', 'meaning', 'distant,', 'involving', 'Laburnam', 'eagerly.', 'nervously', 'lamp', '\"why', 'parlour,', 'bill.', 'sharply,', 'amazement.', 'alarm.', 'dawned', 'terrible', 'hurt?\"', \"you've\", 'frivolous', 'wistfully.', 'cold.\"', 'about.', 'returning', 'to.\"', 'somewhat.', 'days,', 'striking', 'coincidence,\"', 'away.\"', 'supper', 'creaked,', 'turning', 'opening', 'bed,\"', 'afresh.', 'previous', 'visitor', \"doesn't\", 'marvelling.', 'disappointment', '\"Is', 'until', 'hospitable', 'brighter,', 'beady', 'paw,', 'maligned', 'rim', 'subdued', 'shall.\"', 'Nights,\"', 'afterward', 'squatting', 'appearance', 'taking', 'darted', 'floor,', 'antimacassar.', 'bit,', 'prosaic', 'outside', 'quietly,', 'direction', '\"Morris', 'dubiously.', 'burned', 'sank', 'mummy.\"', '\"Never', '\"just', 'wrench', 'chess,', 'jarred', '\"For', 'lacked', 'mental', 'burly', 'stealthy', 'talk,', 'know,\"', 'paused', 'staircase,', 'father,\"', 'sergeant-major', 'absent-mindedly', 'interest', 'conscious', 'resignation--the', 'deserted', 'exchanged', 'filled', 'me.\"', 'road.', '\"The', 'sobs', 'dozed', 'assent.', \"'Maw\", 'bolt', 'squared', 'pretended', 'slowly.', 'watching', 'loudly.', '\"There', 'dinner.', 'feverishly;', 'demanded,', 'his.', 'motioned', 'seemed', 'uneasy', '\"Think', 'silent.', 'coughed', 'lying', '\"You\\'re', 'fusillade', 'peering', 'slightly.', 'soothingly.', 'obeying', 'chain', 'continued', 'grimly', 'Herbert?', 'blind.', 'wished,', 'unsteadily.', 'miscalled,', 'door,', 'glance', 'watched', '\"and', 'unfastening', 'sex', 'round.', 'selling', 'vivid', \"wife's\", 'listeners', 'forefinger', 'cleverly.', 'failure', 'tones', 'spoke,', 'group.', 'passed', 'bolt,\"', 'tones--\"a', 'miles', 'wishes,\"', 'besides', 'banged', 'fatal', 'hurt,\"', '\"How', 'shoulders', 'pain.\"', '\"And', 'pressed', '\"of', 'inquired.', 'clasping', 'shone', '\"No,\"', 'jugglers,\"', 'temples', 'voice.', 'slowly', 'sounded', 'responsibility,\"', 'examined', 'same.\"', 'tale;', 'knitting', 'audible,', 'dragged', 'let,', 'coat,', 'moved', 'visitor.', 'depressing', 'wish.', 'forgotten,', 'struggling.', 'to-night,\"', 'glossy', 'staring', \"road's\", '\"As', 'broach', 'spell', 'cash', 'India.', '\"wish', 'faintly,', 'triumphantly;', 'courage', 'shoulder.', 'Unconscious', 'matter.\"', 'questioned.', 'idea', \"don't\", 'strangely', 'were,', 'Pitch', 'brightly.', 'rising,', 'grimace,', 'rattle', 'flickering', 'ticking', 'wicked,\"', 'copper', 'youth.', 'anything', '\"Where?', 'trembling', 'back,\"', 'God!\"', 'expired.', '\"Come', 'closely.', 'former,', 'Three', 'fears.', 'listening.', 'boy;', 'fearfully.', 'awful', 'noticed', 'blankly', 'downstairs', 'fiercely.', 'call,\"', 'scenes', 'placidly', 'family', 'connection', 'hastily.', 'interfered', 'window', 'destroyed', '\"Twenty-one', 'happened', 'drawn', 'white-haired', 'sir?\"', 'snake.\"', 'emperor,', 'pounds,', 'passage', '\"get', 'bowed', 'hard.\"', 'presumptuous', 'reach', 'pounds', 'soldier', 'putting', 'clock.', 'days?', 'torrent.', 'husband,', '\"It\\'s', 'sergeant', 'flung', 'soothingly;', 'listened.', '\"Oh,', 'retired', 'him.\"', 'bottom', 'truthful', \"people's\", 'Morris?\"', 'heap,', 'won\\'t,\"', 'virtues.', 'regarded', 'granted', 'misery', '\"Do', 'dropped,', 'nodding', '\"Herbert', 'newness.', 'partly', 'slept', 'gate,', 'poised', '\"What', 'parlour', 'cleared', 'simian', 'tall,', 'caused', '\"Check.\"', '\"Let', 'distinctly.', 'reply;', 'start.', 'screamed.', 'keenly,', 'breathlessly.', 'resignation', 'wish,\"', 'useful', 'sake', 'attribute', 'beyond.', 'another;', 'arm.', 'sinister', 'waited', 'intercept', 'boy', '\"Go', 'for?\"', 'side,', 'beastly,', 'table,', 'carelessness', \"Pathway's\", \"MONKEY'S\", 'harm,\"', 'saying.\"', '\"Tut,', 'gazed', 'floor.', 'pocket', '\"Hold', 'fact,\"', '\"Fancy,', 'softly,', 'Morris,\"', 'white,', '\"we\\'ll', 'he--I', 'man.\"', 'rat,\"', 'second?\"', 'father?\"', 'candlestick,', '\"but', 'entered', 'screwing', 'unlooked-for', 'blotchy', 'Villa', 'doughty', 'chilled', 'colouring', 'orders.\"', 'magic,', 'mad!\"', 'remained', 'naturally,\"', \"wouldn't\", 'occasionally', 'coincidence.\"', 'until,', 'realize', 'myself,\"', 'felt', 'dried', 'ran', 'breathed', 'ever,', 'solemnly.', 'wars', 'averted', 'warn', 'silently', 'motionless,', 'sideboard', 'wind,\"', 'machinery,\"', 'Mrs.', 'stammered', 'apron,', 'introducing', 'tenderly.', 'doggedly.', 'mischief', \"monkey's\", 'preventing', 'bog,', 'condoling', 'opened.', 'awoke', 'coming.\"', 'mechanically.', '\"Why?\"', 'lighten', 'arrival', '\"They', 'matches,', 'lit', 'limbs.', 'pitched', 'arrival.', 'cheek.', '\"Why', 'stooped', 'rushed', 'shuddering', 'but--I', '\"Wish!\"', 'rapidly.', 'last.', 'passage.', 'that?\"', 'W.', 'telling', 'anybody', 'gruffly,', 'finished', 'do?\"', 'pairs', 'creaking', 'staring,', \"'ll\", 'smiled', 'mistake', '\"A', 'shaped', 'happy,', 'THE', 'tut!\"', 'twisted', 'gently', 'before?', 'Jacobs', '\"Did', 'steeped', 'resounded', 'room,', 'train,', 'wail', '\"Better', '\"I', '\"give', 'son,\"', 'across', 'adventures', 'granted,\"', '\"Was', 'holding', 'dressed,', 'pounds,\"', 'ideas', 'expect', 'bedclothes', 'expectation', 'talisman', 'laughter', 'matches', 'shrivelled', 'it.\"', 'placing', 'coughed,', 'silk', 'strained', 'services,', \"You've\", 'wept', 'say,\"', 'paw?\"', '\"He', 'Herbert,', 'changes,', '\"Bring', 'plagues', 'wink', 'apologized', 'Mr.', '\"When', 'really', 'same,\"', 'fled', 'scraping', 'own,', 'White,', 'rising', 'interposed.', 'mother,\"', 'search', 'apathy.', 'scurried', 'tied', 'harm', '\"Has', 'disown', 'perils', '\"Badly', 'together,', '\"Caught', 'something,', 'ordinary', 'boy!\"', 'instalment', '\"we', 'interrupted', 'Herbert', 'waking', 'confirmation', 'bag', '\"Hark', '\"Sounds', 'door.\"', 'pipes.', 'mutilated', 'squeaky', 'whispered', 'home,\"', 'mantelpiece.', 'gains.\"', 'glass,', 'cemetery,', 'radical', '\"perhaps', 'now?\"', 'pouring', 'worth', 'enthralled'}\n",
            "The different words are: {'roof', 'eyases,', 'wintry', 'threw', 'history,', 'loan', 'eastward', 'lord,', 'nature,', 'something-settled', 'conquest', '\"would', 'beautified', 'although', 'forth', 'nation,', 'perhaps,', 'brave', 'hath', 'allowance', '\"What\\'s', 'cousin', 'pause:', 'avoid', 'thus:', 'thee!', '\"We', 'miching', 'illume', 'been,', 'men,', 'coward,', 'great,', 'Holding', 'peace,', 'spirit!', 'waves', 'moving', 'ungracious', \"'not\", 'willing,', 'revenge!', 'satisfied', 'Tears', 'trappings', 'prolongs', 'Ophelia!', 'peak,', 'shoot.', \"damn'd\", 'seem,', 'trick', 'Divided', 'prologue,', 'latter,', 'within,', 'upon.', 'loss,\"', 'ripe', 'converse,', 'fakir,\"', 'beteem', 'effects:', 'I,', 'rhapsody', 'patiently', 'nearly', 'lo,', 'thrice', \"fiends!'\", \"Popp'd\", 'virtues', 'speaks', 'inaudible;', 'sergeant-major,', 'Priest', 'heart?', 'avoid,', 'impious', 'brains', 'toe', \"c.'\", 'sky,\"', 'England.', 'guards!', 'spite,', 'proposer', 'wretched,', 'hair,', 'paint', \"follow'd\", 'stamp', 'life-rendering', 'revenge', 'suspiration', 'sing?', 'brightness', 'harsh', 'unimproved', 'capital', 'praised', 'tongue?', 'foul,', 'outface', '\"Leastways', 'farm', 'man:', 'skin', 'condoled', 'thicker', 'unbated,', 'life.', 'exploit,', 'deep', 'happens.', \"unmaster'd\", \"revenge.'\", 'cast', 'cheer', 'lief', 'is,\"', 'Gentlemen,--', 'Cries', 'lights', 'Herbert!\"', 'sirrah?', 'dry--', \"'But\", 'griefs', 'appal', 'judgment:', 'requiem', 'currents', 'yield', 'mouths', 'scholars', 'When', 'occurrents,', 'replied,', 'bulk', 'thus,', 'such;', 'judgments', 'lights,', 'mystery;', 'tried,', \"so,'\", 'sledded', 'shreds', 'mew', 'memory,', 'satyr;', 'Buz,', 'insert', 'postscript', 'consequence,', 'quake', 'way,', 'breaking', 'place.', 'controversy:', 'throat;', 'inexplicable', 'digs', \"drown'd?\", 'honour,--', 'itself', 'lines.', 'vows:', 'forget', 'That,', 'gallows-maker;', 'snow?', 'have,\"', 'ready?', \"unwatch'd\", 'organ.', 'one?', 'Hear', 'dares', 'penetrable', 'rash', 'slain', 'favour,', 'deed;', 'cannot,', 'abhorred', 'jester.', 'waxes,', 'himself:', 'doubts', 'calf-skins', 'Behind', 'disgust', '\"I--was', 'expectant,', \"HAMLET's\", 'dews', 'winking,', 'Denmark?', 'afternoon,', 'history.', 'Laertes:', 'spirit', 'Rightly', 'quite,', 'harmony;', 'nephew', 'divinity', 'inky', 'greatly', 'time--as', 'crafty', '\"Might', \"yeoman's\", 'weedy', 'exercise', 'excitement.', 'bound', 'guts', \"'Choose\", 'weapon;', 'lord:', 'knock,', 'them.', 'recognize', 'actor.', 'illusion!', 'favours.', 'slightly,', 'grow:', 'she--', 'brothers.', 'hellish', 'knave.', \"Saviour's\", 'mallecho;', 'rant', \"king:'\", 'list,', 'English', 'end,--', 'imminent.', \"ta'en\", 'read', '\"a', 'means,', 'a-piece', 'ducat,', 'dig', 'thanks', 'scrimers', 'daggers,', 'enactures', 'core,', 'vows;', 'Would,', 'same.', 'shake', 'determine', 'word', 'over,', 'crew', 'ranker', 'quoted', \"thou'rt\", 'groping', 'dwelling', 'Youth', 'entrance', 'months', 'liege,', 'volume', 'lank', 'patiently.', 'day?', 'sallets', 'nothing!', '\"Sit', 'yaw', 'piano', 'thus', 'used', 'me;', 'Alas,', 'restore', 'solicited.', 'shoe?', 'shine:', 'cloud', 'grapple', 'stick', 'thee;', \"point!--envenom'd\", 'fearing', 'runs', \"he'd\", 'falling-off', 'straw', 'former', 'Before', 'vice', 'sponge,', 'howsoever', 'Pity', 'bodkin?', 'heart:', 'imagine--', \"'mobled\", 'up;', 'out;', 'gaffs', 'stir,', 'is.', 'expel', 'definement', 'say.', 'might,', 'congregation', 'Priam,', 'dangling', 'chords.', 'And,', 'other.', 'guiltless', 'bear.', 'author', 'drive', 'sequent', 'out.', 'tanner', 'maid,', 'contrary', 'excrements,', 'Upon', 'More', \"foul'd,\", 'blazes,', 'confined', 'Taint', 'creature', 'Carve', 'galls', 'weak', 'person,', 'Pyrrhus,', 'Gertrude:', \"but'\", 'rain', 'mincing', 'haste', 'gone?', \"return'd.\", '\"Why,', 'speechless', 'shocks', 'Meggins.\\'\"', 'asked,', 'crook', 'prithee,', 'mark.', 'affectation;', 'threaten', 'thanks?', 'tender,', \"'There\", 'presence', \"bark'd\", 'bleed', 'devil!', 'therein', 'tragical-historical,', 'Shards,', 'spirit:', 'inquired', 'Baked', 'cicatrice', 'painting', 'candle.', '\"That\\'s', 'deed!', 'rear', 'tatters,', 'anon', 'assume', 'buy,', 'cataplasm', 'hand;', 'there.', 'another:', 'feel', \"Worm's;\", 'souls.', 'bravery', 'toil?', 'marriage.', 'counsellor', 'sucked', 'story', 'Indeed,', 'avaricious', 'thoughts', 'woe', 'me!', 'distrust', \"unschool'd:\", 'eisel?', '\"Mate,\"', 'confess', 'shirt;', \"to't;\", 'straight', 'On', 'blanket,', 'paw', \"offer'd\", 'livery,', 'haunt,', 'desert.', 'dear,\"', 'arm', 'lost:', 'finding', 'parts,', 'stretched', \"'Swounds,\", 'resolutes,', 'compare', 'LORD', 'madness:', 'goodness,', 'procession;', 'potently', 'keeps', 'calf', 'bill.', 'altogether.', 'amazement.', 'hies', 'drink', 'westward', 'question', 'better', 'strew', 'earnest', 'question;', 'pray.', 'husbands.', 'about.', 'convocation', 'friend.', \"nature's\", 'Rosencrantz:', 'Exceedingly,', 'likeness:', 'cock', 'shame,', 'waits', 'heartily;', 'temperance', 'madam;', \"strew'd\", 'thee', 'jangled,', 'sorts', 'prodigal', 'function', 'green,', 'God-a-mercy.', 'barefaced', 'rareness,', 'previous', 'entreaty.', 'humbly', 'fitting', '\"Is', 'Prithee,', 'OPHELIA', \"'Tis\", 'brighter,', 'swear.', 'clay,', 'rim', 'court', 'quality;', 'considered:', 'Sailors,', 'Brutus', 'lived!', 'treason!', 'warrant', 'sin', 'showers.', 'awhile', 'carters.', 'presently.', 'wheaten', 'Exposing', 'wounded', 'sets', 'Infects', 'Such', \"Here's\", 'darted', 'folly', 'live;', 'Horatio!', 'MARCELLUS', 'flashes', 'madness.', 'them?', 'beaver', 'bloat', 'conceit?', 'dominions', 'draw', 'distemper?', 'employment', 'Alexander', 'marrow', 'chess,', \"women's\", 'pitied.', 'budge;', 'bad,', 'pace:', 'gibes', 'burly', 'drains', 'you--', 'unyoke.', 'knocked', 'placed,', 'Stop', \"o'er\", 'know,\"', 'access', 'remiss,', 'sliver', 'frost', 'exchanged', 'breathe,', 'touching', 'suppliance', 'windy', 'Why?', 'recoveries:', 'Words', 'licence,', 'virtue,', 'aid:', 'revengeful,', 'nonny,', 'slowly.', 'Mercury', \"do;'\", 'Vienna:', 'drink,', 'sulphurous', 'judge', 'grandsire', \"garrison'd.\", 'rare,', 'Fear', 'Speak;', 'affair', 'pride,', 'well.', 'matters?', 'OSRIC', 'addition;', 'Blasting', 'blind.', \"upon't,\", 'hoped', 'waving', 'glance', 'foolery;', 'Nay,', '\"and', 'dear,', 'sepulchre,', 'proved--that', 'complexion,', \"queen'\", 'lying:', 'throne;', 'hangers,', 'chorus,', 'dumb-show', 'enterprises', 'Letters,', 'peevish', 'certain.', 'pile', 'doublet', 'crowing', 'together:', 'fiction,', 'exit.', 'court?', 'gain', 'thing,', 'prison-house,', 'when,', 'goes', 'bout', 'occulted', 'wisely', 'must:', 'make--', 'safe', 'acting', 'palm', 'Normandy:--', \"fang'd,\", 'tongue:', 'wonderful', 'shipwright,', 'Israel,', 'dragged', 'Ears', 'non', 'let,', 'life:', 'free,', 'odds', \"beggar'd,\", 'whisper', 'Brief', 'times;', 'side', 'fall,', 'impotent', 'begun', 'draughts', 'daintier', 'unprofitable,', 'exclaim', 'ear:', \"road's\", 'brooch', 'removed', 'whet', 'faintly,', 'peculiar', '\"wish', 'lifted', 'promised', 'shoulder.', 'traduced', 'hobby-horse', 'sent', \"apoplex'd;\", 'dream:', 'made.', 'Nymph,', 'reasons', 'purging', 'countrymen.--', 'wisdom,', 'custom?', 'Hamlet,--', \"'gentleman.'\", 'youth.', 'Long', 'hear?', 'Very', 'fee,', 'asunder.', 'Three', 'post-haste', 'matter:', 'conscience!', 'morrow,', 'Unpeg', 'after,', 'hebenon', 'debate', 'rend', 'truly:', 'lap?', 'good,', 'owl', 'corruption', \"'t.\", 'journeymen', 'Thanks,', 'greenly,', 'lender', 'debatement', 'chap-fallen?', 'teeth', 'pray,', 'interfered', 'inhibition', 'devices', 'wonderful!', 'go:', 'halt', 'imminent', \"pardon't,\", 'different', 'Affront', 'salvation?', 'aptly', 'venom,', 'honest.', 'Cudgel', 'guard', 'casual', 'drift;', 'hearing', 'passage', 'parle,', 'spring,', 'pastoral-comical,', 'benefit', 'patch', 'handsome', 'soldier', \"look'd\", 'steep', 'cold.', 'days?', 'absurd:', 'dealt', 'pansies.', '\"It\\'s', 'historical-pastoral,', 'infected,', \"hallow'd\", 'Free', 'soothingly;', 'peace!', 'copied', 'him.\"', 'Rhenish', 'portentous', 'remain', 'bottom', \"people's\", 'obedience,', 'arms:', \"gods.'\", 'weigh', \"'To\", 'sanctified', 'spoken', 'asleep,', 'then.', 'scorn', 'king:', \"steep'd,\", 'brief,', 'poll:', 'joint-labourer', 'regarded', 'lines,', 'praises', 'sense:', 'crown', 'married.', 'sate', 'infants', 'delated', 'grieve', 'strikes', \"e'en\", 'recks', 'signify', 'funeral.', 'chalice', 'profession.', 'nose', 'caused', 'reply;', 'best', 'say,', 'overcame', 'flat', 'distrust,', 'theatre', 'Fortinbras', 'bank', 'Mad', 'nine;', \"soe'er\", 'thanks;', 'flights', 'fretful', '\"Hold', 'quarrel', \"'Thou\", 'sigh', 'pit', 'softly,', 'plot', 'Whips', 'amble,', \"thrall'd\", 'maimed', 'Make', 'angle', 'now;', 'plum-tree', 'tend,', 'screwing', 'stop', 'May', \"'While\", 'search.', 'pleasing', 'Horatio?', 'Soft!', \"for't.\", 'coming.', 'gain-giving,', 'here.', 'discourse?', 'true-love', 'consequence;', 'fawning.', 'residence,', 'triumph', 'closet,', 'mercy:', 'slain!', 'felt', 'wear', 'swore,', 'Rosencrantz', 'Poland.', 'prison', 'cautel', 'lack.', 'a-down', 'fly,', 'dreams', \"walk'd\", 'untimely', 'chief', 'sideboard', 'wind,\"', 'Prologue', 'brains.', 'beshrew', 'unfledged', 'left.', 'pooh!', 'imagination.', 'smiling,', 'mixture', 'welcome,', 'lo!', 'wax', 'sultry', 'Italian:', 'bog,', 'Must', 'say!', 'distract:', 'steel,', 'foils', 'was.', 'pat,', '\"They', 'requite', 'heed', 'combined', 'Try', 'noble', \"drown'd.\", 'lit', 'withers', 'Stand', 'Words,', 'ears,', 'mount', 'deny', 'but--I', 'weep,', 'coted', 'dies.', 'stealing', 'Pray', 'ears', 'gruffly,', 'hither,', \"'If\", 'confusion,', 'staring,', 'dreams.', 'Termagant;', 'forgery', 'flints', 'be,', 'main', 'burial.', \"dispatch'd:\", 'worse.', 'beasts:', 'either', 'Life.', 'once.', 'Itself', 'milch', 'Eats', 'Giving', \"anchor's\", 'envenom', 'shown,', 'canonized', 'shipwrights,', 'coughed,', 'Too', 'mood', 'keep,', 'to-night.', 'darkest', 'determination', \"mother's\", 'Acts', 'duties', 'spring!', 'Herbert,', 'Rankly', 'still;', 'drab,', 'hideous;', 'body?', 'whereon', 'England:', 'whale.', \"Unmix'd\", 'translate', 'off,', 'chiefly', 'changes', 'No,', 'another?', 'amber', 'hides', 'covenant,', 'forestalled', 'rusty?', 'scraping', 'ways', 'due', 'influence', 'own,', 'these,', 'be;', 'White,', 'loud,', 'disjoint', \"Unhousel'd,\", 'Away,', \"queen--'\", 'earth?', 'hell,', 'weal', 'watchman', 'Anon,', 'harm', 'business.', \"so.'\", 'shadow.', 'closet.', 'alas!', 'helps', 'life', 'Sir,', 'shape:', 'observance.', 'easy', 'aught--', \"To't.\", 'sovereign', 'implorators', 'employment;', 'deal', 'told', 'bended', 'Deprived', 'gape', 'blister', 'duty,', 'queen.', 'see!', 'while;', 'withal.', 'Was', 'convoy', 'leave.', 'sweep', 'Niobe,', 'pouring', 'Clowns,', 'praise', 'mighty', 'thee:', 'Anon', 'quietly.', 'this,', 'fares', 'Gis', 'black', 'news?', 'leaves', 'liability', 'threatening', 'nothing,', 'appears', 'mother!', 'Produced', 'beget', 'win.', 'nettles,', 'blue', 'play', 'tenantless', 'performance,', 'reverberated', 'bouts', 'cruel,', 'hours.', '\"Thank', 'less', 'term', 'all:', 'grieved,', 'warning,', 'night!', 'hypocrites;', \"Ophelia,'--\", 'answerest', 'Charity,', 'faults', 'jaw;', 'provoked', 'struck.', \"bless'd,\", 'Received', 'feast.', 'Lest', 'clouds:', 'short:', 'except', 'grasped', 'one,--', 'mysterious', 'Friend,', 'sables', 'watch', \"Meggins'\", 'ducats', 'shadows', 'Abuses', 'villany!', 'naught:', 'invisible', 'full', 'north-north-west:', 'temple', 'unworthiest', 'custom', 'command;', \"time--I'd\", 'modesties', 'levied', 'nature;', 'sweat', 'cry,', 'know.\"', 'box', '\"Two', 'hard', 'born,', 'remorse', 'pronounced:', 'public', 'jest;', 'imports', 'Repugnant', 'sick', 'mourn', 'fashion.', 'extremity.', 'poisons', 'thyself;', 'murder!', \"thou'lt\", 'forty,', \"Vulcan's\", 'Admit', 'greeted,', 'O', 'moist', 'angry', \"say'st\", 'advancement.', 'pledge.', 'you!', \"lion's\", \"o'erhear\", 'trespass,', 'pendent', 'there:', \"o'erwhelm\", 'tremble', 'safety,--', 'cry!', 'unseen,', 'minister.', 'Marcellus,', 'thine,', \"o'erweigh\", 'accepts', 'unspoken', 'beasts,', 'march', 'ice,', 'globe.', '\"We\\'ve', 'shook.', 'compulsive', 'brain!', 'unsatisfied.', 'liar;', 'Each', 'tributary,', 'commission:', 'oft', 'they,', 'stung', 'courtier;', 'grows', 'chance,', 'view', 'lies', 'Which', 'treble', \"digged:'\", 'mantle', \"Revisit'st\", 'prepared', \"o'er-leavens\", 'assure', 'compost', 'right,', 'pair', \"'And\", 'prettiness.', 'pluck', 'And--would', \"timber'd\", 'road;', 'bird,', 'Your', 'promise-crammed:', 'look?', 'hole', 'marble', 'coped', 'pleased', 'bit', 'Player', 'voice:', 'theme?', 'heel,', 'savageness', 'him;', 'fall.', 'Hercules:', 'Since', 'bawled', 'ways.', 'forestall', 'justly', 'quit', 'suit;', 'profane', \"kill'd,\", 'inform', 'leaned', 'foot.', 'Masters,', 'Pelion,', 'fools', 'breaks', 'watch.', 'Lords,', 'stones,', 'blow,', 'personal', 'twentieth', 'paw.\"', 'table:', 'pardon,', 'big', 'Drabbing:', 'looks;', 'withdraw', 'rebels,', 'carriages;', 'sincere', 'axe,', 'point', 'wrath', 'pour', 'warehouse.', 'erring', 'coronation,', 'matter?\"', 'broken', 'milk,', 'appliance', \"thus--you'll\", 'Hail', \"murder'?\", 'feeling,', 'blaze,', 'grief:', 'apt,', 'helps,', 'bid', 'acquire', 'lofty', 'boy!', 'breed.', 'offence,', 'part,', 'stages--so', 'mainly', 'curiously,', 'quietly', 'quest', \"'This\", 'too,', 'Yea,', \"oppressor's\", \"was,'--\", 'Polonius?', 'fardels', 'ceased', 'couch', 'Truly', 'rivals', 'quickness:', 'look,', 'appetite', 'thou!', 'and,', 'remembrance.', 'winds', 'sir,--', \"bestow'd,\", 'fill.', 'Keeps', 'defect,', 'vanquisher;', 'primrose', 'bearers', \"honour's\", 'kill', 'Hamlet;', 'desire:', 'myself,', 'Excitements', 'sees', \"beggars'\", 'ceiling', 'cabin,', 'passeth', 'afterward.\"', 'lapsed', 'length;', 'mazzard', 'marching', 'attribute.', 'carouses', 'ease', 'property', 'judicious', 'stomach', 'sword;', 'write', 'enters', 'weeps', \"do't:\", 'unsmirched', 'precepts', 'so.', \"possess'd\", 'chairs,', 'eale', 'Sailors', 'hid,', 'offal:', 'fine,', 'do?', 'very--pajock.', \"Offence's\", 'hope!', 'tent', 'strokes:', 'souls,', 'sere;', 'bawd', 'Caps,', 'wished', 'fellow:', \"I'\", 'branches:', 'dust,', 'lend', 'groped', 'funny', 'blinds', 'tapped', 'which,', \"we're\", 'conclusions.', 'SCENE', 'candle-end,', \"'twixt\", 'ambitious', \"see't.\", 'Gentlemen,', 'sleep:', 'Among', 'Laertes!', 'ceremony', 'pocket!', 'loath', 'wall.', 'mercy,', 'where?', \"o'erhanging\", 'Yorick!', 'knavery!--an', 'Ophelia;', 'wide', 'scurrying', 'please', 'canst', 'purse', 'knows,', 'Say', 'home:', 'revels,', 'grass', 'Or--not', 'play?', 'scope!', 'herb-grace', 'strewments', 'doom,', 'Pretty', 'jelly', 'thing.', 'late', 'India', 'abate', 'Dido;', 'Bears', 'mine--', 'Therefore,', 'commandment', \"Queen's\", 'there;', 'unreclaimed', 'skyish', 'ladies;', 'Another', 'pomp,', 'Hamlet?', 'children?', '\"You', 'stole', 'instance', 'aught,', \"better'd,\", 'chaste', 'fire:', 'exact', 'wary', 'doors', 'lover', 'dram', \"carpenter?'\", 'confess,', 'ever-preserved', 'thus?', 'bowl', 'rivet', 'trousers.', 'loved:', 'England!', \"Yorick's\", 'work;', 'depends', 'milky', 'Heavens', 'fair:', 'robe,', 'aught:', 'Poisoner', 'calendar', 'kingdom', 'way;', 'follows:', 'Over', 'son,--', 'soul:', 'good.', \"Doom'd\", 'Laburnam', 'breathe', 'theme', \"o'\", '\"why', 'discretion.', 'closes', 'loss', 'eternity.', 'Mourners', 'craft', 'sister,', 'sharply,', \"'Doubt\", 'wills', 'heaven.', 'commutual', 'defy', 'Osric;', 'wistfully.', 'cold.\"', 'gone', 'takes,', 'salary,', 'reaches', 'drink!', 'reputation', 'even,', \"'t?\", 'secure', 'bed,\"', 'bestow', 'bites', 'straight:', 'prosperously', 'Lives', 'Unless', 'cool', 'leisure,', 'uphoarded', 'done', \"sale,'\", 'cut', 'particular:', 'operant', 'capons', 'mason,', 'change', 'preparation', 'tears', 'hospitable', 'means', 'ventages', 'dream', 'censure', 'drooping.', 'moon', 'behavior', 'Touching', 'come?', 'abatements', 'Clambering', 'Must,', 'mows', 'motive,', 'gentry', 'breeding,', 'goes.', 'arm?', 'backed', 'carry', 'squatting', 'show,', 'shows', 'mighty,', 'wife:', 'shriving-time', 'away,', 'neither.', 'antimacassar.', 'quick;', 'dubiously.', 'QUEEN', 'burned', 'mischance', 'hadst', 'test,', 'Should', 'baser', 'seals', 'appointment', 'upon--', 'baby;', 'by.', \"barr'd\", 'wife;', 'ecstasy', 'book;', 'affliction,', 'rather,', 'wherefore', 'kisses,', 'sea', 'feels', \"answer'd?\", \"'Fore\", 'Once', 'pleasures,', 'obey', 'dropping', 'order', 'conscious', \"Bear't\", 'quarry', 'lawyer?', 'nunnery,', 'dungeons,', 'reform', 'we:', 'tongues,', 'pioner!', 'Against', '\"The', 'detecting,', 'you:--why', 'dreadfully', 'longer', 'whipped', 'liberal-conceited', 'farewell:', 'moult', 'Stay;', 'purgation', '\"Think', 'Wherein,', \"lock'd:\", 'Hamlet', 'replies', 'honest,', 'defeated', 'amiss:', '\"You\\'re', 'buz!', 'soothingly.', 'interpret', 'chances', \"'s\", 'wonder-wounded', 'emulate', 'Rich', 'bent', 'home,', 'awake,', \"sin's\", 'stern', 'which--', 'patience.', 'stay,', 'perceived', 'confine:', 'Nothing', 'Sweet', 'Lifts', 'Hold,', \"talk'd\", 'behaved,', 'on--only', 'burns,', 'country', 'back?', 'quicksilver', 'Roman', 'countenance', 'naked', 'Falls', 'sword:', 'myself', 'spoke,', 'liegemen', \"queen?'\", 'person', 'collection,', 'coronet', 'pray;', 'indued', 'blench,', 'tinct.', 'mirth', 'stock', 'fit', 'miles', 'reformed', \"encumber'd\", 'matter,', 'earth', 'ancle;', 'ends,', 'wager,', 'little.', 'charge,', 'nephews', 'said.', 'see--', 'voice.', 'stubbornness;', 'wise', 'harrows', 'Nothing.', 'servants,', 'assay', 'health.', 'felicity', 'sinners?', \"fail'd\", 'share.', 'brainish', 'visitor.', 'liquid', 'depressing', 'incest.', 'tells', \"unsinew'd,\", 'Everlasting', 'Bow,', 'orderly', 'beard', 'struggling.', 'deeply', 'there!', 'noise?', 'meant', 'day.', \"'take\", 'blackest', 'Shows', 'element:', 'vision', 'doomsday.', 'unseal', 'wonder.', 'rapiers', 'crab', 'Guildenstern?', 'touch,', 'Half', 'ho!', 'whoreson', 'arrest--O,', 'returns;', 'matter,--', 'were,', 'head,', 'recognizances,', 'mess:', 'partisan?', 'fellow,', 'aright', 'primal', 'obscure', 'Thrift,', 'note;', 'moons', 'trust', 'pate', 'fetch', 'countenance,', 'life,', 'use', 'excellence', 'will,', 'unused.', 'begun.', 'steward,', 'Directly', 'awful', 'furnish', 'ground?', 'purposed', 'blankly', 'us?', 'rouse,', 'vicious', 'tax', 'Collected', 'propose,', 'assays', 'grant', 'past,', 'I;', 'swords,', 'leaves,', 'wilt', 'Prison,', 'audit', 'aside:', 'happily,', 'food', 'seem', 'clown', 'conscience,', 'to-night,', 'petty', 'safety,', 'shapes', 'Ay,', 'builds', 'sir?\"', 'snake.\"', 'water;', 'colour;', 'mend', 'wretch', 'hill', 'here,', 'pounds', 'service', \"pardon'd\", 'church:', 'cell,', 'lists', 'marriage,', 'ho,', 'Young', 'sergeant', 'uneffectual', 'his,', 'rub;', 'scuffling,', 'seeming-virtuous', 'increase', 'did.', 'them:', 'purer', 'suits,', 'lack', \"life's\", \"wit's\", 'Within', 'Haste', 'proof,', 'wrong', 'nobility', 'thews', 'stake.', 'means.', 'looks,', 'lordship.', 'concluded', 'Passing', 'breaks,', 'nodding', 'despised', 'mean', 'drink,--O', 'hate', 'free-footed.', 'break.', 'mute', 'augury:', 'chamber.', 'screamed.', 'beauty,', 'primy', 'innocent', 'resignation', 'incontinency;', 'harping', 'another;', 'arm.', 'church.', 'side,', 'thou', 'you;', 'others,', 'on--you', 'inmost', 'clear', \"MONKEY'S\", 'troubles,', 'churches,', 'dost', 'Saint', 'beauty.', \"uncle's\", 'too!', 'wouldst', 'attended.', 'gentleman?', 'heathen?', 'scene', 'Priest,', 'makes', \"in't;\", 'stealers.', 'Attends', \"dicers'\", 'incensed.', 'fact,\"', 'would,', 'Morris,\"', 'nighted', 'joys,', 'wounds', 'gambols?', 'rat,\"', 'thou.', 'fate,', 'toward,', 'fall:', 'very,', 'gets', 'deserved', 'now.', 'unlooked-for', 'service,', 'precurse', 'attractive.', 'to.', 'doughty', 'courtesy', 'Ophelia,--', 'colouring', 'own.', 'travel?', 'youth,', \"wouldn't\", 'encounter:', 'frowningly?', 'sail,', 'no,', 'me,', 'animals!', \"neighbour'd\", 'dried', 'ran', 'deer', \"damn'd,\", 'too.', 'sound,', 'hopes,', 'silently', 'fit.', 'ending,', 'fast,', 'pressures', 'Where,', 'sworn,', 'heavens', 'Mrs.', 'assigns,', 'proof.', 'enough;', 'flourishes,', 'stammered', 'says', 'scholar;', 'practise', 'wants', 'bethought:', 'cuffs', 'nill', 'figure?', 'artless', 'vow', 'death:', 'attended', 'hits:', 'airs', 'rites?', 'fell,', 'commandment:', 'allegiance!', 'condoling', 'nobler', 'fantastic', 'potent', 'thrown', 'article;', 'flush', \"By'r\", 'horses', 'loves,', 'rushed', 'mad!', 'vows,', 'howling.', \"O'ermaster\", 'wit,', 'pairs', \"Stew'd\", 'remember,', 'bodies,', 'Adieu,', '\"A', 'day,', 'dog,', 'He.', 'adulterate', 'earthly', \"harlot's\", 'served;', 'scourge', 'ducats,', 'begin.', 'love:', \"Cyclops'\", 'fare', 'methought', 'HORATIO', \"do't.\", 'Our', \"brass'd\", 'wine', 'puzzles', 'Discomfort', 'littlest', 'stithy.', \"Ungarter'd,\", 'shrivelled', 'away?', 'health', \"ha't.\", 'affection,', 'month,', 'dowry:', 'suffered', 'scant', 'sith', 'giving', 'argues', 'shape,', 'born;', 'come.', \"an't\", 'careless', 'down?', 'reigns', 'lordship!', 'Come,', 'blessing:', 'changes,', 'father!--methinks', 'pranks', 'knavish', 'he--and', 'whether', '\"Bring', 'truth', \"was't?\", 'honesty', \"Valentine's\", 'fled', 'Happy,', 'provide:', \"Hecate's\", 'Thus:', 'majesty.', 'grew', 'delve', 'forgot:', 'affrighted!', \"another's\", \"utter'd:\", 'scurried', 'et', 'counterfeit', 'reach,', 'ignorance.', 'devise', 'power', 'indiscretion', 'mutine', 'acquaint', 'hypocrite,', \"'imponed,'\", 'dangerous', 'what?', 'rest', 'rot?', \"'gentleman,'\", 'her;', \"fear'd\", 'will:', 'acres', 'garb,', 'dead;', 'instalment', 'honoured', 'perdy.', 'anoint', '\"we', 'horses:', 'Herbert', 'levies;', 'finds', 'Lord,', 'sides:', 'immortal', 'hurt.', 'part', 'violet', 'unholy', 'them;', 'heavy-headed', 'state.', 'Dost', 'tears:--why', 'agreeing;', 'once;', 'to-day,', 'Mother,', 'commendable', 'funeral--', 'estate.', 'simple', 'you?\"', 'worse', 'dumbshows', 'weep?', 'fingers', \"Priam's\", 'right!', 'distraction.', 'umbrage,', 'footsteps', 'REYNALDO', 'ye;', 'Thyself', 'gold,', 'indentures?', 'bitter', 'flies;', 'edge.', 'fault:', 'kills', \"Polonius'\", 'fines,', 'card', 'shiver', 'so:--it', 'comma', 'money,\"', 'comes!', \"king's\", 'what?\"', 'true,', 'hurriedly', 'Herbert;', 'medicine', 'closet:', 'walls,', 'Corpse', 'dumb;', 'adoption', 'gentle', 'crept', 'accounted', \"ha'\", 'loosed', 'V.', 'Do', \"it'll\", 'slightly', 'pah!', 'mobled', 'remembrances', \"'As\", 'V', 'like:', 'sickness', 'entreat', 'wed.', 'sacred', 'unprevailing', 'successive', 'defeat', 'haste,', 'obsequies', 'did,\"', 'sables.', 'above;', 'showing:', 'Nor', 'air;', 'playing,', 'Ambassador', 'consider', 'posset', 'disclaim', 'jest,', 'suits', 'something:', 'Elsinore?', 'tell,', \"won't\", 'ugly', 'opinions', 'Bernardo,', 'Lamond.', 'courteous', 'articles', 'stoops', 'Repast', 'mistress', \"Shark'd\", \"compell'd,\", 'bounty.', 'begin,', 'dull,', 'bloody', 'heart-ache', 'soles', 'husband;', 'cause:', 'platform,', 'barefoot', 'beating;', 'fools!', 'thyself?', 'once,', 'aery', 'suffers', 'witch', 'pickers', 'trail', 'battlements', 'Fall', 'Pinch', 'majestical,', 'daggers', 'coil,', 'trip', 'conclusions,', 'done,--must', 'bloodily', 'fitness', 'noise:', 'circumvent', \"thing's\", 'Antiquity', 'crowns', 'Hoist', 'suspended', 'spendthrift', 'socket.', \"o'ertop\", \"truncheon's\", \"upon't!\", 'ravel', 'otherwise?', 'Beggar', 'spade.', 'melodious', 'joy.', 'gracious', 'betimes?', 'thick', 'banging', 'wholesomeness', 'question.', 'soon.', 'seduce!--won', 'compulsatory,', 'dismay.', 'whale?', 'murdering-piece,', 'faithful.', 'cases,', 'quarrel,', 'plays', 'David', 'proffered', 'awhile.', 'kings;', 'neck:', 'applaud', 'dug,', \"hold'st\", \"watch'd.\", 'fretted', 'toe?', 'abuse,', 'delight', 'instrument', 'stumbling', 'liberal', 'quaking', 'circumstance.', 'first.', 'tribute', 'Wormwood,', 'wishes,', 'Horatio.', 'bibulous', 'conscience;', 'natures.', \"turn'd,\", 'springe,', 'coagulate', 'desperation', 'sends', 'strutted', 'ownself', 'la,', 'soul;', 'sweet', \"link'd,\", 'bears', 'six', 'does--what', '\"yes.\"', 'dust:', 'comest', 'Horatio', 'Christian.', 'colder', 'Didst', 'horridly', 'Captain', 'repeated.', 'fool,', 'not;', 'closet', 'edified', 'habit', 'stairs.\"', 'sings', 'china', 'pause', 'daughter.--My', 'you.\"', 'death,', 'shame', 'greatness', 'knocks', 'lady,', 'fit,', 'shuffling,', 'happiness', 'breast:', 'sweat,', 'wretched', 'wart!', \"labour'd\", \"Was't\", 'ignorance', 'window.', 'partial,', 'annual', 'deaths', 'Happily', 'fame,', \"so:'\", 'peace', 'unshaken,', 'Cornelius,', 'uncle!', 'killed', 'neighbour', 'differences,', 'mass', 'scorns', 'scope', \"inurn'd,\", 'satirical', 'part:', 'smote', 'readiness', 'boisterous', 'vengeance!', 'Thank--\"', 'rue', 'cries,', \"ghost's\", \"new-hatch'd,\", \"crowner's\", 'didst', 'burial', 'king?', 'flats', 'hair', 'Sirs,', 'yielding', 'goodman', 'wind,', 'events,', 'fair', 'flicker', 'witching', 'jealousy', 'remembrance', 'relative', 'uncurrent', 'chair', 'Requite', 'eye!', 'peal', 'becomes', 'List,', '\"Likely,\"', 'recorders', 'Dead,', 'perturbed', 'whatsoever', 'pregnant', 'Here', 'pale', 'counsel.', 'Methought', 'sit', 'pulse,', 'king,', 'prisoner.', 'hit,', 'us,\"', \"stirr'd\", 'rede.', 'collected,', 'horror', 'dazed', 'entreatments', 'Moreover', 'knife', 'mole!', 'argument,', 'spark', 'start', 'bore', 'Denmark,', 'Fortinbras,--', 'gods', 'practise:', 'heard,', 'them--that', 'darkness', 'she,', 'scent', 'hearsed', 'pocky', 'players', 'Seems,', 'befitted', \"trick'd\", 'O,', 'garment', 'mistook', 'nick-name', 'golden', 'end', 'difference.', 'twenty', 'rheum;', 'usually', '\"Well,', 'implements', 'takes', 'ambassadors;', 'heavens,', 'closed', 'supper!', \"lady's\", 'or,', 'instances', \"wrong'd;\", 'stay', \"return'd\", 'woman.', 'folk', 'end--', 'comes:', 'stranger,', 'Goes', 'jaws,', 'brief', 'pass', 'Rome,', 'lisp,', \"England's\", 'fortune?', 'expend', 'portal!', 'humourous', 'seeks', 'nerve.', \"'tis\", 'jig', 'out-of-the-way', 'undecided', 'quivering', 'break,', 'serpent', 'tear:--', 'Retiring', 'faltered.', 'already;', 'met', \"other's\", 'go,', 'battalions.', 'out,\"', 'repent?', 'sicklied', 'infallibly', 'Between', 'crow-flowers,', 'till', 'faults,', 'compact,', 'sending.', 'alive', 'follow,', 'dismantled', 'corner', 'war', 'turn.', 'Pyrrhus:--', 'contracted', 'gifts:', 'Polonius', 'good:', 'Ambassadors,', 'pastime?', 'Second', 'Call', 'drowned', 'birth:', 'build', \"world's\", 'trumpets', \"you've\", 'accent', 'to.\"', 'honour.', 'laugh', 'sitting', 'gaming;', 'though,', 'unmanly', 'self-slaughter!', 'creaked,', 'turning', 'goodly', 'roar', 'thou,', 'list', 'yourself', 'play.', 'bestowed?', 'hear', 'mould', 'cup.', 'Exit', 'rest;', 'gain,', 'stick:', 'treads,', 'skill.', 'beckons', 'will,--', 'paw,', 'subdued', 'thunders', 'knave', 'wantonness', 'hoodman-blind?', 'lie,', 'apprehension', 'shovel,', 'Refrain', 'king;', 'seeming', 'cock.', 'passages', \"might,'\", 'Guildenstern;', 'vouchsafe', 'manners,', 'foils,', 'gently;', 'circumstance', '\"Morris', 'clout', 'wharf,', 'end:', 'girdle,', 'blossoms', 'remedy.', 'moderate', 'whirling', 'HAMLET,', 'father?', 'Tis', 'gilded', 'gait', 'speeches', \"mind's\", 'beg,', \"beast,'--\", 'rewards,', 'fay,', 'giant-like?', 'wreck', 'castle.', 'matter.', 'not--lost', 'blow', 'works:', 'thing?', 'Niggard', 'purpose,--to', 'favours?', 'fool.', 'meed', 'shatter', 'lug', 'horrible!', 'deserted', 'pleasure.', 'awe', 'star,--', 'Tell', 'Marcellus.', 'madness?', 'short,', 'dip', 'dream.', 'assent.', 'guarded,', 'Danish', 'step', 'double', 'crescent,', 'distance', 'without.', 'dust;', 'Disasters', 'trifle,', 'intent', 'strumpet.', \"'should'\", 'silent.', 'turn?', 'lying', 'egg-shell.', 'sighs,', 'revenged.', 'fusillade', 'draws', 'obeying', 'trumpet', 'grimly', 'themselves,', 'advise', 'strange;', 'canon', 'hundred.', 'Beware', 'bodiless', 'chamber,', 'hurts', 'Poland,', \"drown'd,\", 'Caesar,', 'continent', 'seal;', 'Scripture', 'matter;', 'honour', \"puff'd\", 'souls', 'wicked', 'unkennel', 'suffer', 'dispatch', 'wishes,\"', 'together.', 'repose', 'hurt,\"', 'Plautus', 'months,', 'politician,', 'quintessence', 'satisfaction;', 'spades,', 'methinks', 'High', 'such-like', \"'I\", 'Excellent', 'longer--married', 'Answer,', 'likelihood', 'world:', 'dearth', 'Lady', 'About', 'a-cursing,', \"claw'd\", 'desperate', 'prepare', 'nights', 'brazen', 'audible,', 'gone;', 'snuff', \"smear'd\", 'behind,', 'rapier,', 'fancy:', 'Retires', 'prophesy', 'sickly', 'cunnings:', 'fly', 'Heaven', 'staring', 'mothers,', 'fellies', 'heartily', 'foot;', 'knows', 'say,--', 'simples', 'Pyrrhus', 'lord', 'command,', 'oped', 'without,', 'Norway;', 'dew!', 'ache', 'bold,', 'him?', 'foils;', 'Madam,', 'fortune:', 'grimace,', 'flickering', 'busy', 'Grows', 'elder', 'trembling', 'near.', '\"Come', 'murderer;', 'closely.', 'answer', 'now-a-days,', 'smart', 'thoughts,', 'freely', 'daisies,', 'wanton,', 'Through', 'Cut', 'unrighteous', \"perform'd,\", 'farewell', 'Sunday', 'rapier', 'trumpets,', 'fiercely.', 'report', 'One', 'drunkards,', 'wittingly,', 'extinct', 'stately', 'lost,', 'Laertes', 'woe,', 'tricks', 'leave,', 'madness,', 'cleft', 'doubt', 'loses', 'blessing', 'No', 'emperor,', 'apparition', 'Fell', 'Monday', 'tarre', \"heaven's\", 'parley.', 'argument', \"envenom'd:\", 'graces', 'conjunctive', 'clock.', 'grinning?', 'one.', 'account', 'stale,', 'crown,', 'second,', 'be-netted', 'frankly', 'treachery.', \"'no'?\", 'wait', 'truthful', 'fellowship,', 'pause,', 'trophies', 'that;', 'past;', 'heavily', 'bourn', 'mine', 'heap,', 'school', \"borrow'd\", 'pleasure', 'Bestial', 'Barbary', 'granted', 'word;', 'ay,', 'flushing', \"weigh'd,\", 'use;', 'overlooked', 'law', 'deed,', 'water,', 'proceeding', 'forth,', 'tall,', 'marriage', 'gentry,', 'poured', 'camel?', 'pronouncing', 'undertakings', 'Thick', 'dust', 'blazon', 'slain;', 'lungs', 'red', 'for?\"', \"seem'd\", 'breath.', 'congruing', 'Contagious', 'carelessness', 'distempered.', 'die--as', 'precisely', 'whine?', 'discovers', \"is't:\", 'saying.\"', 'Had', 'reckon', 'conceit.', 'process', 'steel', 'well;', 'important', 'Lethe', 'music,', 'forgot,', 'target;', 'loves', 'admiration.', 'choose', 'Will', \"maids'\", 'more,', 'emphasis?', 'antic', \"She's\", 'marvel', 'proverb', 'ears;', 'gorge', 'springes', 'dexterity', 'Come:', 'law,', 'diction', 'enviously', 'freely,', 'ministering', 'Craves', 'occasionally', 'soft', 'act', 'overthrown;', 'imaginations', 'baby', 'Marcellus', 'pangs', 'Belike', 'realize', 'longer.', 'forbear', 'secrecy', 'grinding', 'patches,--', 'such.', 'here?', 'ever,', 'promise,', 'beautied', 'fast', 'these?', 'mineral', 'ranker.', 'reverted', 'There,', 'opinions;', 'hot.', 'letters', 'walk', 'tenderly.', 'visit', 'remember--', 'Leave', 'hath,', 'rabble', 'exceed', 'responsive', 'adventurous', 'preventing', 'particular', 'tricks?', 'so:', 'opened.', 'yours.', 'best,', 'fed', 'wheel,', 'matches,', 'givers', 'range.', 'speaks:', 'wings,', 'on:', 'honourable.', 'stage;', 'motion', 'pitched', 'yet', 'calumnious', 'withdraw,', '\"Why', 'Laertes?', 'circumscribed', 'that?\"', 'W.', \"unmatch'd\", 'finished', 'herself', 'who?', 'Switzers?', 'This?', 'smiled', 'pretty', 'blood,', 'happy,', 'May;', 'lordship', \"on't;\", 'physic', 'undo', \"'Twere\", 'joint:', 'validity;', 'pestilent', 'forthwith', 'gall', 'withal,', 'whose', 'Mutes,', 'perchance,', 'outward', 'Paris;', 'expect', 'talisman', 'romage', 'lordship,', 'LAERTES', 'POLONIUS', 'utter', 'placing', 'silk', 'strained', 'prince:', 'revenge,', \"deliver'd,\", 'rises.', 'fruitful', 'passing', 'pastime.', 'honours.', 'hour,', 'fie', 'witness', 'soil', 'crowner', 'Horatio:', 'saws', '\"When', 'beetles', 'methought,', 'prize', 'cease', \"silver'd.\", 'up-spring', 'aim', \"for's\", 'common', 'converted,', 'begin:', 'quietus', 'preaching', 'command?', 'passion', 'fool', 'apathy.', 'sexton', 'usurp', 'clouds', 'compass:', 'alone;', 'name;', \"duke's\", 'action', 'unfortified,', 'morn,', 'tenable', 'suffering', 'violets,', 'such,', \"embark'd:\", 'together,', 'actions', 'confirmation', 'newly', 'conjectures', 'act.', 'words.', 'beggars', 'fordoes', '\"Hark', 'rogue', 'wings', 'general', 'changeling', 'here', 'plague', 'time;', 'unfold.', 'Fie!', 'now?\"', 'Norman.', 'foreign', 'headshake,', 'overpeering', 'all;', 'dark', 'yourself.', \"know,'\", 'gazing', 'twain!', 'purpose.', 'outstretched', \"'Twill,\", 'upstairs.', 'unnecessary', 'Rosencrantz!', 'diadem', 'axe', 'speak', 'roar?', 'sympathy', 'distinguish,', 'henpecked.\"', \"'O\", 'ills', 'neck', 'envy', 'over-happy;', 'fee;', 'unspeakable', 'questionable', 'Out', 'show;', 'Arm', '\"To', 'it?\"', 'inclined.', 'nightly', 'us,', 'less,', 'paw.', 'forth.', 'duller', 'tender', 'destroy:', 'observant', 'serves', 'Show', 'affairs', 'abroad;', 'deeds;', 'like.', 'wits.', 'Himself', 'deliver,', 'follows', 'mart', 'demands,', 'stopping', 'trace', 'wag.', 'chariest', 'before,', \"'friend,'\", 'knaves,', 'sea-fight;', 'mining', 'catching', 'hold', 'oaths:', 'rich:', 'snatched', 'havior,', 'cross', 'knavery.', 'amazement', 'danger:', 'apart,', 'perchance', 'fust', 'birth,', 'fairly', 'much:', 'Herod:', 'Making', 'me.', \"brother's\", 'not.', 'hover', 'beneath', 'leans', 'dead:', 'Ghost', 'time:', 'uncle-father', 'fighting,', \"conceal'd\", 'roars', 'fail,', 'sight;', 'general:', 'FORTINBRAS', 'GERTRUDE', 'consideration', 'seed;', 'instant', 'hearing.\"', 'murderous,', \"they'll\", 'stooping', 'stuff', 'image,', 'hast,', '\"that', 'strength', \"fall'n\", 'lest', 'conjure', \"'Horatio,\", 'To', 'Till', '[Within]', 'walks', 'come!', 'troubles', 'holds', 'nursed?\"', 'blurs', 'Thy', 'downstairs.', 'echoes', 'creep,', 'then?', 'invulnerable,', 'pass,', 'souls?', 'main;', \"where's\", 'rouse', 'brain:', 'stair', 'above,', 'safety', 'swiftly', 'favourite', 'sold', 'estate', 'Alexander,', 'sits:', 'curd,', \"courtier's,\", 'trifle,\"', 'creatures,', 'kick', 'arms', 'ceremony:', 'Whilst', 'sensible.\"', 'credulity,', 'sins', 'princes', 'loose', 're-deliver', 'paradox,', 'Julius', 'Having', 'faith:', 'secret?', 'France,', 'empire', 'secrecy,', 'airy', \"o'ertook\", 'fires,', \"Howe'er\", \"devotion's\", 'strongest', 'frontier?', 'pick-axe,', 'matter?', 'respect', 'singeth', 'ground,', 'one.\"', 'you.', 'mine--an', 'escoted?', \"o'errule\", 'help', 'schoolfellows,', \"on't:\", 'tears:', 'half', 'Season', 'politely.', 'bonds', 'defective', 're-word;', 'matter', 'beam.', \"Tellus'\", 'greet', 'methinks.', 'beard,', 'POLONIUS]', 'rest!', 'thither', 'marry,', 'imperial', 'buzzers', 'fear:', \"screen'd\", 'uses', \"ne'er\", 'salt,', 'twelve,', 'Cousin', 'spills', 'France', \"Hyperion's\", 'Therefore', 'ungored.', 'capable.', 'diligence', 'statists', 'began', 'Yes,\"', 'dishonour', 'sighing', 'just----', 'Sometimes', 'rock', 'sullies', 'ye.', 'amaze', 'pales', 'rat?', 'unequal', 'hang,', 'thee.', 'spirits,', 'peace;', 'east', 'Slanders,', 'ready;', 'Re-speaking', 'enter.', 'desperation,', 'sugar', 'perdition', 'marred', 'street', 'especially,', 'wager', 'hysterically.', 'rank,', 'Horatio;', 'Pours', 'Two', 'to-night?', 'Farewell.', 'Caesar:', 'religious', 'tenders', 'arms;', 'found,', 'prologue', 'message,', 'reconcilement,', 'convenience', 'brave,', 'this.--', 'burthen!', 'offence', 'bugs', 'incorrect', 'asking', 'he.', \"'He\", 'doubt,', 'arm;', 'sheets!', 'once!', 'noted', 'image', 'breadth', 'story.', 'straw:', 'Aside', 'well,', 'beaten', 'resolve', 'Noise', 'strife,', 'fruits', 'repulsed--a', 'mope.', 'comrade.', 'garlands', 'Do,', '\"If', 'whole', 'sorrow', 'visitation?', 'thyself--', 'paddock,', 'Like', 'gifts,--', 'villanies,--', 'nunnery:', 'her?', 'point:', 'kept', 'demands', 'Receives', 'off;', 'command', 'peasant', 'sandal', 'weapons:', 'Hic', 'graveness.', 'so;', 'Polacks', 'Norway,', 'was--as', 'little,', 'kneels,', 'whips', 'throne', 'investments', 'in:', 'Think', 'Eyes', 'Grappling', 'grave-maker:', 'then:', 'liest.', 'ungalled', 'think.', 'douts', 'coming:', \"aim'd\", 'lawless', 'carrion,--Have', 'sift', 'engaged!', 'spilled', 'Jephthah,', 'carries', \"'Anon\", '[Drawing]', 'hot', 'meats', 'eleven', 'sorry', 'aught', 'soft,', 'spots', 'quaintly', 'above', 'worm.', 'hart', 'prophetic', 'twice', 'line', 'listening,\"', 'jocund', 'frock', 'sing', \"Aeneas'\", 'apt;', 'choice', 'clay', 'make,', 'depend', 'himself;', 'mistress!', 'can', 'deject', 'machine', 'father', 'lie', 'maintains', 'opposed', 'reveal', 'fantasy,', \"match'd,\", 'appear.', \"'A\", 'soaks', 'cannons', 'children,', 'several', 'visage.', 'robustious', 'addition', 'contraction', 'horse,', 'leperous', 'Truly,', 'buy.', 'weakness', 'conscience.', 'sleep;', 'follow;', 'books,', 'friends.', 'better:', 'lust,', 'thing--', 'imposthume', 'waxes', 'arrow', \"'would'\", 'bawdy', 'galled', 'ignorance;', 'thirty', 'feed?', 'gardeners,', 'Laertes;', 'discord', 'sultry,--as', 'heaven;', 'distemper.', 'annexment,', 'of!', 'week', 'belike,', 'impartment', 'distant,', 'grave-maker?', 'liberty.', 'pain,', 'Sleep', 'eagerly.', 'fine.', 'lamp', 'inward', 'ladyship', 'foul', 'Whiles,', 'Stood', 'sleep,', 'visage', 'natural', 'music.', 'ha,', 'card,', 'own:', 'frivolous', 'lust', 'brains,', 'did,', 'OPHELIA,', 'proclaims', 'assault.', 'rhymed.', 'word.', 'need', 'kind:', 'behove,', 'sized,', 'died:', 'steals', \"'twere,--I\", 'hope,', 'policy', 'seat;', \"Woo't\", \"know't,\", 'droppings', 'of,', 'marvelling.', 'disappointment', 'Denmark.', 'turbulent', 'admirable!', 'quiddities', 'relieved,', 'purposed,', 'lose', 'Much', 'loves.', 'murder,', 'shall.\"', 'coach!', 'buried,', \"by'r\", 'noise', 'Lights,', 'person:', 'death', 'bear,', 'Read', 'Quoth', 'streets,', 'conjuration', 'KING', 'are!', 'brain', 'obey,', 'false', 'Affection!', 'Swear.', 'margent', 'forms', 'swinish', 'officers', 'beauteous', 'morning;', 'fellows', 'gentlewoman,', \"'Naked!\", 'dallying.', 'frighted', 'fifty,', 'breathes', 'Does', \"tax'd\", 'dire', 'strict', 'crown.', 'Ho,', 'Sailor', 'charitable,', 'strangely,', 'jot;', 'bleeding', 'alarm,', 'absent-mindedly', 'flaming', 'resignation--the', 'obeys;', 'lunacy.', 'Lying', 'city?', 'together', 'retain', 'further.', 'me.\"', \"thou.'\", 'slain:', 'bastard,', 'VII.', \"to't,\", 'there?', 'skirts', 'watch,', 'Thrown', 'falsely', 'Were', 'utterance', \"'Maw\", 'bolt', 'Patrick,', 'locks', 'cheek,', 'known,', 'slips', 'fame', 'Whereto', 'tormenting', 'Something', 'clearly', 'back:', 'hold,', 'napkin,', 'goblins', 'Seeming', 'unbraced;', 'dinner.', 'Hymen', 'shoon.', 'purpose;', 'uneasy', 'stand,', 'oblivion,', 'convert', 'denote', 'repel', 'how?', 'enseamed', 'hobby-horse,', 'recover', 'peering', 'clothe', 'remainder', 'Herbert?', 'yard', 'many', 'station', 'varnish', \"lord's\", \"Who's\", 'listeners', 'envious', 'picture', 'you:', 'method,', \"lock'd,\", 'liquor', 'instrumental', 'vapours.', 'enact', 'mandate;', 'incorporal', 'box;', 'kind', 'throat,', 'bounds.', 'carriages?', 'hits.', 'wisdoms,', 'captain,', 'fortune,', 'presently', 'shoulders', 'FRANCISCO', 'think,', 'Unsifted', 'pressed', 'was:', 'New-lighted', 'Guildenstern', 'preparations,', 'music', 'greeting', 'yonder', 'Help,', 'bruit', 'Yet', 'remember', 'offend', 'action;', 'reckless', 'responsibility,\"', 'sheeted', 'ask', 'Peace!', 'stowed.', \"'tis,\", 'motive', 'method', 'wherefore?', 'knitting', 'pierce', 'they?', 'BERNARDO', 'whence', 'coat,', 'moved', 'cup:', 'masters,', 'Into', 'end.', 'Gertrude;', 'sleeping', 'Enter', 'duty?', 'purchases,', 'anger.', 'thus.', 'mine.', 'note,', 'hectic', 'ominous', 'players,', 'seen.', 'of:', 'tardy', 'conference.', 'follow', 'jealousy!', 'oppression', 'Pitch', 'tend.', 'Addicted', 'rattle', 'Than', 'copper', 'Leaps', 'See', 'eyes;', 'murderer', 'eat', 'fears.', \"prick'd\", 'action.--Soft', 'carriage', 'infinite', \"he'll\", 'birds', 'Rapier', 'pleasure:', 'wittingly.', 'state,', 'phrase;', 'resort,', 'oft.', 'violence,', 'intil', \"o'ergrowth\", 'waste', 'kingdom.', 'fear,', 'didest', \"topp'd\", 'happened', 'cockle', 'quantity;', 'used;', 'beneath.', 'region,', 'bowed', 'provided', 'Christian,', 'hour', 'vows', 'steal', 'speed,', 'week;', 'it:', 'villanous,', 'extent', 'glassy', 'moon,', 'platform', 'listened.', 'mutes', 'majesty', 'younger', 'clad,', 'minute;', 'woodcock', 'comes;', 'gib,', 'Exchange', 'You,', 'won\\'t,\"', 'forced', 'Look', 'uncharge', 'Hark', 'quick:', 'reason', 'evidence.', 'charm,', 'worser', 'university,', 'to-night:', 'thanks:', 'honour,', 'Which,', 'winnowed', 'combated;', 'orbed', 'god-like', 'mark,', 'See,', 'Though', 'Some', 'artery', 'simian', 'collateral', 'contend', 'service.', 'unfellowed.', 'distinctly.', 'hangers.', 'parts', 'bought', 'out:', 'corse', 'right.', 'last:', '\"Go', 'watch;', 'riband', 'meaning:', 'letter', 'shepherds', 'father!', 'yet?', 'invites', '\"Tut,', 'countries', 'taste', 'flaxen', 'floor.', 'pocket', 'approve', 'directions', 'knotted', 'lets', 'Meet', 'sipping,', 'ruled;', 'coinage', 'he--I', 'Gracious,', 'notes,', 'was,', 'outrageous', 'capable', 'obsequious', 'bodies;', 'King,', 'Their', '\"but', 'hast', 'entered', 'fie!', 'reechy', 'news', 'tenders,', 'judges,', 'drinks', 'yon', 'honest;', 'observers,', 'c.', 'naturally,\"', 'Bid', 'revenge:', 'unwilling', 'subject', 'assistant,', 'coward?', 'return.', \"night's\", 'pit!', 'death;', 'wrong,', 'think?', 'gyves', 'discourse', 'whereat', 'fit;', 'meet.', 'severally;', 'wars', 'sparrow.', 'sleep', 'Turk', 'for.', 'hill:', 'blast', 'Conceit', 'dejected', 'mischief.', 'truth.', 'introducing', 'loser?', \"E'en\", 'doggedly.', 'arras', 'gentleman,', \"on't?\", 'Well,', 'tame', 'unction', 'eternal', 'me--with', '&', 'conscience', \"knew'st\", \"father's\", \"esteem'd\", 'wormwood.', 'beds,', 'c', 'shot', 'unto', 'Old', 'importuned', 'reading.', 'rub', 'sense,', 'LAERTES,', 'observed', 'speak;', 'dumb', 'since?', 'dirge', 'swift', 'arrival.', 'highly,', 'sixteen', 'passion,', 'cock,', 'Marry,', '\"Wish!\"', 'murder', 'borrowing', 'anybody', 'This', 'besmirch', 'apiece', 'ardour', 'exactly,', 'shrunk', 'ruin.', 'source', 'him!', 'flesh;', 'task', 'THE', 'twisted', 'steeped', 'blanks', '\"Did', \"LAERTES'\", 'sent;', 'attend', 'unseen', 'act,', '\"Better', 'across', 'adventures', 'as,', \"'For,\", 'garbage.', 'arms!', 'feather.', 'acquaintance', 'nipping', 'pounds,\"', 'Armed', 'wed', 'bedclothes', 'angels', 'bones', 'gone,', 'actors', 'laughter', 'contents,', 'dead?', 'wager?', \"have't.\", 'seest', \"inventors'\", 'since,', \"sir,'\", \"sister's\", 'Ah,', 'toys', 'dearly;', 'Ha,', 'admiration?', 'purples', 'wept', 'unsanctified', 'melancholy', 'dish:', 'bat,', 'commands', 'You', \"'gins\", 'cure', 'did;', 'plagues', 'bounded', 'wink', 'chance', 'answer,', 'easily', 'kindless', 'eruption', 'whiff', \"'Run\", 'peep', 'Last', 'drum', 'heads:', 'five', 'speech;', 'west', 'breathing', 'swounds', '[Aside', 'this.', 'armed;', 'dogs!', 'queen,', 'none.', 'search', 'Sense,', 'Mars,', 'done:', 'learning,', 'engineer', 'tied', 'fellow-student;', 'losing', 'Mouse-trap.', 'beware', 'plausive', 'good;', 'HAMLET', 'bands.', 'scullion!', 'something,', 'ordinary', 'cracks', 'OSRIC,', 'bed;', 'married', 'interrupted', 'soul,', \"temper'd\", 'are.', 'recount', 'Wittenberg?', 'mouthed,', 'sight?', \"cozenage--is't\", 'home,\"', 'mantelpiece.', 'disposition.', 'hour.', 'defend', 'intent;', 'phrase:', 'enact?', 'flaw!', 'lingers', 'mass,', 'ship;', 'dagger.', 'squeak', 'Tender', 'battery?', \"murder'd,\", 'case,', 'Ho!', 'Arabian', 'diseased:', 'caution,', 'players.', \"King's\", 'reckoning', 'market', 'sorrows', 'drew', 'fancy;', 'appeared', 'Hazard', 'Taken', 'proved', 'late--but', 'Follow', 'curiously.', 'muddy', 'serve', 'poisoning?', 'legs.', 'offence.', 'White.', 'anxiously.', 'kneels', 'day:', 'Peace,', 'pursued', 'expect,', 'Scattering', 'afterwards,', 'owner', 'whit,', 'spend', 'mouth,', 'themselves', 'Pursued', 'Poisoner,', 'Hamlet.', 'serious', 'enter', '\"Monkey\\'s', 'glares!', 'offer', 'wish--Oh,', 'Hath', 'Father', 'stirring.', 'aloof;', 'on;', 'hilts,', 'remember:', 'incorpsed', 'metals', 'pith', 'glow-worm', 'awe,', 'Thereto', 'sir;', 'can;', \"allow'd.\", 'Gertrude?', 'beer;', \"Pyrrhus'\", 'Cock', 'crust,', 'wildly.', 'Purpose', 'allow.', 'fiery', 'vulgar.', 'walked', 'but,', \"wot,'\", 'incapable', 'gives', 'courting-days', 'enterprise,', 'ignorant,', 'fellow.', 'true:', 'done.', \"'Good\", 'way:', 'graves', 'wake', \"assay'd:\", 'gibber', 'hours', 'content.', 'matin', 'secret', 'often', 'sight,', \"seal'd?\", 'unnatural:', 'Next,', 'falls,', 'withal:', 'intents', \"befall'n?\", 'Fortinbras;', 'moves', 'nay,', 'beats', 'Robin', \"'Who\", 'sun;', 'fetters', 'height,', 'leisure.', 'accuse', 'swearing,', 'mad?', 'wiped', 'affections', 'livest;', \"o'ersways\", 'Seneca', 'clowns', 'succession?', 'coat', 'deprive', 'Honest,', 'ladies', 'thought,', 'swoopstake,', 'filial', 'perceive?', 'haps,', 'Up', 'equivocation', 'bawds,', 'harrow', 'send', 'heraldry,', 'wardrobe', 'Say,', 'pernicious', 'auspicious', 'Unite', \"restrain'd\", 'cannoneer', 'Players,', 'daughter.', 'cowards', 'relish', 'consequences.\"', 'ourselves.', 'quarrelling,', 'prenominate', 'mother.', 'keen,', 'me--what', 'variable', 'especial', 'offended.', 'We', 'bark', 'betime,', 'Get', 'wearing', 'dove!', 'meant?', 'naught,', 'borne', 'name', 'fates', 'yours:', 'Burn', 'gifts,', 'myself--', 'view;', 'swallowed:', 'time.', 'lose.', 'brands', 'curls;', 'desk', 'Rebellious', 'march?', 'Grief', 'rapiers,', 'laughed,', 'that!', 'dare,', 'extremity', 'craft.', 'easing.', 'wrote', \"me.'\", 'functions', 'law?', 'rebuke', \"pigeon-liver'd\", 'clothing.', 'path.', 'shamefacedly', 'reading', 'helpful', 'Impart.', 'hereafter', 'hue', \"'Adam\", 'contentedly', \"'One.'\", 'lungs?', \"seal'd\", 'trembling.', 'merry?', 'Longer,', 'ready.', 'warms', 'foe,', 'damned', 'daily', 'from.', 'ground:', 'Fare', 'Queen', 'Reynaldo,', 'essentially', 'panted;', 'excuse.', 'world,', 'follow?', 'glow:', 'tenures,', 'unnatural.', 'neglected', 'hung', 'heaven?', 'actor', 'blood.', 'shall;', 'dreadful', 'Dane,', 'Why,', 'solicitings,', 'omen', 'bounteous:', 'unusual', 'outlive', 'load,', 'us.', 'meet', 'ours,', 'compelled', 'direct', 'shalt', 'authorities.', 'split', 'kettle-drum', 'turneth', 'followed', 'clutch,', 'country.', 'both', 'rude', 'into,', 'pious', 'Herbert.', 'Pointing', 'made,', 'count', 'gem', 'soul', 'truly,', 'baseness', 'limed', \"Finger'd\", 'scanter', 'fathoms', 'appealingly', 'hey', 'heaven,', 'ROSENCRANTZ', \"think't.\", 'Good.', 'leisure', 'directly', 'mountain', 'fencing,', 'starting', 'unripe,', 'swaggering', 'receive', 'us', 'game', 'believed', '\"It', 'shameful', 'favour', 'delicate', 'laying', \"'scapes\", 'gestures', 'bracket,\"', 'sits', 'Being', 'joys', \"in't,\", 'rewards', 'return,', 'weighing', 'happen.', 'tragedians', 'French,', 'Roughly', 'Comes', 'grieve;', 'Sleeps', 'secrets', 'damnable', 'see;', 'honest', 'Soldiers,', 'rose,', \"nephew's\", 'enough?\"', 'trivial', 'jaw-bone,', 'expense;', 'Valentine.', '[Reads]', 'muddied,', 'sorry--\"', 'again.\"', 'effect', 'season', 'perhaps,\"', 'superfluous', \"poison'd\", 'law.', 'seeming.', 'Whereof', 'credulity.', 'presentment', 'up:', 'Doth', 'woe.', 'wishes.', '\"Get', 'father:', 'impression,', 'pursuest', 'hears', 'columbines:', 'motion,', 'Convert', 'thieves', 'blows', 'First', 'walk.', 'cleave', 'youth:', 'Perchance', 'Richer', 'wise,', 'cold;', 'Lucianus,', 'theft.', 'choice,', 'come,', 'trying', 'encompassment', 'aspect,', 'contriving,', 'decline', 'lewdness', 'heaves:', 'prayer', 'corse,', 'true;', 'corruption,', 'amiably', 'abstinence:', 'sans', \"sha'nt\", 'familiar,', 'loam,', 'God?', 'profoundest', 'affair:', 'gaged', 'Seek', 'brute', 'Under', 'Was,', 'nothing.', 'outlives', 'narrow', 'lads,', 'repeated', 'crimeful', 'slip', 'bias,', 'traitorous', 'arrows', 'breakfast', 'fox,', 'field,', 'evermore', \"open'd,\", 'haste.', 'herald', 'trial.', 'Custom', 'perilous', 'crows', 'enough,', 'eclipse:', 'wanted', 'altitude', 'divulging,', 'road', 'herein', 'meeting:', 'Away!', 'wars,', 'madam,', 'spirit.', 'conveyances', 'cannot.', 'indict', 'planets', 'shame!', 'foil,', 'calm', 'delay,', 'cheerfully', 'ring?', 'wit', 'vouch', 'lids', \"'man\", 'Aroused', 'acts,', 'darest', \"to't.\", 'King', 'raw', 'earth,', 'parlour,', 'tongue.', 'wealth', 'ulcer:--', 'ban', 'Horatio,--or', \"'beautified'\", 'ambition', 'hurt?\"', 'Out,', 'Ere', 'mere', 'Stand,', 'feature,', 'slender', 'batten', 'assay!', 'away.\"', 'eloquent', \"all's\", 'rage,', 'phrase,', \"Stay'd\", 'England;', 'bosom,', \"fulfill'd,\", 'reason.', 'sirs.', 'juice', 'ocean,', 'dirt.', 'afresh.', 'hedge', 'thousand', 'praying;', 'checking', 'Consent', 'desire.', 'highness:', 'Cannot', 'inquire', 'love', 'commingled,', 'clepe', 'admiration', 'poniards,', 'stars,', 'cup', 'woman!', 'name,', 'keen.', 'unproportioned', 'carnal,', 'dangerous,', 'ROSENCRANTZ:', 'fathers,', 'fall', 'appearance', 'taking', 'gleaned,', 'peace.', 'outside', 'too:', 'CLAUDIUS', 'juggled', 'touches', 'near:', 'fought', 'sank', 'disposition', 'harbingers', 'disclose', 'weed', 'may.', 'havoc.', 'one;', 'stalk', 'GHOST', 'seeing;', 'mad', 'Yes,', 'spilt.', 'Still', 'stealthy', 'unknown,', 'wrung', 'Trumpets', 'delights', 'observe', 'speak.', 'whensoever,', 'messengers,', 'twain.', 'young', 'both:', 'Stick', 'weakness,', 'paused', 'wash', 'Inquire', 'wipe', \"suck'd\", 'sergeant-major', 'tame,', 'interest', 'gracious;', 'Propose', 'Hast', 'hall', 'tables,--meet', 'queen', 'spring', 'alleys', 'lot,', \"is't\", \"appear'd\", 'air,', 'must,', 'Begin,', 'Forgive', '[Sings]', 'light!', 'combat;', 'twenty,', 'spur', 'necessaries', 'far.', 'nave', 'squared', 'Dear', 'pretended', 'Or', 'writ', 'perfections:', 'watching', 'property,', 'precedent', 'grained', 'feverishly;', 'his.', 'assistant', 'revenge.', 'lick', 'scruple', 'breath?', 'thanks.', 'Conscience', 'known', 'sir.', 'contract,', 'bleed.', 'slightly.', 'quick', 'guest', 'continued', 'consent!', 'stronger', 'Wittenberg.', 'standing', 'delights.', 'together;', 'wished,', \"Gonzago's\", 'watched', 'sty,--', 'round.', 'selling', \"wife's\", 'kisses', 'goblin', 'fortune', \"Pull'd\", 'failure', 'snow,--', 'slaughters,', 'Ossa', 'Sport', 'well-took', 'with,', 'repentance', 'true', \"lord?'\", 'paper', 'thereunto,', 'garments,', 'act:', 'Larded', 'first;', 'hope', 'worm', 'that.', 'sun:', 'fatal', 'flourish,', 'pain.\"', 'liege:', \"rat!'\", '\"of', 'Guildenstern!', 'play:', 'myself.', 'commission;', 'groundlings,', 'grief', 'shall,', 'daughter,', 'pelican,', 'servants', 'profanely,', 'body', 'For,', 'reverend', 'eyes.', 'tragedy,', 'mad,', 'subject:', 'proceeded', 'livery', 'dishes,', 'eaten:', 'to-night,\"', 'drift', 'wisely,', 'spell', 'India.', 'triumphantly;', 'VI.', 'Polack;', 'supervise,', 'buttons', \"don't\", 'wiseness', 'brightly.', 'statutes,', 'prisoner', 'grass-green', \"pray'st\", \"wi'\", 'ticking', 'wicked,\"', 'contagion,', \"matron's\", \"scarf'd\", 'render', 'why;', 'former,', 'thereof', 'boy;', 'pity', 'mark', 'why,', \"Phoebus'\", 'is:', 'splenitive', 'heaven-kissing', 'a-down-a.', 'judgment,', 'placidly', 'light:', 'come;', 'noyance;', 'while,', 'destroyed', 'tediousness', '\"Twenty-one', 'drawn', 'waist,', 'white-haired', 'concernancy,', 'Bear', 'Spurns', 'plastering', 'high', 'wrote?', 'hard.\"', 'presumptuous', 'ghost!', 'day;', 'speech.', 'metal', 'duty', 'length?', 'crack', 'end,', 'Murder', 'long:', 'capability', 'revel', 'again?', 'beguile.', \"o'er-reaches;\", 'rise', 'judgments,', 'twelve', 'accurst!', 'beguile', 'dizzy', 'trade,', 'unnerved', 'Delay', 'royal', 'thrift,', 'Can', 'hither?', 'while.', 'maggots:', 'lasting,', 'madness', 'porches', \"'Thus\", 'declines', 'brow;', 'chough;', 'treason', 'deliver.', 'credent', 'partly', 'slept', 'CORNELIUS', 'friends!', 'whored', '\"What', 'sometime', 'weary', 'Sure,', 'nasty', 'moral', \"OPHELIA's\", 'gentleman;', 'uncle,', 'Gonzago?', 'Attendants', 'idle', 'Lost', 'keenly,', 'breathlessly.', 'crants,', 'ground.', 'bewept', 'attribute', 'beyond.', 'may,', 'gum', 'birth--wherein', 'progress', 'intercept', 'boy', 'Hecuba!', 'is;', 'Would', 'odd', 'leads', 'need,', 'Give', 'few,', 'faith.', 'gazed', 'vial,', 'reason!', 'below:', 'friends,', '\"Fancy,', 'flatter;', 'brother,', 'jig-maker.', 'immediately.', '\"we\\'ll', 'warlike', 'labour', 'man.\"', \"'scape\", 'following;', 'second?\"', \"on't--Frailty,\", 'mean?', 'Looking', 'Confess', 'enemy', 'done!', \"would,'\", 'painted', 'Villa', 'ponderous', 'shroud', 'conveniently.', 'bold', 'orders.\"', 'female', 'dressy', 'prove', 'ditchers,', 'clamour', 'Confederate', 'heat,', \"is't,\", 'fortune;', 'messenger', 'drugs', 'recorders!', 'patient:', 'vile', 'a-down,', \"i'\", 'Ophelia', 'nut', \"for't:\", 'sons,', 'surmise.', \"Neptune's\", 'solemnly.', 'better,', 'cart', \"call't\", 'nation', 'mirror;', \"say'st:\", 'Importing', 'coming', 'mourning', 'collection;', 'healthful', 'praise,', 'melt', 'substance', 'That', 'ended.', 'sun.', 'jowls', 'nose?', 'gods,', 'mechanically.', 'Baptista:', '\"Why?\"', 'pagan,', 'arrival', 'greetings', 'easiness', 'motion;', 'Confound', 'sadly', 'limbs.', 'knowest', 'retrograde', 'necessity,', 'plain', 'Players', 'god!', 'pebbles', 'camel,', 'do?\"', 'hell', 'divide', 'common;', 'shaped', 'twelve;', 'again:', \"o'er-raught\", 'windlasses', 'idle:', 'reply:', 'qualifies', 'ship', \"o'er,\", 'quiet.', 'lapwing', 'aloof,', 'itself,', 'gambol', 'love,', 'majesties', 'stone,', 'sword,', 'holding', 'dressed,', \"Fortune's\", 'divine', 'endure', 'Farewell,', 'earth!', 'Gertrude.', 'petard:', 'appurtenance', 'wars.', 'Provincial', \"kill'd:\", 'such-a-one,', 'Stay,', 'a-making,', 'vigour', 'hoar', '\"He', 'denies', 'rendezvous.', 'compound', 'Break', 'try,', 'Calls', 'tree;', 'virtue', 'apologized', 'imperfections', 'gentleman.', 'hire', 'beggar', 'same,\"', \"mourn'd\", 'privates', 'once:', 'wisest', \"Mars's\", 'confront', 'heel', 'privy', 'yes,', \"usurp'st\", 'curse', 'lines', 'poet', 'late?', \"Honour'd,\", 'ye', 'usual', 'smelt', 'election', 'arraign', 'brook.', 'truly', 'extant,', 'man!', 'man;', 'venom', 'wife!', 'Judgment.', 'prick', 'overdone,', 'change;', 'organ;', 'bless', 'hide', 'quality', 'disown', 'near,', '\"Badly', 'Writing', 'permanent,', 'easiness.', 'boy!\"', 'undertake,', 'hell?', 'on,', 'sore', 'loathsome', \"HAMLET.'\", 'seated', 'marriages:', 'Voltimand,', 'cap', 'grounds', 'Extorted', 'daughters,', 'embracing', 'law:', 'mutilated', 'boys', 'whispered', 'glass,', 'poem', 'love;', 'monsters', 'enthralled', 'sort', 'perform:', 'wax,', 'ignorant', 'pure', 'cousin,', ']', 'friends', 'violence', '\"I\\'m', 'Neither,', 'Bernardo!', 'unpregnant', 'suppose', 'move;', 'wet,', 'players--as', 'eye.', 'armour', 'Hadst', 'pursue', \"wrong'd\", 'dirty,', 'Appears', 'compensation.\"', \"grows,'--the\", 'rage!', 'ice.', 'cuckold', 'ill-gotten', 'mount,', 'Reynaldo.', 'strangely?', 'dismal;', 'gentlemen', '[Advancing]', 'distress,', 'Tush,', \"in't?\", 'rise,', 'commune', 'vantage', 'portraiture', 'poison', 'unpack', 'replied', 'lord;', 'French', 'lights!', 'saying', 'Gentleman', 'blush', 'chanted', 'modesty', 'exception', 'hide?', 'nonsense!', 'regards', 'us:', 'ubique?', 'spokes', 'amazed', 'half.', 'cloak,', 'spirits', 'born', 'enmity', 'he?', 'foh!', 'gone!', 'temperately', 'garden.', 'kings', 'Is', 'ghost', 'Yet,', 'rascal,', 'gone:', 'bird', 'Hamlet:', 'intruding', 'ass', 'shriek,', 'yet,', 'to-night;', 'whirlwind', '\"Good', 'beating', 'Pole', 'shut', 'undertake', 'Carrying,', 'lawful', 'couplets', 'Stoops', 'According', 'lodged', 'Osric.', \"o'er-crows\", 'to,', \"me'?\", 'certainty', 'at,\"', 'flame', 'recoveries,', 'slushy,', 'Osric,', 'guilty,', 'Shall', \"Fix'd\", 'bent.', 'recovery', \"'friend\", 'womb', 'served', 'slave,', 'scale', 'neither,', 'jig,', 'seven', 'so?', 'indirections', 'referring', 'whereof,', 'dirty', 'true!', 'eyed', 'ministers', 'request.', 'bray', \"forgot.'\", 'content', 'home', 'radiant', 'neither', 'ourself', 'spade,', 'truth:', 'thousand.', 'welcome;', 'easier', 'profound', 'fishmonger.', 'dust?', 'Thaw', 'pictures,', 'fire!', 'heels', 'players;', 'guilt', 'back,', 'origin', 'traveller', 'inheritor', 'read,', 'behind.', 'sport', 'signet', 'nations:', 'speed', 'crocodile?', 'god', 'surveying', 'confession', 'Tweaks', 'wring', 'Mark', 'dozen', 'embrace', 'debt:', 'bevy', 'Whom', 'tongue', \"O'erbears\", 'him:', 'lecherous,', 'associates', \"barber's,\", 'sweet,', 'likely.', \"scholar's,\", 'seeing,', 'Hamlet!', 'this,--', 'lobby.', 'Sprinkle', 'stops;', 'large', 'rat.', \"allow'd\", 'CLAUDIUS,', 'sir:', 'bloody,', 'remains', 'judgment.', 'charitable', 'woman!--', 'stars', 'clouds,', \"cozen'd\", 'passage?', 'tokens.', 'paddling', 'rages,', 'astonish', 'offhandedly.', 'vouchers', 'joy,', 'insolence', 'Forth', 'basket', 'spirit,', 'received', \"postman's\", 'Who', 'generous', 'groan.', 'see.', 'liest', 'how,', 'appears:', 'hopeless', \"soil'd\", 'grace', 'permit,', 'understanding,', 'villain;', 'sleeping,', 'Reynaldo?', 'lean', 'Polack', 'sorrow.', 'treasure', 'path', 'wild;', 'chronicles', 'stays:', 'harshly', 'flames', 'know.', 'player', 'LUCIANUS', 'pure;', 'patience', 'brother', 'carbuncles,', 'Clown', 'streamed', 'centre.', 'To-morrow', 'grave-makers:', 'rite', 'dove,', 'skill', 'desire,', 'ignorant--', 'opposites.', 'concernings', 'forgotten', 'vast', \"'twas\", 'pearl', 'purpose,', 'bearing', 'ambassadors', 'jointly', 'unsure', 'lordship?', 'tanned', '\"You\\'ve', 'ply', 'homage', 'aye,', 'impress', 'peep;', '[Pointing', 'worth,', 'in,\"', 'nearer', 'truant.', \"'a\", 'Capitol;', 'judgment', 'panting.', 'Did', 'fitfully,', 'weeds,', 'proclaim', 'Those', 'aghast.', 'farewell.', \"He's\", 'granted?\"', 'march.', 'apathetically', 'weasel.', 'forgone', 'sable', 'persisted', 'conceit', 'bride-bed', 'that?', 'cushion', 'stir', 'blastments', 'itself?', 'whipping?', 'shadows.', 'horror.', \"To't\", 'epitaph', 'clothes', 'rubicund', 'loneliness.', 'cracked', 'zone,', 'merriment,', 'same,', 'visage,', 'yourself,', 'aunt-mother', 'Set', 'night;', 'Thou', 'expense', 'intend', 'not?', '\"I\\'d', 'hems,', 'mole', 'inclination', 'me?\"', 'least', 'is--', 'melancholy,', 'None,', 'deed', 'better--their', 'assail', 'freeze', 'broke', 'play;', \"master's\", \"turn'st\", 'stole,', 'please.', 'Running', 'fantasy?', 'mountebank,', 'noisily', 'sterling.', \"'It\", 'stuck,', 'behoves', 'whiskey', 'may', 'beloved;', 'garden', 'lord.', 'Francisco.', 'course.', 'sense.', 'carpenter?', 'circumstances', \"o'erdoing\", 'imitated', 'shoes,', \"'t\", \"t'\", 'counsel;', 'protests', 'tush,', 'fast?', \"'tween\", 'hatchment', 'ancient', 'lead', 'individable,', 'buyer', 'loggats', 'poor', 'heavenly', 'Claudio;', 'Ophelia,', 'say?', 'faculties', 'roasted', 'faded', 'As,', \"'Lord\", 'apart', 'vain', 'fatted', 'hammers', 'beyond', 'age,', \"woo't\", 'welcome', 'consonancy', 'see:', 'beast:', 'brokers,', 'Horatio,', 'eldest', 'cerements;', 'summit', 'POLONIUS,', 'knew', 'fitted.', 'it,\"', \"can't\", 'kibe.', 'proceed?', 'ordnance', '\"There,', 'Here,', 'beside', \"o'erstep\", 'There;', 'drown', 'Soil', 'With', 'Christians', 'brought,', 'gentlemen,', 'Rest,', 'so,', 'shipped', 'hoarsely.', 'Who,', 'stand', 'tether', 'discourse,', 'monument:', 'Marcellus?', 'absolute', 'afoot,', 'wheel', 'meaning', 'this;', 'crib', 'circumstance,', 'define', 'rotten', 'mercy', 'complete', 'save', 'am.', 'madam!', 'sheen', 'repair', 'calamity', '[', 'close,', 'alarm.', 'it!', 'pursy', 'lands', 'bodykins,', 'returning', 'honourable', 'live,', 'positively', 'Ecstasy!', 'dies', 'fault', 'striking', 'weapon?', 'wit:', 'dunks', 'throw,', 'Roscius', 'opposition', 'Videlicet,', 'kingdom,', 'sight', '[Aside]', 'pole', 'Colleagued', 'spies', 'Well;', 'nation.', 'After', 'sending', 'Led', 'Good', 'heedful', 'marry', \"'twill\", \"doesn't\", 'lays', 'comical-historical-pastoral,', 'again,', 'needs', 'So', 'boarded', 'yawn', 'select', 'Prompted', \"was't\", 'maligned', 'slaughter:', 'woo', 'lowest', 'vulgar', 'Couch', 'uncle:', 'tyrannically', 'Together', 'Safely', 'driven', 'neglect.', 'Ilium,', 'None', 'earth;', 'confess.', 'floor,', 'row', 'death!', 'Starts', 'finger', 'IV', 'figure;', 'Believe', 'able', 'infect', 'mummy.\"', 'commend', 'sea-gown', 'consent', 'wrench', '\"For', 'lacked', 'Hide', 'rims', 'customary', 'sheepskins?', 'Pays', 'Lay', 'Awake', 'conversation', 'accidental', 'Contagion', 'Lends', 'really.', 'cost', 'order,', 'Both', \"he's\", 'weary,', 'scenes,', 'ecstasy:', 'fire;', 'pay,', 'Fie', 'staircase,', 'Am', \"soldier's,\", 'feeling', \"'HAMLET.'\", 'consent:', 'eats,', 'Frenchman', 'yesty', 'wandering', 'dislike', 'filled', 'enterprise', 'Observe', \"remember'd.\", 'enlarged', 'road.', 'smiles', 'trophy,', 'diet,', 'earth:', \"'se\", 'ourself;', 'toils', 'shrewdly;', 'dozed', 'baked', 'down;', 'girl,', 'unknowing', 'churchyard.', \"find'st\", 'play--I', \"'alone.'\", 'luxury', 'brood;', 'I?', 'to-morrow.', 'murder:', 'possible,', 'loved', 'Wilt', 'So,', 'lord--', 'ever.', \"'twould\", 'sinews', 'crafts', \"passion's\", 'sustain,', 'highest', 'While', 'plots', 'being:', 'affair.', 'afflicts', 'forbid', 'remove,', 'closely', 'character.', 'believe', 'doctor;', 'brains!', 'encounter;', 'unsteadily.', 're-deliver;', 'Farewell:', 'coldly', 'sex', 'shift', 'vivid', 'heaven', 'tones', 'wassail,', 'we,', 'ones', 'rule,', 'quills', 'hugger-mugger', \"o'er-teemed\", 'churchyards', 'Makes', 'avouch', 'hall:', 'masterly', 'banged', 'strange.', 'passage,', 'bonny', 'stops.', 'entertainment', 'clasping', 'shone', 'me?', \"season'd\", 'unkind.', 'These', 'temples', 'Speak,', 'Soldiers', 'head:', 'advice,', 'Hecuba.', 'fatness', 'gore,', 'forts', 'other--', 'season,', 'proportions,', 'indifferently', 'trumpet:', 'tenants.', 'sides;', 'forgotten,', 'figure,', 'fear;', 'hourly', 'glossy', 'terms', 'Thence', 'Rome,--', 'understanding', 'grieves,', 'whilst', 'brows;', 'cash', 'accident,', 'courage', 'combination', 'Perhaps', 'Breathing', 'Oft', 'hasty', 'knowledge', 'haply', 'Most', 'merely.', 'Christian', 'Or,', 'honey', 'under', 'anything', 'back,\"', 'God!\"', 'expired.', 'king.', 'Form', 'falls.', 'brief:', 'bier;', 'longed', 'trains', 'lodge,', 'yourself:', 'eye,', 'argument?', 'comply', 'sticks', 'remember?', 'delays', 'downstairs', 'smile,', 'Whether', 'beast', \"on't.\", 'ashamed', 'lazar-like,', 'justice,', 'oath,', 'fearful', 'stubborn', 'hastily.', 'two-fold', \"chameleon's\", \"frown'd\", 'truster', 'sponge!', 'window', 'sooner', 'sorry.', 'murder.', 'GUILDENSTERN:', 'rebellion', 'pastors', 'dawning', 'achievements,', 'treacherous', 'ambiguous', 'society', 'tread', 'instructs', 'return', 'torrent.', 'breeder', 'grosser', 'like,', 'withdrew', 'posy', \"o'erthrown!\", 'worthy', \"baker's\", 'star;', 'lasting', 'realm', 'lock', 'For', 'composed', \"man's\", \"play'd\", 'probation.', 'advancement', 'royally:', 'wrap', 'harlot', 'father.', 'misery', 'leaping', 'remains,', 'tend;', 'purged', 'tyrannous', 'No.', 'sinews,', 'gate,', 'Time', 'you?', 'stand.', 'model', 'unhappily.', 'mad.', 'challenger', 'trial,', 'mortal', 'scandal', 'garden,', \"Hamlet.'\", 'dragging', 'tear', 'minds', 'beastly,', 'grossly,', 'commerce', 'fortified', 'Holds', 'gather,', 'tumbled', 'me:', 'loins,', 'foils.', 'us!', 'die:', 'world', 'raves,', 'merry,', 'flowers', 'thirties', 'firmament,', 'work.', 'union', 'father?\"', 'assured,', 'songs,', 'negligence,', 'friend!', \"adjoin'd;\", 'Polack:', 'sober,', 'fish', 'every', 'chamber-door;', 'actively', 'rests?', 'mad!\"', 'remained', 'looks', 'thunder.', 'hearer:', 'frame,', 'lovingly;', 'until,', 'Danish.', 'ear,', 'Exeunt,', \"be:'\", \"lack'd\", 'begins', 'brevity', 'space,', 'packet,', 'Hunts', 'Madness', \"undiscover'd\", 'angel', 'head;', 'drowns', 'bung-hole?', 'bedded', \"is't;\", 'sergeant,', 'berattle', \"Where's\", 'Compounded', \"monkey's\", 'funeral', 'courses', 'Wherefore', 'ready,', \"name's\", 'conveyance', 'lady?', 'towering', 'hard;', 'right;', 'Fordo', 'circumstance?', 'loose!', 'lighten', 'panders', 'March', 'safely,', 'further?', 'blood:', 'red?', 'richer', 'ambassador', 'stooped', 'decayer', 'graces;', 'rapidly.', 'last.', 'passage.', 'mightiest', 'majesty,', 'fool;', 'Dared', 'up,', 'least,', 'feats,', 'punish', 'mistake', 'eye;', 'lament;', 'arms.', 'Be', 'afar', 'Adieu.', 'room,', 'smooth', 'pardon', 'train,', 'wail', 'gender', 'yesternight.', '\"I', 'can:', 'son,\"', 'light.', 'ingenious', 'again;', 'Indeed?', 'is!', 'pirate', '\"Was', 'welcome:', \"she's\", 'none;', \"'faith\", 'plurisy,', 'doing', 'trippingly', 'solidity', 'hoops', 'Speak', \"do't,\", 'attent', 'working,', 'chiefest', 'thoroughly', 'nature:', 'stone.', 'always', 'cutpurse', 'say,\"', 'bonnet', 'companies', 'paw?\"', 'sanctuarize;', 'Winner', 'amen!', \"consider'd\", 'wholesome', \"if't\", 'goose-quills', 'flourish.', 'plunge', 'court,', 'paintings', 'FORTINBRAS,', 'dipping', 'Come.', 'breath;', 'beer-barrel?', 'cups;', 'breach', 'us;', 'amities,', 'fair?', 'goes,--mark', 'sleeps:', 'evil', 'dignity', 'razed', \"'ild\", 'loving', 'event,', 'appear', 'him--', 'cue', 'widow,', 'immediate', '\"Has', 'love?', 'custom,', 'mightier:', 'grief;', 'charge', 'perils', 'Millions', 'impotence', '\"Caught', 'lunacies.', 'this:', 'marriage-vows', 'falconers,', 'thorns', 'complexion', 'waking', 'laid,', 'time,', 'shape;', 'carefully', \"'the\", 'Hamlets', \"call'd.\", \"'As'es\", 'dearest', 'raven', 'villain,', 'forgetting', 'squeaky', 'gains.\"', 'cemetery,', 'staff,', 'awhile,', \"flatter'd?\", 'sorrow:', 'pipe', 'worth', 'faction', 'Possess', \"Hamlet's\", \"wish'd.\", 'Love!', 'book', 'forms,', 'Witness', 'ha!', 'hitherto', 'foe', 'flesh', 'heart,', 'town-crier', 'thoughts.', 'Black', 'palpable', 'making', 'Last,', 'With,', 'bated,', 'separate', 'nine', 'slower-witted', 'lain', 'queen?', \"'We\", 'happen', 'periwig-pated', 'possessed', 'Come', 'smoothness.', 'opinion,', 'sea,', 'Farewell!', \"punish'd\", 'loam;', 'rather', 'flowers:', 'circle', 'unseen.', 'a-work;', 'lord,--', 'reasons;', 'May!', 'GUILDENSTERN', 'gallant', 'Nemean', 'Wouldst', 'sir,', 'hang', 'Danes', 'most', 'oppressive,', 'state!', 'am,', 'Hillo,', \"'twere,\", 'ever:', 'yours,', 'objects', 'bar', 'that--', 'treacherous,', 'diseases', 'torrent,', 'dalliance', \"well.'\", 'Laertes,', 'spheres,', 'translate:', 'hams:', 'hit.', 'worth!', '[Beneath]', 'equal', 'villain!', 'brother.', 'pronounce.', 'reserve', 'Swear', \"There's\", 'Widger', 'words?', 'weariness.', 'fain', 'Else', 'No!', 'powerfully', 'sheep', 'religion', 'Virtue', 'flood,', 'roughly.', 'way.', 'sworn.', 'lasted', \"dragg'd\", 'God.', 'savoury,', 'opposing', \"tennis:'\", 'counsel', 'fourth', 'Hecuba', 'star', 'abominably.', 'live.', 'kin,', 'limbs', 'worst', 'edge,', 'stockings', 'sickness,', 'turf,', 'extravagant', 'taints', 'anticipation', 'dropped', \"POLONIUS'\", 'glean,', 'dull', 'Priam', \"ha't\", 'faithful', 'passed,', 'blasts', \"perform'd\", 'lash', 'help,', 'known.', 'body.', 'kingly', 'thou--', 'straws;', 'wedding.', 'month--', 'feed,', 'liberty,', 'newborn', 'preoccupied', 'teeth.', 'inventorially', 'soul!', 'voyage,', 'men.', \"stay'd\", 'indeed.', 'therefore', 'tightly.', 'thoughts;', \"'Now\", 'sergeant-majors', 'well?', 'hither', 'form', 'nay', 'wherein', 'prayers,', 'I:', 'them?\"', 'sum.', 'Grating', 'cliff', 'meditation', 'Lady,', 'remembrance;', 'fumbling', 'grief,', 'violets', \"to't\", 'blown', \"a'\", 'foresaid', 'grand', 'speedy', 'want.\"', 'force,', 'skull,', 'gentlemen.', 'suppose,\"', 'joy,--', \"Drown'd!\", 'study', 'fond', 'feet', 'cotton', \"we'll\", 'travel', 'hear,', 'remarks,', 'eyeing', 'commission,', 'ambitious,', 'friend;', 'down-gyved', 'know;', '--something', \"soldier's\", 'words:', 'Norway', 'farewell,', 'dew', 'so!--you', 'aboard;', 'sword.', 'project', 'horseback:', 'suddenly,', 'blush?', 'heir', 'fat,', 'valiant', 'comes.', 'ah,', 'seal,', 'eyes:', 'turns', 'constantly.', 'thine:', 'nothing;', \"nothing's\", 'sovereignty', 'faith;', 'good-night,', 'brain,', 'Wish', 'easy;', 'Thought', 'dumb,', \"unanel'd,\", 'brothel,', 'hit;', 'shoulder]', 'address', 'unskilful', 'faith,', 'whereto', 'ass,--', 'holds,', 'devil,', '\"it\\'s', 'bending', 'incestuous,', 'fennel', 'hap', 'corses', 'shoes', 'sewing', 'nonce,', 'Well', 'memory', 'commencement', 'unlimited:', 'Mine', 'Buys', 'France;', 'Outside,', 'moods,', 'pale.', 'marshal', 'Gonzago', 'goes,', 'II', 'antique', 'outward,', 'audience.', 'dear', 'wondrous', 'aloud,\"', \"slave's\", 'sleeps', 'endeavour', 'destroy!', 'props', 'fantasy', 'summons.', 'monster,', 'gentleman', 'rack', 'Ophelia:', 'kites', 'Nero', 'hardy', 'beards,', 'sphere,', 'springs', 'built', 'necessary', 'estimation', 'do,', 'Things', 'river', 'marry;', 'rosemary,', 'beseech', 'knight', 'fighting', 'work:', 'close;', 'Flourish', 'innovation.', 'digested', 'strong.', 'pulsating', 'bell', 'pox,', 'snatches', 'dole,--', 'arithmetic', 'button.', 'others', 'err,', 'furtively,', 'help!', 'teach', \"'Forgive\", 'bodes', 'state--', 'impressive', 'stricken', 'fits', 'guest,', 'offence?', 'Costly', 'confound', 'morn', 'majestical', 'foreknowing', 'couched', \"'\", \"'Laertes\", 'floor', 'blest', 'afeard', \"'seems.'\", 'arrant', 'heraldry', 'total', 'whom', 'bare', 'lives,', 'effect,', 'Could', 'thine;', 'warm,', 'document', 'groans:', 'still,', 'precious', 'monarchs', 'bodies:', 'Bernardo?', 'ostentation--', 'minute', 'returneth', 'thick,', 'happy.', 'incensed', 'clemency,', 'base,', 'buffets', 'eat,', 'bespeak:', 'speak,', 'mortised', 'pale:', 'feed', 'throat', 'invite', 'Unbated', \"didn't\", 'dearly', 'chair.', 'night:', 'philosophy', 'revenue', 'hawk', 'orchard,', 'home!', 'skill,', 'crew.', 'Nay', 'Yaughan:', 'officers.', \"Cain's\", 'rash,', 'Might', 'fellowship', 'speedier,', 'lecture', 'will!', 'none:', \"offender's\", 'nervously', 'Hyrcanian', 'goodness', 'lives', 'valenced', 'Given', 'martial', 'Tropically.', 'lost;', 'pace', 'dawned', 'working', 'question,', 'rage', \"country's\", 'stiff', 'impatient,', 'somewhat.', 'Methinks', 'brow,', 'coincidence,\"', 'MARCELLUS,', 'marvellous', 'supper', 'Hecuba,', 'GUILDENSTERN]', 'Deliberate', 'music:', \"scann'd:\", 'hent:', 'opening', 'stoup', 'die', 'weight,', 'cherub', 'overcome', 'dead!', 'What?', 'demonstrated', 'unshaped', 'likely,', 'expostulate', 'wits,', 'parchment', 'doubtful;', 'Jove', 'more!', 'ape,', 'still.', 'until', 'beady', 'calumny.', 'with:', 'CORNELIUS,', 'leave', 'Hamlet,', 'voice;', 'heart', 'became', 'Bestow', 'betoken', 'work', 'bit,', \"here's\", \"Is't\", 'wonder,', 'contrive', 'rouse;', 'Angels', 'instantly', 'demand', '\"Never', 'Look,', 'prey', 'Walks', 'choler.', '\"just', 'rate', 'mind.', 'lightest', 'eyelids', 'lunacy?', 'chase.', 'outbreak', 'supply', 'true.', 'damn', 'against,', 'fee.', 'bones,', 'importunate,', 'slander', 'Mine,', 'colour:', 'form,', 'sight.', 'conqueror:', \"soldiers'\", 'withered', 'tetter', 'dispatch,', 'candied', 'Grapple', 'conceive.', 'father,\"', 'departed', 'bend', 'tune', 'Fortinbras,', 'roots', 'dead.', 'cunning', 'ore', 'malefactions;', 'minutes', 'judge,', 'in--he', 'Indeed', 'offences', 'Strengthen', 'puppets', 'promontory,', 'dotes', 'evil?', 'arrows,', 'down!', 'observation', 'since', 'delivered', 'seek', 'companions', 'Jephthah?', 'worlds', 'blood', \"king!'\", 'neutral', 'service:', 'demanded,', 'motioned', 'seemed', 'formal', 'enemy.', 'art,', 'liberty', 'wed;', 'rate,', \"rain'd\", 'pleasures', 'coughed', 'hearing,', 'lesson', 'England,', 'Without', 'peace-parted', 'tempest,', 'distilment;', 'sweaty', 'shown', 'chain', \"Drown'd,\", 'five,', 'odds.', 'whispers,', 'miscalled,', 'preceding', 'door,', 'prison.', 'violent', 'sun,', 'unfastening', 'side.', 'danger', 'slay', 'Murder!', 'wears', 'speaks,', 'two:', 'Horatio,--', 'Not', 'miraculous', 'group.', 'down:', 'eight', 'Stay!', 'bolt,\"', 'ourselves,', 'providence', 'maids', 'Rashly,', 'follows,', \"'Thine\", 'adders', '\"How', 'stuff,', 'impasted', 'hasten', 'stalks', '\"No,\"', 'mutines', 'jugglers,\"', 'play,', 'array', 'cursed', 'sounded', 'visitation', 'forgeries', 'same.\"', 'tale;', 'burn', 'wince,', 'aught.', 'If,', 'rites', 'late.', 'Looks', 'provoke', 'willow', 'hideous', 'expectancy', 'mountains,', 'thyself:', 'yea,', 'across?', 'that:', 'synod', \"on't,\", 'prating', '\"As', 'Takes', 'What,', 'I!', \"'Gainst\", 'moor?', 'magic', 'delver,--', 'soldiers,', 'wood', 'idea', 'strangely', 'ACT', 'rising,', 'Sith', 'again!', \"heart's\", 'Wittenberg,', 'Use', 'points', 'winter', '\"Where?', 'resemble', 'Sings', \"'High\", 'guard,', 'valour,', 'mock', 'merit', 'years.', 'persons', 'noticed', 'mouth', 'writers', \"poison'd:\", 'call,\"', 'scenes', 'limbs,', 'family', 'carriages,', 'beggar.', 'this--he', 'ground', 'disappointed,', 'possible?', 'Sundays:', 'daughter--have', 'gulf,', 'Devised', 'Greeks;', 'gratis;', 'From', 'all.', 'occasion', 'Folded', \"'One\", 'supposal', '\"get', 'wringing', 'reach', 'VOLTIMAND,', 'followed?', 'soever', 'brothers', 'addition,', 'husband,', 'pronounced', 'flung', '\"Oh,', 'declining', 'adieu!', \"pin's\", 'speak!', 'imponed,', 'persuade', 'flash', 'Morris?\"', 'Seem', 'Bernardo', 'behold!', 'unmask', 'fruit', 'frame', 'virtues.', 'devil', 'regard,', 'Puts', 'edge', 'shrill-sounding', 'conception', 'gules;', 'blame.', '\"Do', 'dropped,', 'advantage,', 'slings', 'constant', '\"Herbert', 'sole', 'nonny;', 'parlour', 'volley.', '\"Let', 'dread', 'cheek;', \"know'st\", 'excellence;', 'entreaty,', 'orb', 'weakest', 'trains,', 'sake', 'sinister', 'spoken,', 'scandal.', 'waited', 'tickled', 'table,', 'uncle', 'disclosed,', 'sequel', 'ring.', 'inoculate', 'father;', 'aboard,', 'soft!', 'falsehood', 'Remember', 'purpose', 'deceived.', 'white,', 'angel!', 'strumpet,', 'Cry', 'ghost,', 'indeed,', 'audience', 'die,', 'cat', 'candlestick,', 'gather', 'tedious', 'suiting', 'Then,', 'bodies', 'crimes', 'air.', 'about:', 'magic,', 'hearers?', 'likewise', 'sorry,', 'coincidence.\"', 'name.', 'to-morrow', \"on't!\", 'inter', 'weaker', 'smells', 'fret', \"'Well,\", 'interim', 'being', 'breathed', 'pipe?', 'played', 'averted', 'disease,', 'Plucks', 'Lord', 'warrantise:', 'machinery,\"', 'tithe', 'land.', 'thence', 'accidents;', 'grace,', 'apron,', 'affliction', \"oppress'd\", 'mischief', 'masters;', 'continual', 'to-night!', 'God!', 'Wherein', 'halfpenny.', 'puts', 'twelve.', \"deck'd,\", 'grizzled--no?', 'Fortune!', 'unweeded', 'short', 'his:', 'powers,', 'Finding', 'force', 'distracted;', 'thrift', 'First,', 'Art', 'comedy,', 'corrupted', 'see,', 'duty.', 'colour', 'us--thou', 'heart.', 'table!', 'demi-natured', 'sterile', 'shent,', 'salvation', 'creaking', \"'ll\", 'mines,', 'devil:', 'pester', 'we.', '[Behind]', 'willingly', 'Devoutly', 'censure,', \"scratch'd\", 'bread;', 'gently', 'Jacobs', 'friending', 'distraction', 'work,', 'resounded', 'Forward,', 'surely,', 'husband.', 'cellarage--', 'come:', 'lament', 'pity;', 'Doubt', 'company,', 'ideas', 'gifts', 'out-herods', 'exterior', 'table-book,', 'cap-a-pe,', 'Until', 'rank', 'quantity', 'defence', 'complexion.', 'other;', 'imputation', 'mountains', 'year,', 'services,', 'thereon,', 'Fortinbras.', 'Unhand', 'wag', 'now?', \"o'er-sized\", 'Hautboys', 'seas', 'stage', 'Sprung', 'jade', 'hill;', 'Mr.', 'nature', 'really', 'myself;', 'hands:', 'arrests', 'letters;', \"'havior\", 'rising', 'upshot,', 'word:', 'death-bed:', 'Singeing', \"offendendo;'\", 'faculty!', 'mother,\"', 'drink.', 'blank', 'thine', 'stream;', 'nods,', 'mellow', 'Worse', 'indeed', 'base', 'ever', 'be.', 'Throws', 'love--', 'Servant', 'Excellent,', 'proper', 'deeds', 'defence?', \"let's\", 'ratifiers', 'Yours,', 'steel;', 'meeting', 'weeds', 'paid', 'water-fly?', 'extolment,', 'Laertes.', 'guard?', 'was?', 'natural,', \"poison'd.\", 'wick', 'grave,', \"sleeper's\", \"design'd,\", 'truly;', 'sir!', 'mad:', 'cunning.', 'craven', 'Stabs', '\"Sounds', 'gates', 'king!', 'heart;', 'practises', 'pressure.', 'gentlemen!', 'feathers--', 'jointress', 'answer;', 'fear-surprised', '\"perhaps', \"proclaim'd\", 'climatures', 'doth', 'dignity:', \"conjoin'd,\", 'woodcocks.', 'done?', \"fix'd\", 'Put', 'earth.', 'grave?', 'sail.', 'push.', 'piteous', 'Hyperion', 'mine!', 'grow', 'burn,\"', 'landing,', 'though;', 'philosophy.', 'ratified', 'proof', 'frantically', 'too;', 'offer,', 'not:', 'are,\"', 'mermaid-like,', 'listening', 'you.--If', 'politic', 'rood,', 'enemies.', 'Part', 'Occasion', 'fellow', 'wrist', 'yourselves', 'gate', 'power;', 'growing', 'Up,', 'tumblers', 'Weigh', 'pastoral,', 'truant', 'tongues', 'rogue!', 'leave:', 'first,', '[To', 'died,', 'bosom', 'clapped', 'Pleasant', 'Assume', \"e'er\", 'looking', 'whitened.', 'shape', \"tailor's\", 'pardon.', 'wanton', 'started.', 'away!', 'much,', 'inheritance', 'Becomes', 'moiety', 'hit', 'numbers', 'accident.', 'lightness,', 'already', 'Damon', 'wilfully', 'spread', 'worms', 'courtier,', 'chapless,', 'Striking', 'trifling', 'outside,', 'creatures', 'this?', 'impetuous', 'movements', 'glancing', 'revenged,', 'sir?', 'scarce', 'Dangerous', 'fair,', 'distemper', 'many.', \"seal'd:\", 'spake,', 'Full', \"she'll\", 'As', 'grin', 'Now,', 'Never', \"return'd,\", 'dreamt', 'Dies', 'process;', 'priest,', 'Danskers', 'passion.', \"such-a-one's\", 'not,', 'witchcraft', 'drives;', 'friends;', 'northerly.', 'Go,', 'list!', 'Revenge', 'ambition,', 'caviare', 'private', 'else?', 'struck?', 'needful', \"wann'd,\", 'sigh,', 'asking?', 'Bring', 'obligation', 'purposes', 'year:', 'hurried', 'riotous', \"grave's\", 'Pluck', 'wards', 'talisman,', 'ill-breeding', 'churlish', 'Remorseless,', 'full,', 'Sleeping', 'advice;', 'husbandry.', 'ear.', 'sworn', 'level', 'betokened', 'Gonzago:', 'flourish', 'Hamlet--', 'matters', 'semblable', 'sightless', 'joyfully', 'friends:', 'horrid', 'Calmly,', 'world;', \"mildew'd\", 'songs?', 'city.', 'noblest', 'ope', 'emperor', 'Norman', \"beseech'd\", 'smelling', 'possible', 'minds.', 'beauties', \"fortune's\", 'courage,', 'Treachery!', 'seen,', 'bulk,', 'distilled', 'incestuous', 'herein;', 'surrender', 'Question', 'maiden', 'suit', 'III', 'trade', 'bawdry,', 'muddy-mettled', 'both,', 'unwrung.', 'Alack,', 'disposition,', \"in's\", 'Denmark:', 'dulls', 'powers', 'Dead.', 'profit', 'ourselves', 'consummation', \"fellow's\", 'unless', 'child.', 'remove:', 'breed', 'is,', 'single', 'sure', 'hence', 'comfort', 'purse,', 'Whose', 'calves', \"saw't.\", 'Play', 'darkness,', 'bear', 'well:', 'lived,', 'sin,', 'boughs', 'birth', 'tricks,', 'lord!', 'perusal', 'news.', 'kissing', 'tongue,', 'Resembles', 'proceed', '\"Nothing,\"', 'shock', 'John-a-dreams,', \"swear't.\", 'palmy', 'say;', 'himself.', 'lacks', 'desire', 'affection', 'celebrated,', 'croaking', 'laughed', 'life;', 'both?', 'fertile:', 'horrors,--he', 'plentiful', 'mother:', 'thee,', 'fakirs', \"law's\", 'madam.', 'queen:', 'phrase', 'commission', 'ordinant.', 'moved,\"', \"express'd\", '\"Sergeant-Major', 'Came', 'chide,', 'pours', 'heartily.', 'faces,', 'herself;', '\"Don\\'t', 'PAW,', 'discretion', 'spurns', 'Perpend.', 'sadness,', 'shrouding', 'tutor:', 'GUILDENSTERN,', 'truepenny?', 'post.', 'confine', 'cause', 'lenten', 'clothes,', 'arms?', 'flagon', 'greeted', 'Hey', 'amiss.', 'assured', 'malicious', 'worn.', 'cries', 'picture,', 'thought-sick', 'according', 'storm,', 'three,', 'course', 'aslant', 'CLAUDIUS]', 'harsh;', 'paw!\"', 'shuffled', 'Absent', \"honour'd\", 'prate', 'seasons', 'freely;', 'children', 'excellent', 'admittance', 'dally;', 'idol,', \"'gainst\", 'transformation;', 'porpentine:', 'vacancy', 'bells', 'believe,', 'feature', 'almost', 'regarding', 'none', 'Might,', 'trouble', 'commended', 'Sit', 'desert,', 'Have', 'song?', 'cause,', 'unworthy', 'wished?\"', 'past.', 'third,', 'army', 'Nature', 'sir;\"', 'streets:', 'platform.', 'mayst', 'disclaiming', 'Fortinbras:', 'thither.', 'wildness:', 'fear?', 'maid', 'Gives', 'likes', 'backward.', 'quickly,', 'doubtful', 'much?\"', 'month:', 'already,', 'straight.', 'thorny', 'thy', 'salt', 'million;', 'know,', 'note', 'threats', 'wagered', 'bosom:', 'grave.', 'roses', 'mine;', 'would;', 'fishmonger:', \"you'd\", 'mattering', 'near', 'son?', 'carp', 'jot', 'spade:', 'packing:', \"consequence,'\", 'Faith,', 'pocket,', 'listened', 'peoples.', 'desires.', \"'closes\", 'borrower', 'profit,', 'board.', 'top.', 'modesty,', 'see?', 'sounded,', 'along.', 'Holla!', 'chopine.', 'state;', 'vailed', 'labour:', 'govern', 'farewell!', 'index?', 'Reads', 'virgin', 'hollow', \"touch'd,\", 'Whereon', 'patient', 'doomsday', 'drinking,', 'nunnery.', 'perhaps', 'art.', 'Save', 'whore,', 'offends', 'babe!', 'sword', 'ear', 'declension,', 'within', 'fierce', 'swaddling-clouts.', 'squeezing', 'involving', 'solid', 'suppress', 'rawer', 'counter,', 'trick;', 'orisons', 'wing--', 'purport', 'shortens', 'knees;', 'Saw?', 'terrible', 'employ', 'hey-day', 'yond', 'thunder', 'Meantime', 'vouchers,', 'barren', 'winks,', 'relieved', 'days,', 'crawling', 'tomb', 'grown', 'proud,', 'more;', 'strange!', 'yesterday,', 'Guildenstern.', 'bound,', 'Olympus.', 'pestilence', 'hear.', 'slain,', 'how.', 'vantage.', \"'In\", 'pray', 'beast,', 'love.', 'humble,', 'strike,', 'next,', 'One.', 'Treason!', 'monstrous', 'sconce', 'visitor', 'sweet:', 'moved,', 'Visit', 'thee?', 'now!', 'rags,', 'prince,', 'wonted', 'cannon', 'Unto', 'advanced', 'to-night', 'none,', \"'Adieu,\", 'land,', 'Mass,', 'work?', 'Nights,\"', 'afterward', 'laboursome', 'Gertrude,', 'entreated', 'transform', 'verity', 'gallows', 'condolement', 'kind.', 'knee', 'prosaic', 'quietly,', 'Rough-hew', \"quarter'd,\", 'direction', 'creation', 'life?', 'what,', 'speech,', 'voyage;', 'arrived', 'given', 'further', 'Exeunt', 'Subscribed', 'honesty?', 'jarred', \"Let's\", 'mote', 'inclining?', 'dye', 'late:', 'mental', 'succession', 'broke.', 'prevent,', 'audience,', 'About,', 'lord?', 'talk,', 'queen!', 'sorrow,', 'forest', 'liquor.', 'paragon', 'bisson', 'villain', 'body,', 'party', 'bait', 'parching', 'drunk', 'vengeance', 'year', 'reels;', 'Groped', 'heroes', 'petition,', 'hatch', 'bubbles', 'else--be', 'spent.', 'sobs', 'abstract', 'blown,', 'impart', 'please;', 'give,', 'sleep?', 'kin.', 'rights', 'mettle', 'Laertes--', 'overdone', 'Almost', 'region', 'ends', 'Haply', 'Thoughts', 'after.', 'chapel.', 'loudly.', '\"There', '[Rising]', 'spacious', 'massy', 'sister', 'curb', 'heavy,', 'forehead', 'grave-making?', \"'Sblood,\", 'England', 'potency.', 'art', \"'Faith,\", 'defeats', 'here!', 'respects', 'records,', 'ulcerous', 'Blasted', 'adheres.', 'mirror', 'effects', 'honeying', 'moon:', 'handsaw.', 'returns,', 'Welcome,', 'Hold', 'tunes;', 'groaning', 'have,', 'spectators', 'IV.', 'forefinger', \"do't\", 'cleverly.', 'unpolluted', 'wrinkled,', 'blunted', 'Elsinore.', 'world.', 'England?', 'humanity', 'afflict', 'cannon,', 'captains', 'passed', 'further,', 'HAMLET;', 'despite', 'tones--\"a', 'musty.', 'wooes', 'burnt', 'besides', 'forget:', 'heat', 'sirs,', '\"And', 'Conjures', 'inquired.', 'Take', 'slowly', 'sides.', 'sanity', 'But,', 'fat', 'examined', 'botch', 'potion.', \"encounter'd.\", 'glimpses', 'Repent', 'deserve,', 'anon;', 'nomination', 'sheet:', \"in't\", 'move', 'says;', 'office', 'once', 'softly', 'unfold', 'issue', 'wish.', 'survivor', 'said;', 'music!', 'key', 'proud', \"turn'd\", 'calls', 'shelf', 'bringing', 'bitter,', 'broach', 'falls', 'mockery.', 'Unconscious', 'numbers;', 'matter.\"', 'wide;', 'of.', 'questioned.', 'dreaded', 'never,', 'Been', 'No;', 'distracted', 'rugged', 'virtue;', \"in't.\", 'does', 'passes', 'revenged', 'listening.', 'plucks', 'courtiers:', 'foil', 'argal,', 'fearfully.', 'GERTRUDE,', 'days.', 'villain?', 'absurd', 'plague,', 'obstinate', 'thereabout', 'Captain,', 'HORATIO,', 'connection', 'shell', 'hinges', 'fight', 'Wretched', 'command:', \"Adam's\", 'reason,', 'discovery,', 'hand?', 'perfume', 'Are', 'unmannerly.', 'PRINCE', 'pounds,', \"shadow's\", 'common.', 'indeed;', 'gross', \"sexton's\", 'bilboes.', 'are,', 'putting', \"Fall'n\", 'Friends', 'express', 'sting', 'ago,', 'replication', 'angels!', 'Dane:', \"speak,'\", 'follow.', 'eyes?', 'An', 'retired', 'imagination', 'protestation', 'Thus', 'moan:', 'ha?', 'falling', 'otherwise?--', 'face?', 'tyrant,', 'Nothing,', 'Examples', 'close', 'confines,', 'presence;', \"Arm'd,\", 'newness.', 'bow', 'Of', 'poised', 'canker', 'persever', 'russet', 'cleared', 'Know', 'bellowed', 'Imperious', 'brings', '\"Check.\"', 'film', 'forged', 'daughter', 'start.', 'This,', 'Has', 'majesty;', 'arms,', 'Sweets', \"venom'd\", 'wish,\"', 'useful', 'slain?', 'mouse;', 'gaudy;', 'stands', 'depart.', 'on.', \"kill'd\", \"Pathway's\", 'harm,\"', 'commanded.', 'libertine,', 'touch', 'daughter?', 'go;', \"'The\", 'Priam.', 'have.', 'apprehension,', 'black,', 'reads:', 'importunity.', 'ROSENCRANTZ,', 'unforced', 'occasions', 'awry,', 'wisdom', \"think'st\", 'joy', 'diet:', 'Sweet,', \"dupp'd\", 'blotchy', 'toy', 'midnight', 'long.', 'chilled', 'brook,', 'passionate', 'stood,', 'welcome.', 'war;', 'indifferent', 'year.', \"maid's\", 'exercises;', 'wrong;', 'behavior.', 'tis', 'no?', 'shoulder', 'acted;', 'fingers,', 'pitiful', 'myself,\"', 'awhile;', 'hits', 'guilt,', 'terms,', 'otherwise:', 'chanson', 'cannot', 'wits', 'warn', 'purposes.', 'motionless,', 'wholesome;', \"men's\", 'more:', 'insinuation', \"seeks.'\", 'device,', 'forcing', 'beck', 'multitude,', 'quillets,', 'levies,', 'forfeit,', \"gave't\", 'daughter:', 'southerly', 'pound.', 'celestial', 'blasted,', 'rashness', 'awoke', 'coming.\"', 'beauty', 'desires', 'contumely,', 'heaven!', 'glad', 'friendship,', 'do:', 'verse', 'this!', 'abridgement', 'food,', 'else.', 'cheek.', 'teeth,', 'garland', 'shuddering', 'load', \"Denmark's\", 'steps,', 'telling', 'feast', 'tell.', 'mirth,', 'feelingly', 'snow,', \"vanish'd\", 'german', 'claim', 'espials,', 'away:', 'weep', 'tut!\"', 'Feeds', 'before?', 'Ha!', 'retirement', 'fortunes', 'others.', 'slave', 'soldier:', \"'twere\", 'tragical-', 'Norway?', 'damnation.', 'journeys', '\"give', 'heavens!', 'no;', 'denied', 'granted,\"', 'ah', 'slow', 'Ay', 'tables.', 'VOLTIMAND', 'dog', 'green', 'expectation', 'join', 'tempt', 'native', 'hangers', 'matches', 'exchange,', 'undergo--', 'rat,', 'exhort', 'it.\"', 'gaming,', 'bulwark', 'maggots', \"You've\", 'unvalued', 'long?', \"soul's\", 'for;', 'Sits', 'lesser', 'Dane.', 'line:', 'begun,', 'canopy,', 'peruse', 'eterne', 'pall:', 'prove,', 'abused:', 'inch', 'dirt?', 'bed-rid,', 'broke;', 'siege.', 'known;', 'infusion', 'Denmark', 'hence:', 'accord', 'danger.', 'competent', 'skull', 'Scripture?', 'interposed.', 'of?', 'speech', 'occasion.', 'errors,', 'fight?', \"what's\", 'Pale', 'Messenger', 'shouldst', \"donn'd\", 'shove', 'bellow', \"O'er\", 'encounter', 'tristful', 'ability', 'grunt', 'origin--', 'repent:', 'revolution,', \"stain'd,\", 'forgiveness', 'hear:', \"house's\", 'thee.--Something', 'Drink', 'bag', 'world!', 'honest?', 'nothing:', 'Re-enter', \"o'erhasty\", 'My', \"We'll\", 'door.\"', 'daisy:', 'Hum!', 'pipes.', 'radical', 'own;', 'Sir?', 'Hercules', 'leave?', \"'em?\", 'have?'}\n"
          ]
        }
      ]
    },
    {
      "cell_type": "markdown",
      "metadata": {
        "id": "YdhfWmz2iYna"
      },
      "source": [
        "### <span style=\"text-align: right; direction: rtl; float: right; clear: both;\">עריכת קבוצה</span>"
      ]
    },
    {
      "cell_type": "markdown",
      "metadata": {
        "id": "FuRe1VH8iYna"
      },
      "source": [
        "<p style=\"text-align: right; direction: rtl; float: right; clear: both;\">\n",
        "    קבוצה היא mutable – אפשר לערוך אותה מבלי ליצור קבוצה חדשה, בדומה לרשימות או למילונים.<br>\n",
        "    תכונה זו מאפשרת לנו לצרף לקבוצה איברים חדשים או להסיר ממנה איברים קיימים בקלות רבה.\n",
        "</p>"
      ]
    },
    {
      "cell_type": "markdown",
      "metadata": {
        "id": "oGeF0yGYiYna"
      },
      "source": [
        "<p style=\"text-align: right; direction: rtl; float: right; clear: both;\">\n",
        "    נוסיף לקבוצת שמות הדמויות בצבי הנינג'ה את אפריל או'ניל באמצעות הפעולה <code>add</code>:\n",
        "</p>"
      ]
    },
    {
      "cell_type": "code",
      "execution_count": 17,
      "metadata": {
        "id": "7U56GiPniYna",
        "outputId": "2f48d2ea-2703-4299-a550-8c1712c00d05",
        "colab": {
          "base_uri": "https://localhost:8080/"
        }
      },
      "outputs": [
        {
          "output_type": "stream",
          "name": "stdout",
          "text": [
            "{'Shredder', \"April O'Neil\", 'Raphael', 'Michelangelo', 'Splinter', 'Donatelo', 'Leonardo'}\n"
          ]
        }
      ],
      "source": [
        "ninja_turtles_characters.add(\"April O'Neil\")\n",
        "print(ninja_turtles_characters)"
      ]
    },
    {
      "cell_type": "markdown",
      "metadata": {
        "id": "jQkItk2AiYna"
      },
      "source": [
        "<p style=\"text-align: right; direction: rtl; float: right; clear: both;\">\n",
        "    ונמחק מהקבוצה את שרדר הרשע באמצעות הפעולה <code>remove</code>:\n",
        "</p>"
      ]
    },
    {
      "cell_type": "code",
      "execution_count": 18,
      "metadata": {
        "id": "3XMufAGbiYna",
        "outputId": "7e3a7a76-7313-45c3-9451-c5d66ad084ec",
        "colab": {
          "base_uri": "https://localhost:8080/"
        }
      },
      "outputs": [
        {
          "output_type": "stream",
          "name": "stdout",
          "text": [
            "{\"April O'Neil\", 'Raphael', 'Michelangelo', 'Splinter', 'Donatelo', 'Leonardo'}\n"
          ]
        }
      ],
      "source": [
        "ninja_turtles_characters.remove(\"Shredder\")\n",
        "print(ninja_turtles_characters)"
      ]
    },
    {
      "cell_type": "markdown",
      "metadata": {
        "id": "kUY3-lwIiYnb"
      },
      "source": [
        "<p style=\"text-align: right; direction: rtl; float: right; clear: both;\">\n",
        "    שימו לב שניסיון למחוק ערך שלא קיים בקבוצה יכעיס את פייתון:\n",
        "</p>"
      ]
    },
    {
      "cell_type": "code",
      "execution_count": 19,
      "metadata": {
        "id": "dCvoKHLYiYnb",
        "outputId": "93819372-1ea8-482b-94fc-4ce8be834e9a",
        "colab": {
          "base_uri": "https://localhost:8080/",
          "height": 141
        }
      },
      "outputs": [
        {
          "output_type": "error",
          "ename": "KeyError",
          "evalue": "'Krang'",
          "traceback": [
            "\u001b[0;31m---------------------------------------------------------------------------\u001b[0m",
            "\u001b[0;31mKeyError\u001b[0m                                  Traceback (most recent call last)",
            "\u001b[0;32m<ipython-input-19-55dcd81136e7>\u001b[0m in \u001b[0;36m<cell line: 1>\u001b[0;34m()\u001b[0m\n\u001b[0;32m----> 1\u001b[0;31m \u001b[0mninja_turtles_characters\u001b[0m\u001b[0;34m.\u001b[0m\u001b[0mremove\u001b[0m\u001b[0;34m(\u001b[0m\u001b[0;34m\"Krang\"\u001b[0m\u001b[0;34m)\u001b[0m\u001b[0;34m\u001b[0m\u001b[0;34m\u001b[0m\u001b[0m\n\u001b[0m",
            "\u001b[0;31mKeyError\u001b[0m: 'Krang'"
          ]
        }
      ],
      "source": [
        "ninja_turtles_characters.remove(\"Krang\")"
      ]
    },
    {
      "cell_type": "markdown",
      "metadata": {
        "id": "e46qWAIJiYnb"
      },
      "source": [
        "<p style=\"text-align: right; direction: rtl; float: right; clear: both;\">\n",
        "    אלא אם כן נשתמש בפעולה <code>discard</code>, שמאפשרת לנו למחוק איברים מקבוצות, בלי לחשוש משגיאה:\n",
        "</p>"
      ]
    },
    {
      "cell_type": "code",
      "execution_count": 20,
      "metadata": {
        "id": "8rce7UfYiYnb",
        "outputId": "8070bf41-b083-4977-a637-b7a50c51bfc3",
        "colab": {
          "base_uri": "https://localhost:8080/"
        }
      },
      "outputs": [
        {
          "output_type": "stream",
          "name": "stdout",
          "text": [
            "{\"April O'Neil\", 'Raphael', 'Michelangelo', 'Splinter', 'Donatelo', 'Leonardo'}\n"
          ]
        }
      ],
      "source": [
        "ninja_turtles_characters.discard(\"Krang\")\n",
        "print(ninja_turtles_characters)"
      ]
    },
    {
      "cell_type": "markdown",
      "metadata": {
        "id": "CoKKxvhsiYnb"
      },
      "source": [
        "<p style=\"text-align: right; direction: rtl; float: right; clear: both;\">\n",
        "    ולסיום – הדמויות הרעות תמיד חוזרות לסיבוב שני.<br>\n",
        "    נרחיב את הקבוצה שלנו ונוסיף אליה את הנבלים מ\"שבט הרגל\" (בחיי, ככה הם תרגמו את Foot Clan!) במכה אחת, באמצעות הפעולה <code>update</code>:\n",
        "</p>"
      ]
    },
    {
      "cell_type": "code",
      "execution_count": 21,
      "metadata": {
        "id": "9diMwea1iYnb",
        "outputId": "c3cb22da-6945-4470-fae3-ec4d8da94804",
        "colab": {
          "base_uri": "https://localhost:8080/"
        }
      },
      "outputs": [
        {
          "output_type": "stream",
          "name": "stdout",
          "text": [
            "{'Shredder', 'Raphael', 'Michelangelo', 'Donatelo', 'Leonardo', 'Karai', \"April O'Neil\", 'Splinter', 'Krang'}\n"
          ]
        }
      ],
      "source": [
        "foot_clan_members = {'Shredder', 'Krang', 'Karai'}\n",
        "ninja_turtles_characters.update(foot_clan_members)\n",
        "print(ninja_turtles_characters)"
      ]
    },
    {
      "cell_type": "markdown",
      "metadata": {
        "id": "6qy8YTL1iYnb"
      },
      "source": [
        "<div class=\"align-center\" style=\"display: flex; text-align: right; direction: rtl; clear: both;\">\n",
        "    <div style=\"display: flex; width: 10%; float: right; clear: both;\">\n",
        "        <img src=\"https://github.com/PythonFreeCourse/Notebooks/blob/main/content/week06/images/exercise.svg?raw=1\" style=\"height: 50px !important;\" alt=\"תרגול\">\n",
        "    </div>\n",
        "    <div style=\"width: 70%\">\n",
        "        <p style=\"text-align: right; direction: rtl; float: right; clear: both;\">\n",
        "            צרו קבוצה של 100 המספרים הראשוניים הראשונים, וצרפו אליה את כל המספרים הזוגיים בין 1 ל־1,000.<br>\n",
        "            צרו קבוצה נוספת של המספרים בין 1 ל־1,000 שסכום ספרותיהם קטן מ־4.<br>\n",
        "            כמה מספרים משותפים לשתי הקבוצות שיצרתם?\n",
        "        </p>\n",
        "    </div>\n",
        "</div>"
      ]
    },
    {
      "cell_type": "markdown",
      "metadata": {
        "id": "eHqOvmK0iYnb"
      },
      "source": [
        "### <span style=\"text-align: right; direction: rtl; float: right; clear: both;\">בדיקות שייכות</span>"
      ]
    },
    {
      "cell_type": "markdown",
      "metadata": {
        "id": "19w9P05fiYnb"
      },
      "source": [
        "<p style=\"text-align: right; direction: rtl; float: right; clear: both;\">\n",
        "    אחת התכונות המועילות ביותר של קבוצות היא שאפשר לבצע בעזרתן בדיקות שייכות במהירות רבה.<br>\n",
        "    בדיוק כמו חיפוש מפתח במילון, בקבוצה אפשר למצוא ערך בתוך זמן קצר מאוד.\n",
        "</p>"
      ]
    },
    {
      "cell_type": "code",
      "execution_count": 22,
      "metadata": {
        "id": "_PcEi04MiYnc"
      },
      "outputs": [],
      "source": [
        "only_turtles = {'Donatelo', 'Raphael', 'Michelangelo', 'Leonardo'}"
      ]
    },
    {
      "cell_type": "code",
      "execution_count": 23,
      "metadata": {
        "id": "8U2Fyu04iYnc",
        "outputId": "70250b2a-1d8d-4d17-944d-f289cb8c9240",
        "colab": {
          "base_uri": "https://localhost:8080/"
        }
      },
      "outputs": [
        {
          "output_type": "execute_result",
          "data": {
            "text/plain": [
              "True"
            ]
          },
          "metadata": {},
          "execution_count": 23
        }
      ],
      "source": [
        "'Donatelo' in only_turtles"
      ]
    },
    {
      "cell_type": "markdown",
      "metadata": {
        "id": "lz54Zd3giYnc"
      },
      "source": [
        "<p style=\"text-align: right; direction: rtl; float: right; clear: both;\">\n",
        "    אפשר גם לבדוק אם כל האיברים של קבוצה אחת נמצאים בתוך קבוצה אחרת:\n",
        "</p>"
      ]
    },
    {
      "cell_type": "code",
      "execution_count": 24,
      "metadata": {
        "id": "wi2_n0dHiYnc",
        "outputId": "f3181907-7c8a-4f15-9a88-32c7c27274d9",
        "colab": {
          "base_uri": "https://localhost:8080/"
        }
      },
      "outputs": [
        {
          "output_type": "stream",
          "name": "stdout",
          "text": [
            "{'Giotto', 'Michelangelo', 'Raphael', 'Titian', 'Masaccio', 'Donatelo', 'Leonardo'}\n"
          ]
        }
      ],
      "source": [
        "print(italian_artists)"
      ]
    },
    {
      "cell_type": "code",
      "execution_count": 25,
      "metadata": {
        "id": "k2Jd6SNqiYnc",
        "outputId": "df2861f9-2011-4e04-a437-5db0f6f35e34",
        "colab": {
          "base_uri": "https://localhost:8080/"
        }
      },
      "outputs": [
        {
          "output_type": "execute_result",
          "data": {
            "text/plain": [
              "True"
            ]
          },
          "metadata": {},
          "execution_count": 25
        }
      ],
      "source": [
        "only_turtles.issubset(italian_artists)"
      ]
    },
    {
      "cell_type": "markdown",
      "metadata": {
        "id": "4qPhQVkviYnc"
      },
      "source": [
        "<p style=\"text-align: right; direction: rtl; float: right; clear: both;\">\n",
        "    ולהפך – אם קבוצה מסוימת מכילה את כל איברי הקבוצה השנייה:\n",
        "</p>"
      ]
    },
    {
      "cell_type": "code",
      "execution_count": 26,
      "metadata": {
        "id": "e-FqA4I7iYnc",
        "outputId": "1f6f451b-1c85-412b-8624-d3c348c8a1d3",
        "colab": {
          "base_uri": "https://localhost:8080/"
        }
      },
      "outputs": [
        {
          "output_type": "execute_result",
          "data": {
            "text/plain": [
              "True"
            ]
          },
          "metadata": {},
          "execution_count": 26
        }
      ],
      "source": [
        "italian_artists.issuperset(only_turtles)"
      ]
    },
    {
      "cell_type": "markdown",
      "metadata": {
        "id": "B6g-6HLEiYnc"
      },
      "source": [
        "<figure>\n",
        "    <img src=\"https://github.com/PythonFreeCourse/Notebooks/blob/main/content/week06/images/venn2.svg?raw=1\" style=\"max-width: 400px; margin-right: auto; margin-left: auto; text-align: center;\" alt=\"בתמונה מופיעים שני עיגולים: עיגול טורקיז גדול, מעליו מופיע הכיתוב 'אומנים איטלקים', ובתוכו עיגול חום קטן, מעליו מופיע הכיתוב 'שמות הצבים'. בעיגול החום נמצאים Donatelo, Leonardo, Michelangelo ו־Raphael, ובעיגול הטורקיז Giotto, Masacccio ו־Titian.\"/>\n",
        "    <figcaption style=\"margin-top: 2rem; text-align: center; direction: rtl;\">דיאגרמת ון שמדגימה ששמות צבי הנינג'ה הם תת־קבוצה של אומנים איטלקים.<br>\n",
        "    אפשר לראות ששטח העיגול של הצבים \"נבלע\" בשטח העיגול של האומנים האיטלקים.</figcaption>\n",
        "</figure>"
      ]
    },
    {
      "cell_type": "markdown",
      "metadata": {
        "id": "APXSumEeiYnc"
      },
      "source": [
        "### <span style=\"text-align: right; direction: rtl; float: right; clear: both;\">תרגיל ביניים: מהיר ואמין</span>"
      ]
    },
    {
      "cell_type": "markdown",
      "metadata": {
        "id": "anAIGF3niYnc"
      },
      "source": [
        "<p style=\"text-align: right; direction: rtl; float: right; clear: both;\">\n",
        "    בקובץ words.txt ישנה רשימת מילים ארוכה מאוד.<br>\n",
        "</p>"
      ]
    },
    {
      "cell_type": "markdown",
      "metadata": {
        "id": "L5trZ5y8iYnd"
      },
      "source": [
        "<ol style=\"text-align: right; direction: rtl; float: right; clear: both;\">\n",
        "    <li>בנו רשימה בשם <var>words_list</var> מכל המילים המופיעות בקובץ.</li>\n",
        "    <li>בנו קבוצה בשם <var>words_set</var> מכל המילים המופיעות בקובץ.</li>\n",
        "    <li>בנו פונקציה בשם <var>average_runtime</var> למדידת ביצועים, שתעזור לכם להחליט מה מהיר יותר:\n",
        "        <ol>\n",
        "            <li>חפשו 1,000 פעמים את המילה zwitterion בכל אחד ממבני הנתונים שיצרתם.</li>\n",
        "            <li>הפונקציה תחזיר את הזמן ההמוצע שנמשך החיפוש במבנה הנתונים.</li>\n",
        "        </ol>\n",
        "    </li>\n",
        "</ol>"
      ]
    },
    {
      "cell_type": "markdown",
      "metadata": {
        "id": "UC8zdBLLiYnd"
      },
      "source": [
        "<p style=\"text-align: right; direction: rtl; float: right; clear: both;\">\n",
        "    כמה זמן בממוצע נמשך חיפוש המילה ברשימה? ובקבוצה?<br>\n",
        "    רמז: <span style='background: black; color: black;'>השתמשו במודול <var>time</var>.</span>\n",
        "</p>"
      ]
    },
    {
      "cell_type": "markdown",
      "metadata": {
        "id": "dc9g30hKiYnd"
      },
      "source": [
        "### <span style=\"text-align: right; direction: rtl; float: right; clear: both;\">אופרטורים בין קבוצות</span>"
      ]
    },
    {
      "cell_type": "markdown",
      "metadata": {
        "id": "I9G4NGIWiYnd"
      },
      "source": [
        "<p style=\"text-align: right; direction: rtl; float: right; clear: both;\">\n",
        "    לעיתים יהיה לנו נוח יותר להשתמש באופרטורים במקום בפעולות.<br>\n",
        "    לדוגמה, הפעולה של חיתוך בין שמות הדמויות בצבי הנינג'ה לשמות האומנים האיטלקים שנעשתה כך:\n",
        "</p>"
      ]
    },
    {
      "cell_type": "code",
      "execution_count": 27,
      "metadata": {
        "id": "1w3wJAfZiYne",
        "outputId": "a5e7ccb1-38c7-46f8-f0c4-68b28c6b2cec",
        "colab": {
          "base_uri": "https://localhost:8080/"
        }
      },
      "outputs": [
        {
          "output_type": "execute_result",
          "data": {
            "text/plain": [
              "{'Donatelo', 'Leonardo', 'Michelangelo', 'Raphael'}"
            ]
          },
          "metadata": {},
          "execution_count": 27
        }
      ],
      "source": [
        "italian_artists.intersection(ninja_turtles_characters)"
      ]
    },
    {
      "cell_type": "markdown",
      "metadata": {
        "id": "IWIFC42NiYnh"
      },
      "source": [
        "<p style=\"text-align: right; direction: rtl; float: right; clear: both;\">\n",
        "    יכולה להיעשות גם כך:\n",
        "</p>"
      ]
    },
    {
      "cell_type": "code",
      "execution_count": 28,
      "metadata": {
        "id": "IyGMRWpxiYni",
        "outputId": "15e9e1ac-09a5-4dde-c0b6-a7d36228dfd8",
        "colab": {
          "base_uri": "https://localhost:8080/"
        }
      },
      "outputs": [
        {
          "output_type": "execute_result",
          "data": {
            "text/plain": [
              "{'Donatelo', 'Leonardo', 'Michelangelo', 'Raphael'}"
            ]
          },
          "metadata": {},
          "execution_count": 28
        }
      ],
      "source": [
        "italian_artists & ninja_turtles_characters"
      ]
    },
    {
      "cell_type": "markdown",
      "metadata": {
        "id": "js2kwAnfiYni"
      },
      "source": [
        "<p style=\"text-align: right; direction: rtl; float: right; clear: both;\">\n",
        "    השימוש באופרטורים בין קבוצות יכול לקצר את הכתיבה ולשוות לה מראה נקי יותר.<br>\n",
        "    ריכזנו עבורכם אופרטורים שבהם משתמשים תדיר כשעובדים עם קבוצות:\n",
        "</p>"
      ]
    },
    {
      "cell_type": "markdown",
      "metadata": {
        "id": "8YaF1yxHiYni"
      },
      "source": [
        "<table style=\"text-align: right; direction: rtl; clear: both; font-size: 1.3rem\">\n",
        "    <caption style=\"text-align: center; direction: rtl; clear: both; font-size: 2rem; padding-bottom: 2rem;\">אופרטורים בין קבוצות</caption>\n",
        "    <thead>\n",
        "        <tr>\n",
        "            <th>שם פעולה</th>\n",
        "            <th>שם הפעולה בפייתון</th>\n",
        "            <th>אופרטור</th>\n",
        "            <th>דוגמה</th>\n",
        "        </tr>\n",
        "    </thead>\n",
        "    <tbody>\n",
        "        <tr>\n",
        "            <td>איחוד</td>\n",
        "            <td>union</td>\n",
        "            <td><code>|</code></td>\n",
        "            <td><code dir=\"ltr\">{1, 3, 5} | {1, 2, 3}</code> מחזיר <code dir=\"ltr\">{1, 2, 3, 5}</code></td>\n",
        "        </tr>\n",
        "        <tr>\n",
        "            <td>חיתוך</td>\n",
        "            <td>intersection</td>\n",
        "            <td><code>&</code></td>\n",
        "            <td><code dir=\"ltr\">{1, 3, 5} & {1, 2, 3}</code> מחזיר <code dir=\"ltr\">{1, 3}</code></td>\n",
        "        </tr>\n",
        "        <tr>\n",
        "            <td>הפרש</td>\n",
        "            <td>difference</td>\n",
        "            <td><code>-</code></td>\n",
        "            <td>\n",
        "                <code dir=\"ltr\">{1, 3, 5} - {1, 2, 3}</code> מחזיר <code dir=\"ltr\">{5}</code><br>\n",
        "                <code dir=\"ltr\">{1, 2, 3} - {1, 3, 5}</code> מחזיר <code dir=\"ltr\">{2}</code>\n",
        "            </td>\n",
        "        </tr>\n",
        "        <tr>\n",
        "            <td>הפרש סימטרי</td>\n",
        "            <td>symmetric_difference</td>\n",
        "            <td><code>^</code></td>\n",
        "            <td><code dir=\"ltr\">{1, 2, 3} ^ {1, 3, 5}</code> מחזיר <code dir=\"ltr\">{2, 5}</code></td>\n",
        "        </tr>\n",
        "        <tr>\n",
        "            <td>בדיקת שייכות/הכלה</td>\n",
        "            <td>issubset/issuperset</td>\n",
        "            <td><code dir=\"ltr\">&lt;=</code></td>\n",
        "            <td>\n",
        "                <code dir=\"ltr\">{1, 2, 3} &lt;= {1, 3, 5}</code> מחזיר <code>False</code><br>\n",
        "                <code dir=\"ltr\">{1, 2, 3} &lt;= {1, 2, 3, 4, 5}</code> מחזיר <code>True</code>\n",
        "            </td>\n",
        "        </tr>\n",
        "    </tbody>\n",
        "</table>"
      ]
    },
    {
      "cell_type": "markdown",
      "metadata": {
        "id": "jtXyDmfCiYnj"
      },
      "source": [
        "<p style=\"text-align: right; direction: rtl; float: right; clear: both;\">\n",
        "    שימו לב לכך שאופרטורים בין קבוצות לרוב יוצרים קבוצה חדשה.<br>\n",
        "    במקרה שאנחנו יכולים לשנות קבוצה קיימת ולנצל את היותה של קבוצה mutable, נעדיף לבחור בדרך הפעולה הזו כדי לייעל את התוכנית שלנו.<br>\n",
        "</p>"
      ]
    },
    {
      "cell_type": "markdown",
      "metadata": {
        "id": "RKyjQJKpiYnj"
      },
      "source": [
        "<p style=\"text-align: right; direction: rtl; float: right; clear: both;\">\n",
        "    כך, לדוגמה, הוספת איברים לקבוצה בצורה הזו:\n",
        "</p>"
      ]
    },
    {
      "cell_type": "code",
      "execution_count": 29,
      "metadata": {
        "id": "D4lXUaXDiYnj",
        "outputId": "5e3e9f25-a5f1-4e46-c5b9-862e5b9468d8",
        "colab": {
          "base_uri": "https://localhost:8080/"
        }
      },
      "outputs": [
        {
          "output_type": "stream",
          "name": "stdout",
          "text": [
            "{2, 3, 5, 7, 11, 13, 17, 19}\n"
          ]
        }
      ],
      "source": [
        "primes = {2, 3, 5, 7}\n",
        "primes_to_add = {11, 13, 17, 19}\n",
        "primes.update(primes_to_add)\n",
        "print(primes)"
      ]
    },
    {
      "cell_type": "markdown",
      "metadata": {
        "id": "46GUeF3GiYnk"
      },
      "source": [
        "<p style=\"text-align: right; direction: rtl; float: right; clear: both;\">\n",
        "    עדיפה על הצורה הזו:\n",
        "</p>"
      ]
    },
    {
      "cell_type": "code",
      "execution_count": 30,
      "metadata": {
        "id": "KNRBFNF9iYnk",
        "outputId": "2d9de5ea-6f04-45c6-a740-d9a3274a8f6d",
        "colab": {
          "base_uri": "https://localhost:8080/"
        }
      },
      "outputs": [
        {
          "output_type": "stream",
          "name": "stdout",
          "text": [
            "{2, 3, 5, 7, 11, 13, 17, 19}\n"
          ]
        }
      ],
      "source": [
        "primes = {2, 3, 5, 7}\n",
        "primes_to_add = {11, 13, 17, 19}\n",
        "primes = primes | primes_to_add\n",
        "print(primes)"
      ]
    },
    {
      "cell_type": "markdown",
      "metadata": {
        "id": "iwan06p_iYnl"
      },
      "source": [
        "## <span style=\"text-align: right; direction: rtl; float: right; clear: both;\">תרגיל לדוגמה</span>"
      ]
    },
    {
      "cell_type": "markdown",
      "metadata": {
        "id": "HENfHp_SiYnl"
      },
      "source": [
        "<p style=\"text-align: right; direction: rtl; float: right; clear: both;\">\n",
        "    כתבו פונקציה שמקבלת נתיב ל־2 תיקיות, ומחזירה שמות של קבצים שמופיעים בשתי התיקיות.\n",
        "</p>"
      ]
    },
    {
      "cell_type": "code",
      "execution_count": null,
      "metadata": {
        "id": "j3OzpyJciYnl"
      },
      "outputs": [],
      "source": [
        "import os\n",
        "\n",
        "\n",
        "def get_filenames(path):\n",
        "    for file in os.scandir(path):\n",
        "        yield file.name\n",
        "\n",
        "\n",
        "def common_filenames(path1, path2):\n",
        "    path1_files = set(get_filenames(path1))\n",
        "    path2_files = set(get_filenames(path2))\n",
        "    return path1_files & path2_files\n",
        "\n",
        "\n",
        "common_filenames('images', 'resources/week5_images')"
      ]
    },
    {
      "cell_type": "markdown",
      "metadata": {
        "id": "0QD_gL9QiYnl"
      },
      "source": [
        "## <span style=\"text-align: right; direction: rtl; float: right; clear: both;\">תרגילים</span>"
      ]
    },
    {
      "cell_type": "markdown",
      "metadata": {
        "id": "KrFIqN0liYnl"
      },
      "source": [
        "### <span style=\"text-align: right; direction: rtl; float: right; clear: both;\">חזרת</span>"
      ]
    },
    {
      "cell_type": "markdown",
      "metadata": {
        "id": "cSo7asWNiYnl"
      },
      "source": [
        "<p style=\"text-align: right; direction: rtl; float: right; clear: both;\">\n",
        "    כתבו פונקציה בשם <var>uniquify</var> שמקבלת רשימה של איברים, ומחזירה רשימה של אותם איברים וללא כפילויות.<br>\n",
        "    הניחו שאיברי כל הרשימה הם immutable.\n",
        "</p>"
      ]
    },
    {
      "cell_type": "markdown",
      "metadata": {
        "id": "YfhQDEkuiYnl"
      },
      "source": [
        "### <span style=\"text-align: right; direction: rtl; float: right; clear: both;\">ספירת מלאי</span>"
      ]
    },
    {
      "cell_type": "markdown",
      "metadata": {
        "id": "8uQeVDiCiYnm"
      },
      "source": [
        "<p style=\"text-align: right; direction: rtl; float: right; clear: both;\">\n",
        "    כתבו פונקציה בשם <var>count_specials</var> שמקבלת מספר שלם חיובי $n$.<br>\n",
        "    הפונקציה תחזיר את מספר המספרים החיוביים הנמוכים מ־$n$, שמתחלקים ב־3 או ב־7 ללא שארית.<br>\n",
        "    לדוגמה, עבור $n=22$, המספרים הם: 3, 6, 7, 9, 12, 14, 15, 18 ו־21. במקרה כזה הפונקציה תחזיר 9.\n",
        "</p>\n",
        "<p style=\"text-align: right; direction: rtl; float: right; clear: both;\">\n",
        "    ודאו שאתם משתמשים ב־set בפתרון התרגיל.\n",
        "</p>"
      ]
    },
    {
      "cell_type": "markdown",
      "metadata": {
        "id": "SUH6X8rziYnm"
      },
      "source": [
        "### <span style=\"text-align: right; direction: rtl; float: right; clear: both;\">שטוחלנדיה</span>"
      ]
    },
    {
      "cell_type": "markdown",
      "metadata": {
        "id": "7i5ET4GciYnm"
      },
      "source": [
        "<p style=\"text-align: right; direction: rtl; float: right; clear: both;\">\n",
        "    בפריסת מקלדת סטנדרטית ישנן 3 שורות של מקשי אותיות.<br>\n",
        "    האותיות שנמצאות בפינת המקלדת השמאלית־עליונה מרכיבות את הצירוף qwerty.<br>\n",
        "    מבין שמות כל המדינות בארצות הברית, ישנו רק שם מדינה אחד שאפשר לכתוב בעזרת שורה אחת בלבד במקלדת.<br>\n",
        "</p>"
      ]
    },
    {
      "cell_type": "markdown",
      "metadata": {
        "id": "rs2MvKDyiYnm"
      },
      "source": [
        "<p style=\"text-align: right; direction: rtl; float: right; clear: both;\">\n",
        "    קראו את שמות כל המדינות בארצות־הברית מהקובץ resources/states.txt.<br>\n",
        "    כתבו פונקציה בשם <var>find_special_state</var>.<br>\n",
        "    הפונקציה תחזיר את שם המדינה שאפשר להרכיב בעזרת האותיות המופיעות באותה השורה במקלדת.\n",
        "</p>"
      ]
    },
    {
      "cell_type": "markdown",
      "metadata": {
        "id": "lNuYwZxviYnm"
      },
      "source": [
        "<p style=\"text-align: right; direction: rtl; float: right; clear: both;\">\n",
        "    לדוגמה, potter או hash הן מילים שנכתבו בעזרת שורה אחת במקלדת.<br>\n",
        "    turtle נכתבה בעזרת 2 שורות, ו־ninja נכתבה בעזרת 3 שורות.\n",
        "</p>"
      ]
    },
    {
      "cell_type": "code",
      "source": [
        "first_line = {'q', 'w', 'e', 'r', 't', 'y', 'u', 'i', 'o', 'p'}\n",
        "second_line = {'a', 's', 'd', 'f', 'g', 'h', 'j', 'k', 'l'}\n",
        "third_line = {'z', 'x', 'c', 'v', 'b', 'n', 'm'}\n",
        "\n",
        "def find_special_state():\n",
        "  with open(\"/states.txt\", \"r\") as f:\n",
        "    states = f.read().split()\n",
        "    for state in states:\n",
        "      s = set(list(state))\n",
        "      if s.issubset(first_line) or s.issubset(second_line) or s.issubset(third_line):\n",
        "        return state"
      ],
      "metadata": {
        "id": "GQEBxlV5sHQY"
      },
      "execution_count": 35,
      "outputs": []
    },
    {
      "cell_type": "code",
      "source": [
        "find_special_state()"
      ],
      "metadata": {
        "id": "rxx4Se-Kt5Tk",
        "outputId": "ad3313aa-8bcc-4998-c300-6b311e1afec7",
        "colab": {
          "base_uri": "https://localhost:8080/",
          "height": 36
        }
      },
      "execution_count": 36,
      "outputs": [
        {
          "output_type": "execute_result",
          "data": {
            "text/plain": [
              "'alaska'"
            ],
            "application/vnd.google.colaboratory.intrinsic+json": {
              "type": "string"
            }
          },
          "metadata": {},
          "execution_count": 36
        }
      ]
    }
  ],
  "metadata": {
    "kernelspec": {
      "display_name": "Python 3",
      "language": "python",
      "name": "python3"
    },
    "language_info": {
      "codemirror_mode": {
        "name": "ipython",
        "version": 3
      },
      "file_extension": ".py",
      "mimetype": "text/x-python",
      "name": "python",
      "nbconvert_exporter": "python",
      "pygments_lexer": "ipython3",
      "version": "3.7.6"
    },
    "colab": {
      "provenance": []
    }
  },
  "nbformat": 4,
  "nbformat_minor": 0
}