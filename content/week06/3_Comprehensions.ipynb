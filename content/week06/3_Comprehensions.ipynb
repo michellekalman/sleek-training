{
  "cells": [
    {
      "cell_type": "markdown",
      "metadata": {
        "id": "IfXWMbCQfINF"
      },
      "source": [
        "<img src=\"https://github.com/PythonFreeCourse/Notebooks/blob/main/content/week06/images/logo.jpg?raw=1\" style=\"display: block; margin-left: auto; margin-right: auto;\" alt=\"לוגו של מיזם לימוד הפייתון. נחש מצויר בצבעי צהוב וכחול, הנע בין האותיות של שם הקורס: לומדים פייתון. הסלוגן המופיע מעל לשם הקורס הוא מיזם חינמי ללימוד תכנות בעברית.\">"
      ]
    },
    {
      "cell_type": "markdown",
      "metadata": {
        "id": "PD6u4mu4fINI"
      },
      "source": [
        "# <span style=\"text-align: right; direction: rtl; float: right;\">Comprehensions</span>"
      ]
    },
    {
      "cell_type": "markdown",
      "metadata": {
        "id": "wWcsL4bmfINJ"
      },
      "source": [
        "## <span style=\"text-align: right; direction: rtl; float: right; clear: both;\">הקדמה</span>"
      ]
    },
    {
      "cell_type": "markdown",
      "metadata": {
        "id": "me5SYVgFfINJ"
      },
      "source": [
        "<p style=\"text-align: right; direction: rtl; float: right; clear: both;\">\n",
        "    מפתחי פייתון אוהבים מאוד קוד קצר ופשוט שמנוסח היטב.<br>\n",
        "    יוצרי השפה מתמקדים פעמים רבות בלאפשר למפתחים בה לכתוב קוד בהיר ותמציתי במהירות.<br>\n",
        "    במחברת זו נלמד איך לעבור על iterable וליצור ממנו מבני נתונים מעניינים בקלות ובמהירות.\n",
        "</p>"
      ]
    },
    {
      "cell_type": "markdown",
      "metadata": {
        "id": "8dBWtc14fINK"
      },
      "source": [
        "## <span style=\"text-align: right; direction: rtl; float: right; clear: both;\">List Comprehension</span>"
      ]
    },
    {
      "cell_type": "markdown",
      "metadata": {
        "id": "hBqSsGelfINK"
      },
      "source": [
        "### <span style=\"text-align: right; direction: rtl; float: right; clear: both;\">עיבוד רשימות</span>"
      ]
    },
    {
      "cell_type": "markdown",
      "metadata": {
        "id": "U4teZsG7fINL"
      },
      "source": [
        "<p style=\"text-align: right; direction: rtl; float: right; clear: both;\">\n",
        "    נתחיל במשימה פשוטה יחסית:<br>\n",
        "    בהינתן רשימת שמות, אני מעוניין להפוך את כל השמות ברשימה ליווניים.<br>\n",
        "    כידוע, אפשר להפוך כל שם ליווני על ידי הוספת ההברה <em>os</em> בסופו. לדוגמה, השם Yam ביוונית הוא Yamos.\n",
        "</p>"
      ]
    },
    {
      "cell_type": "code",
      "execution_count": 1,
      "metadata": {
        "id": "dHu7_eQYfINL"
      },
      "outputs": [],
      "source": [
        "names = ['Yam', 'Gal', 'Orpaz', 'Aviram']"
      ]
    },
    {
      "cell_type": "markdown",
      "metadata": {
        "id": "-SFCaZ2-fINM"
      },
      "source": [
        "<p style=\"text-align: right; direction: rtl; float: right; clear: both;\">\n",
        "    למה אנחנו מחכים? ניצור את הרשימה החדשה:\n",
        "</p>"
      ]
    },
    {
      "cell_type": "code",
      "execution_count": 2,
      "metadata": {
        "id": "T2vX5TXvfINM"
      },
      "outputs": [],
      "source": [
        "new_names = []"
      ]
    },
    {
      "cell_type": "markdown",
      "metadata": {
        "id": "boTSO04hfINN"
      },
      "source": [
        "<p style=\"text-align: right; direction: rtl; float: right; clear: both;\">\n",
        "    נעבור על הרשימה הישנה בעזרת לולאת <code>for</code>, נשרשר לכל איבר \"<em>os</em>\" ונצרף את התוצאה לרשימה החדשה:\n",
        "</p>"
      ]
    },
    {
      "cell_type": "code",
      "execution_count": 3,
      "metadata": {
        "id": "uPAk4uoUfINO"
      },
      "outputs": [],
      "source": [
        "for name in names:\n",
        "    new_names.append(name + 'os')"
      ]
    },
    {
      "cell_type": "markdown",
      "metadata": {
        "id": "htn8RLrYfINP"
      },
      "source": [
        "<p style=\"text-align: right; direction: rtl; float: right; clear: both;\">\n",
        "    כשהלולאה תסיים לרוץ, תהיה בידינו רשימה חדשה של שמות יוונים:\n",
        "</p>"
      ]
    },
    {
      "cell_type": "code",
      "execution_count": 4,
      "metadata": {
        "id": "Ztx21ELbfINQ",
        "outputId": "86edb741-eedb-4fff-97e9-7a8f5fc94748",
        "colab": {
          "base_uri": "https://localhost:8080/"
        }
      },
      "outputs": [
        {
          "output_type": "stream",
          "name": "stdout",
          "text": [
            "['Yamos', 'Galos', 'Orpazos', 'Aviramos']\n"
          ]
        }
      ],
      "source": [
        "print(new_names)"
      ]
    },
    {
      "cell_type": "markdown",
      "metadata": {
        "id": "JvtVpLb_fINQ"
      },
      "source": [
        "<p style=\"text-align: right; direction: rtl; float: right; clear: both;\">\n",
        "    אם נסתכל על הלולאה שיצרנו, נוכל לזהות בה ארבעה מרכיבים עיקריים.\n",
        "</p>"
      ]
    },
    {
      "cell_type": "markdown",
      "metadata": {
        "id": "jVrq9v5hfINQ"
      },
      "source": [
        "<table style=\"text-align: right; direction: rtl; clear: both; font-size: 1.3rem\">\n",
        "    <caption style=\"text-align: center; direction: rtl; clear: both; font-size: 2rem; padding-bottom: 2rem;\">פירוק מרכיבי לולאת for ליצירת רשימה חדשה</caption>\n",
        "    <thead>\n",
        "        <tr>\n",
        "            <th>שם המרכיב</th>\n",
        "            <th>תיאור המרכיב</th>\n",
        "            <th>דוגמה</th>\n",
        "        </tr>\n",
        "    </thead>\n",
        "    <tbody>\n",
        "        <tr>\n",
        "            <td><span style=\"background: #073b4c; color: white; padding: 0.2em;\">ה־iterable הישן</span></td>\n",
        "            <td>אוסף הנתונים המקורי שעליו אנחנו רצים.</td>\n",
        "            <td><var>names</var></td>\n",
        "        </tr>\n",
        "        <tr>\n",
        "            <td><span style=\"background: #118ab2; color: white; padding: 0.15em;\">הערך הישן</span></td>\n",
        "            <td>משתנה הלולאה. הלייזר שמצביע בכל פעם על ערך יחיד מתוך ה־iterable הישן.</td>\n",
        "            <td><var>name</var></td>\n",
        "        </tr>\n",
        "        <tr>\n",
        "            <td><span style=\"background: #57bbad; color: white; padding: 0.15em;\">הערך החדש</span></td>\n",
        "            <td>הערך שנרצה להכניס ל־iterable שאנחנו יוצרים, בדרך כלל מושפע מהערך הישן.</td>\n",
        "            <td><code dir=\"ltr\">name + 'os'</code></td>\n",
        "        </tr>\n",
        "        <tr>\n",
        "            <td><span style=\"background: #ef476f; color: white; padding: 0.15em;\">ה־iterable החדש</span></td>\n",
        "            <td>ה־iterable שאנחנו רוצים ליצור, הערך שיתקבל בסוף הריצה.</td>\n",
        "            <td><var>new_names</var></td>\n",
        "        </tr>\n",
        "    </tbody>\n",
        "</table>"
      ]
    },
    {
      "cell_type": "markdown",
      "metadata": {
        "id": "o9yasivlfINQ"
      },
      "source": [
        "<div class=\"align-center\" style=\"display: flex; text-align: right; direction: rtl; clear: both;\">\n",
        "    <div style=\"display: flex; width: 10%; float: right; clear: both;\">\n",
        "        <img src=\"https://github.com/PythonFreeCourse/Notebooks/blob/main/content/week06/images/exercise.svg?raw=1\" style=\"height: 50px !important;\" alt=\"תרגול\">\n",
        "    </div>\n",
        "    <div style=\"width: 70%\">\n",
        "        <p style=\"text-align: right; direction: rtl; float: right; clear: both;\">\n",
        "            השתמשו ב־<var>map</var> כדי ליצור מ־<var>names</var> רשימת שמות יווניים באותה הצורה.<br>\n",
        "        </p>\n",
        "    </div>\n",
        "    <div style=\"display: flex; width: 20%; border-right: 0.1rem solid #A5A5A5; padding: 1rem 2rem;\">\n",
        "        <p style=\"text-align: center; direction: rtl; justify-content: center; align-items: center; clear: both;\">\n",
        "            <strong>חשוב!</strong><br>\n",
        "            פתרו לפני שתמשיכו!\n",
        "        </p>\n",
        "    </div>\n",
        "</div>"
      ]
    },
    {
      "cell_type": "markdown",
      "metadata": {
        "id": "B9PSse2kfINQ"
      },
      "source": [
        "<p style=\"text-align: right; direction: rtl; float: right; clear: both;\">\n",
        "    צורת ה־<var>map</var> בפתרון שלכם הייתה אמורה להשתמש בדיוק באותם חלקי הלולאה.<br>\n",
        "    אם עדיין לא ניסיתם לפתור בעצמכם, זה הזמן לכך.<br>\n",
        "    התשובה שלכם אמורה להיראות בערך כך:\n",
        "</p>"
      ]
    },
    {
      "cell_type": "code",
      "execution_count": 5,
      "metadata": {
        "id": "0ZBwCLfBfINR",
        "outputId": "ad72dca8-0dc1-4b4f-db5e-0b311f903cbc",
        "colab": {
          "base_uri": "https://localhost:8080/"
        }
      },
      "outputs": [
        {
          "output_type": "stream",
          "name": "stdout",
          "text": [
            "['Yamos', 'Galos', 'Orpazos', 'Aviramos']\n"
          ]
        }
      ],
      "source": [
        "new_names = map(lambda name: name + 'os', names)\n",
        "print(list(new_names))"
      ]
    },
    {
      "cell_type": "markdown",
      "metadata": {
        "id": "2AbELKa6fINR"
      },
      "source": [
        "### <span style=\"text-align: right; direction: rtl; float: right; clear: both;\">הטכניקה</span>"
      ]
    },
    {
      "cell_type": "markdown",
      "metadata": {
        "id": "hn45pi1TfINR"
      },
      "source": [
        "<p style=\"text-align: right; direction: rtl; float: right; clear: both;\">\n",
        "    <dfn>list comprehension</dfn> היא טכניקה שמטרתה לפשט את מלאכת הרכבת הרשימה, כך שתהיה קצרה, מהירה וקריאה.<br>\n",
        "    ניגש לעניינים! אבל ראו הוזהרתם – במבט ראשון list comprehension עשוי להיראות מעט מאיים וקשה להבנה.<br>\n",
        "    הנה זה בא:\n",
        "</p>"
      ]
    },
    {
      "cell_type": "code",
      "execution_count": 6,
      "metadata": {
        "id": "O2XKpPmWfINR",
        "outputId": "ca1ae994-2ecb-4d7e-deeb-21bda5428c66",
        "colab": {
          "base_uri": "https://localhost:8080/"
        }
      },
      "outputs": [
        {
          "output_type": "stream",
          "name": "stdout",
          "text": [
            "['Yamos', 'Galos', 'Orpazos', 'Aviramos']\n"
          ]
        }
      ],
      "source": [
        "names = ['Yam', 'Gal', 'Orpaz', 'Aviram']\n",
        "new_names = [name + 'os' for name in names]  # list comprehension\n",
        "print(new_names)"
      ]
    },
    {
      "cell_type": "markdown",
      "metadata": {
        "id": "WosqAoyXfINR"
      },
      "source": [
        "<p style=\"text-align: right; direction: rtl; float: right; clear: both;\">\n",
        "    הדבר הראשון שמבלבל כשנפגשים לראשונה עם list comprehension הוא סדר הקריאה המשונה:<br>\n",
        "</p>"
      ]
    },
    {
      "cell_type": "markdown",
      "metadata": {
        "id": "YGJVcVWWfINR"
      },
      "source": [
        "<ol style=\"text-align: right; direction: rtl; float: right; clear: both;\">\n",
        "    <li>list comprehension מתחיל בפתיחת סוגריים מרובעים (ומסתיים בסגירתם), שמציינים שאנחנו מעוניינים ליצור רשימה חדשה.</li>\n",
        "    <li>את מה שבתוך הסוגריים עדיף להתחיל לקרוא מהמילה <code>for</code> – נוכל לראות את הביטוי <code dir=\"ltr\">for name in names</code> שאנחנו כבר מכירים.</li>\n",
        "    <li>מייד לפני המילה <code>for</code>, נכתוב את ערכו של האיבר שאנחנו רוצים לצרף לרשימה החדשה בכל איטרציה של הלולאה.</li>\n",
        "</ol>"
      ]
    },
    {
      "cell_type": "markdown",
      "metadata": {
        "id": "GbccDbCCfINR"
      },
      "source": [
        "<p style=\"text-align: right; direction: rtl; float: right; clear: both;\">\n",
        "    נביט בהשוואת החלקים של ה־list comprehension לחלקים של לולאת ה־<code>for</code>:\n",
        "</p>"
      ]
    },
    {
      "cell_type": "markdown",
      "metadata": {
        "id": "8KdJsuu4fINR"
      },
      "source": [
        "<figure>\n",
        "    <img src=\"https://github.com/PythonFreeCourse/Notebooks/blob/main/content/week06/images/for_vs_listcomp.png?v=2&raw=1\" style=\"max-width: 500px; margin-right: auto; margin-left: auto; text-align: center;\" alt=\"לולאת ה־for שכתבנו למעלה עם המשתנה names (ה־iterable) מודגש בצבע מספר 1, המשתנה name (הערך הישן) מודגש בצבע מספר 2, הביטוי name + 'os' מודגשים בצבע 3 והמשתנה new_names (הרשימה החדשה) בצבע 4. מתחתיו לביטוי זה יש קו מקווקו, ומתחתיו הביטוי של ה־list comprehension עם אותם חלקים צבועים באותם צבעים.\"/>\n",
        "    <figcaption style=\"margin-top: 2rem; text-align: center; direction: rtl;\">השוואה בין יצירת רשימה בעזרת <code>for</code> ובעזרת list comprehension</figcaption>\n",
        "</figure>"
      ]
    },
    {
      "cell_type": "markdown",
      "metadata": {
        "id": "NSdwQdtNfINS"
      },
      "source": [
        "<p style=\"text-align: right; direction: rtl; float: right; clear: both;\">\n",
        "    list comprehension מאפשרת לשנות את הערך שנוסף לרשימה בקלות.<br>\n",
        "    מסיבה זו, מתכנתים רבים יעדיפו את הטכניקה הזו על פני שימוש ב־<var>map</var>, שבה נצטרך להשתמש ב־<code>lambda</code> ברוב המקרים.\n",
        "</p>"
      ]
    },
    {
      "cell_type": "markdown",
      "metadata": {
        "id": "F-UKhImOfINS"
      },
      "source": [
        "<div class=\"align-center\" style=\"display: flex; text-align: right; direction: rtl; clear: both;\">\n",
        "    <div style=\"display: flex; width: 10%; float: right; clear: both;\">\n",
        "        <img src=\"https://github.com/PythonFreeCourse/Notebooks/blob/main/content/week06/images/exercise.svg?raw=1\" style=\"height: 50px !important;\" alt=\"תרגול\">\n",
        "    </div>\n",
        "    <div style=\"width: 70%\">\n",
        "        <p style=\"text-align: right; direction: rtl; float: right; clear: both;\">\n",
        "            נתונה הרשימה <code dir=\"ltr\">numbers = [1, 2, 3, 4, 5]</code>.<br>\n",
        "            השתמשו ב־list comprehension כדי ליצור בעזרתה את הרשימה <code dir=\"ltr\">[1, 4, 9, 16, 25]</code>.<br>\n",
        "            האם אפשר להשתמש בפונקציה <var>range</var> במקום ב־<var>numbers</var>?\n",
        "        </p>\n",
        "    </div>\n",
        "    <div style=\"display: flex; width: 20%; border-right: 0.1rem solid #A5A5A5; padding: 1rem 2rem;\">\n",
        "        <p style=\"text-align: center; direction: rtl; justify-content: center; align-items: center; clear: both;\">\n",
        "            <strong>חשוב!</strong><br>\n",
        "            פתרו לפני שתמשיכו!\n",
        "        </p>\n",
        "    </div>\n",
        "</div>"
      ]
    },
    {
      "cell_type": "code",
      "source": [
        "numbers = [1, 2, 3, 4, 5]\n",
        "squares = [num * num for num in numbers]\n",
        "print(squares)"
      ],
      "metadata": {
        "id": "fzJtqwOQfnqa",
        "outputId": "57d3d6da-b7b6-4697-c710-6032ea8b77fd",
        "colab": {
          "base_uri": "https://localhost:8080/"
        }
      },
      "execution_count": 7,
      "outputs": [
        {
          "output_type": "stream",
          "name": "stdout",
          "text": [
            "[1, 4, 9, 16, 25]\n"
          ]
        }
      ]
    },
    {
      "cell_type": "markdown",
      "metadata": {
        "id": "hFl4HmRmfINS"
      },
      "source": [
        "<p style=\"text-align: right; direction: rtl; float: right; clear: both;\">\n",
        "    list comprehension הוא מבנה גמיש מאוד!<br>\n",
        "    נוכל לכתוב בערך שאנחנו מצרפים לרשימה כל ביטוי שיתחשק לנו, ואפילו לקרוא לפונקציות.<br>\n",
        "    נראה כמה דוגמאות:\n",
        "</p>"
      ]
    },
    {
      "cell_type": "code",
      "execution_count": 8,
      "metadata": {
        "id": "UPm4ACitfINS",
        "outputId": "5c455194-8718-4aa3-a6a9-bf916c6935fe",
        "colab": {
          "base_uri": "https://localhost:8080/"
        }
      },
      "outputs": [
        {
          "output_type": "stream",
          "name": "stdout",
          "text": [
            "['kcE ynnhoJ', 'noiruG neB divaD', 'nhoJ notlE']\n"
          ]
        }
      ],
      "source": [
        "names = ['Johnny Eck', 'David Ben Gurion', 'Elton John']\n",
        "reversed_names = [name[::-1] for name in names]\n",
        "print(reversed_names)"
      ]
    },
    {
      "cell_type": "code",
      "execution_count": 9,
      "metadata": {
        "id": "lQ1jRdklfINS",
        "outputId": "a2d7a5d1-7f0b-497a-88ce-70432ff45b31",
        "colab": {
          "base_uri": "https://localhost:8080/"
        }
      },
      "outputs": [
        {
          "output_type": "stream",
          "name": "stdout",
          "text": [
            "[111111111, 222222222, 333333333, 444444444, 555555555, 666666666, 777777777, 888888888, 999999999]\n"
          ]
        }
      ],
      "source": [
        "reversed_names = [int(str(number) * 9) for number in range(1, 10)]\n",
        "print(reversed_names)"
      ]
    },
    {
      "cell_type": "code",
      "execution_count": 10,
      "metadata": {
        "id": "VXvZ4QdxfINS",
        "outputId": "dbd5bcd5-64da-4673-f2d4-662b6288560c",
        "colab": {
          "base_uri": "https://localhost:8080/"
        }
      },
      "outputs": [
        {
          "output_type": "stream",
          "name": "stdout",
          "text": [
            "['Salar De Uyuni', 'Northern Lake Baikal', 'Kuang Si Falls']\n"
          ]
        }
      ],
      "source": [
        "places = (\n",
        "    {'name': 'salar de uyuni', 'location': 'Bolivia'},\n",
        "    {'name': 'northern lake baikal', 'location': 'Russia'},\n",
        "    {'name': 'kuang si falls', 'location': 'Laos'},\n",
        ")\n",
        "places_titles = [place['name'].title() for place in places]\n",
        "print(places_titles)"
      ]
    },
    {
      "cell_type": "markdown",
      "metadata": {
        "id": "d1Pa8QtpfINT"
      },
      "source": [
        "<div class=\"align-center\" style=\"display: flex; text-align: right; direction: rtl; clear: both;\">\n",
        "    <div style=\"display: flex; width: 10%; float: right; clear: both;\">\n",
        "        <img src=\"https://github.com/PythonFreeCourse/Notebooks/blob/main/content/week06/images/exercise.svg?raw=1\" style=\"height: 50px !important;\" alt=\"תרגול\">\n",
        "    </div>\n",
        "    <div style=\"width: 70%\">\n",
        "        <p style=\"text-align: right; direction: rtl; float: right; clear: both;\">\n",
        "            השתמשו ב־list comprehension כדי ליצור את הרשימה הבאה:<br>\n",
        "            <code dir=\"ltr\">[(1, 2), (2, 3), (3, 4), (4, 5), (5, 6)]</code>.\n",
        "        </p>\n",
        "    </div>\n",
        "    <div style=\"display: flex; width: 20%; border-right: 0.1rem solid #A5A5A5; padding: 1rem 2rem;\">\n",
        "        <p style=\"text-align: center; direction: rtl; justify-content: center; align-items: center; clear: both;\">\n",
        "            <strong>חשוב!</strong><br>\n",
        "            פתרו לפני שתמשיכו!\n",
        "        </p>\n",
        "    </div>\n",
        "</div>"
      ]
    },
    {
      "cell_type": "code",
      "source": [
        "[(i, i + 1) for i in range(1, 6)]"
      ],
      "metadata": {
        "id": "uBOYHn69gNKo",
        "outputId": "92c3fd33-d1ff-4072-e13a-8b3e258d54ff",
        "colab": {
          "base_uri": "https://localhost:8080/"
        }
      },
      "execution_count": 12,
      "outputs": [
        {
          "output_type": "execute_result",
          "data": {
            "text/plain": [
              "[(1, 2), (2, 3), (3, 4), (4, 5), (5, 6)]"
            ]
          },
          "metadata": {},
          "execution_count": 12
        }
      ]
    },
    {
      "cell_type": "markdown",
      "metadata": {
        "id": "ZoDq46bdfINT"
      },
      "source": [
        "### <span style=\"text-align: right; direction: rtl; float: right; clear: both;\">תנאים</span>"
      ]
    },
    {
      "cell_type": "markdown",
      "metadata": {
        "id": "i_3jLPO4fINT"
      },
      "source": [
        "<p style=\"text-align: right; direction: rtl; float: right; clear: both;\">\n",
        "    נציג תבנית נפוצה נוספת הנוגעת לעבודה עם רשימות.<br>\n",
        "    לעיתים קרובות, נרצה להוסיף איבר לרשימה רק אם מתקיים לגביו תנאי מסוים.<br>\n",
        "    לדוגמה, ניקח מרשימת השמות הבאה רק את האנשים ששמם ארוך מתריסר תווים:\n",
        "</p>"
      ]
    },
    {
      "cell_type": "code",
      "execution_count": 13,
      "metadata": {
        "id": "ps8ktUXMfINT"
      },
      "outputs": [],
      "source": [
        "names = ['Margaret Thatcher', 'Karl Marx', \"Ze'ev Jabotinsky\", 'Bertrand Russell', 'Fidel Castro']\n",
        "long_names = []\n",
        "for name in names:\n",
        "    if len(name) > 12:\n",
        "        long_names.append(name)"
      ]
    },
    {
      "cell_type": "code",
      "execution_count": 14,
      "metadata": {
        "id": "o86FTxltfINT",
        "outputId": "1cb69e83-44a3-4d4a-c52e-924be12c8a39",
        "colab": {
          "base_uri": "https://localhost:8080/"
        }
      },
      "outputs": [
        {
          "output_type": "execute_result",
          "data": {
            "text/plain": [
              "['Margaret Thatcher', \"Ze'ev Jabotinsky\", 'Bertrand Russell']"
            ]
          },
          "metadata": {},
          "execution_count": 14
        }
      ],
      "source": [
        "long_names"
      ]
    },
    {
      "cell_type": "markdown",
      "metadata": {
        "id": "Q-KlG-umfINT"
      },
      "source": [
        "<div class=\"align-center\" style=\"display: flex; text-align: right; direction: rtl; clear: both;\">\n",
        "    <div style=\"display: flex; width: 10%; float: right; clear: both;\">\n",
        "        <img src=\"https://github.com/PythonFreeCourse/Notebooks/blob/main/content/week06/images/exercise.svg?raw=1\" style=\"height: 50px !important;\" alt=\"תרגול\">\n",
        "    </div>\n",
        "    <div style=\"width: 70%\">\n",
        "        <p style=\"text-align: right; direction: rtl; float: right; clear: both;\">\n",
        "            השתמשו ב־<var>filter</var> כדי ליצור מ־<var>names</var> רשימת שמות ארוכים באותה הצורה.<br>\n",
        "        </p>\n",
        "    </div>\n",
        "    <div style=\"display: flex; width: 20%; border-right: 0.1rem solid #A5A5A5; padding: 1rem 2rem;\">\n",
        "        <p style=\"text-align: center; direction: rtl; justify-content: center; align-items: center; clear: both;\">\n",
        "            <strong>חשוב!</strong><br>\n",
        "            פתרו לפני שתמשיכו!\n",
        "        </p>\n",
        "    </div>\n",
        "</div>"
      ]
    },
    {
      "cell_type": "code",
      "source": [
        "list(filter(lambda name: len(name) > 12, names))"
      ],
      "metadata": {
        "id": "SKpKoarYgths",
        "outputId": "c6ca107a-472c-42a2-d37f-abcec6af909b",
        "colab": {
          "base_uri": "https://localhost:8080/"
        }
      },
      "execution_count": 17,
      "outputs": [
        {
          "output_type": "execute_result",
          "data": {
            "text/plain": [
              "['Margaret Thatcher', \"Ze'ev Jabotinsky\", 'Bertrand Russell']"
            ]
          },
          "metadata": {},
          "execution_count": 17
        }
      ]
    },
    {
      "cell_type": "markdown",
      "metadata": {
        "id": "B0THH4THfINT"
      },
      "source": [
        "<p style=\"text-align: right; direction: rtl; float: right; clear: both;\">\n",
        "    נפרק את הקוד הקצר שיצרנו למעלה למרכיביו:\n",
        "</p>"
      ]
    },
    {
      "cell_type": "markdown",
      "metadata": {
        "id": "_kV3vovOfINX"
      },
      "source": [
        "<table style=\"text-align: right; direction: rtl; clear: both; font-size: 1.3rem\">\n",
        "    <caption style=\"text-align: center; direction: rtl; clear: both; font-size: 2rem; padding-bottom: 2rem;\">פירוק מרכיבי לולאת for עם התניה ליצירת רשימה חדשה</caption>\n",
        "    <thead>\n",
        "        <tr>\n",
        "            <th>שם המרכיב</th>\n",
        "            <th>תיאור המרכיב</th>\n",
        "            <th>דוגמה</th>\n",
        "        </tr>\n",
        "    </thead>\n",
        "    <tbody>\n",
        "        <tr>\n",
        "            <td><span style=\"background: #073b4c; color: white; padding: 0.2em;\">איפוס</span></td>\n",
        "            <td>אתחול הרשימה לערך ריק.</td>\n",
        "            <td><code dir=\"ltr\">long_names = []</code></td>\n",
        "        </tr>\n",
        "        <tr>\n",
        "            <td><span style=\"background: #118ab2; color: white; padding: 0.15em;\">הלולאה</span></td>\n",
        "            <td>החלק שעובר על כל האיברים ב־iterable הקיים ויוצר משתנה שאליו אפשר להתייחס.</td>\n",
        "            <td><code dir=\"ltr\">for name in names:</code></td>\n",
        "        </tr>\n",
        "        <tr>\n",
        "            <td><span style=\"background: #57bbad; color: white; padding: 0.15em;\">הבדיקה</span></td>\n",
        "            <td>התניה שבודקת אם הערך עונה על תנאי מסוים.</td>\n",
        "            <td><code dir=\"ltr\">if len(name) > 12:</code></td>\n",
        "        </tr>\n",
        "        <tr>\n",
        "            <td><span style=\"background: #ef476f; color: white; padding: 0.15em;\">הוספה</span></td>\n",
        "            <td>צירוף האיבר לרשימה החדשה, אם הוא עונה על התנאי שנקבע בבדיקה.</td>\n",
        "            <td><code dir=\"ltr\">long_names.append(name)</code></td>\n",
        "        </tr>\n",
        "    </tbody>\n",
        "</table>"
      ]
    },
    {
      "cell_type": "markdown",
      "metadata": {
        "id": "AG_--5o7fINY"
      },
      "source": [
        "<p style=\"text-align: right; direction: rtl; float: right; clear: both;\">\n",
        "    ונלמד איך מממשים את אותו הרעיון בדיוק בעזרת list comprehension:\n",
        "</p>"
      ]
    },
    {
      "cell_type": "code",
      "execution_count": 18,
      "metadata": {
        "id": "fBn9hQgufINY",
        "outputId": "3bc5c016-54fb-466e-b276-3e03c71c1c09",
        "colab": {
          "base_uri": "https://localhost:8080/"
        }
      },
      "outputs": [
        {
          "output_type": "stream",
          "name": "stdout",
          "text": [
            "['Margaret Thatcher', \"Ze'ev Jabotinsky\", 'Bertrand Russell']\n"
          ]
        }
      ],
      "source": [
        "names = ['Margaret Thatcher', 'Karl Marx', \"Ze'ev Jabotinsky\", 'Bertrand Russell', 'Fidel Castro']\n",
        "long_names = [name for name in names if len(name) > 12]\n",
        "print(long_names)"
      ]
    },
    {
      "cell_type": "markdown",
      "metadata": {
        "id": "5X1gH0RLfINY"
      },
      "source": [
        "<p style=\"text-align: right; direction: rtl; float: right; clear: both;\">\n",
        "    נראה שוב השוואה בין list comprehension ללולאת <code>for</code> רגילה, הפעם עם תנאי:\n",
        "</p>"
      ]
    },
    {
      "cell_type": "markdown",
      "metadata": {
        "id": "OzsGHzB5fINY"
      },
      "source": [
        "<figure>\n",
        "    <img src=\"https://github.com/PythonFreeCourse/Notebooks/blob/main/content/week06/images/for_vs_listcomp_with_if.png?v=1&raw=1\" style=\"max-width: 600px; margin-right: auto; margin-left: auto; text-align: center;\" alt=\"בחלק העליון: לולאת ה־for שכתבנו למעלה. long_names = [] מודגש בצבע 1, גוף הלולאה בצבע 2, הבדיקה בצבע 3 וההוספה של האיבר לרשימה בצבע 4. בחלק התחתון: long_names = [ בצבע 1, name בצבע 2, for name in names בצבע 3, if len(name) > 12 בצבע 4, ] בצבע 1.\"/>\n",
        "    <figcaption style=\"margin-top: 2rem; text-align: center; direction: rtl;\">השוואה בין יצירת רשימה בעזרת <code>for</code> ובעזרת list comprehension</figcaption>\n",
        "</figure>"
      ]
    },
    {
      "cell_type": "markdown",
      "metadata": {
        "id": "ex9v_2pxfINY"
      },
      "source": [
        "<p style=\"text-align: right; direction: rtl; float: right; clear: both;\">\n",
        "    גם כאן יש לנו סדר קריאה משונה מעט, אך הרעיון הכללי של ה־list comprehension נשמר:<br>\n",
        "</p>"
      ]
    },
    {
      "cell_type": "markdown",
      "metadata": {
        "id": "ZSgCyHJZfINY"
      },
      "source": [
        "<ol style=\"text-align: right; direction: rtl; float: right; clear: both;\">\n",
        "    <li>list comprehension מתחיל בפתיחת סוגריים מרובעים (ומסתיים בסגירתם), כדי לציין שאנחנו מעוניינים ליצור רשימה חדשה.</li>\n",
        "    <li>את מה שבתוך הסוגריים עדיף להתחיל לקרוא מהמילה <code>for</code> – נוכל לראות את הביטוי <code dir=\"ltr\">for name in names</code> שאנחנו כבר מכירים.</li>\n",
        "    <li>ממשיכים לקרוא את התנאי, אם קיים כזה. רק אם התנאי יתקיים, יתווסף האיבר לרשימה.</li>\n",
        "    <li>מייד לפני המילה <code>for</code>, נכתוב את ערכו של האיבר שאנחנו רוצים לצרף לרשימה בכל איטרציה של הלולאה.</li>\n",
        "</ol>"
      ]
    },
    {
      "cell_type": "markdown",
      "metadata": {
        "id": "7taE6yNHfINY"
      },
      "source": [
        "<p style=\"text-align: right; direction: rtl; float: right; clear: both;\">\n",
        "    אפשר לשלב את השיטות כדי לבנות בקלילות רשימות מורכבות.<br>\n",
        "    נמצא את שמות כל הקבצים שהסיומת שלהם היא \"<em dir=\"ltr\">.html</em>\":\n",
        "</p>"
      ]
    },
    {
      "cell_type": "code",
      "execution_count": 19,
      "metadata": {
        "id": "tf62-dHmfINY",
        "outputId": "7698eacc-5c9f-4ba1-a1eb-607f9df28d49",
        "colab": {
          "base_uri": "https://localhost:8080/"
        }
      },
      "outputs": [
        {
          "output_type": "stream",
          "name": "stdout",
          "text": [
            "['moshe_homepage', 'yahoo', 'python']\n"
          ]
        }
      ],
      "source": [
        "files = ['moshe_homepage.html', 'yahoo.html', 'python.html', 'shnitzel.gif']\n",
        "html_names = [file.split('.')[0] for file in files if file.endswith('.html')]\n",
        "print(html_names)"
      ]
    },
    {
      "cell_type": "markdown",
      "metadata": {
        "id": "RW9S2tEYfINZ"
      },
      "source": [
        "#### <span style=\"text-align: right; direction: rtl; float: right; clear: both;\">תרגיל ביניים: טיפול שורש</span>"
      ]
    },
    {
      "cell_type": "markdown",
      "metadata": {
        "id": "2G_V7YXofINZ"
      },
      "source": [
        "<p style=\"text-align: right; direction: rtl; float: right; clear: both;\">\n",
        "    בחנות של סנדל'ה הארון קצת מבולגן.<br>\n",
        "    כשלקוח נכנס ומבקש מסנדל'ה למדוד מידה מסוימת, היא צריכה לפשפש בין אלפי המוצרים בארון, ולפעמים המידות שהיא מוצאת שם מוזרות מאוד.<br>\n",
        "    ההנחיות שסנדל'ה נתנה לנו לצורך סידור הארון שלה די פשוטות:<br>\n",
        "    התעלמו מכל מידה שיש בה תו שאינו ספרה או נקודה, והוציאו שורש רק מהמידות המספריות.<br>\n",
        "    התעלמו גם ממספרים עם יותר מנקודה אחת.\n",
        "</p>"
      ]
    },
    {
      "cell_type": "markdown",
      "metadata": {
        "id": "CrayE0oJfINZ"
      },
      "source": [
        "<p style=\"text-align: right; direction: rtl; float: right; clear: both;\">\n",
        "    לדוגמה, עבור הארון <code dir=\"ltr\">['100', '25.0', '12a', 'mEoW', '0']</code>, החזירו <samp dir=\"ltr\">[10.0, 5.0, 0.0]</samp>.<br>\n",
        "    עבור הארון <code dir=\"ltr\">['Area51', '303', '2038', 'f00b4r', '314.1']</code>, החזירו <samp dir=\"ltr\">[17.4, 45.14, 17.72]</samp>.<br>\n",
        "    (מחקנו קצת ספרות אחרי הנקודה בשביל הנראות).\n",
        "</p>"
      ]
    },
    {
      "cell_type": "markdown",
      "metadata": {
        "id": "aHHfGxy2fINZ"
      },
      "source": [
        "<p style=\"text-align: right; direction: rtl; float: right; clear: both;\">\n",
        "    כתבו פונקציה בשם <var>organize_closet</var> שמקבלת רשימת ארון ומסדרת אותו.<br>\n",
        "    תוכלו לבדוק את עצמכם באמצעות הפונקציה <var>generate_closet</var> שתיצור עבורכם ארון אסלי מהחנות של סנדל'ה.\n",
        "</p>"
      ]
    },
    {
      "cell_type": "code",
      "execution_count": 21,
      "metadata": {
        "id": "khk7Mt_rfINZ",
        "outputId": "9b39ea09-0dec-479f-9d40-553dc81301e0",
        "colab": {
          "base_uri": "https://localhost:8080/"
        }
      },
      "outputs": [
        {
          "output_type": "execute_result",
          "data": {
            "text/plain": [
              "['61VW', '97oy', '463W', '7.4.', '25C.']"
            ]
          },
          "metadata": {},
          "execution_count": 21
        }
      ],
      "source": [
        "import random\n",
        "import string\n",
        "\n",
        "\n",
        "CHARACTERS = f'.{string.digits}{string.ascii_letters}'\n",
        "WEIGHTS = [1] * len(f'.{string.digits}') + [0.05] * len(string.ascii_letters)\n",
        "\n",
        "\n",
        "def generate_size(length):\n",
        "    return ''.join(random.choices(CHARACTERS, weights=WEIGHTS, k=length))\n",
        "\n",
        "\n",
        "def generate_closet(closet_size=20, shoe_size=4):\n",
        "    return [generate_size(shoe_size) for _ in range(closet_size)]\n",
        "\n",
        "\n",
        "generate_closet(5)"
      ]
    },
    {
      "cell_type": "code",
      "source": [
        "def organize_closet(closet):\n",
        "  just_sizes = list(filter(lambda s: s.replace('.', '', 1).isdigit(), closet))\n",
        "  return [float(size) ** 0.5 for size in just_sizes]"
      ],
      "metadata": {
        "id": "z5gkefiGlbOI"
      },
      "execution_count": 20,
      "outputs": []
    },
    {
      "cell_type": "code",
      "source": [
        "c = generate_closet(10)\n",
        "print(c)\n",
        "print(organize_closet(c))\n",
        "print(organize_closet(['100', '25.0', '12a', 'mEoW', '0']))\n",
        "print(organize_closet(['Area51', '303', '2038', 'f00b4r', '314.1']))"
      ],
      "metadata": {
        "id": "B_M1WsJCn3k9",
        "outputId": "88ecee07-ad72-406c-fad3-185e3befd91e",
        "colab": {
          "base_uri": "https://localhost:8080/"
        }
      },
      "execution_count": 25,
      "outputs": [
        {
          "output_type": "stream",
          "name": "stdout",
          "text": [
            "['Q03.', '50t2', '5653', '2379', '7B91', '8E00', '1jET', '191i', '50s.', 'bp65']\n",
            "[75.18643494673756, 48.774993593028796]\n",
            "[10.0, 5.0, 0.0]\n",
            "[17.406895185529212, 45.14421336118285, 17.722866585290316]\n"
          ]
        }
      ]
    },
    {
      "cell_type": "markdown",
      "metadata": {
        "id": "kihQADRnfINZ"
      },
      "source": [
        "<div class=\"align-center\" style=\"display: flex; text-align: right; direction: rtl;\">\n",
        "    <div style=\"display: flex; width: 10%; \">\n",
        "        <img src=\"https://github.com/PythonFreeCourse/Notebooks/blob/main/content/week06/images/tip.png?raw=1\" style=\"height: 50px !important;\" alt=\"אזהרה!\">\n",
        "    </div>\n",
        "    <div style=\"width: 90%\">\n",
        "        <p style=\"text-align: right; direction: rtl;\">\n",
        "            בפייתון, נהוג לכנות משתנה שלא יהיה בו שימוש בעתיד כך: <code>_</code>.<br>\n",
        "            דוגמה טובה אפשר לראות בלולאה שב־<code>generate_closet</code>.\n",
        "        </p>\n",
        "    </div>\n",
        "</div>"
      ]
    },
    {
      "cell_type": "markdown",
      "metadata": {
        "id": "M1u4DLpGfINZ"
      },
      "source": [
        "### <span style=\"text-align: right; direction: rtl; float: right; clear: both;\">Dictionary Comprehension ו־Set Comprehension</span>"
      ]
    },
    {
      "cell_type": "markdown",
      "metadata": {
        "id": "pp6wcrtSfINZ"
      },
      "source": [
        "<p style=\"text-align: right; direction: rtl; float: right; clear: both;\">\n",
        "    מלבד <strong>list</strong> comprehension, קיימים גם <strong>set</strong> comprehension ו־<strong>dictionary</strong> comprehension שפועלים בצורה דומה.<br>\n",
        "    הרעיון בבסיסו נשאר זהה – שימוש בערכי iterable כלשהו לצורך יצירת מבנה נתונים חדש בצורה קריאה ומהירה.<br>\n",
        "    נראה דוגמה ל־dictionary comprehension שבו המפתח הוא מספר, והערך הוא אותו המספר בריבוע:\n",
        "</p>"
      ]
    },
    {
      "cell_type": "code",
      "execution_count": 26,
      "metadata": {
        "id": "saBR4Uo3fINZ",
        "outputId": "ef7fd8c9-adcb-4969-b418-ff109585d9a7",
        "colab": {
          "base_uri": "https://localhost:8080/"
        }
      },
      "outputs": [
        {
          "output_type": "stream",
          "name": "stdout",
          "text": [
            "{1: 1, 2: 4, 3: 9, 4: 16, 5: 25, 6: 36, 7: 49, 8: 64, 9: 81, 10: 100}\n"
          ]
        }
      ],
      "source": [
        "powers = {i: i ** 2 for i in range(1, 11)}\n",
        "print(powers)"
      ]
    },
    {
      "cell_type": "markdown",
      "metadata": {
        "id": "5nVYbxkPfINa"
      },
      "source": [
        "<p style=\"text-align: right; direction: rtl; float: right; clear: both;\">\n",
        "    בדוגמה למעלה חישבנו את הריבוע של כל אחד מעשרת המספרים החיוביים הראשונים.<br>\n",
        "    משתנה הלולאה <var>i</var> עבר על כל אחד מהמספרים בטווח שבין 1 ל־11 (לא כולל), ויצר עבור כל אחד מהם את המפתח <var>i</var>, ואת הערך <code>i ** 2</code>.<br>    \n",
        "</p>"
      ]
    },
    {
      "cell_type": "markdown",
      "metadata": {
        "id": "dm-U-XscfINa"
      },
      "source": [
        "<p style=\"text-align: right; direction: rtl; float: right; clear: both;\">\n",
        "    ראו כיצד בעזרת התחביר העוצמתי הזה בפייתון, אנחנו יכולים ליצור מילונים מורכבים בקלות רבה.<br>\n",
        "    כל שעלינו לעשות הוא להשתמש בסוגריים מסולסלים במקום במרובעים,<br>\n",
        "    ולציין מייד אחרי פתיחת הסוגריים את הצמד שנרצה להוסיף בכל איטרציה – מפתח וערך, כשביניהם נקודתיים.\n",
        "</p>"
      ]
    },
    {
      "cell_type": "markdown",
      "metadata": {
        "id": "TlblzYnIfINa"
      },
      "source": [
        "<p style=\"text-align: right; direction: rtl; float: right; clear: both;\">\n",
        "    בצורה דומה אפשר ליצור set comprehension:\n",
        "</p>"
      ]
    },
    {
      "cell_type": "code",
      "execution_count": 27,
      "metadata": {
        "id": "sMX_wlSufINa",
        "outputId": "0ddd8eed-25f8-48bd-85c4-920e570f51f4",
        "colab": {
          "base_uri": "https://localhost:8080/"
        }
      },
      "outputs": [
        {
          "output_type": "stream",
          "name": "stdout",
          "text": [
            "{'only', 'tell', 'of', 'the', 'all', 'statistics', 'percent'}\n",
            "<class 'set'>\n"
          ]
        }
      ],
      "source": [
        "sentence = \"99 percent of all statistics only tell 49 percent of the story.\"\n",
        "words = {word for word in sentence.lower().split() if word.isalpha()}\n",
        "print(words)\n",
        "print(type(words))"
      ]
    },
    {
      "cell_type": "markdown",
      "metadata": {
        "id": "PrZUfNlDfINa"
      },
      "source": [
        "<p style=\"text-align: right; direction: rtl; float: right; clear: both;\">\n",
        "    התחביר של set comprehension כמעט זהה לתחביר של list comprehension.<br>\n",
        "    ההבדל היחיד ביניהם הוא שב־set comprehension אנחנו משתמשים בסוגריים מסולסלים.<br>\n",
        "    ההבדל בינו לבין dictionary comprehension הוא שאנחנו משמיטים את הנקודתיים והערך, ומשאירים רק את המפתח.\n",
        "</p>"
      ]
    },
    {
      "cell_type": "markdown",
      "metadata": {
        "id": "_UBYzgYIfINa"
      },
      "source": [
        "<div class=\"align-center\" style=\"display: flex; text-align: right; direction: rtl; clear: both;\">\n",
        "    <div style=\"display: flex; width: 10%; float: right; clear: both;\">\n",
        "        <img src=\"https://github.com/PythonFreeCourse/Notebooks/blob/main/content/week06/images/exercise.svg?raw=1\" style=\"height: 50px !important;\" alt=\"תרגול\">\n",
        "    </div>\n",
        "    <div style=\"width: 70%\">\n",
        "        <p style=\"text-align: right; direction: rtl; float: right; clear: both;\">\n",
        "            מצאו כמה מהמספרים הנמוכים מ־1,000 מתחלקים ב־3 וב־7 ללא שארית.<br>\n",
        "            השתמשו ב־set comprehension.\n",
        "        </p>\n",
        "    </div>\n",
        "    <div style=\"display: flex; width: 20%; border-right: 0.1rem solid #A5A5A5; padding: 1rem 2rem;\">\n",
        "        <p style=\"text-align: center; direction: rtl; justify-content: center; align-items: center; clear: both;\">\n",
        "            <strong>חשוב!</strong><br>\n",
        "            פתרו לפני שתמשיכו!\n",
        "        </p>\n",
        "    </div>\n",
        "</div>"
      ]
    },
    {
      "cell_type": "code",
      "source": [
        "{i for i in range(1000) if i % 3 == 0 and i % 7 == 0}"
      ],
      "metadata": {
        "id": "YHis34bfpStx",
        "outputId": "e8a17802-b881-4508-da5c-57afd11e3027",
        "colab": {
          "base_uri": "https://localhost:8080/"
        }
      },
      "execution_count": 28,
      "outputs": [
        {
          "output_type": "execute_result",
          "data": {
            "text/plain": [
              "{0,\n",
              " 21,\n",
              " 42,\n",
              " 63,\n",
              " 84,\n",
              " 105,\n",
              " 126,\n",
              " 147,\n",
              " 168,\n",
              " 189,\n",
              " 210,\n",
              " 231,\n",
              " 252,\n",
              " 273,\n",
              " 294,\n",
              " 315,\n",
              " 336,\n",
              " 357,\n",
              " 378,\n",
              " 399,\n",
              " 420,\n",
              " 441,\n",
              " 462,\n",
              " 483,\n",
              " 504,\n",
              " 525,\n",
              " 546,\n",
              " 567,\n",
              " 588,\n",
              " 609,\n",
              " 630,\n",
              " 651,\n",
              " 672,\n",
              " 693,\n",
              " 714,\n",
              " 735,\n",
              " 756,\n",
              " 777,\n",
              " 798,\n",
              " 819,\n",
              " 840,\n",
              " 861,\n",
              " 882,\n",
              " 903,\n",
              " 924,\n",
              " 945,\n",
              " 966,\n",
              " 987}"
            ]
          },
          "metadata": {},
          "execution_count": 28
        }
      ]
    },
    {
      "cell_type": "markdown",
      "metadata": {
        "id": "1tkRU7GAfINb"
      },
      "source": [
        "### <span style=\"text-align: right; direction: rtl; float: right; clear: both;\">Generator Expression</span>"
      ]
    },
    {
      "cell_type": "markdown",
      "metadata": {
        "id": "6zZd6THsfINb"
      },
      "source": [
        "<p style=\"text-align: right; direction: rtl; float: right; clear: both;\">\n",
        "    בשבוע שעבר למדנו על הכוח הטמון ב־generators.<br>\n",
        "    בזכות שמירת ערך אחד בלבד בכל פעם, generators מאפשרים לנו לכתוב תוכניות יעילות מבחינת צריכת הזיכרון.\n",
        "</p>"
      ]
    },
    {
      "cell_type": "markdown",
      "metadata": {
        "id": "DKqrps2YfINb"
      },
      "source": [
        "<p style=\"text-align: right; direction: rtl; float: right; clear: both;\">\n",
        "    נכתוב generator פשוט שמניב עבורנו את אורכי השורות בטקסט מסוים:\n",
        "</p>"
      ]
    },
    {
      "cell_type": "code",
      "execution_count": 30,
      "metadata": {
        "id": "FlA61ZrdfINb",
        "outputId": "b1f73613-82a0-434b-bbef-85eb9fd8c234",
        "colab": {
          "base_uri": "https://localhost:8080/"
        }
      },
      "outputs": [
        {
          "output_type": "stream",
          "name": "stdout",
          "text": [
            "[7, 6, 7, 8, 10, 8, 11, 8, 7, 7, 6, 5, 8, 7, 4, 6, 8, 9, 5, 8, 13, 8, 9, 11, 8, 7, 8, 6, 13, 10, 10, 8, 14, 12, 4, 8, 6, 12, 12, 14, 12, 9, 5, 4, 7, 8, 10, 13, 9, 7]\n"
          ]
        }
      ],
      "source": [
        "def get_line_lengths(text):\n",
        "    for line in text.splitlines():\n",
        "        if line.strip():  # אם השורה אינה ריקה\n",
        "            yield len(line)\n",
        "\n",
        "\n",
        "# לדוגמה\n",
        "with open('/states.txt') as states_file:\n",
        "    states = states_file.read()\n",
        "print(list(get_line_lengths(states)))"
      ]
    },
    {
      "cell_type": "markdown",
      "metadata": {
        "id": "5oP_J7KkfINb"
      },
      "source": [
        "<p style=\"text-align: right; direction: rtl; float: right; clear: both;\">\n",
        "    חדי העין כבר זיהו את התבנית המוכרת – יש פה <code>for</code>, מייד אחריו <code>if</code> ומייד אחריו אנחנו יוצרים איבר חדש.<br>\n",
        "    אם כך, generator expression הוא בסך הכול שם מפונפן למה שאנחנו היינו קוראים לו generator comprehension.<br>\n",
        "    נמיר את הפונקציה <var>get_line_lengths</var> ל־generator comprehension:\n",
        "</p>"
      ]
    },
    {
      "cell_type": "code",
      "execution_count": 32,
      "metadata": {
        "id": "ZIdNFeK3fINb",
        "outputId": "0a183a98-13da-448a-cacb-c2cdab18d1c7",
        "colab": {
          "base_uri": "https://localhost:8080/"
        }
      },
      "outputs": [
        {
          "output_type": "stream",
          "name": "stdout",
          "text": [
            "[7, 6, 7, 8, 10, 8, 11, 8, 7, 7, 6, 5, 8, 7, 4, 6, 8, 9, 5, 8, 13, 8, 9, 11, 8, 7, 8, 6, 13, 10, 10, 8, 14, 12, 4, 8, 6, 12, 12, 14, 12, 9, 5, 4, 7, 8, 10, 13, 9, 7]\n"
          ]
        }
      ],
      "source": [
        "with open('/states.txt') as states_file:\n",
        "    states = states_file.read()\n",
        "\n",
        "line_lengths = (len(line) for line in states.splitlines() if line.strip())\n",
        "print(list(line_lengths))"
      ]
    },
    {
      "cell_type": "markdown",
      "metadata": {
        "id": "7KoTm99NfINc"
      },
      "source": [
        "<p style=\"text-align: right; direction: rtl; float: right; clear: both;\">\n",
        "    נעמוד על ההבדלים בין הגישות:\n",
        "</p>"
      ]
    },
    {
      "cell_type": "markdown",
      "metadata": {
        "id": "GO4HIeSvfINc"
      },
      "source": [
        "<figure>\n",
        "    <img src=\"https://github.com/PythonFreeCourse/Notebooks/blob/main/content/week06/images/generator_vs_expression.png?raw=1\" style=\"max-width: 800px; margin-right: auto; margin-left: auto; text-align: center;\" alt=\"בחלק העליון: פונקציית ה־generator שכתבנו למעלה. כותרת הפונקציה מודגשת בצבע 1, גוף הלולאה בצבע 2, הבדיקה בצבע 3 והנבת האיבר בעזרת yield בצבע 4. בחלק התחתון: ה־generator expression. line_lengths = ( בצבע 1, for line in states.splitlines() בצבע 2, if line.strip() בצבע 3,  len(line) בצבע 4, ) בצבע 1.\"/>\n",
        "    <figcaption style=\"margin-top: 2rem; text-align: center; direction: rtl;\">השוואה בין יצירת generator בעזרת פונקציה ובין יצירת generator בעזרת generator expression</figcaption>\n",
        "</figure>"
      ]
    },
    {
      "cell_type": "markdown",
      "metadata": {
        "id": "vznYnrapfINc"
      },
      "source": [
        "<p style=\"text-align: right; direction: rtl; float: right; clear: both;\">\n",
        "    כאמור, הרעיון דומה מאוד ל־list comprehension.<br>\n",
        "    האיבר שנחזיר בכל פעם מה־generator בעזרת <code>yield</code> יהפוך ב־generator expression להיות האיבר שנמצא לפני המילה <code>for</code>.\n",
        "</p>"
      ]
    },
    {
      "cell_type": "markdown",
      "metadata": {
        "id": "ZsyhPq3_fINc"
      },
      "source": [
        "<p style=\"text-align: right; direction: rtl; float: right; clear: both;\">\n",
        "    שימו לב שה־generator expression שקול לערך המוחזר לנו בקריאה לפונקציית ה־generator.<br>\n",
        "    זו נקודה שחשוב לשים עליה דגש: generator expression מחזיר generator iterator, ולא פונקציית generator.\n",
        "</p>"
      ]
    },
    {
      "cell_type": "markdown",
      "metadata": {
        "id": "sRWmdJPrfINc"
      },
      "source": [
        "<p style=\"text-align: right; direction: rtl; float: right; clear: both;\">\n",
        "    נסתכל על דוגמה נוספת ל־generator expression שמחזיר את ריבועי כל המספרים מ־1 ועד 11 (לא כולל):\n",
        "</p>"
      ]
    },
    {
      "cell_type": "code",
      "execution_count": 33,
      "metadata": {
        "id": "o8vOgPIrfINc",
        "outputId": "e236f93c-ad88-4d2d-d357-232230dc2590",
        "colab": {
          "base_uri": "https://localhost:8080/"
        }
      },
      "outputs": [
        {
          "output_type": "stream",
          "name": "stdout",
          "text": [
            "[1, 4, 9, 16, 25, 36, 49, 64, 81, 100]\n"
          ]
        }
      ],
      "source": [
        "squares = (number ** 2 for number in range(1, 11))\n",
        "print(list(squares))"
      ]
    },
    {
      "cell_type": "markdown",
      "metadata": {
        "id": "luRNZxKhfINc"
      },
      "source": [
        "<p style=\"text-align: right; direction: rtl; float: right; clear: both;\">\n",
        "    בדיוק כמו ב־generator iterator רגיל, אחרי שנשתמש באיבר לא נוכל לקבל אותו שוב:\n",
        "</p>"
      ]
    },
    {
      "cell_type": "code",
      "execution_count": 34,
      "metadata": {
        "id": "FV0fURunfINc",
        "outputId": "7f08421d-f328-4636-e146-36a1941bac38",
        "colab": {
          "base_uri": "https://localhost:8080/"
        }
      },
      "outputs": [
        {
          "output_type": "stream",
          "name": "stdout",
          "text": [
            "[]\n"
          ]
        }
      ],
      "source": [
        "print(list(squares))"
      ]
    },
    {
      "cell_type": "markdown",
      "metadata": {
        "id": "UuGvABhQfINd"
      },
      "source": [
        "<p style=\"text-align: right; direction: rtl; float: right; clear: both;\">\n",
        "    והפעלת <var>next</var> על generator iterator שכבר הניב את כל הערכים תקפיץ <var>StopIterator</var>:\n",
        "</p>"
      ]
    },
    {
      "cell_type": "code",
      "execution_count": 35,
      "metadata": {
        "id": "ZcHoEb2IfINd",
        "outputId": "8040f49e-d73e-45eb-8213-1760dc38b4bf",
        "colab": {
          "base_uri": "https://localhost:8080/",
          "height": 141
        }
      },
      "outputs": [
        {
          "output_type": "error",
          "ename": "StopIteration",
          "evalue": "",
          "traceback": [
            "\u001b[0;31m---------------------------------------------------------------------------\u001b[0m",
            "\u001b[0;31mStopIteration\u001b[0m                             Traceback (most recent call last)",
            "\u001b[0;32m<ipython-input-35-e7cf8d24b3b2>\u001b[0m in \u001b[0;36m<cell line: 1>\u001b[0;34m()\u001b[0m\n\u001b[0;32m----> 1\u001b[0;31m \u001b[0mnext\u001b[0m\u001b[0;34m(\u001b[0m\u001b[0msquares\u001b[0m\u001b[0;34m)\u001b[0m\u001b[0;34m\u001b[0m\u001b[0;34m\u001b[0m\u001b[0m\n\u001b[0m",
            "\u001b[0;31mStopIteration\u001b[0m: "
          ]
        }
      ],
      "source": [
        "next(squares)"
      ]
    },
    {
      "cell_type": "markdown",
      "metadata": {
        "id": "4k4Sah6HfINd"
      },
      "source": [
        "<p style=\"text-align: right; direction: rtl; float: right; clear: both;\">\n",
        "    ולטריק האחרון בנושא זה –<br>\n",
        "    טוב לדעת שכשמעבירים לפונקציה generator expression כפרמטר יחיד, לא צריך לעטוף אותו בסוגריים נוספים.<br>\n",
        "    לדוגמה:\n",
        "</p>"
      ]
    },
    {
      "cell_type": "code",
      "execution_count": 36,
      "metadata": {
        "id": "sK1lalcvfINd",
        "outputId": "e7652327-c927-49a3-a510-37b95789ef1b",
        "colab": {
          "base_uri": "https://localhost:8080/"
        }
      },
      "outputs": [
        {
          "output_type": "execute_result",
          "data": {
            "text/plain": [
              "385"
            ]
          },
          "metadata": {},
          "execution_count": 36
        }
      ],
      "source": [
        "sum(number ** 2 for number in range(1, 11))"
      ]
    },
    {
      "cell_type": "markdown",
      "metadata": {
        "id": "uGFdkcEgfINd"
      },
      "source": [
        "<p style=\"text-align: right; direction: rtl; float: right; clear: both;\">\n",
        "    בדוגמה שלמעלה ה־generator comprehension יצר את כל ריבועי המספרים מ־1 ועד 11, לא כולל.<br>\n",
        "    הפונקציה <var>sum</var> השתמשה בכל ריבועי המספרים שה־generator הניב, וסכמה אותם.\n",
        "</p>"
      ]
    },
    {
      "cell_type": "markdown",
      "metadata": {
        "id": "X8bRBpHdfINd"
      },
      "source": [
        "### <span style=\"text-align: right; direction: rtl; float: right; clear: both;\">לולאות מרובות</span>"
      ]
    },
    {
      "cell_type": "markdown",
      "metadata": {
        "id": "HYWpcMOsfINd"
      },
      "source": [
        "<p style=\"text-align: right; direction: rtl; float: right; clear: both;\">\n",
        "    לפעמים נרצה לכתוב כמה לולאות מקוננות זו בתוך זו.<br>\n",
        "    לדוגמה, ליצירת כל האפשרויות שיכולות להתקבל בהטלת 2 קוביות:\n",
        "</p>"
      ]
    },
    {
      "cell_type": "code",
      "execution_count": 37,
      "metadata": {
        "id": "k8ZPwbEbfINe",
        "outputId": "e9ce6cad-d9fc-4062-dee5-cc8e4705b8b3",
        "colab": {
          "base_uri": "https://localhost:8080/"
        }
      },
      "outputs": [
        {
          "output_type": "stream",
          "name": "stdout",
          "text": [
            "[(1, 1), (1, 2), (1, 3), (1, 4), (1, 5), (1, 6), (2, 1), (2, 2), (2, 3), (2, 4), (2, 5), (2, 6), (3, 1), (3, 2), (3, 3), (3, 4), (3, 5), (3, 6), (4, 1), (4, 2), (4, 3), (4, 4), (4, 5), (4, 6), (5, 1), (5, 2), (5, 3), (5, 4), (5, 5), (5, 6), (6, 1), (6, 2), (6, 3), (6, 4), (6, 5), (6, 6)]\n"
          ]
        }
      ],
      "source": [
        "dice_options = []\n",
        "for first_die in range(1, 7):\n",
        "    for second_die in range(1, 7):\n",
        "        dice_options.append((first_die, second_die))\n",
        "\n",
        "print(dice_options)"
      ]
    },
    {
      "cell_type": "markdown",
      "metadata": {
        "id": "K-GrOkeXfINg"
      },
      "source": [
        "<p style=\"text-align: right; direction: rtl; float: right; clear: both;\">\n",
        "    נוכל להפוך גם את המבנה הזה ל־list comprehension:\n",
        "</p>"
      ]
    },
    {
      "cell_type": "code",
      "execution_count": null,
      "metadata": {
        "id": "kc613m7wfINh"
      },
      "outputs": [],
      "source": [
        "dice_options = [(die1, die2) for die1 in range(1, 7) for die2 in range(1, 7)]\n",
        "print(dice_options)"
      ]
    },
    {
      "cell_type": "markdown",
      "metadata": {
        "id": "WBBNoL0efINh"
      },
      "source": [
        "<p style=\"text-align: right; direction: rtl; float: right; clear: both;\">\n",
        "    כדי להבין איך זה עובד, חשוב לזכור איך קוראים list comprehension:<br>\n",
        "    פשוט התחילו לקרוא מה־<code>for</code> הראשון, וחזרו לאיבר שאנחנו מוסיפים לרשימה בכל פעם רק בסוף.\n",
        "</p>"
      ]
    },
    {
      "cell_type": "markdown",
      "metadata": {
        "id": "emg0u3ftfINh"
      },
      "source": [
        "<p style=\"text-align: right; direction: rtl; float: right; clear: both;\">\n",
        "    אם במשחק מוזר כלשהו נצטרך לזרוק 3 קוביות, לדוגמה, ונרצה לראות אילו אופציות יכולות להתקבל, נוכל לכתוב זאת כך:\n",
        "</p>"
      ]
    },
    {
      "cell_type": "code",
      "execution_count": null,
      "metadata": {
        "id": "SYHDesaifINh"
      },
      "outputs": [],
      "source": [
        "dice_options = [\n",
        "    (die1, die2, die3)\n",
        "    for die1 in range(1, 7)\n",
        "    for die2 in range(1, 7)\n",
        "    for die3 in range(1, 7)\n",
        "]\n",
        "print(dice_options)"
      ]
    },
    {
      "cell_type": "markdown",
      "metadata": {
        "id": "Ri5cP3udfINh"
      },
      "source": [
        "<p style=\"text-align: right; direction: rtl; float: right; clear: both;\">\n",
        "    שבירת השורה בתא שלמעלה נעשתה מטעמי סגנון.<br>\n",
        "    באופן טכני, מותר לרשום את ה־list comprehension הזה בשורה אחת.\n",
        "</p>"
      ]
    },
    {
      "cell_type": "markdown",
      "metadata": {
        "id": "eUFP3T5YfINh"
      },
      "source": [
        "<div class=\"align-center\" style=\"display: flex; text-align: right; direction: rtl; clear: both;\">\n",
        "    <div style=\"display: flex; width: 10%; float: right; clear: both;\">\n",
        "        <img src=\"https://github.com/PythonFreeCourse/Notebooks/blob/main/content/week06/images/exercise.svg?raw=1\" style=\"height: 50px !important;\" alt=\"תרגול\">\n",
        "    </div>\n",
        "    <div style=\"width: 70%\">\n",
        "        <p style=\"text-align: right; direction: rtl; float: right; clear: both;\">\n",
        "            צרו פונקציית generator ו־generator expression מהדוגמה האחרונה.<br>\n",
        "        </p>\n",
        "    </div>\n",
        "    <div style=\"display: flex; width: 20%; border-right: 0.1rem solid #A5A5A5; padding: 1rem 2rem;\">\n",
        "        <p style=\"text-align: center; direction: rtl; justify-content: center; align-items: center; clear: both;\">\n",
        "            <strong>חשוב!</strong><br>\n",
        "            פתרו לפני שתמשיכו!\n",
        "        </p>\n",
        "    </div>\n",
        "</div>"
      ]
    },
    {
      "cell_type": "code",
      "source": [
        "dice_options = (\n",
        "    (die1, die2, die3)\n",
        "    for die1 in range(1, 7)\n",
        "    for die2 in range(1, 7)\n",
        "    for die3 in range(1, 7)\n",
        ")\n",
        "print(list(dice_options))"
      ],
      "metadata": {
        "id": "Jqw6s2nSsmIA",
        "outputId": "68f889ab-bee0-4bbd-aaa8-490133c38e14",
        "colab": {
          "base_uri": "https://localhost:8080/"
        }
      },
      "execution_count": 39,
      "outputs": [
        {
          "output_type": "stream",
          "name": "stdout",
          "text": [
            "[(1, 1, 1), (1, 1, 2), (1, 1, 3), (1, 1, 4), (1, 1, 5), (1, 1, 6), (1, 2, 1), (1, 2, 2), (1, 2, 3), (1, 2, 4), (1, 2, 5), (1, 2, 6), (1, 3, 1), (1, 3, 2), (1, 3, 3), (1, 3, 4), (1, 3, 5), (1, 3, 6), (1, 4, 1), (1, 4, 2), (1, 4, 3), (1, 4, 4), (1, 4, 5), (1, 4, 6), (1, 5, 1), (1, 5, 2), (1, 5, 3), (1, 5, 4), (1, 5, 5), (1, 5, 6), (1, 6, 1), (1, 6, 2), (1, 6, 3), (1, 6, 4), (1, 6, 5), (1, 6, 6), (2, 1, 1), (2, 1, 2), (2, 1, 3), (2, 1, 4), (2, 1, 5), (2, 1, 6), (2, 2, 1), (2, 2, 2), (2, 2, 3), (2, 2, 4), (2, 2, 5), (2, 2, 6), (2, 3, 1), (2, 3, 2), (2, 3, 3), (2, 3, 4), (2, 3, 5), (2, 3, 6), (2, 4, 1), (2, 4, 2), (2, 4, 3), (2, 4, 4), (2, 4, 5), (2, 4, 6), (2, 5, 1), (2, 5, 2), (2, 5, 3), (2, 5, 4), (2, 5, 5), (2, 5, 6), (2, 6, 1), (2, 6, 2), (2, 6, 3), (2, 6, 4), (2, 6, 5), (2, 6, 6), (3, 1, 1), (3, 1, 2), (3, 1, 3), (3, 1, 4), (3, 1, 5), (3, 1, 6), (3, 2, 1), (3, 2, 2), (3, 2, 3), (3, 2, 4), (3, 2, 5), (3, 2, 6), (3, 3, 1), (3, 3, 2), (3, 3, 3), (3, 3, 4), (3, 3, 5), (3, 3, 6), (3, 4, 1), (3, 4, 2), (3, 4, 3), (3, 4, 4), (3, 4, 5), (3, 4, 6), (3, 5, 1), (3, 5, 2), (3, 5, 3), (3, 5, 4), (3, 5, 5), (3, 5, 6), (3, 6, 1), (3, 6, 2), (3, 6, 3), (3, 6, 4), (3, 6, 5), (3, 6, 6), (4, 1, 1), (4, 1, 2), (4, 1, 3), (4, 1, 4), (4, 1, 5), (4, 1, 6), (4, 2, 1), (4, 2, 2), (4, 2, 3), (4, 2, 4), (4, 2, 5), (4, 2, 6), (4, 3, 1), (4, 3, 2), (4, 3, 3), (4, 3, 4), (4, 3, 5), (4, 3, 6), (4, 4, 1), (4, 4, 2), (4, 4, 3), (4, 4, 4), (4, 4, 5), (4, 4, 6), (4, 5, 1), (4, 5, 2), (4, 5, 3), (4, 5, 4), (4, 5, 5), (4, 5, 6), (4, 6, 1), (4, 6, 2), (4, 6, 3), (4, 6, 4), (4, 6, 5), (4, 6, 6), (5, 1, 1), (5, 1, 2), (5, 1, 3), (5, 1, 4), (5, 1, 5), (5, 1, 6), (5, 2, 1), (5, 2, 2), (5, 2, 3), (5, 2, 4), (5, 2, 5), (5, 2, 6), (5, 3, 1), (5, 3, 2), (5, 3, 3), (5, 3, 4), (5, 3, 5), (5, 3, 6), (5, 4, 1), (5, 4, 2), (5, 4, 3), (5, 4, 4), (5, 4, 5), (5, 4, 6), (5, 5, 1), (5, 5, 2), (5, 5, 3), (5, 5, 4), (5, 5, 5), (5, 5, 6), (5, 6, 1), (5, 6, 2), (5, 6, 3), (5, 6, 4), (5, 6, 5), (5, 6, 6), (6, 1, 1), (6, 1, 2), (6, 1, 3), (6, 1, 4), (6, 1, 5), (6, 1, 6), (6, 2, 1), (6, 2, 2), (6, 2, 3), (6, 2, 4), (6, 2, 5), (6, 2, 6), (6, 3, 1), (6, 3, 2), (6, 3, 3), (6, 3, 4), (6, 3, 5), (6, 3, 6), (6, 4, 1), (6, 4, 2), (6, 4, 3), (6, 4, 4), (6, 4, 5), (6, 4, 6), (6, 5, 1), (6, 5, 2), (6, 5, 3), (6, 5, 4), (6, 5, 5), (6, 5, 6), (6, 6, 1), (6, 6, 2), (6, 6, 3), (6, 6, 4), (6, 6, 5), (6, 6, 6)]\n"
          ]
        }
      ]
    },
    {
      "cell_type": "markdown",
      "metadata": {
        "id": "W1VPi1EVfINh"
      },
      "source": [
        "<div class=\"align-center\" style=\"display: flex; text-align: right; direction: rtl; clear: both;\">\n",
        "    <div style=\"display: flex; width: 10%; float: right; clear: both;\">\n",
        "        <img src=\"https://github.com/PythonFreeCourse/Notebooks/blob/main/content/week06/images/exercise.svg?raw=1\" style=\"height: 50px !important;\" alt=\"תרגול\">\n",
        "    </div>\n",
        "    <div style=\"width: 70%\">\n",
        "        <p style=\"text-align: right; direction: rtl; float: right; clear: both;\">\n",
        "            החסרון בדוגמה של קוביות הוא שאנחנו מקבלים בתוצאות גם את <code dir=\"ltr\">(1, 1, 6)</code> וגם את <code dir=\"ltr\">(6, 1, 1)</code> .<br>\n",
        "            האם תוכלו לפתור בעיה זו בקלות?\n",
        "        </p>\n",
        "    </div>\n",
        "    <div style=\"display: flex; width: 20%; border-right: 0.1rem solid #A5A5A5; padding: 1rem 2rem;\">\n",
        "        <p style=\"text-align: center; direction: rtl; justify-content: center; align-items: center; clear: both;\">\n",
        "            <strong>חשוב!</strong><br>\n",
        "            פתרו לפני שתמשיכו!\n",
        "        </p>\n",
        "    </div>\n",
        "</div>"
      ]
    },
    {
      "cell_type": "code",
      "source": [
        "dice_options = (\n",
        "    (die1, die2, die3)\n",
        "    for die1 in range(1, 7)\n",
        "    for die2 in range(1, 7)\n",
        "    for die3 in range(1, 7)\n",
        ")\n",
        "\n",
        "options_without_repetitions = {tuple(sorted(list(dice))) for dice in list(dice_options)}\n",
        "print(options_without_repetitions)\n",
        "print((1,1,6) in options_without_repetitions)\n",
        "print((1,6,1) in options_without_repetitions)\n",
        "print((6,1,1) in options_without_repetitions)\n"
      ],
      "metadata": {
        "id": "2rk9WNb7s16s",
        "outputId": "2e9139cd-cb14-4c45-d3b7-0cf7eca51626",
        "colab": {
          "base_uri": "https://localhost:8080/"
        }
      },
      "execution_count": 61,
      "outputs": [
        {
          "output_type": "stream",
          "name": "stdout",
          "text": [
            "{(2, 2, 2), (3, 5, 6), (1, 6, 6), (2, 2, 5), (4, 4, 4), (1, 2, 2), (1, 3, 3), (1, 2, 5), (4, 5, 6), (3, 3, 5), (1, 3, 6), (3, 4, 4), (1, 4, 5), (5, 5, 6), (2, 4, 5), (2, 3, 3), (2, 3, 6), (1, 1, 3), (1, 1, 6), (1, 5, 6), (2, 2, 4), (3, 5, 5), (4, 4, 6), (1, 2, 4), (2, 5, 6), (4, 5, 5), (4, 6, 6), (6, 6, 6), (1, 4, 4), (5, 5, 5), (3, 4, 6), (3, 3, 4), (1, 3, 5), (3, 6, 6), (2, 3, 5), (1, 1, 2), (2, 4, 4), (1, 1, 5), (1, 5, 5), (5, 6, 6), (2, 2, 3), (2, 2, 6), (2, 5, 5), (1, 2, 6), (2, 6, 6), (4, 4, 5), (1, 2, 3), (1, 4, 6), (1, 3, 4), (3, 3, 3), (3, 3, 6), (3, 4, 5), (2, 3, 4), (1, 1, 4), (2, 4, 6), (1, 1, 1)}\n",
            "True\n",
            "False\n",
            "False\n"
          ]
        }
      ]
    },
    {
      "cell_type": "markdown",
      "metadata": {
        "id": "wB0fohaSfINh"
      },
      "source": [
        "### <span style=\"text-align: right; direction: rtl; float: right; clear: both;\">נימוסין</span>"
      ]
    },
    {
      "cell_type": "markdown",
      "metadata": {
        "id": "-KQR7BUJfINi"
      },
      "source": [
        "<p style=\"text-align: right; direction: rtl; float: right; clear: both;\">\n",
        "    הטכניקות שלמדנו במחברת זו מפקידות בידינו כוח רב, אך כמו שאומר הדוד בן, \"עם כוח גדול באה אחריות גדולה\".<br>\n",
        "    עלינו לזכור תמיד שהמטרה של הטכניקות הללו בסופו של דבר היא להפוך את הקוד לקריא יותר.\n",
        "</p>\n",
        "\n",
        "<p style=\"text-align: right; direction: rtl; float: right; clear: both;\">\n",
        "    לעיתים קרובות מתכנתים לא מנוסים ישתמשו בטכניקות שנלמדו במחברת זו כדי לבנות מבנים מורכבים מאוד.<br>\n",
        "    התוצאה תהיה קוד שקשה לתחזק ולקרוא, ולעיתים קרובות הקוד יוחלף לבסוף בלולאות רגילות.<br>\n",
        "    כלל האצבע הוא שבשורה לא יהיו יותר מ־99 תווים, ושהקוד יהיה פשוט ונוח לקריאה בידי מתכנת חיצוני.\n",
        "</p>\n",
        "\n",
        "<p style=\"text-align: right; direction: rtl; float: right; clear: both;\">\n",
        "    קהילת פייתון דשה בנושאי קריאות קוד לעיתים קרובות, תוך כדי התייחסויות תכופות ל־<a href=\"https://www.python.org/dev/peps/pep-0008/\">PEP8</a>.<br>\n",
        "    נסביר בקצרה – PEP8 הוא מסמך שמתקנן את הקווים הכלליים של סגנון הכתיבה הרצוי בפייתון.<br>\n",
        "    לדוגמה, מאגרי קוד העוקבים אחרי המסמך בצורה מחמירה לא מתירים כתיבת שורות קוד שבהן יותר מ־79 תווים.<br>\n",
        "    כתיבה מסוגננת היטב היא נושא רחב יריעה שנעמיק בו בהמשך הקורס.\n",
        "</p>"
      ]
    },
    {
      "cell_type": "markdown",
      "metadata": {
        "id": "XOIchAbrfINi"
      },
      "source": [
        "## <span style=\"align: right; direction: rtl; float: right; clear: both;\">סיכום</span>"
      ]
    },
    {
      "cell_type": "markdown",
      "metadata": {
        "id": "kWTilswffINi"
      },
      "source": [
        "<p style=\"text-align: right; direction: rtl; float: right; clear: both;\">\n",
        "    במחברת זו למדנו 4 טכניקות שימושיות שעוזרות לנו ליצור בצורה קריאה ומהירה מבני נתונים:\n",
        "</p>"
      ]
    },
    {
      "cell_type": "markdown",
      "metadata": {
        "id": "HTMMdeosfINi"
      },
      "source": [
        "<ul style=\"text-align: right; direction: rtl; float: right; clear: both;\">\n",
        "    <li>List Comprehensions</li>\n",
        "    <li>Dictionary Comprehensions</li>\n",
        "    <li>Set Comprehensions</li>\n",
        "    <li>Generator Expressions</li>\n",
        "</ul>"
      ]
    },
    {
      "cell_type": "markdown",
      "metadata": {
        "id": "MsQt-gFafINi"
      },
      "source": [
        "<p style=\"text-align: right; direction: rtl; float: right; clear: both;\">\n",
        "    למדנו מעט איך להשתמש בהם ומתי, ועל ההקבלות שלהם ללולאות רגילות ולפונקציות כמו <var>map</var> ו־<var>filter</var>.<br>\n",
        "    למדנו גם איך אפשר להשתמש בכל אחת מהן במצב שבו יש לנו כמה לולאות מקוננות.\n",
        "</p>"
      ]
    },
    {
      "cell_type": "markdown",
      "metadata": {
        "id": "8FuMLET_fINi"
      },
      "source": [
        "<p style=\"text-align: right; direction: rtl; float: right; clear: both;\">\n",
        "מתכנתי פייתון עושים שימוש רב בטכניקות האלו, וחשוב לשלוט בהן היטב כדי לדעת לקרוא קוד וכדי להצליח לממש רעיונות במהירות.\n",
        "</p>"
      ]
    },
    {
      "cell_type": "markdown",
      "metadata": {
        "id": "aNlxGs37fINi"
      },
      "source": [
        "## <span style=\"align: right; direction: rtl; float: right; clear: both;\">תרגילים</span>"
      ]
    },
    {
      "cell_type": "markdown",
      "metadata": {
        "id": "oG7RY0eMfINi"
      },
      "source": [
        "### <span style=\"align: right; direction: rtl; float: right; clear: both;\">הֲיִי שלום</span>"
      ]
    },
    {
      "cell_type": "markdown",
      "metadata": {
        "id": "x6a14FMDfINi"
      },
      "source": [
        "<p style=\"text-align: right; direction: rtl; float: right; clear: both;\">\n",
        "    כתבו פונקציה בשם <var>words_length</var> שמקבלת משפט ומחזירה את אורכי המילים שבו, לפי סדרן במשפט.<br>\n",
        "    לצורך התרגיל, הניחו שסימני הפיסוק הם חלק מאורכי המילים.<br>\n",
        "</p>\n",
        "<p style=\"text-align: right; direction: rtl; float: right; clear: both;\">\n",
        "    לדוגמה:<br>\n",
        "    עבור המשפט: <em dir=\"ltr\">Toto, I've a feeling we're not in Kansas anymore</em><br>\n",
        "    החזירו את הרשימה: <samp dir=\"ltr\">[5, 4, 1, 7, 5, 3, 2, 6, 7]</samp>\n",
        "</p>"
      ]
    },
    {
      "cell_type": "code",
      "source": [
        "def words_length(sentence):\n",
        "  return[len(word) for word in sentence.split()]"
      ],
      "metadata": {
        "id": "897u436u3uHS"
      },
      "execution_count": 62,
      "outputs": []
    },
    {
      "cell_type": "code",
      "source": [
        "words_length(\"Toto, I've a feeling we're not in Kansas anymore\")"
      ],
      "metadata": {
        "id": "9tZYKQ5i35C5",
        "outputId": "7c4ab2c4-53b0-4127-b68d-593e25e1c800",
        "colab": {
          "base_uri": "https://localhost:8080/"
        }
      },
      "execution_count": 63,
      "outputs": [
        {
          "output_type": "execute_result",
          "data": {
            "text/plain": [
              "[5, 4, 1, 7, 5, 3, 2, 6, 7]"
            ]
          },
          "metadata": {},
          "execution_count": 63
        }
      ]
    },
    {
      "cell_type": "markdown",
      "metadata": {
        "id": "AE7ZdafSfINj"
      },
      "source": [
        "### <span style=\"align: right; direction: rtl; float: right; clear: both;\">א אוהל, פ זה פייתון</span>"
      ]
    },
    {
      "cell_type": "markdown",
      "metadata": {
        "id": "NLsIpQDafINj"
      },
      "source": [
        "<p style=\"text-align: right; direction: rtl; float: right; clear: both;\">\n",
        "    כתבו פונקציה בשם <var>get_letters</var> שמחזירה את רשימת כל התווים בין a ל־z ובין A ל־Z.<br>\n",
        "    השתמשו ב־list comprehension, ב־<var>ord</var> וב־<var>chr</var>.<br>\n",
        "    הקפידו שלא לכלול את המספרים 65, 90, 97 או 122 בקוד שלכם.\n",
        "</p>"
      ]
    },
    {
      "cell_type": "code",
      "source": [
        "def get_letters():\n",
        "  small = [chr(i) for i in range(ord('a'), ord('z') + 1)]\n",
        "  capital = [chr(i) for i in range(ord('A'), ord('Z') + 1)]\n",
        "\n",
        "  return small + capital"
      ],
      "metadata": {
        "id": "E6UrbWJY4IlH"
      },
      "execution_count": 72,
      "outputs": []
    },
    {
      "cell_type": "code",
      "source": [
        "get_letters()"
      ],
      "metadata": {
        "id": "FNRLkjLp4cK1",
        "outputId": "816705c7-b0be-4d0e-a9fe-34b8e72c8146",
        "colab": {
          "base_uri": "https://localhost:8080/"
        }
      },
      "execution_count": 73,
      "outputs": [
        {
          "output_type": "execute_result",
          "data": {
            "text/plain": [
              "['a',\n",
              " 'b',\n",
              " 'c',\n",
              " 'd',\n",
              " 'e',\n",
              " 'f',\n",
              " 'g',\n",
              " 'h',\n",
              " 'i',\n",
              " 'j',\n",
              " 'k',\n",
              " 'l',\n",
              " 'm',\n",
              " 'n',\n",
              " 'o',\n",
              " 'p',\n",
              " 'q',\n",
              " 'r',\n",
              " 's',\n",
              " 't',\n",
              " 'u',\n",
              " 'v',\n",
              " 'w',\n",
              " 'x',\n",
              " 'y',\n",
              " 'z',\n",
              " 'A',\n",
              " 'B',\n",
              " 'C',\n",
              " 'D',\n",
              " 'E',\n",
              " 'F',\n",
              " 'G',\n",
              " 'H',\n",
              " 'I',\n",
              " 'J',\n",
              " 'K',\n",
              " 'L',\n",
              " 'M',\n",
              " 'N',\n",
              " 'O',\n",
              " 'P',\n",
              " 'Q',\n",
              " 'R',\n",
              " 'S',\n",
              " 'T',\n",
              " 'U',\n",
              " 'V',\n",
              " 'W',\n",
              " 'X',\n",
              " 'Y',\n",
              " 'Z']"
            ]
          },
          "metadata": {},
          "execution_count": 73
        }
      ]
    },
    {
      "cell_type": "markdown",
      "metadata": {
        "id": "s9YAOsnefINj"
      },
      "source": [
        "### <span style=\"align: right; direction: rtl; float: right; clear: both;\">חתול ארוך הוא ארוך</span>"
      ]
    },
    {
      "cell_type": "markdown",
      "metadata": {
        "id": "ThHrlj4WfINj"
      },
      "source": [
        "<p style=\"text-align: right; direction: rtl; float: right; clear: both;\">\n",
        "    כתבו פונקציה בשם <var>count_words</var> שמקבלת כפרמטר טקסט, ומחזירה מילון של אורכי המילים שבו.<br>\n",
        "    השתמשו ב־comprehension לבחירתכם (או ב־generator expression) כדי לנקות את הטקסט מסימנים שאינם אותיות.<br>\n",
        "    לאחר מכן, השתמשו ב־dictionary comprehension כדי לגלות את אורכה של כל מילה במשפט.<br>\n",
        "</p>"
      ]
    },
    {
      "cell_type": "markdown",
      "metadata": {
        "id": "lL8eX1t_fINj"
      },
      "source": [
        "<p style=\"text-align: right; direction: rtl; float: right; clear: both;\">\n",
        "    לדוגמה, עבור הטקסט הבא, בדקו שחוזר לכם המילון המופיע מייד אחריו.\n",
        "</p>"
      ]
    },
    {
      "cell_type": "code",
      "execution_count": 76,
      "metadata": {
        "id": "TQ57kRZ9fINj"
      },
      "outputs": [],
      "source": [
        "import string\n",
        "\n",
        "text = \"\"\"\n",
        "You see, wire telegraph is a kind of a very, very long cat.\n",
        "You pull his tail in New York and his head is meowing in Los Angeles.\n",
        "Do you understand this?\n",
        "And radio operates exactly the same way: you send signals here, they receive them there.\n",
        "The only difference is that there is no cat.\n",
        "\"\"\"\n",
        "\n",
        "expected_result = {'you': 3, 'see': 3, 'wire': 4, 'telegraph': 9, 'is': 2, 'a': 1, 'kind': 4, 'of': 2, 'very': 4, 'long': 4, 'cat': 3, 'pull': 4, 'his': 3, 'tail': 4, 'in': 2, 'new': 3, 'york': 4, 'and': 3, 'head': 4, 'meowing': 7, 'los': 3, 'angeles': 7, 'do': 2, 'understand': 10, 'this': 4, 'radio': 5, 'operates': 8, 'exactly': 7, 'the': 3, 'same': 4, 'way': 3, 'send': 4, 'signals': 7, 'here': 4, 'they': 4, 'receive': 7, 'them': 4, 'there': 5, 'only': 4, 'difference': 10, 'that': 4, 'no': 2}"
      ]
    },
    {
      "cell_type": "code",
      "source": [
        "def count_words(text):\n",
        "  words = text.split()\n",
        "  only_char_words = (\"\".join(list(filter(lambda c: c.isalpha(), word))) for word in words)\n",
        "\n",
        "  return {word: len(word) for word in list(only_char_words)}"
      ],
      "metadata": {
        "id": "jbhrYCDM5kaQ"
      },
      "execution_count": 104,
      "outputs": []
    },
    {
      "cell_type": "code",
      "source": [
        "count_words(text)"
      ],
      "metadata": {
        "id": "t5rg3hbG5nSs",
        "outputId": "8ba0cf7c-3c2c-417b-d9db-c1091494a451",
        "colab": {
          "base_uri": "https://localhost:8080/"
        }
      },
      "execution_count": 105,
      "outputs": [
        {
          "output_type": "execute_result",
          "data": {
            "text/plain": [
              "{'You': 3,\n",
              " 'see': 3,\n",
              " 'wire': 4,\n",
              " 'telegraph': 9,\n",
              " 'is': 2,\n",
              " 'a': 1,\n",
              " 'kind': 4,\n",
              " 'of': 2,\n",
              " 'very': 4,\n",
              " 'long': 4,\n",
              " 'cat': 3,\n",
              " 'pull': 4,\n",
              " 'his': 3,\n",
              " 'tail': 4,\n",
              " 'in': 2,\n",
              " 'New': 3,\n",
              " 'York': 4,\n",
              " 'and': 3,\n",
              " 'head': 4,\n",
              " 'meowing': 7,\n",
              " 'Los': 3,\n",
              " 'Angeles': 7,\n",
              " 'Do': 2,\n",
              " 'you': 3,\n",
              " 'understand': 10,\n",
              " 'this': 4,\n",
              " 'And': 3,\n",
              " 'radio': 5,\n",
              " 'operates': 8,\n",
              " 'exactly': 7,\n",
              " 'the': 3,\n",
              " 'same': 4,\n",
              " 'way': 3,\n",
              " 'send': 4,\n",
              " 'signals': 7,\n",
              " 'here': 4,\n",
              " 'they': 4,\n",
              " 'receive': 7,\n",
              " 'them': 4,\n",
              " 'there': 5,\n",
              " 'The': 3,\n",
              " 'only': 4,\n",
              " 'difference': 10,\n",
              " 'that': 4,\n",
              " 'no': 2}"
            ]
          },
          "metadata": {},
          "execution_count": 105
        }
      ]
    },
    {
      "cell_type": "markdown",
      "metadata": {
        "id": "aDeU2zLCfINj"
      },
      "source": [
        "### <span style=\"align: right; direction: rtl; float: right; clear: both;\">ואלה שמות</span>"
      ]
    },
    {
      "cell_type": "markdown",
      "metadata": {
        "id": "l_LuZI7nfINj"
      },
      "source": [
        "<p style=\"text-align: right; direction: rtl; float: right; clear: both;\">\n",
        "    כתבו פונקציה בשם <var>full_names</var>, שתקבל כפרמטרים רשימת שמות פרטיים ורשימת שמות משפחה, ותרכיב מהם שמות מלאים.<br>\n",
        "    לכל שם פרטי תצמיד הפונקציה את כל שמות המשפחה שהתקבלו.<br>\n",
        "    ודאו שהשמות חוזרים כאשר האות הראשונה בשם הפרטי ובשם המשפחה היא אות גדולה.\n",
        "</p>"
      ]
    },
    {
      "cell_type": "markdown",
      "metadata": {
        "id": "UMQCb780fINj"
      },
      "source": [
        "<p style=\"text-align: right; direction: rtl; float: right; clear: both;\">\n",
        "    על הפונקציה לקבל גם פרמטר אופציונלי בשם <var>min_length</var>.<br>\n",
        "    אם הפרמטר הועבר, שמות מלאים שכמות התווים שבהם קטנה מהאורך שהוגדר – לא יוחזרו מהפונקציה.\n",
        "</p>"
      ]
    },
    {
      "cell_type": "markdown",
      "metadata": {
        "id": "EotTvoCIfINj"
      },
      "source": [
        "<p style=\"text-align: right; direction: rtl; float: right; clear: both;\">\n",
        "    לדוגמה:\n",
        "</p>"
      ]
    },
    {
      "cell_type": "code",
      "source": [
        "def full_names(first_names, last_names, min_length=None):\n",
        "  return [first_names[i].title() + \" \" + last_names[j].title()  for i in range(len(first_names)) for j in range(len(last_names)) if not min_length or len(first_names[i]) + len(last_names[j]) >= min_length]\n"
      ],
      "metadata": {
        "id": "JHFI-Xn69Ft4"
      },
      "execution_count": 121,
      "outputs": []
    },
    {
      "cell_type": "code",
      "execution_count": 122,
      "metadata": {
        "id": "ihkAEbMhfINj",
        "outputId": "7611e04b-d57d-4ea1-d9e2-394d32cd008f",
        "colab": {
          "base_uri": "https://localhost:8080/"
        }
      },
      "outputs": [
        {
          "output_type": "execute_result",
          "data": {
            "text/plain": [
              "True"
            ]
          },
          "metadata": {},
          "execution_count": 122
        }
      ],
      "source": [
        "first_names = ['avi', 'moshe', 'yaakov']\n",
        "last_names = ['cohen', 'levi', 'mizrahi']\n",
        "\n",
        "# התנאים הבאים צריכים להתקיים\n",
        "full_names(first_names, last_names, 10) == ['Avi Mizrahi', 'Moshe Cohen', 'Moshe Levi', 'Moshe Mizrahi', 'Yaakov Cohen', 'Yaakov Levi', 'Yaakov Mizrahi']\n",
        "full_names(first_names, last_names) == ['Avi Cohen', 'Avi Levi', 'Avi Mizrahi', 'Moshe Cohen', 'Moshe Levi', 'Moshe Mizrahi', 'Yaakov Cohen', 'Yaakov Levi', 'Yaakov Mizrahi']"
      ]
    }
  ],
  "metadata": {
    "kernelspec": {
      "display_name": "Python 3",
      "language": "python",
      "name": "python3"
    },
    "language_info": {
      "codemirror_mode": {
        "name": "ipython",
        "version": 3
      },
      "file_extension": ".py",
      "mimetype": "text/x-python",
      "name": "python",
      "nbconvert_exporter": "python",
      "pygments_lexer": "ipython3",
      "version": "3.7.6"
    },
    "colab": {
      "provenance": []
    }
  },
  "nbformat": 4,
  "nbformat_minor": 0
}