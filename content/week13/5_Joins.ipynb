{
  "cells": [
    {
      "cell_type": "markdown",
      "metadata": {
        "id": "vq-35JM6L-Fd"
      },
      "source": [
        "<img src=\"https://github.com/PythonFreeCourse/Notebooks/blob/main/content/week13/images/logo.jpg?raw=1\" style=\"display: block; margin-left: auto; margin-right: auto;\" alt=\"לוגו של מיזם לימוד הפייתון. נחש מצויר בצבעי צהוב וכחול, הנע בין האותיות של שם הקורס: לומדים פייתון. הסלוגן המופיע מעל לשם הקורס הוא מיזם חינמי ללימוד תכנות בעברית.\">"
      ]
    },
    {
      "cell_type": "markdown",
      "metadata": {
        "id": "tM6d6DyZL-Fj"
      },
      "source": [
        "# <span style=\"text-align: right; direction: rtl; float: right;\">שאילתות לצירוף טבלאות</span>"
      ]
    },
    {
      "cell_type": "markdown",
      "metadata": {
        "id": "SUwN2k8DL-Fk"
      },
      "source": [
        "## <span style=\"text-align: right; direction: rtl; float: right;\">הקדמה</span>"
      ]
    },
    {
      "cell_type": "markdown",
      "metadata": {
        "id": "IHdWo4J5L-Fk"
      },
      "source": [
        "<p style=\"text-align: right; direction: rtl; float: right; clear: both;\">\n",
        "    עד כה, הסקנו תובנות ממסד הנתונים שלנו בעזרת שאילתות שהשתמשו כל פעם בנתונים מטבלה אחת.<br>\n",
        "    השאילתות שבנינו תשאלו טבלה מסוימת, והשתמשו במידע הקיים בה כדי לענות על שאלות מעניינות.\n",
        "</p>"
      ]
    },
    {
      "cell_type": "markdown",
      "metadata": {
        "id": "T9E5MPZbL-Fk"
      },
      "source": [
        "<p style=\"text-align: right; direction: rtl; float: right; clear: both;\">\n",
        "    בשיעור הקודם למדנו על הצורך בביצוע נרמול למסד הנתונים, שמפזר מידע על פני כמה טבלאות.<br>\n",
        "    מצד אחד, הנרמול מסייע לנו לשמור מידע בצורה חסכונית ויעילה,<br>\n",
        "    ומצד שני – בשיטה שלמדנו עד כה אי אפשר לתשאל מידע ששמור ביותר מטבלה אחת.\n",
        "</p>"
      ]
    },
    {
      "cell_type": "markdown",
      "metadata": {
        "id": "bximKg2zL-Fl"
      },
      "source": [
        "<p style=\"text-align: right; direction: rtl; float: right; clear: both;\">\n",
        "    כיוון שבחיים האמיתיים לרוב מסדי הנתונים שנתשאל יהיו (בתקווה) מנורמלים,<br>\n",
        "    נצטרך למצוא דרך להתייחס למידע שפרוש על פני כמה טבלאות במסד הנתונים שלנו.<br>\n",
        "    זה מה שנלמד במחברת הקרובה.\n",
        "</p>"
      ]
    },
    {
      "cell_type": "markdown",
      "metadata": {
        "id": "K_65VTZwL-Fl"
      },
      "source": [
        "<p style=\"text-align: right; direction: rtl; float: right; clear: both;\">\n",
        "    לפני שנתחיל, ניזכר כיצד נראה מסד הנתונים שעליו אנחנו עובדים:\n",
        "</p>"
      ]
    },
    {
      "cell_type": "markdown",
      "metadata": {
        "id": "Ow38dIwlL-Fl"
      },
      "source": [
        "<figure>\n",
        "    <img src=\"https://github.com/PythonFreeCourse/Notebooks/blob/main/content/week13/images/schema_diagram.png?v=2&raw=1\" style=\"width: 800px; margin-right: auto; margin-left: auto; text-align: center;\" alt=\"בתמונה קופסאות שראשיהן צבועים בצבעים שונים. לכל קופסה צבע, כותרת ותוכן. הכותרת מתארת את שם הטבלה במסד הנתונים, והתוכן של הקופסה מורכב משורות – כל שורה מתארת עמודה שקיימת באותה טבלה. בין הקופסאות עוברים קווים המחברים בין עמודה בטבלה אחת לעמודה בטבלה אחרת. כל קו כזה מתאר קשר בין שתי עמודות. ליד חלק מהעמודות יש ציור של מפתח, שמסמל עמודה כעמודה ראשית בטבלה (מפתח ראשי). בכל טבלה לכל היותר סימן אחד של מפתח. ליד כל עמודה גם כתוב הטיפוס שלה – סוג הערכים שהיא יודעת להכיל.\"/>\n",
        "    <figcaption style=\"margin-top: 2rem; text-align: center; direction: rtl;\">\n",
        "        תרשים שמציג את כל הטבלאות והעמודות במסד הנתונים, כולל את הקשרים ביניהם.<br>\n",
        "        המינוח המקצועי לתרשים שכזה הוא \"תרשים ישויות קשרים\" (באנגלית: <abbr title=\"Entity-relationship diagram\">ERD</abbr>).\n",
        "    </figcaption>\n",
        "</figure>"
      ]
    },
    {
      "cell_type": "markdown",
      "metadata": {
        "id": "KBELbEaTL-Fm"
      },
      "source": [
        "## <span style=\"text-align: right; direction: rtl; float: right;\">הקדמה</span>"
      ]
    },
    {
      "cell_type": "markdown",
      "metadata": {
        "id": "WFiTy98VL-Fm"
      },
      "source": [
        "<p style=\"text-align: right; direction: rtl; float: right; clear: both;\">\n",
        "    הצורך שעליו נרצה לענות במחברת הקרובה, כמו שעשינו עד עתה, הוא מציאת תשובות לשאלות.<br>\n",
        "    במחברת הזו, בניגוד למחברות הקודמות, כל שאלה תתייחס לנתונים שפזורים על פני כמה טבלאות.<br>\n",
        "    באיזה <var>סרט</var> שיחקו הכי הרבה <var>שחקנים</var>, ואיזה <var>סרט</var> תורגם להכי הרבה <var>שפות</var>?<br>\n",
        "    אילו שחקנים שיחקו במטריקס, ומה היה הסרט המצליח ביותר בו שיחק ג'ון טרבולטה?\n",
        "</p>"
      ]
    },
    {
      "cell_type": "markdown",
      "metadata": {
        "id": "TW59kqflL-Fm"
      },
      "source": [
        "<p style=\"text-align: right; direction: rtl; float: right; clear: both;\">\n",
        "    כדי לענות על השאלות שהוצגו מעלה, נצטרך לתשאל יותר מטבלה אחת בכל פעם.<br>\n",
        "    דרך מקובלת לעשות זאת היא לצרף כמה טבלאות כך שיוצגו כטבלה אחת עם כל הנתונים שלנו, ולתשאל אותה.\n",
        "</p>"
      ]
    },
    {
      "cell_type": "markdown",
      "metadata": {
        "id": "H1TVrZHuL-Fm"
      },
      "source": [
        "<p style=\"text-align: right; direction: rtl; float: right; clear: both;\">\n",
        "    בשיעור הקרוב נשחק עם הרעיון של צירוף טבלאות.<br>\n",
        "    בעזרת צירוף טבלאות, נוכל ליצור טבלה אחת שאותה יהיה קל לתשאל.\n",
        "</p>"
      ]
    },
    {
      "cell_type": "markdown",
      "metadata": {
        "id": "qKhixlpNL-Fm"
      },
      "source": [
        "<p style=\"text-align: right; direction: rtl; float: right; clear: both;\">\n",
        "    כדי להתחיל, נדמיין שתי טבלאות שישמשו לנו לדוגמה.<br>\n",
        "    אלו יהיו טבלאות פשוטות יחסית: טבלת \"<var>צורות</var>\" וטבלת \"<var>בניינים</var>\".\n",
        "</p>"
      ]
    },
    {
      "cell_type": "markdown",
      "metadata": {
        "id": "ciwN7CWzL-Fn"
      },
      "source": [
        "<figure>\n",
        "    <img src=\"https://github.com/PythonFreeCourse/Notebooks/blob/main/content/week13/images/join_intro.svg?v=2&raw=1\" style=\"margin-right: auto; margin-left: auto; text-align: center;\" alt=\"בציור מוצגת בצד שמאל טבלת צורות שרקעה כחול, ובצד ימין טבלת בניינים שרקעה ורדרד. לטבלאות 3 עמודות כל אחת. לטבלת צורות 4 ישויות, ולטבלת בניינים 3 ישויות.\"/>\n",
        "    <figcaption style=\"margin-top: 2rem; text-align: center; direction: rtl;\">\n",
        "        שתי טבלאות: <var>צורות</var> ו<var>בניינים</var>.\n",
        "    </figcaption>\n",
        "</figure>"
      ]
    },
    {
      "cell_type": "markdown",
      "metadata": {
        "id": "fxfz5iNQL-Fn"
      },
      "source": [
        "<p style=\"text-align: right; direction: rtl; float: right; clear: both;\">\n",
        "    המשמעות של הביטוי \"צירוף בין הטבלאות\" עשויה להיות מעורפלת בשלב הזה.<br>\n",
        "    הכוונה, במקרה שלנו, היא ליצור טבלה זמנית שבנויה <em>גם</em> מהעמודות של טבלת <var>צורות</var>, ו<em>גם</em> מהעמודות של טבלת <var>בניינים</var>.<br>\n",
        "</p>"
      ]
    },
    {
      "cell_type": "markdown",
      "metadata": {
        "id": "WICWiTAFL-Fn"
      },
      "source": [
        "<p style=\"text-align: right; direction: rtl; float: right; clear: both;\">\n",
        "    איך זה ייראה?<br>\n",
        "    ובכן, גם ההגדרה הזו קצת מעורפלת, ובפסקאות הבאות נסקור יותר מדרך אחת לצמד בין הטבלאות.<br>\n",
        "    לפני שניגש לעשות זאת, נסו לחשוב בעצמכם על כמה דרכים מועילות ליצור טבלה אחת משתי הטבלאות שמופיעות מעלה.\n",
        "</p>"
      ]
    },
    {
      "cell_type": "markdown",
      "metadata": {
        "id": "R1iIGiitL-Fn"
      },
      "source": [
        "## <span style=\"text-align: right; direction: rtl; float: right;\">מכפלה קרטזית</span>"
      ]
    },
    {
      "cell_type": "markdown",
      "metadata": {
        "id": "380GPRNZL-Fn"
      },
      "source": [
        "<p style=\"text-align: right; direction: rtl; float: right; clear: both;\">\n",
        "    לפני שנתחיל ללמוד על הדרכים המועילות לצמד בין הטבלאות, נלמד על רעיון תיאורטי חשוב.<br>\n",
        "    הרעיון נקרא \"<dfn>מכפלה קרטזית</dfn>\", ובהשאלה לטבלאות שלנו – זו דרך מעניינת לצמד בין הישויות בטבלאות.\n",
        "</p>"
      ]
    },
    {
      "cell_type": "markdown",
      "metadata": {
        "id": "DA-jVwEKL-Fn"
      },
      "source": [
        "<p style=\"text-align: right; direction: rtl; float: right; clear: both;\">\n",
        "    כדי לבצע מכפלה קרטזית, אנחנו פועלים לפי האלגוריתם הבא:\n",
        "</p>\n",
        "\n",
        "<ol style=\"text-align: right; direction: rtl; float: right; clear: both;\">\n",
        "    <li>בחר את הישות (שורה) הראשונה בטבלה השמאלית שעדיין לא ביצעת עבורה את התהליך שמופיע להלן. נקרא לה <var>X</var>.</li>\n",
        "    <li>עבור כל ישות בטבלה הימנית, צור ישות חדשה שמורכבת מ־<var>X</var> והישות בטבלה הימנית.</li>\n",
        "    <li>חזור לסעיף 1, ובצע את התהליך עד שלא ישארו יותר שורות בטבלה השמאלית שעבורן לא ביצענו את התהליך.</li>\n",
        "</ol>"
      ]
    },
    {
      "cell_type": "markdown",
      "metadata": {
        "id": "IfjkTXjGL-Fo"
      },
      "source": [
        "<p style=\"text-align: right; direction: rtl; float: right; clear: both;\">\n",
        "    כך נבצע את התהליך עבור הטבלאות <var>בניינים</var> ו<var>צורות</var>:<br>\n",
        "    לשורה הראשונה, בה כתוב \"עיגול\", נצמיד את כל הבניינים – עזריאלי 1, עזריאלי 2 והפנטגון, וניצור עבור כל בניין שורה חדשה.<br>\n",
        "    כך גם עבור המשולש (3 שורות, עבור 3 בניינים), עבור המעוין ועבור הריבוע.<br>\n",
        "    עבור כל איבר בשמאל, נצמד את כל האיברים בימין.\n",
        "</p>"
      ]
    },
    {
      "cell_type": "markdown",
      "metadata": {
        "id": "eaZPHbWaL-Fo"
      },
      "source": [
        "<p style=\"text-align: right; direction: rtl; float: right; clear: both;\">\n",
        "    התוצאות יראו כך:\n",
        "</p>"
      ]
    },
    {
      "cell_type": "markdown",
      "metadata": {
        "id": "TB7goIoJL-Fo"
      },
      "source": [
        "<figure>\n",
        "    <img src=\"https://github.com/PythonFreeCourse/Notebooks/blob/main/content/week13/images/cross_join.svg?v=6&raw=1\" style=\"margin-right: auto; margin-left: auto; text-align: center;\" alt=\"בציור מוצגת בצד שמאל טבלת צורות שרקעה כחול, ובצד ימין טבלת בניינים שרקעה ורדרד. לטבלאות 3 עמודות כל אחת. לטבלת צורות 4 ישויות, ולטבלת בניינים 3 ישויות. מכל ישות בטבלת 'צורות' יוצאים שלושה קווים, אחד עבור כל ישות בטבלת 'בניינים'. כל הקווים שיוצאים מהישות הראשונה כתומים, מהשנייה ירוקים, מהשלישית אדומים ומהרביעית סגולים. מתחת לשתי הטבלאות המתוארות ישנה טבלה אחת נוספת, שמציגה את כל השילובים האפשריים בין הישויות של טבלאת 'צורות' עם טבלת 'בניינים'. 3 השילובים הראשונים בנויים מהישות הראשונה של טבלת 'צורות', שצורפה עם כל אחת מהישויות בטבלת 'בניינים'. שלוש הישויות שנוצרו מוקפות בכתום. שלוש הישויות שנמצאות אחריהן בטבלה נבנו מהישות השנייה בטבלה 'צורות' ששולבה עם כל הישויות ב'בנייינים', ומוקפת בירוק. אותו דבר גם עבור הישויות הבאות בטבלת 'צורות'. בטבלה החדשה שנוצרה, העמודות שנלקחו מטבלת 'צורות' צבועות בכחול, ואלו שנלקחו מטבלת 'בניינים' נצבעו בורוד. מטבלת בניינים יורדים אל הטבלה החדשה שני קווים ורודים מקווקווים שתוחמים את העמודות שהגיעו מהטבלה בניינים. מטבלת צורות יורדים אל הטבלה החדשה שני קווים כחולים מקווקווים שתוחמים את העמודות שהגיעו מהטבלה צורות.\"/>\n",
        "    <figcaption style=\"margin-top: 2rem; text-align: center; direction: rtl;\">\n",
        "        תרשים שמציג את התהליך והתוצאות של מכפלה קרטזית בין טבלת <var>צורות</var> לטבלת <var>בניינים</var>.<br>\n",
        "    </figcaption>\n",
        "</figure>"
      ]
    },
    {
      "cell_type": "markdown",
      "metadata": {
        "id": "0BUfkrBUL-Fo"
      },
      "source": [
        "<div class=\"align-center\" style=\"display: flex; text-align: right; direction: rtl; clear: both;\">\n",
        "    <div style=\"display: flex; width: 10%; float: right; clear: both;\">\n",
        "        <img src=\"https://github.com/PythonFreeCourse/Notebooks/blob/main/content/week13/images/exercise.svg?raw=1\" style=\"height: 50px !important;\" alt=\"תרגול\">\n",
        "    </div>\n",
        "    <div style=\"width: 70%\">\n",
        "        <p style=\"text-align: right; direction: rtl; float: right; clear: both;\">\n",
        "            לפניכם מוגדרות הטבלאות שהובאו כדוגמה.<br>\n",
        "            נסו לכתוב תוכנית פייתון שמבצעת מכפלה קרטזית בין הטבלאות.\n",
        "        </p>\n",
        "    </div>\n",
        "</div>"
      ]
    },
    {
      "cell_type": "code",
      "execution_count": null,
      "metadata": {
        "id": "Kld7KBSQL-Fo"
      },
      "outputs": [],
      "source": [
        "SHAPES = (\n",
        "    ['◯', 'Circle', 0],\n",
        "    ['△', 'Triangle', 3],\n",
        "    ['♢', 'Rhombus', 4],\n",
        "    ['□', 'Square', 4],\n",
        ")\n",
        "\n",
        "\n",
        "BUILDINGS = (\n",
        "    ['Azrieli 1', 'Circle', 'Derech Menahem Begin 132'],\n",
        "    ['Azrieli 2', 'Triangle', 'Derech Menahem Begin 132'],\n",
        "    ['The Pentagon', 'Well, Pentagon',\n",
        "     'Arlington, Virginia, Washington Blvd 100'],\n",
        ")"
      ]
    },
    {
      "cell_type": "markdown",
      "metadata": {
        "id": "7mT22s9PL-Fp"
      },
      "source": [
        "<p style=\"text-align: right; direction: rtl; float: right; clear: both;\">\n",
        "    ב־SQL, נוכל להשיג תוצאה של מכפלה קרטזית בין שתי טבלאות בעזרת <code>CROSS JOIN</code>.<br>\n",
        "    זה יראה כך (השוו לתוצאות האיור שלמעלה):\n",
        "</p>"
      ]
    },
    {
      "cell_type": "markdown",
      "metadata": {
        "id": "UpSyt6YNL-Fp"
      },
      "source": [
        "```sql\n",
        "SELECT *\n",
        "FROM צורות\n",
        "    CROSS JOIN בניינים;\n",
        "```"
      ]
    },
    {
      "cell_type": "markdown",
      "metadata": {
        "id": "IxfWzbwaL-Fp"
      },
      "source": [
        "<p style=\"text-align: right; direction: rtl; float: right; clear: both;\">\n",
        "    מתי השימוש ב־<code>CROSS JOIN</code> יכול להועיל?<br>\n",
        "    בעיקר כשאנחנו מעוניינים לקבל תובנה על כל השילובים האפשריים של שורות בין שתי טבלאות.\n",
        "</p>"
      ]
    },
    {
      "cell_type": "markdown",
      "metadata": {
        "id": "Ux3w8J59L-Fp"
      },
      "source": [
        "<p style=\"text-align: right; direction: rtl; float: right; clear: both;\">\n",
        "    אם, לדוגמה, אנחנו מנהלים מסעדה, ואנחנו רוצים להציע לאורחים שלנו ארוחת בוקר עסקית.<br>\n",
        "    תמחור הארוחה ללקוח יהיה 100 ש\"ח, כשהארוחה כוללת שתייה, מנה עיקרית ועיתון.<br>\n",
        "    חשוב לנו לעשות רווח של לפחות 40 שקלים על כל ארוחה כזו שנמכרת.\n",
        "</p>"
      ]
    },
    {
      "cell_type": "markdown",
      "metadata": {
        "id": "EDc2k8jaL-Fp"
      },
      "source": [
        "<p style=\"text-align: right; direction: rtl; float: right; clear: both;\">\n",
        "    בתפריט יש לנו 5 אפשרויות לשתייה, 6 אפשרויות למנה עיקרית ו־3 אפשרויות לעיתונים.<br>\n",
        "    העלות של המוצרים והמנות עבור הבעלים של המסעדה לא אחידה.<br>\n",
        "    איך נמצא שילובים בעייתיים שלא יניבו רווח של 40 שקלים?\n",
        "</p>"
      ]
    },
    {
      "cell_type": "markdown",
      "metadata": {
        "id": "LAx6VJ3sL-Fp"
      },
      "source": [
        "<p style=\"text-align: right; direction: rtl; float: right; clear: both;\">\n",
        "    הנתונים מסודרים בטבלאות במסד הנתונים שקיים בקובץ resources/restaurant.db.<br>\n",
        "    נראה את האפשרויות השונות, והעלות של כל אחת מהן לבעלי המסעדה:\n",
        "</p>"
      ]
    },
    {
      "cell_type": "markdown",
      "metadata": {
        "id": "H-UTObFqL-Fp"
      },
      "source": [
        "<div style=\"display: flex; justify-content: center;\">\n",
        "<table style=\"display: inline-block; font-size: 1.5rem; margin: 2em;\">\n",
        "    <caption style=\"text-align: center; direction: rtl; clear: both; font-size: 2rem; padding-bottom: 2rem;\">טבלת <var>drinks</var></caption>\n",
        "    <thead>\n",
        "        <tr>\n",
        "            <th style=\"text-align: center;\">id</th>\n",
        "            <th style=\"text-align: center;\">name</th>\n",
        "            <th style=\"text-align: center;\">cost</th>\n",
        "        </tr>\n",
        "    </thead>\n",
        "    <tbody>\n",
        "        <tr>\n",
        "            <td style=\"text-align: left;\">1</td>\n",
        "            <td style=\"text-align: left;\">Coffee</td>\n",
        "            <td style=\"text-align: left;\">10</td>\n",
        "        </tr>\n",
        "        <tr>\n",
        "            <td style=\"text-align: left;\">2</td>\n",
        "            <td style=\"text-align: left;\">Orange Juice</td>\n",
        "            <td style=\"text-align: left;\">9</td>\n",
        "        </tr>\n",
        "        <tr>\n",
        "            <td style=\"text-align: left;\">3</td>\n",
        "            <td style=\"text-align: left;\">Nuka-Cola</td>\n",
        "            <td style=\"text-align: left;\">14</td>\n",
        "        </tr>\n",
        "        <tr>\n",
        "            <td style=\"text-align: left;\">4</td>\n",
        "            <td style=\"text-align: left;\">Janx Shot</td>\n",
        "            <td style=\"text-align: left;\">4.2</td>\n",
        "        </tr>\n",
        "        <tr>\n",
        "            <td style=\"text-align: left;\">5</td>\n",
        "            <td style=\"text-align: left;\">Milk of the Poppy</td>\n",
        "            <td style=\"text-align: left;\">11</td>\n",
        "        </tr>\n",
        "    </tbody>\n",
        "</table>\n",
        "\n",
        "<table style=\"display: inline-block; font-size: 1.5rem; margin: 2em;\">\n",
        "    <caption style=\"text-align: center; direction: rtl; clear: both; font-size: 2rem; padding-bottom: 2rem;\">טבלת <var>foods</var></caption>\n",
        "    <thead>\n",
        "        <tr>\n",
        "            <th style=\"text-align: center;\">id</th>\n",
        "            <th style=\"text-align: center;\">name</th>\n",
        "            <th style=\"text-align: center;\">cost</th>\n",
        "        </tr>\n",
        "    </thead>\n",
        "    <tbody>\n",
        "        <tr>\n",
        "            <td style=\"text-align: left;\">1</td>\n",
        "            <td style=\"text-align: left;\">Caesar Salad</td>\n",
        "            <td style=\"text-align: left;\">36</td>\n",
        "        </tr>\n",
        "        <tr>\n",
        "            <td style=\"text-align: left;\">2</td>\n",
        "            <td style=\"text-align: left;\">Xiaolongbao</td>\n",
        "            <td style=\"text-align: left;\">43</td>\n",
        "        </tr>\n",
        "        <tr>\n",
        "            <td style=\"text-align: left;\">3</td>\n",
        "            <td style=\"text-align: left;\">Krabby Patties</td>\n",
        "            <td style=\"text-align: left;\">39</td>\n",
        "        </tr>\n",
        "        <tr>\n",
        "            <td style=\"text-align: left;\">4</td>\n",
        "            <td style=\"text-align: left;\">Butterscotch Cinnamon Pie</td>\n",
        "            <td style=\"text-align: left;\">40</td>\n",
        "        </tr>\n",
        "        <tr>\n",
        "            <td style=\"text-align: left;\">5</td>\n",
        "            <td style=\"text-align: left;\">Lava Soup</td>\n",
        "            <td style=\"text-align: left;\">34</td>\n",
        "        </tr>\n",
        "        <tr>\n",
        "            <td style=\"text-align: left;\">6</td>\n",
        "            <td style=\"text-align: left;\">Lembas</td>\n",
        "            <td style=\"text-align: left;\">43</td>\n",
        "        </tr>\n",
        "    </tbody>\n",
        "</table>\n",
        "\n",
        "<table style=\"display: inline-block; font-size: 1.5rem; margin: 2em;\">\n",
        "    <caption style=\"text-align: center; direction: rtl; clear: both; font-size: 2rem; padding-bottom: 2rem;\">טבלת <var>newspapers</var></caption>\n",
        "    <thead>\n",
        "        <tr>\n",
        "            <th style=\"text-align: center;\">id</th>\n",
        "            <th style=\"text-align: center;\">name</th>\n",
        "            <th style=\"text-align: center;\">cost</th>\n",
        "        </tr>\n",
        "    </thead>\n",
        "    <tbody>\n",
        "        <tr>\n",
        "            <td style=\"text-align: left;\">1</td>\n",
        "            <td style=\"text-align: left;\">The Washington Herald</td>\n",
        "            <td style=\"text-align: left;\">12</td>\n",
        "        </tr>\n",
        "        <tr>\n",
        "            <td style=\"text-align: left;\">2</td>\n",
        "            <td style=\"text-align: left;\">The Springfield Shopper</td>\n",
        "            <td style=\"text-align: left;\">8</td>\n",
        "        </tr>\n",
        "        <tr>\n",
        "            <td style=\"text-align: left;\">3</td>\n",
        "            <td style=\"text-align: left;\">Daily Bugle</td>\n",
        "            <td style=\"text-align: left;\">9</td>\n",
        "        </tr>\n",
        "    </tbody>\n",
        "</table>\n",
        "</div>"
      ]
    },
    {
      "cell_type": "markdown",
      "metadata": {
        "id": "Oeea9rpuL-Fq"
      },
      "source": [
        "<p style=\"text-align: right; direction: rtl; float: right; clear: both;\">\n",
        "    אם נצטרף את הטבלאות באמצעות <code>CROSS JOIN</code>, נקבל את כל השילובים שהלקוח יכול לבחור מהתפריט.<br>\n",
        "    נכתוב זאת כך:\n",
        "</p>"
      ]
    },
    {
      "cell_type": "markdown",
      "metadata": {
        "id": "KQjdxpQUL-Fq"
      },
      "source": [
        "```sql\n",
        "SELECT *\n",
        "FROM drinks\n",
        "    CROSS JOIN foods\n",
        "    CROSS JOIN newspapers;\n",
        "```"
      ]
    },
    {
      "cell_type": "markdown",
      "metadata": {
        "id": "LOOAg8_IL-Fq"
      },
      "source": [
        "<p style=\"text-align: right; direction: rtl; float: right; clear: both;\">\n",
        "    התוצאות יראו כך:\n",
        "</p>"
      ]
    },
    {
      "cell_type": "markdown",
      "metadata": {
        "id": "uA6YN88iL-Fq"
      },
      "source": [
        "<table>\n",
        "  <tr>\n",
        "    <th>id</th>\n",
        "    <th> name </th>\n",
        "    <th> cost </th>\n",
        "    <th> id </th>\n",
        "    <th> name </th>\n",
        "    <th> cost </th>\n",
        "    <th> id </th>\n",
        "    <th> name </th>\n",
        "    <th> cost </th>\n",
        "    <th> total_cost </th>\n",
        "  </tr> <tr class=\"odd\">\n",
        "    <td> 1 </td>\n",
        "    <td> Coffee </td>\n",
        "    <td> 10 </td>\n",
        "    <td> 1 </td>\n",
        "    <td> Caesar Salad </td>\n",
        "    <td> 36 </td>\n",
        "    <td> 1 </td>\n",
        "    <td> The Washington Herald </td>\n",
        "    <td> 12 </td>\n",
        "    <td> 58 </td>\n",
        "  </tr>\n",
        "  <tr>\n",
        "    <td>1</td>\n",
        "    <td>Coffee</td>\n",
        "    <td>10</td>\n",
        "    <td>1</td>\n",
        "    <td>Caesar Salad</td>\n",
        "    <td>36</td>\n",
        "    <td>2</td>\n",
        "    <td>The Springfield Shopper</td>\n",
        "    <td>8</td>\n",
        "    <td>54</td>\n",
        "  </tr>\n",
        "  <tr class=\"odd\">\n",
        "    <td>1</td>\n",
        "    <td>Coffee</td>\n",
        "    <td>10</td>\n",
        "    <td>1</td>\n",
        "    <td>Caesar Salad</td>\n",
        "    <td>36</td>\n",
        "    <td>3</td>\n",
        "    <td>Daily Bugle</td>\n",
        "    <td>9</td>\n",
        "    <td>55</td>\n",
        "  </tr>\n",
        "  <tr>\n",
        "    <td>1</td>\n",
        "    <td>Coffee</td>\n",
        "    <td>10</td>\n",
        "    <td>2</td>\n",
        "    <td>Xiaolongbao</td>\n",
        "    <td>43</td>\n",
        "    <td>1</td>\n",
        "    <td>The Washington Herald</td>\n",
        "    <td>12</td>\n",
        "    <td>65</td>\n",
        "  </tr>\n",
        "  <tr class=\"odd\">\n",
        "    <td>1</td>\n",
        "    <td>Coffee</td>\n",
        "    <td>10</td>\n",
        "    <td>2</td>\n",
        "    <td>Xiaolongbao</td>\n",
        "    <td>43</td>\n",
        "    <td>2</td>\n",
        "    <td>The Springfield Shopper</td>\n",
        "    <td>8</td>\n",
        "    <td>61</td>\n",
        "  </tr>\n",
        "  <tr>\n",
        "    <td>1</td>\n",
        "    <td>Coffee</td>\n",
        "    <td>10</td>\n",
        "    <td>2</td>\n",
        "    <td>Xiaolongbao</td>\n",
        "    <td>43</td>\n",
        "    <td>3</td>\n",
        "    <td>Daily Bugle</td>\n",
        "    <td>9</td>\n",
        "    <td>62</td>\n",
        "  </tr>\n",
        "  <tr class=\"odd\">\n",
        "    <td>1</td>\n",
        "    <td>Coffee</td>\n",
        "    <td>10</td>\n",
        "    <td>3</td>\n",
        "    <td>Krabby Patties</td>\n",
        "    <td>39</td>\n",
        "    <td>1</td>\n",
        "    <td>The Washington Herald</td>\n",
        "    <td>12</td>\n",
        "    <td>61</td>\n",
        "  </tr>\n",
        "  <tr>\n",
        "    <td>1</td>\n",
        "    <td>Coffee</td>\n",
        "    <td>10</td>\n",
        "    <td>3</td>\n",
        "    <td>Krabby Patties</td>\n",
        "    <td>39</td>\n",
        "    <td>2</td>\n",
        "    <td>The Springfield Shopper</td>\n",
        "    <td>8</td>\n",
        "    <td>57</td>\n",
        "  </tr>\n",
        "  <tr class=\"odd\">\n",
        "    <td>1</td>\n",
        "    <td>Coffee</td>\n",
        "    <td>10</td>\n",
        "    <td>3</td>\n",
        "    <td>Krabby Patties</td>\n",
        "    <td>39</td>\n",
        "    <td>3</td>\n",
        "    <td>Daily Bugle</td>\n",
        "    <td>9</td>\n",
        "    <td>58</td>\n",
        "  </tr>\n",
        "  <tr>\n",
        "    <td>1</td>\n",
        "    <td>Coffee</td>\n",
        "    <td>10</td>\n",
        "    <td>4</td>\n",
        "    <td>Butterscotch Cinnamon Pie</td>\n",
        "    <td>40</td>\n",
        "    <td>1</td>\n",
        "    <td>The Washington Herald</td>\n",
        "    <td>12</td>\n",
        "    <td>62</td>\n",
        "  </tr>\n",
        "  <tr class=\"odd\">\n",
        "    <td>1</td>\n",
        "    <td>Coffee</td>\n",
        "    <td>10</td>\n",
        "    <td>4</td>\n",
        "    <td>Butterscotch Cinnamon Pie</td>\n",
        "    <td>40</td>\n",
        "    <td>2</td>\n",
        "    <td>The Springfield Shopper</td>\n",
        "    <td>8</td>\n",
        "    <td>58</td>\n",
        "  </tr>\n",
        "  <tr>\n",
        "    <td>1</td>\n",
        "    <td>Coffee</td>\n",
        "    <td>10</td>\n",
        "    <td>4</td>\n",
        "    <td>Butterscotch Cinnamon Pie</td>\n",
        "    <td>40</td>\n",
        "    <td>3</td>\n",
        "    <td>Daily Bugle</td>\n",
        "    <td>9</td>\n",
        "    <td>59</td>\n",
        "  </tr>\n",
        "  <tr class=\"odd\">\n",
        "    <td>1</td>\n",
        "    <td>Coffee</td>\n",
        "    <td>10</td>\n",
        "    <td>5</td>\n",
        "    <td>Lava Soup</td>\n",
        "    <td>34</td>\n",
        "    <td>1</td>\n",
        "    <td>The Washington Herald</td>\n",
        "    <td>12</td>\n",
        "    <td>56</td>\n",
        "  </tr>\n",
        "  <tr>\n",
        "    <td>1</td>\n",
        "    <td>Coffee</td>\n",
        "    <td>10</td>\n",
        "    <td>5</td>\n",
        "    <td>Lava Soup</td>\n",
        "    <td>34</td>\n",
        "    <td>2</td>\n",
        "    <td>The Springfield Shopper</td>\n",
        "    <td>8</td>\n",
        "    <td>52</td>\n",
        "  </tr>\n",
        "  <tr class=\"odd\">\n",
        "    <td>1</td>\n",
        "    <td>Coffee</td>\n",
        "    <td>10</td>\n",
        "    <td>5</td>\n",
        "    <td>Lava Soup</td>\n",
        "    <td>34</td>\n",
        "    <td>3</td>\n",
        "    <td>Daily Bugle</td>\n",
        "    <td>9</td>\n",
        "    <td>53</td>\n",
        "  </tr>\n",
        "  <tr>\n",
        "    <td>1</td>\n",
        "    <td>Coffee</td>\n",
        "    <td>10</td>\n",
        "    <td>6</td>\n",
        "    <td>Lembas</td>\n",
        "    <td>43</td>\n",
        "    <td>1</td>\n",
        "    <td>The Washington Herald</td>\n",
        "    <td>12</td>\n",
        "    <td>65</td>\n",
        "  </tr>\n",
        "  <tr class=\"odd\">\n",
        "    <td>1</td>\n",
        "    <td>Coffee</td>\n",
        "    <td>10</td>\n",
        "    <td>6</td>\n",
        "    <td>Lembas</td>\n",
        "    <td>43</td>\n",
        "    <td>2</td>\n",
        "    <td>The Springfield Shopper</td>\n",
        "    <td>8</td>\n",
        "    <td>61</td>\n",
        "  </tr>\n",
        "  <tr>\n",
        "    <td>1</td>\n",
        "    <td>Coffee</td>\n",
        "    <td>10</td>\n",
        "    <td>6</td>\n",
        "    <td>Lembas</td>\n",
        "    <td>43</td>\n",
        "    <td>3</td>\n",
        "    <td>Daily Bugle</td>\n",
        "    <td>9</td>\n",
        "    <td>62</td>\n",
        "  </tr>\n",
        "  <tr class=\"odd\">\n",
        "    <td>2</td>\n",
        "    <td>Orange Juice</td>\n",
        "    <td>9</td>\n",
        "    <td>1</td>\n",
        "    <td>Caesar Salad</td>\n",
        "    <td>36</td>\n",
        "    <td>1</td>\n",
        "    <td>The Washington Herald</td>\n",
        "    <td>12</td>\n",
        "    <td>57</td>\n",
        "  </tr>\n",
        "  <tr>\n",
        "    <td>2</td>\n",
        "    <td>Orange Juice</td>\n",
        "    <td>9</td>\n",
        "    <td>1</td>\n",
        "    <td>Caesar Salad</td>\n",
        "    <td>36</td>\n",
        "    <td>2</td>\n",
        "    <td>The Springfield Shopper</td>\n",
        "    <td>8</td>\n",
        "    <td>53</td>\n",
        "  </tr>\n",
        "  <tr class=\"odd\">\n",
        "    <td>2</td>\n",
        "    <td>Orange Juice</td>\n",
        "    <td>9</td>\n",
        "    <td>1</td>\n",
        "    <td>Caesar Salad</td>\n",
        "    <td>36</td>\n",
        "    <td>3</td>\n",
        "    <td>Daily Bugle</td>\n",
        "    <td>9</td>\n",
        "    <td>54</td>\n",
        "  </tr>\n",
        "  <tr>\n",
        "    <td>2</td>\n",
        "    <td>Orange Juice</td>\n",
        "    <td>9</td>\n",
        "    <td>2</td>\n",
        "    <td>Xiaolongbao</td>\n",
        "    <td>43</td>\n",
        "    <td>1</td>\n",
        "    <td>The Washington Herald</td>\n",
        "    <td>12</td>\n",
        "    <td>64</td>\n",
        "  </tr>\n",
        "  <tr class=\"odd\">\n",
        "    <td>2</td>\n",
        "    <td>Orange Juice</td>\n",
        "    <td>9</td>\n",
        "    <td>2</td>\n",
        "    <td>Xiaolongbao</td>\n",
        "    <td>43</td>\n",
        "    <td>2</td>\n",
        "    <td>The Springfield Shopper</td>\n",
        "    <td>8</td>\n",
        "    <td>60</td>\n",
        "  </tr>\n",
        "  <tr>\n",
        "    <td>2</td>\n",
        "    <td>Orange Juice</td>\n",
        "    <td>9</td>\n",
        "    <td>2</td>\n",
        "    <td>Xiaolongbao</td>\n",
        "    <td>43</td>\n",
        "    <td>3</td>\n",
        "    <td>Daily Bugle</td>\n",
        "    <td>9</td>\n",
        "    <td>61</td>\n",
        "  </tr>\n",
        "  <tr class=\"odd\">\n",
        "    <td>2</td>\n",
        "    <td>Orange Juice</td>\n",
        "    <td>9</td>\n",
        "    <td>3</td>\n",
        "    <td>Krabby Patties</td>\n",
        "    <td>39</td>\n",
        "    <td>1</td>\n",
        "    <td>The Washington Herald</td>\n",
        "    <td>12</td>\n",
        "    <td>60</td>\n",
        "  </tr>\n",
        "  <tr>\n",
        "    <td>2</td>\n",
        "    <td>Orange Juice</td>\n",
        "    <td>9</td>\n",
        "    <td>3</td>\n",
        "    <td>Krabby Patties</td>\n",
        "    <td>39</td>\n",
        "    <td>2</td>\n",
        "    <td>The Springfield Shopper</td>\n",
        "    <td>8</td>\n",
        "    <td>56</td>\n",
        "  </tr>\n",
        "  <tr class=\"odd\">\n",
        "    <td>2</td>\n",
        "    <td>Orange Juice</td>\n",
        "    <td>9</td>\n",
        "    <td>3</td>\n",
        "    <td>Krabby Patties</td>\n",
        "    <td>39</td>\n",
        "    <td>3</td>\n",
        "    <td>Daily Bugle</td>\n",
        "    <td>9</td>\n",
        "    <td>57</td>\n",
        "  </tr>\n",
        "  <tr>\n",
        "    <td>2</td>\n",
        "    <td>Orange Juice</td>\n",
        "    <td>9</td>\n",
        "    <td>4</td>\n",
        "    <td>Butterscotch Cinnamon Pie</td>\n",
        "    <td>40</td>\n",
        "    <td>1</td>\n",
        "    <td>The Washington Herald</td>\n",
        "    <td>12</td>\n",
        "    <td>61</td>\n",
        "  </tr>\n",
        "  <tr class=\"odd\">\n",
        "    <td>2</td>\n",
        "    <td>Orange Juice</td>\n",
        "    <td>9</td>\n",
        "    <td>4</td>\n",
        "    <td>Butterscotch Cinnamon Pie</td>\n",
        "    <td>40</td>\n",
        "    <td>2</td>\n",
        "    <td>The Springfield Shopper</td>\n",
        "    <td>8</td>\n",
        "    <td>57</td>\n",
        "  </tr>\n",
        "  <tr>\n",
        "    <td>2</td>\n",
        "    <td>Orange Juice</td>\n",
        "    <td>9</td>\n",
        "    <td>4</td>\n",
        "    <td>Butterscotch Cinnamon Pie</td>\n",
        "    <td>40</td>\n",
        "    <td>3</td>\n",
        "    <td>Daily Bugle</td>\n",
        "    <td>9</td>\n",
        "    <td>58</td>\n",
        "  </tr>\n",
        "  <tr class=\"odd\">\n",
        "    <td>2</td>\n",
        "    <td>Orange Juice</td>\n",
        "    <td>9</td>\n",
        "    <td>5</td>\n",
        "    <td>Lava Soup</td>\n",
        "    <td>34</td>\n",
        "    <td>1</td>\n",
        "    <td>The Washington Herald</td>\n",
        "    <td>12</td>\n",
        "    <td>55</td>\n",
        "  </tr>\n",
        "  <tr>\n",
        "    <td>2</td>\n",
        "    <td>Orange Juice</td>\n",
        "    <td>9</td>\n",
        "    <td>5</td>\n",
        "    <td>Lava Soup</td>\n",
        "    <td>34</td>\n",
        "    <td>2</td>\n",
        "    <td>The Springfield Shopper</td>\n",
        "    <td>8</td>\n",
        "    <td>51</td>\n",
        "  </tr>\n",
        "  <tr class=\"odd\">\n",
        "    <td>2</td>\n",
        "    <td>Orange Juice</td>\n",
        "    <td>9</td>\n",
        "    <td>5</td>\n",
        "    <td>Lava Soup</td>\n",
        "    <td>34</td>\n",
        "    <td>3</td>\n",
        "    <td>Daily Bugle</td>\n",
        "    <td>9</td>\n",
        "    <td>52</td>\n",
        "  </tr>\n",
        "  <tr>\n",
        "    <td>2</td>\n",
        "    <td>Orange Juice</td>\n",
        "    <td>9</td>\n",
        "    <td>6</td>\n",
        "    <td>Lembas</td>\n",
        "    <td>43</td>\n",
        "    <td>1</td>\n",
        "    <td>The Washington Herald</td>\n",
        "    <td>12</td>\n",
        "    <td>64</td>\n",
        "  </tr>\n",
        "  <tr class=\"odd\">\n",
        "    <td>2</td>\n",
        "    <td>Orange Juice</td>\n",
        "    <td>9</td>\n",
        "    <td>6</td>\n",
        "    <td>Lembas</td>\n",
        "    <td>43</td>\n",
        "    <td>2</td>\n",
        "    <td>The Springfield Shopper</td>\n",
        "    <td>8</td>\n",
        "    <td>60</td>\n",
        "  </tr>\n",
        "  <tr>\n",
        "    <td>2</td>\n",
        "    <td>Orange Juice</td>\n",
        "    <td>9</td>\n",
        "    <td>6</td>\n",
        "    <td>Lembas</td>\n",
        "    <td>43</td>\n",
        "    <td>3</td>\n",
        "    <td>Daily Bugle</td>\n",
        "    <td>9</td>\n",
        "    <td>61</td>\n",
        "  </tr>\n",
        "  <tr class=\"odd\">\n",
        "    <td>3</td>\n",
        "    <td>Nuka-Cola</td>\n",
        "    <td>14</td>\n",
        "    <td>1</td>\n",
        "    <td>Caesar Salad</td>\n",
        "    <td>36</td>\n",
        "    <td>1</td>\n",
        "    <td>The Washington Herald</td>\n",
        "    <td>12</td>\n",
        "    <td>62</td>\n",
        "  </tr>\n",
        "  <tr>\n",
        "    <td>3</td>\n",
        "    <td>Nuka-Cola</td>\n",
        "    <td>14</td>\n",
        "    <td>1</td>\n",
        "    <td>Caesar Salad</td>\n",
        "    <td>36</td>\n",
        "    <td>2</td>\n",
        "    <td>The Springfield Shopper</td>\n",
        "    <td>8</td>\n",
        "    <td>58</td>\n",
        "  </tr>\n",
        "  <tr class=\"odd\">\n",
        "    <td>3</td>\n",
        "    <td>Nuka-Cola</td>\n",
        "    <td>14</td>\n",
        "    <td>1</td>\n",
        "    <td>Caesar Salad</td>\n",
        "    <td>36</td>\n",
        "    <td>3</td>\n",
        "    <td>Daily Bugle</td>\n",
        "    <td>9</td>\n",
        "    <td>59</td>\n",
        "  </tr>\n",
        "  <tr>\n",
        "    <td>3</td>\n",
        "    <td>Nuka-Cola</td>\n",
        "    <td>14</td>\n",
        "    <td>2</td>\n",
        "    <td>Xiaolongbao</td>\n",
        "    <td>43</td>\n",
        "    <td>1</td>\n",
        "    <td>The Washington Herald</td>\n",
        "    <td>12</td>\n",
        "    <td>69</td>\n",
        "  </tr>\n",
        "  <tr class=\"odd\">\n",
        "    <td>3</td>\n",
        "    <td>Nuka-Cola</td>\n",
        "    <td>14</td>\n",
        "    <td>2</td>\n",
        "    <td>Xiaolongbao</td>\n",
        "    <td>43</td>\n",
        "    <td>2</td>\n",
        "    <td>The Springfield Shopper</td>\n",
        "    <td>8</td>\n",
        "    <td>65</td>\n",
        "  </tr>\n",
        "  <tr>\n",
        "    <td>3</td>\n",
        "    <td>Nuka-Cola</td>\n",
        "    <td>14</td>\n",
        "    <td>2</td>\n",
        "    <td>Xiaolongbao</td>\n",
        "    <td>43</td>\n",
        "    <td>3</td>\n",
        "    <td>Daily Bugle</td>\n",
        "    <td>9</td>\n",
        "    <td>66</td>\n",
        "  </tr>\n",
        "  <tr class=\"odd\">\n",
        "    <td>3</td>\n",
        "    <td>Nuka-Cola</td>\n",
        "    <td>14</td>\n",
        "    <td>3</td>\n",
        "    <td>Krabby Patties</td>\n",
        "    <td>39</td>\n",
        "    <td>1</td>\n",
        "    <td>The Washington Herald</td>\n",
        "    <td>12</td>\n",
        "    <td>65</td>\n",
        "  </tr>\n",
        "  <tr>\n",
        "    <td>3</td>\n",
        "    <td>Nuka-Cola</td>\n",
        "    <td>14</td>\n",
        "    <td>3</td>\n",
        "    <td>Krabby Patties</td>\n",
        "    <td>39</td>\n",
        "    <td>2</td>\n",
        "    <td>The Springfield Shopper</td>\n",
        "    <td>8</td>\n",
        "    <td>61</td>\n",
        "  </tr>\n",
        "  <tr class=\"odd\">\n",
        "    <td>3</td>\n",
        "    <td>Nuka-Cola</td>\n",
        "    <td>14</td>\n",
        "    <td>3</td>\n",
        "    <td>Krabby Patties</td>\n",
        "    <td>39</td>\n",
        "    <td>3</td>\n",
        "    <td>Daily Bugle</td>\n",
        "    <td>9</td>\n",
        "    <td>62</td>\n",
        "  </tr>\n",
        "  <tr>\n",
        "    <td>3</td>\n",
        "    <td>Nuka-Cola</td>\n",
        "    <td>14</td>\n",
        "    <td>4</td>\n",
        "    <td>Butterscotch Cinnamon Pie</td>\n",
        "    <td>40</td>\n",
        "    <td>1</td>\n",
        "    <td>The Washington Herald</td>\n",
        "    <td>12</td>\n",
        "    <td>66</td>\n",
        "  </tr>\n",
        "  <tr class=\"odd\">\n",
        "    <td>3</td>\n",
        "    <td>Nuka-Cola</td>\n",
        "    <td>14</td>\n",
        "    <td>4</td>\n",
        "    <td>Butterscotch Cinnamon Pie</td>\n",
        "    <td>40</td>\n",
        "    <td>2</td>\n",
        "    <td>The Springfield Shopper</td>\n",
        "    <td>8</td>\n",
        "    <td>62</td>\n",
        "  </tr>\n",
        "  <tr>\n",
        "    <td>3</td>\n",
        "    <td>Nuka-Cola</td>\n",
        "    <td>14</td>\n",
        "    <td>4</td>\n",
        "    <td>Butterscotch Cinnamon Pie</td>\n",
        "    <td>40</td>\n",
        "    <td>3</td>\n",
        "    <td>Daily Bugle</td>\n",
        "    <td>9</td>\n",
        "    <td>63</td>\n",
        "  </tr>\n",
        "  <tr class=\"odd\">\n",
        "    <td>3</td>\n",
        "    <td>Nuka-Cola</td>\n",
        "    <td>14</td>\n",
        "    <td>5</td>\n",
        "    <td>Lava Soup</td>\n",
        "    <td>34</td>\n",
        "    <td>1</td>\n",
        "    <td>The Washington Herald</td>\n",
        "    <td>12</td>\n",
        "    <td>60</td>\n",
        "  </tr>\n",
        "  <tr>\n",
        "    <td>3</td>\n",
        "    <td>Nuka-Cola</td>\n",
        "    <td>14</td>\n",
        "    <td>5</td>\n",
        "    <td>Lava Soup</td>\n",
        "    <td>34</td>\n",
        "    <td>2</td>\n",
        "    <td>The Springfield Shopper</td>\n",
        "    <td>8</td>\n",
        "    <td>56</td>\n",
        "  </tr>\n",
        "  <tr class=\"odd\">\n",
        "    <td>3</td>\n",
        "    <td>Nuka-Cola</td>\n",
        "    <td>14</td>\n",
        "    <td>5</td>\n",
        "    <td>Lava Soup</td>\n",
        "    <td>34</td>\n",
        "    <td>3</td>\n",
        "    <td>Daily Bugle</td>\n",
        "    <td>9</td>\n",
        "    <td>57</td>\n",
        "  </tr>\n",
        "  <tr>\n",
        "    <td>3</td>\n",
        "    <td>Nuka-Cola</td>\n",
        "    <td>14</td>\n",
        "    <td>6</td>\n",
        "    <td>Lembas</td>\n",
        "    <td>43</td>\n",
        "    <td>1</td>\n",
        "    <td>The Washington Herald</td>\n",
        "    <td>12</td>\n",
        "    <td>69</td>\n",
        "  </tr>\n",
        "  <tr class=\"odd\">\n",
        "    <td>3</td>\n",
        "    <td>Nuka-Cola</td>\n",
        "    <td>14</td>\n",
        "    <td>6</td>\n",
        "    <td>Lembas</td>\n",
        "    <td>43</td>\n",
        "    <td>2</td>\n",
        "    <td>The Springfield Shopper</td>\n",
        "    <td>8</td>\n",
        "    <td>65</td>\n",
        "  </tr>\n",
        "  <tr>\n",
        "    <td>3</td>\n",
        "    <td>Nuka-Cola</td>\n",
        "    <td>14</td>\n",
        "    <td>6</td>\n",
        "    <td>Lembas</td>\n",
        "    <td>43</td>\n",
        "    <td>3</td>\n",
        "    <td>Daily Bugle</td>\n",
        "    <td>9</td>\n",
        "    <td>66</td>\n",
        "  </tr>\n",
        "  <tr class=\"odd\">\n",
        "    <td>4</td>\n",
        "    <td>Janx Shot</td>\n",
        "    <td>4.2</td>\n",
        "    <td>1</td>\n",
        "    <td>Caesar Salad</td>\n",
        "    <td>36</td>\n",
        "    <td>1</td>\n",
        "    <td>The Washington Herald</td>\n",
        "    <td>12</td>\n",
        "    <td>52.2</td>\n",
        "  </tr>\n",
        "  <tr>\n",
        "    <td>4</td>\n",
        "    <td>Janx Shot</td>\n",
        "    <td>4.2</td>\n",
        "    <td>1</td>\n",
        "    <td>Caesar Salad</td>\n",
        "    <td>36</td>\n",
        "    <td>2</td>\n",
        "    <td>The Springfield Shopper</td>\n",
        "    <td>8</td>\n",
        "    <td>48.2</td>\n",
        "  </tr>\n",
        "  <tr class=\"odd\">\n",
        "    <td>4</td>\n",
        "    <td>Janx Shot</td>\n",
        "    <td>4.2</td>\n",
        "    <td>1</td>\n",
        "    <td>Caesar Salad</td>\n",
        "    <td>36</td>\n",
        "    <td>3</td>\n",
        "    <td>Daily Bugle</td>\n",
        "    <td>9</td>\n",
        "    <td>49.2</td>\n",
        "  </tr>\n",
        "  <tr>\n",
        "    <td>4</td>\n",
        "    <td>Janx Shot</td>\n",
        "    <td>4.2</td>\n",
        "    <td>2</td>\n",
        "    <td>Xiaolongbao</td>\n",
        "    <td>43</td>\n",
        "    <td>1</td>\n",
        "    <td>The Washington Herald</td>\n",
        "    <td>12</td>\n",
        "    <td>59.2</td>\n",
        "  </tr>\n",
        "  <tr class=\"odd\">\n",
        "    <td>4</td>\n",
        "    <td>Janx Shot</td>\n",
        "    <td>4.2</td>\n",
        "    <td>2</td>\n",
        "    <td>Xiaolongbao</td>\n",
        "    <td>43</td>\n",
        "    <td>2</td>\n",
        "    <td>The Springfield Shopper</td>\n",
        "    <td>8</td>\n",
        "    <td>55.2</td>\n",
        "  </tr>\n",
        "  <tr>\n",
        "    <td>4</td>\n",
        "    <td>Janx Shot</td>\n",
        "    <td>4.2</td>\n",
        "    <td>2</td>\n",
        "    <td>Xiaolongbao</td>\n",
        "    <td>43</td>\n",
        "    <td>3</td>\n",
        "    <td>Daily Bugle</td>\n",
        "    <td>9</td>\n",
        "    <td>56.2</td>\n",
        "  </tr>\n",
        "  <tr class=\"odd\">\n",
        "    <td>4</td>\n",
        "    <td>Janx Shot</td>\n",
        "    <td>4.2</td>\n",
        "    <td>3</td>\n",
        "    <td>Krabby Patties</td>\n",
        "    <td>39</td>\n",
        "    <td>1</td>\n",
        "    <td>The Washington Herald</td>\n",
        "    <td>12</td>\n",
        "    <td>55.2</td>\n",
        "  </tr>\n",
        "  <tr>\n",
        "    <td>4</td>\n",
        "    <td>Janx Shot</td>\n",
        "    <td>4.2</td>\n",
        "    <td>3</td>\n",
        "    <td>Krabby Patties</td>\n",
        "    <td>39</td>\n",
        "    <td>2</td>\n",
        "    <td>The Springfield Shopper</td>\n",
        "    <td>8</td>\n",
        "    <td>51.2</td>\n",
        "  </tr>\n",
        "  <tr class=\"odd\">\n",
        "    <td>4</td>\n",
        "    <td>Janx Shot</td>\n",
        "    <td>4.2</td>\n",
        "    <td>3</td>\n",
        "    <td>Krabby Patties</td>\n",
        "    <td>39</td>\n",
        "    <td>3</td>\n",
        "    <td>Daily Bugle</td>\n",
        "    <td>9</td>\n",
        "    <td>52.2</td>\n",
        "  </tr>\n",
        "  <tr>\n",
        "    <td>4</td>\n",
        "    <td>Janx Shot</td>\n",
        "    <td>4.2</td>\n",
        "    <td>4</td>\n",
        "    <td>Butterscotch Cinnamon Pie</td>\n",
        "    <td>40</td>\n",
        "    <td>1</td>\n",
        "    <td>The Washington Herald</td>\n",
        "    <td>12</td>\n",
        "    <td>56.2</td>\n",
        "  </tr>\n",
        "  <tr class=\"odd\">\n",
        "    <td>4</td>\n",
        "    <td>Janx Shot</td>\n",
        "    <td>4.2</td>\n",
        "    <td>4</td>\n",
        "    <td>Butterscotch Cinnamon Pie</td>\n",
        "    <td>40</td>\n",
        "    <td>2</td>\n",
        "    <td>The Springfield Shopper</td>\n",
        "    <td>8</td>\n",
        "    <td>52.2</td>\n",
        "  </tr>\n",
        "  <tr>\n",
        "    <td>4</td>\n",
        "    <td>Janx Shot</td>\n",
        "    <td>4.2</td>\n",
        "    <td>4</td>\n",
        "    <td>Butterscotch Cinnamon Pie</td>\n",
        "    <td>40</td>\n",
        "    <td>3</td>\n",
        "    <td>Daily Bugle</td>\n",
        "    <td>9</td>\n",
        "    <td>53.2</td>\n",
        "  </tr>\n",
        "  <tr class=\"odd\">\n",
        "    <td>4</td>\n",
        "    <td>Janx Shot</td>\n",
        "    <td>4.2</td>\n",
        "    <td>5</td>\n",
        "    <td>Lava Soup</td>\n",
        "    <td>34</td>\n",
        "    <td>1</td>\n",
        "    <td>The Washington Herald</td>\n",
        "    <td>12</td>\n",
        "    <td>50.2</td>\n",
        "  </tr>\n",
        "  <tr>\n",
        "    <td>4</td>\n",
        "    <td>Janx Shot</td>\n",
        "    <td>4.2</td>\n",
        "    <td>5</td>\n",
        "    <td>Lava Soup</td>\n",
        "    <td>34</td>\n",
        "    <td>2</td>\n",
        "    <td>The Springfield Shopper</td>\n",
        "    <td>8</td>\n",
        "    <td>46.2</td>\n",
        "  </tr>\n",
        "  <tr class=\"odd\">\n",
        "    <td>4</td>\n",
        "    <td>Janx Shot</td>\n",
        "    <td>4.2</td>\n",
        "    <td>5</td>\n",
        "    <td>Lava Soup</td>\n",
        "    <td>34</td>\n",
        "    <td>3</td>\n",
        "    <td>Daily Bugle</td>\n",
        "    <td>9</td>\n",
        "    <td>47.2</td>\n",
        "  </tr>\n",
        "  <tr>\n",
        "    <td>4</td>\n",
        "    <td>Janx Shot</td>\n",
        "    <td>4.2</td>\n",
        "    <td>6</td>\n",
        "    <td>Lembas</td>\n",
        "    <td>43</td>\n",
        "    <td>1</td>\n",
        "    <td>The Washington Herald</td>\n",
        "    <td>12</td>\n",
        "    <td>59.2</td>\n",
        "  </tr>\n",
        "  <tr class=\"odd\">\n",
        "    <td>4</td>\n",
        "    <td>Janx Shot</td>\n",
        "    <td>4.2</td>\n",
        "    <td>6</td>\n",
        "    <td>Lembas</td>\n",
        "    <td>43</td>\n",
        "    <td>2</td>\n",
        "    <td>The Springfield Shopper</td>\n",
        "    <td>8</td>\n",
        "    <td>55.2</td>\n",
        "  </tr>\n",
        "  <tr>\n",
        "    <td>4</td>\n",
        "    <td>Janx Shot</td>\n",
        "    <td>4.2</td>\n",
        "    <td>6</td>\n",
        "    <td>Lembas</td>\n",
        "    <td>43</td>\n",
        "    <td>3</td>\n",
        "    <td>Daily Bugle</td>\n",
        "    <td>9</td>\n",
        "    <td>56.2</td>\n",
        "  </tr>\n",
        "  <tr class=\"odd\">\n",
        "    <td>5</td>\n",
        "    <td>Milk of the Poppy</td>\n",
        "    <td>11</td>\n",
        "    <td>1</td>\n",
        "    <td>Caesar Salad</td>\n",
        "    <td>36</td>\n",
        "    <td>1</td>\n",
        "    <td>The Washington Herald</td>\n",
        "    <td>12</td>\n",
        "    <td>59</td>\n",
        "  </tr>\n",
        "  <tr>\n",
        "    <td>5</td>\n",
        "    <td>Milk of the Poppy</td>\n",
        "    <td>11</td>\n",
        "    <td>1</td>\n",
        "    <td>Caesar Salad</td>\n",
        "    <td>36</td>\n",
        "    <td>2</td>\n",
        "    <td>The Springfield Shopper</td>\n",
        "    <td>8</td>\n",
        "    <td>55</td>\n",
        "  </tr>\n",
        "  <tr class=\"odd\">\n",
        "    <td>5</td>\n",
        "    <td>Milk of the Poppy</td>\n",
        "    <td>11</td>\n",
        "    <td>1</td>\n",
        "    <td>Caesar Salad</td>\n",
        "    <td>36</td>\n",
        "    <td>3</td>\n",
        "    <td>Daily Bugle</td>\n",
        "    <td>9</td>\n",
        "    <td>56</td>\n",
        "  </tr>\n",
        "  <tr>\n",
        "    <td>5</td>\n",
        "    <td>Milk of the Poppy</td>\n",
        "    <td>11</td>\n",
        "    <td>2</td>\n",
        "    <td>Xiaolongbao</td>\n",
        "    <td>43</td>\n",
        "    <td>1</td>\n",
        "    <td>The Washington Herald</td>\n",
        "    <td>12</td>\n",
        "    <td>66</td>\n",
        "  </tr>\n",
        "  <tr class=\"odd\">\n",
        "    <td>5</td>\n",
        "    <td>Milk of the Poppy</td>\n",
        "    <td>11</td>\n",
        "    <td>2</td>\n",
        "    <td>Xiaolongbao</td>\n",
        "    <td>43</td>\n",
        "    <td>2</td>\n",
        "    <td>The Springfield Shopper</td>\n",
        "    <td>8</td>\n",
        "    <td>62</td>\n",
        "  </tr>\n",
        "  <tr>\n",
        "    <td>5</td>\n",
        "    <td>Milk of the Poppy</td>\n",
        "    <td>11</td>\n",
        "    <td>2</td>\n",
        "    <td>Xiaolongbao</td>\n",
        "    <td>43</td>\n",
        "    <td>3</td>\n",
        "    <td>Daily Bugle</td>\n",
        "    <td>9</td>\n",
        "    <td>63</td>\n",
        "  </tr>\n",
        "  <tr class=\"odd\">\n",
        "    <td>5</td>\n",
        "    <td>Milk of the Poppy</td>\n",
        "    <td>11</td>\n",
        "    <td>3</td>\n",
        "    <td>Krabby Patties</td>\n",
        "    <td>39</td>\n",
        "    <td>1</td>\n",
        "    <td>The Washington Herald</td>\n",
        "    <td>12</td>\n",
        "    <td>62</td>\n",
        "  </tr>\n",
        "  <tr>\n",
        "    <td>5</td>\n",
        "    <td>Milk of the Poppy</td>\n",
        "    <td>11</td>\n",
        "    <td>3</td>\n",
        "    <td>Krabby Patties</td>\n",
        "    <td>39</td>\n",
        "    <td>2</td>\n",
        "    <td>The Springfield Shopper</td>\n",
        "    <td>8</td>\n",
        "    <td>58</td>\n",
        "  </tr>\n",
        "  <tr class=\"odd\">\n",
        "    <td>5</td>\n",
        "    <td>Milk of the Poppy</td>\n",
        "    <td>11</td>\n",
        "    <td>3</td>\n",
        "    <td>Krabby Patties</td>\n",
        "    <td>39</td>\n",
        "    <td>3</td>\n",
        "    <td>Daily Bugle</td>\n",
        "    <td>9</td>\n",
        "    <td>59</td>\n",
        "  </tr>\n",
        "  <tr>\n",
        "    <td>5</td>\n",
        "    <td>Milk of the Poppy</td>\n",
        "    <td>11</td>\n",
        "    <td>4</td>\n",
        "    <td>Butterscotch Cinnamon Pie</td>\n",
        "    <td>40</td>\n",
        "    <td>1</td>\n",
        "    <td>The Washington Herald</td>\n",
        "    <td>12</td>\n",
        "    <td>63</td>\n",
        "  </tr>\n",
        "  <tr class=\"odd\">\n",
        "    <td>5</td>\n",
        "    <td>Milk of the Poppy</td>\n",
        "    <td>11</td>\n",
        "    <td>4</td>\n",
        "    <td>Butterscotch Cinnamon Pie</td>\n",
        "    <td>40</td>\n",
        "    <td>2</td>\n",
        "    <td>The Springfield Shopper</td>\n",
        "    <td>8</td>\n",
        "    <td>59</td>\n",
        "  </tr>\n",
        "  <tr>\n",
        "    <td>5</td>\n",
        "    <td>Milk of the Poppy</td>\n",
        "    <td>11</td>\n",
        "    <td>4</td>\n",
        "    <td>Butterscotch Cinnamon Pie</td>\n",
        "    <td>40</td>\n",
        "    <td>3</td>\n",
        "    <td>Daily Bugle</td>\n",
        "    <td>9</td>\n",
        "    <td>60</td>\n",
        "  </tr>\n",
        "  <tr class=\"odd\">\n",
        "    <td>5</td>\n",
        "    <td>Milk of the Poppy</td>\n",
        "    <td>11</td>\n",
        "    <td>5</td>\n",
        "    <td>Lava Soup</td>\n",
        "    <td>34</td>\n",
        "    <td>1</td>\n",
        "    <td>The Washington Herald</td>\n",
        "    <td>12</td>\n",
        "    <td>57</td>\n",
        "  </tr>\n",
        "  <tr>\n",
        "    <td>5</td>\n",
        "    <td>Milk of the Poppy</td>\n",
        "    <td>11</td>\n",
        "    <td>5</td>\n",
        "    <td>Lava Soup</td>\n",
        "    <td>34</td>\n",
        "    <td>2</td>\n",
        "    <td>The Springfield Shopper</td>\n",
        "    <td>8</td>\n",
        "    <td>53</td>\n",
        "  </tr>\n",
        "  <tr class=\"odd\">\n",
        "    <td>5</td>\n",
        "    <td>Milk of the Poppy</td>\n",
        "    <td>11</td>\n",
        "    <td>5</td>\n",
        "    <td>Lava Soup</td>\n",
        "    <td>34</td>\n",
        "    <td>3</td>\n",
        "    <td>Daily Bugle</td>\n",
        "    <td>9</td>\n",
        "    <td>54</td>\n",
        "  </tr>\n",
        "  <tr>\n",
        "    <td>5</td>\n",
        "    <td>Milk of the Poppy</td>\n",
        "    <td>11</td>\n",
        "    <td>6</td>\n",
        "    <td>Lembas</td>\n",
        "    <td>43</td>\n",
        "    <td>1</td>\n",
        "    <td>The Washington Herald</td>\n",
        "    <td>12</td>\n",
        "    <td>66</td>\n",
        "  </tr>\n",
        "  <tr class=\"odd\">\n",
        "    <td>5</td>\n",
        "    <td>Milk of the Poppy</td>\n",
        "    <td>11</td>\n",
        "    <td>6</td>\n",
        "    <td>Lembas</td>\n",
        "    <td>43</td>\n",
        "    <td>2</td>\n",
        "    <td>The Springfield Shopper</td>\n",
        "    <td>8</td>\n",
        "    <td>62</td>\n",
        "  </tr>\n",
        "  <tr>\n",
        "    <td>5</td>\n",
        "    <td>Milk of the Poppy</td>\n",
        "    <td>11</td>\n",
        "    <td>6</td>\n",
        "    <td>Lembas</td>\n",
        "    <td>43</td>\n",
        "    <td>3</td>\n",
        "    <td>Daily Bugle</td>\n",
        "    <td>9</td>\n",
        "    <td>63</td>\n",
        "  </tr>\n",
        "</table>\n"
      ]
    },
    {
      "cell_type": "markdown",
      "metadata": {
        "id": "Rw3oUdDsL-Fr"
      },
      "source": [
        "<p style=\"text-align: right; direction: rtl; float: right; clear: both;\">\n",
        "    חדי העין שמו לב שהוספנו לתוצאות עמודה נוספת בשם <var>total_cost</var> – עלות הארוחה לבעלי המסעדה.<br>\n",
        "    זו השאילתה שבה השתמשנו כדי להשיג את העלות הזו:\n",
        "</p>"
      ]
    },
    {
      "cell_type": "markdown",
      "metadata": {
        "id": "4BzHwF68L-Fr"
      },
      "source": [
        "```sql\n",
        "SELECT *,\n",
        "       drinks.cost + foods.cost + newspapers.cost AS total_cost\n",
        "FROM drinks\n",
        "    CROSS JOIN foods\n",
        "    CROSS JOIN newspapers;\n",
        "```"
      ]
    },
    {
      "cell_type": "markdown",
      "metadata": {
        "id": "xY04cLmJL-Fr"
      },
      "source": [
        "<p style=\"text-align: right; direction: rtl; float: right; clear: both;\">\n",
        "    שימו לב לצורת ההתייחסות לעמודות בעזרת הנקודה.<br>\n",
        "    מסד הנתונים לא יכול לדעת לאיזה עמודת <var>cost</var> אנחנו מתייחסים בכל פעם.<br>\n",
        "    לכן ציינו במפורש לפני כל שם עמודה את הטבלה ממנה היא מגיעה, בצורה <code>table_name.column_name</code>.\n",
        "</p>"
      ]
    },
    {
      "cell_type": "markdown",
      "metadata": {
        "id": "CwULs7SLL-Fr"
      },
      "source": [
        "<p style=\"text-align: right; direction: rtl; float: right; clear: both;\">\n",
        "    נראה, אם כך, שיש לא מעט מנות שהרווח עליהן הוא פחות מ־40 שקלים.<br>\n",
        "    נוכל לראות את כמות השילובים ההפסדיים בעזרת השאילתה הבאה:\n",
        "</p>"
      ]
    },
    {
      "cell_type": "markdown",
      "metadata": {
        "id": "88IuvIDvL-Fs"
      },
      "source": [
        "```sql\n",
        "SELECT COUNT(*)\n",
        "FROM drinks\n",
        "    CROSS JOIN foods\n",
        "    CROSS JOIN newspapers\n",
        "WHERE drinks.cost + foods.cost + newspapers.cost + 40 > 100;\n",
        "```"
      ]
    },
    {
      "cell_type": "markdown",
      "metadata": {
        "id": "tu8lWFLTL-Fs"
      },
      "source": [
        "<div class=\"align-center\" style=\"display: flex; text-align: right; direction: rtl; clear: both;\">\n",
        "    <div style=\"display: flex; width: 10%; float: right; clear: both;\">\n",
        "        <img src=\"https://github.com/PythonFreeCourse/Notebooks/blob/main/content/week13/images/exercise.svg?raw=1\" style=\"height: 50px !important;\" alt=\"תרגול\">\n",
        "    </div>\n",
        "    <div style=\"width: 70%\">\n",
        "        <p style=\"text-align: right; direction: rtl; float: right; clear: both;\">\n",
        "            מה הרווח הנמוך ביותר שבעל המסעדה יעשה על ארוחה עסקית, אם הלקוח יבחר את המוצרים היקרים ביותר?<br>\n",
        "            כתבו שאילתה אחת שעונה על השאלה.\n",
        "        </p>\n",
        "    </div>\n",
        "</div>"
      ]
    },
    {
      "cell_type": "markdown",
      "source": [
        "SELECT 100 - (drinks.cost + foods.cost + newspapers.cost)\n",
        "FROM drinks\n",
        "    CROSS JOIN foods\n",
        "    CROSS JOIN newspapers\n",
        "WHERE drinks.cost + foods.cost + newspapers.cost + 40 > 100\n",
        "ORDER BY 100 - ( drinks.cost + foods.cost + newspapers.cost)"
      ],
      "metadata": {
        "id": "1KTw5F3ZQ6qc"
      }
    },
    {
      "cell_type": "markdown",
      "source": [
        "31"
      ],
      "metadata": {
        "id": "2jWA6w0LQ7qC"
      }
    },
    {
      "cell_type": "markdown",
      "metadata": {
        "id": "WtQd39MoL-Fs"
      },
      "source": [
        "<p style=\"text-align: right; direction: rtl; float: right; clear: both;\">\n",
        "    אחרי שהשתעשענו, נספר בלחישה של־<code>CROSS JOIN</code> יש מעט מאוד שימושים בעולם האמיתי.<br>\n",
        "    השימוש העיקרי בו, עבורנו לפחות, הוא ללמד אתכם על <code>INNER JOIN</code> בקלות.\n",
        "</p>"
      ]
    },
    {
      "cell_type": "markdown",
      "metadata": {
        "id": "652ixgXLL-Fs"
      },
      "source": [
        "## <span style=\"text-align: right; direction: rtl; float: right;\">INNER JOIN</span>"
      ]
    },
    {
      "cell_type": "markdown",
      "metadata": {
        "id": "pjxSDHkBL-Fs"
      },
      "source": [
        "### <span style=\"text-align: right; direction: rtl; float: right;\">המטרה</span>"
      ]
    },
    {
      "cell_type": "markdown",
      "metadata": {
        "id": "vyCerAelL-Fs"
      },
      "source": [
        "<p style=\"text-align: right; direction: rtl; float: right; clear: both;\">\n",
        "    השימוש ב־<code>CROSS JOIN</code> יצר כמות עצומה של תוצאות.<br>\n",
        "    עבור 4 טבלאות שבכל אחת מהן יש 100 רשומות, <code>CROSS JOIN</code> יחזיר 100,000,000 רשומות.\n",
        "</p>"
      ]
    },
    {
      "cell_type": "markdown",
      "metadata": {
        "id": "u_2y-250L-Fs"
      },
      "source": [
        "<p style=\"text-align: right; direction: rtl; float: right; clear: both;\">\n",
        "    רוב הפעמים, אנחנו לא צריכים את <em>כל</em> השילובים בין עמודות – אלא רק שילובים שיועילו לנו.<br>\n",
        "    אם נביט שוב בטבלאות הדוגמה שלנו, נגלה עמודה שמשותפת לשתי הטבלאות:\n",
        "</p>"
      ]
    },
    {
      "cell_type": "markdown",
      "metadata": {
        "id": "JWNnkmA4L-Fs"
      },
      "source": [
        "<figure>\n",
        "    <img src=\"https://github.com/PythonFreeCourse/Notebooks/blob/main/content/week13/images/inner_join_intro.svg?v=2&raw=1\" style=\"margin-right: auto; margin-left: auto; text-align: center;\" alt=\"בציור מוצגת בצד שמאל טבלת צורות שרקעה כחול, ובצד ימין טבלת בניינים שרקעה ורדרד. לטבלאות 3 עמודות כל אחת. לטבלת צורות 4 ישויות, ולטבלת בניינים 3 ישויות. העמודה 'שם' בטבלה 'צורות' והעמודה 'צורה' בטבלה 'בניינים' מוקפות במסגרת מקווקוות.\"/>\n",
        "    <figcaption style=\"margin-top: 2rem; text-align: center; direction: rtl;\">\n",
        "        טבלאות הדוגמה – <var>צורות</var> ו<var>בניינים</var>. בשתיהן יש עמודה שמציינת את הצורה באופן מילולי.\n",
        "    </figcaption>\n",
        "</figure>"
      ]
    },
    {
      "cell_type": "markdown",
      "metadata": {
        "id": "KN4vj1I-L-Ft"
      },
      "source": [
        "<p style=\"text-align: right; direction: rtl; float: right; clear: both;\">\n",
        "    נרצה ליצור טבלה חדשה – צירוף של הטבלה <var>צורות</var> עם הטבלה <var>בניינים</var>.<br>\n",
        "    נתחיל בלבצע מכפלה קרטזית בין הטבלאות,<br>\n",
        "    ואז נסיר את כל השורות שבהן העמודה <var>שם</var> שבטבלת <var>צורות</var> והעמודה <var>צורה</var> שבטבלת <var>בניינים</var> לא תואמות.\n",
        "</p>"
      ]
    },
    {
      "cell_type": "markdown",
      "metadata": {
        "id": "QNqJtUIAL-Ft"
      },
      "source": [
        "<p style=\"text-align: right; direction: rtl; float: right; clear: both;\">\n",
        "    כלומר, מתוצאות המכפלה הקרטזית נבחר רק את השורות שבהן הצורה בשתי הטבלאות זהה.<br>\n",
        "    נראה תוצאה לדוגמה:\n",
        "</p>"
      ]
    },
    {
      "cell_type": "markdown",
      "metadata": {
        "id": "IGSDZQqqL-Ft"
      },
      "source": [
        "<figure>\n",
        "    <img src=\"https://github.com/PythonFreeCourse/Notebooks/blob/main/content/week13/images/inner_join.svg?v=2&raw=1\" style=\"margin-right: auto; margin-left: auto; text-align: center;\" alt=\"בציור מוצגת בצד שמאל טבלת צורות שרקעה כחול, ובצד ימין טבלת בניינים שרקעה ורדרד. לטבלאות 3 עמודות כל אחת. לטבלת צורות 4 ישויות, ולטבלת בניינים 3 ישויות. מהטבלה השמאלית יוצאים אל הטבלה הימנית שני חצים: ירוק, מן השורה 'משולש' אל השורה 'עזריאלי 1' בטבלת בניינים, שצורתו היא משולשת, וסגול, מן השורה 'ריבוע' אל השורה 'עזריאלי 2' בטבלת בניינים, שצורתו היא ריבוע. בטבלה תחתונה מוצגות שתי שורות שנוצרו מצירוף העמודות של שתי הטבלאות. העמודות של הטבלה הימנית מופיעות בצד ימין בוורוד, ואילו אלו של הטבלה השמאלית מופיעות בצד שמאל בכחול. השורה שנוצרה מהצירוף של החץ הסגול מוקפת בסגול, והשורה שנוצרה מהצירוף שבעקבות החץ הירוק מוקפת בירוק.\"/>\n",
        "    <figcaption style=\"margin-top: 2rem; text-align: center; direction: rtl;\">\n",
        "        דוגמה לצירוף טבלאות במקומות שבהן יש ערך זהה בעמודות הנבחרות.\n",
        "    </figcaption>\n",
        "</figure>"
      ]
    },
    {
      "cell_type": "markdown",
      "metadata": {
        "id": "qEmlxQkfL-Ft"
      },
      "source": [
        "<p style=\"text-align: right; direction: rtl; float: right; clear: both;\">\n",
        "    בתוצאות של הטבלה החדשה שנוצרה הושמטו שורות רבות:<br>\n",
        "    תחילה, הושמטו כל השורות מטבלת <var>צורות</var> שאין להן שורות עם צורה תואמת בטבלת <var>בניינים</var>.<br>\n",
        "    באותו אופן, הושמטו גם השורות מטבלת <var>בניינים</var> עבורן אין צורה עם שם תואם בטבלת <var>צורות</var>.\n",
        "</p>"
      ]
    },
    {
      "cell_type": "markdown",
      "metadata": {
        "id": "sBE_GB_RL-Ft"
      },
      "source": [
        "<p style=\"text-align: right; direction: rtl; float: right; clear: both;\">\n",
        "    פרט חשוב במיוחד הוא שעבור כל שורה יכולה להיות יותר מהתאמה אחת.<br>\n",
        "    לדוגמה, אם נוסיף לטבלת \"<var>בניינים</var>\" עוד בניין שצורתו ריבוע,<br>\n",
        "    התוצאות יכללו שני בניינים שצורתם \"ריבוע\" בטבלת התוצאות – <em>גם</em> את הבניין שהוספנו, ו<em>גם</em> את הבניין שהיה שם:\n",
        "</p>"
      ]
    },
    {
      "cell_type": "markdown",
      "metadata": {
        "id": "5fhyVrciL-Ft"
      },
      "source": [
        "<figure>\n",
        "    <img src=\"https://github.com/PythonFreeCourse/Notebooks/blob/main/content/week13/images/inner_join2.svg?v=1&raw=1\" style=\"margin-right: auto; margin-left: auto; text-align: center;\" alt=\"בציור מוצגת בצד שמאל טבלת צורות שרקעה כחול, ובצד ימין טבלת בניינים שרקעה ורדרד. לטבלאות 3 עמודות ו־4 ישויות כל אחת. מהטבלה השמאלית יוצאים אל הטבלה הימנית שלושה חצים: ירוק, מן השורה 'משולש' אל השורה 'עזריאלי 1' בטבלת בניינים, שצורתו היא משולשת, ו־2 סגולים, מן השורה 'ריבוע' אל השורות 'עזריאלי 2' ו'הבית של שרלוק' בטבלת בניינים, שצורתם היא ריבוע. בטבלה תחתונה מוצגות שלוש שורות שנוצרו מצירוף העמודות של שתי הטבלאות. העמודות של הטבלה הימנית מופיעות בצד ימין בוורוד, ואילו אלו של הטבלה השמאלית מופיעות בצד שמאל בכחול. השורות שנוצרה מהצירוף של החץ הסגול מוקפות בסגול, והשורה שנוצרה מהצירוף שבעקבות החץ הירוק מוקפת בירוק.\"/>\n",
        "    <figcaption style=\"margin-top: 2rem; text-align: center; direction: rtl;\">\n",
        "        ייתכן מצב בו שורה מאחת הטבלאות תתאים ליותר משורה אחת בטבלה השנייה.\n",
        "    </figcaption>\n",
        "</figure>"
      ]
    },
    {
      "cell_type": "markdown",
      "metadata": {
        "id": "53ETSg0dL-Ft"
      },
      "source": [
        "<p style=\"text-align: right; direction: rtl; float: right; clear: both;\">\n",
        "    אם היינו מוסיפים לטבלת <var>צורות</var>, סתם בשביל הניסוי, שורה נוספת ששמה \"ריבוע\" עם תמונה של קרוקודיל,<br>\n",
        "    היינו מקבלים שתי שורות נוספות עם תמונת קרוקודיל בטבלת התוצאות – אחת עבור עזריאלי 2 ואחת עבור הבית של שרלוק.\n",
        "</p>"
      ]
    },
    {
      "cell_type": "markdown",
      "metadata": {
        "id": "VRHeym5-L-Fu"
      },
      "source": [
        "<p style=\"text-align: right; direction: rtl; float: right; clear: both;\">\n",
        "    נסכם:<br>\n",
        "    בסוג החדש הזה של צירוף בין טבלאות, לקחנו את המכפלה הקרטזית בין שתי הטבלאות.<br>\n",
        "    לפני שהחזרנו את התוצאות, הסתכלנו על עמודה מסוימת מכל אחת מהטבלאות, והגדרנו את הקשר שאנחנו מחפשים שיהיה ביניהן.<br>\n",
        "    רשומות שלא קיימו את הקשר שהגדרנו לא הופיעו כתוצאה.\n",
        "</p>"
      ]
    },
    {
      "cell_type": "markdown",
      "metadata": {
        "id": "YOGivaK6L-Fu"
      },
      "source": [
        "### <span style=\"text-align: right; direction: rtl; float: right;\">התחביר</span>"
      ]
    },
    {
      "cell_type": "markdown",
      "metadata": {
        "id": "l9CAbzsiL-Fu"
      },
      "source": [
        "<p style=\"text-align: right; direction: rtl; float: right; clear: both;\">\n",
        "    הצורה הזו לחיבור טבלאות, בה אנחנו מסננים את כל השורות שלא מתאימות לתנאי שלנו, נקראת <code>INNER JOIN</code>.<br>\n",
        "    היא ככל הנראה צורת ה־<code>JOIN</code> השימושית ביותר שנלמד.<br>\n",
        "    מבחינה תחבירית היא נראית כך:\n",
        "</p>"
      ]
    },
    {
      "cell_type": "markdown",
      "metadata": {
        "id": "bbG4RvbTL-Fv"
      },
      "source": [
        "```sql\n",
        "SELECT *\n",
        "FROM צורות\n",
        "    INNER JOIN בניינים\n",
        "    ON בניינים.צורה = צורות.שם;\n",
        "```"
      ]
    },
    {
      "cell_type": "markdown",
      "metadata": {
        "id": "aaCN7XeQL-Fv"
      },
      "source": [
        "<p style=\"text-align: right; direction: rtl; float: right; clear: both;\">\n",
        "    בניגוד ל־<code>CROSS JOIN</code>, בה פשוט ביקשנו להצליב בין שתי טבלאות,<br>\n",
        "    כאן אנחנו מצרפים את מילת המפתח <code>ON</code>, שעובדת פחות או יותר כמו פסוקית <code>WHERE</code>.\n",
        "</p>"
      ]
    },
    {
      "cell_type": "markdown",
      "metadata": {
        "id": "ATdhOf3kL-Fv"
      },
      "source": [
        "<p style=\"text-align: right; direction: rtl; float: right; clear: both;\">\n",
        "    אפשר לדמיין את מה שקורה מאחורי הקלעים בצורה הבאה:\n",
        "</p>\n",
        "\n",
        "<ol style=\"text-align: right; direction: rtl; float: right; clear: both;\">\n",
        "    <li>בצע מכפלה קרטזית (<code>CROSS JOIN</code>) בין שתי הטבלאות.</li>\n",
        "    <li>מהתוצאות, אסוף רק את השורות בהן הערך בעמודה <var>שם</var> שבטבלת <var>צורות</var> זהה לערך בעמודה <var>צורה</var> שבטבלת <var>בניינים</var>.</li>\n",
        "</ol>"
      ]
    },
    {
      "cell_type": "markdown",
      "metadata": {
        "id": "Aia0HkxpL-Fw"
      },
      "source": [
        "<p style=\"text-align: right; direction: rtl; float: right; clear: both;\">\n",
        "    הביטו שוב באיור שלמעלה וודאו שאתם מבינים איך <code>INNER JOIN</code> עובד.\n",
        "</p>"
      ]
    },
    {
      "cell_type": "markdown",
      "metadata": {
        "id": "VxO65pf1L-Fw"
      },
      "source": [
        "### <span style=\"text-align: right; direction: rtl; float: right;\">דוגמאות</span>"
      ]
    },
    {
      "cell_type": "markdown",
      "metadata": {
        "id": "qEx6mWP0L-Fx"
      },
      "source": [
        "<p style=\"text-align: right; direction: rtl; float: right; clear: both;\">\n",
        "    כדי להבין את הפוטנציאל המשוגע שגלום ב־<code>INNER JOIN</code>,<br>\n",
        "    ננסה להבין אילו בעלי תפקידים השתתפו בסרט \"The Lego Movie\".<br>\n",
        "    לצורך כך נצרף את טבלת <var>principals</var> לטבלת <var>movies</var>:\n",
        "</p>"
      ]
    },
    {
      "cell_type": "markdown",
      "metadata": {
        "id": "EaOrz_FhL-Fx"
      },
      "source": [
        "```sql\n",
        "SELECT *\n",
        "FROM movies\n",
        "    INNER JOIN principals\n",
        "    ON movies.id = principals.movie_id\n",
        "WHERE movies.original_title = 'The Lego Movie';\n",
        "```"
      ]
    },
    {
      "cell_type": "markdown",
      "metadata": {
        "id": "jb5x4DFZL-Fx"
      },
      "source": [
        "<p style=\"text-align: right; direction: rtl; float: right; clear: both;\">\n",
        "    מה עשינו כאן?<br>\n",
        "    ביקשנו לצרף ליד כל שורה בטבלת <var>movies</var> שורה מטבלת <var>principals</var>,<br>\n",
        "    בכל מקום שבו ה־<var>movie_id</var> שלהם תואם.<br>\n",
        "    מתוך התוצאות, שלפנו רק את השורות שבהן שם הסרט הוא \"The Lego Movie\".\n",
        "</p>"
      ]
    },
    {
      "cell_type": "markdown",
      "metadata": {
        "id": "NG2i0iUPL-Fx"
      },
      "source": [
        "<p style=\"text-align: right; direction: rtl; float: right; clear: both;\">\n",
        "    לפניכם תוצאות השאילתה:\n",
        "</p>"
      ]
    },
    {
      "cell_type": "markdown",
      "metadata": {
        "id": "K9mJQWXdL-Fy"
      },
      "source": [
        "<table>\n",
        "    <tr>\n",
        "        <th>id</th>\n",
        "        <th>title</th>\n",
        "        <th>original_title</th>\n",
        "        <th>year</th>\n",
        "        <th>avg_vote</th>\n",
        "        <th>votes</th>\n",
        "        <th>duration</th>\n",
        "        <th>budget</th>\n",
        "        <th>gross_income</th>\n",
        "        <th>movie_id</th>\n",
        "        <th>ordering</th>\n",
        "        <th>name_id</th>\n",
        "        <th>job_id</th>\n",
        "        <th>characters</th>\n",
        "    </tr>\n",
        "    <tr class=\"odd\">\n",
        "        <td>tt1490017</td>\n",
        "        <td>The Lego Movie</td>\n",
        "        <td>The Lego Movie</td>\n",
        "        <td>2,014</td>\n",
        "        <td>7.7</td>\n",
        "        <td>319,327</td>\n",
        "        <td>100</td>\n",
        "        <td>\\$ 60000000</td>\n",
        "        <td>\\$ 468060692</td>\n",
        "        <td>tt1490017</td>\n",
        "        <td>1</td>\n",
        "        <td>nm0695435</td>\n",
        "        <td>2</td>\n",
        "        <td>Emmet Brickowski</td>\n",
        "    </tr>\n",
        "    <tr><td>tt1490017</td><td>The Lego Movie</td><td>The Lego Movie</td><td>2,014</td><td>7.7</td><td>319,327</td><td>100</td><td>\\$ 60000000</td><td>\\$ 468060692</td><td>tt1490017</td><td>10</td><td>nm9204084</td><td>7</td><td>&nbsp;</td></tr>\n",
        "    <tr class=\"odd\"><td>tt1490017</td><td>The Lego Movie</td><td>The Lego Movie</td><td>2,014</td><td>7.7</td><td>319,327</td><td>100</td><td>\\$ 60000000</td><td>\\$ 468060692</td><td>tt1490017</td><td>2</td><td>nm0002071</td><td>2</td><td>Lord Business,President Business,The Man Upstairs</td></tr>\n",
        "    <tr><td>tt1490017</td><td>The Lego Movie</td><td>The Lego Movie</td><td>2,014</td><td>7.7</td><td>319,327</td><td>100</td><td>\\$ 60000000</td><td>\\$ 468060692</td><td>tt1490017</td><td>3</td><td>nm0006969</td><td>1</td><td>Wyldstyle,Lucy</td></tr>\n",
        "    <tr class=\"odd\"><td>tt1490017</td><td>The Lego Movie</td><td>The Lego Movie</td><td>2,014</td><td>7.7</td><td>319,327</td><td>100</td><td>\\$ 60000000</td><td>\\$ 468060692</td><td>tt1490017</td><td>4</td><td>nm0004715</td><td>2</td><td>Batman,Bruce Wayne</td></tr>\n",
        "    <tr><td>tt1490017</td><td>The Lego Movie</td><td>The Lego Movie</td><td>2,014</td><td>7.7</td><td>319,327</td><td>100</td><td>\\$ 60000000</td><td>\\$ 468060692</td><td>tt1490017</td><td>5</td><td>nm0588087</td><td>3</td><td>&nbsp;</td></tr>\n",
        "    <tr class=\"odd\"><td>tt1490017</td><td>The Lego Movie</td><td>The Lego Movie</td><td>2,014</td><td>7.7</td><td>319,327</td><td>100</td><td>\\$ 60000000</td><td>\\$ 468060692</td><td>tt1490017</td><td>6</td><td>nm0520488</td><td>3</td><td>&nbsp;</td></tr>\n",
        "    <tr><td>tt1490017</td><td>The Lego Movie</td><td>The Lego Movie</td><td>2,014</td><td>7.7</td><td>319,327</td><td>100</td><td>\\$ 60000000</td><td>\\$ 468060692</td><td>tt1490017</td><td>7</td><td>nm1087952</td><td>7</td><td>&nbsp;</td></tr>\n",
        "    <tr class=\"odd\"><td>tt1490017</td><td>The Lego Movie</td><td>The Lego Movie</td><td>2,014</td><td>7.7</td><td>319,327</td><td>100</td><td>\\$ 60000000</td><td>\\$ 468060692</td><td>tt1490017</td><td>8</td><td>nm1156984</td><td>7</td><td>&nbsp;</td></tr>\n",
        "    <tr><td>tt1490017</td><td>The Lego Movie</td><td>The Lego Movie</td><td>2,014</td><td>7.7</td><td>319,327</td><td>100</td><td>\\$ 60000000</td><td>\\$ 468060692</td><td>tt1490017</td><td>9</td><td>nm9204083</td><td>7</td><td>&nbsp;</td></tr>\n",
        "</table>"
      ]
    },
    {
      "cell_type": "markdown",
      "metadata": {
        "id": "AfHmXM2EL-Fz"
      },
      "source": [
        "<p style=\"text-align: right; direction: rtl; float: right; clear: both;\">\n",
        "    פסוקית ה־<code>JOIN</code> תתבצע תמיד ישירות אחרי פסוקית ה־<code>FROM</code>,<br>\n",
        "    כך שמדובר בשאילתה רגילה לכל דבר, רק שהרחבנו קצת את הטבלה שעליה אנחנו שולפים.<br>\n",
        "    עכשיו נוכל לספור כמה בעלי תפקידים היו בסרט באמצעות <code>COUNT</code>, כרגיל:\n",
        "</p>"
      ]
    },
    {
      "cell_type": "markdown",
      "metadata": {
        "id": "IEI5XAylL-Fz"
      },
      "source": [
        "```sql\n",
        "SELECT COUNT(*) AS lego_movie_principals\n",
        "FROM movies\n",
        "    INNER JOIN principals\n",
        "    ON movies.id = principals.movie_id\n",
        "WHERE movies.original_title = 'The Lego Movie';\n",
        "```"
      ]
    },
    {
      "cell_type": "markdown",
      "metadata": {
        "id": "0xNOBD0lL-Fz"
      },
      "source": [
        "### <span style=\"text-align: right; direction: rtl; float: right;\">תעלול נחמד</span>"
      ]
    },
    {
      "cell_type": "markdown",
      "metadata": {
        "id": "Mcla2mh2L-Fz"
      },
      "source": [
        "<p style=\"text-align: right; direction: rtl; float: right; clear: both;\">\n",
        "    זה הזמן ללמוד תעלול נחמד.<br>\n",
        "    בשיעורים הקודמים השתמשנו במילת המפתח <code>AS</code> כדי לערוך את שמן של עמודות.<br>\n",
        "    רבים משתמשים באותה שיטה כדי לקצר את שמות הטבלאות שלהם, ולהפוך את השאילתה לנוחה יותר לעין.<br>\n",
        "    אפשר לנקוט באותה צורה גם פה.\n",
        "</p>"
      ]
    },
    {
      "cell_type": "markdown",
      "metadata": {
        "id": "Mum5Oe4jL-Fz"
      },
      "source": [
        "<p style=\"text-align: right; direction: rtl; float: right; clear: both;\">    \n",
        "    נדגים דרך קצרה אפילו יותר – פשוט נרשום את השם המקוצר אחרי שם הטבלה.<br>\n",
        "    זה נראה כך:\n",
        "</p>"
      ]
    },
    {
      "cell_type": "markdown",
      "metadata": {
        "id": "AUtbxk47L-Fz"
      },
      "source": [
        "```sql\n",
        "SELECT *\n",
        "FROM movies m\n",
        "    INNER JOIN principals p\n",
        "    ON m.id = p.movie_id\n",
        "WHERE m.original_title = 'The Lego Movie';\n",
        "```"
      ]
    },
    {
      "cell_type": "markdown",
      "metadata": {
        "id": "sgqr7XKxL-F0"
      },
      "source": [
        "<p style=\"text-align: right; direction: rtl; float: right; clear: both;\">\n",
        "    יש לא מעט אנשים שמעדיפים להשאיר את מילת המפתח <code>AS</code> בקוד.<br>\n",
        "    לשיטתם, צורת הכתיבה הזו נקייה יותר ומאפשרת להפריד חזותית בין שם הטבלה לבין הקיצור שמייצג אותה.<br>\n",
        "    אנחנו בחרנו להשאיר את מילת המפתח <code>AS</code> בהמשך ההסברים.\n",
        "</p>"
      ]
    },
    {
      "cell_type": "markdown",
      "metadata": {
        "id": "XfeLF4cEL-F0"
      },
      "source": [
        "### <span style=\"text-align: right; direction: rtl; float: right;\">צירוף טבלאות מרובות</span>"
      ]
    },
    {
      "cell_type": "markdown",
      "metadata": {
        "id": "-VHkNzxiL-F0"
      },
      "source": [
        "<p style=\"text-align: right; direction: rtl; float: right; clear: both;\">\n",
        "    ננסה להציג את שמות כל בעלי התפקידים ב־The Lego Movie.\n",
        "</p>"
      ]
    },
    {
      "cell_type": "markdown",
      "metadata": {
        "id": "EvC144GTL-F0"
      },
      "source": [
        "<p style=\"text-align: right; direction: rtl; float: right; clear: both;\">\n",
        "    כשחושבים על זה? אתם מסוגלים לעשות את זה לבד.<br>\n",
        "    (אהמ... רמז... כותרת...)\n",
        "</p>"
      ]
    },
    {
      "cell_type": "markdown",
      "metadata": {
        "id": "gIjLr4JiL-F0"
      },
      "source": [
        "<div class=\"align-center\" style=\"display: flex; text-align: right; direction: rtl; clear: both;\">\n",
        "    <div style=\"display: flex; width: 10%; float: right; clear: both;\">\n",
        "        <img src=\"https://github.com/PythonFreeCourse/Notebooks/blob/main/content/week13/images/exercise.svg?raw=1\" style=\"height: 50px !important;\" alt=\"תרגול\">\n",
        "    </div>\n",
        "    <div style=\"width: 70%\">\n",
        "        <p style=\"text-align: right; direction: rtl; float: right; clear: both;\">\n",
        "            הציגו את שמות כל בעלי התפקידים ב־The Lego Movie.<br>\n",
        "            ליד שמם, הציגו מה היה התפקיד שלהם.\n",
        "        </p>\n",
        "    </div>\n",
        "    <div style=\"display: flex; width: 20%; border-right: 0.1rem solid #A5A5A5; padding: 1rem 2rem;\">\n",
        "        <p style=\"text-align: center; direction: rtl; justify-content: center; align-items: center; clear: both;\">\n",
        "            <strong>חשוב!</strong><br>\n",
        "            פתרו לפני שתמשיכו!\n",
        "        </p>\n",
        "    </div>\n",
        "</div>"
      ]
    },
    {
      "cell_type": "markdown",
      "metadata": {
        "id": "3rIy1NArL-F0"
      },
      "source": [
        "<p style=\"text-align: right; direction: rtl; float: right; clear: both;\">\n",
        "    קודם כול, ננקה את השאילתה ונצמצם שדות לא מועילים.<br>\n",
        "    נציין בפסוקית ה־<code>SELECT</code> רק את העמודות שעשויות להועיל לנו, בינתיים:\n",
        "</p>"
      ]
    },
    {
      "cell_type": "markdown",
      "metadata": {
        "id": "zFu-zIr2L-F0"
      },
      "source": [
        "```sql\n",
        "SELECT m.id, m.original_title, p.name_id, p.job_id, p.\"characters\"\n",
        "FROM movies AS m\n",
        "    INNER JOIN principals AS p\n",
        "    ON m.id = p.movie_id\n",
        "WHERE m.original_title = 'The Lego Movie';\n",
        "```"
      ]
    },
    {
      "cell_type": "markdown",
      "metadata": {
        "id": "ReRn6mjrL-F0"
      },
      "source": [
        "<p style=\"text-align: right; direction: rtl; float: right; clear: both;\">\n",
        "    ונקבל את התוצאה הסתומה הבאה:\n",
        "</p>"
      ]
    },
    {
      "cell_type": "markdown",
      "metadata": {
        "id": "WfoofbpkL-F0"
      },
      "source": [
        "<table>\n",
        "<tr><th>id</th><th>original_title</th><th>name_id</th><th>job_id</th><th>characters</th></tr><tr class=\"odd\"><td>tt1490017</td><td>The Lego Movie</td><td>nm0695435</td><td>2</td><td>Emmet Brickowski</td></tr>\n",
        "<tr><td>tt1490017</td><td>The Lego Movie</td><td>nm9204084</td><td>7</td><td>&nbsp;</td></tr>\n",
        "<tr class=\"odd\"><td>tt1490017</td><td>The Lego Movie</td><td>nm0002071</td><td>2</td><td>Lord Business,President Business,The Man Upstairs</td></tr>\n",
        "<tr><td>tt1490017</td><td>The Lego Movie</td><td>nm0006969</td><td>1</td><td>Wyldstyle,Lucy</td></tr>\n",
        "<tr class=\"odd\"><td>tt1490017</td><td>The Lego Movie</td><td>nm0004715</td><td>2</td><td>Batman,Bruce Wayne</td></tr>\n",
        "<tr><td>tt1490017</td><td>The Lego Movie</td><td>nm0588087</td><td>3</td><td>&nbsp;</td></tr>\n",
        "<tr class=\"odd\"><td>tt1490017</td><td>The Lego Movie</td><td>nm0520488</td><td>3</td><td>&nbsp;</td></tr>\n",
        "<tr><td>tt1490017</td><td>The Lego Movie</td><td>nm1087952</td><td>7</td><td>&nbsp;</td></tr>\n",
        "<tr class=\"odd\"><td>tt1490017</td><td>The Lego Movie</td><td>nm1156984</td><td>7</td><td>&nbsp;</td></tr>\n",
        "<tr><td>tt1490017</td><td>The Lego Movie</td><td>nm9204083</td><td>7</td><td>&nbsp;</td></tr>\n",
        "</table>"
      ]
    },
    {
      "cell_type": "markdown",
      "metadata": {
        "id": "kijXxjuqL-F0"
      },
      "source": [
        "<p style=\"text-align: right; direction: rtl; float: right; clear: both;\">\n",
        "    בתוצאה אנחנו רואים את כל השחקנים ששיחקו ב־The Lego Movie ואת תפקידיהם.<br>\n",
        "    העניין הוא שהטבלה נורמלה, כך שהשם האמיתי והשם המילולי של העבודה מופיעים בטבלאות אחרות.\n",
        "</p>"
      ]
    },
    {
      "cell_type": "markdown",
      "metadata": {
        "id": "JdQHsoSWL-F0"
      },
      "source": [
        "<p style=\"text-align: right; direction: rtl; float: right; clear: both;\">\n",
        "    בתוצאה הזו נראה שיש לנו את המספרים הסידוריים של שם בעל התפקיד וסוג העבודה שהוא מבצע.<br>\n",
        "    ניגש למלאכה של חילוץ \"הערכים האמיתיים\" של כל אחד מהם.\n",
        "</p>"
      ]
    },
    {
      "cell_type": "markdown",
      "metadata": {
        "id": "RE8ub7WjL-F0"
      },
      "source": [
        "<p style=\"text-align: right; direction: rtl; float: right; clear: both;\">\n",
        "    ראשית נטפל בעמודה <var>job_id</var>.<br>\n",
        "    לפי ה־ERD, נוכל לראות שהיא מפתח זר למפתח הראשי <var>id</var> בטבלת <var>jobs</var>.<br>\n",
        "    נצרף את הטבלאות אחת לשנייה בעזרת <code>INNER JOIN</code>, ונוסיף ל־<code>SELECT</code> את השדות שצורפו מטבלת <var>jobs</var>.\n",
        "</p>"
      ]
    },
    {
      "cell_type": "markdown",
      "metadata": {
        "id": "6me6l0AeL-F1"
      },
      "source": [
        "```sql\n",
        "SELECT m.id, m.original_title, p.name_id, p.job_id, p.\"characters\", j.id, j.name\n",
        "FROM movies AS m\n",
        "    INNER JOIN principals AS p\n",
        "    ON m.id = p.movie_id\n",
        "    INNER JOIN jobs AS j\n",
        "    ON p.job_id = j.id\n",
        "WHERE m.original_title = 'The Lego Movie';\n",
        "```"
      ]
    },
    {
      "cell_type": "markdown",
      "metadata": {
        "id": "Wrsvnp7FL-F1"
      },
      "source": [
        "<p style=\"text-align: right; direction: rtl; float: right; clear: both;\">\n",
        "    שימו לב שלא חידשנו פה שום דבר הנוגע ל־<code>JOIN</code> – פשוט צירפנו עוד טבלה לחגיגה.<br>\n",
        "    אחרי שהשגנו את <var>job_id</var> מטבלת <var>principals</var>, התבקש ממש שנשתמש בו אל מול טבלת <var>jobs</var>.\n",
        "</p>"
      ]
    },
    {
      "cell_type": "markdown",
      "metadata": {
        "id": "bhqcik0oL-F1"
      },
      "source": [
        "<p style=\"text-align: right; direction: rtl; float: right; clear: both;\">\n",
        "    שימו לב שבפסוקית ה־<var>SELECT</var> ביקשנו להציג את כל השדות של <var>jobs</var>.<br>\n",
        "    ביטוי מקוצר נחמד שישיג תוצאה זהה הוא <code dir=\"ltr\" style=\"direction: ltr;\">j.*</code>, שמסמל את כל העמודות הקיימות בטבלה <code>j</code>.<br>\n",
        "    נדגים:\n",
        "</p>"
      ]
    },
    {
      "cell_type": "markdown",
      "metadata": {
        "id": "lMgjWP5aL-F1"
      },
      "source": [
        "```sql\n",
        "SELECT m.id, m.original_title, p.name_id, p.job_id, p.\"characters\", j.*\n",
        "[...]\n",
        "```"
      ]
    },
    {
      "cell_type": "markdown",
      "metadata": {
        "id": "Nigy_xHoL-F1"
      },
      "source": [
        "<p style=\"text-align: right; direction: rtl; float: right; clear: both;\">\n",
        "    התוצאות שחזרו הן:\n",
        "</p>"
      ]
    },
    {
      "cell_type": "markdown",
      "metadata": {
        "id": "RWNXzOViL-F1"
      },
      "source": [
        "<table><tr><th>id</th><th>original_title</th><th>name_id</th><th>job_id</th><th>characters</th><th>id</th><th>name</th></tr><tr class=\"odd\"><td>tt1490017</td><td>The Lego Movie</td><td>nm0695435</td><td>2</td><td>Emmet Brickowski</td><td>2</td><td>actor</td></tr>\n",
        "<tr><td>tt1490017</td><td>The Lego Movie</td><td>nm0002071</td><td>2</td><td>Lord Business,President Business,The Man Upstairs</td><td>2</td><td>actor</td></tr>\n",
        "<tr class=\"odd\"><td>tt1490017</td><td>The Lego Movie</td><td>nm0006969</td><td>1</td><td>Wyldstyle,Lucy</td><td>1</td><td>actress</td></tr>\n",
        "<tr><td>tt1490017</td><td>The Lego Movie</td><td>nm0004715</td><td>2</td><td>Batman,Bruce Wayne</td><td>2</td><td>actor</td></tr>\n",
        "<tr class=\"odd\"><td>tt1490017</td><td>The Lego Movie</td><td>nm0588087</td><td>3</td><td>&nbsp;</td><td>3</td><td>director</td></tr>\n",
        "<tr><td>tt1490017</td><td>The Lego Movie</td><td>nm0520488</td><td>3</td><td>&nbsp;</td><td>3</td><td>director</td></tr>\n",
        "<tr class=\"odd\"><td>tt1490017</td><td>The Lego Movie</td><td>nm1087952</td><td>7</td><td>&nbsp;</td><td>7</td><td>writer</td></tr>\n",
        "<tr><td>tt1490017</td><td>The Lego Movie</td><td>nm1156984</td><td>7</td><td>&nbsp;</td><td>7</td><td>writer</td></tr>\n",
        "<tr class=\"odd\"><td>tt1490017</td><td>The Lego Movie</td><td>nm9204083</td><td>7</td><td>&nbsp;</td><td>7</td><td>writer</td></tr>\n",
        "<tr><td>tt1490017</td><td>The Lego Movie</td><td>nm9204084</td><td>7</td><td>&nbsp;</td><td>7</td><td>writer</td></tr>\n",
        "</table>"
      ]
    },
    {
      "cell_type": "markdown",
      "metadata": {
        "id": "VPWhWEKIL-F1"
      },
      "source": [
        "<p style=\"text-align: right; direction: rtl; float: right; clear: both;\">\n",
        "    מצוין!<br>\n",
        "    בטבלה שלמעלה אנחנו רואים מה היה תפקידם של אותם בעלי תפקידים מפורסמים שעזרו ביצירה של The Lego Movie.<br>\n",
        "    עכשיו נחשוף שמותיהם של אותם בעלי תפקידים מ־<var>names</var>, באותה צורה שבה עשינו זאת עם <var>jobs</var>.\n",
        "</p>"
      ]
    },
    {
      "cell_type": "markdown",
      "metadata": {
        "id": "bGhtkkVfL-F1"
      },
      "source": [
        "<div class=\"align-center\" style=\"display: flex; text-align: right; direction: rtl; clear: both;\">\n",
        "    <div style=\"display: flex; width: 10%; float: right; clear: both;\">\n",
        "        <img src=\"https://github.com/PythonFreeCourse/Notebooks/blob/main/content/week13/images/exercise.svg?raw=1\" style=\"height: 50px !important;\" alt=\"תרגול\">\n",
        "    </div>\n",
        "    <div style=\"width: 70%\">\n",
        "        <p style=\"text-align: right; direction: rtl; float: right; clear: both;\">\n",
        "            נסו לצרף לשאילתה הנוכחית את שמות בעלי התפקידים שסייעו בהפקת The Lego Movie.\n",
        "        </p>\n",
        "    </div>\n",
        "    <div style=\"display: flex; width: 20%; border-right: 0.1rem solid #A5A5A5; padding: 1rem 2rem;\">\n",
        "        <p style=\"text-align: center; direction: rtl; justify-content: center; align-items: center; clear: both;\">\n",
        "            <strong>חשוב!</strong><br>\n",
        "            פתרו לפני שתמשיכו!\n",
        "        </p>\n",
        "    </div>\n",
        "</div>"
      ]
    },
    {
      "cell_type": "markdown",
      "metadata": {
        "id": "Iu4pnBUfL-F1"
      },
      "source": [
        "<p style=\"text-align: right; direction: rtl; float: right; clear: both;\">\n",
        "    בצירוף של טבלת <var>names</var> אין שום חידוש.<br>\n",
        "    נעשה בדיוק מה שעשינו עם טבלת <var>jobs</var>, רק שהפעם נשתמש בפרטים של טבלת <var>names</var>.<br>\n",
        "    נחבר את הטבלאות לפי העמודות <var>principals.name_id</var> ו־<var>names.id</var>:\n",
        "</p>"
      ]
    },
    {
      "cell_type": "markdown",
      "metadata": {
        "id": "U-SRLfrBL-F1"
      },
      "source": [
        "```sql\n",
        "SELECT m.id, m.original_title, p.name_id, p.job_id, p.\"characters\", j.*, n.*\n",
        "FROM movies AS m\n",
        "    INNER JOIN principals AS p\n",
        "    ON m.id = p.movie_id\n",
        "    INNER JOIN jobs AS j\n",
        "    ON p.job_id = j.id\n",
        "    INNER JOIN names AS n\n",
        "    ON p.name_id = n.id\n",
        "WHERE m.original_title = 'The Lego Movie';\n",
        "```"
      ]
    },
    {
      "cell_type": "markdown",
      "metadata": {
        "id": "df1e2bZVL-F1"
      },
      "source": [
        "<p style=\"text-align: right; direction: rtl; float: right; clear: both;\">\n",
        "    והנה התוצאות:\n",
        "</p>"
      ]
    },
    {
      "cell_type": "markdown",
      "metadata": {
        "id": "jPIkSi0eL-F1"
      },
      "source": [
        "<table><tr><th>id</th><th>original_title</th><th>name_id</th><th>job_id</th><th>characters</th><th>id</th><th>name</th><th>id</th><th>name</th><th>height</th><th>date_of_birth</th><th>date_of_death</th><th>children</th></tr><tr class=\"odd\"><td>tt1490017</td><td>The Lego Movie</td><td>nm0695435</td><td>2</td><td>Emmet Brickowski</td><td>2</td><td>actor</td><td>nm0695435</td><td>Chris Pratt</td><td>188</td><td>1979-06-21 00:00:00.000000</td><td>&nbsp;</td><td>2</td></tr>\n",
        "<tr><td>tt1490017</td><td>The Lego Movie</td><td>nm0002071</td><td>2</td><td>Lord Business,President Business,The Man Upstairs</td><td>2</td><td>actor</td><td>nm0002071</td><td>Will Ferrell</td><td>191</td><td>1967-07-16 00:00:00.000000</td><td>&nbsp;</td><td>3</td></tr>\n",
        "<tr class=\"odd\"><td>tt1490017</td><td>The Lego Movie</td><td>nm0006969</td><td>1</td><td>Wyldstyle,Lucy</td><td>1</td><td>actress</td><td>nm0006969</td><td>Elizabeth Banks</td><td>164</td><td>1974-02-10 00:00:00.000000</td><td>&nbsp;</td><td>2</td></tr>\n",
        "<tr><td>tt1490017</td><td>The Lego Movie</td><td>nm0004715</td><td>2</td><td>Batman,Bruce Wayne</td><td>2</td><td>actor</td><td>nm0004715</td><td>Will Arnett</td><td>189</td><td>1970-05-04 00:00:00.000000</td><td>&nbsp;</td><td>2</td></tr>\n",
        "<tr class=\"odd\"><td>tt1490017</td><td>The Lego Movie</td><td>nm0588087</td><td>3</td><td>&nbsp;</td><td>3</td><td>director</td><td>nm0588087</td><td>Christopher Miller</td><td>180</td><td>1975-09-23 00:00:00.000000</td><td>&nbsp;</td><td>1</td></tr>\n",
        "<tr><td>tt1490017</td><td>The Lego Movie</td><td>nm0520488</td><td>3</td><td>&nbsp;</td><td>3</td><td>director</td><td>nm0520488</td><td>Phil Lord</td><td>177</td><td>1975-07-12 00:00:00.000000</td><td>&nbsp;</td><td>0</td></tr>\n",
        "<tr class=\"odd\"><td>tt1490017</td><td>The Lego Movie</td><td>nm1087952</td><td>7</td><td>&nbsp;</td><td>7</td><td>writer</td><td>nm1087952</td><td>Dan Hageman</td><td>&nbsp;</td><td>&nbsp;</td><td>&nbsp;</td><td>0</td></tr>\n",
        "<tr><td>tt1490017</td><td>The Lego Movie</td><td>nm1156984</td><td>7</td><td>&nbsp;</td><td>7</td><td>writer</td><td>nm1156984</td><td>Kevin Hageman</td><td>&nbsp;</td><td>1974-04-21 00:00:00.000000</td><td>&nbsp;</td><td>0</td></tr>\n",
        "<tr class=\"odd\"><td>tt1490017</td><td>The Lego Movie</td><td>nm9204083</td><td>7</td><td>&nbsp;</td><td>7</td><td>writer</td><td>nm9204083</td><td>Ole Kirk Christiansen</td><td>&nbsp;</td><td>1891-04-01 00:00:00.000000</td><td>1958-03-11 00:00:00.000000</td><td>0</td></tr>\n",
        "<tr><td>tt1490017</td><td>The Lego Movie</td><td>nm9204084</td><td>7</td><td>&nbsp;</td><td>7</td><td>writer</td><td>nm9204084</td><td>Godtfred Kirk Christiansen</td><td>&nbsp;</td><td>1920-07-08 00:00:00.000000</td><td>1995-07-13 00:00:00.000000</td><td>0</td></tr>\n",
        "</table>"
      ]
    },
    {
      "cell_type": "markdown",
      "metadata": {
        "id": "5pq5a9BIL-F2"
      },
      "source": [
        "<p style=\"text-align: right; direction: rtl; float: right; clear: both;\">\n",
        "    ננקה שדות לא נחוצים כדי לקבל בדיוק את מה שרצינו, בלי נתונים שמפריעים בעין:\n",
        "</p>"
      ]
    },
    {
      "cell_type": "markdown",
      "metadata": {
        "id": "yljORKHXL-F2"
      },
      "source": [
        "```sql\n",
        "SELECT m.original_title as movie_name,\n",
        "\t   n.name as principal_name,\n",
        "\t   j.name as job,\n",
        "\t   p.\"characters\"\n",
        "FROM movies AS m\n",
        "    INNER JOIN principals AS p\n",
        "    ON m.id = p.movie_id\n",
        "    INNER JOIN jobs AS j\n",
        "    ON p.job_id = j.id\n",
        "    INNER JOIN names AS n\n",
        "    ON p.name_id = n.id\n",
        "WHERE m.original_title = 'The Lego Movie';\n",
        "```"
      ]
    },
    {
      "cell_type": "markdown",
      "metadata": {
        "id": "STpWmPfoL-F2"
      },
      "source": [
        "<p style=\"text-align: right; direction: rtl; float: right; clear: both;\">\n",
        "    והנה התוצאות במלוא תפארתן:\n",
        "</p>"
      ]
    },
    {
      "cell_type": "markdown",
      "metadata": {
        "id": "_NsNXvDIL-F2"
      },
      "source": [
        "<table>\n",
        "<tr><th>movie_name</th><th>principal_name</th><th>job</th><th>characters</th></tr><tr class=\"odd\"><td>The Lego Movie</td><td>Chris Pratt</td><td>actor</td><td>Emmet Brickowski</td></tr>\n",
        "<tr><td>The Lego Movie</td><td>Will Ferrell</td><td>actor</td><td>Lord Business,President Business,The Man Upstairs</td></tr>\n",
        "<tr class=\"odd\"><td>The Lego Movie</td><td>Elizabeth Banks</td><td>actress</td><td>Wyldstyle,Lucy</td></tr>\n",
        "<tr><td>The Lego Movie</td><td>Will Arnett</td><td>actor</td><td>Batman,Bruce Wayne</td></tr>\n",
        "<tr class=\"odd\"><td>The Lego Movie</td><td>Christopher Miller</td><td>director</td><td>&nbsp;</td></tr>\n",
        "<tr><td>The Lego Movie</td><td>Phil Lord</td><td>director</td><td>&nbsp;</td></tr>\n",
        "<tr class=\"odd\"><td>The Lego Movie</td><td>Dan Hageman</td><td>writer</td><td>&nbsp;</td></tr>\n",
        "<tr><td>The Lego Movie</td><td>Kevin Hageman</td><td>writer</td><td>&nbsp;</td></tr>\n",
        "<tr class=\"odd\"><td>The Lego Movie</td><td>Ole Kirk Christiansen</td><td>writer</td><td>&nbsp;</td></tr>\n",
        "<tr><td>The Lego Movie</td><td>Godtfred Kirk Christiansen</td><td>writer</td><td>&nbsp;</td></tr>\n",
        "</table>"
      ]
    },
    {
      "cell_type": "markdown",
      "metadata": {
        "id": "dkJ2OkLLL-F2"
      },
      "source": [
        "<p style=\"text-align: right; direction: rtl; float: right; clear: both;\">\n",
        "    כיוון ש־<code>INNER JOIN</code> היא צורת <code>JOIN</code> כה שימושית,<br>\n",
        "    ברירת המחדל במסדי נתונים היא שאם כותבים פשוט <code>JOIN</code> הכוונה היא ל־<code>INNER JOIN</code>.<br>\n",
        "    לכן, אפשר להשמיט את המילה <code>INNER</code> מהשאילתה האחרונה, ולקבל שאילתה ששקולה לה:\n",
        "</p>"
      ]
    },
    {
      "cell_type": "markdown",
      "metadata": {
        "id": "RkXgoq7YL-F2"
      },
      "source": [
        "```sql\n",
        "SELECT m.original_title as movie_name,\n",
        "\t   n.name as principal_name,\n",
        "\t   j.name as job,\n",
        "\t   p.\"characters\"\n",
        "FROM movies AS m\n",
        "    JOIN principals AS p\n",
        "    ON m.id = p.movie_id\n",
        "    JOIN jobs AS j\n",
        "    ON p.job_id = j.id\n",
        "    JOIN names AS n\n",
        "    ON p.name_id = n.id\n",
        "WHERE m.original_title = 'The Lego Movie';\n",
        "```"
      ]
    },
    {
      "cell_type": "markdown",
      "metadata": {
        "id": "x-zbPep9L-F2"
      },
      "source": [
        "<p style=\"text-align: right; direction: rtl; float: right; clear: both;\">\n",
        "    בדומה למילת המפתח <code>AS</code>, רבים מחליטים דווקא להשאיר את המילה <code>INNER</code> לשם הַקְּרִיאוּת של השיאלתה.<br>\n",
        "</p>"
      ]
    },
    {
      "cell_type": "markdown",
      "metadata": {
        "id": "lNT5N4X9L-F2"
      },
      "source": [
        "### <span style=\"text-align: right; direction: rtl; float: right; clear: both;\">תרגיל ביניים: זו ציפור? זה אריה? לא, זה בוקיצה</span>"
      ]
    },
    {
      "cell_type": "markdown",
      "metadata": {
        "id": "rx6qhmFCL-F2"
      },
      "source": [
        "<p style=\"text-align: right; direction: rtl; float: right; clear: both;\">\n",
        "    הציגו את 3 המדינות שבהן הופקו הכי הרבה סרטים מאז שנת 2000.<br>\n",
        "    לצד כל מדינה, הציגו כמה סרטים הופקו בה.\n",
        "</p>"
      ]
    },
    {
      "cell_type": "markdown",
      "source": [
        "SELECT countries.name, COUNT(*) as num_movies\n",
        "FROM movies\n",
        "JOIN movie_countries ON movies.id = movie_countries.movie_id\n",
        "JOIN countries ON movie_countries.country_id = countries.id\n",
        "WHERE movies.year >= 2000\n",
        "GROUP BY countries.name\n",
        "ORDER BY num_movies DESC\n",
        "LIMIT 3;"
      ],
      "metadata": {
        "id": "5AS1faA1ZiSj"
      }
    },
    {
      "cell_type": "markdown",
      "source": [
        "\n",
        "USA\t16383\n",
        "India\t4699\n",
        "France\t4546"
      ],
      "metadata": {
        "id": "oI3NpKgDZjK3"
      }
    },
    {
      "cell_type": "markdown",
      "metadata": {
        "id": "Llj0FtSwL-F2"
      },
      "source": [
        "## <span style=\"text-align: right; direction: rtl; float: right;\">OUTER JOIN</span>"
      ]
    },
    {
      "cell_type": "markdown",
      "metadata": {
        "id": "ilE4bf1FL-F2"
      },
      "source": [
        "### <span style=\"text-align: right; direction: rtl; float: right; clear: both;\">הבעיה</span>"
      ]
    },
    {
      "cell_type": "markdown",
      "metadata": {
        "id": "TFvtVJz4L-F2"
      },
      "source": [
        "<p style=\"text-align: right; direction: rtl; float: right; clear: both;\">\n",
        "    כפי שלמדנו בתחילת ההדגמה על <code>INNER JOIN</code>,<br>\n",
        "    בתוצאות מוצגות <em>רק</em> שורות שהתנאי שכתוב ב־<code>ON</code> מתקיים עבורן.\n",
        "</p>"
      ]
    },
    {
      "cell_type": "markdown",
      "metadata": {
        "id": "PmtdumFvL-F2"
      },
      "source": [
        "<p style=\"text-align: right; direction: rtl; float: right; clear: both;\">\n",
        "    כלומר, בשאילתה:\n",
        "</p>"
      ]
    },
    {
      "cell_type": "markdown",
      "metadata": {
        "id": "NF5XZXSoL-F2"
      },
      "source": [
        "```sql\n",
        "SELECT *\n",
        "FROM צורות\n",
        "    INNER JOIN בניינים\n",
        "    ON בניינים.צורה = צורות.שם;\n",
        "```"
      ]
    },
    {
      "cell_type": "markdown",
      "metadata": {
        "id": "f0z5tYFHL-F3"
      },
      "source": [
        "<ol style=\"text-align: right; direction: rtl; float: right; clear: both;\">\n",
        "    <li>נביט בערכים שבטבלת <var>צורות</var> בעמודה <var>שם</var> – נקרא להם \"<dfn>ערכי הטבלה השמאלית</dfn>\".</li>\n",
        "    <li>נביט בערכים שבטבלת <var>בניינים</var> בעמודה <var>צורה</var> – נקרא להם \"<dfn>ערכי הטבלה הימנית</dfn>\".</li>\n",
        "</ol>"
      ]
    },
    {
      "cell_type": "markdown",
      "metadata": {
        "id": "-U46ap2oL-F3"
      },
      "source": [
        "<p style=\"text-align: right; direction: rtl; float: right; clear: both;\">\n",
        "    התוצאות יכללו <em>רק</em> ישויות שהערך שלהם נמצא <em>גם</em> בערכי הטבלה השמאלית, ו<em>גם</em> בערכי הטבלה הימנית.\n",
        "</p>"
      ]
    },
    {
      "cell_type": "markdown",
      "metadata": {
        "id": "TrTVFG7YL-F3"
      },
      "source": [
        "<p style=\"text-align: right; direction: rtl; float: right; clear: both;\">\n",
        "    שימו לב איך בתמונה הבאה הפנטגון לא נכנס לתוצאות.<br>\n",
        "    הוא נמצא בטבלה הימנית, אך הערך בעמודה שעליה עשינו <code>ON</code> (\"מחומש\") לא נמצא בערכי הטבלה השמאלית.\n",
        "</p>"
      ]
    },
    {
      "cell_type": "markdown",
      "metadata": {
        "id": "MJnPYYWNL-F3"
      },
      "source": [
        "<p style=\"text-align: right; direction: rtl; float: right; clear: both;\">\n",
        "    באותה מידה, מעוין ועיגול, שהם ערכים מהטבלה השמאלית, לא נכנסו לתוצאות.<br>\n",
        "    זה המצב כיוון שאין לישויות הללו ערך תואם בטבלה הימנית.\n",
        "</p>"
      ]
    },
    {
      "cell_type": "markdown",
      "metadata": {
        "id": "49eG5wYZL-F3"
      },
      "source": [
        "<figure>\n",
        "    <img src=\"https://github.com/PythonFreeCourse/Notebooks/blob/main/content/week13/images/inner_join2.svg?v=1&raw=1\" style=\"margin-right: auto; margin-left: auto; text-align: center;\" alt=\"בציור מוצגת בצד שמאל טבלת צורות שרקעה כחול, ובצד ימין טבלת בניינים שרקעה ורדרד. לטבלאות 3 עמודות ו־4 ישויות כל אחת. מהטבלה השמאלית יוצאים אל הטבלה הימנית שלושה חצים: ירוק, מן השורה 'משולש' אל השורה 'עזריאלי 1' בטבלת בניינים, שצורתו היא משולשת, ו־2 סגולים, מן השורה 'ריבוע' אל השורות 'עזריאלי 2' ו'הבית של שרלוק' בטבלת בניינים, שצורתם היא ריבוע. בטבלה תחתונה מוצגות שלוש שורות שנוצרו מצירוף העמודות של שתי הטבלאות. העמודות של הטבלה הימנית מופיעות בצד ימין בוורוד, ואילו אלו של הטבלה השמאלית מופיעות בצד שמאל בכחול. השורות שנוצרה מהצירוף של החץ הסגול מוקפות בסגול, והשורה שנוצרה מהצירוף שבעקבות החץ הירוק מוקפת בירוק.\"/>\n",
        "    <figcaption style=\"margin-top: 2rem; text-align: center; direction: rtl;\">\n",
        "        ב־<code>INNER JOIN</code> אנחנו מוותרים על כל הישויות שלא מקיימות את השוויון שכתוב ב־<code>ON</code>.\n",
        "    </figcaption>\n",
        "</figure>"
      ]
    },
    {
      "cell_type": "markdown",
      "metadata": {
        "id": "kq80-Sh6L-F3"
      },
      "source": [
        "### <span style=\"text-align: right; direction: rtl; float: right; clear: both;\">הצורך</span>"
      ]
    },
    {
      "cell_type": "markdown",
      "metadata": {
        "id": "OMpqfCggL-F3"
      },
      "source": [
        "<p style=\"text-align: right; direction: rtl; float: right; clear: both;\">\n",
        "    לפעמים נוצרים מצבים שבהם אנחנו רוצים לבצע <code>JOIN</code> בין טבלאות,<br>\n",
        "    אבל לא להחסיר מהתוצאות ישות שקיימת בטבלה א אם אין לה ישות תואמת בטבלה ב.\n",
        "</p>"
      ]
    },
    {
      "cell_type": "markdown",
      "metadata": {
        "id": "eIGzgU-BL-F3"
      },
      "source": [
        "<p style=\"text-align: right; direction: rtl; float: right; clear: both;\">\n",
        "    נניח שחשבנו על העניין לעומק, והגענו למסקנה שאנחנו מספיק כשרוניים כדי להחליט לבד כמה צלעות יש במחומש.<br>\n",
        "    כלומר, זה יהיה נחמד מאוד אם המידע מטבלת <var>צורות</var> יוצג לנו,<br>\n",
        "    אבל אם המידע בטבלת <var>צורות</var> חסר – נסתפק במידע מטבלת <var>בניינים</var> ללא המידע בטבלת <var>צורות</var>.<br>\n",
        "    במילים אחרות: גם אם חסר מידע משלים בטבלת <var>צורות</var>, נרצה בכל זאת לראות את העמודות מטבלת <var>בניינים</var>.\n",
        "</p>"
      ]
    },
    {
      "cell_type": "markdown",
      "metadata": {
        "id": "SIYxHe2CL-F3"
      },
      "source": [
        "<p style=\"text-align: right; direction: rtl; float: right; clear: both;\">\n",
        "    במקרה כזה, אנחנו רוצים לעשות <code>JOIN</code> בין טבלת <var>בניינים</var> לבין טבלת <var>צורות</var>,<br>\n",
        "    אבל לקחת את <em>כל הישויות</em> מטבלת <var>בניינים</var>, אפילו אם לבניין מסוים אין ישות תואמת בטבלת <var>צורות</var>.<br>\n",
        "    זה ייראה כך:\n",
        "</p>"
      ]
    },
    {
      "cell_type": "markdown",
      "metadata": {
        "id": "kjvu4BVtL-F3"
      },
      "source": [
        "<figure>\n",
        "    <img src=\"https://github.com/PythonFreeCourse/Notebooks/blob/main/content/week13/images/outer_join.svg?v=2&raw=1\" style=\"margin-right: auto; margin-left: auto; text-align: center;\" alt=\"בציור מוצגת בצד ימין טבלת צורות שרקעה כחול, ובצד שמאל טבלת בניינים שרקעה ורדרד. לטבלאות 3 עמודות ו־4 ישויות כל אחת. מהטבלה השמאלית יוצאים אל הטבלה הימנית שלושה חצים: ירוק, מן השורה 'עזריאלי 1' שצורתו משולש אל השורה 'משולש' בטבלת צורות, ו־2 סגולים, מן השורות 'הבית של שרלוק' ו'עזריאלי 2' שצורתם ריבוע והם נמצאים בטבלת בניינים אל השורה 'ריבוע' בטבלת 'צורות'. בטבלה תחתונה מוצגות שלוש שורות שנוצרו מצירוף העמודות של שתי הטבלאות. העמודות של הטבלה הימנית מופיעות בצד ימין בכחול, ואילו אלו של הטבלה השמאלית מופיעות בצד שמאל באדום. השורות שנוצרה מהצירוף של החץ הסגול מוקפות בסגול, והשורה שנוצרה מהצירוף שבעקבות החץ הירוק מוקפת בירוק. נוסף אליהן, שורה נוספת של הפנטגון המחומש מטבלת בניינים השמאלית מופיעה במסגרת מקווקוות. בשורה זו אין נתונים בצד הכחול של הטבלה, ובמקומם מוצב NULL.\"/>\n",
        "    <figcaption style=\"margin-top: 2rem; text-align: center; direction: rtl;\">\n",
        "        דוגמה לתוצאת שאילתה שלא מוותרת על אף ישות בטבלה השמאלית.\n",
        "    </figcaption>\n",
        "</figure>"
      ]
    },
    {
      "cell_type": "markdown",
      "metadata": {
        "id": "VrfbPJdiL-F3"
      },
      "source": [
        "### <span style=\"text-align: right; direction: rtl; float: right; clear: both;\">הפתרון</span>"
      ]
    },
    {
      "cell_type": "markdown",
      "metadata": {
        "id": "3h3dYWCXL-F3"
      },
      "source": [
        "<p style=\"text-align: right; direction: rtl; float: right; clear: both;\">\n",
        "    סדר הפעולות התיאורטי יראה כך:\n",
        "</p>"
      ]
    },
    {
      "cell_type": "markdown",
      "metadata": {
        "id": "txawHQzuL-F3"
      },
      "source": [
        "<ol style=\"text-align: right; direction: rtl; float: right; clear: both;\">\n",
        "    <li>בצע <code>CROSS JOIN</code> בין הטבלאות.</li>\n",
        "    <li>מתוך התוצאות, השאר רק את השורות שעונות על תנאי ה־<code>ON</code>.</li>\n",
        "    <li>אם בתוצאות, אחרי שסוננו, חסרה שורה מסוימת מהטבלה השמאלית – הכנס אותה בכל זאת.<br>\n",
        "        בעמודות של הטבלה הימנית הזן <code>NULL</code>.</li>\n",
        "</ol>"
      ]
    },
    {
      "cell_type": "markdown",
      "metadata": {
        "id": "YgnyyELzL-F4"
      },
      "source": [
        "<p style=\"text-align: right; direction: rtl; float: right; clear: both;\">\n",
        "    הרעיון של צירוף טבלאות בהן כל הישויות מטבלה אחת נמצאות בהכרח בתוצאות, נקרא <code>OUTER JOIN</code>.<br>\n",
        "    כשאנחנו רוצים שהטבלה השמאלית תהיה זו שממנה ילקחו הישויות בהכרח, נשתמש בפסוקית <code>LEFT OUTER JOIN</code>.\n",
        "</p>"
      ]
    },
    {
      "cell_type": "markdown",
      "metadata": {
        "id": "_SaFRerML-F4"
      },
      "source": [
        "### <span style=\"text-align: right; direction: rtl; float: right; clear: both;\">תחביר</span>"
      ]
    },
    {
      "cell_type": "markdown",
      "metadata": {
        "id": "2yH4lXEvL-F4"
      },
      "source": [
        "<p style=\"text-align: right; direction: rtl; float: right; clear: both;\">\n",
        "    נדגים את התחביר של שאילתת <code>LEFT OUTER JOIN</code>:\n",
        "</p>"
      ]
    },
    {
      "cell_type": "markdown",
      "metadata": {
        "id": "7HzhQ54CL-F4"
      },
      "source": [
        "```sql\n",
        "SELECT *\n",
        "FROM בניינים\n",
        "    LEFT OUTER JOIN צורות\n",
        "    ON בניינים.צורה = צורות.שם;\n",
        "```"
      ]
    },
    {
      "cell_type": "markdown",
      "metadata": {
        "id": "fCsBRxepL-F4"
      },
      "source": [
        "<p style=\"text-align: right; direction: rtl; float: right; clear: both;\">\n",
        "    שימו לב שהטבלה שמופיעה ראשונה בשאילתה נחשבת ל\"טבלה שמאלית\" – זו שהישויות בה תמיד יופיעו בתוצאות.<br>\n",
        "    לכן, בניגוד לשאילתות שביצענו בעבר, שינינו את פסוקית ה־<code>FROM</code> כך שתשלוף מטבלת <var>בניינים</var> במקום מטבלת <var>צורות</var>.<br>\n",
        "    למרות שבמבט ראשון ההבדל עלול להיראות סמנטי בלבד, בפועל השינוי הזה חשוב מאוד.\n",
        "</p>"
      ]
    },
    {
      "cell_type": "markdown",
      "metadata": {
        "id": "s99wCtWDL-F4"
      },
      "source": [
        "### <span style=\"text-align: right; direction: rtl; float: right; clear: both;\">דוגמה</span>"
      ]
    },
    {
      "cell_type": "markdown",
      "metadata": {
        "id": "XmqAGlhpL-F4"
      },
      "source": [
        "<p style=\"text-align: right; direction: rtl; float: right; clear: both;\">\n",
        "    לפי מסד הנתונים שלנו, בשנת 2016 יצא הסרט בעל השם הקליט \"Bugs Bunny: Looney Tunes Cartoons 1942-1943 - Golden-Era Collection\".\n",
        "</p>"
      ]
    },
    {
      "cell_type": "markdown",
      "metadata": {
        "id": "p9JntfsQL-F4"
      },
      "source": [
        "<p style=\"text-align: right; direction: rtl; float: right; clear: both;\">\n",
        "    למרבה הצער, בצעד שמזכיר את חטיף הקוקוס המפוקפק במכולת השכונתית, אף אחד לא נטל אחריות על הסרט.<br>\n",
        "    בטבלה <var>principals</var> לא מופיע אף לא אדם אחד שמקושר לסרט הזה.\n",
        "</p>"
      ]
    },
    {
      "cell_type": "markdown",
      "metadata": {
        "id": "EWE9Mu1AL-F4"
      },
      "source": [
        "<p style=\"text-align: right; direction: rtl; float: right; clear: both;\">\n",
        "    כלומר, השאילתה הבאה מחזירה לנו 0 שורות, למרות שהסרט שריר וקיים!\n",
        "</p>"
      ]
    },
    {
      "cell_type": "markdown",
      "metadata": {
        "id": "47Tsddz4L-F4"
      },
      "source": [
        "```sql\n",
        "SELECT *\n",
        "FROM movies AS m\n",
        "    INNER JOIN principals AS p\n",
        "    ON p.movie_id = m.id\n",
        "WHERE m.original_title = 'Bugs Bunny: Looney Tunes Cartoons 1942-1943 - Golden-Era Collection';\n",
        "```"
      ]
    },
    {
      "cell_type": "markdown",
      "metadata": {
        "id": "j4f5C0h5L-F4"
      },
      "source": [
        "<div class=\"align-center\" style=\"display: flex; text-align: right; direction: rtl; clear: both;\">\n",
        "    <div style=\"display: flex; width: 10%; float: right; clear: both;\">\n",
        "        <img src=\"https://github.com/PythonFreeCourse/Notebooks/blob/main/content/week13/images/exercise.svg?raw=1\" style=\"height: 50px !important;\" alt=\"תרגול\">\n",
        "    </div>\n",
        "    <div style=\"width: 70%\">\n",
        "        <p style=\"text-align: right; direction: rtl; float: right; clear: both;\">\n",
        "            נסו לפתור את הבעיה בעזרת <code>OUTER JOIN</code>.<br>\n",
        "            כתבו שאילתה שתציג את כל הסרטים, גם כאלו שלא היו בהם בעלי תפקידים.\n",
        "        </p>\n",
        "    </div>\n",
        "    <div style=\"display: flex; width: 20%; border-right: 0.1rem solid #A5A5A5; padding: 1rem 2rem;\">\n",
        "        <p style=\"text-align: center; direction: rtl; justify-content: center; align-items: center; clear: both;\">\n",
        "            <strong>חשוב!</strong><br>\n",
        "            פתרו לפני שתמשיכו!\n",
        "        </p>\n",
        "    </div>\n",
        "</div>"
      ]
    },
    {
      "cell_type": "markdown",
      "metadata": {
        "id": "QTi_sW4FL-F4"
      },
      "source": [
        "<p style=\"text-align: right; direction: rtl; float: right; clear: both;\">\n",
        "    נכתוב שאילתה שבאיחוד הסרטים ובעלי התפקידים, תחזיר לנו גם סרטים בהם לא היו בעלי תפקידים:\n",
        "</p>"
      ]
    },
    {
      "cell_type": "markdown",
      "metadata": {
        "id": "9LiPWtt3L-F4"
      },
      "source": [
        "```sql\n",
        "SELECT *\n",
        "FROM movies AS m\n",
        "    LEFT OUTER JOIN principals AS p\n",
        "    ON p.movie_id = m.id;\n",
        "```"
      ]
    },
    {
      "cell_type": "markdown",
      "metadata": {
        "id": "UfXkg2riL-F5"
      },
      "source": [
        "<p style=\"text-align: right; direction: rtl; float: right; clear: both;\">\n",
        "    אם נוסיף את ה־<code>WHERE</code>, נראה שהפעם דווקא כן מופיע בתוצאות אותו סרט עלום מ־2016.\n",
        "</p>"
      ]
    },
    {
      "cell_type": "markdown",
      "metadata": {
        "id": "czRW9mfjL-F5"
      },
      "source": [
        "<div class=\"align-center\" style=\"display: flex; text-align: right; direction: rtl;\">\n",
        "    <div style=\"display: flex; width: 10%; float: right; \">\n",
        "        <img src=\"https://github.com/PythonFreeCourse/Notebooks/blob/main/content/week13/images/tip.png?raw=1\" style=\"height: 50px !important;\" alt=\"טיפ!\" title=\"טיפ!\">\n",
        "    </div>\n",
        "    <div style=\"width: 90%;\">\n",
        "        ברוב מסדי הנתונים אין צורך לציין במפורש את המילה <code>OUTER</code> עבור <code>LEFT JOIN</code>.\n",
        "    </div>\n",
        "</div>"
      ]
    },
    {
      "cell_type": "markdown",
      "metadata": {
        "id": "irUJEF5UL-F5"
      },
      "source": [
        "## <span style=\"text-align: right; direction: rtl; float: right; clear: both;\">סיכום</span>"
      ]
    },
    {
      "cell_type": "markdown",
      "metadata": {
        "id": "2v-jiVW1L-F5"
      },
      "source": [
        "<p style=\"text-align: right; direction: rtl; float: right; clear: both;\">\n",
        "    במחברת זו למדנו כמה דרכים לצרף טבלאות אחת לשנייה.\n",
        "</p>"
      ]
    },
    {
      "cell_type": "markdown",
      "metadata": {
        "id": "OQ2gOngnL-F5"
      },
      "source": [
        "<p style=\"text-align: right; direction: rtl; float: right; clear: both;\">\n",
        "    הצורה הראשונה שלמדנו הייתה <code>CROSS JOIN</code>, שמחזירה מכפלה קרטזית בין הטבלאות.<br>\n",
        "    כלומר – עבור כל ישות בטבלה השמאלית יוצמדו כל הישויות בטבלה הימנית.<br>\n",
        "    אם הטבלה השמאלית מכילה $n$ ישויות והטבלה הימנית מכילה $m$ ישויות, בתוצאות יופיעו $n \\cdot m$ ישויות.\n",
        "</p>"
      ]
    },
    {
      "cell_type": "markdown",
      "metadata": {
        "id": "QzkFSZniL-F5"
      },
      "source": [
        "<p style=\"text-align: right; direction: rtl; float: right; clear: both;\">\n",
        "    הצורה השנייה שלמדנו הייתה <code>INNER JOIN</code>, שמטרתה להחזיר ישויות תואמות בין שתי טבלאות.<br>\n",
        "    כלומר – אחרי ביצוע מכפלה קרטזית בין שתי הטבלאות, מוחזרות רק השורות שעונות על התנאי שנמצא אחרי מילת המפתח <code>ON</code>.\n",
        "</p>"
      ]
    },
    {
      "cell_type": "markdown",
      "metadata": {
        "id": "DZg35WBNL-F5"
      },
      "source": [
        "<p style=\"text-align: right; direction: rtl; float: right; clear: both;\">\n",
        "    הצורה האחרונה שלמדנו הייתה <code>OUTER JOIN</code>, שמטרתה להחזיר את כל הישויות מטבלה מסוימת, ולצרף לכל אחת מהן מידע מטבלה נוספת – אם יש כזה.<br>\n",
        "    אפשר לדמיין את התהליך כך: אחרי ביצוע <code>INNER JOIN</code> בין שתי הטבלאות, \"דוחפים\" שוב לתוצאות את הישויות מהטבלה השמאלית שלא מופיעות בתוצאות.<br>\n",
        "    בעמודות בהן חסרים נתונים בעקבות החזרת הישויות מהטבלה השמאלית מציבים <code>NULL</code>.\n",
        "</p>"
      ]
    },
    {
      "cell_type": "markdown",
      "metadata": {
        "id": "z3izP8mPL-F5"
      },
      "source": [
        "## <span style=\"text-align: right; direction: rtl; float: right; clear: both;\">תרגילים</span>"
      ]
    },
    {
      "cell_type": "markdown",
      "metadata": {
        "id": "H1Gia7GWL-F5"
      },
      "source": [
        "### <span style=\"text-align: right; direction: rtl; float: right; clear: both;\">יש יותר טוב מזה?</span>"
      ]
    },
    {
      "cell_type": "markdown",
      "metadata": {
        "id": "3nWcYSieL-F5"
      },
      "source": [
        "<p style=\"text-align: right; direction: rtl; float: right; clear: both;\">\n",
        "    כתבו שאילתה שמציגה את הסרט המפורסם ביותר בו שיחק שחקן מסוים.<br>\n",
        "    הניחו שהפופולריות של סרט נקבעת לפי כמות ההצבעות שקיבל.\n",
        "</p>"
      ]
    },
    {
      "cell_type": "markdown",
      "source": [
        "SELECT names.name, movies.title, movies.votes\n",
        "FROM movies\n",
        "\tJOIN principals\n",
        "\t\tON movies.id = principals.movie_id\n",
        "\tJOIN names\n",
        "\t\tON principals.name_id = names.id\n",
        "GROUP BY names.name\n",
        "ORDER BY movies.votes DESC"
      ],
      "metadata": {
        "id": "nXdVMrGNf1JD"
      }
    },
    {
      "cell_type": "markdown",
      "metadata": {
        "id": "6LxZ1EaLL-F5"
      },
      "source": [
        "### <span style=\"text-align: right; direction: rtl; float: right; clear: both;\">ארבעת המופלאים</span>"
      ]
    },
    {
      "cell_type": "markdown",
      "metadata": {
        "id": "beFMaDT0L-F6"
      },
      "source": [
        "<p style=\"text-align: right; direction: rtl; float: right; clear: both;\">\n",
        "    הציגו את 4 השחקנים שכִכְּבו בכמות הסרטים הגדולה ביותר.<br>\n",
        "    בכמה סרטים כיכב כל אחד מהם?\n",
        "</p>"
      ]
    },
    {
      "cell_type": "markdown",
      "source": [
        "SELECT names.name, COUNT(movies.title)\n",
        "FROM movies\n",
        "\tJOIN principals\n",
        "\t\tON movies.id = principals.movie_id\n",
        "\tJOIN names\n",
        "\t\tON principals.name_id = names.id\n",
        "GROUP BY names.name\n",
        "ORDER BY COUNT(movies.title) DESC\n",
        "LIMIT 4;"
      ],
      "metadata": {
        "id": "Z5tBm-shgZVE"
      }
    },
    {
      "cell_type": "markdown",
      "source": [
        "Ennio Morricone\t188\n",
        "Ilaiyaraaja\t180\n",
        "Mohanlal\t164\n",
        "William Shakespeare\t144"
      ],
      "metadata": {
        "id": "QwU7T_lzgd47"
      }
    },
    {
      "cell_type": "markdown",
      "metadata": {
        "id": "9yljZ5QbL-F6"
      },
      "source": [
        "### <span style=\"text-align: right; direction: rtl; float: right; clear: both;\">שיעור חופשי</span>"
      ]
    },
    {
      "cell_type": "markdown",
      "metadata": {
        "id": "gY4dg9BeL-F6"
      },
      "source": [
        "<p style=\"text-align: right; direction: rtl; float: right; clear: both;\">\n",
        "    חשבו על שאלה שמעניינת אתכם, ושניתן לענות עליה בעזרת שאילתות <code>JOIN</code> על הנתונים שבמסד הנתונים.<br>\n",
        "    צרו שאילתה שתעזור לכם לענות על השאלה הזו.\n",
        "</p>"
      ]
    }
  ],
  "metadata": {
    "kernelspec": {
      "display_name": "Python 3",
      "language": "python",
      "name": "python3"
    },
    "language_info": {
      "codemirror_mode": {
        "name": "ipython",
        "version": 3
      },
      "file_extension": ".py",
      "mimetype": "text/x-python",
      "name": "python",
      "nbconvert_exporter": "python",
      "pygments_lexer": "ipython3",
      "version": "3.8.6"
    },
    "colab": {
      "provenance": []
    }
  },
  "nbformat": 4,
  "nbformat_minor": 0
}