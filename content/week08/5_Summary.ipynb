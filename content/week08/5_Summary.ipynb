{
  "cells": [
    {
      "cell_type": "markdown",
      "metadata": {
        "id": "77vErlIaFXr6"
      },
      "source": [
        "<img src=\"https://github.com/PythonFreeCourse/Notebooks/blob/main/content/week08/images/logo.jpg?raw=1\" style=\"display: block; margin-left: auto; margin-right: auto;\" alt=\"לוגו של מיזם לימוד הפייתון. נחש מצויר בצבעי צהוב וכחול, הנע בין האותיות של שם הקורס: לומדים פייתון. הסלוגן המופיע מעל לשם הקורס הוא מיזם חינמי ללימוד תכנות בעברית.\">"
      ]
    },
    {
      "cell_type": "markdown",
      "metadata": {
        "id": "Vukm8KEYFXr8"
      },
      "source": [
        "# <span style=\"text-align: right; direction: rtl; float: right; clear: both;\"> תרגילים </span>"
      ]
    },
    {
      "cell_type": "markdown",
      "metadata": {
        "id": "KCSVY9RAFXr9"
      },
      "source": [
        "## <span style=\"text-align: right; direction: rtl; float: right; clear: both;\">תרגיל מחשמל</span>"
      ]
    },
    {
      "cell_type": "markdown",
      "metadata": {
        "id": "8MMtd6wwFXr9"
      },
      "source": [
        "<p style=\"text-align: right; direction: rtl; float: right; clear: both;\">\n",
        "    בהנדסת חשמל, \"שער לוגי\" הוא רכיב בסיסי ולו כניסה אחת או יותר, ויציאה אחת בלבד.<br>\n",
        "    הכניסות בשער הלוגי משמשות בתור הקלט שלו, והיציאה בתור הפלט.<br>\n",
        "    כל כניסה יכולה לקבל את הערך \"אמת\" או \"שקר\".<br>\n",
        "    השער הלוגי יבצע פעולה לוגית בהתאם לכניסות שלו, ויחזיר ערך חדש – שגם הוא אמת או שקר.\n",
        "</p>"
      ]
    },
    {
      "cell_type": "markdown",
      "metadata": {
        "id": "bF6OSFmLFXr-"
      },
      "source": [
        "<p style=\"text-align: right; direction: rtl; float: right; clear: both;\">\n",
        "    שער לוגי שוודאי יצא לכם לשמוע עליו הוא <dfn>AND</dfn>.<br>\n",
        "    לשער הלוגי AND שתי כניסות. פלט השער יהיה <var>True</var> רק אם הקלט בשתי הכניסות הוא <var>True</var>, אחרת – יהיה הפלט <var>False</var>.<br>\n",
        "    שער לוגי אחר שוודאי יצא לכם לשמוע עליו הוא <dfn>NOT</dfn>.<br>\n",
        "    לשער הלוגי NOT כניסה אחת. פלט השער יהיה <var>True</var> אם הקלט הוא <var>False</var>, או <var>False</var> אם הקלט הוא <var>True</var>.\n",
        "</p>"
      ]
    },
    {
      "cell_type": "markdown",
      "metadata": {
        "id": "C2jw69nyFXr-"
      },
      "source": [
        "<p style=\"text-align: right; direction: rtl; float: right; clear: both;\">\n",
        "    שערים עם כניסה אחת נקראים שערים אוּנָרִיִּים (unary), ושערים עם שתי כניסות נקראים שערים בִּינָרִיִּים (binary).<br>\n",
        "</p>"
      ]
    },
    {
      "cell_type": "markdown",
      "metadata": {
        "id": "3bWRK__JFXr_"
      },
      "source": [
        "<p style=\"text-align: right; direction: rtl; float: right; clear: both;\">\n",
        "    חיבור של כמה שערים לוגיים אחד לשני ייצור רכיב לוגי.<br>\n",
        "    בדוגמה הבאה, הקלטים (מלמעלה למטה) <var>True</var>, <var>False</var>, <var>False</var>, <var>True</var> יניבו <var>True</var>.\n",
        "</p>"
      ]
    },
    {
      "cell_type": "markdown",
      "metadata": {
        "id": "cbC_fnRoFXr_"
      },
      "source": [
        "<figure>\n",
        "    <img src=\"https://github.com/PythonFreeCourse/Notebooks/blob/main/content/week08/images/circuit_example.svg?raw=1\" style=\"width: 250px; margin-right: auto; margin-left: auto; text-align: center;\" alt=\"דוגמה למעגל אלקטרוני. שער AND מצויר בצורת חצי אליפסה פחוסה לא סגורה, המחוברת משמאל למלבן שצלעו הימנית לא סגורה. שער OR מצויר כמו שער AND, רק שצלעו השמאלית נכנסת מעט פנימה בצורה מעוגלת. לשני השערים הלוגיים נכנסים 2 קווים משמאל, ומימינם יוצא קו אחד. המעגל נראה כך: בטור השמאלי, ישנו שער OR למעלה ושער AND למטה. בטור הימני ישנו שער OR. הפלט של העמודה השמאלית נכנס כקלט לעמודה הימנית.\"/>\n",
        "    <figcaption style=\"margin-top: 2rem; text-align: center; direction: rtl;\">\n",
        "        דוגמה לרכיב לוגי.\n",
        "    </figcaption>\n",
        "</figure>"
      ]
    },
    {
      "cell_type": "markdown",
      "metadata": {
        "id": "_eRoHLriFXr_"
      },
      "source": [
        "<p style=\"text-align: right; direction: rtl; float: right; clear: both;\">\n",
        "    צרו את המחלקות <var>LogicGate</var>, <var>UnaryGate</var>, <var>BinaryGate</var> ו־<var>Connector</var>.<br>\n",
        "    כמו כן, צרו את המחלקות <var>AndGate</var>, <var>NotGate</var>, <var>OrGate</var>, <var>NandGate</var> ו־<var>XorGate</var>.<br>\n",
        "    במידת הצורך, קראו עוד על שערים לוגיים.\n",
        "</p>"
      ]
    },
    {
      "cell_type": "code",
      "source": [
        "from abc import ABC, abstractmethod\n",
        "\n",
        "\n",
        "class InvalidGateError(Exception):\n",
        "  def __init__(self, name, *args, **kwargs):\n",
        "      super().__init__(*args, **kwargs)\n",
        "      self.name = name\n",
        "\n",
        "  def __str__(self):\n",
        "      return (f\"{self.name} is an invalid gate!\" )\n",
        "\n",
        "class LogicGate(ABC):\n",
        "  @abstractmethod\n",
        "  def __init__(self, value):\n",
        "    pass\n",
        "\n",
        "  @abstractmethod\n",
        "  def calc(self):\n",
        "      pass\n",
        "\n",
        "class UnaryGate(LogicGate):\n",
        "  def __init__(self, value):\n",
        "        self.value = value\n",
        "\n",
        "class BinaryGate(LogicGate):\n",
        "  def __init__(self, value1, value2):\n",
        "        self.value1 = value1\n",
        "        self.value2 = value2\n",
        "\n",
        "class AndGate(BinaryGate):\n",
        "  def calc(self):\n",
        "    return self.value1 and self.value2\n",
        "\n",
        "class NandGate(BinaryGate):\n",
        "  def calc(self):\n",
        "    return not(self.value1 and self.value2)\n",
        "\n",
        "class OrGate(BinaryGate):\n",
        "  def calc(self):\n",
        "    return self.value1 or self.value2\n",
        "\n",
        "class XorGate(BinaryGate):\n",
        "  def calc(self):\n",
        "    return self.value1 ^ self.value2\n",
        "\n",
        "class NotGate(UnaryGate):\n",
        "  def calc(self):\n",
        "    return not self.value\n",
        "\n",
        "class Connector:\n",
        "  def __init__(self, gate, input_gates):\n",
        "    self.gate = gate\n",
        "    self.input_gates = input_gates\n",
        "\n",
        "  def send_inputs(self, inputs):\n",
        "    values = []\n",
        "    for input_gate in self.input_gates:\n",
        "\n",
        "\n",
        "      if isinstance(input_gate, Connector):\n",
        "        v, inputs = input_gate.send_inputs(inputs)\n",
        "        values.append(v)\n",
        "      elif issubclass(input_gate, UnaryGate):\n",
        "        res = input_gate(inputs[0]).calc()\n",
        "\n",
        "        values.append(res)\n",
        "        inputs = inputs[1:]\n",
        "      elif issubclass(input_gate,  BinaryGate):\n",
        "\n",
        "        values.append(input_gate(inputs[0], inputs[1]).calc())\n",
        "        inputs = inputs[2:]\n",
        "\n",
        "      else:\n",
        "        raise(InvalidGateError(input_gate))\n",
        "\n",
        "\n",
        "    if issubclass(self.gate,  BinaryGate) and len(values) == 1:\n",
        "        values.append(inputs[0])\n",
        "        inputs = inputs[1:]\n",
        "\n",
        "    return self.gate(*values).calc(), inputs"
      ],
      "metadata": {
        "id": "Q_s7au22K5U7"
      },
      "execution_count": 63,
      "outputs": []
    },
    {
      "cell_type": "code",
      "execution_count": 64,
      "metadata": {
        "id": "1XvWRJNEFXsB",
        "outputId": "9175b67c-3165-482b-9506-8768fdd50ec5",
        "colab": {
          "base_uri": "https://localhost:8080/"
        }
      },
      "outputs": [
        {
          "output_type": "stream",
          "name": "stdout",
          "text": [
            "True\n"
          ]
        }
      ],
      "source": [
        "first_connector = Connector(\n",
        "    gate=OrGate, input_gates=[OrGate, AndGate],\n",
        ")\n",
        "second_connector = Connector(\n",
        "    gate=OrGate,\n",
        "    input_gates=[first_connector],\n",
        ")\n",
        "circuit = Connector(\n",
        "    gate=OrGate,\n",
        "    input_gates=[second_connector, NotGate],\n",
        ")\n",
        "\n",
        "inputs = (False, False, False, True, False, True)\n",
        "print(circuit.send_inputs(inputs)[0] == False)"
      ]
    },
    {
      "cell_type": "markdown",
      "metadata": {
        "id": "1LoOtcOVFXsA"
      },
      "source": [
        "<p style=\"text-align: right; direction: rtl; float: right; clear: both;\">\n",
        "לאחר שכתבתם את הקוד, ודאו שהקוד הבא, שמדמה את המעגל מהאיור למעלה, מדפיס רק True:\n",
        "</p>"
      ]
    },
    {
      "cell_type": "code",
      "execution_count": 65,
      "metadata": {
        "id": "OZaI5YuxFXsA",
        "outputId": "58c291ae-2064-4fe6-c897-bbaf84847771",
        "colab": {
          "base_uri": "https://localhost:8080/"
        }
      },
      "outputs": [
        {
          "output_type": "stream",
          "name": "stdout",
          "text": [
            "True\n",
            "True\n",
            "True\n",
            "True\n",
            "True\n",
            "True\n",
            "True\n",
            "True\n",
            "True\n"
          ]
        }
      ],
      "source": [
        "circuit = Connector(gate=OrGate, input_gates=[OrGate, AndGate])\n",
        "print(circuit.send_inputs([False, False, False, False])[0] == False)\n",
        "print(circuit.send_inputs([False, False, False, True])[0] == False)\n",
        "print(circuit.send_inputs([False, False, True, False])[0] == False)\n",
        "print(circuit.send_inputs([False, False, True, True])[0] == True)\n",
        "print(circuit.send_inputs([False, True, False, False])[0] == True)\n",
        "print(circuit.send_inputs([False, True, False, True])[0] == True)\n",
        "print(circuit.send_inputs([False, True, True, False])[0] == True)\n",
        "print(circuit.send_inputs([False, True, True, True])[0] == True)\n",
        "print(circuit.send_inputs([True, False, False, False])[0] == True)"
      ]
    },
    {
      "cell_type": "code",
      "source": [
        "type(OrGate)\n"
      ],
      "metadata": {
        "id": "dQmyRhiyTHRM",
        "outputId": "9fb0026e-944b-4783-f4b8-85704cc38930",
        "colab": {
          "base_uri": "https://localhost:8080/"
        }
      },
      "execution_count": 14,
      "outputs": [
        {
          "output_type": "execute_result",
          "data": {
            "text/plain": [
              "abc.ABCMeta"
            ]
          },
          "metadata": {},
          "execution_count": 14
        }
      ]
    },
    {
      "cell_type": "markdown",
      "metadata": {
        "id": "FS3yHrj_FXsB"
      },
      "source": [
        "<p style=\"text-align: right; direction: rtl; float: right; clear: both;\">\n",
        "    בונוס: ודאו גם שהקוד הבא עובד ומדפיס <var>True</var>:\n",
        "</p>"
      ]
    },
    {
      "cell_type": "markdown",
      "metadata": {
        "id": "dqqr1OTaFXsB"
      },
      "source": [
        "<figure>\n",
        "    <img src=\"https://github.com/PythonFreeCourse/Notebooks/blob/main/content/week08/images/complex_circuit.svg?raw=1\" style=\"width: 400px; margin-right: auto; margin-left: auto; text-align: center;\" alt=\"החידוש באיור זה הוא שער NOT, שמצויר כמשולש שבקודקודו הימני מצויר עיגול קטן.\"/>\n",
        "    <figcaption style=\"margin-top: 2rem; text-align: center; direction: rtl;\">\n",
        "        דוגמה לרכיב לוגי מורכב יותר.\n",
        "    </figcaption>\n",
        "</figure>"
      ]
    },
    {
      "cell_type": "markdown",
      "metadata": {
        "id": "BjcF-LySFXsB"
      },
      "source": [
        "## <span style=\"text-align: right; direction: rtl; float: right; clear: both;\">ימצי</span>"
      ]
    },
    {
      "cell_type": "markdown",
      "metadata": {
        "id": "T3jx4ZS7FXsB"
      },
      "source": [
        "<p style=\"text-align: right; direction: rtl; float: right; clear: both;\">\n",
        "    כתבו מחלקה המייצגת קובייה.<br>\n",
        "    לכל קובייה יש צבע, מספר פאות וערכים שמופיעים על הפאות.<br>\n",
        "    הטלה של קובייה תבחר באופן אקראי ערך מאחת מפאות הקובייה ותחזיר אותו.\n",
        "</p>\n",
        "\n",
        "<p style=\"text-align: right; direction: rtl; float: right; clear: both;\">\n",
        "    על כל פאה של \"קובייה מספרית\" מופיע מספר שערכו בין 1 למספר הפאות בקובייה. כל מספר יופיע פעם אחת בלבד על הקובייה.<br>\n",
        "    ב\"קובייה לא מאוזנת\" ישנו גם ערך שנקרא \"סיכוי הטלה\", שמפרט עבור כל פאה מה הסיכוי שתצא בהטלה.\n",
        "</p>\n",
        "\n",
        "<p style=\"text-align: right; direction: rtl; float: right; clear: both;\">\n",
        "    שם הצבע של הקובייה חייב להיות מורכב מאותיות בלבד, סיכויי ההטלה חייבים להיות חיוביים ומספר הפאות חייב להיות תואם למספר הערכים המופיעים על הפאות.<br>\n",
        "</p>\n"
      ]
    },
    {
      "cell_type": "markdown",
      "metadata": {
        "id": "18ctatmEFXsC"
      },
      "source": [
        "<p style=\"text-align: right; direction: rtl; float: right; clear: both;\">\n",
        "    במשחק \"Yamtzee\" יש שק גדול שמכיל המון \"קוביות אורך\", ושק גדול נוסף של קוביות לא מאוזנות בצבעים שונים שנקראות \"קוביות אות\".<br>\n",
        "    10% מהקוביות בכל שק הן אדומות, 25% הן ירוקות ו־65% הן כחולות.<br>\n",
        "    קוביית אורך היא קובייה מספרית עם 10 פאות. אם הקובייה מורה 1, זורקים אותה שוב עד שיוצא מספר אחר.<br>\n",
        "    קוביית אות היא קובייה לא מאוזנת עם 26 פאות, כאשר בכל פאה אות מהא\"ב האנגלי. סיכוי ההטלה עבור כל אחד מהערכים הוא לפי <a href=\"https://en.wikipedia.org/wiki/Letter_frequency\">התדירות של האות</a>.<br>\n",
        "</p>"
      ]
    },
    {
      "cell_type": "markdown",
      "metadata": {
        "id": "VNdQDCMCFXsC"
      },
      "source": [
        "<p style=\"text-align: right; direction: rtl; float: right; clear: both;\">\n",
        "    בתחילת המשחק, המשתמש בוחר את מספר המשתתפים במשחק, ומה הניקוד שאליו צריך להגיע כדי שהמשחק יסתיים.<br>\n",
        "</p>\n",
        "\n",
        "<p style=\"text-align: right; direction: rtl; float: right; clear: both;\">\n",
        "    כל שחקן בתורו מטיל את קוביית האורך, ומטיל מספר קוביות אות הזהה למספר שהתקבל בקוביית האורך.<br>\n",
        "    לדוגמה, אם קוביית האורך שהטלתי מורה 3, עליי להטיל 3 קוביות אות.\n",
        "</p>"
      ]
    },
    {
      "cell_type": "markdown",
      "metadata": {
        "id": "Yw4SphvBFXsC"
      },
      "source": [
        "<p style=\"text-align: right; direction: rtl; float: right; clear: both;\">\n",
        "    המשתתף צריך להשתמש בקוביות האות שיצאו לו כדי ליצור מילה תקנית בשפה האנגלית, שאורכה 2 אותיות לפחות.<br>\n",
        "    הוא יכול לסדר את הקוביות מחדש ולבחור שלא להשתמש בחלק מהן, אבל הוא לא יכול להשתמש באותה קוביית אות פעמיים.<br>\n",
        "    למרות זאת, יכול לקרות מצב שיותר מקוביית אות אחת תציג את אותה האות.\n",
        "</p>"
      ]
    },
    {
      "cell_type": "markdown",
      "metadata": {
        "id": "Fp3juXAUFXsC"
      },
      "source": [
        "<p style=\"text-align: right; direction: rtl; float: right; clear: both;\">\n",
        "    אם המשתמש הצליח להרכיב מילה, עבור כל אות שבה השתמש הוא זוכה ב־$\\lfloor{\\frac{12}{\\lceil{f}\\rceil^{\\frac{3}{4}}}}\\rfloor$ נקודות, כאשר f זו תדירות האות בא\"ב האנגלי, מעוגלת כלפי מעלה.<br>\n",
        "    במילים: 12 חלקי הביטוי הבא – הסיכוי שהאות תצא מעוגל כלפי מעלה, בחזקת 1.5 ואז להוציא מזה שורש. כל זה – מעוגל כלפי מטה.<br>\n",
        "    לדוגמה, עבור המילה \"zone\" יזכה השחקן ב־17 נקודות לפי החישוב הזה:\n",
        "</p>"
      ]
    },
    {
      "cell_type": "markdown",
      "metadata": {
        "id": "s01U0slZFXsC"
      },
      "source": [
        "| ניקוד | תדירות | אות  |\n",
        "|:----------|:----------|------:|\n",
        "| 12 | 0.077%\t | z |\n",
        "| 2   | 7.507% | o |\n",
        "| 2    | 6.749%\t | n |\n",
        "| 1   | 12.702%\t| e |"
      ]
    },
    {
      "cell_type": "markdown",
      "metadata": {
        "id": "UCP36vywFXsD"
      },
      "source": [
        "<p style=\"text-align: right; direction: rtl; float: right; clear: both;\">\n",
        "    קוביית אורך אדומה מעניקה למשתתף שהטיל אותה עוד קוביית אות במתנה.<br>\n",
        "    קוביית אות אדומה מאפשרת למשתתף להשתמש באות שמופיעה על הקובייה כמה פעמים שירצה.<br>\n",
        "    קוביות ירוקות נותנות למשתתף את האפשרות לבחור אם להטילן מחדש.<br>\n",
        "</p>"
      ]
    },
    {
      "cell_type": "markdown",
      "metadata": {
        "id": "AeNUQf_vFXsD"
      },
      "source": [
        "<p style=\"text-align: right; direction: rtl; float: right; clear: both;\">\n",
        "    ממשו את Yamtzee.<br>\n",
        "    השתמשו ב־<a href=\"https://raw.githubusercontent.com/dwyl/english-words/master/words.txt\">words.txt</a> כדי לוודא שהמילים שהכניס המשתמש תקינות.\n",
        "</p>"
      ]
    }
  ],
  "metadata": {
    "kernelspec": {
      "display_name": "Python 3",
      "language": "python",
      "name": "python3"
    },
    "language_info": {
      "codemirror_mode": {
        "name": "ipython",
        "version": 3
      },
      "file_extension": ".py",
      "mimetype": "text/x-python",
      "name": "python",
      "nbconvert_exporter": "python",
      "pygments_lexer": "ipython3",
      "version": "3.8.6"
    },
    "colab": {
      "provenance": []
    }
  },
  "nbformat": 4,
  "nbformat_minor": 0
}