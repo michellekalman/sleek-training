{
  "cells": [
    {
      "cell_type": "markdown",
      "metadata": {
        "id": "QLGIlYMGGXn5"
      },
      "source": [
        "<img src=\"https://github.com/PythonFreeCourse/Notebooks/blob/main/content/week08/images/logo.jpg?raw=1\" style=\"display: block; margin-left: auto; margin-right: auto;\" alt=\"לוגו של מיזם לימוד הפייתון. נחש מצויר בצבעי צהוב וכחול, הנע בין האותיות של שם הקורס: לומדים פייתון. הסלוגן המופיע מעל לשם הקורס הוא מיזם חינמי ללימוד תכנות בעברית.\">"
      ]
    },
    {
      "cell_type": "markdown",
      "metadata": {
        "id": "OUtANOp6GXn8"
      },
      "source": [
        "# <span style=\"text-align: right; direction: rtl; float: right;\">חריגות</span>"
      ]
    },
    {
      "cell_type": "markdown",
      "metadata": {
        "id": "wAhbXNDDGXn8"
      },
      "source": [
        "## <span style=\"text-align: right; direction: rtl; float: right; clear: both;\">הקדמה</span>"
      ]
    },
    {
      "cell_type": "markdown",
      "metadata": {
        "id": "OEd3hgUqGXn9"
      },
      "source": [
        "<p style=\"text-align: right; direction: rtl; float: right; clear: both;\">\n",
        "    עוד בשבוע הראשון, כשרק התחלתם את הקורס, הזהרנו אתכם שהמחשב עלול להיות עמית קשוח לעבודה.<br>\n",
        "    הוא תמיד מבצע בדיוק את מה שהוריתם לו לעשות, ולא מסוגל להתגבר לבד גם על הקלה שבטעויות.\n",
        "</p>"
      ]
    },
    {
      "cell_type": "markdown",
      "metadata": {
        "id": "DvjSGWA3GXn9"
      },
      "source": [
        "<p style=\"text-align: right; direction: rtl; float: right; clear: both;\">\n",
        "    במהלך הקורס נתקלתם פעמים רבות בחריגות (\"שגיאות\") שפייתון התריעה לכם עליהן.<br>\n",
        "    חלק מההתרעות על חריגות התרחשו בגלל טעויות בסיסיות בקוד, כמו נקודתיים חסרות בסוף שורת <code>if</code>,<br>\n",
        "    וחלק מהן התרחשו בגלל בעיות שהתגלו מאוחר יותר – כמו קובץ שניסיתם לפתוח אבל לא היה קיים במחשב.\n",
        "</p>"
      ]
    },
    {
      "cell_type": "markdown",
      "metadata": {
        "id": "71rwbLu4GXn9"
      },
      "source": [
        "<p style=\"text-align: right; direction: rtl; float: right; clear: both;\">\n",
        "    בפרק זה ניכנס בעובי הקורה בכל הנוגע לחריגות.<br>\n",
        "    נבין אילו סוגי חריגות יש, איך מפענחים אותן ואיך הן בנויות בפייתון, איך מטפלים בהן ואיך יוצרים חריגות בעצמנו.\n",
        "</p>"
      ]
    },
    {
      "cell_type": "markdown",
      "metadata": {
        "id": "rdXZN7JwGXn-"
      },
      "source": [
        "## <span style=\"text-align: right; direction: rtl; float: right; clear: both;\">הגדרה</span>"
      ]
    },
    {
      "cell_type": "markdown",
      "metadata": {
        "id": "VUKDo4shGXn-"
      },
      "source": [
        "<p style=\"text-align: right; direction: rtl; float: right; clear: both;\">\n",
        "    <dfn>חריגה</dfn> (<dfn>Exception</dfn>) מייצגת כשל שהתרחש בזמן שפייתון ניסתה לפענח את הקוד שלנו או להריץ אותו.<br>\n",
        "    כשהקוד קורס ומוצגת לנו הודעת שגיאה, אפשר להגיד שפייתון <dfn>מתריעה על חריגה</dfn> (<dfn>raise an exception</dfn>).\n",
        "</p>"
      ]
    },
    {
      "cell_type": "markdown",
      "metadata": {
        "id": "2lQiuHLKGXn_"
      },
      "source": [
        "<p style=\"text-align: right; direction: rtl; float: right; clear: both;\">\n",
        "    נבדיל בין שני סוגי חריגות: שגיאות תחביר וחריגות כלליות.\n",
        "</p>"
      ]
    },
    {
      "cell_type": "markdown",
      "metadata": {
        "id": "7G2lhgsZGXn_"
      },
      "source": [
        "### <span style=\"text-align: right; direction: rtl; float: right; clear: both;\">שגיאת תחביר</span>"
      ]
    },
    {
      "cell_type": "markdown",
      "metadata": {
        "id": "SMsGTBM5GXn_"
      },
      "source": [
        "<p style=\"text-align: right; direction: rtl; float: right; clear: both;\">\n",
        "    פייתון תתריע לפנינו על <dfn>שגיאת תחביר</dfn> (<dfn>syntax error</dfn>) כשנכתוב קוד שהיא לא מסוגלת לפענח.<br>\n",
        "    לרוב זה יתרחש כשלא עמדנו בכללי התחביר של פייתון ושכחנו תו מסוים, בין אם זה סגירת סוגריים, גרשיים או נקודתיים בסוף שורה.<br>\n",
        "    ודאי נתקלתם בשגיאה דומה בעבר:\n",
        "</p>"
      ]
    },
    {
      "cell_type": "code",
      "execution_count": 1,
      "metadata": {
        "id": "ZWQbQJciGXoA",
        "outputId": "801d2824-0d54-4317-d0e1-a6564d07e3dd",
        "colab": {
          "base_uri": "https://localhost:8080/",
          "height": 106
        }
      },
      "outputs": [
        {
          "output_type": "error",
          "ename": "SyntaxError",
          "evalue": "expected ':' (<ipython-input-1-76fbd5d46dce>, line 2)",
          "traceback": [
            "\u001b[0;36m  File \u001b[0;32m\"<ipython-input-1-76fbd5d46dce>\"\u001b[0;36m, line \u001b[0;32m2\u001b[0m\n\u001b[0;31m    while counter < 10\u001b[0m\n\u001b[0m                      ^\u001b[0m\n\u001b[0;31mSyntaxError\u001b[0m\u001b[0;31m:\u001b[0m expected ':'\n"
          ]
        }
      ],
      "source": [
        "counter = 0\n",
        "while counter < 10\n",
        "    print(\"Stop it!\")\n",
        "    counter += 1"
      ]
    },
    {
      "cell_type": "markdown",
      "metadata": {
        "id": "N9dr7SOxGXoB"
      },
      "source": [
        "<p style=\"text-align: right; direction: rtl; float: right; clear: both;\">\n",
        "    פייתון משתדלת לספק לנו כמה שיותר מידע על מקור השגיאה:<br>\n",
        "</p>\n",
        "\n",
        "<ol style=\"text-align: right; direction: rtl; float: right; clear: both;\">\n",
        "    <li>בשורה הראשונה נראה מידע על מיקום השגיאה: קובץ (אם יש כזה) ומספר השורה שבה נמצאה השגיאה.</li>\n",
        "    <li>בשורה השנייה את הקוד שבו פייתון מצאה את השגיאה.</li>\n",
        "    <li>בשורה השלישית חץ שמצביע חזותית למקום שבו נמצאה השגיאה.</li>\n",
        "    <li>בשורה הרביעית פייתון מסבירה לנו מה התרחש ומספקת הסבר קצר על השגיאה. במקרה הזה – <code>SyntaxError</code>.</li>\n",
        "</ol>"
      ]
    },
    {
      "cell_type": "markdown",
      "metadata": {
        "id": "XKztMVSTGXoC"
      },
      "source": [
        "<p style=\"text-align: right; direction: rtl; float: right; clear: both;\">\n",
        "    כשמדובר בשגיאות תחביר כדאי להסתכל על מיקום השגיאה בעין ביקורתית.<br>\n",
        "    בחלק מהפעמים, פייתון תכלול בשגיאה מידע לא מדויק על מיקום השגיאה:\n",
        "</p>"
      ]
    },
    {
      "cell_type": "code",
      "execution_count": 2,
      "metadata": {
        "id": "t6eN0NFPGXoC",
        "outputId": "13edb5f3-53b5-42a6-810f-506bb2c010e8",
        "colab": {
          "base_uri": "https://localhost:8080/",
          "height": 106
        }
      },
      "outputs": [
        {
          "output_type": "error",
          "ename": "SyntaxError",
          "evalue": "'(' was never closed (<ipython-input-2-8cf2fc3deafb>, line 1)",
          "traceback": [
            "\u001b[0;36m  File \u001b[0;32m\"<ipython-input-2-8cf2fc3deafb>\"\u001b[0;36m, line \u001b[0;32m1\u001b[0m\n\u001b[0;31m    names = (\u001b[0m\n\u001b[0m            ^\u001b[0m\n\u001b[0;31mSyntaxError\u001b[0m\u001b[0;31m:\u001b[0m '(' was never closed\n"
          ]
        }
      ],
      "source": [
        "names = (\n",
        "    \"John Cleese\",\n",
        "    \"Terry Gilliam\",\n",
        "    \"Eric Idle\",\n",
        "    \"Michael Palin\",\n",
        "    \"Graham Chapman\",\n",
        "    \"Terry Jones\",\n",
        "\n",
        "for name in names:\n",
        "    print(name)"
      ]
    },
    {
      "cell_type": "markdown",
      "metadata": {
        "id": "lsdGmkD5GXoD"
      },
      "source": [
        "<p style=\"text-align: right; direction: rtl; float: right; clear: both;\">\n",
        "    אפשר לראות בקוד שלמעלה ששכחנו לסגור את הסוגריים שפתחנו בשורה הראשונה.<br>\n",
        "    הודעת השגיאה שפייתון תציג לנו מצביעה על הלולאה כמקור לבעיה, כאשר הבעיה האמיתית היא בבירור אי סגירת הסוגריים.<br>\n",
        "    ההודעות הלא מדויקות של פייתון בהקשר של שגיאות תחביר מבלבלות לעיתים קרובות מתכנתים מתחילים.<br>\n",
        "    המלצתנו, אם הסתבכתם עם שגיאה כזו - בדקו אם מקור השגיאה הוא בסביבה, ולאו דווקא במקום שפייתון מורה עליו.\n",
        "</p>"
      ]
    },
    {
      "cell_type": "markdown",
      "metadata": {
        "id": "8Z0XFUDxGXoE"
      },
      "source": [
        "### <span style=\"text-align: right; direction: rtl; float: right; clear: both;\">חריגה כללית</span>"
      ]
    },
    {
      "cell_type": "markdown",
      "metadata": {
        "id": "3O9yJ7GXGXoE"
      },
      "source": [
        "<p style=\"text-align: right; direction: rtl; float: right; clear: both;\">\n",
        "    גם כשהקוד שלכם תואם את כללי התחביר של פייתון, לפעמים עלולות להתגלות בעיות בזמן הרצת הקוד.<br>\n",
        "    כפי שוודאי כבר חוויתם, מנעד הבעיות האפשריות הוא רחב מאוד – החל בחלוקה באפס, עבור לטעות בשם המשתנה וכלה בניסיון לפתיחת קובץ לא קיים.<br>\n",
        "</p>"
      ]
    },
    {
      "cell_type": "markdown",
      "metadata": {
        "id": "I7d9d0S8GXoF"
      },
      "source": [
        "<p style=\"text-align: right; direction: rtl; float: right; clear: both;\">\n",
        "    בניגוד להתרעה על חריגה במצב של שגיאות תחביר, פייתון תתריע על חריגות אחרות רק כשהיא תגיע להריץ את הקוד שגורם לחריגה.<br>\n",
        "    נראה דוגמה לחריגה שכזו:\n",
        "</p>"
      ]
    },
    {
      "cell_type": "code",
      "execution_count": 4,
      "metadata": {
        "id": "4VVZrDmZGXoF",
        "outputId": "7284b89a-bf54-4af4-9bf9-f94d5eecbd8e",
        "colab": {
          "base_uri": "https://localhost:8080/",
          "height": 211
        }
      },
      "outputs": [
        {
          "name": "stdout",
          "output_type": "stream",
          "text": [
            "Please enter the first number: 5\n",
            "Please enter the second number: 0\n"
          ]
        },
        {
          "output_type": "error",
          "ename": "ZeroDivisionError",
          "evalue": "integer division or modulo by zero",
          "traceback": [
            "\u001b[0;31m---------------------------------------------------------------------------\u001b[0m",
            "\u001b[0;31mZeroDivisionError\u001b[0m                         Traceback (most recent call last)",
            "\u001b[0;32m<ipython-input-4-0a171448f7d8>\u001b[0m in \u001b[0;36m<cell line: 3>\u001b[0;34m()\u001b[0m\n\u001b[1;32m      1\u001b[0m \u001b[0ma\u001b[0m \u001b[0;34m=\u001b[0m \u001b[0mint\u001b[0m\u001b[0;34m(\u001b[0m\u001b[0minput\u001b[0m\u001b[0;34m(\u001b[0m\u001b[0;34m\"Please enter the first number: \"\u001b[0m\u001b[0;34m)\u001b[0m\u001b[0;34m)\u001b[0m\u001b[0;34m\u001b[0m\u001b[0;34m\u001b[0m\u001b[0m\n\u001b[1;32m      2\u001b[0m \u001b[0mb\u001b[0m \u001b[0;34m=\u001b[0m \u001b[0mint\u001b[0m\u001b[0;34m(\u001b[0m\u001b[0minput\u001b[0m\u001b[0;34m(\u001b[0m\u001b[0;34m\"Please enter the second number: \"\u001b[0m\u001b[0;34m)\u001b[0m\u001b[0;34m)\u001b[0m\u001b[0;34m\u001b[0m\u001b[0;34m\u001b[0m\u001b[0m\n\u001b[0;32m----> 3\u001b[0;31m \u001b[0mprint\u001b[0m\u001b[0;34m(\u001b[0m\u001b[0ma\u001b[0m \u001b[0;34m//\u001b[0m \u001b[0mb\u001b[0m\u001b[0;34m)\u001b[0m\u001b[0;34m\u001b[0m\u001b[0;34m\u001b[0m\u001b[0m\n\u001b[0m",
            "\u001b[0;31mZeroDivisionError\u001b[0m: integer division or modulo by zero"
          ]
        }
      ],
      "source": [
        "a = int(input(\"Please enter the first number: \"))\n",
        "b = int(input(\"Please enter the second number: \"))\n",
        "print(a // b)"
      ]
    },
    {
      "cell_type": "markdown",
      "metadata": {
        "id": "I0dGmKeTGXoF"
      },
      "source": [
        "<div class=\"align-center\" style=\"display: flex; text-align: right; direction: rtl; clear: both;\">\n",
        "    <div style=\"display: flex; width: 10%; float: right; clear: both;\">\n",
        "        <img src=\"https://github.com/PythonFreeCourse/Notebooks/blob/main/content/week08/images/exercise.svg?raw=1\" style=\"height: 50px !important;\" alt=\"תרגול\">\n",
        "    </div>\n",
        "    <div style=\"width: 70%\">\n",
        "        <p style=\"text-align: right; direction: rtl; float: right; clear: both;\">\n",
        "            חשבו על כל החריגות שמשתמש שובב יכול לסחוט מהקוד שבתא למעלה.\n",
        "        </p>\n",
        "    </div>\n",
        "    <div style=\"display: flex; width: 20%; border-right: 0.1rem solid #A5A5A5; padding: 1rem 2rem;\">\n",
        "        <p style=\"text-align: center; direction: rtl; justify-content: center; align-items: center; clear: both;\">\n",
        "            <strong>חשוב!</strong><br>\n",
        "            פתרו לפני שתמשיכו!\n",
        "        </p>\n",
        "    </div>\n",
        "</div>"
      ]
    },
    {
      "cell_type": "markdown",
      "metadata": {
        "id": "_8dQNvJbGXoF"
      },
      "source": [
        "<p style=\"text-align: right; direction: rtl; float: right; clear: both;\">\n",
        "    אחת החריגות הראשונות שנחשוב עליהן היא חלוקה באפס, שלא מוגדרת חשבונית.<br>\n",
        "    נראה מה יקרה כשננסה לבצע השמה של הערך 0 למשתנה <var>b</var>:\n",
        "</p>"
      ]
    },
    {
      "cell_type": "code",
      "execution_count": 5,
      "metadata": {
        "id": "lkWWtm93GXoG",
        "outputId": "2354ec5f-d7a4-405f-cea1-4fd85c3663ee",
        "colab": {
          "base_uri": "https://localhost:8080/",
          "height": 176
        }
      },
      "outputs": [
        {
          "output_type": "error",
          "ename": "ZeroDivisionError",
          "evalue": "integer division or modulo by zero",
          "traceback": [
            "\u001b[0;31m---------------------------------------------------------------------------\u001b[0m",
            "\u001b[0;31mZeroDivisionError\u001b[0m                         Traceback (most recent call last)",
            "\u001b[0;32m<ipython-input-5-9dd413bf6bf8>\u001b[0m in \u001b[0;36m<cell line: 3>\u001b[0;34m()\u001b[0m\n\u001b[1;32m      1\u001b[0m \u001b[0ma\u001b[0m \u001b[0;34m=\u001b[0m \u001b[0;36m5\u001b[0m\u001b[0;34m\u001b[0m\u001b[0;34m\u001b[0m\u001b[0m\n\u001b[1;32m      2\u001b[0m \u001b[0mb\u001b[0m \u001b[0;34m=\u001b[0m \u001b[0;36m0\u001b[0m\u001b[0;34m\u001b[0m\u001b[0;34m\u001b[0m\u001b[0m\n\u001b[0;32m----> 3\u001b[0;31m \u001b[0mprint\u001b[0m\u001b[0;34m(\u001b[0m\u001b[0ma\u001b[0m \u001b[0;34m//\u001b[0m \u001b[0mb\u001b[0m\u001b[0;34m)\u001b[0m\u001b[0;34m\u001b[0m\u001b[0;34m\u001b[0m\u001b[0m\n\u001b[0m",
            "\u001b[0;31mZeroDivisionError\u001b[0m: integer division or modulo by zero"
          ]
        }
      ],
      "source": [
        "a = 5\n",
        "b = 0\n",
        "print(a // b)"
      ]
    },
    {
      "cell_type": "markdown",
      "metadata": {
        "id": "NGogHv4xGXoG"
      },
      "source": [
        "<p style=\"text-align: right; direction: rtl; float: right; clear: both;\">\n",
        "    פייתון התריעה בפנינו על <var>ZeroDivisionError</var> בשורה 3, וגם הפעם היא פלטה לנו הודעה מפורטת יחסית.<br>\n",
        "    בדיוק כמו בשגיאת התחביר, השורה האחרונה היא הודעה שמספרת לנו מה קרה בפועל: חילקתם באפס וזה אסור.<br>\n",
        "    באותה שורה נראה גם את <dfn>סוג החריגה</dfn> (<var>ZeroDivisionError</var>) – הקטגוריה הכללית שאליה החריגה משתייכת.<br>\n",
        "</p>"
      ]
    },
    {
      "cell_type": "markdown",
      "metadata": {
        "id": "LS_UEallGXoG"
      },
      "source": [
        "<p style=\"text-align: right; direction: rtl; float: right; clear: both;\">\n",
        "    נוכל לראות סוג אחר של חריגה אם נעביר לאחד המשתנים אות במקום מספר:\n",
        "</p>"
      ]
    },
    {
      "cell_type": "code",
      "execution_count": 6,
      "metadata": {
        "id": "LQjvA1pcGXoG",
        "outputId": "0643c5df-831e-450a-b98f-bf3cdfd7c5af",
        "colab": {
          "base_uri": "https://localhost:8080/",
          "height": 176
        }
      },
      "outputs": [
        {
          "output_type": "error",
          "ename": "ValueError",
          "evalue": "invalid literal for int() with base 10: 'a'",
          "traceback": [
            "\u001b[0;31m---------------------------------------------------------------------------\u001b[0m",
            "\u001b[0;31mValueError\u001b[0m                                Traceback (most recent call last)",
            "\u001b[0;32m<ipython-input-6-71566ce329ec>\u001b[0m in \u001b[0;36m<cell line: 2>\u001b[0;34m()\u001b[0m\n\u001b[1;32m      1\u001b[0m \u001b[0ma\u001b[0m \u001b[0;34m=\u001b[0m \u001b[0mint\u001b[0m\u001b[0;34m(\u001b[0m\u001b[0;34m\"5\"\u001b[0m\u001b[0;34m)\u001b[0m\u001b[0;34m\u001b[0m\u001b[0;34m\u001b[0m\u001b[0m\n\u001b[0;32m----> 2\u001b[0;31m \u001b[0mb\u001b[0m \u001b[0;34m=\u001b[0m \u001b[0mint\u001b[0m\u001b[0;34m(\u001b[0m\u001b[0;34m\"a\"\u001b[0m\u001b[0;34m)\u001b[0m\u001b[0;34m\u001b[0m\u001b[0;34m\u001b[0m\u001b[0m\n\u001b[0m\u001b[1;32m      3\u001b[0m \u001b[0mprint\u001b[0m\u001b[0;34m(\u001b[0m\u001b[0ma\u001b[0m \u001b[0;34m//\u001b[0m \u001b[0mb\u001b[0m\u001b[0;34m)\u001b[0m\u001b[0;34m\u001b[0m\u001b[0;34m\u001b[0m\u001b[0m\n",
            "\u001b[0;31mValueError\u001b[0m: invalid literal for int() with base 10: 'a'"
          ]
        }
      ],
      "source": [
        "a = int(\"5\")\n",
        "b = int(\"a\")\n",
        "print(a // b)"
      ]
    },
    {
      "cell_type": "markdown",
      "metadata": {
        "id": "u0imnP8PGXoH"
      },
      "source": [
        "<p style=\"text-align: right; direction: rtl; float: right; clear: both;\">\n",
        "    גם הפעם פייתון התריעה בפנינו על חריגה, אבל מסוג שונה.<br>\n",
        "    חריגה מסוג <var>ValueError</var> מעידה שהערך שהעברנו הוא מהסוג (טיפוס) הנכון, אבל הוא לא התאים לביטוי שביקשנו מפייתון להריץ.<br>\n",
        "    ההודעה שפייתון הציגה מסבירה לנו שאי אפשר להמיר את המחרוזת \"a\" למספר עשרוני.\n",
        "</p>"
      ]
    },
    {
      "cell_type": "markdown",
      "metadata": {
        "id": "cKsEgnZQGXoH"
      },
      "source": [
        "## <span style=\"text-align: right; direction: rtl; float: right; clear: both;\">קריאת הודעת השגיאה</span>"
      ]
    },
    {
      "cell_type": "markdown",
      "metadata": {
        "id": "hOIvjV9yGXoH"
      },
      "source": [
        "<p style=\"text-align: right; direction: rtl; float: right; clear: both;\">\n",
        "    ניקח לדוגמה את ההתרעה האחרונה שקיבלנו על חריגה:\n",
        "</p>"
      ]
    },
    {
      "cell_type": "code",
      "execution_count": 7,
      "metadata": {
        "id": "i40blVjGGXoH",
        "outputId": "36691031-e172-482a-8977-43fcbf62785a",
        "colab": {
          "base_uri": "https://localhost:8080/",
          "height": 176
        }
      },
      "outputs": [
        {
          "output_type": "error",
          "ename": "ValueError",
          "evalue": "invalid literal for int() with base 10: 'a'",
          "traceback": [
            "\u001b[0;31m---------------------------------------------------------------------------\u001b[0m",
            "\u001b[0;31mValueError\u001b[0m                                Traceback (most recent call last)",
            "\u001b[0;32m<ipython-input-7-71566ce329ec>\u001b[0m in \u001b[0;36m<cell line: 2>\u001b[0;34m()\u001b[0m\n\u001b[1;32m      1\u001b[0m \u001b[0ma\u001b[0m \u001b[0;34m=\u001b[0m \u001b[0mint\u001b[0m\u001b[0;34m(\u001b[0m\u001b[0;34m\"5\"\u001b[0m\u001b[0;34m)\u001b[0m\u001b[0;34m\u001b[0m\u001b[0;34m\u001b[0m\u001b[0m\n\u001b[0;32m----> 2\u001b[0;31m \u001b[0mb\u001b[0m \u001b[0;34m=\u001b[0m \u001b[0mint\u001b[0m\u001b[0;34m(\u001b[0m\u001b[0;34m\"a\"\u001b[0m\u001b[0;34m)\u001b[0m\u001b[0;34m\u001b[0m\u001b[0;34m\u001b[0m\u001b[0m\n\u001b[0m\u001b[1;32m      3\u001b[0m \u001b[0mprint\u001b[0m\u001b[0;34m(\u001b[0m\u001b[0ma\u001b[0m \u001b[0;34m//\u001b[0m \u001b[0mb\u001b[0m\u001b[0;34m)\u001b[0m\u001b[0;34m\u001b[0m\u001b[0;34m\u001b[0m\u001b[0m\n",
            "\u001b[0;31mValueError\u001b[0m: invalid literal for int() with base 10: 'a'"
          ]
        }
      ],
      "source": [
        "a = int(\"5\")\n",
        "b = int(\"a\")\n",
        "print(a // b)"
      ]
    },
    {
      "cell_type": "markdown",
      "metadata": {
        "id": "7tIrrnT8GXoH"
      },
      "source": [
        "<p style=\"text-align: right; direction: rtl; float: right; clear: both;\">\n",
        "    ננסה להבין לעומק את החלקים השונים של ההודעה:\n",
        "</p>"
      ]
    },
    {
      "cell_type": "markdown",
      "metadata": {
        "id": "kjhSQchTGXoH"
      },
      "source": [
        "<figure>\n",
        "    <img src=\"https://github.com/PythonFreeCourse/Notebooks/blob/main/content/week08/images/exception_parts.svg?v=3&raw=1\" style=\"margin-right: auto; margin-left: auto; text-align: center;\" alt=\"תמונה הממחישה את החלקים השונים בהתרעת החריגה. חלקי הודעת השגיאה, לפי הסדר: שם הקובץ שבו נמצאה החריגה, מיקום החריגה, חץ המצביע למיקום החריגה, השורה שבה זוהתה החריגה, הקטגוריה של החריגה והסיבה להתרחשות החריגה. ויזואלית, בצד ימין יש קופסאות בצבעים עם תיאור חלקי השגיאה, ובצד שמאל יש את הודעת השגיאה כאשר כל חלק בה צבוע בצבעים המופיעים בצד ימין.\"/>\n",
        "    <figcaption style=\"margin-top: 2rem; text-align: center; direction: rtl;\">\n",
        "        איור המבאר את חלקי ההודעה המוצגת במקרים של התרעה על חריגה.\n",
        "    </figcaption>\n",
        "</figure>"
      ]
    },
    {
      "cell_type": "markdown",
      "metadata": {
        "id": "d64CTEBvGXoJ"
      },
      "source": [
        "<p style=\"text-align: right; direction: rtl; float: right; clear: both;\">\n",
        "    במקרה של התרעה על חריגה שהתרחשה בתוך פונקציה, ההודעה תציג מעקב אחר שרשרת הקריאות שגרמו לה:\n",
        "</p>"
      ]
    },
    {
      "cell_type": "code",
      "execution_count": 8,
      "metadata": {
        "id": "hzAPdUE0GXoK",
        "outputId": "d636e91e-ccf9-4883-bc9c-0a5ccdc3eb82",
        "colab": {
          "base_uri": "https://localhost:8080/",
          "height": 297
        }
      },
      "outputs": [
        {
          "output_type": "error",
          "ename": "ValueError",
          "evalue": "invalid literal for int() with base 10: 'meow'",
          "traceback": [
            "\u001b[0;31m---------------------------------------------------------------------------\u001b[0m",
            "\u001b[0;31mValueError\u001b[0m                                Traceback (most recent call last)",
            "\u001b[0;32m<ipython-input-8-80b0e9e67aed>\u001b[0m in \u001b[0;36m<cell line: 5>\u001b[0;34m()\u001b[0m\n\u001b[1;32m      3\u001b[0m \u001b[0;34m\u001b[0m\u001b[0m\n\u001b[1;32m      4\u001b[0m \u001b[0;34m\u001b[0m\u001b[0m\n\u001b[0;32m----> 5\u001b[0;31m \u001b[0mdivision\u001b[0m\u001b[0;34m(\u001b[0m\u001b[0;34m\"meow\"\u001b[0m\u001b[0;34m,\u001b[0m \u001b[0;36m5\u001b[0m\u001b[0;34m)\u001b[0m\u001b[0;34m\u001b[0m\u001b[0;34m\u001b[0m\u001b[0m\n\u001b[0m",
            "\u001b[0;32m<ipython-input-8-80b0e9e67aed>\u001b[0m in \u001b[0;36mdivision\u001b[0;34m(a, b)\u001b[0m\n\u001b[1;32m      1\u001b[0m \u001b[0;32mdef\u001b[0m \u001b[0mdivision\u001b[0m\u001b[0;34m(\u001b[0m\u001b[0ma\u001b[0m\u001b[0;34m,\u001b[0m \u001b[0mb\u001b[0m\u001b[0;34m)\u001b[0m\u001b[0;34m:\u001b[0m\u001b[0;34m\u001b[0m\u001b[0;34m\u001b[0m\u001b[0m\n\u001b[0;32m----> 2\u001b[0;31m     \u001b[0;32mreturn\u001b[0m \u001b[0mint\u001b[0m\u001b[0;34m(\u001b[0m\u001b[0ma\u001b[0m\u001b[0;34m)\u001b[0m \u001b[0;34m//\u001b[0m \u001b[0mint\u001b[0m\u001b[0;34m(\u001b[0m\u001b[0mb\u001b[0m\u001b[0;34m)\u001b[0m\u001b[0;34m\u001b[0m\u001b[0;34m\u001b[0m\u001b[0m\n\u001b[0m\u001b[1;32m      3\u001b[0m \u001b[0;34m\u001b[0m\u001b[0m\n\u001b[1;32m      4\u001b[0m \u001b[0;34m\u001b[0m\u001b[0m\n\u001b[1;32m      5\u001b[0m \u001b[0mdivision\u001b[0m\u001b[0;34m(\u001b[0m\u001b[0;34m\"meow\"\u001b[0m\u001b[0;34m,\u001b[0m \u001b[0;36m5\u001b[0m\u001b[0;34m)\u001b[0m\u001b[0;34m\u001b[0m\u001b[0;34m\u001b[0m\u001b[0m\n",
            "\u001b[0;31mValueError\u001b[0m: invalid literal for int() with base 10: 'meow'"
          ]
        }
      ],
      "source": [
        "def division(a, b):\n",
        "    return int(a) // int(b)\n",
        "\n",
        "\n",
        "division(\"meow\", 5)"
      ]
    },
    {
      "cell_type": "markdown",
      "metadata": {
        "id": "tH7cSSDQGXoK"
      },
      "source": [
        "<p style=\"text-align: right; direction: rtl; float: right; clear: both;\">\n",
        "    ההודעה הזו מכילה <dfn>Traceback</dfn> – מעין סיפור שמטרתו לעזור לנו להבין מדוע התרחשה החריגה.<br>\n",
        "    ב־Traceback נראה את השורה שבה התרחשה החריגה, ומעליה את שרשרת הקריאות לפונקציות שגרמו לשורה הזו לרוץ.<br>\n",
        "    כדי להבין טוב יותר את ה־Traceback, נהוג לקרוא אותו מהסוף להתחלה.\n",
        "</p>"
      ]
    },
    {
      "cell_type": "markdown",
      "metadata": {
        "id": "59W7sEgwGXoK"
      },
      "source": [
        "<p style=\"text-align: right; direction: rtl; float: right; clear: both;\">\n",
        "    תחילה, נביט בשורה האחרונה ונקרא מה הייתה הסיבה שבגינה פייתון התריעה לנו על החריגה.<br>\n",
        "    ההודעה היא <q dir=\"ltr\">invalid literal for int() with base 10: 'meow'</q> – ניסינו להמיר את המחרוזת \"meow\" למספר שלם, וזה לא תקין.<br>\n",
        "    כדאי להסתכל גם על סוג החריגה (<var>ValueError</var>) כדי לקבל מושג כללי על היצור שאנחנו מתעסקים איתו.\n",
        "</p>"
      ]
    },
    {
      "cell_type": "markdown",
      "metadata": {
        "id": "cA99wNloGXoK"
      },
      "source": [
        "<p style=\"text-align: right; direction: rtl; float: right; clear: both;\">\n",
        "    נמשיך ל־Traceback.<br>\n",
        "    בפסקה שמעל השורה שבה מוצגת הודעת השגיאה, נסתכל על שורת הקוד שגרמה להתרעה על חריגה: <code>return int(a) // int(b)</code>.<br>\n",
        "    בשלב זה יש בידינו די נתונים לצורך פענוח ההתרעה על החריגה: ניסינו לבצע המרה לא חוקית של המחרוזת \"meow\" למספר שלם בשורה 2.\n",
        "</p>"
      ]
    },
    {
      "cell_type": "markdown",
      "metadata": {
        "id": "VEx3_UDtGXoL"
      },
      "source": [
        "<p style=\"text-align: right; direction: rtl; float: right; clear: both;\">\n",
        "    אם עדיין לא נחה דעתכם וקשה לכם להבין מאיפה הגיעה ההתרעה על החריגה, תוכלו להמשיך ולטפס במעלה ה־Traceback.<br>\n",
        "    נעבור לקוד שגרם לשורה <code dir=\"ltr\">return int(a) // int(b)</code> לרוץ: <code dir=\"ltr\">division(\"meow\", 5)</code>.<br>\n",
        "    נוכל לראות שהקוד הזה מעביר לפרמטר הראשון של הפונקציה <var>division</var> את הערך \"meow\", שאותו היא מנסה להמיר למספר שלם.<br>\n",
        "    עכשיו ברור לחלוטין מאיפה מגיעה ההתרעה על החריגה.\n",
        "</p>"
      ]
    },
    {
      "cell_type": "markdown",
      "metadata": {
        "id": "U3gqtLZ4GXoL"
      },
      "source": [
        "## <span style=\"text-align: right; direction: rtl; float: right; clear: both;\">טיפול בחריגות</span>"
      ]
    },
    {
      "cell_type": "markdown",
      "metadata": {
        "id": "soHZlpjUGXoL"
      },
      "source": [
        "### <span style=\"text-align: right; direction: rtl; float: right; clear: both;\">הרעיון</span>"
      ]
    },
    {
      "cell_type": "markdown",
      "metadata": {
        "id": "KhdWVc3XGXoL"
      },
      "source": [
        "<p style=\"text-align: right; direction: rtl; float: right; clear: both;\">\n",
        "    לפעמים אנחנו יודעים מראש על שורת קוד שכתבנו שעלולה לגרום להתרעה על חריגה.\n",
        "</p>"
      ]
    },
    {
      "cell_type": "markdown",
      "metadata": {
        "id": "wS4Xb30uGXoL"
      },
      "source": [
        "<p style=\"text-align: right; direction: rtl; float: right; clear: both;\">\n",
        "    פתיחת קובץ לקריאה, לדוגמה, עלולה להיכשל אם הנתיב לקובץ לא קיים במחשב.<br>\n",
        "    נכתוב פונקציה שמקבלת נתיב לקובץ ומחזירה את התוכן שלו כדי להדגים את הרעיון:\n",
        "</p>"
      ]
    },
    {
      "cell_type": "code",
      "execution_count": 9,
      "metadata": {
        "id": "o9tjs6dPGXoL"
      },
      "outputs": [],
      "source": [
        "def get_file_content(filepath):\n",
        "    with open(filepath) as file_handler:\n",
        "        return file_handler.read()"
      ]
    },
    {
      "cell_type": "markdown",
      "metadata": {
        "id": "_UPf8RsRGXoM"
      },
      "source": [
        "<p style=\"text-align: right; direction: rtl; float: right; clear: both;\">\n",
        "    ננסה לאחזר את התוכן של הקובץ castle.txt:\n",
        "</p>"
      ]
    },
    {
      "cell_type": "code",
      "execution_count": 10,
      "metadata": {
        "id": "UoaSNqp3GXoM",
        "outputId": "1616f23d-b203-4bc4-ee9a-d631a495d532",
        "colab": {
          "base_uri": "https://localhost:8080/",
          "height": 228
        }
      },
      "outputs": [
        {
          "output_type": "error",
          "ename": "FileNotFoundError",
          "evalue": "[Errno 2] No such file or directory: 'castle.txt'",
          "traceback": [
            "\u001b[0;31m---------------------------------------------------------------------------\u001b[0m",
            "\u001b[0;31mFileNotFoundError\u001b[0m                         Traceback (most recent call last)",
            "\u001b[0;32m<ipython-input-10-66f86b6246cd>\u001b[0m in \u001b[0;36m<cell line: 1>\u001b[0;34m()\u001b[0m\n\u001b[0;32m----> 1\u001b[0;31m \u001b[0mprincess_location\u001b[0m \u001b[0;34m=\u001b[0m \u001b[0mget_file_content\u001b[0m\u001b[0;34m(\u001b[0m\u001b[0;34m'castle.txt'\u001b[0m\u001b[0;34m)\u001b[0m\u001b[0;34m\u001b[0m\u001b[0;34m\u001b[0m\u001b[0m\n\u001b[0m",
            "\u001b[0;32m<ipython-input-9-c0ab85390b77>\u001b[0m in \u001b[0;36mget_file_content\u001b[0;34m(filepath)\u001b[0m\n\u001b[1;32m      1\u001b[0m \u001b[0;32mdef\u001b[0m \u001b[0mget_file_content\u001b[0m\u001b[0;34m(\u001b[0m\u001b[0mfilepath\u001b[0m\u001b[0;34m)\u001b[0m\u001b[0;34m:\u001b[0m\u001b[0;34m\u001b[0m\u001b[0;34m\u001b[0m\u001b[0m\n\u001b[0;32m----> 2\u001b[0;31m     \u001b[0;32mwith\u001b[0m \u001b[0mopen\u001b[0m\u001b[0;34m(\u001b[0m\u001b[0mfilepath\u001b[0m\u001b[0;34m)\u001b[0m \u001b[0;32mas\u001b[0m \u001b[0mfile_handler\u001b[0m\u001b[0;34m:\u001b[0m\u001b[0;34m\u001b[0m\u001b[0;34m\u001b[0m\u001b[0m\n\u001b[0m\u001b[1;32m      3\u001b[0m         \u001b[0;32mreturn\u001b[0m \u001b[0mfile_handler\u001b[0m\u001b[0;34m.\u001b[0m\u001b[0mread\u001b[0m\u001b[0;34m(\u001b[0m\u001b[0;34m)\u001b[0m\u001b[0;34m\u001b[0m\u001b[0;34m\u001b[0m\u001b[0m\n",
            "\u001b[0;31mFileNotFoundError\u001b[0m: [Errno 2] No such file or directory: 'castle.txt'"
          ]
        }
      ],
      "source": [
        "princess_location = get_file_content('castle.txt')"
      ]
    },
    {
      "cell_type": "markdown",
      "metadata": {
        "id": "D5_W0jpBGXoM"
      },
      "source": [
        "<p style=\"text-align: right; direction: rtl; float: right; clear: both;\">\n",
        "    במקרה שלמעלה ניסינו לפתוח קובץ שלא באמת קיים במחשב, ופייתון התריעה לנו על חריגת <var>FileNotFoundError</var>.<br>\n",
        "    מכאן, שהפונקציה <var>get_file_content</var> עשויה לגרום להתרעה על חריגה מסוג <var>FileNotFoundError</var> בכל פעם שיועבר לה נתיב שאינו קיים.<br>\n",
        "</p>"
      ]
    },
    {
      "cell_type": "markdown",
      "metadata": {
        "id": "ruVcrjKAGXoM"
      },
      "source": [
        "<p style=\"text-align: right; direction: rtl; float: right; clear: both;\">\n",
        "    כמתכנתים אחראים, חשוב לנו שהתוכנה לא תקרוס בכל פעם שהמשתמש מספק נתיב שגוי לקובץ.<br>\n",
        "    פייתון מאפשרת לנו להגדיר מראש כיצד לטפל במקרים שבהם אנחנו צופים שהיא תתריע על חריגה, ובכך למנוע את קריסת התוכנית.<br>\n",
        "    נעשה זאת בעזרת מילות המפתח <code>try</code> ו־<code>except</code>.<br>\n",
        "</p>"
      ]
    },
    {
      "cell_type": "markdown",
      "metadata": {
        "id": "z3rsw0UPGXoM"
      },
      "source": [
        "### <span style=\"text-align: right; direction: rtl; float: right; clear: both;\">התחביר הבסיסי</span>"
      ]
    },
    {
      "cell_type": "markdown",
      "metadata": {
        "id": "Je2R62TqGXoM"
      },
      "source": [
        "<p style=\"text-align: right; direction: rtl; float: right; clear: both;\">\n",
        "    לפני שנצלול לקוד, נבין מהו הרעיון הכללי של <code>try</code> ושל <code>except</code>.<br>\n",
        "    המטרה שלנו היא לספק התנהגות חלופית לקוד שעשוי להיכשל בגלל התרעה על חריגה מסוימת שחזינו שעשויה לקרות.\n",
        "</p>"
      ]
    },
    {
      "cell_type": "markdown",
      "metadata": {
        "id": "MAXu5OcjGXoM"
      },
      "source": [
        "<p style=\"text-align: right; direction: rtl; float: right; clear: both;\">    \n",
        "    שימוש ב־<code>try</code> וב־<code>except</code> בפייתון נראה פחות או יותר כך:\n",
        "</p>\n",
        "\n",
        "<ol style=\"text-align: right; direction: rtl; float: right; clear: both;\">\n",
        "    <li>נסה לבצע את שורות הקוד הבאות.</li>\n",
        "    <li>אם לא הצלחת כיוון שהייתה התרעה על חריגה מסוג <em>כך וכך</em>, בצע במקומן את השורות החלופיות הבאות.</li>\n",
        "</ol>"
      ]
    },
    {
      "cell_type": "markdown",
      "metadata": {
        "id": "1ucLvr8XGXoM"
      },
      "source": [
        "<p style=\"text-align: right; direction: rtl; float: right; clear: both;\">\n",
        "    נממש בקוד:\n",
        "</p>"
      ]
    },
    {
      "cell_type": "code",
      "execution_count": 11,
      "metadata": {
        "id": "71121GC5GXoM"
      },
      "outputs": [],
      "source": [
        "def get_file_content(filepath):\n",
        "    try:  # נסה לבצע את השורות הבאות\n",
        "        with open(filepath) as file_handler:\n",
        "            return file_handler.read()\n",
        "    except FileNotFoundError:  # ...אם נכשלת בגלל סוג החריגה הזה, נסה לבצע במקום\n",
        "        print(f\"Couldn't open the file: {filepath}.\")\n",
        "        return \"\""
      ]
    },
    {
      "cell_type": "markdown",
      "metadata": {
        "id": "kVrGk9qmGXoN"
      },
      "source": [
        "<p style=\"text-align: right; direction: rtl; float: right; clear: both;\">\n",
        "    וננסה לאחזר שוב את התוכן של הקובץ castle.txt:\n",
        "</p>"
      ]
    },
    {
      "cell_type": "code",
      "execution_count": 12,
      "metadata": {
        "id": "vzzOrlgsGXoN",
        "outputId": "e9a2630c-399f-4867-ea60-268a8046dc0f",
        "colab": {
          "base_uri": "https://localhost:8080/",
          "height": 53
        }
      },
      "outputs": [
        {
          "output_type": "stream",
          "name": "stdout",
          "text": [
            "Couldn't open the file: castle.txt.\n"
          ]
        },
        {
          "output_type": "execute_result",
          "data": {
            "text/plain": [
              "''"
            ],
            "application/vnd.google.colaboratory.intrinsic+json": {
              "type": "string"
            }
          },
          "metadata": {},
          "execution_count": 12
        }
      ],
      "source": [
        "princess_location = get_file_content(\"castle.txt\")\n",
        "princess_location"
      ]
    },
    {
      "cell_type": "markdown",
      "metadata": {
        "id": "fuL3jYyDGXoN"
      },
      "source": [
        "<p style=\"text-align: right; direction: rtl; float: right; clear: both;\">\n",
        "    כפי שאפשר לראות בדוגמה, הפונקציה לא התריעה על חריגת <var>FileNotFoundError</var>, אלא הדפיסה לנו הודעה והחזירה מחרוזת ריקה.<br>\n",
        "    זה קרה כיוון שעטפנו את הקוד שעלול להתריע על חריגה ב־<code>try</code>,\n",
        "    והגדרנו לפייתון בתוך ה־<code>except</code> מה לבצע במקרה של כישלון.\n",
        "</p>"
      ]
    },
    {
      "cell_type": "markdown",
      "metadata": {
        "id": "bT0WBbljGXoN"
      },
      "source": [
        "<p style=\"text-align: right; direction: rtl; float: right; clear: both;\">\n",
        "    התחביר של <code>try</code> ... <code>except</code> הוא כדלהלן:<br>\n",
        "</p>\n",
        "\n",
        "<ol style=\"text-align: right; direction: rtl; float: right; clear: both;\">\n",
        "    <li>נתחיל עם שורה שבה כתוב אך ורק <code dir=\"ltr\">try:</code>.</li>\n",
        "    <li>בהזחה, נכתוב את כל מה שאנחנו רוצים לנסות לבצע ועלול לגרום להתרעה על חריגה.</li>\n",
        "    <li>בשורה הבאה, נצא מההזחה ונכתוב <code dir=\"ltr\">except ExceptionType:</code>, כאשר <var>ExceptionType</var> הוא סוג החריגה שנרצה לתפוס.</li>\n",
        "    <li>בהזחה (שוב), נכתוב קוד שנרצה לבצע אם פייתון התריעה על חריגה מסוג <var>ExceptionType</var> בזמן שהקוד המוזח תחת ה־<code>try</code> רץ.</li>\n",
        "</ol>"
      ]
    },
    {
      "cell_type": "markdown",
      "metadata": {
        "id": "XcmF7ObWGXoN"
      },
      "source": [
        "<figure>\n",
        "    <img src=\"https://github.com/PythonFreeCourse/Notebooks/blob/main/content/week08/images/try_except_syntax.svg?v=2&raw=1\" style=\"width: 800px; margin-right: auto; margin-left: auto; text-align: center;\" alt=\"בתמונה יש את הקוד מהדוגמה האחרונה, שלידו כתוב בעברית מה כל חלק עושה. ליד ה־try כתוב 'נסה לבצע...'. ליד שתי השורות המוזחות בתוכו כתוב 'קוד שעשוי לגרום להתרעה על חריגה'. ליד ה־except FileNotFoundError כתוב 'אם הייתה התרעה על חריגה מסוג FileNotFoundError', וליד הקוד המוזח בתוכו כתוב בצע במקום את הפעולות הבאות. הכתוביות מופיעות משמאל לקוד, ולידן קו שמסמן לאיזה חלק בקוד הן שייכות.\"/>\n",
        "    <figcaption style=\"margin-top: 2rem; text-align: center; direction: rtl;\">\n",
        "        התחביר של <code>try</code> ... <code>except</code>\n",
        "    </figcaption>\n",
        "</figure>"
      ]
    },
    {
      "cell_type": "markdown",
      "metadata": {
        "id": "GOQFcdKdGXoN"
      },
      "source": [
        "<p style=\"text-align: right; direction: rtl; float: right; clear: both;\">\n",
        "    השורות שב־<code>try</code> ירוצו כרגיל.<br>\n",
        "    אם לא תהיה התרעה על חריגה, פייתון תתעלם ממה שכתוב בתוך ה־<code>except</code>.<br>\n",
        "    אם אחת השורות בתוך ה־<code>try</code> גרמה להתרעה על חריגה מהסוג שכתוב בשורת ה־<code>except</code>,<br>\n",
        "    פייתון תפסיק מייד לבצע את הקוד שכתוב ב־<code>try</code>, ותעבור להריץ את הקוד המוזח בתוך ה־<code>except</code>.<br>\n",
        "</p>"
      ]
    },
    {
      "cell_type": "markdown",
      "metadata": {
        "id": "TZwQT4EpGXoN"
      },
      "source": [
        "<p style=\"text-align: right; direction: rtl; float: right; clear: both;\">\n",
        "    ניקח את דוגמת הקוד שלמעלה, וננסה להבין כיצד פייתון קוראת אותה.<br>\n",
        "    פייתון תתחיל בהרצת השורה <code dir=\"ltr\">with open(\"castle.txt\") as file_handler:</code> ותתריע על חריגה, משום שהקובץ castle.txt לא נמצא.<br>\n",
        "    כיוון שהחריגה היא מסוג <code>FileNotFoundError</code>, היא תחפש את המילים <code dir=\"ltr\">except FileNotFoundError:</code> מייד בסיום ההזחה.<br>\n",
        "    הביטוי הזה קיים בדוגמה שלנו, ולכן פייתון תבצע את מה שכתוב בהזחה שאחריו במקום להתריע על חריגה.\n",
        "</p>"
      ]
    },
    {
      "cell_type": "markdown",
      "metadata": {
        "id": "lJwTkGhiGXoO"
      },
      "source": [
        "<figure>\n",
        "    <img src=\"https://github.com/PythonFreeCourse/Notebooks/blob/main/content/week08/images/try_except_flow.svg?v=1&raw=1\" style=\"width: 700px; margin-right: auto; margin-left: auto; text-align: center;\" alt=\"בתמונה יש תרשים זרימה המציג כיצד פייתון קוראת את הקוד במבנה try-except. התרשים בסגנון קומיקסי עם אימוג'ים. החץ ממנו נכנסים לתרשים הוא 'התחל ב־try' עם סמלון של דגל מרוצים, שמוביל לעיגול שבו כתוב 'הרץ את השורה המוזחת הבאה בתוך ה־try'. מתוך עיגול זה יש חץ לעצמו, שבו כתוב 'אין התראה על חריגה' עם סמלון של וי ירוק, וחץ נוסף שבו כתוב 'אין שורות נוספות ב־try' עם סמלון של דגל מרוצים. החץ האחרון מוביל לעיגול ללא מוצא שבו כתוב 'סיימנו! המשך לקוד שאחרי ה־try וה־except'. מהעיגול הראשון יוצא גם חץ שעליו כתוב 'התרעה על חריגה' עם סמלון של פיצוץ, ומוביל לעיגול שבו כתוב 'חפש except עם סוג החריגה'. מעיגול זה יוצאים שני חצים: הראשון 'לא קיים', עם סמלון של איקס אדום שמוביל לעיגול ללא מוצא בו כתוב 'זרוק התרעה על חריגה'. השני 'קיים' עם סמלון של וי ירוק שמוביל לעיגול 'הרץ את השורות המוזחות בתוך ה־except'. מעיגול זה עצמו יוצא חץ לעיגול עליו סופר מקודם, 'סיימנו! המשך לקוד שאחרי ה־try וה־except' שתואר קודם.\"/>\n",
        "    <figcaption style=\"margin-top: 2rem; text-align: center; direction: rtl;\">\n",
        "        תרשים זרימה המציג כיצד פייתון קוראת את הקוד במבנה <code>try</code> ... <code>except</code>\n",
        "    </figcaption>\n",
        "</figure>"
      ]
    },
    {
      "cell_type": "markdown",
      "metadata": {
        "id": "Hje4foGKGXoO"
      },
      "source": [
        "<p style=\"text-align: right; direction: rtl; float: right; clear: both;\">\n",
        "    היכולת החדשה שקיבלנו נקראת \"<dfn>לתפוס חריגות</dfn>\", או \"<dfn>לטפל בחריגות</dfn>\".<br>\n",
        "    היא מאפשרת לנו לתכנן קוד שיגיב לבעיות שעלולות להתעורר במהלך ריצת הקוד שלנו.\n",
        "</p>"
      ]
    },
    {
      "cell_type": "markdown",
      "metadata": {
        "id": "u9cZBbRlGXoO"
      },
      "source": [
        "<div class=\"align-center\" style=\"display: flex; text-align: right; direction: rtl; clear: both;\">\n",
        "    <div style=\"display: flex; width: 10%; float: right; clear: both;\">\n",
        "        <img src=\"https://github.com/PythonFreeCourse/Notebooks/blob/main/content/week08/images/exercise.svg?raw=1\" style=\"height: 50px !important;\" alt=\"תרגול\">\n",
        "    </div>\n",
        "    <div style=\"width: 70%\">\n",
        "        <p style=\"text-align: right; direction: rtl; float: right; clear: both;\">\n",
        "            כתבו פונקציה שמקבלת שני מספרים, ומחלקת את המספר הראשון בשני.<br>\n",
        "            אם המספר השני הוא אפס, החזירו <samp>0</samp> בתור התוצאה.<br>\n",
        "            השתמשו בחריגות.\n",
        "        </p>\n",
        "    </div>\n",
        "    <div style=\"display: flex; width: 20%; border-right: 0.1rem solid #A5A5A5; padding: 1rem 2rem;\">\n",
        "        <p style=\"text-align: center; direction: rtl; justify-content: center; align-items: center; clear: both;\">\n",
        "            <strong>חשוב!</strong><br>\n",
        "            פתרו לפני שתמשיכו!\n",
        "        </p>\n",
        "    </div>\n",
        "</div>"
      ]
    },
    {
      "cell_type": "code",
      "source": [
        "def safe_div(a, b):\n",
        "  try:\n",
        "    return a // b\n",
        "  except ZeroDivisionError:\n",
        "    return 0\n"
      ],
      "metadata": {
        "id": "CCNLbL52Ig8V"
      },
      "execution_count": 13,
      "outputs": []
    },
    {
      "cell_type": "code",
      "source": [
        "print(safe_div(8, 5))\n",
        "safe_div(8, 0)"
      ],
      "metadata": {
        "id": "0zwIwLYrI59L",
        "outputId": "ee6c089a-fcba-4846-e2bb-144a7326755f",
        "colab": {
          "base_uri": "https://localhost:8080/"
        }
      },
      "execution_count": 14,
      "outputs": [
        {
          "output_type": "stream",
          "name": "stdout",
          "text": [
            "1\n"
          ]
        },
        {
          "output_type": "execute_result",
          "data": {
            "text/plain": [
              "0"
            ]
          },
          "metadata": {},
          "execution_count": 14
        }
      ]
    },
    {
      "cell_type": "markdown",
      "metadata": {
        "id": "PspxpxwnGXoO"
      },
      "source": [
        "### <span style=\"text-align: right; direction: rtl; float: right; clear: both;\">סוגים מרובים של חריגות</span>"
      ]
    },
    {
      "cell_type": "markdown",
      "metadata": {
        "id": "6cC3XyplGXoO"
      },
      "source": [
        "<p style=\"text-align: right; direction: rtl; float: right; clear: both;\">\n",
        "    משתמשים פרחחים במיוחד לא יעצרו כאן.<br>\n",
        "    הפונקציה <var>get_file_content</var> מוגנת מניסיון לאחזר קבצים לא קיימים, זה נכון,<br>\n",
        "    אך משתמש שובב מהרגיל עשוי לנסות להעביר לפונקציה מחרוזות עם תווים שאסור לנתיבים להכיל:\n",
        "</p>"
      ]
    },
    {
      "cell_type": "code",
      "execution_count": 18,
      "metadata": {
        "id": "NVqEFRLNGXoO",
        "outputId": "1a17faf4-0c1c-4acd-b444-54bbe5579147",
        "colab": {
          "base_uri": "https://localhost:8080/"
        }
      },
      "outputs": [
        {
          "output_type": "stream",
          "name": "stdout",
          "text": [
            "Couldn't open the file: ?.\n"
          ]
        }
      ],
      "source": [
        "princess_location = get_file_content(\"?\")"
      ]
    },
    {
      "cell_type": "markdown",
      "metadata": {
        "id": "SWMRPlFIGXoO"
      },
      "source": [
        "<p style=\"text-align: right; direction: rtl; float: right; clear: both;\">\n",
        "    נביט בחריגה ובקוד המקורי, ונגלה שבאמת לא ביקשנו לתפוס בשום מקום חריגה מסוג <var>OSError</var>.\n",
        "</p>"
      ]
    },
    {
      "cell_type": "code",
      "execution_count": 16,
      "metadata": {
        "id": "Ja8F2U6ZGXoO"
      },
      "outputs": [],
      "source": [
        "def get_file_content(filepath):\n",
        "    try:\n",
        "        with open(filepath) as file_handler:\n",
        "            return file_handler.read()\n",
        "    except FileNotFoundError:\n",
        "        print(f\"Couldn't open the file: {filepath}.\")\n",
        "        return \"\""
      ]
    },
    {
      "cell_type": "markdown",
      "metadata": {
        "id": "yFYPY2iAGXoP"
      },
      "source": [
        "<p style=\"text-align: right; direction: rtl; float: right; clear: both;\">\n",
        "    מכאן, נוכל לבחור לתקן את הקוד באחת משתי דרכים.\n",
        "</p>"
      ]
    },
    {
      "cell_type": "markdown",
      "metadata": {
        "id": "nvuM-ivbGXoP"
      },
      "source": [
        "<p style=\"text-align: right; direction: rtl; float: right; clear: both;\">\n",
        "    הדרך הראשונה היא להשתמש בקוד שכבר יצרנו לטיפול בחריגות מסוג <var>FileNotFoundError</var>.<br>\n",
        "    במקרה כזה, נצטרך לשנות את מה שכתוב אחרי ה־<code>except</code> ל־tuple שאיבריו הם כל סוגי השגיאות שבהן נרצה לטפל:\n",
        "</p>"
      ]
    },
    {
      "cell_type": "code",
      "execution_count": 19,
      "metadata": {
        "id": "lTbMFkmTGXoP"
      },
      "outputs": [],
      "source": [
        "def get_file_content(filepath):\n",
        "    try:\n",
        "        with open(filepath) as file_handler:\n",
        "            return file_handler.read()\n",
        "    except (FileNotFoundError, OSError):\n",
        "        print(f\"Couldn't open the file: {filepath}.\")\n",
        "        return \"\""
      ]
    },
    {
      "cell_type": "markdown",
      "metadata": {
        "id": "n2hUaCYOGXoP"
      },
      "source": [
        "<p style=\"text-align: right; direction: rtl; float: right; clear: both;\">\n",
        "    בקוד שלמעלה גרמנו לכך, שהן חריגות מסוג <var>FileNotFoundError</var> והן חריגות מסוג <var>OSError</var> יטופלו באותה הצורה.\n",
        "</p>"
      ]
    },
    {
      "cell_type": "markdown",
      "metadata": {
        "id": "smEYbGISGXoP"
      },
      "source": [
        "<p style=\"text-align: right; direction: rtl; float: right; clear: both;\">\n",
        "    אבל מה אם נרצה שחריגות <var>OSError</var> תטופלנה בצורה שונה מחריגות <var>FileNotFoundError</var>?<br>\n",
        "    במקרה הזה נפנה לדרך השנייה, שמימושה פשוט למדי – נוסף לקוד הקיים, נכתוב פסקת קוד חדשה שעושה שימוש ב־<code>except</code>:\n",
        "</p>"
      ]
    },
    {
      "cell_type": "code",
      "execution_count": 20,
      "metadata": {
        "id": "tt82WOElGXoP"
      },
      "outputs": [],
      "source": [
        "def get_file_content(filepath):\n",
        "    try:\n",
        "        with open(filepath) as file_handler:\n",
        "            return file_handler.read()\n",
        "    except FileNotFoundError:\n",
        "        print(f\"Couldn't open the file: {filepath}.\")\n",
        "        return \"\"\n",
        "    except OSError:\n",
        "        print(f\"The path '{filepath}' is invalid.\")\n",
        "        return \"\""
      ]
    },
    {
      "cell_type": "markdown",
      "metadata": {
        "id": "NigrTvd6GXoP"
      },
      "source": [
        "<p style=\"text-align: right; direction: rtl; float: right; clear: both;\">\n",
        "    בקוד שלמעלה הוספנו ל־<var>get_file_content</var> קטע קוד נוסף.<br>\n",
        "    ה־<code>except</code> שהוספנו מאפשר לפייתון לטפל בחריגות מסוג <var>OSError</var>, כמו החריגה שקפצה לנו כשהכנסנו תווים בלתי חוקיים לנתיב הקובץ.<br>\n",
        "    נראה את הקוד בפעולה:\n",
        "</p>"
      ]
    },
    {
      "cell_type": "code",
      "execution_count": 21,
      "metadata": {
        "id": "s-qUiz1HGXoP",
        "outputId": "ae481cbc-e59b-42fe-ff51-6b84fc410752",
        "colab": {
          "base_uri": "https://localhost:8080/",
          "height": 53
        }
      },
      "outputs": [
        {
          "output_type": "stream",
          "name": "stdout",
          "text": [
            "Couldn't open the file: ?.\n"
          ]
        },
        {
          "output_type": "execute_result",
          "data": {
            "text/plain": [
              "''"
            ],
            "application/vnd.google.colaboratory.intrinsic+json": {
              "type": "string"
            }
          },
          "metadata": {},
          "execution_count": 21
        }
      ],
      "source": [
        "princess_location = get_file_content(\"?\")\n",
        "princess_location"
      ]
    },
    {
      "cell_type": "markdown",
      "metadata": {
        "id": "tdCQqez7GXoQ"
      },
      "source": [
        "<p style=\"text-align: right; direction: rtl; float: right; clear: both;\">\n",
        "    לשמחתנו, אנחנו לא מוגבלים במספר ה־<code>except</code>־ים שאפשר להוסיף אחרי ה־<code>try</code>.\n",
        "</p>"
      ]
    },
    {
      "cell_type": "markdown",
      "metadata": {
        "id": "4wJp1paoGXoQ"
      },
      "source": [
        "### <span style=\"text-align: right; direction: rtl; float: right; clear: both;\">זיהוי סוג החריגה</span>"
      ]
    },
    {
      "cell_type": "markdown",
      "metadata": {
        "id": "6Xob0KoRGXoQ"
      },
      "source": [
        "<p style=\"text-align: right; direction: rtl; float: right; clear: both;\">\n",
        "    בכל פעם שפייתון מתריעה על חריגה, היא גם מציגה את הקטגוריה שאליה שייכת אותה חריגה.<br>\n",
        "    כפי שכבר ראינו, שגיאות תחביר שייכות לקטגוריה <var>SyntaxError</var>, וחריגות שנובעות מערך שגוי שייכות לקטגוריה <var>ValueError</var>.<br>\n",
        "    למדנו גם להכיר שגיאות <var>FileNotFoundError</var> ושגיאות <var>OSError</var>, וללא ספק נתקלתם בחריגות שונות ומשונות בעצמכם במהלך הקורס.\n",
        "</p>"
      ]
    },
    {
      "cell_type": "markdown",
      "metadata": {
        "id": "XIgZ_qrwGXoQ"
      },
      "source": [
        "<p style=\"text-align: right; direction: rtl; float: right; clear: both;\">\n",
        "    אפשר להגיד, אם כך, שבפייתון יש סוגים רבים של חריגות שהם חלק מהשפה.<br>\n",
        "    מרוב סוגי חריגות, לפעמים קל לאבד את הידיים והרגליים ונעשה לא פשוט להבין על איזו חריגה פייתון עשויה להתריע.\n",
        "</p>"
      ]
    },
    {
      "cell_type": "markdown",
      "metadata": {
        "id": "V7LVVkGVGXoQ"
      },
      "source": [
        "<p style=\"text-align: right; direction: rtl; float: right; clear: both;\">\n",
        "    נציע כמה דרכים מועילות להתמודד עם הבעיה, ולמצוא מהם סוגי החריגות שעשויים להיווצר בעקבות קוד שכתבתם:\n",
        "</p>"
      ]
    },
    {
      "cell_type": "markdown",
      "metadata": {
        "id": "FZhN-Y1nGXoQ"
      },
      "source": [
        "<ol style=\"text-align: right; direction: rtl; float: right; clear: both;\">\n",
        "    <li><em>תיעוד</em> – בשימוש בפונקציה או בפעולה מסוימת, קראו בתיעוד שלה על אילו חריגות עלולה פייתון להתריע בעקבות הפעלת הפונקציה או הפעולה.</li>\n",
        "    <li><em>חיפוש</em> – השתמשו במנוע חיפוש כדי לשאול אילו חריגות עלולות לקפוץ בעקבות פעולה כללית שביצעתם. נניח: <q>python exceptions read file</q>.</li>\n",
        "    <li><em>נסו בעצמכם</em> – אם ברצונכם לברר על סוג חריגה במקרה מסוים –  הריצו את המקרה במחברת ובדקו על איזה סוג חריגה פייתון מתריעה.</li>\n",
        "</ol>"
      ]
    },
    {
      "cell_type": "markdown",
      "metadata": {
        "id": "4oTLDsi-GXoQ"
      },
      "source": [
        "<p style=\"text-align: right; direction: rtl; float: right; clear: both;\">\n",
        "    לנוחיותכם, בתיעוד של פייתון ישנו עמוד שמסביר על <a href=\"https://docs.python.org/3/library/exceptions.html\">כל סוגי החריגות שפייתון מגדירה</a>.\n",
        "</p>"
      ]
    },
    {
      "cell_type": "markdown",
      "metadata": {
        "id": "QpShZoi6GXoQ"
      },
      "source": [
        "<div class=\"align-center\" style=\"display: flex; text-align: right; direction: rtl; clear: both;\">\n",
        "    <div style=\"display: flex; width: 10%; float: right; clear: both;\">\n",
        "        <img src=\"https://github.com/PythonFreeCourse/Notebooks/blob/main/content/week08/images/exercise.svg?raw=1\" style=\"height: 50px !important;\" alt=\"תרגול\">\n",
        "    </div>\n",
        "    <div style=\"width: 70%\">\n",
        "        <p style=\"text-align: right; direction: rtl; float: right; clear: both;\">\n",
        "            על איזה סוג חריגה תתריע פייתון כאשר ניגש לרשימה במיקום שאינו קיים?<br>\n",
        "            מה בנוגע לגישה לרשימה במיקום שהוא מחרוזת?<br>\n",
        "            מהן סוגי החריגות שעליהם עלולה פייתון להתריע בעקבות הרצת הפעולה <code>index</code> על רשימה?\n",
        "        </p>\n",
        "    </div>\n",
        "    <div style=\"display: flex; width: 20%; border-right: 0.1rem solid #A5A5A5; padding: 1rem 2rem;\">\n",
        "        <p style=\"text-align: center; direction: rtl; justify-content: center; align-items: center; clear: both;\">\n",
        "            <strong>חשוב!</strong><br>\n",
        "            פתרו לפני שתמשיכו!\n",
        "        </p>\n",
        "    </div>\n",
        "</div>"
      ]
    },
    {
      "cell_type": "markdown",
      "metadata": {
        "id": "QqzI7WKeGXoQ"
      },
      "source": [
        "### <span style=\"text-align: right; direction: rtl; float: right; clear: both;\">תרגיל ביניים: תוכנית החלוקה</span>"
      ]
    },
    {
      "cell_type": "markdown",
      "metadata": {
        "id": "oxNlTV83GXoQ"
      },
      "source": [
        "<p style=\"text-align: right; direction: rtl; float: right; clear: both;\">\n",
        "    כתבו פונקציה בשם <var>super_division</var> שמקבלת מספר בלתי מוגבל של פרמטרים מספריים.\n",
        "</p>"
      ]
    },
    {
      "cell_type": "markdown",
      "metadata": {
        "id": "NZMXBdeyGXoR"
      },
      "source": [
        "<p style=\"text-align: right; direction: rtl; float: right; clear: both;\">\n",
        "    הפונקציה תבצע חלוקה של המספר הראשון במספר השני.<br>\n",
        "    את התוצאה היא תחלק במספר השלישי לכדי תוצאה חדשה, את התוצאה החדשה היא תחלק במספר הרביעי וכן הלאה.<br>\n",
        "    לדוגמה: עבור הקריאה <code dir=\"ltr\">super_division(100, 10, 5, 2)</code> הפונקציה תחזיר 1, כיוון שתוצאת הביטוי $100 / 10 / 5 / 2$ היא 1.\n",
        "</p>"
      ]
    },
    {
      "cell_type": "markdown",
      "metadata": {
        "id": "_6TXPSuJGXoR"
      },
      "source": [
        "<p style=\"text-align: right; direction: rtl; float: right; clear: both;\">\n",
        "    עשו שימוש בטיפול בחריגות, ונסו לתפוס כמה שיותר מקרים של משתמשים שובבים.\n",
        "</p>"
      ]
    },
    {
      "cell_type": "code",
      "source": [
        "def div(*nums):\n",
        "\n",
        "  res = nums[0]\n",
        "  for i in range(1, len(nums)):\n",
        "    try:\n",
        "      res = res / nums[i]\n",
        "    except (ZeroDivisionError, ValueError, TypeError):\n",
        "      return 0\n",
        "  return res\n"
      ],
      "metadata": {
        "id": "Ut0glm2OJ051"
      },
      "execution_count": 46,
      "outputs": []
    },
    {
      "cell_type": "code",
      "source": [
        "print(div(1, 2))\n",
        "print(div(1, 'a'))\n",
        "print(div(1, 0))"
      ],
      "metadata": {
        "id": "oTizBpayKdUh",
        "outputId": "08e5c94f-4838-4bac-eec2-e51e3b0ab371",
        "colab": {
          "base_uri": "https://localhost:8080/"
        }
      },
      "execution_count": 47,
      "outputs": [
        {
          "output_type": "stream",
          "name": "stdout",
          "text": [
            "0.5\n",
            "0\n",
            "0\n"
          ]
        }
      ]
    },
    {
      "cell_type": "markdown",
      "metadata": {
        "id": "0jyxz4h5GXoR"
      },
      "source": [
        "### <span style=\"text-align: right; direction: rtl; float: right; clear: both;\">פעפוע של חריגות במעלה שרשרת הקריאות</span>"
      ]
    },
    {
      "cell_type": "markdown",
      "metadata": {
        "id": "jA9t2OmiGXoR"
      },
      "source": [
        "<p style=\"text-align: right; direction: rtl; float: right; clear: both;\">\n",
        "    התרעה על חריגה גורמת לריצת התוכנית להתנהג בצורה שונה מעט ממה שהכרנו עד כה.\n",
        "</p>"
      ]
    },
    {
      "cell_type": "markdown",
      "metadata": {
        "id": "6H70X-y0GXoR"
      },
      "source": [
        "<p style=\"text-align: right; direction: rtl; float: right; clear: both;\">\n",
        "    במהלך המחברת נתקלנו בשני מקרים אפשריים:\n",
        "</p>\n",
        "\n",
        "<ol style=\"text-align: right; direction: rtl; float: right; clear: both;\">\n",
        "    <li>או שהשורה שגרמה להתרעה על החריגה נמצאת ישירות תחת <code>try-except</code> שתואם לסוג החריגה, ואז החריגה נתפסת.</li>\n",
        "    <li>או שהשורה הזו אינה נמצאת ישירות תחת <code>try-except</code> ואז החריגה מקריסה את התוכנית. במקרה שכזה, מוצג לנו Traceback.</li>\n",
        "</ol>"
      ]
    },
    {
      "cell_type": "markdown",
      "metadata": {
        "id": "Jdk1JhQGGXoR"
      },
      "source": [
        "<p style=\"text-align: right; direction: rtl; float: right; clear: both;\">\n",
        "    אבל מתברר שהסיפור מאחורי הקלעים הוא מורכב מעט יותר.<br>\n",
        "    אם פונקציה מסוימת לא יודעת כיצד לטפל בהתרעה על חריגה, היא מבקשת עזרה מהפונקציה שקראה לה.<br>\n",
        "    זה קצת כמו לבקש סוכר מהשכנים, גרסת החריגות והפונקציות.\n",
        "</p>"
      ]
    },
    {
      "cell_type": "markdown",
      "metadata": {
        "id": "hhSDUveQGXoR"
      },
      "source": [
        "<p style=\"text-align: right; direction: rtl; float: right; clear: both;\">\n",
        "    נניח שבפונקציה <var>A</var> ישנה שורה שגרמה להתרעה על חריגה, והיא לא עטופה ב־<code>try-except</code>.<br>\n",
        "    לפני שהתוכנית תקרוס, ההתרעה על החריגה תִּשָּׁלַח לפונקציה הקוראת, <var>B</var>, זו שהפעילה את פונקציה <var>A</var> שבה התרחשה ההתרעה על החריגה.<br>\n",
        "    בשלב הזה פייתון נותנת לנו הזדמנות נוספת לתפוס את החריגה.<br>\n",
        "    אם בתוך פונקציה <var>B</var> השורה שקראה לפונקציה <var>A</var> עטופה ב־<code>try-except</code> שתופס את סוג החריגה הנכונה, החריגה תטופל.<br>\n",
        "    אם לא, החריגה תועבר לפונקציה <var>C</var> שקראה לפונקציה <var>B</var>, וכך הלאה, עד שנגיע לראש שרשרת הקריאות.<br>\n",
        "    אם אף אחד במעלה שרשרת הקריאות לא תפס את החריגה, התוכנית תקרוס ויוצג לנו Traceback.\n",
        "</p>"
      ]
    },
    {
      "cell_type": "markdown",
      "metadata": {
        "id": "rRcw8S4eGXoR"
      },
      "source": [
        "<p style=\"text-align: right; direction: rtl; float: right; clear: both;\">\n",
        "    ננסה להדגים באמצעות קטע קוד לא מתוחכם במיוחד.<br>\n",
        "    הנה האפשרות השנייה שדיברנו עליה – אף אחד בשרשרת הקריאות לא תופס את החריגה, התוכנה קורסת ומודפס Traceback:\n",
        "</p>"
      ]
    },
    {
      "cell_type": "code",
      "execution_count": 48,
      "metadata": {
        "id": "_wXWVx2lGXoR",
        "outputId": "167eeeb6-cb51-4bf0-b3d8-5264a903cc3d",
        "colab": {
          "base_uri": "https://localhost:8080/",
          "height": 425
        }
      },
      "outputs": [
        {
          "output_type": "stream",
          "name": "stdout",
          "text": [
            "Start.\n",
            "Calling c...\n",
            "Calling b...\n",
            "Calling a...\n",
            "Dividing by zero...\n"
          ]
        },
        {
          "output_type": "error",
          "ename": "ZeroDivisionError",
          "evalue": "division by zero",
          "traceback": [
            "\u001b[0;31m---------------------------------------------------------------------------\u001b[0m",
            "\u001b[0;31mZeroDivisionError\u001b[0m                         Traceback (most recent call last)",
            "\u001b[0;32m<ipython-input-48-5c4354a4da4c>\u001b[0m in \u001b[0;36m<cell line: 21>\u001b[0;34m()\u001b[0m\n\u001b[1;32m     19\u001b[0m \u001b[0mprint\u001b[0m\u001b[0;34m(\u001b[0m\u001b[0;34m\"Start.\"\u001b[0m\u001b[0;34m)\u001b[0m\u001b[0;34m\u001b[0m\u001b[0;34m\u001b[0m\u001b[0m\n\u001b[1;32m     20\u001b[0m \u001b[0mprint\u001b[0m\u001b[0;34m(\u001b[0m\u001b[0;34m\"Calling c...\"\u001b[0m\u001b[0;34m)\u001b[0m\u001b[0;34m\u001b[0m\u001b[0;34m\u001b[0m\u001b[0m\n\u001b[0;32m---> 21\u001b[0;31m \u001b[0mc\u001b[0m\u001b[0;34m(\u001b[0m\u001b[0;34m)\u001b[0m\u001b[0;34m\u001b[0m\u001b[0;34m\u001b[0m\u001b[0m\n\u001b[0m\u001b[1;32m     22\u001b[0m \u001b[0mprint\u001b[0m\u001b[0;34m(\u001b[0m\u001b[0;34m\"Stop.\"\u001b[0m\u001b[0;34m)\u001b[0m\u001b[0;34m\u001b[0m\u001b[0;34m\u001b[0m\u001b[0m\n",
            "\u001b[0;32m<ipython-input-48-5c4354a4da4c>\u001b[0m in \u001b[0;36mc\u001b[0;34m()\u001b[0m\n\u001b[1;32m     13\u001b[0m \u001b[0;32mdef\u001b[0m \u001b[0mc\u001b[0m\u001b[0;34m(\u001b[0m\u001b[0;34m)\u001b[0m\u001b[0;34m:\u001b[0m\u001b[0;34m\u001b[0m\u001b[0;34m\u001b[0m\u001b[0m\n\u001b[1;32m     14\u001b[0m     \u001b[0mprint\u001b[0m\u001b[0;34m(\u001b[0m\u001b[0;34m\"Calling b...\"\u001b[0m\u001b[0;34m)\u001b[0m\u001b[0;34m\u001b[0m\u001b[0;34m\u001b[0m\u001b[0m\n\u001b[0;32m---> 15\u001b[0;31m     \u001b[0mb\u001b[0m\u001b[0;34m(\u001b[0m\u001b[0;34m)\u001b[0m\u001b[0;34m\u001b[0m\u001b[0;34m\u001b[0m\u001b[0m\n\u001b[0m\u001b[1;32m     16\u001b[0m     \u001b[0mprint\u001b[0m\u001b[0;34m(\u001b[0m\u001b[0;34m\"End of c.\"\u001b[0m\u001b[0;34m)\u001b[0m\u001b[0;34m\u001b[0m\u001b[0;34m\u001b[0m\u001b[0m\n\u001b[1;32m     17\u001b[0m \u001b[0;34m\u001b[0m\u001b[0m\n",
            "\u001b[0;32m<ipython-input-48-5c4354a4da4c>\u001b[0m in \u001b[0;36mb\u001b[0;34m()\u001b[0m\n\u001b[1;32m      7\u001b[0m \u001b[0;32mdef\u001b[0m \u001b[0mb\u001b[0m\u001b[0;34m(\u001b[0m\u001b[0;34m)\u001b[0m\u001b[0;34m:\u001b[0m\u001b[0;34m\u001b[0m\u001b[0;34m\u001b[0m\u001b[0m\n\u001b[1;32m      8\u001b[0m     \u001b[0mprint\u001b[0m\u001b[0;34m(\u001b[0m\u001b[0;34m\"Calling a...\"\u001b[0m\u001b[0;34m)\u001b[0m\u001b[0;34m\u001b[0m\u001b[0;34m\u001b[0m\u001b[0m\n\u001b[0;32m----> 9\u001b[0;31m     \u001b[0ma\u001b[0m\u001b[0;34m(\u001b[0m\u001b[0;34m)\u001b[0m\u001b[0;34m\u001b[0m\u001b[0;34m\u001b[0m\u001b[0m\n\u001b[0m\u001b[1;32m     10\u001b[0m     \u001b[0mprint\u001b[0m\u001b[0;34m(\u001b[0m\u001b[0;34m\"End of b.\"\u001b[0m\u001b[0;34m)\u001b[0m\u001b[0;34m\u001b[0m\u001b[0;34m\u001b[0m\u001b[0m\n\u001b[1;32m     11\u001b[0m \u001b[0;34m\u001b[0m\u001b[0m\n",
            "\u001b[0;32m<ipython-input-48-5c4354a4da4c>\u001b[0m in \u001b[0;36ma\u001b[0;34m()\u001b[0m\n\u001b[1;32m      1\u001b[0m \u001b[0;32mdef\u001b[0m \u001b[0ma\u001b[0m\u001b[0;34m(\u001b[0m\u001b[0;34m)\u001b[0m\u001b[0;34m:\u001b[0m\u001b[0;34m\u001b[0m\u001b[0;34m\u001b[0m\u001b[0m\n\u001b[1;32m      2\u001b[0m     \u001b[0mprint\u001b[0m\u001b[0;34m(\u001b[0m\u001b[0;34m\"Dividing by zero...\"\u001b[0m\u001b[0;34m)\u001b[0m\u001b[0;34m\u001b[0m\u001b[0;34m\u001b[0m\u001b[0m\n\u001b[0;32m----> 3\u001b[0;31m     \u001b[0;32mreturn\u001b[0m \u001b[0;36m1\u001b[0m \u001b[0;34m/\u001b[0m \u001b[0;36m0\u001b[0m\u001b[0;34m\u001b[0m\u001b[0;34m\u001b[0m\u001b[0m\n\u001b[0m\u001b[1;32m      4\u001b[0m     \u001b[0mprint\u001b[0m\u001b[0;34m(\u001b[0m\u001b[0;34m\"End of a.\"\u001b[0m\u001b[0;34m)\u001b[0m\u001b[0;34m\u001b[0m\u001b[0;34m\u001b[0m\u001b[0m\n\u001b[1;32m      5\u001b[0m \u001b[0;34m\u001b[0m\u001b[0m\n",
            "\u001b[0;31mZeroDivisionError\u001b[0m: division by zero"
          ]
        }
      ],
      "source": [
        "def a():\n",
        "    print(\"Dividing by zero...\")\n",
        "    return 1 / 0\n",
        "    print(\"End of a.\")\n",
        "\n",
        "\n",
        "def b():\n",
        "    print(\"Calling a...\")\n",
        "    a()\n",
        "    print(\"End of b.\")\n",
        "\n",
        "\n",
        "def c():\n",
        "    print(\"Calling b...\")\n",
        "    b()\n",
        "    print(\"End of c.\")\n",
        "\n",
        "\n",
        "print(\"Start.\")\n",
        "print(\"Calling c...\")\n",
        "c()\n",
        "print(\"Stop.\")"
      ]
    },
    {
      "cell_type": "markdown",
      "metadata": {
        "id": "qkWh_gejGXoR"
      },
      "source": [
        "<p style=\"text-align: right; direction: rtl; float: right; clear: both;\">\n",
        "    והנה דוגמה לאפשרות הראשונה – שבה אנחנו תופסים את החריגה מייד כשהיא מתרחשת:\n",
        "</p>"
      ]
    },
    {
      "cell_type": "code",
      "execution_count": 49,
      "metadata": {
        "id": "E4kipb7sGXoS",
        "outputId": "8485afff-9764-4454-e24e-c2e34a242587",
        "colab": {
          "base_uri": "https://localhost:8080/"
        }
      },
      "outputs": [
        {
          "output_type": "stream",
          "name": "stdout",
          "text": [
            "Start.\n",
            "Calling c...\n",
            "Calling b...\n",
            "Calling a...\n",
            "Dividing by zero...\n",
            "Never Dare Anyone to Divide By Zero!\n",
            "https://reddit.com/2rkuek/\n",
            "End of a.\n",
            "End of b.\n",
            "End of c.\n",
            "Stop.\n"
          ]
        }
      ],
      "source": [
        "def a():\n",
        "    print(\"Dividing by zero...\")\n",
        "    try:\n",
        "        return 1 / 0\n",
        "    except ZeroDivisionError:\n",
        "        print(\"Never Dare Anyone to Divide By Zero!\")\n",
        "        print(\"https://reddit.com/2rkuek/\")\n",
        "    print(\"End of a.\")\n",
        "\n",
        "\n",
        "def b():\n",
        "    print(\"Calling a...\")\n",
        "    a()\n",
        "    print(\"End of b.\")\n",
        "\n",
        "\n",
        "def c():\n",
        "    print(\"Calling b...\")\n",
        "    b()\n",
        "    print(\"End of c.\")\n",
        "\n",
        "\n",
        "print(\"Start.\")\n",
        "print(\"Calling c...\")\n",
        "c()\n",
        "print(\"Stop.\")"
      ]
    },
    {
      "cell_type": "markdown",
      "metadata": {
        "id": "iCr64eYvGXoS"
      },
      "source": [
        "<p style=\"text-align: right; direction: rtl; float: right; clear: both;\">\n",
        "    האפשרות המעניינת היא האפשרות השלישית.<br>\n",
        "    מה קורה אם מישהו במעלה שרשרת הקריאות, נניח הפונקציה <var>c</var>, היא זו שמחליטה לתפוס את החריגה:\n",
        "</p>"
      ]
    },
    {
      "cell_type": "code",
      "execution_count": 50,
      "metadata": {
        "id": "PG9sPcYRGXoS",
        "outputId": "883f979a-7f39-418e-e9b0-9b02726c3ee2",
        "colab": {
          "base_uri": "https://localhost:8080/"
        }
      },
      "outputs": [
        {
          "output_type": "stream",
          "name": "stdout",
          "text": [
            "Start.\n",
            "Calling c...\n",
            "Calling b...\n",
            "Calling a...\n",
            "Dividing by zero...\n",
            "Never Dare Anyone to Divide By Zero!\n",
            "https://reddit.com/2rkuek/\n",
            "End of c.\n",
            "Stop.\n"
          ]
        }
      ],
      "source": [
        "def a():\n",
        "    print(\"Dividing by zero...\")\n",
        "    return 1 / 0\n",
        "    print(\"End of a.\")\n",
        "\n",
        "\n",
        "def b():\n",
        "    print(\"Calling a...\")\n",
        "    a()\n",
        "    print(\"End of b.\")\n",
        "\n",
        "\n",
        "def c():\n",
        "    print(\"Calling b...\")\n",
        "    try:\n",
        "        b()\n",
        "    except ZeroDivisionError:\n",
        "        print(\"Never Dare Anyone to Divide By Zero!\")\n",
        "        print(\"https://reddit.com/2rkuek/\")\n",
        "    print(\"End of c.\")\n",
        "\n",
        "\n",
        "print(\"Start.\")\n",
        "print(\"Calling c...\")\n",
        "c()\n",
        "print(\"Stop.\")"
      ]
    },
    {
      "cell_type": "markdown",
      "metadata": {
        "id": "loYuoyCQGXoT"
      },
      "source": [
        "<p style=\"text-align: right; direction: rtl; float: right; clear: both;\">\n",
        "    שימו לב שבמקרה הזה דילגנו על השורות שמדפיסות את ההודעה על סיום ריצתן של הפונקציות <var>a</var> ו־<var>b</var>.<br>\n",
        "    בשורה מספר 3 התבצעה חלוקה לא חוקית ב־0 שגרמה להתרעה על חריגה מסוג <var>ZeroDivisionError</var>.<br>\n",
        "    כיוון שהקוד לא היה עטוף ב־<code>try-except</code>, ההתרעה על החריגה פעפעה לשורה <code dir=\"ltr\">a()</code> שנמצאת בפונקציה <var>b</var>.<br>\n",
        "    גם שם אף אחד לא טיפל בחריגה באמצעות <code>try-except</code>, ולכן ההתרעה על החריגה המשיכה לפעפע לפונקציה שקראה ל־<var>b</var>, הלא היא <var>c</var>.<br>\n",
        "    ב־<var>c</var> סוף כל סוף הקריאה ל־<var>b</var> הייתה עטופה ב־<code>try-except</code>, ושם התבצע הטיפול בחריגה.<br>\n",
        "    מאותה נקודה שבה טופלה החריגה, התוכנית המשיכה לרוץ כרגיל.\n",
        "</p>"
      ]
    },
    {
      "cell_type": "markdown",
      "metadata": {
        "id": "KMelpNf0GXoT"
      },
      "source": [
        "<figure>\n",
        "    <img src=\"https://github.com/PythonFreeCourse/Notebooks/blob/main/content/week08/images/exception_propogation.svg?v=3&raw=1\" style=\"margin-right: auto; margin-left: auto; text-align: center;\" alt=\"באיור 6 עמודות, כל אחת מייצגת שלב ומורכבת מ־4 מלבנים. אל המלבן התחתון בכל שלב מצביע חץ, וכתוב בו 'התוכנית'. ממנו יוצא חץ למלבן 'פונקציה c', ממנו יוצא חץ למלבן 'פונקציה b' וממנו יוצא חץ למלבן 'פונקציה a'. מעל השלב הראשון נכתב 'התוכנית קוראת לפונקציה c, שקוראת ל־b, שקוראת ל־a.'. בשלב 2 כתוב תחת הכותרת 'פייתון מתריעה על חריגה בפונקציה a. פונקציה a אינה מטפלת בחריגה.'. ליד המלבן של פונקציה a מופיע סמליל בו כתוב BOOM המסמן את ההתרעה על החריגה שפייתון תייצר. בשלב 3 כתוב 'החריגה, שלא נתפסה בפונקציה a, מפעפעת חזרה ל־b שקראה לה.'.  על המלבן של פונקציה a מופיע סימן STOP שמייצג את זה שריצת הפונקציה הפסיקה. על המלבן של הפונקציה b מופיע סימן פיצוץ עם הכיתוב BOOM שמייצג את ההתרעה על החריגה. שנמצאת כרגע בפונקציה b. מהמלבן של פונקציה a בשלב 2 יוצא חץ למלבן של פונקציה b בשלב 3, שמסמן את פעפוע ההתרעה על השגיאה במעלה שרשרת הקריאות. מתחת לכותרת של שלב 4 כתוב 'החריגה, שלא נתפסה בפונקציה b, מפעפעת חזרה ל־c שקראה לה.'. ליד המלבן של הפונקציות a ו־b מופיע הסמליל STOP, וליד המלבן של הפונקציה c מופיע סמליל של BOOM, אליו מצביע חץ שיוצא מה־BOOM בשלב 3. מתחת לכותרת של שלב 5 כתוב 'פונקציה c תופסת את החריגה ומצילה את התוכנית מקריסה.'. הסימן ליד המלבן של פונקציה c משתנה מ־BOOM לכפפת בייסבול, שמסמלת את תפיסת ההודעה על החריגה. מתחת לכותרת של שלב 6 כתוב 'התוכנית ממשיכה את ריצתה כרגיל ממקום התפיסה בפונקציה c.'. הסמלילים נשארו כשהיו בשלב 5, אך מהמלבן של פונקציה c נוסף חץ למלבן של 'התוכנית', ומהמלבן של 'התוכנית' נוסף חץ היוצא כלפי חוץ.\"/>\n",
        "    <figcaption style=\"margin-top: 2rem; text-align: center; direction: rtl;\">\n",
        "        איור שממחיש כיצד התרעה על חריגה מפעפעת בשרשרת הקריאות.\n",
        "    </figcaption>\n",
        "</figure>"
      ]
    },
    {
      "cell_type": "markdown",
      "metadata": {
        "id": "_ED6orRaGXoT"
      },
      "source": [
        "### <span style=\"text-align: right; direction: rtl; float: right; clear: both;\">תרגיל ביניים: החמישי זה נובמבר?</span>"
      ]
    },
    {
      "cell_type": "markdown",
      "metadata": {
        "id": "tUfWM3tZGXoU"
      },
      "source": [
        "<p style=\"text-align: right; direction: rtl; float: right; clear: both;\">\n",
        "    קראו את הקוד הבא, ופתרו את הסעיפים שאחריו.\n",
        "</p>"
      ]
    },
    {
      "cell_type": "code",
      "execution_count": 60,
      "metadata": {
        "id": "pgbY41Y4GXoV"
      },
      "outputs": [],
      "source": [
        "MONTHS = [\n",
        "    \"January\", \"February\", \"March\", \"April\", \"May\", \"June\",\n",
        "    \"July\", \"August\", \"September\", \"October\", \"November\", \"December\",\n",
        "]\n",
        "\n",
        "\n",
        "def get_month_name(index):\n",
        "    \"\"\"Return the month name given its number.\"\"\"\n",
        "    try:\n",
        "      return MONTHS[index - 1]\n",
        "    except (IndexError, TypeError):\n",
        "      return None\n",
        "\n",
        "\n",
        "def get_month_number(name):\n",
        "    \"\"\"Return the month number given its name.\"\"\"\n",
        "    try:\n",
        "      return MONTHS.index(name) + 1\n",
        "    except (ValueError, TypeError):\n",
        "      return None\n",
        "\n",
        "\n",
        "def is_same_month(index, name):\n",
        "    return (\n",
        "        get_month_name(index) == name\n",
        "        and get_month_number(name) == index\n",
        "    )"
      ]
    },
    {
      "cell_type": "markdown",
      "metadata": {
        "id": "F_2j9fSfGXoV"
      },
      "source": [
        "<ol style=\"text-align: right; direction: rtl; float: right; clear: both;\">\n",
        "    <li>כתבו שתי שורות הקוראות ל־<code>is_same_month</code>, שאחת מהן מחזירה <code>True</code> והשנייה מחזירה <code>False</code>.</li>\n",
        "    <li>על אילו חריגות פייתון עלולה להתריע בשתי הפונקציות הראשונות? תפסו אותן בפונקציות הרלוונטיות. החזירו <code>None</code> אם התרחשה התרעה על חריגה.</li>\n",
        "    <li>בונוס: האם תצליחו לחשוב על דרך לגרום לפונקציה להתרסק בכל זאת? אם כן, תקנו אותה כך שתחזיר <code>None</code> במקרה שכזה.</li>\n",
        "    <li>בונוס: האם תוכלו ליצור קריאה ל־<code>is_same_month</code> שתחזיר <code>True</code> בזמן שהיא אמורה להחזיר <code>False</code>?</li>\n",
        "    <li>הבה נשנה גישה: תפסו את החריגות ברמת <code>is_same_month</code> במקום בפונקציות שהתריעו על חריגה. החזירו <code>False</code> אם התרחשה התרעה על חריגה.</li>\n",
        "</ol>"
      ]
    },
    {
      "cell_type": "code",
      "source": [
        "print(is_same_month(1, \"January\"))\n",
        "print(is_same_month(2, \"January\"))"
      ],
      "metadata": {
        "id": "bT2WdCoxMna7",
        "outputId": "d7ae00df-ca84-4ff6-d775-5c70ae7cffe5",
        "colab": {
          "base_uri": "https://localhost:8080/"
        }
      },
      "execution_count": 52,
      "outputs": [
        {
          "output_type": "stream",
          "name": "stdout",
          "text": [
            "True\n",
            "False\n"
          ]
        }
      ]
    },
    {
      "cell_type": "code",
      "source": [
        "get_month_number(\"a\")"
      ],
      "metadata": {
        "id": "GqyzJLGYMyiv",
        "outputId": "0ccbcaeb-ce14-4ca1-bf55-b6a6afbaf355",
        "colab": {
          "base_uri": "https://localhost:8080/",
          "height": 263
        }
      },
      "execution_count": 56,
      "outputs": [
        {
          "output_type": "error",
          "ename": "ValueError",
          "evalue": "'a' is not in list",
          "traceback": [
            "\u001b[0;31m---------------------------------------------------------------------------\u001b[0m",
            "\u001b[0;31mValueError\u001b[0m                                Traceback (most recent call last)",
            "\u001b[0;32m<ipython-input-56-ce2c96c1281f>\u001b[0m in \u001b[0;36m<cell line: 1>\u001b[0;34m()\u001b[0m\n\u001b[0;32m----> 1\u001b[0;31m \u001b[0mget_month_number\u001b[0m\u001b[0;34m(\u001b[0m\u001b[0;34m\"a\"\u001b[0m\u001b[0;34m)\u001b[0m\u001b[0;34m\u001b[0m\u001b[0;34m\u001b[0m\u001b[0m\n\u001b[0m",
            "\u001b[0;32m<ipython-input-55-759d825c5b14>\u001b[0m in \u001b[0;36mget_month_number\u001b[0;34m(name)\u001b[0m\n\u001b[1;32m     15\u001b[0m \u001b[0;32mdef\u001b[0m \u001b[0mget_month_number\u001b[0m\u001b[0;34m(\u001b[0m\u001b[0mname\u001b[0m\u001b[0;34m)\u001b[0m\u001b[0;34m:\u001b[0m\u001b[0;34m\u001b[0m\u001b[0;34m\u001b[0m\u001b[0m\n\u001b[1;32m     16\u001b[0m     \u001b[0;34m\"\"\"Return the month number given its name.\"\"\"\u001b[0m\u001b[0;34m\u001b[0m\u001b[0;34m\u001b[0m\u001b[0m\n\u001b[0;32m---> 17\u001b[0;31m     \u001b[0;32mreturn\u001b[0m \u001b[0mMONTHS\u001b[0m\u001b[0;34m.\u001b[0m\u001b[0mindex\u001b[0m\u001b[0;34m(\u001b[0m\u001b[0mname\u001b[0m\u001b[0;34m)\u001b[0m \u001b[0;34m+\u001b[0m \u001b[0;36m1\u001b[0m\u001b[0;34m\u001b[0m\u001b[0;34m\u001b[0m\u001b[0m\n\u001b[0m\u001b[1;32m     18\u001b[0m \u001b[0;34m\u001b[0m\u001b[0m\n\u001b[1;32m     19\u001b[0m \u001b[0;34m\u001b[0m\u001b[0m\n",
            "\u001b[0;31mValueError\u001b[0m: 'a' is not in list"
          ]
        }
      ]
    },
    {
      "cell_type": "code",
      "source": [
        "is_same_month(None, None)"
      ],
      "metadata": {
        "id": "ogQBndfORcaP",
        "outputId": "8063ec46-fdaa-465b-edd7-2fe3240cf90e",
        "colab": {
          "base_uri": "https://localhost:8080/"
        }
      },
      "execution_count": 62,
      "outputs": [
        {
          "output_type": "execute_result",
          "data": {
            "text/plain": [
              "True"
            ]
          },
          "metadata": {},
          "execution_count": 62
        }
      ]
    },
    {
      "cell_type": "code",
      "source": [
        "MONTHS = [\n",
        "    \"January\", \"February\", \"March\", \"April\", \"May\", \"June\",\n",
        "    \"July\", \"August\", \"September\", \"October\", \"November\", \"December\",\n",
        "]\n",
        "\n",
        "\n",
        "def get_month_name(index):\n",
        "    \"\"\"Return the month name given its number.\"\"\"\n",
        "    return MONTHS[index - 1]\n",
        "\n",
        "\n",
        "\n",
        "def get_month_number(name):\n",
        "    \"\"\"Return the month number given its name.\"\"\"\n",
        "    return MONTHS.index(name) + 1\n",
        "\n",
        "\n",
        "\n",
        "def is_same_month(index, name):\n",
        "  try:\n",
        "    return (\n",
        "        get_month_name(index) == name\n",
        "        and get_month_number(name) == index\n",
        "    )\n",
        "  except (IndexError, TypeError, ValueError):\n",
        "    return None"
      ],
      "metadata": {
        "id": "CY9krwBPP1fv"
      },
      "execution_count": 59,
      "outputs": []
    },
    {
      "cell_type": "markdown",
      "metadata": {
        "id": "DHOWcscaGXoV"
      },
      "source": [
        "### <span style=\"text-align: right; direction: rtl; float: right; clear: both;\">הקשר בין חריגות למחלקות</span>"
      ]
    },
    {
      "cell_type": "markdown",
      "metadata": {
        "id": "ei2Qu94JGXoV"
      },
      "source": [
        "<p style=\"text-align: right; direction: rtl; float: right; clear: both;\">\n",
        "    כל התרעה על חריגה מיוצגת בפייתון באמצעות מופע.<br>\n",
        "    בעזרת מילת המפתח <code>as</code>, נוכל ליצור משתנה שיצביע למופע הזה.\n",
        "</p>"
      ]
    },
    {
      "cell_type": "markdown",
      "metadata": {
        "id": "DkQ1Ip3uGXoW"
      },
      "source": [
        "<p style=\"text-align: right; direction: rtl; float: right; clear: both;\">\n",
        "    נכתוב אחרי ה־<code>except</code> ולפני הנקודתיים את הביטוי <code>as VarName</code>, כאשר <var>VarName</var> הוא שם משתנה חדש שיצביע למופע של ההתרעה על החריגה.<br>\n",
        "    ביטוי זה יאפשר לנו לגשת למשתנה <var>VarName</var> שכולל את הפרטים על החריגה, מכל שורה שמוזחת תחת ה־<code>except</code>:\n",
        "</p>"
      ]
    },
    {
      "cell_type": "code",
      "execution_count": 63,
      "metadata": {
        "id": "ZDAJB4KiGXoW",
        "outputId": "56d3a2bc-b99d-488b-8503-16608401a242",
        "colab": {
          "base_uri": "https://localhost:8080/"
        }
      },
      "outputs": [
        {
          "output_type": "stream",
          "name": "stdout",
          "text": [
            "<class 'ZeroDivisionError'>\n",
            "----------------------------------------\n",
            "['__cause__', '__class__', '__context__', '__delattr__', '__dict__', '__dir__', '__doc__', '__eq__', '__format__', '__ge__', '__getattribute__', '__gt__', '__hash__', '__init__', '__init_subclass__', '__le__', '__lt__', '__ne__', '__new__', '__reduce__', '__reduce_ex__', '__repr__', '__setattr__', '__setstate__', '__sizeof__', '__str__', '__subclasshook__', '__suppress_context__', '__traceback__', 'args', 'with_traceback']\n"
          ]
        }
      ],
      "source": [
        "try:\n",
        "    1 / 0\n",
        "except ZeroDivisionError as err:\n",
        "    print(type(err))\n",
        "    print('-' * 40)\n",
        "    print(dir(err))"
      ]
    },
    {
      "cell_type": "markdown",
      "metadata": {
        "id": "UtHF8oKLGXoW"
      },
      "source": [
        "<p style=\"text-align: right; direction: rtl; float: right; clear: both;\">\n",
        "    היופי במשתנה החדש שנוצר, <var>err</var>, זה שהוא מופע פייתוני שנוצר מתוך המחלקה <var>ZeroDivisionError</var>.<br>\n",
        "    <var>ZeroDivisionError</var>, אם כך, היא מחלקה לכל דבר: יש לה <code>__init__</code>, פעולות ותכונות, כמו שאפשר לראות בדוגמת הקוד שלמעלה.</p>"
      ]
    },
    {
      "cell_type": "markdown",
      "metadata": {
        "id": "TLB98-uAGXoW"
      },
      "source": [
        "<p style=\"text-align: right; direction: rtl; float: right; clear: both;\">\n",
        "    נבדוק אם יש לה <code>__str__</code> מועיל:\n",
        "</p>"
      ]
    },
    {
      "cell_type": "code",
      "execution_count": 64,
      "metadata": {
        "id": "2p90ERrKGXoX",
        "outputId": "c6de0f78-354f-4f6e-8c67-f66a4e0f7045",
        "colab": {
          "base_uri": "https://localhost:8080/"
        }
      },
      "outputs": [
        {
          "output_type": "stream",
          "name": "stdout",
          "text": [
            "The error is 'division by zero'.\n"
          ]
        }
      ],
      "source": [
        "try:\n",
        "    1 / 0\n",
        "except ZeroDivisionError as err:\n",
        "    print(f\"The error is '{err}'.\")"
      ]
    },
    {
      "cell_type": "markdown",
      "metadata": {
        "id": "6_IBSmdVGXoX"
      },
      "source": [
        "<p style=\"text-align: right; direction: rtl; float: right; clear: both;\">\n",
        "    כמה נוח!<br>\n",
        "    זו דרך ממש טובה להדפיס למשתמש הודעת שגיאה המתארת בדיוק מה הגורם לשגיאה שחווה.\n",
        "</p>"
      ]
    },
    {
      "cell_type": "markdown",
      "metadata": {
        "id": "O7i89cpxGXoX"
      },
      "source": [
        "<p style=\"text-align: right; direction: rtl; float: right; clear: both;\">\n",
        "    זה זמן טוב לעצור רגע ולחשוב.<br>\n",
        "    ישנם סוגי חריגות רבים, ולכל סוג חריגה יש מחלקה שמייצגת אותו.<br>\n",
        "    האם זה אומר שכולן יורשות מאיזו מחלקת \"חריגה\" מופשטת כלשהי?<br>\n",
        "    נבדוק באמצעות גישה ל־<var>Method Resolution Order</var> של המחלקה.\n",
        "</p>"
      ]
    },
    {
      "cell_type": "code",
      "execution_count": 65,
      "metadata": {
        "id": "z_L6XztFGXoX",
        "outputId": "3f2de3ef-7a20-46d6-9414-1098da8bc8c3",
        "colab": {
          "base_uri": "https://localhost:8080/"
        }
      },
      "outputs": [
        {
          "output_type": "execute_result",
          "data": {
            "text/plain": [
              "[ZeroDivisionError, ArithmeticError, Exception, BaseException, object]"
            ]
          },
          "metadata": {},
          "execution_count": 65
        }
      ],
      "source": [
        "ZeroDivisionError.mro()"
      ]
    },
    {
      "cell_type": "markdown",
      "metadata": {
        "id": "cgDAyI3LGXoX"
      },
      "source": [
        "<p style=\"text-align: right; direction: rtl; float: right; clear: both;\">\n",
        "    וואו! זו שרשרת ירושות באורך שלא היה מבייש את שושלת המלוכה הבריטית.<br>\n",
        "    אז נראה שהחריגה של חלוקה באפס (<var>ZeroDivisionError</var>) היא מקרה מיוחד של חריגה חשבונית.<br>\n",
        "    חריגה חשבונית (<var>ArithmeicError</var>), בתורה, יורשת מ־<var>Exception</var>, שהיא עצמה יורשת מ־<var>BaseException</var>.\n",
        "</p>"
      ]
    },
    {
      "cell_type": "markdown",
      "metadata": {
        "id": "U5fPlz6RGXoX"
      },
      "source": [
        "<p style=\"text-align: right; direction: rtl; float: right; clear: both;\">\n",
        "    נביט ב<a href=\"https://docs.python.org/3/library/exceptions.html#exception-hierarchy\">מדרג הירושה המלא</a> המוצג בתיעוד של פייתון כדי להתרשם:\n",
        "</p>"
      ]
    },
    {
      "cell_type": "raw",
      "metadata": {
        "id": "ypMtQ0zHGXoX"
      },
      "source": [
        "BaseException\n",
        " +-- SystemExit\n",
        " +-- KeyboardInterrupt\n",
        " +-- GeneratorExit\n",
        " +-- Exception\n",
        "      +-- StopIteration\n",
        "      +-- StopAsyncIteration\n",
        "      +-- ArithmeticError\n",
        "      |    +-- FloatingPointError\n",
        "      |    +-- OverflowError\n",
        "      |    +-- ZeroDivisionError    <---- !הנה אנחנו\n",
        "      +-- AssertionError\n",
        "      +-- AttributeError\n",
        "      +-- BufferError\n",
        "      +-- EOFError\n",
        "      +-- ImportError\n",
        "      |    +-- ModuleNotFoundError\n",
        "      +-- LookupError\n",
        "      |    +-- IndexError\n",
        "      |    +-- KeyError\n",
        "      +-- MemoryError\n",
        "      +-- NameError\n",
        "      |    +-- UnboundLocalError\n",
        "      +-- OSError\n",
        "      |    +-- BlockingIOError\n",
        "      |    +-- ChildProcessError\n",
        "      |    +-- ConnectionError\n",
        "      |    |    +-- BrokenPipeError\n",
        "      |    |    +-- ConnectionAbortedError\n",
        "      |    |    +-- ConnectionRefusedError\n",
        "      |    |    +-- ConnectionResetError\n",
        "      |    +-- FileExistsError\n",
        "      |    +-- FileNotFoundError\n",
        "      |    +-- InterruptedError\n",
        "      |    +-- IsADirectoryError\n",
        "      |    +-- NotADirectoryError\n",
        "      |    +-- PermissionError\n",
        "      |    +-- ProcessLookupError\n",
        "      |    +-- TimeoutError\n",
        "      +-- ReferenceError\n",
        "      +-- RuntimeError\n",
        "      |    +-- NotImplementedError\n",
        "      |    +-- RecursionError\n",
        "      +-- SyntaxError\n",
        "      |    +-- IndentationError\n",
        "      |         +-- TabError\n",
        "      +-- SystemError\n",
        "      +-- TypeError\n",
        "      +-- ValueError\n",
        "      |    +-- UnicodeError\n",
        "      |         +-- UnicodeDecodeError\n",
        "      |         +-- UnicodeEncodeError\n",
        "      |         +-- UnicodeTranslateError\n",
        "      +-- Warning\n",
        "           +-- DeprecationWarning\n",
        "           +-- PendingDeprecationWarning\n",
        "           +-- RuntimeWarning\n",
        "           +-- SyntaxWarning\n",
        "           +-- UserWarning\n",
        "           +-- FutureWarning\n",
        "           +-- ImportWarning\n",
        "           +-- UnicodeWarning\n",
        "           +-- BytesWarning\n",
        "           +-- ResourceWarning"
      ]
    },
    {
      "cell_type": "markdown",
      "metadata": {
        "id": "36ENiTx4GXoX"
      },
      "source": [
        "<p style=\"text-align: right; direction: rtl; float: right; clear: both;\">\n",
        "    כיוון שאנחנו כבר מנוסים יחסית בענייני ירושה, בשלב הזה נוכל לפתח כמה רעיונות מעניינים.<br>\n",
        "    האם עצם זה ש־<var>ZeroDivisionError</var> היא תת־מחלקה של <var>Exception</var>, גורם לכך שנוכל לתפוס אותה בעזרת <var>Exception</var>?<br>\n",
        "    אם יתברר שכן, נוכל לתפוס מספר גדול מאוד של סוגי התרעות על חריגות בצורה הזו.<br>\n",
        "    נבדוק!\n",
        "</p>"
      ]
    },
    {
      "cell_type": "code",
      "execution_count": 66,
      "metadata": {
        "id": "x7AxZKoqGXoX",
        "outputId": "2a6625ee-c1cc-4511-a689-fd400d65f00a",
        "colab": {
          "base_uri": "https://localhost:8080/"
        }
      },
      "outputs": [
        {
          "output_type": "stream",
          "name": "stdout",
          "text": [
            "The error is 'division by zero'.\n"
          ]
        }
      ],
      "source": [
        "try:\n",
        "    1 / 0\n",
        "except Exception as err:\n",
        "    print(f\"The error is '{err}'.\")"
      ]
    },
    {
      "cell_type": "markdown",
      "metadata": {
        "id": "ZWIiO1flGXoX"
      },
      "source": [
        "<p style=\"text-align: right; direction: rtl; float: right; clear: both;\">\n",
        "    ובכן, כן.<br>\n",
        "    אנחנו יכולים לכתוב בצורה הזו קוד שיתפוס את מרב סוגי ההתרעות על חריגות.\n",
        "</p>"
      ]
    },
    {
      "cell_type": "markdown",
      "metadata": {
        "id": "puPbBbofGXoX"
      },
      "source": [
        "<p style=\"text-align: right; direction: rtl; float: right; clear: both;\">\n",
        "    בשלב זה נציין שבניגוד לאינטואיציה, חשוב שנהיה ממוקדים בטיפול שלנו בחריגות.<br>\n",
        "    חניכים שזה עתה למדו על הרעיון של טיפול בחריגות מקיפים לפעמים את כל הקוד שלהם ב־<code>try-except</code>. מדובר ברעיון רע למדי.<br>\n",
        "    כלל האצבע שלנו מעתה יהיה זה:\n",
        "</p>"
      ]
    },
    {
      "cell_type": "markdown",
      "metadata": {
        "id": "z6tjw3HLGXoY"
      },
      "source": [
        "<blockquote dir=\"rtl\" style=\"direction: rtl; text-align: right; float: right; border-right: 5px solid rgba(0,0,0,.05); border-left: 0;\">\n",
        "בכל שימוש ב־<code>try-except</code>, צמצמו את כמות הקוד שנמצאת ב־<code>try</code>, וטפלו בחריגה כמה שיותר ספציפית.\n",
        "</blockquote>\n"
      ]
    },
    {
      "cell_type": "markdown",
      "metadata": {
        "id": "5hr3452UGXoY"
      },
      "source": [
        "<p style=\"text-align: right; direction: rtl; float: right; clear: both;\">\n",
        "    טיפול בחריגות הוא מנגנון שבהינתן התרעה על חריגה, מאפשר לנו להריץ קוד חלופי או קוד שיטפל בבעיה שנוצרה.<br>\n",
        "    אם אנחנו לא יודעים בדיוק מה הבעיה, או לא מתכוונים לטפל בה בדרך הגיונית – עדיף שלא נתפוס אותה.<br>\n",
        "    טיפול בחריגות שלא לצורך עלול ליצור \"תקלים שקטים\" בתוכנה שלנו, שאותם יהיה לנו קשה מאוד לאתר לאחר מכן.\n",
        "</p>"
      ]
    },
    {
      "cell_type": "markdown",
      "metadata": {
        "id": "Yp58kks_GXoY"
      },
      "source": [
        "## <span style=\"text-align: right; direction: rtl; float: right; clear: both;\">סיכום</span>"
      ]
    },
    {
      "cell_type": "markdown",
      "metadata": {
        "id": "98mtMZ-JGXoY"
      },
      "source": [
        "<p style=\"text-align: right; direction: rtl; float: right; clear: both;\">\n",
        "    במחברת זו למדנו מהן חריגות, כיצד לקרוא הודעות שגיאה של פייתון, וכיצד לטפל בהתרעות על חריגות שנוצרות עקב כשל בריצת התוכנית.<br>\n",
        "    ראינו כיצד חריגות מיוצגות בפייתון, איך הן פועלות מאחורי הקלעים ואיך לגלות אילו חריגות עלולות לצוץ בזמן ריצת הקוד שלנו.<br>\n",
        "    למדנו גם שמוטב לתפוס שגיאה באופן נקודתי עד כמה שאפשר, ורק כשאנחנו יודעים כיצד לטפל בה בדרך הגיונית.\n",
        "</p>"
      ]
    },
    {
      "cell_type": "markdown",
      "metadata": {
        "id": "BWYSXy7sGXoY"
      },
      "source": [
        "## <span style=\"text-align: right; direction: rtl; float: right; clear: both;\">מונחים</span>"
      ]
    },
    {
      "cell_type": "markdown",
      "metadata": {
        "id": "GQ9FNR43GXoY"
      },
      "source": [
        "<dl style=\"text-align: right; direction: rtl; float: right; clear: both;\">\n",
        "    <dt>חריגה (exception)</dt>\n",
        "    <dd>\n",
        "        מופע המייצג מצב לא סדיר, לרוב בעייתי, שזוהה במהלך הרצת הקוד שבתוכנית.<br>\n",
        "        לכל חריגה יש סוג, וכל סוג חריגה מיוצג באמצעות מחלקה פייתונית.\n",
        "    </dd>\n",
        "    <dt>התרעה על חריגה (raise of an exception)</dt>\n",
        "    <dd>\n",
        "        מצב שבו פייתון מודיעה על שגיאה או על מצב לא סדיר בריצת התוכנית.<br>\n",
        "        התרעה על חריגה משנה את זרימת הריצה של התוכנית ועלולה לגרום לקריסתה.\n",
        "    </dd>\n",
        "    <dt>Traceback</dt>\n",
        "    <dd>\n",
        "        שרשרת הקריאות שהובילו להפעלתה של הפונקציה שבה אנחנו נמצאים ברגע מסוים.<br>\n",
        "        בהקשר של חריגות, מדובר בשרשרת הקריאות שהובילה להתרעה על החריגה.<br>\n",
        "        שרשרת הקריאות הזו מופיעה גם בהודעת השגיאה שמוצגת כאשר פייתון מתריעה על חריגה.\n",
        "    </dd>\n",
        "    <dt>טיפול בחריגה (exception handling)</dt>\n",
        "    <dd>\n",
        "        נקרא גם <dfn>תפיסת חריגה</dfn> (<dfn>catching an exception</dfn>).<br>\n",
        "        בעת התרעה על חריגה, התנהגות ברירת המחדל של התוכנה היא קריסה.<br>\n",
        "        מתכנת יכול להגדיר מראש מה הוא רוצה שיקרה במקרה של התרעה על חריגה.<br>\n",
        "        במקרה כזה, קריסת התוכנית תימנע.\n",
        "    </dd>\n",
        "</dl>"
      ]
    },
    {
      "cell_type": "markdown",
      "metadata": {
        "id": "MvaIpjPOGXoY"
      },
      "source": [
        "## <span style=\"text-align: right; direction: rtl; float: right; clear: both;\">תרגילים</span>"
      ]
    },
    {
      "cell_type": "markdown",
      "metadata": {
        "id": "eQXR-eybGXoY"
      },
      "source": [
        "### <span style=\"text-align: right; direction: rtl; float: right; clear: both;\">מחשבון</span>"
      ]
    },
    {
      "cell_type": "markdown",
      "metadata": {
        "id": "rZLq68jnGXoY"
      },
      "source": [
        "<p style=\"text-align: right; direction: rtl; float: right; clear: both;\">\n",
        "    כתבו פונקציה בשם <var>calc</var> שמקבלת כפרמטרים שני מספרים וסימן של פעולה חשבונית, בסדר הזה.<br>\n",
        "    הסימן יכול להיות אחד מאלה: <code>+</code>, <code>-</code>, <code>*</code> או <code>/</code>.<br>\n",
        "    מטרת הפונקציה היא להחזיר את תוצאת הפעולה החשבונית שהופעלה על שני המספרים.<br>\n",
        "    בפתרונכם, ודאו שאתם מטפלים בכל ההתרעות על חריגות שיכולות לצוץ בעקבות קלט מאתגר שהזין המשתמש.\n",
        "</p>"
      ]
    },
    {
      "cell_type": "markdown",
      "metadata": {
        "id": "wXnU0H76GXoY"
      },
      "source": [
        "### <span style=\"text-align: right; direction: rtl; float: right; clear: both;\">מנסה להבין איפה הסדר כאן</span>"
      ]
    },
    {
      "cell_type": "markdown",
      "metadata": {
        "id": "PMcLNpEjGXoY"
      },
      "source": [
        "<p style=\"text-align: right; direction: rtl; float: right; clear: both;\">\n",
        "    כתבו פונקציה בשם <var>search_in_directory</var> שמקבלת נתיב, ורשימה של מילות מפתח.<br>\n",
        "    התוכנה תנסה לפתוח את כל הקבצים הנמצאים בנתיב, ותדפיס עבור כל מילת מפתח את כל הקבצים שבהם היא נמצאת.<br>\n",
        "    התוכנה תרוץ גם על תתי־התיקיות שנמצאות בנתיב שסופק (ועל תתי־תתי התיקיות, וכן הלאה), אם יש כאלו.<br>\n",
        "</p>"
      ]
    },
    {
      "cell_type": "code",
      "source": [
        "import os\n",
        "\n",
        "def search_in_directory(path, key_words):\n",
        "\n",
        "  key_words_to_file_names = {key_word:[] for key_word in key_words}\n",
        "  try:\n",
        "    for subdirs, dirs, files in os.walk(rootdir):\n",
        "        for file in files:\n",
        "            f_path = os.path.join(subdir, file)\n",
        "            with open(f_path, \"r\") as f:\n",
        "              words = f.read().split()\n",
        "              for key in key_words:\n",
        "                if key in words:\n",
        "                  key_words_to_file_names[key].append(f_path)\n",
        "    return key_words_to_file_names\n",
        "\n",
        "  except FileNotFoundError:\n",
        "    return None\n",
        "\n"
      ],
      "metadata": {
        "id": "3pJGu6aNYH3E"
      },
      "execution_count": 75,
      "outputs": []
    },
    {
      "cell_type": "code",
      "source": [
        "for subdir, dirs, files in os.walk(\"/kkk/l\"):\n",
        "    for file in files:\n",
        "        print(os.path.join(subdir, file))"
      ],
      "metadata": {
        "id": "gU_gi3hqY4TT"
      },
      "execution_count": 71,
      "outputs": []
    },
    {
      "cell_type": "markdown",
      "metadata": {
        "id": "jQeW_3tqGXoY"
      },
      "source": [
        "<p style=\"text-align: right; direction: rtl; float: right; clear: both;\">\n",
        "    לדוגמה:\n",
        "</p>"
      ]
    },
    {
      "cell_type": "code",
      "execution_count": 92,
      "metadata": {
        "id": "HDHh3rRlGXoY",
        "outputId": "34a48dba-97ce-4f69-c14e-f07a87edb2e7",
        "colab": {
          "base_uri": "https://localhost:8080/"
        }
      },
      "outputs": [
        {
          "output_type": "execute_result",
          "data": {
            "text/plain": [
              "{'class': [], 'int': []}"
            ]
          },
          "metadata": {},
          "execution_count": 92
        }
      ],
      "source": [
        "search_in_directory(r\"C:\\Projects\\Notebooks\\week08\", [\"class\", \"int\"])"
      ]
    },
    {
      "cell_type": "code",
      "source": [
        "import os\n",
        "\n",
        "def search_in_directory(path, key_words):\n",
        "\n",
        "  key_words_to_file_names = {key_word:[] for key_word in key_words}\n",
        "\n",
        "  for root, dirs, files in os.walk(path):\n",
        "\n",
        "    for file in files:\n",
        "        if root == '.':\n",
        "            root_path = os.getcwd() + \"/\"\n",
        "        else:\n",
        "            root_path = root\n",
        "\n",
        "        if (root_path != path) and (root != '.'):\n",
        "          filepath = root_path + \"/\" + file\n",
        "\n",
        "        else:\n",
        "          filepath = root_path + file\n",
        "\n",
        "        with open(filepath, \"r\") as f:\n",
        "          words = f.read().split()\n",
        "          for key in key_words:\n",
        "            if key in words:\n",
        "              key_words_to_file_names[key].append(f_path)\n",
        "  return key_words_to_file_names\n",
        "\n",
        "\n",
        "\n",
        "search_in_directory(r\"/var/a\", [\"dog\", \"LICENSE\"])"
      ],
      "metadata": {
        "id": "KnpAQurYhIRz",
        "outputId": "abd21d82-51e9-431c-d708-c13aa77f73c0",
        "colab": {
          "base_uri": "https://localhost:8080/",
          "height": 332
        }
      },
      "execution_count": 116,
      "outputs": [
        {
          "output_type": "stream",
          "name": "stdout",
          "text": [
            "/var/a /var/a /var/a\n",
            "False\n"
          ]
        },
        {
          "output_type": "error",
          "ename": "FileNotFoundError",
          "evalue": "[Errno 2] No such file or directory: '/var/aaa.txt'",
          "traceback": [
            "\u001b[0;31m---------------------------------------------------------------------------\u001b[0m",
            "\u001b[0;31mFileNotFoundError\u001b[0m                         Traceback (most recent call last)",
            "\u001b[0;32m<ipython-input-116-80b589cc4e19>\u001b[0m in \u001b[0;36m<cell line: 48>\u001b[0;34m()\u001b[0m\n\u001b[1;32m     46\u001b[0m \u001b[0;34m\u001b[0m\u001b[0m\n\u001b[1;32m     47\u001b[0m \u001b[0;34m\u001b[0m\u001b[0m\n\u001b[0;32m---> 48\u001b[0;31m \u001b[0msearch_in_directory\u001b[0m\u001b[0;34m(\u001b[0m\u001b[0;34mr\"/var/a\"\u001b[0m\u001b[0;34m,\u001b[0m \u001b[0;34m[\u001b[0m\u001b[0;34m\"dog\"\u001b[0m\u001b[0;34m,\u001b[0m \u001b[0;34m\"LICENSE\"\u001b[0m\u001b[0;34m]\u001b[0m\u001b[0;34m)\u001b[0m\u001b[0;34m\u001b[0m\u001b[0;34m\u001b[0m\u001b[0m\n\u001b[0m",
            "\u001b[0;32m<ipython-input-116-80b589cc4e19>\u001b[0m in \u001b[0;36msearch_in_directory\u001b[0;34m(path, key_words)\u001b[0m\n\u001b[1;32m     25\u001b[0m \u001b[0;34m\u001b[0m\u001b[0m\n\u001b[1;32m     26\u001b[0m \u001b[0;34m\u001b[0m\u001b[0m\n\u001b[0;32m---> 27\u001b[0;31m         \u001b[0;32mwith\u001b[0m \u001b[0mopen\u001b[0m\u001b[0;34m(\u001b[0m\u001b[0mfilepath\u001b[0m\u001b[0;34m,\u001b[0m \u001b[0;34m\"r\"\u001b[0m\u001b[0;34m)\u001b[0m \u001b[0;32mas\u001b[0m \u001b[0mf\u001b[0m\u001b[0;34m:\u001b[0m\u001b[0;34m\u001b[0m\u001b[0;34m\u001b[0m\u001b[0m\n\u001b[0m\u001b[1;32m     28\u001b[0m           \u001b[0mwords\u001b[0m \u001b[0;34m=\u001b[0m \u001b[0mf\u001b[0m\u001b[0;34m.\u001b[0m\u001b[0mread\u001b[0m\u001b[0;34m(\u001b[0m\u001b[0;34m)\u001b[0m\u001b[0;34m.\u001b[0m\u001b[0msplit\u001b[0m\u001b[0;34m(\u001b[0m\u001b[0;34m)\u001b[0m\u001b[0;34m\u001b[0m\u001b[0;34m\u001b[0m\u001b[0m\n\u001b[1;32m     29\u001b[0m           \u001b[0;32mfor\u001b[0m \u001b[0mkey\u001b[0m \u001b[0;32min\u001b[0m \u001b[0mkey_words\u001b[0m\u001b[0;34m:\u001b[0m\u001b[0;34m\u001b[0m\u001b[0;34m\u001b[0m\u001b[0m\n",
            "\u001b[0;31mFileNotFoundError\u001b[0m: [Errno 2] No such file or directory: '/var/aaa.txt'"
          ]
        }
      ]
    },
    {
      "cell_type": "markdown",
      "metadata": {
        "id": "xeL1NV_RGXoZ"
      },
      "source": [
        "<p style=\"text-align: right; direction: rtl; float: right; clear: both;\">\n",
        "    תדפיס את הפלט הבא:\n",
        "</p>"
      ]
    },
    {
      "cell_type": "raw",
      "metadata": {
        "id": "4J1z1V1UGXoZ"
      },
      "source": [
        "----------------------------------------\n",
        "class\n",
        "----------------------------------------\n",
        "C:\\Projects\\Notebooks\\week08\\1_Inheritance.ipynb\n",
        "C:\\Projects\\Notebooks\\week08\\2_Inheritance_Part_2.ipynb\n",
        "C:\\Projects\\Notebooks\\week08\\3_Exceptions.ipynb\n",
        "C:\\Projects\\Notebooks\\week08\\4_Exceptions_Part_2.ipynb\n",
        "C:\\Projects\\Notebooks\\week08\\images\\exception_parts.svg\n",
        "----------------------------------------\n",
        "int\n",
        "----------------------------------------\n",
        "C:\\Projects\\Notebooks\\week08\\1_Inheritance.ipynb\n",
        "C:\\Projects\\Notebooks\\week08\\2_Inheritance_Part_2.ipynb\n",
        "C:\\Projects\\Notebooks\\week08\\3_Exceptions.ipynb\n",
        "C:\\Projects\\Notebooks\\week08\\4_Exceptions_Part_2.ipynb\n",
        "C:\\Projects\\Notebooks\\week08\\images\\chessboard.svg\n",
        "C:\\Projects\\Notebooks\\week08\\images\\diamond_problem.svg\n",
        "C:\\Projects\\Notebooks\\week08\\images\\exception_parts.svg\n",
        "C:\\Projects\\Notebooks\\week08\\images\\exception_propogation.svg\n",
        "C:\\Projects\\Notebooks\\week08\\images\\inheritance.svg\n",
        "C:\\Projects\\Notebooks\\week08\\images\\logo.jpg\n",
        "C:\\Projects\\Notebooks\\week08\\images\\multilevel_inheritance.svg\n",
        "C:\\Projects\\Notebooks\\week08\\images\\multiple_inheritance.svg\n",
        "C:\\Projects\\Notebooks\\week08\\images\\multiple_inheritance.svg.old\n",
        "C:\\Projects\\Notebooks\\week08\\images\\try_except_flow.svg\n",
        "C:\\Projects\\Notebooks\\week08\\images\\try_except_syntax.svg"
      ]
    },
    {
      "cell_type": "markdown",
      "metadata": {
        "id": "kWkv1Q1ZGXoZ"
      },
      "source": [
        "<p style=\"text-align: right; direction: rtl; float: right; clear: both;\">\n",
        "    טפלו בכמה שיותר התרעות על חריגות שעלולות לצוץ במהלך ריצת התוכנית.\n",
        "</p>"
      ]
    }
  ],
  "metadata": {
    "kernelspec": {
      "display_name": "Python 3",
      "language": "python",
      "name": "python3"
    },
    "language_info": {
      "codemirror_mode": {
        "name": "ipython",
        "version": 3
      },
      "file_extension": ".py",
      "mimetype": "text/x-python",
      "name": "python",
      "nbconvert_exporter": "python",
      "pygments_lexer": "ipython3",
      "version": "3.8.6"
    },
    "colab": {
      "provenance": []
    }
  },
  "nbformat": 4,
  "nbformat_minor": 0
}