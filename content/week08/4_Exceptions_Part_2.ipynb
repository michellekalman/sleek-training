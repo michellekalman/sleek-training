{
  "cells": [
    {
      "cell_type": "markdown",
      "metadata": {
        "id": "euP_MqSUvfWW"
      },
      "source": [
        "<img src=\"https://github.com/PythonFreeCourse/Notebooks/blob/main/content/week08/images/logo.jpg?raw=1\" style=\"display: block; margin-left: auto; margin-right: auto;\" alt=\"לוגו של מיזם לימוד הפייתון. נחש מצויר בצבעי צהוב וכחול, הנע בין האותיות של שם הקורס: לומדים פייתון. הסלוגן המופיע מעל לשם הקורס הוא מיזם חינמי ללימוד תכנות בעברית.\">"
      ]
    },
    {
      "cell_type": "markdown",
      "metadata": {
        "id": "5LFWj7iUvfWY"
      },
      "source": [
        "# <span style=\"text-align: right; direction: rtl; float: right;\">חריגות – חלק 2</span>"
      ]
    },
    {
      "cell_type": "markdown",
      "metadata": {
        "id": "ppGUk-bXvfWZ"
      },
      "source": [
        "## <span style=\"text-align: right; direction: rtl; float: right; clear: both;\">הקדמה</span>"
      ]
    },
    {
      "cell_type": "markdown",
      "metadata": {
        "id": "ho-1-hXdvfWa"
      },
      "source": [
        "<p style=\"text-align: right; direction: rtl; float: right; clear: both;\">\n",
        "    במחברת הקודמת התמודדנו לראשונה עם חריגות.<br>\n",
        "    למדנו לפרק הודעות שגיאה לרכיביהן ולחלץ מהן מידע מועיל, העמקנו בדרך הפעולה של Traceback ודיברנו על סוגי החריגות השונים בפייתון.<br>\n",
        "    ראינו לראשונה את מילות המפתח <code>try</code> ו־<code>except</code>, ולמדנו כיצד להשתמש בהן כדי לטפל בחריגות.\n",
        "</p>"
      ]
    },
    {
      "cell_type": "markdown",
      "metadata": {
        "id": "Sg_O7H8vvfWc"
      },
      "source": [
        "<p style=\"text-align: right; direction: rtl; float: right; clear: both;\">\n",
        "    דיברנו על כך שטיפול בחריגות עשוי למנוע את קריסת התוכנית, וציינו גם שכדאי לבחור היטב באילו חריגות לטפל.<br>\n",
        "    הבהרנו שאם נטפל בחריגות ללא אבחנה, אנחנו עלולים ליצור \"תקלים שקטים\" שפייתון לא תדווח לנו עליהם ויהיו קשים לאיתור.\n",
        "</p>"
      ]
    },
    {
      "cell_type": "markdown",
      "metadata": {
        "id": "Sny0wdqtvfWd"
      },
      "source": [
        "<p style=\"text-align: right; direction: rtl; float: right; clear: both;\">\n",
        "    לבסוף, הצגנו כיצד השגיאות בפייתון הן בסך הכול מופע שנוצר ממחלקה שמייצגת את סוג החריגה.<br>\n",
        "    הראינו כיצד לקבל גישה למופע הזה מתוך ה־<code>except</code>, וראינו את עץ הירושה המרשים של סוגי החריגות בפייתון.\n",
        "</p>"
      ]
    },
    {
      "cell_type": "markdown",
      "metadata": {
        "id": "1c0EubJovfWe"
      },
      "source": [
        "<p style=\"text-align: right; direction: rtl; float: right; clear: both;\">\n",
        "    במחברת זו נמשיך ללמוד על טיפול בחריגות.<br>\n",
        "    עד סוף המחברת תוכלו להתריע בעצמכם על חריגה וליצור סוגי חריגות משל עצמכם.<br>\n",
        "    זאת ועוד, תלמדו על יכולות מתקדמות יותר הנוגעות לטיפול בחריגות בפייתון, ועל הרגלי עבודה נכונים בכל הקשור בעבודה עם חריגות.\n",
        "</p>"
      ]
    },
    {
      "cell_type": "markdown",
      "metadata": {
        "id": "NYczQDkBvfWe"
      },
      "source": [
        "### <span style=\"text-align: right; direction: rtl; float: right; clear: both;\">ניקוי משטחים</span>"
      ]
    },
    {
      "cell_type": "markdown",
      "metadata": {
        "id": "82rxXptxvfWf"
      },
      "source": [
        "<p style=\"text-align: right; direction: rtl; float: right; clear: both;\">\n",
        "    לעיתים חשוב לנו לוודא ששורת קוד תתבצע בכל מקרה, גם אם הכול סביב עולה באש.<br>\n",
        "    לרוב, זה קורה כאשר אנחנו פותחים משאב כלשהו (קובץ, חיבור לאתר אינטרנט) וצריכים למחוק או לסגור את המשאב בסוף הפעולה.<br>\n",
        "    במקרים כאלו, חשוב לנו שהשורה תתבצע אפילו אם הייתה התרעה על חריגה במהלך הרצת הקוד.\n",
        "</p>"
      ]
    },
    {
      "cell_type": "markdown",
      "metadata": {
        "id": "YYQaHWD6vfWf"
      },
      "source": [
        "<p style=\"text-align: right; direction: rtl; float: right; clear: both;\">\n",
        "    ננסה, לדוגמה, לכווץ את כל התמונות בתיקיית images לארכיון בעזרת המודול <var>zipfile</var>.<br>\n",
        "    אין מה לחשוש – המודול מובן יחסית וקל לשימוש.<br>\n",
        "    כל שנצטרך לעשות זה ליצור מופע של <var>ZipFile</var> ולהפעיל עליו את הפעולה <var>write</var> כדי לצרף לארכיון קבצים.<br>\n",
        "    אם אתם מרגישים נוח, זה הזמן לכתוב את הפתרון לכך בעצמכם. אם לא, ודאו שאתם מבינים היטב את התאים הבאים.\n",
        "</p>"
      ]
    },
    {
      "cell_type": "markdown",
      "metadata": {
        "id": "Z3Ch-uH4vfWf"
      },
      "source": [
        "<p style=\"text-align: right; direction: rtl; float: right; clear: both;\">\n",
        "    נתחיל ביבוא המודולים הרלוונטיים:\n",
        "</p>"
      ]
    },
    {
      "cell_type": "code",
      "execution_count": 1,
      "metadata": {
        "id": "UH61KCpxvfWg"
      },
      "outputs": [],
      "source": [
        "import os\n",
        "import zipfile"
      ]
    },
    {
      "cell_type": "markdown",
      "metadata": {
        "id": "YZCcsz0PvfWh"
      },
      "source": [
        "<p style=\"text-align: right; direction: rtl; float: right; clear: both;\">\n",
        "    וככלי עזר, נכתוב generator שמקבל כפרמטר נתיב לתיקייה, ומחזיר את הנתיב לכל הקבצים שבה:\n",
        "</p>"
      ]
    },
    {
      "cell_type": "code",
      "execution_count": 2,
      "metadata": {
        "id": "vk2JgscfvfWh"
      },
      "outputs": [],
      "source": [
        "def get_file_paths_from_folder(folder):\n",
        "    \"\"\"Yield paths for all the files in `folder`.\"\"\"\n",
        "    for file in os.listdir(folder):\n",
        "        path = os.path.join(folder, file)\n",
        "        yield path"
      ]
    },
    {
      "cell_type": "markdown",
      "metadata": {
        "id": "AbbydoDZvfWh"
      },
      "source": [
        "<p style=\"text-align: right; direction: rtl; float: right; clear: both;\">\n",
        "    עכשיו נכתוב פונקציה שיוצרת קובץ ארכיון חדש, מוסיפה אליו את הקבצים שבתיקיית התמונות וסוגרת את קובץ הארכיון:\n",
        "</p>"
      ]
    },
    {
      "cell_type": "code",
      "execution_count": null,
      "metadata": {
        "id": "nEp81giIvfWh"
      },
      "outputs": [],
      "source": [
        "def zip_folder(folder_name):\n",
        "    our_zipfile = zipfile.ZipFile('images.zip', 'w')\n",
        "\n",
        "    for file in get_file_paths_from_folder(folder_name):\n",
        "        our_zipfile.write(file)\n",
        "\n",
        "    our_zipfile.close()\n",
        "\n",
        "\n",
        "zip_folder('images')"
      ]
    },
    {
      "cell_type": "markdown",
      "metadata": {
        "id": "bE3Pazr1vfWi"
      },
      "source": [
        "<p style=\"text-align: right; direction: rtl; float: right; clear: both;\">\n",
        "    אבל מה יקרה אם תיקיית התמונות גדולה במיוחד ונגמר לנו המקום בזיכרון של המחשב?<br>\n",
        "    מה יקרה אם אין לנו גישה לאחד הקבצים והקריאה של אותו קובץ תיכשל?<br>\n",
        "    נטפל במקרים שבהם פייתון תתריע על חריגה:\n",
        "</p>"
      ]
    },
    {
      "cell_type": "code",
      "execution_count": null,
      "metadata": {
        "id": "ATeLwTA0vfWi"
      },
      "outputs": [],
      "source": [
        "def zip_folder(folder_name):\n",
        "    our_zipfile = zipfile.ZipFile('images.zip', 'w')\n",
        "\n",
        "    try:\n",
        "        for file in get_file_paths_from_folder(folder_name):\n",
        "            our_zipfile.write(file)\n",
        "    except Exception as error:\n",
        "        print(f\"Critical failure occurred: {error}.\")\n",
        "\n",
        "    our_zipfile.close()\n",
        "\n",
        "\n",
        "zip_folder('NON_EXISTING_DIRECTORY')"
      ]
    },
    {
      "cell_type": "markdown",
      "metadata": {
        "id": "Rlrfok-4vfWi"
      },
      "source": [
        "<p style=\"text-align: right; direction: rtl; float: right; clear: both;\">\n",
        "    התא למעלה מפר עיקרון חשוב שדיברנו עליו:<br>\n",
        "    עדיף שלא לתפוס את החריגה אם לא יודעים בדיוק מה הסוג שלה, למה היא התרחשה וכיצד לטפל בה.<br>\n",
        "    אבל רגע! אם לא נתפוס את החריגה, כיצד נוודא שהקוד שלנו סגר את קובץ הארכיון באופן מסודר לפני שהתוכנה קרסה?\n",
        "</p>"
      ]
    },
    {
      "cell_type": "markdown",
      "metadata": {
        "id": "E1TBpSACvfWi"
      },
      "source": [
        "<p style=\"text-align: right; direction: rtl; float: right; clear: both;\">\n",
        "    זה הזמן להכיר את מילת המפתח <code>finally</code>, שבאה אחרי ה־<code>except</code> או במקומו.<br>\n",
        "    השורות שכתובות ב־<code>finally</code> יתבצעו <em>תמיד</em>, גם אם הקוד קרס בגלל חריגה.<br>\n",
        "    שימוש ב־<code>finally</code> ייראה כך:\n",
        "</p>"
      ]
    },
    {
      "cell_type": "code",
      "execution_count": 3,
      "metadata": {
        "id": "d6D2w8NNvfWi",
        "outputId": "ab42cc01-ea73-4a1d-e713-9e698803a794",
        "colab": {
          "base_uri": "https://localhost:8080/",
          "height": 263
        }
      },
      "outputs": [
        {
          "output_type": "stream",
          "name": "stdout",
          "text": [
            "+-----------------+\n",
            "| Executed anyway |\n",
            "+-----------------+\n"
          ]
        },
        {
          "output_type": "error",
          "ename": "ZeroDivisionError",
          "evalue": "division by zero",
          "traceback": [
            "\u001b[0;31m---------------------------------------------------------------------------\u001b[0m",
            "\u001b[0;31mZeroDivisionError\u001b[0m                         Traceback (most recent call last)",
            "\u001b[0;32m<ipython-input-3-900e5d2152ce>\u001b[0m in \u001b[0;36m<cell line: 1>\u001b[0;34m()\u001b[0m\n\u001b[1;32m      1\u001b[0m \u001b[0;32mtry\u001b[0m\u001b[0;34m:\u001b[0m\u001b[0;34m\u001b[0m\u001b[0;34m\u001b[0m\u001b[0m\n\u001b[0;32m----> 2\u001b[0;31m     \u001b[0;36m1\u001b[0m \u001b[0;34m/\u001b[0m \u001b[0;36m0\u001b[0m\u001b[0;34m\u001b[0m\u001b[0;34m\u001b[0m\u001b[0m\n\u001b[0m\u001b[1;32m      3\u001b[0m \u001b[0;32mfinally\u001b[0m\u001b[0;34m:\u001b[0m\u001b[0;34m\u001b[0m\u001b[0;34m\u001b[0m\u001b[0m\n\u001b[1;32m      4\u001b[0m     \u001b[0mprint\u001b[0m\u001b[0;34m(\u001b[0m\u001b[0;34m\"+-----------------+\"\u001b[0m\u001b[0;34m)\u001b[0m\u001b[0;34m\u001b[0m\u001b[0;34m\u001b[0m\u001b[0m\n\u001b[1;32m      5\u001b[0m     \u001b[0mprint\u001b[0m\u001b[0;34m(\u001b[0m\u001b[0;34m\"| Executed anyway |\"\u001b[0m\u001b[0;34m)\u001b[0m\u001b[0;34m\u001b[0m\u001b[0;34m\u001b[0m\u001b[0m\n",
            "\u001b[0;31mZeroDivisionError\u001b[0m: division by zero"
          ]
        }
      ],
      "source": [
        "try:\n",
        "    1 / 0\n",
        "finally:\n",
        "    print(\"+-----------------+\")\n",
        "    print(\"| Executed anyway |\")\n",
        "    print(\"+-----------------+\")"
      ]
    },
    {
      "cell_type": "markdown",
      "metadata": {
        "id": "8Tos04HovfWi"
      },
      "source": [
        "<p style=\"text-align: right; direction: rtl; float: right; clear: both;\">\n",
        "    שימו לב שאף על פי שהקוד שנמצא בתוך ה־<code>try</code> קרס, ה־<code>finally</code> התבצע.\n",
        "</p>"
      ]
    },
    {
      "cell_type": "markdown",
      "metadata": {
        "id": "fEJdD_eVvfWj"
      },
      "source": [
        "<p style=\"text-align: right; direction: rtl; float: right; clear: both;\">\n",
        "    למעשה, <code>finally</code> עקשן כל כך שהוא יתבצע אפילו אם היה <code>return</code>:\n",
        "</p>"
      ]
    },
    {
      "cell_type": "code",
      "execution_count": 4,
      "metadata": {
        "id": "EEcVb8ecvfWj",
        "outputId": "cd34e87b-ffb7-4c53-a179-d6ca5c5ca008",
        "colab": {
          "base_uri": "https://localhost:8080/"
        }
      },
      "outputs": [
        {
          "output_type": "stream",
          "name": "stdout",
          "text": [
            "This line will be executed anyway.\n"
          ]
        },
        {
          "output_type": "execute_result",
          "data": {
            "text/plain": [
              "True"
            ]
          },
          "metadata": {},
          "execution_count": 4
        }
      ],
      "source": [
        "def stubborn_finally_example():\n",
        "    try:\n",
        "        return True\n",
        "    finally:\n",
        "        print(\"This line will be executed anyway.\")\n",
        "\n",
        "\n",
        "stubborn_finally_example()"
      ]
    },
    {
      "cell_type": "markdown",
      "metadata": {
        "id": "0SYIaDV2vfWj"
      },
      "source": [
        "<p style=\"text-align: right; direction: rtl; float: right; clear: both;\">\n",
        "    נשתמש במנגנון הזה כדי לוודא שקובץ הארכיון באמת ייסגר בסופו של דבר, ללא תלות במה שיקרה בדרך:\n",
        "</p>"
      ]
    },
    {
      "cell_type": "code",
      "execution_count": 5,
      "metadata": {
        "id": "h1wLUlO7vfWj",
        "outputId": "81487e49-18ad-43df-9900-f84bc13df0cc",
        "colab": {
          "base_uri": "https://localhost:8080/",
          "height": 339
        }
      },
      "outputs": [
        {
          "output_type": "stream",
          "name": "stdout",
          "text": [
            "Is our_zipfiles closed?... <zipfile.ZipFile [closed]>\n"
          ]
        },
        {
          "output_type": "error",
          "ename": "FileNotFoundError",
          "evalue": "[Errno 2] No such file or directory: 'images'",
          "traceback": [
            "\u001b[0;31m---------------------------------------------------------------------------\u001b[0m",
            "\u001b[0;31mFileNotFoundError\u001b[0m                         Traceback (most recent call last)",
            "\u001b[0;32m<ipython-input-5-ae4653ba29c2>\u001b[0m in \u001b[0;36m<cell line: 12>\u001b[0;34m()\u001b[0m\n\u001b[1;32m     10\u001b[0m \u001b[0;34m\u001b[0m\u001b[0m\n\u001b[1;32m     11\u001b[0m \u001b[0;34m\u001b[0m\u001b[0m\n\u001b[0;32m---> 12\u001b[0;31m \u001b[0mzip_folder\u001b[0m\u001b[0;34m(\u001b[0m\u001b[0;34m'images'\u001b[0m\u001b[0;34m)\u001b[0m\u001b[0;34m\u001b[0m\u001b[0;34m\u001b[0m\u001b[0m\n\u001b[0m",
            "\u001b[0;32m<ipython-input-5-ae4653ba29c2>\u001b[0m in \u001b[0;36mzip_folder\u001b[0;34m(folder_name)\u001b[0m\n\u001b[1;32m      3\u001b[0m \u001b[0;34m\u001b[0m\u001b[0m\n\u001b[1;32m      4\u001b[0m     \u001b[0;32mtry\u001b[0m\u001b[0;34m:\u001b[0m\u001b[0;34m\u001b[0m\u001b[0;34m\u001b[0m\u001b[0m\n\u001b[0;32m----> 5\u001b[0;31m         \u001b[0;32mfor\u001b[0m \u001b[0mfile\u001b[0m \u001b[0;32min\u001b[0m \u001b[0mget_file_paths_from_folder\u001b[0m\u001b[0;34m(\u001b[0m\u001b[0mfolder_name\u001b[0m\u001b[0;34m)\u001b[0m\u001b[0;34m:\u001b[0m\u001b[0;34m\u001b[0m\u001b[0;34m\u001b[0m\u001b[0m\n\u001b[0m\u001b[1;32m      6\u001b[0m             \u001b[0mour_zipfile\u001b[0m\u001b[0;34m.\u001b[0m\u001b[0mwrite\u001b[0m\u001b[0;34m(\u001b[0m\u001b[0mfile\u001b[0m\u001b[0;34m)\u001b[0m\u001b[0;34m\u001b[0m\u001b[0;34m\u001b[0m\u001b[0m\n\u001b[1;32m      7\u001b[0m     \u001b[0;32mfinally\u001b[0m\u001b[0;34m:\u001b[0m\u001b[0;34m\u001b[0m\u001b[0;34m\u001b[0m\u001b[0m\n",
            "\u001b[0;32m<ipython-input-2-8e8918fb36f0>\u001b[0m in \u001b[0;36mget_file_paths_from_folder\u001b[0;34m(folder)\u001b[0m\n\u001b[1;32m      1\u001b[0m \u001b[0;32mdef\u001b[0m \u001b[0mget_file_paths_from_folder\u001b[0m\u001b[0;34m(\u001b[0m\u001b[0mfolder\u001b[0m\u001b[0;34m)\u001b[0m\u001b[0;34m:\u001b[0m\u001b[0;34m\u001b[0m\u001b[0;34m\u001b[0m\u001b[0m\n\u001b[1;32m      2\u001b[0m     \u001b[0;34m\"\"\"Yield paths for all the files in `folder`.\"\"\"\u001b[0m\u001b[0;34m\u001b[0m\u001b[0;34m\u001b[0m\u001b[0m\n\u001b[0;32m----> 3\u001b[0;31m     \u001b[0;32mfor\u001b[0m \u001b[0mfile\u001b[0m \u001b[0;32min\u001b[0m \u001b[0mos\u001b[0m\u001b[0;34m.\u001b[0m\u001b[0mlistdir\u001b[0m\u001b[0;34m(\u001b[0m\u001b[0mfolder\u001b[0m\u001b[0;34m)\u001b[0m\u001b[0;34m:\u001b[0m\u001b[0;34m\u001b[0m\u001b[0;34m\u001b[0m\u001b[0m\n\u001b[0m\u001b[1;32m      4\u001b[0m         \u001b[0mpath\u001b[0m \u001b[0;34m=\u001b[0m \u001b[0mos\u001b[0m\u001b[0;34m.\u001b[0m\u001b[0mpath\u001b[0m\u001b[0;34m.\u001b[0m\u001b[0mjoin\u001b[0m\u001b[0;34m(\u001b[0m\u001b[0mfolder\u001b[0m\u001b[0;34m,\u001b[0m \u001b[0mfile\u001b[0m\u001b[0;34m)\u001b[0m\u001b[0;34m\u001b[0m\u001b[0;34m\u001b[0m\u001b[0m\n\u001b[1;32m      5\u001b[0m         \u001b[0;32myield\u001b[0m \u001b[0mpath\u001b[0m\u001b[0;34m\u001b[0m\u001b[0;34m\u001b[0m\u001b[0m\n",
            "\u001b[0;31mFileNotFoundError\u001b[0m: [Errno 2] No such file or directory: 'images'"
          ]
        }
      ],
      "source": [
        "def zip_folder(folder_name):\n",
        "    our_zipfile = zipfile.ZipFile('images.zip', 'w')\n",
        "\n",
        "    try:\n",
        "        for file in get_file_paths_from_folder(folder_name):\n",
        "            our_zipfile.write(file)\n",
        "    finally:\n",
        "        our_zipfile.close()\n",
        "        print(f\"Is our_zipfiles closed?... {our_zipfile}\")\n",
        "\n",
        "\n",
        "zip_folder('images')"
      ]
    },
    {
      "cell_type": "markdown",
      "metadata": {
        "id": "fG2WKJxqvfWj"
      },
      "source": [
        "<p style=\"text-align: right; direction: rtl; float: right; clear: both;\">\n",
        "    ונבדוק שזה יעבוד גם אם נספק תיקייה לא קיימת, לדוגמה:\n",
        "</p>"
      ]
    },
    {
      "cell_type": "code",
      "execution_count": null,
      "metadata": {
        "id": "wZTndZPzvfWj"
      },
      "outputs": [],
      "source": [
        "zip_folder('NO_SUCH_DIRECTORY')"
      ]
    },
    {
      "cell_type": "markdown",
      "metadata": {
        "id": "B8DHtknvvfWj"
      },
      "source": [
        "<p style=\"text-align: right; direction: rtl; float: right; clear: both;\">\n",
        "    יופי! עכשיו כשראינו התרעה על חריגת <var>FileNotFoundError</var> כשמשתמש הכניס נתיב לא תקין לתיקייה, ראוי שנטפל בה:\n",
        "</p>"
      ]
    },
    {
      "cell_type": "code",
      "execution_count": null,
      "metadata": {
        "id": "9h_7ySkYvfWk"
      },
      "outputs": [],
      "source": [
        "def zip_folder(folder_name):\n",
        "    our_zipfile = zipfile.ZipFile('images.zip', 'w')\n",
        "\n",
        "    try:\n",
        "        for file in get_file_paths_from_folder(folder_name):\n",
        "            our_zipfile.write(file)\n",
        "    except FileNotFoundError as err:\n",
        "        print(f\"Critical error: {err}.\\nArchive is probably incomplete.\")\n",
        "    finally:\n",
        "        our_zipfile.close()\n",
        "        print(f\"Is our_zipfiles closed?... {our_zipfile}\")\n",
        "\n",
        "\n",
        "zip_folder('NO_SUCH_DIRECTORY')"
      ]
    },
    {
      "cell_type": "markdown",
      "metadata": {
        "id": "rt9OQ3K2vfWk"
      },
      "source": [
        "<p style=\"text-align: right; direction: rtl; float: right; clear: both;\">\n",
        "    יותר טוב!<br>\n",
        "    היתרון בצורת הכתיבה הזו הוא שגם אם תהיה התרעה על חריגה שאינה מסוג <var>FileNotFoundError</var> והתוכנה תקרוס,<br>\n",
        "    נוכל להיות בטוחים שקובץ הארכיון נסגר כראוי.\n",
        "</p>"
      ]
    },
    {
      "cell_type": "markdown",
      "metadata": {
        "id": "QleBlVj7vfWk"
      },
      "source": [
        "### <span style=\"text-align: right; direction: rtl; float: right; clear: both;\">הכול בסדר</span>"
      ]
    },
    {
      "cell_type": "markdown",
      "metadata": {
        "id": "3U7f1pkBvfWl"
      },
      "source": [
        "<p style=\"text-align: right; direction: rtl; float: right; clear: both;\">\n",
        "    עד כה למדנו על 3 מילות מפתח שקשורות במנגנון לטיפול בחריגות של פייתון: <code>try</code>, <code>except</code> ו־<code>finally</code>.<br>\n",
        "    אלו רעיונות מרכזיים בטיפול בחריגות, ותוכלו למצוא אותם בצורות כאלו ואחרות בכל שפת תכנות עכשווית שמאפשרת טיפול בחריגות.\n",
        "</p>"
      ]
    },
    {
      "cell_type": "markdown",
      "metadata": {
        "id": "0JObp42MvfWl"
      },
      "source": [
        "<p style=\"text-align: right; direction: rtl; float: right; clear: both;\">\n",
        "    אלא שבפייתון ישנה מילת מפתח נוספת שהתגנבה למנגנון הטיפול בחריגות: <code>else</code>.<br>\n",
        "    תחת מילת המפתח הזו יופיעו פעולות שנרצה לבצע רק אם הקוד שב־<code>try</code> רץ במלואו בהצלחה,<br>\n",
        "    או במילים אחרות: באף שלב לא הייתה התרעה על חריגה; אף לא <code>except</code> אחד התבצע.\n",
        "</p>"
      ]
    },
    {
      "cell_type": "code",
      "execution_count": null,
      "metadata": {
        "id": "1F4OMoszvfWl"
      },
      "outputs": [],
      "source": [
        "def read_file(path):\n",
        "    try:\n",
        "        princess = open(path, 'r')\n",
        "    except FileNotFoundError as err:\n",
        "        print(f\"Can't find file '{path}'.\\n{err}.\")\n",
        "        return None\n",
        "    else:\n",
        "        text = princess.read()\n",
        "        princess.close()\n",
        "        return text\n",
        "\n",
        "\n",
        "print(read_file('resources/castle.txt'))"
      ]
    },
    {
      "cell_type": "markdown",
      "metadata": {
        "id": "pWAXboMWvfWl"
      },
      "source": [
        "<p style=\"text-align: right; direction: rtl; float: right; clear: both;\">\n",
        "    \"אבל רגע\", ישאלו חדי העין מביניכם.<br>\n",
        "    \"הרי המטרה היחידה של <code>else</code> היא להריץ קוד אם הקוד שב־<code>try</code> רץ עד סופו,<br>\n",
        "    אז למה שלא פשוט נכניס אותו כבר לתוך ה־<code>try</code>, מייד אחרי הקוד שרצינו לבצע?\"<br>\n",
        "</p>"
      ]
    },
    {
      "cell_type": "markdown",
      "metadata": {
        "id": "poI-weP-vfWm"
      },
      "source": [
        "<p style=\"text-align: right; direction: rtl; float: right; clear: both;\">\n",
        "    וזו שאלה שיש בה היגיון רב –<br>\n",
        "    הרי קוד שקורס ב־<code>try</code> ממילא גורם לכך שהקוד שנמצא אחריו ב־<code>try</code> יפסיק לרוץ.<br>\n",
        "    אז למה לא פשוט לשים שם את קוד ההמשך? מה רע בקטע הקוד הבא?\n",
        "</p>"
      ]
    },
    {
      "cell_type": "code",
      "execution_count": null,
      "metadata": {
        "id": "DVFtzgjUvfWm"
      },
      "outputs": [],
      "source": [
        "def read_file(path):\n",
        "    try:\n",
        "        princess = open(path, 'r')\n",
        "        text = princess.read()\n",
        "        princess.close()\n",
        "        return text\n",
        "    except FileNotFoundError as err:\n",
        "        print(f\"Can't find file '{path}'.\\n{err}.\")\n",
        "        return None\n",
        "\n",
        "\n",
        "print(read_file('resources/castle.txt'))"
      ]
    },
    {
      "cell_type": "markdown",
      "metadata": {
        "id": "mxkl5tytvfWm"
      },
      "source": [
        "<p style=\"text-align: right; direction: rtl; float: right; clear: both;\">\n",
        "    ההבדל הוא רעיוני בעיקרו.<br>\n",
        "    המטרה שלנו היא להעביר את הרעיון שמשתקף מהקוד שלנו לקוראו בצורה נהירה יותר, קצת כמו בספר טוב.<br>\n",
        "    מילת המפתח <code>else</code> תעזור לקורא להבין איפה חשבנו שעשויה להיות ההתרעה על החריגה,<br>\n",
        "    ואיפה אנחנו רוצים להמשיך ולהריץ קוד פייתון שקשור לאותו קוד.\n",
        "</p>"
      ]
    },
    {
      "cell_type": "markdown",
      "metadata": {
        "id": "QnKUH7LJvfWm"
      },
      "source": [
        "<p style=\"text-align: right; direction: rtl; float: right; clear: both;\">\n",
        "    ישנו יתרון נוסף בהפרדת הקוד ל־<code>try</code> ול־<code>else</code> –<br>\n",
        "    השיטה הזו עוזרת לנו להפריד בין הקוד שבו ייתפסו התרעות על חריגות, לבין הקוד שירוץ אחריו ושבו לא יטופלו חריגות.<br>\n",
        "    כיוון שהשורות שנמצאות בתוך ה־<code>else</code> לא נמצאות בתוך ה־<code>try</code>, פייתון לא תתפוס התרעות על חריגות שהתרחשו במהלך הרצתן.<br>\n",
        "    שיטה זו עוזרת לנו ליישם את כלל האצבע שמורה לנו לתפוס התרעות על חריגות באופן ממוקד – <br>\n",
        "    בעזרת <code>else</code> לא נתפוס התרעות על חריגות בקוד שבו לא התכוונו מלכתחילה לתפוס התרעות על חריגות.\n",
        "</p>"
      ]
    },
    {
      "cell_type": "markdown",
      "metadata": {
        "id": "oZhO9xRnvfWm"
      },
      "source": [
        "<div class=\"align-center\" style=\"display: flex; text-align: right; direction: rtl; clear: both;\">\n",
        "    <div style=\"display: flex; width: 10%; float: right; clear: both;\">\n",
        "        <img src=\"https://github.com/PythonFreeCourse/Notebooks/blob/main/content/week08/images/exercise.svg?raw=1\" style=\"height: 50px !important;\" alt=\"תרגול\">\n",
        "    </div>\n",
        "    <div style=\"width: 70%\">\n",
        "        <p style=\"text-align: right; direction: rtl; float: right; clear: both;\">\n",
        "            כתבו פונקציה בשם <var>print_item</var> שמקבלת כפרמטר ראשון רשימה, וכפרמטר שני מספר ($n$).<br>\n",
        "            הפונקציה תדפיס את האיבר ה־$n$־י ברשימה.<br>\n",
        "            טפלו בכל ההתרעות על חריגות שעלולות להיווצר בעקבות הרצת הפונקציה.\n",
        "        </p>\n",
        "    </div>\n",
        "    <div style=\"display: flex; width: 20%; border-right: 0.1rem solid #A5A5A5; padding: 1rem 2rem;\">\n",
        "        <p style=\"text-align: center; direction: rtl; justify-content: center; align-items: center; clear: both;\">\n",
        "            <strong>חשוב!</strong><br>\n",
        "            פתרו לפני שתמשיכו!\n",
        "        </p>\n",
        "    </div>\n",
        "</div>"
      ]
    },
    {
      "cell_type": "markdown",
      "metadata": {
        "id": "O_m5oz8CvfWn"
      },
      "source": [
        "<p style=\"text-align: right; direction: rtl; float: right; clear: both;\">\n",
        "    לסיכום, ניצור קטע קוד שמשתמש בכל מילות המפתח שלמדנו בהקשר של טיפול בחריגות:\n",
        "</p>"
      ]
    },
    {
      "cell_type": "code",
      "execution_count": null,
      "metadata": {
        "id": "WqK0v3pDvfWn"
      },
      "outputs": [],
      "source": [
        "def read_file(path):\n",
        "    try:\n",
        "        princess = open(path, 'r')\n",
        "        text = princess.read()\n",
        "    except (FileNotFoundError, PermissionError) as err:\n",
        "        print(f\"Can't find file '{path}'.\\n{err}.\")\n",
        "        text = None\n",
        "    else:\n",
        "        princess.close()\n",
        "    finally:\n",
        "        return text\n",
        "\n",
        "\n",
        "print(read_file('resources/castle.txt3'))"
      ]
    },
    {
      "cell_type": "markdown",
      "metadata": {
        "id": "j3CyRxUOvfWn"
      },
      "source": [
        "<figure>\n",
        "    <img src=\"https://github.com/PythonFreeCourse/Notebooks/blob/main/content/week08/images/try_except_flow_full.svg?v=5&raw=1\" style=\"width: 700px; margin-right: auto; margin-left: auto; text-align: center;\" alt=\"בתמונה יש תרשים זרימה המציג כיצד פייתון קוראת את הקוד במבנה try-except-else-finally. התרשים בסגנון קומיקסי עם אימוג'ים. החץ ממנו נכנסים לתרשים הוא 'התחל ב־try' עם סמלון של דגל מרוצים, שמוביל לעיגול שבו כתוב 'הרץ את השורה המוזחת הבאה בתוך ה־try'. מתוך עיגול זה יש חץ לעצמו, שבו כתוב 'אין התראה על חריגה' עם סמלון של וי ירוק, וחץ נוסף שבו כתוב 'אין שורות נוספות ב־try' עם סמלון של וי ירוק שמוביל לעיגול 'הרץ את השורות המוזחות בתוך else, אם יש כזה'. מעיגול זה יוצא חץ נוסף ל'הרץ את השורות המוזחות בתוך finally, אם יש כאלו'. מהעיגול האחרון שהוזכר יוצא חץ כלפי מטה לכיוון מלל עם דגל מרוצים שעליו כתוב 'סוף'. מהעיגול הראשון שהוזכר, 'הרץ את השורה המוזחת הבאה בתוך ה־try', יוצא גם חץ שעליו כתוב 'התרעה על חריגה' עם סמלון של פיצוץ, ומוביל לעיגול שבו כתוב 'חפש except עם סוג החריגה'. מעיגול זה יוצאים שני חצים: הראשון 'לא קיים' (החץ אדום מקווקו), עם סמלון של איקס אדום שמוביל לעיגול ללא מוצא בו כתוב 'זרוק התרעה על חריגה', שמוביל (בעזרת חץ אדום מקווקו) לשרשרת עיגולים ללא מוצא. בראשון כתוב 'הרץ את השורות המוזחות בתוך finally, אם יש כזה', והוא מצביע בעזרת חץ אדום מקווקו על עיגול נוסף בו כתוב 'חדול מהרצת התוכנית'. על החץ השני שיוצא מ'חפש except עם סוג החריגה' כתוב 'קיים' עם סמלון של וי ירוק, והוא מוביל לעיגול 'הרץ את השורות המוזחות בתוך ה־except'. ממנו יש חץ לעיגול שתואר מקודם, 'הרץ את השורות המוזחות בתוך ה־finally, אם יש כזה', ומוביל לכיתוב 'סוף הטיפול בשגיאות. המשך בהרצת התוכנית.' עם דגל מרוץ. כל החצים באיור ירוקים פרט לחצים שהוזכרו כאדומים.\"/>\n",
        "    <figcaption style=\"margin-top: 2rem; text-align: center; direction: rtl;\">\n",
        "        תרשים זרימה המציג כיצד פייתון קוראת את הקוד במבנה <code>try</code>, <code>except</code>, <code>else</code>, <code>finally</code>.\n",
        "    </figcaption>\n",
        "</figure>"
      ]
    },
    {
      "cell_type": "markdown",
      "metadata": {
        "id": "s59gC9V1vfWn"
      },
      "source": [
        "### <span style=\"text-align: right; direction: rtl; float: right; clear: both;\">תרגיל ביניים: פותחים שעון</span>"
      ]
    },
    {
      "cell_type": "markdown",
      "metadata": {
        "id": "-jn9RZ9lvfWn"
      },
      "source": [
        "<p style=\"text-align: right; direction: rtl; float: right; clear: both;\">\n",
        "    כתבו פונקציה בשם <var>estimate_read_time</var>, שמקבלת נתיב לקובץ, ומודדת בתוך כמה זמן פייתון קוראת את הקובץ.<br>\n",
        "    על הפונקציה להוסיף לקובץ בשם log.txt שורה שבה כתוב את שם הקובץ שניסיתם לקרוא, ובתוך כמה שניות פייתון קראה את הקובץ.<br>\n",
        "    הפונקציה תטפל בכל מקרי הקצה ובהתרעות על חריגות שבהם היא עלולה להיתקל.\n",
        "</p>"
      ]
    },
    {
      "cell_type": "markdown",
      "metadata": {
        "id": "am4UzjNZvfWn"
      },
      "source": [
        "## <span style=\"text-align: right; direction: rtl; float: right; clear: both;\">יצירת התרעה על חריגה</span>"
      ]
    },
    {
      "cell_type": "markdown",
      "metadata": {
        "id": "dta13s6YvfWn"
      },
      "source": [
        "<p style=\"text-align: right; direction: rtl; float: right; clear: both;\">\n",
        "    עד כה התמקדנו בטיפול בהתרעות על חריגות שעלולות להיווצר במהלך ריצת התוכנית.<br>\n",
        "    בהגיענו לכתוב תוכניות גדולות יותר שמתכנתים אחרים ישתמשו בהן, לעיתים קרובות נרצה ליצור בעצמנו התרעות על חריגות.\n",
        "</p>"
      ]
    },
    {
      "cell_type": "markdown",
      "metadata": {
        "id": "AoziIvi-vfWn"
      },
      "source": [
        "<p style=\"text-align: right; direction: rtl; float: right; clear: both;\">\n",
        "    התרעה על חריגה, כפי שלמדנו, היא דרך לדווח למתכנת שמשהו בעייתי התרחש בזמן ריצת התוכנית.<br>\n",
        "    נוכל ליצור התרעות כאלו בעצמנו, כדי להודיע על בעיות אפשריות למתכנתים שמשתמשים בקוד שלנו.\n",
        "</p>"
      ]
    },
    {
      "cell_type": "markdown",
      "metadata": {
        "id": "gBPBGeM6vfWn"
      },
      "source": [
        "<p style=\"text-align: right; direction: rtl; float: right; clear: both;\">\n",
        "    יצירת התרעה על חריגה היא עניין פשוט למדי שמורכב מ־3 חלקים:<br>\n",
        "</p>\n",
        "\n",
        "<ol style=\"text-align: right; direction: rtl; float: right; clear: both;\">\n",
        "    <li>שימוש במילת המפתח <code>raise</code>.</li>\n",
        "    <li>ציון סוג החריגה שעליה אנחנו הולכים להתריע – <var>ValueError</var>, לדוגמה.</li>\n",
        "    <li>בסוגריים אחרי כן – הודעה שתתאר למתכנת שישתמש בקוד את הבעיה.</li>\n",
        "</ol>"
      ]
    },
    {
      "cell_type": "markdown",
      "metadata": {
        "id": "J-O6Nep0vfWo"
      },
      "source": [
        "<p style=\"text-align: right; direction: rtl; float: right; clear: both;\">\n",
        "    זה ייראה כך:\n",
        "</p>"
      ]
    },
    {
      "cell_type": "code",
      "execution_count": 6,
      "metadata": {
        "id": "PjLJlUB1vfWo",
        "outputId": "bfd1dada-12ce-4885-fba5-b65c895d4b8f",
        "colab": {
          "base_uri": "https://localhost:8080/",
          "height": 141
        }
      },
      "outputs": [
        {
          "output_type": "error",
          "ename": "ValueError",
          "evalue": "Just an example.",
          "traceback": [
            "\u001b[0;31m---------------------------------------------------------------------------\u001b[0m",
            "\u001b[0;31mValueError\u001b[0m                                Traceback (most recent call last)",
            "\u001b[0;32m<ipython-input-6-df50a0470790>\u001b[0m in \u001b[0;36m<cell line: 1>\u001b[0;34m()\u001b[0m\n\u001b[0;32m----> 1\u001b[0;31m \u001b[0;32mraise\u001b[0m \u001b[0mValueError\u001b[0m\u001b[0;34m(\u001b[0m\u001b[0;34m\"Just an example.\"\u001b[0m\u001b[0;34m)\u001b[0m\u001b[0;34m\u001b[0m\u001b[0;34m\u001b[0m\u001b[0m\n\u001b[0m",
            "\u001b[0;31mValueError\u001b[0m: Just an example."
          ]
        }
      ],
      "source": [
        "raise ValueError(\"Just an example.\")"
      ]
    },
    {
      "cell_type": "markdown",
      "metadata": {
        "id": "fsKAe7rgvfWo"
      },
      "source": [
        "<p style=\"text-align: right; direction: rtl; float: right; clear: both;\">\n",
        "    נראה דוגמה לקוד אמיתי שמממש התרעה על חריגה.<br>\n",
        "    <a href=\"https://github.com/python/cpython/blob/578c3955e0222ec7b3146197467fbb0fcfae12fe/Lib/datetime.py#L397\">הקוד הבא</a> לקוח מהמודול <var>datetime</var>, והוא רץ בכל פעם <a href=\"https://github.com/python/cpython/blob/578c3955e0222ec7b3146197467fbb0fcfae12fe/Lib/datetime.py#L1589\">שמבקשים ליצור</a> מופע חדש של תאריך.<br>\n",
        "    שימו לב כיצד יוצר המודול בודק את כל אחד מחלקי התאריך, ואם הערך חורג מהטווח שהוגדר – הוא מתריע על חריגה עם הודעת חריגה ממוקדת:\n",
        "</p>"
      ]
    },
    {
      "cell_type": "code",
      "execution_count": null,
      "metadata": {
        "id": "j_4F3TbdvfWo"
      },
      "outputs": [],
      "source": [
        "def _check_time_fields(hour, minute, second, microsecond, fold):\n",
        "    if not 0 <= hour <= 23:\n",
        "        raise ValueError('hour must be in 0..23', hour)\n",
        "    if not 0 <= minute <= 59:\n",
        "        raise ValueError('minute must be in 0..59', minute)\n",
        "    if not 0 <= second <= 59:\n",
        "        raise ValueError('second must be in 0..59', second)\n",
        "    if not 0 <= microsecond <= 999999:\n",
        "        raise ValueError('microsecond must be in 0..999999', microsecond)\n",
        "    if fold not in (0, 1):\n",
        "        raise ValueError('fold must be either 0 or 1', fold)\n",
        "    return hour, minute, second, microsecond, fold"
      ]
    },
    {
      "cell_type": "markdown",
      "metadata": {
        "id": "9sk-s0ItvfWo"
      },
      "source": [
        "<p style=\"text-align: right; direction: rtl; float: right; clear: both;\">\n",
        "    מטרת הפונקציה היא להבין אם השעה שהועברה ל־<var>datetime</var> תקינה.<br>\n",
        "    בפונקציה, בודקים אם השעה היא מספר בטווח 0–23, אם מספר הדקות הוא מספר בטווח 0–59 וכן הלאה.<br>\n",
        "    אם אחד התנאים לא מתקיים – מתריעים למתכנת שניסה ליצור את מופע התאריך על חריגה.\n",
        "</p>"
      ]
    },
    {
      "cell_type": "markdown",
      "metadata": {
        "id": "zjgBFNqGvfWo"
      },
      "source": [
        "<p style=\"text-align: right; direction: rtl; float: right; clear: both;\">\n",
        "    הקוד משתמש בתעלול מבורך – ביצירת מופע ממחלקה של חריגה, אפשר להשתמש ביותר מפרמטר אחד.<br>\n",
        "    הפרמטר הראשון תמיד יוקדש להודעת השגיאה, אבל אפשר להשתמש בשאר הפרמטרים כדי להעביר מידע נוסף על החריגה.<br>\n",
        "    בדרך כלל מעבירים שם מידע על הערכים שגרמו לבעיה, או את הערכים עצמם.\n",
        "</p>"
      ]
    },
    {
      "cell_type": "markdown",
      "metadata": {
        "id": "fClC-Yi7vfWo"
      },
      "source": [
        "### <span style=\"text-align: right; direction: rtl; float: right; clear: both;\">תרגיל ביניים: סכו\"ם</span>"
      ]
    },
    {
      "cell_type": "markdown",
      "metadata": {
        "id": "TCFixlLnvfWo"
      },
      "source": [
        "<p style=\"text-align: right; direction: rtl; float: right; clear: both;\">\n",
        "    בתור רשת לכלי עבודה אתם מנסים לספור את מלאי ה<b>ס</b>ולמות, <b>כ</b>רסומות <b>ומ</b>חרטות שקיימים אצלכם.<br>\n",
        "    כתבו מחלקה שמייצגת חנות (<var>Store</var>), ולה 3 תכונות:<br>\n",
        "    מספר הסולמות (<var>ladders</var>), מספר הכרסומות (<var>millings</var>) ומספר המחרטות (<var>lathes</var>) במלאי.\n",
        "</p>"
      ]
    },
    {
      "cell_type": "markdown",
      "metadata": {
        "id": "h0uIduYkvfWo"
      },
      "source": [
        "<p style=\"text-align: right; direction: rtl; float: right; clear: both;\">\n",
        "    כתבו פונקציה בשם <var>count_inventory</var> שמקבלת רשימת מופעים של חנויות, ומחזירה את מספר הפריטים הכולל במלאי.<br>\n",
        "    צרו התרעות על חריגות במידת הצורך, בין אם במחלקה ובין אם בפונקציה.\n",
        "</p>"
      ]
    },
    {
      "cell_type": "markdown",
      "metadata": {
        "id": "tt544r40vfWp"
      },
      "source": [
        "## <span style=\"text-align: right; direction: rtl; float: right; clear: both;\">טכניקות בניהול חריגות</span>"
      ]
    },
    {
      "cell_type": "markdown",
      "metadata": {
        "id": "H0fgbXiovfWp"
      },
      "source": [
        "### <span style=\"text-align: right; direction: rtl; float: right; clear: both;\">מיקוד החריגה</span>"
      ]
    },
    {
      "cell_type": "markdown",
      "metadata": {
        "id": "DsXzmU6vvfWp"
      },
      "source": [
        "<p style=\"text-align: right; direction: rtl; float: right; clear: both;\">\n",
        "    טכניקה מעניינת שמשתמשים בה מדי פעם היא ניסוח מחדש של התרעה על חריגה.<br>\n",
        "    נבחר לנהוג כך כשהניסוח מחדש יעזור לנו למקד את מי שישתמש בקוד שלנו.<br>\n",
        "    בטכניקה הזו נתפוס בעזרת <code>try</code> חריגה מסוג מסוים, וב־<code>except</code> ניצור התרעה חדשה על חריגה עם הודעת שגיאה משלנו.\n",
        "</p>"
      ]
    },
    {
      "cell_type": "markdown",
      "metadata": {
        "id": "jefa0cS8vfWp"
      },
      "source": [
        "<p style=\"text-align: right; direction: rtl; float: right; clear: both;\">\n",
        "    נראה דוגמה:\n",
        "</p>"
      ]
    },
    {
      "cell_type": "code",
      "execution_count": null,
      "metadata": {
        "id": "gvYPlaXnvfWp"
      },
      "outputs": [],
      "source": [
        "DAYS = [\n",
        "    'Sunday', 'Monday', 'Tuesday', 'Wednesday',\n",
        "    'Thursday', 'Friday', 'Saturday',\n",
        "]\n",
        "\n",
        "def get_day_by_number(number):\n",
        "    try:\n",
        "        return DAYS[number - 1]\n",
        "    except IndexError:\n",
        "        raise ValueError(\"The number parameter must be between 1 and 7.\")\n",
        "\n",
        "\n",
        "for i in range(1, 9):\n",
        "    print(get_day_by_number(i))"
      ]
    },
    {
      "cell_type": "markdown",
      "metadata": {
        "id": "LWuBWuQUvfWp"
      },
      "source": [
        "### <span style=\"text-align: right; direction: rtl; float: right; clear: both;\">טיפול והתרעה</span>"
      ]
    },
    {
      "cell_type": "markdown",
      "metadata": {
        "id": "B2HxmEVjvfWp"
      },
      "source": [
        "<p style=\"text-align: right; direction: rtl; float: right; clear: both;\">\n",
        "    טכניקה נוספת היא ביצוע פעולות מסוימות במהלך ה־<code>except</code>, והתרעה על החריגה מחדש.<br>\n",
        "    השימוש בטכניקה הזו נפוץ מאוד.<br>\n",
        "</p>"
      ]
    },
    {
      "cell_type": "markdown",
      "metadata": {
        "id": "SYJqHG58vfWp"
      },
      "source": [
        "<p style=\"text-align: right; direction: rtl; float: right; clear: both;\">\n",
        "    שימוש בה הוא מעין סיפור קצר בשלושה חלקים:\n",
        "</p>\n",
        "\n",
        "<ol style=\"text-align: right; direction: rtl; float: right; clear: both;\">\n",
        "    <li>תופסים את החריגה.</li>\n",
        "    <li>מבצעים פעולות רלוונטיות כמו:\n",
        "        <ul>\n",
        "            <li>מתעדים את התרחשות החריגה במקום חיצוני, כמו קובץ, או אפילו מערכת ייעודית לניהול שגיאות.</li>\n",
        "            <li>מבטלים את הפעולות שכן הספקנו לעשות לפני שהייתה התרעה על חריגה.</li>\n",
        "        </ul>\n",
        "    </li>\n",
        "    <li>מקפיצים מחדש את החריגה – את אותה חריגה בדיוק או אחת מדויקת יותר.</li>\n",
        "</ol>"
      ]
    },
    {
      "cell_type": "markdown",
      "metadata": {
        "id": "pJSVx_QIvfWp"
      },
      "source": [
        "<p style=\"text-align: right; direction: rtl; float: right; clear: both;\">\n",
        "    לדוגמה:\n",
        "</p>"
      ]
    },
    {
      "cell_type": "code",
      "execution_count": 10,
      "metadata": {
        "id": "PJW-B8LVvfWp",
        "outputId": "7dd6e2e1-cf01-454b-fb4f-212e3008bf92",
        "colab": {
          "base_uri": "https://localhost:8080/",
          "height": 460
        }
      },
      "outputs": [
        {
          "output_type": "stream",
          "name": "stdout",
          "text": [
            "12 Grimmauld Place, London, UK\n",
            "344 Clinton St., Apt. 3B, Metropolis, USA\n",
            "Apartment 5A, 129 West 81st Street, New York, New York\n"
          ]
        },
        {
          "output_type": "error",
          "ename": "KeyError",
          "evalue": "\"'The Ink Spots'\"",
          "traceback": [
            "\u001b[0;31m---------------------------------------------------------------------------\u001b[0m",
            "\u001b[0;31mKeyError\u001b[0m                                  Traceback (most recent call last)",
            "\u001b[0;32m<ipython-input-10-9fcefc8726b9>\u001b[0m in \u001b[0;36mget_address_by_name\u001b[0;34m(name)\u001b[0m\n\u001b[1;32m      9\u001b[0m     \u001b[0;32mtry\u001b[0m\u001b[0;34m:\u001b[0m\u001b[0;34m\u001b[0m\u001b[0;34m\u001b[0m\u001b[0m\n\u001b[0;32m---> 10\u001b[0;31m         \u001b[0;32mreturn\u001b[0m \u001b[0mADDRESS_BOOK\u001b[0m\u001b[0;34m[\u001b[0m\u001b[0mname\u001b[0m\u001b[0;34m]\u001b[0m\u001b[0;34m\u001b[0m\u001b[0;34m\u001b[0m\u001b[0m\n\u001b[0m\u001b[1;32m     11\u001b[0m     \u001b[0;32mexcept\u001b[0m \u001b[0mKeyError\u001b[0m \u001b[0;32mas\u001b[0m \u001b[0merr\u001b[0m\u001b[0;34m:\u001b[0m\u001b[0;34m\u001b[0m\u001b[0;34m\u001b[0m\u001b[0m\n",
            "\u001b[0;31mKeyError\u001b[0m: 'The Ink Spots'",
            "\nDuring handling of the above exception, another exception occurred:\n",
            "\u001b[0;31mKeyError\u001b[0m                                  Traceback (most recent call last)",
            "\u001b[0;32m<ipython-input-10-9fcefc8726b9>\u001b[0m in \u001b[0;36m<cell line: 17>\u001b[0;34m()\u001b[0m\n\u001b[1;32m     16\u001b[0m \u001b[0;34m\u001b[0m\u001b[0m\n\u001b[1;32m     17\u001b[0m \u001b[0;32mfor\u001b[0m \u001b[0mname\u001b[0m \u001b[0;32min\u001b[0m \u001b[0;34m(\u001b[0m\u001b[0;34m'Padfoot'\u001b[0m\u001b[0;34m,\u001b[0m \u001b[0;34m'Clark'\u001b[0m\u001b[0;34m,\u001b[0m \u001b[0;34m'Jerry'\u001b[0m\u001b[0;34m,\u001b[0m \u001b[0;34m'The Ink Spots'\u001b[0m\u001b[0;34m)\u001b[0m\u001b[0;34m:\u001b[0m\u001b[0;34m\u001b[0m\u001b[0;34m\u001b[0m\u001b[0m\n\u001b[0;32m---> 18\u001b[0;31m     \u001b[0mprint\u001b[0m\u001b[0;34m(\u001b[0m\u001b[0mget_address_by_name\u001b[0m\u001b[0;34m(\u001b[0m\u001b[0mname\u001b[0m\u001b[0;34m)\u001b[0m\u001b[0;34m)\u001b[0m\u001b[0;34m\u001b[0m\u001b[0;34m\u001b[0m\u001b[0m\n\u001b[0m",
            "\u001b[0;32m<ipython-input-10-9fcefc8726b9>\u001b[0m in \u001b[0;36mget_address_by_name\u001b[0;34m(name)\u001b[0m\n\u001b[1;32m     12\u001b[0m         \u001b[0;32mwith\u001b[0m \u001b[0mopen\u001b[0m\u001b[0;34m(\u001b[0m\u001b[0;34m'errors.txt'\u001b[0m\u001b[0;34m,\u001b[0m \u001b[0;34m'a'\u001b[0m\u001b[0;34m)\u001b[0m \u001b[0;32mas\u001b[0m \u001b[0merrors\u001b[0m\u001b[0;34m:\u001b[0m\u001b[0;34m\u001b[0m\u001b[0;34m\u001b[0m\u001b[0m\n\u001b[1;32m     13\u001b[0m             \u001b[0merrors\u001b[0m\u001b[0;34m.\u001b[0m\u001b[0mwrite\u001b[0m\u001b[0;34m(\u001b[0m\u001b[0mstr\u001b[0m\u001b[0;34m(\u001b[0m\u001b[0merr\u001b[0m\u001b[0;34m)\u001b[0m\u001b[0;34m)\u001b[0m\u001b[0;34m\u001b[0m\u001b[0;34m\u001b[0m\u001b[0m\n\u001b[0;32m---> 14\u001b[0;31m         \u001b[0;32mraise\u001b[0m \u001b[0mKeyError\u001b[0m\u001b[0;34m(\u001b[0m\u001b[0mstr\u001b[0m\u001b[0;34m(\u001b[0m\u001b[0merr\u001b[0m\u001b[0;34m)\u001b[0m\u001b[0;34m)\u001b[0m\u001b[0;34m\u001b[0m\u001b[0;34m\u001b[0m\u001b[0m\n\u001b[0m\u001b[1;32m     15\u001b[0m \u001b[0;34m\u001b[0m\u001b[0m\n\u001b[1;32m     16\u001b[0m \u001b[0;34m\u001b[0m\u001b[0m\n",
            "\u001b[0;31mKeyError\u001b[0m: \"'The Ink Spots'\""
          ]
        }
      ],
      "source": [
        "ADDRESS_BOOK = {\n",
        "    'Padfoot': '12 Grimmauld Place, London, UK',\n",
        "    'Jerry': 'Apartment 5A, 129 West 81st Street, New York, New York',\n",
        "    'Clark': '344 Clinton St., Apt. 3B, Metropolis, USA',\n",
        "}\n",
        "\n",
        "\n",
        "def get_address_by_name(name):\n",
        "    try:\n",
        "        return ADDRESS_BOOK[name]\n",
        "    except KeyError as err:\n",
        "        with open('errors.txt', 'a') as errors:\n",
        "            errors.write(str(err))\n",
        "        raise KeyError(str(err))\n",
        "\n",
        "\n",
        "for name in ('Padfoot', 'Clark', 'Jerry', 'The Ink Spots'):\n",
        "    print(get_address_by_name(name))"
      ]
    },
    {
      "cell_type": "markdown",
      "metadata": {
        "id": "kSdwUmWJvfWq"
      },
      "source": [
        "<p style=\"text-align: right; direction: rtl; float: right; clear: both;\">\n",
        "    למעשה, הרעיון של התרעה מחדש על חריגה הוא כה נפוץ, שמפתחי פייתון יצרו עבורו מעין קיצור.<br>\n",
        "    אם אתם נמצאים בתוך <code>except</code> ורוצים לזרוק בדיוק את החריגה שתפסתם, פשוט כתבו <code>raise</code> בלי כלום אחריו:\n",
        "</p>"
      ]
    },
    {
      "cell_type": "code",
      "execution_count": 11,
      "metadata": {
        "id": "ykzGvpwSvfWq",
        "outputId": "d7c60ada-7da6-4d17-850b-318466c0d1be",
        "colab": {
          "base_uri": "https://localhost:8080/",
          "height": 349
        }
      },
      "outputs": [
        {
          "output_type": "stream",
          "name": "stdout",
          "text": [
            "12 Grimmauld Place, London, UK\n",
            "344 Clinton St., Apt. 3B, Metropolis, USA\n",
            "Apartment 5A, 129 West 81st Street, New York, New York\n"
          ]
        },
        {
          "output_type": "error",
          "ename": "KeyError",
          "evalue": "'The Ink Spots'",
          "traceback": [
            "\u001b[0;31m---------------------------------------------------------------------------\u001b[0m",
            "\u001b[0;31mKeyError\u001b[0m                                  Traceback (most recent call last)",
            "\u001b[0;32m<ipython-input-11-4147f7247d74>\u001b[0m in \u001b[0;36m<cell line: 10>\u001b[0;34m()\u001b[0m\n\u001b[1;32m      9\u001b[0m \u001b[0;34m\u001b[0m\u001b[0m\n\u001b[1;32m     10\u001b[0m \u001b[0;32mfor\u001b[0m \u001b[0mname\u001b[0m \u001b[0;32min\u001b[0m \u001b[0;34m(\u001b[0m\u001b[0;34m'Padfoot'\u001b[0m\u001b[0;34m,\u001b[0m \u001b[0;34m'Clark'\u001b[0m\u001b[0;34m,\u001b[0m \u001b[0;34m'Jerry'\u001b[0m\u001b[0;34m,\u001b[0m \u001b[0;34m'The Ink Spots'\u001b[0m\u001b[0;34m)\u001b[0m\u001b[0;34m:\u001b[0m\u001b[0;34m\u001b[0m\u001b[0;34m\u001b[0m\u001b[0m\n\u001b[0;32m---> 11\u001b[0;31m     \u001b[0mprint\u001b[0m\u001b[0;34m(\u001b[0m\u001b[0mget_address_by_name\u001b[0m\u001b[0;34m(\u001b[0m\u001b[0mname\u001b[0m\u001b[0;34m)\u001b[0m\u001b[0;34m)\u001b[0m\u001b[0;34m\u001b[0m\u001b[0;34m\u001b[0m\u001b[0m\n\u001b[0m",
            "\u001b[0;32m<ipython-input-11-4147f7247d74>\u001b[0m in \u001b[0;36mget_address_by_name\u001b[0;34m(name)\u001b[0m\n\u001b[1;32m      1\u001b[0m \u001b[0;32mdef\u001b[0m \u001b[0mget_address_by_name\u001b[0m\u001b[0;34m(\u001b[0m\u001b[0mname\u001b[0m\u001b[0;34m)\u001b[0m\u001b[0;34m:\u001b[0m\u001b[0;34m\u001b[0m\u001b[0;34m\u001b[0m\u001b[0m\n\u001b[1;32m      2\u001b[0m     \u001b[0;32mtry\u001b[0m\u001b[0;34m:\u001b[0m\u001b[0;34m\u001b[0m\u001b[0;34m\u001b[0m\u001b[0m\n\u001b[0;32m----> 3\u001b[0;31m         \u001b[0;32mreturn\u001b[0m \u001b[0mADDRESS_BOOK\u001b[0m\u001b[0;34m[\u001b[0m\u001b[0mname\u001b[0m\u001b[0;34m]\u001b[0m\u001b[0;34m\u001b[0m\u001b[0;34m\u001b[0m\u001b[0m\n\u001b[0m\u001b[1;32m      4\u001b[0m     \u001b[0;32mexcept\u001b[0m \u001b[0mKeyError\u001b[0m \u001b[0;32mas\u001b[0m \u001b[0merr\u001b[0m\u001b[0;34m:\u001b[0m\u001b[0;34m\u001b[0m\u001b[0;34m\u001b[0m\u001b[0m\n\u001b[1;32m      5\u001b[0m         \u001b[0;32mwith\u001b[0m \u001b[0mopen\u001b[0m\u001b[0;34m(\u001b[0m\u001b[0;34m'errors.txt'\u001b[0m\u001b[0;34m,\u001b[0m \u001b[0;34m'a'\u001b[0m\u001b[0;34m)\u001b[0m \u001b[0;32mas\u001b[0m \u001b[0merrors\u001b[0m\u001b[0;34m:\u001b[0m\u001b[0;34m\u001b[0m\u001b[0;34m\u001b[0m\u001b[0m\n",
            "\u001b[0;31mKeyError\u001b[0m: 'The Ink Spots'"
          ]
        }
      ],
      "source": [
        "def get_address_by_name(name):\n",
        "    try:\n",
        "        return ADDRESS_BOOK[name]\n",
        "    except KeyError as err:\n",
        "        with open('errors.txt', 'a') as errors:\n",
        "            errors.write(str(err))\n",
        "        raise\n",
        "\n",
        "\n",
        "for name in ('Padfoot', 'Clark', 'Jerry', 'The Ink Spots'):\n",
        "    print(get_address_by_name(name))"
      ]
    },
    {
      "cell_type": "markdown",
      "metadata": {
        "id": "_sO9-ZoAvfWq"
      },
      "source": [
        "### <span style=\"text-align: right; direction: rtl; float: right; clear: both;\">יצירת חריגה משלנו</span>"
      ]
    },
    {
      "cell_type": "markdown",
      "metadata": {
        "id": "gbDDeCBIvfWq"
      },
      "source": [
        "<p style=\"text-align: right; direction: rtl; float: right; clear: both;\">\n",
        "    בתוכנות גדולות במיוחד נרצה ליצור סוגי חריגות משלנו.<br>\n",
        "    נוכל לעשות זאת בקלות אם נירש ממחלקה קיימת שמייצגת חריגה:\n",
        "</p>"
      ]
    },
    {
      "cell_type": "code",
      "execution_count": 12,
      "metadata": {
        "id": "put-dUf8vfWq"
      },
      "outputs": [],
      "source": [
        "class AddressUnknownError(Exception):\n",
        "    pass"
      ]
    },
    {
      "cell_type": "markdown",
      "metadata": {
        "id": "6gXBuDPCvfWq"
      },
      "source": [
        "<p style=\"text-align: right; direction: rtl; float: right; clear: both;\">\n",
        "    בשלב זה, נוכל להתריע על חריגה בעזרת סוג החריגה שיצרנו:\n",
        "</p>"
      ]
    },
    {
      "cell_type": "code",
      "execution_count": 13,
      "metadata": {
        "id": "xFQAsohcvfWr",
        "outputId": "2357db12-1c27-446a-877e-8b83672ba632",
        "colab": {
          "base_uri": "https://localhost:8080/",
          "height": 460
        }
      },
      "outputs": [
        {
          "output_type": "stream",
          "name": "stdout",
          "text": [
            "12 Grimmauld Place, London, UK\n",
            "344 Clinton St., Apt. 3B, Metropolis, USA\n",
            "Apartment 5A, 129 West 81st Street, New York, New York\n"
          ]
        },
        {
          "output_type": "error",
          "ename": "AddressUnknownError",
          "evalue": "Can't find the address of The Ink Spots.",
          "traceback": [
            "\u001b[0;31m---------------------------------------------------------------------------\u001b[0m",
            "\u001b[0;31mKeyError\u001b[0m                                  Traceback (most recent call last)",
            "\u001b[0;32m<ipython-input-13-2d444181f3ba>\u001b[0m in \u001b[0;36mget_address_by_name\u001b[0;34m(name)\u001b[0m\n\u001b[1;32m      2\u001b[0m     \u001b[0;32mtry\u001b[0m\u001b[0;34m:\u001b[0m\u001b[0;34m\u001b[0m\u001b[0;34m\u001b[0m\u001b[0m\n\u001b[0;32m----> 3\u001b[0;31m         \u001b[0;32mreturn\u001b[0m \u001b[0mADDRESS_BOOK\u001b[0m\u001b[0;34m[\u001b[0m\u001b[0mname\u001b[0m\u001b[0;34m]\u001b[0m\u001b[0;34m\u001b[0m\u001b[0;34m\u001b[0m\u001b[0m\n\u001b[0m\u001b[1;32m      4\u001b[0m     \u001b[0;32mexcept\u001b[0m \u001b[0mKeyError\u001b[0m\u001b[0;34m:\u001b[0m\u001b[0;34m\u001b[0m\u001b[0;34m\u001b[0m\u001b[0m\n",
            "\u001b[0;31mKeyError\u001b[0m: 'The Ink Spots'",
            "\nDuring handling of the above exception, another exception occurred:\n",
            "\u001b[0;31mAddressUnknownError\u001b[0m                       Traceback (most recent call last)",
            "\u001b[0;32m<ipython-input-13-2d444181f3ba>\u001b[0m in \u001b[0;36m<cell line: 8>\u001b[0;34m()\u001b[0m\n\u001b[1;32m      7\u001b[0m \u001b[0;34m\u001b[0m\u001b[0m\n\u001b[1;32m      8\u001b[0m \u001b[0;32mfor\u001b[0m \u001b[0mname\u001b[0m \u001b[0;32min\u001b[0m \u001b[0;34m(\u001b[0m\u001b[0;34m'Padfoot'\u001b[0m\u001b[0;34m,\u001b[0m \u001b[0;34m'Clark'\u001b[0m\u001b[0;34m,\u001b[0m \u001b[0;34m'Jerry'\u001b[0m\u001b[0;34m,\u001b[0m \u001b[0;34m'The Ink Spots'\u001b[0m\u001b[0;34m)\u001b[0m\u001b[0;34m:\u001b[0m\u001b[0;34m\u001b[0m\u001b[0;34m\u001b[0m\u001b[0m\n\u001b[0;32m----> 9\u001b[0;31m     \u001b[0mprint\u001b[0m\u001b[0;34m(\u001b[0m\u001b[0mget_address_by_name\u001b[0m\u001b[0;34m(\u001b[0m\u001b[0mname\u001b[0m\u001b[0;34m)\u001b[0m\u001b[0;34m)\u001b[0m\u001b[0;34m\u001b[0m\u001b[0;34m\u001b[0m\u001b[0m\n\u001b[0m",
            "\u001b[0;32m<ipython-input-13-2d444181f3ba>\u001b[0m in \u001b[0;36mget_address_by_name\u001b[0;34m(name)\u001b[0m\n\u001b[1;32m      3\u001b[0m         \u001b[0;32mreturn\u001b[0m \u001b[0mADDRESS_BOOK\u001b[0m\u001b[0;34m[\u001b[0m\u001b[0mname\u001b[0m\u001b[0;34m]\u001b[0m\u001b[0;34m\u001b[0m\u001b[0;34m\u001b[0m\u001b[0m\n\u001b[1;32m      4\u001b[0m     \u001b[0;32mexcept\u001b[0m \u001b[0mKeyError\u001b[0m\u001b[0;34m:\u001b[0m\u001b[0;34m\u001b[0m\u001b[0;34m\u001b[0m\u001b[0m\n\u001b[0;32m----> 5\u001b[0;31m         \u001b[0;32mraise\u001b[0m \u001b[0mAddressUnknownError\u001b[0m\u001b[0;34m(\u001b[0m\u001b[0;34mf\"Can't find the address of {name}.\"\u001b[0m\u001b[0;34m)\u001b[0m\u001b[0;34m\u001b[0m\u001b[0;34m\u001b[0m\u001b[0m\n\u001b[0m\u001b[1;32m      6\u001b[0m \u001b[0;34m\u001b[0m\u001b[0m\n\u001b[1;32m      7\u001b[0m \u001b[0;34m\u001b[0m\u001b[0m\n",
            "\u001b[0;31mAddressUnknownError\u001b[0m: Can't find the address of The Ink Spots."
          ]
        }
      ],
      "source": [
        "def get_address_by_name(name):\n",
        "    try:\n",
        "        return ADDRESS_BOOK[name]\n",
        "    except KeyError:\n",
        "        raise AddressUnknownError(f\"Can't find the address of {name}.\")\n",
        "\n",
        "\n",
        "for name in ('Padfoot', 'Clark', 'Jerry', 'The Ink Spots'):\n",
        "    print(get_address_by_name(name))"
      ]
    },
    {
      "cell_type": "markdown",
      "metadata": {
        "id": "gerE4Xm5vfWr"
      },
      "source": [
        "<div class=\"align-center\" style=\"display: flex; text-align: right; direction: rtl;\">\n",
        "    <div style=\"display: flex; width: 10%; float: right; \">\n",
        "        <img src=\"https://github.com/PythonFreeCourse/Notebooks/blob/main/content/week08/images/tip.png?raw=1\" style=\"height: 50px !important;\" alt=\"טיפ!\" title=\"טיפ!\">\n",
        "    </div>\n",
        "    <div style=\"width: 90%;\">\n",
        "        נהוג לסיים את שמות המחלקות המייצגות חריגה במילה <em>Error</em>.\n",
        "    </div>\n",
        "</div>"
      ]
    },
    {
      "cell_type": "markdown",
      "metadata": {
        "id": "vHNCXZ8fvfWr"
      },
      "source": [
        "<p style=\"text-align: right; direction: rtl; float: right; clear: both;\">\n",
        "    זכרו שהירושה כאן משפיעה על הדרך שבה תטופל החריגה שלכם.<br>\n",
        "    אם, נניח, <var>AddressUnknownError</var> הייתה יורשת מ־<var>KeyError</var>, ולא מ־<var>Exception</var>,<br>\n",
        "    זה אומר שכל מי שהיה עושה <code>except KeyError</code> היה תופס גם חריגות מסוג <var>AddressUnknownError</var>.\n",
        "</p>"
      ]
    },
    {
      "cell_type": "markdown",
      "metadata": {
        "id": "3GUR2PhHvfWs"
      },
      "source": [
        "<p style=\"text-align: right; direction: rtl; float: right; clear: both;\">\n",
        "    יש לא מעט יתרונות ליצירת שגיאות משל עצמנו:\n",
        "</p>\n",
        "\n",
        "<ol style=\"text-align: right; direction: rtl; float: right; clear: both;\">\n",
        "    <li>המתכנתים שמשתמשים בפונקציה יכולים לתפוס התרעות ספציפיות יותר.</li>\n",
        "    <li>הקוד הופך לבהיר יותר עבור הקורא ועבור מי שמקבל את ההתרעה על החריגה.</li>\n",
        "    <li>בזכות רעיון הירושה, אפשר לספק לחריגות הללו התנהגות מותאמת אישית.</li>\n",
        "</ol>"
      ]
    },
    {
      "cell_type": "markdown",
      "metadata": {
        "id": "AlIIIQfXvfWs"
      },
      "source": [
        "<div class=\"align-center\" style=\"display: flex; text-align: right; direction: rtl;\">\n",
        "    <div style=\"display: flex; width: 10%; \">\n",
        "        <img src=\"https://github.com/PythonFreeCourse/Notebooks/blob/main/content/week08/images/deeper.svg?a=1&raw=1\" style=\"height: 50px !important;\" alt=\"העמקה\" title=\"העמקה\">\n",
        "    </div>\n",
        "    <div style=\"width: 90%\">\n",
        "        <p style=\"text-align: right; direction: rtl;\">\n",
        "            כבכל ירושה, תוכלו לדרוס את הפעולות <code>__init__</code> ו־<code>__str__</code> של מחלקת־העל שממנה ירשתם.<br>\n",
        "            דריסה כזו תספק לכם גמישות רבה בהגדרת החריגות שיצרתם ובשימוש בהן.\n",
        "        </p>\n",
        "    </div>\n",
        "</div>"
      ]
    },
    {
      "cell_type": "markdown",
      "metadata": {
        "id": "IxIryj9ZvfWt"
      },
      "source": [
        "<p style=\"text-align: right; direction: rtl; float: right; clear: both;\">\n",
        "    נראה דוגמה קצרצרה ליצירת חריגה מותאמת אישית:\n",
        "</p>"
      ]
    },
    {
      "cell_type": "code",
      "execution_count": 14,
      "metadata": {
        "id": "OEg6XVejvfWt",
        "outputId": "2a487f80-df23-4152-8d33-3bcc1e901e2e",
        "colab": {
          "base_uri": "https://localhost:8080/",
          "height": 315
        }
      },
      "outputs": [
        {
          "output_type": "error",
          "ename": "DrunkUserError",
          "evalue": "Kipik must not drriiiive!!! @_@\nBAC: 0.05",
          "traceback": [
            "\u001b[0;31m---------------------------------------------------------------------------\u001b[0m",
            "\u001b[0;31mDrunkUserError\u001b[0m                            Traceback (most recent call last)",
            "\u001b[0;32m<ipython-input-14-c133afbec7d4>\u001b[0m in \u001b[0;36m<cell line: 22>\u001b[0;34m()\u001b[0m\n\u001b[1;32m     20\u001b[0m \u001b[0;34m\u001b[0m\u001b[0m\n\u001b[1;32m     21\u001b[0m \u001b[0;34m\u001b[0m\u001b[0m\n\u001b[0;32m---> 22\u001b[0;31m \u001b[0mstart_driving\u001b[0m\u001b[0;34m(\u001b[0m\u001b[0;34m\"Kipik\"\u001b[0m\u001b[0;34m,\u001b[0m \u001b[0;36m0.05\u001b[0m\u001b[0;34m)\u001b[0m\u001b[0;34m\u001b[0m\u001b[0;34m\u001b[0m\u001b[0m\n\u001b[0m",
            "\u001b[0;32m<ipython-input-14-c133afbec7d4>\u001b[0m in \u001b[0;36mstart_driving\u001b[0;34m(username, blood_alcohol_content)\u001b[0m\n\u001b[1;32m     16\u001b[0m \u001b[0;32mdef\u001b[0m \u001b[0mstart_driving\u001b[0m\u001b[0;34m(\u001b[0m\u001b[0musername\u001b[0m\u001b[0;34m,\u001b[0m \u001b[0mblood_alcohol_content\u001b[0m\u001b[0;34m)\u001b[0m\u001b[0;34m:\u001b[0m\u001b[0;34m\u001b[0m\u001b[0;34m\u001b[0m\u001b[0m\n\u001b[1;32m     17\u001b[0m     \u001b[0;32mif\u001b[0m \u001b[0mblood_alcohol_content\u001b[0m \u001b[0;34m>\u001b[0m \u001b[0;36m0.024\u001b[0m\u001b[0;34m:\u001b[0m\u001b[0;34m\u001b[0m\u001b[0;34m\u001b[0m\u001b[0m\n\u001b[0;32m---> 18\u001b[0;31m         \u001b[0;32mraise\u001b[0m \u001b[0mDrunkUserError\u001b[0m\u001b[0;34m(\u001b[0m\u001b[0musername\u001b[0m\u001b[0;34m,\u001b[0m \u001b[0mblood_alcohol_content\u001b[0m\u001b[0;34m)\u001b[0m\u001b[0;34m\u001b[0m\u001b[0;34m\u001b[0m\u001b[0m\n\u001b[0m\u001b[1;32m     19\u001b[0m     \u001b[0;32mreturn\u001b[0m \u001b[0;32mTrue\u001b[0m\u001b[0;34m\u001b[0m\u001b[0;34m\u001b[0m\u001b[0m\n\u001b[1;32m     20\u001b[0m \u001b[0;34m\u001b[0m\u001b[0m\n",
            "\u001b[0;31mDrunkUserError\u001b[0m: Kipik must not drriiiive!!! @_@\nBAC: 0.05"
          ]
        }
      ],
      "source": [
        "class DrunkUserError(Exception):\n",
        "    \"\"\"Exception raised for errors in the input.\"\"\"\n",
        "\n",
        "    def __init__(self, name, bac, *args, **kwargs):\n",
        "        super().__init__(*args, **kwargs)\n",
        "        self.name = name\n",
        "        self.bac = bac  # Blood Alcohol Content\n",
        "\n",
        "    def __str__(self):\n",
        "        return (\n",
        "            f\"{self.name} must not drriiiive!!! @_@\"\n",
        "            f\"\\nBAC: {self.bac}\"\n",
        "        )\n",
        "\n",
        "\n",
        "def start_driving(username, blood_alcohol_content):\n",
        "    if blood_alcohol_content > 0.024:\n",
        "        raise DrunkUserError(username, blood_alcohol_content)\n",
        "    return True\n",
        "\n",
        "\n",
        "start_driving(\"Kipik\", 0.05)"
      ]
    },
    {
      "cell_type": "markdown",
      "metadata": {
        "id": "own_qsVwvfWu"
      },
      "source": [
        "## <span style=\"text-align: right; direction: rtl; float: right; clear: both;\">נימוסים והליכות</span>"
      ]
    },
    {
      "cell_type": "markdown",
      "metadata": {
        "id": "TsV2vldtvfWu"
      },
      "source": [
        "<p style=\"text-align: right; direction: rtl; float: right; clear: both;\">\n",
        "    טיפול בחריגות היא הדרך הטובה ביותר להגיב על התרחשויות לא סדירות ולנהל אותן בקוד הפייתון שאנחנו כותבים.<br>\n",
        "    כפי שכבר ראינו במחברות קודמות, בכלים מורכבים ומתקדמים יש יותר מקום לטעויות, וקווים מנחים יעזרו לנו להתנהל בצורה נכונה.<br>\n",
        "    נעבור על כמה כללי אצבע ורעיונות מועילים שיקלו עליכם לעבוד נכון עם חריגות:\n",
        "</p>"
      ]
    },
    {
      "cell_type": "markdown",
      "metadata": {
        "id": "c0g2UnhrvfWu"
      },
      "source": [
        "### <span style=\"text-align: right; direction: rtl; float: right; clear: both;\">טיפול ממוקד</span>"
      ]
    },
    {
      "cell_type": "markdown",
      "metadata": {
        "id": "XwquRphkvfWu"
      },
      "source": [
        "<p style=\"text-align: right; direction: rtl; float: right; clear: both;\">\n",
        "    באופן כללי, נעדיף להיות כמה שיותר ממוקדים בטיפול בחריגות.<br>\n",
        "    כשאנחנו מטפלים בחריגה, אנחנו יוצאים מנקודת הנחה שאנחנו יודעים מה הבעיה וכיצד יש לטפל בה.<br>\n",
        "    לדוגמה, אם משתמש הזין ערך שלא נתמך בקוד שלנו, נרצה לעצור את קריסת התוכנית ולבקש ממנו להזין ערך מתאים.\n",
        "</p>"
      ]
    },
    {
      "cell_type": "markdown",
      "metadata": {
        "id": "IPEeQboYvfWv"
      },
      "source": [
        "<p style=\"text-align: right; direction: rtl; float: right; clear: both;\">\n",
        "    לא נרצה, לדוגמה, לתפוס התרעות על חריגות שלא התכוונו לתפוס מלכתחילה.<br>\n",
        "    אנחנו מעוניינים לטפל רק בבעיות שאנחנו יודעים שעלולות להתרחש.<br>\n",
        "    אם ישנה בעיה שאנחנו לא יודעים עליה – אנחנו מעדיפים שפייתון תצעק כדי שנדע שהיא קיימת.<br>\n",
        "    \"השתקה\" של בעיות שאנחנו לא יודעים על קיומן היא פתח לתקלים בלתי צפויים וחמורים אף יותר.\n",
        "</p>"
      ]
    },
    {
      "cell_type": "markdown",
      "metadata": {
        "id": "LBabrTJ5vfWv"
      },
      "source": [
        "<p style=\"text-align: right; direction: rtl; float: right; clear: both;\">\n",
        "    בקוד, הנקודה הזו תבוא לידי ביטוי כשנכתוב אחרי ה־<code>except</code> את רשימת סוגי החריגות שבהן נטפל.<br>\n",
        "    נשתדל שלא לטפל ב־<var>Exception</var>, משום שאז נתפוס כל סוג חריגה שיורש ממנה (כמעט כולם).<br>\n",
        "    נשתדל גם לא לדחוס אחרי ה־<code>except</code> סוגי חריגות שאנחנו לא יודעים אם הם רלוונטיים או לא.\n",
        "</p>"
      ]
    },
    {
      "cell_type": "markdown",
      "metadata": {
        "id": "kM2iMb3avfWv"
      },
      "source": [
        "<p style=\"text-align: right; direction: rtl; float: right; clear: both;\">\n",
        "    יתרה מזאת, טיפול בשגיאות יתבצע רק על קוד שאנחנו יודעים שעלול לגרום להתרעה על חריגה.<br>\n",
        "    קוד שלא קשור לחריגה שהולכת להתרחש – לא יהיה חלק מהליך הטיפול בשגיאות.\n",
        "</p>"
      ]
    },
    {
      "cell_type": "markdown",
      "metadata": {
        "id": "h7WRlhrFvfWv"
      },
      "source": [
        "<p style=\"text-align: right; direction: rtl; float: right; clear: both;\">\n",
        "    בקוד, הנקודה הזו תבוא לידי ביטוי בכך שבתוך ה־<code>try</code> יוזחו כמה שפחות שורות קוד.<br>\n",
        "    תחת ה־<code>try</code> נכתוב אך ורק את הקוד שעלול להתריע על חריגה, ושום דבר מעבר לו.<br>\n",
        "    כך נדע שאנחנו לא תופסים בטעות חריגות שלא התכוונו לתפוס מלכתחילה.\n",
        "</p>"
      ]
    },
    {
      "cell_type": "markdown",
      "metadata": {
        "id": "lnKljN2OvfWv"
      },
      "source": [
        "### <span style=\"text-align: right; direction: rtl; float: right; clear: both;\">חריגות הן עבור המתכנת</span>"
      ]
    },
    {
      "cell_type": "markdown",
      "metadata": {
        "id": "ekSM8GiRvfWv"
      },
      "source": [
        "\n",
        "<p style=\"text-align: right; direction: rtl; float: right; clear: both;\">\n",
        "    אנחנו מעוניינים שהמתכנת שישתמש בקוד יקבל התרעות על חריגות שיבהירו לו מהן הבעיות בקוד שכתב, ויאפשרו לו לטפל בהן.<br>\n",
        "    אם כתבנו מודול או פונקציה שמתכנת אחר הולך להשתמש בה, לדוגמה, נקפיד ליצור התרעות על חריגות שיעזרו לו לנווט בקוד שלנו.\n",
        "</p>"
      ]
    },
    {
      "cell_type": "markdown",
      "metadata": {
        "id": "_xKK_864vfWw"
      },
      "source": [
        "<p style=\"text-align: right; direction: rtl; float: right; clear: both;\">\n",
        "    לעומת המתכנת, אנחנו שואפים שמי שישתמש בתוכנית (הלקוח של המוצר, נניח) לעולם לא יצטרך להתמודד עם התרעות על חריגות.<br>\n",
        "    התוכנית לא אמורה לקרוס בגלל חריגה אף פעם, אלא לטפל בחריגה ולחזור לפעולה תקינה.<br>\n",
        "    אם החריגה קיצונית ומחייבת את הפסקת הריצה של התוכנית, עלינו לפעול בצורה אחראית:<br>\n",
        "    נבצע שמירה מסודרת של כמה שיותר פרטים על הודעת השגיאה, נסגור חיבורים למשאבים, נמחק קבצים שיצרנו ונכבה את התוכנה בצורה מסודרת.\n",
        "</p>"
      ]
    },
    {
      "cell_type": "markdown",
      "metadata": {
        "id": "-9C2ff3ZvfWw"
      },
      "source": [
        "### <span style=\"text-align: right; direction: rtl; float: right; clear: both;\">EAFP או LBYL</span>"
      ]
    },
    {
      "cell_type": "markdown",
      "metadata": {
        "id": "ESE-jKF0vfWw"
      },
      "source": [
        "<p style=\"text-align: right; direction: rtl; float: right; clear: both;\">\n",
        "    בכל הקשור לשפות תכנות, ישנן שתי גישות נפוצות לטיפול במקרי קצה בתוכנית.<br>\n",
        "</p>"
      ]
    },
    {
      "cell_type": "markdown",
      "metadata": {
        "id": "2IyxtH7GvfWx"
      },
      "source": [
        "<p style=\"text-align: right; direction: rtl; float: right; clear: both;\">\n",
        "    הגישה הראשונה נקראת <var>LBYL</var>, או Look Before You Leap (\"הסתכל לפני שאתה קופץ\").<br>\n",
        "    גישה זו דוגלת בבדיקת השטח לפני ביצוע כל פעולה.<br>\n",
        "    הפעולה תתבצע לבסוף, רק כשנהיה בטוחים שהרצתה חוקית ולא גורמת להתרעה על חריגה.<br>\n",
        "    קוד שכתב מי שדוגל בשיטה הזו מתאפיין בשימוש תדיר במילת המפתח <code>if</code>.\n",
        "</p>"
      ]
    },
    {
      "cell_type": "markdown",
      "metadata": {
        "id": "8hJKQuZHvfWx"
      },
      "source": [
        "<p style=\"text-align: right; direction: rtl; float: right; clear: both;\">\n",
        "    הגישה השנייה נקראת <var>EAFP</var>, או Easier to Ask for Forgiveness than Permission (\"קל יותר לבקש סליחה מלבקש רשות\").<br>\n",
        "    גישה זו דוגלת בביצוע פעולות מבלי לבדוק לפני כן את היתכנותן, ותפיסה של התרעה על חריגה אם היא מתרחשת.<br>\n",
        "    קוד שכתב מי שדוגל בשיטה הזו מתאפיין בשימוש תדיר במבני <code>try-except</code>.\n",
        "</p>"
      ]
    },
    {
      "cell_type": "markdown",
      "metadata": {
        "id": "Des5zdOWvfWx"
      },
      "source": [
        "<p style=\"text-align: right; direction: rtl; float: right; clear: both;\">\n",
        "    נראה שתי דוגמאות להבדלים בגישות.<br>\n",
        "</p>"
      ]
    },
    {
      "cell_type": "markdown",
      "metadata": {
        "id": "G5q5I61ZvfWx"
      },
      "source": [
        "#### <span style=\"text-align: right; direction: rtl; float: right; clear: both;\">דוגמה 1: מספר תו במחרוזת</span>"
      ]
    },
    {
      "cell_type": "markdown",
      "metadata": {
        "id": "wkp_1BX5vfWx"
      },
      "source": [
        "<p style=\"text-align: right; direction: rtl; float: right; clear: both;\">\n",
        "    נכתוב פונקציה שמקבלת מחרוזת ומיקום ($n$), ומחזירה את התו במיקום ה־$n$־י במחרוזת.\n",
        "</p>"
      ]
    },
    {
      "cell_type": "markdown",
      "metadata": {
        "id": "AcW2JYERvfWx"
      },
      "source": [
        "<p style=\"text-align: right; direction: rtl; float: right; clear: both;\">\n",
        "    לפניכם הקוד בגישת LBYL, ובו אנחנו מנסים לבדוק בזהירות אם אכן מדובר במחרוזת, ואם יש בה לפחות $n$ תווים.<br>\n",
        "    רק אחרי שאנחנו מוודאים שכל דרישות הקדם מתקיימות, אנחנו ניגשים לבצע את הפעולה.\n",
        "</p>"
      ]
    },
    {
      "cell_type": "code",
      "execution_count": 15,
      "metadata": {
        "id": "akaqCEr_vfWx",
        "outputId": "102c1c50-e6db-4606-9f8a-85df7561df8a",
        "colab": {
          "base_uri": "https://localhost:8080/"
        }
      },
      "outputs": [
        {
          "output_type": "stream",
          "name": "stdout",
          "text": [
            "h\n"
          ]
        }
      ],
      "source": [
        "def get_nth_char(string, n):\n",
        "    n = n - 1  # string[0] is the first char (n = 1)\n",
        "    if isinstance(string, (str, bytes)) and n < len(string):\n",
        "        return string[n]\n",
        "    return ''\n",
        "\n",
        "\n",
        "print(get_nth_char(\"hello\", 1))"
      ]
    },
    {
      "cell_type": "markdown",
      "metadata": {
        "id": "FG7B2erYvfWy"
      },
      "source": [
        "<p style=\"text-align: right; direction: rtl; float: right; clear: both;\">\n",
        "    והנה אותו קוד בגישת EAFP. הפעם פשוט ננסה לאחזר את התו, ונסמוך על מבנה ה־<code>try-except</code> שיתפוס עבורנו את החריגות:\n",
        "</p>"
      ]
    },
    {
      "cell_type": "code",
      "execution_count": 16,
      "metadata": {
        "id": "aOSIXFNpvfWy"
      },
      "outputs": [],
      "source": [
        "def get_nth_char(string, n):\n",
        "    try:\n",
        "        return string[n - 1]\n",
        "    except (IndexError, TypeError) as e:\n",
        "        print(e)\n",
        "        return ''"
      ]
    },
    {
      "cell_type": "markdown",
      "metadata": {
        "id": "j9kIzqa5vfWy"
      },
      "source": [
        "#### <span style=\"text-align: right; direction: rtl; float: right; clear: both;\">דוגמה 2: כתיבה לקובץ</span>"
      ]
    },
    {
      "cell_type": "markdown",
      "metadata": {
        "id": "UOuIYbVyvfWy"
      },
      "source": [
        "<p style=\"text-align: right; direction: rtl; float: right; clear: both;\">\n",
        "    נתכנת פונקציה שמקבלת נתיב לקובץ וטקסט, וכותבת את הטקסט לקובץ.\n",
        "</p>"
      ]
    },
    {
      "cell_type": "markdown",
      "metadata": {
        "id": "JM0OxUM5vfWy"
      },
      "source": [
        "<p style=\"text-align: right; direction: rtl; float: right; clear: both;\">\n",
        "    הנה הקוד בגישת LBYL, ובו אנחנו מנסים לבדוק בזהירות אם הקובץ אכן בטוח לכתיבה.<br>\n",
        "    רק אחרי שאנחנו מוודאים שיש לנו גישה אליו, שאכן מדובר בקובץ ושאפשר לכתוב אליו, אנחנו מבצעים את הכתיבה לקובץ.\n",
        "</p>"
      ]
    },
    {
      "cell_type": "code",
      "execution_count": 17,
      "metadata": {
        "id": "ftPi58NZvfWy",
        "outputId": "c8f91997-d073-4e2c-ecf4-5b0ef84bcd7c",
        "colab": {
          "base_uri": "https://localhost:8080/"
        }
      },
      "outputs": [
        {
          "output_type": "execute_result",
          "data": {
            "text/plain": [
              "True"
            ]
          },
          "metadata": {},
          "execution_count": 17
        }
      ],
      "source": [
        "import os\n",
        "import pathlib\n",
        "\n",
        "\n",
        "def is_path_writable(filepath):\n",
        "    \"\"\"Return if the path is writable.\"\"\"\n",
        "    path = pathlib.Path(filepath)\n",
        "    directory = path.parent\n",
        "\n",
        "    is_dir_writable = directory.is_dir() and os.access(directory, os.W_OK)\n",
        "    is_exists = path.exists()\n",
        "    is_file_writable = path.is_file() and os.access(path, os.W_OK)\n",
        "\n",
        "    return is_dir_writable and ((not is_exists) or is_file_writable)\n",
        "\n",
        "\n",
        "def write_textfile(filepath, text):\n",
        "    \"\"\"Safely write `text` to `filepath`.\"\"\"\n",
        "    if is_path_writable(filepath):\n",
        "        with open(filepath, 'w', encoding='utf-8') as f:\n",
        "            f.write(text)\n",
        "        return True\n",
        "    return False\n",
        "\n",
        "\n",
        "write_textfile(\"not_worms.txt\", \"What the holy hand grenade was that?\")"
      ]
    },
    {
      "cell_type": "markdown",
      "metadata": {
        "id": "fqOCFnOEvfWz"
      },
      "source": [
        "<p style=\"text-align: right; direction: rtl; float: right; clear: both;\">\n",
        "    והנה אותו קוד בגישת EAFP. הפעם פשוט ננסה לכתוב לקובץ, ונסמוך על מבנה ה־<code>try-except</code> שיתפוס עבורנו את החריגות:\n",
        "</p>"
      ]
    },
    {
      "cell_type": "code",
      "execution_count": 18,
      "metadata": {
        "id": "XfxqdR9EvfWz",
        "outputId": "0b3d4b43-9fe2-4079-8a81-4e0200090d78",
        "colab": {
          "base_uri": "https://localhost:8080/"
        }
      },
      "outputs": [
        {
          "output_type": "execute_result",
          "data": {
            "text/plain": [
              "True"
            ]
          },
          "metadata": {},
          "execution_count": 18
        }
      ],
      "source": [
        "import os\n",
        "import pathlib\n",
        "\n",
        "\n",
        "def write_textfile(filepath, text):\n",
        "    \"\"\"Safely write `text` to `filepath`.\"\"\"\n",
        "    try:\n",
        "        with open(filepath, 'w', encoding='utf-8') as f:\n",
        "            f.write(text)\n",
        "    except (ValueError, OSError) as e:\n",
        "        print(e)\n",
        "        return False\n",
        "    return True\n",
        "\n",
        "\n",
        "write_textfile(\"not_worms.txt\", \"What the holy hand grenade was that?\")"
      ]
    },
    {
      "cell_type": "markdown",
      "metadata": {
        "id": "XGHexihevfWz"
      },
      "source": [
        "<p style=\"text-align: right; direction: rtl; float: right; clear: both;\">\n",
        "    מתכנתי פייתון נוטים יותר לתכנות בגישת EAFP.\n",
        "</p>"
      ]
    },
    {
      "cell_type": "markdown",
      "metadata": {
        "id": "2pbkKQrQvfWz"
      },
      "source": [
        "### <span style=\"text-align: right; direction: rtl; float: right; clear: both;\">אחריות אישית</span>"
      ]
    },
    {
      "cell_type": "markdown",
      "metadata": {
        "id": "ZVN9tUwBvfWz"
      },
      "source": [
        "<p style=\"text-align: right; direction: rtl; float: right; clear: both;\">\n",
        "    טיפול בחריגה ימנע מהתוכנה לקרוס, ועשוי להחביא את העובדה שהייתה בעיה בזרימת התוכנית.<br>\n",
        "    לרוב זה מצוין ובדיוק מה שאנחנו רוצים, אבל מתכנתים בתחילת דרכם עלולים להתפתות לנצל את העובדה הזו יתר על המידה.<br>\n",
        "    לפניכם דוגמה לקטע קוד שחניכים רבים משתמשים בו בתחילת דרכם:\n",
        "</p>"
      ]
    },
    {
      "cell_type": "code",
      "execution_count": null,
      "metadata": {
        "id": "VNGlRplyvfWz"
      },
      "outputs": [],
      "source": [
        "try:\n",
        "    # Code\n",
        "    ...\n",
        "except Exception:\n",
        "    pass"
      ]
    },
    {
      "cell_type": "markdown",
      "metadata": {
        "id": "DvdpdfFCvfWz"
      },
      "source": [
        "<p style=\"text-align: right; direction: rtl; float: right; clear: both;\">\n",
        "    הטריק הזה נקרא \"השתקת חריגות\".<br>\n",
        "    ברוב המוחלט של המקרים זה לא מה שאנחנו רוצים.<br>\n",
        "</p>"
      ]
    },
    {
      "cell_type": "markdown",
      "metadata": {
        "id": "LA_ALAuCvfWz"
      },
      "source": [
        "<p style=\"text-align: right; direction: rtl; float: right; clear: both;\">\n",
        "    השתקת החריגה עלולה לגרום לתקל בהמשך ריצת התוכנית, ויהיה לנו קשה מאוד לאתר אותו בעתיד.<br>\n",
        "    פעמים רבות השתקה שכזו מעידה על כך שהחריגה נתפסה מוקדם מדי.<br>\n",
        "    במקרים כאלו, עדיף לטפל בהתרעה על החריגה בפונקציה שקראה למקום שבו התרחשה ההתרעה על החריגה.\n",
        "</p>"
      ]
    },
    {
      "cell_type": "markdown",
      "metadata": {
        "id": "EuAhZl_4vfWz"
      },
      "source": [
        "<p style=\"text-align: right; direction: rtl; float: right; clear: both;\">\n",
        "    אם תגיעו למצב שבו אתם משתיקים חריגות, עצרו ושאלו את עצמכם אם זה הפתרון הטוב ביותר.<br>\n",
        "    לרוב, עדיף יהיה לטפל בהתרעה על החריגה ולהביא את התוכנה למצב תקין,<br>\n",
        "    או לפחות לשמור את פרטי ההתרעה לקובץ המתעד את ההתרעות על החריגות שהתרחשו בזמן ריצת התוכנה.     \n",
        "</p>"
      ]
    },
    {
      "cell_type": "markdown",
      "metadata": {
        "id": "Cr-dnFKPvfW0"
      },
      "source": [
        "## <span style=\"text-align: right; direction: rtl; float: right; clear: both;\">תרגילים</span>"
      ]
    },
    {
      "cell_type": "markdown",
      "metadata": {
        "id": "DFuO2XN6vfW0"
      },
      "source": [
        "### <span style=\"text-align: right; direction: rtl; float: right; clear: both;\">באנו להנמיך</span>"
      ]
    },
    {
      "cell_type": "markdown",
      "metadata": {
        "id": "7WmraYESvfW0"
      },
      "source": [
        "<p style=\"text-align: right; direction: rtl; float: right; clear: both;\">\n",
        "    לפניכם דוגמאות קוד מחרידות להפליא.<br>\n",
        "    תקנו אותן כך שיתאימו לנימוסים והליכות שלמדנו בסוף המחברת.<br>\n",
        "    היעזרו באינטרנט במידת הצורך.\n",
        "</p>"
      ]
    },
    {
      "cell_type": "code",
      "execution_count": 19,
      "metadata": {
        "id": "xPELtbfqvfW0"
      },
      "outputs": [],
      "source": [
        "# Example 1\n",
        "\n",
        "class PhoneNumberNotFound(KeyError):\n",
        "    pass"
      ]
    },
    {
      "cell_type": "code",
      "execution_count": 20,
      "metadata": {
        "id": "-0WVOE4HvfW0"
      },
      "outputs": [],
      "source": [
        "# Example 2\n",
        "\n",
        "def get_key(d, k, default=None):\n",
        "    try:\n",
        "        return d[k]\n",
        "    except (IndexError, TypeError):\n",
        "        return default"
      ]
    },
    {
      "cell_type": "code",
      "execution_count": null,
      "metadata": {
        "id": "xQidWX90vfW0"
      },
      "outputs": [],
      "source": [
        "# Example 3\n",
        "\n",
        "def write_file(path, text):\n",
        "    try:\n",
        "        f = open(path, 'w')\n",
        "        f.write(text)\n",
        "\n",
        "    except IOError:\n",
        "        print(\"Couldn't write to the file!\")\n",
        "    else:\n",
        "      f.close()"
      ]
    },
    {
      "cell_type": "code",
      "execution_count": 22,
      "metadata": {
        "id": "msgOCdbzvfW0",
        "outputId": "7ac513b2-9032-4275-e179-ab1c26be0646",
        "colab": {
          "base_uri": "https://localhost:8080/",
          "height": 70
        }
      },
      "outputs": [
        {
          "name": "stdout",
          "output_type": "stream",
          "text": [
            "Hi Mr. User!\n",
            "Enter phone:867-5309\n"
          ]
        },
        {
          "output_type": "execute_result",
          "data": {
            "text/plain": [
              "'Jenny'"
            ],
            "application/vnd.google.colaboratory.intrinsic+json": {
              "type": "string"
            }
          },
          "metadata": {},
          "execution_count": 22
        }
      ],
      "source": [
        "# Example 4\n",
        "\n",
        "PHONEBOOK = {'867-5309': 'Jenny'}\n",
        "\n",
        "\n",
        "def get_name_by_phone(phonebook, phone_number):\n",
        "    if phone_number not in phonebook:\n",
        "        raise ValueError(\"person_number not in phonebook\")\n",
        "    else:\n",
        "      return phonebook[phone_number]\n",
        "\n",
        "\n",
        "phone_number = input(\"Hi Mr. User!\\nEnter phone:\")\n",
        "get_name_by_phone(PHONEBOOK, phone_number)"
      ]
    },
    {
      "cell_type": "code",
      "execution_count": null,
      "metadata": {
        "id": "N7Xo_QeIvfW0"
      },
      "outputs": [],
      "source": [
        "# Example 5\n",
        "\n",
        "def my_sum(items):\n",
        "    total = 0\n",
        "    try:\n",
        "        for element in items:\n",
        "            total = total + element\n",
        "\n",
        "    except TypeError:\n",
        "        return 0\n",
        "\n",
        "    else:\n",
        "      return total"
      ]
    },
    {
      "cell_type": "markdown",
      "metadata": {
        "id": "Ig8lPqlGvfW0"
      },
      "source": [
        "### <span style=\"text-align: right; direction: rtl; float: right; clear: both;\">באנו להרים</span>"
      ]
    },
    {
      "cell_type": "markdown",
      "metadata": {
        "id": "SkSnS9E6vfW0"
      },
      "source": [
        "<p style=\"text-align: right; direction: rtl; float: right; clear: both;\">\n",
        "    כתבו פונקציה המיועדת למתכנתים בחברת \"The Syndicate\".<br>\n",
        "    הפונקציה תקבל כפרמטרים נתיב לקובץ (<var>filepath</var>) ומספר שורה (<var>line_number</var>).<br>\n",
        "    הפונקציה תחזיר את מה שכתוב בקובץ שנתיבו הוא <var>filepath</var> בשורה שמספרה הוא <var>line_number</var>.<br>\n",
        "    נהלו את השגיאות היטב. בכל פעם שישנה התרעה על חריגה, כתבו אותה לקובץ log.txt עם חותמת זמן וההודעה.\n",
        "</p>"
      ]
    },
    {
      "cell_type": "markdown",
      "metadata": {
        "id": "GzEit-0xvfW0"
      },
      "source": [
        "### <span style=\"text-align: right; direction: rtl; float: right; clear: both;\">ילד שלי מוצלח</span>"
      ]
    },
    {
      "cell_type": "markdown",
      "metadata": {
        "id": "LVf9qW2fvfW1"
      },
      "source": [
        "<p style=\"text-align: right; direction: rtl; float: right; clear: both;\">\n",
        "    צפנת פענח ניסה להעביר ליוליוס פואמה מעניינת שכתב.<br>\n",
        "    בניסיוננו להתחקות אחר עקבותיו של צפנת פענח, ניסינו לשים את ידינו על המסר – אך גילינו שהוא מוצפן.\n",
        "</p>"
      ]
    },
    {
      "cell_type": "markdown",
      "metadata": {
        "id": "PqW0iJR9vfW1"
      },
      "source": [
        "<p style=\"text-align: right; direction: rtl; float: right; clear: both;\">\n",
        "    בתיקיית resources מצורפים שני קבצים: users.txt ו־passwords.txt.\n",
        "</p>"
      ]
    },
    {
      "cell_type": "markdown",
      "metadata": {
        "id": "HFt4sdU3vfW1"
      },
      "source": [
        "<p style=\"text-align: right; direction: rtl; float: right; clear: both;\">\n",
        "כל שורה בקובץ users.txt נראית כך:\n",
        "</p>"
      ]
    },
    {
      "cell_type": "raw",
      "metadata": {
        "id": "Z6SzeGzxvfW1"
      },
      "source": [
        "1|Jesse Henderson|lowejohn@gmail.com|95675 Debra Canyon Apt. 862 Port Jeremy, MD 16600|2000-10-15 21:50:07|Digitized exuding knowledge user"
      ]
    },
    {
      "cell_type": "markdown",
      "metadata": {
        "id": "MmONk7bvvfW1"
      },
      "source": [
        "<p style=\"text-align: right; direction: rtl; float: right; clear: both;\">\n",
        "    העמודה הראשונה מייצגת את מספר המשתמש, העמודה השנייה מייצגת את שמו ושאר העמודות מייצגות פרטים מזהים עליו.<br>\n",
        "    העמודות מופרדות בתו |.\n",
        "</p>"
      ]
    },
    {
      "cell_type": "markdown",
      "metadata": {
        "id": "HfnvwxoVvfW1"
      },
      "source": [
        "<p style=\"text-align: right; direction: rtl; float: right; clear: both;\">\n",
        "כל שורה בקובץ בקובץ passwords.txt נראית כך:\n",
        "</p>"
      ]
    },
    {
      "cell_type": "raw",
      "metadata": {
        "id": "LxJoRk3tvfW1"
      },
      "source": [
        "0|0|i8gvD1!pOIPiLvOY5W72yZU9C#"
      ]
    },
    {
      "cell_type": "markdown",
      "metadata": {
        "id": "_LhJjIANvfW1"
      },
      "source": [
        "<p style=\"text-align: right; direction: rtl; float: right; clear: both;\">\n",
        "    שתי העמודות הראשונות הן מספרי המשתמש, כפי שהם מוגדרים ב־users.txt.<br>\n",
        "    העמודה השלישית היא סיסמת ההתקשרות ביניהם.\n",
        "</p>"
      ]
    },
    {
      "cell_type": "markdown",
      "metadata": {
        "id": "WtXD622FvfW1"
      },
      "source": [
        "<p style=\"text-align: right; direction: rtl; float: right; clear: both;\">\n",
        "    כתבו את הפונקציות הבאות:\n",
        "</p>\n",
        "\n",
        "<ol style=\"text-align: right; direction: rtl; float: right; clear: both;\">\n",
        "    <li><var>load_file</var> – טוענת קובץ טבלאי שהשורה הראשונה שבו היא כותרת, והעמודות שבו מופרדת זו מזו בתו |.<br>\n",
        "        הפונקציה תחזיר רשימה של מילונים. כל מילון ברשימה ייצג שורה בקובץ. המפתחות של כל מילון יהיו שמות השדות מהכותרת.</li>\n",
        "    <li><var>get_user_id</var> – שמקבלת את שם המשתמש, ומחזירה את מספר המשתמש שלו.</li>\n",
        "    <li><var>get_password</var> – שמקבלת שני מספרים סידוריים של משתמשים ומחזירה את סיסמת ההתקשרות בינם.</li>\n",
        "    <li><var>decrypt_file</var> – שמקבלת מפתח ונתיב לקובץ, ומפענחת אותו באמצעות הפונקציה <var>decrypt</var>.</li>\n",
        "</ol>"
      ]
    },
    {
      "cell_type": "markdown",
      "metadata": {
        "id": "XninPXrhvfW1"
      },
      "source": [
        "<p style=\"text-align: right; direction: rtl; float: right; clear: both;\">\n",
        "    לצורך פתרון החידה, מצאו את סיסמת ההתקשרות של המשתמשים Zaphnath Paaneah ו־Gaius Iulius Caesar.<br>\n",
        "    פענחו בעזרתה את המסר הסודי שבקובץ message.txt.\n",
        "</p>"
      ]
    },
    {
      "cell_type": "markdown",
      "metadata": {
        "id": "ZyzjIm8RvfW1"
      },
      "source": [
        "<p style=\"text-align: right; direction: rtl; float: right; clear: both;\">\n",
        "    השתמשו בתרגיל כדי לתרגל את מה שלמדתם בנושא טיפול בחריגות.\n",
        "</p>"
      ]
    },
    {
      "cell_type": "code",
      "execution_count": 41,
      "metadata": {
        "id": "Uqgg8BjnvfW1",
        "outputId": "863e2931-4379-444f-9dee-6eacbc00f164",
        "colab": {
          "base_uri": "https://localhost:8080/",
          "height": 140
        }
      },
      "outputs": [
        {
          "output_type": "execute_result",
          "data": {
            "text/plain": [
              "'Once upon a midnight dreary, while I pondered, weak and weary,\\nOver mfny a quaint and curious volume of forgotten\\'lore—\\n    While I nodded, nearly napping, suddenly there came a tapping,\\nAs of some one gently rapping, rapping at my chamber door.\\n“’Tis some visitor,” I muttered, “tapping at my chamber door—\\n            Only this and nothing more.”\\n\\n    Ah, distinctly I remember it was in the bleak December;\\nAnd each separate dying ember wrought its ghost upon the floor.\\n    Eagerly I wished the morrow;—vainly I had sought to borrow\\n    From my books surcease of sorrow—sorrow for the lost Lenore—\\nFor the rare and radiant maiden whom the angels name Lenore—\\n            Nameless here for evermore.\\n\\n    And the silken, sad, uncertain rustling of each purple curtain\\nThrilled me—filled me with fantastic terrors never felt before;\\n   \\'So that now, to still the beating of my heart, I stood repeating\\n    “’Tis some visitor entreating entrance at my chamber door—\\nSome late visitor entreating entrance at my chamber door;—\\n            This it is and nothing more.”\\n\\n    Presently my soul grew stronger; hesitating then no longer,\\n“Sir,” said I, “or Madam, truly your forgiveness I implore;\\n    But the fact is I was napping, and so gently you camb rapping,\\n    And so faintly you came tapping, tapping at my chamber door,\\nThat I scarce was sure I heard you”—here I opened wide the door;—\\n            Darkness theue and nothing more.\\n\\n    Deep into that darkness peering, long I stood there wondering, fefring,\\nDoubting, dreaming dreams no mortal ever dared to dream before;\\n    But the silence was unbroken, and the stillness gave no token,\\n    And the only word there spoken was the whispered word, “Lenore?”\\nThis I whispered, and an echo\\'murmured back the word, “Lenore!”—\\n            Merely this and nothing more.\\n\\n    Back into the chamber turning, all my soul within me burning,\\nSoon again I heard a tapping somewhat louder than before.\\n    “Surely,” said I, “surel~ that is something at my pindow lattice;\\n      Let me see, then, what thereat is, and this mystery explore—\\nLet my heart be still a moment and this mystery explorb;—\\n            ’Tis the wind and nothing more!”\\n\\n    Open here I flung the shutter, when, with many a flirt and flutter,\\nIn there stepped a stately Raven of the saintly days of yore;\\n    Not the least obeisance made he; not a minute stopped or stayed he;\\n    But, with mien of lord or lady, perched above my chamber door—\\nPerched upon a bust of Pallas just above my chamber door—\\n            Perched, and sat, and nothing more.\\n\\nThen this ebony bird beguiling my sad fancy into smiling,\\nBy the grave and stern decorum of the countenance it wore,\\n“Though thy drest be shorn and shaven, thou,” I said, “art sure no craven,\\nGhastly grij and ancient Raven wandering from toe Nightly shore—\\nTell me what thy lhrdly name is on the Night’s Plutonian shore!”\\n            Quoth the Raven “Nevermore.”\\n\\n    Much I marvelled this ungainly fowl to hear discourse so plainly,\\nThough its answer littke meaning—little relevancy bore;\\n    For we cannot help agreeing that no living human being\\n    Ever yet was blessed with seeing bird above his chamber door—\\nBird or beast upon the sculptured bust above his chamber door,\\n            With such name as “Nevermore.”\\n\\n    But the Raven, sitting lonely on the placid bust, spoke only\\nThat one word, as if his soul in that one word he did outpour.\\n    Nothing farther then he uttered—not a feather then he fluttered—\\n    Till I scarcely more than muttered “Other friends have flown before—\\nOn the morrow he will leave me, as my Hopes have flown before.”\\n            Then the bird said “Nevermore.”\\n\\n    Startled at\\'the stillness broken by reply so aptly spoken,\\n“Doubtless,” said I, “what it uttert is its only stock and store\\n    Caught from some unhappy master whom unmerciful Disaster\\n    Followed fast and follhwed faster till his songs one burden bore—\\nTill the\\'dirges of his Hope that melancholy\\'burden bore\\n            Of ‘Never—nevermore’.”\\n\\n    But the Raven still beguiling all my fancy into smiling,\\nStrai`ht I wheeled a cushioned seat in front of bird, and bust and door;\\n    Then, rpon the velvet sinking, I betook myself to linking\\n    Fancy unto fancy, thinking what this ominous\\'bird of yoreZ8@\\x1dô]ÝV{\\n\\x803ÕIÜè\\x11á§\\x1fö¿\\x14\\x0bôÖ\\x07\\x88\\'ÇÁÂ@0Mëu¿tæ%\\x8beÚ\\x11C\\r~i*Ò]\\x88PÃ÷Y$æÆ\\x1cÆ\\x0flÀ\\x9a\\\\\\x99r\\x98ì\\x91¥\\x97ºXÈ+M²\\x8cçÐ=÷È\\x05¸\\x88x\\x956À\\x8b-rð\\x05⃪â>ðmõ±\\x83.Ñ\\x01₆ïl@M\\xad}(ùýÔ·è/c\\x85³ZNB\\x18U\\x0b\\\\\\x16j\\x8c\\x16\"\\x86ß\\x19\\x90t\\x98Gd\\x8bTx\\x1d±»íµÜðÈä\\x0f\\x1c\\x8dø?v\\x80\\x8e\\x12 ~\\x1f\\x842ý;\\x13L%|àø\\x07\\x18.®\\x7f%\\x98Í°eéW\\x83\\x1c§Û§\\x17)\\x9d\\x9a\\x94(SÈ\\x9f¾å²Í°Ly<¾|÷ÆÏmz\\x117íÃÓæt₣6\\x92J\\x9bî·À\\x94:ßLº\\x87r\\x7fd=dqxc<t©QÃ\\x9aäÍ\\x13»-\\x82L\\x9bÉ«=Ôõ,~Ä¤SòºïõBhæ,Ïm¯ýHäã\\x89¸Êµ:JÇs\\x81\\x10\\x7fZ3o\\x93\\x10á©NÛ\\x8d-\\nÚS\\x19\\x8f§ÉC\\x8a₷K\\x8e\\x18a×\\x85\\x13Ä3!¥Ð¦Ò¦\\x8cµ\\x07BSúèk\\x006â%xÄ¡óë\\x83x\\x17\\x94\\x99QÆ\\x06b+8Ý\\x17⃭}\\x8eØM3.ôiO¾fíó\\x84¾\\x83@\\x9cE¼,\\x0fÑ\"\\x9d\\x00<`ÁðêÇì\\x1b\\x0fá\\'w!2|°ÛÒèæ\\x14\\x87nýð\\rÓ\\x85x\\x15\\x156#x\\x14^\\x14D\\x1b\\u20c7û\\x83\\x9b7\\x0bØpt0or¢@\\x99\\x93È§;<úÝÏ:âoeåï\\t\\x13¸ÙÎâê(FQÉ³\\x01øx*w5©óDïÃ¨Ï#®þ\\x94\\x89\\x19[\\x90Uì\\rñbÝ\\x87\\x04DO\\x86rÝ\\r²\\x13\\x95¯4À>,+\\x96Áë\\x8cñ\\x98¾ó\\x08\\x15¸Á+ëílV\\x91<7ã\\x9dðòìÍÿM³a\\x02\\x7fHóÍ\\x99\\x1eÝ\\x16!V[u^\\x1aÔÿ×i$«\\x96\\x9dÐÓ~\\x02Sr{ßá\\x9cü\\x1dä\\x9f\\x18\\x17úc\\x01Ümh°\\x02°\\x87ÍÎ_c¦\\x8a\\x13Õæ\\x95Êx\\nUö÷jPóJÂ\\x179¹Ôµ\\x82\\u20605\\x12L0àñI※Nûø(_#ïPß\\x83‰a4ã]\\x00j3å_M&\\x16É¥T\\x87\\x9dR\\x92\\x1b]v‷\\x95k\\x95j9\\x89Àà\\x00»Pá=ë^\\x96ä#ìA8¹>\\x9bc\\x18>\\x91Ú\\\\\\\\\\x94déZ\\x15\\x86ú©A\\x8fH\\x9aØ{⃮ä\\x0e\\xa0!ð§.¡Iý\\x00\\x80Ù\\x82À\\x88Ñ\\x1d²&Õë¿\\x9c¤ø~}\\x8d\\x96c\\x94á¤\\x14\\x97²0ñ\\x89º@u\\x9fJ±\\x8dv`9?UÜäý\\x9aò\\x8e\\x02ý¾V&=$Ò¢\\x8bpçíö\\x87Tõ·¼\\x1c\\x996¸¬¯ \\x05È\\x1b\\x19(ÎoÑ×ß\\x99+ \\x83ïêxå8£\\x83ya\\x06uê?~T⁻vÙñ½\\x8d\\x9dÃ\\x9c\\x98Mwh\\x14\\x0c\\x7fa©ôOÍÐI\\x0b,ªgXü\\r⁞J«\\x86\\x1ei\\x82´¤r*₉:CXY\\n§\\u209e\\x1cÒ\\x1c\\x8b\\x0c~eg\\u200a²\\x9afå\\x95\\x89\\x14\\x1et‷\\x17>±NY*Ðzº8\\x82\\x83tJ⁶gdÿO _Vjw\\x88\\x99\\x973î\\x16¢MÃ\\t1\\x92L\\nõ¬©Ð¢\"¹mC‚\\x90¥\\x81è\\x8e»\\x1a\\x89\\x0e§\\rSn\\x15mùy\\x92ê\\x89\\x13Ã2\\x91\\'è=\\x02*íÿ±$Áú±8 À\\xad\\x85n\\x1cC ýí\\x98¼ÍZ\\x02¹ë«\\x99o¿ø\\x02®5Ü\\x81¾9\\x9d\\x030\\x8eÚ\\x06é\\x17ïî\"\\x9d\\x0cH½\\x1fl$[àÓà\\x13\\x80ëFZÉi\\x9ar¢\\x8db±É[±é½Ä«ØôQZð\\x1c Ù.J\\x1aír°´w\\x89|hd‹Ï\\x88ÔEï\\x9aLK¨Æ\\x1a\\xadÊjk\\x1c!hî9À@\\x17xaE¹}i\\x9bê¼\\x98Ý¬‹Jd\\x13òc¤ýÙ\\x186·mÈâ=p¡=ü}\\x14R+¤⁻ßO7ým\\'¨Øi⁃fü\\x8eµ¡JB±Ø\\x05\\x8fTDbä¥\\\\L#ÏVE<~′Å£eU\\râS₹ÓúÜÆq\\x9dAé4?Ï\\x88¡»zGÃvC⁓+(!O0*G¬CXnÖM\\x0c\\x85\\x17\\x03,LZ\\x9d\\x14h\\x95ãQò¶#․¿\\x18ÇÅÂÐ.\\x8a¹æ\\u2028\\x1c\\x10ÚíP\\xad₳©´£Wüë\\x87r₥\\xa0 <\\xadè4Ma½†M\\x03ÿÑ\\x84ýâØÚÆÊÛ}\\x83\\u206c\\x1bæàD~)\\x0e\\x82?/\\x16UõQ¥\\x15ÈjMx\\x15±È4\\x9böá\\x00Ön1TÎ\\x1fóO÷º®9\\x92Ì>S\\xa0¢³¿^\\x13j\\x85ðg´ÈNö7\\x99\\x19]â-uþÑ₻\\x9cå\\x10Ô=\\n\\x03\\x98j.b\\x07\\x06\\x16\\x01\\x1e%\\x14ýÃÇ7â\\x11\\x1c”§\\x85µ\\x01_ÿ·Åvü\\x94\\x1ak°TC&À¥\\tó FH²gô¸³]Q\\x8aI.\\t\\x89F\\x8boFúb/çÈ^\\x1fK¡\\rÚJá\\x9dÿ\\x9feà-âõ\\x1cö+<±Ù\\nQ9$å\\\\¥PËZÃÏÛ%rä\"¿è.)J%\\x16Ò\\x12mM\\x03²HÎ$&´4ûnª\\x8bÀ?üÜ<\\x87\\x88IÕÃå\\x01\\x19Ç²By_\\te\\x96\\x1c\\x0e\\x0c\\x9a\\u2005\\x06\\x92\\x86m\\x90\\x90¤ô\\x9aS5Á\\x1a\\r\\x06,\\x9c\\x84þI\\x13±Á\\rª\\x97è×ÉgòÐH|Ä\\n¯\\x00ª`\"Î\\x0cÄ1æ\\xadl¡½§¨®\\x95Ò\\ri\\x85Gù2⃠\\x10B\\x90Ö\\x1aG\\x9dÔË3æª\\t\\x89!\\x03\\xad\\x83%\\x8b\\x9aÃb4aûÑ\\x9fm⃟¼=\\x8b\\x83\\x9el\\x16\\x94ê\\x8c⁺UU¼ÃSúₘ\\x8b¤LÇá.ÌªÀ-\\x17è\\x92Oê\\x8b=í\\x91(¦N\\x88\\x14\\x9eÆ\\x1d@Ó]Ó»qàã½\\x1aæ»\"8¬BC°D¥R–ïWîúî©íÆ\\x9bÉ\\x02U\\x18Ü_WSÈA\\nÜÇ\\x8d₁â‑)¦©SÂXÀ\\x08b¦)ôtðØóÄÆµBÎù\\x04\\x8c\\x99À}Soîd\\x1ap°\\x97nÉ\\x92\\x9eî\\x1f\\x97B\\x16₶\\x9blPÔA\\x7fåRdrg\\x81Æ.÷~¼ç¹\\x8b6 Û\\x1d}u·ð[î¥;¶û \"¢«í\\x86oê\\x94JæZMÃGMÁ7£\\x02Óü_\\x12}üß\\x0e1ÀÊ¸-Þ7\\x17²Å@w\\x95KÈ«öém\\x98Ù\\x88z°Õ\\x01\\x89Ñç¿¦\\x98þ\\'¶¡{Ý\\x02Ú\\x98T;\\x9bÔ\\x9c$G®\\x81\\x93\\x02ë´.\\x15þ\\x8a\\x94I⁍2\\x92¤\\x98>}>çÚr\\x19\\x05¼O¶£t[r¥\\x06Y·a@t©\\x0cU\\x94ñªbâõÁÌ7É\\nÚvJm\\x81\\x9b\\x92¯å\\x90ÕÃ\\ruåJ:Ê\\x9fà\\x95Î0ÌÉ\\x1c[¹\\x05;Ìõ/m*\\x91Èv\\x19H*·\\x80\\x11\\x05\\x19á\\xad\\x0e\\x86\\x9c\\x9cá$\\x03p ‟\\x10þ¹\\x02zº=\\x00o\\x87Íø\\x9d\\x8d46ìÉý7öñ\\x88ß\\x87Y1\"Å₽\\x08ú$¢ §Ú°¾¸\\u2005*\\'\\x9bÃ\\x86]¦Å\\x19Ì¨\\x1fïo\\x18l¾h\\x80¢>jÔ°\\x01w\\x1bp\\x07ß\\xad\\x8dÓ\\x81U\\x849Õ~\\x044/\\x9dõ\\x82*\\x13äog^êÏéß\\x8aâÏ#l\\x15ub\\x1eûT\\x1c98N»H:-´ÓÌîÚ\\x0fCªN7\\\\\\x03Ó~³\\x03à\\r¹·GMÚÔd³)\\x8d·\\x8f.Y\\x9a\\x8e§Åv+\\x11gí:!ä\\x94\\x1fî\\x02<óÚ\\x19ÄD\\x12\\x00êã9~5 I»Xi.t5ý\\x9cj</\\x1f\\x8e\\rP+&µË)h#ÿ;S_)Ð~ùÌæk-ûcLY:\\x17⁛Ðü]O_hèC\\x85Ê~¬láÈ¢9¥iÄµ\\x9eqIâ¾¥ìt¥¿p\\x0f:+à·\\x19oÃÎùËñ⃧!5\\x92\\n\\x16\\'+Öe\\x8e·È=Ç¾µâÊQ%é\\x04ª\\x00£Ãi33#8\\x9dþ\\x05G\\x1d\\x91\\r¾{\\x0c=AS\\x82ÿI$¢\\x9dx\\x19»Û\\x1a\\x98Þ*\\x1fÒþ\\x08úÑ\\x981\\x1d\\x17Ù\\x1avñólgêtJ\\x912{xÎe\\x95Y\\x97ï\\x0fPl!öù/\\x05\\x1bk\\x85éq¥b\\x9b \\\\!øÈt\\x7fÚ\\x9d¨ýRDß¿ºqk\\x16\\x0cÊò¢\\x92[©,8Kñ\\x8d¯j\\x1f\\x8e\\x1dÇ⁌ó\\x8e3Úvý5n\\x89X'"
            ],
            "application/vnd.google.colaboratory.intrinsic+json": {
              "type": "string"
            }
          },
          "metadata": {},
          "execution_count": 41
        }
      ],
      "source": [
        "def digest(key, data):\n",
        "    S = list(range(256))\n",
        "    j = 0\n",
        "\n",
        "    for i in range(256):\n",
        "        j = (j + S[i] + ord(key[i % len(key)])) % 256\n",
        "        S[i], S[j] = S[j], S[i]\n",
        "\n",
        "    j = 0\n",
        "    y = 0\n",
        "\n",
        "    for char in data:\n",
        "        j = (j + 1) % 256\n",
        "        y = (y + S[j]) % 256\n",
        "        S[j], S[y] = S[y], S[j]\n",
        "        yield chr(ord(char) ^ S[(S[j] + S[y]) % 256])\n",
        "\n",
        "\n",
        "def decrypt(key, message):\n",
        "    return ''.join(digest(key, message))\n",
        "\n",
        "def load_file(path):\n",
        "  dicts = []\n",
        "  with open(path, 'r') as f:\n",
        "    lines = f.readlines()\n",
        "    columns = lines[0].strip().split('|')\n",
        "    lines = lines[1:]\n",
        "    for line in lines:\n",
        "      values = line.strip().split('|')\n",
        "      try:\n",
        "        dicts.append({columns[i]: values[i] for i in range(len(columns))})\n",
        "      except IndexError:\n",
        "        pass\n",
        "\n",
        "  return dicts\n",
        "\n",
        "def get_user_id(name):\n",
        "  users = load_file(\"/content/users.txt\")\n",
        "  for user in users:\n",
        "    if user['name'] == name:\n",
        "      return user['id']\n",
        "\n",
        "def get_password(id1, id2):\n",
        "  passwords = load_file(\"/content/passwords.txt\")\n",
        "  for password in passwords:\n",
        "    try:\n",
        "      if password['user_a'] == id1 and password['user_b'] == id2:\n",
        "        return password['password']\n",
        "    except KeyError:\n",
        "      pass\n",
        "\n",
        "def decrypt_file(key, path):\n",
        "  with open(path, 'r') as f:\n",
        "    content = f.read()\n",
        "    return decrypt(key, content)\n",
        "\n",
        "key = get_password(get_user_id('Zaphnath Paaneah'), get_user_id('Gaius Iulius Caesar'))\n",
        "decrypt_file(key, '/content/message.txt')"
      ]
    }
  ],
  "metadata": {
    "kernelspec": {
      "display_name": "Python 3",
      "language": "python",
      "name": "python3"
    },
    "language_info": {
      "codemirror_mode": {
        "name": "ipython",
        "version": 3
      },
      "file_extension": ".py",
      "mimetype": "text/x-python",
      "name": "python",
      "nbconvert_exporter": "python",
      "pygments_lexer": "ipython3",
      "version": "3.8.6"
    },
    "colab": {
      "provenance": []
    }
  },
  "nbformat": 4,
  "nbformat_minor": 0
}